{
 "cells": [
  {
   "cell_type": "code",
   "execution_count": 1,
   "metadata": {},
   "outputs": [
    {
     "name": "stderr",
     "output_type": "stream",
     "text": [
      "c:\\users\\luka\\anaconda3\\envs\\tensorflow13\\lib\\site-packages\\gensim\\utils.py:865: UserWarning: detected Windows; aliasing chunkize to chunkize_serial\n",
      "  warnings.warn(\"detected Windows; aliasing chunkize to chunkize_serial\")\n"
     ]
    }
   ],
   "source": [
    "import numpy as np\n",
    "import itertools\n",
    "import datetime\n",
    "\n",
    "import tensorflow as tf\n",
    "import sklearn as sk\n",
    "\n",
    "from gensim.models import Word2Vec\n",
    "\n",
    "import Functions as fn\n",
    "import Iterator as it\n",
    "from DS import DS\n",
    "from Set import pool\n",
    "from FFModel import FF_Model\n",
    "from RNNModel import RNN_Model"
   ]
  },
  {
   "cell_type": "markdown",
   "metadata": {},
   "source": [
    "# Data Loading"
   ]
  },
  {
   "cell_type": "code",
   "execution_count": 2,
   "metadata": {},
   "outputs": [
    {
     "name": "stdout",
     "output_type": "stream",
     "text": [
      "Raw Text Load Complete\n",
      "Raw Labels Load Complete\n"
     ]
    }
   ],
   "source": [
    "Dataset = pool()\n",
    "Dataset.load_texts('raw_texts')\n",
    "Dataset.load_labels('raw_labels')"
   ]
  },
  {
   "cell_type": "code",
   "execution_count": 3,
   "metadata": {},
   "outputs": [
    {
     "name": "stdout",
     "output_type": "stream",
     "text": [
      "Label Load Complete\n"
     ]
    }
   ],
   "source": [
    "target_dict = fn.load_labels('final_meta/labels')"
   ]
  },
  {
   "cell_type": "markdown",
   "metadata": {},
   "source": [
    "# Embedding Generation"
   ]
  },
  {
   "cell_type": "code",
   "execution_count": 4,
   "metadata": {},
   "outputs": [
    {
     "name": "stdout",
     "output_type": "stream",
     "text": [
      "4585 238 10 10\n"
     ]
    }
   ],
   "source": [
    "train_set = pool(data=(Dataset.get_DS(stage='test', labelled='yes')).data[:-10])\n",
    "validation_set = pool(data=(Dataset.get_DS(stage='test', labelled='yes')).data[-10:])\n",
    "test_set = Dataset.get_DS(stage='train', labelled='yes')\n",
    "set_1 = Dataset.get_DS(stage='train', labelled='no')\n",
    "set_2 = Dataset.get_DS(stage='test', labelled='no')\n",
    "set_1.append(set_2.data)\n",
    "set_1.append(train_set.data)\n",
    "emb_set = set_1\n",
    "print(emb_set.size, train_set.size, validation_set.size, test_set.size)"
   ]
  },
  {
   "cell_type": "code",
   "execution_count": 5,
   "metadata": {},
   "outputs": [
    {
     "name": "stdout",
     "output_type": "stream",
     "text": [
      "Sentence Load Complete\n"
     ]
    }
   ],
   "source": [
    "#emb_set.process_for_embedding()\n",
    "#sentences = emb_set.get_sentences()\n",
    "#fn.write_sentences(sentences, 'final_meta/sentences')\n",
    "sentences = fn.load_sentences('final_meta/sentences')\n",
    "\n",
    "#model = Word2Vec(sentences, min_count=1, size=100)\n",
    "#model.save('final_meta/W2V')\n",
    "model = Word2Vec.load('final_meta/W2V')\n",
    "\n",
    "vocab = model.wv.vocab.keys()"
   ]
  },
  {
   "cell_type": "markdown",
   "metadata": {},
   "source": [
    "# Layer and Index Loading"
   ]
  },
  {
   "cell_type": "code",
   "execution_count": 6,
   "metadata": {},
   "outputs": [
    {
     "name": "stdout",
     "output_type": "stream",
     "text": [
      "Word Indices Load Complete\n",
      "Embedding Layer Load Complete\n"
     ]
    }
   ],
   "source": [
    "#word_indices, emb_layer = fn.get_index_and_emb_layer(model)\n",
    "#fn.write_word_indices(word_indices, 'final_meta/word_indices')\n",
    "#fn.write_emb_layer(emb_layer, 'final_meta/emb_layer')\n",
    "\n",
    "word_indices = fn.load_word_indices('final_meta/word_indices')\n",
    "emb_layer = fn.load_emb_layer('final_meta/emb_layer')"
   ]
  },
  {
   "cell_type": "markdown",
   "metadata": {},
   "source": [
    "# RNN Testing"
   ]
  },
  {
   "cell_type": "code",
   "execution_count": 7,
   "metadata": {
    "collapsed": true
   },
   "outputs": [],
   "source": [
    "target = 'm'\n",
    "\n",
    "train_set.process_for_testing(target)\n",
    "validation_set.process_for_testing(target)\n",
    "test_set.process_for_testing(target)\n",
    "\n",
    "lw, rw = 4, 4\n",
    "sets = {}\n",
    "sets['train_set'], sets['train_labels'], _, sets['train_lengths'] = train_set.get_rnn_sets(word_indices, lw, rw)\n",
    "sets['validation_set'], sets['validation_labels'], _, sets['validation_lengths']= validation_set.get_rnn_sets(word_indices, lw, rw)\n",
    "sets['test_set'], sets['test_labels'], sets['test_words'], sets['test_lengths'] = test_set.get_rnn_sets(word_indices, lw, rw)"
   ]
  },
  {
   "cell_type": "code",
   "execution_count": 8,
   "metadata": {},
   "outputs": [
    {
     "name": "stdout",
     "output_type": "stream",
     "text": [
      "Ratio: med: 0.05% non-med: 0.95%\n",
      "Ratio: med: 0.13% non-med: 0.87%\n"
     ]
    }
   ],
   "source": [
    "print('Ratio: med: {:.2f}% non-med: {:.2f}%'.format(*(np.array(sets['train_labels']).sum(0)/ len(sets['train_labels']))))\n",
    "fn.saturate_training_set(sets, 0.1, seqlen=True)\n",
    "print('Ratio: med: {:.2f}% non-med: {:.2f}%'.format(*(np.array(sets['train_labels']).sum(0)/ len(sets['train_labels']))))"
   ]
  },
  {
   "cell_type": "code",
   "execution_count": 9,
   "metadata": {},
   "outputs": [
    {
     "name": "stderr",
     "output_type": "stream",
     "text": [
      "c:\\users\\luka\\anaconda3\\envs\\tensorflow13\\lib\\site-packages\\tensorflow\\python\\ops\\gradients_impl.py:95: UserWarning: Converting sparse IndexedSlices to a dense Tensor of unknown shape. This may consume a large amount of memory.\n",
      "  \"Converting sparse IndexedSlices to a dense Tensor of unknown shape. \"\n"
     ]
    },
    {
     "name": "stdout",
     "output_type": "stream",
     "text": [
      "Progress: 100%\r"
     ]
    },
    {
     "data": {
      "image/png": "[encoded data removed]",
      "text/plain": [
       "<matplotlib.figure.Figure at 0x1e5644bd828>"
      ]
     },
     "metadata": {},
     "output_type": "display_data"
    },
    {
     "name": "stdout",
     "output_type": "stream",
     "text": [
      "FInal Values: Tr-F1: 0.9929, Val-F1: 0.9403\n",
      "Test F1-Score: 0.9540\n",
      "\n"
     ]
    }
   ],
   "source": [
    "RNN = RNN_Model(vocab_size=len(word_indices), state_size=100, num_classes=2, learn_rate=0.001, emb_layer=emb_layer)\n",
    "RNN.build_graph()\n",
    "results_list = RNN.train(sets=sets, epochs=2, batch=50, report_percentage=1, show_progress=True, show_plot=True)"
   ]
  },
  {
   "cell_type": "code",
   "execution_count": 10,
   "metadata": {
    "collapsed": true
   },
   "outputs": [],
   "source": [
    "res = RNN.predict(sets['test_set'], sets['test_lengths'])\n",
    "tru = np.argmax(sets['test_labels'], 1)"
   ]
  },
  {
   "cell_type": "code",
   "execution_count": 11,
   "metadata": {},
   "outputs": [
    {
     "name": "stdout",
     "output_type": "stream",
     "text": [
      "TP\tTN\tFP\tFN\n",
      "498\t10615\t30\t18\n",
      "\n",
      "Precision: 0.9432\n",
      "Recall: 0.9651\n",
      "F1-Score: 0.9540\n"
     ]
    }
   ],
   "source": [
    "token_perf = fn.token_perf(res, tru)"
   ]
  },
  {
   "cell_type": "code",
   "execution_count": 12,
   "metadata": {},
   "outputs": [
    {
     "data": {
      "text/plain": [
       "0.3458814759597465"
      ]
     },
     "execution_count": 12,
     "metadata": {},
     "output_type": "execute_result"
    }
   ],
   "source": [
    "baseline = [0 if word in target_dict['medications'] else 1 for word in sets['test_words']]\n",
    "sk.metrics.f1_score(tru, baseline, pos_label=0, average='binary')"
   ]
  },
  {
   "cell_type": "code",
   "execution_count": 13,
   "metadata": {},
   "outputs": [
    {
     "name": "stdout",
     "output_type": "stream",
     "text": [
      "insulin, urokinase, precedex, nasal, cannula, glucophage, protamine, fresh, frozen, plasma, pain, coumadin, vanc, vanc, ada, chloride, <num>, patanol\n"
     ]
    }
   ],
   "source": [
    "fn.category_words(sets['test_words'], res, tru, 1, 0)"
   ]
  },
  {
   "cell_type": "code",
   "execution_count": 14,
   "metadata": {
    "scrolled": true
   },
   "outputs": [
    {
     "name": "stdout",
     "output_type": "stream",
     "text": [
      "record #<num> <num> | tmh | <num> | | <num> | <num>/<num>/<num> <num>:<num>:<num> am | discharge summary | signed | dis | admission date <num>/<num>/<num> report status signed discharge date <num>/<num>/<num> history ms pizzo is a <num>-year-old woman with peripheral vascular disease who recently underwent revision of her left superior femoral artery anterior tibial bypass graft , who now presents with a cool , ischemic left foot mrs denman is a <num>-year-old , insulin-dependent diabetic with a long history of peripheral vascular disease as well as multiple surgical procedures she underwent a right transmetatarsal amputation in <num> and subsequently underwent a right femorla distal saphenous vein bypass graft in <num> which was later revised in <num>. she seems to be doing well with the left side until july of this year , at which time she underwent a left superficial femoral artery to anterior tibial artery bypass using non-reversed basilic vein harvested from the right arm she , however , had a large great toe ulcer , possibly attributed to hammertoe , which subsequently underwent a left great toe amputation performed on the <num> of october . after this time , she was discharged to the nut hospital in amore pu , where she was making progress in physical therapy and rehabilitation on the day prior to admission , she was exercising with <num> pound weights on her legs with the physical therapist when she described a cool sensation in her foot she reported that her foot had been blue , and there were no dopplerable pulses color later returned the absence of pulses persisted over the course of the night , after which point she was referred back to largrine medical center for evaluation she denies any significant pain or any other complications past medical history remarkable for history of insulin-dependent diabetes , history of coronary artery disease , history of hypertension , cataracts , mrsa from her toe wound on the <num> of september past surgical history notable for the above , as well as debridements of her toe amputation wound site admission medications \u001b[42mCOLACE\u001b[49m <num> mg bid , \u001b[42mINSULIN\u001b[49m \u001b[42mLENTE\u001b[49m <num> units subcu q pm supplemented by sliding scale regular \u001b[41mINSULIN\u001b[49m scale , \u001b[42mISORDIL\u001b[49m <num> mg tid , \u001b[42mZESTRIL\u001b[49m <num> mg q d , \u001b[42mLOPRESSOR\u001b[49m <num> mg bid , \u001b[42mAXID\u001b[49m <num> mg bid , \u001b[42mOFLOXACIN\u001b[49m <num> mg po q <num> , \u001b[42mECOTRIN\u001b[49m <num> mg q d , \u001b[42mVANCOMYCIN\u001b[49m <num> mg q <num>. she reports an allergy to codeine and iodine admission examination remarkable for the following findings she was afebrile , heart rate <num> , blood pressure <num>/<num>. her right lower extremity was characterized by a well-healed transmetatarsal amputation site the foot was warm and pink the left side , however , was cool in comparison , although remained pink with adequate capillary refill both femoral pulses were easily palpable , as well as dorsal pedal pulse on the right her right posterior tibial pulse was additionally biphasic by doppler on the left , she had a biphasic doppler graft pulse and dorsopedal , although she had no identifiable posterior tibial pulse the remainder of the examination was unremarkable admission labs were likewise unremarkable hospital course mrs bulger was admitted and placed on intravenous \u001b[42mHEPARIN\u001b[49m until the following morning , at which time she proceeded to the angiography suite she was found to have two <num>% stenosis in a long segment of the left sfa and the left distal sfa and anterior tibial vein graft was completely thrombosed she was successfully treated with stent placement and received \u001b[42mHEPARIN\u001b[49m and \u001b[41mUROKINASE\u001b[49m in the intensive care unit overnight with a turn-over pulses of the left leg doppler the following day , her stents were removed during the remainder of the hospital course , her left foot remained pink and warm her wound had an infection of exposed bone , but otherwise appeared to be granulating well although left transmetatarsal amputation being considered , it was felt that she had a good chance of healing the wound appropriately she had a single temperature spike , although all cultures remained negative she had continuation of her \u001b[42mHEPARIN\u001b[49m while she was started on a course of \u001b[42mCOUMADIN\u001b[49m to reserve patency of her graft the remainder of the hospital course was unremarkable on the <num> of july , she was discharged back to the rose-walt hospital in coln discharge medications \u001b[42mVANCOMYCIN\u001b[49m <num> mg iv q d , \u001b[42mOFLOXACIN\u001b[49m <num> mg po bid ( both \u001b[42mANTIBIOTICS\u001b[49m to continue for an additional two week course ) , \u001b[42mCOUMADIN\u001b[49m with target inr of <num>.<num> , last target <num>.<num> , then received <num> mg in evening x <num> additionally , \u001b[42mPERCOCET\u001b[49m <num>-<num> tablets po q <num> prn , \u001b[42mCOLACE\u001b[49m <num> mg po bid , \u001b[42mINSULIN\u001b[49m \u001b[42mNPH\u001b[49m <num> units subcu bid , sliding scale \u001b[42mINSULIN\u001b[49m subcu q <num> , \u001b[42mISORDIL\u001b[49m <num> mg tid , \u001b[42mZESTRIL\u001b[49m <num> mg q d , \u001b[42mLOPRESSOR\u001b[49m <num> mg bid , \u001b[42mAXID\u001b[49m <num> mg po bid she will follow with dr noah in one to two weeks dictated by renaldo t dinsmore , md wr<num> attending kelley bruess , md ji<num> up<num>/<num> batch <num> index no k<num>emi<num>g<num>n d <num>/<num>/<num> t <num>/<num>/<num> [report_end] record #<num> <num> | gh | <num> | | <num> | <num>/<num>/<num> <num>:<num>:<num> am | aortic stenosis | signed | dis | admission date <num>/<num>/<num> report status signed discharge date <num>/<num>/<num> attending lesky , lonnie md service cardiac surgery service history of present illness mr serafine is a <num>-year-old gentleman who presented with increasing dyspnea on exertion and new york heart association class iii heart failure the patient also complained of fatigue over the last four years prior to admission he currently denied any angina , diaphoresis , nausea , orthopnea , pnd , presyncope or syncope the patient had been treated with serial transthoracic echocardiograms which revealed an ejection fraction worsening from <num>% down to <num>% along with aortic stenosis the patient underwent cardiac catheterization , which revealed no significant coronary artery disease and elevated left and right heart filling pressures cardiac catheterization was abandoned prematurely due to the increasing filling pressures echocardiogram was performed which revealed an ejection fraction of <num>% , aortic stenosis with a mean gradient of <num> mmhg , a peak gradient of <num> mmhg , calculated valve area of <num>.<num> cm<num> , mild mitral insufficiency , mild tricuspid insufficiency , mild left atrial enlargement , moderately hypertrophied left ventricle , global reduction in left ventricular function more in the apex of the left ventricle mildly enlarged right ventricle with preserved right ventricular function , heavily calcified trileaflet aortic valve with significant restriction and leaflet excursion , reduction left ventricular function compared to previous transthoracic echo one year prior to this present study past medical history significant for class iii heart failure with marked limitation of physical activity , diabetes mellitus insulin-dependent , dyslipidemia , cardiac arrest , status post cardiac catheterization on <num>/<num>/<num> . the patient's course was complicated by marked bradycardia requiring insertion of a temporary pacemaker via a right internal jugular and then complete heart block requiring a st jude dual chamber pacemaker and generator past surgical history significant for permanent pacemaker placement , status post cholecystectomy , history of skin cancer , and status post tonsillectomy allergies patient has no known drug allergies medications on admission \u001b[42mATENOLOL\u001b[49m <num>.<num> mg daily , \u001b[42mASPIRIN\u001b[49m <num> mg daily , \u001b[42mMETFORMIN\u001b[49m <num> mg bid , and \u001b[42mHUMALOG\u001b[49m \u001b[42mINSULIN\u001b[49m <num> units qid physical examination per physical exam , <num> feet <num> inches tall , <num> kilograms , temperature <num> , heart rate <num> and regular , blood pressure right arm <num>/<num> , left arm <num>/<num> , oxygen saturation <num>% on room air cardiovascular regular rate , and rhythm with <num>/<num> systolic ejection murmur peripheral vascular <num>+ pulses bilaterally throughout respiratory breath sounds clear bilaterally neurologic alert and oriented with no focal deficits , otherwise noncontributory admission labs sodium <num> , potassium <num>.<num> , chloride of <num> , co<num> <num> , bun of <num> , creatinine <num>.<num> , glucose <num> , and magnesium <num>.<num>. wbc <num>.<num> , hematocrit <num> , hemoglobin <num>.<num> , platelets of <num> , <num> , pt of <num>.<num> , pt/inr of <num> , and ptt <num>.<num> hospital course mr delcour was brought to the operating room on <num>/<num>/<num> where he underwent a minimally invasive aortic valve replacement with a <num>-mm carpentier-edwards pericardial valve total bypass time was <num> minutes , total crossclamp time was <num> minutes intraoperatively , the patient was found to have a calcified trileaflet aortic valve the patient came off bypass without incident , was brought to the intensive care unit on <num> mcg of \u001b[42mEPINEPHRINE\u001b[49m and \u001b[42mINSULIN\u001b[49m and \u001b[41mPRECEDEX\u001b[49m the patient did well and was brought up in stable condition in normal sinus rhythm postoperatively , the patient was extubated and the electrophysiology service was consulted to evaluate his internal pacemaker which was reprogrammed and functioning well the patient continued to require vigorous diuresis with a \u001b[42mLASIX\u001b[49m \u001b[43mDRIP\u001b[49m he was extubated on postoperative day #<num> without incident the patient was transferred to the step-down unit on postoperative day <num>. the patient experienced some postoperative tachycardia and his \u001b[42mBETA-BLOCKER\u001b[49m was increased with good result he was also found to have a positive urinary tract infection and was started on \u001b[42mCIPROFLOXACIN\u001b[49m for a total of five days the patient at one point required <num> liters of \u001b[41mNASAL\u001b[49m \u001b[41mCANNULA\u001b[49m to get his saturations in the <num>s he did continue to require intravenous \u001b[42mLASIX\u001b[49m but had weaned \u001b[42mLASIX\u001b[49m \u001b[43mDRIP\u001b[49m and had intermittent boluses of <num> mg iv to promote diuresis with good result he was weaned off his \u001b[43mOXYGEN\u001b[49m and the patient began to ambulate and was cleared for discharge to home with visiting nurse on postoperative day #<num> discharge labs are as follows sodium <num> , potassium <num>.<num> , chloride of <num> , co<num> of <num> , bun <num> , creatinine <num>.<num> , glucose <num> , magnesium <num>.<num> , wbc <num>.<num> , hematocrit <num>.<num> , hemoglobin <num>.<num> , platelets of <num> , <num> , pt <num>.<num> , pt/inr of <num>.<num> discharge medications are as follows \u001b[42mCIPROFLOXACIN\u001b[49m <num> mg q<num>h for remaining four doses , \u001b[42mBABY\u001b[49m \u001b[42mASPIRIN\u001b[49m <num> mg daily , \u001b[42mLASIX\u001b[49m <num> mg bid , for three days along with \u001b[42mPOTASSIUM\u001b[49m \u001b[42mCHLORIDE\u001b[49m \u001b[42mSLOW\u001b[49m \u001b[42mRELEASE\u001b[49m <num> meq bid for three days , \u001b[42mMOTRIN\u001b[49m <num> mg q<num>h prn pain , \u001b[42mNOVOLOG\u001b[49m <num> units subq qac , \u001b[42mLANTUS\u001b[49m <num> units subcutaneous q<num> pm , \u001b[42mTOPROL-XL\u001b[49m <num> mg daily , patient was also discharged on \u001b[42mNOVOLOG\u001b[49m sliding scale subcutaneous qac mr witucki will follow up with dr collin hyman in six weeks and his cardiologist dr louie w eilders in one week disposition he is discharged to home in stable condition with visiting nurse escription document <num>-<num> emssten tel dictated by kreiser , joaquin attending pfeiffenberge , odell dictation id <num> d <num>/<num>/<num> t <num>/<num>/<num> [report_end] record #<num> <num> | wcemc | <num> | | <num> | <num>/<num>/<num> <num>:<num>:<num> am | unstable angina | signed | dis | admission date <num>/<num>/<num> report status signed discharge date <num>/<num>/<num> chief complaint chest pain history of present illness ms dube is a <num>-year-old female status post stent to her left circumflex coronary artery three months prior to admission , with a history of non-insulin dependent diabetes mellitus , hyperlipidemia , hypertension , who presents with left jaw pain for the last several days she treated this at home with sublingual \u001b[42mNITROGLYCERIN\u001b[49m with partial relief of her pain she presented to the emergency room and had full resolution of her jaw pain with three sublingual \u001b[42mNITROGLYCERIN\u001b[49m of note , when the patient presented with a non-st elevation mi approximately three months prior , she also had left jaw pain since this pain was the patient's classic anginal pain , \u001b[42mHEPARIN\u001b[49m was started despite the fact that she had negative cardiac enzymes and no ekg changes past medical history non-insulin dependent diabetes mellitus , hypertension , hyperlipidemia , coronary artery disease status post left circumflex stent in may <num> anxiety , depression , left arm phlebitis associated with blood draws after her left circumflex stent was placed status post appendectomy , status post tubal ligation allergies no known drug allergies medications \u001b[41mGLUCOPHAGE\u001b[49m , \u001b[42mLIPITOR\u001b[49m , \u001b[42mATENOLOL\u001b[49m , \u001b[42mASPIRIN\u001b[49m , sublingual \u001b[42mNITROGLYCERIN\u001b[49m prn , \u001b[42mZESTRIL\u001b[49m , \u001b[42mCELEXA\u001b[49m , \u001b[42mKLONOPIN\u001b[49m , \u001b[42mNEURONTIN\u001b[49m social history the patient has a daughter who works for erdar y university hospitals she does not smoke nor does she drink alcohol her primary language is spanish family history positive for coronary artery disease the patient's father died of a myocardial infarction at age <num> and her mother died of a myocardial infarction at age <num> vital signs blood pressure <num>-<num>/<num>-<num> , pulse <num>-<num> , respiratory rate <num> , oxygen saturation <num>-<num>% on two liters nasal cannula physical examination general well appearing middle-aged female neck jvp flat cardiovascular regular rate and rhythm with normal s<num> and s<num>. chest clear to auscultation bilaterally abdomen soft , nontender , nondistended positive bowel sounds extremities no lower extremity edema , warm rectal the patient is guaiac negative hospital course by systems <num>. cardiovascular the patient was taken for cardiac catheterization after she was admitted her cardiac catheterization was on may , <num>. prior to her catheterization she was enrolled in the nacan cajord general hospital this was a blinded trial with \u001b[43mPERMSAN\u001b[49m \u001b[43mMADISTON\u001b[49m ni hospital \u001b[43mINHIBITOR\u001b[49m in accordance with the trial , the patient was started on \u001b[42mLOVENOX\u001b[49m <num> mg per kg subcutaneously bid later that afternoon on may , <num> , she went for cardiac catheterization the cath revealed a right dominant system with no significant left main lesions , no significant left anterior descending lesions , <num>% diffuse lesion in the left circumflex artery consistent with instant restenosis of her previously placed pixel stent the right coronary artery showed a <num>% lesion during this catheterization , brachytherapy to the vessel that showed instant restenosis was attempted , however , it was aborted due to technical malfunction of the brachytherapy delivery machine the lesion was , however , dilated by balloon angioplasty after dilatation there was timi-<num> flow with <num>% residual stenosis postcath the patient did well she was maintained on \u001b[42mASPIRIN\u001b[49m , \u001b[42mZOCOR\u001b[49m , \u001b[42mLOPRESSOR\u001b[49m , \u001b[42mCAPTOPRIL\u001b[49m , \u001b[42mCELEXA\u001b[49m , \u001b[42mKLONOPIN\u001b[49m which are her \u001b[43mHOME\u001b[49m medications the morning after catheterization , the patient had recurrent chest pain which radiated to her right jaw the pain was relieved with sublingual \u001b[42mNITROGLYCERIN\u001b[49m the following day , the patient did well however , she began to develop a right groin hematoma in the afternoon on august , <num>. the hematoma was thought to be rapidly enlarging hematocrit checked at that time revealed a significant drop in blood count to <num>. the patient was transfused two units of \u001b[42mPACKED\u001b[49m \u001b[42mRED\u001b[49m \u001b[42mBLOOD\u001b[49m \u001b[42mCELLS\u001b[49m her hematoma continue to expand overnight the patient was discontinued from \u001b[42mLOVENOX\u001b[49m at that time however , she was continued on \u001b[42mASPIRIN\u001b[49m and \u001b[42mPLAVIX\u001b[49m the patient's \u001b[42mLOVENOX\u001b[49m was reversed with \u001b[41mPROTAMINE\u001b[49m over the night , the patient's hematoma continued to expand she received , the following morning on january , <num> , one unit of \u001b[41mFRESH\u001b[49m \u001b[41mFROZEN\u001b[49m \u001b[41mPLASMA\u001b[49m as well as a third unit of \u001b[42mPACKED\u001b[49m \u001b[42mRED\u001b[49m \u001b[42mBLOOD\u001b[49m \u001b[42mCELLS\u001b[49m at that point , her hematoma was marked and it was noted to be stable from that point on , no longer expanding beyond the bounds of the marks her left arm was noted at that time to also be tense with hematoma secondary to blood draws vascular surgery was consulted in the morning on january , <num> , in order to assess the right groin hematoma as well as the hematoma in the left arm due to concern for developing compartment syndrome vascular surgery saw the patient and felt that as long as the patient's hematocrit stabilized , she would not need any surgical intervention they could not find any evidence for left upper extremity compartment syndrome at that time also on the morning of january , <num> , the patient's platelets agents including both \u001b[42mPLAVIX\u001b[49m and \u001b[42mASPIRIN\u001b[49m were discontinued further family history was obtained from the patient that day which revealed history suspicious for possible bleeding disorder including the information that the patient's daughter bleeds heavily with each menstrual period , and that both the patient and her daughter have very easy bruising with history of several hematomas secondary to light trauma the patient also reported that she had heavy bleeding with childbirth that required extra hospitalization although it did not require a transfusion hematology was consulted at that point the patient was thought by hematology to have these hematomas secondary to over anticoagulation with \u001b[42mLOVENOX\u001b[49m , \u001b[42mPLAVIX\u001b[49m , \u001b[42mASPIRIN\u001b[49m and possible stonde medical center trial drug with a kenda medical center the only familial coagulation problems that were screened for based on their recommendations were von willebrand screen as well as a factor xiii screen the factor xiii screen eventually turned out normal and the von willebrand screen was pending at the time of discharge by the morning of november , <num> , the patient had received a total of five units of \u001b[42mPACKED\u001b[49m \u001b[42mRED\u001b[49m \u001b[42mBLOOD\u001b[49m \u001b[42mCELLS\u001b[49m due to blood loss secondary to this hematoma her hematoma had stabilized at that time she was restarted on \u001b[42mASPIRIN\u001b[49m on november , <num>. from that point onward , the patient did quite well and was maintained on \u001b[42mASPIRIN\u001b[49m , \u001b[42mBETA-BLOCKER\u001b[49m , \u001b[42mZOCOR\u001b[49m and \u001b[42mACE\u001b[49m \u001b[42mINHIBITOR\u001b[49m the remainder of her hospitalization was uncomplicated and after the patient had a stable hematocrit for several days without any recurrent jaw pain , she was discharged home on march , <num> neurology on november , <num> , the patient developed a headache which she described as the same as she frequently experiences at home her headaches are usually not responsive to \u001b[43mTYLENOL\u001b[49m or other analgesics given the patient's complications with hematoma and bleeding , a head ct was obtained that afternoon to rule out intracerebral hemorrhage her head ct was negative for bleeding her headache was treated with \u001b[42mTYLENOL\u001b[49m to which it did not respond and later with \u001b[42mPERCOCET\u001b[49m to which she got some relief discharge medications \u001b[42mASPIRIN\u001b[49m <num> mg po q day , \u001b[42mKLONOPIN\u001b[49m <num>.<num> mg tid , \u001b[42mGLUCOPHAGE\u001b[49m <num> mg bid , \u001b[42mCELEXA\u001b[49m <num> mg po qd , \u001b[42mZESTRIL\u001b[49m <num>.<num> mg qd , \u001b[42mATENOLOL\u001b[49m <num> mg po qd , \u001b[42mLIPITOR\u001b[49m <num> mg po qhs follow up the patient was instructed to follow up with her primary care physician , dr bazer dictated by luke drentlaw , md hj<num> attending mark wilkes , md al<num> dz<num>/<num> batch <num> index no qddy<num>i<num> d <num>/<num>/<num> t <num>/<num>/<num> [report_end] record #<num> <num> | vuh | <num> | | <num> | <num>/<num>/<num> <num>:<num>:<num> am | cellulitis | signed | dis | admission date <num>/<num>/<num> report status signed discharge date <num>/<num>/<num> attending waterfall , sammy md medical service general medicine team he drive , ville sas oaksco history of present illness mr quigg is a <num>-year-old man with history of diabetes , end-stage renal disease on hemodialysis , left charcot foot complicated by recurrent cellulitis , who presented with left lower leg swelling , erythema , and pain the patient does not recall having fevers at home , however , notes that he \"get fevers all the time\" so he feels that he may not have noticed he did report that he had a temperature to about <num> and hemodialysis prior to admission for which he received one dose of \u001b[42mVANCOMYCIN\u001b[49m he denied having any symptoms of headache , chest pain , shortness of breath , abdominal pain , joint aches or rash he did endorse feeling fatigued with little energy the patient was referred to the emergency department given his temperature of <num> at hemodialysis the patient has a long history of pain in his left foot secondary to charcot joint and chronic recurrent cellulitis including a history of mrsa cellulitis he has had numerous admissions to smc in the past year for treatment of the foot for which he received several courses of \u001b[42mANTIBIOTICS\u001b[49m he was treated from <num>/<num> through <num>/<num> with \u001b[42mANTIBIOTICS\u001b[49m posthemodialysis at the end of <num>/<num> , after returning from weekend away he had severe exacerbation of the pain in his left foot with progressive development of swelling on the bottom of his foot at this time , he had extensive evaluation including an mri of the foot and it was felt that there was no evidence of osteomyelitis his \u001b[42mANTIBIOTICS\u001b[49m were discontinued at this time and he was discharged to a nursing home for rehabilitation he remained in the nursing home from <num>/<num> through <num>/<num> and was discharged home two weeks prior to admission past medical history <num>. diabetes since the age of <num> , unclear if it is type <num> or type <num>. the patient reports that he has a history of type <num> diabetes , but also reports that he had been without \u001b[43mINSULIN\u001b[49m for three years after diagnosis he does have consequent neuropathy , retinopathy , and nephropathy <num>. end-stage renal disease on hemodialysis since <num>/<num> <num>. diabetic neuropathy in his legs bilaterally and charcot feet bilaterally <num>. history of a left foot , fourth metatarsal osteomyelitis with surgical resection of the left fourth digit <num>. retinopathy with history of retinal hemorrhage and vitrectomy <num>. hypertension x<num> years with a history of malignant hypertension with documented ophthalmologic and renal involvement <num>. gastroesophageal reflux disease <num>. hyperlipidemia <num>. recurrent lower extremity cellulitis <num>. history of chronic right foot ulcer home medications \u001b[42mCOLACE\u001b[49m <num> mg bid , \u001b[42mFOLATE\u001b[49m <num> mg po daily , \u001b[42mGEMFIBROZIL\u001b[49m <num> mg bid , \u001b[42mLANTUS\u001b[49m <num> mg subcu qpm , \u001b[42mLIPITOR\u001b[49m <num> mg nightly , \u001b[42mNEPHROCAPS\u001b[49m , \u001b[42mNEURONTIN\u001b[49m <num> mg daily , \u001b[42mPHOSLO\u001b[49m <num> mg tid , \u001b[42mPROTONIX\u001b[49m <num> mg daily , \u001b[42mRENAGEL\u001b[49m <num> mg tid , \u001b[42mREQUIP\u001b[49m <num> mg po bid , \u001b[42mCOUMADIN\u001b[49m allergies the patient has no known drug allergies family history significant for diabetes social history the patient lives with his parents and his <num>-year-old daughter physical examination on admission the patient had a temperature <num>.<num> , heart rate of <num> , a blood pressure of <num>/<num> , he was satting <num>% on room air physical exam on admission notable for a <num>/<num> systolic ejection murmur heard best at the left lower sternal border his left lower extremity was notable for <num>+ pitting edema with erythema on the anterior shin and as well as the foot it was also associated with increased warmth pertinent studies radiology cxr ( <num>/<num>/<num> ): no acute cardiopulmonary disease mri le ( <num>/<num>/<num> ): <num> cm fluid pocket in the subcutaneous tissue of the plantar aspect of the left foot demonstrating communication with the medial tendon sheaths and the ankle joint with findings worrisome for abscess and osteomyelitis of at least the medial malleolus , calcaneus , cuboid and talus labs lfts wnl alb <num>.<num> esr <num> , crp <num> hep b surf ag negative , hcv ab negative ( <num>/<num>/<num> ) \u001b[43mMICRO\u001b[49m \u001b[43mBLOOD\u001b[49m cx <num>/<num>/<num> , <num> growth foot aspirate ( <num>/<num>/<num> ): gram stain-<num>+ polys , no org cx without growth ankle aspirate ( <num>/<num>/<num> ): gm stain-<num>+ polys , no org cx without growth pathology from l bka ( <num>/<num>/<num> )-clean margins consults orthopedics ( dr bourgault ) , id ( dr antinoro ) , psychiatry ( dr czach ) , acute pain service hospital course by system <num> ) id-given his presentation of l lower leg swelling and erythema , mr bock was started on \u001b[42mVANCOMYCIN\u001b[49m and \u001b[42mUNASYN\u001b[49m in the emergency department an x-ray of his l foot revealed significant fragmentation and erosion of the tarsal/metatarsal bases and focal soft tissue abnormality in the plantar region concerning for abscess formation and possible osteomyelitis in the setting of known charcot arthropathy as well as diffuse soft tissue swelling extending along the calf given these findings , he was ordered for an mri with his mri pending and his l leg looking somewhat improved , his \u001b[42mUNASYN\u001b[49m was discontinued on hd <num> and he was started on \u001b[42mAUGMENTIN\u001b[49m and his \u001b[42mVANCOMYCIN\u001b[49m was continued given his history of mrsa cellulitis in the past he spiked a fever on hd <num> and again on hd <num>. on hd <num> , he had an mri under conscious \u001b[43mSEDATION\u001b[49m ( was attempted prior to this , but pt unable to tolerate ). mri revealed <num> cm fluid pocket in the subcutaneous tissue of the plantar aspect of the left foot demonstrating communication with the medial tendon sheaths and the ankle joint with findings worrisome for abscess and osteomyelitis of at least the medial malleolus , calcaneus , cuboid and talus infectious disease was consulted and he was started on iv \u001b[42mLEVOFLOXACIN\u001b[49m and iv \u001b[42mFLAGYL\u001b[49m to cover gram negatives and anaerobes respectively and his \u001b[42mVANCOMYCIN\u001b[49m continued to be dosed for level less than <num> orthopedics was consulted who performed an arthrocentesis of his ankle as well as an arthrocentesis of the fluid collection at the bottom of his foot ankle aspirate gram stain was negative , but with <num>+ polys fluid differential revealed &gt<num> , <num> wbcs in consultation with infectious disease , orthopedics , and the patient , it was decided that the best course of action would be a l below knee amputation given the extent of the infection this was performed on hd <num> by dr miears he did have fever spikes again on hd <num>-<num> and had repeat blood cultures which were negative an echocardiogram was performed on hd <num>. while he did have a tiny focal thickening of the aortic cusp , this was reviewed with cardiology and infectious disease and was not though to represent a vegetation he was afebrile x &gt<num> hours prior to discharge his surgical pathology returned with clean margins on day of discharge , and as per id consult service , he does not need further antibiotics he should have dry sterile dressing changes to his residual limb daily he may need an extra dose of \u001b[41mPAIN\u001b[49m \u001b[42mMEDICATION\u001b[49m prior to this if there is any evidence of erythema or drainage , dr fuller 's office should be contacted at <num>-<num>-<num> <num> ) renal-mr merriweather was on the renal service and had hemodialysis <num> times a week ( m/w/f ) without complication of note , he is awaiting kidney transplant from his sister and is followed by dr felix zelle at nnh <num> ) heme-mr vaeth was on \u001b[42mCOUMADIN\u001b[49m as an outpatient we obtained his hospital records from nuom and a vascular study from <num>/<num> showed evidence of a dvt in the l internal jugular vein from <num>/<num> the details surrounding this dvt are not documented , however mr tirona reports that his vascular surgeon told him that he should remain on \u001b[42mCOUMADIN\u001b[49m his \u001b[42mCOUMADIN\u001b[49m was held prior to going to the or and he was placed on a \u001b[42mHEPARIN\u001b[49m drip his \u001b[42mCOUMADIN\u001b[49m was restarted after his bka and he was bridged with \u001b[42mHEPARIN\u001b[49m with a goal ptt of <num>-<num>. prior to discharge , he ptt was <num> and his \u001b[42mHEPARIN\u001b[49m drip was decreased from <num> to <num>units per hours he should have a repeat ptt checked on transfer to his acute rehabilitation center with goal ptt <num>-<num>. inr on day of discharge was <num>.<num> , <num>.<num> day prior to discharge his \u001b[42mHEPARIN\u001b[49m \u001b[43mDRIP\u001b[49m can be discontinued once his inr is therapeutic with goal of <num>-<num> his inr will need to be followed every <num>-<num> days until stable off of \u001b[42mLEVOFLOXACIN\u001b[49m <num> ) cv ischemia-mr grana was on \u001b[42mGEMFIBROZIL\u001b[49m <num>mg bid and \u001b[42mLIPITOR\u001b[49m <num>mg as an outpatient his lipid panel was checked tc <num> , tg <num> , ldl <num> , hdl <num>. given that his ldl was <num> and the risk of rhabdomylosis on high dose \u001b[42mGEMFIBROZIL\u001b[49m and \u001b[42mLIPITOR\u001b[49m , his \u001b[42mLIPITOR\u001b[49m was decreased to <num>mg he should have a repeat lipid panel in <num>-<num> weeks he was also started on low dose \u001b[42mB-BLOCKER\u001b[49m to reduce perioperative mi risk prior to his surgery he reported that he is not on \u001b[43mASPIRIN\u001b[49m given that he has had b/l vitrectomies and his doctor felt that the risk of bleeding was too high this can be readdressed as an outpatient pump-pt had elevated systolic blood pressures to the <num>s in the beginning of his stay he was started on \u001b[42mLISINOPRIL\u001b[49m which was uptitrated to <num>mg and also \u001b[42mLOPRESSOR\u001b[49m rhtyhm-he had no evidence of arrythmias <num> ) endocrine-mr rovella has dm which was diagnosed at age <num>. it is unclear if he has type i or ii as he reported that he was told he has type i , but had a three year stint after diagnosis where he was not on insulin his fs on admission were elevated , likely secondary to his infection and his \u001b[42mLANTUS\u001b[49m was uptitrated he was also started on prandial coverage prior to discharge , he was his home dose of \u001b[42mLANTUS\u001b[49m as well as \u001b[42mASPART\u001b[49m with meals he reported that he already has an outpatient endocrinologist with whom he will follow up an hga<num>c was <num>.<num> <num> ) pain-mr vanhee had significant post operative pain which seemed to be mostly phantom limb pain the acute pain service was consulted and he was initially placed on a \u001b[42mKETAMINE\u001b[49m \u001b[43mDRIP\u001b[49m and \u001b[42mFENTANYL\u001b[49m \u001b[42mPCA\u001b[49m his \u001b[42mFENTANYL\u001b[49m \u001b[42mPCA\u001b[49m and \u001b[42mKETAMINE\u001b[49m \u001b[43mDRIP\u001b[49m were discontinued and he was started on \u001b[42mOXYCONTIN\u001b[49m <num>mg tid with \u001b[42mOXYCODONE\u001b[49m for breakthrough pain he was also started on \u001b[42mLYRICA\u001b[49m for neuropathic pain he was comfortable prior to discharge on this current regimen as his pain improves , he pain regimen should be decreased <num> ) psychiatry-after learning that he would likely receive a transplant from his sister , mr potvin reports that he has had significant anxiety prior to going for dialysis psychiatry service was consulted who recommended low dose \u001b[42mATIVAN\u001b[49m prior to him going to dialysis discharge exam gen pleasant , well appearing gentleman , in nad vs tmax <num>.<num> tc <num>.<num> bp <num>-<num> /<num>-<num> p <num>-<num> r <num> <num>% on ra pulm cta bilaterally , no rales/wheezes cv rrr , ii/vi sem at lsb , normal s<num>/s<num> abd obese , soft , nt , nabs , no hsm ext l residual limb with dressing that is clean/dry/intact labs on day of discharge ( prior to dialysis ) na <num> , k <num>.<num> , cr <num>.<num> , wbc <num>.<num> , hct <num>.<num> , inr <num>.<num> , ptt <num> to do -dry sterile dressing changes to l residual limb daily if evidence of erythema , drainage , please contact dr mcclain ???s office at <num>-<num>-<num> -check ptt on admission to rehabilitation with goal ptt <num>-<num>; can d/c \u001b[42mHEPARIN\u001b[49m once inr therapeutic at <num>-<num> -daily inr until stable at goal <num>-<num> off of \u001b[42mLEVOFLOXACIN\u001b[49m will likely need to titrate \u001b[42mCOUMADIN\u001b[49m -monitor fs and adjust dm regimen as needed -monitor pain scale and decrease \u001b[42mPAIN\u001b[49m \u001b[42mMEDICATIONS\u001b[49m as pain improves -hemodialysis m/w/f follow up -dr carpino voice message was left on his medical assistant???s voice mail at <num>-<num>-<num> to contact pt???s parents to arrange follow up appt in <num>-<num> days for wound check -dr lynes <num>/<num>/<num> at <num>:<num>am escription document <num>-<num> cssten tel dictated by agtarap , guadalupe attending carmin , marlin dictation id <num> d <num>/<num>/<num> t <num>/<num>/<num> [report_end] record #<num> <num> | zmc | <num> | | <num> | <num>/<num>/<num> <num>:<num>:<num> am | congestive heart failure | signed | dis | admission date <num>/<num>/<num> report status signed discharge date <num>/<num>/<num> principal diagnosis <num>. congestive heart failure <num>. atrial flutter significant problems <num>. hypertension <num>. non-insulin dependent diabetes mellitus <num>. hypercholesterolemia <num>. hypothyroidism <num>. ischemic cardiomyopathy <num>. status post cardioversion to sinus rhythm history of present illness mr zack nieman is a <num>-year-old white man with ischemic cardiomyopathy , status post coronary artery bypass graft in <num> with left internal mammary artery to left anterior descending , saphenous vein graft to posterior descending artery , saphenous vein graft to obtuse marginal branch he had a repeat coronary artery bypass graft done in <num> with saphenous vein graft to first diagonal , saphenous vein graft to obtuse marginal , and saphenous vein graft to posterior descending artery the course was complicated by ventricular tachycardia requiring aicd placement and treatment with \u001b[42mAMIODARONE\u001b[49m the patient also developed hyperthyroidism secondary to \u001b[42mAMIODARONE\u001b[49m , treated with \u001b[42mPTU\u001b[49m , then developed hypothyroidism , treated with \u001b[42mLEVOTHYROXINE\u001b[49m over the past few months the patient has had multiple episodes of pulmonary congestion about one week ago prior to this admission the patient was admitted to rorea valley health for iv diuresis echocardiography demonstrated that a reduced lv ejection fraction in the mid <num>'s with moderate mitral regurgitation recent ekgs provided by the scot free of hospital and on admission here shows atrial flutter with variable ventricular rate on admission the patient denied peripheral edema , orthopnea , or recent gain in weight a recent tsh revealed <num>. no recent excess caffeine or alcohol consumption past medical history significant for ( <num> ) coronary artery disease , status post coronary artery bypass graft times two ( <num> ) hypertension ( <num> ) hypothyroidism ( <num> ) dyslipidemia ( <num> ) benign prostatic hypertrophy ( <num> ) degenerative joint disease ( <num> ) non-insulin dependent diabetes mellitus allergies the patient has a known allergy to morphine and to tetanus toxoid family history father died of myocardial infarction at age <num> mother died of myocardial infarction at age <num> social history no tobacco use no alcohol use very active athletically he works as a superintendant physical examination general appearance , very pleasant man in no apparent distress temperature <num>.<num> , pulse <num> , blood pressure <num>/<num> , respirations <num> , o<num> saturation <num>% on two liters heent pupils are equal , round , and reactive to light sclerae anicteric oral pharynx clear and moist jugular venous pressure about <num>-<num> cm no carotid bruits chest clear to auscultation and percussion no rales and no wheezes heart paradoxical s<num> , ii/vi systolic murmur abdomen soft , nontender , with no pulsatile masses lower extremities no edema , no cyanosis , or clubbing rectal examination normal , guaiac negative neurological examination grossly intact admission laboratory studies sodium <num> , potassium <num>.<num> , chloride <num> , bicarb <num> , bun <num> , creatinine <num>.<num> , glucose <num> , ast <num> , alk <num> , total bilirubin <num>.<num> , calcium <num>.<num> , total protein <num>.<num> , albumin <num>.<num> , magnesium <num>.<num> , ck <num> , mb <num>.<num> , pt <num>.<num> , inr <num>.<num> , ptt <num>.<num>. urinalysis <num>+ glucose , otherwise negative ekg revealed atrial flutter with variable block ( <num>:<num> versus <num>:<num> ) , rate around <num> , left bundle branche block echocardiogram revealed ejection fraction about <num>% with <num>+ mitral regurgitation hospital course the patient's hospital course was notable for the following upon transfer from nes hospital to a hospital the patient had no complaints of shortness of breath or chest pain however , the patient was having atrial flutter with various blocks the ventricular response at that time was between <num>-<num>. on the day of admission the patient also had echocardiogram repeated which revealed ejection fraction <num>% with <num>+ mitral regurgitation because of his rapid ventricular response , \u001b[42mDIGOXIN\u001b[49m was started with a loading dose of <num>.<num> mg , then <num>.<num> mg times two q six hours the patient was then on a maintenance dose of \u001b[42mDIGOXIN\u001b[49m at <num>.<num> mg po q day , and his \u001b[42mDIGOXIN\u001b[49m level has been maintained around <num>.<num>. for his rate control , the \u001b[42mAMIODARONE\u001b[49m was also increased to <num> mg q day , and the patient was started on anticoagulation with \u001b[42mHEPARIN\u001b[49m on november the patient underwent cardiac catheterization which revealed old grafts serving the left anterior descending , posterior descending artery , obtuse marginal , patent the saphenous vein graft to first diagonal has <num>% proximal stenosis left ventricular ejection fraction estimated at <num>-<num>%. post catheterization the patient had no complications the patient also had a tee done which showed no thrombosis therefore on july the patient underwent cardioversion through his aicd by the electrophysiological service with successful conversion to normal sinus rhythm the patient was loaded with \u001b[42mCOUMADIN\u001b[49m and meanwhile on \u001b[42mHEPARIN\u001b[49m until inr between <num>-<num> for further investigation of his cardiomyopathy , iron studies were sent to rule out hemochromatosis the results were negative cardiomyopathy consult was also obtained to follow-up the patient the patient will be discharged when his inr approaches the therapeutic level , which is between <num>-<num> discharge medications \u001b[42mAMIODARONE\u001b[49m <num> mg po qd , \u001b[42mCAPTOPRIL\u001b[49m <num> mg po tid , \u001b[42mCLONAZEPAM\u001b[49m <num> mg po q hs , \u001b[42mKLONOPIN\u001b[49m <num>.<num> mg po q am , \u001b[42mDIGOXIN\u001b[49m <num>.<num> mg po qd , \u001b[42mLASIX\u001b[49m <num> mg po bid , \u001b[42mGLIPIZIDE\u001b[49m <num> mg po qd , \u001b[42mLEVOTHYROXINE\u001b[49m \u001b[42mSODIUM\u001b[49m <num> mcg po qd , \u001b[42mMAGNESIUM\u001b[49m \u001b[42mOXIDE\u001b[49m <num> mg po qd , \u001b[42mLOPRESSOR\u001b[49m <num> mg po bid , \u001b[42mNITROGLYCERIN\u001b[49m \u001b[42m<NUM>/<NUM>\u001b[49m \u001b[42m(\u001b[49m \u001b[42m<NUM>.<NUM>\u001b[49m \u001b[42mMG\u001b[49m \u001b[42m)\u001b[49m one tab sublingual q five minutes times three , \u001b[42mCOUMADIN\u001b[49m <num> mg po q day until inr between <num>-<num> then the dose needs to be adjusted accordingly to maintain inr between <num>-<num> , \u001b[42mSIMVASTATIN\u001b[49m <num> mg po q hs , \u001b[42mISOSORBIDE\u001b[49m , \u001b[42mMONONITRATE-SR\u001b[49m <num> mg po qd , and \u001b[42mTROGLIPAZONE\u001b[49m <num> mg po q day condition upon discharge stable disposition/follow-up the patient will be discharged to home on <num> of august with a follow-up appointment with dr furbeck , rudy lonny napoleon d of the cardiomyopathy service dictated by bradley wrobliski , md attending tyson c accomando , md le<num> ka<num>/<num> batch <num> index no glfc<num>z d <num>/<num>/<num> t <num>/<num>/<num> [report_end] record #<num> <num> | s | <num> | | <num> | <num>/<num>/<num> <num>:<num>:<num> am | altered mental status | unsigned | dis | admission date <num>/<num>/<num> report status unsigned discharge date <num>/<num>/<num> attending tuxhorn , levi md addendum hospital course neuro starting on <num>/<num>/<num> the patient had an episode of agitation on hemodialysis where he received \u001b[42mATIVAN\u001b[49m and continued to be agitated and required multiple code greys to sedate him a team meeting was held on <num>/<num>/<num> and per psychiatry recommendations the patient was started on <num> mg bid of \u001b[42mDEPAKOTE\u001b[49m , \u001b[42mHALDOL\u001b[49m was reduced to just monday-wednesday-friday <num> mg before hemodialysis and <num> mg prn agitation the patient did very well on this regimen and his \u001b[42mDEPAKOTE\u001b[49m level was stable at <num>.<num> on discharge the plan is to continue \u001b[42mDEPAKOTE\u001b[49m bid <num> mg with \u001b[42mHALDOL\u001b[49m prn for behavior in terms of his mental status on discharge , the patient was a&ampo x<num> and appropriate in terms of cardiac , there were no additional events to report in terms of pulmonary , the patient was diagnosed with pneumonia on <num>/<num>/<num> and started on \u001b[42mCEFTRIAXONE\u001b[49m iv and \u001b[42mFLAGYL\u001b[49m this was changed to \u001b[42mCEFPODOXIME\u001b[49m and \u001b[42mFLAGYL\u001b[49m for discharge in terms of his pneumonia that was evident right lower lobe pneumonia on chest x-ray and the patient was also spiking fevers and had audible rales on exam in terms of gi , the patient continued tolerate regular diet and nutrition continued to follow ensuring adequate po intake and adjusting diet per endocrine needs in terms of endocrine , the addendum to <num>/<num>/<num> , the patient ultimately discontinued on a regimen of <num> units of \u001b[42mLANTUS\u001b[49m qam and qpm with <num> units \u001b[42mASPART\u001b[49m qac breakfast and lunch and <num> units of \u001b[42mASPART\u001b[49m qac dinner his sliding scale was very light and he is only to be covered with one to two units of \u001b[42mASPART\u001b[49m during the night as \u001b[42mINSULIN\u001b[49m stacks in this patient very easily it was recommended if the patient is noted to be in the low <num>s consistently through the course of the day that his next dose of \u001b[42mASPART\u001b[49m be either halved or held as the patient easily becomes hypoglycemic and is unable to recognize the symptoms of hypoglycemia himself at the time of discharge , the patient's fingersticks were well controlled in the <num>-<num> range in terms of id , the patient began to spike fevers on <num>/<num>/<num> with a t max of <num>.<num> and blood cultures failed to show anything as did sputum cultures on <num>/<num>/<num> , the patient spiked to <num>.<num> and had evidence of pneumonia on his chest x-ray he was started on \u001b[42mANTIBIOTICS\u001b[49m of \u001b[42mCEFTRIAXONE\u001b[49m and \u001b[43mFLAGYL\u001b[49m , which was switched to \u001b[42mCEFPODOXIME\u001b[49m and \u001b[42mFLAGYL\u001b[49m for discharge the \u001b[42mCEFPODOXIME\u001b[49m should be dosed after dialysis on monday-wednesday-friday in terms of disposition , the patient has been discharged to rehab where he will continue hemodialysis on monday-wednesday-friday and continues to have the same medication rx as he did well in house specific care should be given to his \u001b[42mINSULIN\u001b[49m \u001b[43mREGIMEN\u001b[49m as well as his behavior control and nutrition as noted in the discharge instructions again please cc dr donte tasker , dr byron hague , dr bolin on this discharge summary addendum to medications on discharge \u001b[42mPHOSLO\u001b[49m <num> mg po tid , \u001b[42mDEPAKOTE\u001b[49m <num> mg po bid , \u001b[42mFOLATE\u001b[49m <num> mg po daily , \u001b[42mHALDOL\u001b[49m <num> mg iv on \u001b[43mMONDAY-WEDNESDAY-FRIDAY\u001b[49m given prior to hemodialysis , \u001b[42mLABETALOL\u001b[49m <num> mg po bid , \u001b[42mLISINOPRIL\u001b[49m <num> mg po daily , \u001b[42mFLAGYL\u001b[49m <num> mg po tid for <num> days , \u001b[42mTHIAMINE\u001b[49m <num> mg po daily , \u001b[42mNORVASC\u001b[49m <num> mg po daily , \u001b[42mGABAPENTIN\u001b[49m <num> mg po qhs , \u001b[42mCEFPODOXIME\u001b[49m <num> mg po three times a week on monday-wednesday-friday for eight doses given after hemodialysis , \u001b[42mNEPHROCAPS\u001b[49m one tablet po daily , \u001b[42mSEVELAMER\u001b[49m <num> mg po tid , \u001b[42mADVAIR\u001b[49m \u001b[42mDISKUS\u001b[49m \u001b[42m<NUM>/<NUM>\u001b[49m one puff bid , \u001b[42mNEXIUM\u001b[49m <num> mg po daily , \u001b[42mLANTUS\u001b[49m <num> units subcutaneous bid once in the morning and once evening , \u001b[42mASPART\u001b[49m <num> units subcutaneous before dinner and <num> units subcutaneous before breakfast and <num> units subcutaneous before lunch , \u001b[42mASPART\u001b[49m sliding scale starting at blood sugar less than <num> give <num> units , blood sugar <num>-<num> give <num> units , blood sugar <num>-<num> give <num> unit , blood sugar <num>-<num> give <num> units , blood sugar <num>-<num> give <num> units , \u001b[42mALBUTEROL\u001b[49m \u001b[42mBUTT\u001b[49m \u001b[42mPASTE\u001b[49m topical daily , and then prn \u001b[42mTYLENOL\u001b[49m <num> mg prn pain , headache , or temperature , \u001b[42mALBUTEROL\u001b[49m \u001b[42mINHALER\u001b[49m prn wheezing , \u001b[42mHALDOL\u001b[49m <num> mg iv q <num>h prn agitation if more than three doses given in a day please check qtc on the ekg \u001b[42mLOPERAMIDE\u001b[49m <num> mg po q <num>h prn diarrhea escription document <num>-<num> emssten tel cc rickie botros md ston snahsi cord cc reuben willett md reidettefirm stook memorial medical center tamp cc freeman hoskie md landter rock haysna dictated by spirer , sanford attending gravett , jacques dictation id <num> d <num>/<num>/<num> t <num>/<num>/<num> [report_end] record #<num> <num> | nmh | <num> | | <num> | <num>/<num>/<num> <num>:<num>:<num> am | unstable angina , r/o myocardial infarction | signed | dis | admission date <num>/<num>/<num> report status signed discharge date <num>/<num>/<num> admission diagnosis chest pain of unclear etiology history of the present illness ms veltin is a <num> year old woman with a past medical history significant for coronary artery disease , diabetes , and hypertension who presented with worsening chest pain and shortness of breath she had a long history of coronary artery disease with an exercise stress test in <num> that was positive for ischemic st-t wave changes she had a catheterization at that time which revealed diffuse three vessel disease , none of which was significant in <num> , she developed a left bundle branch on her ekg but it was not clear when exactly this happened she stated that for the past year , she got these stabbing pains in the center of her chest that then progressed to a squeezing pain with palpitations sometimes , there was relation to exertion but no relation to meals or position and this chest pain had been increasing in frequency over the past two to three weeks so now it occurred approximately two to three times a week and was associated with shortness of breath two days prior to admission , she developed constant chest pain that went to her left arm and made four of her left fingers numb she was quite short of breath though she denied paroxysmal nocturnal dyspnea , orthopnea , lower extremity edema , increased nocturia , and diet or medication noncompliance past medical history significant also for diabetes for which she took \u001b[42mINSULIN\u001b[49m and checked her sugars at home which ran <num> range to <num> range , hypertension , and she had idiopathic drop attacks she got these episodes where her legs fell out from under her without warning but she did not lose consciousness she had had an mri/mra that showed some diffuse small vessel disease but the mra was normal current medications \u001b[42mATENOLOL\u001b[49m <num> bid , \u001b[42mHYDROCHLOROTHIAZIDE\u001b[49m <num> qd , \u001b[42mLISINOPRIL\u001b[49m <num> qd , \u001b[42mSIMVASTATIN\u001b[49m <num> qd , \u001b[42mMETFORMIN\u001b[49m <num> qd , and \u001b[42mNPH\u001b[49m <num> qam and <num> qpm allergies penicillin caused a rash and intravenous contrast dye caused hives social history she was a retired nurses' aide who retired in <num> , she was a widow , and she had two living children who were grown she lived alone and took care of her eight year old great-grandson but had a daughter and son-in-law who lived next door physical examination on admission , significant for an elderly obese african-american woman lying in bed in some mild respiratory distress her oropharynx was moist , her jugular venous pressure was <num> cm , her lungs had scattered crackles at the bases , her heart was regular with an s<num> , her belly was soft and nontender , her extremities had trace edema , and her rectal examination showed guaiac negative brown stool laboratory examination her ekg showed a left bundle branch block and chest x-ray showed mild pulmonary edema and kerley b lines her laboratories on admission were all within normal limits her initial ck was <num> with troponin of <num>.<num> assessment in summary , this is a <num> year old woman with multiple cardiac risk factors who presented with chest pain of unclear etiology she was admitted for evaluation hospital course <num>. cardiovascular - she was admitted for catheterization which showed three vessel disease , again nonsignificant and not changed from the catheterization in <num>. she ruled out for a myocardial infarction she had an echo which showed some element of diastolic dysfunction and pulmonary artery systolic pressure of <num> plus ra but no wall motion abnormalities it was felt that she had some element of diastolic dysfunction that caused her to go into a bit of pulmonary edema , maybe subendocardial ischemia therefore , while she was maintained on her \u001b[42mASPIRIN\u001b[49m and \u001b[42mSIMVASTATIN\u001b[49m , her blood pressure regimen was advanced her heart rate was in the fifties to sixties and \u001b[42mATENOLOL\u001b[49m <num> bid was added she was on a maximum of \u001b[42mLISINOPRIL\u001b[49m at <num> milligrams so \u001b[42mNIFEDIPINE\u001b[49m \u001b[42mEXTENDED\u001b[49m \u001b[42mRELEASE\u001b[49m was added and titrated up to <num> milligrams qd where she maintained systolic blood pressures in the <num> range nevertheless this could be further titrated as an outpatient <num>. for her congestive heart failure , she diuresed approximately four liters through admission with \u001b[42mLASIX\u001b[49m at <num> intravenously and would be discharged on a seven day course of \u001b[42mLASIX\u001b[49m at <num> po qd for further diuresis <num>. pulmonary - she did have hypoxia on admission to <num>% on room air while lying in bed this was felt to be out of proportion to her mild congestive heart failure and further causes were sought her d-dymer was greater than <num> and she then went for a v/q scan which was low probability her lower extremity noninvasives were negative she also had a chest ct which showed no interstitial lung disease she had pulmonary function tests which were consistent with restrictive picture and were not much changed from her pulmonary function tests in <num>. a pulmonary consultation was obtained who believed that the congestive heart failure along with obesity underlying restrictive lung disease could be the cause of her hypoxia and , in fact , after further diuresis , her shortness of breath much improved and she had o<num> saturations that were <num>% on room air <num>. endocrine - she was maintained on \u001b[42mMETFORMIN\u001b[49m during admission and also on half of her dose of her normal dose of \u001b[42mNPH\u001b[49m given her decreased po intake , however , given the fact that she stated that her sugars at home on her regimen of <num> qam and <num> qpm were <num> to <num> , she was discharged on this regimen with instructions to check her sugar and call her doctor if they were low disposition she is discharged in stable condition on march , <num>. she will follow up with dr nakajima , her primary care doctor , and in addition , with dr klang , her cardiologist discharge medications \u001b[42mATENOLOL\u001b[49m <num> bid , \u001b[42mHYDROCHLOROTHIAZIDE\u001b[49m <num> qd , \u001b[42mLISINOPRIL\u001b[49m <num> qd , \u001b[42mNIFEDIPINE\u001b[49m \u001b[42mEXTENDED\u001b[49m \u001b[42mRELEASE\u001b[49m <num> qd , \u001b[42mMETFORMIN\u001b[49m <num> qd , \u001b[42mNPH\u001b[49m <num> qam and <num> qpm , \u001b[42mSIMVASTATIN\u001b[49m <num> qd , \u001b[42mASPIRIN\u001b[49m <num> qd , and \u001b[42mLASIX\u001b[49m <num> milligrams po qd times seven days dictated by victor lietzow , md zt<num> attending cory r lorsung , md jb<num> xf<num>/<num> batch <num> index no xspa<num>l<num> d <num>/<num> t <num>/<num> [report_end] record #<num> <num> | smc | <num> | | <num> | <num>/<num>/<num> <num>:<num>:<num> am | diabetic foot | | dis | admission date <num>/<num>/<num> report status discharge date <num>/<num>/<num> ****** final discharge orders ****** santigo , bruno <num>-<num>-<num>-<num> boise service med discharge patient on <num>/<num>/<num> at <num>:<num> pm contingent upon not applicable will d/c order be used as the d/c summary yes attending fohl , bret r , md , phd code status full code disposition home discharge medications \u001b[42mGLYBURIDE\u001b[49m <num>.<num> mg po qd hold if npo \u001b[42mLISINOPRIL\u001b[49m <num> mg po qd hold if sbp&lt<num> override notice override added on <num>/<num>/<num> by coffer , clifford m , md , mph on order for \u001b[42mKCL\u001b[49m \u001b[42mIMMEDIATE\u001b[49m \u001b[42mRELEASE\u001b[49m po ( ref # <num> ) potentially serious interaction \u001b[42mLISINOPRIL\u001b[49m &amp \u001b[42mPOTASSIUM\u001b[49m \u001b[42mCHLORIDE\u001b[49m reason for override as needed \u001b[42mSARNA\u001b[49m topical tp qd instructions for bilateral lower extremity rash \u001b[41mCOUMADIN\u001b[49m \u001b[42m(\u001b[49m \u001b[42mWARFARIN\u001b[49m \u001b[42mSODIUM\u001b[49m \u001b[42m)\u001b[49m <num> mg po qpm starting routine , <num>:<num> ( standard admin time ) hold if inr&gt<num>.o food/drug interaction instruction no high vitamin-k containing foods override notice override added on <num>/<num>/<num> by bresser , carroll b , md , mph on order for \u001b[42mCIPROFLOXACIN\u001b[49m po ( ref # <num> ) potentially serious interaction \u001b[42mWARFARIN\u001b[49m &amp \u001b[42mCIPROFLOXACIN\u001b[49m \u001b[43mHCL\u001b[49m reason for override will follow inr previous override information override added on <num>/<num>/<num> by huyett , branden q , md , mph on order for \u001b[42mSIMVASTATIN\u001b[49m po ( ref # <num> ) potentially serious interaction \u001b[42mWARFARIN\u001b[49m &amp \u001b[42mSIMVASTATIN\u001b[49m reason for override pt takes at home \u001b[42mSIMVASTATIN\u001b[49m <num> mg po qhs food/drug interaction instruction avoid grapefruit unless md instructs otherwise alert overridden override added on <num>/<num>/<num> by urbancic , reggie k , md , mph potentially serious interaction \u001b[42mWARFARIN\u001b[49m &amp \u001b[42mSIMVASTATIN\u001b[49m reason for override pt takes at home \u001b[42mMICONAZOLE\u001b[49m \u001b[42mNITRATE\u001b[49m \u001b[42m<NUM>%\u001b[49m \u001b[42mPOWDER\u001b[49m topical tp bid \u001b[42mLINEZOLID\u001b[49m <num> mg po bid starting today ( <num>/<num> ) food/drug interaction instruction this order has received infectious disease approval from slocombe , brendan lamar , md number of doses required ( approximate ): <num> \u001b[42mNEXIUM\u001b[49m \u001b[42m(\u001b[49m \u001b[42mESOMEPRAZOLE\u001b[49m \u001b[42m)\u001b[49m <num> mg po qd \u001b[42mACETYLSALICYLIC\u001b[49m \u001b[42mACID\u001b[49m <num> mg po qd alert overridden override added on <num>/<num>/<num> by : potentially serious interaction \u001b[42mWARFARIN\u001b[49m &amp \u001b[42mASPIRIN\u001b[49m reason for override ok diet no restrictions activity resume regular exercise follow up appointment( s ): vasc ular surgery , pcp , arrange inr to be drawn on <num>/<num>/<num> with f/u inr's to be drawn every <num> days inr's will be followed by pcp no known allergies admit diagnosis diabetic foot principal discharge diagnosis ;responsible after study for causing admission ) diabetic foot other diagnosisconditions , infections , complications , affecting treatment/stay diabetes ( diabetes mellitus ) htn ( hypertension ) edema ( peripheral edema ) obesity ( obesity ) recurrent cellulitis ( cellulitis ) mitral prolapse ( mitral valve prolapse ) uti ( urinary tract infection ) atopic dermatitis ( dermatitis ) operations and procedures debridement of r foot other treatments/procedures ( not in or ) foot xray brief resume of hospital course id <num> yo female --- cc rle ulceration/redness/pain --- dx diabetic foot ulcer --- hpi <num> yo female with dmii , pvd , chronic af now with ddi pacer on \u001b[42mCOUMADIN\u001b[49m who has had history of recurrent le ulcerations and infections she had the left foot amputated <num>/<num> and has been considering amputation of the right pt was admitted on <num>/<num> for cellulitis and r foot ulcer she was treated with iv \u001b[42mUNASYN\u001b[49m for <num> days and switched to \u001b[42mLINEZOLID\u001b[49m as out pt med while in house pt was seen by ortho and id on <num>/<num> pt saw dermatologist and ulcer was found to extend to bone and left foot appeared cyanotic- worrisome for vascular compromise pt was sent to the hosp for further management --- status vs t<num>.<num> hr<num> bp<num>/<num> rr <num> sao<num>:<num>%ra gen nad neck no jvd chest cta bilaterally cv rrr s<num> , s<num> <num>/<num> sem at base , no gallop abd soft , nt , nd , bowel sounds present ext left foot amputated , r with charcot joint/hindfoot varus , erthema , draining ulcer fifth metatarcel , edema --- events seen by vascular surg in ed- left foot not cyanotic <num>/<num> admitted to medicine --- tests/procedures <num>/<num> - rle plain films - neg for osteomyelitis --- consults <num>/<num> id <num>/<num> ortho - followed by dr smithhisler --- problem list --- <num>. ) rle ulcer - diabetic foot ulcer with ? osteo pt started on \u001b[41mVANC\u001b[49m and \u001b[42mCIPRO\u001b[49m bone scan and plain films from prior hospitalzations were neg will await new plain film result ortho and id were consulted id recommended d/c \u001b[41mVANC\u001b[49m and \u001b[42mLEVO\u001b[49m and starting \u001b[42mLINEZOLID\u001b[49m ortho debrided wound and could not probe to bone --- <num>. ) lle cyanosis seen by vascular , no emergent intervention required pt to be seen by out pt vascular surgeon on <num>/<num>/<num> , will deffer for further testing --- <num>. ) elevated cr baseline will hydrate --- <num>. ) dmii - on \u001b[42mGLYBURIDE\u001b[49m , \u001b[41mADA\u001b[49m diet , \u001b[43mRISS\u001b[49m --- <num>. ) af/sss - has ddi ppm in and is on \u001b[42mCOUMADIN\u001b[49m --- <num>. ) ckd - likely secondary to dm - at baseline --- <num>. ) full code additional comments pls follow up with your vascular surgeon- dr vais on <num>/<num>/<num> pls follow up with your orthopedic surgeon pls follow up with your pcp pls continue daily wet to dry wound changes pls take \u001b[42mANTIBIOTICS\u001b[49m as prescribed discharge condition stable to do/plan abx- \u001b[42mLINEZOLID\u001b[49m for <num> wks inr check on <num>/<num>/<num> follow up appointments with ortho , vascular and pcp no dictated summary entered by carmony , porter l , md ( gd<num> ) <num>/<num>/<num> @ <num>:<num> pm ****** end of discharge orders ****** [report_end] record #<num> <num> | fc | <num> | | <num> | <num>/<num>/<num> <num>:<num>:<num> am | mechanical fall | | dis | admission date <num>/<num>/<num> report status discharge date <num>/<num>/<num> ****** final discharge orders ****** bogus , archie <num>-<num>-<num>-<num> pend in service med discharge patient on <num>/<num>/<num> at <num>:<num> pm contingent upon not applicable will d/c order be used as the d/c summary yes attending malsch , kenny rickie , md code status full code disposition home w/ services discharge medications \u001b[42mAMIODARONE\u001b[49m <num> mg po daily \u001b[42mNORVASC\u001b[49m \u001b[42m(\u001b[49m \u001b[42mAMLODIPINE\u001b[49m \u001b[42m)\u001b[49m <num> mg po daily hold if sbp&lt<num> food/drug interaction instruction avoid grapefruit unless md instructs otherwise \u001b[42mTEARS\u001b[49m \u001b[42mNATURALE\u001b[49m \u001b[42m(\u001b[49m \u001b[42mARTIFICIAL\u001b[49m \u001b[42mTEARS\u001b[49m \u001b[42m)\u001b[49m <num> drop ou tid \u001b[42mCOLACE\u001b[49m \u001b[42m(\u001b[49m \u001b[42mDOCUSATE\u001b[49m \u001b[42mSODIUM\u001b[49m \u001b[42m)\u001b[49m <num> mg po bid \u001b[42mNEXIUM\u001b[49m \u001b[42m(\u001b[49m \u001b[42mESOMEPRAZOLE\u001b[49m \u001b[42m)\u001b[49m <num> mg po daily \u001b[42mLASIX\u001b[49m \u001b[42m(\u001b[49m \u001b[42mFUROSEMIDE\u001b[49m \u001b[42m)\u001b[49m <num> mg po daily alert overridden override added on <num>/<num>/<num> by prioletti , scot gary , md on order for \u001b[42mLASIX\u001b[49m po ( ref # <num> ) pt has a possible allergy to sulfa reaction is unknown reason for override at home \u001b[42mNEURONTIN\u001b[49m \u001b[42m(\u001b[49m \u001b[42mGABAPENTIN\u001b[49m \u001b[42m)\u001b[49m <num> mg po tid \u001b[42mGLIPIZIDE\u001b[49m <num>.<num> mg po daily alert overridden override added on <num>/<num>/<num> by rashed , tad gregg , md on order for \u001b[42mGLIPIZIDE\u001b[49m po ( ref # <num> ) pt has a possible allergy to sulfa reaction is unknown reason for override at home previous alert overridden override added on <num>/<num>/<num> by belles , dominic ned , md on order for \u001b[42mMICRONASE\u001b[49m po ( ref # <num> ) pt has a possible allergy to sulfa reaction is unknown reason for override at home \u001b[42mPLAQUENIL\u001b[49m \u001b[42mSULFATE\u001b[49m \u001b[42m(\u001b[49m \u001b[42mHYDROXYCHLOROQUINE\u001b[49m \u001b[42m)\u001b[49m <num> mg po bid food/drug interaction instruction take with food \u001b[42mISORDIL\u001b[49m \u001b[42m(\u001b[49m \u001b[42mISOSORBIDE\u001b[49m \u001b[42mDINITRATE\u001b[49m \u001b[42m)\u001b[49m <num> mg po tid hold if sbp&lt<num> \u001b[42mLISINOPRIL\u001b[49m <num> mg po daily hold if sbp&lt<num> alert overridden override added on <num>/<num>/<num> by clifford , guy chet , md potentially serious interaction \u001b[42mPOTASSIUM\u001b[49m \u001b[42mCHLORIDE\u001b[49m &amp \u001b[42mLISINOPRIL\u001b[49m potentially serious interaction \u001b[42mPOTASSIUM\u001b[49m \u001b[42mCHLORIDE\u001b[49m &amp \u001b[42mLISINOPRIL\u001b[49m reason for override will follow \u001b[42mNITROGLYCERIN\u001b[49m \u001b[42m<NUM>/<NUM>\u001b[49m \u001b[42m(\u001b[49m \u001b[42m<NUM>.<NUM>\u001b[49m \u001b[42mMG\u001b[49m \u001b[42m)\u001b[49m <num> tab sl q<num>min x <num> doses prn chest pain hold if sbp less than <num> \u001b[42mMULTIVITAMIN\u001b[49m \u001b[42mTHERAPEUTIC\u001b[49m \u001b[42m(\u001b[49m \u001b[42mTHERAPEUTIC\u001b[49m \u001b[42mMULTIVI..\u001b[49m \u001b[42m)\u001b[49m <num> tab po daily \u001b[42mTRAZODONE\u001b[49m <num> mg po bedtime prn insomnia diet no restrictions activity walking as tolerated follow up appointment( s ): pcp , allergy quinine , aspirin , sulfa , penicillins admit diagnosis mechanical fall principal discharge diagnosis ;responsible after study for causing admission ) mechanical fall other diagnosisconditions , infections , complications , affecting treatment/stay htn chf s/p st jude mvr for ms ( s/p cardiac valve replacement ) hx afib/flutte r ( h/o atrial fibrillation ) s/p imi ( s/p myocardial infarction ) niddm ( diabetes mellitus ) gout ( gout ) hx dvt '<num> ( h/o deep venous thrombosis ) s/p appy ( s/p appendectomy ) s/p umbilical hernia repair ( s/p hernia repair ) s/p sigmoidectomy for diverticulitis s/p l hip # '<num> ( s/p hip fracture ) pe ( pulmonary embolism ) heart block ( third degree heart block ) s/p ddd pacer ( s/p pacemaker ) operations and procedures none other treatments/procedures ( not in or ) none brief resume of hospital course cc s/p fall ***** hpi <num> yo f with afib , htn , dm , cad , mvr recently discharged from rehab who sustained mechanical fall at home while reaching for grapes no prodrome , loc , head trauma , cp , palp , sob admitted for rehab placement ***** pmh htn , dm , cad , s/p mvr , h/o heartblock s/p pacemaker , afib on \u001b[42mCOUMADIN\u001b[49m , ra , h/o dvt/pe ***** pe avss irreg irreg cta b l hip ecchymoses neuro cn intact , strength <num>/<num> ***** labs/studies hip film neg fx cardiac enzymes neg x <num> inr <num>.<num> ***** hosptial course <num>f hx cad s/p avr , ppm with mechanical fall story sounds purely mechanical , no reason to suspect syncopal event or otherwise pt evaluated by pt , who thought that sending pt back to inpt rehab would not necessarily improve her outcome that much pt insisted on going home , so attempts made to maximize home services inr <num>.<num> when pt admitted , so \u001b[42mCOUMADIN\u001b[49m held <num>.<num> the day of d/c , will be checked by vna and results sent to pcp heme - hold \u001b[42mCOUMADIN\u001b[49m for goal inr <num>.<num>-<num> , restart when appropriate cv - kept on home \u001b[43mMEDS\u001b[49m services - pt will have home vna and home pt to try and ensure safety at home code - full additional comments <num>. please check pt's inr on \u001b[42mCOUMADIN\u001b[49m on mon <num>/<num> and forward results to bertram lenkiewicz so pt can restart \u001b[42mCOUMADIN\u001b[49m when appropriate discharge condition satisfactory to do/plan <num>. please f/u pt's inr and restart \u001b[42mCOUMADIN\u001b[49m when appropriate no dictated summary entered by huckfeldt , alonzo r , md ( pn<num> ) <num>/<num>/<num> @ <num>:<num> pm ****** end of discharge orders ****** [report_end] record #<num> <num> | mbch | <num> | | <num> | <num>/<num>/<num> <num>:<num>:<num> am | s/p icd placement | | dis | admission date <num>/<num>/<num> report status discharge date <num>/<num>/<num> ****** final discharge orders ****** fullwood , harrison <num>-<num>-<num>-<num> lavan service car discharge patient on <num>/<num>/<num> at <num>:<num> pm contingent upon not applicable will d/c order be used as the d/c summary yes attending alday , wilfred c , md , ms code status full code disposition home discharge medications \u001b[42mALBUTEROL\u001b[49m \u001b[42mINHALER\u001b[49m <num> puff inh qid prn shortness of breath , wheezing \u001b[42mLASIX\u001b[49m \u001b[42m(\u001b[49m \u001b[42mFUROSEMIDE\u001b[49m \u001b[42m)\u001b[49m <num> mg po qd starting today ( <num>/<num> ) instructions please titrate your dose <num>mg/<num>mg/<num>mg as you normally do depending on your degree of swelling \u001b[42mMOTRIN\u001b[49m \u001b[42m(\u001b[49m \u001b[42mIBUPROFEN\u001b[49m \u001b[42m)\u001b[49m <num> mg po q<num>h prn pain , headache food/drug interaction instruction take with food alert overridden override added on <num>/<num>/<num> by nolte , steve s stuart otha , md on order for \u001b[42mMOTRIN\u001b[49m po ( ref # <num> ) pt has a possible allergy to aspirin reaction is unknown reason for override pt tolerates \u001b[43mMOTRIN\u001b[49m \u001b[42mATROVENT\u001b[49m \u001b[42mHFA\u001b[49m \u001b[42mINHALER\u001b[49m \u001b[42m(\u001b[49m \u001b[42mIPRATROPIUM\u001b[49m \u001b[42mINHALER\u001b[49m \u001b[42m)\u001b[49m <num> puff inh qid \u001b[42mMAGNESIUM\u001b[49m \u001b[42mOXIDE\u001b[49m <num> mg po qd \u001b[42mVERAPAMIL\u001b[49m \u001b[42mSUSTAINED\u001b[49m \u001b[42mRELEASE\u001b[49m <num> mg po qd starting today ( <num>/<num> ) instructions please confirm home dose and resume home dose food/drug interaction instruction avoid grapefruit unless md instructs otherwise \u001b[42mKEFLEX\u001b[49m \u001b[42m(\u001b[49m \u001b[42mCEPHALEXIN\u001b[49m \u001b[42m)\u001b[49m <num> mg po qid x <num> doses instructions started on <num>/<num> , continue through <num>/<num> for <num> total doses number of doses required ( approximate ): <num> \u001b[42mZOCOR\u001b[49m \u001b[42m(\u001b[49m \u001b[42mSIMVASTATIN\u001b[49m \u001b[42m)\u001b[49m <num> mg po qhs food/drug interaction instruction avoid grapefruit unless md instructs otherwise \u001b[42mAMBIEN\u001b[49m \u001b[42m(\u001b[49m \u001b[42mZOLPIDEM\u001b[49m \u001b[42mTARTRATE\u001b[49m \u001b[42m)\u001b[49m <num> mg po qhs prn insomnia food/drug interaction instruction give on an empty stomach ( give <num>hr before or <num>hr after food ) \u001b[42mLORATADINE\u001b[49m <num> mg po qd food/drug interaction instruction avoid grapefruit unless md instructs otherwise give on an empty stomach ( give <num>hr before or <num>hr after food ) \u001b[42mPOTASSIUM\u001b[49m \u001b[42mCHLORIDE\u001b[49m \u001b[42mSLOW\u001b[49m \u001b[42mREL\u001b[49m \u001b[42m(\u001b[49m \u001b[42mKCL\u001b[49m \u001b[42mSLOW\u001b[49m \u001b[42mRELEASE\u001b[49m \u001b[42m)\u001b[49m <num> meq po qd as per ah \u001b[42mPOTASSIUM\u001b[49m \u001b[41mCHLORIDE\u001b[49m policy each <num> meq dose to be given with <num> oz of fluid \u001b[42mMETFORMIN\u001b[49m \u001b[41m<NUM>\u001b[49m , <num> mg po bid starting in am ( <num>/<num> ) \u001b[42mRHINOCORT\u001b[49m \u001b[42mAQUA\u001b[49m \u001b[42m(\u001b[49m \u001b[42mBUDESONIDE\u001b[49m \u001b[42mNASAL\u001b[49m \u001b[42mINHALER\u001b[49m \u001b[42m)\u001b[49m <num> spray inh bid \u001b[42mSINGULAIR\u001b[49m \u001b[42m(\u001b[49m \u001b[42mMONTELUKAST\u001b[49m \u001b[42m)\u001b[49m <num> mg po qd \u001b[42mEFFEXOR\u001b[49m \u001b[42mXR\u001b[49m \u001b[42m(\u001b[49m \u001b[42mVENLAFAXINE\u001b[49m \u001b[42mEXTENDED\u001b[49m \u001b[42mRELEASE\u001b[49m \u001b[42m)\u001b[49m <num> mg po qd number of doses required ( approximate ): <num> \u001b[42mADVAIR\u001b[49m \u001b[42mDISKUS\u001b[49m \u001b[42m<NUM>/<NUM>\u001b[49m \u001b[42m(\u001b[49m \u001b[42mFLUTICASONE\u001b[49m \u001b[42mPROPIONATE/...\u001b[49m \u001b[42m)\u001b[49m <num> puff inh bid \u001b[42mNEXIUM\u001b[49m \u001b[42m(\u001b[49m \u001b[42mESOMEPRAZOLE\u001b[49m \u001b[42m)\u001b[49m <num> mg po qd \u001b[42mOXYCODONE\u001b[49m <num> mg po q<num>h prn pain diet patient should measure weight daily diet fluid restriction diet house / low chol/low sat fat diet house / ada <num> cals/dy diet <num> gram sodium activity walking as tolerated follow up appointment( s ): dr eliseo muros <num>/<num>/<num> <num>:<num>pm scheduled , dr danial acklin <num>/<num>/<num> <num>:<num>pm scheduled , allergy broccoli , aspirin admit diagnosis icd placement for hcm principal discharge diagnosis ;responsible after study for causing admission ) s/p icd placement other diagnosisconditions , infections , complications , affecting treatment/stay see below operations and procedures <num>/<num>/<num>: metronic dual chamber ddi/icd paced under general anesthesia other treatments/procedures ( not in or ) none brief resume of hospital course reason for admit icd placement hpi <num>yof w/ hcm s/p medtronic dual chamber ddi/icd placement under general \u001b[43mANESTHESIA\u001b[49m ( <num>/<num> obesity ) admitted for ovenight observation icd placed for primary prevention had echo <num>/<num> showed septal thickness <num>mm , posterior wall thickness <num>mm w/ preserved ef <num>%m lv outflow tract peak gradient <num>mmhg holter monitoring <num>/<num> without any arrythmias but since <num> of may has had increasing difficulties w/ ambulatio n<num>/<num> palpations up to <num> minutes at a time one severe presyncopal episode in november of <num>. also hf symptoms controlled on \u001b[42mLASIX\u001b[49m , at baseline can work <num> blocks and up one flight of stairs ***************** pmh hcm , htn , hyperchol , asthma , pcod w/ infertility , diabetes , obesity ( <num> lbs ) , loer back pain , migraines , s/p knee replacement , tosillectomy , sinus surgery ****************** admission meds \u001b[42mALBUTEROL\u001b[49m , \u001b[42mADVAIR\u001b[49m \u001b[42m<NUM>/<NUM>\u001b[49m bid , \u001b[42mRHINOCORT\u001b[49m <num> sprays bid , \u001b[42mATROVENT\u001b[49m <num> puff qid , \u001b[42mSINGULAIR\u001b[49m <num>mg qhs , \u001b[42mNEXIUM\u001b[49m <num>mg daily , \u001b[42mLASIX\u001b[49m <num>mg daily ( inc to <num> or <num> during period ) , \u001b[42mKCL\u001b[49m \u001b[43m<NUM>MEQ\u001b[49m daily , \u001b[42mVERAPAMIL\u001b[49m <num>mg daily , \u001b[41mPATANOL\u001b[49m <num>-<num> ou bid prn , \u001b[42mLORATIDINE\u001b[49m <num>mg daily , \u001b[42mZOCOR\u001b[49m <num>mg qhs , \u001b[42mEFFEXOR\u001b[49m <num>mg daily , \u001b[42mMETFORMIN\u001b[49m <num>mg bid , \u001b[42mMGOXIDE\u001b[49m <num>mg daily , \u001b[42mAMBIEN\u001b[49m prn , \u001b[42mAMOX\u001b[49m prior to procedures ****************** all aspirin , broccoli , tape ****************** fh no h/o hocm no h/o sudden cardiac death mother/grandmother w/ diabetes sh technical writer lives in ni single parent of twins no tob/social etoh/ivdu ****************** admission pe vs <num>.<num> <num> <num>/<num> <num> <num>% ra gen nad heent anicteric , eomi , perrl , mmm , op clear neck carotid <num>+ w/o bruits , no lan , jvp difficult to appreciate <num>/<num> thick neck lungs ctab , no c/w/r cv rr , nl s<num> s<num> , <num>/<num> sm at rusb but heard throughout precordium , inc w/ valsalva abd obese , nl bs , soft , nt/nd , hard to palpate for masses and hsm ext trace edema , warm , dp/pt <num>+ b/l left radial pulse <num>+ skin no rashes neuro a&ampox<num> cn <num>-<num> intact , moves all extremities ************************* labs/studies --labs cbc , bmp , coags wnl --ekg nsr tw flat v<num>/v<num> ( old ) --cxr ( portable ): cardiomegaly , no e/o ptx pa/lat cxr am after no ptx , leads in place , no overt failure ************************* procedures <num>/<num> s/p medtronic icd/ddi ppm placement , cannulated via left cephalic ( one axillary attempt ) ************************* a/p cv --pump hocm euvolemic initially on exam o/n pt developed increased swelling of her hands and legs b/l , and also w/ slightly more sob and o<num> requirement unclear whether o<num> requirement was <num>/<num> fluid or <num>/<num> osa , am cxr clear w/out e/o overload pt diuresed w/ \u001b[42mLASIX\u001b[49m <num>mg on day of d/c about net -<num>cc still w/ some swelling on d/c but pt reported that her breathing/activity level was at baseline and she felt comfortable going home and adjusting her \u001b[42mLASIX\u001b[49m dose as she normally does based on her swelling continued on home cardiac \u001b[43mREGIMEN\u001b[49m \u001b[42mVERAPAMIL\u001b[49m and \u001b[42mZOCOR\u001b[49m --rhythm s/p medtronic dual chamber ddi/icd placement for primary prevention for hocm post procedure cxr w/out ptx , leads in place pt will f/u w/ dr kolat . on monitor pt sinus w/out events routine peri-procedure \u001b[42mANTIBIOTICS\u001b[49m pulm asthma , cont home regimen had slight desat o/n requiring <num>l o<num> which could be <num>/<num> overload ( see above ) , but also could be <num>/<num> obstructive sleep apnea , consider outpt eval for this gi cont \u001b[43mPPI\u001b[49m endo \u001b[43mISS\u001b[49m restarted \u001b[42mMETFORMIN\u001b[49m on morning of d/c neuro cont \u001b[42mEFFEXOR\u001b[49m fen cardiac diet ppx teds code has icd now full additional comments *please monitor your weight and swelling and adjust \u001b[42mLASIX\u001b[49m dose as your normally do please call dr borza if your swelling does not improve or you become short of breath or your weight increases &gt<num>pounds *take \u001b[42mKEFLEX\u001b[49m for <num> day total course all \u001b[43mOTHER\u001b[49m \u001b[43mMEDICATIONS\u001b[49m are the same discharge condition stable to do/plan *fluid management *consider outpt eval for possible obstructive sleep apnea no dictated summary entered by blanquart , efrain jonathon rickey , md ( dl<num> ) <num>/<num>/<num> @ <num>:<num> pm ****** end of discharge orders ****** [report_end]\n"
     ]
    }
   ],
   "source": [
    "fn.colour_text(sets['test_words'], res, tru)"
   ]
  },
  {
   "cell_type": "code",
   "execution_count": 15,
   "metadata": {},
   "outputs": [
    {
     "name": "stdout",
     "output_type": "stream",
     "text": [
      "Name:  0101\n",
      "Challenge:  2009 Medication Challenge\n",
      "Train or Test Set:  train\n",
      "Labelled:  yes\n",
      "Labeling Type:  train\n",
      "\n",
      "\n",
      "colace [34, 2] [34, 2] colace [34, 2] [34, 2]\n",
      "insulin lente [34, 7] [34, 8] insulin lente [34, 7] [34, 8]\n",
      "isordil [36, 5] [36, 5] isordil [36, 5] [36, 5]\n",
      "zestril [36, 10] [36, 10] zestril [36, 10] [36, 10]\n",
      "lopressor [37, 2] [37, 2] lopressor [37, 2] [37, 2]\n",
      "axid [37, 7] [37, 7] axid [37, 7] [37, 7]\n",
      "ofloxacin [37, 12] [37, 12] ofloxacin [37, 12] [37, 12]\n",
      "ecotrin [38, 4] [38, 4] ecotrin [38, 4] [38, 4]\n",
      "vancomycin [38, 10] [38, 10] vancomycin [38, 10] [38, 10]\n",
      "heparin [53, 0] [53, 0] heparin [53, 0] [53, 0]\n",
      "heparin [58, 1] [58, 1] heparin [58, 1] [58, 1]\n",
      "heparin [66, 8] [66, 8] heparin [66, 8] [66, 8]\n",
      "coumadin [67, 8] [67, 8] coumadin [67, 8] [67, 8]\n",
      "vancomycin [70, 2] [70, 2] vancomycin [70, 2] [70, 2]\n",
      "ofloxacin [70, 9] [70, 9] ofloxacin [70, 9] [70, 9]\n",
      "antibiotics [71, 5] [71, 5] antibiotics [71, 5] [71, 5]\n",
      "coumadin [72, 9] [72, 9] coumadin [72, 9] [72, 9]\n",
      "percocet [74, 2] [74, 2] percocet [74, 2] [74, 2]\n",
      "colace [74, 10] [74, 10] colace [74, 10] [74, 10]\n",
      "insulin nph [75, 2] [75, 3] insulin nph [75, 2] [75, 3]\n",
      "insulin [75, 11] [75, 11] insulin [75, 11] [75, 11]\n",
      "isordil [76, 4] [76, 4] isordil [76, 4] [76, 4]\n",
      "zestril [76, 9] [76, 9] zestril [76, 9] [76, 9]\n",
      "lopressor [76, 15] [76, 15] lopressor [76, 15] [76, 15]\n",
      "axid [77, 2] [77, 2] axid [77, 2] [77, 2]\n",
      "\u001b[41murokinase [58, 3] [58, 3]\n",
      "\u001b[49m\u001b[41minsulin [36, 2] [36, 2]\n",
      "\u001b[49m\n",
      "\n",
      "Name:  0102\n",
      "Challenge:  2009 Medication Challenge\n",
      "Train or Test Set:  train\n",
      "Labelled:  yes\n",
      "Labeling Type:  train\n",
      "\n",
      "\n",
      "atenolol [49, 0] [49, 0] atenolol [49, 0] [49, 0]\n",
      "aspirin [49, 5] [49, 5] aspirin [49, 5] [49, 5]\n",
      "metformin [49, 10] [49, 10] metformin [49, 10] [49, 10]\n",
      "humalog insulin [50, 3] [50, 4] humalog insulin [50, 3] [50, 4]\n",
      "epinephrine [72, 7] [72, 7] epinephrine [72, 7] [72, 7]\n",
      "insulin [72, 9] [72, 9] insulin [72, 9] [72, 9]\n",
      "\u001b[43mlasix drip [78, 3] [78, 4]\n",
      "\u001b[49mbeta-blocker [81, 3] [81, 3] beta-blocker [81, 3] [81, 3]\n",
      "ciprofloxacin [83, 3] [83, 3] ciprofloxacin [83, 3] [83, 3]\n",
      "lasix [86, 1] [86, 1] lasix [86, 1] [86, 1]\n",
      "\u001b[43mlasix drip [86, 5] [86, 6]\n",
      "\u001b[49m\u001b[43moxygen [88, 3] [88, 3]\n",
      "\u001b[49mciprofloxacin [97, 3] [97, 3] ciprofloxacin [97, 3] [97, 3]\n",
      "baby aspirin [98, 2] [98, 3] baby aspirin [98, 2] [98, 3]\n",
      "lasix [98, 8] [98, 8] lasix [98, 8] [98, 8]\n",
      "potassium chloride slow release [99, 3] [99, 6] potassium chloride slow release [99, 3] [99, 6]\n",
      "motrin [100, 3] [100, 3] motrin [100, 3] [100, 3]\n",
      "novolog [100, 10] [100, 10] novolog [100, 10] [100, 10]\n",
      "lantus [101, 3] [101, 3] lantus [101, 3] [101, 3]\n",
      "toprol-xl [101, 10] [101, 10] toprol-xl [101, 10] [101, 10]\n",
      "novolog [102, 9] [102, 9] novolog [102, 9] [102, 9]\n",
      "\u001b[41mlasix [86, 5] [86, 5]\n",
      "\u001b[49m\u001b[41mnasal cannula [84, 8] [84, 9]\n",
      "\u001b[49m\u001b[41mlasix [78, 3] [78, 3]\n",
      "\u001b[49m\u001b[41mprecedex. [73, 0] [73, 0]\n",
      "\u001b[49m\n",
      "\n",
      "Name:  0105\n",
      "Challenge:  2009 Medication Challenge\n",
      "Train or Test Set:  train\n",
      "Labelled:  yes\n",
      "Labeling Type:  train\n",
      "\n",
      "\n",
      "nitroglycerin [10, 8] [10, 8] nitroglycerin [10, 8] [10, 8]\n",
      "nitroglycerin [13, 0] [13, 0] nitroglycerin. [13, 0] [13, 0]\n",
      "heparin [16, 0] [16, 0] heparin [16, 0] [16, 0]\n",
      "lipitor [25, 3] [25, 3] lipitor [25, 3] [25, 3]\n",
      "atenolol [25, 5] [25, 5] atenolol [25, 5] [25, 5]\n",
      "aspirin [25, 7] [25, 7] aspirin [25, 7] [25, 7]\n",
      "nitroglycerin [26, 0] [26, 0] nitroglycerin [26, 0] [26, 0]\n",
      "zestril [26, 3] [26, 3] zestril [26, 3] [26, 3]\n",
      "celexa [26, 5] [26, 5] celexa [26, 5] [26, 5]\n",
      "klonopin [26, 7] [26, 7] klonopin [26, 7] [26, 7]\n",
      "neurontin [27, 0] [27, 0] neurontin. [27, 0] [27, 0]\n",
      "\u001b[43mpermsan madiston [46, 11] [46, 12]\n",
      "\u001b[49m\u001b[43minhibitor [46, 15] [46, 15]\n",
      "\u001b[49mlovenox [47, 2] [47, 2] lovenox [47, 2] [47, 2]\n",
      "aspirin [59, 9] [59, 9] aspirin [59, 9] [59, 9]\n",
      "zocor [60, 0] [60, 0] zocor [60, 0] [60, 0]\n",
      "lopressor [60, 2] [60, 2] lopressor [60, 2] [60, 2]\n",
      "captopril [60, 4] [60, 4] captopril [60, 4] [60, 4]\n",
      "celexa [60, 6] [60, 6] celexa [60, 6] [60, 6]\n",
      "klonopin [60, 8] [60, 8] klonopin [60, 8] [60, 8]\n",
      "\u001b[43mhome [60, 12] [60, 12]\n",
      "\u001b[49mnitroglycerin [63, 3] [63, 3] nitroglycerin. [63, 3] [63, 3]\n",
      "packed red blood cells [68, 4] [68, 7] packed red blood cells. [68, 4] [68, 7]\n",
      "lovenox [70, 0] [70, 0] lovenox [70, 0] [70, 0]\n",
      "aspirin [70, 10] [70, 10] aspirin [70, 10] [70, 10]\n",
      "plavix [71, 0] [71, 0] plavix. [71, 0] [71, 0]\n",
      "lovenox [71, 3] [71, 3] lovenox [71, 3] [71, 3]\n",
      "packed red blood cells [74, 10] [75, 0] packed red blood cells. [74, 10] [75, 0]\n",
      "plavix [87, 3] [87, 3] plavix [87, 3] [87, 3]\n",
      "aspirin [87, 5] [87, 5] aspirin [87, 5] [87, 5]\n",
      "lovenox [98, 2] [98, 2] lovenox [98, 2] [98, 2]\n",
      "plavix [98, 4] [98, 4] plavix [98, 4] [98, 4]\n",
      "aspirin [98, 6] [98, 6] aspirin [98, 6] [98, 6]\n",
      "packed red blood cells [105, 4] [105, 7] packed red blood cells [105, 4] [105, 7]\n",
      "aspirin [107, 3] [107, 3] aspirin [107, 3] [107, 3]\n",
      "aspirin [108, 11] [108, 11] aspirin [108, 11] [108, 11]\n",
      "beta-blocker [109, 0] [109, 0] beta-blocker [109, 0] [109, 0]\n",
      "zocor [109, 2] [109, 2] zocor [109, 2] [109, 2]\n",
      "ace inhibitor [109, 4] [109, 5] ace inhibitor. [109, 4] [109, 5]\n",
      "\u001b[43mtylenol [115, 8] [115, 8]\n",
      "\u001b[49mtylenol [119, 5] [119, 5] tylenol [119, 5] [119, 5]\n",
      "percocet [120, 3] [120, 3] percocet [120, 3] [120, 3]\n",
      "aspirin [121, 2] [121, 2] aspirin [121, 2] [121, 2]\n",
      "klonopin [121, 9] [121, 9] klonopin [121, 9] [121, 9]\n",
      "glucophage [122, 2] [122, 2] glucophage [122, 2] [122, 2]\n",
      "celexa [122, 7] [122, 7] celexa [122, 7] [122, 7]\n",
      "zestril [123, 5] [123, 5] zestril [123, 5] [123, 5]\n",
      "atenolol [123, 10] [123, 10] atenolol [123, 10] [123, 10]\n",
      "lipitor [124, 0] [124, 0] lipitor [124, 0] [124, 0]\n",
      "\u001b[41mglucophage [25, 1] [25, 1]\n",
      "\u001b[49m\u001b[41mprotamine. [71, 7] [71, 7]\n",
      "\u001b[49m\u001b[41mfresh frozen plasma [74, 0] [74, 2]\n",
      "\u001b[49m\n",
      "\n",
      "Name:  0106\n",
      "Challenge:  2009 Medication Challenge\n",
      "Train or Test Set:  train\n",
      "Labelled:  yes\n",
      "Labeling Type:  train\n",
      "\n",
      "\n",
      "vancomycin [14, 2] [14, 2] vancomycin. [14, 2] [14, 2]\n",
      "antibiotics [23, 4] [23, 4] antibiotics. [23, 4] [23, 4]\n",
      "antibiotics [24, 4] [24, 4] antibiotics [24, 4] [24, 4]\n",
      "antibiotics [30, 0] [30, 0] antibiotics [30, 0] [30, 0]\n",
      "\u001b[43minsulin [37, 8] [37, 8]\n",
      "\u001b[49mcolace [54, 2] [54, 2] colace [54, 2] [54, 2]\n",
      "folate [54, 7] [54, 7] folate [54, 7] [54, 7]\n",
      "gemfibrozil [55, 0] [55, 0] gemfibrozil [55, 0] [55, 0]\n",
      "lantus [55, 5] [55, 5] lantus [55, 5] [55, 5]\n",
      "lipitor [55, 11] [55, 11] lipitor [55, 11] [55, 11]\n",
      "nephrocaps [56, 3] [56, 3] nephrocaps [56, 3] [56, 3]\n",
      "neurontin [56, 5] [56, 5] neurontin [56, 5] [56, 5]\n",
      "phoslo [56, 10] [56, 10] phoslo [56, 10] [56, 10]\n",
      "protonix [57, 2] [57, 2] protonix [57, 2] [57, 2]\n",
      "renagel [57, 7] [57, 7] renagel [57, 7] [57, 7]\n",
      "requip [57, 12] [57, 12] requip [57, 12] [57, 12]\n",
      "coumadin [58, 3] [58, 3] coumadin [58, 3] [58, 3]\n",
      "\u001b[43mmicro blood [84, 0] [85, 0]\n",
      "\u001b[49mvancomycin [96, 7] [96, 7] vancomycin [96, 7] [96, 7]\n",
      "unasyn [96, 9] [96, 9] unasyn [96, 9] [96, 9]\n",
      "unasyn [104, 4] [104, 4] unasyn [104, 4] [104, 4]\n",
      "augmentin [105, 2] [105, 2] augmentin [105, 2] [105, 2]\n",
      "vancomycin [105, 5] [105, 5] vancomycin [105, 5] [105, 5]\n",
      "\u001b[43msedation [108, 0] [108, 0]\n",
      "\u001b[49mlevofloxacin [114, 9] [114, 9] levofloxacin [114, 9] [114, 9]\n",
      "flagyl [115, 1] [115, 1] flagyl [115, 1] [115, 1]\n",
      "vancomycin [116, 1] [116, 1] vancomycin [116, 1] [116, 1]\n",
      "\u001b[43mmedication [134, 3] [134, 3]\n",
      "\u001b[49mcoumadin [141, 6] [141, 6] coumadin [141, 6] [141, 6]\n",
      "coumadin [146, 5] [146, 5] coumadin. [146, 5] [146, 5]\n",
      "coumadin [146, 7] [146, 7] coumadin [146, 7] [146, 7]\n",
      "heparin [147, 10] [147, 10] heparin [147, 10] [147, 10]\n",
      "coumadin [147, 13] [147, 13] coumadin [147, 13] [147, 13]\n",
      "heparin [148, 10] [148, 10] heparin [148, 10] [148, 10]\n",
      "heparin [150, 0] [150, 0] heparin [150, 0] [150, 0]\n",
      "\u001b[43mheparin drip [153, 10] [153, 11]\n",
      "\u001b[49mlevofloxacin [156, 1] [156, 1] levofloxacin. [156, 1] [156, 1]\n",
      "gemfibrozil [158, 4] [158, 4] gemfibrozil [158, 4] [158, 4]\n",
      "lipitor [158, 8] [158, 8] lipitor [158, 8] [158, 8]\n",
      "gemfibrozil [161, 4] [161, 4] gemfibrozil [161, 4] [161, 4]\n",
      "lipitor [161, 6] [161, 6] lipitor [161, 6] [161, 6]\n",
      "lipitor [161, 9] [161, 9] lipitor [161, 9] [161, 9]\n",
      "b-blocker [163, 8] [163, 8] b-blocker [163, 8] [163, 8]\n",
      "\u001b[43maspirin [165, 3] [165, 3]\n",
      "\u001b[49mlisinopril [169, 8] [169, 8] lisinopril [169, 8] [169, 8]\n",
      "lopressor [170, 5] [170, 5] lopressor. [170, 5] [170, 5]\n",
      "lantus [176, 6] [176, 6] lantus [176, 6] [176, 6]\n",
      "lantus [178, 3] [178, 3] lantus [178, 3] [178, 3]\n",
      "aspart [178, 7] [178, 7] aspart [178, 7] [178, 7]\n",
      "\u001b[43mketamine drip [183, 8] [183, 9]\n",
      "\u001b[49mfentanyl pca [184, 0] [184, 1] fentanyl pca. [184, 0] [184, 1]\n",
      "fentanyl pca [184, 3] [184, 4] fentanyl pca [184, 3] [184, 4]\n",
      "\u001b[43mketamine drip [184, 6] [184, 7]\n",
      "\u001b[49moxycontin [185, 6] [185, 6] oxycontin [185, 6] [185, 6]\n",
      "oxycodone [186, 0] [186, 0] oxycodone [186, 0] [186, 0]\n",
      "lyrica [186, 9] [186, 9] lyrica [186, 9] [186, 9]\n",
      "ativan [193, 7] [193, 7] ativan [193, 7] [193, 7]\n",
      "heparin [211, 2] [211, 2] heparin [211, 2] [211, 2]\n",
      "levofloxacin [213, 9] [213, 9] levofloxacin; [213, 9] [213, 9]\n",
      "coumadin [214, 4] [214, 4] coumadin [214, 4] [214, 4]\n",
      "pain medications [216, 5] [216, 6] pain medications [216, 5] [216, 6]\n",
      "\u001b[41mpain medication [134, 2] [134, 3]\n",
      "\u001b[49m\u001b[41mketamine [184, 6] [184, 6]\n",
      "\u001b[49m\u001b[41mketamine [183, 8] [183, 8]\n",
      "\u001b[49m\u001b[41mheparin [153, 10] [153, 10]\n",
      "\u001b[49m\n",
      "\n",
      "Name:  0107\n",
      "Challenge:  2009 Medication Challenge\n",
      "Train or Test Set:  train\n",
      "Labelled:  yes\n",
      "Labeling Type:  train\n",
      "\n",
      "\n",
      "amiodarone [27, 2] [27, 2] amiodarone. [27, 2] [27, 2]\n",
      "amiodarone [28, 3] [28, 3] amiodarone [28, 3] [28, 3]\n",
      "ptu [28, 7] [28, 7] ptu [28, 7] [28, 7]\n",
      "levothyroxine [29, 5] [29, 5] levothyroxine. [29, 5] [29, 5]\n",
      "digoxin [81, 7] [81, 7] digoxin [81, 7] [81, 7]\n",
      "digoxin [83, 8] [83, 8] digoxin [83, 8] [83, 8]\n",
      "digoxin [84, 5] [84, 5] digoxin [84, 5] [84, 5]\n",
      "amiodarone [85, 5] [85, 5] amiodarone [85, 5] [85, 5]\n",
      "heparin [86, 10] [86, 10] heparin. [86, 10] [86, 10]\n",
      "coumadin [95, 7] [95, 7] coumadin [95, 7] [95, 7]\n",
      "heparin [96, 1] [96, 1] heparin [96, 1] [96, 1]\n",
      "amiodarone [102, 2] [102, 2] amiodarone [102, 2] [102, 2]\n",
      "captopril [102, 8] [102, 8] captopril [102, 8] [102, 8]\n",
      "clonazepam [103, 5] [103, 5] clonazepam [103, 5] [103, 5]\n",
      "klonopin [104, 3] [104, 3] klonopin [104, 3] [104, 3]\n",
      "digoxin [104, 10] [104, 10] digoxin [104, 10] [104, 10]\n",
      "lasix [105, 0] [105, 0] lasix [105, 0] [105, 0]\n",
      "glipizide [105, 6] [105, 6] glipizide [105, 6] [105, 6]\n",
      "levothyroxine sodium [105, 12] [106, 0] levothyroxine sodium [105, 12] [106, 0]\n",
      "magnesium oxide [106, 6] [106, 7] magnesium oxide [106, 6] [106, 7]\n",
      "lopressor [107, 0] [107, 0] lopressor [107, 0] [107, 0]\n",
      "nitroglycerin <num>/<num> ( <num>.<num> mg ) [107, 6] [107, 11] nitroglycerin 1/150 ( 0.4 mg ) [107, 6] [107, 11]\n",
      "coumadin [108, 7] [108, 7] coumadin [108, 7] [108, 7]\n",
      "simvastatin [110, 7] [110, 7] simvastatin [110, 7] [110, 7]\n",
      "isosorbide [111, 2] [111, 2] isosorbide [111, 2] [111, 2]\n",
      "mononitrate-sr [111, 4] [111, 4] mononitrate-sr [111, 4] [111, 4]\n",
      "troglipazone [111, 11] [111, 11] troglipazone [111, 11] [111, 11]\n",
      "\n",
      "\n",
      "Name:  0108\n",
      "Challenge:  2009 Medication Challenge\n",
      "Train or Test Set:  train\n",
      "Labelled:  yes\n",
      "Labeling Type:  train\n",
      "\n",
      "\n",
      "ativan [11, 6] [11, 6] ativan [11, 6] [11, 6]\n",
      "depakote [15, 0] [15, 0] depakote [15, 0] [15, 0]\n",
      "haldol [15, 2] [15, 2] haldol [15, 2] [15, 2]\n",
      "depakote [17, 7] [17, 7] depakote [17, 7] [17, 7]\n",
      "depakote [18, 8] [18, 8] depakote [18, 8] [18, 8]\n",
      "haldol [19, 2] [19, 2] haldol [19, 2] [19, 2]\n",
      "ceftriaxone [23, 5] [23, 5] ceftriaxone [23, 5] [23, 5]\n",
      "flagyl [23, 8] [23, 8] flagyl. [23, 8] [23, 8]\n",
      "cefpodoxime [24, 2] [24, 2] cefpodoxime [24, 2] [24, 2]\n",
      "flagyl [24, 4] [24, 4] flagyl [24, 4] [24, 4]\n",
      "lantus [32, 9] [32, 9] lantus [32, 9] [32, 9]\n",
      "aspart [33, 5] [33, 5] aspart [33, 5] [33, 5]\n",
      "aspart [34, 2] [34, 2] aspart [34, 2] [34, 2]\n",
      "aspart [35, 13] [35, 13] aspart [35, 13] [35, 13]\n",
      "insulin [36, 4] [36, 4] insulin [36, 4] [36, 4]\n",
      "aspart [39, 0] [39, 0] aspart [39, 0] [39, 0]\n",
      "antibiotics [47, 1] [47, 1] antibiotics [47, 1] [47, 1]\n",
      "ceftriaxone [47, 3] [47, 3] ceftriaxone [47, 3] [47, 3]\n",
      "\u001b[43mflagyl [47, 5] [47, 5]\n"
     ]
    },
    {
     "name": "stdout",
     "output_type": "stream",
     "text": [
      "\u001b[49mcefpodoxime [48, 0] [48, 0] cefpodoxime [48, 0] [48, 0]\n",
      "flagyl [48, 2] [48, 2] flagyl [48, 2] [48, 2]\n",
      "cefpodoxime [48, 6] [48, 6] cefpodoxime [48, 6] [48, 6]\n",
      "\u001b[43minsulin regimen [53, 8] [53, 9]\n",
      "\u001b[49mphoslo [58, 0] [58, 0] phoslo [58, 0] [58, 0]\n",
      "depakote [58, 6] [58, 6] depakote [58, 6] [58, 6]\n",
      "folate [58, 12] [58, 12] folate [58, 12] [58, 12]\n",
      "haldol [59, 4] [59, 4] haldol [59, 4] [59, 4]\n",
      "\u001b[43mmonday-wednesday-friday [59, 9] [59, 9]\n",
      "\u001b[49mlabetalol [60, 4] [60, 4] labetalol [60, 4] [60, 4]\n",
      "lisinopril [60, 10] [60, 10] lisinopril [60, 10] [60, 10]\n",
      "flagyl [61, 5] [61, 5] flagyl [61, 5] [61, 5]\n",
      "thiamine [61, 14] [61, 14] thiamine [61, 14] [61, 14]\n",
      "norvasc [62, 5] [62, 5] norvasc [62, 5] [62, 5]\n",
      "gabapentin [62, 11] [62, 11] gabapentin [62, 11] [62, 11]\n",
      "cefpodoxime [63, 3] [63, 3] cefpodoxime [63, 3] [63, 3]\n",
      "nephrocaps [65, 0] [65, 0] nephrocaps [65, 0] [65, 0]\n",
      "sevelamer [65, 6] [65, 6] sevelamer [65, 6] [65, 6]\n",
      "advair diskus <num>/<num> [66, 0] [66, 2] advair diskus 250/50 [66, 0] [66, 2]\n",
      "nexium [66, 7] [66, 7] nexium [66, 7] [66, 7]\n",
      "lantus [67, 0] [67, 0] lantus [67, 0] [67, 0]\n",
      "aspart [68, 2] [68, 2] aspart [68, 2] [68, 2]\n",
      "aspart [70, 2] [70, 2] aspart [70, 2] [70, 2]\n",
      "albuterol butt paste [73, 6] [73, 8] albuterol butt paste [73, 6] [73, 8]\n",
      "tylenol [74, 3] [74, 3] tylenol [74, 3] [74, 3]\n",
      "albuterol inhaler [75, 2] [75, 3] albuterol inhaler [75, 2] [75, 3]\n",
      "haldol [75, 7] [75, 7] haldol [75, 7] [75, 7]\n",
      "loperamide [77, 6] [77, 6] loperamide [77, 6] [77, 6]\n",
      "\u001b[41minsulin [53, 8] [53, 8]\n",
      "\u001b[49m\n",
      "\n",
      "Name:  0109\n",
      "Challenge:  2009 Medication Challenge\n",
      "Train or Test Set:  train\n",
      "Labelled:  yes\n",
      "Labeling Type:  train\n",
      "\n",
      "\n",
      "insulin [27, 1] [27, 1] insulin [27, 1] [27, 1]\n",
      "atenolol [33, 2] [33, 2] atenolol [33, 2] [33, 2]\n",
      "hydrochlorothiazide [33, 6] [33, 6] hydrochlorothiazide [33, 6] [33, 6]\n",
      "lisinopril [34, 2] [34, 2] lisinopril [34, 2] [34, 2]\n",
      "simvastatin [34, 6] [34, 6] simvastatin [34, 6] [34, 6]\n",
      "metformin [35, 2] [35, 2] metformin [35, 2] [35, 2]\n",
      "nph [35, 7] [35, 7] nph [35, 7] [35, 7]\n",
      "aspirin [66, 6] [66, 6] aspirin [66, 6] [66, 6]\n",
      "simvastatin [66, 8] [66, 8] simvastatin [66, 8] [66, 8]\n",
      "atenolol [68, 3] [68, 3] atenolol [68, 3] [68, 3]\n",
      "lisinopril [69, 1] [69, 1] lisinopril [69, 1] [69, 1]\n",
      "nifedipine extended release [69, 6] [69, 8] nifedipine extended release [69, 6] [69, 8]\n",
      "lasix [74, 5] [74, 5] lasix [74, 5] [74, 5]\n",
      "lasix [75, 9] [75, 9] lasix [75, 9] [75, 9]\n",
      "metformin [91, 7] [91, 7] metformin [91, 7] [91, 7]\n",
      "nph [92, 12] [92, 12] nph [92, 12] [92, 12]\n",
      "atenolol [100, 2] [100, 2] atenolol [100, 2] [100, 2]\n",
      "hydrochlorothiazide [100, 6] [100, 6] hydrochlorothiazide [100, 6] [100, 6]\n",
      "lisinopril [101, 2] [101, 2] lisinopril [101, 2] [101, 2]\n",
      "nifedipine extended release [101, 6] [102, 1] nifedipine extended release [101, 6] [102, 1]\n",
      "metformin [102, 5] [102, 5] metformin [102, 5] [102, 5]\n",
      "nph [102, 9] [102, 9] nph [102, 9] [102, 9]\n",
      "simvastatin [103, 2] [103, 2] simvastatin [103, 2] [103, 2]\n",
      "aspirin [103, 6] [103, 6] aspirin [103, 6] [103, 6]\n",
      "lasix [103, 11] [103, 11] lasix [103, 11] [103, 11]\n",
      "\n",
      "\n",
      "Name:  0110\n",
      "Challenge:  2009 Medication Challenge\n",
      "Train or Test Set:  train\n",
      "Labelled:  yes\n",
      "Labeling Type:  train\n",
      "\n",
      "\n",
      "glyburide [19, 0] [19, 0] glyburide [19, 0] [19, 0]\n",
      "lisinopril [20, 0] [20, 0] lisinopril [20, 0] [20, 0]\n",
      "kcl immediate release [22, 3] [22, 5] kcl immediate release [22, 3] [22, 5]\n",
      "lisinopril [23, 3] [23, 3] lisinopril [23, 3] [23, 3]\n",
      "potassium chloride [23, 5] [24, 0] potassium chloride [23, 5] [24, 0]\n",
      "sarna [25, 0] [25, 0] sarna [25, 0] [25, 0]\n",
      "\u001b[43m( warfarin sodium ) [27, 1] [27, 4]\n",
      "\u001b[49mciprofloxacin [32, 3] [32, 3] ciprofloxacin [32, 3] [32, 3]\n",
      "warfarin [33, 3] [33, 3] warfarin [33, 3] [33, 3]\n",
      "\u001b[43mciprofloxacin hcl [33, 5] [34, 0]\n",
      "\u001b[49msimvastatin [37, 3] [37, 3] simvastatin [37, 3] [37, 3]\n",
      "warfarin [38, 3] [38, 3] warfarin [38, 3] [38, 3]\n",
      "simvastatin [38, 5] [38, 5] simvastatin [38, 5] [38, 5]\n",
      "simvastatin [40, 0] [40, 0] simvastatin [40, 0] [40, 0]\n",
      "warfarin [45, 3] [45, 3] warfarin [45, 3] [45, 3]\n",
      "simvastatin [45, 5] [45, 5] simvastatin [45, 5] [45, 5]\n",
      "miconazole nitrate <num>% powder [47, 0] [47, 3] miconazole nitrate 2% powder [47, 0] [47, 3]\n",
      "linezolid [48, 0] [48, 0] linezolid [48, 0] [48, 0]\n",
      "nexium ( esomeprazole ) [53, 0] [53, 3] nexium ( esomeprazole ) [53, 0] [53, 3]\n",
      "acetylsalicylic acid [54, 0] [54, 1] acetylsalicylic acid [54, 0] [54, 1]\n",
      "warfarin [56, 3] [56, 3] warfarin [56, 3] [56, 3]\n",
      "aspirin [56, 5] [56, 5] aspirin [56, 5] [56, 5]\n",
      "coumadin [85, 3] [85, 3] coumadin [85, 3] [85, 3]\n",
      "unasyn [88, 10] [88, 10] unasyn [88, 10] [88, 10]\n",
      "linezolid [89, 4] [89, 4] linezolid [89, 4] [89, 4]\n",
      "cipro [110, 1] [110, 1] cipro. [110, 1] [110, 1]\n",
      "levo [112, 6] [112, 6] levo [112, 6] [112, 6]\n",
      "linezolid [112, 9] [112, 9] linezolid. [112, 9] [112, 9]\n",
      "glyburide [120, 5] [120, 5] glyburide [120, 5] [120, 5]\n",
      "\u001b[43mriss [120, 10] [120, 10]\n",
      "\u001b[49mcoumadin [121, 11] [121, 11] coumadin [121, 11] [121, 11]\n",
      "antibiotics [128, 2] [128, 2] antibiotics [128, 2] [128, 2]\n",
      "linezolid [131, 1] [131, 1] linezolid [131, 1] [131, 1]\n",
      "\u001b[41mciprofloxacin [33, 5] [33, 5]\n",
      "\u001b[49m\u001b[41mvanc [112, 4] [112, 4]\n",
      "\u001b[49m\u001b[41mcoumadin ( warfarin sodium ) [27, 0] [27, 4]\n",
      "\u001b[49m\u001b[41mada [120, 7] [120, 7]\n",
      "\u001b[49m\u001b[41mvanc [109, 14] [109, 14]\n",
      "\u001b[49m\n",
      "\n",
      "Name:  0111\n",
      "Challenge:  2009 Medication Challenge\n",
      "Train or Test Set:  train\n",
      "Labelled:  yes\n",
      "Labeling Type:  train\n",
      "\n",
      "\n",
      "amiodarone [19, 0] [19, 0] amiodarone [19, 0] [19, 0]\n",
      "norvasc ( amlodipine ) [20, 0] [20, 3] norvasc ( amlodipine ) [20, 0] [20, 3]\n",
      "tears naturale ( artificial tears ) [23, 0] [23, 5] tears naturale ( artificial tears ) [23, 0] [23, 5]\n",
      "colace ( docusate sodium ) [24, 0] [24, 4] colace ( docusate sodium ) [24, 0] [24, 4]\n",
      "nexium ( esomeprazole ) [25, 0] [25, 3] nexium ( esomeprazole ) [25, 0] [25, 3]\n",
      "lasix ( furosemide ) [26, 0] [26, 3] lasix ( furosemide ) [26, 0] [26, 3]\n",
      "lasix [29, 3] [29, 3] lasix [29, 3] [29, 3]\n",
      "neurontin ( gabapentin ) [32, 0] [32, 3] neurontin ( gabapentin ) [32, 0] [32, 3]\n",
      "glipizide [33, 0] [33, 0] glipizide [33, 0] [33, 0]\n",
      "glipizide [36, 3] [36, 3] glipizide [36, 3] [36, 3]\n",
      "micronase [40, 3] [40, 3] micronase [40, 3] [40, 3]\n",
      "plaquenil sulfate ( hydroxychloroquine ) [43, 0] [43, 4] plaquenil sulfate ( hydroxychloroquine ) [43, 0] [43, 4]\n",
      "isordil ( isosorbide dinitrate ) [45, 0] [45, 4] isordil ( isosorbide dinitrate ) [45, 0] [45, 4]\n",
      "lisinopril [47, 0] [47, 0] lisinopril [47, 0] [47, 0]\n",
      "potassium chloride [50, 3] [50, 4] potassium chloride [50, 3] [50, 4]\n",
      "lisinopril [51, 0] [51, 0] lisinopril [51, 0] [51, 0]\n",
      "potassium chloride [52, 3] [52, 4] potassium chloride [52, 3] [52, 4]\n",
      "lisinopril [53, 0] [53, 0] lisinopril [53, 0] [53, 0]\n",
      "nitroglycerin <num>/<num> ( <num>.<num> mg ) [54, 0] [54, 5] nitroglycerin 1/150 ( 0.4 mg ) [54, 0] [54, 5]\n",
      "multivitamin therapeutic ( therapeutic multivi.. ) [56, 0] [56, 5] multivitamin therapeutic ( therapeutic multivi... ) [56, 0] [56, 5]\n",
      "trazodone [58, 0] [58, 0] trazodone [58, 0] [58, 0]\n",
      "coumadin [91, 0] [91, 0] coumadin [91, 0] [91, 0]\n",
      "coumadin [103, 3] [103, 3] coumadin [103, 3] [103, 3]\n",
      "coumadin [105, 3] [105, 3] coumadin [105, 3] [105, 3]\n",
      "\u001b[43mmeds [106, 5] [106, 5]\n",
      "\u001b[49mcoumadin [110, 8] [110, 8] coumadin [110, 8] [110, 8]\n",
      "coumadin [111, 6] [111, 6] coumadin [111, 6] [111, 6]\n",
      "coumadin [114, 7] [114, 7] coumadin [114, 7] [114, 7]\n",
      "\n",
      "\n",
      "Name:  0121\n",
      "Challenge:  2009 Medication Challenge\n",
      "Train or Test Set:  train\n",
      "Labelled:  yes\n",
      "Labeling Type:  train\n",
      "\n",
      "\n",
      "albuterol inhaler [19, 0] [19, 1] albuterol inhaler [19, 0] [19, 1]\n",
      "lasix ( furosemide ) [21, 0] [21, 3] lasix ( furosemide ) [21, 0] [21, 3]\n",
      "motrin ( ibuprofen ) [24, 0] [24, 3] motrin ( ibuprofen ) [24, 0] [24, 3]\n",
      "motrin [27, 3] [27, 3] motrin [27, 3] [27, 3]\n",
      "\u001b[43mmotrin atrovent hfa inhaler ( ipratropium inhaler ) [29, 5] [30, 6]\n",
      "\u001b[49mmagnesium oxide [32, 0] [32, 1] magnesium oxide [32, 0] [32, 1]\n",
      "verapamil sustained release [33, 0] [33, 2] verapamil sustained release [33, 0] [33, 2]\n",
      "keflex ( cephalexin ) [38, 0] [38, 3] keflex ( cephalexin ) [38, 0] [38, 3]\n",
      "zocor ( simvastatin ) [41, 0] [41, 3] zocor ( simvastatin ) [41, 0] [41, 3]\n",
      "ambien ( zolpidem tartrate ) [44, 0] [44, 4] ambien ( zolpidem tartrate ) [44, 0] [44, 4]\n",
      "loratadine [48, 0] [48, 0] loratadine [48, 0] [48, 0]\n",
      "potassium chloride slow rel ( kcl slow release ) [52, 0] [52, 8] potassium chloride slow rel. ( kcl slow release ) [52, 0] [52, 8]\n",
      "\u001b[43mpotassium [53, 7] [53, 7]\n",
      "\u001b[49m\u001b[43mmetformin [55, 0] [55, 0]\n",
      "\u001b[49mrhinocort aqua ( budesonide nasal inhaler ) [56, 0] [56, 6] rhinocort aqua ( budesonide nasal inhaler ) [56, 0] [56, 6]\n",
      "singulair ( montelukast ) [58, 0] [58, 3] singulair ( montelukast ) [58, 0] [58, 3]\n",
      "effexor xr ( venlafaxine extended release ) [59, 0] [59, 6] effexor xr ( venlafaxine extended release ) [59, 0] [59, 6]\n",
      "advair diskus <num>/<num> ( fluticasone propionate/... ) [61, 0] [61, 6] advair diskus 250/50 ( fluticasone propionate/... ) [61, 0] [61, 6]\n",
      "nexium ( esomeprazole ) [63, 0] [63, 3] nexium ( esomeprazole ) [63, 0] [63, 3]\n",
      "oxycodone [64, 0] [64, 0] oxycodone [64, 0] [64, 0]\n",
      "\u001b[43manesthesia [88, 1] [88, 1]\n",
      "\u001b[49mlasix [94, 8] [94, 8] lasix [94, 8] [94, 8]\n",
      "albuterol [101, 2] [101, 2] albuterol [101, 2] [101, 2]\n",
      "advair <num>/<num> [101, 4] [101, 5] advair 250/50 [101, 4] [101, 5]\n",
      "rhinocort [101, 8] [101, 8] rhinocort [101, 8] [101, 8]\n",
      "atrovent [102, 0] [102, 0] atrovent [102, 0] [102, 0]\n",
      "singulair [102, 5] [102, 5] singulair [102, 5] [102, 5]\n",
      "nexium [102, 9] [102, 9] nexium [102, 9] [102, 9]\n",
      "lasix [102, 13] [102, 13] lasix [102, 13] [102, 13]\n",
      "\u001b[43mkcl <num>meq [103, 12] [103, 13]\n",
      "\u001b[49mverapamil [104, 2] [104, 2] verapamil [104, 2] [104, 2]\n",
      "loratidine [104, 12] [104, 12] loratidine [104, 12] [104, 12]\n",
      "zocor [105, 2] [105, 2] zocor [105, 2] [105, 2]\n",
      "effexor [105, 6] [105, 6] effexor [105, 6] [105, 6]\n"
     ]
    },
    {
     "name": "stdout",
     "output_type": "stream",
     "text": [
      "metformin [105, 10] [105, 10] metformin [105, 10] [105, 10]\n",
      "mgoxide [106, 0] [106, 0] mgoxide [106, 0] [106, 0]\n",
      "ambien [106, 4] [106, 4] ambien [106, 4] [106, 4]\n",
      "amox [106, 7] [106, 7] amox [106, 7] [106, 7]\n",
      "lasix [139, 8] [139, 8] lasix [139, 8] [139, 8]\n",
      "lasix [142, 4] [142, 4] lasix [142, 4] [142, 4]\n",
      "\u001b[43mregimen verapamil [143, 5] [143, 6]\n",
      "\u001b[49mzocor [143, 8] [143, 8] zocor. [143, 8] [143, 8]\n",
      "antibiotics [147, 1] [147, 1] antibiotics. [147, 1] [147, 1]\n",
      "\u001b[43mppi [151, 2] [151, 2]\n",
      "\u001b[49m\u001b[43miss [152, 1] [152, 1]\n",
      "\u001b[49mmetformin [152, 3] [152, 3] metformin [152, 3] [152, 3]\n",
      "effexor [153, 2] [153, 2] effexor [153, 2] [153, 2]\n",
      "lasix [157, 10] [157, 10] lasix [157, 10] [157, 10]\n",
      "keflex [160, 1] [160, 1] keflex [160, 1] [160, 1]\n",
      "\u001b[43mother medications [160, 8] [160, 9]\n",
      "\u001b[49m\u001b[41mverapamil [143, 6] [143, 6]\n",
      "\u001b[49m\u001b[41mmetformin 1 [55, 0] [55, 1]\n",
      "\u001b[49m\u001b[41mkcl [103, 12] [103, 12]\n",
      "\u001b[49m\u001b[41matrovent hfa inhaler ( ipratropium inhaler ) [30, 0] [30, 6]\n",
      "\u001b[49m\u001b[41mpotassium chloride [53, 7] [53, 8]\n",
      "\u001b[49m\u001b[41mpatanol [104, 6] [104, 6]\n",
      "\u001b[49m\n",
      "\n",
      "TP\tFP\tFN\n",
      "335\t31\t25\n",
      "\n",
      "Precision: 0.9153\n",
      "Recall: 0.9306\n",
      "F1-Score: 0.9229\n"
     ]
    }
   ],
   "source": [
    "testers = Dataset.get_DS(stage='train', labelled='yes')\n",
    "phrase_perf = fn.phrase_perf(target, RNN, testers, word_indices, side_words=[lw, rw], show_phrases=True, case_info=True, rnn=True)"
   ]
  },
  {
   "cell_type": "markdown",
   "metadata": {},
   "source": [
    "# HyperParameter Scan"
   ]
  },
  {
   "cell_type": "raw",
   "metadata": {
    "collapsed": true
   },
   "source": [
    "emb_sizes = [100]\n",
    "emb_models = 1\n",
    "target_saturations = [0.05, 0.1, 0.2, 0.5, 0.7]\n",
    "layer_sizes = [50]\n",
    "dropouts = [1.0]\n",
    "learn_rates = [0.01]\n",
    "epochs = [100]\n",
    "NN_num = 5\n",
    "\n",
    "case_num = len(emb_sizes)*emb_models*len(layer_sizes)*len(target_saturations)*len(epochs)*len(dropouts)*len(learn_rates)*NN_num\n",
    "print(case_num)"
   ]
  },
  {
   "cell_type": "raw",
   "metadata": {
    "collapsed": true
   },
   "source": [
    "max_performance = 0\n",
    "n = 1\n",
    "\n",
    "for emb_size in emb_sizes:\n",
    "    print('Model Number: %d/%d' %(n, case_num))\n",
    "    for i in range(emb_models):\n",
    "        model = Word2Vec(sentences, min_count=1, size=emb_size)\n",
    "        for saturation in target_saturations:\n",
    "            sets = fn.get_traintest2 (labelled_cases, model)\n",
    "            fn.saturate_training_set(sets, model, target_dict['medications'], saturation)\n",
    "            for layer_size in layer_sizes:\n",
    "                for drop in dropouts:\n",
    "                    for rate in learn_rates:\n",
    "                        for epoch in epochs:\n",
    "                            for j in range(NN_num):\n",
    "                                print('Model Number: %d/%d' %(n, case_num))\n",
    "                                print('ES: %d EM: %d sat: %f, LS: %d, drop: %f, LR: %f, epochs: %d, NN: %d' \\\n",
    "                                       % (emb_size, i, saturation, layer_size, drop, rate, epoch, j))\n",
    "                                NN = FF_Model(input_size=emb_size, layers=[layer_size], dropout=drop, learn_rate=rate)\n",
    "                                NN.build_graph()\n",
    "                                NN.train(sets, epochs=epoch)\n",
    "                                res = NN.predict(sets['test_set'])\n",
    "                                tru = np.argmax(sets['test_labels'], 1)\n",
    "                                perf = sk.metrics.f1_score(tru, res, pos_label=0)\n",
    "                                if perf > max_performance:\n",
    "                                    max_performance = perf\n",
    "                                    NN.save_model('gold')\n",
    "                                    model.save('gold/GOLDEMB')\n",
    "                                NN.close()\n",
    "                                n += 1"
   ]
  }
 ],
 "metadata": {
  "anaconda-cloud": {},
  "kernelspec": {
   "display_name": "Python 3",
   "language": "python",
   "name": "python3"
  },
  "language_info": {
   "codemirror_mode": {
    "name": "ipython",
    "version": 3
   },
   "file_extension": ".py",
   "mimetype": "text/x-python",
   "name": "python",
   "nbconvert_exporter": "python",
   "pygments_lexer": "ipython3",
   "version": "3.5.4"
  }
 },
 "nbformat": 4,
 "nbformat_minor": 2
}
