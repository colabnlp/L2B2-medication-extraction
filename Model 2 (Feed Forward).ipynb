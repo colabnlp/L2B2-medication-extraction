{
 "cells": [
  {
   "cell_type": "code",
   "execution_count": 1,
   "metadata": {},
   "outputs": [
    {
     "name": "stderr",
     "output_type": "stream",
     "text": [
      "C:\\Users\\Luka\\Anaconda3\\envs\\tensorflow\\lib\\site-packages\\gensim\\utils.py:860: UserWarning: detected Windows; aliasing chunkize to chunkize_serial\n",
      "  warnings.warn(\"detected Windows; aliasing chunkize to chunkize_serial\")\n"
     ]
    }
   ],
   "source": [
    "import numpy as np\n",
    "import re\n",
    "import random\n",
    "import itertools\n",
    "import datetime\n",
    "\n",
    "import tensorflow as tf\n",
    "import sklearn as sk\n",
    "import colorama as col\n",
    "\n",
    "from gensim.models import Word2Vec\n",
    "\n",
    "import Functions as fn\n",
    "from DS import DS\n",
    "from Set import pool\n",
    "from Iterator import Iterator\n",
    "from FFModel import FF_Model"
   ]
  },
  {
   "cell_type": "markdown",
   "metadata": {},
   "source": [
    "# Data Loading"
   ]
  },
  {
   "cell_type": "code",
   "execution_count": 2,
   "metadata": {},
   "outputs": [
    {
     "name": "stdout",
     "output_type": "stream",
     "text": [
      "Raw Text Load Complete\n",
      "Raw Labels Load Complete\n"
     ]
    }
   ],
   "source": [
    "Dataset = pool()\n",
    "Dataset.load_texts('raw_texts')\n",
    "Dataset.load_labels('raw_labels')"
   ]
  },
  {
   "cell_type": "code",
   "execution_count": 3,
   "metadata": {
    "scrolled": true,
    "slideshow": {
     "slide_type": "notes"
    }
   },
   "outputs": [
    {
     "name": "stdout",
     "output_type": "stream",
     "text": [
      "Label Load Complete\n"
     ]
    }
   ],
   "source": [
    "target_dict = fn.load_labels('labels')"
   ]
  },
  {
   "cell_type": "markdown",
   "metadata": {},
   "source": [
    "# Embedding Generation"
   ]
  },
  {
   "cell_type": "code",
   "execution_count": 4,
   "metadata": {},
   "outputs": [
    {
     "name": "stdout",
     "output_type": "stream",
     "text": [
      "Sentence Load Complete\n"
     ]
    }
   ],
   "source": [
    "#Dataset.process_for_embedding()\n",
    "#sentences = Dataset.get_sentences()\n",
    "#fn.write_sentences('sentences')\n",
    "sentences = fn.load_sentences('sentences')\n",
    "\n",
    "#model = Word2Vec(sentences, min_count=1, size=100)\n",
    "#model.save('W2V')\n",
    "model = Word2Vec.load('W2V')\n",
    "\n",
    "vocab = model.wv.vocab.keys()"
   ]
  },
  {
   "cell_type": "markdown",
   "metadata": {},
   "source": [
    "# FFNN Testing"
   ]
  },
  {
   "cell_type": "code",
   "execution_count": 5,
   "metadata": {},
   "outputs": [],
   "source": [
    "target = 'm'\n",
    "\n",
    "train_cases = pool((Dataset.get_DS(stage='test', labelled='yes')).data[:-25])\n",
    "validation_cases = pool(Dataset.get_DS(stage='test', labelled='yes').data[-25:])\n",
    "test_cases = Dataset.get_DS(stage='train', labelled='yes')\n",
    "\n",
    "train_cases.process_for_testing(target)\n",
    "validation_cases.process_for_testing(target)\n",
    "test_cases.process_for_testing(target)"
   ]
  },
  {
   "cell_type": "code",
   "execution_count": 6,
   "metadata": {
    "collapsed": true
   },
   "outputs": [],
   "source": [
    "sets = {}\n",
    "sets['train_set'], sets['train_labels'], sets['train_words'] = train_cases.get_ff_sets(model)\n",
    "sets['validation_set'], sets['validation_labels'], sets['validation_words'] = validation_cases.get_ff_sets(model)\n",
    "sets['test_set'], sets['test_labels'], sets['test_words'] = test_cases.get_ff_sets(model)"
   ]
  },
  {
   "cell_type": "code",
   "execution_count": 7,
   "metadata": {},
   "outputs": [
    {
     "name": "stdout",
     "output_type": "stream",
     "text": [
      "Ratio: med: 0.05% non-med: 0.95%\n",
      "Ratio: med: 0.13% non-med: 0.87%\n"
     ]
    }
   ],
   "source": [
    "print('Ratio: med: {:.2f}% non-med: {:.2f}%'.format(*(np.array(sets['train_labels']).sum(0)/ len(sets['train_labels']))))\n",
    "fn.saturate_training_set(sets, 0.1)\n",
    "print('Ratio: med: {:.2f}% non-med: {:.2f}%'.format(*(np.array(sets['train_labels']).sum(0)/ len(sets['train_labels']))))"
   ]
  },
  {
   "cell_type": "code",
   "execution_count": 8,
   "metadata": {},
   "outputs": [
    {
     "name": "stdout",
     "output_type": "stream",
     "text": [
      "Progress: 100%\r"
     ]
    },
    {
     "data": {
      "image/png": "[encoded data removed]",
      "text/plain": [
       "<matplotlib.figure.Figure at 0x2865e0efd30>"
      ]
     },
     "metadata": {},
     "output_type": "display_data"
    },
    {
     "name": "stdout",
     "output_type": "stream",
     "text": [
      "FInal Values: Tr-F1: 0.8706, Val-F1: 0.8110\n",
      "Test F1-Score: 0.8471\n",
      "\n"
     ]
    }
   ],
   "source": [
    "NN = FF_Model(layers=[50])\n",
    "NN.build_graph()\n",
    "results_list = NN.train(sets, epochs=10, batch=50, show_plot=True, show_progress=True)"
   ]
  },
  {
   "cell_type": "code",
   "execution_count": 9,
   "metadata": {
    "collapsed": true
   },
   "outputs": [],
   "source": [
    "res = NN.predict(sets['test_set'])\n",
    "tru = np.argmax(sets['test_labels'], 1)"
   ]
  },
  {
   "cell_type": "code",
   "execution_count": 10,
   "metadata": {},
   "outputs": [
    {
     "name": "stdout",
     "output_type": "stream",
     "text": [
      "TP\tTN\tFP\tFN\n",
      "432\t10573\t72\t84\n",
      "\n",
      "Precision: 0.8571\n",
      "Recall: 0.8372\n",
      "F1-Score: 0.8471\n"
     ]
    }
   ],
   "source": [
    "tok_perf = fn.token_perf(res, tru)"
   ]
  },
  {
   "cell_type": "code",
   "execution_count": 11,
   "metadata": {},
   "outputs": [
    {
     "data": {
      "text/plain": [
       "0.3458814759597465"
      ]
     },
     "execution_count": 11,
     "metadata": {},
     "output_type": "execute_result"
    }
   ],
   "source": [
    "baseline = [0 if word in target_dict['medications'] else 1 for word in sets['test_words']]\n",
    "sk.metrics.f1_score(tru, baseline, pos_label=0, average='binary')"
   ]
  },
  {
   "cell_type": "code",
   "execution_count": 12,
   "metadata": {},
   "outputs": [
    {
     "name": "stdout",
     "output_type": "stream",
     "text": [
      "regular, codeine, rose-walt, tablets, regular, regular, sodium, potassium, chloride, magnesium, sodium, potassium, chloride, magnesium, nasal, regular, inhibitor, tylenol, insulin, hep, micro, sedation, antibiotics, m/w/f, therapeutic, aspirin, insulin, prandial, regimen, regimen, therapeutic, regimen, m/w/f, caffeine, morphine, sodium, potassium, chloride, calcium, magnesium, iron, therapeutic, regimen, regular, regimen, flagyl, medication, rx, regimen, medication, regular, regimen, regimen, regimen, hcl, regular, hydrate, riss, quinine, aspirin, <num>.<num>-<num>, aspirin, motrin, spray, sodium, aspirin, sprays, aspirin, regimen, regimen, ppi, iss\n"
     ]
    }
   ],
   "source": [
    "fn.category_words(sets['test_words'], res, tru, 0, 1)"
   ]
  },
  {
   "cell_type": "code",
   "execution_count": 13,
   "metadata": {},
   "outputs": [
    {
     "name": "stdout",
     "output_type": "stream",
     "text": [
      "record #<num> <num> | tmh | <num> | | <num> | <num>/<num>/<num> <num>:<num>:<num> am | discharge summary | signed | dis | admission date <num>/<num>/<num> report status signed discharge date <num>/<num>/<num> history ms pizzo is a <num>-year-old woman with peripheral vascular disease who recently underwent revision of her left superior femoral artery anterior tibial bypass graft , who now presents with a cool , ischemic left foot mrs denman is a <num>-year-old , insulin-dependent diabetic with a long history of peripheral vascular disease as well as multiple surgical procedures she underwent a right transmetatarsal amputation in <num> and subsequently underwent a right femorla distal saphenous vein bypass graft in <num> which was later revised in <num>. she seems to be doing well with the left side until july of this year , at which time she underwent a left superficial femoral artery to anterior tibial artery bypass using non-reversed basilic vein harvested from the right arm she , however , had a large great toe ulcer , possibly attributed to hammertoe , which subsequently underwent a left great toe amputation performed on the <num> of october . after this time , she was discharged to the nut hospital in amore pu , where she was making progress in physical therapy and rehabilitation on the day prior to admission , she was exercising with <num> pound weights on her legs with the physical therapist when she described a cool sensation in her foot she reported that her foot had been blue , and there were no dopplerable pulses color later returned the absence of pulses persisted over the course of the night , after which point she was referred back to largrine medical center for evaluation she denies any significant pain or any other complications past medical history remarkable for history of insulin-dependent diabetes , history of coronary artery disease , history of hypertension , cataracts , mrsa from her toe wound on the <num> of september past surgical history notable for the above , as well as debridements of her toe amputation wound site admission medications \u001b[42mCOLACE\u001b[49m <num> mg bid , \u001b[42mINSULIN\u001b[49m \u001b[42mLENTE\u001b[49m <num> units subcu q pm supplemented by sliding scale \u001b[43mREGULAR\u001b[49m \u001b[42mINSULIN\u001b[49m scale , \u001b[42mISORDIL\u001b[49m <num> mg tid , \u001b[42mZESTRIL\u001b[49m <num> mg q d , \u001b[42mLOPRESSOR\u001b[49m <num> mg bid , \u001b[42mAXID\u001b[49m <num> mg bid , \u001b[42mOFLOXACIN\u001b[49m <num> mg po q <num> , \u001b[42mECOTRIN\u001b[49m <num> mg q d , \u001b[42mVANCOMYCIN\u001b[49m <num> mg q <num>. she reports an allergy to \u001b[43mCODEINE\u001b[49m and iodine admission examination remarkable for the following findings she was afebrile , heart rate <num> , blood pressure <num>/<num>. her right lower extremity was characterized by a well-healed transmetatarsal amputation site the foot was warm and pink the left side , however , was cool in comparison , although remained pink with adequate capillary refill both femoral pulses were easily palpable , as well as dorsal pedal pulse on the right her right posterior tibial pulse was additionally biphasic by doppler on the left , she had a biphasic doppler graft pulse and dorsopedal , although she had no identifiable posterior tibial pulse the remainder of the examination was unremarkable admission labs were likewise unremarkable hospital course mrs bulger was admitted and placed on intravenous \u001b[42mHEPARIN\u001b[49m until the following morning , at which time she proceeded to the angiography suite she was found to have two <num>% stenosis in a long segment of the left sfa and the left distal sfa and anterior tibial vein graft was completely thrombosed she was successfully treated with stent placement and received \u001b[42mHEPARIN\u001b[49m and \u001b[42mUROKINASE\u001b[49m in the intensive care unit overnight with a turn-over pulses of the left leg doppler the following day , her stents were removed during the remainder of the hospital course , her left foot remained pink and warm her wound had an infection of exposed bone , but otherwise appeared to be granulating well although left transmetatarsal amputation being considered , it was felt that she had a good chance of healing the wound appropriately she had a single temperature spike , although all cultures remained negative she had continuation of her \u001b[42mHEPARIN\u001b[49m while she was started on a course of \u001b[42mCOUMADIN\u001b[49m to reserve patency of her graft the remainder of the hospital course was unremarkable on the <num> of july , she was discharged back to the \u001b[43mROSE-WALT\u001b[49m hospital in coln discharge medications \u001b[42mVANCOMYCIN\u001b[49m <num> mg iv q d , \u001b[42mOFLOXACIN\u001b[49m <num> mg po bid ( both \u001b[42mANTIBIOTICS\u001b[49m to continue for an additional two week course ) , \u001b[42mCOUMADIN\u001b[49m with target inr of <num>.<num> , last target <num>.<num> , then received <num> mg in evening x <num> additionally , \u001b[42mPERCOCET\u001b[49m <num>-<num> \u001b[43mTABLETS\u001b[49m po q <num> prn , \u001b[42mCOLACE\u001b[49m <num> mg po bid , \u001b[42mINSULIN\u001b[49m \u001b[42mNPH\u001b[49m <num> units subcu bid , sliding scale \u001b[42mINSULIN\u001b[49m subcu q <num> , \u001b[42mISORDIL\u001b[49m <num> mg tid , \u001b[42mZESTRIL\u001b[49m <num> mg q d , \u001b[42mLOPRESSOR\u001b[49m <num> mg bid , \u001b[42mAXID\u001b[49m <num> mg po bid she will follow with dr noah in one to two weeks dictated by renaldo t dinsmore , md wr<num> attending kelley bruess , md ji<num> up<num>/<num> batch <num> index no k<num>emi<num>g<num>n d <num>/<num>/<num> t <num>/<num>/<num> [report_end] record #<num> <num> | gh | <num> | | <num> | <num>/<num>/<num> <num>:<num>:<num> am | aortic stenosis | signed | dis | admission date <num>/<num>/<num> report status signed discharge date <num>/<num>/<num> attending lesky , lonnie md service cardiac surgery service history of present illness mr serafine is a <num>-year-old gentleman who presented with increasing dyspnea on exertion and new york heart association class iii heart failure the patient also complained of fatigue over the last four years prior to admission he currently denied any angina , diaphoresis , nausea , orthopnea , pnd , presyncope or syncope the patient had been treated with serial transthoracic echocardiograms which revealed an ejection fraction worsening from <num>% down to <num>% along with aortic stenosis the patient underwent cardiac catheterization , which revealed no significant coronary artery disease and elevated left and right heart filling pressures cardiac catheterization was abandoned prematurely due to the increasing filling pressures echocardiogram was performed which revealed an ejection fraction of <num>% , aortic stenosis with a mean gradient of <num> mmhg , a peak gradient of <num> mmhg , calculated valve area of <num>.<num> cm<num> , mild mitral insufficiency , mild tricuspid insufficiency , mild left atrial enlargement , moderately hypertrophied left ventricle , global reduction in left ventricular function more in the apex of the left ventricle mildly enlarged right ventricle with preserved right ventricular function , heavily calcified trileaflet aortic valve with significant restriction and leaflet excursion , reduction left ventricular function compared to previous transthoracic echo one year prior to this present study past medical history significant for class iii heart failure with marked limitation of physical activity , diabetes mellitus insulin-dependent , dyslipidemia , cardiac arrest , status post cardiac catheterization on <num>/<num>/<num> . the patient's course was complicated by marked bradycardia requiring insertion of a temporary pacemaker via a right internal jugular and then complete heart block requiring a st jude dual chamber pacemaker and generator past surgical history significant for permanent pacemaker placement , status post cholecystectomy , history of skin cancer , and status post tonsillectomy allergies patient has no known drug allergies medications on admission \u001b[42mATENOLOL\u001b[49m <num>.<num> mg daily , \u001b[42mASPIRIN\u001b[49m <num> mg daily , \u001b[42mMETFORMIN\u001b[49m <num> mg bid , and \u001b[42mHUMALOG\u001b[49m \u001b[42mINSULIN\u001b[49m <num> units qid physical examination per physical exam , <num> feet <num> inches tall , <num> kilograms , temperature <num> , heart rate <num> and \u001b[43mREGULAR\u001b[49m , blood pressure right arm <num>/<num> , left arm <num>/<num> , oxygen saturation <num>% on room air cardiovascular \u001b[43mREGULAR\u001b[49m rate , and rhythm with <num>/<num> systolic ejection murmur peripheral vascular <num>+ pulses bilaterally throughout respiratory breath sounds clear bilaterally neurologic alert and oriented with no focal deficits , otherwise noncontributory admission labs \u001b[43mSODIUM\u001b[49m <num> , \u001b[43mPOTASSIUM\u001b[49m <num>.<num> , \u001b[43mCHLORIDE\u001b[49m of <num> , co<num> <num> , bun of <num> , creatinine <num>.<num> , glucose <num> , and \u001b[43mMAGNESIUM\u001b[49m <num>.<num>. wbc <num>.<num> , hematocrit <num> , hemoglobin <num>.<num> , platelets of <num> , <num> , pt of <num>.<num> , pt/inr of <num> , and ptt <num>.<num> hospital course mr delcour was brought to the operating room on <num>/<num>/<num> where he underwent a minimally invasive aortic valve replacement with a <num>-mm carpentier-edwards pericardial valve total bypass time was <num> minutes , total crossclamp time was <num> minutes intraoperatively , the patient was found to have a calcified trileaflet aortic valve the patient came off bypass without incident , was brought to the intensive care unit on <num> mcg of \u001b[42mEPINEPHRINE\u001b[49m and \u001b[42mINSULIN\u001b[49m and \u001b[42mPRECEDEX\u001b[49m the patient did well and was brought up in stable condition in normal sinus rhythm postoperatively , the patient was extubated and the electrophysiology service was consulted to evaluate his internal pacemaker which was reprogrammed and functioning well the patient continued to require vigorous diuresis with a \u001b[42mLASIX\u001b[49m drip he was extubated on postoperative day #<num> without incident the patient was transferred to the step-down unit on postoperative day <num>. the patient experienced some postoperative tachycardia and his \u001b[42mBETA-BLOCKER\u001b[49m was increased with good result he was also found to have a positive urinary tract infection and was started on \u001b[42mCIPROFLOXACIN\u001b[49m for a total of five days the patient at one point required <num> liters of \u001b[42mNASAL\u001b[49m \u001b[41mCANNULA\u001b[49m to get his saturations in the <num>s he did continue to require intravenous \u001b[42mLASIX\u001b[49m but had weaned \u001b[42mLASIX\u001b[49m drip and had intermittent boluses of <num> mg iv to promote diuresis with good result he was weaned off his oxygen and the patient began to ambulate and was cleared for discharge to home with visiting nurse on postoperative day #<num> discharge labs are as follows \u001b[43mSODIUM\u001b[49m <num> , \u001b[43mPOTASSIUM\u001b[49m <num>.<num> , \u001b[43mCHLORIDE\u001b[49m of <num> , co<num> of <num> , bun <num> , creatinine <num>.<num> , glucose <num> , \u001b[43mMAGNESIUM\u001b[49m <num>.<num> , wbc <num>.<num> , hematocrit <num>.<num> , hemoglobin <num>.<num> , platelets of <num> , <num> , pt <num>.<num> , pt/inr of <num>.<num> discharge medications are as follows \u001b[42mCIPROFLOXACIN\u001b[49m <num> mg q<num>h for remaining four doses , \u001b[42mBABY\u001b[49m \u001b[42mASPIRIN\u001b[49m <num> mg daily , \u001b[42mLASIX\u001b[49m <num> mg bid , for three days along with \u001b[42mPOTASSIUM\u001b[49m \u001b[42mCHLORIDE\u001b[49m \u001b[42mSLOW\u001b[49m \u001b[42mRELEASE\u001b[49m <num> meq bid for three days , \u001b[42mMOTRIN\u001b[49m <num> mg q<num>h prn pain , \u001b[42mNOVOLOG\u001b[49m <num> units subq qac , \u001b[42mLANTUS\u001b[49m <num> units subcutaneous q<num> pm , \u001b[42mTOPROL-XL\u001b[49m <num> mg daily , patient was also discharged on \u001b[42mNOVOLOG\u001b[49m sliding scale subcutaneous qac mr witucki will follow up with dr collin hyman in six weeks and his cardiologist dr louie w eilders in one week disposition he is discharged to home in stable condition with visiting nurse escription document <num>-<num> emssten tel dictated by kreiser , joaquin attending pfeiffenberge , odell dictation id <num> d <num>/<num>/<num> t <num>/<num>/<num> [report_end] record #<num> <num> | wcemc | <num> | | <num> | <num>/<num>/<num> <num>:<num>:<num> am | unstable angina | signed | dis | admission date <num>/<num>/<num> report status signed discharge date <num>/<num>/<num> chief complaint chest pain history of present illness ms dube is a <num>-year-old female status post stent to her left circumflex coronary artery three months prior to admission , with a history of non-insulin dependent diabetes mellitus , hyperlipidemia , hypertension , who presents with left jaw pain for the last several days she treated this at home with sublingual \u001b[42mNITROGLYCERIN\u001b[49m with partial relief of her pain she presented to the emergency room and had full resolution of her jaw pain with three sublingual \u001b[42mNITROGLYCERIN\u001b[49m of note , when the patient presented with a non-st elevation mi approximately three months prior , she also had left jaw pain since this pain was the patient's classic anginal pain , \u001b[42mHEPARIN\u001b[49m was started despite the fact that she had negative cardiac enzymes and no ekg changes past medical history non-insulin dependent diabetes mellitus , hypertension , hyperlipidemia , coronary artery disease status post left circumflex stent in may <num> anxiety , depression , left arm phlebitis associated with blood draws after her left circumflex stent was placed status post appendectomy , status post tubal ligation allergies no known drug allergies medications \u001b[42mGLUCOPHAGE\u001b[49m , \u001b[42mLIPITOR\u001b[49m , \u001b[42mATENOLOL\u001b[49m , \u001b[42mASPIRIN\u001b[49m , sublingual \u001b[42mNITROGLYCERIN\u001b[49m prn , \u001b[42mZESTRIL\u001b[49m , \u001b[42mCELEXA\u001b[49m , \u001b[42mKLONOPIN\u001b[49m , \u001b[42mNEURONTIN\u001b[49m social history the patient has a daughter who works for erdar y university hospitals she does not smoke nor does she drink alcohol her primary language is spanish family history positive for coronary artery disease the patient's father died of a myocardial infarction at age <num> and her mother died of a myocardial infarction at age <num> vital signs blood pressure <num>-<num>/<num>-<num> , pulse <num>-<num> , respiratory rate <num> , oxygen saturation <num>-<num>% on two liters \u001b[43mNASAL\u001b[49m cannula physical examination general well appearing middle-aged female neck jvp flat cardiovascular \u001b[43mREGULAR\u001b[49m rate and rhythm with normal s<num> and s<num>. chest clear to auscultation bilaterally abdomen soft , nontender , nondistended positive bowel sounds extremities no lower extremity edema , warm rectal the patient is guaiac negative hospital course by systems <num>. cardiovascular the patient was taken for cardiac catheterization after she was admitted her cardiac catheterization was on may , <num>. prior to her catheterization she was enrolled in the nacan cajord general hospital this was a blinded trial with permsan madiston ni hospital \u001b[43mINHIBITOR\u001b[49m in accordance with the trial , the patient was started on \u001b[42mLOVENOX\u001b[49m <num> mg per kg subcutaneously bid later that afternoon on may , <num> , she went for cardiac catheterization the cath revealed a right dominant system with no significant left main lesions , no significant left anterior descending lesions , <num>% diffuse lesion in the left circumflex artery consistent with instant restenosis of her previously placed pixel stent the right coronary artery showed a <num>% lesion during this catheterization , brachytherapy to the vessel that showed instant restenosis was attempted , however , it was aborted due to technical malfunction of the brachytherapy delivery machine the lesion was , however , dilated by balloon angioplasty after dilatation there was timi-<num> flow with <num>% residual stenosis postcath the patient did well she was maintained on \u001b[42mASPIRIN\u001b[49m , \u001b[42mZOCOR\u001b[49m , \u001b[42mLOPRESSOR\u001b[49m , \u001b[42mCAPTOPRIL\u001b[49m , \u001b[42mCELEXA\u001b[49m , \u001b[42mKLONOPIN\u001b[49m which are her home medications the morning after catheterization , the patient had recurrent chest pain which radiated to her right jaw the pain was relieved with sublingual \u001b[42mNITROGLYCERIN\u001b[49m the following day , the patient did well however , she began to develop a right groin hematoma in the afternoon on august , <num>. the hematoma was thought to be rapidly enlarging hematocrit checked at that time revealed a significant drop in blood count to <num>. the patient was transfused two units of \u001b[42mPACKED\u001b[49m \u001b[41mRED\u001b[49m \u001b[41mBLOOD\u001b[49m \u001b[41mCELLS\u001b[49m her hematoma continue to expand overnight the patient was discontinued from \u001b[42mLOVENOX\u001b[49m at that time however , she was continued on \u001b[42mASPIRIN\u001b[49m and \u001b[42mPLAVIX\u001b[49m the patient's \u001b[42mLOVENOX\u001b[49m was reversed with \u001b[41mPROTAMINE\u001b[49m over the night , the patient's hematoma continued to expand she received , the following morning on january , <num> , one unit of \u001b[41mFRESH\u001b[49m \u001b[41mFROZEN\u001b[49m \u001b[42mPLASMA\u001b[49m as well as a third unit of \u001b[42mPACKED\u001b[49m \u001b[41mRED\u001b[49m \u001b[41mBLOOD\u001b[49m \u001b[41mCELLS\u001b[49m at that point , her hematoma was marked and it was noted to be stable from that point on , no longer expanding beyond the bounds of the marks her left arm was noted at that time to also be tense with hematoma secondary to blood draws vascular surgery was consulted in the morning on january , <num> , in order to assess the right groin hematoma as well as the hematoma in the left arm due to concern for developing compartment syndrome vascular surgery saw the patient and felt that as long as the patient's hematocrit stabilized , she would not need any surgical intervention they could not find any evidence for left upper extremity compartment syndrome at that time also on the morning of january , <num> , the patient's platelets agents including both \u001b[42mPLAVIX\u001b[49m and \u001b[42mASPIRIN\u001b[49m were discontinued further family history was obtained from the patient that day which revealed history suspicious for possible bleeding disorder including the information that the patient's daughter bleeds heavily with each menstrual period , and that both the patient and her daughter have very easy bruising with history of several hematomas secondary to light trauma the patient also reported that she had heavy bleeding with childbirth that required extra hospitalization although it did not require a transfusion hematology was consulted at that point the patient was thought by hematology to have these hematomas secondary to over anticoagulation with \u001b[42mLOVENOX\u001b[49m , \u001b[42mPLAVIX\u001b[49m , \u001b[42mASPIRIN\u001b[49m and possible stonde medical center trial drug with a kenda medical center the only familial coagulation problems that were screened for based on their recommendations were von willebrand screen as well as a factor xiii screen the factor xiii screen eventually turned out normal and the von willebrand screen was pending at the time of discharge by the morning of november , <num> , the patient had received a total of five units of \u001b[42mPACKED\u001b[49m \u001b[41mRED\u001b[49m \u001b[41mBLOOD\u001b[49m \u001b[41mCELLS\u001b[49m due to blood loss secondary to this hematoma her hematoma had stabilized at that time she was restarted on \u001b[42mASPIRIN\u001b[49m on november , <num>. from that point onward , the patient did quite well and was maintained on \u001b[42mASPIRIN\u001b[49m , \u001b[42mBETA-BLOCKER\u001b[49m , \u001b[42mZOCOR\u001b[49m and \u001b[42mACE\u001b[49m \u001b[42mINHIBITOR\u001b[49m the remainder of her hospitalization was uncomplicated and after the patient had a stable hematocrit for several days without any recurrent jaw pain , she was discharged home on march , <num> neurology on november , <num> , the patient developed a headache which she described as the same as she frequently experiences at home her headaches are usually not responsive to \u001b[43mTYLENOL\u001b[49m or other analgesics given the patient's complications with hematoma and bleeding , a head ct was obtained that afternoon to rule out intracerebral hemorrhage her head ct was negative for bleeding her headache was treated with \u001b[42mTYLENOL\u001b[49m to which it did not respond and later with \u001b[42mPERCOCET\u001b[49m to which she got some relief discharge medications \u001b[42mASPIRIN\u001b[49m <num> mg po q day , \u001b[42mKLONOPIN\u001b[49m <num>.<num> mg tid , \u001b[42mGLUCOPHAGE\u001b[49m <num> mg bid , \u001b[42mCELEXA\u001b[49m <num> mg po qd , \u001b[42mZESTRIL\u001b[49m <num>.<num> mg qd , \u001b[42mATENOLOL\u001b[49m <num> mg po qd , \u001b[42mLIPITOR\u001b[49m <num> mg po qhs follow up the patient was instructed to follow up with her primary care physician , dr bazer dictated by luke drentlaw , md hj<num> attending mark wilkes , md al<num> dz<num>/<num> batch <num> index no qddy<num>i<num> d <num>/<num>/<num> t <num>/<num>/<num> [report_end] record #<num> <num> | vuh | <num> | | <num> | <num>/<num>/<num> <num>:<num>:<num> am | cellulitis | signed | dis | admission date <num>/<num>/<num> report status signed discharge date <num>/<num>/<num> attending waterfall , sammy md medical service general medicine team he drive , ville sas oaksco history of present illness mr quigg is a <num>-year-old man with history of diabetes , end-stage renal disease on hemodialysis , left charcot foot complicated by recurrent cellulitis , who presented with left lower leg swelling , erythema , and pain the patient does not recall having fevers at home , however , notes that he \"get fevers all the time\" so he feels that he may not have noticed he did report that he had a temperature to about <num> and hemodialysis prior to admission for which he received one dose of \u001b[42mVANCOMYCIN\u001b[49m he denied having any symptoms of headache , chest pain , shortness of breath , abdominal pain , joint aches or rash he did endorse feeling fatigued with little energy the patient was referred to the emergency department given his temperature of <num> at hemodialysis the patient has a long history of pain in his left foot secondary to charcot joint and chronic recurrent cellulitis including a history of mrsa cellulitis he has had numerous admissions to smc in the past year for treatment of the foot for which he received several courses of \u001b[42mANTIBIOTICS\u001b[49m he was treated from <num>/<num> through <num>/<num> with \u001b[42mANTIBIOTICS\u001b[49m posthemodialysis at the end of <num>/<num> , after returning from weekend away he had severe exacerbation of the pain in his left foot with progressive development of swelling on the bottom of his foot at this time , he had extensive evaluation including an mri of the foot and it was felt that there was no evidence of osteomyelitis his \u001b[42mANTIBIOTICS\u001b[49m were discontinued at this time and he was discharged to a nursing home for rehabilitation he remained in the nursing home from <num>/<num> through <num>/<num> and was discharged home two weeks prior to admission past medical history <num>. diabetes since the age of <num> , unclear if it is type <num> or type <num>. the patient reports that he has a history of type <num> diabetes , but also reports that he had been without \u001b[43mINSULIN\u001b[49m for three years after diagnosis he does have consequent neuropathy , retinopathy , and nephropathy <num>. end-stage renal disease on hemodialysis since <num>/<num> <num>. diabetic neuropathy in his legs bilaterally and charcot feet bilaterally <num>. history of a left foot , fourth metatarsal osteomyelitis with surgical resection of the left fourth digit <num>. retinopathy with history of retinal hemorrhage and vitrectomy <num>. hypertension x<num> years with a history of malignant hypertension with documented ophthalmologic and renal involvement <num>. gastroesophageal reflux disease <num>. hyperlipidemia <num>. recurrent lower extremity cellulitis <num>. history of chronic right foot ulcer home medications \u001b[42mCOLACE\u001b[49m <num> mg bid , \u001b[42mFOLATE\u001b[49m <num> mg po daily , \u001b[42mGEMFIBROZIL\u001b[49m <num> mg bid , \u001b[42mLANTUS\u001b[49m <num> mg subcu qpm , \u001b[42mLIPITOR\u001b[49m <num> mg nightly , \u001b[42mNEPHROCAPS\u001b[49m , \u001b[42mNEURONTIN\u001b[49m <num> mg daily , \u001b[42mPHOSLO\u001b[49m <num> mg tid , \u001b[42mPROTONIX\u001b[49m <num> mg daily , \u001b[42mRENAGEL\u001b[49m <num> mg tid , \u001b[42mREQUIP\u001b[49m <num> mg po bid , \u001b[42mCOUMADIN\u001b[49m allergies the patient has no known drug allergies family history significant for diabetes social history the patient lives with his parents and his <num>-year-old daughter physical examination on admission the patient had a temperature <num>.<num> , heart rate of <num> , a blood pressure of <num>/<num> , he was satting <num>% on room air physical exam on admission notable for a <num>/<num> systolic ejection murmur heard best at the left lower sternal border his left lower extremity was notable for <num>+ pitting edema with erythema on the anterior shin and as well as the foot it was also associated with increased warmth pertinent studies radiology cxr ( <num>/<num>/<num> ): no acute cardiopulmonary disease mri le ( <num>/<num>/<num> ): <num> cm fluid pocket in the subcutaneous tissue of the plantar aspect of the left foot demonstrating communication with the medial tendon sheaths and the ankle joint with findings worrisome for abscess and osteomyelitis of at least the medial malleolus , calcaneus , cuboid and talus labs lfts wnl alb <num>.<num> esr <num> , crp <num> \u001b[43mHEP\u001b[49m b surf ag negative , hcv ab negative ( <num>/<num>/<num> ) \u001b[43mMICRO\u001b[49m blood cx <num>/<num>/<num> , <num> growth foot aspirate ( <num>/<num>/<num> ): gram stain-<num>+ polys , no org cx without growth ankle aspirate ( <num>/<num>/<num> ): gm stain-<num>+ polys , no org cx without growth pathology from l bka ( <num>/<num>/<num> )-clean margins consults orthopedics ( dr bourgault ) , id ( dr antinoro ) , psychiatry ( dr czach ) , acute pain service hospital course by system <num> ) id-given his presentation of l lower leg swelling and erythema , mr bock was started on \u001b[42mVANCOMYCIN\u001b[49m and \u001b[42mUNASYN\u001b[49m in the emergency department an x-ray of his l foot revealed significant fragmentation and erosion of the tarsal/metatarsal bases and focal soft tissue abnormality in the plantar region concerning for abscess formation and possible osteomyelitis in the setting of known charcot arthropathy as well as diffuse soft tissue swelling extending along the calf given these findings , he was ordered for an mri with his mri pending and his l leg looking somewhat improved , his \u001b[42mUNASYN\u001b[49m was discontinued on hd <num> and he was started on \u001b[42mAUGMENTIN\u001b[49m and his \u001b[42mVANCOMYCIN\u001b[49m was continued given his history of mrsa cellulitis in the past he spiked a fever on hd <num> and again on hd <num>. on hd <num> , he had an mri under conscious \u001b[43mSEDATION\u001b[49m ( was attempted prior to this , but pt unable to tolerate ). mri revealed <num> cm fluid pocket in the subcutaneous tissue of the plantar aspect of the left foot demonstrating communication with the medial tendon sheaths and the ankle joint with findings worrisome for abscess and osteomyelitis of at least the medial malleolus , calcaneus , cuboid and talus infectious disease was consulted and he was started on iv \u001b[42mLEVOFLOXACIN\u001b[49m and iv \u001b[42mFLAGYL\u001b[49m to cover gram negatives and anaerobes respectively and his \u001b[42mVANCOMYCIN\u001b[49m continued to be dosed for level less than <num> orthopedics was consulted who performed an arthrocentesis of his ankle as well as an arthrocentesis of the fluid collection at the bottom of his foot ankle aspirate gram stain was negative , but with <num>+ polys fluid differential revealed &gt<num> , <num> wbcs in consultation with infectious disease , orthopedics , and the patient , it was decided that the best course of action would be a l below knee amputation given the extent of the infection this was performed on hd <num> by dr miears he did have fever spikes again on hd <num>-<num> and had repeat blood cultures which were negative an echocardiogram was performed on hd <num>. while he did have a tiny focal thickening of the aortic cusp , this was reviewed with cardiology and infectious disease and was not though to represent a vegetation he was afebrile x &gt<num> hours prior to discharge his surgical pathology returned with clean margins on day of discharge , and as per id consult service , he does not need further \u001b[43mANTIBIOTICS\u001b[49m he should have dry sterile dressing changes to his residual limb daily he may need an extra dose of \u001b[41mPAIN\u001b[49m \u001b[42mMEDICATION\u001b[49m prior to this if there is any evidence of erythema or drainage , dr fuller 's office should be contacted at <num>-<num>-<num> <num> ) renal-mr merriweather was on the renal service and had hemodialysis <num> times a week ( \u001b[43mM/W/F\u001b[49m ) without complication of note , he is awaiting kidney transplant from his sister and is followed by dr felix zelle at nnh <num> ) heme-mr vaeth was on \u001b[42mCOUMADIN\u001b[49m as an outpatient we obtained his hospital records from nuom and a vascular study from <num>/<num> showed evidence of a dvt in the l internal jugular vein from <num>/<num> the details surrounding this dvt are not documented , however mr tirona reports that his vascular surgeon told him that he should remain on \u001b[42mCOUMADIN\u001b[49m his \u001b[42mCOUMADIN\u001b[49m was held prior to going to the or and he was placed on a \u001b[42mHEPARIN\u001b[49m drip his \u001b[42mCOUMADIN\u001b[49m was restarted after his bka and he was bridged with \u001b[42mHEPARIN\u001b[49m with a goal ptt of <num>-<num>. prior to discharge , he ptt was <num> and his \u001b[42mHEPARIN\u001b[49m drip was decreased from <num> to <num>units per hours he should have a repeat ptt checked on transfer to his acute rehabilitation center with goal ptt <num>-<num>. inr on day of discharge was <num>.<num> , <num>.<num> day prior to discharge his \u001b[42mHEPARIN\u001b[49m drip can be discontinued once his inr is \u001b[43mTHERAPEUTIC\u001b[49m with goal of <num>-<num> his inr will need to be followed every <num>-<num> days until stable off of \u001b[42mLEVOFLOXACIN\u001b[49m <num> ) cv ischemia-mr grana was on \u001b[42mGEMFIBROZIL\u001b[49m <num>mg bid and \u001b[42mLIPITOR\u001b[49m <num>mg as an outpatient his lipid panel was checked tc <num> , tg <num> , ldl <num> , hdl <num>. given that his ldl was <num> and the risk of rhabdomylosis on high dose \u001b[42mGEMFIBROZIL\u001b[49m and \u001b[42mLIPITOR\u001b[49m , his \u001b[42mLIPITOR\u001b[49m was decreased to <num>mg he should have a repeat lipid panel in <num>-<num> weeks he was also started on low dose \u001b[42mB-BLOCKER\u001b[49m to reduce perioperative mi risk prior to his surgery he reported that he is not on \u001b[43mASPIRIN\u001b[49m given that he has had b/l vitrectomies and his doctor felt that the risk of bleeding was too high this can be readdressed as an outpatient pump-pt had elevated systolic blood pressures to the <num>s in the beginning of his stay he was started on \u001b[42mLISINOPRIL\u001b[49m which was uptitrated to <num>mg and also \u001b[42mLOPRESSOR\u001b[49m rhtyhm-he had no evidence of arrythmias <num> ) endocrine-mr rovella has dm which was diagnosed at age <num>. it is unclear if he has type i or ii as he reported that he was told he has type i , but had a three year stint after diagnosis where he was not on \u001b[43mINSULIN\u001b[49m his fs on admission were elevated , likely secondary to his infection and his \u001b[42mLANTUS\u001b[49m was uptitrated he was also started on \u001b[43mPRANDIAL\u001b[49m coverage prior to discharge , he was his home dose of \u001b[42mLANTUS\u001b[49m as well as \u001b[42mASPART\u001b[49m with meals he reported that he already has an outpatient endocrinologist with whom he will follow up an hga<num>c was <num>.<num> <num> ) pain-mr vanhee had significant post operative pain which seemed to be mostly phantom limb pain the acute pain service was consulted and he was initially placed on a \u001b[42mKETAMINE\u001b[49m drip and \u001b[42mFENTANYL\u001b[49m \u001b[42mPCA\u001b[49m his \u001b[42mFENTANYL\u001b[49m \u001b[42mPCA\u001b[49m and \u001b[42mKETAMINE\u001b[49m drip were discontinued and he was started on \u001b[42mOXYCONTIN\u001b[49m <num>mg tid with \u001b[42mOXYCODONE\u001b[49m for breakthrough pain he was also started on \u001b[42mLYRICA\u001b[49m for neuropathic pain he was comfortable prior to discharge on this current \u001b[43mREGIMEN\u001b[49m as his pain improves , he pain \u001b[43mREGIMEN\u001b[49m should be decreased <num> ) psychiatry-after learning that he would likely receive a transplant from his sister , mr potvin reports that he has had significant anxiety prior to going for dialysis psychiatry service was consulted who recommended low dose \u001b[42mATIVAN\u001b[49m prior to him going to dialysis discharge exam gen pleasant , well appearing gentleman , in nad vs tmax <num>.<num> tc <num>.<num> bp <num>-<num> /<num>-<num> p <num>-<num> r <num> <num>% on ra pulm cta bilaterally , no rales/wheezes cv rrr , ii/vi sem at lsb , normal s<num>/s<num> abd obese , soft , nt , nabs , no hsm ext l residual limb with dressing that is clean/dry/intact labs on day of discharge ( prior to dialysis ) na <num> , k <num>.<num> , cr <num>.<num> , wbc <num>.<num> , hct <num>.<num> , inr <num>.<num> , ptt <num> to do -dry sterile dressing changes to l residual limb daily if evidence of erythema , drainage , please contact dr mcclain ???s office at <num>-<num>-<num> -check ptt on admission to rehabilitation with goal ptt <num>-<num>; can d/c \u001b[42mHEPARIN\u001b[49m once inr \u001b[43mTHERAPEUTIC\u001b[49m at <num>-<num> -daily inr until stable at goal <num>-<num> off of \u001b[42mLEVOFLOXACIN\u001b[49m will likely need to titrate \u001b[42mCOUMADIN\u001b[49m -monitor fs and adjust dm \u001b[43mREGIMEN\u001b[49m as needed -monitor pain scale and decrease \u001b[41mPAIN\u001b[49m \u001b[41mMEDICATIONS\u001b[49m as pain improves -hemodialysis \u001b[43mM/W/F\u001b[49m follow up -dr carpino voice message was left on his medical assistant???s voice mail at <num>-<num>-<num> to contact pt???s parents to arrange follow up appt in <num>-<num> days for wound check -dr lynes <num>/<num>/<num> at <num>:<num>am escription document <num>-<num> cssten tel dictated by agtarap , guadalupe attending carmin , marlin dictation id <num> d <num>/<num>/<num> t <num>/<num>/<num> [report_end] record #<num> <num> | zmc | <num> | | <num> | <num>/<num>/<num> <num>:<num>:<num> am | congestive heart failure | signed | dis | admission date <num>/<num>/<num> report status signed discharge date <num>/<num>/<num> principal diagnosis <num>. congestive heart failure <num>. atrial flutter significant problems <num>. hypertension <num>. non-insulin dependent diabetes mellitus <num>. hypercholesterolemia <num>. hypothyroidism <num>. ischemic cardiomyopathy <num>. status post cardioversion to sinus rhythm history of present illness mr zack nieman is a <num>-year-old white man with ischemic cardiomyopathy , status post coronary artery bypass graft in <num> with left internal mammary artery to left anterior descending , saphenous vein graft to posterior descending artery , saphenous vein graft to obtuse marginal branch he had a repeat coronary artery bypass graft done in <num> with saphenous vein graft to first diagonal , saphenous vein graft to obtuse marginal , and saphenous vein graft to posterior descending artery the course was complicated by ventricular tachycardia requiring aicd placement and treatment with \u001b[42mAMIODARONE\u001b[49m the patient also developed hyperthyroidism secondary to \u001b[42mAMIODARONE\u001b[49m , treated with \u001b[41mPTU\u001b[49m , then developed hypothyroidism , treated with \u001b[42mLEVOTHYROXINE\u001b[49m over the past few months the patient has had multiple episodes of pulmonary congestion about one week ago prior to this admission the patient was admitted to rorea valley health for iv diuresis echocardiography demonstrated that a reduced lv ejection fraction in the mid <num>'s with moderate mitral regurgitation recent ekgs provided by the scot free of hospital and on admission here shows atrial flutter with variable ventricular rate on admission the patient denied peripheral edema , orthopnea , or recent gain in weight a recent tsh revealed <num>. no recent excess \u001b[43mCAFFEINE\u001b[49m or alcohol consumption past medical history significant for ( <num> ) coronary artery disease , status post coronary artery bypass graft times two ( <num> ) hypertension ( <num> ) hypothyroidism ( <num> ) dyslipidemia ( <num> ) benign prostatic hypertrophy ( <num> ) degenerative joint disease ( <num> ) non-insulin dependent diabetes mellitus allergies the patient has a known allergy to \u001b[43mMORPHINE\u001b[49m and to tetanus toxoid family history father died of myocardial infarction at age <num> mother died of myocardial infarction at age <num> social history no tobacco use no alcohol use very active athletically he works as a superintendant physical examination general appearance , very pleasant man in no apparent distress temperature <num>.<num> , pulse <num> , blood pressure <num>/<num> , respirations <num> , o<num> saturation <num>% on two liters heent pupils are equal , round , and reactive to light sclerae anicteric oral pharynx clear and moist jugular venous pressure about <num>-<num> cm no carotid bruits chest clear to auscultation and percussion no rales and no wheezes heart paradoxical s<num> , ii/vi systolic murmur abdomen soft , nontender , with no pulsatile masses lower extremities no edema , no cyanosis , or clubbing rectal examination normal , guaiac negative neurological examination grossly intact admission laboratory studies \u001b[43mSODIUM\u001b[49m <num> , \u001b[43mPOTASSIUM\u001b[49m <num>.<num> , \u001b[43mCHLORIDE\u001b[49m <num> , bicarb <num> , bun <num> , creatinine <num>.<num> , glucose <num> , ast <num> , alk <num> , total bilirubin <num>.<num> , \u001b[43mCALCIUM\u001b[49m <num>.<num> , total protein <num>.<num> , albumin <num>.<num> , \u001b[43mMAGNESIUM\u001b[49m <num>.<num> , ck <num> , mb <num>.<num> , pt <num>.<num> , inr <num>.<num> , ptt <num>.<num>. urinalysis <num>+ glucose , otherwise negative ekg revealed atrial flutter with variable block ( <num>:<num> versus <num>:<num> ) , rate around <num> , left bundle branche block echocardiogram revealed ejection fraction about <num>% with <num>+ mitral regurgitation hospital course the patient's hospital course was notable for the following upon transfer from nes hospital to a hospital the patient had no complaints of shortness of breath or chest pain however , the patient was having atrial flutter with various blocks the ventricular response at that time was between <num>-<num>. on the day of admission the patient also had echocardiogram repeated which revealed ejection fraction <num>% with <num>+ mitral regurgitation because of his rapid ventricular response , \u001b[42mDIGOXIN\u001b[49m was started with a loading dose of <num>.<num> mg , then <num>.<num> mg times two q six hours the patient was then on a maintenance dose of \u001b[42mDIGOXIN\u001b[49m at <num>.<num> mg po q day , and his \u001b[42mDIGOXIN\u001b[49m level has been maintained around <num>.<num>. for his rate control , the \u001b[42mAMIODARONE\u001b[49m was also increased to <num> mg q day , and the patient was started on anticoagulation with \u001b[42mHEPARIN\u001b[49m on november the patient underwent cardiac catheterization which revealed old grafts serving the left anterior descending , posterior descending artery , obtuse marginal , patent the saphenous vein graft to first diagonal has <num>% proximal stenosis left ventricular ejection fraction estimated at <num>-<num>%. post catheterization the patient had no complications the patient also had a tee done which showed no thrombosis therefore on july the patient underwent cardioversion through his aicd by the electrophysiological service with successful conversion to normal sinus rhythm the patient was loaded with \u001b[42mCOUMADIN\u001b[49m and meanwhile on \u001b[42mHEPARIN\u001b[49m until inr between <num>-<num> for further investigation of his cardiomyopathy , \u001b[43mIRON\u001b[49m studies were sent to rule out hemochromatosis the results were negative cardiomyopathy consult was also obtained to follow-up the patient the patient will be discharged when his inr approaches the \u001b[43mTHERAPEUTIC\u001b[49m level , which is between <num>-<num> discharge medications \u001b[42mAMIODARONE\u001b[49m <num> mg po qd , \u001b[42mCAPTOPRIL\u001b[49m <num> mg po tid , \u001b[42mCLONAZEPAM\u001b[49m <num> mg po q hs , \u001b[42mKLONOPIN\u001b[49m <num>.<num> mg po q am , \u001b[42mDIGOXIN\u001b[49m <num>.<num> mg po qd , \u001b[42mLASIX\u001b[49m <num> mg po bid , \u001b[42mGLIPIZIDE\u001b[49m <num> mg po qd , \u001b[42mLEVOTHYROXINE\u001b[49m \u001b[42mSODIUM\u001b[49m <num> mcg po qd , \u001b[42mMAGNESIUM\u001b[49m \u001b[42mOXIDE\u001b[49m <num> mg po qd , \u001b[42mLOPRESSOR\u001b[49m <num> mg po bid , \u001b[42mNITROGLYCERIN\u001b[49m \u001b[41m<NUM>/<NUM>\u001b[49m \u001b[41m(\u001b[49m \u001b[41m<NUM>.<NUM>\u001b[49m \u001b[41mMG\u001b[49m \u001b[41m)\u001b[49m one tab sublingual q five minutes times three , \u001b[42mCOUMADIN\u001b[49m <num> mg po q day until inr between <num>-<num> then the dose needs to be adjusted accordingly to maintain inr between <num>-<num> , \u001b[42mSIMVASTATIN\u001b[49m <num> mg po q hs , \u001b[42mISOSORBIDE\u001b[49m , \u001b[41mMONONITRATE-SR\u001b[49m <num> mg po qd , and \u001b[41mTROGLIPAZONE\u001b[49m <num> mg po q day condition upon discharge stable disposition/follow-up the patient will be discharged to home on <num> of august with a follow-up appointment with dr furbeck , rudy lonny napoleon d of the cardiomyopathy service dictated by bradley wrobliski , md attending tyson c accomando , md le<num> ka<num>/<num> batch <num> index no glfc<num>z d <num>/<num>/<num> t <num>/<num>/<num> [report_end] record #<num> <num> | s | <num> | | <num> | <num>/<num>/<num> <num>:<num>:<num> am | altered mental status | unsigned | dis | admission date <num>/<num>/<num> report status unsigned discharge date <num>/<num>/<num> attending tuxhorn , levi md addendum hospital course neuro starting on <num>/<num>/<num> the patient had an episode of agitation on hemodialysis where he received \u001b[42mATIVAN\u001b[49m and continued to be agitated and required multiple code greys to sedate him a team meeting was held on <num>/<num>/<num> and per psychiatry recommendations the patient was started on <num> mg bid of \u001b[42mDEPAKOTE\u001b[49m , \u001b[42mHALDOL\u001b[49m was reduced to just monday-wednesday-friday <num> mg before hemodialysis and <num> mg prn agitation the patient did very well on this \u001b[43mREGIMEN\u001b[49m and his \u001b[42mDEPAKOTE\u001b[49m level was stable at <num>.<num> on discharge the plan is to continue \u001b[42mDEPAKOTE\u001b[49m bid <num> mg with \u001b[42mHALDOL\u001b[49m prn for behavior in terms of his mental status on discharge , the patient was a&ampo x<num> and appropriate in terms of cardiac , there were no additional events to report in terms of pulmonary , the patient was diagnosed with pneumonia on <num>/<num>/<num> and started on \u001b[42mCEFTRIAXONE\u001b[49m iv and \u001b[42mFLAGYL\u001b[49m this was changed to \u001b[42mCEFPODOXIME\u001b[49m and \u001b[42mFLAGYL\u001b[49m for discharge in terms of his pneumonia that was evident right lower lobe pneumonia on chest x-ray and the patient was also spiking fevers and had audible rales on exam in terms of gi , the patient continued tolerate \u001b[43mREGULAR\u001b[49m diet and nutrition continued to follow ensuring adequate po intake and adjusting diet per endocrine needs in terms of endocrine , the addendum to <num>/<num>/<num> , the patient ultimately discontinued on a \u001b[43mREGIMEN\u001b[49m of <num> units of \u001b[42mLANTUS\u001b[49m qam and qpm with <num> units \u001b[42mASPART\u001b[49m qac breakfast and lunch and <num> units of \u001b[42mASPART\u001b[49m qac dinner his sliding scale was very light and he is only to be covered with one to two units of \u001b[42mASPART\u001b[49m during the night as \u001b[42mINSULIN\u001b[49m stacks in this patient very easily it was recommended if the patient is noted to be in the low <num>s consistently through the course of the day that his next dose of \u001b[42mASPART\u001b[49m be either halved or held as the patient easily becomes hypoglycemic and is unable to recognize the symptoms of hypoglycemia himself at the time of discharge , the patient's fingersticks were well controlled in the <num>-<num> range in terms of id , the patient began to spike fevers on <num>/<num>/<num> with a t max of <num>.<num> and blood cultures failed to show anything as did sputum cultures on <num>/<num>/<num> , the patient spiked to <num>.<num> and had evidence of pneumonia on his chest x-ray he was started on \u001b[42mANTIBIOTICS\u001b[49m of \u001b[42mCEFTRIAXONE\u001b[49m and \u001b[43mFLAGYL\u001b[49m , which was switched to \u001b[42mCEFPODOXIME\u001b[49m and \u001b[42mFLAGYL\u001b[49m for discharge the \u001b[42mCEFPODOXIME\u001b[49m should be dosed after dialysis on monday-wednesday-friday in terms of disposition , the patient has been discharged to rehab where he will continue hemodialysis on monday-wednesday-friday and continues to have the same \u001b[43mMEDICATION\u001b[49m \u001b[43mRX\u001b[49m as he did well in house specific care should be given to his \u001b[42mINSULIN\u001b[49m \u001b[43mREGIMEN\u001b[49m as well as his behavior control and nutrition as noted in the discharge instructions again please cc dr donte tasker , dr byron hague , dr bolin on this discharge summary addendum to medications on discharge \u001b[42mPHOSLO\u001b[49m <num> mg po tid , \u001b[42mDEPAKOTE\u001b[49m <num> mg po bid , \u001b[42mFOLATE\u001b[49m <num> mg po daily , \u001b[42mHALDOL\u001b[49m <num> mg iv on monday-wednesday-friday given prior to hemodialysis , \u001b[42mLABETALOL\u001b[49m <num> mg po bid , \u001b[42mLISINOPRIL\u001b[49m <num> mg po daily , \u001b[42mFLAGYL\u001b[49m <num> mg po tid for <num> days , \u001b[42mTHIAMINE\u001b[49m <num> mg po daily , \u001b[42mNORVASC\u001b[49m <num> mg po daily , \u001b[42mGABAPENTIN\u001b[49m <num> mg po qhs , \u001b[42mCEFPODOXIME\u001b[49m <num> mg po three times a week on monday-wednesday-friday for eight doses given after hemodialysis , \u001b[42mNEPHROCAPS\u001b[49m one tablet po daily , \u001b[42mSEVELAMER\u001b[49m <num> mg po tid , \u001b[42mADVAIR\u001b[49m \u001b[42mDISKUS\u001b[49m \u001b[41m<NUM>/<NUM>\u001b[49m one puff bid , \u001b[42mNEXIUM\u001b[49m <num> mg po daily , \u001b[42mLANTUS\u001b[49m <num> units subcutaneous bid once in the morning and once evening , \u001b[42mASPART\u001b[49m <num> units subcutaneous before dinner and <num> units subcutaneous before breakfast and <num> units subcutaneous before lunch , \u001b[42mASPART\u001b[49m sliding scale starting at blood sugar less than <num> give <num> units , blood sugar <num>-<num> give <num> units , blood sugar <num>-<num> give <num> unit , blood sugar <num>-<num> give <num> units , blood sugar <num>-<num> give <num> units , \u001b[42mALBUTEROL\u001b[49m \u001b[42mBUTT\u001b[49m \u001b[42mPASTE\u001b[49m topical daily , and then prn \u001b[42mTYLENOL\u001b[49m <num> mg prn pain , headache , or temperature , \u001b[42mALBUTEROL\u001b[49m \u001b[42mINHALER\u001b[49m prn wheezing , \u001b[42mHALDOL\u001b[49m <num> mg iv q <num>h prn agitation if more than three doses given in a day please check qtc on the ekg \u001b[42mLOPERAMIDE\u001b[49m <num> mg po q <num>h prn diarrhea escription document <num>-<num> emssten tel cc rickie botros md ston snahsi cord cc reuben willett md reidettefirm stook memorial medical center tamp cc freeman hoskie md landter rock haysna dictated by spirer , sanford attending gravett , jacques dictation id <num> d <num>/<num>/<num> t <num>/<num>/<num> [report_end] record #<num> <num> | nmh | <num> | | <num> | <num>/<num>/<num> <num>:<num>:<num> am | unstable angina , r/o myocardial infarction | signed | dis | admission date <num>/<num>/<num> report status signed discharge date <num>/<num>/<num> admission diagnosis chest pain of unclear etiology history of the present illness ms veltin is a <num> year old woman with a past medical history significant for coronary artery disease , diabetes , and hypertension who presented with worsening chest pain and shortness of breath she had a long history of coronary artery disease with an exercise stress test in <num> that was positive for ischemic st-t wave changes she had a catheterization at that time which revealed diffuse three vessel disease , none of which was significant in <num> , she developed a left bundle branch on her ekg but it was not clear when exactly this happened she stated that for the past year , she got these stabbing pains in the center of her chest that then progressed to a squeezing pain with palpitations sometimes , there was relation to exertion but no relation to meals or position and this chest pain had been increasing in frequency over the past two to three weeks so now it occurred approximately two to three times a week and was associated with shortness of breath two days prior to admission , she developed constant chest pain that went to her left arm and made four of her left fingers numb she was quite short of breath though she denied paroxysmal nocturnal dyspnea , orthopnea , lower extremity edema , increased nocturia , and diet or \u001b[43mMEDICATION\u001b[49m noncompliance past medical history significant also for diabetes for which she took \u001b[42mINSULIN\u001b[49m and checked her sugars at home which ran <num> range to <num> range , hypertension , and she had idiopathic drop attacks she got these episodes where her legs fell out from under her without warning but she did not lose consciousness she had had an mri/mra that showed some diffuse small vessel disease but the mra was normal current medications \u001b[42mATENOLOL\u001b[49m <num> bid , \u001b[42mHYDROCHLOROTHIAZIDE\u001b[49m <num> qd , \u001b[42mLISINOPRIL\u001b[49m <num> qd , \u001b[42mSIMVASTATIN\u001b[49m <num> qd , \u001b[42mMETFORMIN\u001b[49m <num> qd , and \u001b[42mNPH\u001b[49m <num> qam and <num> qpm allergies penicillin caused a rash and intravenous contrast dye caused hives social history she was a retired nurses' aide who retired in <num> , she was a widow , and she had two living children who were grown she lived alone and took care of her eight year old great-grandson but had a daughter and son-in-law who lived next door physical examination on admission , significant for an elderly obese african-american woman lying in bed in some mild respiratory distress her oropharynx was moist , her jugular venous pressure was <num> cm , her lungs had scattered crackles at the bases , her heart was \u001b[43mREGULAR\u001b[49m with an s<num> , her belly was soft and nontender , her extremities had trace edema , and her rectal examination showed guaiac negative brown stool laboratory examination her ekg showed a left bundle branch block and chest x-ray showed mild pulmonary edema and kerley b lines her laboratories on admission were all within normal limits her initial ck was <num> with troponin of <num>.<num> assessment in summary , this is a <num> year old woman with multiple cardiac risk factors who presented with chest pain of unclear etiology she was admitted for evaluation hospital course <num>. cardiovascular - she was admitted for catheterization which showed three vessel disease , again nonsignificant and not changed from the catheterization in <num>. she ruled out for a myocardial infarction she had an echo which showed some element of diastolic dysfunction and pulmonary artery systolic pressure of <num> plus ra but no wall motion abnormalities it was felt that she had some element of diastolic dysfunction that caused her to go into a bit of pulmonary edema , maybe subendocardial ischemia therefore , while she was maintained on her \u001b[42mASPIRIN\u001b[49m and \u001b[42mSIMVASTATIN\u001b[49m , her blood pressure \u001b[43mREGIMEN\u001b[49m was advanced her heart rate was in the fifties to sixties and \u001b[42mATENOLOL\u001b[49m <num> bid was added she was on a maximum of \u001b[42mLISINOPRIL\u001b[49m at <num> milligrams so \u001b[42mNIFEDIPINE\u001b[49m \u001b[42mEXTENDED\u001b[49m \u001b[42mRELEASE\u001b[49m was added and titrated up to <num> milligrams qd where she maintained systolic blood pressures in the <num> range nevertheless this could be further titrated as an outpatient <num>. for her congestive heart failure , she diuresed approximately four liters through admission with \u001b[42mLASIX\u001b[49m at <num> intravenously and would be discharged on a seven day course of \u001b[42mLASIX\u001b[49m at <num> po qd for further diuresis <num>. pulmonary - she did have hypoxia on admission to <num>% on room air while lying in bed this was felt to be out of proportion to her mild congestive heart failure and further causes were sought her d-dymer was greater than <num> and she then went for a v/q scan which was low probability her lower extremity noninvasives were negative she also had a chest ct which showed no interstitial lung disease she had pulmonary function tests which were consistent with restrictive picture and were not much changed from her pulmonary function tests in <num>. a pulmonary consultation was obtained who believed that the congestive heart failure along with obesity underlying restrictive lung disease could be the cause of her hypoxia and , in fact , after further diuresis , her shortness of breath much improved and she had o<num> saturations that were <num>% on room air <num>. endocrine - she was maintained on \u001b[42mMETFORMIN\u001b[49m during admission and also on half of her dose of her normal dose of \u001b[42mNPH\u001b[49m given her decreased po intake , however , given the fact that she stated that her sugars at home on her \u001b[43mREGIMEN\u001b[49m of <num> qam and <num> qpm were <num> to <num> , she was discharged on this \u001b[43mREGIMEN\u001b[49m with instructions to check her sugar and call her doctor if they were low disposition she is discharged in stable condition on march , <num>. she will follow up with dr nakajima , her primary care doctor , and in addition , with dr klang , her cardiologist discharge medications \u001b[42mATENOLOL\u001b[49m <num> bid , \u001b[42mHYDROCHLOROTHIAZIDE\u001b[49m <num> qd , \u001b[42mLISINOPRIL\u001b[49m <num> qd , \u001b[42mNIFEDIPINE\u001b[49m \u001b[42mEXTENDED\u001b[49m \u001b[42mRELEASE\u001b[49m <num> qd , \u001b[42mMETFORMIN\u001b[49m <num> qd , \u001b[42mNPH\u001b[49m <num> qam and <num> qpm , \u001b[42mSIMVASTATIN\u001b[49m <num> qd , \u001b[42mASPIRIN\u001b[49m <num> qd , and \u001b[42mLASIX\u001b[49m <num> milligrams po qd times seven days dictated by victor lietzow , md zt<num> attending cory r lorsung , md jb<num> xf<num>/<num> batch <num> index no xspa<num>l<num> d <num>/<num> t <num>/<num> [report_end] record #<num> <num> | smc | <num> | | <num> | <num>/<num>/<num> <num>:<num>:<num> am | diabetic foot | | dis | admission date <num>/<num>/<num> report status discharge date <num>/<num>/<num> ****** final discharge orders ****** santigo , bruno <num>-<num>-<num>-<num> boise service med discharge patient on <num>/<num>/<num> at <num>:<num> pm contingent upon not applicable will d/c order be used as the d/c summary yes attending fohl , bret r , md , phd code status full code disposition home discharge medications \u001b[42mGLYBURIDE\u001b[49m <num>.<num> mg po qd hold if npo \u001b[42mLISINOPRIL\u001b[49m <num> mg po qd hold if sbp&lt<num> override notice override added on <num>/<num>/<num> by coffer , clifford m , md , mph on order for \u001b[42mKCL\u001b[49m \u001b[42mIMMEDIATE\u001b[49m \u001b[42mRELEASE\u001b[49m po ( ref # <num> ) potentially serious interaction \u001b[42mLISINOPRIL\u001b[49m &amp \u001b[42mPOTASSIUM\u001b[49m \u001b[42mCHLORIDE\u001b[49m reason for override as needed \u001b[42mSARNA\u001b[49m topical tp qd instructions for bilateral lower extremity rash \u001b[42mCOUMADIN\u001b[49m \u001b[41m(\u001b[49m \u001b[42mWARFARIN\u001b[49m \u001b[42mSODIUM\u001b[49m \u001b[41m)\u001b[49m <num> mg po qpm starting routine , <num>:<num> ( standard admin time ) hold if inr&gt<num>.o food/drug interaction instruction no high vitamin-k containing foods override notice override added on <num>/<num>/<num> by bresser , carroll b , md , mph on order for \u001b[42mCIPROFLOXACIN\u001b[49m po ( ref # <num> ) potentially serious interaction \u001b[42mWARFARIN\u001b[49m &amp \u001b[42mCIPROFLOXACIN\u001b[49m \u001b[43mHCL\u001b[49m reason for override will follow inr previous override information override added on <num>/<num>/<num> by huyett , branden q , md , mph on order for \u001b[42mSIMVASTATIN\u001b[49m po ( ref # <num> ) potentially serious interaction \u001b[42mWARFARIN\u001b[49m &amp \u001b[42mSIMVASTATIN\u001b[49m reason for override pt takes at home \u001b[42mSIMVASTATIN\u001b[49m <num> mg po qhs food/drug interaction instruction avoid grapefruit unless md instructs otherwise alert overridden override added on <num>/<num>/<num> by urbancic , reggie k , md , mph potentially serious interaction \u001b[42mWARFARIN\u001b[49m &amp \u001b[42mSIMVASTATIN\u001b[49m reason for override pt takes at home \u001b[42mMICONAZOLE\u001b[49m \u001b[42mNITRATE\u001b[49m \u001b[41m<NUM>%\u001b[49m \u001b[42mPOWDER\u001b[49m topical tp bid \u001b[42mLINEZOLID\u001b[49m <num> mg po bid starting today ( <num>/<num> ) food/drug interaction instruction this order has received infectious disease approval from slocombe , brendan lamar , md number of doses required ( approximate ): <num> \u001b[42mNEXIUM\u001b[49m \u001b[41m(\u001b[49m \u001b[42mESOMEPRAZOLE\u001b[49m \u001b[41m)\u001b[49m <num> mg po qd \u001b[42mACETYLSALICYLIC\u001b[49m \u001b[42mACID\u001b[49m <num> mg po qd alert overridden override added on <num>/<num>/<num> by : potentially serious interaction \u001b[42mWARFARIN\u001b[49m &amp \u001b[42mASPIRIN\u001b[49m reason for override ok diet no restrictions activity resume \u001b[43mREGULAR\u001b[49m exercise follow up appointment( s ): vasc ular surgery , pcp , arrange inr to be drawn on <num>/<num>/<num> with f/u inr's to be drawn every <num> days inr's will be followed by pcp no known allergies admit diagnosis diabetic foot principal discharge diagnosis ;responsible after study for causing admission ) diabetic foot other diagnosisconditions , infections , complications , affecting treatment/stay diabetes ( diabetes mellitus ) htn ( hypertension ) edema ( peripheral edema ) obesity ( obesity ) recurrent cellulitis ( cellulitis ) mitral prolapse ( mitral valve prolapse ) uti ( urinary tract infection ) atopic dermatitis ( dermatitis ) operations and procedures debridement of r foot other treatments/procedures ( not in or ) foot xray brief resume of hospital course id <num> yo female --- cc rle ulceration/redness/pain --- dx diabetic foot ulcer --- hpi <num> yo female with dmii , pvd , chronic af now with ddi pacer on \u001b[42mCOUMADIN\u001b[49m who has had history of recurrent le ulcerations and infections she had the left foot amputated <num>/<num> and has been considering amputation of the right pt was admitted on <num>/<num> for cellulitis and r foot ulcer she was treated with iv \u001b[42mUNASYN\u001b[49m for <num> days and switched to \u001b[42mLINEZOLID\u001b[49m as out pt med while in house pt was seen by ortho and id on <num>/<num> pt saw dermatologist and ulcer was found to extend to bone and left foot appeared cyanotic- worrisome for vascular compromise pt was sent to the hosp for further management --- status vs t<num>.<num> hr<num> bp<num>/<num> rr <num> sao<num>:<num>%ra gen nad neck no jvd chest cta bilaterally cv rrr s<num> , s<num> <num>/<num> sem at base , no gallop abd soft , nt , nd , bowel sounds present ext left foot amputated , r with charcot joint/hindfoot varus , erthema , draining ulcer fifth metatarcel , edema --- events seen by vascular surg in ed- left foot not cyanotic <num>/<num> admitted to medicine --- tests/procedures <num>/<num> - rle plain films - neg for osteomyelitis --- consults <num>/<num> id <num>/<num> ortho - followed by dr smithhisler --- problem list --- <num>. ) rle ulcer - diabetic foot ulcer with ? osteo pt started on \u001b[42mVANC\u001b[49m and \u001b[42mCIPRO\u001b[49m bone scan and plain films from prior hospitalzations were neg will await new plain film result ortho and id were consulted id recommended d/c \u001b[42mVANC\u001b[49m and \u001b[42mLEVO\u001b[49m and starting \u001b[42mLINEZOLID\u001b[49m ortho debrided wound and could not probe to bone --- <num>. ) lle cyanosis seen by vascular , no emergent intervention required pt to be seen by out pt vascular surgeon on <num>/<num>/<num> , will deffer for further testing --- <num>. ) elevated cr baseline will \u001b[43mHYDRATE\u001b[49m --- <num>. ) dmii - on \u001b[42mGLYBURIDE\u001b[49m , \u001b[41mADA\u001b[49m diet , \u001b[43mRISS\u001b[49m --- <num>. ) af/sss - has ddi ppm in and is on \u001b[42mCOUMADIN\u001b[49m --- <num>. ) ckd - likely secondary to dm - at baseline --- <num>. ) full code additional comments pls follow up with your vascular surgeon- dr vais on <num>/<num>/<num> pls follow up with your orthopedic surgeon pls follow up with your pcp pls continue daily wet to dry wound changes pls take \u001b[42mANTIBIOTICS\u001b[49m as prescribed discharge condition stable to do/plan abx- \u001b[42mLINEZOLID\u001b[49m for <num> wks inr check on <num>/<num>/<num> follow up appointments with ortho , vascular and pcp no dictated summary entered by carmony , porter l , md ( gd<num> ) <num>/<num>/<num> @ <num>:<num> pm ****** end of discharge orders ****** [report_end] record #<num> <num> | fc | <num> | | <num> | <num>/<num>/<num> <num>:<num>:<num> am | mechanical fall | | dis | admission date <num>/<num>/<num> report status discharge date <num>/<num>/<num> ****** final discharge orders ****** bogus , archie <num>-<num>-<num>-<num> pend in service med discharge patient on <num>/<num>/<num> at <num>:<num> pm contingent upon not applicable will d/c order be used as the d/c summary yes attending malsch , kenny rickie , md code status full code disposition home w/ services discharge medications \u001b[42mAMIODARONE\u001b[49m <num> mg po daily \u001b[42mNORVASC\u001b[49m \u001b[41m(\u001b[49m \u001b[42mAMLODIPINE\u001b[49m \u001b[41m)\u001b[49m <num> mg po daily hold if sbp&lt<num> food/drug interaction instruction avoid grapefruit unless md instructs otherwise \u001b[42mTEARS\u001b[49m \u001b[42mNATURALE\u001b[49m \u001b[41m(\u001b[49m \u001b[42mARTIFICIAL\u001b[49m \u001b[42mTEARS\u001b[49m \u001b[41m)\u001b[49m <num> drop ou tid \u001b[42mCOLACE\u001b[49m \u001b[41m(\u001b[49m \u001b[42mDOCUSATE\u001b[49m \u001b[42mSODIUM\u001b[49m \u001b[41m)\u001b[49m <num> mg po bid \u001b[42mNEXIUM\u001b[49m \u001b[41m(\u001b[49m \u001b[42mESOMEPRAZOLE\u001b[49m \u001b[41m)\u001b[49m <num> mg po daily \u001b[42mLASIX\u001b[49m \u001b[41m(\u001b[49m \u001b[42mFUROSEMIDE\u001b[49m \u001b[41m)\u001b[49m <num> mg po daily alert overridden override added on <num>/<num>/<num> by prioletti , scot gary , md on order for \u001b[42mLASIX\u001b[49m po ( ref # <num> ) pt has a possible allergy to sulfa reaction is unknown reason for override at home \u001b[42mNEURONTIN\u001b[49m \u001b[41m(\u001b[49m \u001b[42mGABAPENTIN\u001b[49m \u001b[41m)\u001b[49m <num> mg po tid \u001b[42mGLIPIZIDE\u001b[49m <num>.<num> mg po daily alert overridden override added on <num>/<num>/<num> by rashed , tad gregg , md on order for \u001b[42mGLIPIZIDE\u001b[49m po ( ref # <num> ) pt has a possible allergy to sulfa reaction is unknown reason for override at home previous alert overridden override added on <num>/<num>/<num> by belles , dominic ned , md on order for \u001b[42mMICRONASE\u001b[49m po ( ref # <num> ) pt has a possible allergy to sulfa reaction is unknown reason for override at home \u001b[42mPLAQUENIL\u001b[49m \u001b[42mSULFATE\u001b[49m \u001b[41m(\u001b[49m \u001b[42mHYDROXYCHLOROQUINE\u001b[49m \u001b[41m)\u001b[49m <num> mg po bid food/drug interaction instruction take with food \u001b[42mISORDIL\u001b[49m \u001b[41m(\u001b[49m \u001b[42mISOSORBIDE\u001b[49m \u001b[42mDINITRATE\u001b[49m \u001b[41m)\u001b[49m <num> mg po tid hold if sbp&lt<num> \u001b[42mLISINOPRIL\u001b[49m <num> mg po daily hold if sbp&lt<num> alert overridden override added on <num>/<num>/<num> by clifford , guy chet , md potentially serious interaction \u001b[42mPOTASSIUM\u001b[49m \u001b[42mCHLORIDE\u001b[49m &amp \u001b[42mLISINOPRIL\u001b[49m potentially serious interaction \u001b[42mPOTASSIUM\u001b[49m \u001b[42mCHLORIDE\u001b[49m &amp \u001b[42mLISINOPRIL\u001b[49m reason for override will follow \u001b[42mNITROGLYCERIN\u001b[49m \u001b[41m<NUM>/<NUM>\u001b[49m \u001b[41m(\u001b[49m \u001b[41m<NUM>.<NUM>\u001b[49m \u001b[41mMG\u001b[49m \u001b[41m)\u001b[49m <num> tab sl q<num>min x <num> doses prn chest pain hold if sbp less than <num> \u001b[42mMULTIVITAMIN\u001b[49m \u001b[42mTHERAPEUTIC\u001b[49m \u001b[41m(\u001b[49m \u001b[42mTHERAPEUTIC\u001b[49m \u001b[42mMULTIVI..\u001b[49m \u001b[41m)\u001b[49m <num> tab po daily \u001b[42mTRAZODONE\u001b[49m <num> mg po bedtime prn insomnia diet no restrictions activity walking as tolerated follow up appointment( s ): pcp , allergy \u001b[43mQUININE\u001b[49m , \u001b[43mASPIRIN\u001b[49m , sulfa , penicillins admit diagnosis mechanical fall principal discharge diagnosis ;responsible after study for causing admission ) mechanical fall other diagnosisconditions , infections , complications , affecting treatment/stay htn chf s/p st jude mvr for ms ( s/p cardiac valve replacement ) hx afib/flutte r ( h/o atrial fibrillation ) s/p imi ( s/p myocardial infarction ) niddm ( diabetes mellitus ) gout ( gout ) hx dvt '<num> ( h/o deep venous thrombosis ) s/p appy ( s/p appendectomy ) s/p umbilical hernia repair ( s/p hernia repair ) s/p sigmoidectomy for diverticulitis s/p l hip # '<num> ( s/p hip fracture ) pe ( pulmonary embolism ) heart block ( third degree heart block ) s/p ddd pacer ( s/p pacemaker ) operations and procedures none other treatments/procedures ( not in or ) none brief resume of hospital course cc s/p fall ***** hpi <num> yo f with afib , htn , dm , cad , mvr recently discharged from rehab who sustained mechanical fall at home while reaching for grapes no prodrome , loc , head trauma , cp , palp , sob admitted for rehab placement ***** pmh htn , dm , cad , s/p mvr , h/o heartblock s/p pacemaker , afib on \u001b[42mCOUMADIN\u001b[49m , ra , h/o dvt/pe ***** pe avss irreg irreg cta b l hip ecchymoses neuro cn intact , strength <num>/<num> ***** labs/studies hip film neg fx cardiac enzymes neg x <num> inr <num>.<num> ***** hosptial course <num>f hx cad s/p avr , ppm with mechanical fall story sounds purely mechanical , no reason to suspect syncopal event or otherwise pt evaluated by pt , who thought that sending pt back to inpt rehab would not necessarily improve her outcome that much pt insisted on going home , so attempts made to maximize home services inr <num>.<num> when pt admitted , so \u001b[42mCOUMADIN\u001b[49m held <num>.<num> the day of d/c , will be checked by vna and results sent to pcp heme - hold \u001b[42mCOUMADIN\u001b[49m for goal inr \u001b[43m<NUM>.<NUM>-<NUM>\u001b[49m , restart when appropriate cv - kept on home meds services - pt will have home vna and home pt to try and ensure safety at home code - full additional comments <num>. please check pt's inr on \u001b[42mCOUMADIN\u001b[49m on mon <num>/<num> and forward results to bertram lenkiewicz so pt can restart \u001b[42mCOUMADIN\u001b[49m when appropriate discharge condition satisfactory to do/plan <num>. please f/u pt's inr and restart \u001b[42mCOUMADIN\u001b[49m when appropriate no dictated summary entered by huckfeldt , alonzo r , md ( pn<num> ) <num>/<num>/<num> @ <num>:<num> pm ****** end of discharge orders ****** [report_end] record #<num> <num> | mbch | <num> | | <num> | <num>/<num>/<num> <num>:<num>:<num> am | s/p icd placement | | dis | admission date <num>/<num>/<num> report status discharge date <num>/<num>/<num> ****** final discharge orders ****** fullwood , harrison <num>-<num>-<num>-<num> lavan service car discharge patient on <num>/<num>/<num> at <num>:<num> pm contingent upon not applicable will d/c order be used as the d/c summary yes attending alday , wilfred c , md , ms code status full code disposition home discharge medications \u001b[42mALBUTEROL\u001b[49m \u001b[42mINHALER\u001b[49m <num> puff inh qid prn shortness of breath , wheezing \u001b[42mLASIX\u001b[49m \u001b[41m(\u001b[49m \u001b[42mFUROSEMIDE\u001b[49m \u001b[41m)\u001b[49m <num> mg po qd starting today ( <num>/<num> ) instructions please titrate your dose <num>mg/<num>mg/<num>mg as you normally do depending on your degree of swelling \u001b[42mMOTRIN\u001b[49m \u001b[41m(\u001b[49m \u001b[42mIBUPROFEN\u001b[49m \u001b[41m)\u001b[49m <num> mg po q<num>h prn pain , headache food/drug interaction instruction take with food alert overridden override added on <num>/<num>/<num> by nolte , steve s stuart otha , md on order for \u001b[42mMOTRIN\u001b[49m po ( ref # <num> ) pt has a possible allergy to \u001b[43mASPIRIN\u001b[49m reaction is unknown reason for override pt tolerates \u001b[43mMOTRIN\u001b[49m \u001b[42mATROVENT\u001b[49m \u001b[42mHFA\u001b[49m \u001b[42mINHALER\u001b[49m \u001b[41m(\u001b[49m \u001b[42mIPRATROPIUM\u001b[49m \u001b[42mINHALER\u001b[49m \u001b[41m)\u001b[49m <num> puff inh qid \u001b[42mMAGNESIUM\u001b[49m \u001b[42mOXIDE\u001b[49m <num> mg po qd \u001b[42mVERAPAMIL\u001b[49m \u001b[41mSUSTAINED\u001b[49m \u001b[42mRELEASE\u001b[49m <num> mg po qd starting today ( <num>/<num> ) instructions please confirm home dose and resume home dose food/drug interaction instruction avoid grapefruit unless md instructs otherwise \u001b[42mKEFLEX\u001b[49m \u001b[41m(\u001b[49m \u001b[42mCEPHALEXIN\u001b[49m \u001b[41m)\u001b[49m <num> mg po qid x <num> doses instructions started on <num>/<num> , continue through <num>/<num> for <num> total doses number of doses required ( approximate ): <num> \u001b[42mZOCOR\u001b[49m \u001b[41m(\u001b[49m \u001b[42mSIMVASTATIN\u001b[49m \u001b[41m)\u001b[49m <num> mg po qhs food/drug interaction instruction avoid grapefruit unless md instructs otherwise \u001b[42mAMBIEN\u001b[49m \u001b[41m(\u001b[49m \u001b[42mZOLPIDEM\u001b[49m \u001b[42mTARTRATE\u001b[49m \u001b[41m)\u001b[49m <num> mg po qhs prn insomnia food/drug interaction instruction give on an empty stomach ( give <num>hr before or <num>hr after food ) \u001b[42mLORATADINE\u001b[49m <num> mg po qd food/drug interaction instruction avoid grapefruit unless md instructs otherwise give on an empty stomach ( give <num>hr before or <num>hr after food ) \u001b[42mPOTASSIUM\u001b[49m \u001b[42mCHLORIDE\u001b[49m \u001b[42mSLOW\u001b[49m \u001b[42mREL\u001b[49m \u001b[41m(\u001b[49m \u001b[42mKCL\u001b[49m \u001b[42mSLOW\u001b[49m \u001b[42mRELEASE\u001b[49m \u001b[41m)\u001b[49m <num> meq po qd as per ah \u001b[42mPOTASSIUM\u001b[49m \u001b[42mCHLORIDE\u001b[49m policy each <num> meq dose to be given with <num> oz of fluid \u001b[42mMETFORMIN\u001b[49m \u001b[41m<NUM>\u001b[49m , <num> mg po bid starting in am ( <num>/<num> ) \u001b[42mRHINOCORT\u001b[49m \u001b[42mAQUA\u001b[49m \u001b[41m(\u001b[49m \u001b[42mBUDESONIDE\u001b[49m \u001b[42mNASAL\u001b[49m \u001b[42mINHALER\u001b[49m \u001b[41m)\u001b[49m <num> \u001b[43mSPRAY\u001b[49m inh bid \u001b[42mSINGULAIR\u001b[49m \u001b[41m(\u001b[49m \u001b[42mMONTELUKAST\u001b[49m \u001b[41m)\u001b[49m <num> mg po qd \u001b[42mEFFEXOR\u001b[49m \u001b[42mXR\u001b[49m \u001b[41m(\u001b[49m \u001b[42mVENLAFAXINE\u001b[49m \u001b[42mEXTENDED\u001b[49m \u001b[42mRELEASE\u001b[49m \u001b[41m)\u001b[49m <num> mg po qd number of doses required ( approximate ): <num> \u001b[42mADVAIR\u001b[49m \u001b[42mDISKUS\u001b[49m \u001b[41m<NUM>/<NUM>\u001b[49m \u001b[41m(\u001b[49m \u001b[42mFLUTICASONE\u001b[49m \u001b[42mPROPIONATE/...\u001b[49m \u001b[41m)\u001b[49m <num> puff inh bid \u001b[42mNEXIUM\u001b[49m \u001b[41m(\u001b[49m \u001b[42mESOMEPRAZOLE\u001b[49m \u001b[41m)\u001b[49m <num> mg po qd \u001b[42mOXYCODONE\u001b[49m <num> mg po q<num>h prn pain diet patient should measure weight daily diet fluid restriction diet house / low chol/low sat fat diet house / ada <num> cals/dy diet <num> gram \u001b[43mSODIUM\u001b[49m activity walking as tolerated follow up appointment( s ): dr eliseo muros <num>/<num>/<num> <num>:<num>pm scheduled , dr danial acklin <num>/<num>/<num> <num>:<num>pm scheduled , allergy broccoli , \u001b[43mASPIRIN\u001b[49m admit diagnosis icd placement for hcm principal discharge diagnosis ;responsible after study for causing admission ) s/p icd placement other diagnosisconditions , infections , complications , affecting treatment/stay see below operations and procedures <num>/<num>/<num>: metronic dual chamber ddi/icd paced under general anesthesia other treatments/procedures ( not in or ) none brief resume of hospital course reason for admit icd placement hpi <num>yof w/ hcm s/p medtronic dual chamber ddi/icd placement under general anesthesia ( <num>/<num> obesity ) admitted for ovenight observation icd placed for primary prevention had echo <num>/<num> showed septal thickness <num>mm , posterior wall thickness <num>mm w/ preserved ef <num>%m lv outflow tract peak gradient <num>mmhg holter monitoring <num>/<num> without any arrythmias but since <num> of may has had increasing difficulties w/ ambulatio n<num>/<num> palpations up to <num> minutes at a time one severe presyncopal episode in november of <num>. also hf symptoms controlled on \u001b[42mLASIX\u001b[49m , at baseline can work <num> blocks and up one flight of stairs ***************** pmh hcm , htn , hyperchol , asthma , pcod w/ infertility , diabetes , obesity ( <num> lbs ) , loer back pain , migraines , s/p knee replacement , tosillectomy , sinus surgery ****************** admission meds \u001b[42mALBUTEROL\u001b[49m , \u001b[42mADVAIR\u001b[49m \u001b[41m<NUM>/<NUM>\u001b[49m bid , \u001b[42mRHINOCORT\u001b[49m <num> \u001b[43mSPRAYS\u001b[49m bid , \u001b[42mATROVENT\u001b[49m <num> puff qid , \u001b[42mSINGULAIR\u001b[49m <num>mg qhs , \u001b[42mNEXIUM\u001b[49m <num>mg daily , \u001b[42mLASIX\u001b[49m <num>mg daily ( inc to <num> or <num> during period ) , \u001b[42mKCL\u001b[49m <num>meq daily , \u001b[42mVERAPAMIL\u001b[49m <num>mg daily , \u001b[41mPATANOL\u001b[49m <num>-<num> ou bid prn , \u001b[42mLORATIDINE\u001b[49m <num>mg daily , \u001b[42mZOCOR\u001b[49m <num>mg qhs , \u001b[42mEFFEXOR\u001b[49m <num>mg daily , \u001b[42mMETFORMIN\u001b[49m <num>mg bid , \u001b[41mMGOXIDE\u001b[49m <num>mg daily , \u001b[42mAMBIEN\u001b[49m prn , \u001b[42mAMOX\u001b[49m prior to procedures ****************** all \u001b[43mASPIRIN\u001b[49m , broccoli , tape ****************** fh no h/o hocm no h/o sudden cardiac death mother/grandmother w/ diabetes sh technical writer lives in ni single parent of twins no tob/social etoh/ivdu ****************** admission pe vs <num>.<num> <num> <num>/<num> <num> <num>% ra gen nad heent anicteric , eomi , perrl , mmm , op clear neck carotid <num>+ w/o bruits , no lan , jvp difficult to appreciate <num>/<num> thick neck lungs ctab , no c/w/r cv rr , nl s<num> s<num> , <num>/<num> sm at rusb but heard throughout precordium , inc w/ valsalva abd obese , nl bs , soft , nt/nd , hard to palpate for masses and hsm ext trace edema , warm , dp/pt <num>+ b/l left radial pulse <num>+ skin no rashes neuro a&ampox<num> cn <num>-<num> intact , moves all extremities ************************* labs/studies --labs cbc , bmp , coags wnl --ekg nsr tw flat v<num>/v<num> ( old ) --cxr ( portable ): cardiomegaly , no e/o ptx pa/lat cxr am after no ptx , leads in place , no overt failure ************************* procedures <num>/<num> s/p medtronic icd/ddi ppm placement , cannulated via left cephalic ( one axillary attempt ) ************************* a/p cv --pump hocm euvolemic initially on exam o/n pt developed increased swelling of her hands and legs b/l , and also w/ slightly more sob and o<num> requirement unclear whether o<num> requirement was <num>/<num> fluid or <num>/<num> osa , am cxr clear w/out e/o overload pt diuresed w/ \u001b[42mLASIX\u001b[49m <num>mg on day of d/c about net -<num>cc still w/ some swelling on d/c but pt reported that her breathing/activity level was at baseline and she felt comfortable going home and adjusting her \u001b[42mLASIX\u001b[49m dose as she normally does based on her swelling continued on home cardiac \u001b[43mREGIMEN\u001b[49m \u001b[42mVERAPAMIL\u001b[49m and \u001b[42mZOCOR\u001b[49m --rhythm s/p medtronic dual chamber ddi/icd placement for primary prevention for hocm post procedure cxr w/out ptx , leads in place pt will f/u w/ dr kolat . on monitor pt sinus w/out events routine peri-procedure \u001b[42mANTIBIOTICS\u001b[49m pulm asthma , cont home \u001b[43mREGIMEN\u001b[49m had slight desat o/n requiring <num>l o<num> which could be <num>/<num> overload ( see above ) , but also could be <num>/<num> obstructive sleep apnea , consider outpt eval for this gi cont \u001b[43mPPI\u001b[49m endo \u001b[43mISS\u001b[49m restarted \u001b[42mMETFORMIN\u001b[49m on morning of d/c neuro cont \u001b[42mEFFEXOR\u001b[49m fen cardiac diet ppx teds code has icd now full additional comments *please monitor your weight and swelling and adjust \u001b[42mLASIX\u001b[49m dose as your normally do please call dr borza if your swelling does not improve or you become short of breath or your weight increases &gt<num>pounds *take \u001b[42mKEFLEX\u001b[49m for <num> day total course all other medications are the same discharge condition stable to do/plan *fluid management *consider outpt eval for possible obstructive sleep apnea no dictated summary entered by blanquart , efrain jonathon rickey , md ( dl<num> ) <num>/<num>/<num> @ <num>:<num> pm ****** end of discharge orders ****** [report_end]\n"
     ]
    }
   ],
   "source": [
    "fn.colour_text(sets['test_words'], res, tru)"
   ]
  },
  {
   "cell_type": "raw",
   "metadata": {
    "collapsed": true
   },
   "source": [
    "no_brac = {}\n",
    "no_brac['words'] = []\n",
    "no_brac['res'] = []\n",
    "no_brac['tru'] = []\n",
    "for i in range(len(res)):\n",
    "    if not (sets['test_words'][i] == ')' or sets['test_words'][i] == '('):\n",
    "        no_brac['words'].append(sets['test_words'][i])\n",
    "        no_brac['res'].append(res[i])\n",
    "        no_brac['tru'].append(tru[i])"
   ]
  },
  {
   "cell_type": "raw",
   "metadata": {},
   "source": [
    "_ = fn.token_perf(res=no_brac['res'], tru=no_brac['tru'])"
   ]
  },
  {
   "cell_type": "raw",
   "metadata": {},
   "source": [
    "fn.category_words(no_brac['words'], no_brac['res'], no_brac['tru'], 0, 1)"
   ]
  },
  {
   "cell_type": "raw",
   "metadata": {},
   "source": [
    "fn.colour_text(no_brac['words'], no_brac['res'], no_brac['tru'])"
   ]
  },
  {
   "cell_type": "code",
   "execution_count": 14,
   "metadata": {},
   "outputs": [
    {
     "name": "stdout",
     "output_type": "stream",
     "text": [
      "Name:  0101\n",
      "Challenge:  2009 Medication Challenge\n",
      "Train or Test Set:  train\n",
      "Labelled:  yes\n",
      "Labeling Type:  train\n",
      "\n",
      "\n",
      "antibiotics 1 1\n",
      "axid 2 2\n",
      "\u001b[43mcodeine 1 0\u001b[49m\n",
      "colace 2 2\n",
      "coumadin 2 2\n",
      "ecotrin 1 1\n",
      "heparin 3 3\n",
      "\u001b[41minsulin 1 2\u001b[49m\n",
      "insulin lente 1 1\n",
      "insulin nph 1 1\n",
      "isordil 2 2\n",
      "lopressor 2 2\n",
      "ofloxacin 2 2\n",
      "percocet 1 1\n",
      "\u001b[43mregular insulin 1 0\u001b[49m\n",
      "\u001b[43mrose-walt 1 0\u001b[49m\n",
      "\u001b[43mtablets 1 0\u001b[49m\n",
      "urokinase 1 1\n",
      "vancomycin 2 2\n",
      "zestril 2 2\n",
      "\n",
      "Name:  0102\n",
      "Challenge:  2009 Medication Challenge\n",
      "Train or Test Set:  train\n",
      "Labelled:  yes\n",
      "Labeling Type:  train\n",
      "\n",
      "\n",
      "aspirin 1 1\n",
      "atenolol 1 1\n",
      "baby aspirin 1 1\n",
      "beta-blocker 1 1\n",
      "\u001b[43mchloride 2 0\u001b[49m\n",
      "ciprofloxacin 2 2\n",
      "epinephrine 1 1\n",
      "humalog insulin 1 1\n",
      "insulin 1 1\n",
      "lantus 1 1\n",
      "lasix 4 4\n",
      "\u001b[43mmagnesium 2 0\u001b[49m\n",
      "metformin 1 1\n",
      "motrin 1 1\n",
      "\u001b[43mnasal 1 0\u001b[49m\n",
      "\u001b[41mnasal cannula 0 1\u001b[49m\n",
      "novolog 2 2\n",
      "\u001b[43mpotassium 2 0\u001b[49m\n",
      "potassium chloride slow release 1 1\n",
      "precedex 1 1\n",
      "\u001b[43mregular 2 0\u001b[49m\n",
      "\u001b[43msodium 2 0\u001b[49m\n",
      "toprol-xl 1 1\n",
      "\n",
      "Name:  0105\n",
      "Challenge:  2009 Medication Challenge\n",
      "Train or Test Set:  train\n",
      "Labelled:  yes\n",
      "Labeling Type:  train\n",
      "\n",
      "\n",
      "ace inhibitor 1 1\n",
      "aspirin 8 8\n",
      "atenolol 2 2\n",
      "beta-blocker 1 1\n",
      "captopril 1 1\n",
      "celexa 3 3\n",
      "\u001b[41mfresh frozen plasma 0 1\u001b[49m\n",
      "glucophage 2 2\n",
      "heparin 1 1\n",
      "\u001b[43minhibitor 1 0\u001b[49m\n",
      "klonopin 3 3\n",
      "lipitor 2 2\n",
      "lopressor 1 1\n",
      "lovenox 4 4\n",
      "\u001b[43mnasal 1 0\u001b[49m\n",
      "neurontin 1 1\n",
      "nitroglycerin 4 4\n",
      "\u001b[43mpacked 3 0\u001b[49m\n",
      "\u001b[41mpacked red blood cells 0 3\u001b[49m\n",
      "percocet 1 1\n",
      "\u001b[43mplasma 1 0\u001b[49m\n",
      "plavix 3 3\n",
      "\u001b[41mprotamine 0 1\u001b[49m\n",
      "\u001b[43mregular 1 0\u001b[49m\n",
      "\u001b[43mtylenol 2 1\u001b[49m\n",
      "zestril 2 2\n",
      "zocor 2 2\n",
      "\n",
      "Name:  0106\n",
      "Challenge:  2009 Medication Challenge\n",
      "Train or Test Set:  train\n",
      "Labelled:  yes\n",
      "Labeling Type:  train\n",
      "\n",
      "\n",
      "\u001b[43mantibiotics 4 3\u001b[49m\n",
      "aspart 1 1\n",
      "\u001b[43maspirin 1 0\u001b[49m\n",
      "ativan 1 1\n",
      "augmentin 1 1\n",
      "b-blocker 1 1\n",
      "colace 1 1\n",
      "coumadin 6 6\n",
      "fentanyl pca 2 2\n",
      "flagyl 1 1\n",
      "folate 1 1\n",
      "gemfibrozil 3 3\n",
      "\u001b[43mhep 1 0\u001b[49m\n",
      "heparin 5 5\n",
      "\u001b[43minsulin 2 0\u001b[49m\n",
      "ketamine 2 2\n",
      "lantus 3 3\n",
      "levofloxacin 3 3\n",
      "lipitor 4 4\n",
      "lisinopril 1 1\n",
      "lopressor 1 1\n",
      "lyrica 1 1\n",
      "\u001b[43mm/w/f 2 0\u001b[49m\n",
      "\u001b[43mmedication 1 0\u001b[49m\n",
      "\u001b[43mmicro 1 0\u001b[49m\n",
      "nephrocaps 1 1\n",
      "neurontin 1 1\n",
      "oxycodone 1 1\n",
      "oxycontin 1 1\n",
      "\u001b[41mpain medication 0 1\u001b[49m\n",
      "\u001b[41mpain medications 0 1\u001b[49m\n",
      "phoslo 1 1\n",
      "\u001b[43mprandial 1 0\u001b[49m\n",
      "protonix 1 1\n",
      "\u001b[43mregimen 3 0\u001b[49m\n",
      "renagel 1 1\n",
      "requip 1 1\n",
      "\u001b[43msedation 1 0\u001b[49m\n",
      "\u001b[43mtherapeutic 2 0\u001b[49m\n",
      "unasyn 2 2\n",
      "vancomycin 4 4\n",
      "\n",
      "Name:  0107\n",
      "Challenge:  2009 Medication Challenge\n",
      "Train or Test Set:  train\n",
      "Labelled:  yes\n",
      "Labeling Type:  train\n",
      "\n",
      "\n",
      "amiodarone 4 4\n",
      "\u001b[43mcaffeine 1 0\u001b[49m\n",
      "\u001b[43mcalcium 1 0\u001b[49m\n",
      "captopril 1 1\n",
      "\u001b[43mchloride 1 0\u001b[49m\n",
      "clonazepam 1 1\n",
      "coumadin 2 2\n",
      "digoxin 4 4\n",
      "glipizide 1 1\n",
      "heparin 2 2\n",
      "\u001b[43miron 1 0\u001b[49m\n",
      "isosorbide 1 1\n",
      "klonopin 1 1\n",
      "lasix 1 1\n",
      "levothyroxine 1 1\n",
      "levothyroxine sodium 1 1\n",
      "lopressor 1 1\n",
      "\u001b[43mmagnesium 1 0\u001b[49m\n",
      "magnesium oxide 1 1\n",
      "\u001b[41mmononitrate-sr 0 1\u001b[49m\n",
      "\u001b[43mmorphine 1 0\u001b[49m\n",
      "\u001b[43mnitroglycerin 1 0\u001b[49m\n",
      "\u001b[41mnitroglycerin <num>/<num> ( <num>.<num> mg ) 0 1\u001b[49m\n",
      "\u001b[43mpotassium 1 0\u001b[49m\n",
      "\u001b[41mptu 0 1\u001b[49m\n",
      "simvastatin 1 1\n",
      "\u001b[43msodium 1 0\u001b[49m\n",
      "\u001b[43mtherapeutic 1 0\u001b[49m\n",
      "\u001b[41mtroglipazone 0 1\u001b[49m\n",
      "\n",
      "Name:  0108\n",
      "Challenge:  2009 Medication Challenge\n",
      "Train or Test Set:  train\n",
      "Labelled:  yes\n",
      "Labeling Type:  train\n",
      "\n",
      "\n",
      "\u001b[43madvair diskus 1 0\u001b[49m\n",
      "\u001b[41madvair diskus <num>/<num> 0 1\u001b[49m\n",
      "albuterol butt paste 1 1\n",
      "albuterol inhaler 1 1\n",
      "antibiotics 1 1\n",
      "aspart 6 6\n",
      "ativan 1 1\n",
      "cefpodoxime 4 4\n",
      "ceftriaxone 2 2\n",
      "depakote 4 4\n",
      "\u001b[43mflagyl 5 4\u001b[49m\n",
      "folate 1 1\n",
      "gabapentin 1 1\n",
      "haldol 4 4\n",
      "\u001b[41minsulin 1 2\u001b[49m\n",
      "\u001b[43minsulin regimen 1 0\u001b[49m\n",
      "labetalol 1 1\n",
      "lantus 2 2\n",
      "lisinopril 1 1\n",
      "loperamide 1 1\n",
      "\u001b[43mmedication rx 1 0\u001b[49m\n",
      "nephrocaps 1 1\n",
      "nexium 1 1\n",
      "norvasc 1 1\n",
      "phoslo 1 1\n",
      "\u001b[43mregimen 2 0\u001b[49m\n",
      "\u001b[43mregular 1 0\u001b[49m\n",
      "sevelamer 1 1\n",
      "thiamine 1 1\n",
      "tylenol 1 1\n",
      "\n",
      "Name:  0109\n",
      "Challenge:  2009 Medication Challenge\n",
      "Train or Test Set:  train\n",
      "Labelled:  yes\n",
      "Labeling Type:  train\n",
      "\n",
      "\n",
      "aspirin 2 2\n",
      "atenolol 3 3\n",
      "hydrochlorothiazide 2 2\n",
      "insulin 1 1\n",
      "lasix 3 3\n",
      "lisinopril 3 3\n",
      "\u001b[43mmedication 1 0\u001b[49m\n",
      "metformin 3 3\n",
      "nifedipine extended release 2 2\n",
      "nph 3 3\n",
      "\u001b[43mregimen 3 0\u001b[49m\n",
      "\u001b[43mregular 1 0\u001b[49m\n",
      "simvastatin 3 3\n",
      "\n",
      "Name:  0110\n",
      "Challenge:  2009 Medication Challenge\n",
      "Train or Test Set:  train\n",
      "Labelled:  yes\n",
      "Labeling Type:  train\n",
      "\n",
      "\n",
      "acetylsalicylic acid 1 1\n",
      "\u001b[41mada 0 1\u001b[49m\n",
      "antibiotics 1 1\n",
      "aspirin 1 1\n",
      "cipro 1 1\n",
      "\u001b[41mciprofloxacin 1 2\u001b[49m\n",
      "\u001b[43mciprofloxacin hcl 1 0\u001b[49m\n",
      "\u001b[43mcoumadin 3 2\u001b[49m\n",
      "\u001b[41mcoumadin ( warfarin sodium ) 0 1\u001b[49m\n",
      "\u001b[43mesomeprazole 1 0\u001b[49m\n",
      "glyburide 2 2\n",
      "\u001b[43mhydrate 1 0\u001b[49m\n",
      "kcl immediate release 1 1\n",
      "levo 1 1\n",
      "linezolid 4 4\n",
      "lisinopril 2 2\n",
      "\u001b[43mmiconazole nitrate 1 0\u001b[49m\n",
      "\u001b[41mmiconazole nitrate <num>% powder 0 1\u001b[49m\n",
      "\u001b[43mnexium 1 0\u001b[49m\n",
      "\u001b[41mnexium ( esomeprazole ) 0 1\u001b[49m\n",
      "potassium chloride 1 1\n",
      "\u001b[43mpowder 1 0\u001b[49m\n",
      "\u001b[43mregular 1 0\u001b[49m\n",
      "\u001b[43mriss 1 0\u001b[49m\n",
      "sarna 1 1\n",
      "simvastatin 4 4\n",
      "unasyn 1 1\n",
      "vanc 2 2\n",
      "warfarin 4 4\n",
      "\u001b[43mwarfarin sodium 1 0\u001b[49m\n",
      "\n",
      "Name:  0111\n",
      "Challenge:  2009 Medication Challenge\n",
      "Train or Test Set:  train\n",
      "Labelled:  yes\n",
      "Labeling Type:  train\n",
      "\n",
      "\n",
      "\u001b[43m<num>.<num>-<num> 1 0\u001b[49m\n",
      "amiodarone 1 1\n",
      "\u001b[43mamlodipine 1 0\u001b[49m\n",
      "\u001b[43martificial tears 1 0\u001b[49m\n",
      "\u001b[43maspirin 1 0\u001b[49m\n",
      "\u001b[43mcolace 1 0\u001b[49m\n",
      "\u001b[41mcolace ( docusate sodium ) 0 1\u001b[49m\n",
      "coumadin 6 6\n",
      "\u001b[43mdocusate sodium 1 0\u001b[49m\n",
      "\u001b[43mesomeprazole 1 0\u001b[49m\n",
      "\u001b[43mfurosemide 1 0\u001b[49m\n",
      "\u001b[43mgabapentin 1 0\u001b[49m\n",
      "glipizide 2 2\n",
      "\u001b[43mhydroxychloroquine 1 0\u001b[49m\n",
      "\u001b[43misordil 1 0\u001b[49m\n",
      "\u001b[41misordil ( isosorbide dinitrate ) 0 1\u001b[49m\n",
      "\u001b[43misosorbide dinitrate 1 0\u001b[49m\n",
      "\u001b[43mlasix 2 1\u001b[49m\n",
      "\u001b[41mlasix ( furosemide ) 0 1\u001b[49m\n",
      "lisinopril 3 3\n",
      "micronase 1 1\n",
      "\u001b[43mmultivitamin therapeutic 1 0\u001b[49m\n",
      "\u001b[41mmultivitamin therapeutic ( therapeutic multivi.. ) 0 1\u001b[49m\n",
      "\u001b[43mneurontin 1 0\u001b[49m\n",
      "\u001b[41mneurontin ( gabapentin ) 0 1\u001b[49m\n",
      "\u001b[43mnexium 1 0\u001b[49m\n",
      "\u001b[41mnexium ( esomeprazole ) 0 1\u001b[49m\n",
      "\u001b[43mnitroglycerin 1 0\u001b[49m\n",
      "\u001b[41mnitroglycerin <num>/<num> ( <num>.<num> mg ) 0 1\u001b[49m\n",
      "\u001b[43mnorvasc 1 0\u001b[49m\n",
      "\u001b[41mnorvasc ( amlodipine ) 0 1\u001b[49m\n",
      "\u001b[43mplaquenil sulfate 1 0\u001b[49m\n",
      "\u001b[41mplaquenil sulfate ( hydroxychloroquine ) 0 1\u001b[49m\n",
      "potassium chloride 2 2\n",
      "\u001b[43mquinine 1 0\u001b[49m\n",
      "\u001b[43mtears naturale 1 0\u001b[49m\n",
      "\u001b[41mtears naturale ( artificial tears ) 0 1\u001b[49m\n",
      "\u001b[43mtherapeutic multivi.. 1 0\u001b[49m\n",
      "trazodone 1 1\n",
      "\n",
      "Name:  0121\n",
      "Challenge:  2009 Medication Challenge\n",
      "Train or Test Set:  train\n",
      "Labelled:  yes\n",
      "Labeling Type:  train\n",
      "\n",
      "\n",
      "\u001b[43madvair 1 0\u001b[49m\n",
      "\u001b[41madvair <num>/<num> 0 1\u001b[49m\n",
      "\u001b[43madvair diskus 1 0\u001b[49m\n",
      "\u001b[41madvair diskus <num>/<num> ( fluticasone propionate/... ) 0 1\u001b[49m\n",
      "albuterol 1 1\n",
      "albuterol inhaler 1 1\n",
      "\u001b[43mambien 2 1\u001b[49m\n",
      "\u001b[41mambien ( zolpidem tartrate ) 0 1\u001b[49m\n",
      "amox 1 1\n",
      "antibiotics 1 1\n",
      "\u001b[43maspirin 3 0\u001b[49m\n",
      "atrovent 1 1\n",
      "\u001b[41matrovent hfa inhaler ( ipratropium inhaler ) 0 1\u001b[49m\n",
      "\u001b[43mbudesonide nasal inhaler 1 0\u001b[49m\n",
      "\u001b[43mcephalexin 1 0\u001b[49m\n",
      "effexor 2 2\n",
      "\u001b[43meffexor xr 1 0\u001b[49m\n",
      "\u001b[41meffexor xr ( venlafaxine extended release ) 0 1\u001b[49m\n",
      "\u001b[43mesomeprazole 1 0\u001b[49m\n",
      "\u001b[43mfluticasone propionate/... 1 0\u001b[49m\n",
      "\u001b[43mfurosemide 1 0\u001b[49m\n",
      "\u001b[43mibuprofen 1 0\u001b[49m\n",
      "\u001b[43mipratropium inhaler 1 0\u001b[49m\n",
      "\u001b[43miss 1 0\u001b[49m\n",
      "kcl 1 1\n",
      "\u001b[43mkcl slow release 1 0\u001b[49m\n",
      "\u001b[43mkeflex 2 1\u001b[49m\n",
      "\u001b[41mkeflex ( cephalexin ) 0 1\u001b[49m\n",
      "\u001b[43mlasix 6 5\u001b[49m\n",
      "\u001b[41mlasix ( furosemide ) 0 1\u001b[49m\n",
      "loratadine 1 1\n",
      "loratidine 1 1\n",
      "magnesium oxide 1 1\n",
      "\u001b[43mmetformin 3 2\u001b[49m\n",
      "\u001b[41mmetformin <num> 0 1\u001b[49m\n",
      "\u001b[41mmgoxide 0 1\u001b[49m\n",
      "\u001b[43mmontelukast 1 0\u001b[49m\n",
      "\u001b[43mmotrin 2 1\u001b[49m\n",
      "\u001b[41mmotrin ( ibuprofen ) 0 1\u001b[49m\n",
      "\u001b[43mmotrin atrovent hfa inhaler 1 0\u001b[49m\n",
      "\u001b[43mnexium 2 1\u001b[49m\n",
      "\u001b[41mnexium ( esomeprazole ) 0 1\u001b[49m\n",
      "oxycodone 1 1\n",
      "\u001b[41mpatanol 0 1\u001b[49m\n",
      "potassium chloride 1 1\n",
      "\u001b[43mpotassium chloride slow rel 1 0\u001b[49m\n",
      "\u001b[41mpotassium chloride slow rel ( kcl slow release ) 0 1\u001b[49m\n",
      "\u001b[43mppi 1 0\u001b[49m\n",
      "\u001b[43mregimen 1 0\u001b[49m\n",
      "\u001b[43mregimen verapamil 1 0\u001b[49m\n",
      "\u001b[43mrelease 1 0\u001b[49m\n",
      "rhinocort 1 1\n",
      "\u001b[43mrhinocort aqua 1 0\u001b[49m\n",
      "\u001b[41mrhinocort aqua ( budesonide nasal inhaler ) 0 1\u001b[49m\n",
      "\u001b[43msimvastatin 1 0\u001b[49m\n",
      "\u001b[43msingulair 2 1\u001b[49m\n",
      "\u001b[41msingulair ( montelukast ) 0 1\u001b[49m\n",
      "\u001b[43msodium 1 0\u001b[49m\n",
      "\u001b[43mspray 1 0\u001b[49m\n",
      "\u001b[43msprays 1 0\u001b[49m\n",
      "\u001b[43mvenlafaxine extended release 1 0\u001b[49m\n",
      "verapamil 2 2\n",
      "\u001b[41mverapamil sustained release 0 1\u001b[49m\n",
      "\u001b[43mzocor 3 2\u001b[49m\n",
      "\u001b[41mzocor ( simvastatin ) 0 1\u001b[49m\n",
      "\u001b[43mzolpidem tartrate 1 0\u001b[49m\n",
      "\n",
      "TP\tFP\tFN\n",
      "313\t130\t47\n",
      "\n",
      "Precision: 0.7065\n",
      "Recall: 0.8694\n",
      "F1-Score: 0.7796\n"
     ]
    }
   ],
   "source": [
    "testers = Dataset.get_DS(stage='train', labelled='yes')\n",
    "_ = fn.phrase_perf(target, NN, testers, model, case_info=True, show_phrases=True)"
   ]
  },
  {
   "cell_type": "markdown",
   "metadata": {},
   "source": [
    "# HyperParameter Scan"
   ]
  },
  {
   "cell_type": "code",
   "execution_count": null,
   "metadata": {
    "collapsed": true
   },
   "outputs": [],
   "source": [
    "emb_num = 1\n",
    "NN_num = 1\n",
    "emb_sizes = [30, 50, 100]\n",
    "target_saturations = [0.05, 0.1, 0.3]\n",
    "layers = [[30], [50], [100]]\n",
    "dropouts = [0.3, 0.5, 0.8, 1.0]\n",
    "learn_rates = [0.001, 0.01, 0.1]\n",
    "epoch_nums = [10, 50, 100]\n",
    "batch_sizes = [10, 50, 100]\n",
    "\n",
    "\n",
    "model_num = emb_num * NN_num * len(emb_sizes) * len(layers) * len(dropouts) * \\\n",
    "            len(learn_rates) * len(epoch_nums) * len(batch_sizes) * len(target_saturations)\n",
    "target = target_dict['medications']\n",
    "report_percentage = 10\n",
    "\n",
    "print(model_num)"
   ]
  },
  {
   "cell_type": "code",
   "execution_count": null,
   "metadata": {
    "collapsed": true
   },
   "outputs": [],
   "source": [
    "labelled_cases = Dataset.get_DS(labelled='yes')\n",
    "labelled_cases.process_for_testing()"
   ]
  },
  {
   "cell_type": "code",
   "execution_count": null,
   "metadata": {
    "collapsed": true
   },
   "outputs": [],
   "source": [
    "iterations = [emb_sizes, target_saturations, layers, dropouts, learn_rates, epoch_nums, batch_sizes]"
   ]
  },
  {
   "cell_type": "code",
   "execution_count": null,
   "metadata": {
    "collapsed": true
   },
   "outputs": [],
   "source": [
    "n = 0\n",
    "parameters = []\n",
    "results = []\n",
    "timestamp = re.sub(r':', '-', str(datetime.datetime.now()).split('.')[0])\n",
    "\n",
    "with open('tests/Model2/' + timestamp, 'w+') as f:\n",
    "    print('EmbSz:\\tSat:\\tLay:\\tDrop:\\tLeRa:\\tEpochs:\\tBatSz:\\tF1:')\n",
    "    f.write('EmbSz:\\tSat:\\tLay:\\tDrop:\\tLeRa:\\tEpochs:\\tBatSz:\\tF1:\\n')\n",
    "    for par in itertools.product(*iterations):\n",
    "        best = 0\n",
    "        parameters.append(par)\n",
    "        for i in range(emb_num):\n",
    "            model = Word2Vec(sentences, min_count=1, size=par[0])\n",
    "            sets = fn.get_ff_traintest(labelled_cases, model)\n",
    "            fn.saturate_training_set_labels(sets, model, target, par[1])\n",
    "            for j in range(NN_num):\n",
    "                n += 1\n",
    "                print('Model Number: {}/{}'.format(n, model_num), end='\\r')\n",
    "                NN = FF_Model(input_size=par[0], layers=par[2], dropout=par[3], learn_rate=par[4])\n",
    "                NN.build_graph()\n",
    "                _, _, _, score = NN.train(sets, epochs=par[5], batch=par[6], report_percentage=report_percentage)\n",
    "                best = max(best, score)\n",
    "        results.append(best)\n",
    "        print('{}\\t{}\\t{}\\t{}\\t{}\\t{}\\t{}\\t{:.4f}'.format(*parameters[-1], results[-1]))\n",
    "        f.write('{}\\t{}\\t{}\\t{}\\t{}\\t{}\\t{}\\t{:.4f}\\n'.format(*parameters[-1], results[-1]))\n",
    "\n",
    "    print('Max Performance: {:.4f}'.format(max(results)))  \n",
    "    f.write('Max Performance: {:.4f}\\n'.format(max(results)))"
   ]
  }
 ],
 "metadata": {
  "anaconda-cloud": {},
  "kernelspec": {
   "display_name": "Python 3",
   "language": "python",
   "name": "python3"
  },
  "language_info": {
   "codemirror_mode": {
    "name": "ipython",
    "version": 3
   },
   "file_extension": ".py",
   "mimetype": "text/x-python",
   "name": "python",
   "nbconvert_exporter": "python",
   "pygments_lexer": "ipython3",
   "version": "3.5.3"
  }
 },
 "nbformat": 4,
 "nbformat_minor": 2
}
