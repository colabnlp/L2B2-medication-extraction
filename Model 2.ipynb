{
 "cells": [
  {
   "cell_type": "code",
   "execution_count": 1,
   "metadata": {
    "collapsed": true
   },
   "outputs": [],
   "source": [
    "import numpy as np\n",
    "import os\n",
    "from random import shuffle\n",
    "import re\n",
    "import random\n",
    "\n",
    "import urllib.request\n",
    "import zipfile\n",
    "import lxml.etree"
   ]
  },
  {
   "cell_type": "code",
   "execution_count": 2,
   "metadata": {
    "collapsed": true
   },
   "outputs": [],
   "source": [
    "def listdir_nohidden(path):\n",
    "    for f in os.listdir(path):\n",
    "        if not f.startswith('.'):\n",
    "            yield f"
   ]
  },
  {
   "cell_type": "code",
   "execution_count": 3,
   "metadata": {
    "collapsed": true
   },
   "outputs": [],
   "source": [
    "class DS:\n",
    "    \n",
    "    def __init__(self, name='', challenge='', stage='', raw_text=[]):\n",
    "        self.name = name\n",
    "        self.challenge = challenge\n",
    "        self.stage = stage\n",
    "        self.labelled = 'no'\n",
    "        self.label_type = 'none'\n",
    "        self.raw_text = raw_text\n",
    "        self.emb_text = []\n",
    "        self.test_text = []\n",
    "        self.raw_labels = []\n",
    "    \n",
    "    def processForEmbedding(self):\n",
    "        self.emb_text = []\n",
    "        temp = self.raw_text\n",
    "        temp = re.sub(r'\\d+', '<NUM>', temp)\n",
    "        temp = re.sub(r'([A-Za-z]):', r'\\1 :', temp)\n",
    "        temp = re.sub(r'\\n', ' ', temp)\n",
    "        temp = re.sub(r'Dr.', 'Dr', temp)\n",
    "        temp = re.sub(r'Mr.', 'Mr', temp)\n",
    "        temp = re.sub(r'\\. ([A-Z])', r'. A\\1', temp)\n",
    "        temp = re.split(r'\\. [A-Z]', temp)\n",
    "        for i in range(len(temp)):\n",
    "            temp[i] = temp[i].lower()\n",
    "            self.emb_text.append(temp[i].split())\n",
    "        \n",
    "    def showInfo(self):\n",
    "        print('Name: ', self.name,)\n",
    "        print('Challenge: ', self.challenge,)\n",
    "        print('Train or Test Set: ', self.stage,)\n",
    "        print('Labelled: ', self.labelled,)\n",
    "        print('Labeling Type: ', self.label_type,)"
   ]
  },
  {
   "cell_type": "code",
   "execution_count": 4,
   "metadata": {
    "collapsed": true
   },
   "outputs": [],
   "source": [
    "class Set:\n",
    "    \n",
    "    def __init__(self, data=[]):\n",
    "        self.data = []\n",
    "        self.size = len(data)\n",
    "        \n",
    "    def present(self, name):\n",
    "        for case in self.data:\n",
    "            if name == case.name:\n",
    "                return(True)\n",
    "        return(False)\n",
    "        \n",
    "    def add(self, item):\n",
    "        if not self.present(item.name):\n",
    "            self.data.append(item)\n",
    "            self.size += 1\n",
    "            return(1)\n",
    "        return(0)\n",
    "\n",
    "    def numberOf(self, challenge = r'.', stage=r'.', labelled=r'.', label_type=r'.'):\n",
    "        n = 0\n",
    "        for case in self.data:\n",
    "            if (re.match(challenge, case.challenge) != None) & \\\n",
    "            (re.match(stage, case.stage) != None) & \\\n",
    "            (re.match(labelled, case.labelled) != None) & \\\n",
    "            (re.match(label_type, case.label_type) != None):\n",
    "                n += 1\n",
    "        return(n)\n",
    "    \n",
    "    def getDS(self, name=r'.', challenge = r'.', stage=r'.', labelled=r'.', label_type=r'.'):\n",
    "        output = Set()\n",
    "        for case in self.data:\n",
    "            if (re.match(name, case.name) != None) & \\\n",
    "            (re.match(challenge, case.challenge) != None) & \\\n",
    "            (re.match(stage, case.stage) != None) & \\\n",
    "            (re.match(labelled, case.labelled) != None) & \\\n",
    "            (re.match(label_type, case.label_type) != None):\n",
    "                output.add(case)\n",
    "        return(output)\n",
    "    \n",
    "    def showInfo(self):\n",
    "        for case in self.data:\n",
    "            case.showInfo()\n",
    "            print('\\n')\n",
    "    \n",
    "    def addLabels(self, name, case, raw_labels):\n",
    "        for i in range(self.size):\n",
    "            if self.data[i].name == name:\n",
    "                self.data[i].labelled = 'yes'\n",
    "                if case == 'train':\n",
    "                    self.data[i].label_type = 'train'\n",
    "                if case == 'test':\n",
    "                    self.data[i].label_type = 'test'\n",
    "                self.data[i].raw_labels = raw_labels\n",
    "                break       \n",
    "                \n",
    "    def processForEmbedding(self):\n",
    "        for i in range(self.size):\n",
    "            self.data[i].processForEmbedding()\n",
    "    \n",
    "    def getSentences(self, challenge = r'.', stage=r'.'):\n",
    "        sentences = []\n",
    "        pool = Dataset.getDS(challenge=challenge, stage=stage)\n",
    "        for case in pool.data:\n",
    "            for sent in case.emb_text:\n",
    "                sentences.append(sent)\n",
    "        return(sentences)"
   ]
  },
  {
   "cell_type": "code",
   "execution_count": 5,
   "metadata": {
    "collapsed": true
   },
   "outputs": [],
   "source": [
    "Dataset = Set()"
   ]
  },
  {
   "cell_type": "code",
   "execution_count": 6,
   "metadata": {},
   "outputs": [
    {
     "name": "stdout",
     "output_type": "stream",
     "text": [
      "696/696 added from 2009 Medication Challenge/training.sets.released/\n",
      "553/1249 added from 2009 Medication Challenge/test.released.8.17.09/\n"
     ]
    }
   ],
   "source": [
    "challenge = '2009 Medication Challenge'\n",
    "\n",
    "path = challenge + '/training.sets.released/'\n",
    "total = 0\n",
    "added = 0\n",
    "for folder in listdir_nohidden(path):\n",
    "    for filename in listdir_nohidden(path + folder + '/'):\n",
    "        total += 1\n",
    "        with open(path + folder + '/' + filename, 'r') as file:\n",
    "            temp = DS(name=filename, challenge=challenge, stage='train', raw_text=file.read())\n",
    "            added += Dataset.add(temp)\n",
    "print('%d/%d added from %s' %(added, total, path))\n",
    "\n",
    "path = challenge + '/test.released.8.17.09/'\n",
    "total = 0\n",
    "added = 0\n",
    "for filename in listdir_nohidden(path):\n",
    "    total += 1\n",
    "    with open(path + filename, 'r') as file:\n",
    "        temp = DS(name=filename, challenge=challenge, stage='test', raw_text=file.read())\n",
    "        added += Dataset.add(temp)\n",
    "print('%d/%d added from %s' %(added, total, path))\n",
    "        \n",
    "path = challenge + '/training.ground.truth/'\n",
    "for filename in listdir_nohidden(path):\n",
    "    index = filename.split('_')[0]\n",
    "    with open(path + filename, 'r') as file:\n",
    "        Dataset.addLabels(name=index, case='train', raw_labels=file.read())\n",
    "\n",
    "path = challenge + '/test.BYparticipant.ground_truth/converted.noduplicates.sorted/'\n",
    "for filename in listdir_nohidden(path):\n",
    "    index = filename.split('.')[0]\n",
    "    with open(path + filename, 'r') as file:\n",
    "        Dataset.addLabels(name=index, case='test', raw_labels=file.read())"
   ]
  },
  {
   "cell_type": "code",
   "execution_count": 7,
   "metadata": {
    "scrolled": true
   },
   "outputs": [
    {
     "name": "stdout",
     "output_type": "stream",
     "text": [
      "397/398 added from /smokers_surrogate_train_all_version2.xml\n",
      "103/104 added from /smokers_surrogate_test_all_groundtruth_version2.xml\n",
      "0/398 added from smokers_surrogate_train_all_version2.xml\n",
      "0/104 added from smokers_surrogate_test_all_version2.xml\n",
      "0/104 added from smokers_surrogate_test_all_groundtruth_version2.xml\n",
      "84/220 added from deid_surrogate_test_all_version2.xml\n",
      "326/669 added from deid_surrogate_train_all_version2.xml\n",
      "0/889 added from unannotated_records_deid_smoking.xml\n"
     ]
    }
   ],
   "source": [
    "challenge = '2007 Smoking Challenge'\n",
    "path = [[None, '/smokers_surrogate_train_all_version2.xml'], \\\n",
    "        [None, '/smokers_surrogate_test_all_groundtruth_version2.xml'], \\\n",
    "        ['/1C smokers_surrogate_train_all_version2.zip', 'smokers_surrogate_train_all_version2.xml'], \\\n",
    "        ['/1C smokers_surrogate_test_all_version2.zip', 'smokers_surrogate_test_all_version2.xml'], \\\n",
    "        ['/1C smokers_surrogate_test_all_groundtruth_version2.zip', 'smokers_surrogate_test_all_groundtruth_version2.xml'], \\\n",
    "        ['/1B deid_surrogate_test_all_version2.zip', 'deid_surrogate_test_all_version2.xml'], \\\n",
    "        ['/1B deid_surrogate_train_all_version2_CORRECTED.zip', 'deid_surrogate_train_all_version2.xml'], \\\n",
    "        ['/1A unannotated_records_deid_smoking_CORRECTED.zip', 'unannotated_records_deid_smoking.xml']]\n",
    "\n",
    "for file in path:\n",
    "    if file[0] == None:\n",
    "        root = lxml.etree.parse(challenge + file[1]).getroot()\n",
    "    else:\n",
    "        with zipfile.ZipFile(challenge + file[0], 'r') as z:\n",
    "            root = lxml.etree.parse(z.open(file[1])).getroot()\n",
    "    names = []\n",
    "    summaries = []\n",
    "    for name in root.iter('RECORD'):\n",
    "        names.append(name.attrib.get(name.attrib.keys()[0]))\n",
    "    for summary in root.iter('TEXT'):\n",
    "        summaries.append(summary.text)\n",
    "    total = 0\n",
    "    added = 0\n",
    "    for i in range(len(names)):\n",
    "        total += 1\n",
    "        temp = DS(name=names[i], challenge=challenge, stage='train', raw_text=summaries[i])\n",
    "        added += Dataset.add(temp)\n",
    "    print('%d/%d added from %s' %(added, total, file[1]))"
   ]
  },
  {
   "cell_type": "code",
   "execution_count": 8,
   "metadata": {},
   "outputs": [
    {
     "name": "stdout",
     "output_type": "stream",
     "text": [
      "77/507 added from 2008 Obesity Challenge/obesity_patient_records_test.xml\n",
      "1/30 added from 2008 Obesity Challenge/obesity_patient_records_training 50.xml\n",
      "252/611 added from 2008 Obesity Challenge/obesity_patient_records_training.xml\n",
      "0/119 added from 2008 Obesity Challenge/obesity_patient_records_training2.xml\n"
     ]
    }
   ],
   "source": [
    "challenge = '2008 Obesity Challenge'\n",
    "files = ['/obesity_patient_records_test.xml', \\\n",
    "         '/obesity_patient_records_training 50.xml', \\\n",
    "         '/obesity_patient_records_training.xml', \\\n",
    "         '/obesity_patient_records_training2.xml']\n",
    "\n",
    "for file in files:\n",
    "    path = challenge + file\n",
    "    root = lxml.etree.parse(path).getroot()\n",
    "    names = []\n",
    "    summaries = []\n",
    "    for name in root.iter('doc'):\n",
    "        names.append(name.attrib.get(name.attrib.keys()[0]))\n",
    "    for summary in root.iter('text'):\n",
    "        summaries.append(summary.text)\n",
    "    total = 0\n",
    "    added = 0\n",
    "    for i in range(len(names)):\n",
    "        total += 1\n",
    "        temp = DS(name=names[i], challenge=challenge, stage='train', raw_text=summaries[i])\n",
    "        added += Dataset.add(temp)\n",
    "    print('%d/%d added from %s' %(added, total, path))"
   ]
  },
  {
   "cell_type": "code",
   "execution_count": 9,
   "metadata": {
    "scrolled": true
   },
   "outputs": [
    {
     "name": "stdout",
     "output_type": "stream",
     "text": [
      "Number of Texts:  2489\n",
      "Number of 2007 Smoking Challenge texts:  910\n",
      "Number of 2008 ObesityChallenge texts:  330\n",
      "Number of 2009 Medication Challenge texts:  1249\n",
      "Number of Train Texts:  1936\n",
      "Number of Test Texts:  553\n",
      "Number of Labeled Texts:  258\n",
      "Number of Initially Labeled Texts:  10\n",
      "Number of Competitor Labeled Texts Texts:  248\n"
     ]
    }
   ],
   "source": [
    "print('Number of Texts: ', Dataset.size)\n",
    "print('Number of 2007 Smoking Challenge texts: ', Dataset.numberOf(challenge='2007 Smoking Challenge'))\n",
    "print('Number of 2008 ObesityChallenge texts: ', Dataset.numberOf(challenge='2008 Obesity Challenge'))\n",
    "print('Number of 2009 Medication Challenge texts: ', Dataset.numberOf(challenge='2009 Medication Challenge'))\n",
    "print('Number of Train Texts: ', Dataset.numberOf(stage='train'))\n",
    "print('Number of Test Texts: ', Dataset.numberOf(stage='test'))\n",
    "print('Number of Labeled Texts: ', Dataset.numberOf(labelled='yes'))\n",
    "print('Number of Initially Labeled Texts: ', Dataset.numberOf(labelled='yes', label_type='train'))\n",
    "print('Number of Competitor Labeled Texts Texts: ', Dataset.numberOf(labelled='yes', label_type='test'))"
   ]
  },
  {
   "cell_type": "code",
   "execution_count": 10,
   "metadata": {
    "collapsed": true
   },
   "outputs": [],
   "source": [
    "medications = []\n",
    "labelled = Dataset.getDS(labelled='yes')\n",
    "\n",
    "for case in labelled.data:\n",
    "    for term in re.finditer(r'm=\"[a-z0-9 ]+\"', case.raw_labels):\n",
    "        temp = term.group()[3:-1]\n",
    "        temp = temp.split()\n",
    "        for word in temp:\n",
    "            if word not in medications:\n",
    "                medications.append(word)"
   ]
  },
  {
   "cell_type": "code",
   "execution_count": 11,
   "metadata": {
    "collapsed": true
   },
   "outputs": [],
   "source": [
    "Dataset.processForEmbedding()\n",
    "sentences = Dataset.getSentences()"
   ]
  },
  {
   "cell_type": "code",
   "execution_count": 12,
   "metadata": {},
   "outputs": [
    {
     "name": "stderr",
     "output_type": "stream",
     "text": [
      "C:\\Users\\lgligic\\Anaconda3\\envs\\tensorflow\\lib\\site-packages\\gensim\\utils.py:855: UserWarning: detected Windows; aliasing chunkize to chunkize_serial\n",
      "  warnings.warn(\"detected Windows; aliasing chunkize to chunkize_serial\")\n"
     ]
    }
   ],
   "source": [
    "from gensim.models import Word2Vec"
   ]
  },
  {
   "cell_type": "code",
   "execution_count": 13,
   "metadata": {
    "collapsed": true
   },
   "outputs": [],
   "source": [
    "model_I2B2 = Word2Vec(sentences, min_count=1, size=100)"
   ]
  },
  {
   "cell_type": "code",
   "execution_count": 14,
   "metadata": {
    "scrolled": false
   },
   "outputs": [
    {
     "data": {
      "text/plain": [
       "[('norvasc', 0.8902193307876587),\n",
       " ('cozaar', 0.8892122507095337),\n",
       " ('cardizem', 0.8822224140167236),\n",
       " ('pravachol', 0.8739990592002869),\n",
       " ('imdur', 0.8730192184448242),\n",
       " ('hydrochlorothiazide', 0.8729186654090881),\n",
       " ('prozac', 0.8705203533172607),\n",
       " ('zocor', 0.8681577444076538),\n",
       " ('vasotec', 0.8662295341491699),\n",
       " ('nifedipine', 0.8642198443412781)]"
      ]
     },
     "execution_count": 14,
     "metadata": {},
     "output_type": "execute_result"
    }
   ],
   "source": [
    "model_I2B2.most_similar(\"zestril\")"
   ]
  },
  {
   "cell_type": "code",
   "execution_count": 15,
   "metadata": {},
   "outputs": [
    {
     "data": {
      "text/plain": [
       "array([   0.,  946.,    0.,    0.,    0.,    0.,    0.,    0.,    0.,    0.])"
      ]
     },
     "execution_count": 15,
     "metadata": {},
     "output_type": "execute_result"
    }
   ],
   "source": [
    "num = np.zeros(10)\n",
    "for med in medications:\n",
    "    num[len(med.split())] += 1\n",
    "num"
   ]
  },
  {
   "cell_type": "code",
   "execution_count": 16,
   "metadata": {},
   "outputs": [
    {
     "data": {
      "text/html": [
       "\n",
       "    <div class=\"bk-root\">\n",
       "        <a href=\"http://bokeh.pydata.org\" target=\"_blank\" class=\"bk-logo bk-logo-small bk-logo-notebook\"></a>\n",
       "        <span id=\"aff6b1b0-1151-4fce-a117-9d69c2ddd579\">Loading BokehJS ...</span>\n",
       "    </div>"
      ]
     },
     "metadata": {},
     "output_type": "display_data"
    },
    {
     "data": {
      "application/javascript": [
       "\n",
       "(function(global) {\n",
       "  function now() {\n",
       "    return new Date();\n",
       "  }\n",
       "\n",
       "  var force = true;\n",
       "\n",
       "  if (typeof (window._bokeh_onload_callbacks) === \"undefined\" || force === true) {\n",
       "    window._bokeh_onload_callbacks = [];\n",
       "    window._bokeh_is_loading = undefined;\n",
       "  }\n",
       "\n",
       "\n",
       "  \n",
       "  if (typeof (window._bokeh_timeout) === \"undefined\" || force === true) {\n",
       "    window._bokeh_timeout = Date.now() + 5000;\n",
       "    window._bokeh_failed_load = false;\n",
       "  }\n",
       "\n",
       "  var NB_LOAD_WARNING = {'data': {'text/html':\n",
       "     \"<div style='background-color: #fdd'>\\n\"+\n",
       "     \"<p>\\n\"+\n",
       "     \"BokehJS does not appear to have successfully loaded. If loading BokehJS from CDN, this \\n\"+\n",
       "     \"may be due to a slow or bad network connection. Possible fixes:\\n\"+\n",
       "     \"</p>\\n\"+\n",
       "     \"<ul>\\n\"+\n",
       "     \"<li>re-rerun `output_notebook()` to attempt to load from CDN again, or</li>\\n\"+\n",
       "     \"<li>use INLINE resources instead, as so:</li>\\n\"+\n",
       "     \"</ul>\\n\"+\n",
       "     \"<code>\\n\"+\n",
       "     \"from bokeh.resources import INLINE\\n\"+\n",
       "     \"output_notebook(resources=INLINE)\\n\"+\n",
       "     \"</code>\\n\"+\n",
       "     \"</div>\"}};\n",
       "\n",
       "  function display_loaded() {\n",
       "    if (window.Bokeh !== undefined) {\n",
       "      var el = document.getElementById(\"aff6b1b0-1151-4fce-a117-9d69c2ddd579\");\n",
       "      el.textContent = \"BokehJS \" + Bokeh.version + \" successfully loaded.\";\n",
       "    } else if (Date.now() < window._bokeh_timeout) {\n",
       "      setTimeout(display_loaded, 100)\n",
       "    }\n",
       "  }\n",
       "\n",
       "  function run_callbacks() {\n",
       "    window._bokeh_onload_callbacks.forEach(function(callback) { callback() });\n",
       "    delete window._bokeh_onload_callbacks\n",
       "    console.info(\"Bokeh: all callbacks have finished\");\n",
       "  }\n",
       "\n",
       "  function load_libs(js_urls, callback) {\n",
       "    window._bokeh_onload_callbacks.push(callback);\n",
       "    if (window._bokeh_is_loading > 0) {\n",
       "      console.log(\"Bokeh: BokehJS is being loaded, scheduling callback at\", now());\n",
       "      return null;\n",
       "    }\n",
       "    if (js_urls == null || js_urls.length === 0) {\n",
       "      run_callbacks();\n",
       "      return null;\n",
       "    }\n",
       "    console.log(\"Bokeh: BokehJS not loaded, scheduling load and callback at\", now());\n",
       "    window._bokeh_is_loading = js_urls.length;\n",
       "    for (var i = 0; i < js_urls.length; i++) {\n",
       "      var url = js_urls[i];\n",
       "      var s = document.createElement('script');\n",
       "      s.src = url;\n",
       "      s.async = false;\n",
       "      s.onreadystatechange = s.onload = function() {\n",
       "        window._bokeh_is_loading--;\n",
       "        if (window._bokeh_is_loading === 0) {\n",
       "          console.log(\"Bokeh: all BokehJS libraries loaded\");\n",
       "          run_callbacks()\n",
       "        }\n",
       "      };\n",
       "      s.onerror = function() {\n",
       "        console.warn(\"failed to load library \" + url);\n",
       "      };\n",
       "      console.log(\"Bokeh: injecting script tag for BokehJS library: \", url);\n",
       "      document.getElementsByTagName(\"head\")[0].appendChild(s);\n",
       "    }\n",
       "  };var element = document.getElementById(\"aff6b1b0-1151-4fce-a117-9d69c2ddd579\");\n",
       "  if (element == null) {\n",
       "    console.log(\"Bokeh: ERROR: autoload.js configured with elementid 'aff6b1b0-1151-4fce-a117-9d69c2ddd579' but no matching script tag was found. \")\n",
       "    return false;\n",
       "  }\n",
       "\n",
       "  var js_urls = [\"https://cdn.pydata.org/bokeh/release/bokeh-0.12.5.min.js\", \"https://cdn.pydata.org/bokeh/release/bokeh-widgets-0.12.5.min.js\"];\n",
       "\n",
       "  var inline_js = [\n",
       "    function(Bokeh) {\n",
       "      Bokeh.set_log_level(\"info\");\n",
       "    },\n",
       "    \n",
       "    function(Bokeh) {\n",
       "      \n",
       "    },\n",
       "    \n",
       "    function(Bokeh) {\n",
       "      \n",
       "      document.getElementById(\"aff6b1b0-1151-4fce-a117-9d69c2ddd579\").textContent = \"BokehJS is loading...\";\n",
       "    },\n",
       "    function(Bokeh) {\n",
       "      console.log(\"Bokeh: injecting CSS: https://cdn.pydata.org/bokeh/release/bokeh-0.12.5.min.css\");\n",
       "      Bokeh.embed.inject_css(\"https://cdn.pydata.org/bokeh/release/bokeh-0.12.5.min.css\");\n",
       "      console.log(\"Bokeh: injecting CSS: https://cdn.pydata.org/bokeh/release/bokeh-widgets-0.12.5.min.css\");\n",
       "      Bokeh.embed.inject_css(\"https://cdn.pydata.org/bokeh/release/bokeh-widgets-0.12.5.min.css\");\n",
       "    }\n",
       "  ];\n",
       "\n",
       "  function run_inline_js() {\n",
       "    \n",
       "    if ((window.Bokeh !== undefined) || (force === true)) {\n",
       "      for (var i = 0; i < inline_js.length; i++) {\n",
       "        inline_js[i](window.Bokeh);\n",
       "      }if (force === true) {\n",
       "        display_loaded();\n",
       "      }} else if (Date.now() < window._bokeh_timeout) {\n",
       "      setTimeout(run_inline_js, 100);\n",
       "    } else if (!window._bokeh_failed_load) {\n",
       "      console.log(\"Bokeh: BokehJS failed to load within specified timeout.\");\n",
       "      window._bokeh_failed_load = true;\n",
       "    } else if (force !== true) {\n",
       "      var cell = $(document.getElementById(\"aff6b1b0-1151-4fce-a117-9d69c2ddd579\")).parents('.cell').data().cell;\n",
       "      cell.output_area.append_execute_result(NB_LOAD_WARNING)\n",
       "    }\n",
       "\n",
       "  }\n",
       "\n",
       "  if (window._bokeh_is_loading === 0) {\n",
       "    console.log(\"Bokeh: BokehJS loaded, going straight to plotting\");\n",
       "    run_inline_js();\n",
       "  } else {\n",
       "    load_libs(js_urls, function() {\n",
       "      console.log(\"Bokeh: BokehJS plotting callback run at\", now());\n",
       "      run_inline_js();\n",
       "    });\n",
       "  }\n",
       "}(this));"
      ]
     },
     "metadata": {},
     "output_type": "display_data"
    }
   ],
   "source": [
    "from bokeh.models import ColumnDataSource, LabelSet\n",
    "from bokeh.plotting import figure, show, output_file\n",
    "from bokeh.io import output_notebook\n",
    "output_notebook()"
   ]
  },
  {
   "cell_type": "code",
   "execution_count": 17,
   "metadata": {},
   "outputs": [
    {
     "data": {
      "text/plain": [
       "1000"
      ]
     },
     "execution_count": 17,
     "metadata": {},
     "output_type": "execute_result"
    }
   ],
   "source": [
    "from collections import Counter\n",
    "\n",
    "words = []\n",
    "for sent in sentences:\n",
    "    for word in sent:\n",
    "        words.append(word)\n",
    "\n",
    "cnt = Counter(words).most_common(1000)\n",
    "cnt = np.array(cnt)\n",
    "topwords = np.ndarray.tolist(cnt[:,0])\n",
    "len(topwords)"
   ]
  },
  {
   "cell_type": "code",
   "execution_count": 18,
   "metadata": {},
   "outputs": [
    {
     "name": "stdout",
     "output_type": "stream",
     "text": [
      "1792\n",
      "1792\n",
      "1792\n"
     ]
    }
   ],
   "source": [
    "visualisation = []\n",
    "\n",
    "for word in medications:\n",
    "    if word in model_I2B2.wv.vocab.keys():\n",
    "        visualisation.append(word)\n",
    "\n",
    "colormap = np.full(len(visualisation), \"red\")\n",
    "\n",
    "for word in topwords:\n",
    "    if not word in visualisation:\n",
    "        visualisation.append(word)\n",
    "        colormap = np.append(colormap, [\"blue\"])\n",
    "\n",
    "\n",
    "# This assumes words_top_ted is a list of strings, the top 1000 words\n",
    "words_vec = model_I2B2[visualisation]\n",
    "\n",
    "print(len(visualisation))\n",
    "print(len(words_vec))\n",
    "print(len(colormap))"
   ]
  },
  {
   "cell_type": "code",
   "execution_count": 19,
   "metadata": {
    "collapsed": true
   },
   "outputs": [],
   "source": [
    "from sklearn.manifold import TSNE\n",
    "tsne = TSNE(n_components=2, random_state=0)\n",
    "words_tsne = tsne.fit_transform(words_vec)"
   ]
  },
  {
   "cell_type": "code",
   "execution_count": 20,
   "metadata": {},
   "outputs": [
    {
     "data": {
      "text/html": [
       "\n",
       "\n",
       "    <div class=\"bk-root\">\n",
       "        <div class=\"bk-plotdiv\" id=\"58bbae92-92b5-49ba-946c-0473886ab685\"></div>\n",
       "    </div>\n",
       "<script type=\"text/javascript\">\n",
       "  \n",
       "  (function(global) {\n",
       "    function now() {\n",
       "      return new Date();\n",
       "    }\n",
       "  \n",
       "    var force = false;\n",
       "  \n",
       "    if (typeof (window._bokeh_onload_callbacks) === \"undefined\" || force === true) {\n",
       "      window._bokeh_onload_callbacks = [];\n",
       "      window._bokeh_is_loading = undefined;\n",
       "    }\n",
       "  \n",
       "  \n",
       "    \n",
       "    if (typeof (window._bokeh_timeout) === \"undefined\" || force === true) {\n",
       "      window._bokeh_timeout = Date.now() + 0;\n",
       "      window._bokeh_failed_load = false;\n",
       "    }\n",
       "  \n",
       "    var NB_LOAD_WARNING = {'data': {'text/html':\n",
       "       \"<div style='background-color: #fdd'>\\n\"+\n",
       "       \"<p>\\n\"+\n",
       "       \"BokehJS does not appear to have successfully loaded. If loading BokehJS from CDN, this \\n\"+\n",
       "       \"may be due to a slow or bad network connection. Possible fixes:\\n\"+\n",
       "       \"</p>\\n\"+\n",
       "       \"<ul>\\n\"+\n",
       "       \"<li>re-rerun `output_notebook()` to attempt to load from CDN again, or</li>\\n\"+\n",
       "       \"<li>use INLINE resources instead, as so:</li>\\n\"+\n",
       "       \"</ul>\\n\"+\n",
       "       \"<code>\\n\"+\n",
       "       \"from bokeh.resources import INLINE\\n\"+\n",
       "       \"output_notebook(resources=INLINE)\\n\"+\n",
       "       \"</code>\\n\"+\n",
       "       \"</div>\"}};\n",
       "  \n",
       "    function display_loaded() {\n",
       "      if (window.Bokeh !== undefined) {\n",
       "        var el = document.getElementById(\"58bbae92-92b5-49ba-946c-0473886ab685\");\n",
       "        el.textContent = \"BokehJS \" + Bokeh.version + \" successfully loaded.\";\n",
       "      } else if (Date.now() < window._bokeh_timeout) {\n",
       "        setTimeout(display_loaded, 100)\n",
       "      }\n",
       "    }\n",
       "  \n",
       "    function run_callbacks() {\n",
       "      window._bokeh_onload_callbacks.forEach(function(callback) { callback() });\n",
       "      delete window._bokeh_onload_callbacks\n",
       "      console.info(\"Bokeh: all callbacks have finished\");\n",
       "    }\n",
       "  \n",
       "    function load_libs(js_urls, callback) {\n",
       "      window._bokeh_onload_callbacks.push(callback);\n",
       "      if (window._bokeh_is_loading > 0) {\n",
       "        console.log(\"Bokeh: BokehJS is being loaded, scheduling callback at\", now());\n",
       "        return null;\n",
       "      }\n",
       "      if (js_urls == null || js_urls.length === 0) {\n",
       "        run_callbacks();\n",
       "        return null;\n",
       "      }\n",
       "      console.log(\"Bokeh: BokehJS not loaded, scheduling load and callback at\", now());\n",
       "      window._bokeh_is_loading = js_urls.length;\n",
       "      for (var i = 0; i < js_urls.length; i++) {\n",
       "        var url = js_urls[i];\n",
       "        var s = document.createElement('script');\n",
       "        s.src = url;\n",
       "        s.async = false;\n",
       "        s.onreadystatechange = s.onload = function() {\n",
       "          window._bokeh_is_loading--;\n",
       "          if (window._bokeh_is_loading === 0) {\n",
       "            console.log(\"Bokeh: all BokehJS libraries loaded\");\n",
       "            run_callbacks()\n",
       "          }\n",
       "        };\n",
       "        s.onerror = function() {\n",
       "          console.warn(\"failed to load library \" + url);\n",
       "        };\n",
       "        console.log(\"Bokeh: injecting script tag for BokehJS library: \", url);\n",
       "        document.getElementsByTagName(\"head\")[0].appendChild(s);\n",
       "      }\n",
       "    };var element = document.getElementById(\"58bbae92-92b5-49ba-946c-0473886ab685\");\n",
       "    if (element == null) {\n",
       "      console.log(\"Bokeh: ERROR: autoload.js configured with elementid '58bbae92-92b5-49ba-946c-0473886ab685' but no matching script tag was found. \")\n",
       "      return false;\n",
       "    }\n",
       "  \n",
       "    var js_urls = [];\n",
       "  \n",
       "    var inline_js = [\n",
       "      function(Bokeh) {\n",
       "        (function() {\n",
       "          var fn = function() {\n",
       "            var docs_json = {\"156e816e-540a-462b-85cf-d07c40c60d58\":{\"roots\":{\"references\":[{\"attributes\":{\"below\":[{\"id\":\"d1b58640-4c4f-408e-b48e-0bee739bda5f\",\"type\":\"LinearAxis\"}],\"left\":[{\"id\":\"7c681298-0861-41aa-b101-8cf50c6eaeda\",\"type\":\"LinearAxis\"}],\"renderers\":[{\"id\":\"d1b58640-4c4f-408e-b48e-0bee739bda5f\",\"type\":\"LinearAxis\"},{\"id\":\"0123e955-f255-459c-9acd-01bde29f5ede\",\"type\":\"Grid\"},{\"id\":\"7c681298-0861-41aa-b101-8cf50c6eaeda\",\"type\":\"LinearAxis\"},{\"id\":\"fd96ee63-37f6-4f34-808d-3fa00a3daa1c\",\"type\":\"Grid\"},{\"id\":\"135c30e4-c061-4085-8bfb-9741756c1158\",\"type\":\"GlyphRenderer\"},{\"id\":\"3fbfc426-a3a5-41dd-b319-4f4226eeda56\",\"type\":\"LabelSet\"}],\"title\":{\"id\":\"f2d9817a-16a9-4ebf-bdaf-c4cc2762c66d\",\"type\":\"Title\"},\"tool_events\":{\"id\":\"a3364cb1-db8d-4ad5-b778-fe0309aab8b1\",\"type\":\"ToolEvents\"},\"toolbar\":{\"id\":\"67ae88e7-e5d3-496e-af52-21e51d88e0dc\",\"type\":\"Toolbar\"},\"toolbar_location\":\"above\",\"x_range\":{\"id\":\"d1d438d2-9b3b-4595-915c-8371bd3c2b3f\",\"type\":\"DataRange1d\"},\"y_range\":{\"id\":\"d3c2f514-2e41-444d-b0b4-0c27de3cc4fc\",\"type\":\"DataRange1d\"}},\"id\":\"6b5ac7cd-c461-4d4e-9cf6-a49930e53eab\",\"subtype\":\"Figure\",\"type\":\"Plot\"},{\"attributes\":{\"active_drag\":\"auto\",\"active_scroll\":\"auto\",\"active_tap\":\"auto\",\"tools\":[{\"id\":\"587088ef-b1d3-40d8-b394-f1c080b0f732\",\"type\":\"PanTool\"},{\"id\":\"5fcd10c8-0bc6-41fc-8004-61c90a1a256b\",\"type\":\"WheelZoomTool\"},{\"id\":\"7cb32793-c129-4f6b-9665-c74b1f3da579\",\"type\":\"ResetTool\"},{\"id\":\"26073939-f3bd-4b83-b904-8883947db023\",\"type\":\"SaveTool\"}]},\"id\":\"67ae88e7-e5d3-496e-af52-21e51d88e0dc\",\"type\":\"Toolbar\"},{\"attributes\":{\"fill_alpha\":{\"value\":0.1},\"fill_color\":{\"value\":\"#1f77b4\"},\"line_alpha\":{\"value\":0.1},\"line_color\":{\"value\":\"#1f77b4\"},\"size\":{\"units\":\"screen\",\"value\":8},\"x\":{\"field\":\"x1\"},\"y\":{\"field\":\"x2\"}},\"id\":\"7e744c61-875d-4a65-92a4-2e243339230f\",\"type\":\"Circle\"},{\"attributes\":{\"callback\":null,\"column_names\":[\"x1\",\"coloring\",\"names\",\"x2\"],\"data\":{\"coloring\":[\"red\",\"red\",\"red\",\"red\",\"red\",\"red\",\"red\",\"red\",\"red\",\"red\",\"red\",\"red\",\"red\",\"red\",\"red\",\"red\",\"red\",\"red\",\"red\",\"red\",\"red\",\"red\",\"red\",\"red\",\"red\",\"red\",\"red\",\"red\",\"red\",\"red\",\"red\",\"red\",\"red\",\"red\",\"red\",\"red\",\"red\",\"red\",\"red\",\"red\",\"red\",\"red\",\"red\",\"red\",\"red\",\"red\",\"red\",\"red\",\"red\",\"red\",\"red\",\"red\",\"red\",\"red\",\"red\",\"red\",\"red\",\"red\",\"red\",\"red\",\"red\",\"red\",\"red\",\"red\",\"red\",\"red\",\"red\",\"red\",\"red\",\"red\",\"red\",\"red\",\"red\",\"red\",\"red\",\"red\",\"red\",\"red\",\"red\",\"red\",\"red\",\"red\",\"red\",\"red\",\"red\",\"red\",\"red\",\"red\",\"red\",\"red\",\"red\",\"red\",\"red\",\"red\",\"red\",\"red\",\"red\",\"red\",\"red\",\"red\",\"red\",\"red\",\"red\",\"red\",\"red\",\"red\",\"red\",\"red\",\"red\",\"red\",\"red\",\"red\",\"red\",\"red\",\"red\",\"red\",\"red\",\"red\",\"red\",\"red\",\"red\",\"red\",\"red\",\"red\",\"red\",\"red\",\"red\",\"red\",\"red\",\"red\",\"red\",\"red\",\"red\",\"red\",\"red\",\"red\",\"red\",\"red\",\"red\",\"red\",\"red\",\"red\",\"red\",\"red\",\"red\",\"red\",\"red\",\"red\",\"red\",\"red\",\"red\",\"red\",\"red\",\"red\",\"red\",\"red\",\"red\",\"red\",\"red\",\"red\",\"red\",\"red\",\"red\",\"red\",\"red\",\"red\",\"red\",\"red\",\"red\",\"red\",\"red\",\"red\",\"red\",\"red\",\"red\",\"red\",\"red\",\"red\",\"red\",\"red\",\"red\",\"red\",\"red\",\"red\",\"red\",\"red\",\"red\",\"red\",\"red\",\"red\",\"red\",\"red\",\"red\",\"red\",\"red\",\"red\",\"red\",\"red\",\"red\",\"red\",\"red\",\"red\",\"red\",\"red\",\"red\",\"red\",\"red\",\"red\",\"red\",\"red\",\"red\",\"red\",\"red\",\"red\",\"red\",\"red\",\"red\",\"red\",\"red\",\"red\",\"red\",\"red\",\"red\",\"red\",\"red\",\"red\",\"red\",\"red\",\"red\",\"red\",\"red\",\"red\",\"red\",\"red\",\"red\",\"red\",\"red\",\"red\",\"red\",\"red\",\"red\",\"red\",\"red\",\"red\",\"red\",\"red\",\"red\",\"red\",\"red\",\"red\",\"red\",\"red\",\"red\",\"red\",\"red\",\"red\",\"red\",\"red\",\"red\",\"red\",\"red\",\"red\",\"red\",\"red\",\"red\",\"red\",\"red\",\"red\",\"red\",\"red\",\"red\",\"red\",\"red\",\"red\",\"red\",\"red\",\"red\",\"red\",\"red\",\"red\",\"red\",\"red\",\"red\",\"red\",\"red\",\"red\",\"red\",\"red\",\"red\",\"red\",\"red\",\"red\",\"red\",\"red\",\"red\",\"red\",\"red\",\"red\",\"red\",\"red\",\"red\",\"red\",\"red\",\"red\",\"red\",\"red\",\"red\",\"red\",\"red\",\"red\",\"red\",\"red\",\"red\",\"red\",\"red\",\"red\",\"red\",\"red\",\"red\",\"red\",\"red\",\"red\",\"red\",\"red\",\"red\",\"red\",\"red\",\"red\",\"red\",\"red\",\"red\",\"red\",\"red\",\"red\",\"red\",\"red\",\"red\",\"red\",\"red\",\"red\",\"red\",\"red\",\"red\",\"red\",\"red\",\"red\",\"red\",\"red\",\"red\",\"red\",\"red\",\"red\",\"red\",\"red\",\"red\",\"red\",\"red\",\"red\",\"red\",\"red\",\"red\",\"red\",\"red\",\"red\",\"red\",\"red\",\"red\",\"red\",\"red\",\"red\",\"red\",\"red\",\"red\",\"red\",\"red\",\"red\",\"red\",\"red\",\"red\",\"red\",\"red\",\"red\",\"red\",\"red\",\"red\",\"red\",\"red\",\"red\",\"red\",\"red\",\"red\",\"red\",\"red\",\"red\",\"red\",\"red\",\"red\",\"red\",\"red\",\"red\",\"red\",\"red\",\"red\",\"red\",\"red\",\"red\",\"red\",\"red\",\"red\",\"red\",\"red\",\"red\",\"red\",\"red\",\"red\",\"red\",\"red\",\"red\",\"red\",\"red\",\"red\",\"red\",\"red\",\"red\",\"red\",\"red\",\"red\",\"red\",\"red\",\"red\",\"red\",\"red\",\"red\",\"red\",\"red\",\"red\",\"red\",\"red\",\"red\",\"red\",\"red\",\"red\",\"red\",\"red\",\"red\",\"red\",\"red\",\"red\",\"red\",\"red\",\"red\",\"red\",\"red\",\"red\",\"red\",\"red\",\"red\",\"red\",\"red\",\"red\",\"red\",\"red\",\"red\",\"red\",\"red\",\"red\",\"red\",\"red\",\"red\",\"red\",\"red\",\"red\",\"red\",\"red\",\"red\",\"red\",\"red\",\"red\",\"red\",\"red\",\"red\",\"red\",\"red\",\"red\",\"red\",\"red\",\"red\",\"red\",\"red\",\"red\",\"red\",\"red\",\"red\",\"red\",\"red\",\"red\",\"red\",\"red\",\"red\",\"red\",\"red\",\"red\",\"red\",\"red\",\"red\",\"red\",\"red\",\"red\",\"red\",\"red\",\"red\",\"red\",\"red\",\"red\",\"red\",\"red\",\"red\",\"red\",\"red\",\"red\",\"red\",\"red\",\"red\",\"red\",\"red\",\"red\",\"red\",\"red\",\"red\",\"red\",\"red\",\"red\",\"red\",\"red\",\"red\",\"red\",\"red\",\"red\",\"red\",\"red\",\"red\",\"red\",\"red\",\"red\",\"red\",\"red\",\"red\",\"red\",\"red\",\"red\",\"red\",\"red\",\"red\",\"red\",\"red\",\"red\",\"red\",\"red\",\"red\",\"red\",\"red\",\"red\",\"red\",\"red\",\"red\",\"red\",\"red\",\"red\",\"red\",\"red\",\"red\",\"red\",\"red\",\"red\",\"red\",\"red\",\"red\",\"red\",\"red\",\"red\",\"red\",\"red\",\"red\",\"red\",\"red\",\"red\",\"red\",\"red\",\"red\",\"red\",\"red\",\"red\",\"red\",\"red\",\"red\",\"red\",\"red\",\"red\",\"red\",\"red\",\"red\",\"red\",\"red\",\"red\",\"red\",\"red\",\"red\",\"red\",\"red\",\"red\",\"red\",\"red\",\"red\",\"red\",\"red\",\"red\",\"red\",\"red\",\"red\",\"red\",\"red\",\"red\",\"red\",\"red\",\"red\",\"red\",\"red\",\"red\",\"red\",\"red\",\"red\",\"red\",\"red\",\"red\",\"red\",\"red\",\"red\",\"red\",\"red\",\"red\",\"red\",\"red\",\"red\",\"red\",\"red\",\"red\",\"red\",\"red\",\"red\",\"red\",\"red\",\"red\",\"red\",\"red\",\"red\",\"red\",\"red\",\"red\",\"red\",\"red\",\"red\",\"red\",\"red\",\"red\",\"red\",\"red\",\"red\",\"red\",\"red\",\"red\",\"red\",\"red\",\"red\",\"red\",\"red\",\"red\",\"red\",\"red\",\"red\",\"red\",\"red\",\"red\",\"red\",\"red\",\"red\",\"red\",\"red\",\"red\",\"red\",\"red\",\"red\",\"red\",\"red\",\"red\",\"red\",\"red\",\"red\",\"red\",\"red\",\"red\",\"red\",\"red\",\"red\",\"red\",\"red\",\"red\",\"red\",\"red\",\"red\",\"red\",\"red\",\"red\",\"red\",\"red\",\"red\",\"red\",\"red\",\"red\",\"red\",\"red\",\"red\",\"red\",\"red\",\"red\",\"red\",\"red\",\"red\",\"red\",\"red\",\"red\",\"red\",\"red\",\"red\",\"red\",\"red\",\"red\",\"red\",\"red\",\"red\",\"red\",\"red\",\"red\",\"red\",\"red\",\"red\",\"red\",\"red\",\"red\",\"red\",\"red\",\"red\",\"red\",\"red\",\"red\",\"red\",\"red\",\"red\",\"red\",\"red\",\"red\",\"red\",\"red\",\"red\",\"red\",\"red\",\"red\",\"red\",\"red\",\"red\",\"red\",\"red\",\"red\",\"red\",\"red\",\"red\",\"red\",\"red\",\"red\",\"red\",\"red\",\"red\",\"red\",\"red\",\"red\",\"red\",\"red\",\"red\",\"red\",\"red\",\"red\",\"red\",\"red\",\"red\",\"red\",\"red\",\"red\",\"red\",\"red\",\"red\",\"red\",\"red\",\"red\",\"red\",\"red\",\"red\",\"red\",\"red\",\"red\",\"red\",\"red\",\"red\",\"red\",\"red\",\"red\",\"red\",\"red\",\"red\",\"red\",\"red\",\"red\",\"red\",\"red\",\"red\",\"red\",\"red\",\"red\",\"red\",\"red\",\"red\",\"red\",\"red\",\"red\",\"red\",\"red\",\"red\",\"red\",\"red\",\"red\",\"red\",\"red\",\"red\",\"red\",\"red\",\"red\",\"red\",\"red\",\"red\",\"red\",\"red\",\"red\",\"red\",\"red\",\"red\",\"red\",\"red\",\"red\",\"red\",\"red\",\"red\",\"red\",\"red\",\"red\",\"red\",\"red\",\"red\",\"red\",\"red\",\"red\",\"red\",\"red\",\"red\",\"red\",\"red\",\"red\",\"red\",\"red\",\"red\",\"red\",\"red\",\"red\",\"red\",\"red\",\"red\",\"red\",\"red\",\"red\",\"red\",\"red\",\"red\",\"red\",\"red\",\"red\",\"red\",\"red\",\"red\",\"red\",\"red\",\"red\",\"red\",\"red\",\"red\",\"red\",\"red\",\"red\",\"red\",\"red\",\"red\",\"red\",\"red\",\"red\",\"red\",\"red\",\"red\",\"red\",\"red\",\"red\",\"red\",\"red\",\"red\",\"red\",\"red\",\"red\",\"red\",\"red\",\"red\",\"blue\",\"blue\",\"blue\",\"blue\",\"blue\",\"blue\",\"blue\",\"blue\",\"blue\",\"blue\",\"blue\",\"blue\",\"blue\",\"blue\",\"blue\",\"blue\",\"blue\",\"blue\",\"blue\",\"blue\",\"blue\",\"blue\",\"blue\",\"blue\",\"blue\",\"blue\",\"blue\",\"blue\",\"blue\",\"blue\",\"blue\",\"blue\",\"blue\",\"blue\",\"blue\",\"blue\",\"blue\",\"blue\",\"blue\",\"blue\",\"blue\",\"blue\",\"blue\",\"blue\",\"blue\",\"blue\",\"blue\",\"blue\",\"blue\",\"blue\",\"blue\",\"blue\",\"blue\",\"blue\",\"blue\",\"blue\",\"blue\",\"blue\",\"blue\",\"blue\",\"blue\",\"blue\",\"blue\",\"blue\",\"blue\",\"blue\",\"blue\",\"blue\",\"blue\",\"blue\",\"blue\",\"blue\",\"blue\",\"blue\",\"blue\",\"blue\",\"blue\",\"blue\",\"blue\",\"blue\",\"blue\",\"blue\",\"blue\",\"blue\",\"blue\",\"blue\",\"blue\",\"blue\",\"blue\",\"blue\",\"blue\",\"blue\",\"blue\",\"blue\",\"blue\",\"blue\",\"blue\",\"blue\",\"blue\",\"blue\",\"blue\",\"blue\",\"blue\",\"blue\",\"blue\",\"blue\",\"blue\",\"blue\",\"blue\",\"blue\",\"blue\",\"blue\",\"blue\",\"blue\",\"blue\",\"blue\",\"blue\",\"blue\",\"blue\",\"blue\",\"blue\",\"blue\",\"blue\",\"blue\",\"blue\",\"blue\",\"blue\",\"blue\",\"blue\",\"blue\",\"blue\",\"blue\",\"blue\",\"blue\",\"blue\",\"blue\",\"blue\",\"blue\",\"blue\",\"blue\",\"blue\",\"blue\",\"blue\",\"blue\",\"blue\",\"blue\",\"blue\",\"blue\",\"blue\",\"blue\",\"blue\",\"blue\",\"blue\",\"blue\",\"blue\",\"blue\",\"blue\",\"blue\",\"blue\",\"blue\",\"blue\",\"blue\",\"blue\",\"blue\",\"blue\",\"blue\",\"blue\",\"blue\",\"blue\",\"blue\",\"blue\",\"blue\",\"blue\",\"blue\",\"blue\",\"blue\",\"blue\",\"blue\",\"blue\",\"blue\",\"blue\",\"blue\",\"blue\",\"blue\",\"blue\",\"blue\",\"blue\",\"blue\",\"blue\",\"blue\",\"blue\",\"blue\",\"blue\",\"blue\",\"blue\",\"blue\",\"blue\",\"blue\",\"blue\",\"blue\",\"blue\",\"blue\",\"blue\",\"blue\",\"blue\",\"blue\",\"blue\",\"blue\",\"blue\",\"blue\",\"blue\",\"blue\",\"blue\",\"blue\",\"blue\",\"blue\",\"blue\",\"blue\",\"blue\",\"blue\",\"blue\",\"blue\",\"blue\",\"blue\",\"blue\",\"blue\",\"blue\",\"blue\",\"blue\",\"blue\",\"blue\",\"blue\",\"blue\",\"blue\",\"blue\",\"blue\",\"blue\",\"blue\",\"blue\",\"blue\",\"blue\",\"blue\",\"blue\",\"blue\",\"blue\",\"blue\",\"blue\",\"blue\",\"blue\",\"blue\",\"blue\",\"blue\",\"blue\",\"blue\",\"blue\",\"blue\",\"blue\",\"blue\",\"blue\",\"blue\",\"blue\",\"blue\",\"blue\",\"blue\",\"blue\",\"blue\",\"blue\",\"blue\",\"blue\",\"blue\",\"blue\",\"blue\",\"blue\",\"blue\",\"blue\",\"blue\",\"blue\",\"blue\",\"blue\",\"blue\",\"blue\",\"blue\",\"blue\",\"blue\",\"blue\",\"blue\",\"blue\",\"blue\",\"blue\",\"blue\",\"blue\",\"blue\",\"blue\",\"blue\",\"blue\",\"blue\",\"blue\",\"blue\",\"blue\",\"blue\",\"blue\",\"blue\",\"blue\",\"blue\",\"blue\",\"blue\",\"blue\",\"blue\",\"blue\",\"blue\",\"blue\",\"blue\",\"blue\",\"blue\",\"blue\",\"blue\",\"blue\",\"blue\",\"blue\",\"blue\",\"blue\",\"blue\",\"blue\",\"blue\",\"blue\",\"blue\",\"blue\",\"blue\",\"blue\",\"blue\",\"blue\",\"blue\",\"blue\",\"blue\",\"blue\",\"blue\",\"blue\",\"blue\",\"blue\",\"blue\",\"blue\",\"blue\",\"blue\",\"blue\",\"blue\",\"blue\",\"blue\",\"blue\",\"blue\",\"blue\",\"blue\",\"blue\",\"blue\",\"blue\",\"blue\",\"blue\",\"blue\",\"blue\",\"blue\",\"blue\",\"blue\",\"blue\",\"blue\",\"blue\",\"blue\",\"blue\",\"blue\",\"blue\",\"blue\",\"blue\",\"blue\",\"blue\",\"blue\",\"blue\",\"blue\",\"blue\",\"blue\",\"blue\",\"blue\",\"blue\",\"blue\",\"blue\",\"blue\",\"blue\",\"blue\",\"blue\",\"blue\",\"blue\",\"blue\",\"blue\",\"blue\",\"blue\",\"blue\",\"blue\",\"blue\",\"blue\",\"blue\",\"blue\",\"blue\",\"blue\",\"blue\",\"blue\",\"blue\",\"blue\",\"blue\",\"blue\",\"blue\",\"blue\",\"blue\",\"blue\",\"blue\",\"blue\",\"blue\",\"blue\",\"blue\",\"blue\",\"blue\",\"blue\",\"blue\",\"blue\",\"blue\",\"blue\",\"blue\",\"blue\",\"blue\",\"blue\",\"blue\",\"blue\",\"blue\",\"blue\",\"blue\",\"blue\",\"blue\",\"blue\",\"blue\",\"blue\",\"blue\",\"blue\",\"blue\",\"blue\",\"blue\",\"blue\",\"blue\",\"blue\",\"blue\",\"blue\",\"blue\",\"blue\",\"blue\",\"blue\",\"blue\",\"blue\",\"blue\",\"blue\",\"blue\",\"blue\",\"blue\",\"blue\",\"blue\",\"blue\",\"blue\",\"blue\",\"blue\",\"blue\",\"blue\",\"blue\",\"blue\",\"blue\",\"blue\",\"blue\",\"blue\",\"blue\",\"blue\",\"blue\",\"blue\",\"blue\",\"blue\",\"blue\",\"blue\",\"blue\",\"blue\",\"blue\",\"blue\",\"blue\",\"blue\",\"blue\",\"blue\",\"blue\",\"blue\",\"blue\",\"blue\",\"blue\",\"blue\",\"blue\",\"blue\",\"blue\",\"blue\",\"blue\",\"blue\",\"blue\",\"blue\",\"blue\",\"blue\",\"blue\",\"blue\",\"blue\",\"blue\",\"blue\",\"blue\",\"blue\",\"blue\",\"blue\",\"blue\",\"blue\",\"blue\",\"blue\",\"blue\",\"blue\",\"blue\",\"blue\",\"blue\",\"blue\",\"blue\",\"blue\",\"blue\",\"blue\",\"blue\",\"blue\",\"blue\",\"blue\",\"blue\",\"blue\",\"blue\",\"blue\",\"blue\",\"blue\",\"blue\",\"blue\",\"blue\",\"blue\",\"blue\",\"blue\",\"blue\",\"blue\",\"blue\",\"blue\",\"blue\",\"blue\",\"blue\",\"blue\",\"blue\",\"blue\",\"blue\",\"blue\",\"blue\",\"blue\",\"blue\",\"blue\",\"blue\",\"blue\",\"blue\",\"blue\",\"blue\",\"blue\",\"blue\",\"blue\",\"blue\",\"blue\",\"blue\",\"blue\",\"blue\",\"blue\",\"blue\",\"blue\",\"blue\",\"blue\",\"blue\",\"blue\",\"blue\",\"blue\",\"blue\",\"blue\",\"blue\",\"blue\",\"blue\",\"blue\",\"blue\",\"blue\",\"blue\",\"blue\",\"blue\",\"blue\",\"blue\",\"blue\",\"blue\",\"blue\",\"blue\",\"blue\",\"blue\",\"blue\",\"blue\",\"blue\",\"blue\",\"blue\",\"blue\",\"blue\",\"blue\",\"blue\",\"blue\",\"blue\",\"blue\",\"blue\",\"blue\",\"blue\",\"blue\",\"blue\",\"blue\",\"blue\",\"blue\",\"blue\",\"blue\",\"blue\",\"blue\",\"blue\",\"blue\",\"blue\",\"blue\",\"blue\",\"blue\",\"blue\",\"blue\",\"blue\",\"blue\",\"blue\",\"blue\",\"blue\",\"blue\",\"blue\",\"blue\",\"blue\",\"blue\",\"blue\",\"blue\",\"blue\",\"blue\",\"blue\",\"blue\",\"blue\",\"blue\",\"blue\",\"blue\",\"blue\",\"blue\",\"blue\",\"blue\",\"blue\",\"blue\",\"blue\",\"blue\",\"blue\",\"blue\",\"blue\",\"blue\",\"blue\",\"blue\",\"blue\",\"blue\",\"blue\",\"blue\",\"blue\",\"blue\",\"blue\",\"blue\",\"blue\",\"blue\",\"blue\",\"blue\",\"blue\",\"blue\",\"blue\",\"blue\",\"blue\",\"blue\",\"blue\",\"blue\",\"blue\",\"blue\",\"blue\",\"blue\",\"blue\",\"blue\",\"blue\",\"blue\",\"blue\",\"blue\",\"blue\",\"blue\",\"blue\",\"blue\",\"blue\",\"blue\",\"blue\",\"blue\",\"blue\",\"blue\",\"blue\",\"blue\",\"blue\",\"blue\",\"blue\",\"blue\",\"blue\",\"blue\",\"blue\",\"blue\",\"blue\",\"blue\",\"blue\",\"blue\",\"blue\",\"blue\",\"blue\",\"blue\",\"blue\",\"blue\",\"blue\",\"blue\",\"blue\",\"blue\",\"blue\",\"blue\",\"blue\",\"blue\",\"blue\",\"blue\",\"blue\",\"blue\",\"blue\",\"blue\",\"blue\",\"blue\",\"blue\",\"blue\",\"blue\",\"blue\",\"blue\",\"blue\",\"blue\",\"blue\",\"blue\",\"blue\",\"blue\",\"blue\",\"blue\",\"blue\",\"blue\",\"blue\",\"blue\",\"blue\",\"blue\",\"blue\",\"blue\",\"blue\",\"blue\",\"blue\",\"blue\",\"blue\",\"blue\",\"blue\",\"blue\",\"blue\",\"blue\",\"blue\",\"blue\",\"blue\",\"blue\",\"blue\",\"blue\",\"blue\",\"blue\",\"blue\",\"blue\",\"blue\",\"blue\",\"blue\",\"blue\",\"blue\",\"blue\",\"blue\",\"blue\",\"blue\",\"blue\",\"blue\",\"blue\",\"blue\",\"blue\",\"blue\",\"blue\",\"blue\",\"blue\",\"blue\",\"blue\",\"blue\",\"blue\",\"blue\",\"blue\",\"blue\",\"blue\",\"blue\",\"blue\",\"blue\",\"blue\",\"blue\",\"blue\",\"blue\",\"blue\",\"blue\",\"blue\",\"blue\",\"blue\",\"blue\",\"blue\",\"blue\",\"blue\",\"blue\",\"blue\",\"blue\",\"blue\",\"blue\",\"blue\",\"blue\",\"blue\",\"blue\",\"blue\",\"blue\",\"blue\",\"blue\",\"blue\",\"blue\",\"blue\",\"blue\",\"blue\",\"blue\",\"blue\",\"blue\",\"blue\",\"blue\",\"blue\",\"blue\",\"blue\",\"blue\",\"blue\",\"blue\",\"blue\",\"blue\",\"blue\",\"blue\",\"blue\",\"blue\",\"blue\",\"blue\",\"blue\",\"blue\",\"blue\",\"blue\",\"blue\",\"blue\"],\"names\":[\"ofloxacin\",\"insulin\",\"nph\",\"colace\",\"percocet\",\"coumadin\",\"heparin\",\"vancomycin\",\"axid\",\"lopressor\",\"zestril\",\"ecotrin\",\"isordil\",\"urokinase\",\"lente\",\"antibiotics\",\"epinephrine\",\"humalog\",\"aspirin\",\"lasix\",\"motrin\",\"nasal\",\"cannula\",\"atenolol\",\"metformin\",\"potassium\",\"chloride\",\"slow\",\"release\",\"ciprofloxacin\",\"novolog\",\"baby\",\"lantus\",\"glucophage\",\"lovenox\",\"klonopin\",\"celexa\",\"fresh\",\"frozen\",\"plasma\",\"lipitor\",\"plavix\",\"captopril\",\"zocor\",\"packed\",\"red\",\"blood\",\"cells\",\"nitroglycerin\",\"tylenol\",\"neurontin\",\"folate\",\"pain\",\"medication\",\"phoslo\",\"lyrica\",\"gemfibrozil\",\"ketamine\",\"medications\",\"unasyn\",\"renagel\",\"fentanyl\",\"pca\",\"nephrocaps\",\"levofloxacin\",\"flagyl\",\"oxycontin\",\"requip\",\"aspart\",\"protonix\",\"ativan\",\"oxycodone\",\"augmentin\",\"lisinopril\",\"digoxin\",\"troglipazone\",\"magnesium\",\"oxide\",\"simvastatin\",\"clonazepam\",\"ptu\",\"isosorbide\",\"amiodarone\",\"levothyroxine\",\"sodium\",\"glipizide\",\"cefpodoxime\",\"haldol\",\"depakote\",\"ceftriaxone\",\"albuterol\",\"butt\",\"paste\",\"gabapentin\",\"loperamide\",\"thiamine\",\"nexium\",\"sevelamer\",\"labetalol\",\"inhaler\",\"norvasc\",\"nifedipine\",\"extended\",\"hydrochlorothiazide\",\"linezolid\",\"sarna\",\"warfarin\",\"acetylsalicylic\",\"acid\",\"kcl\",\"immediate\",\"vanc\",\"ada\",\"levo\",\"glyburide\",\"trazodone\",\"micronase\",\"verapamil\",\"loratadine\",\"mgoxide\",\"singulair\",\"ambien\",\"sustained\",\"keflex\",\"patanol\",\"effexor\",\"atrovent\",\"amox\",\"loratidine\",\"rhinocort\",\"contrast\",\"dye\",\"enalapril\",\"cardizem\",\"nafcillin\",\"dicloxacillin\",\"diuretic\",\"regimen\",\"spironolactone\",\"torsemide\",\"pletal\",\"procrit\",\"zantac\",\"antibiotic\",\"fluoroquinolone\",\"clindamycin\",\"metolazone\",\"electrolytes\",\"hydralazine\",\"anticoagulation\",\"procardia\",\"revatio\",\"oxygen\",\"home\",\"dilaudid\",\"allopurinol\",\"indocin\",\"narcotics\",\"prilosec\",\"diovan\",\"multivitamin\",\"colchicine\",\"beta\",\"blocker\",\"pendalol\",\"amoxicillin\",\"prinivil\",\"synthroid\",\"pepcid\",\"ace\",\"inhibitor\",\"statin\",\"beclomethasone\",\"diproprionate\",\"double\",\"strength\",\"spray\",\"toprol\",\"xl\",\"imdur\",\"valsartan\",\"atorvastatin\",\"levoxyl\",\"neosynephrine\",\"tpa\",\"amlodipine\",\"enteric\",\"coated\",\"cefotaxime\",\"diltiazem\",\"czi\",\"nortriptyline\",\"fluoxetine\",\"diuril\",\"advair\",\"steroid\",\"cardiac\",\"meds\",\"zetia\",\"diskus\",\"prednisone\",\"taper\",\"streptokinase\",\"multivitamins\",\"xanax\",\"nitrates\",\"blockade\",\"drip\",\"calcium\",\"channel\",\"nitroglycerins\",\"antacids\",\"serax\",\"docusate\",\"losartan\",\"terazosin\",\"hcl\",\"pantoprazole\",\"asa\",\"mg\",\"above\",\"bb\",\"ppi\",\"darvocet\",\"tordal\",\"humulin\",\"lotensin\",\"supplement\",\"ketorolac\",\"crystalloid\",\"vicodan\",\"naprosyn\",\"halcion\",\"folic\",\"ramipril\",\"clopidogrel\",\"tng\",\"ccb\",\"htn\",\"iron\",\"sulfate\",\"regular\",\"xalatan\",\"eye\",\"drops\",\"metoprolol\",\"senna\",\"tablets\",\"nitrate\",\"supplementation\",\"ferrous\",\"combivent\",\"dinitrate\",\"tartrate\",\"carafate\",\"flexeril\",\"etomidate\",\"succinylcholine\",\"versed\",\"ffp\",\"cd\",\"metamucil\",\"sr\",\"zyprexa\",\"blockers\",\"inhibitors\",\"furosemide\",\"ginger\",\"product\",\"cell\",\"morphine\",\"nitro\",\"flomax\",\"cepacol\",\"claritin\",\"steroids\",\"bp\",\"diclox\",\"pneumovax\",\"neoral\",\"cyclosporine\",\"products\",\"dilt\",\"amio\",\"ecasa\",\"hctz\",\"rocaltrol\",\"erythromycin\",\"oral\",\"carvedilol\",\"niacin\",\"levoflox\",\"duonebs\",\"coreg\",\"nitropaste\",\"cardura\",\"vasotec\",\"pressure\",\"enoxaparin\",\"sprays\",\"statins\",\"er\",\"hep\",\"gtt\",\"acei\",\"ssi\",\"your\",\"accupril\",\"avandia\",\"adenosine\",\"bactrim\",\"celebrex\",\"antiinflammatory\",\"prozac\",\"human\",\"aldactone\",\"this\",\"with\",\"minerals\",\"miconazole\",\"powder\",\"cellcept\",\"pravachol\",\"vitamin\",\"d\",\"fosamax\",\"dulcolax\",\"e\",\"c\",\"fondaparinux\",\"caltrate\",\"plus\",\"niaspan\",\"abx\",\"these\",\"diabeta\",\"paxil\",\"trazadone\",\"ultram\",\"bactroban\",\"ointment\",\"reglan\",\"afrin\",\"lotrisone\",\"cream\",\"proventil\",\"inhalers\",\"ancef\",\"hibiclenz\",\"azmacort\",\"nebulizer\",\"autologous\",\"transfusion\",\"diuretics\",\"quinine\",\"famotidine\",\"ntg\",\"bolus\",\"nsaids\",\"lorazepam\",\"atovaquone\",\"bisulfate\",\"naproxen\",\"pred\",\"pcp\",\"ppx\",\"zoloft\",\"pressors\",\"glucotrol\",\"ceftizoxime\",\"penicillin\",\"fluid\",\"ceftazidime\",\"nystatin\",\"suspension\",\"g\",\"milk\",\"of\",\"magnesia\",\"liquid\",\"fluids\",\"ceptaz\",\"k\",\"bowel\",\"supplements\",\"perioperative\",\"levaquin\",\"baclofen\",\"cymbalta\",\"lamictal\",\"nicoderm\",\"patch\",\"ducolox\",\"lactulose\",\"mylanta\",\"seroquel\",\"sedating\",\"antipsychotics\",\"chemotherapy\",\"tramadol\",\"zydis\",\"plaquenil\",\"cefuroxime\",\"azithromycin\",\"amitriptyline\",\"clotrimazole\",\"nebs\",\"phenytoin\",\"bicarbonate\",\"sulfamethoxazole\",\"esomeprazole\",\"darbepoetin\",\"alfa\",\"dilantin\",\"lopressol\",\"kayexylate\",\"prbc\",\"darbopoetin\",\"nitroprusside\",\"diabinese\",\"diflucan\",\"fluconazole\",\"maalox\",\"remeron\",\"ranitidine\",\"dobutamine\",\"medicines\",\"chloral\",\"hydrate\",\"compazine\",\"phenothiazines\",\"trilafon\",\"normal\",\"saline\",\"nsaid\",\"epogen\",\"cipro\",\"flonase\",\"flovent\",\"tamoxifen\",\"catapres\",\"tartarate\",\"ocean\",\"doxazosin\",\"proxetil\",\"replacement\",\"lithium\",\"parnate\",\"pressor\",\"beclovent\",\"fibercon\",\"mvi\",\"novolin\",\"elixir\",\"citalopram\",\"rhogam\",\"vitamins\",\"vasopressin\",\"dopamine\",\"troponin\",\"argatroban\",\"mucomyst\",\"propofol\",\"triple\",\"osmolite\",\"chloraseptic\",\"gentamicin\",\"therapeutic\",\"nebulizers\",\"prochlorperazine\",\"librium\",\"gluconate\",\"timolol\",\"tagamet\",\"niferex\",\"ibuprofen\",\"bicarb\",\"epi\",\"integrilin\",\"levophed\",\"diabetes\",\"mgsulfate\",\"mom\",\"decadron\",\"tricor\",\"prednisolone\",\"gadolinium\",\"resuscitation\",\"kayexalate\",\"ferrlecit\",\"atropine\",\"lispro\",\"duoneb\",\"metoclopramide\",\"quinapril\",\"simethicone\",\"carbonate\",\"cartia\",\"xt\",\"methotrexate\",\"pravastatin\",\"cyclosporin\",\"sucralfate\",\"cozaar\",\"lescol\",\"inderal\",\"persantine\",\"ideral\",\"glucose\",\"maleate\",\"immodium\",\"phosphate\",\"b\",\"med\",\"tiazac\",\"glucometer\",\"methadone\",\"cefepime\",\"ditropan\",\"monistat\",\"corticosteroids\",\"unfractionated\",\"thorazine\",\"benztropine\",\"mesylate\",\"chlorpromazine\",\"lisinipril\",\"hypoglycemics\",\"extra\",\"his\",\"hfa\",\"aspartate\",\"solsite\",\"arb\",\"ipratropium\",\"duoderm\",\"ticlid\",\"tablet\",\"allegra\",\"vit\",\"alphagam\",\"gtts\",\"clobetizol\",\"acephex\",\"ferrex\",\"other\",\"apap\",\"ivf\",\"glypizide\",\"regimens\",\"cytovene\",\"ganciclovir\",\"nadolol\",\"gentamycin\",\"antihypertensive\",\"thyroid\",\"cortizone\",\"inp\",\"dipyridamole\",\"pack\",\"besylate\",\"azithro\",\"cvp\",\"bcnu\",\"imuran\",\"miralax\",\"msir\",\"pamidronate\",\"acyclovir\",\"tums\",\"dexamethasone\",\"sennosides\",\"mepron\",\"candesartan\",\"mscontin\",\"ms\",\"contin\",\"ciprrfloxacin\",\"econazole\",\"omeprazole\",\"per\",\"ml\",\"solution\",\"tpn\",\"irbesartan\",\"amitryptilline\",\"lactobacillus\",\"glargine\",\"mononitrate\",\"oxacillin\",\"pcn\",\"ctx\",\"prandin\",\"zinc\",\"calcitriol\",\"aranesp\",\"nesiritide\",\"hytrin\",\"bextra\",\"zofran\",\"slng\",\"integrelin\",\"aceinh\",\"keppra\",\"truvada\",\"norvir\",\"lomotil\",\"lexiva\",\"imodium\",\"probenecid\",\"coumadine\",\"metrogel\",\"acebutolol\",\"risperdal\",\"lidocaine\",\"boluses\",\"taxol\",\"premarin\",\"ansaid\",\"antihypertensives\",\"cefazolin\",\"acetaminophen\",\"robitussin\",\"rifampin\",\"ventolin\",\"linsinopril\",\"inhale\",\"dht\",\"stelazine\",\"betaxolol\",\"questran\",\"pilocarpine\",\"ac\",\"reg\",\"rocephin\",\"calcitonin\",\"kayexelate\",\"lopid\",\"alphagan\",\"inhibition\",\"ischemics\",\"relafen\",\"opium\",\"tincture\",\"atapryl\",\"outpatient\",\"kaopectate\",\"mitozalone\",\"rezulin\",\"finasteride\",\"restoril\",\"leni\",\"diabetic\",\"cephradine\",\"tylox\",\"ns\",\"inuslin\",\"carnitidine\",\"digitek\",\"mycophenolate\",\"mofetil\",\"oxybutynin\",\"succinate\",\"micronized\",\"injections\",\"colestipol\",\"hydrochloride\",\"zemplar\",\"klorcon\",\"opiates\",\"avadia\",\"riss\",\"metop\",\"p\",\"zaroxolyn\",\"tessalon\",\"codeine\",\"antianginal\",\"therapy\",\"benicar\",\"antidepressants\",\"nicotine\",\"adalat\",\"pills\",\"dyazide\",\"nose\",\"cyproheptadine\",\"nipride\",\"ampicillin\",\"guaifenesin\",\"her\",\"low\",\"molecular\",\"weight\",\"norepinephrine\",\"inotrops\",\"onoptrops\",\"vaso\",\"sedation\",\"nicardipine\",\"naturale\",\"tears\",\"lactinex\",\"granules\",\"panafil\",\"analgesic\",\"deltasone\",\"senokot\",\"lexapro\",\"ventavis\",\"cephalopsporins\",\"tracleer\",\"oceanspray\",\"nitrospray\",\"arbs\",\"stool\",\"softeners\",\"mevacor\",\"seldane\",\"isoril\",\"propranolol\",\"capoten\",\"ds\",\"clonopin\",\"mycostatin\",\"qdcalcitriol\",\"qdcalcium\",\"tidlasix\",\"transdermal\",\"qdzocor\",\"benazepril\",\"celondin\",\"atorva\",\"simva\",\"benadry\",\"primidone\",\"otc\",\"iss\",\"celecoxib\",\"narcotic\",\"lidoderm\",\"metronidazol\",\"zometa\",\"demerol\",\"ultralente\",\"adriamycin\",\"elavil\",\"clarithromycin\",\"biaxin\",\"procainamide\",\"meclizine\",\"zincate\",\"meropenem\",\"gentle\",\"hydration\",\"aprotinin\",\"nitrofurantoin\",\"imipenem\",\"chlorhexidine\",\"geodon\",\"sertraline\",\"ziprasidone\",\"bromide\",\"enoxaprin\",\"navelbine\",\"vanco\",\"citrate\",\"polysaccharide\",\"complex\",\"xr\",\"wellbutrin\",\"minipress\",\"valium\",\"corvert\",\"cough\",\"medicine\",\"silvadene\",\"valacyclovir\",\"erythropoietin\",\"ergocalciferol\",\"ethanol\",\"lovastatin\",\"nitroglycerine\",\"cholestyramine\",\"saver\",\"levatol\",\"actos\",\"avapro\",\"milrinone\",\"eplerenone\",\"temazepam\",\"cosopt\",\"travatan\",\"lyte\",\"cpap\",\"reopro\",\"agonist\",\"theophylline\",\"releas\",\"benadryl\",\"provastatin\",\"epivir\",\"actinomycin\",\"cytoxan\",\"bleomycin\",\"cisplatin\",\"lamivudine\",\"prenatal\",\"suppository\",\"indomethacin\",\"tamsulosin\",\"cisapride\",\"provera\",\"bismuth\",\"methyldopa\",\"advil\",\"alternagel\",\"estrogen\",\"stanozolol\",\"coum\",\"stanazolol\",\"seretide\",\"ionotropes\",\"hydrocortisone\",\"hypoglycemic\",\"zaroxylyn\",\"aciphex\",\"lilly\",\"pen\",\"betadine\",\"paint\",\"asacol\",\"thrombolysis\",\"lopipd\",\"maxide\",\"alimta\",\"aztreonam\",\"neupogen\",\"transfusions\",\"chemo\",\"rbc\",\"platelet\",\"cortisol\",\"peridex\",\"mouth\",\"wash\",\"cefixime\",\"that\",\"serevent\",\"trusopt\",\"pulmicort\",\"suprax\",\"dextran\",\"tenormin\",\"mannitol\",\"valproic\",\"fioricet\",\"labetolol\",\"the\",\"following\",\"tofranil\",\"vistaril\",\"methylprednisolone\",\"proscar\",\"alcohol\",\"vasopressor\",\"toradol\",\"macrolide\",\"antibio\",\"tic\",\"hydromorphone\",\"fondapurinox\",\"tarceva\",\"levocarnitine\",\"salmeterol\",\"xinafoate\",\"zaroxyln\",\"dextromethorphan\",\"hbr\",\"pindolol\",\"rosiglitazone\",\"cefalosporins\",\"angiotension\",\"receptor\",\"iv\",\"softener\",\"fosomax\",\"cardiovascular\",\"diprosone\",\"psyllium\",\"advils\",\"byetta\",\"fluticasone\",\"copd\",\"syrup\",\"analgesia\",\"roxicet\",\"qugmentin\",\"timoptic\",\"xylatan\",\"novalog\",\"general\",\"anesthesia\",\"cefotetan\",\"kefzol\",\"controlled\",\"felodipine\",\"guqifenesin\",\"prempro\",\"tapazole\",\"artificial\",\"atc\",\"actonel\",\"darvon\",\"diazepam\",\"torsamide\",\"betablocker\",\"ceftaz\",\"dm\",\"rx\",\"asp\",\"perels\",\"guiatuss\",\"bicitra\",\"micromeral\",\",\",\"<num>\",\":\",\"and\",\"was\",\"to\",\"on\",\"a\",\"in\",\"patient\",\"for\",\")\",\"<num>/<num>/<num>\",\"she\",\"(\",\"no\",\"|\",\"<num>.<num>\",\"at\",\"discharge\",\"he\",\"is\",\"had\",\"po\",\"as\",\"by\",\"history\",\"p.o.\",\"admission\",\"an\",\"<num>/<num>\",\"be\",\"were\",\"or\",\"left\",\"has\",\"day\",\"status\",\"chest\",\"hospital\",\"which\",\"not\",\"right\",\"<num>%\",\"override\",\"date\",\"will\",\"dr\",\"daily\",\"from\",\"showed\",\"course\",\"have\",\"disease\",\"heart\",\"also\",\"well\",\"time\",\"interaction\",\"up\",\"after\",\"artery\",\"but\",\"<num>-<num>\",\"m.d\",\"qd\",\"medical\",\"coronary\",\"there\",\"stable\",\"am\",\"rate\",\"diagnosis\",\"units\",\"past\",\"one\",\"post\",\"b.i.d.\",\"if\",\"report\",\"days\",\"follow\",\"given\",\"pt\",\"two\",\"without\",\"examination\",\"******\",\"negative\",\"continued\",\"renal\",\"it\",\"been\",\"summary\",\"/\",\"#<num>\",\"attending\",\"serious\",\"patient's\",\"signed\",\"noted\",\"prior\",\"<num>:<num>:<num>\",\"added\",\"bid\",\"dis\",\"admitted\",\"then\",\"diet\",\"did\",\"service\",\"<num>:<num>\",\"edema\",\"m.d.\",\"reason\",\"pulmonary\",\"physical\",\".\",\"any\",\"revealed\",\"potentially\",\"discharged\",\"breath\",\"who\",\"rhythm\",\"started\",\"creatinine\",\"hypertension\",\"room\",\"order\",\"-\",\"care\",\"during\",\"dictated\",\"lower\",\"failure\",\"&amp;\",\"q.d.\",\"condition\",\"allergies\",\"present\",\"atrial\",\"t\",\"chronic\",\"dose\",\"exam\",\"however\",\"weeks\",\"three\",\"hematocrit\",\"ekg\",\"<num>+\",\"mild\",\"acute\",\"significant\",\"please\",\"increased\",\"shortness\",\"p.r.n.\",\"out\",\"clear\",\"some\",\"inr\",\"white\",\"secondary\",\"s/p\",\"than\",\"underwent\",\"alert\",\"should\",\"evidence\",\"disposition\",\"principal\",\"x\",\"are\",\"over\",\"postoperative\",\"code\",\"s<num>\",\"illness\",\"prn\",\"treated\",\"extremities\",\"further\",\"changes\",\"surgery\",\"q\",\"count\",\"catheterization\",\"d/c\",\"bilaterally\",\"abdominal\",\"when\",\"record\",\"orders\",\"positive\",\"abdomen\",\"felt\",\"instruction\",\"take\",\"give\",\"times\",\"[report_end]\",\"w/\",\"symptoms\",\"all\",\"x-ray\",\"you\",\"myocardial\",\"#\",\"food/drg\",\"likely\",\"sinus\",\"q.\",\"t.i.d.\",\"while\",\"hours\",\"upon\",\"ct\",\"family\",\"extremity\",\"follow-up\",\"infarction\",\"full\",\"call\",\"number\",\"upper\",\"stenosis\",\"):\",\"cc\",\"week\",\"baseline\",\"pm\",\"s\",\"chf\",\"placed\",\"laboratory\",\"fibrillation\",\"starting\",\"center\",\"back\",\"remained\",\"ref\",\"md\",\"elevated\",\"continue\",\"study\",\"transferred\",\"<num>mg\",\"previous\",\"soft\",\"procedures\",\"known\",\"complications\",\"unit\",\"bilateral\",\"<num>-<num>-<num>\",\"due\",\"respiratory\",\"primary\",\"ventricular\",\"<num>-year-old\",\"may\",\"intact\",\"old\",\"allergy\",\"emergency\",\"presented\",\"congestive\",\"initially\",\"none\",\"until\",\"sounds\",\"additional\",\"instructions\",\"followed\",\"tolerated\",\"found\",\"mellitus\",\"nausea\",\"<num>.\",\"decreased\",\"approximately\",\"neck\",\"year\",\"resume\",\"bypass\",\"graft\",\"doses\",\"good\",\"mr\",\"gi\",\"ejection\",\"temperature\",\"received\",\";\",\"function\",\"x<num>\",\"since\",\"'s\",\"aware\",\"multiple\",\"we\",\"social\",\"ed\",\"evaluation\",\"cad\",\"seen\",\"infection\",\"ischemia\",\"daily.\",\"lungs\",\"end\",\"unsigned\",\"total\",\"last\",\"bun\",\"within\",\"aortic\",\"overridden\",\"before\",\"air\",\"years\",\"recent\",\"once\",\"admit\",\"pulses\",\"systolic\",\"hold\",\"signs\",\"required\",\"procedure\",\"lad\",\"throughout\",\"otherwise\",\"possible\",\"valve\",\"fraction\",\"performed\",\"use\",\"developed\",\"mi\",\"more\",\"surgical\",\"today\",\"notable\",\"four\",\"anterior\",\"new\",\"house\",\"high\",\"lesion\",\"exercise\",\"echo\",\"severe\",\"brief\",\"used\",\"id\",\"improved\",\"l\",\"subcutaneously\",\"scale\",\"need\",\"activity\",\"taken\",\"now\",\"appointment\",\"q<num>h\",\"<num>s\",\"ef\",\"minutes\",\"sliding\",\"echocardiogram\",\"small\",\"pneumonia\",\"operations\",\"test\",\"denies\",\"tube\",\"female\",\"mitral\",\"data\",\"consistent\",\"note\",\"only\",\"clinic\",\"urine\",\"afebrile\",\"carotid\",\"control\",\"causing\",\"h/o\",\"vomiting\",\"several\",\"st\",\"wound\",\"obesity\",\"hospitalization\",\"does\",\"obese\",\"episodes\",\"every\",\"distress\",\"@\",\"treatment\",\"scheduled\",\"where\",\"very\",\"drug\",\"r\",\"batch\",\"because\",\"infections\",\"v<num>\",\"scan\",\"increasing\",\"march\",\"discontinued\",\"cultures\",\"first\",\"angina\",\"physician\",\"diuresis\",\"tab\",\"down\",\"would\",\"knee\",\"done\",\"murmur\",\"vascular\",\"ago\",\"bs\",\"both\",\"dictation\",\"associated\",\"venous\",\"pulse\",\"stay\",\"greater\",\"dyspnea\",\"less\",\"anemia\",\"insufficiency\",\"heent\",\"yes\",\"sc\",\"notice\",\"sent\",\"index\",\"comments\",\"cardiology\",\"platelets\",\"do\",\"episode\",\"affecting\",\"tid\",\"entered\",\"change\",\"peripheral\",\"q.<num>h.\",\"cm\",\"o.r.\",\"fever\",\"resolved\",\"head\",\"contingent\",\"including\",\"<num>-<num>-<num>-<num>\",\"being\",\"o<num>\",\"leg\",\"off\",\"proximal\",\"obtained\",\"]\",\"lung\",\"cabg\",\"[\",\"morning\",\"stomach\",\"placement\",\"liters\",\"most\",\"monitor\",\"milligrams\",\"sleep\",\"studies\",\"report_end\",\"thought\",\"cath\",\"level\",\"saturation\",\"twice\",\"held\",\"repeat\",\"able\",\"addition\",\"mid\",\"woman\",\"they\",\"labs\",\"plan\",\"needed\",\"months\",\"night\",\"nontender\",\"setting\",\"mcg\",\"so\",\"vital\",\"about\",\"cancer\",\"management\",\"q.i.d.\",\"do/plan\",\"oriented\",\"worsening\",\"meals\",\";responsible\",\"treatments/procedures\",\"treatment/stay\",\"diagnosis;conditions\",\"maintained\",\"information\",\"appointment(\",\"male\",\"demonstrated\",\"next\",\"liver\",\"return\",\"avoid\",\"dry\",\"floor\",\"wall\",\"subsequently\",\"through\",\"health\",\"sob\",\"included\",\"stent\",\"arm\",\"rehabilitation\",\"distal\",\"see\",\"lives\",\"moderate\",\"posterior\",\"enzymes\",\"descending\",\"ruled\",\"regurgitation\",\"asthma\",\"&\",\"applicable\",\"pe\",\"tenderness\",\"services\",\"presents\",\"urinary\",\"again\",\"fat\",\"volume\",\"jvp\",\"five\",\"document\",\"exertion\",\"inferior\",\"foot\",\"approximate\",\"auscultation\",\"i\",\"poor\",\"diarrhea\",\"although\",\"six\",\"taking\",\"escription\",\"empty\",\"rca\",\"area\",\"recommended\",\"bruits\",\"bleeding\",\"skin\",\"swelling\",\"therefore\",\"smoking\",\"intravenous\",\"vein\",\"reports\",\"final\",\"neuro\",\"age\",\"range\",\"went\",\"ck\",\"rest\",\"hip\",\"recently\",\"fevers\",\"ptt\",\"qhs\",\"hr\",\"operating\",\"block\",\"goal\",\"ii\",\"diagnoses\",\"restarted\",\"depression\",\"q.a.m.\",\"murmurs\",\"loss\",\"mibi\",\"limits\",\"risk\",\"light\",\"gram\",\"difficulty\",\"tobacco\",\"could\",\"cardiomyopathy\",\"pending\",\"ulcer\",\"include\",\"syndrome\",\"tachycardia\",\"ischemic\",\"transfer\",\"transplant\",\"cardiologist\",\"doctor\",\"having\",\"mass\",\"walking\",\"recurrent\",\"problems\",\"results\",\"intensive\",\"large\",\"made\",\"stress\",\"cholesterol\",\"effusion\",\"question\",\"day.\",\"department\",\"chills\",\"q.h.s.\",\"food\",\"orthopnea\",\"currently\",\"work\",\"second\",\"infectious\",\"consulted\",\"point\",\"type\",\"femoral\",\"crackles\",\"check\",\"rule\",\"lobe\",\"few\",\"stopped\",\"increase\",\"dvt\",\"benign\",\"cp\",\"changed\",\"meq\",\"postop\",\"denied\",\"began\",\"followup\",\"drawn\",\"q.day\",\"wave\",\"him\",\"obstructive\",\"mental\",\"unless\",\"repair\",\"circumflex\",\"unremarkable\",\"slightly\",\"diuresed\",\"rehab\",\"hypercholesterolemia\",\"pump\",\"b.i.d\",\"removed\",\"july\",\"qpm\",\"complicated\",\"tr\",\"weakness\",\"postoperatively\",\"sublingual\",\"culture\",\"grapefruit\",\"cxr\",\"cv\",\"apnea\",\"unable\",\"bed\",\"neurological\",\"mg.\",\"issues\",\"instructs\",\"became\",\"place\",\"constipation\",\"trace\",\"peak\",\"consult\",\"deep\",\"vna\",\"ultrasound\",\"cellulitis\",\"still\",\"line\",\"hernia\",\"<num>-<num>%\",\"prophylaxis\",\"initial\",\"abd\",\"f/u\",\"tel\",\"bleed\",\"endocrine\",\"hct\",\"supple\",\"checked\",\"motion\",\"pacemaker\",\"complaint\",\"hx\",\"qid\",\"equal\",\"diffuse\",\"can\",\"came\",\"qam\",\"requiring\",\"sternal\",\"internal\",\"mm\",\"nondistended\",\"+\",\"exacerbation\",\"rash\",\"pressures\",\"november\",\"inh\",\"man\",\"erythema\",\"side\",\"go\",\"consistently\",\"improvement\",\"pupils\",\"breast\",\"pleural\",\"long\",\"instructed\",\"wbc\",\"evaluated\",\"ra\",\"each\",\"fracture\",\"bedtime\",\"site\",\"reactive\",\"february\",\"lesions\",\"catheter\",\"lateral\",\"mildly\",\"pt.\",\"ho\",\"month\",\"mri\",\"dependent\",\"dysfunction\",\"puffs\",\"output\",\"team\",\"active\",\"biopsy\",\"tract\",\"palpitations\",\"hemodialysis\",\"hour\",\"anxiety\",\"complete\",\"sputum\",\"saphenous\",\"jugular\",\"later\",\"into\",\"sugar\",\"<num>hr\",\"electrocardiogram\",\"august\",\"headache\",\"hypokinesis\",\"memorial\",\"workup\",\"masses\",\"reaction\",\"review\",\"gout\",\"sat.\",\"neurologic\",\"heme\",\"q.p.m.\",\"systems\",\"f\",\"urinalysis\",\"rectal\",\"cr\",\"radiation\",\"degrees\",\"neg\",\"wheezing\",\"tests\",\"free\",\"movements\",\"rubs\",\"diagnosed\",\"sugars\",\"between\",\"around\",\"size\",\"previously\",\"guaiac\",\"short\",\"reported\",\"abnormalities\",\"problem\",\"unchanged\",\"minimal\",\"etiology\",\"w\",\"flat\",\"preoperative\",\"chol/low\",\"incision\",\"fatigue\",\"diastolic\",\"angioplasty\",\"dialysis\",\"onset\",\"yo\",\"minute\",\"dilated\",\"concern\",\"protocol\",\"joint\",\"unclear\",\"gallops\",\"cyanosis\",\"overload\",\"hyperlipidemia\",\"iii\",\"returned\"],\"x1\":{\"__ndarray__\":\"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\",\"dtype\":\"float64\",\"shape\":[1792]},\"x2\":{\"__ndarray__\":\"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\",\"dtype\":\"float64\",\"shape\":[1792]}}},\"id\":\"1f2ae245-9211-43e2-bca5-42e9b5435d32\",\"type\":\"ColumnDataSource\"},{\"attributes\":{\"callback\":null},\"id\":\"d3c2f514-2e41-444d-b0b4-0c27de3cc4fc\",\"type\":\"DataRange1d\"},{\"attributes\":{\"plot\":{\"id\":\"6b5ac7cd-c461-4d4e-9cf6-a49930e53eab\",\"subtype\":\"Figure\",\"type\":\"Plot\"},\"ticker\":{\"id\":\"bb6ba747-13df-43f5-a0a1-6720018c2858\",\"type\":\"BasicTicker\"}},\"id\":\"0123e955-f255-459c-9acd-01bde29f5ede\",\"type\":\"Grid\"},{\"attributes\":{\"dimension\":1,\"plot\":{\"id\":\"6b5ac7cd-c461-4d4e-9cf6-a49930e53eab\",\"subtype\":\"Figure\",\"type\":\"Plot\"},\"ticker\":{\"id\":\"cf2d350c-80b3-4262-beac-ab23dbac36c5\",\"type\":\"BasicTicker\"}},\"id\":\"fd96ee63-37f6-4f34-808d-3fa00a3daa1c\",\"type\":\"Grid\"},{\"attributes\":{\"plot\":{\"id\":\"6b5ac7cd-c461-4d4e-9cf6-a49930e53eab\",\"subtype\":\"Figure\",\"type\":\"Plot\"},\"source\":{\"id\":\"1f2ae245-9211-43e2-bca5-42e9b5435d32\",\"type\":\"ColumnDataSource\"},\"text\":{\"field\":\"names\"},\"text_align\":\"center\",\"text_color\":{\"value\":\"#555555\"},\"text_font_size\":{\"value\":\"8pt\"},\"x\":{\"field\":\"x1\"},\"y\":{\"field\":\"x2\"},\"y_offset\":{\"value\":6}},\"id\":\"3fbfc426-a3a5-41dd-b319-4f4226eeda56\",\"type\":\"LabelSet\"},{\"attributes\":{\"plot\":{\"id\":\"6b5ac7cd-c461-4d4e-9cf6-a49930e53eab\",\"subtype\":\"Figure\",\"type\":\"Plot\"}},\"id\":\"5fcd10c8-0bc6-41fc-8004-61c90a1a256b\",\"type\":\"WheelZoomTool\"},{\"attributes\":{\"data_source\":{\"id\":\"1f2ae245-9211-43e2-bca5-42e9b5435d32\",\"type\":\"ColumnDataSource\"},\"glyph\":{\"id\":\"b0a69caf-d825-42df-8ab4-7dd5cd121daa\",\"type\":\"Circle\"},\"hover_glyph\":null,\"muted_glyph\":null,\"nonselection_glyph\":{\"id\":\"7e744c61-875d-4a65-92a4-2e243339230f\",\"type\":\"Circle\"},\"selection_glyph\":null},\"id\":\"135c30e4-c061-4085-8bfb-9741756c1158\",\"type\":\"GlyphRenderer\"},{\"attributes\":{},\"id\":\"a3364cb1-db8d-4ad5-b778-fe0309aab8b1\",\"type\":\"ToolEvents\"},{\"attributes\":{},\"id\":\"b35e2b79-d69c-40f2-b39b-e89b05b15e99\",\"type\":\"BasicTickFormatter\"},{\"attributes\":{},\"id\":\"6840dd4b-47b1-4372-9b07-bfcd1681275a\",\"type\":\"BasicTickFormatter\"},{\"attributes\":{\"fill_color\":{\"field\":\"coloring\"},\"line_color\":{\"field\":\"coloring\"},\"size\":{\"units\":\"screen\",\"value\":8},\"x\":{\"field\":\"x1\"},\"y\":{\"field\":\"x2\"}},\"id\":\"b0a69caf-d825-42df-8ab4-7dd5cd121daa\",\"type\":\"Circle\"},{\"attributes\":{\"plot\":{\"id\":\"6b5ac7cd-c461-4d4e-9cf6-a49930e53eab\",\"subtype\":\"Figure\",\"type\":\"Plot\"}},\"id\":\"7cb32793-c129-4f6b-9665-c74b1f3da579\",\"type\":\"ResetTool\"},{\"attributes\":{\"plot\":null,\"text\":\"word2vec T-SNE for most common words\"},\"id\":\"f2d9817a-16a9-4ebf-bdaf-c4cc2762c66d\",\"type\":\"Title\"},{\"attributes\":{},\"id\":\"bb6ba747-13df-43f5-a0a1-6720018c2858\",\"type\":\"BasicTicker\"},{\"attributes\":{},\"id\":\"cf2d350c-80b3-4262-beac-ab23dbac36c5\",\"type\":\"BasicTicker\"},{\"attributes\":{\"plot\":{\"id\":\"6b5ac7cd-c461-4d4e-9cf6-a49930e53eab\",\"subtype\":\"Figure\",\"type\":\"Plot\"}},\"id\":\"587088ef-b1d3-40d8-b394-f1c080b0f732\",\"type\":\"PanTool\"},{\"attributes\":{\"plot\":{\"id\":\"6b5ac7cd-c461-4d4e-9cf6-a49930e53eab\",\"subtype\":\"Figure\",\"type\":\"Plot\"}},\"id\":\"26073939-f3bd-4b83-b904-8883947db023\",\"type\":\"SaveTool\"},{\"attributes\":{\"formatter\":{\"id\":\"b35e2b79-d69c-40f2-b39b-e89b05b15e99\",\"type\":\"BasicTickFormatter\"},\"plot\":{\"id\":\"6b5ac7cd-c461-4d4e-9cf6-a49930e53eab\",\"subtype\":\"Figure\",\"type\":\"Plot\"},\"ticker\":{\"id\":\"bb6ba747-13df-43f5-a0a1-6720018c2858\",\"type\":\"BasicTicker\"}},\"id\":\"d1b58640-4c4f-408e-b48e-0bee739bda5f\",\"type\":\"LinearAxis\"},{\"attributes\":{\"callback\":null},\"id\":\"d1d438d2-9b3b-4595-915c-8371bd3c2b3f\",\"type\":\"DataRange1d\"},{\"attributes\":{\"formatter\":{\"id\":\"6840dd4b-47b1-4372-9b07-bfcd1681275a\",\"type\":\"BasicTickFormatter\"},\"plot\":{\"id\":\"6b5ac7cd-c461-4d4e-9cf6-a49930e53eab\",\"subtype\":\"Figure\",\"type\":\"Plot\"},\"ticker\":{\"id\":\"cf2d350c-80b3-4262-beac-ab23dbac36c5\",\"type\":\"BasicTicker\"}},\"id\":\"7c681298-0861-41aa-b101-8cf50c6eaeda\",\"type\":\"LinearAxis\"}],\"root_ids\":[\"6b5ac7cd-c461-4d4e-9cf6-a49930e53eab\"]},\"title\":\"Bokeh Application\",\"version\":\"0.12.5\"}};\n",
       "            var render_items = [{\"docid\":\"156e816e-540a-462b-85cf-d07c40c60d58\",\"elementid\":\"58bbae92-92b5-49ba-946c-0473886ab685\",\"modelid\":\"6b5ac7cd-c461-4d4e-9cf6-a49930e53eab\"}];\n",
       "            \n",
       "            Bokeh.embed.embed_items(docs_json, render_items);\n",
       "          };\n",
       "          if (document.readyState != \"loading\") fn();\n",
       "          else document.addEventListener(\"DOMContentLoaded\", fn);\n",
       "        })();\n",
       "      },\n",
       "      function(Bokeh) {\n",
       "      }\n",
       "    ];\n",
       "  \n",
       "    function run_inline_js() {\n",
       "      \n",
       "      if ((window.Bokeh !== undefined) || (force === true)) {\n",
       "        for (var i = 0; i < inline_js.length; i++) {\n",
       "          inline_js[i](window.Bokeh);\n",
       "        }if (force === true) {\n",
       "          display_loaded();\n",
       "        }} else if (Date.now() < window._bokeh_timeout) {\n",
       "        setTimeout(run_inline_js, 100);\n",
       "      } else if (!window._bokeh_failed_load) {\n",
       "        console.log(\"Bokeh: BokehJS failed to load within specified timeout.\");\n",
       "        window._bokeh_failed_load = true;\n",
       "      } else if (force !== true) {\n",
       "        var cell = $(document.getElementById(\"58bbae92-92b5-49ba-946c-0473886ab685\")).parents('.cell').data().cell;\n",
       "        cell.output_area.append_execute_result(NB_LOAD_WARNING)\n",
       "      }\n",
       "  \n",
       "    }\n",
       "  \n",
       "    if (window._bokeh_is_loading === 0) {\n",
       "      console.log(\"Bokeh: BokehJS loaded, going straight to plotting\");\n",
       "      run_inline_js();\n",
       "    } else {\n",
       "      load_libs(js_urls, function() {\n",
       "        console.log(\"Bokeh: BokehJS plotting callback run at\", now());\n",
       "        run_inline_js();\n",
       "      });\n",
       "    }\n",
       "  }(this));\n",
       "</script>"
      ]
     },
     "metadata": {},
     "output_type": "display_data"
    }
   ],
   "source": [
    "p = figure(tools=\"pan,wheel_zoom,reset,save\",\n",
    "           toolbar_location=\"above\",\n",
    "           title=\"word2vec T-SNE for most common words\")\n",
    "\n",
    "source = ColumnDataSource(data=dict(x1=words_tsne[:,0],\n",
    "                                    x2=words_tsne[:,1],\n",
    "                                    names=visualisation,\n",
    "                                    coloring=colormap))\n",
    "\n",
    "p.scatter(x=\"x1\", y=\"x2\", color=\"coloring\", size=8, source=source)\n",
    "\n",
    "labels = LabelSet(x=\"x1\", y=\"x2\", text=\"names\", y_offset=6,\n",
    "                  text_font_size=\"8pt\", text_color=\"#555555\",\n",
    "                  source=source, text_align='center')\n",
    "p.add_layout(labels)\n",
    "\n",
    "show(p)"
   ]
  },
  {
   "cell_type": "code",
   "execution_count": null,
   "metadata": {
    "collapsed": true
   },
   "outputs": [],
   "source": []
  }
 ],
 "metadata": {
  "anaconda-cloud": {},
  "kernelspec": {
   "display_name": "Python [conda env:tensorflow]",
   "language": "python",
   "name": "conda-env-tensorflow-py"
  },
  "language_info": {
   "codemirror_mode": {
    "name": "ipython",
    "version": 3
   },
   "file_extension": ".py",
   "mimetype": "text/x-python",
   "name": "python",
   "nbconvert_exporter": "python",
   "pygments_lexer": "ipython3",
   "version": "3.5.3"
  }
 },
 "nbformat": 4,
 "nbformat_minor": 2
}
