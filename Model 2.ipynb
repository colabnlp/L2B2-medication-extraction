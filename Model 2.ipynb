{
 "cells": [
  {
   "cell_type": "code",
   "execution_count": 1,
   "metadata": {
    "collapsed": true
   },
   "outputs": [],
   "source": [
    "import numpy as np\n",
    "import os\n",
    "from random import shuffle\n",
    "import re\n",
    "import random\n",
    "\n",
    "import urllib.request\n",
    "import zipfile\n",
    "import lxml.etree"
   ]
  },
  {
   "cell_type": "code",
   "execution_count": 2,
   "metadata": {
    "collapsed": true
   },
   "outputs": [],
   "source": [
    "def listdir_nohidden(path):\n",
    "    for f in os.listdir(path):\n",
    "        if not f.startswith('.'):\n",
    "            yield f"
   ]
  },
  {
   "cell_type": "code",
   "execution_count": 3,
   "metadata": {
    "collapsed": true
   },
   "outputs": [],
   "source": [
    "class DS:\n",
    "    \n",
    "    def __init__(self, name='', challenge='', stage='', raw_text=[]):\n",
    "        self.name = name\n",
    "        self.challenge = challenge\n",
    "        self.stage = stage\n",
    "        self.labelled = 'no'\n",
    "        self.label_type = 'none'\n",
    "        self.raw_text = raw_text\n",
    "        self.emb_text = []\n",
    "        self.test_text = []\n",
    "        self.raw_labels = []\n",
    "    \n",
    "    def processForEmbedding(self):\n",
    "        self.emb_text = []\n",
    "        temp = self.raw_text\n",
    "        temp = re.sub(r'\\d+', '<NUM>', temp)\n",
    "        temp = re.sub(r'([A-Za-z]):', r'\\1 :', temp)\n",
    "        temp = re.sub(r'\\n', ' ', temp)\n",
    "        temp = re.sub(r'Dr.', 'Dr', temp)\n",
    "        temp = re.sub(r'Mr.', 'Mr', temp)\n",
    "        temp = re.sub(r'\\. ([A-Z])', r'. A\\1', temp)\n",
    "        temp = re.split(r'\\. [A-Z]', temp)\n",
    "        for i in range(len(temp)):\n",
    "            temp[i] = temp[i].lower()\n",
    "            self.emb_text.append(temp[i].split())\n",
    "        \n",
    "    def showInfo(self):\n",
    "        print('Name: ', self.name,)\n",
    "        print('Challenge: ', self.challenge,)\n",
    "        print('Train or Test Set: ', self.stage,)\n",
    "        print('Labelled: ', self.labelled,)\n",
    "        print('Labeling Type: ', self.label_type,)"
   ]
  },
  {
   "cell_type": "code",
   "execution_count": 4,
   "metadata": {},
   "outputs": [],
   "source": [
    "class Set:\n",
    "    \n",
    "    def __init__(self, data=[]):\n",
    "        self.data = []\n",
    "        self.size = len(data)\n",
    "        \n",
    "    def present(self, item):\n",
    "        for case in self.data:\n",
    "            if item.raw_text == case.raw_text:\n",
    "                return(True)\n",
    "        return(False)\n",
    "        \n",
    "    def add(self, item):\n",
    "        if not self.present(item):\n",
    "            self.data.append(item)\n",
    "            self.size += 1\n",
    "            return(1)\n",
    "        return(0)\n",
    "\n",
    "    def numberOf(self, challenge = r'.', stage=r'.', labelled=r'.', label_type=r'.'):\n",
    "        n = 0\n",
    "        for case in self.data:\n",
    "            if (re.match(challenge, case.challenge) != None) & \\\n",
    "            (re.match(stage, case.stage) != None) & \\\n",
    "            (re.match(labelled, case.labelled) != None) & \\\n",
    "            (re.match(label_type, case.label_type) != None):\n",
    "                n += 1\n",
    "        return(n)\n",
    "    \n",
    "    def getDS(self, name=r'.', challenge = r'.', stage=r'.', labelled=r'.', label_type=r'.'):\n",
    "        output = Set()\n",
    "        for case in self.data:\n",
    "            if (re.match(name, case.name) != None) & \\\n",
    "            (re.match(challenge, case.challenge) != None) & \\\n",
    "            (re.match(stage, case.stage) != None) & \\\n",
    "            (re.match(labelled, case.labelled) != None) & \\\n",
    "            (re.match(label_type, case.label_type) != None):\n",
    "                output.add(case)\n",
    "        return(output)\n",
    "    \n",
    "    def showInfo(self):\n",
    "        for case in self.data:\n",
    "            case.showInfo()\n",
    "            print('\\n')\n",
    "    \n",
    "    def append(self, dataset):\n",
    "        self.data = self.data + dataset.data\n",
    "        self.size += dataset.size\n",
    "    \n",
    "    def duplicates(self):\n",
    "        dupl = 0\n",
    "        for i in range(len(self.data)):\n",
    "            occurence = 0\n",
    "            for j in range(i, len(self.data)):\n",
    "                if self.data[i].emb_text == self.data[j].emb_text:\n",
    "                    occurence += 1\n",
    "                    if occurence > 1:\n",
    "                        occurence = 1\n",
    "                        dupl +=1\n",
    "        return(dupl)   \n",
    "    \n",
    "    def exampleDuplicate(self):\n",
    "        for i in range(len(self.data)):\n",
    "            occurence = 0\n",
    "            for j in range(i, len(self.data)):\n",
    "                if self.data[i].emb_text == self.data[j].emb_text:\n",
    "                    occurence += 1\n",
    "                    if occurence > 1:\n",
    "                        return(self.data[i], self.data[j])   \n",
    "    \n",
    "    def addLabels(self, name, case, raw_labels):\n",
    "        for i in range(self.size):\n",
    "            if self.data[i].name == name:\n",
    "                self.data[i].labelled = 'yes'\n",
    "                if case == 'train':\n",
    "                    self.data[i].label_type = 'train'\n",
    "                if case == 'test':\n",
    "                    self.data[i].label_type = 'test'\n",
    "                self.data[i].raw_labels = raw_labels\n",
    "                break       \n",
    "                \n",
    "    def processForEmbedding(self):\n",
    "        for i in range(self.size):\n",
    "            self.data[i].processForEmbedding()\n",
    "    \n",
    "    def getSentences(self, challenge = r'.', stage=r'.'):\n",
    "        sentences = []\n",
    "        pool = Dataset.getDS(challenge=challenge, stage=stage)\n",
    "        for case in pool.data:\n",
    "            for sent in case.emb_text:\n",
    "                sentences.append(sent)\n",
    "        return(sentences)"
   ]
  },
  {
   "cell_type": "code",
   "execution_count": 5,
   "metadata": {
    "collapsed": true
   },
   "outputs": [],
   "source": [
    "Dataset = Set()"
   ]
  },
  {
   "cell_type": "code",
   "execution_count": 6,
   "metadata": {},
   "outputs": [
    {
     "name": "stdout",
     "output_type": "stream",
     "text": [
      "696/696 added from 2009 Medication Challenge/training.sets.released/\n",
      "553/1249 added from 2009 Medication Challenge/test.released.8.17.09/\n"
     ]
    }
   ],
   "source": [
    "challenge = '2009 Medication Challenge'\n",
    "\n",
    "path = challenge + '/training.sets.released/'\n",
    "total = 0\n",
    "added = 0\n",
    "for folder in listdir_nohidden(path):\n",
    "    for filename in listdir_nohidden(path + folder + '/'):\n",
    "        total += 1\n",
    "        with open(path + folder + '/' + filename, 'r') as file:\n",
    "            temp = DS(name=filename, challenge=challenge, stage='train', raw_text=file.read())\n",
    "            added += Dataset.add(temp)\n",
    "print('%d/%d added from %s' %(added, total, path))\n",
    "\n",
    "path = challenge + '/test.released.8.17.09/'\n",
    "total = 0\n",
    "added = 0\n",
    "for filename in listdir_nohidden(path):\n",
    "    total += 1\n",
    "    with open(path + filename, 'r') as file:\n",
    "        temp = DS(name=filename, challenge=challenge, stage='test', raw_text=file.read())\n",
    "        added += Dataset.add(temp)\n",
    "print('%d/%d added from %s' %(added, total, path))\n",
    "        \n",
    "path = challenge + '/training.ground.truth/'\n",
    "for filename in listdir_nohidden(path):\n",
    "    index = filename.split('_')[0]\n",
    "    with open(path + filename, 'r') as file:\n",
    "        Dataset.addLabels(name=index, case='train', raw_labels=file.read())\n",
    "\n",
    "path = challenge + '/test.BYparticipant.ground_truth/converted.noduplicates.sorted/'\n",
    "for filename in listdir_nohidden(path):\n",
    "    index = filename.split('.')[0]\n",
    "    with open(path + filename, 'r') as file:\n",
    "        Dataset.addLabels(name=index, case='test', raw_labels=file.read())"
   ]
  },
  {
   "cell_type": "code",
   "execution_count": 7,
   "metadata": {
    "scrolled": true
   },
   "outputs": [
    {
     "name": "stdout",
     "output_type": "stream",
     "text": [
      "398/398 added from /smokers_surrogate_train_all_version2.xml\n",
      "104/104 added from /smokers_surrogate_test_all_groundtruth_version2.xml\n",
      "0/398 added from /1C smokers_surrogate_train_all_version2.zipsmokers_surrogate_train_all_version2.xml\n",
      "0/104 added from /1C smokers_surrogate_test_all_version2.zipsmokers_surrogate_test_all_version2.xml\n",
      "0/104 added from /1C smokers_surrogate_test_all_groundtruth_version2.zipsmokers_surrogate_test_all_groundtruth_version2.xml\n",
      "91/220 added from /1B deid_surrogate_test_all_version2.zipdeid_surrogate_test_all_version2.xml\n",
      "2/669 added from /1B deid_surrogate_train_all_version2_CORRECTED.zipdeid_surrogate_train_all_version2.xml\n",
      "331/889 added from /1A unannotated_records_deid_smoking_CORRECTED.zipunannotated_records_deid_smoking.xml\n"
     ]
    }
   ],
   "source": [
    "challenge = '2007 Smoking Challenge'\n",
    "path = [['', '/smokers_surrogate_train_all_version2.xml'], \\\n",
    "        ['', '/smokers_surrogate_test_all_groundtruth_version2.xml'], \\\n",
    "        ['/1C smokers_surrogate_train_all_version2.zip', 'smokers_surrogate_train_all_version2.xml'], \\\n",
    "        ['/1C smokers_surrogate_test_all_version2.zip', 'smokers_surrogate_test_all_version2.xml'], \\\n",
    "        ['/1C smokers_surrogate_test_all_groundtruth_version2.zip', 'smokers_surrogate_test_all_groundtruth_version2.xml'], \\\n",
    "        ['/1B deid_surrogate_test_all_version2.zip', 'deid_surrogate_test_all_version2.xml'], \\\n",
    "        ['/1B deid_surrogate_train_all_version2_CORRECTED.zip', 'deid_surrogate_train_all_version2.xml'], \\\n",
    "        ['/1A unannotated_records_deid_smoking_CORRECTED.zip', 'unannotated_records_deid_smoking.xml']]\n",
    "\n",
    "for file in path:\n",
    "    if file[0] == '':\n",
    "        root = lxml.etree.parse(challenge + file[1]).getroot()\n",
    "    else:\n",
    "        with zipfile.ZipFile(challenge + file[0], 'r') as z:\n",
    "            root = lxml.etree.parse(z.open(file[1])).getroot()\n",
    "    names = []\n",
    "    summaries = []\n",
    "    for name in root.iter('RECORD'):\n",
    "        names.append(name.attrib.get(name.attrib.keys()[0]))\n",
    "    for summary in root.iter('TEXT'):\n",
    "        summaries.append(summary.text)\n",
    "    total = 0\n",
    "    added = 0\n",
    "    for i in range(len(names)):\n",
    "        total += 1\n",
    "        temp = DS(name=names[i], challenge=challenge, stage='train', raw_text=summaries[i])\n",
    "        added += Dataset.add(temp)\n",
    "    print('%d/%d added from %s' %(added, total, file[0] + '/' file[1]))"
   ]
  },
  {
   "cell_type": "code",
   "execution_count": 8,
   "metadata": {},
   "outputs": [
    {
     "name": "stdout",
     "output_type": "stream",
     "text": [
      "507/507 added from 2008 Obesity Challenge/obesity_patient_records_test.xml\n",
      "30/30 added from 2008 Obesity Challenge/obesity_patient_records_training 50.xml\n",
      "581/611 added from 2008 Obesity Challenge/obesity_patient_records_training.xml\n",
      "119/119 added from 2008 Obesity Challenge/obesity_patient_records_training2.xml\n"
     ]
    }
   ],
   "source": [
    "challenge = '2008 Obesity Challenge'\n",
    "files = ['/obesity_patient_records_test.xml', \\\n",
    "         '/obesity_patient_records_training 50.xml', \\\n",
    "         '/obesity_patient_records_training.xml', \\\n",
    "         '/obesity_patient_records_training2.xml']\n",
    "\n",
    "for file in files:\n",
    "    path = challenge + file\n",
    "    root = lxml.etree.parse(path).getroot()\n",
    "    names = []\n",
    "    summaries = []\n",
    "    for name in root.iter('doc'):\n",
    "        names.append(name.attrib.get(name.attrib.keys()[0]))\n",
    "    for summary in root.iter('text'):\n",
    "        summaries.append(summary.text)\n",
    "    total = 0\n",
    "    added = 0\n",
    "    for i in range(len(names)):\n",
    "        total += 1\n",
    "        temp = DS(name=names[i], challenge=challenge, stage='train', raw_text=summaries[i])\n",
    "        added += Dataset.add(temp)\n",
    "    print('%d/%d added from %s' %(added, total, path))"
   ]
  },
  {
   "cell_type": "code",
   "execution_count": 9,
   "metadata": {},
   "outputs": [
    {
     "name": "stdout",
     "output_type": "stream",
     "text": [
      "73/73 added from 2010 Relations Challenge/concept_assertion_relation_training_data/beth/txt/\n",
      "97/97 added from 2010 Relations Challenge/concept_assertion_relation_training_data/partners/txt/\n",
      "267/267 added from 2010 Relations Challenge/concept_assertion_relation_training_data/partners/unannotated/\n",
      "3/3 added from 2010 Relations Challenge/Sample Data/\n",
      "254/256 added from 2010 Relations Challenge/test_data/\n"
     ]
    }
   ],
   "source": [
    "challenge = '2010 Relations Challenge'\n",
    "folders = ['/concept_assertion_relation_training_data/beth/txt/', \\\n",
    "           '/concept_assertion_relation_training_data/partners/txt/', \\\n",
    "           '/concept_assertion_relation_training_data/partners/unannotated/', \\\n",
    "           '/Sample Data/', \\\n",
    "           '/test_data/']\n",
    "\n",
    "for folder in folders:\n",
    "    path = challenge + folder\n",
    "    total = 0\n",
    "    added = 0\n",
    "    for filename in listdir_nohidden(path):\n",
    "        if filename.endswith('.txt'):\n",
    "            total += 1\n",
    "            with open(path + filename, 'r') as file:\n",
    "                temp = DS(name=filename, challenge=challenge, stage='test', raw_text=file.read())\n",
    "                added += Dataset.add(temp)\n",
    "    print('%d/%d added from %s' %(added, total, path))"
   ]
  },
  {
   "cell_type": "code",
   "execution_count": 10,
   "metadata": {},
   "outputs": [
    {
     "name": "stdout",
     "output_type": "stream",
     "text": [
      "76/79 added from 2011 Coreference Challenge/Test_Beth/docs/\n",
      "0/94 added from 2011 Coreference Challenge/Test_Partners/docs/\n",
      "112/115 added from 2011 Coreference Challenge/Train_Beth/docs/\n",
      "0/136 added from 2011 Coreference Challenge/Train_Partners/docs/\n"
     ]
    }
   ],
   "source": [
    "challenge = '2011 Coreference Challenge'\n",
    "folders = ['/Test_Beth/docs/', \\\n",
    "           '/Test_Partners/docs/', \\\n",
    "           '/Train_Beth/docs/', \\\n",
    "           '/Train_Partners/docs/']\n",
    "\n",
    "for folder in folders:\n",
    "    path = challenge + folder\n",
    "    total = 0\n",
    "    added = 0\n",
    "    for filename in listdir_nohidden(path):\n",
    "        if filename.endswith('.txt'):\n",
    "            total += 1\n",
    "            with open(path + filename, 'r') as file:\n",
    "                temp = DS(name=filename, challenge=challenge, stage='test', raw_text=file.read())\n",
    "                added += Dataset.add(temp)\n",
    "    print('%d/%d added from %s' %(added, total, path))"
   ]
  },
  {
   "cell_type": "code",
   "execution_count": 11,
   "metadata": {},
   "outputs": [
    {
     "name": "stdout",
     "output_type": "stream",
     "text": [
      "191/191 added from 2012 Temporal Relations Challenge/Training Full_2012-07-15.original-annotation.release/\n",
      "119/120 added from 2012 Temporal Relations Challenge/Evaluation_Test TIMEX groundtruth_2012-08-08.test-data.event-timex-groundtruth/i2b2/\n",
      "0/120 added from 2012 Temporal Relations Challenge/Evaluation_Test ground_truth_2012-08-23.test-data.groundtruth/merged_i2b2/\n",
      "0/120 added from 2012 Temporal Relations Challenge/Evaluation_Test ground_truth_2012-08-23.test-data.groundtruth/unmerged_i2b2/\n",
      "1/120 added from 2012 Temporal Relations Challenge/Evaluation_Test data_2012-08-06.test-data-release/txt/\n"
     ]
    }
   ],
   "source": [
    "challenge = '2012 Temporal Relations Challenge'\n",
    "folders = ['/Training Full_2012-07-15.original-annotation.release/', \\\n",
    "           '/Evaluation_Test TIMEX groundtruth_2012-08-08.test-data.event-timex-groundtruth/i2b2/', \\\n",
    "           '/Evaluation_Test ground_truth_2012-08-23.test-data.groundtruth/merged_i2b2/', \\\n",
    "           '/Evaluation_Test ground_truth_2012-08-23.test-data.groundtruth/unmerged_i2b2/', \\\n",
    "           '/Evaluation_Test data_2012-08-06.test-data-release/txt/']\n",
    "\n",
    "for folder in folders:\n",
    "    path = challenge + folder\n",
    "    total = 0\n",
    "    added = 0\n",
    "    for filename in listdir_nohidden(path):\n",
    "        if filename.endswith('.txt'):\n",
    "            total += 1\n",
    "            with open(path + filename, 'r') as file:\n",
    "                temp = DS(name=filename, challenge=challenge, stage='test', raw_text=file.read())\n",
    "                added += Dataset.add(temp)\n",
    "    print('%d/%d added from %s' %(added, total, path))"
   ]
  },
  {
   "cell_type": "code",
   "execution_count": 13,
   "metadata": {
    "scrolled": false
   },
   "outputs": [
    {
     "name": "stdout",
     "output_type": "stream",
     "text": [
      "Number of Texts:  4605\n",
      "Number of 2007 Smoking Challenge texts:  926\n",
      "Number of 2008 ObesityChallenge texts:  1237\n",
      "Number of 2009 Medication Challenge texts:  1249\n",
      "Number of 2010 Relations Challenge texts:  694\n",
      "Number of 2011 Coreference Challenge texts:  188\n",
      "Number of 2012 Temporal Relations Challenge texts:  311\n",
      "Number of Train Texts:  2859\n",
      "Number of Test Texts:  1746\n",
      "Number of Labeled Texts:  258\n",
      "Number of Initially Labeled Texts:  10\n",
      "Number of Competitor Labeled Texts Texts:  248\n"
     ]
    }
   ],
   "source": [
    "print('Number of Texts: ', Dataset.size)\n",
    "print('Number of 2007 Smoking Challenge texts: ', Dataset.numberOf(challenge='2007 Smoking Challenge'))\n",
    "print('Number of 2008 ObesityChallenge texts: ', Dataset.numberOf(challenge='2008 Obesity Challenge'))\n",
    "print('Number of 2009 Medication Challenge texts: ', Dataset.numberOf(challenge='2009 Medication Challenge'))\n",
    "print('Number of 2010 Relations Challenge texts: ', Dataset.numberOf(challenge='2010 Relations Challenge'))\n",
    "print('Number of 2011 Coreference Challenge texts: ', Dataset.numberOf(challenge='2011 Coreference Challenge'))\n",
    "print('Number of 2012 Temporal Relations Challenge texts: ', Dataset.numberOf(challenge='2012 Temporal Relations Challenge'))\n",
    "print('Number of Train Texts: ', Dataset.numberOf(stage='train'))\n",
    "print('Number of Test Texts: ', Dataset.numberOf(stage='test'))\n",
    "print('Number of Labeled Texts: ', Dataset.numberOf(labelled='yes'))\n",
    "print('Number of Initially Labeled Texts: ', Dataset.numberOf(labelled='yes', label_type='train'))\n",
    "print('Number of Competitor Labeled Texts Texts: ', Dataset.numberOf(labelled='yes', label_type='test'))"
   ]
  },
  {
   "cell_type": "code",
   "execution_count": 14,
   "metadata": {
    "collapsed": true
   },
   "outputs": [],
   "source": [
    "Dataset.processForEmbedding()\n",
    "sentences = Dataset.getSentences()"
   ]
  },
  {
   "cell_type": "code",
   "execution_count": 17,
   "metadata": {},
   "outputs": [
    {
     "name": "stdout",
     "output_type": "stream",
     "text": [
      "214\n"
     ]
    }
   ],
   "source": [
    "print(Dataset.duplicates())"
   ]
  },
  {
   "cell_type": "code",
   "execution_count": 18,
   "metadata": {},
   "outputs": [
    {
     "name": "stdout",
     "output_type": "stream",
     "text": [
      "Name:  563\n",
      "Challenge:  2007 Smoking Challenge\n",
      "Train or Test Set:  train\n",
      "Labelled:  no\n",
      "Labeling Type:  none\n",
      "None\n",
      "Name:  563\n",
      "Challenge:  2007 Smoking Challenge\n",
      "Train or Test Set:  train\n",
      "Labelled:  no\n",
      "Labeling Type:  none\n",
      "None\n"
     ]
    }
   ],
   "source": [
    "(a, b) = Dataset.exampleDuplicate()\n",
    "print(a.showInfo())\n",
    "print(b.showInfo())"
   ]
  },
  {
   "cell_type": "code",
   "execution_count": 19,
   "metadata": {
    "collapsed": true
   },
   "outputs": [
    {
     "name": "stdout",
     "output_type": "stream",
     "text": [
      "\n",
      "559197012\n",
      "FIH\n",
      "4469096\n",
      "80486/8ays\n",
      "271958\n",
      "9/2/1994 12:00:00 AM\n",
      "Discharge Summary\n",
      "Unsigned\n",
      "DIS\n",
      "Report Status :\n",
      "Unsigned\n",
      "ADMISSION DATE :\n",
      "9-2-94\n",
      "DISCHARGE DATE :\n",
      "9-18-94\n",
      "ADMISSION DIAGNOSIS :\n",
      "Coronary artery disease .\n",
      "ASSOCIATED DIAGNOSIS :\n",
      "Non-insulin dependent diabetes mellitus , history of gastric ulcer , and history of ETOH abuse .\n",
      "SPECIAL PROCEDURES AND OPERATIONS :\n",
      "September 11 , 1994 , coronary artery bypass surgery .\n",
      "MEDICATIONS ON DISCHARGE :\n",
      "Coumadin 5 mg PO q.day , Digoxin 0.25 mg PO q.day , Metoprolol 25 mg PO b.i.d. , Baby aspirin 80 mg PO q.day .\n",
      "The patient will be followed by the Anticoagulation Clinic for prothrombin time level evaluations and appropriate Coumadin doses .\n",
      "IDENTIFYING DATA :\n",
      "The patient is a 66 year old Portuguese speaking gentleman with a history of hypertension , diabetes mellitus , increasing cholesterol , and history of tobacco use , who is status post myocardial infarction in September of 1993 and February of 1993 , who presented with new onset of left chest pain and arm pain for two days .\n",
      "Apparently , patient was in his usual state of health until two days prior to admission when he noted new onset of chest pain and arm pain , confined to his left side .\n",
      "The chest pain was considered mild but persistent with episodes lasting twenty minutes .\n",
      "He came to the emergency room with chest pain on July 22 , 1994 , relieved with sublingual nitroglycerin .\n",
      "No history of nausea and vomiting or shortness of breath .\n",
      "Denies fevers , pleuritic chest pain or cough .\n",
      "The electrocardiogram showed pseudonormalization of T waves in V1 through V6 and Q waves in V1 through V3 .\n",
      "The patient 's past cardiac history is significant for an anterior myocardial infarction in September of 1993 and a non-Q wave myocardial infarction in February of 1993 .\n",
      "The patient in September of 1993 had 3-4 millimeter ST segment elevation in V1 through V4 and depression in II , III , and AVF .\n",
      "At the time , patient had bright red blood per rectum as well and patient had cardiac catheterization at the time which showed 95% left anterior descending , which was percutaneous transluminal coronary angioplastied and had intra-aortic balloon pump placement .\n",
      "He had a CPK of over 5000 with MB fraction of 26.7 .\n",
      "The echocardiogram showed a 44% ejection fraction with anterior akinesis and septal hypokinesis .\n",
      "He had a positive exercise tolerance test with Thallium and repeat cardiac catheterization showed left anterior descending being patent and distal posterior descending artery lesion with circumflex lesion after the obtuse marginal 1 .\n",
      "In February of 1993 , patient again presented with chest pain , shortness of breath , ruled in for a non-Q wave myocardial infarction with CPK peak of 219 and MB of 20.9 .\n",
      "Repeat cardiac catheterization showed re-stenosis of proximal left anterior descending that had been percutaneous transluminal coronary angioplastied and a lesion in the first obtuse marginal and a moderate to severe left circumflex lesion after the third obtuse marginal .\n",
      "He also had an akinetic anterolateral and apical ventricle .\n",
      "CARDIAC RISK FACTORS :\n",
      "Again , patient 's cardiac risk factors include hypertension , diabetes mellitus , increasing cholesterol and a positive family history and tobacco use .\n",
      "In the past , patient had been noted to be non-compliant with cardiac medications and continues to smoke .\n",
      "PAST MEDICAL HISTORY :\n",
      "The patient has a history of hypertension , non-insulin dependent diabetes mellitus , diet-controlled , status post myocardial infarctions x two as mentioned above .\n",
      "PAST SURGICAL HISTORY :\n",
      "The patient is status post appendectomy .\n",
      "Lower gastrointestinal bleed in February of 1993 which was not worked up due to patient deferment .\n",
      "ALLERGIES :\n",
      "The patient is allergic to penicillin , develops a rash .\n",
      "MEDICATIONS ON ADMISSION :\n",
      "Metoprolol 50 mg PO b.i.d. , Isordil 20 mg PO t.i.d. , Ecotrin aspirin q.day .\n",
      "SOCIAL HISTORY :\n",
      "The patient smokes one pack per day .\n",
      "He used to be a heavy drinker in the past , no drugs .\n",
      "The patient lives in Hou with wife and daughter .\n",
      "He is a retired taxi driver .\n",
      "PHYSICAL EXAMINATION :\n",
      "The physical examination revealed him to be afebrile , blood pressure of 130/80 with a pulse rate of 56 and respirations of 24 .\n",
      "In general , he is a well developed , well nourished man breathing easily , in no acute distress .\n",
      "Skin :\n",
      "multiple stigmata of burns on the left arm and chest .\n",
      "On head , eyes , ears , nose , throat examination , pupils equal , round , reactive to light and accommodation , fundus was sharp , oral mucosa was clear .\n",
      "Neck :\n",
      "no jugular venous distention at five centimeters , neck was supple , full range of movement , no bruits , no adenopathy .\n",
      "Lungs had bibasilar rales 1/4 of the way up bilaterally , otherwise clear .\n",
      "Cardiovascular exam :\n",
      "II / VI systolic ejection murmur at left sternal border , positive S3 , question of S4 , otherwise point of maximal impulse was laterally displaced .\n",
      "Abdomen :\n",
      "surgical midline incision and previous surgery for history of gastric ulcer .\n",
      "The abdomen was soft , nontender , nondistended , mildly obese with liver edge two centimeters below the right costal margin .\n",
      "Extremities :\n",
      "no evidence of clubbing , cyanosis or edema .\n",
      "The rectal examination was trace guaiac positive .\n",
      "The patient had pulses distally , 1+ femorals , 1+ dorsalis pedis .\n",
      "The neurological examination was otherwise nonfocal with mentioned left upper extremity 3/5 strength with pain and 5/5 on the left lower extremity .\n",
      "LABORATORY DATA :\n",
      "Admission hematocrit 44 , BUN and creatinine of 13 and 0.9 , prothrombin time and partial thromboplastin time normal .\n",
      "The patient had a chest X-ray which showed mild pulmonary edema .\n",
      "The electrocardiogram showed Q waves in V1 through V6 , T wave pseudonormalization in V1 through V6 .\n",
      "HOSPITAL COURSE :\n",
      "The patient was admitted for rule out myocardial infarction .\n",
      "The patient ruled in for myocardial infarction with CPK maximum on hospital day number one peak of 186 and iso of 23.8 and index of 12.8 on September 2 , 1994 .\n",
      "The patient was seen in consultation by Dr. Signs for Dr. Churlaunt of Cardiology .\n",
      "The patient received the appropriate protocol for myocardial infarction , intravenous heparin , aspirin , and beta blockers for rate and blood pressure control .\n",
      "The patient on the date of September 5 , 1994 had cardiac catheterization which showed normal resting hemodynamics .\n",
      "The patient has a small non-dominant right coronary artery , left anterior descending showed severe proximal lesion with more distal lesions of diagonal one .\n",
      "The left circumflex was dominant with severe disease of obtuse marginal one , with moderate mid-circumflex stenosis and moderate posterior descending artery lesion .\n",
      "The left ventriculography shows anterior akinesis and apical severe hypokinesis with a moderately depressed ejection fraction , cardiac output of 3.9 , index of 2.0 .\n",
      "The patient was seen in consultation by Cardiac Surgery for evaluation of coronary artery bypass grafting .\n",
      "The patient had stable hematocrit of 38% on intravenous heparin .\n",
      "The carotid noninvasives preoperatively were negative .\n",
      "Dental consult was negative .\n",
      "On the date of September 11 , 1994 , patient underwent a coronary artery bypass grafting with saphenous vein graft to the posterior descending artery , circumflex and diagonal and left internal mammary artery to the left anterior descending .\n",
      "The patient had a bypass time of one hour and fifty minutes with good urine output and pre-bypass cardiac output of 4.0 , post-chest closure 5.3 , arrived to the Surgical Intensive Care Unit on Nipride , Lidocaine of 1 and Fentanyl/ Versed of 10 .\n",
      "The postoperative hematocrit was 26% .\n",
      "The patient had a routine postoperative course in the Surgical Intensive Care Unit with a postoperative BUN and creatinine of 11 and 1.2 with good urine output of over 100 an hour and patient received two units of packed red blood cells , fresh frozen plasma and platelets for increasing chest tube drainage .\n",
      "The patient on the date of postoperative day number one , September 13 , 1994 , was transferred from the Surgical Intensive Care Unit up to the FIH 18 floor .\n",
      "The patient 's only post-Surgical Intensive Care Unit course was remarkable for hypertension requiring Nipride and bleeding which was controlled with fresh frozen plasma , platelets .\n",
      "The patient had a stable hematocrit of 30% with CPK 's postoperatively maximum MB fraction of 78 .\n",
      "On postoperative day number three , patient went into atrial fibrillation , which was treated appropriately with metoprolol and digoxin and converted back to sinus rhythm .\n",
      "The patient continued to need diuresis .\n",
      "The postoperative medications up on FIH were Coumadin , baby aspirin , Isordil 10 PO t.i.d. , Digoxin .25 q.day , metoprolol 25 PO b.i.d. ______________\n",
      "Chest tubes and wires were all discontinued according to protocol on postoperative day number four .\n",
      "The Isordil was also discontinued .\n",
      "The patient 's incisions sternal and right leg were clean and healing well , normal sinus rhythm at 70-80 , with blood pressure 98-110/60 and patient was doing well , recovering , ambulating , tolerating regular diet and last hematocrit prior to discharge was 39% with a BUN and creatinine of 15 and 1.0 , prothrombin time level of 13.8 , chest X-ray prior to discharge showed small bilateral effusions with mild cardiomegaly and subsegmental atelectasis bibasilar and electrocardiogram showed normal sinus rhythm with left atrial enlargement and no acute ischemic changes on electrocardiogram .\n",
      "Note :\n",
      "patient needs anticoagulation for large saphenous vein graft to prevent any possibility of thrombosis .\n",
      "The patient was discharged home in stable condition and will follow up with his cardiologist and will follow up with Dr. Hemp and Dr. Signs .\n",
      "A NECESSARY , M.D.\n",
      "DICTATING FOR :\n",
      "G HEMP , M.D.\n",
      "TR :\n",
      "ee / bmot\n",
      "DD :\n",
      "9-18-94\n",
      "TD :\n",
      "09/19/94\n",
      "CC :\n",
      "Dr. Signs\n",
      "[ report_end ]\n",
      "\n"
     ]
    }
   ],
   "source": [
    "print(a.raw_text)"
   ]
  },
  {
   "cell_type": "code",
   "execution_count": 20,
   "metadata": {
    "collapsed": true
   },
   "outputs": [
    {
     "name": "stdout",
     "output_type": "stream",
     "text": [
      "\n",
      "559197012\n",
      "FIH\n",
      "4469096\n",
      "80486/8ays\n",
      "271958\n",
      "9/2/1994 12:00:00 AM\n",
      "Discharge Summary\n",
      "Unsigned\n",
      "DIS\n",
      "Report Status :\n",
      "Unsigned\n",
      "ADMISSION DATE :\n",
      "9-2-94\n",
      "DISCHARGE DATE :\n",
      "9-18-94\n",
      "ADMISSION DIAGNOSIS :\n",
      "Coronary artery disease .\n",
      "ASSOCIATED DIAGNOSIS :\n",
      "Non-insulin dependent diabetes mellitus , history of gastric ulcer , and history of ETOH abuse .\n",
      "SPECIAL PROCEDURES AND OPERATIONS :\n",
      "September 11 , 1994 , coronary artery bypass surgery .\n",
      "MEDICATIONS ON DISCHARGE :\n",
      "Coumadin 5 mg PO q.day , Digoxin 0.25 mg PO q.day , Metoprolol 25 mg PO b.i.d. , Baby aspirin 80 mg PO q.day .\n",
      "The patient will be followed by the Anticoagulation Clinic for prothrombin time level evaluations and appropriate Coumadin doses .\n",
      "IDENTIFYING DATA :\n",
      "The patient is a 66 year old Portuguese speaking gentleman with a history of hypertension , diabetes mellitus , increasing cholesterol , and history of tobacco use , who is status post myocardial infarction in September of 1993 and February of 1993 , who presented with new onset of left chest pain and arm pain for two days .\n",
      "Apparently , patient was in his usual state of health until two days prior to admission when he noted new onset of chest pain and arm pain , confined to his left side .\n",
      "The chest pain was considered mild but persistent with episodes lasting twenty minutes .\n",
      "He came to the emergency room with chest pain on July 22 , 1994 , relieved with sublingual nitroglycerin .\n",
      "No history of nausea and vomiting or shortness of breath .\n",
      "Denies fevers , pleuritic chest pain or cough .\n",
      "The electrocardiogram showed pseudonormalization of T waves in V1 through V6 and Q waves in V1 through V3 .\n",
      "The patient 's past cardiac history is significant for an anterior myocardial infarction in September of 1993 and a non-Q wave myocardial infarction in February of 1993 .\n",
      "The patient in September of 1993 had 3-4 millimeter ST segment elevation in V1 through V4 and depression in II , III , and AVF .\n",
      "At the time , patient had bright red blood per rectum as well and patient had cardiac catheterization at the time which showed 95% left anterior descending , which was percutaneous transluminal coronary angioplastied and had intra-aortic balloon pump placement .\n",
      "He had a CPK of over 5000 with MB fraction of 26.7 .\n",
      "The echocardiogram showed a 44% ejection fraction with anterior akinesis and septal hypokinesis .\n",
      "He had a positive exercise tolerance test with Thallium and repeat cardiac catheterization showed left anterior descending being patent and distal posterior descending artery lesion with circumflex lesion after the obtuse marginal 1 .\n",
      "In February of 1993 , patient again presented with chest pain , shortness of breath , ruled in for a non-Q wave myocardial infarction with CPK peak of 219 and MB of 20.9 .\n",
      "Repeat cardiac catheterization showed re-stenosis of proximal left anterior descending that had been percutaneous transluminal coronary angioplastied and a lesion in the first obtuse marginal and a moderate to severe left circumflex lesion after the third obtuse marginal .\n",
      "He also had an akinetic anterolateral and apical ventricle .\n",
      "CARDIAC RISK FACTORS :\n",
      "Again , patient 's cardiac risk factors include hypertension , diabetes mellitus , increasing cholesterol and a positive family history and tobacco use .\n",
      "In the past , patient had been noted to be non-compliant with cardiac medications and continues to smoke .\n",
      "PAST MEDICAL HISTORY :\n",
      "The patient has a history of hypertension , non-insulin dependent diabetes mellitus , diet-controlled , status post myocardial infarctions x two as mentioned above .\n",
      "PAST SURGICAL HISTORY :\n",
      "The patient is status post appendectomy .\n",
      "Lower gastrointestinal bleed in February of 1993 which was not worked up due to patient deferment .\n",
      "ALLERGIES :\n",
      "The patient is allergic to penicillin , develops a rash .\n",
      "MEDICATIONS ON ADMISSION :\n",
      "Metoprolol 50 mg PO b.i.d. , Isordil 20 mg PO t.i.d. , Ecotrin aspirin q.day .\n",
      "SOCIAL HISTORY :\n",
      "The patient smokes one pack per day .\n",
      "He used to be a heavy drinker in the past , no drugs .\n",
      "The patient lives in Hou with wife and daughter .\n",
      "He is a retired taxi driver .\n",
      "PHYSICAL EXAMINATION :\n",
      "The physical examination revealed him to be afebrile , blood pressure of 130/80 with a pulse rate of 56 and respirations of 24 .\n",
      "In general , he is a well developed , well nourished man breathing easily , in no acute distress .\n",
      "Skin :\n",
      "multiple stigmata of burns on the left arm and chest .\n",
      "On head , eyes , ears , nose , throat examination , pupils equal , round , reactive to light and accommodation , fundus was sharp , oral mucosa was clear .\n",
      "Neck :\n",
      "no jugular venous distention at five centimeters , neck was supple , full range of movement , no bruits , no adenopathy .\n",
      "Lungs had bibasilar rales 1/4 of the way up bilaterally , otherwise clear .\n",
      "Cardiovascular exam :\n",
      "II / VI systolic ejection murmur at left sternal border , positive S3 , question of S4 , otherwise point of maximal impulse was laterally displaced .\n",
      "Abdomen :\n",
      "surgical midline incision and previous surgery for history of gastric ulcer .\n",
      "The abdomen was soft , nontender , nondistended , mildly obese with liver edge two centimeters below the right costal margin .\n",
      "Extremities :\n",
      "no evidence of clubbing , cyanosis or edema .\n",
      "The rectal examination was trace guaiac positive .\n",
      "The patient had pulses distally , 1+ femorals , 1+ dorsalis pedis .\n",
      "The neurological examination was otherwise nonfocal with mentioned left upper extremity 3/5 strength with pain and 5/5 on the left lower extremity .\n",
      "LABORATORY DATA :\n",
      "Admission hematocrit 44 , BUN and creatinine of 13 and 0.9 , prothrombin time and partial thromboplastin time normal .\n",
      "The patient had a chest X-ray which showed mild pulmonary edema .\n",
      "The electrocardiogram showed Q waves in V1 through V6 , T wave pseudonormalization in V1 through V6 .\n",
      "HOSPITAL COURSE :\n",
      "The patient was admitted for rule out myocardial infarction .\n",
      "The patient ruled in for myocardial infarction with CPK maximum on hospital day number one peak of 186 and iso of 23.8 and index of 12.8 on September 2 , 1994 .\n",
      "The patient was seen in consultation by Dr. Signs for Dr. Churlaunt of Cardiology .\n",
      "The patient received the appropriate protocol for myocardial infarction , intravenous heparin , aspirin , and beta blockers for rate and blood pressure control .\n",
      "The patient on the date of September 5 , 1994 had cardiac catheterization which showed normal resting hemodynamics .\n",
      "The patient has a small non-dominant right coronary artery , left anterior descending showed severe proximal lesion with more distal lesions of diagonal one .\n",
      "The left circumflex was dominant with severe disease of obtuse marginal one , with moderate mid-circumflex stenosis and moderate posterior descending artery lesion .\n",
      "The left ventriculography shows anterior akinesis and apical severe hypokinesis with a moderately depressed ejection fraction , cardiac output of 3.9 , index of 2.0 .\n",
      "The patient was seen in consultation by Cardiac Surgery for evaluation of coronary artery bypass grafting .\n",
      "The patient had stable hematocrit of 38% on intravenous heparin .\n",
      "The carotid noninvasives preoperatively were negative .\n",
      "Dental consult was negative .\n",
      "On the date of September 11 , 1994 , patient underwent a coronary artery bypass grafting with saphenous vein graft to the posterior descending artery , circumflex and diagonal and left internal mammary artery to the left anterior descending .\n",
      "The patient had a bypass time of one hour and fifty minutes with good urine output and pre-bypass cardiac output of 4.0 , post-chest closure 5.3 , arrived to the Surgical Intensive Care Unit on Nipride , Lidocaine of 1 and Fentanyl/ Versed of 10 .\n",
      "The postoperative hematocrit was 26% .\n",
      "The patient had a routine postoperative course in the Surgical Intensive Care Unit with a postoperative BUN and creatinine of 11 and 1.2 with good urine output of over 100 an hour and patient received two units of packed red blood cells , fresh frozen plasma and platelets for increasing chest tube drainage .\n",
      "The patient on the date of postoperative day number one , September 13 , 1994 , was transferred from the Surgical Intensive Care Unit up to the FIH 38 floor .\n",
      "The patient 's only post-Surgical Intensive Care Unit course was remarkable for hypertension requiring Nipride and bleeding which was controlled with fresh frozen plasma , platelets .\n",
      "The patient had a stable hematocrit of 30% with CPK 's postoperatively maximum MB fraction of 78 .\n",
      "On postoperative day number three , patient went into atrial fibrillation , which was treated appropriately with metoprolol and digoxin and converted back to sinus rhythm .\n",
      "The patient continued to need diuresis .\n",
      "The postoperative medications up on FIH were Coumadin , baby aspirin , Isordil 10 PO t.i.d. , Digoxin .25 q.day , metoprolol 25 PO b.i.d. ______________\n",
      "Chest tubes and wires were all discontinued according to protocol on postoperative day number four .\n",
      "The Isordil was also discontinued .\n",
      "The patient 's incisions sternal and right leg were clean and healing well , normal sinus rhythm at 70-80 , with blood pressure 98-110/60 and patient was doing well , recovering , ambulating , tolerating regular diet and last hematocrit prior to discharge was 39% with a BUN and creatinine of 15 and 1.0 , prothrombin time level of 13.8 , chest X-ray prior to discharge showed small bilateral effusions with mild cardiomegaly and subsegmental atelectasis bibasilar and electrocardiogram showed normal sinus rhythm with left atrial enlargement and no acute ischemic changes on electrocardiogram .\n",
      "Note :\n",
      "patient needs anticoagulation for large saphenous vein graft to prevent any possibility of thrombosis .\n",
      "The patient was discharged home in stable condition and will follow up with his cardiologist and will follow up with Dr. Hemp and Dr. Signs .\n",
      "A NECESSARY , M.D.\n",
      "DICTATING FOR :\n",
      "G HEMP , M.D.\n",
      "TR :\n",
      "ee / bmot\n",
      "DD :\n",
      "9-18-94\n",
      "TD :\n",
      "09/19/94\n",
      "CC :\n",
      "Dr. Signs\n",
      "[ report_end ]\n",
      "\n"
     ]
    }
   ],
   "source": [
    "print(b.raw_text)"
   ]
  },
  {
   "cell_type": "code",
   "execution_count": 21,
   "metadata": {},
   "outputs": [
    {
     "data": {
      "text/plain": [
       "False"
      ]
     },
     "execution_count": 21,
     "metadata": {},
     "output_type": "execute_result"
    }
   ],
   "source": [
    "a.raw_text == b.raw_text"
   ]
  },
  {
   "cell_type": "code",
   "execution_count": 22,
   "metadata": {
    "collapsed": true
   },
   "outputs": [],
   "source": [
    "medications = []\n",
    "labelled = Dataset.getDS(labelled='yes')\n",
    "\n",
    "for case in labelled.data:\n",
    "    for term in re.finditer(r'm=\"[a-z0-9 ]+\"', case.raw_labels):\n",
    "        temp = term.group()[3:-1]\n",
    "        temp = temp.split()\n",
    "        for word in temp:\n",
    "            if word not in medications:\n",
    "                medications.append(word)"
   ]
  },
  {
   "cell_type": "code",
   "execution_count": 23,
   "metadata": {},
   "outputs": [
    {
     "name": "stderr",
     "output_type": "stream",
     "text": [
      "C:\\Users\\lgligic\\Anaconda3\\envs\\tensorflow\\lib\\site-packages\\gensim\\utils.py:855: UserWarning: detected Windows; aliasing chunkize to chunkize_serial\n",
      "  warnings.warn(\"detected Windows; aliasing chunkize to chunkize_serial\")\n"
     ]
    }
   ],
   "source": [
    "from gensim.models import Word2Vec"
   ]
  },
  {
   "cell_type": "code",
   "execution_count": 24,
   "metadata": {
    "collapsed": true
   },
   "outputs": [],
   "source": [
    "model_I2B2 = Word2Vec(sentences, min_count=1, size=100)"
   ]
  },
  {
   "cell_type": "code",
   "execution_count": 25,
   "metadata": {
    "scrolled": false
   },
   "outputs": [
    {
     "data": {
      "text/plain": [
       "[('norvasc', 0.8633190393447876),\n",
       " ('lipitor', 0.8554696440696716),\n",
       " ('spironolactone', 0.8308095932006836),\n",
       " ('imdur', 0.826880693435669),\n",
       " ('celexa', 0.8255844116210938),\n",
       " ('hydrochlorothiazide', 0.8192840814590454),\n",
       " ('cozaar', 0.817721426486969),\n",
       " ('losartan', 0.8083188533782959),\n",
       " ('pravachol', 0.8043315410614014),\n",
       " ('enalapril', 0.8001531362533569)]"
      ]
     },
     "execution_count": 25,
     "metadata": {},
     "output_type": "execute_result"
    }
   ],
   "source": [
    "model_I2B2.most_similar(\"zestril\")"
   ]
  },
  {
   "cell_type": "code",
   "execution_count": 26,
   "metadata": {},
   "outputs": [
    {
     "data": {
      "text/plain": [
       "array([   0.,  946.,    0.,    0.,    0.,    0.,    0.,    0.,    0.,    0.])"
      ]
     },
     "execution_count": 26,
     "metadata": {},
     "output_type": "execute_result"
    }
   ],
   "source": [
    "num = np.zeros(10)\n",
    "for med in medications:\n",
    "    num[len(med.split())] += 1\n",
    "num"
   ]
  },
  {
   "cell_type": "code",
   "execution_count": 27,
   "metadata": {},
   "outputs": [
    {
     "data": {
      "text/html": [
       "\n",
       "    <div class=\"bk-root\">\n",
       "        <a href=\"http://bokeh.pydata.org\" target=\"_blank\" class=\"bk-logo bk-logo-small bk-logo-notebook\"></a>\n",
       "        <span id=\"3f18d2e7-4a21-49fa-ada2-f28e87d66140\">Loading BokehJS ...</span>\n",
       "    </div>"
      ]
     },
     "metadata": {},
     "output_type": "display_data"
    },
    {
     "data": {
      "application/javascript": [
       "\n",
       "(function(global) {\n",
       "  function now() {\n",
       "    return new Date();\n",
       "  }\n",
       "\n",
       "  var force = true;\n",
       "\n",
       "  if (typeof (window._bokeh_onload_callbacks) === \"undefined\" || force === true) {\n",
       "    window._bokeh_onload_callbacks = [];\n",
       "    window._bokeh_is_loading = undefined;\n",
       "  }\n",
       "\n",
       "\n",
       "  \n",
       "  if (typeof (window._bokeh_timeout) === \"undefined\" || force === true) {\n",
       "    window._bokeh_timeout = Date.now() + 5000;\n",
       "    window._bokeh_failed_load = false;\n",
       "  }\n",
       "\n",
       "  var NB_LOAD_WARNING = {'data': {'text/html':\n",
       "     \"<div style='background-color: #fdd'>\\n\"+\n",
       "     \"<p>\\n\"+\n",
       "     \"BokehJS does not appear to have successfully loaded. If loading BokehJS from CDN, this \\n\"+\n",
       "     \"may be due to a slow or bad network connection. Possible fixes:\\n\"+\n",
       "     \"</p>\\n\"+\n",
       "     \"<ul>\\n\"+\n",
       "     \"<li>re-rerun `output_notebook()` to attempt to load from CDN again, or</li>\\n\"+\n",
       "     \"<li>use INLINE resources instead, as so:</li>\\n\"+\n",
       "     \"</ul>\\n\"+\n",
       "     \"<code>\\n\"+\n",
       "     \"from bokeh.resources import INLINE\\n\"+\n",
       "     \"output_notebook(resources=INLINE)\\n\"+\n",
       "     \"</code>\\n\"+\n",
       "     \"</div>\"}};\n",
       "\n",
       "  function display_loaded() {\n",
       "    if (window.Bokeh !== undefined) {\n",
       "      var el = document.getElementById(\"3f18d2e7-4a21-49fa-ada2-f28e87d66140\");\n",
       "      el.textContent = \"BokehJS \" + Bokeh.version + \" successfully loaded.\";\n",
       "    } else if (Date.now() < window._bokeh_timeout) {\n",
       "      setTimeout(display_loaded, 100)\n",
       "    }\n",
       "  }\n",
       "\n",
       "  function run_callbacks() {\n",
       "    window._bokeh_onload_callbacks.forEach(function(callback) { callback() });\n",
       "    delete window._bokeh_onload_callbacks\n",
       "    console.info(\"Bokeh: all callbacks have finished\");\n",
       "  }\n",
       "\n",
       "  function load_libs(js_urls, callback) {\n",
       "    window._bokeh_onload_callbacks.push(callback);\n",
       "    if (window._bokeh_is_loading > 0) {\n",
       "      console.log(\"Bokeh: BokehJS is being loaded, scheduling callback at\", now());\n",
       "      return null;\n",
       "    }\n",
       "    if (js_urls == null || js_urls.length === 0) {\n",
       "      run_callbacks();\n",
       "      return null;\n",
       "    }\n",
       "    console.log(\"Bokeh: BokehJS not loaded, scheduling load and callback at\", now());\n",
       "    window._bokeh_is_loading = js_urls.length;\n",
       "    for (var i = 0; i < js_urls.length; i++) {\n",
       "      var url = js_urls[i];\n",
       "      var s = document.createElement('script');\n",
       "      s.src = url;\n",
       "      s.async = false;\n",
       "      s.onreadystatechange = s.onload = function() {\n",
       "        window._bokeh_is_loading--;\n",
       "        if (window._bokeh_is_loading === 0) {\n",
       "          console.log(\"Bokeh: all BokehJS libraries loaded\");\n",
       "          run_callbacks()\n",
       "        }\n",
       "      };\n",
       "      s.onerror = function() {\n",
       "        console.warn(\"failed to load library \" + url);\n",
       "      };\n",
       "      console.log(\"Bokeh: injecting script tag for BokehJS library: \", url);\n",
       "      document.getElementsByTagName(\"head\")[0].appendChild(s);\n",
       "    }\n",
       "  };var element = document.getElementById(\"3f18d2e7-4a21-49fa-ada2-f28e87d66140\");\n",
       "  if (element == null) {\n",
       "    console.log(\"Bokeh: ERROR: autoload.js configured with elementid '3f18d2e7-4a21-49fa-ada2-f28e87d66140' but no matching script tag was found. \")\n",
       "    return false;\n",
       "  }\n",
       "\n",
       "  var js_urls = [\"https://cdn.pydata.org/bokeh/release/bokeh-0.12.5.min.js\", \"https://cdn.pydata.org/bokeh/release/bokeh-widgets-0.12.5.min.js\"];\n",
       "\n",
       "  var inline_js = [\n",
       "    function(Bokeh) {\n",
       "      Bokeh.set_log_level(\"info\");\n",
       "    },\n",
       "    \n",
       "    function(Bokeh) {\n",
       "      \n",
       "    },\n",
       "    \n",
       "    function(Bokeh) {\n",
       "      \n",
       "      document.getElementById(\"3f18d2e7-4a21-49fa-ada2-f28e87d66140\").textContent = \"BokehJS is loading...\";\n",
       "    },\n",
       "    function(Bokeh) {\n",
       "      console.log(\"Bokeh: injecting CSS: https://cdn.pydata.org/bokeh/release/bokeh-0.12.5.min.css\");\n",
       "      Bokeh.embed.inject_css(\"https://cdn.pydata.org/bokeh/release/bokeh-0.12.5.min.css\");\n",
       "      console.log(\"Bokeh: injecting CSS: https://cdn.pydata.org/bokeh/release/bokeh-widgets-0.12.5.min.css\");\n",
       "      Bokeh.embed.inject_css(\"https://cdn.pydata.org/bokeh/release/bokeh-widgets-0.12.5.min.css\");\n",
       "    }\n",
       "  ];\n",
       "\n",
       "  function run_inline_js() {\n",
       "    \n",
       "    if ((window.Bokeh !== undefined) || (force === true)) {\n",
       "      for (var i = 0; i < inline_js.length; i++) {\n",
       "        inline_js[i](window.Bokeh);\n",
       "      }if (force === true) {\n",
       "        display_loaded();\n",
       "      }} else if (Date.now() < window._bokeh_timeout) {\n",
       "      setTimeout(run_inline_js, 100);\n",
       "    } else if (!window._bokeh_failed_load) {\n",
       "      console.log(\"Bokeh: BokehJS failed to load within specified timeout.\");\n",
       "      window._bokeh_failed_load = true;\n",
       "    } else if (force !== true) {\n",
       "      var cell = $(document.getElementById(\"3f18d2e7-4a21-49fa-ada2-f28e87d66140\")).parents('.cell').data().cell;\n",
       "      cell.output_area.append_execute_result(NB_LOAD_WARNING)\n",
       "    }\n",
       "\n",
       "  }\n",
       "\n",
       "  if (window._bokeh_is_loading === 0) {\n",
       "    console.log(\"Bokeh: BokehJS loaded, going straight to plotting\");\n",
       "    run_inline_js();\n",
       "  } else {\n",
       "    load_libs(js_urls, function() {\n",
       "      console.log(\"Bokeh: BokehJS plotting callback run at\", now());\n",
       "      run_inline_js();\n",
       "    });\n",
       "  }\n",
       "}(this));"
      ]
     },
     "metadata": {},
     "output_type": "display_data"
    }
   ],
   "source": [
    "from bokeh.models import ColumnDataSource, LabelSet\n",
    "from bokeh.plotting import figure, show, output_file\n",
    "from bokeh.io import output_notebook\n",
    "output_notebook()"
   ]
  },
  {
   "cell_type": "code",
   "execution_count": 28,
   "metadata": {},
   "outputs": [
    {
     "data": {
      "text/plain": [
       "1000"
      ]
     },
     "execution_count": 28,
     "metadata": {},
     "output_type": "execute_result"
    }
   ],
   "source": [
    "from collections import Counter\n",
    "\n",
    "words = []\n",
    "for sent in sentences:\n",
    "    for word in sent:\n",
    "        words.append(word)\n",
    "\n",
    "cnt = Counter(words).most_common(1000)\n",
    "cnt = np.array(cnt)\n",
    "topwords = np.ndarray.tolist(cnt[:,0])\n",
    "len(topwords)"
   ]
  },
  {
   "cell_type": "code",
   "execution_count": 29,
   "metadata": {},
   "outputs": [
    {
     "name": "stdout",
     "output_type": "stream",
     "text": [
      "1797\n",
      "1797\n",
      "1797\n"
     ]
    }
   ],
   "source": [
    "visualisation = []\n",
    "\n",
    "for word in medications:\n",
    "    if word in model_I2B2.wv.vocab.keys():\n",
    "        visualisation.append(word)\n",
    "\n",
    "colormap = np.full(len(visualisation), \"red\")\n",
    "\n",
    "for word in topwords:\n",
    "    if not word in visualisation:\n",
    "        visualisation.append(word)\n",
    "        colormap = np.append(colormap, [\"blue\"])\n",
    "\n",
    "\n",
    "# This assumes words_top_ted is a list of strings, the top 1000 words\n",
    "words_vec = model_I2B2[visualisation]\n",
    "\n",
    "print(len(visualisation))\n",
    "print(len(words_vec))\n",
    "print(len(colormap))"
   ]
  },
  {
   "cell_type": "code",
   "execution_count": 30,
   "metadata": {
    "collapsed": true
   },
   "outputs": [],
   "source": [
    "from sklearn.manifold import TSNE\n",
    "tsne = TSNE(n_components=2, random_state=0)\n",
    "words_tsne = tsne.fit_transform(words_vec)"
   ]
  },
  {
   "cell_type": "code",
   "execution_count": 31,
   "metadata": {},
   "outputs": [
    {
     "data": {
      "text/html": [
       "\n",
       "\n",
       "    <div class=\"bk-root\">\n",
       "        <div class=\"bk-plotdiv\" id=\"8b37c4b8-191e-4a26-838d-fe41f2dd6c8c\"></div>\n",
       "    </div>\n",
       "<script type=\"text/javascript\">\n",
       "  \n",
       "  (function(global) {\n",
       "    function now() {\n",
       "      return new Date();\n",
       "    }\n",
       "  \n",
       "    var force = false;\n",
       "  \n",
       "    if (typeof (window._bokeh_onload_callbacks) === \"undefined\" || force === true) {\n",
       "      window._bokeh_onload_callbacks = [];\n",
       "      window._bokeh_is_loading = undefined;\n",
       "    }\n",
       "  \n",
       "  \n",
       "    \n",
       "    if (typeof (window._bokeh_timeout) === \"undefined\" || force === true) {\n",
       "      window._bokeh_timeout = Date.now() + 0;\n",
       "      window._bokeh_failed_load = false;\n",
       "    }\n",
       "  \n",
       "    var NB_LOAD_WARNING = {'data': {'text/html':\n",
       "       \"<div style='background-color: #fdd'>\\n\"+\n",
       "       \"<p>\\n\"+\n",
       "       \"BokehJS does not appear to have successfully loaded. If loading BokehJS from CDN, this \\n\"+\n",
       "       \"may be due to a slow or bad network connection. Possible fixes:\\n\"+\n",
       "       \"</p>\\n\"+\n",
       "       \"<ul>\\n\"+\n",
       "       \"<li>re-rerun `output_notebook()` to attempt to load from CDN again, or</li>\\n\"+\n",
       "       \"<li>use INLINE resources instead, as so:</li>\\n\"+\n",
       "       \"</ul>\\n\"+\n",
       "       \"<code>\\n\"+\n",
       "       \"from bokeh.resources import INLINE\\n\"+\n",
       "       \"output_notebook(resources=INLINE)\\n\"+\n",
       "       \"</code>\\n\"+\n",
       "       \"</div>\"}};\n",
       "  \n",
       "    function display_loaded() {\n",
       "      if (window.Bokeh !== undefined) {\n",
       "        var el = document.getElementById(\"8b37c4b8-191e-4a26-838d-fe41f2dd6c8c\");\n",
       "        el.textContent = \"BokehJS \" + Bokeh.version + \" successfully loaded.\";\n",
       "      } else if (Date.now() < window._bokeh_timeout) {\n",
       "        setTimeout(display_loaded, 100)\n",
       "      }\n",
       "    }\n",
       "  \n",
       "    function run_callbacks() {\n",
       "      window._bokeh_onload_callbacks.forEach(function(callback) { callback() });\n",
       "      delete window._bokeh_onload_callbacks\n",
       "      console.info(\"Bokeh: all callbacks have finished\");\n",
       "    }\n",
       "  \n",
       "    function load_libs(js_urls, callback) {\n",
       "      window._bokeh_onload_callbacks.push(callback);\n",
       "      if (window._bokeh_is_loading > 0) {\n",
       "        console.log(\"Bokeh: BokehJS is being loaded, scheduling callback at\", now());\n",
       "        return null;\n",
       "      }\n",
       "      if (js_urls == null || js_urls.length === 0) {\n",
       "        run_callbacks();\n",
       "        return null;\n",
       "      }\n",
       "      console.log(\"Bokeh: BokehJS not loaded, scheduling load and callback at\", now());\n",
       "      window._bokeh_is_loading = js_urls.length;\n",
       "      for (var i = 0; i < js_urls.length; i++) {\n",
       "        var url = js_urls[i];\n",
       "        var s = document.createElement('script');\n",
       "        s.src = url;\n",
       "        s.async = false;\n",
       "        s.onreadystatechange = s.onload = function() {\n",
       "          window._bokeh_is_loading--;\n",
       "          if (window._bokeh_is_loading === 0) {\n",
       "            console.log(\"Bokeh: all BokehJS libraries loaded\");\n",
       "            run_callbacks()\n",
       "          }\n",
       "        };\n",
       "        s.onerror = function() {\n",
       "          console.warn(\"failed to load library \" + url);\n",
       "        };\n",
       "        console.log(\"Bokeh: injecting script tag for BokehJS library: \", url);\n",
       "        document.getElementsByTagName(\"head\")[0].appendChild(s);\n",
       "      }\n",
       "    };var element = document.getElementById(\"8b37c4b8-191e-4a26-838d-fe41f2dd6c8c\");\n",
       "    if (element == null) {\n",
       "      console.log(\"Bokeh: ERROR: autoload.js configured with elementid '8b37c4b8-191e-4a26-838d-fe41f2dd6c8c' but no matching script tag was found. \")\n",
       "      return false;\n",
       "    }\n",
       "  \n",
       "    var js_urls = [];\n",
       "  \n",
       "    var inline_js = [\n",
       "      function(Bokeh) {\n",
       "        (function() {\n",
       "          var fn = function() {\n",
       "            var docs_json = {\"76cd6b16-df2e-494b-a736-ef86acac2681\":{\"roots\":{\"references\":[{\"attributes\":{},\"id\":\"ff186732-d5f5-4074-b17d-6dd096dde7e6\",\"type\":\"BasicTickFormatter\"},{\"attributes\":{},\"id\":\"80dc1a75-2c0d-4a82-a6aa-af7af77f5205\",\"type\":\"BasicTickFormatter\"},{\"attributes\":{\"formatter\":{\"id\":\"ff186732-d5f5-4074-b17d-6dd096dde7e6\",\"type\":\"BasicTickFormatter\"},\"plot\":{\"id\":\"7c3e7ff2-ec24-4d26-9c48-8312286f92d6\",\"subtype\":\"Figure\",\"type\":\"Plot\"},\"ticker\":{\"id\":\"e4406001-c3f8-49f7-87c8-5ae53f3d67ab\",\"type\":\"BasicTicker\"}},\"id\":\"9e18c87b-6547-41fe-8112-2d0c1868fb67\",\"type\":\"LinearAxis\"},{\"attributes\":{},\"id\":\"ffe523e6-c6ce-458f-aaf3-aa55f9f77cf1\",\"type\":\"BasicTicker\"},{\"attributes\":{\"plot\":{\"id\":\"7c3e7ff2-ec24-4d26-9c48-8312286f92d6\",\"subtype\":\"Figure\",\"type\":\"Plot\"}},\"id\":\"30a288a8-9aec-48e9-93fd-e09d4877c33e\",\"type\":\"PanTool\"},{\"attributes\":{\"formatter\":{\"id\":\"80dc1a75-2c0d-4a82-a6aa-af7af77f5205\",\"type\":\"BasicTickFormatter\"},\"plot\":{\"id\":\"7c3e7ff2-ec24-4d26-9c48-8312286f92d6\",\"subtype\":\"Figure\",\"type\":\"Plot\"},\"ticker\":{\"id\":\"ffe523e6-c6ce-458f-aaf3-aa55f9f77cf1\",\"type\":\"BasicTicker\"}},\"id\":\"5cbf9ab0-04a3-4d0e-9919-1feec39a940c\",\"type\":\"LinearAxis\"},{\"attributes\":{\"plot\":{\"id\":\"7c3e7ff2-ec24-4d26-9c48-8312286f92d6\",\"subtype\":\"Figure\",\"type\":\"Plot\"},\"source\":{\"id\":\"e7fbffff-5696-4b76-a4dd-51342ca4739f\",\"type\":\"ColumnDataSource\"},\"text\":{\"field\":\"names\"},\"text_align\":\"center\",\"text_color\":{\"value\":\"#555555\"},\"text_font_size\":{\"value\":\"8pt\"},\"x\":{\"field\":\"x1\"},\"y\":{\"field\":\"x2\"},\"y_offset\":{\"value\":6}},\"id\":\"180c610f-170f-4f3c-b797-6cbcdcfe5f60\",\"type\":\"LabelSet\"},{\"attributes\":{\"plot\":null,\"text\":\"word2vec T-SNE for most common words\"},\"id\":\"2f9d8949-0ad3-446a-a866-972ea910bdfc\",\"type\":\"Title\"},{\"attributes\":{\"fill_alpha\":{\"value\":0.1},\"fill_color\":{\"value\":\"#1f77b4\"},\"line_alpha\":{\"value\":0.1},\"line_color\":{\"value\":\"#1f77b4\"},\"size\":{\"units\":\"screen\",\"value\":8},\"x\":{\"field\":\"x1\"},\"y\":{\"field\":\"x2\"}},\"id\":\"52adcfdc-d575-49b0-a2d8-36d64a0eb8d5\",\"type\":\"Circle\"},{\"attributes\":{},\"id\":\"e4406001-c3f8-49f7-87c8-5ae53f3d67ab\",\"type\":\"BasicTicker\"},{\"attributes\":{\"fill_color\":{\"field\":\"coloring\"},\"line_color\":{\"field\":\"coloring\"},\"size\":{\"units\":\"screen\",\"value\":8},\"x\":{\"field\":\"x1\"},\"y\":{\"field\":\"x2\"}},\"id\":\"a3dd4552-f185-4c6a-9a0d-8a5adbc34b83\",\"type\":\"Circle\"},{\"attributes\":{\"plot\":{\"id\":\"7c3e7ff2-ec24-4d26-9c48-8312286f92d6\",\"subtype\":\"Figure\",\"type\":\"Plot\"}},\"id\":\"5519e3be-949d-417f-a544-69fc3673853c\",\"type\":\"WheelZoomTool\"},{\"attributes\":{\"data_source\":{\"id\":\"e7fbffff-5696-4b76-a4dd-51342ca4739f\",\"type\":\"ColumnDataSource\"},\"glyph\":{\"id\":\"a3dd4552-f185-4c6a-9a0d-8a5adbc34b83\",\"type\":\"Circle\"},\"hover_glyph\":null,\"muted_glyph\":null,\"nonselection_glyph\":{\"id\":\"52adcfdc-d575-49b0-a2d8-36d64a0eb8d5\",\"type\":\"Circle\"},\"selection_glyph\":null},\"id\":\"ee5aa03a-ec09-46d9-8dcf-1975358444e9\",\"type\":\"GlyphRenderer\"},{\"attributes\":{\"callback\":null,\"column_names\":[\"coloring\",\"x2\",\"x1\",\"names\"],\"data\":{\"coloring\":[\"red\",\"red\",\"red\",\"red\",\"red\",\"red\",\"red\",\"red\",\"red\",\"red\",\"red\",\"red\",\"red\",\"red\",\"red\",\"red\",\"red\",\"red\",\"red\",\"red\",\"red\",\"red\",\"red\",\"red\",\"red\",\"red\",\"red\",\"red\",\"red\",\"red\",\"red\",\"red\",\"red\",\"red\",\"red\",\"red\",\"red\",\"red\",\"red\",\"red\",\"red\",\"red\",\"red\",\"red\",\"red\",\"red\",\"red\",\"red\",\"red\",\"red\",\"red\",\"red\",\"red\",\"red\",\"red\",\"red\",\"red\",\"red\",\"red\",\"red\",\"red\",\"red\",\"red\",\"red\",\"red\",\"red\",\"red\",\"red\",\"red\",\"red\",\"red\",\"red\",\"red\",\"red\",\"red\",\"red\",\"red\",\"red\",\"red\",\"red\",\"red\",\"red\",\"red\",\"red\",\"red\",\"red\",\"red\",\"red\",\"red\",\"red\",\"red\",\"red\",\"red\",\"red\",\"red\",\"red\",\"red\",\"red\",\"red\",\"red\",\"red\",\"red\",\"red\",\"red\",\"red\",\"red\",\"red\",\"red\",\"red\",\"red\",\"red\",\"red\",\"red\",\"red\",\"red\",\"red\",\"red\",\"red\",\"red\",\"red\",\"red\",\"red\",\"red\",\"red\",\"red\",\"red\",\"red\",\"red\",\"red\",\"red\",\"red\",\"red\",\"red\",\"red\",\"red\",\"red\",\"red\",\"red\",\"red\",\"red\",\"red\",\"red\",\"red\",\"red\",\"red\",\"red\",\"red\",\"red\",\"red\",\"red\",\"red\",\"red\",\"red\",\"red\",\"red\",\"red\",\"red\",\"red\",\"red\",\"red\",\"red\",\"red\",\"red\",\"red\",\"red\",\"red\",\"red\",\"red\",\"red\",\"red\",\"red\",\"red\",\"red\",\"red\",\"red\",\"red\",\"red\",\"red\",\"red\",\"red\",\"red\",\"red\",\"red\",\"red\",\"red\",\"red\",\"red\",\"red\",\"red\",\"red\",\"red\",\"red\",\"red\",\"red\",\"red\",\"red\",\"red\",\"red\",\"red\",\"red\",\"red\",\"red\",\"red\",\"red\",\"red\",\"red\",\"red\",\"red\",\"red\",\"red\",\"red\",\"red\",\"red\",\"red\",\"red\",\"red\",\"red\",\"red\",\"red\",\"red\",\"red\",\"red\",\"red\",\"red\",\"red\",\"red\",\"red\",\"red\",\"red\",\"red\",\"red\",\"red\",\"red\",\"red\",\"red\",\"red\",\"red\",\"red\",\"red\",\"red\",\"red\",\"red\",\"red\",\"red\",\"red\",\"red\",\"red\",\"red\",\"red\",\"red\",\"red\",\"red\",\"red\",\"red\",\"red\",\"red\",\"red\",\"red\",\"red\",\"red\",\"red\",\"red\",\"red\",\"red\",\"red\",\"red\",\"red\",\"red\",\"red\",\"red\",\"red\",\"red\",\"red\",\"red\",\"red\",\"red\",\"red\",\"red\",\"red\",\"red\",\"red\",\"red\",\"red\",\"red\",\"red\",\"red\",\"red\",\"red\",\"red\",\"red\",\"red\",\"red\",\"red\",\"red\",\"red\",\"red\",\"red\",\"red\",\"red\",\"red\",\"red\",\"red\",\"red\",\"red\",\"red\",\"red\",\"red\",\"red\",\"red\",\"red\",\"red\",\"red\",\"red\",\"red\",\"red\",\"red\",\"red\",\"red\",\"red\",\"red\",\"red\",\"red\",\"red\",\"red\",\"red\",\"red\",\"red\",\"red\",\"red\",\"red\",\"red\",\"red\",\"red\",\"red\",\"red\",\"red\",\"red\",\"red\",\"red\",\"red\",\"red\",\"red\",\"red\",\"red\",\"red\",\"red\",\"red\",\"red\",\"red\",\"red\",\"red\",\"red\",\"red\",\"red\",\"red\",\"red\",\"red\",\"red\",\"red\",\"red\",\"red\",\"red\",\"red\",\"red\",\"red\",\"red\",\"red\",\"red\",\"red\",\"red\",\"red\",\"red\",\"red\",\"red\",\"red\",\"red\",\"red\",\"red\",\"red\",\"red\",\"red\",\"red\",\"red\",\"red\",\"red\",\"red\",\"red\",\"red\",\"red\",\"red\",\"red\",\"red\",\"red\",\"red\",\"red\",\"red\",\"red\",\"red\",\"red\",\"red\",\"red\",\"red\",\"red\",\"red\",\"red\",\"red\",\"red\",\"red\",\"red\",\"red\",\"red\",\"red\",\"red\",\"red\",\"red\",\"red\",\"red\",\"red\",\"red\",\"red\",\"red\",\"red\",\"red\",\"red\",\"red\",\"red\",\"red\",\"red\",\"red\",\"red\",\"red\",\"red\",\"red\",\"red\",\"red\",\"red\",\"red\",\"red\",\"red\",\"red\",\"red\",\"red\",\"red\",\"red\",\"red\",\"red\",\"red\",\"red\",\"red\",\"red\",\"red\",\"red\",\"red\",\"red\",\"red\",\"red\",\"red\",\"red\",\"red\",\"red\",\"red\",\"red\",\"red\",\"red\",\"red\",\"red\",\"red\",\"red\",\"red\",\"red\",\"red\",\"red\",\"red\",\"red\",\"red\",\"red\",\"red\",\"red\",\"red\",\"red\",\"red\",\"red\",\"red\",\"red\",\"red\",\"red\",\"red\",\"red\",\"red\",\"red\",\"red\",\"red\",\"red\",\"red\",\"red\",\"red\",\"red\",\"red\",\"red\",\"red\",\"red\",\"red\",\"red\",\"red\",\"red\",\"red\",\"red\",\"red\",\"red\",\"red\",\"red\",\"red\",\"red\",\"red\",\"red\",\"red\",\"red\",\"red\",\"red\",\"red\",\"red\",\"red\",\"red\",\"red\",\"red\",\"red\",\"red\",\"red\",\"red\",\"red\",\"red\",\"red\",\"red\",\"red\",\"red\",\"red\",\"red\",\"red\",\"red\",\"red\",\"red\",\"red\",\"red\",\"red\",\"red\",\"red\",\"red\",\"red\",\"red\",\"red\",\"red\",\"red\",\"red\",\"red\",\"red\",\"red\",\"red\",\"red\",\"red\",\"red\",\"red\",\"red\",\"red\",\"red\",\"red\",\"red\",\"red\",\"red\",\"red\",\"red\",\"red\",\"red\",\"red\",\"red\",\"red\",\"red\",\"red\",\"red\",\"red\",\"red\",\"red\",\"red\",\"red\",\"red\",\"red\",\"red\",\"red\",\"red\",\"red\",\"red\",\"red\",\"red\",\"red\",\"red\",\"red\",\"red\",\"red\",\"red\",\"red\",\"red\",\"red\",\"red\",\"red\",\"red\",\"red\",\"red\",\"red\",\"red\",\"red\",\"red\",\"red\",\"red\",\"red\",\"red\",\"red\",\"red\",\"red\",\"red\",\"red\",\"red\",\"red\",\"red\",\"red\",\"red\",\"red\",\"red\",\"red\",\"red\",\"red\",\"red\",\"red\",\"red\",\"red\",\"red\",\"red\",\"red\",\"red\",\"red\",\"red\",\"red\",\"red\",\"red\",\"red\",\"red\",\"red\",\"red\",\"red\",\"red\",\"red\",\"red\",\"red\",\"red\",\"red\",\"red\",\"red\",\"red\",\"red\",\"red\",\"red\",\"red\",\"red\",\"red\",\"red\",\"red\",\"red\",\"red\",\"red\",\"red\",\"red\",\"red\",\"red\",\"red\",\"red\",\"red\",\"red\",\"red\",\"red\",\"red\",\"red\",\"red\",\"red\",\"red\",\"red\",\"red\",\"red\",\"red\",\"red\",\"red\",\"red\",\"red\",\"red\",\"red\",\"red\",\"red\",\"red\",\"red\",\"red\",\"red\",\"red\",\"red\",\"red\",\"red\",\"red\",\"red\",\"red\",\"red\",\"red\",\"red\",\"red\",\"red\",\"red\",\"red\",\"red\",\"red\",\"red\",\"red\",\"red\",\"red\",\"red\",\"red\",\"red\",\"red\",\"red\",\"red\",\"red\",\"red\",\"red\",\"red\",\"red\",\"red\",\"red\",\"red\",\"red\",\"red\",\"red\",\"red\",\"red\",\"red\",\"red\",\"red\",\"red\",\"red\",\"red\",\"red\",\"red\",\"red\",\"red\",\"red\",\"red\",\"red\",\"red\",\"red\",\"red\",\"red\",\"red\",\"red\",\"red\",\"red\",\"red\",\"red\",\"red\",\"red\",\"red\",\"red\",\"red\",\"red\",\"red\",\"red\",\"red\",\"red\",\"red\",\"red\",\"red\",\"red\",\"red\",\"red\",\"red\",\"red\",\"red\",\"red\",\"red\",\"red\",\"red\",\"red\",\"red\",\"red\",\"red\",\"red\",\"red\",\"red\",\"red\",\"red\",\"red\",\"red\",\"red\",\"red\",\"red\",\"red\",\"red\",\"red\",\"red\",\"red\",\"red\",\"red\",\"red\",\"red\",\"red\",\"red\",\"red\",\"red\",\"red\",\"red\",\"red\",\"red\",\"red\",\"red\",\"red\",\"red\",\"red\",\"red\",\"red\",\"red\",\"red\",\"red\",\"red\",\"red\",\"red\",\"red\",\"red\",\"red\",\"red\",\"red\",\"red\",\"red\",\"red\",\"red\",\"red\",\"red\",\"red\",\"red\",\"red\",\"red\",\"red\",\"red\",\"red\",\"red\",\"red\",\"red\",\"red\",\"red\",\"red\",\"red\",\"red\",\"red\",\"red\",\"red\",\"red\",\"red\",\"red\",\"red\",\"red\",\"red\",\"red\",\"red\",\"red\",\"red\",\"red\",\"red\",\"red\",\"red\",\"red\",\"red\",\"red\",\"red\",\"red\",\"red\",\"red\",\"red\",\"red\",\"red\",\"red\",\"red\",\"red\",\"red\",\"red\",\"red\",\"red\",\"red\",\"red\",\"red\",\"red\",\"red\",\"red\",\"red\",\"red\",\"red\",\"red\",\"red\",\"red\",\"red\",\"red\",\"red\",\"red\",\"red\",\"red\",\"red\",\"red\",\"red\",\"red\",\"red\",\"red\",\"red\",\"red\",\"red\",\"red\",\"red\",\"red\",\"red\",\"red\",\"red\",\"red\",\"red\",\"red\",\"red\",\"red\",\"blue\",\"blue\",\"blue\",\"blue\",\"blue\",\"blue\",\"blue\",\"blue\",\"blue\",\"blue\",\"blue\",\"blue\",\"blue\",\"blue\",\"blue\",\"blue\",\"blue\",\"blue\",\"blue\",\"blue\",\"blue\",\"blue\",\"blue\",\"blue\",\"blue\",\"blue\",\"blue\",\"blue\",\"blue\",\"blue\",\"blue\",\"blue\",\"blue\",\"blue\",\"blue\",\"blue\",\"blue\",\"blue\",\"blue\",\"blue\",\"blue\",\"blue\",\"blue\",\"blue\",\"blue\",\"blue\",\"blue\",\"blue\",\"blue\",\"blue\",\"blue\",\"blue\",\"blue\",\"blue\",\"blue\",\"blue\",\"blue\",\"blue\",\"blue\",\"blue\",\"blue\",\"blue\",\"blue\",\"blue\",\"blue\",\"blue\",\"blue\",\"blue\",\"blue\",\"blue\",\"blue\",\"blue\",\"blue\",\"blue\",\"blue\",\"blue\",\"blue\",\"blue\",\"blue\",\"blue\",\"blue\",\"blue\",\"blue\",\"blue\",\"blue\",\"blue\",\"blue\",\"blue\",\"blue\",\"blue\",\"blue\",\"blue\",\"blue\",\"blue\",\"blue\",\"blue\",\"blue\",\"blue\",\"blue\",\"blue\",\"blue\",\"blue\",\"blue\",\"blue\",\"blue\",\"blue\",\"blue\",\"blue\",\"blue\",\"blue\",\"blue\",\"blue\",\"blue\",\"blue\",\"blue\",\"blue\",\"blue\",\"blue\",\"blue\",\"blue\",\"blue\",\"blue\",\"blue\",\"blue\",\"blue\",\"blue\",\"blue\",\"blue\",\"blue\",\"blue\",\"blue\",\"blue\",\"blue\",\"blue\",\"blue\",\"blue\",\"blue\",\"blue\",\"blue\",\"blue\",\"blue\",\"blue\",\"blue\",\"blue\",\"blue\",\"blue\",\"blue\",\"blue\",\"blue\",\"blue\",\"blue\",\"blue\",\"blue\",\"blue\",\"blue\",\"blue\",\"blue\",\"blue\",\"blue\",\"blue\",\"blue\",\"blue\",\"blue\",\"blue\",\"blue\",\"blue\",\"blue\",\"blue\",\"blue\",\"blue\",\"blue\",\"blue\",\"blue\",\"blue\",\"blue\",\"blue\",\"blue\",\"blue\",\"blue\",\"blue\",\"blue\",\"blue\",\"blue\",\"blue\",\"blue\",\"blue\",\"blue\",\"blue\",\"blue\",\"blue\",\"blue\",\"blue\",\"blue\",\"blue\",\"blue\",\"blue\",\"blue\",\"blue\",\"blue\",\"blue\",\"blue\",\"blue\",\"blue\",\"blue\",\"blue\",\"blue\",\"blue\",\"blue\",\"blue\",\"blue\",\"blue\",\"blue\",\"blue\",\"blue\",\"blue\",\"blue\",\"blue\",\"blue\",\"blue\",\"blue\",\"blue\",\"blue\",\"blue\",\"blue\",\"blue\",\"blue\",\"blue\",\"blue\",\"blue\",\"blue\",\"blue\",\"blue\",\"blue\",\"blue\",\"blue\",\"blue\",\"blue\",\"blue\",\"blue\",\"blue\",\"blue\",\"blue\",\"blue\",\"blue\",\"blue\",\"blue\",\"blue\",\"blue\",\"blue\",\"blue\",\"blue\",\"blue\",\"blue\",\"blue\",\"blue\",\"blue\",\"blue\",\"blue\",\"blue\",\"blue\",\"blue\",\"blue\",\"blue\",\"blue\",\"blue\",\"blue\",\"blue\",\"blue\",\"blue\",\"blue\",\"blue\",\"blue\",\"blue\",\"blue\",\"blue\",\"blue\",\"blue\",\"blue\",\"blue\",\"blue\",\"blue\",\"blue\",\"blue\",\"blue\",\"blue\",\"blue\",\"blue\",\"blue\",\"blue\",\"blue\",\"blue\",\"blue\",\"blue\",\"blue\",\"blue\",\"blue\",\"blue\",\"blue\",\"blue\",\"blue\",\"blue\",\"blue\",\"blue\",\"blue\",\"blue\",\"blue\",\"blue\",\"blue\",\"blue\",\"blue\",\"blue\",\"blue\",\"blue\",\"blue\",\"blue\",\"blue\",\"blue\",\"blue\",\"blue\",\"blue\",\"blue\",\"blue\",\"blue\",\"blue\",\"blue\",\"blue\",\"blue\",\"blue\",\"blue\",\"blue\",\"blue\",\"blue\",\"blue\",\"blue\",\"blue\",\"blue\",\"blue\",\"blue\",\"blue\",\"blue\",\"blue\",\"blue\",\"blue\",\"blue\",\"blue\",\"blue\",\"blue\",\"blue\",\"blue\",\"blue\",\"blue\",\"blue\",\"blue\",\"blue\",\"blue\",\"blue\",\"blue\",\"blue\",\"blue\",\"blue\",\"blue\",\"blue\",\"blue\",\"blue\",\"blue\",\"blue\",\"blue\",\"blue\",\"blue\",\"blue\",\"blue\",\"blue\",\"blue\",\"blue\",\"blue\",\"blue\",\"blue\",\"blue\",\"blue\",\"blue\",\"blue\",\"blue\",\"blue\",\"blue\",\"blue\",\"blue\",\"blue\",\"blue\",\"blue\",\"blue\",\"blue\",\"blue\",\"blue\",\"blue\",\"blue\",\"blue\",\"blue\",\"blue\",\"blue\",\"blue\",\"blue\",\"blue\",\"blue\",\"blue\",\"blue\",\"blue\",\"blue\",\"blue\",\"blue\",\"blue\",\"blue\",\"blue\",\"blue\",\"blue\",\"blue\",\"blue\",\"blue\",\"blue\",\"blue\",\"blue\",\"blue\",\"blue\",\"blue\",\"blue\",\"blue\",\"blue\",\"blue\",\"blue\",\"blue\",\"blue\",\"blue\",\"blue\",\"blue\",\"blue\",\"blue\",\"blue\",\"blue\",\"blue\",\"blue\",\"blue\",\"blue\",\"blue\",\"blue\",\"blue\",\"blue\",\"blue\",\"blue\",\"blue\",\"blue\",\"blue\",\"blue\",\"blue\",\"blue\",\"blue\",\"blue\",\"blue\",\"blue\",\"blue\",\"blue\",\"blue\",\"blue\",\"blue\",\"blue\",\"blue\",\"blue\",\"blue\",\"blue\",\"blue\",\"blue\",\"blue\",\"blue\",\"blue\",\"blue\",\"blue\",\"blue\",\"blue\",\"blue\",\"blue\",\"blue\",\"blue\",\"blue\",\"blue\",\"blue\",\"blue\",\"blue\",\"blue\",\"blue\",\"blue\",\"blue\",\"blue\",\"blue\",\"blue\",\"blue\",\"blue\",\"blue\",\"blue\",\"blue\",\"blue\",\"blue\",\"blue\",\"blue\",\"blue\",\"blue\",\"blue\",\"blue\",\"blue\",\"blue\",\"blue\",\"blue\",\"blue\",\"blue\",\"blue\",\"blue\",\"blue\",\"blue\",\"blue\",\"blue\",\"blue\",\"blue\",\"blue\",\"blue\",\"blue\",\"blue\",\"blue\",\"blue\",\"blue\",\"blue\",\"blue\",\"blue\",\"blue\",\"blue\",\"blue\",\"blue\",\"blue\",\"blue\",\"blue\",\"blue\",\"blue\",\"blue\",\"blue\",\"blue\",\"blue\",\"blue\",\"blue\",\"blue\",\"blue\",\"blue\",\"blue\",\"blue\",\"blue\",\"blue\",\"blue\",\"blue\",\"blue\",\"blue\",\"blue\",\"blue\",\"blue\",\"blue\",\"blue\",\"blue\",\"blue\",\"blue\",\"blue\",\"blue\",\"blue\",\"blue\",\"blue\",\"blue\",\"blue\",\"blue\",\"blue\",\"blue\",\"blue\",\"blue\",\"blue\",\"blue\",\"blue\",\"blue\",\"blue\",\"blue\",\"blue\",\"blue\",\"blue\",\"blue\",\"blue\",\"blue\",\"blue\",\"blue\",\"blue\",\"blue\",\"blue\",\"blue\",\"blue\",\"blue\",\"blue\",\"blue\",\"blue\",\"blue\",\"blue\",\"blue\",\"blue\",\"blue\",\"blue\",\"blue\",\"blue\",\"blue\",\"blue\",\"blue\",\"blue\",\"blue\",\"blue\",\"blue\",\"blue\",\"blue\",\"blue\",\"blue\",\"blue\",\"blue\",\"blue\",\"blue\",\"blue\",\"blue\",\"blue\",\"blue\",\"blue\",\"blue\",\"blue\",\"blue\",\"blue\",\"blue\",\"blue\",\"blue\",\"blue\",\"blue\",\"blue\",\"blue\",\"blue\",\"blue\",\"blue\",\"blue\",\"blue\",\"blue\",\"blue\",\"blue\",\"blue\",\"blue\",\"blue\",\"blue\",\"blue\",\"blue\",\"blue\",\"blue\",\"blue\",\"blue\",\"blue\",\"blue\",\"blue\",\"blue\",\"blue\",\"blue\",\"blue\",\"blue\",\"blue\",\"blue\",\"blue\",\"blue\",\"blue\",\"blue\",\"blue\",\"blue\",\"blue\",\"blue\",\"blue\",\"blue\",\"blue\",\"blue\",\"blue\",\"blue\",\"blue\",\"blue\",\"blue\",\"blue\",\"blue\",\"blue\",\"blue\",\"blue\",\"blue\",\"blue\",\"blue\",\"blue\",\"blue\",\"blue\",\"blue\",\"blue\",\"blue\",\"blue\",\"blue\",\"blue\",\"blue\",\"blue\",\"blue\",\"blue\",\"blue\",\"blue\",\"blue\",\"blue\",\"blue\",\"blue\",\"blue\",\"blue\",\"blue\",\"blue\",\"blue\",\"blue\",\"blue\",\"blue\",\"blue\",\"blue\",\"blue\",\"blue\",\"blue\",\"blue\",\"blue\",\"blue\",\"blue\",\"blue\",\"blue\",\"blue\",\"blue\",\"blue\",\"blue\",\"blue\",\"blue\",\"blue\",\"blue\",\"blue\",\"blue\",\"blue\",\"blue\",\"blue\",\"blue\",\"blue\",\"blue\",\"blue\",\"blue\",\"blue\",\"blue\",\"blue\",\"blue\",\"blue\",\"blue\",\"blue\",\"blue\",\"blue\",\"blue\",\"blue\",\"blue\",\"blue\",\"blue\",\"blue\",\"blue\",\"blue\",\"blue\",\"blue\",\"blue\",\"blue\",\"blue\",\"blue\",\"blue\",\"blue\",\"blue\",\"blue\",\"blue\",\"blue\",\"blue\",\"blue\",\"blue\",\"blue\",\"blue\",\"blue\",\"blue\",\"blue\",\"blue\",\"blue\",\"blue\",\"blue\",\"blue\",\"blue\",\"blue\",\"blue\",\"blue\",\"blue\",\"blue\",\"blue\",\"blue\",\"blue\",\"blue\",\"blue\",\"blue\",\"blue\",\"blue\",\"blue\",\"blue\",\"blue\",\"blue\",\"blue\",\"blue\",\"blue\",\"blue\",\"blue\",\"blue\",\"blue\",\"blue\",\"blue\",\"blue\",\"blue\",\"blue\",\"blue\",\"blue\",\"blue\",\"blue\",\"blue\",\"blue\",\"blue\",\"blue\",\"blue\",\"blue\",\"blue\",\"blue\",\"blue\",\"blue\",\"blue\",\"blue\",\"blue\",\"blue\",\"blue\",\"blue\",\"blue\",\"blue\",\"blue\",\"blue\",\"blue\",\"blue\",\"blue\",\"blue\",\"blue\",\"blue\",\"blue\",\"blue\",\"blue\",\"blue\",\"blue\",\"blue\",\"blue\",\"blue\",\"blue\",\"blue\",\"blue\",\"blue\",\"blue\",\"blue\",\"blue\",\"blue\",\"blue\",\"blue\",\"blue\",\"blue\",\"blue\",\"blue\",\"blue\",\"blue\"],\"names\":[\"ofloxacin\",\"insulin\",\"nph\",\"colace\",\"percocet\",\"coumadin\",\"heparin\",\"vancomycin\",\"axid\",\"lopressor\",\"zestril\",\"ecotrin\",\"isordil\",\"urokinase\",\"lente\",\"antibiotics\",\"epinephrine\",\"humalog\",\"aspirin\",\"lasix\",\"motrin\",\"nasal\",\"cannula\",\"atenolol\",\"metformin\",\"potassium\",\"chloride\",\"slow\",\"release\",\"ciprofloxacin\",\"novolog\",\"baby\",\"lantus\",\"glucophage\",\"lovenox\",\"klonopin\",\"celexa\",\"fresh\",\"frozen\",\"plasma\",\"lipitor\",\"plavix\",\"captopril\",\"zocor\",\"packed\",\"red\",\"blood\",\"cells\",\"nitroglycerin\",\"tylenol\",\"neurontin\",\"folate\",\"pain\",\"medication\",\"phoslo\",\"lyrica\",\"gemfibrozil\",\"ketamine\",\"medications\",\"unasyn\",\"renagel\",\"fentanyl\",\"pca\",\"nephrocaps\",\"levofloxacin\",\"flagyl\",\"oxycontin\",\"requip\",\"aspart\",\"protonix\",\"ativan\",\"oxycodone\",\"augmentin\",\"lisinopril\",\"digoxin\",\"troglipazone\",\"magnesium\",\"oxide\",\"simvastatin\",\"clonazepam\",\"ptu\",\"isosorbide\",\"amiodarone\",\"levothyroxine\",\"sodium\",\"glipizide\",\"cefpodoxime\",\"haldol\",\"depakote\",\"ceftriaxone\",\"albuterol\",\"butt\",\"paste\",\"gabapentin\",\"loperamide\",\"thiamine\",\"nexium\",\"sevelamer\",\"labetalol\",\"inhaler\",\"norvasc\",\"nifedipine\",\"extended\",\"hydrochlorothiazide\",\"linezolid\",\"sarna\",\"warfarin\",\"acetylsalicylic\",\"acid\",\"kcl\",\"immediate\",\"vanc\",\"ada\",\"levo\",\"glyburide\",\"trazodone\",\"micronase\",\"verapamil\",\"loratadine\",\"mgoxide\",\"singulair\",\"ambien\",\"sustained\",\"keflex\",\"patanol\",\"effexor\",\"atrovent\",\"amox\",\"loratidine\",\"rhinocort\",\"contrast\",\"dye\",\"enalapril\",\"cardizem\",\"nafcillin\",\"dicloxacillin\",\"diuretic\",\"regimen\",\"spironolactone\",\"torsemide\",\"pletal\",\"procrit\",\"zantac\",\"antibiotic\",\"fluoroquinolone\",\"clindamycin\",\"metolazone\",\"electrolytes\",\"hydralazine\",\"anticoagulation\",\"procardia\",\"revatio\",\"oxygen\",\"home\",\"dilaudid\",\"allopurinol\",\"indocin\",\"narcotics\",\"prilosec\",\"diovan\",\"multivitamin\",\"colchicine\",\"beta\",\"blocker\",\"pendalol\",\"amoxicillin\",\"prinivil\",\"synthroid\",\"pepcid\",\"ace\",\"inhibitor\",\"statin\",\"beclomethasone\",\"diproprionate\",\"double\",\"strength\",\"spray\",\"toprol\",\"xl\",\"imdur\",\"valsartan\",\"atorvastatin\",\"levoxyl\",\"neosynephrine\",\"tpa\",\"amlodipine\",\"enteric\",\"coated\",\"cefotaxime\",\"diltiazem\",\"czi\",\"nortriptyline\",\"fluoxetine\",\"diuril\",\"advair\",\"steroid\",\"cardiac\",\"meds\",\"zetia\",\"diskus\",\"prednisone\",\"taper\",\"streptokinase\",\"multivitamins\",\"xanax\",\"nitrates\",\"blockade\",\"drip\",\"calcium\",\"channel\",\"nitroglycerins\",\"antacids\",\"serax\",\"docusate\",\"losartan\",\"terazosin\",\"hcl\",\"pantoprazole\",\"asa\",\"mg\",\"above\",\"bb\",\"ppi\",\"darvocet\",\"tordal\",\"humulin\",\"lotensin\",\"supplement\",\"ketorolac\",\"crystalloid\",\"vicodan\",\"naprosyn\",\"halcion\",\"folic\",\"ramipril\",\"clopidogrel\",\"tng\",\"ccb\",\"htn\",\"iron\",\"sulfate\",\"regular\",\"xalatan\",\"eye\",\"drops\",\"metoprolol\",\"senna\",\"tablets\",\"nitrate\",\"supplementation\",\"ferrous\",\"combivent\",\"dinitrate\",\"tartrate\",\"carafate\",\"flexeril\",\"etomidate\",\"succinylcholine\",\"versed\",\"ffp\",\"cd\",\"metamucil\",\"sr\",\"zyprexa\",\"blockers\",\"inhibitors\",\"furosemide\",\"ginger\",\"product\",\"cell\",\"morphine\",\"nitro\",\"flomax\",\"cepacol\",\"claritin\",\"steroids\",\"bp\",\"diclox\",\"pneumovax\",\"neoral\",\"cyclosporine\",\"products\",\"dilt\",\"amio\",\"ecasa\",\"hctz\",\"rocaltrol\",\"erythromycin\",\"oral\",\"carvedilol\",\"niacin\",\"levoflox\",\"duonebs\",\"coreg\",\"nitropaste\",\"cardura\",\"vasotec\",\"pressure\",\"enoxaparin\",\"sprays\",\"statins\",\"er\",\"hep\",\"gtt\",\"acei\",\"ssi\",\"your\",\"accupril\",\"avandia\",\"adenosine\",\"bactrim\",\"celebrex\",\"antiinflammatory\",\"prozac\",\"human\",\"aldactone\",\"this\",\"with\",\"minerals\",\"miconazole\",\"powder\",\"cellcept\",\"pravachol\",\"vitamin\",\"d\",\"fosamax\",\"dulcolax\",\"e\",\"c\",\"fondaparinux\",\"caltrate\",\"plus\",\"niaspan\",\"abx\",\"these\",\"diabeta\",\"paxil\",\"trazadone\",\"ultram\",\"bactroban\",\"ointment\",\"reglan\",\"afrin\",\"lotrisone\",\"cream\",\"proventil\",\"inhalers\",\"ancef\",\"hibiclenz\",\"azmacort\",\"nebulizer\",\"autologous\",\"transfusion\",\"diuretics\",\"quinine\",\"famotidine\",\"ntg\",\"bolus\",\"nsaids\",\"lorazepam\",\"atovaquone\",\"bisulfate\",\"naproxen\",\"pred\",\"pcp\",\"ppx\",\"zoloft\",\"pressors\",\"glucotrol\",\"ceftizoxime\",\"penicillin\",\"fluid\",\"ceftazidime\",\"nystatin\",\"suspension\",\"g\",\"milk\",\"of\",\"magnesia\",\"liquid\",\"fluids\",\"ceptaz\",\"k\",\"bowel\",\"supplements\",\"perioperative\",\"levaquin\",\"baclofen\",\"cymbalta\",\"lamictal\",\"nicoderm\",\"patch\",\"ducolox\",\"lactulose\",\"mylanta\",\"seroquel\",\"sedating\",\"antipsychotics\",\"chemotherapy\",\"tramadol\",\"zydis\",\"plaquenil\",\"cefuroxime\",\"azithromycin\",\"amitriptyline\",\"clotrimazole\",\"nebs\",\"phenytoin\",\"bicarbonate\",\"sulfamethoxazole\",\"esomeprazole\",\"darbepoetin\",\"alfa\",\"dilantin\",\"lopressol\",\"kayexylate\",\"prbc\",\"darbopoetin\",\"nitroprusside\",\"diabinese\",\"diflucan\",\"fluconazole\",\"maalox\",\"remeron\",\"ranitidine\",\"dobutamine\",\"medicines\",\"chloral\",\"hydrate\",\"compazine\",\"phenothiazines\",\"trilafon\",\"normal\",\"saline\",\"nsaid\",\"epogen\",\"cipro\",\"flonase\",\"flovent\",\"tamoxifen\",\"catapres\",\"tartarate\",\"ocean\",\"doxazosin\",\"proxetil\",\"replacement\",\"lithium\",\"parnate\",\"pressor\",\"beclovent\",\"fibercon\",\"mvi\",\"novolin\",\"elixir\",\"citalopram\",\"rhogam\",\"vitamins\",\"vasopressin\",\"dopamine\",\"troponin\",\"argatroban\",\"mucomyst\",\"propofol\",\"triple\",\"osmolite\",\"chloraseptic\",\"gentamicin\",\"therapeutic\",\"nebulizers\",\"prochlorperazine\",\"librium\",\"gluconate\",\"timolol\",\"tagamet\",\"niferex\",\"ibuprofen\",\"bicarb\",\"epi\",\"integrilin\",\"levophed\",\"diabetes\",\"mgsulfate\",\"mom\",\"decadron\",\"tricor\",\"prednisolone\",\"gadolinium\",\"resuscitation\",\"kayexalate\",\"ferrlecit\",\"atropine\",\"lispro\",\"duoneb\",\"metoclopramide\",\"quinapril\",\"simethicone\",\"carbonate\",\"cartia\",\"xt\",\"methotrexate\",\"pravastatin\",\"cyclosporin\",\"sucralfate\",\"cozaar\",\"lescol\",\"inderal\",\"persantine\",\"ideral\",\"glucose\",\"maleate\",\"immodium\",\"phosphate\",\"b\",\"med\",\"tiazac\",\"glucometer\",\"methadone\",\"cefepime\",\"ditropan\",\"monistat\",\"corticosteroids\",\"unfractionated\",\"thorazine\",\"benztropine\",\"mesylate\",\"chlorpromazine\",\"lisinipril\",\"hypoglycemics\",\"extra\",\"his\",\"hfa\",\"aspartate\",\"solsite\",\"arb\",\"ipratropium\",\"duoderm\",\"ticlid\",\"tablet\",\"allegra\",\"vit\",\"alphagam\",\"gtts\",\"clobetizol\",\"acephex\",\"ferrex\",\"other\",\"apap\",\"ivf\",\"glypizide\",\"regimens\",\"cytovene\",\"ganciclovir\",\"nadolol\",\"gentamycin\",\"antihypertensive\",\"thyroid\",\"cortizone\",\"inp\",\"dipyridamole\",\"pack\",\"besylate\",\"azithro\",\"cvp\",\"bcnu\",\"imuran\",\"miralax\",\"msir\",\"pamidronate\",\"acyclovir\",\"tums\",\"dexamethasone\",\"sennosides\",\"mepron\",\"candesartan\",\"mscontin\",\"ms\",\"contin\",\"ciprrfloxacin\",\"econazole\",\"omeprazole\",\"per\",\"ml\",\"solution\",\"tpn\",\"irbesartan\",\"amitryptilline\",\"lactobacillus\",\"glargine\",\"mononitrate\",\"oxacillin\",\"pcn\",\"ctx\",\"prandin\",\"zinc\",\"calcitriol\",\"aranesp\",\"nesiritide\",\"hytrin\",\"bextra\",\"zofran\",\"slng\",\"integrelin\",\"aceinh\",\"keppra\",\"truvada\",\"norvir\",\"lomotil\",\"lexiva\",\"imodium\",\"probenecid\",\"coumadine\",\"metrogel\",\"acebutolol\",\"risperdal\",\"lidocaine\",\"boluses\",\"taxol\",\"premarin\",\"ansaid\",\"antihypertensives\",\"cefazolin\",\"acetaminophen\",\"robitussin\",\"rifampin\",\"ventolin\",\"linsinopril\",\"inhale\",\"dht\",\"stelazine\",\"betaxolol\",\"questran\",\"pilocarpine\",\"ac\",\"reg\",\"rocephin\",\"calcitonin\",\"kayexelate\",\"lopid\",\"alphagan\",\"inhibition\",\"ischemics\",\"relafen\",\"opium\",\"tincture\",\"atapryl\",\"outpatient\",\"kaopectate\",\"mitozalone\",\"rezulin\",\"finasteride\",\"restoril\",\"leni\",\"diabetic\",\"cephradine\",\"tylox\",\"ns\",\"inuslin\",\"carnitidine\",\"digitek\",\"mycophenolate\",\"mofetil\",\"oxybutynin\",\"succinate\",\"micronized\",\"injections\",\"colestipol\",\"hydrochloride\",\"zemplar\",\"klorcon\",\"opiates\",\"avadia\",\"riss\",\"metop\",\"p\",\"zaroxolyn\",\"tessalon\",\"codeine\",\"antianginal\",\"therapy\",\"benicar\",\"antidepressants\",\"nicotine\",\"adalat\",\"pills\",\"dyazide\",\"nose\",\"cyproheptadine\",\"nipride\",\"ampicillin\",\"guaifenesin\",\"her\",\"low\",\"molecular\",\"weight\",\"norepinephrine\",\"inotrops\",\"onoptrops\",\"vaso\",\"sedation\",\"nicardipine\",\"naturale\",\"tears\",\"lactinex\",\"granules\",\"panafil\",\"analgesic\",\"deltasone\",\"senokot\",\"lexapro\",\"ventavis\",\"cephalopsporins\",\"tracleer\",\"oceanspray\",\"nitrospray\",\"arbs\",\"stool\",\"softeners\",\"mevacor\",\"seldane\",\"isoril\",\"propranolol\",\"capoten\",\"ds\",\"clonopin\",\"mycostatin\",\"qdcalcitriol\",\"qdcalcium\",\"tidlasix\",\"transdermal\",\"qdzocor\",\"benazepril\",\"celondin\",\"atorva\",\"simva\",\"benadry\",\"primidone\",\"otc\",\"iss\",\"celecoxib\",\"narcotic\",\"lidoderm\",\"metronidazol\",\"zometa\",\"demerol\",\"ultralente\",\"adriamycin\",\"elavil\",\"clarithromycin\",\"biaxin\",\"procainamide\",\"meclizine\",\"zincate\",\"meropenem\",\"gentle\",\"hydration\",\"aprotinin\",\"nitrofurantoin\",\"imipenem\",\"chlorhexidine\",\"geodon\",\"sertraline\",\"ziprasidone\",\"bromide\",\"enoxaprin\",\"navelbine\",\"vanco\",\"citrate\",\"polysaccharide\",\"complex\",\"xr\",\"wellbutrin\",\"minipress\",\"valium\",\"corvert\",\"cough\",\"medicine\",\"silvadene\",\"valacyclovir\",\"erythropoietin\",\"ergocalciferol\",\"ethanol\",\"lovastatin\",\"nitroglycerine\",\"cholestyramine\",\"saver\",\"levatol\",\"actos\",\"avapro\",\"milrinone\",\"eplerenone\",\"temazepam\",\"cosopt\",\"travatan\",\"lyte\",\"cpap\",\"reopro\",\"agonist\",\"theophylline\",\"releas\",\"benadryl\",\"provastatin\",\"epivir\",\"actinomycin\",\"cytoxan\",\"bleomycin\",\"cisplatin\",\"lamivudine\",\"prenatal\",\"suppository\",\"indomethacin\",\"tamsulosin\",\"cisapride\",\"provera\",\"bismuth\",\"methyldopa\",\"advil\",\"alternagel\",\"estrogen\",\"stanozolol\",\"coum\",\"stanazolol\",\"seretide\",\"ionotropes\",\"hydrocortisone\",\"hypoglycemic\",\"zaroxylyn\",\"aciphex\",\"lilly\",\"pen\",\"betadine\",\"paint\",\"asacol\",\"thrombolysis\",\"lopipd\",\"maxide\",\"alimta\",\"aztreonam\",\"neupogen\",\"transfusions\",\"chemo\",\"rbc\",\"platelet\",\"cortisol\",\"peridex\",\"mouth\",\"wash\",\"cefixime\",\"that\",\"serevent\",\"trusopt\",\"pulmicort\",\"suprax\",\"dextran\",\"tenormin\",\"mannitol\",\"valproic\",\"fioricet\",\"labetolol\",\"the\",\"following\",\"tofranil\",\"vistaril\",\"methylprednisolone\",\"proscar\",\"alcohol\",\"vasopressor\",\"toradol\",\"macrolide\",\"antibio\",\"tic\",\"hydromorphone\",\"fondapurinox\",\"tarceva\",\"levocarnitine\",\"salmeterol\",\"xinafoate\",\"zaroxyln\",\"dextromethorphan\",\"hbr\",\"pindolol\",\"rosiglitazone\",\"cefalosporins\",\"angiotension\",\"receptor\",\"iv\",\"softener\",\"fosomax\",\"cardiovascular\",\"diprosone\",\"psyllium\",\"advils\",\"byetta\",\"fluticasone\",\"copd\",\"syrup\",\"analgesia\",\"roxicet\",\"qugmentin\",\"timoptic\",\"xylatan\",\"novalog\",\"general\",\"anesthesia\",\"cefotetan\",\"kefzol\",\"controlled\",\"felodipine\",\"guqifenesin\",\"prempro\",\"tapazole\",\"artificial\",\"atc\",\"actonel\",\"darvon\",\"diazepam\",\"torsamide\",\"betablocker\",\"ceftaz\",\"dm\",\"rx\",\"asp\",\"perels\",\"guiatuss\",\"bicitra\",\"micromeral\",\",\",\"<num>\",\":\",\"and\",\"was\",\"to\",\"on\",\"a\",\"patient\",\"in\",\"for\",\")\",\"she\",\"(\",\"<num>/<num>/<num>\",\"no\",\"<num>.<num>\",\"he\",\"discharge\",\"at\",\"|\",\"is\",\"had\",\"as\",\"po\",\"by\",\"history\",\"admission\",\"p.o.\",\"an\",\"be\",\"day\",\"were\",\"<num>/<num>\",\"or\",\"left\",\"has\",\"hospital\",\"status\",\"which\",\"right\",\"-\",\"chest\",\"not\",\"date\",\"<num>%\",\".\",\"dr\",\"<num>-<num>\",\"will\",\"from\",\"course\",\"daily\",\"override\",\"have\",\"<num>-<num>-<num>\",\"also\",\"showed\",\"disease\",\"time\",\"well\",\"heart\",\"after\",\"up\",\"/\",\"but\",\"<num>:<num>\",\"am\",\"one\",\"artery\",\"stable\",\"medical\",\"there\",\"m.d\",\"interaction\",\"diagnosis\",\"qd\",\"coronary\",\"report\",\"pt\",\"days\",\"rate\",\"past\",\"given\",\"negative\",\"post\",\"units\",\"two\",\"if\",\"follow\",\"without\",\"continued\",\"examination\",\"been\",\"it\",\"b.i.d.\",\"service\",\"******\",\"noted\",\"summary\",\"renal\",\"admitted\",\"prior\",\"care\",\"signed\",\"bid\",\"did\",\"then\",\"physical\",\"any\",\"<num>:<num>:<num>\",\"revealed\",\"started\",\"attending\",\"diet\",\"pulmonary\",\"dis\",\"edema\",\"who\",\"discharged\",\"room\",\"m.d.\",\"condition\",\"present\",\"serious\",\"during\",\"patient's\",\"hypertension\",\"added\",\"breath\",\"weeks\",\"reason\",\"lower\",\"rhythm\",\"creatinine\",\"allergies\",\"failure\",\"dictated\",\"please\",\"q.d.\",\"potentially\",\"exam\",\"order\",\"however\",\"chronic\",\"three\",\"t\",\"hematocrit\",\"dose\",\"out\",\"mild\",\";\",\"#<num>\",\"clear\",\"pm\",\"are\",\"postoperative\",\"acute\",\"illness\",\"atrial\",\"increased\",\"significant\",\"white\",\"underwent\",\"some\",\"<num>+\",\"s/p\",\"times\",\"evidence\",\"ct\",\"over\",\"than\",\"disposition\",\"secondary\",\"shortness\",\"x\",\"hours\",\"abdominal\",\"further\",\"count\",\"s\",\"should\",\"ekg\",\"inr\",\"prn\",\"treated\",\"surgery\",\"positive\",\"p.r.n.\",\"principal\",\"bilaterally\",\"when\",\"abdomen\",\"transferred\",\"q\",\"alert\",\"family\",\"changes\",\"unit\",\"extremities\",\"felt\",\"s<num>\",\"remained\",\"catheterization\",\"all\",\"likely\",\"you\",\"code\",\"orders\",\"number\",\"take\",\"#\",\"symptoms\",\"placed\",\"*\",\"while\",\"respiratory\",\"'s\",\"x-ray\",\"call\",\"week\",\"d/c\",\"w/\",\"cc\",\"extremity\",\"md\",\"instructions\",\"follow-up\",\"instruction\",\"upper\",\"center\",\"upon\",\"q.\",\"back\",\"full\",\"due\",\"myocardial\",\"give\",\"sinus\",\"stenosis\",\"end\",\"infarction\",\"soft\",\"bilateral\",\"primary\",\"procedures\",\"study\",\"found\",\"good\",\"continue\",\"received\",\"initially\",\"seen\",\"old\",\"t.i.d.\",\"tolerated\",\"elevated\",\"ventricular\",\"known\",\"intact\",\"baseline\",\"year\",\"presented\",\"laboratory\",\"none\",\"procedure\",\"food/drg\",\"complications\",\"emergency\",\"may\",\"chf\",\"&\",\"until\",\"neck\",\"fibrillation\",\"followed\",\"multiple\",\"total\",\"decreased\",\"starting\",\"graft\",\"unsigned\",\"once\",\"<num>-year-old\",\"mr\",\"nausea\",\"):\",\"evaluation\",\"previous\",\"since\",\"sounds\",\"<num>mg\",\"&amp;\",\"additional\",\"surgical\",\"function\",\"social\",\"performed\",\"ed\",\"infection\",\"approximately\",\"aortic\",\"bypass\",\"urine\",\"last\",\"<num>.\",\"tube\",\"allergy\",\"air\",\"ref\",\"within\",\"mellitus\",\"resume\",\"throughout\",\"temperature\",\"gi\",\"we\",\"recent\",\"four\",\"signs\",\"congestive\",\"every\",\"q<num>h\",\"required\",\"treatment\",\"years\",\"doses\",\"new\",\"more\",\"systolic\",\"lungs\",\"ejection\",\"possible\",\"use\",\"valve\",\"brief\",\"developed\",\"before\",\"improved\",\"cad\",\"now\",\"anterior\",\"taken\",\"bun\",\"head\",\"severe\",\"appointment\",\"small\",\"pulses\",\"otherwise\",\"x<num>\",\"activity\",\"l\",\"female\",\"admit\",\"need\",\"consistent\",\"ischemia\",\"denies\",\"pneumonia\",\"only\",\"hold\",\"lad\",\"today\",\"high\",\"several\",\"scan\",\"aware\",\"used\",\"cultures\",\"fraction\",\"where\",\"note\",\"wound\",\"stay\",\"notable\",\"scale\",\"<num>s\",\"mi\",\"lesion\",\"overridden\",\"afebrile\",\"mitral\",\"r\",\"distress\",\"echo\",\"discontinued\",\"control\",\"vomiting\",\"done\",\"house\",\"very\",\"echocardiogram\",\"clinic\",\"sig\",\"needed\",\"h/o\",\"operations\",\"hospitalization\",\"sliding\",\"daily.\",\"record\",\"data\",\"episodes\",\"minutes\",\"@\",\"test\",\"exercise\",\"first\",\"because\",\"down\",\"physician\",\"both\",\"drug\",\"increasing\",\"sent\",\"fever\",\"floor\",\"would\",\"causing\",\"does\",\"carotid\",\"st\",\"tid\",\"ef\",\"id\",\"do\",\"ago\",\"greater\",\"obtained\",\"associated\",\"cm\",\"murmur\",\"infections\",\"scheduled\",\"subcutaneously\",\"most\",\"lung\",\"change\",\"knee\",\"vascular\",\"[report_end]\",\"off\",\"less\",\"repeat\",\"venous\",\"pulse\",\"morning\",\"anemia\",\"v<num>\",\"episode\",\"tab\",\"level\",\"cancer\",\"placement\",\"dyspnea\",\"obesity\",\"being\",\"heent\",\"male\",\"obese\",\"including\",\"yes\",\"diuresis\",\"able\",\"addition\",\"insufficiency\",\"platelets\",\"liver\",\"leg\",\"peripheral\",\"batch\",\"intensive\",\"comments\",\"resolved\",\"cardiology\",\"affecting\",\"twice\",\"they\",\"entered\",\"sc\",\"bs\",\"plan\",\"months\",\"thought\",\"subsequently\",\"o.r.\",\"night\",\"contingent\",\"bleeding\",\"dictation\",\"proximal\",\"<num>-<num>-<num>-<num>\",\"angina\",\"o<num>\",\"next\",\"age\",\"intravenous\",\"see\",\"worsening\",\"health\",\"about\",\"liters\",\"maintained\",\"q.<num>h.\",\"studies\",\"return\",\"vital\",\"demonstrated\",\"index\",\"woman\",\"wall\",\"through\",\"nontender\",\"dry\",\"held\",\"stomach\",\"setting\",\"mass\",\"management\",\"so\",\"notice\",\"recommended\",\"transfer\",\"saturation\",\"moderate\",\"monitor\",\"results\",\"labs\",\"mid\",\"mcg\",\"five\",\"six\",\"cath\",\"oriented\",\"cabg\",\"posterior\",\"operating\",\"rehabilitation\",\"lives\",\"volume\",\"mental\",\"large\",\"hct\",\"again\",\"<num>)\",\"stent\",\"sleep\",\"made\",\"hip\",\"fevers\",\"presents\",\"information\",\"urinary\",\"effusion\",\"sob\",\"hr\",\"distal\",\"i\",\"]\",\"[\",\"regurgitation\",\"arm\",\"included\",\"therefore\",\"milligrams\",\"meals\",\"taking\",\"consulted\",\"descending\",\"poor\",\"could\",\"avoid\",\"difficulty\",\"although\",\"report_end\",\"services\",\"removed\",\"loss\",\"foot\",\"having\",\"skin\",\"ruled\",\"enzymes\",\"type\",\"&apos;s\",\"auscultation\",\"depression\",\"recently\",\"department\",\"asthma\",\"area\",\"do/plan\",\"tenderness\",\"applicable\",\"infectious\",\"diarrhea\",\"complaint\",\";responsible\",\"diagnosis;conditions\",\"treatment/stay\",\"treatments/procedures\",\"followup\",\"vein\",\"march\",\"pe\",\"ptt\",\"q.i.d.\",\"appointment(\",\"reports\",\"him\",\"transplant\",\"diagnoses\",\"swelling\",\"inferior\",\"lobe\",\"tachycardia\",\"question\",\"rehab\",\"became\",\"went\",\"pending\",\"gram\",\"neuro\",\"ck\",\"culture\",\"exertion\",\"ii\",\"food\",\"risk\",\"light\",\"chills\",\"doctor\",\"range\",\"ulcer\",\"few\",\"work\",\"final\",\"point\",\"currently\",\"limits\",\"neg\",\"second\",\"include\",\"rest\",\"tobacco\",\"problems\",\"qhs\",\"unremarkable\",\"fat\",\"wbc\",\"syndrome\",\"changed\",\"empty\",\"smoking\",\"murmurs\",\"bruits\",\"approximate\",\"rca\",\"line\",\"began\",\"jvp\",\"goal\",\"femoral\",\"repair\",\"rule\",\"restarted\",\"weakness\",\"stress\",\"denied\",\"tr\",\"slightly\",\"postoperatively\",\"complicated\",\"recurrent\",\"benign\",\"initial\",\"f\",\"document\",\"block\",\"ultrasound\",\"cxr\",\"cholesterol\",\"catheter\",\"walking\",\"meq\",\"ischemic\",\"cardiomyopathy\",\"breast\",\"dvt\",\"escription\",\"+\",\"place\",\"pleural\",\"hypercholesterolemia\",\"bed\",\":*\",\"check\",\"cp\",\"unable\",\"neurological\",\"obstructive\",\"output\",\"cardiologist\",\"consult\",\"q.a.m.\",\"still\",\"increase\",\"abd\",\"q.h.s.\",\"bleed\",\"fracture\",\"stopped\",\"wave\",\"mildly\",\"prophylaxis\",\"motion\",\"issues\",\"pump\",\"mm\",\"mri\",\"mibi\",\"cv\",\"biopsy\",\"crackles\",\"side\",\"orthopnea\",\"hernia\",\"constipation\",\"diuresed\",\"drawn\",\"supple\",\"unless\",\"apnea\",\"mg.\",\"can\",\"peak\",\"site\",\"requiring\",\"deep\",\"man\",\"q.day\",\"b.i.d\",\"pupils\",\"diffuse\",\"circumflex\",\"m\",\"weaned\",\"came\",\"internal\",\"improvement\",\"dilated\",\"month\",\"trace\",\"pressures\",\"name\",\"intubated\",\"neurologic\",\"hour\",\"chief\",\"checked\",\"nondistended\",\"electrocardiogram\",\"complete\",\"qid\",\"equal\",\"lateral\",\"lesions\",\"evaluated\",\"size\",\"active\",\"grapefruit\",\"cellulitis\",\"memorial\",\"reactive\",\"icu\",\"f/u\",\"qpm\",\"long\",\"later\",\"outside\",\"sputum\",\"erythema\",\"instructs\",\"hx\",\"july\",\"into\",\"rash\",\"radiation\",\"pacemaker\",\"free\",\"bedtime\",\"rectal\",\"each\",\"team\",\"qam\",\"<num>-<num>%\",\"sublingual\",\"masses\",\"diagnosed\",\"puffs\",\"day.\",\"headache\",\"endocrine\",\"ra\",\"go\",\"<num>,<num>\",\"mother\",\"sternal\",\"yo\",\"exacerbation\",\"extubated\",\"vna\",\"systems\",\"incision\",\"postop\",\"abnormalities\",\"instructed\",\"review\",\"tract\",\"onset\",\"unchanged\",\"workup\",\"anxiety\",\"dependent\",\"etiology\",\"tolerating\",\"between\",\"electronically\",\"movements\",\"inh\",\"previously\",\"dialysis\",\"drainage\",\"consistently\",\"short\",\"foley\",\"saphenous\",\"delivery\",\"dysfunction\",\"sugar\",\"called\",\"degrees\",\"states\",\"hemodialysis\",\"jugular\",\"office\",\"minimal\",\"fall\",\"warm\",\"around\",\"provider\",\"appeared\",\"hypokinesis\",\"findings\",\"bilirubin\",\"pt.\",\"tests\",\"guaiac\",\"unclear\",\"flat\",\"ca\",\"carcinoma\",\"hypotension\",\"w\",\"minute\",\"ho\",\"tel\",\"concern\",\"february\",\"brought\",\"reaction\"],\"x1\":{\"__ndarray__\":\"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\",\"dtype\":\"float64\",\"shape\":[1797]},\"x2\":{\"__ndarray__\":\"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\",\"dtype\":\"float64\",\"shape\":[1797]}}},\"id\":\"e7fbffff-5696-4b76-a4dd-51342ca4739f\",\"type\":\"ColumnDataSource\"},{\"attributes\":{\"active_drag\":\"auto\",\"active_scroll\":\"auto\",\"active_tap\":\"auto\",\"tools\":[{\"id\":\"30a288a8-9aec-48e9-93fd-e09d4877c33e\",\"type\":\"PanTool\"},{\"id\":\"5519e3be-949d-417f-a544-69fc3673853c\",\"type\":\"WheelZoomTool\"},{\"id\":\"691f63c1-33a2-4888-a413-019c26580db5\",\"type\":\"ResetTool\"},{\"id\":\"f04c8605-a62c-41fb-854e-ea081fc8de61\",\"type\":\"SaveTool\"}]},\"id\":\"9691b3c8-4118-425b-97ab-ab0bbe03cd49\",\"type\":\"Toolbar\"},{\"attributes\":{\"plot\":{\"id\":\"7c3e7ff2-ec24-4d26-9c48-8312286f92d6\",\"subtype\":\"Figure\",\"type\":\"Plot\"}},\"id\":\"691f63c1-33a2-4888-a413-019c26580db5\",\"type\":\"ResetTool\"},{\"attributes\":{},\"id\":\"7306e719-28fb-4b71-b0c5-8626adf1a9ed\",\"type\":\"ToolEvents\"},{\"attributes\":{\"plot\":{\"id\":\"7c3e7ff2-ec24-4d26-9c48-8312286f92d6\",\"subtype\":\"Figure\",\"type\":\"Plot\"},\"ticker\":{\"id\":\"e4406001-c3f8-49f7-87c8-5ae53f3d67ab\",\"type\":\"BasicTicker\"}},\"id\":\"2ce57130-3c7d-4bea-af6a-43c1715f1ebf\",\"type\":\"Grid\"},{\"attributes\":{\"below\":[{\"id\":\"9e18c87b-6547-41fe-8112-2d0c1868fb67\",\"type\":\"LinearAxis\"}],\"left\":[{\"id\":\"5cbf9ab0-04a3-4d0e-9919-1feec39a940c\",\"type\":\"LinearAxis\"}],\"renderers\":[{\"id\":\"9e18c87b-6547-41fe-8112-2d0c1868fb67\",\"type\":\"LinearAxis\"},{\"id\":\"2ce57130-3c7d-4bea-af6a-43c1715f1ebf\",\"type\":\"Grid\"},{\"id\":\"5cbf9ab0-04a3-4d0e-9919-1feec39a940c\",\"type\":\"LinearAxis\"},{\"id\":\"92156311-707d-4ef4-af90-0ee2ce791c3f\",\"type\":\"Grid\"},{\"id\":\"ee5aa03a-ec09-46d9-8dcf-1975358444e9\",\"type\":\"GlyphRenderer\"},{\"id\":\"180c610f-170f-4f3c-b797-6cbcdcfe5f60\",\"type\":\"LabelSet\"}],\"title\":{\"id\":\"2f9d8949-0ad3-446a-a866-972ea910bdfc\",\"type\":\"Title\"},\"tool_events\":{\"id\":\"7306e719-28fb-4b71-b0c5-8626adf1a9ed\",\"type\":\"ToolEvents\"},\"toolbar\":{\"id\":\"9691b3c8-4118-425b-97ab-ab0bbe03cd49\",\"type\":\"Toolbar\"},\"toolbar_location\":\"above\",\"x_range\":{\"id\":\"078e3924-435e-40b7-b264-e84c9cc6f701\",\"type\":\"DataRange1d\"},\"y_range\":{\"id\":\"de680c5f-38ca-42ee-b340-9ec120bc7a42\",\"type\":\"DataRange1d\"}},\"id\":\"7c3e7ff2-ec24-4d26-9c48-8312286f92d6\",\"subtype\":\"Figure\",\"type\":\"Plot\"},{\"attributes\":{\"callback\":null},\"id\":\"078e3924-435e-40b7-b264-e84c9cc6f701\",\"type\":\"DataRange1d\"},{\"attributes\":{\"callback\":null},\"id\":\"de680c5f-38ca-42ee-b340-9ec120bc7a42\",\"type\":\"DataRange1d\"},{\"attributes\":{\"plot\":{\"id\":\"7c3e7ff2-ec24-4d26-9c48-8312286f92d6\",\"subtype\":\"Figure\",\"type\":\"Plot\"}},\"id\":\"f04c8605-a62c-41fb-854e-ea081fc8de61\",\"type\":\"SaveTool\"},{\"attributes\":{\"dimension\":1,\"plot\":{\"id\":\"7c3e7ff2-ec24-4d26-9c48-8312286f92d6\",\"subtype\":\"Figure\",\"type\":\"Plot\"},\"ticker\":{\"id\":\"ffe523e6-c6ce-458f-aaf3-aa55f9f77cf1\",\"type\":\"BasicTicker\"}},\"id\":\"92156311-707d-4ef4-af90-0ee2ce791c3f\",\"type\":\"Grid\"}],\"root_ids\":[\"7c3e7ff2-ec24-4d26-9c48-8312286f92d6\"]},\"title\":\"Bokeh Application\",\"version\":\"0.12.5\"}};\n",
       "            var render_items = [{\"docid\":\"76cd6b16-df2e-494b-a736-ef86acac2681\",\"elementid\":\"8b37c4b8-191e-4a26-838d-fe41f2dd6c8c\",\"modelid\":\"7c3e7ff2-ec24-4d26-9c48-8312286f92d6\"}];\n",
       "            \n",
       "            Bokeh.embed.embed_items(docs_json, render_items);\n",
       "          };\n",
       "          if (document.readyState != \"loading\") fn();\n",
       "          else document.addEventListener(\"DOMContentLoaded\", fn);\n",
       "        })();\n",
       "      },\n",
       "      function(Bokeh) {\n",
       "      }\n",
       "    ];\n",
       "  \n",
       "    function run_inline_js() {\n",
       "      \n",
       "      if ((window.Bokeh !== undefined) || (force === true)) {\n",
       "        for (var i = 0; i < inline_js.length; i++) {\n",
       "          inline_js[i](window.Bokeh);\n",
       "        }if (force === true) {\n",
       "          display_loaded();\n",
       "        }} else if (Date.now() < window._bokeh_timeout) {\n",
       "        setTimeout(run_inline_js, 100);\n",
       "      } else if (!window._bokeh_failed_load) {\n",
       "        console.log(\"Bokeh: BokehJS failed to load within specified timeout.\");\n",
       "        window._bokeh_failed_load = true;\n",
       "      } else if (force !== true) {\n",
       "        var cell = $(document.getElementById(\"8b37c4b8-191e-4a26-838d-fe41f2dd6c8c\")).parents('.cell').data().cell;\n",
       "        cell.output_area.append_execute_result(NB_LOAD_WARNING)\n",
       "      }\n",
       "  \n",
       "    }\n",
       "  \n",
       "    if (window._bokeh_is_loading === 0) {\n",
       "      console.log(\"Bokeh: BokehJS loaded, going straight to plotting\");\n",
       "      run_inline_js();\n",
       "    } else {\n",
       "      load_libs(js_urls, function() {\n",
       "        console.log(\"Bokeh: BokehJS plotting callback run at\", now());\n",
       "        run_inline_js();\n",
       "      });\n",
       "    }\n",
       "  }(this));\n",
       "</script>"
      ]
     },
     "metadata": {},
     "output_type": "display_data"
    }
   ],
   "source": [
    "p = figure(tools=\"pan,wheel_zoom,reset,save\",\n",
    "           toolbar_location=\"above\",\n",
    "           title=\"word2vec T-SNE for most common words\")\n",
    "\n",
    "source = ColumnDataSource(data=dict(x1=words_tsne[:,0],\n",
    "                                    x2=words_tsne[:,1],\n",
    "                                    names=visualisation,\n",
    "                                    coloring=colormap))\n",
    "\n",
    "p.scatter(x=\"x1\", y=\"x2\", color=\"coloring\", size=8, source=source)\n",
    "\n",
    "labels = LabelSet(x=\"x1\", y=\"x2\", text=\"names\", y_offset=6,\n",
    "                  text_font_size=\"8pt\", text_color=\"#555555\",\n",
    "                  source=source, text_align='center')\n",
    "p.add_layout(labels)\n",
    "\n",
    "show(p)"
   ]
  },
  {
   "cell_type": "code",
   "execution_count": null,
   "metadata": {
    "collapsed": true
   },
   "outputs": [],
   "source": []
  }
 ],
 "metadata": {
  "anaconda-cloud": {},
  "kernelspec": {
   "display_name": "Python [conda env:tensorflow]",
   "language": "python",
   "name": "conda-env-tensorflow-py"
  },
  "language_info": {
   "codemirror_mode": {
    "name": "ipython",
    "version": 3
   },
   "file_extension": ".py",
   "mimetype": "text/x-python",
   "name": "python",
   "nbconvert_exporter": "python",
   "pygments_lexer": "ipython3",
   "version": "3.5.3"
  }
 },
 "nbformat": 4,
 "nbformat_minor": 2
}
