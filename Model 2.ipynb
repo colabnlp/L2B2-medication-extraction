{
 "cells": [
  {
   "cell_type": "code",
   "execution_count": null,
   "metadata": {
    "collapsed": true
   },
   "outputs": [],
   "source": [
    "import numpy as np\n",
    "import re\n",
    "import random\n",
    "import itertools\n",
    "import datetime\n",
    "\n",
    "import tensorflow as tf\n",
    "import sklearn as sk\n",
    "\n",
    "import Functions as fn\n",
    "from DS import DS\n",
    "from Set import pool\n",
    "from Iterator import Iterator\n",
    "from FFModel import FF_Model"
   ]
  },
  {
   "cell_type": "markdown",
   "metadata": {},
   "source": [
    "# Data Loading"
   ]
  },
  {
   "cell_type": "code",
   "execution_count": 2,
   "metadata": {},
   "outputs": [
    {
     "name": "stdout",
     "output_type": "stream",
     "text": [
      "Raw Text Load Complete\n",
      "Raw Labels Load Complete\n"
     ]
    }
   ],
   "source": [
    "Dataset = pool()\n",
    "Dataset.load_texts('raw_texts')\n",
    "Dataset.load_labels('raw_labels')"
   ]
  },
  {
   "cell_type": "code",
   "execution_count": 3,
   "metadata": {
    "scrolled": true,
    "slideshow": {
     "slide_type": "notes"
    }
   },
   "outputs": [
    {
     "name": "stdout",
     "output_type": "stream",
     "text": [
      "Label Load Complete\n"
     ]
    }
   ],
   "source": [
    "target_dict = fn.load_labels('labels')"
   ]
  },
  {
   "cell_type": "markdown",
   "metadata": {},
   "source": [
    "# Embedding Generation"
   ]
  },
  {
   "cell_type": "code",
   "execution_count": 4,
   "metadata": {},
   "outputs": [
    {
     "name": "stderr",
     "output_type": "stream",
     "text": [
      "C:\\Users\\Luka\\Anaconda3\\envs\\tensorflow\\lib\\site-packages\\gensim\\utils.py:860: UserWarning: detected Windows; aliasing chunkize to chunkize_serial\n",
      "  warnings.warn(\"detected Windows; aliasing chunkize to chunkize_serial\")\n"
     ]
    },
    {
     "name": "stdout",
     "output_type": "stream",
     "text": [
      "Sentence Load Complete\n"
     ]
    }
   ],
   "source": [
    "from gensim.models import Word2Vec\n",
    "\n",
    "sentences = fn.load_sentences('sentences')\n",
    "\n",
    "#model = Word2Vec(sentences, min_count=1, size=100)\n",
    "#model.save('W2V')\n",
    "\n",
    "model = Word2Vec.load('W2V')\n",
    "vocab = model.wv.vocab.keys()"
   ]
  },
  {
   "cell_type": "markdown",
   "metadata": {},
   "source": [
    "# FFNN Testing"
   ]
  },
  {
   "cell_type": "raw",
   "metadata": {
    "collapsed": true
   },
   "source": [
    "train_cases = pool((Dataset.get_DS(labelled='yes')).data[:50])\n",
    "validation_cases = pool(Dataset.get_DS(labelled='yes').data[-50:-25])\n",
    "test_cases = pool(Dataset.get_DS(labelled='yes').data[-25:])\n",
    "\n",
    "train_cases.process_for_testing()\n",
    "validation_cases.process_for_testing()\n",
    "test_cases.process_for_testing()"
   ]
  },
  {
   "cell_type": "code",
   "execution_count": 5,
   "metadata": {
    "collapsed": true
   },
   "outputs": [],
   "source": [
    "train_cases = pool((Dataset.get_DS(stage='test', labelled='yes')).data[:-25])\n",
    "validation_cases = pool(Dataset.get_DS(stage='test', labelled='yes').data[-25:])\n",
    "test_cases = Dataset.get_DS(stage='train', labelled='yes')\n",
    "\n",
    "train_cases.process_for_testing()\n",
    "validation_cases.process_for_testing()\n",
    "test_cases.process_for_testing()"
   ]
  },
  {
   "cell_type": "code",
   "execution_count": 6,
   "metadata": {
    "collapsed": true
   },
   "outputs": [],
   "source": [
    "sets = {}\n",
    "sets['train_set'], sets['train_labels'], _ = train_cases.get_ff_sets(model)\n",
    "sets['validation_set'], sets['validation_labels'], _ = validation_cases.get_ff_sets(model)\n",
    "sets['test_set'], sets['test_labels'], sets['test_words'] = test_cases.get_ff_sets(model)"
   ]
  },
  {
   "cell_type": "raw",
   "metadata": {
    "collapsed": true
   },
   "source": [
    "print('Ratio: med: {:.2f}% non-med: {:.2f}%'.format(*(np.array(sets['train_labels']).sum(0)/ len(sets['train_labels']))))\n",
    "fn.saturate_training_set_labels(sets, model, target_dict['medications'], 0.1)\n",
    "print('Ratio: med: {:.2f}% non-med: {:.2f}%'.format(*(np.array(sets['train_labels']).sum(0)/ len(sets['train_labels']))))"
   ]
  },
  {
   "cell_type": "code",
   "execution_count": 7,
   "metadata": {},
   "outputs": [
    {
     "name": "stdout",
     "output_type": "stream",
     "text": [
      "Ratio: med: 0.03% non-med: 0.97%\n",
      "Ratio: med: 0.11% non-med: 0.89%\n"
     ]
    }
   ],
   "source": [
    "print('Ratio: med: {:.2f}% non-med: {:.2f}%'.format(*(np.array(sets['train_labels']).sum(0)/ len(sets['train_labels']))))\n",
    "fn.saturate_training_set_training(sets['train_set'], sets['train_labels'], 0.1)\n",
    "print('Ratio: med: {:.2f}% non-med: {:.2f}%'.format(*(np.array(sets['train_labels']).sum(0)/ len(sets['train_labels']))))"
   ]
  },
  {
   "cell_type": "code",
   "execution_count": 8,
   "metadata": {},
   "outputs": [
    {
     "name": "stdout",
     "output_type": "stream",
     "text": [
      "Progress: 100%\r"
     ]
    },
    {
     "data": {
      "image/png": "[encoded data removed]",
      "text/plain": [
       "<matplotlib.figure.Figure at 0x2a9fbf41da0>"
      ]
     },
     "metadata": {},
     "output_type": "display_data"
    },
    {
     "name": "stdout",
     "output_type": "stream",
     "text": [
      "FInal Values: TrAcc: 0.958, ValAcc: 0.977, ValF1: 0.630\n",
      "Test F1-Score: 0.685\n",
      "\n"
     ]
    }
   ],
   "source": [
    "NN = FF_Model(layers=[50])\n",
    "NN.build_graph()\n",
    "_,_,_,_ = NN.train(sets, epochs=5, batch=50, show_plot=True, show_progress=True)"
   ]
  },
  {
   "cell_type": "code",
   "execution_count": 9,
   "metadata": {
    "collapsed": true
   },
   "outputs": [],
   "source": [
    "res = NN.predict(sets['test_set'])\n",
    "tru = np.argmax(sets['test_labels'], 1)"
   ]
  },
  {
   "cell_type": "code",
   "execution_count": 10,
   "metadata": {},
   "outputs": [
    {
     "name": "stdout",
     "output_type": "stream",
     "text": [
      "TP\tTN\tFP\tFN\n",
      "369\t10448\t290\t49\n"
     ]
    }
   ],
   "source": [
    "TP = len([a for a in range(len(tru)) if (res[a] == 0) and (tru[a] == 0)])\n",
    "TN = len([a for a in range(len(tru)) if (res[a] == 1) and (tru[a] == 1)])\n",
    "FP = len([a for a in range(len(tru)) if (res[a] == 0) and (tru[a] == 1)])\n",
    "FN = len([a for a in range(len(tru)) if (res[a] == 1) and (tru[a] == 0)])\n",
    "TFPN = [TP, TN, FP, FN]\n",
    "print('TP\\tTN\\tFP\\tFN\\n{}\\t{}\\t{}\\t{}'.format(*TFPN))"
   ]
  },
  {
   "cell_type": "raw",
   "metadata": {
    "collapsed": true
   },
   "source": [
    "[(sets['test_words'][a], res[a], tru[a]) for a in range(len(sets['test_words'])) if res[a] == 0 and tru[a] == 1]"
   ]
  },
  {
   "cell_type": "raw",
   "metadata": {},
   "source": [
    "for a in range(len(sets['test_words'])):\n",
    "    mark = ''\n",
    "    if res[a] == 0 and tru[a] == 0:\n",
    "        mark='!!!'\n",
    "    print(sets['test_words'][a].ljust(20), mark)"
   ]
  },
  {
   "cell_type": "code",
   "execution_count": 11,
   "metadata": {
    "collapsed": true
   },
   "outputs": [],
   "source": [
    "proba = []\n",
    "for i in range(len(res)):\n",
    "    if not (sets['test_words'][i] == ')' or sets['test_words'][i] == '('):\n",
    "        proba.append([sets['test_words'][i], res[i], tru[i]])"
   ]
  },
  {
   "cell_type": "code",
   "execution_count": 12,
   "metadata": {},
   "outputs": [
    {
     "data": {
      "text/plain": [
       "0.77442702050663448"
      ]
     },
     "execution_count": 12,
     "metadata": {},
     "output_type": "execute_result"
    }
   ],
   "source": [
    "sk.metrics.f1_score(np.array(proba)[:,2].astype(int), np.array(proba)[:,1].astype(int), pos_label=0, average='binary')"
   ]
  },
  {
   "cell_type": "code",
   "execution_count": 13,
   "metadata": {},
   "outputs": [
    {
     "name": "stdout",
     "output_type": "stream",
     "text": [
      "TP\tTN\tFP\tFN\n",
      "321\t10448\t138\t49\n"
     ]
    }
   ],
   "source": [
    "TP = len([a for a in range(len(proba)) if (proba[a][1] == 0) and (proba[a][2] == 0)])\n",
    "TN = len([a for a in range(len(proba)) if (proba[a][1] == 1) and (proba[a][2] == 1)])\n",
    "FP = len([a for a in range(len(proba)) if (proba[a][1] == 0) and (proba[a][2] == 1)])\n",
    "FN = len([a for a in range(len(proba)) if (proba[a][1] == 1) and (proba[a][2] == 0)])\n",
    "TFPN = [TP, TN, FP, FN]\n",
    "print('TP\\tTN\\tFP\\tFN\\n{}\\t{}\\t{}\\t{}'.format(*TFPN))"
   ]
  },
  {
   "cell_type": "raw",
   "metadata": {
    "collapsed": true
   },
   "source": [
    "[(proba[a][0], proba[a][1], proba[a][2]) for a in range(len(proba)) if proba[a][1] == 1 and proba[a][2] == 0]"
   ]
  },
  {
   "cell_type": "markdown",
   "metadata": {},
   "source": [
    "# HyperParameter Scan"
   ]
  },
  {
   "cell_type": "code",
   "execution_count": null,
   "metadata": {
    "collapsed": true
   },
   "outputs": [],
   "source": [
    "emb_num = 1\n",
    "NN_num = 1\n",
    "emb_sizes = [30, 50, 100]\n",
    "target_saturations = [0.05, 0.1, 0.3]\n",
    "layers = [[30], [50], [100]]\n",
    "dropouts = [0.3, 0.5, 0.8, 1.0]\n",
    "learn_rates = [0.001, 0.01, 0.1]\n",
    "epoch_nums = [10, 50, 100]\n",
    "batch_sizes = [10, 50, 100]\n",
    "\n",
    "\n",
    "model_num = emb_num * NN_num * len(emb_sizes) * len(layers) * len(dropouts) * \\\n",
    "            len(learn_rates) * len(epoch_nums) * len(batch_sizes) * len(target_saturations)\n",
    "target = target_dict['medications']\n",
    "report_percentage = 10\n",
    "\n",
    "print(model_num)"
   ]
  },
  {
   "cell_type": "code",
   "execution_count": null,
   "metadata": {
    "collapsed": true
   },
   "outputs": [],
   "source": [
    "labelled_cases = Dataset.get_DS(labelled='yes')\n",
    "labelled_cases.process_for_testing()"
   ]
  },
  {
   "cell_type": "code",
   "execution_count": null,
   "metadata": {
    "collapsed": true
   },
   "outputs": [],
   "source": [
    "iterations = [emb_sizes, target_saturations, layers, dropouts, learn_rates, epoch_nums, batch_sizes]"
   ]
  },
  {
   "cell_type": "code",
   "execution_count": null,
   "metadata": {
    "collapsed": true
   },
   "outputs": [],
   "source": [
    "n = 0\n",
    "parameters = []\n",
    "results = []\n",
    "timestamp = re.sub(r':', '-', str(datetime.datetime.now()).split('.')[0])\n",
    "\n",
    "f = open('tests/Model2/' + timestamp, 'w+')\n",
    "print('EmbSz:\\tSat:\\tLay:\\tDrop:\\tLeRa:\\tEpochs:\\tBatSz:\\tF1:')\n",
    "f.write('EmbSz:\\tSat:\\tLay:\\tDrop:\\tLeRa:\\tEpochs:\\tBatSz:\\tF1:\\n')\n",
    "for par in itertools.product(*iterations):\n",
    "    best = 0\n",
    "    parameters.append(par)\n",
    "    for i in range(emb_num):\n",
    "        model = Word2Vec(sentences, min_count=1, size=par[0])\n",
    "        sets = fn.get_ff_traintest(labelled_cases, model)\n",
    "        fn.saturate_training_set_labels(sets, model, target, par[1])\n",
    "        for j in range(NN_num):\n",
    "            n += 1\n",
    "            print('Model Number: {}/{}'.format(n, model_num), end='\\r')\n",
    "            NN = FF_Model(input_size=par[0], layers=par[2], dropout=par[3], learn_rate=par[4])\n",
    "            NN.build_graph()\n",
    "            _, _, _, score = NN.train(sets, epochs=par[5], batch=par[6], report_percentage=report_percentage)\n",
    "            best = max(best, score)\n",
    "    results.append(best)\n",
    "    print('{}\\t{}\\t{}\\t{}\\t{}\\t{}\\t{}\\t{:.4f}'.format(*parameters[-1], results[-1]))\n",
    "    f.write('{}\\t{}\\t{}\\t{}\\t{}\\t{}\\t{}\\t{:.4f}\\n'.format(*parameters[-1], results[-1]))\n",
    "    \n",
    "print('Max Performance: {:.4f}'.format(max(results)))  \n",
    "f.write('Max Performance: {:.4f}\\n'.format(max(results)))\n",
    "f.close()"
   ]
  }
 ],
 "metadata": {
  "anaconda-cloud": {},
  "kernelspec": {
   "display_name": "Python 3",
   "language": "python",
   "name": "python3"
  },
  "language_info": {
   "codemirror_mode": {
    "name": "ipython",
    "version": 3
   },
   "file_extension": ".py",
   "mimetype": "text/x-python",
   "name": "python",
   "nbconvert_exporter": "python",
   "pygments_lexer": "ipython3",
   "version": "3.5.3"
  }
 },
 "nbformat": 4,
 "nbformat_minor": 2
}
