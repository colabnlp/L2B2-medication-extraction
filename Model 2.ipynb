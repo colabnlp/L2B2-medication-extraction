{
 "cells": [
  {
   "cell_type": "code",
   "execution_count": 1,
   "metadata": {
    "collapsed": true
   },
   "outputs": [],
   "source": [
    "import numpy as np\n",
    "import os\n",
    "from random import shuffle\n",
    "import re\n",
    "import random\n",
    "\n",
    "import urllib.request\n",
    "import zipfile\n",
    "import lxml.etree"
   ]
  },
  {
   "cell_type": "code",
   "execution_count": 2,
   "metadata": {},
   "outputs": [],
   "source": [
    "def listdir_nohidden(path):\n",
    "    for f in os.listdir(path):\n",
    "        if not f.startswith('.'):\n",
    "            yield f"
   ]
  },
  {
   "cell_type": "code",
   "execution_count": 3,
   "metadata": {
    "collapsed": true
   },
   "outputs": [],
   "source": [
    "class DS:\n",
    "    \n",
    "    def __init__(self, name='', challenge='', stage='', raw_text=[]):\n",
    "        self.name = name\n",
    "        self.challenge = challenge\n",
    "        self.stage = stage\n",
    "        self.labelled = 'no'\n",
    "        self.label_type = 'none'\n",
    "        self.raw_text = raw_text\n",
    "        self.emb_text = []\n",
    "        self.test_text = []\n",
    "        self.raw_labels = []\n",
    "    \n",
    "    def processForEmbedding(self):\n",
    "        self.emb_text = []\n",
    "        temp = self.raw_text\n",
    "        temp = re.sub(r'\\d+', '<NUM>', temp)\n",
    "        temp = re.sub(r'([A-Za-z]):', r'\\1 :', temp)\n",
    "        temp = re.sub(r'\\n', ' ', temp)\n",
    "        temp = re.sub(r'Dr.', 'Dr', temp)\n",
    "        temp = re.sub(r'Mr.', 'Mr', temp)\n",
    "        temp = re.sub(r'\\. ([A-Z])', r'. A\\1', temp)\n",
    "        temp = re.split(r'\\. [A-Z]', temp)\n",
    "        for i in range(len(temp)):\n",
    "            temp[i] = temp[i].lower()\n",
    "            self.emb_text.append(temp[i].split())\n",
    "        \n",
    "    def showInfo(self):\n",
    "        print('Name: ', self.name,)\n",
    "        print('Challenge: ', self.challenge,)\n",
    "        print('Train or Test Set: ', self.stage,)\n",
    "        print('Labelled: ', self.labelled,)\n",
    "        print('Labeling Type: ', self.label_type,)"
   ]
  },
  {
   "cell_type": "code",
   "execution_count": 4,
   "metadata": {},
   "outputs": [],
   "source": [
    "class Set:\n",
    "    \n",
    "    def __init__(self, data=[]):\n",
    "        self.data = []\n",
    "        self.size = len(data)\n",
    "        \n",
    "    def present(self, name):\n",
    "        for case in self.data:\n",
    "            if name == case.name:\n",
    "                return(True)\n",
    "        return(False)\n",
    "        \n",
    "    def add(self, item, printdup=0):\n",
    "        if not self.present(item.name):\n",
    "            self.data.append(item)\n",
    "            self.size += 1\n",
    "        else:\n",
    "            if printdup == 1:\n",
    "                print('ID %s from %s is a duplicate' %(item.name, item.challenge))\n",
    "\n",
    "    def numberOf(self, challenge = r'.', stage=r'.', labelled=r'.', label_type=r'.'):\n",
    "        n = 0\n",
    "        for case in self.data:\n",
    "            if (re.match(challenge, case.challenge) != None) & \\\n",
    "            (re.match(stage, case.stage) != None) & \\\n",
    "            (re.match(labelled, case.labelled) != None) & \\\n",
    "            (re.match(label_type, case.label_type) != None):\n",
    "                n += 1\n",
    "        return(n)\n",
    "    \n",
    "    def getDS(self, name=r'.', challenge = r'.', stage=r'.', labelled=r'.', label_type=r'.'):\n",
    "        output = Set()\n",
    "        for case in self.data:\n",
    "            if (re.match(name, case.name) != None) & \\\n",
    "            (re.match(challenge, case.challenge) != None) & \\\n",
    "            (re.match(stage, case.stage) != None) & \\\n",
    "            (re.match(labelled, case.labelled) != None) & \\\n",
    "            (re.match(label_type, case.label_type) != None):\n",
    "                output.add(case)\n",
    "        return(output)\n",
    "    \n",
    "    def showInfo(self):\n",
    "        for case in self.data:\n",
    "            case.showInfo()\n",
    "            print('\\n')\n",
    "    \n",
    "    def addLabels(self, name, case, raw_labels):\n",
    "        for i in range(self.size):\n",
    "            if self.data[i].name == name:\n",
    "                self.data[i].labelled = 'yes'\n",
    "                if case == 'train':\n",
    "                    self.data[i].label_type = 'train'\n",
    "                if case == 'test':\n",
    "                    self.data[i].label_type = 'test'\n",
    "                self.data[i].raw_labels = raw_labels\n",
    "                break       \n",
    "                \n",
    "    def processForEmbedding(self):\n",
    "        for i in range(self.size):\n",
    "            self.data[i].processForEmbedding()\n",
    "    \n",
    "    def getSentences(self, challenge = r'.', stage=r'.'):\n",
    "        sentences = []\n",
    "        pool = Dataset.getDS(challenge=challenge, stage=stage)\n",
    "        for case in pool.data:\n",
    "            for sent in case.emb_text:\n",
    "                sentences.append(sent)\n",
    "        return(sentences)"
   ]
  },
  {
   "cell_type": "code",
   "execution_count": 5,
   "metadata": {
    "collapsed": true
   },
   "outputs": [],
   "source": [
    "Dataset = Set()"
   ]
  },
  {
   "cell_type": "code",
   "execution_count": 6,
   "metadata": {},
   "outputs": [],
   "source": [
    "challenge = '2009 Medication Challenge'\n",
    "\n",
    "path = challenge + '/training.sets.released/'\n",
    "for folder in listdir_nohidden(path):\n",
    "    for filename in listdir_nohidden(path + folder + '/'):\n",
    "        with open(path + folder + '/' + filename, 'r') as file:\n",
    "            temp = DS(name=filename, challenge=challenge, stage='train', raw_text=file.read())\n",
    "            Dataset.add(temp, printdup=0)\n",
    "            \n",
    "path = challenge + '/test.released.8.17.09/'\n",
    "for filename in listdir_nohidden(path):\n",
    "    with open(path + filename, 'r') as file:\n",
    "        temp = DS(name=filename, challenge=challenge, stage='test', raw_text=file.read())\n",
    "        Dataset.add(temp, printdup=0)\n",
    "        \n",
    "path = challenge + '/training.ground.truth/'\n",
    "for filename in listdir_nohidden(path):\n",
    "    index = filename.split('_')[0]\n",
    "    with open(path + filename, 'r') as file:\n",
    "        Dataset.addLabels(name=index, case='train', raw_labels=file.read())\n",
    "\n",
    "path = challenge + '/test.BYparticipant.ground_truth/converted.noduplicates.sorted/'\n",
    "for filename in listdir_nohidden(path):\n",
    "    index = filename.split('.')[0]\n",
    "    with open(path + filename, 'r') as file:\n",
    "        Dataset.addLabels(name=index, case='test', raw_labels=file.read())"
   ]
  },
  {
   "cell_type": "code",
   "execution_count": 7,
   "metadata": {},
   "outputs": [],
   "source": [
    "challenge = '2007 Smoking Challenge'\n",
    "\n",
    "tree = lxml.etree.parse(challenge + '/smokers_surrogate_train_all_version2.xml')\n",
    "root = tree.getroot()\n",
    "IDs = []\n",
    "contents = []\n",
    "for name in root.iter('RECORD'):\n",
    "    IDs.append(name.attrib.get(name.attrib.keys()[0]))\n",
    "for summary in root.iter('TEXT'):\n",
    "    contents.append(summary.text)\n",
    "for i in range(len(IDs)):\n",
    "    temp = DS(name=IDs[i], challenge=challenge, stage='test', raw_text=contents[0])\n",
    "    Dataset.add(temp, printdup=0)\n",
    "    \n",
    "tree = lxml.etree.parse(challenge + '/smokers_surrogate_test_all_groundtruth_version2.xml')\n",
    "root = tree.getroot()\n",
    "IDs = []\n",
    "contents = []\n",
    "for name in root.iter('RECORD'):\n",
    "    IDs.append(name.attrib.get(name.attrib.keys()[0]))\n",
    "for summary in root.iter('TEXT'):\n",
    "    contents.append(summary.text)\n",
    "for i in range(len(IDs)):\n",
    "    temp = DS(name=IDs[i], challenge=challenge, stage='test', raw_text=contents[0])\n",
    "    Dataset.add(temp, printdup=0)\n",
    "    \n",
    "with zipfile.ZipFile(challenge + '/1C smokers_surrogate_train_all_version2.zip', 'r') as z:\n",
    "    tree = lxml.etree.parse(z.open('smokers_surrogate_train_all_version2.xml'))\n",
    "root = tree.getroot()\n",
    "IDs = []\n",
    "contents = []\n",
    "for name in root.iter('RECORD'):\n",
    "    IDs.append(name.attrib.get(name.attrib.keys()[0]))\n",
    "for summary in root.iter('TEXT'):\n",
    "    contents.append(summary.text)\n",
    "for i in range(len(IDs)):\n",
    "    temp = DS(name=IDs[i], challenge=challenge, stage='test', raw_text=contents[0])\n",
    "    Dataset.add(temp, printdup=0)"
   ]
  },
  {
   "cell_type": "code",
   "execution_count": 8,
   "metadata": {
    "scrolled": true
   },
   "outputs": [
    {
     "name": "stdout",
     "output_type": "stream",
     "text": [
      "Number of Texts:  1749\n",
      "Number of 2007 Challenge texts:  500\n",
      "Number of Train Texts:  696\n",
      "Number of Test Texts:  1053\n",
      "Number of Labeled Texts:  258\n",
      "Number of Initially Labeled Texts:  10\n",
      "Number of Competitor Labeled Texts Texts:  248\n"
     ]
    }
   ],
   "source": [
    "print('Number of Texts: ', Dataset.size)\n",
    "print('Number of 2007 Challenge texts: ', Dataset.numberOf(challenge='2007 Smoking Challenge'))\n",
    "print('Number of Train Texts: ', Dataset.numberOf(stage='train'))\n",
    "print('Number of Test Texts: ', Dataset.numberOf(stage='test'))\n",
    "print('Number of Labeled Texts: ', Dataset.numberOf(labelled='yes'))\n",
    "print('Number of Initially Labeled Texts: ', Dataset.numberOf(labelled='yes', label_type='train'))\n",
    "print('Number of Competitor Labeled Texts Texts: ', Dataset.numberOf(labelled='yes', label_type='test'))"
   ]
  },
  {
   "cell_type": "code",
   "execution_count": 9,
   "metadata": {},
   "outputs": [],
   "source": [
    "medications = []\n",
    "labelled = Dataset.getDS(labelled='yes')\n",
    "\n",
    "for case in labelled.data:\n",
    "    for term in re.finditer(r'm=\"[a-z0-9 ]+\"', case.raw_labels):\n",
    "        temp = term.group()[3:-1]\n",
    "        temp = temp.split()\n",
    "        for word in temp:\n",
    "            if word not in medications:\n",
    "                medications.append(word)"
   ]
  },
  {
   "cell_type": "code",
   "execution_count": 10,
   "metadata": {},
   "outputs": [],
   "source": [
    "Dataset.processForEmbedding()\n",
    "sentences = Dataset.getSentences()"
   ]
  },
  {
   "cell_type": "code",
   "execution_count": 11,
   "metadata": {},
   "outputs": [
    {
     "name": "stderr",
     "output_type": "stream",
     "text": [
      "C:\\Users\\lgligic\\Anaconda3\\envs\\tensorflow\\lib\\site-packages\\gensim\\utils.py:855: UserWarning: detected Windows; aliasing chunkize to chunkize_serial\n",
      "  warnings.warn(\"detected Windows; aliasing chunkize to chunkize_serial\")\n"
     ]
    }
   ],
   "source": [
    "from gensim.models import Word2Vec"
   ]
  },
  {
   "cell_type": "code",
   "execution_count": 12,
   "metadata": {},
   "outputs": [],
   "source": [
    "model_I2B2 = Word2Vec(sentences, min_count=1, size=100)"
   ]
  },
  {
   "cell_type": "code",
   "execution_count": 13,
   "metadata": {
    "scrolled": false
   },
   "outputs": [
    {
     "data": {
      "text/plain": [
       "[('hydrochlorothiazide', 0.9161497354507446),\n",
       " ('prozac', 0.9061295986175537),\n",
       " ('klonopin', 0.9030982851982117),\n",
       " ('lipitor', 0.9019649028778076),\n",
       " ('zantac', 0.901008129119873),\n",
       " ('cozaar', 0.8987671136856079),\n",
       " ('pravachol', 0.8979552388191223),\n",
       " ('isordil', 0.8881779313087463),\n",
       " ('celexa', 0.8871161937713623),\n",
       " ('zoloft', 0.8838896155357361)]"
      ]
     },
     "execution_count": 13,
     "metadata": {},
     "output_type": "execute_result"
    }
   ],
   "source": [
    "model_I2B2.most_similar(\"zestril\")"
   ]
  },
  {
   "cell_type": "code",
   "execution_count": 14,
   "metadata": {},
   "outputs": [
    {
     "data": {
      "text/plain": [
       "array([   0.,  946.,    0.,    0.,    0.,    0.,    0.,    0.,    0.,    0.])"
      ]
     },
     "execution_count": 14,
     "metadata": {},
     "output_type": "execute_result"
    }
   ],
   "source": [
    "num = np.zeros(10)\n",
    "for med in medications:\n",
    "    num[len(med.split())] += 1\n",
    "num"
   ]
  },
  {
   "cell_type": "code",
   "execution_count": 15,
   "metadata": {},
   "outputs": [
    {
     "data": {
      "text/html": [
       "\n",
       "    <div class=\"bk-root\">\n",
       "        <a href=\"http://bokeh.pydata.org\" target=\"_blank\" class=\"bk-logo bk-logo-small bk-logo-notebook\"></a>\n",
       "        <span id=\"8b07c8e0-2941-4a35-a78d-1182c95bdf96\">Loading BokehJS ...</span>\n",
       "    </div>"
      ]
     },
     "metadata": {},
     "output_type": "display_data"
    },
    {
     "data": {
      "application/javascript": [
       "\n",
       "(function(global) {\n",
       "  function now() {\n",
       "    return new Date();\n",
       "  }\n",
       "\n",
       "  var force = true;\n",
       "\n",
       "  if (typeof (window._bokeh_onload_callbacks) === \"undefined\" || force === true) {\n",
       "    window._bokeh_onload_callbacks = [];\n",
       "    window._bokeh_is_loading = undefined;\n",
       "  }\n",
       "\n",
       "\n",
       "  \n",
       "  if (typeof (window._bokeh_timeout) === \"undefined\" || force === true) {\n",
       "    window._bokeh_timeout = Date.now() + 5000;\n",
       "    window._bokeh_failed_load = false;\n",
       "  }\n",
       "\n",
       "  var NB_LOAD_WARNING = {'data': {'text/html':\n",
       "     \"<div style='background-color: #fdd'>\\n\"+\n",
       "     \"<p>\\n\"+\n",
       "     \"BokehJS does not appear to have successfully loaded. If loading BokehJS from CDN, this \\n\"+\n",
       "     \"may be due to a slow or bad network connection. Possible fixes:\\n\"+\n",
       "     \"</p>\\n\"+\n",
       "     \"<ul>\\n\"+\n",
       "     \"<li>re-rerun `output_notebook()` to attempt to load from CDN again, or</li>\\n\"+\n",
       "     \"<li>use INLINE resources instead, as so:</li>\\n\"+\n",
       "     \"</ul>\\n\"+\n",
       "     \"<code>\\n\"+\n",
       "     \"from bokeh.resources import INLINE\\n\"+\n",
       "     \"output_notebook(resources=INLINE)\\n\"+\n",
       "     \"</code>\\n\"+\n",
       "     \"</div>\"}};\n",
       "\n",
       "  function display_loaded() {\n",
       "    if (window.Bokeh !== undefined) {\n",
       "      var el = document.getElementById(\"8b07c8e0-2941-4a35-a78d-1182c95bdf96\");\n",
       "      el.textContent = \"BokehJS \" + Bokeh.version + \" successfully loaded.\";\n",
       "    } else if (Date.now() < window._bokeh_timeout) {\n",
       "      setTimeout(display_loaded, 100)\n",
       "    }\n",
       "  }\n",
       "\n",
       "  function run_callbacks() {\n",
       "    window._bokeh_onload_callbacks.forEach(function(callback) { callback() });\n",
       "    delete window._bokeh_onload_callbacks\n",
       "    console.info(\"Bokeh: all callbacks have finished\");\n",
       "  }\n",
       "\n",
       "  function load_libs(js_urls, callback) {\n",
       "    window._bokeh_onload_callbacks.push(callback);\n",
       "    if (window._bokeh_is_loading > 0) {\n",
       "      console.log(\"Bokeh: BokehJS is being loaded, scheduling callback at\", now());\n",
       "      return null;\n",
       "    }\n",
       "    if (js_urls == null || js_urls.length === 0) {\n",
       "      run_callbacks();\n",
       "      return null;\n",
       "    }\n",
       "    console.log(\"Bokeh: BokehJS not loaded, scheduling load and callback at\", now());\n",
       "    window._bokeh_is_loading = js_urls.length;\n",
       "    for (var i = 0; i < js_urls.length; i++) {\n",
       "      var url = js_urls[i];\n",
       "      var s = document.createElement('script');\n",
       "      s.src = url;\n",
       "      s.async = false;\n",
       "      s.onreadystatechange = s.onload = function() {\n",
       "        window._bokeh_is_loading--;\n",
       "        if (window._bokeh_is_loading === 0) {\n",
       "          console.log(\"Bokeh: all BokehJS libraries loaded\");\n",
       "          run_callbacks()\n",
       "        }\n",
       "      };\n",
       "      s.onerror = function() {\n",
       "        console.warn(\"failed to load library \" + url);\n",
       "      };\n",
       "      console.log(\"Bokeh: injecting script tag for BokehJS library: \", url);\n",
       "      document.getElementsByTagName(\"head\")[0].appendChild(s);\n",
       "    }\n",
       "  };var element = document.getElementById(\"8b07c8e0-2941-4a35-a78d-1182c95bdf96\");\n",
       "  if (element == null) {\n",
       "    console.log(\"Bokeh: ERROR: autoload.js configured with elementid '8b07c8e0-2941-4a35-a78d-1182c95bdf96' but no matching script tag was found. \")\n",
       "    return false;\n",
       "  }\n",
       "\n",
       "  var js_urls = [\"https://cdn.pydata.org/bokeh/release/bokeh-0.12.5.min.js\", \"https://cdn.pydata.org/bokeh/release/bokeh-widgets-0.12.5.min.js\"];\n",
       "\n",
       "  var inline_js = [\n",
       "    function(Bokeh) {\n",
       "      Bokeh.set_log_level(\"info\");\n",
       "    },\n",
       "    \n",
       "    function(Bokeh) {\n",
       "      \n",
       "    },\n",
       "    \n",
       "    function(Bokeh) {\n",
       "      \n",
       "      document.getElementById(\"8b07c8e0-2941-4a35-a78d-1182c95bdf96\").textContent = \"BokehJS is loading...\";\n",
       "    },\n",
       "    function(Bokeh) {\n",
       "      console.log(\"Bokeh: injecting CSS: https://cdn.pydata.org/bokeh/release/bokeh-0.12.5.min.css\");\n",
       "      Bokeh.embed.inject_css(\"https://cdn.pydata.org/bokeh/release/bokeh-0.12.5.min.css\");\n",
       "      console.log(\"Bokeh: injecting CSS: https://cdn.pydata.org/bokeh/release/bokeh-widgets-0.12.5.min.css\");\n",
       "      Bokeh.embed.inject_css(\"https://cdn.pydata.org/bokeh/release/bokeh-widgets-0.12.5.min.css\");\n",
       "    }\n",
       "  ];\n",
       "\n",
       "  function run_inline_js() {\n",
       "    \n",
       "    if ((window.Bokeh !== undefined) || (force === true)) {\n",
       "      for (var i = 0; i < inline_js.length; i++) {\n",
       "        inline_js[i](window.Bokeh);\n",
       "      }if (force === true) {\n",
       "        display_loaded();\n",
       "      }} else if (Date.now() < window._bokeh_timeout) {\n",
       "      setTimeout(run_inline_js, 100);\n",
       "    } else if (!window._bokeh_failed_load) {\n",
       "      console.log(\"Bokeh: BokehJS failed to load within specified timeout.\");\n",
       "      window._bokeh_failed_load = true;\n",
       "    } else if (force !== true) {\n",
       "      var cell = $(document.getElementById(\"8b07c8e0-2941-4a35-a78d-1182c95bdf96\")).parents('.cell').data().cell;\n",
       "      cell.output_area.append_execute_result(NB_LOAD_WARNING)\n",
       "    }\n",
       "\n",
       "  }\n",
       "\n",
       "  if (window._bokeh_is_loading === 0) {\n",
       "    console.log(\"Bokeh: BokehJS loaded, going straight to plotting\");\n",
       "    run_inline_js();\n",
       "  } else {\n",
       "    load_libs(js_urls, function() {\n",
       "      console.log(\"Bokeh: BokehJS plotting callback run at\", now());\n",
       "      run_inline_js();\n",
       "    });\n",
       "  }\n",
       "}(this));"
      ]
     },
     "metadata": {},
     "output_type": "display_data"
    }
   ],
   "source": [
    "from bokeh.models import ColumnDataSource, LabelSet\n",
    "from bokeh.plotting import figure, show, output_file\n",
    "from bokeh.io import output_notebook\n",
    "output_notebook()"
   ]
  },
  {
   "cell_type": "code",
   "execution_count": 16,
   "metadata": {},
   "outputs": [
    {
     "data": {
      "text/plain": [
       "1000"
      ]
     },
     "execution_count": 16,
     "metadata": {},
     "output_type": "execute_result"
    }
   ],
   "source": [
    "from collections import Counter\n",
    "\n",
    "words = []\n",
    "for sent in sentences:\n",
    "    for word in sent:\n",
    "        words.append(word)\n",
    "\n",
    "cnt = Counter(words).most_common(1000)\n",
    "cnt = np.array(cnt)\n",
    "topwords = np.ndarray.tolist(cnt[:,0])\n",
    "len(topwords)"
   ]
  },
  {
   "cell_type": "code",
   "execution_count": 17,
   "metadata": {},
   "outputs": [
    {
     "name": "stdout",
     "output_type": "stream",
     "text": [
      "1800\n",
      "1800\n",
      "1800\n"
     ]
    }
   ],
   "source": [
    "visualisation = []\n",
    "\n",
    "for word in medications:\n",
    "    if word in model_I2B2.wv.vocab.keys():\n",
    "        visualisation.append(word)\n",
    "\n",
    "colormap = np.full(len(visualisation), \"red\")\n",
    "\n",
    "for word in topwords:\n",
    "    if not word in visualisation:\n",
    "        visualisation.append(word)\n",
    "        colormap = np.append(colormap, [\"blue\"])\n",
    "\n",
    "\n",
    "# This assumes words_top_ted is a list of strings, the top 1000 words\n",
    "words_vec = model_I2B2[visualisation]\n",
    "\n",
    "print(len(visualisation))\n",
    "print(len(words_vec))\n",
    "print(len(colormap))"
   ]
  },
  {
   "cell_type": "code",
   "execution_count": 18,
   "metadata": {
    "collapsed": true
   },
   "outputs": [],
   "source": [
    "from sklearn.manifold import TSNE\n",
    "tsne = TSNE(n_components=2, random_state=0)\n",
    "words_tsne = tsne.fit_transform(words_vec)"
   ]
  },
  {
   "cell_type": "code",
   "execution_count": 19,
   "metadata": {},
   "outputs": [
    {
     "data": {
      "text/html": [
       "\n",
       "\n",
       "    <div class=\"bk-root\">\n",
       "        <div class=\"bk-plotdiv\" id=\"10e601d6-4e8d-4321-9d07-fc92da83ee2f\"></div>\n",
       "    </div>\n",
       "<script type=\"text/javascript\">\n",
       "  \n",
       "  (function(global) {\n",
       "    function now() {\n",
       "      return new Date();\n",
       "    }\n",
       "  \n",
       "    var force = false;\n",
       "  \n",
       "    if (typeof (window._bokeh_onload_callbacks) === \"undefined\" || force === true) {\n",
       "      window._bokeh_onload_callbacks = [];\n",
       "      window._bokeh_is_loading = undefined;\n",
       "    }\n",
       "  \n",
       "  \n",
       "    \n",
       "    if (typeof (window._bokeh_timeout) === \"undefined\" || force === true) {\n",
       "      window._bokeh_timeout = Date.now() + 0;\n",
       "      window._bokeh_failed_load = false;\n",
       "    }\n",
       "  \n",
       "    var NB_LOAD_WARNING = {'data': {'text/html':\n",
       "       \"<div style='background-color: #fdd'>\\n\"+\n",
       "       \"<p>\\n\"+\n",
       "       \"BokehJS does not appear to have successfully loaded. If loading BokehJS from CDN, this \\n\"+\n",
       "       \"may be due to a slow or bad network connection. Possible fixes:\\n\"+\n",
       "       \"</p>\\n\"+\n",
       "       \"<ul>\\n\"+\n",
       "       \"<li>re-rerun `output_notebook()` to attempt to load from CDN again, or</li>\\n\"+\n",
       "       \"<li>use INLINE resources instead, as so:</li>\\n\"+\n",
       "       \"</ul>\\n\"+\n",
       "       \"<code>\\n\"+\n",
       "       \"from bokeh.resources import INLINE\\n\"+\n",
       "       \"output_notebook(resources=INLINE)\\n\"+\n",
       "       \"</code>\\n\"+\n",
       "       \"</div>\"}};\n",
       "  \n",
       "    function display_loaded() {\n",
       "      if (window.Bokeh !== undefined) {\n",
       "        var el = document.getElementById(\"10e601d6-4e8d-4321-9d07-fc92da83ee2f\");\n",
       "        el.textContent = \"BokehJS \" + Bokeh.version + \" successfully loaded.\";\n",
       "      } else if (Date.now() < window._bokeh_timeout) {\n",
       "        setTimeout(display_loaded, 100)\n",
       "      }\n",
       "    }\n",
       "  \n",
       "    function run_callbacks() {\n",
       "      window._bokeh_onload_callbacks.forEach(function(callback) { callback() });\n",
       "      delete window._bokeh_onload_callbacks\n",
       "      console.info(\"Bokeh: all callbacks have finished\");\n",
       "    }\n",
       "  \n",
       "    function load_libs(js_urls, callback) {\n",
       "      window._bokeh_onload_callbacks.push(callback);\n",
       "      if (window._bokeh_is_loading > 0) {\n",
       "        console.log(\"Bokeh: BokehJS is being loaded, scheduling callback at\", now());\n",
       "        return null;\n",
       "      }\n",
       "      if (js_urls == null || js_urls.length === 0) {\n",
       "        run_callbacks();\n",
       "        return null;\n",
       "      }\n",
       "      console.log(\"Bokeh: BokehJS not loaded, scheduling load and callback at\", now());\n",
       "      window._bokeh_is_loading = js_urls.length;\n",
       "      for (var i = 0; i < js_urls.length; i++) {\n",
       "        var url = js_urls[i];\n",
       "        var s = document.createElement('script');\n",
       "        s.src = url;\n",
       "        s.async = false;\n",
       "        s.onreadystatechange = s.onload = function() {\n",
       "          window._bokeh_is_loading--;\n",
       "          if (window._bokeh_is_loading === 0) {\n",
       "            console.log(\"Bokeh: all BokehJS libraries loaded\");\n",
       "            run_callbacks()\n",
       "          }\n",
       "        };\n",
       "        s.onerror = function() {\n",
       "          console.warn(\"failed to load library \" + url);\n",
       "        };\n",
       "        console.log(\"Bokeh: injecting script tag for BokehJS library: \", url);\n",
       "        document.getElementsByTagName(\"head\")[0].appendChild(s);\n",
       "      }\n",
       "    };var element = document.getElementById(\"10e601d6-4e8d-4321-9d07-fc92da83ee2f\");\n",
       "    if (element == null) {\n",
       "      console.log(\"Bokeh: ERROR: autoload.js configured with elementid '10e601d6-4e8d-4321-9d07-fc92da83ee2f' but no matching script tag was found. \")\n",
       "      return false;\n",
       "    }\n",
       "  \n",
       "    var js_urls = [];\n",
       "  \n",
       "    var inline_js = [\n",
       "      function(Bokeh) {\n",
       "        (function() {\n",
       "          var fn = function() {\n",
       "            var docs_json = {\"4892e720-7bf1-4190-b85f-e7c3df58e336\":{\"roots\":{\"references\":[{\"attributes\":{\"fill_color\":{\"field\":\"coloring\"},\"line_color\":{\"field\":\"coloring\"},\"size\":{\"units\":\"screen\",\"value\":8},\"x\":{\"field\":\"x1\"},\"y\":{\"field\":\"x2\"}},\"id\":\"458be465-d245-49ac-a00a-b58b037a1817\",\"type\":\"Circle\"},{\"attributes\":{\"formatter\":{\"id\":\"a4c781d1-b2d2-436d-b48b-3426b99122ea\",\"type\":\"BasicTickFormatter\"},\"plot\":{\"id\":\"d9cdb677-5ecc-4660-8bf4-d5c2debd7370\",\"subtype\":\"Figure\",\"type\":\"Plot\"},\"ticker\":{\"id\":\"13373f09-5dbe-4823-bf7d-c34246f6bf83\",\"type\":\"BasicTicker\"}},\"id\":\"c4d5606e-f821-4981-9626-5384bd50f152\",\"type\":\"LinearAxis\"},{\"attributes\":{\"fill_alpha\":{\"value\":0.1},\"fill_color\":{\"value\":\"#1f77b4\"},\"line_alpha\":{\"value\":0.1},\"line_color\":{\"value\":\"#1f77b4\"},\"size\":{\"units\":\"screen\",\"value\":8},\"x\":{\"field\":\"x1\"},\"y\":{\"field\":\"x2\"}},\"id\":\"db65d694-59b7-47d8-9fc9-e32d1212c23b\",\"type\":\"Circle\"},{\"attributes\":{\"plot\":{\"id\":\"d9cdb677-5ecc-4660-8bf4-d5c2debd7370\",\"subtype\":\"Figure\",\"type\":\"Plot\"}},\"id\":\"a0815a72-8072-4cc1-8afb-0c6005c84fb0\",\"type\":\"WheelZoomTool\"},{\"attributes\":{},\"id\":\"c057e05d-76f9-4f55-bd09-7f5a49895009\",\"type\":\"BasicTickFormatter\"},{\"attributes\":{\"callback\":null},\"id\":\"4b5c26bf-9f51-4bfb-83ec-8ea7f27fa0ef\",\"type\":\"DataRange1d\"},{\"attributes\":{\"callback\":null,\"column_names\":[\"names\",\"x2\",\"x1\",\"coloring\"],\"data\":{\"coloring\":[\"red\",\"red\",\"red\",\"red\",\"red\",\"red\",\"red\",\"red\",\"red\",\"red\",\"red\",\"red\",\"red\",\"red\",\"red\",\"red\",\"red\",\"red\",\"red\",\"red\",\"red\",\"red\",\"red\",\"red\",\"red\",\"red\",\"red\",\"red\",\"red\",\"red\",\"red\",\"red\",\"red\",\"red\",\"red\",\"red\",\"red\",\"red\",\"red\",\"red\",\"red\",\"red\",\"red\",\"red\",\"red\",\"red\",\"red\",\"red\",\"red\",\"red\",\"red\",\"red\",\"red\",\"red\",\"red\",\"red\",\"red\",\"red\",\"red\",\"red\",\"red\",\"red\",\"red\",\"red\",\"red\",\"red\",\"red\",\"red\",\"red\",\"red\",\"red\",\"red\",\"red\",\"red\",\"red\",\"red\",\"red\",\"red\",\"red\",\"red\",\"red\",\"red\",\"red\",\"red\",\"red\",\"red\",\"red\",\"red\",\"red\",\"red\",\"red\",\"red\",\"red\",\"red\",\"red\",\"red\",\"red\",\"red\",\"red\",\"red\",\"red\",\"red\",\"red\",\"red\",\"red\",\"red\",\"red\",\"red\",\"red\",\"red\",\"red\",\"red\",\"red\",\"red\",\"red\",\"red\",\"red\",\"red\",\"red\",\"red\",\"red\",\"red\",\"red\",\"red\",\"red\",\"red\",\"red\",\"red\",\"red\",\"red\",\"red\",\"red\",\"red\",\"red\",\"red\",\"red\",\"red\",\"red\",\"red\",\"red\",\"red\",\"red\",\"red\",\"red\",\"red\",\"red\",\"red\",\"red\",\"red\",\"red\",\"red\",\"red\",\"red\",\"red\",\"red\",\"red\",\"red\",\"red\",\"red\",\"red\",\"red\",\"red\",\"red\",\"red\",\"red\",\"red\",\"red\",\"red\",\"red\",\"red\",\"red\",\"red\",\"red\",\"red\",\"red\",\"red\",\"red\",\"red\",\"red\",\"red\",\"red\",\"red\",\"red\",\"red\",\"red\",\"red\",\"red\",\"red\",\"red\",\"red\",\"red\",\"red\",\"red\",\"red\",\"red\",\"red\",\"red\",\"red\",\"red\",\"red\",\"red\",\"red\",\"red\",\"red\",\"red\",\"red\",\"red\",\"red\",\"red\",\"red\",\"red\",\"red\",\"red\",\"red\",\"red\",\"red\",\"red\",\"red\",\"red\",\"red\",\"red\",\"red\",\"red\",\"red\",\"red\",\"red\",\"red\",\"red\",\"red\",\"red\",\"red\",\"red\",\"red\",\"red\",\"red\",\"red\",\"red\",\"red\",\"red\",\"red\",\"red\",\"red\",\"red\",\"red\",\"red\",\"red\",\"red\",\"red\",\"red\",\"red\",\"red\",\"red\",\"red\",\"red\",\"red\",\"red\",\"red\",\"red\",\"red\",\"red\",\"red\",\"red\",\"red\",\"red\",\"red\",\"red\",\"red\",\"red\",\"red\",\"red\",\"red\",\"red\",\"red\",\"red\",\"red\",\"red\",\"red\",\"red\",\"red\",\"red\",\"red\",\"red\",\"red\",\"red\",\"red\",\"red\",\"red\",\"red\",\"red\",\"red\",\"red\",\"red\",\"red\",\"red\",\"red\",\"red\",\"red\",\"red\",\"red\",\"red\",\"red\",\"red\",\"red\",\"red\",\"red\",\"red\",\"red\",\"red\",\"red\",\"red\",\"red\",\"red\",\"red\",\"red\",\"red\",\"red\",\"red\",\"red\",\"red\",\"red\",\"red\",\"red\",\"red\",\"red\",\"red\",\"red\",\"red\",\"red\",\"red\",\"red\",\"red\",\"red\",\"red\",\"red\",\"red\",\"red\",\"red\",\"red\",\"red\",\"red\",\"red\",\"red\",\"red\",\"red\",\"red\",\"red\",\"red\",\"red\",\"red\",\"red\",\"red\",\"red\",\"red\",\"red\",\"red\",\"red\",\"red\",\"red\",\"red\",\"red\",\"red\",\"red\",\"red\",\"red\",\"red\",\"red\",\"red\",\"red\",\"red\",\"red\",\"red\",\"red\",\"red\",\"red\",\"red\",\"red\",\"red\",\"red\",\"red\",\"red\",\"red\",\"red\",\"red\",\"red\",\"red\",\"red\",\"red\",\"red\",\"red\",\"red\",\"red\",\"red\",\"red\",\"red\",\"red\",\"red\",\"red\",\"red\",\"red\",\"red\",\"red\",\"red\",\"red\",\"red\",\"red\",\"red\",\"red\",\"red\",\"red\",\"red\",\"red\",\"red\",\"red\",\"red\",\"red\",\"red\",\"red\",\"red\",\"red\",\"red\",\"red\",\"red\",\"red\",\"red\",\"red\",\"red\",\"red\",\"red\",\"red\",\"red\",\"red\",\"red\",\"red\",\"red\",\"red\",\"red\",\"red\",\"red\",\"red\",\"red\",\"red\",\"red\",\"red\",\"red\",\"red\",\"red\",\"red\",\"red\",\"red\",\"red\",\"red\",\"red\",\"red\",\"red\",\"red\",\"red\",\"red\",\"red\",\"red\",\"red\",\"red\",\"red\",\"red\",\"red\",\"red\",\"red\",\"red\",\"red\",\"red\",\"red\",\"red\",\"red\",\"red\",\"red\",\"red\",\"red\",\"red\",\"red\",\"red\",\"red\",\"red\",\"red\",\"red\",\"red\",\"red\",\"red\",\"red\",\"red\",\"red\",\"red\",\"red\",\"red\",\"red\",\"red\",\"red\",\"red\",\"red\",\"red\",\"red\",\"red\",\"red\",\"red\",\"red\",\"red\",\"red\",\"red\",\"red\",\"red\",\"red\",\"red\",\"red\",\"red\",\"red\",\"red\",\"red\",\"red\",\"red\",\"red\",\"red\",\"red\",\"red\",\"red\",\"red\",\"red\",\"red\",\"red\",\"red\",\"red\",\"red\",\"red\",\"red\",\"red\",\"red\",\"red\",\"red\",\"red\",\"red\",\"red\",\"red\",\"red\",\"red\",\"red\",\"red\",\"red\",\"red\",\"red\",\"red\",\"red\",\"red\",\"red\",\"red\",\"red\",\"red\",\"red\",\"red\",\"red\",\"red\",\"red\",\"red\",\"red\",\"red\",\"red\",\"red\",\"red\",\"red\",\"red\",\"red\",\"red\",\"red\",\"red\",\"red\",\"red\",\"red\",\"red\",\"red\",\"red\",\"red\",\"red\",\"red\",\"red\",\"red\",\"red\",\"red\",\"red\",\"red\",\"red\",\"red\",\"red\",\"red\",\"red\",\"red\",\"red\",\"red\",\"red\",\"red\",\"red\",\"red\",\"red\",\"red\",\"red\",\"red\",\"red\",\"red\",\"red\",\"red\",\"red\",\"red\",\"red\",\"red\",\"red\",\"red\",\"red\",\"red\",\"red\",\"red\",\"red\",\"red\",\"red\",\"red\",\"red\",\"red\",\"red\",\"red\",\"red\",\"red\",\"red\",\"red\",\"red\",\"red\",\"red\",\"red\",\"red\",\"red\",\"red\",\"red\",\"red\",\"red\",\"red\",\"red\",\"red\",\"red\",\"red\",\"red\",\"red\",\"red\",\"red\",\"red\",\"red\",\"red\",\"red\",\"red\",\"red\",\"red\",\"red\",\"red\",\"red\",\"red\",\"red\",\"red\",\"red\",\"red\",\"red\",\"red\",\"red\",\"red\",\"red\",\"red\",\"red\",\"red\",\"red\",\"red\",\"red\",\"red\",\"red\",\"red\",\"red\",\"red\",\"red\",\"red\",\"red\",\"red\",\"red\",\"red\",\"red\",\"red\",\"red\",\"red\",\"red\",\"red\",\"red\",\"red\",\"red\",\"red\",\"red\",\"red\",\"red\",\"red\",\"red\",\"red\",\"red\",\"red\",\"red\",\"red\",\"red\",\"red\",\"red\",\"red\",\"red\",\"red\",\"red\",\"red\",\"red\",\"red\",\"red\",\"red\",\"red\",\"red\",\"red\",\"red\",\"red\",\"red\",\"red\",\"red\",\"red\",\"red\",\"red\",\"red\",\"red\",\"red\",\"red\",\"red\",\"red\",\"red\",\"red\",\"red\",\"red\",\"red\",\"red\",\"red\",\"red\",\"red\",\"red\",\"red\",\"red\",\"red\",\"red\",\"red\",\"red\",\"red\",\"red\",\"red\",\"red\",\"red\",\"red\",\"red\",\"red\",\"red\",\"red\",\"red\",\"red\",\"red\",\"red\",\"red\",\"red\",\"red\",\"red\",\"red\",\"red\",\"red\",\"red\",\"red\",\"red\",\"red\",\"red\",\"red\",\"red\",\"red\",\"red\",\"red\",\"red\",\"red\",\"red\",\"red\",\"red\",\"red\",\"red\",\"red\",\"red\",\"red\",\"red\",\"red\",\"red\",\"red\",\"red\",\"red\",\"red\",\"red\",\"red\",\"red\",\"red\",\"red\",\"red\",\"red\",\"red\",\"red\",\"red\",\"red\",\"red\",\"red\",\"red\",\"red\",\"red\",\"red\",\"red\",\"red\",\"red\",\"red\",\"red\",\"red\",\"red\",\"red\",\"red\",\"red\",\"red\",\"red\",\"red\",\"red\",\"red\",\"red\",\"red\",\"red\",\"red\",\"red\",\"red\",\"red\",\"red\",\"red\",\"red\",\"red\",\"red\",\"red\",\"red\",\"red\",\"red\",\"red\",\"red\",\"red\",\"red\",\"red\",\"red\",\"red\",\"red\",\"red\",\"red\",\"red\",\"red\",\"red\",\"red\",\"red\",\"red\",\"red\",\"red\",\"red\",\"red\",\"red\",\"red\",\"red\",\"red\",\"red\",\"red\",\"red\",\"red\",\"red\",\"red\",\"red\",\"red\",\"red\",\"red\",\"red\",\"red\",\"red\",\"red\",\"red\",\"red\",\"red\",\"red\",\"red\",\"red\",\"red\",\"red\",\"red\",\"red\",\"red\",\"red\",\"red\",\"red\",\"red\",\"red\",\"red\",\"red\",\"red\",\"red\",\"red\",\"red\",\"red\",\"red\",\"red\",\"red\",\"red\",\"red\",\"red\",\"red\",\"red\",\"red\",\"red\",\"red\",\"red\",\"red\",\"red\",\"red\",\"red\",\"red\",\"red\",\"red\",\"red\",\"blue\",\"blue\",\"blue\",\"blue\",\"blue\",\"blue\",\"blue\",\"blue\",\"blue\",\"blue\",\"blue\",\"blue\",\"blue\",\"blue\",\"blue\",\"blue\",\"blue\",\"blue\",\"blue\",\"blue\",\"blue\",\"blue\",\"blue\",\"blue\",\"blue\",\"blue\",\"blue\",\"blue\",\"blue\",\"blue\",\"blue\",\"blue\",\"blue\",\"blue\",\"blue\",\"blue\",\"blue\",\"blue\",\"blue\",\"blue\",\"blue\",\"blue\",\"blue\",\"blue\",\"blue\",\"blue\",\"blue\",\"blue\",\"blue\",\"blue\",\"blue\",\"blue\",\"blue\",\"blue\",\"blue\",\"blue\",\"blue\",\"blue\",\"blue\",\"blue\",\"blue\",\"blue\",\"blue\",\"blue\",\"blue\",\"blue\",\"blue\",\"blue\",\"blue\",\"blue\",\"blue\",\"blue\",\"blue\",\"blue\",\"blue\",\"blue\",\"blue\",\"blue\",\"blue\",\"blue\",\"blue\",\"blue\",\"blue\",\"blue\",\"blue\",\"blue\",\"blue\",\"blue\",\"blue\",\"blue\",\"blue\",\"blue\",\"blue\",\"blue\",\"blue\",\"blue\",\"blue\",\"blue\",\"blue\",\"blue\",\"blue\",\"blue\",\"blue\",\"blue\",\"blue\",\"blue\",\"blue\",\"blue\",\"blue\",\"blue\",\"blue\",\"blue\",\"blue\",\"blue\",\"blue\",\"blue\",\"blue\",\"blue\",\"blue\",\"blue\",\"blue\",\"blue\",\"blue\",\"blue\",\"blue\",\"blue\",\"blue\",\"blue\",\"blue\",\"blue\",\"blue\",\"blue\",\"blue\",\"blue\",\"blue\",\"blue\",\"blue\",\"blue\",\"blue\",\"blue\",\"blue\",\"blue\",\"blue\",\"blue\",\"blue\",\"blue\",\"blue\",\"blue\",\"blue\",\"blue\",\"blue\",\"blue\",\"blue\",\"blue\",\"blue\",\"blue\",\"blue\",\"blue\",\"blue\",\"blue\",\"blue\",\"blue\",\"blue\",\"blue\",\"blue\",\"blue\",\"blue\",\"blue\",\"blue\",\"blue\",\"blue\",\"blue\",\"blue\",\"blue\",\"blue\",\"blue\",\"blue\",\"blue\",\"blue\",\"blue\",\"blue\",\"blue\",\"blue\",\"blue\",\"blue\",\"blue\",\"blue\",\"blue\",\"blue\",\"blue\",\"blue\",\"blue\",\"blue\",\"blue\",\"blue\",\"blue\",\"blue\",\"blue\",\"blue\",\"blue\",\"blue\",\"blue\",\"blue\",\"blue\",\"blue\",\"blue\",\"blue\",\"blue\",\"blue\",\"blue\",\"blue\",\"blue\",\"blue\",\"blue\",\"blue\",\"blue\",\"blue\",\"blue\",\"blue\",\"blue\",\"blue\",\"blue\",\"blue\",\"blue\",\"blue\",\"blue\",\"blue\",\"blue\",\"blue\",\"blue\",\"blue\",\"blue\",\"blue\",\"blue\",\"blue\",\"blue\",\"blue\",\"blue\",\"blue\",\"blue\",\"blue\",\"blue\",\"blue\",\"blue\",\"blue\",\"blue\",\"blue\",\"blue\",\"blue\",\"blue\",\"blue\",\"blue\",\"blue\",\"blue\",\"blue\",\"blue\",\"blue\",\"blue\",\"blue\",\"blue\",\"blue\",\"blue\",\"blue\",\"blue\",\"blue\",\"blue\",\"blue\",\"blue\",\"blue\",\"blue\",\"blue\",\"blue\",\"blue\",\"blue\",\"blue\",\"blue\",\"blue\",\"blue\",\"blue\",\"blue\",\"blue\",\"blue\",\"blue\",\"blue\",\"blue\",\"blue\",\"blue\",\"blue\",\"blue\",\"blue\",\"blue\",\"blue\",\"blue\",\"blue\",\"blue\",\"blue\",\"blue\",\"blue\",\"blue\",\"blue\",\"blue\",\"blue\",\"blue\",\"blue\",\"blue\",\"blue\",\"blue\",\"blue\",\"blue\",\"blue\",\"blue\",\"blue\",\"blue\",\"blue\",\"blue\",\"blue\",\"blue\",\"blue\",\"blue\",\"blue\",\"blue\",\"blue\",\"blue\",\"blue\",\"blue\",\"blue\",\"blue\",\"blue\",\"blue\",\"blue\",\"blue\",\"blue\",\"blue\",\"blue\",\"blue\",\"blue\",\"blue\",\"blue\",\"blue\",\"blue\",\"blue\",\"blue\",\"blue\",\"blue\",\"blue\",\"blue\",\"blue\",\"blue\",\"blue\",\"blue\",\"blue\",\"blue\",\"blue\",\"blue\",\"blue\",\"blue\",\"blue\",\"blue\",\"blue\",\"blue\",\"blue\",\"blue\",\"blue\",\"blue\",\"blue\",\"blue\",\"blue\",\"blue\",\"blue\",\"blue\",\"blue\",\"blue\",\"blue\",\"blue\",\"blue\",\"blue\",\"blue\",\"blue\",\"blue\",\"blue\",\"blue\",\"blue\",\"blue\",\"blue\",\"blue\",\"blue\",\"blue\",\"blue\",\"blue\",\"blue\",\"blue\",\"blue\",\"blue\",\"blue\",\"blue\",\"blue\",\"blue\",\"blue\",\"blue\",\"blue\",\"blue\",\"blue\",\"blue\",\"blue\",\"blue\",\"blue\",\"blue\",\"blue\",\"blue\",\"blue\",\"blue\",\"blue\",\"blue\",\"blue\",\"blue\",\"blue\",\"blue\",\"blue\",\"blue\",\"blue\",\"blue\",\"blue\",\"blue\",\"blue\",\"blue\",\"blue\",\"blue\",\"blue\",\"blue\",\"blue\",\"blue\",\"blue\",\"blue\",\"blue\",\"blue\",\"blue\",\"blue\",\"blue\",\"blue\",\"blue\",\"blue\",\"blue\",\"blue\",\"blue\",\"blue\",\"blue\",\"blue\",\"blue\",\"blue\",\"blue\",\"blue\",\"blue\",\"blue\",\"blue\",\"blue\",\"blue\",\"blue\",\"blue\",\"blue\",\"blue\",\"blue\",\"blue\",\"blue\",\"blue\",\"blue\",\"blue\",\"blue\",\"blue\",\"blue\",\"blue\",\"blue\",\"blue\",\"blue\",\"blue\",\"blue\",\"blue\",\"blue\",\"blue\",\"blue\",\"blue\",\"blue\",\"blue\",\"blue\",\"blue\",\"blue\",\"blue\",\"blue\",\"blue\",\"blue\",\"blue\",\"blue\",\"blue\",\"blue\",\"blue\",\"blue\",\"blue\",\"blue\",\"blue\",\"blue\",\"blue\",\"blue\",\"blue\",\"blue\",\"blue\",\"blue\",\"blue\",\"blue\",\"blue\",\"blue\",\"blue\",\"blue\",\"blue\",\"blue\",\"blue\",\"blue\",\"blue\",\"blue\",\"blue\",\"blue\",\"blue\",\"blue\",\"blue\",\"blue\",\"blue\",\"blue\",\"blue\",\"blue\",\"blue\",\"blue\",\"blue\",\"blue\",\"blue\",\"blue\",\"blue\",\"blue\",\"blue\",\"blue\",\"blue\",\"blue\",\"blue\",\"blue\",\"blue\",\"blue\",\"blue\",\"blue\",\"blue\",\"blue\",\"blue\",\"blue\",\"blue\",\"blue\",\"blue\",\"blue\",\"blue\",\"blue\",\"blue\",\"blue\",\"blue\",\"blue\",\"blue\",\"blue\",\"blue\",\"blue\",\"blue\",\"blue\",\"blue\",\"blue\",\"blue\",\"blue\",\"blue\",\"blue\",\"blue\",\"blue\",\"blue\",\"blue\",\"blue\",\"blue\",\"blue\",\"blue\",\"blue\",\"blue\",\"blue\",\"blue\",\"blue\",\"blue\",\"blue\",\"blue\",\"blue\",\"blue\",\"blue\",\"blue\",\"blue\",\"blue\",\"blue\",\"blue\",\"blue\",\"blue\",\"blue\",\"blue\",\"blue\",\"blue\",\"blue\",\"blue\",\"blue\",\"blue\",\"blue\",\"blue\",\"blue\",\"blue\",\"blue\",\"blue\",\"blue\",\"blue\",\"blue\",\"blue\",\"blue\",\"blue\",\"blue\",\"blue\",\"blue\",\"blue\",\"blue\",\"blue\",\"blue\",\"blue\",\"blue\",\"blue\",\"blue\",\"blue\",\"blue\",\"blue\",\"blue\",\"blue\",\"blue\",\"blue\",\"blue\",\"blue\",\"blue\",\"blue\",\"blue\",\"blue\",\"blue\",\"blue\",\"blue\",\"blue\",\"blue\",\"blue\",\"blue\",\"blue\",\"blue\",\"blue\",\"blue\",\"blue\",\"blue\",\"blue\",\"blue\",\"blue\",\"blue\",\"blue\",\"blue\",\"blue\",\"blue\",\"blue\",\"blue\",\"blue\",\"blue\",\"blue\",\"blue\",\"blue\",\"blue\",\"blue\",\"blue\",\"blue\",\"blue\",\"blue\",\"blue\",\"blue\",\"blue\",\"blue\",\"blue\",\"blue\",\"blue\",\"blue\",\"blue\",\"blue\",\"blue\",\"blue\",\"blue\",\"blue\",\"blue\",\"blue\",\"blue\",\"blue\",\"blue\",\"blue\",\"blue\",\"blue\",\"blue\",\"blue\",\"blue\",\"blue\",\"blue\",\"blue\",\"blue\",\"blue\",\"blue\",\"blue\",\"blue\",\"blue\",\"blue\",\"blue\",\"blue\",\"blue\",\"blue\",\"blue\",\"blue\",\"blue\",\"blue\",\"blue\",\"blue\",\"blue\",\"blue\",\"blue\",\"blue\",\"blue\",\"blue\",\"blue\",\"blue\",\"blue\",\"blue\",\"blue\",\"blue\",\"blue\",\"blue\",\"blue\",\"blue\",\"blue\",\"blue\",\"blue\",\"blue\",\"blue\",\"blue\",\"blue\",\"blue\",\"blue\",\"blue\",\"blue\",\"blue\",\"blue\",\"blue\",\"blue\",\"blue\",\"blue\",\"blue\",\"blue\",\"blue\",\"blue\",\"blue\",\"blue\",\"blue\",\"blue\",\"blue\",\"blue\",\"blue\",\"blue\",\"blue\",\"blue\",\"blue\",\"blue\",\"blue\",\"blue\",\"blue\",\"blue\",\"blue\",\"blue\",\"blue\",\"blue\",\"blue\",\"blue\",\"blue\",\"blue\",\"blue\",\"blue\",\"blue\",\"blue\",\"blue\",\"blue\",\"blue\",\"blue\",\"blue\",\"blue\",\"blue\",\"blue\",\"blue\",\"blue\",\"blue\",\"blue\",\"blue\",\"blue\",\"blue\",\"blue\",\"blue\",\"blue\",\"blue\",\"blue\",\"blue\",\"blue\",\"blue\",\"blue\",\"blue\",\"blue\",\"blue\",\"blue\",\"blue\",\"blue\",\"blue\",\"blue\",\"blue\",\"blue\",\"blue\",\"blue\",\"blue\",\"blue\",\"blue\",\"blue\",\"blue\",\"blue\",\"blue\",\"blue\",\"blue\",\"blue\",\"blue\",\"blue\",\"blue\",\"blue\",\"blue\",\"blue\",\"blue\",\"blue\",\"blue\",\"blue\",\"blue\",\"blue\",\"blue\",\"blue\",\"blue\",\"blue\",\"blue\",\"blue\",\"blue\",\"blue\",\"blue\",\"blue\",\"blue\",\"blue\",\"blue\",\"blue\",\"blue\",\"blue\",\"blue\",\"blue\",\"blue\",\"blue\",\"blue\",\"blue\",\"blue\",\"blue\",\"blue\",\"blue\",\"blue\",\"blue\",\"blue\",\"blue\",\"blue\",\"blue\"],\"names\":[\"ofloxacin\",\"insulin\",\"nph\",\"colace\",\"percocet\",\"coumadin\",\"heparin\",\"vancomycin\",\"axid\",\"lopressor\",\"zestril\",\"ecotrin\",\"isordil\",\"urokinase\",\"lente\",\"antibiotics\",\"epinephrine\",\"humalog\",\"aspirin\",\"lasix\",\"motrin\",\"nasal\",\"cannula\",\"atenolol\",\"metformin\",\"potassium\",\"chloride\",\"slow\",\"release\",\"ciprofloxacin\",\"novolog\",\"baby\",\"lantus\",\"glucophage\",\"lovenox\",\"klonopin\",\"celexa\",\"fresh\",\"frozen\",\"plasma\",\"lipitor\",\"plavix\",\"captopril\",\"zocor\",\"packed\",\"red\",\"blood\",\"cells\",\"nitroglycerin\",\"tylenol\",\"neurontin\",\"folate\",\"pain\",\"medication\",\"phoslo\",\"lyrica\",\"gemfibrozil\",\"ketamine\",\"medications\",\"unasyn\",\"renagel\",\"fentanyl\",\"pca\",\"nephrocaps\",\"levofloxacin\",\"flagyl\",\"oxycontin\",\"requip\",\"aspart\",\"protonix\",\"ativan\",\"oxycodone\",\"augmentin\",\"lisinopril\",\"digoxin\",\"troglipazone\",\"magnesium\",\"oxide\",\"simvastatin\",\"clonazepam\",\"ptu\",\"isosorbide\",\"amiodarone\",\"levothyroxine\",\"sodium\",\"glipizide\",\"cefpodoxime\",\"haldol\",\"depakote\",\"ceftriaxone\",\"albuterol\",\"butt\",\"paste\",\"gabapentin\",\"loperamide\",\"thiamine\",\"nexium\",\"sevelamer\",\"labetalol\",\"inhaler\",\"norvasc\",\"nifedipine\",\"extended\",\"hydrochlorothiazide\",\"linezolid\",\"sarna\",\"warfarin\",\"acetylsalicylic\",\"acid\",\"kcl\",\"immediate\",\"vanc\",\"ada\",\"levo\",\"glyburide\",\"trazodone\",\"micronase\",\"verapamil\",\"loratadine\",\"mgoxide\",\"singulair\",\"ambien\",\"sustained\",\"keflex\",\"patanol\",\"effexor\",\"atrovent\",\"amox\",\"loratidine\",\"rhinocort\",\"contrast\",\"dye\",\"enalapril\",\"cardizem\",\"nafcillin\",\"dicloxacillin\",\"diuretic\",\"regimen\",\"spironolactone\",\"torsemide\",\"pletal\",\"procrit\",\"zantac\",\"antibiotic\",\"fluoroquinolone\",\"clindamycin\",\"metolazone\",\"electrolytes\",\"hydralazine\",\"anticoagulation\",\"procardia\",\"revatio\",\"oxygen\",\"home\",\"dilaudid\",\"allopurinol\",\"indocin\",\"narcotics\",\"prilosec\",\"diovan\",\"multivitamin\",\"colchicine\",\"beta\",\"blocker\",\"pendalol\",\"amoxicillin\",\"prinivil\",\"synthroid\",\"pepcid\",\"ace\",\"inhibitor\",\"statin\",\"beclomethasone\",\"diproprionate\",\"double\",\"strength\",\"spray\",\"toprol\",\"xl\",\"imdur\",\"valsartan\",\"atorvastatin\",\"levoxyl\",\"neosynephrine\",\"tpa\",\"amlodipine\",\"enteric\",\"coated\",\"cefotaxime\",\"diltiazem\",\"czi\",\"nortriptyline\",\"fluoxetine\",\"diuril\",\"advair\",\"steroid\",\"cardiac\",\"meds\",\"zetia\",\"diskus\",\"prednisone\",\"taper\",\"streptokinase\",\"multivitamins\",\"xanax\",\"nitrates\",\"blockade\",\"drip\",\"calcium\",\"channel\",\"nitroglycerins\",\"antacids\",\"serax\",\"docusate\",\"losartan\",\"terazosin\",\"hcl\",\"pantoprazole\",\"asa\",\"mg\",\"above\",\"bb\",\"ppi\",\"darvocet\",\"tordal\",\"humulin\",\"lotensin\",\"supplement\",\"ketorolac\",\"crystalloid\",\"vicodan\",\"naprosyn\",\"halcion\",\"folic\",\"ramipril\",\"clopidogrel\",\"tng\",\"ccb\",\"htn\",\"iron\",\"sulfate\",\"regular\",\"xalatan\",\"eye\",\"drops\",\"metoprolol\",\"senna\",\"tablets\",\"nitrate\",\"supplementation\",\"ferrous\",\"combivent\",\"dinitrate\",\"tartrate\",\"carafate\",\"flexeril\",\"etomidate\",\"succinylcholine\",\"versed\",\"ffp\",\"cd\",\"metamucil\",\"sr\",\"zyprexa\",\"blockers\",\"inhibitors\",\"furosemide\",\"ginger\",\"product\",\"cell\",\"morphine\",\"nitro\",\"flomax\",\"cepacol\",\"claritin\",\"steroids\",\"bp\",\"diclox\",\"pneumovax\",\"neoral\",\"cyclosporine\",\"products\",\"dilt\",\"amio\",\"ecasa\",\"hctz\",\"rocaltrol\",\"erythromycin\",\"oral\",\"carvedilol\",\"niacin\",\"levoflox\",\"duonebs\",\"coreg\",\"nitropaste\",\"cardura\",\"vasotec\",\"pressure\",\"enoxaparin\",\"sprays\",\"statins\",\"er\",\"hep\",\"gtt\",\"acei\",\"ssi\",\"your\",\"accupril\",\"avandia\",\"adenosine\",\"bactrim\",\"celebrex\",\"antiinflammatory\",\"prozac\",\"human\",\"aldactone\",\"this\",\"with\",\"minerals\",\"miconazole\",\"powder\",\"cellcept\",\"pravachol\",\"vitamin\",\"d\",\"fosamax\",\"dulcolax\",\"e\",\"c\",\"fondaparinux\",\"caltrate\",\"plus\",\"niaspan\",\"abx\",\"these\",\"diabeta\",\"paxil\",\"trazadone\",\"ultram\",\"bactroban\",\"ointment\",\"reglan\",\"afrin\",\"lotrisone\",\"cream\",\"proventil\",\"inhalers\",\"ancef\",\"hibiclenz\",\"azmacort\",\"nebulizer\",\"autologous\",\"transfusion\",\"diuretics\",\"quinine\",\"famotidine\",\"ntg\",\"bolus\",\"nsaids\",\"lorazepam\",\"atovaquone\",\"bisulfate\",\"naproxen\",\"pred\",\"pcp\",\"ppx\",\"zoloft\",\"pressors\",\"glucotrol\",\"ceftizoxime\",\"penicillin\",\"fluid\",\"ceftazidime\",\"nystatin\",\"suspension\",\"g\",\"milk\",\"of\",\"magnesia\",\"liquid\",\"fluids\",\"ceptaz\",\"k\",\"bowel\",\"supplements\",\"perioperative\",\"levaquin\",\"baclofen\",\"cymbalta\",\"lamictal\",\"nicoderm\",\"patch\",\"ducolox\",\"lactulose\",\"mylanta\",\"seroquel\",\"sedating\",\"antipsychotics\",\"chemotherapy\",\"tramadol\",\"zydis\",\"plaquenil\",\"cefuroxime\",\"azithromycin\",\"amitriptyline\",\"clotrimazole\",\"nebs\",\"phenytoin\",\"bicarbonate\",\"sulfamethoxazole\",\"esomeprazole\",\"darbepoetin\",\"alfa\",\"dilantin\",\"lopressol\",\"kayexylate\",\"prbc\",\"darbopoetin\",\"nitroprusside\",\"diabinese\",\"diflucan\",\"fluconazole\",\"maalox\",\"remeron\",\"ranitidine\",\"dobutamine\",\"medicines\",\"chloral\",\"hydrate\",\"compazine\",\"phenothiazines\",\"trilafon\",\"normal\",\"saline\",\"nsaid\",\"epogen\",\"cipro\",\"flonase\",\"flovent\",\"tamoxifen\",\"catapres\",\"tartarate\",\"ocean\",\"doxazosin\",\"proxetil\",\"replacement\",\"lithium\",\"parnate\",\"pressor\",\"beclovent\",\"fibercon\",\"mvi\",\"novolin\",\"elixir\",\"citalopram\",\"rhogam\",\"vitamins\",\"vasopressin\",\"dopamine\",\"troponin\",\"argatroban\",\"mucomyst\",\"propofol\",\"triple\",\"osmolite\",\"chloraseptic\",\"gentamicin\",\"therapeutic\",\"nebulizers\",\"prochlorperazine\",\"librium\",\"gluconate\",\"timolol\",\"tagamet\",\"niferex\",\"ibuprofen\",\"bicarb\",\"epi\",\"integrilin\",\"levophed\",\"diabetes\",\"mgsulfate\",\"mom\",\"decadron\",\"tricor\",\"prednisolone\",\"gadolinium\",\"resuscitation\",\"kayexalate\",\"ferrlecit\",\"atropine\",\"lispro\",\"duoneb\",\"metoclopramide\",\"quinapril\",\"simethicone\",\"carbonate\",\"cartia\",\"xt\",\"methotrexate\",\"pravastatin\",\"cyclosporin\",\"sucralfate\",\"cozaar\",\"lescol\",\"inderal\",\"persantine\",\"ideral\",\"glucose\",\"maleate\",\"immodium\",\"phosphate\",\"b\",\"med\",\"tiazac\",\"glucometer\",\"methadone\",\"cefepime\",\"ditropan\",\"monistat\",\"corticosteroids\",\"unfractionated\",\"thorazine\",\"benztropine\",\"mesylate\",\"chlorpromazine\",\"lisinipril\",\"hypoglycemics\",\"extra\",\"his\",\"hfa\",\"aspartate\",\"solsite\",\"arb\",\"ipratropium\",\"duoderm\",\"ticlid\",\"tablet\",\"allegra\",\"vit\",\"alphagam\",\"gtts\",\"clobetizol\",\"acephex\",\"ferrex\",\"other\",\"apap\",\"ivf\",\"glypizide\",\"regimens\",\"cytovene\",\"ganciclovir\",\"nadolol\",\"gentamycin\",\"antihypertensive\",\"thyroid\",\"cortizone\",\"inp\",\"dipyridamole\",\"pack\",\"besylate\",\"azithro\",\"cvp\",\"bcnu\",\"imuran\",\"miralax\",\"msir\",\"pamidronate\",\"acyclovir\",\"tums\",\"dexamethasone\",\"sennosides\",\"mepron\",\"candesartan\",\"mscontin\",\"ms\",\"contin\",\"ciprrfloxacin\",\"econazole\",\"omeprazole\",\"per\",\"ml\",\"solution\",\"tpn\",\"irbesartan\",\"amitryptilline\",\"lactobacillus\",\"glargine\",\"mononitrate\",\"oxacillin\",\"pcn\",\"ctx\",\"prandin\",\"zinc\",\"calcitriol\",\"aranesp\",\"nesiritide\",\"hytrin\",\"bextra\",\"zofran\",\"slng\",\"integrelin\",\"aceinh\",\"keppra\",\"truvada\",\"norvir\",\"lomotil\",\"lexiva\",\"imodium\",\"probenecid\",\"coumadine\",\"metrogel\",\"acebutolol\",\"risperdal\",\"lidocaine\",\"boluses\",\"taxol\",\"premarin\",\"ansaid\",\"antihypertensives\",\"cefazolin\",\"acetaminophen\",\"robitussin\",\"rifampin\",\"ventolin\",\"linsinopril\",\"inhale\",\"dht\",\"stelazine\",\"betaxolol\",\"questran\",\"pilocarpine\",\"ac\",\"reg\",\"rocephin\",\"calcitonin\",\"kayexelate\",\"lopid\",\"alphagan\",\"inhibition\",\"ischemics\",\"relafen\",\"opium\",\"tincture\",\"atapryl\",\"outpatient\",\"kaopectate\",\"mitozalone\",\"rezulin\",\"finasteride\",\"restoril\",\"leni\",\"diabetic\",\"cephradine\",\"tylox\",\"ns\",\"inuslin\",\"carnitidine\",\"digitek\",\"mycophenolate\",\"mofetil\",\"oxybutynin\",\"succinate\",\"micronized\",\"injections\",\"colestipol\",\"hydrochloride\",\"zemplar\",\"klorcon\",\"opiates\",\"avadia\",\"riss\",\"metop\",\"p\",\"zaroxolyn\",\"tessalon\",\"codeine\",\"antianginal\",\"therapy\",\"benicar\",\"antidepressants\",\"nicotine\",\"adalat\",\"pills\",\"dyazide\",\"nose\",\"cyproheptadine\",\"nipride\",\"ampicillin\",\"guaifenesin\",\"her\",\"low\",\"molecular\",\"weight\",\"norepinephrine\",\"inotrops\",\"onoptrops\",\"vaso\",\"sedation\",\"nicardipine\",\"naturale\",\"tears\",\"lactinex\",\"granules\",\"panafil\",\"analgesic\",\"deltasone\",\"senokot\",\"lexapro\",\"ventavis\",\"cephalopsporins\",\"tracleer\",\"oceanspray\",\"nitrospray\",\"arbs\",\"stool\",\"softeners\",\"mevacor\",\"seldane\",\"isoril\",\"propranolol\",\"capoten\",\"ds\",\"clonopin\",\"mycostatin\",\"qdcalcitriol\",\"qdcalcium\",\"tidlasix\",\"transdermal\",\"qdzocor\",\"benazepril\",\"celondin\",\"atorva\",\"simva\",\"benadry\",\"primidone\",\"otc\",\"iss\",\"celecoxib\",\"narcotic\",\"lidoderm\",\"metronidazol\",\"zometa\",\"demerol\",\"ultralente\",\"adriamycin\",\"elavil\",\"clarithromycin\",\"biaxin\",\"procainamide\",\"meclizine\",\"zincate\",\"meropenem\",\"gentle\",\"hydration\",\"aprotinin\",\"nitrofurantoin\",\"imipenem\",\"chlorhexidine\",\"geodon\",\"sertraline\",\"ziprasidone\",\"bromide\",\"enoxaprin\",\"navelbine\",\"vanco\",\"citrate\",\"polysaccharide\",\"complex\",\"xr\",\"wellbutrin\",\"minipress\",\"valium\",\"corvert\",\"cough\",\"medicine\",\"silvadene\",\"valacyclovir\",\"erythropoietin\",\"ergocalciferol\",\"ethanol\",\"lovastatin\",\"nitroglycerine\",\"cholestyramine\",\"saver\",\"levatol\",\"actos\",\"avapro\",\"milrinone\",\"eplerenone\",\"temazepam\",\"cosopt\",\"travatan\",\"lyte\",\"cpap\",\"reopro\",\"agonist\",\"theophylline\",\"releas\",\"benadryl\",\"provastatin\",\"epivir\",\"actinomycin\",\"cytoxan\",\"bleomycin\",\"cisplatin\",\"lamivudine\",\"prenatal\",\"suppository\",\"indomethacin\",\"tamsulosin\",\"cisapride\",\"provera\",\"bismuth\",\"methyldopa\",\"advil\",\"alternagel\",\"estrogen\",\"stanozolol\",\"coum\",\"stanazolol\",\"seretide\",\"ionotropes\",\"hydrocortisone\",\"hypoglycemic\",\"zaroxylyn\",\"aciphex\",\"lilly\",\"pen\",\"betadine\",\"paint\",\"asacol\",\"thrombolysis\",\"lopipd\",\"maxide\",\"alimta\",\"aztreonam\",\"neupogen\",\"transfusions\",\"chemo\",\"rbc\",\"platelet\",\"cortisol\",\"peridex\",\"mouth\",\"wash\",\"cefixime\",\"that\",\"serevent\",\"trusopt\",\"pulmicort\",\"suprax\",\"dextran\",\"tenormin\",\"mannitol\",\"valproic\",\"fioricet\",\"labetolol\",\"the\",\"following\",\"tofranil\",\"vistaril\",\"methylprednisolone\",\"proscar\",\"alcohol\",\"vasopressor\",\"toradol\",\"macrolide\",\"antibio\",\"tic\",\"hydromorphone\",\"fondapurinox\",\"tarceva\",\"levocarnitine\",\"salmeterol\",\"xinafoate\",\"zaroxyln\",\"dextromethorphan\",\"hbr\",\"pindolol\",\"rosiglitazone\",\"cefalosporins\",\"angiotension\",\"receptor\",\"iv\",\"softener\",\"fosomax\",\"cardiovascular\",\"diprosone\",\"psyllium\",\"advils\",\"byetta\",\"fluticasone\",\"copd\",\"syrup\",\"analgesia\",\"roxicet\",\"qugmentin\",\"timoptic\",\"xylatan\",\"novalog\",\"general\",\"anesthesia\",\"cefotetan\",\"kefzol\",\"controlled\",\"felodipine\",\"guqifenesin\",\"prempro\",\"tapazole\",\"artificial\",\"atc\",\"actonel\",\"darvon\",\"diazepam\",\"torsamide\",\"betablocker\",\"ceftaz\",\"dm\",\"rx\",\"asp\",\"perels\",\"guiatuss\",\"bicitra\",\"micromeral\",\",\",\"<num>\",\":\",\"and\",\"was\",\"to\",\"on\",\"a\",\"in\",\"for\",\"patient\",\"<num>/<num>/<num>\",\")\",\"he\",\"(\",\"<num>.<num>\",\"|\",\"no\",\"she\",\"discharge\",\"history\",\"at\",\"as\",\"is\",\"po\",\"admission\",\"by\",\"had\",\"status\",\"p.o.\",\"<num>/<num>\",\"an\",\"left\",\"were\",\"be\",\"hospital\",\"or\",\"right\",\"has\",\"not\",\"chest\",\"<num>-<num>\",\"<num>%\",\".\",\"day\",\"override\",\"date\",\"course\",\"which\",\"but\",\"daily\",\"showed\",\"time\",\"will\",\"also\",\"have\",\"medical\",\"from\",\"heart\",\"dr\",\"interaction\",\"after\",\"am\",\"disease\",\"diagnosis\",\"past\",\"m.d\",\"examination\",\"who\",\"prior\",\"up\",\"post\",\"qd\",\"well\",\"white\",\"rate\",\"artery\",\"two\",\"summary\",\"admitted\",\"renal\",\"given\",\"b.i.d.\",\"units\",\"report\",\"if\",\"coronary\",\"continued\",\"negative\",\"#<num>\",\"stable\",\"clear\",\"then\",\"pt\",\"noted\",\"liver\",\"&amp;\",\"without\",\"patient's\",\"physical\",\"lower\",\"edema\",\"there\",\"******\",\"creatinine\",\"m.d.\",\"one\",\"<num>:<num>:<num>\",\"dis\",\"days\",\"some\",\"breath\",\"follow\",\"pulmonary\",\"serious\",\"years\",\"family\",\"failure\",\"mild\",\"allergies\",\"attending\",\"added\",\"acute\",\"<num>:<num>\",\"abdominal\",\"revealed\",\"bid\",\"reason\",\"exam\",\"mental\",\"hypertension\",\"chronic\",\"potentially\",\"please\",\"care\",\"diet\",\"present\",\"been\",\"room\",\"shortness\",\"it\",\"rhythm\",\"hematocrit\",\"any\",\"decreased\",\"lungs\",\"service\",\"emergency\",\"order\",\"started\",\"did\",\"upper\",\"signed\",\"discharged\",\"count\",\"more\",\"notable\",\"during\",\"dictated\",\"are\",\"record\",\"illness\",\"colon\",\"-\",\"felt\",\"x-ray\",\"[report_end]\",\"unsigned\",\"further\",\"s/p\",\"t.i.d.\",\"extremity\",\"three\",\"head\",\"q.d.\",\"condition\",\"dose\",\"jaundiced\",\"principal\",\"weeks\",\"systolic\",\"worsening\",\"<num>+\",\"week\",\"alert\",\"ekg\",\"than\",\"cancer\",\"wall\",\"elevated\",\"t\",\"/\",\"atrial\",\"laboratory\",\"became\",\"ejection\",\"inr\",\"d/c\",\"p.r.n.\",\"however\",\"mellitus\",\"found\",\"center\",\"social\",\"code\",\"<num>-year-old\",\"x\",\"symptoms\",\"<num>-<num>-<num>\",\"increased\",\"neck\",\"positive\",\"bun\",\"out\",\"significant\",\"presented\",\"full\",\"year\",\"should\",\"number\",\"secondary\",\"infection\",\"instruction\",\"approximately\",\"times\",\"function\",\"give\",\"food/drg\",\"possible\",\"none\",\"myocardial\",\"q\",\"good\",\"when\",\"total\",\"use\",\"signs\",\"w/\",\"son\",\"bilaterally\",\"s<num>\",\"take\",\"unit\",\"):\",\"over\",\"data\",\"infarction\",\"prn\",\"hepatitis\",\"changes\",\"evidence\",\"disposition\",\"scan\",\"orders\",\"urine\",\"murmur\",\"sinus\",\"catheterization\",\"treated\",\"ten\",\"chf\",\"likely\",\"<num>.\",\"less\",\"developed\",\"carcinoma\",\"performed\",\"#\",\"abdomen\",\"oriented\",\"small\",\"lives\",\"<num>mg\",\"baseline\",\"extremities\",\"while\",\"ref\",\"underwent\",\"md\",\"surgery\",\"upon\",\"starting\",\"avoid\",\"change\",\"name\",\"all\",\"male\",\"arousable\",\"postoperative\",\"because\",\"temperature\",\"continue\",\"cachectic\",\"back\",\"you\",\"call\",\"known\",\"q.\",\"primary\",\"loss\",\"only\",\"follow-up\",\"soft\",\"previous\",\"allergy\",\"management\",\"do\",\"stenosis\",\"arm\",\"old\",\"obtained\",\"leg\",\"vital\",\"hours\",\"study\",\"house\",\"doses\",\"ct\",\"cad\",\"poor\",\"sounds\",\"cc\",\"placed\",\"associated\",\"transferred\",\"treatment\",\"fibrillation\",\"resume\",\"daily.\",\"remained\",\"ii\",\"pm\",\"aware\",\"knee\",\"urinary\",\"complications\",\"crackles\",\"congestive\",\"overridden\",\"department\",\"skin\",\"due\",\"hold\",\"v<num>\",\"may\",\"initially\",\"question\",\"respiratory\",\"within\",\"once\",\"made\",\"ischemia\",\"bypass\",\"followed\",\"gi\",\"additional\",\"x<num>\",\"graft\",\"admit\",\"before\",\"down\",\"lad\",\"showing\",\"s\",\"bilateral\",\"now\",\"go\",\"until\",\"instructions\",\"drug\",\"q.day\",\"team\",\"ultrasound\",\"ventricular\",\"required\",\"tr\",\"obese\",\"nausea\",\"scale\",\"man\",\"denies\",\"tomography\",\"computerized\",\"mi\",\"we\",\"control\",\"output\",\"today\",\"supple\",\"recent\",\"<num>s\",\"last\",\"id\",\"end\",\"since\",\"tolerated\",\"intact\",\"march\",\"sliding\",\"ef\",\"procedures\",\"subcutaneously\",\"evaluated\",\"h/o\",\"otherwise\",\"smoker\",\"reported\",\"tract\",\"echo\",\"mr\",\"received\",\"throughout\",\"air\",\"urinalysis\",\"tests\",\"could\",\"@\",\"heavy\",\"guaiac\",\"valve\",\"brief\",\"obesity\",\"taken\",\"drop\",\"make\",\"aortic\",\"used\",\"new\",\"afebrile\",\"fraction\",\"palpable\",\"intake\",\"rectal\",\"greater\",\"pulses\",\"except\",\"january\",\"exercise\",\"multiple\",\"bands\",\"ed\",\"ago\",\"improved\",\"event\",\"distress\",\"causing\",\"high\",\"seen\",\"bs\",\"evaluate\",\"activity\",\"clinic\",\"quadrant\",\"tender\",\"l\",\"evaluation\",\"q<num>h\",\"albumin\",\"partial\",\"extensive\",\"need\",\"minutes\",\"diuresis\",\"along\",\"abscess\",\"lesion\",\"]\",\"echocardiogram\",\"alone\",\"hlgmc\",\"report_end\",\"[\",\"td\",\"dd\",\"four\",\"test\",\"operations\",\"every\",\"tab\",\"dictation\",\"st\",\"scheduled\",\"side\",\"wound\",\"does\",\"mitral\",\"bilirubin\",\"episodes\",\"vascular\",\"resection\",\"notice\",\"ulcers\",\"comfortable\",\"anterior\",\"sc\",\"q.<num>h.\",\"infections\",\".<num>\",\"throat\",\"plans\",\"serum\",\"severe\",\"alkaline\",\"note\",\"many\",\"vomiting\",\"phosphatase\",\"planned\",\"insufficiency\",\"pneumonia\",\"clonidine\",\"appointment\",\"differential\",\"able\",\"liter\",\"tachycardic\",\"university\",\"cultures\",\"comments\",\"anemia\",\"affecting\",\"angina\",\"hospitalization\",\"entered\",\"worsened\",\"tid\",\"consistent\",\"yes\",\"do/plan\",\"eyes\",\"discussion\",\"o.r.\",\"progressed\",\"treatments/procedures\",\"thickened\",\"treatment/stay\",\"several\",\"diagnosis;conditions\",\";responsible\",\"<num>-<num>-<num>-<num>\",\"amylase\",\"contingent\",\"carotid\",\"cabg\",\"appointment(\",\"stomach\",\"floor\",\"dyspnea\",\"surgical\",\"peripheral\",\"batch\",\"cath\",\"confused\",\"managed\",\"'s\",\"important\",\"increasing\",\"through\",\"r\",\"cardiology\",\"venous\",\"amounts\",\"cirrhosis\",\"stones\",\"sent\",\"nodes\",\"procedure\",\"severely\",\"twice\",\"female\",\"chemistries\",\"monitor\",\"somnolent\",\"discontinued\",\"sleep\",\"very\",\"hand\",\"physician\",\";\",\"scattered\",\"direct\",\"resolved\",\"inguinal\",\"o<num>\",\"first\",\"prothrombin\",\"edge\",\"proceeded\",\"measures\",\"labs\",\"members\",\"casts\",\"episode\",\"deconditioning\",\"tenderness\",\"lived\",\"ears\",\"wanted\",\"would\",\"heent\",\"platelets\",\"pyelonephritis\",\"cast\",\"done\",\"vi\",\"uric\",\"decline\",\"thromboplastin\",\"coagulopathy\",\"meals\",\"index\",\"held\",\"belly\",\"thought\",\"pronounced\",\"sleepy\",\"off\",\"neurological\",\"excess\",\"liters\",\"morning\",\"maximize\",\"inferior\",\"stay\",\"including\",\"cm\",\"onset\",\"where\",\"pulse\",\"six\",\"gums\",\"deterioration\",\"being\",\"mcg\",\"sob\",\"pipe\",\"phosphorous\",\"box\",\"dead\",\"cigar\",\"brandy\",\"drnks\",\"whites\",\"contained\",\"setting\",\"resected\",\"granular\",\"edentulous\",\"driven\",\"ajo\",\"heroic\",\"staviewordna\",\"girresnet\",\"bloodpressure\",\"glutamic\",\"oxaloacetic\",\"comforts\",\"pcc\",\"fa\",\"codes\",\"cuchkote\",\"diedreo\",\"format\",\"_________________________\",\"usanne\",\"transaminase\",\"merca\",\"tfv\",\"arf<num>\",\"azel\",\"toe\",\"saturation\",\"both\",\"tube\",\"most\",\"fever\",\"proximal\",\"addition\",\"changed\",\"woman\",\"needed\",\"studies\",\"bruits\",\"level\",\"auscultation\",\"jvp\",\"empty\",\"mid\",\"night\",\"volume\",\"document\",\"enzymes\",\"services\",\"about\",\"placement\",\"approximate\",\"pe\",\"escription\",\"stent\",\"dry\",\"asthma\",\"q.i.d.\",\"maintained\",\"so\",\"rehabilitation\",\"foot\",\"repeat\",\"information\",\"fat\",\"wave\",\"applicable\",\"they\",\"see\",\"ruled\",\"limits\",\"final\",\"hr\",\"next\",\"neuro\",\"ankle\",\"moderate\",\"q.a.m.\",\"mibi\",\"nontender\",\"rca\",\"exertion\",\"unable\",\"taking\",\"presents\",\"again\",\"lung\",\"plan\",\"regurgitation\",\"months\",\"cardiomyopathy\",\"return\",\"ck\",\"recommended\",\"milligrams\",\"movement\",\"sugars\",\"unless\",\"diarrhea\",\"cardiologist\",\"body\",\"distal\",\"diastolic\",\"goal\",\"reports\",\"qhs\",\"posterior\",\"depression\",\"check\",\"swelling\",\"demonstrated\",\"day.\",\"orthopnea\",\"q.h.s.\",\"rest\",\"cp\",\"restarted\",\"qpm\",\"transplant\",\"flat\",\"f/u\",\"long\",\"subsequently\",\"grapefruit\",\"bleed\",\"gram\",\"descending\",\"hip\",\"equal\",\"toes\",\"dvt\",\"type\",\"ulcer\",\"risk\",\"included\",\"cholesterol\",\"instructs\",\"ischemic\",\"recently\",\"went\",\"infectious\",\"block\",\"walking\",\"pupils\",\"i\",\"health\",\"internal\",\"consulted\",\"cv\",\"drawn\",\"although\",\"results\",\"doctor\",\"five\",\"vna\",\"ptt\",\"headache\",\"murmurs\",\"diuresed\",\"cxr\",\"stress\",\"fevers\",\"smoking\",\"rehab\",\"currently\",\"hypercholesterolemia\",\"vein\",\"meq\",\"apnea\",\"endocrine\",\"include\",\"increase\",\"having\",\"pending\",\"area\",\"effusion\",\"diagnoses\",\"visual\",\"point\",\"difficulty\",\"chills\",\"hemorrhage\",\"hct\",\"tobacco\",\"hx\",\"therefore\",\"tachycardia\",\"rule\",\"pump\",\"problems\",\"syndrome\",\"qam\",\"denied\",\"light\",\"range\",\"work\",\"followup\",\"pt.\",\"stopped\",\"slightly\",\"+\",\"tel\",\"culture\",\"prophylaxis\",\"july\",\"consistently\",\"transfer\",\"bedtime\",\"exacerbation\",\"<num>-<num>%\",\"november\",\"issues\",\"sublingual\",\"abd\",\"p.m.\",\"inh\",\"speech\",\"femoral\",\"ho\",\"described\",\"bleeding\",\"obstructive\",\"constipation\",\"complicated\",\"?\",\"sensation\",\"trace\",\"few\",\"pressures\",\"consult\",\"peak\"],\"x1\":{\"__ndarray__\":\"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\",\"dtype\":\"float64\",\"shape\":[1800]},\"x2\":{\"__ndarray__\":\"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\",\"dtype\":\"float64\",\"shape\":[1800]}}},\"id\":\"55624891-5bdc-4039-b9d5-2311ef1e9b6a\",\"type\":\"ColumnDataSource\"},{\"attributes\":{\"plot\":{\"id\":\"d9cdb677-5ecc-4660-8bf4-d5c2debd7370\",\"subtype\":\"Figure\",\"type\":\"Plot\"}},\"id\":\"187fa0ef-8e68-46c4-9e53-824861b0af00\",\"type\":\"PanTool\"},{\"attributes\":{\"active_drag\":\"auto\",\"active_scroll\":\"auto\",\"active_tap\":\"auto\",\"tools\":[{\"id\":\"187fa0ef-8e68-46c4-9e53-824861b0af00\",\"type\":\"PanTool\"},{\"id\":\"a0815a72-8072-4cc1-8afb-0c6005c84fb0\",\"type\":\"WheelZoomTool\"},{\"id\":\"42d59a6c-5c28-436a-ac5b-2cf4edcaf540\",\"type\":\"ResetTool\"},{\"id\":\"c271bf22-baa2-405b-a286-04992f8f310b\",\"type\":\"SaveTool\"}]},\"id\":\"b57b35c6-17f6-40d0-8ab7-ca0c85127a47\",\"type\":\"Toolbar\"},{\"attributes\":{\"plot\":null,\"text\":\"word2vec T-SNE for most common words\"},\"id\":\"049b7d12-692e-43de-ba72-cbd753f09ab4\",\"type\":\"Title\"},{\"attributes\":{\"formatter\":{\"id\":\"c057e05d-76f9-4f55-bd09-7f5a49895009\",\"type\":\"BasicTickFormatter\"},\"plot\":{\"id\":\"d9cdb677-5ecc-4660-8bf4-d5c2debd7370\",\"subtype\":\"Figure\",\"type\":\"Plot\"},\"ticker\":{\"id\":\"8e270a64-fc8b-44c6-82c8-ec1a221aabb5\",\"type\":\"BasicTicker\"}},\"id\":\"f8808da1-eede-4e4c-b92b-b503fe2268e5\",\"type\":\"LinearAxis\"},{\"attributes\":{\"plot\":{\"id\":\"d9cdb677-5ecc-4660-8bf4-d5c2debd7370\",\"subtype\":\"Figure\",\"type\":\"Plot\"},\"ticker\":{\"id\":\"8e270a64-fc8b-44c6-82c8-ec1a221aabb5\",\"type\":\"BasicTicker\"}},\"id\":\"48b02d07-356e-4bcb-8504-f8ecfbe39ceb\",\"type\":\"Grid\"},{\"attributes\":{\"data_source\":{\"id\":\"55624891-5bdc-4039-b9d5-2311ef1e9b6a\",\"type\":\"ColumnDataSource\"},\"glyph\":{\"id\":\"458be465-d245-49ac-a00a-b58b037a1817\",\"type\":\"Circle\"},\"hover_glyph\":null,\"muted_glyph\":null,\"nonselection_glyph\":{\"id\":\"db65d694-59b7-47d8-9fc9-e32d1212c23b\",\"type\":\"Circle\"},\"selection_glyph\":null},\"id\":\"ae5bc9e9-15e8-4bd7-aeee-a96a477b8ca9\",\"type\":\"GlyphRenderer\"},{\"attributes\":{\"dimension\":1,\"plot\":{\"id\":\"d9cdb677-5ecc-4660-8bf4-d5c2debd7370\",\"subtype\":\"Figure\",\"type\":\"Plot\"},\"ticker\":{\"id\":\"13373f09-5dbe-4823-bf7d-c34246f6bf83\",\"type\":\"BasicTicker\"}},\"id\":\"44f06776-ba2d-4fe1-acf4-603dfcf4ea5d\",\"type\":\"Grid\"},{\"attributes\":{\"plot\":{\"id\":\"d9cdb677-5ecc-4660-8bf4-d5c2debd7370\",\"subtype\":\"Figure\",\"type\":\"Plot\"},\"source\":{\"id\":\"55624891-5bdc-4039-b9d5-2311ef1e9b6a\",\"type\":\"ColumnDataSource\"},\"text\":{\"field\":\"names\"},\"text_align\":\"center\",\"text_color\":{\"value\":\"#555555\"},\"text_font_size\":{\"value\":\"8pt\"},\"x\":{\"field\":\"x1\"},\"y\":{\"field\":\"x2\"},\"y_offset\":{\"value\":6}},\"id\":\"4b384b0e-ac78-487a-89ae-72f9c0b03e31\",\"type\":\"LabelSet\"},{\"attributes\":{},\"id\":\"8e270a64-fc8b-44c6-82c8-ec1a221aabb5\",\"type\":\"BasicTicker\"},{\"attributes\":{},\"id\":\"13373f09-5dbe-4823-bf7d-c34246f6bf83\",\"type\":\"BasicTicker\"},{\"attributes\":{\"callback\":null},\"id\":\"f4c0c0ce-c26f-4d87-acb3-f3ee21f2dfe7\",\"type\":\"DataRange1d\"},{\"attributes\":{\"below\":[{\"id\":\"f8808da1-eede-4e4c-b92b-b503fe2268e5\",\"type\":\"LinearAxis\"}],\"left\":[{\"id\":\"c4d5606e-f821-4981-9626-5384bd50f152\",\"type\":\"LinearAxis\"}],\"renderers\":[{\"id\":\"f8808da1-eede-4e4c-b92b-b503fe2268e5\",\"type\":\"LinearAxis\"},{\"id\":\"48b02d07-356e-4bcb-8504-f8ecfbe39ceb\",\"type\":\"Grid\"},{\"id\":\"c4d5606e-f821-4981-9626-5384bd50f152\",\"type\":\"LinearAxis\"},{\"id\":\"44f06776-ba2d-4fe1-acf4-603dfcf4ea5d\",\"type\":\"Grid\"},{\"id\":\"ae5bc9e9-15e8-4bd7-aeee-a96a477b8ca9\",\"type\":\"GlyphRenderer\"},{\"id\":\"4b384b0e-ac78-487a-89ae-72f9c0b03e31\",\"type\":\"LabelSet\"}],\"title\":{\"id\":\"049b7d12-692e-43de-ba72-cbd753f09ab4\",\"type\":\"Title\"},\"tool_events\":{\"id\":\"ee9bef7f-be2d-415a-8381-41843a27dbfc\",\"type\":\"ToolEvents\"},\"toolbar\":{\"id\":\"b57b35c6-17f6-40d0-8ab7-ca0c85127a47\",\"type\":\"Toolbar\"},\"toolbar_location\":\"above\",\"x_range\":{\"id\":\"f4c0c0ce-c26f-4d87-acb3-f3ee21f2dfe7\",\"type\":\"DataRange1d\"},\"y_range\":{\"id\":\"4b5c26bf-9f51-4bfb-83ec-8ea7f27fa0ef\",\"type\":\"DataRange1d\"}},\"id\":\"d9cdb677-5ecc-4660-8bf4-d5c2debd7370\",\"subtype\":\"Figure\",\"type\":\"Plot\"},{\"attributes\":{\"plot\":{\"id\":\"d9cdb677-5ecc-4660-8bf4-d5c2debd7370\",\"subtype\":\"Figure\",\"type\":\"Plot\"}},\"id\":\"42d59a6c-5c28-436a-ac5b-2cf4edcaf540\",\"type\":\"ResetTool\"},{\"attributes\":{},\"id\":\"ee9bef7f-be2d-415a-8381-41843a27dbfc\",\"type\":\"ToolEvents\"},{\"attributes\":{\"plot\":{\"id\":\"d9cdb677-5ecc-4660-8bf4-d5c2debd7370\",\"subtype\":\"Figure\",\"type\":\"Plot\"}},\"id\":\"c271bf22-baa2-405b-a286-04992f8f310b\",\"type\":\"SaveTool\"},{\"attributes\":{},\"id\":\"a4c781d1-b2d2-436d-b48b-3426b99122ea\",\"type\":\"BasicTickFormatter\"}],\"root_ids\":[\"d9cdb677-5ecc-4660-8bf4-d5c2debd7370\"]},\"title\":\"Bokeh Application\",\"version\":\"0.12.5\"}};\n",
       "            var render_items = [{\"docid\":\"4892e720-7bf1-4190-b85f-e7c3df58e336\",\"elementid\":\"10e601d6-4e8d-4321-9d07-fc92da83ee2f\",\"modelid\":\"d9cdb677-5ecc-4660-8bf4-d5c2debd7370\"}];\n",
       "            \n",
       "            Bokeh.embed.embed_items(docs_json, render_items);\n",
       "          };\n",
       "          if (document.readyState != \"loading\") fn();\n",
       "          else document.addEventListener(\"DOMContentLoaded\", fn);\n",
       "        })();\n",
       "      },\n",
       "      function(Bokeh) {\n",
       "      }\n",
       "    ];\n",
       "  \n",
       "    function run_inline_js() {\n",
       "      \n",
       "      if ((window.Bokeh !== undefined) || (force === true)) {\n",
       "        for (var i = 0; i < inline_js.length; i++) {\n",
       "          inline_js[i](window.Bokeh);\n",
       "        }if (force === true) {\n",
       "          display_loaded();\n",
       "        }} else if (Date.now() < window._bokeh_timeout) {\n",
       "        setTimeout(run_inline_js, 100);\n",
       "      } else if (!window._bokeh_failed_load) {\n",
       "        console.log(\"Bokeh: BokehJS failed to load within specified timeout.\");\n",
       "        window._bokeh_failed_load = true;\n",
       "      } else if (force !== true) {\n",
       "        var cell = $(document.getElementById(\"10e601d6-4e8d-4321-9d07-fc92da83ee2f\")).parents('.cell').data().cell;\n",
       "        cell.output_area.append_execute_result(NB_LOAD_WARNING)\n",
       "      }\n",
       "  \n",
       "    }\n",
       "  \n",
       "    if (window._bokeh_is_loading === 0) {\n",
       "      console.log(\"Bokeh: BokehJS loaded, going straight to plotting\");\n",
       "      run_inline_js();\n",
       "    } else {\n",
       "      load_libs(js_urls, function() {\n",
       "        console.log(\"Bokeh: BokehJS plotting callback run at\", now());\n",
       "        run_inline_js();\n",
       "      });\n",
       "    }\n",
       "  }(this));\n",
       "</script>"
      ]
     },
     "metadata": {},
     "output_type": "display_data"
    }
   ],
   "source": [
    "p = figure(tools=\"pan,wheel_zoom,reset,save\",\n",
    "           toolbar_location=\"above\",\n",
    "           title=\"word2vec T-SNE for most common words\")\n",
    "\n",
    "source = ColumnDataSource(data=dict(x1=words_tsne[:,0],\n",
    "                                    x2=words_tsne[:,1],\n",
    "                                    names=visualisation,\n",
    "                                    coloring=colormap))\n",
    "\n",
    "p.scatter(x=\"x1\", y=\"x2\", color=\"coloring\", size=8, source=source)\n",
    "\n",
    "labels = LabelSet(x=\"x1\", y=\"x2\", text=\"names\", y_offset=6,\n",
    "                  text_font_size=\"8pt\", text_color=\"#555555\",\n",
    "                  source=source, text_align='center')\n",
    "p.add_layout(labels)\n",
    "\n",
    "show(p)"
   ]
  },
  {
   "cell_type": "code",
   "execution_count": null,
   "metadata": {
    "collapsed": true
   },
   "outputs": [],
   "source": []
  },
  {
   "cell_type": "code",
   "execution_count": null,
   "metadata": {
    "collapsed": true
   },
   "outputs": [],
   "source": []
  }
 ],
 "metadata": {
  "anaconda-cloud": {},
  "kernelspec": {
   "display_name": "Python [conda env:tensorflow]",
   "language": "python",
   "name": "conda-env-tensorflow-py"
  },
  "language_info": {
   "codemirror_mode": {
    "name": "ipython",
    "version": 3
   },
   "file_extension": ".py",
   "mimetype": "text/x-python",
   "name": "python",
   "nbconvert_exporter": "python",
   "pygments_lexer": "ipython3",
   "version": "3.5.3"
  }
 },
 "nbformat": 4,
 "nbformat_minor": 2
}
