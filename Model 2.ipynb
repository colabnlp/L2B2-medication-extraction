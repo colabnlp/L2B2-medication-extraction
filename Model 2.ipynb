{
 "cells": [
  {
   "cell_type": "code",
   "execution_count": 1,
   "metadata": {
    "collapsed": true
   },
   "outputs": [],
   "source": [
    "import numpy as np\n",
    "import re\n",
    "import random\n",
    "import itertools\n",
    "import datetime\n",
    "\n",
    "import tensorflow as tf\n",
    "import sklearn as sk\n",
    "\n",
    "import Functions as fn\n",
    "from DS import DS\n",
    "from Set import pool\n",
    "from Iterator import Iterator\n",
    "from FFModel import FF_Model"
   ]
  },
  {
   "cell_type": "markdown",
   "metadata": {},
   "source": [
    "# Data Loading"
   ]
  },
  {
   "cell_type": "code",
   "execution_count": 2,
   "metadata": {},
   "outputs": [
    {
     "name": "stdout",
     "output_type": "stream",
     "text": [
      "Raw Text Load Complete\n",
      "Raw Labels Load Complete\n"
     ]
    }
   ],
   "source": [
    "Dataset = pool()\n",
    "Dataset.load_texts('raw_texts')\n",
    "Dataset.load_labels('raw_labels')"
   ]
  },
  {
   "cell_type": "code",
   "execution_count": 3,
   "metadata": {
    "scrolled": true,
    "slideshow": {
     "slide_type": "notes"
    }
   },
   "outputs": [
    {
     "name": "stdout",
     "output_type": "stream",
     "text": [
      "Label Load Complete\n"
     ]
    }
   ],
   "source": [
    "target_dict = fn.load_labels('labels')"
   ]
  },
  {
   "cell_type": "markdown",
   "metadata": {},
   "source": [
    "# Embedding Generation"
   ]
  },
  {
   "cell_type": "code",
   "execution_count": 4,
   "metadata": {},
   "outputs": [
    {
     "name": "stderr",
     "output_type": "stream",
     "text": [
      "C:\\Users\\Luka\\Anaconda3\\envs\\tensorflow\\lib\\site-packages\\gensim\\utils.py:860: UserWarning: detected Windows; aliasing chunkize to chunkize_serial\n",
      "  warnings.warn(\"detected Windows; aliasing chunkize to chunkize_serial\")\n"
     ]
    },
    {
     "name": "stdout",
     "output_type": "stream",
     "text": [
      "Sentence Load Complete\n"
     ]
    }
   ],
   "source": [
    "from gensim.models import Word2Vec\n",
    "sentences = fn.load_sentences('sentences')"
   ]
  },
  {
   "cell_type": "code",
   "execution_count": 5,
   "metadata": {
    "collapsed": true
   },
   "outputs": [],
   "source": [
    "#model = Word2Vec(sentences, min_count=1, size=100)\n",
    "#model.save('W2V')"
   ]
  },
  {
   "cell_type": "code",
   "execution_count": 6,
   "metadata": {
    "collapsed": true
   },
   "outputs": [],
   "source": [
    "model = Word2Vec.load('W2V')\n",
    "vocab = model.wv.vocab.keys()"
   ]
  },
  {
   "cell_type": "markdown",
   "metadata": {},
   "source": [
    "# FFNN Testing"
   ]
  },
  {
   "cell_type": "code",
   "execution_count": 75,
   "metadata": {
    "collapsed": true
   },
   "outputs": [],
   "source": [
    "train_cases = pool((Dataset.get_DS(labelled='yes')).data[:50])\n",
    "validation_cases = pool(Dataset.get_DS(labelled='yes').data[-50:-25])\n",
    "test_cases = pool(Dataset.get_DS(labelled='yes').data[-25:])\n",
    "\n",
    "train_cases.process_for_testing()\n",
    "validation_cases.process_for_testing()\n",
    "test_cases.process_for_testing()"
   ]
  },
  {
   "cell_type": "raw",
   "metadata": {
    "collapsed": true
   },
   "source": [
    "train_cases = pool((Dataset.get_DS(stage='test', labelled='yes')).data[:-25])\n",
    "validation_cases = pool(Dataset.get_DS(stage='test', labelled='yes').data[-25:])\n",
    "test_cases = Dataset.get_DS(stage='train', labelled='yes')\n",
    "\n",
    "train_cases.process_for_testing()\n",
    "validation_cases.process_for_testing()\n",
    "test_cases.process_for_testing()"
   ]
  },
  {
   "cell_type": "code",
   "execution_count": 76,
   "metadata": {
    "collapsed": true
   },
   "outputs": [],
   "source": [
    "sets = {}\n",
    "sets['train_set'], sets['train_labels'], _ = train_cases.get_ff_sets(model)\n",
    "sets['validation_set'], sets['validation_labels'], _ = validation_cases.get_ff_sets(model)\n",
    "sets['test_set'], sets['test_labels'], sets['test_words'] = test_cases.get_ff_sets(model)"
   ]
  },
  {
   "cell_type": "raw",
   "metadata": {
    "collapsed": true
   },
   "source": [
    "print('Ratio: med: {:.2f}% non-med: {:.2f}%'.format(*(np.array(sets['train_labels']).sum(0)/ len(sets['train_labels']))))\n",
    "fn.saturate_training_set_labels(sets, model, target_dict['medications'], 0.1)\n",
    "print('Ratio: med: {:.2f}% non-med: {:.2f}%'.format(*(np.array(sets['train_labels']).sum(0)/ len(sets['train_labels']))))"
   ]
  },
  {
   "cell_type": "code",
   "execution_count": 77,
   "metadata": {},
   "outputs": [
    {
     "name": "stdout",
     "output_type": "stream",
     "text": [
      "Ratio: med: 0.03% non-med: 0.97%\n",
      "Ratio: med: 0.12% non-med: 0.88%\n"
     ]
    }
   ],
   "source": [
    "print('Ratio: med: {:.2f}% non-med: {:.2f}%'.format(*(np.array(sets['train_labels']).sum(0)/ len(sets['train_labels']))))\n",
    "fn.saturate_training_set_training(sets['train_set'], sets['train_labels'], 0.1)\n",
    "print('Ratio: med: {:.2f}% non-med: {:.2f}%'.format(*(np.array(sets['train_labels']).sum(0)/ len(sets['train_labels']))))"
   ]
  },
  {
   "cell_type": "code",
   "execution_count": 78,
   "metadata": {},
   "outputs": [
    {
     "name": "stdout",
     "output_type": "stream",
     "text": [
      "Progress: 100%\r"
     ]
    },
    {
     "data": {
      "image/png": "[encoded data removed]",
      "text/plain": [
       "<matplotlib.figure.Figure at 0x15a1821ef98>"
      ]
     },
     "metadata": {},
     "output_type": "display_data"
    },
    {
     "name": "stdout",
     "output_type": "stream",
     "text": [
      "FInal Values: TrAcc: 0.965, ValAcc: 0.952, ValF1: 0.565\n",
      "Test F1-Score: 0.603\n",
      "\n"
     ]
    }
   ],
   "source": [
    "NN = FF_Model(layers=[50])\n",
    "NN.build_graph()\n",
    "_,_,_,_ = NN.train(sets, epochs=5, batch=50, show_plot=True, show_progress=True)"
   ]
  },
  {
   "cell_type": "code",
   "execution_count": 79,
   "metadata": {
    "collapsed": true
   },
   "outputs": [],
   "source": [
    "res = NN.predict(sets['test_set'])\n",
    "tru = np.argmax(sets['test_labels'], 1)"
   ]
  },
  {
   "cell_type": "code",
   "execution_count": 80,
   "metadata": {},
   "outputs": [
    {
     "name": "stdout",
     "output_type": "stream",
     "text": [
      "TP\tTN\tFP\tFN\n",
      "666\t26972\t803\t73\n"
     ]
    }
   ],
   "source": [
    "TP = len([a for a in range(len(tru)) if (res[a] == 0) and (tru[a] == 0)])\n",
    "TN = len([a for a in range(len(tru)) if (res[a] == 1) and (tru[a] == 1)])\n",
    "FP = len([a for a in range(len(tru)) if (res[a] == 0) and (tru[a] == 1)])\n",
    "FN = len([a for a in range(len(tru)) if (res[a] == 1) and (tru[a] == 0)])\n",
    "TFPN = [TP, TN, FP, FN]\n",
    "print('TP\\tTN\\tFP\\tFN\\n{}\\t{}\\t{}\\t{}'.format(*TFPN))"
   ]
  },
  {
   "cell_type": "code",
   "execution_count": 81,
   "metadata": {},
   "outputs": [
    {
     "name": "stdout",
     "output_type": "stream",
     "text": [
      "motrin, motrin, prednisone, tylenol, discontinuing, steroids, plaquenil, prednisone, prednisone, plaquenil, dilantin, iron, naprosyn, plaquenil, motrin, prednisone, dilantin, folate, iron, sulfate, ointment, dilantin, prednisone, plaquenil, plaquenil, prednisone, folate, iron, plaquenil, prednisone, dilantin, motrin, carafate, iron, folate, sodium, potassium, chloride, capsule, conservatively, heparin, lopressor, captopril, cozaar, heparin, atrovent, nebs, fluids, fluids, g, ), (, ), (, ), (, ), (, ), (, ), nebulizers, hctz, rx, prn., (, ), (, ), qam;, (, plavix, (, clopidogrel, ), psyllium, toprol, xl, (, metoprolol, (, sust, rel., ), ), lasix, (, furosemide, ), famotidine, sodium, ), (, ), (, ), (, ), (, ), (, ), (, ), (, ), (, ), ntg, plavix, xl, (, (, ), iron, sodium, potassium, (, ), (, ), (, ), temporarily, insulin, lisinopril, metformin, sodium, potassium, chloride, nasal, cannula, portland, nasal, cannula, calories, soap, ibuprofen, lopressor, niferex, simvastatin, k-dur, fluticasone, levofloxacin, insulin, insulin, insulin, celexa, combivent, nexium, lantus, insulin, elixir, ), (, ), (, ), (, ), (, ), (, (, ), (, ), azithromycin, aspirin, ), (, ), (, ), (, ), (, ), (, ), (, ), (, ), (, ), (, ), (, ), (, ), potassium, sublinguals, potassium, potassium, iron, vitamin, b-<num>, folate, pepcid, metoprolol, nitroglycerin, iron, (, (, sodium, ), (, ), (, ), (, ), (, ), (, ), (, ), (, ), (, ), oral, (, ), neb, (, ), qam;, lisinopril, potassium, chloride, lisinopril, zocor, (, simvastatin, ), flovent, (, fluticasone, propionate, ), combivent, (, ipratropium, albuterol, sulfate, ), sodium, aspirin, ), insulin, (, (, ), (, ), blocker, (, ), aspirin, (, ), lisinopril, insulin, nph, insulin, inhalers, lisinopril, slow, statin, beta, blocker, (, atenolol, ), ace, inhibitor, (, lisinopril, ), (, ), monthly, lidocaine, lisinopril, diltiazem, nifedipine, nasal, cannula, sodium, potassium, chloride, calcium, genitourinary, antimicrobial, antimicrobial, p.o, tears, (, ), (, ), sodium, potassium, chloride, bicarbonate, calcium, aspirin, tylenol, benzodiazepine, (, ), atropine, tears, sub-q., (, ), basis, pills, (, ), (, ), (, ), qam;, cozaar, (, losartan, ), (, protonix, (, pantoprazole, ), sodium, ), (, ), (, ), (, ), (, ), (, ), (, ), (, ), (, ), ), (, ), beta, blocker, asa, ace, cozaar, beta, blocker, atenolol, ns, bolus, insulin, insulin, lantus, insulin, insulin, insulin, reglan, coumadin, coumadin, nexium, insulin, insulin, insulin, metoprolol, lisinopril, cozaar, atenolol, reglan, (, ), basis, (, ), (, ), (, ), (, ), (, ), (, ), mvi, therapeutic, (, ), (, (, qam;, prednisone, ), ), ), ), ), ), ), (, ), combivent, (, ipratropium, albuterol, sulfate, ), sodium, ), (, ), azithromycin, levofloxacin, atenolol, hctz, felodipine, zocor, asa, advair, combivent, loratidine, morphine, percocet, quinine, sulfate, colace, senna, elavil, ), duonebs, steroids, ), lasix, ), oral, flora, antibiotics, ), steroids, ), ), morphine, oxycodone, elavil, lovenox, combivent, inhalers, steroid, (, hctz, ), lasix, lasix, slow, prednisone, lasix, ace, inhibitor, (, ), sodium, potassium, chloride, oral, sodium, potassium, chloride, magnesium, antibiotic, inhalers, p.o, p.o, bun/creatinine, <num>/<num>.<num>, amiodarone, blockade, glyburide, insulin, glyburide, lasix, amiodarone, lisinopril, tapazole, zantac, coumadin, bactrim, glyburide, lasix, atenolol, diltiazem, cd, neb, od, neb, atenolol, advair, diskus, (, fluticasone, propionate/..., ), hydrochlorothiazide, miconazole, nitrate, powder, (, ), sodium, ), otitis, (, ), nebulizer, labetalol, asa, nexium, albuterol, neb, zofran, hctz, asa, beta, blocker, statin, statin, hctz, lopressor, hctz, atenolol, advair, nebs, atc, prednisone, lovenox, (, ), ), hydrochlorothiazide, atenolol, aspirin, ), ), (, ), ), ), ), ), statin, (, ), (, ), porcine, porcine, soap, p.o, lisinopril, coumadin, omeprazole, metformin, insulin, calcium, magnesium, multivitamin, iron, tablets, artificial, sodium, potassium, chloride, bicarbonate, lasix, lasix, basis, p.o, lasix, lasix, beta-blocker, digoxin, diltiazem, nebulizers, ppi, nexium, nexium, nexium, omeprazole, colace, senokot, packed, heparin, lovenox, lovenox, nph, nph, prescriptions, delayed, levaquin, antibiotics, perioperative, antibiotics, ceftriaxone, g, antibiotic, fluids, diltiazem, colace, lasix, nph, nph, lisinopril, senokot, tablets, multivitamin, lovenox, caltrate, vitamin, maalox, tablets, quick, magnesium, oxide, omeprazole, niferex, antibiotic, ), (, ), heparin, (, ), (, ), milk, antacid, potassium, chloride, (, ), (, ), (, ), (, ), sodium, ), (, ), (, ), (, ), (, ), (, ), (, ), (, ), (, ), (, ), (, ), (, ), (, ), (, ), (, ), ), rx, metolazone, metoprolol, succinate, extended, release, (, toprol, xl, ), multivitamins, (, ), pravastatin, torsemide, warfarin, sodium, (, coumadin, ), rx, asa, statin, lasix, metolazone, torsemide, metolazone, torsemide, torsemide, metolazone, diuretics, rx, torsemide, ), coumadin, coumadin, coumadin, ), ctx, azithromycin, levo, (, levo, ), (, levo, ), levofloxacin, azithromycin, loperamide, ), rx, lantus, insulin, rx, rx, allopurinol, antibiotics, levofloxacin, tessalon, perels, <num>ml, loperamide, coumadin, rx, coumadin, (, ), (, ), insulin, insulin, insulin, lasix, atenolol, prednisone, cellcept, sodium, potassium, chloride, bicarbonate, calcium, insulin, (, ), lopressor, verapamil, atenolol, beta, blockade, verapamil, bolus, fluids, simvastatin, gemfibrozil, aspirin, vitamin, epogen, lasix, gemfibrozil, lisinopril, prilosec, prednisone, mvi, minerals, thiamine, cyclosporine, cellcept, nephrocaps\n"
     ]
    }
   ],
   "source": [
    "print(', '.join([sets['test_words'][a] for a in range(len(sets['test_words'])) if res[a] == 0 and tru[a] == 1]))"
   ]
  },
  {
   "cell_type": "code",
   "execution_count": 83,
   "metadata": {
    "scrolled": false
   },
   "outputs": [
    {
     "name": "stdout",
     "output_type": "stream",
     "text": [
      "record #<num> <num> | reh | <num> | | <num> | <num>/<num>/<num> <num>:<num>:<num> am | discharge summary | unsigned | dis | admission date <num>/<num>/<num> report status unsigned discharge date <num>/<num>/<num> history of present illness this is a <num> year old wark na bo female with a history of discoid lupus and pericarditis , who presents with severe substernal chest pain after having prednisone and plaquenil discontinued she first developed discoid lupus in <num> she subsequently over the years developed arthralgias of various joints , was treated with aspirin , \u001b[41mMOTRIN\u001b[49m and steroids in <num> , she developed pleuritic substernal chest pain she was diagnosed at westten hospital with pericarditis and underwent pericardiocentesis in <num> , she was seen at the arthritis clinic by dr goerlitz , who noted a discoid lupus on examination , a mild anemia , sedimentation rate <num> , ch-<num> <num> , vna positive at <num>:<num> , positive anti-double-stranded dna and <num>+ positive smith/anti-smith antibody she was treated with plaquenil <num> bid , plus aspirin and naprosyn in <num> of may , she was diagnosed with a lupus flare and was put on prednisone <num> q am she did well and in <num> of march the steroids were tapered off and discontinued however , she presented with substernal chest pain at that time and had her prednisone restarted she was put on another prednisone taper in <num> of may , she had a negative brain magnetic resonance imaging in <num> of october , she had an echocardiogram which showed pericardial thickening without evidence of constriction consistent with prior pericarditis over the following several months , she had occasional flares because of medical noncompliance she was put on plaquenil <num> bid , which was increased to tid , and \u001b[41mMOTRIN\u001b[49m <num> bid in <num> of january , she again came to the emergency room with substernal chest pain and a mild pulsus paradoxus , no jugular venous distention an electrocardiogram was without change chest x-ray showed slight increase in the heart size she was placed on \u001b[41mPREDNISONE\u001b[49m <num> q day , \u001b[41mTYLENOL\u001b[49m with codeine and did well on <num> of january , she was seen in the clinic and had substernal chest pain consistent with pericardial pain , dyspnea on exertion , increased arthralgias secondary to \u001b[41mDISCONTINUING\u001b[49m her \u001b[41mSTEROIDS\u001b[49m at that time , she had her \u001b[41mPLAQUENIL\u001b[49m and \u001b[41mPREDNISONE\u001b[49m restarted over the last <num> weeks prior to admission she noticed that the \u001b[41mPREDNISONE\u001b[49m and \u001b[41mPLAQUENIL\u001b[49m increased stomachaches and she stopped the medication over the last <num> days prior to admission , she has had increasing dyspnea on exertion and substernal chest pain , which is sharp , increases with cough or deep breaths she denied any orthopnea or paroxysmal nocturnal dyspnea , palpitations or syncope she has no nausea , vomiting , fevers , chills or melena she does have increasing joint pain past medical history revealed seizure disorder with \u001b[41mDILANTIN\u001b[49m , hypothyroidism treated with l-thyroxine , \u001b[41mIRON\u001b[49m deficiency anemia without prior work-up , thoracic spine compression\n"
     ]
    }
   ],
   "source": [
    "import colorama as col\n",
    "\n",
    "out = []\n",
    "for a in range(len(sets['test_words'][:500])):\n",
    "    if res[a] == 0 and tru[a] == 1:\n",
    "        out.append(col.Back.RED + sets['test_words'][a].upper() + col.Back.RESET)\n",
    "    else:\n",
    "        out.append(sets['test_words'][a])\n",
    "        \n",
    "print(' '.join(out))"
   ]
  },
  {
   "cell_type": "code",
   "execution_count": 84,
   "metadata": {
    "collapsed": true
   },
   "outputs": [],
   "source": [
    "proba = []\n",
    "for i in range(len(res)):\n",
    "    if not (sets['test_words'][i] == ')' or sets['test_words'][i] == '('):\n",
    "        proba.append([sets['test_words'][i], res[i], tru[i]])"
   ]
  },
  {
   "cell_type": "code",
   "execution_count": 85,
   "metadata": {},
   "outputs": [
    {
     "data": {
      "text/plain": [
       "0.65634306134603926"
      ]
     },
     "execution_count": 85,
     "metadata": {},
     "output_type": "execute_result"
    }
   ],
   "source": [
    "sk.metrics.f1_score(np.array(proba)[:,2].astype(int), np.array(proba)[:,1].astype(int), pos_label=0, average='binary')"
   ]
  },
  {
   "cell_type": "code",
   "execution_count": 86,
   "metadata": {},
   "outputs": [
    {
     "name": "stdout",
     "output_type": "stream",
     "text": [
      "TP\tTN\tFP\tFN\n",
      "551\t26972\t504\t73\n"
     ]
    }
   ],
   "source": [
    "TP = len([a for a in range(len(proba)) if (proba[a][1] == 0) and (proba[a][2] == 0)])\n",
    "TN = len([a for a in range(len(proba)) if (proba[a][1] == 1) and (proba[a][2] == 1)])\n",
    "FP = len([a for a in range(len(proba)) if (proba[a][1] == 0) and (proba[a][2] == 1)])\n",
    "FN = len([a for a in range(len(proba)) if (proba[a][1] == 1) and (proba[a][2] == 0)])\n",
    "TFPN = [TP, TN, FP, FN]\n",
    "print('TP\\tTN\\tFP\\tFN\\n{}\\t{}\\t{}\\t{}'.format(*TFPN))"
   ]
  },
  {
   "cell_type": "raw",
   "metadata": {
    "collapsed": true
   },
   "source": [
    "[(proba[a][0], proba[a][1], proba[a][2]) for a in range(len(proba)) if proba[a][1] == 1 and proba[a][2] == 0]"
   ]
  },
  {
   "cell_type": "code",
   "execution_count": 45,
   "metadata": {
    "collapsed": true
   },
   "outputs": [],
   "source": [
    "train_cases = pool((Dataset.get_DS(stage='test', labelled='yes')).data[:-25])\n",
    "validation_cases = pool(Dataset.get_DS(stage='test', labelled='yes').data[-25:])\n",
    "test_cases = Dataset.get_DS(stage='train', labelled='yes')\n",
    "\n",
    "train_cases.process_for_testing()\n",
    "validation_cases.process_for_testing()\n",
    "test_cases.process_for_testing()"
   ]
  },
  {
   "cell_type": "code",
   "execution_count": 46,
   "metadata": {
    "collapsed": true
   },
   "outputs": [],
   "source": [
    "sets = {}\n",
    "sets['train_set'], sets['train_labels'], _ = train_cases.get_ff_sets(model)\n",
    "sets['validation_set'], sets['validation_labels'], _ = validation_cases.get_ff_sets(model)\n",
    "sets['test_set'], sets['test_labels'], sets['test_words'] = test_cases.get_ff_sets(model)"
   ]
  },
  {
   "cell_type": "raw",
   "metadata": {
    "collapsed": true
   },
   "source": [
    "print('Ratio: med: {:.2f}% non-med: {:.2f}%'.format(*(np.array(sets['train_labels']).sum(0)/ len(sets['train_labels']))))\n",
    "fn.saturate_training_set_labels(sets, model, target_dict['medications'], 0.1)\n",
    "print('Ratio: med: {:.2f}% non-med: {:.2f}%'.format(*(np.array(sets['train_labels']).sum(0)/ len(sets['train_labels']))))"
   ]
  },
  {
   "cell_type": "code",
   "execution_count": 47,
   "metadata": {},
   "outputs": [
    {
     "name": "stdout",
     "output_type": "stream",
     "text": [
      "Ratio: med: 0.03% non-med: 0.97%\n",
      "Ratio: med: 0.11% non-med: 0.89%\n"
     ]
    }
   ],
   "source": [
    "print('Ratio: med: {:.2f}% non-med: {:.2f}%'.format(*(np.array(sets['train_labels']).sum(0)/ len(sets['train_labels']))))\n",
    "fn.saturate_training_set_training(sets['train_set'], sets['train_labels'], 0.1)\n",
    "print('Ratio: med: {:.2f}% non-med: {:.2f}%'.format(*(np.array(sets['train_labels']).sum(0)/ len(sets['train_labels']))))"
   ]
  },
  {
   "cell_type": "code",
   "execution_count": 48,
   "metadata": {},
   "outputs": [
    {
     "name": "stdout",
     "output_type": "stream",
     "text": [
      "Progress: 100%\r"
     ]
    },
    {
     "data": {
      "image/png": "[encoded data removed]",
      "text/plain": [
       "<matplotlib.figure.Figure at 0x15a14979630>"
      ]
     },
     "metadata": {},
     "output_type": "display_data"
    },
    {
     "name": "stdout",
     "output_type": "stream",
     "text": [
      "FInal Values: TrAcc: 0.960, ValAcc: 0.974, ValF1: 0.627\n",
      "Test F1-Score: 0.687\n",
      "\n"
     ]
    }
   ],
   "source": [
    "NN = FF_Model(layers=[50])\n",
    "NN.build_graph()\n",
    "_,_,_,_ = NN.train(sets, epochs=5, batch=50, show_plot=True, show_progress=True)"
   ]
  },
  {
   "cell_type": "code",
   "execution_count": 49,
   "metadata": {
    "collapsed": true
   },
   "outputs": [],
   "source": [
    "res = NN.predict(sets['test_set'])\n",
    "tru = np.argmax(sets['test_labels'], 1)"
   ]
  },
  {
   "cell_type": "code",
   "execution_count": 50,
   "metadata": {},
   "outputs": [
    {
     "name": "stdout",
     "output_type": "stream",
     "text": [
      "TP\tTN\tFP\tFN\n",
      "376\t10437\t301\t42\n"
     ]
    }
   ],
   "source": [
    "TP = len([a for a in range(len(tru)) if (res[a] == 0) and (tru[a] == 0)])\n",
    "TN = len([a for a in range(len(tru)) if (res[a] == 1) and (tru[a] == 1)])\n",
    "FP = len([a for a in range(len(tru)) if (res[a] == 0) and (tru[a] == 1)])\n",
    "FN = len([a for a in range(len(tru)) if (res[a] == 1) and (tru[a] == 0)])\n",
    "TFPN = [TP, TN, FP, FN]\n",
    "print('TP\\tTN\\tFP\\tFN\\n{}\\t{}\\t{}\\t{}'.format(*TFPN))"
   ]
  },
  {
   "cell_type": "code",
   "execution_count": 51,
   "metadata": {},
   "outputs": [
    {
     "name": "stdout",
     "output_type": "stream",
     "text": [
      "codeine, (, ), sodium, potassium, chloride, magnesium, sodium, potassium, chloride, magnesium, q.a.c, inhibitor, tylenol, analgesics, insulin, ophthalmologic, (, (, hep, (, ), micro, (, (, (, (, ), (, ), (, ), ), sedation, (, ), antibiotics, ), (, ), ), coumadin, ), gemfibrozil, lipitor, aspirin, ), insulin, ), ), (, ), <num>-<num>;, caffeine, (, ), (, ), (, ), (, ), (, ), (, ), (, ), morphine, toxoid, sodium, potassium, chloride, calcium, magnesium, (, ), digoxin, digoxin, amiodarone, heparin, coumadin, heparin, iron, amiodarone, captopril, clonazepam, klonopin, digoxin, lasix, glipizide, levothyroxine, sodium, magnesium, oxide, lopressor, nitroglycerin, (, ), coumadin, simvastatin, isosorbide, mononitrate-sr, depakote, depakote, haldol, ceftriaxone, flagyl, flagyl, ensuring, lantus, aspart, aspart, aspart, insulin, aspart, antibiotics, ceftriaxone, flagyl, flagyl, rx, insulin, phoslo, depakote, folate, haldol, labetalol, lisinopril, flagyl, thiamine, norvasc, gabapentin, nephrocaps, sevelamer, advair, nexium, lantus, aspart, aspart, albuterol, paste, topical, tylenol, albuterol, inhaler, haldol, loperamide, penicillin, aspirin, simvastatin, atenolol, lisinopril, nifedipine, extended, release, lasix, lasix, metformin, nph, atenolol, hydrochlorothiazide, lisinopril, nifedipine, extended, release, metformin, nph, simvastatin, aspirin, lasix, (, ), topical, (, ), (, ), hcl, branden, (, ), topical, (, ), (, ), (, ), (, ), (, ), (, ), (, ), (, ), (, ), atopic, (, ), (, ), ), ), ), ), riss, ), ), ), (, gd<num>, ), (, ), (, ), (, ), quinine, aspirin, ), (, ), (, ), (, ), (, ), (, ), (, ), (, ), (, ), (, ), (, ), (, ), (, ), (, ), sustained, held., <num>.<num>-<num>, (, ), mbch, (, ), stuart, (, ), motrin, (, ), (, (, ), (, ), (, ), spray, (, sodium, broccoli, aspirin, ), (, ), (, ), (, ), sprays, (, ), <num>meq, aspirin, broccoli, (, ), (, (, ), (, ), ppi, (, dl<num>, )\n"
     ]
    }
   ],
   "source": [
    "print(', '.join([sets['test_words'][a] for a in range(len(sets['test_words'])) if res[a] == 0 and tru[a] == 1]))"
   ]
  },
  {
   "cell_type": "code",
   "execution_count": 63,
   "metadata": {
    "scrolled": false
   },
   "outputs": [
    {
     "name": "stdout",
     "output_type": "stream",
     "text": [
      "record #<num> <num> | tmh | <num> | | <num> | <num>/<num>/<num> <num>:<num>:<num> am | discharge summary | signed | dis | admission date <num>/<num>/<num> report status signed discharge date <num>/<num>/<num> history ms pizzo is a <num>-year-old woman with peripheral vascular disease who recently underwent revision of her left superior femoral artery anterior tibial bypass graft , who now presents with a cool , ischemic left foot mr denman is a <num>-year-old , insulin-dependent diabetic with a long history of peripheral vascular disease as well as multiple surgical procedures she underwent a right transmetatarsal amputation in <num> and subsequently underwent a right femorla distal saphenous vein bypass graft in <num> which was later revised in <num> she seems to be doing well with the left side until july of this year , at which time she underwent a left superficial femoral artery to anterior tibial artery bypass using non-reversed basilic vein harvested from the right arm she , however , had a large great toe ulcer , possibly attributed to hammertoe , which subsequently underwent a left great toe amputation performed on the <num> of october after this time , she was discharged to the nut hospital in amore pu , where she was making progress in physical therapy and rehabilitation on the day prior to admission , she was exercising with <num> pound weights on her legs with the physical therapist when she described a cool sensation in her foot she reported that her foot had been blue , and there were no dopplerable pulses color later returned the absence of pulses persisted over the course of the night , after which point she was referred back to largrine medical center for evaluation she denies any significant pain or any other complications past medical history remarkable for history of insulin-dependent diabetes , history of coronary artery disease , history of hypertension , cataracts , mrsa from her toe wound on the <num> of september past surgical history notable for the above , as well as debridements of her toe amputation wound site admission medications colace <num> mg b.i.d. , insulin lente <num> units subcu q p.m. supplemented by sliding scale regular insulin scale , isordil <num> mg t.i.d. , zestril <num> mg q d , lopressor <num> mg b.i.d. , axid <num> mg b.i.d. , ofloxacin <num> mg p.o. q <num> , ecotrin <num> mg q d , vancomycin <num> mg q <num> she reports an allergy to \u001b[41mCODEINE\u001b[49m and iodine admission examination remarkable for the following findings she was afebrile , heart rate <num> , blood pressure <num>/<num> her right lower extremity was characterized by a well-healed transmetatarsal amputation site the foot was warm and pink the left side , however , was cool in comparison , although remained pink with adequate capillary refill both femoral pulses were easily palpable , as well as dorsal pedal pulse on the right her right posterior tibial pulse was additionally biphasic by doppler on the left , she had a biphasic doppler graft pulse and dorsopedal , although she had no identifiable posterior tibial pulse the remainder of the examination was unremarkable admission labs were likewise unremarkable hospital course mr bulger was admitted and placed on intravenous heparin until the following morning , at which time she proceeded to the angiography suite she was found to have two <num>% stenosis in a long segment of the left sfa and the left distal sfa and anterior tibial vein graft was completely thrombosed she was successfully treated with stent placement and received heparin and urokinase in the intensive care unit overnight with a turn-over pulses of the left leg doppler the following day , her stents were removed during the remainder of the hospital course , her left foot remained pink and warm her wound had an infection of exposed bone , but otherwise appeared to be granulating well although left transmetatarsal amputation being considered , it was felt that she had a good chance of healing the wound appropriately she had a single temperature spike , although all cultures remained negative she had continuation of her heparin while she was started on a course of coumadin to reserve patency of her graft the remainder of the hospital course was unremarkable on the <num> of july , she was discharged back to the rose-walt hospital in coln discharge medications vancomycin <num> mg iv q d , ofloxacin <num> mg p.o. b.i.d. \u001b[41m(\u001b[49m both antibiotics to continue for an additional two week course \u001b[41m)\u001b[49m , coumadin with target inr of <num>.<num> , last target <num>.<num> , then received <num> mg in evening x <num> additionally , percocet <num>-<num> tablets p.o. q <num> prn , colace <num> mg p.o b.i.d. , insulin nph <num> units subcu b.i.d. , sliding scale insulin subcu q <num> , isordil <num> mg t.i.d. , zestril <num> mg q d , lopressor <num> mg b.i.d. , axid <num> mg p.o. b.i.d she will follow with dr noah in one to two weeks dictated by renaldo t dinsmore , m.d wr<num> attending kelley bruess , m.d ji<num> up<num>/<num> batch <num> index no k<num>emi<num>g<num>n d <num>/<num>/<num> t <num>/<num>/<num> [report_end] record #<num> <num> | gh | <num> | | <num> | <num>/<num>/<num> <num>:<num>:<num> am | aortic stenosis | signed | dis | admission date <num>/<num>/<num> report status signed discharge date <num>/<num>/<num> attending lesky , lonnie md service cardiac surgery service history of present illness mr serafine is a <num>-year-old gentleman who presented with increasing dyspnea on exertion and new york heart association class iii heart failure the patient also complained of fatigue over the last four years prior to admission he currently denied any angina , diaphoresis , nausea , orthopnea , pnd , presyncope or syncope the patient had been treated with serial transthoracic echocardiograms which revealed an ejection fraction worsening from <num>% down to <num>% along with aortic stenosis the patient underwent cardiac catheterization , which revealed no significant coronary artery disease and elevated left and right heart filling pressures cardiac catheterization was abandoned prematurely due to the increasing filling pressures echocardiogram was performed which revealed an ejection fraction of <num>% , aortic stenosis with a mean gradient of <num> mmhg , a peak gradient of <num> mmhg , calculated valve area of <num>.<num> cm<num> , mild mitral insufficiency , mild tricuspid insufficiency , mild left atrial enlargement , moderately hypertrophied left ventricle , global reduction in left ventricular function more in the apex of the left ventricle mildly enlarged right ventricle with preserved right ventricular function , heavily calcified trileaflet aortic valve with significant restriction and leaflet excursion , reduction left ventricular function compared to previous transthoracic echo one year prior to this present study past medical history significant for class iii heart failure with marked limitation of physical activity , diabetes mellitus insulin-dependent , dyslipidemia , cardiac arrest , status post cardiac catheterization on <num>/<num>/<num> . the patient's course was complicated by marked bradycardia requiring insertion of a temporary pacemaker via a right internal jugular and then complete heart block requiring a st jude dual chamber pacemaker and generator past surgical history significant for permanent pacemaker placement , status post cholecystectomy , history of skin cancer , and status post tonsillectomy allergies patient has no known drug allergies medications on admission atenolol <num>.<num> mg daily , aspirin <num> mg daily , metformin <num> mg b.i.d. , and humalog insulin <num> units q.i.d physical examination per physical exam , <num> feet <num> inches tall , <num> kilograms , temperature <num> , heart rate <num> and regular , blood pressure right arm <num>/<num> , left arm <num>/<num> , oxygen saturation <num>% on room air cardiovascular regular rate , and rhythm with <num>/<num> systolic ejection murmur peripheral vascular <num>+ pulses bilaterally throughout respiratory breath sounds clear bilaterally neurologic alert and oriented with no focal deficits , otherwise noncontributory admission labs \u001b[41mSODIUM\u001b[49m <num> , \u001b[41mPOTASSIUM\u001b[49m <num>.<num> , \u001b[41mCHLORIDE\u001b[49m of <num> , co<num> <num> , bun of <num> , creatinine <num>.<num> , glucose <num> , and \u001b[41mMAGNESIUM\u001b[49m <num>.<num> wbc <num>.<num> , hematocrit <num> , hemoglobin <num>.<num> , platelets of <num> , <num> , pt of <num>.<num> , pt/inr of <num> , and ptt <num>.<num> hospital course mr delcour was brought to the operating room on <num>/<num>/<num> where he underwent a minimally invasive aortic valve replacement with a <num>-mm carpentier-edwards pericardial valve total bypass time was <num> minutes , total crossclamp time was <num> minutes intraoperatively , the patient was found to have a calcified trileaflet aortic valve the patient came off bypass without incident , was brought to the intensive care unit on <num> mcg of epinephrine and insulin and precedex the patient did well and was brought up in stable condition in normal sinus rhythm postoperatively , the patient was extubated and the electrophysiology service was consulted to evaluate his internal pacemaker which was reprogrammed and functioning well the patient continued to require vigorous diuresis with a lasix drip he was extubated on postoperative day #<num> without incident the patient was transferred to the step-down unit on postoperative day <num> the patient experienced some postoperative tachycardia and his beta-blocker was increased with good result he was also found to have a positive urinary tract infection and was started on ciprofloxacin for a total of five days the patient at one point required <num> liters of nasal cannula to get his saturations in the <num>s he did continue to require intravenous lasix but had weaned lasix drip and had intermittent boluses of <num> mg iv to promote diuresis with good result he was weaned off his oxygen and the patient began to ambulate and was cleared for discharge to home with visiting nurse on postoperative day #<num> discharge labs are as follows \u001b[41mSODIUM\u001b[49m <num> , \u001b[41mPOTASSIUM\u001b[49m <num>.<num> , \u001b[41mCHLORIDE\u001b[49m of <num> , co<num> of <num> , bun <num> , creatinine <num>.<num> , glucose <num> , \u001b[41mMAGNESIUM\u001b[49m <num>.<num> , wbc <num>.<num> , hematocrit <num>.<num> , hemoglobin <num>.<num> , platelets of <num> , <num> , pt <num>.<num> , pt/inr of <num>.<num> discharge medications are as follows ciprofloxacin <num> mg q.<num>h. for remaining four doses , baby aspirin <num> mg daily , lasix <num> mg b.i.d. , for three days along with potassium chloride slow release <num> meq b.i.d. for three days , motrin <num> mg q.<num>h. p.r.n. pain , novolog <num> units subq q.a.c. , lantus <num> units subcutaneous q.<num> p.m. , toprol-xl <num> mg daily , patient was also discharged on novolog sliding scale subcutaneous \u001b[41mQ.A.C\u001b[49m mr witucki will follow up with dr collin hyman in six weeks and his cardiologist dr louie w eilders in one week disposition he is discharged to home in stable condition with visiting nurse escription document <num>-<num> emssten tel dictated by kreiser , joaquin attending pfeiffenberge , odell dictation id <num> d <num>/<num>/<num> t <num>/<num>/<num> [report_end] record #<num> <num> | wcemc | <num> | | <num> | <num>/<num>/<num> <num>:<num>:<num> am | unstable angina | signed | dis | admission date <num>/<num>/<num> report status signed discharge date <num>/<num>/<num> chief complaint chest pain history of present illness ms dube is a <num>-year-old female status post stent to her left circumflex coronary artery three months prior to admission , with a history of non-insulin dependent diabetes mellitus , hyperlipidemia , hypertension , who presents with left jaw pain for the last several days she treated this at home with sublingual nitroglycerin with partial relief of her pain she presented to the emergency room and had full resolution of her jaw pain with three sublingual nitroglycerin of note , when the patient presented with a non-st elevation mi approximately three months prior , she also had left jaw pain since this pain was the patient's classic anginal pain , heparin was started despite the fact that she had negative cardiac enzymes and no ekg changes past medical history non-insulin dependent diabetes mellitus , hypertension , hyperlipidemia , coronary artery disease status post left circumflex stent in may <num> anxiety , depression , left arm phlebitis associated with blood draws after her left circumflex\n"
     ]
    }
   ],
   "source": [
    "import colorama as col\n",
    "\n",
    "out = []\n",
    "for a in range(len(sets['test_words'][:2000])):\n",
    "    if res[a] == 0 and tru[a] == 1:\n",
    "        out.append(col.Back.RED + sets['test_words'][a].upper() + col.Back.RESET)\n",
    "    else:\n",
    "        out.append(sets['test_words'][a])\n",
    "        \n",
    "print(' '.join(out))"
   ]
  },
  {
   "cell_type": "code",
   "execution_count": 59,
   "metadata": {
    "collapsed": true
   },
   "outputs": [],
   "source": [
    "proba = []\n",
    "for i in range(len(res)):\n",
    "    if not (sets['test_words'][i] == ')' or sets['test_words'][i] == '('):\n",
    "        proba.append([sets['test_words'][i], res[i], tru[i]])"
   ]
  },
  {
   "cell_type": "code",
   "execution_count": 60,
   "metadata": {},
   "outputs": [
    {
     "data": {
      "text/plain": [
       "0.77449822904368359"
      ]
     },
     "execution_count": 60,
     "metadata": {},
     "output_type": "execute_result"
    }
   ],
   "source": [
    "sk.metrics.f1_score(np.array(proba)[:,2].astype(int), np.array(proba)[:,1].astype(int), pos_label=0, average='binary')"
   ]
  },
  {
   "cell_type": "code",
   "execution_count": 61,
   "metadata": {},
   "outputs": [
    {
     "name": "stdout",
     "output_type": "stream",
     "text": [
      "TP\tTN\tFP\tFN\n",
      "328\t10437\t149\t42\n"
     ]
    }
   ],
   "source": [
    "TP = len([a for a in range(len(proba)) if (proba[a][1] == 0) and (proba[a][2] == 0)])\n",
    "TN = len([a for a in range(len(proba)) if (proba[a][1] == 1) and (proba[a][2] == 1)])\n",
    "FP = len([a for a in range(len(proba)) if (proba[a][1] == 0) and (proba[a][2] == 1)])\n",
    "FN = len([a for a in range(len(proba)) if (proba[a][1] == 1) and (proba[a][2] == 0)])\n",
    "TFPN = [TP, TN, FP, FN]\n",
    "print('TP\\tTN\\tFP\\tFN\\n{}\\t{}\\t{}\\t{}'.format(*TFPN))"
   ]
  },
  {
   "cell_type": "raw",
   "metadata": {
    "collapsed": true
   },
   "source": [
    "[(proba[a][0], proba[a][1], proba[a][2]) for a in range(len(proba)) if proba[a][1] == 1 and proba[a][2] == 0]"
   ]
  },
  {
   "cell_type": "markdown",
   "metadata": {},
   "source": [
    "# HyperParameter Scan"
   ]
  },
  {
   "cell_type": "code",
   "execution_count": null,
   "metadata": {
    "collapsed": true
   },
   "outputs": [],
   "source": [
    "emb_num = 1\n",
    "NN_num = 1\n",
    "emb_sizes = [30, 50, 100]\n",
    "target_saturations = [0.05, 0.1, 0.3]\n",
    "layers = [[30], [50], [100]]\n",
    "dropouts = [0.3, 0.5, 0.8, 1.0]\n",
    "learn_rates = [0.001, 0.01, 0.1]\n",
    "epoch_nums = [10, 50, 100]\n",
    "batch_sizes = [10, 50, 100]\n",
    "\n",
    "\n",
    "model_num = emb_num * NN_num * len(emb_sizes) * len(layers) * len(dropouts) * \\\n",
    "            len(learn_rates) * len(epoch_nums) * len(batch_sizes) * len(target_saturations)\n",
    "target = target_dict['medications']\n",
    "report_percentage = 10\n",
    "\n",
    "print(model_num)"
   ]
  },
  {
   "cell_type": "code",
   "execution_count": null,
   "metadata": {
    "collapsed": true
   },
   "outputs": [],
   "source": [
    "labelled_cases = Dataset.get_DS(labelled='yes')\n",
    "labelled_cases.process_for_testing()"
   ]
  },
  {
   "cell_type": "code",
   "execution_count": null,
   "metadata": {
    "collapsed": true
   },
   "outputs": [],
   "source": [
    "iterations = [emb_sizes, target_saturations, layers, dropouts, learn_rates, epoch_nums, batch_sizes]"
   ]
  },
  {
   "cell_type": "code",
   "execution_count": null,
   "metadata": {
    "collapsed": true
   },
   "outputs": [],
   "source": [
    "n = 0\n",
    "parameters = []\n",
    "results = []\n",
    "timestamp = re.sub(r':', '-', str(datetime.datetime.now()).split('.')[0])\n",
    "\n",
    "f = open('tests/Model2/' + timestamp, 'w+')\n",
    "print('EmbSz:\\tSat:\\tLay:\\tDrop:\\tLeRa:\\tEpochs:\\tBatSz:\\tF1:')\n",
    "f.write('EmbSz:\\tSat:\\tLay:\\tDrop:\\tLeRa:\\tEpochs:\\tBatSz:\\tF1:\\n')\n",
    "for par in itertools.product(*iterations):\n",
    "    best = 0\n",
    "    parameters.append(par)\n",
    "    for i in range(emb_num):\n",
    "        model = Word2Vec(sentences, min_count=1, size=par[0])\n",
    "        sets = fn.get_ff_traintest(labelled_cases, model)\n",
    "        fn.saturate_training_set_labels(sets, model, target, par[1])\n",
    "        for j in range(NN_num):\n",
    "            n += 1\n",
    "            print('Model Number: {}/{}'.format(n, model_num), end='\\r')\n",
    "            NN = FF_Model(input_size=par[0], layers=par[2], dropout=par[3], learn_rate=par[4])\n",
    "            NN.build_graph()\n",
    "            _, _, _, score = NN.train(sets, epochs=par[5], batch=par[6], report_percentage=report_percentage)\n",
    "            best = max(best, score)\n",
    "    results.append(best)\n",
    "    print('{}\\t{}\\t{}\\t{}\\t{}\\t{}\\t{}\\t{:.4f}'.format(*parameters[-1], results[-1]))\n",
    "    f.write('{}\\t{}\\t{}\\t{}\\t{}\\t{}\\t{}\\t{:.4f}\\n'.format(*parameters[-1], results[-1]))\n",
    "    \n",
    "print('Max Performance: {:.4f}'.format(max(results)))  \n",
    "f.write('Max Performance: {:.4f}\\n'.format(max(results)))\n",
    "f.close()"
   ]
  }
 ],
 "metadata": {
  "anaconda-cloud": {},
  "kernelspec": {
   "display_name": "Python 3",
   "language": "python",
   "name": "python3"
  },
  "language_info": {
   "codemirror_mode": {
    "name": "ipython",
    "version": 3
   },
   "file_extension": ".py",
   "mimetype": "text/x-python",
   "name": "python",
   "nbconvert_exporter": "python",
   "pygments_lexer": "ipython3",
   "version": "3.5.3"
  }
 },
 "nbformat": 4,
 "nbformat_minor": 2
}
