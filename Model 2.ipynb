{
 "cells": [
  {
   "cell_type": "code",
   "execution_count": 1,
   "metadata": {
    "collapsed": true
   },
   "outputs": [],
   "source": [
    "import numpy as np\n",
    "import re\n",
    "import random\n",
    "import itertools\n",
    "import datetime\n",
    "\n",
    "import tensorflow as tf\n",
    "import sklearn as sk\n",
    "import colorama as col\n",
    "\n",
    "import Functions as fn\n",
    "from DS import DS\n",
    "from Set import pool\n",
    "from Iterator import Iterator\n",
    "from FFModel import FF_Model"
   ]
  },
  {
   "cell_type": "markdown",
   "metadata": {},
   "source": [
    "# Data Loading"
   ]
  },
  {
   "cell_type": "code",
   "execution_count": 2,
   "metadata": {},
   "outputs": [
    {
     "name": "stdout",
     "output_type": "stream",
     "text": [
      "Raw Text Load Complete\n",
      "Raw Labels Load Complete\n"
     ]
    }
   ],
   "source": [
    "Dataset = pool()\n",
    "Dataset.load_texts('raw_texts')\n",
    "Dataset.load_labels('raw_labels')"
   ]
  },
  {
   "cell_type": "code",
   "execution_count": 3,
   "metadata": {
    "scrolled": true,
    "slideshow": {
     "slide_type": "notes"
    }
   },
   "outputs": [
    {
     "name": "stdout",
     "output_type": "stream",
     "text": [
      "Label Load Complete\n"
     ]
    }
   ],
   "source": [
    "target_dict = fn.load_labels('labels')"
   ]
  },
  {
   "cell_type": "markdown",
   "metadata": {},
   "source": [
    "# Embedding Generation"
   ]
  },
  {
   "cell_type": "code",
   "execution_count": 4,
   "metadata": {},
   "outputs": [
    {
     "name": "stderr",
     "output_type": "stream",
     "text": [
      "C:\\Users\\Luka\\Anaconda3\\envs\\tensorflow\\lib\\site-packages\\gensim\\utils.py:860: UserWarning: detected Windows; aliasing chunkize to chunkize_serial\n",
      "  warnings.warn(\"detected Windows; aliasing chunkize to chunkize_serial\")\n"
     ]
    },
    {
     "name": "stdout",
     "output_type": "stream",
     "text": [
      "Sentence Load Complete\n"
     ]
    }
   ],
   "source": [
    "from gensim.models import Word2Vec\n",
    "sentences = fn.load_sentences('sentences')"
   ]
  },
  {
   "cell_type": "code",
   "execution_count": 5,
   "metadata": {
    "collapsed": true
   },
   "outputs": [],
   "source": [
    "#model = Word2Vec(sentences, min_count=1, size=100)\n",
    "#model.save('W2V')"
   ]
  },
  {
   "cell_type": "code",
   "execution_count": 6,
   "metadata": {
    "collapsed": true
   },
   "outputs": [],
   "source": [
    "model = Word2Vec.load('W2V')\n",
    "vocab = model.wv.vocab.keys()"
   ]
  },
  {
   "cell_type": "markdown",
   "metadata": {},
   "source": [
    "# FFNN Testing"
   ]
  },
  {
   "cell_type": "raw",
   "metadata": {
    "collapsed": true
   },
   "source": [
    "train_cases = pool((Dataset.get_DS(labelled='yes')).data[:50])\n",
    "validation_cases = pool(Dataset.get_DS(labelled='yes').data[-50:-25])\n",
    "test_cases = pool(Dataset.get_DS(labelled='yes').data[-25:])\n",
    "\n",
    "train_cases.process_for_testing()\n",
    "validation_cases.process_for_testing()\n",
    "test_cases.process_for_testing()"
   ]
  },
  {
   "cell_type": "code",
   "execution_count": 7,
   "metadata": {
    "collapsed": true
   },
   "outputs": [],
   "source": [
    "train_cases = pool((Dataset.get_DS(stage='test', labelled='yes')).data[:-25])\n",
    "validation_cases = pool(Dataset.get_DS(stage='test', labelled='yes').data[-25:])\n",
    "test_cases = Dataset.get_DS(stage='train', labelled='yes')\n",
    "\n",
    "train_cases.process_for_testing()\n",
    "validation_cases.process_for_testing()\n",
    "test_cases.process_for_testing()"
   ]
  },
  {
   "cell_type": "code",
   "execution_count": 8,
   "metadata": {
    "collapsed": true
   },
   "outputs": [],
   "source": [
    "sets = {}\n",
    "sets['train_set'], sets['train_labels'], _ = train_cases.get_ff_sets(model)\n",
    "sets['validation_set'], sets['validation_labels'], _ = validation_cases.get_ff_sets(model)\n",
    "sets['test_set'], sets['test_labels'], sets['test_words'] = test_cases.get_ff_sets(model)"
   ]
  },
  {
   "cell_type": "code",
   "execution_count": 9,
   "metadata": {},
   "outputs": [
    {
     "name": "stdout",
     "output_type": "stream",
     "text": [
      "Ratio: med: 0.03% non-med: 0.97%\n",
      "Ratio: med: 0.11% non-med: 0.89%\n"
     ]
    }
   ],
   "source": [
    "print('Ratio: med: {:.2f}% non-med: {:.2f}%'.format(*(np.array(sets['train_labels']).sum(0)/ len(sets['train_labels']))))\n",
    "fn.saturate_training_set_training(sets['train_set'], sets['train_labels'], 0.1)\n",
    "print('Ratio: med: {:.2f}% non-med: {:.2f}%'.format(*(np.array(sets['train_labels']).sum(0)/ len(sets['train_labels']))))"
   ]
  },
  {
   "cell_type": "code",
   "execution_count": 10,
   "metadata": {},
   "outputs": [
    {
     "name": "stdout",
     "output_type": "stream",
     "text": [
      "Progress: 100%\r"
     ]
    },
    {
     "data": {
      "image/png": "[encoded data removed]",
      "text/plain": [
       "<matplotlib.figure.Figure at 0x22a05bbc0b8>"
      ]
     },
     "metadata": {},
     "output_type": "display_data"
    },
    {
     "name": "stdout",
     "output_type": "stream",
     "text": [
      "FInal Values: TrAcc: 0.960, ValAcc: 0.974, ValF1: 0.624\n",
      "Test F1-Score: 0.689\n",
      "\n"
     ]
    }
   ],
   "source": [
    "NN = FF_Model(layers=[50])\n",
    "NN.build_graph()\n",
    "_,_,_,_ = NN.train(sets, epochs=5, batch=50, show_plot=True, show_progress=True)"
   ]
  },
  {
   "cell_type": "code",
   "execution_count": 11,
   "metadata": {
    "collapsed": true
   },
   "outputs": [],
   "source": [
    "res = NN.predict(sets['test_set'])\n",
    "tru = np.argmax(sets['test_labels'], 1)"
   ]
  },
  {
   "cell_type": "code",
   "execution_count": 12,
   "metadata": {},
   "outputs": [
    {
     "name": "stdout",
     "output_type": "stream",
     "text": [
      "TP\tTN\tFP\tFN\n",
      "378\t10437\t301\t40\n"
     ]
    }
   ],
   "source": [
    "TP = len([a for a in range(len(tru)) if (res[a] == 0) and (tru[a] == 0)])\n",
    "TN = len([a for a in range(len(tru)) if (res[a] == 1) and (tru[a] == 1)])\n",
    "FP = len([a for a in range(len(tru)) if (res[a] == 0) and (tru[a] == 1)])\n",
    "FN = len([a for a in range(len(tru)) if (res[a] == 1) and (tru[a] == 0)])\n",
    "TFPN = [TP, TN, FP, FN]\n",
    "print('TP\\tTN\\tFP\\tFN\\n{}\\t{}\\t{}\\t{}'.format(*TFPN))"
   ]
  },
  {
   "cell_type": "raw",
   "metadata": {},
   "source": [
    "print(', '.join([sets['test_words'][a] for a in range(len(sets['test_words'])) if res[a] == 0 and tru[a] == 1]))"
   ]
  },
  {
   "cell_type": "raw",
   "metadata": {
    "scrolled": false
   },
   "source": [
    "out = []\n",
    "for a in range(len(sets['test_words'])):\n",
    "    if res[a] == 0 and tru[a] == 0:\n",
    "        out.append(col.Back.GREEN + sets['test_words'][a].upper() + col.Back.RESET)\n",
    "    elif res[a] == 0 and tru[a] == 1:\n",
    "        out.append(col.Back.YELLOW + sets['test_words'][a].upper() + col.Back.RESET)\n",
    "    elif res[a] == 1 and tru[a] == 0:\n",
    "        out.append(col.Back.RED + sets['test_words'][a].upper() + col.Back.RESET)\n",
    "    else:\n",
    "        out.append(sets['test_words'][a])\n",
    "        \n",
    "print(' '.join(out))"
   ]
  },
  {
   "cell_type": "code",
   "execution_count": 16,
   "metadata": {
    "collapsed": true
   },
   "outputs": [],
   "source": [
    "proba = []\n",
    "for i in range(len(res)):\n",
    "    if not (sets['test_words'][i] == ')' or sets['test_words'][i] == '('):\n",
    "        proba.append([sets['test_words'][i], res[i], tru[i]])"
   ]
  },
  {
   "cell_type": "code",
   "execution_count": 18,
   "metadata": {},
   "outputs": [
    {
     "name": "stdout",
     "output_type": "stream",
     "text": [
      "TP\tTN\tFP\tFN\n",
      "330\t10437\t149\t40\n"
     ]
    }
   ],
   "source": [
    "TP = len([a for a in range(len(proba)) if (proba[a][1] == 0) and (proba[a][2] == 0)])\n",
    "TN = len([a for a in range(len(proba)) if (proba[a][1] == 1) and (proba[a][2] == 1)])\n",
    "FP = len([a for a in range(len(proba)) if (proba[a][1] == 0) and (proba[a][2] == 1)])\n",
    "FN = len([a for a in range(len(proba)) if (proba[a][1] == 1) and (proba[a][2] == 0)])\n",
    "TFPN = [TP, TN, FP, FN]\n",
    "print('TP\\tTN\\tFP\\tFN\\n{}\\t{}\\t{}\\t{}'.format(*TFPN))"
   ]
  },
  {
   "cell_type": "code",
   "execution_count": 17,
   "metadata": {},
   "outputs": [
    {
     "data": {
      "text/plain": [
       "0.77738515901060068"
      ]
     },
     "execution_count": 17,
     "metadata": {},
     "output_type": "execute_result"
    }
   ],
   "source": [
    "sk.metrics.f1_score(np.array(proba)[:,2].astype(int), np.array(proba)[:,1].astype(int), pos_label=0, average='binary')"
   ]
  },
  {
   "cell_type": "code",
   "execution_count": null,
   "metadata": {},
   "outputs": [],
   "source": [
    "print(', '.join([(proba[a][0]) for a in range(len(proba)) if proba[a][1] == 0 and proba[a][2] == 1]))"
   ]
  },
  {
   "cell_type": "code",
   "execution_count": 27,
   "metadata": {},
   "outputs": [
    {
     "name": "stdout",
     "output_type": "stream",
     "text": [
      "record #<num> <num> | tmh | <num> | | <num> | <num>/<num>/<num> <num>:<num>:<num> am | discharge summary | signed | dis | admission date <num>/<num>/<num> report status signed discharge date <num>/<num>/<num> history ms pizzo is a <num>-year-old woman with peripheral vascular disease who recently underwent revision of her left superior femoral artery anterior tibial bypass graft , who now presents with a cool , ischemic left foot mr denman is a <num>-year-old , insulin-dependent diabetic with a long history of peripheral vascular disease as well as multiple surgical procedures she underwent a right transmetatarsal amputation in <num> and subsequently underwent a right femorla distal saphenous vein bypass graft in <num> which was later revised in <num> she seems to be doing well with the left side until july of this year , at which time she underwent a left superficial femoral artery to anterior tibial artery bypass using non-reversed basilic vein harvested from the right arm she , however , had a large great toe ulcer , possibly attributed to hammertoe , which subsequently underwent a left great toe amputation performed on the <num> of october after this time , she was discharged to the nut hospital in amore pu , where she was making progress in physical therapy and rehabilitation on the day prior to admission , she was exercising with <num> pound weights on her legs with the physical therapist when she described a cool sensation in her foot she reported that her foot had been blue , and there were no dopplerable pulses color later returned the absence of pulses persisted over the course of the night , after which point she was referred back to largrine medical center for evaluation she denies any significant pain or any other complications past medical history remarkable for history of insulin-dependent diabetes , history of coronary artery disease , history of hypertension , cataracts , mrsa from her toe wound on the <num> of september past surgical history notable for the above , as well as debridements of her toe amputation wound site admission medications \u001b[42mCOLACE\u001b[49m <num> mg b.i.d. , \u001b[42mINSULIN\u001b[49m \u001b[42mLENTE\u001b[49m <num> units subcu q p.m. supplemented by sliding scale regular \u001b[42mINSULIN\u001b[49m scale , \u001b[42mISORDIL\u001b[49m <num> mg t.i.d. , \u001b[42mZESTRIL\u001b[49m <num> mg q d , \u001b[42mLOPRESSOR\u001b[49m <num> mg b.i.d. , \u001b[42mAXID\u001b[49m <num> mg b.i.d. , \u001b[42mOFLOXACIN\u001b[49m <num> mg p.o. q <num> , \u001b[42mECOTRIN\u001b[49m <num> mg q d , \u001b[42mVANCOMYCIN\u001b[49m <num> mg q <num> she reports an allergy to codeine and iodine admission examination remarkable for the following findings she was afebrile , heart rate <num> , blood pressure <num>/<num> her right lower extremity was characterized by a well-healed transmetatarsal amputation site the foot was warm and pink the left side , however , was cool in comparison , although remained pink with adequate capillary refill both femoral pulses were easily palpable , as well as dorsal pedal pulse on the right her right posterior tibial pulse was additionally biphasic by doppler on the left , she had a biphasic doppler graft pulse and dorsopedal , although she had no identifiable posterior tibial pulse the remainder of the examination was unremarkable admission labs were likewise unremarkable hospital course mr bulger was admitted and placed on intravenous \u001b[42mHEPARIN\u001b[49m until the following morning , at which time she proceeded to the angiography suite she was found to have two <num>% stenosis in a long segment of the left sfa and the left distal sfa and anterior tibial vein graft was completely thrombosed she was successfully treated with stent placement and received \u001b[42mHEPARIN\u001b[49m and \u001b[41mUROKINASE\u001b[49m in the intensive care unit overnight with a turn-over pulses of the left leg doppler the following day , her stents were removed during the remainder of the hospital course , her left foot remained pink and warm her wound had an infection of exposed bone , but otherwise appeared to be granulating well although left transmetatarsal amputation being considered , it was felt that she had a good chance of healing the wound appropriately she had a single temperature spike , although all cultures remained negative she had continuation of her \u001b[42mHEPARIN\u001b[49m while she was started on a course of \u001b[42mCOUMADIN\u001b[49m to reserve patency of her graft the remainder of the hospital course was unremarkable on the <num> of july , she was discharged back to the rose-walt hospital in \u001b[43mCOLN\u001b[49m discharge medications \u001b[42mVANCOMYCIN\u001b[49m <num> mg iv q d , \u001b[42mOFLOXACIN\u001b[49m <num> mg p.o. b.i.d. ( \u001b[42mANTIBIOTICS\u001b[49m antibiotics to continue for an additional two week course \u001b[42mCOUMADIN\u001b[49m , coumadin with target inr of <num>.<num> , last target <num>.<num> , then received <num> mg in evening x <num> \u001b[42mPERCOCET\u001b[49m , percocet <num>-<num> tablets p.o. q <num> \u001b[42mCOLACE\u001b[49m , colace <num> mg p.o \u001b[42mINSULIN\u001b[49m \u001b[42mNPH\u001b[49m insulin nph <num> units subcu b.i.d. , \u001b[42mINSULIN\u001b[49m scale insulin subcu q \u001b[42mISORDIL\u001b[49m , isordil <num> mg \u001b[42mZESTRIL\u001b[49m , zestril <num> mg q \u001b[42mLOPRESSOR\u001b[49m , lopressor <num> mg \u001b[42mAXID\u001b[49m , axid <num> mg p.o. b.i.d she will follow with dr noah in one to two weeks dictated by renaldo t dinsmore , m.d wr<num> attending kelley bruess , m.d ji<num> up<num>/<num> batch <num> index no k<num>emi<num>g<num>n d <num>/<num>/<num> t <num>/<num>/<num> [report_end] record #<num> <num> | gh | <num> | | <num> | <num>/<num>/<num> <num>:<num>:<num> am | aortic stenosis | signed | dis | admission date <num>/<num>/<num> report status signed discharge date <num>/<num>/<num> attending lesky , lonnie md service cardiac surgery service history of present illness mr serafine is a <num>-year-old gentleman who presented with increasing dyspnea on exertion and new york heart association class iii heart failure the patient also complained of fatigue over the last four years prior to admission he currently denied any angina , diaphoresis , nausea , orthopnea , pnd , presyncope or syncope the patient had been treated with serial transthoracic echocardiograms which revealed an ejection fraction worsening from <num>% down to <num>% along with aortic stenosis the patient underwent cardiac catheterization , which revealed no significant coronary artery disease and elevated left and right heart filling pressures cardiac catheterization was abandoned prematurely due to the increasing filling pressures echocardiogram was performed which revealed an ejection fraction of <num>% , aortic stenosis with a mean gradient of <num> mmhg , a peak gradient of <num> mmhg , calculated valve area of <num>.<num> cm<num> , mild mitral insufficiency , mild tricuspid insufficiency , mild left atrial enlargement , moderately hypertrophied left ventricle , global reduction in left ventricular function more in the apex of the left ventricle mildly enlarged right ventricle with preserved right ventricular function , heavily calcified trileaflet aortic valve with significant restriction and leaflet excursion , reduction left ventricular function compared to previous transthoracic echo one year prior to this present study past medical history significant for class iii heart failure with marked limitation of physical activity , diabetes mellitus insulin-dependent , dyslipidemia , cardiac arrest , status post cardiac catheterization on <num>/<num>/<num> . the patient's course was complicated by marked bradycardia requiring insertion of a temporary pacemaker via a right internal jugular and then complete heart block requiring a st jude dual chamber pacemaker and generator past surgical history significant for permanent pacemaker placement , status post cholecystectomy , history of skin cancer , and status post tonsillectomy allergies patient has no known drug allergies medications \u001b[42mATENOLOL\u001b[49m admission atenolol <num>.<num> mg \u001b[42mASPIRIN\u001b[49m , aspirin <num> mg \u001b[42mMETFORMIN\u001b[49m , metformin <num> mg b.i.d. \u001b[42mHUMALOG\u001b[49m \u001b[42mINSULIN\u001b[49m humalog insulin <num> units q.i.d physical examination per physical exam , <num> feet <num> inches tall , <num> kilograms , temperature <num> , heart rate <num> and regular , blood pressure right arm <num>/<num> , left arm <num>/<num> , oxygen saturation <num>% on room air cardiovascular regular rate , and rhythm with <num>/<num> systolic ejection murmur peripheral vascular <num>+ pulses bilaterally throughout respiratory breath sounds clear bilaterally neurologic alert and oriented with no focal deficits , otherwise noncontributory \u001b[43mSODIUM\u001b[49m labs sodium \u001b[43mPOTASSIUM\u001b[49m , potassium \u001b[43mCHLORIDE\u001b[49m , chloride of <num> , co<num> <num> , bun of <num> , creatinine <num>.<num> , glucose <num> \u001b[43mMAGNESIUM\u001b[49m and magnesium <num>.<num> wbc <num>.<num> , hematocrit <num> , hemoglobin <num>.<num> , platelets of <num> , <num> , pt of <num>.<num> , pt/inr of <num> , and ptt <num>.<num> hospital course mr delcour was brought to the operating room on <num>/<num>/<num> where he underwent a minimally invasive aortic valve replacement with a <num>-mm carpentier-edwards pericardial valve total bypass time was <num> minutes , total crossclamp time was <num> minutes intraoperatively , the patient was found to have a calcified trileaflet aortic valve the patient came off bypass without incident , was brought to the intensive care unit on <num> \u001b[42mEPINEPHRINE\u001b[49m of \u001b[42mINSULIN\u001b[49m and \u001b[42mPRECEDEX\u001b[49m and precedex the patient did well and was brought up in stable condition in normal sinus rhythm postoperatively , the patient was extubated and the electrophysiology service was consulted to evaluate his internal pacemaker which was reprogrammed and functioning well the patient continued to require vigorous diuresis \u001b[42mLASIX\u001b[49m a lasix drip he was extubated on postoperative day #<num> without incident the patient was transferred to the step-down unit on postoperative day <num> the patient experienced some postoperative tachycardia \u001b[42mBETA-BLOCKER\u001b[49m his beta-blocker was increased with good result he was also found to have a positive urinary tract infection and was \u001b[42mCIPROFLOXACIN\u001b[49m on ciprofloxacin for a total of five days the patient at one point required <num> \u001b[41mNASAL\u001b[49m \u001b[41mCANNULA\u001b[49m nasal cannula to get his saturations in the <num>s he did continue to \u001b[42mLASIX\u001b[49m intravenous lasix but \u001b[42mLASIX\u001b[49m weaned lasix drip and had intermittent boluses of <num> mg iv to promote diuresis with good result he was weaned off his oxygen and the patient began to ambulate and was cleared for discharge to home with visiting nurse on postoperative day #<num> discharge labs are \u001b[43mSODIUM\u001b[49m follows sodium \u001b[43mPOTASSIUM\u001b[49m , potassium \u001b[43mCHLORIDE\u001b[49m , chloride of <num> , co<num> of <num> , bun <num> , creatinine <num>.<num> , glucose \u001b[43mMAGNESIUM\u001b[49m , magnesium <num>.<num> , wbc <num>.<num> , hematocrit <num>.<num> , hemoglobin <num>.<num> , platelets of <num> , <num> , pt <num>.<num> , pt/inr of <num>.<num> discharge medications are \u001b[42mCIPROFLOXACIN\u001b[49m follows ciprofloxacin <num> mg q.<num>h. for remaining four \u001b[42mBABY\u001b[49m \u001b[42mASPIRIN\u001b[49m baby aspirin <num> mg \u001b[42mLASIX\u001b[49m , lasix <num> mg b.i.d. , for three days \u001b[42mPOTASSIUM\u001b[49m \u001b[42mCHLORIDE\u001b[49m \u001b[41mSLOW\u001b[49m \u001b[42mRELEASE\u001b[49m slow release <num> meq b.i.d. for three \u001b[42mMOTRIN\u001b[49m , motrin <num> mg q.<num>h. p.r.n. \u001b[42mNOVOLOG\u001b[49m , novolog <num> units subq \u001b[42mLANTUS\u001b[49m , lantus <num> units subcutaneous q.<num> \u001b[42mTOPROL-XL\u001b[49m , toprol-xl <num> mg daily , patient was also \u001b[42mNOVOLOG\u001b[49m on novolog sliding scale subcutaneous q.a.c mr witucki will follow up with dr collin hyman in six weeks and his cardiologist dr louie w eilders in one week disposition he is discharged to home in stable condition with visiting nurse escription document <num>-<num> emssten tel dictated by kreiser , joaquin attending pfeiffenberge , odell dictation id <num> d <num>/<num>/<num> t <num>/<num>/<num> [report_end] record #<num> <num> | wcemc | <num> | | <num> | <num>/<num>/<num> <num>:<num>:<num> am | unstable angina | signed | dis | admission date <num>/<num>/<num> report status signed discharge date <num>/<num>/<num> chief complaint chest pain history of present illness ms dube is a <num>-year-old female status post stent to her left circumflex coronary artery three months prior to admission , with a history of non-insulin dependent diabetes mellitus , hyperlipidemia , hypertension , who presents with left jaw pain for the last several days she treated this at home \u001b[42mNITROGLYCERIN\u001b[49m sublingual nitroglycerin with partial relief of her pain she presented to the emergency room and had full resolution of her jaw pain with \u001b[42mNITROGLYCERIN\u001b[49m sublingual nitroglycerin of note , when the patient presented with a non-st elevation mi approximately three months prior , she also had left jaw pain since this pain was the patient's classic anginal \u001b[42mHEPARIN\u001b[49m , heparin was started despite the fact that she had negative cardiac enzymes and no ekg changes past medical history non-insulin dependent diabetes mellitus , hypertension , hyperlipidemia , coronary artery disease status post left circumflex stent in may <num> anxiety , depression , left arm phlebitis associated with blood draws after her left circumflex stent was placed status post appendectomy , status post tubal ligation allergies no known drug \u001b[42mGLUCOPHAGE\u001b[49m medications \u001b[42mLIPITOR\u001b[49m , \u001b[42mATENOLOL\u001b[49m , \u001b[42mASPIRIN\u001b[49m , aspirin \u001b[42mNITROGLYCERIN\u001b[49m sublingual nitroglycerin \u001b[42mZESTRIL\u001b[49m , \u001b[42mCELEXA\u001b[49m , \u001b[42mKLONOPIN\u001b[49m , \u001b[42mNEURONTIN\u001b[49m , neurontin social history the patient has a daughter who works for erdar y university hospitals she does not smoke nor does she drink alcohol her primary language is spanish family history positive for coronary artery disease the patient's father died of a myocardial infarction at age <num> and her mother died of a myocardial infarction at age <num> vital signs blood pressure <num>-<num>/<num>-<num> , pulse <num>-<num> , respiratory rate <num> , oxygen saturation <num>-<num>% on two liters nasal cannula physical examination general well appearing middle-aged female neck jvp flat cardiovascular regular rate and rhythm with normal s<num> and s<num> chest clear to auscultation bilaterally abdomen soft , nontender , nondistended positive bowel sounds extremities no lower extremity edema , warm rectal the patient is guaiac negative hospital course by systems <num> cardiovascular the patient was taken for cardiac catheterization after she was admitted her cardiac catheterization was on may , <num> prior to her catheterization she was enrolled in the nacan cajord general hospital this was a blinded trial with permsan madiston \u001b[43mINHIBITOR\u001b[49m hospital inhibitor in accordance with the trial , the patient was \u001b[42mLOVENOX\u001b[49m on lovenox <num> mg per kg subcutaneously b.i.d later that afternoon on may , <num> , she went for cardiac catheterization the cath revealed a right dominant system with no significant left main lesions , no significant left anterior descending lesions , <num>% diffuse lesion in the left circumflex artery consistent with instant restenosis of her previously placed pixel stent the right coronary artery showed a <num>% lesion during this catheterization , brachytherapy to the vessel that showed instant restenosis was attempted , however , it was aborted due to technical malfunction of the brachytherapy delivery machine the lesion was , however , dilated by balloon angioplasty after dilatation there was timi-<num> flow with <num>% residual stenosis postcath the patient did well she was \u001b[42mASPIRIN\u001b[49m on \u001b[42mZOCOR\u001b[49m , \u001b[42mLOPRESSOR\u001b[49m , \u001b[42mCAPTOPRIL\u001b[49m , \u001b[42mCELEXA\u001b[49m , \u001b[42mKLONOPIN\u001b[49m , klonopin which are her home medications the morning after catheterization , the patient had recurrent chest pain which radiated to her right jaw the pain was relieved \u001b[42mNITROGLYCERIN\u001b[49m sublingual nitroglycerin the following day , the patient did well however , she began to develop a right groin hematoma in the afternoon on august , <num> the hematoma was thought to be rapidly enlarging hematocrit checked at that time revealed a significant drop in blood count to <num> the patient was transfused two \u001b[42mPACKED\u001b[49m \u001b[41mRED\u001b[49m \u001b[41mBLOOD\u001b[49m \u001b[41mCELLS\u001b[49m blood cells her hematoma continue to expand overnight the patient was \u001b[42mLOVENOX\u001b[49m from lovenox at that time however , she was \u001b[42mASPIRIN\u001b[49m on \u001b[42mPLAVIX\u001b[49m and plavix \u001b[42mLOVENOX\u001b[49m patient's lovenox was \u001b[41mPROTAMINE\u001b[49m with protamine over the night , the patient's hematoma continued to expand she received , the following morning on january , <num> , one \u001b[41mFRESH\u001b[49m \u001b[41mFROZEN\u001b[49m \u001b[42mPLASMA\u001b[49m frozen plasma as well as a third \u001b[42mPACKED\u001b[49m \u001b[41mRED\u001b[49m \u001b[41mBLOOD\u001b[49m \u001b[41mCELLS\u001b[49m blood cells at that point , her hematoma was marked and it was noted to be stable from that point on , no longer expanding beyond the bounds of the marks her left arm was noted at that time to also be tense with hematoma secondary to blood draws vascular surgery was consulted in the morning on january , <num> , in order to assess the right groin hematoma as well as the hematoma in the left arm due to concern for developing compartment syndrome vascular surgery saw the patient and felt that as long as the patient's hematocrit stabilized , she would not need any surgical intervention they could not find any evidence for left upper extremity compartment syndrome at that time also on the morning of january , <num> , the patient's platelets agents \u001b[42mPLAVIX\u001b[49m both \u001b[42mASPIRIN\u001b[49m and aspirin were discontinued further family history was obtained from the patient that day which revealed history suspicious for possible bleeding disorder including the information that the patient's daughter bleeds heavily with each menstrual period , and that both the patient and her daughter have very easy bruising with history of several hematomas secondary to light trauma the patient also reported that she had heavy bleeding with childbirth that required extra hospitalization although it did not require a transfusion hematology was consulted at that point the patient was thought by hematology to have these hematomas secondary to over \u001b[42mLOVENOX\u001b[49m with \u001b[42mPLAVIX\u001b[49m , \u001b[42mASPIRIN\u001b[49m , aspirin and possible stonde medical center trial drug with a kenda medical center the only familial coagulation problems that were screened for based on their recommendations were von willebrand screen as well as a factor xiii screen the factor xiii screen eventually turned out normal and the von willebrand screen was pending at the time of discharge by the morning of november , <num> , the patient had received a total of five \u001b[42mPACKED\u001b[49m \u001b[41mRED\u001b[49m \u001b[41mBLOOD\u001b[49m \u001b[41mCELLS\u001b[49m blood cells due to blood loss secondary to this hematoma her hematoma had stabilized at that time she was \u001b[42mASPIRIN\u001b[49m on aspirin on november , <num> from that point onward , the patient did quite well and was \u001b[42mASPIRIN\u001b[49m on \u001b[42mBETA-BLOCKER\u001b[49m , \u001b[42mZOCOR\u001b[49m , \u001b[42mACE\u001b[49m \u001b[42mINHIBITOR\u001b[49m ace inhibitor the remainder of her hospitalization was uncomplicated and after the patient had a stable hematocrit for several days without any recurrent jaw pain , she was discharged home on march , <num> neurology on november , <num> , the patient developed a headache which she described as the same as she frequently experiences at home her headaches are usually not \u001b[43mTYLENOL\u001b[49m to tylenol \u001b[43mANALGESICS\u001b[49m other analgesics given the patient's complications with hematoma and bleeding , a head ct was obtained that afternoon to rule out intracerebral hemorrhage her head ct was negative for bleeding her headache was \u001b[42mTYLENOL\u001b[49m with tylenol to which it did not respond and \u001b[42mPERCOCET\u001b[49m with percocet to which she got some relief \u001b[42mASPIRIN\u001b[49m medications aspirin <num> mg p.o. q \u001b[42mKLONOPIN\u001b[49m , klonopin <num>.<num> mg \u001b[42mGLUCOPHAGE\u001b[49m , glucophage <num> mg \u001b[42mCELEXA\u001b[49m , celexa <num> mg p.o. \u001b[42mZESTRIL\u001b[49m , zestril <num>.<num> mg \u001b[42mATENOLOL\u001b[49m , atenolol <num> mg p.o. \u001b[42mLIPITOR\u001b[49m , lipitor <num> mg p.o. q.h.s follow up the patient was instructed to follow up with her primary care physician , dr bazer dictated by luke drentlaw , m.d hj<num> attending mark wilkes , m.d al<num> dz<num>/<num> batch <num> index no qddy<num>i<num> d <num>/<num>/<num> t <num>/<num>/<num> [report_end] record #<num> <num> | vuh | <num> | | <num> | <num>/<num>/<num> <num>:<num>:<num> am | cellulitis | signed | dis | admission date <num>/<num>/<num> report status signed discharge date <num>/<num>/<num> attending waterfall , sammy m.d medical service general medicine team he drve , ville sas oaksco history of present illness mr quigg is a <num>-year-old man with history of diabetes , end-stage renal disease on hemodialysis , left charcot foot complicated by recurrent cellulitis , who presented with left lower leg swelling , erythema , and pain the patient does not recall having fevers at home , however , notes that he \"get fevers all the time\" so he feels that he may not have noticed he did report that he had a temperature to about <num> and hemodialysis prior to admission for which he received one \u001b[42mVANCOMYCIN\u001b[49m of vancomycin he denied having any symptoms of headache , chest pain , shortness of breath , abdominal pain , joint aches or rash he did endorse feeling fatigued with little energy the patient was referred to the emergency department given his temperature of <num> at hemodialysis the patient has a long history of pain in his left foot secondary to charcot joint and chronic recurrent cellulitis including a history of mrsa cellulitis he has had numerous admissions to smc in the past year for treatment of the foot for which he received several \u001b[42mANTIBIOTICS\u001b[49m of antibiotics he was treated from <num>/<num> through \u001b[42mANTIBIOTICS\u001b[49m with antibiotics posthemodialysis at the end of <num>/<num> , after returning from weekend away he had severe exacerbation of the pain in his left foot with progressive development of swelling on the bottom of his foot at this time , he had extensive evaluation including an mri of the foot and it was felt that there was no evidence of \u001b[42mANTIBIOTICS\u001b[49m his antibiotics were discontinued at this time and he was discharged to a nursing home for rehabilitation he remained in the nursing home from <num>/<num> through <num>/<num> and was discharged home two weeks prior to admission past medical history <num> diabetes since the age of <num> , unclear if it is type <num> or type <num> the patient reports that he has a history of type <num> diabetes , but also reports that he had \u001b[43mINSULIN\u001b[49m without insulin for three years after diagnosis he does have consequent neuropathy , retinopathy , and nephropathy <num> end-stage renal disease on hemodialysis since <num>/<num> <num> diabetic neuropathy in his legs bilaterally and charcot feet bilaterally <num> history of a left foot , fourth metatarsal osteomyelitis with surgical resection of the left fourth digit <num> retinopathy with history of retinal hemorrhage and vitrectomy <num> hypertension x<num> years with a history of malignant hypertension \u001b[43mOPHTHALMOLOGIC\u001b[49m documented ophthalmologic and renal involvement <num> gastroesophageal reflux disease <num> hyperlipidemia <num> recurrent lower extremity cellulitis <num> history of chronic right foot ulcer \u001b[42mCOLACE\u001b[49m medications colace <num> mg \u001b[42mFOLATE\u001b[49m , folate <num> mg p.o. \u001b[42mGEMFIBROZIL\u001b[49m , gemfibrozil <num> mg \u001b[42mLANTUS\u001b[49m , lantus <num> mg subcu \u001b[42mLIPITOR\u001b[49m , lipitor <num> mg \u001b[42mNEPHROCAPS\u001b[49m , \u001b[42mNEURONTIN\u001b[49m , neurontin <num> mg \u001b[42mPHOSLO\u001b[49m , phoslo <num> mg \u001b[42mPROTONIX\u001b[49m , protonix <num> mg \u001b[42mRENAGEL\u001b[49m , renagel <num> mg \u001b[42mREQUIP\u001b[49m , requip <num> mg p.o. \u001b[42mCOUMADIN\u001b[49m , coumadin allergies the patient has no known drug allergies family history significant for diabetes social history the patient lives with his parents and his <num>-year-old daughter physical examination on admission the patient had a temperature <num>.<num> , heart rate of <num> , a blood pressure of <num>/<num> , he was satting <num>% on room air physical exam on admission notable for a <num>/<num> systolic ejection murmur heard best at the left lower sternal border his left lower extremity was notable for <num>+ pitting edema with erythema on the anterior shin and as well as the foot it was also associated with increased warmth pertinent studies radiology cxr ( <num>/<num>/<num> ): no acute cardiopulmonary disease mri le ( <num>/<num>/<num> ): <num> cm fluid pocket in the subcutaneous tissue of the plantar aspect of the left foot demonstrating communication with the medial tendon sheaths and the ankle joint with findings worrisome for abscess and osteomyelitis of at least the medial malleolus , calcaneus , cuboid and talus labs lfts wnl alb <num>.<num> esr \u001b[43mHEP\u001b[49m , crp <num> hep b surf ag negative , \u001b[43mMICRO\u001b[49m ab negative ( <num>/<num>/<num> ) micro blood cx <num>/<num>/<num> , <num> growth foot aspirate ( <num>/<num>/<num> ): gram stain-<num>+ polys , no org; cx without growth ankle aspirate ( <num>/<num>/<num> ): gm stain-<num>+ polys , no org; cx without growth pathology from l bka ( <num>/<num>/<num> )-clean margins consults orthopedics ( dr bourgault ) , id ( dr antinoro ) , psychiatry ( dr czach ) , acute pain service hospital course by system <num> ) \u001b[42mVANCOMYCIN\u001b[49m his \u001b[42mUNASYN\u001b[49m of l lower leg swelling and erythema , mr bock was started on vancomycin and unasyn in the emergency department an x-ray of his l foot revealed significant fragmentation and erosion of the tarsal/metatarsal bases and focal soft tissue abnormality in the plantar region concerning for abscess formation and possible osteomyelitis in the setting of known charcot arthropathy as well as diffuse soft tissue swelling extending along the calf given these findings , he was ordered \u001b[42mUNASYN\u001b[49m an mri with his mri pending and his l leg \u001b[42mAUGMENTIN\u001b[49m somewhat improved \u001b[42mVANCOMYCIN\u001b[49m his unasyn was discontinued on hd <num> and he was started on augmentin and his vancomycin was continued given his history of mrsa cellulitis in the past he spiked a fever on hd \u001b[43mSEDATION\u001b[49m and again on hd <num> on hd <num> , he had an mri under conscious sedation ( was attempted prior to this , but pt unable to tolerate ) mri revealed <num> cm fluid pocket in the subcutaneous tissue of the plantar aspect of the left foot demonstrating communication with the medial tendon sheaths and the ankle joint with findings worrisome for abscess and osteomyelitis of at least the \u001b[42mLEVOFLOXACIN\u001b[49m malleolus , \u001b[42mFLAGYL\u001b[49m , cuboid and talus infectious disease was consulted and \u001b[42mVANCOMYCIN\u001b[49m was started on iv levofloxacin and iv flagyl to cover gram negatives and anaerobes respectively and his vancomycin continued to be dosed for level less than <num> orthopedics was consulted who performed an arthrocentesis of his ankle as well as an arthrocentesis of the fluid collection at the bottom of his foot ankle aspirate gram stain was negative , but with <num>+ polys fluid differential revealed &gt;<num> , <num> wbcs in consultation with infectious disease , orthopedics , and the patient , it was decided that the best course of action would be a l below knee amputation given the extent of the infection this was performed on hd <num> by dr miears he did have fever spikes again on hd <num>-<num> and had repeat blood cultures which were negative an echocardiogram was performed on hd <num> while he did have a tiny focal thickening of the aortic cusp , this was reviewed with cardiology and infectious disease and was not though to represent a vegetation he was afebrile x &gt;<num> hours prior to discharge his surgical pathology returned with clean \u001b[43mANTIBIOTICS\u001b[49m on day of discharge , and as per id consult service , he does not need further antibiotics he \u001b[41mPAIN\u001b[49m \u001b[42mMEDICATION\u001b[49m dry sterile dressing changes to his residual limb daily he may need an extra dose of pain medication prior to this if there is any evidence of erythema or drainage , dr fuller 's office should be contacted at <num>-<num>-<num> <num> ) renal-mr merriweather was on the renal service and had hemodialysis <num> times a week ( m/w/f ) without complication of note , \u001b[43mCOUMADIN\u001b[49m \u001b[41mAS\u001b[49m awaiting kidney transplant from his sister and is followed by dr felix zelle at nnh <num> ) heme-mrvaeth was on coumadin as an outpatient we obtained his hospital records from nuom and a vascular study from <num>/<num> showed evidence of a dvt in the l internal jugular vein from <num>/<num> the details \u001b[42mCOUMADIN\u001b[49m this \u001b[42mCOUMADIN\u001b[49m are not documented , however mr tirona reports that his vascular surgeon told him \u001b[42mHEPARIN\u001b[49m he should \u001b[42mCOUMADIN\u001b[49m on coumadin his coumadin was held prior to going to \u001b[42mHEPARIN\u001b[49m or and he was placed on a heparin drip his coumadin was restarted after his bka \u001b[42mHEPARIN\u001b[49m he was bridged with heparin with a goal ptt of <num>-<num> prior to discharge , he ptt was <num> and his heparin drip was decreased from <num> to <num>units per hours he should have a repeat ptt checked on transfer to \u001b[42mHEPARIN\u001b[49m acute rehabilitation center with goal ptt <num>-<num> inr \u001b[43mTHERAPEUTIC\u001b[49m day of discharge was <num>.<num> , <num>.<num> day prior to discharge his heparin drip can be discontinued once \u001b[42mLEVOFLOXACIN\u001b[49m inr is therapeutic with goal \u001b[43mGEMFIBROZIL\u001b[49m \u001b[41m<NUM>MG\u001b[49m his inr \u001b[43mLIPITOR\u001b[49m \u001b[41m<NUM>MG\u001b[49m to be followed every <num>-<num> days until stable off of levofloxacin <num> ) cv ischemia-mrgrana was on gemfibrozil <num>mg bid and lipitor <num>mg as an outpatient his lipid panel was checked tc <num> \u001b[42mGEMFIBROZIL\u001b[49m tg \u001b[42mLIPITOR\u001b[49m , ldl \u001b[42mLIPITOR\u001b[49m , hdl <num> given that his ldl was <num> and the risk of rhabdomylosis on high dose gemfibrozil and lipitor , \u001b[42mB-BLOCKER\u001b[49m lipitor was decreased to <num>mg he should have a repeat lipid panel in <num>-<num> weeks he \u001b[43mASPIRIN\u001b[49m also started on low dose b-blocker to reduce perioperative mi risk prior to his surgery he reported that he is not on aspirin given that he has had b/l vitrectomies and his doctor felt that the risk of bleeding was too high this can be \u001b[42mLISINOPRIL\u001b[49m as an outpatient pump-pt had elevated systolic \u001b[42mLOPRESSOR\u001b[49m pressures to the <num>s in the beginning of his stay he was started on lisinopril which was uptitrated to <num>mg and also lopressor rhtyhm-he had no evidence of arrythmias <num> ) endocrine-mr rovella has dm which was diagnosed at age <num> it is unclear if he has type i or ii as \u001b[43mINSULIN\u001b[49m reported that he was told he has type i , but had a three \u001b[42mLANTUS\u001b[49m stint after diagnosis where he was not on insulin his fs on admission were elevated , likely secondary to \u001b[42mLANTUS\u001b[49m infection and his \u001b[42mASPART\u001b[49m was uptitrated he was also started on prandial coverage prior to discharge , he was his home dose of lantus as well as aspart with meals he reported that he already has an outpatient endocrinologist with whom he will follow up an hga<num>c was <num>.<num> <num> ) pain-mr vanhee had \u001b[42mKETAMINE\u001b[49m post operative \u001b[42mFENTANYL\u001b[49m \u001b[41mPCA\u001b[49m seemed \u001b[42mFENTANYL\u001b[49m \u001b[41mPCA\u001b[49m mostly \u001b[42mKETAMINE\u001b[49m limb pain the acute pain service was consulted \u001b[42mOXYCONTIN\u001b[49m he was initially \u001b[42mOXYCODONE\u001b[49m on a ketamine drip and fentanyl pca his \u001b[42mLYRICA\u001b[49m pca and ketamine drip were discontinued and he was started on oxycontin <num>mg tid with oxycodone for breakthrough pain he was also started on lyrica for neuropathic pain he was comfortable prior to discharge on this current regimen as his pain improves , he pain regimen should be decreased <num> ) psychiatry-after learning that he would likely receive a transplant \u001b[42mATIVAN\u001b[49m his sister , mr potvin reports that he has had significant anxiety prior to going for dialysis psychiatry service was consulted who recommended low dose ativan prior to him going to dialysis discharge exam gen pleasant , well appearing gentleman , in nad vs tmax <num>.<num> tc <num>.<num> bp <num>-<num> /<num>-<num> p <num>-<num> r <num> <num>% on ra pulm cta bilaterally , no rales/wheezes cv rrr , ii/vi sem at lsb , normal s<num>/s<num> abd obese , soft , nt , nabs , no hsm ext l residual limb with dressing that is clean/dry/intact labs on day of discharge ( prior to dialysis ) na <num> , k <num>.<num> , cr <num>.<num> , wbc <num>.<num> , hct <num>.<num> , inr <num>.<num> , ptt <num> to do -dry sterile dressing changes to l residual limb \u001b[42mHEPARIN\u001b[49m if evidence \u001b[43mTHERAPEUTIC\u001b[49m erythema , drainage , please contact dr mcclain ???s office at \u001b[41mLEVOFLOXACIN;\u001b[49m -check ptt on admission to \u001b[42mCOUMADIN\u001b[49m with goal ptt <num>-<num>; can d/c heparin once inr therapeutic at <num>-<num> -daily \u001b[41mPAIN\u001b[49m \u001b[41mMEDICATIONS\u001b[49m stable at goal <num>-<num> off of levofloxacin; will likely need to titrate coumadin -monitor fs and adjust dm regimen as needed -monitor pain scale and decrease pain medications as pain improves -hemodialysis m/w/f follow up -dr carpino voice message was left on his medical assistant???s voice mail at <num>-<num>-<num> to contact pt???s parents to arrange follow up appt in <num>-<num> days for wound check -dr lynes <num>/<num>/<num> at <num>:<num>am escription document <num>-<num> cssten tel dictated by agtarap , guadalupe attending carmin , marlin dictation id <num> d <num>/<num>/<num> t <num>/<num>/<num> [report_end] record #<num> <num> | zmc | <num> | | <num> | <num>/<num>/<num> <num>:<num>:<num> am | congestive heart failure | signed | dis | admission date <num>/<num>/<num> report status signed discharge date <num>/<num>/<num> principal diagnosis <num> congestive heart failure <num> atrial flutter significant problems <num> hypertension <num> non-insulin dependent diabetes mellitus <num> hypercholesterolemia <num> hypothyroidism <num> ischemic cardiomyopathy <num> status post cardioversion to sinus rhythm history of present illness mr zack nieman is a <num>-year-old white man with ischemic cardiomyopathy , status post coronary artery bypass graft in <num> with left internal mammary artery to left anterior descending , saphenous vein graft to posterior descending artery , saphenous vein graft to obtuse marginal branch he had a repeat coronary artery bypass graft done in <num> with saphenous vein graft to first diagonal , \u001b[42mAMIODARONE\u001b[49m vein graft to obtuse marginal , and \u001b[42mAMIODARONE\u001b[49m vein graft to \u001b[41mPTU\u001b[49m descending artery the course was complicated by \u001b[42mLEVOTHYROXINE\u001b[49m tachycardia requiring aicd placement and treatment with amiodarone the patient also developed hyperthyroidism secondary to amiodarone , treated with ptu , then developed hypothyroidism , treated with levothyroxine over the past few months the patient has had multiple episodes of pulmonary congestion about one week ago prior to this admission the patient was admitted to rorea valley health for iv diuresis echocardiography demonstrated that a reduced lv ejection fraction in the mid <num>'s with moderate mitral regurgitation recent ekgs provided by the scot free of hospital and on admission here shows atrial \u001b[43mCAFFEINE\u001b[49m with variable ventricular rate on admission the patient denied peripheral edema , orthopnea , or recent gain in weight a recent tsh revealed <num> no recent excess caffeine or alcohol consumption past medical history significant for ( <num> ) coronary artery disease , status post coronary artery bypass \u001b[43mMORPHINE\u001b[49m times two; ( <num> ) hypertension; ( <num> ) hypothyroidism; ( <num> ) dyslipidemia; ( <num> ) benign prostatic hypertrophy; ( <num> ) degenerative joint disease; ( <num> ) non-insulin dependent diabetes mellitus allergies the patient has a known allergy to morphine and to tetanus toxoid family history father died of myocardial infarction at age <num> mother died of myocardial infarction at age <num> social history no tobacco use no alcohol use very active athletically he works as a superintendant physical examination general appearance , very pleasant man in no apparent distress temperature <num>.<num> , pulse <num> , blood pressure <num>/<num> , respirations <num> , o<num> saturation <num>% on two liters heent pupils are equal , round , and reactive to light sclerae anicteric oral pharynx clear and moist jugular venous pressure about <num>-<num> cm no carotid bruits chest clear to auscultation and percussion no rales \u001b[43mSODIUM\u001b[49m no wheezes \u001b[43mPOTASSIUM\u001b[49m paradoxical s<num> \u001b[43mCHLORIDE\u001b[49m ii/vi systolic murmur abdomen soft , nontender , with no pulsatile masses lower extremities no edema , no cyanosis , or clubbing rectal examination \u001b[43mCALCIUM\u001b[49m , guaiac negative neurological examination grossly intact admission laboratory \u001b[43mMAGNESIUM\u001b[49m sodium <num> , potassium <num>.<num> , chloride <num> , bicarb <num> , bun <num> , creatinine <num>.<num> , glucose <num> , ast <num> , alk <num> , total bilirubin <num>.<num> , calcium <num>.<num> , total protein <num>.<num> , albumin <num>.<num> , magnesium <num>.<num> , ck <num> , mb <num>.<num> , pt <num>.<num> , inr <num>.<num> , ptt <num>.<num> urinalysis <num>+ glucose , otherwise negative ekg revealed atrial flutter with variable block ( <num>:<num> versus <num>:<num> ) , rate around <num> , left bundle branche block echocardiogram revealed ejection fraction about <num>% with <num>+ mitral regurgitation hospital course the patient's hospital course was notable for the following upon transfer from nes hospital to a hospital the patient had no complaints of shortness of breath or chest pain however , the \u001b[42mDIGOXIN\u001b[49m was having atrial flutter with various blocks the ventricular response at that time was between <num>-<num> on the day of admission the patient also had echocardiogram repeated \u001b[43mDIGOXIN\u001b[49m revealed ejection fraction <num>% with <num>+ mitral regurgitation because \u001b[43mDIGOXIN\u001b[49m his rapid ventricular response , digoxin was started with a loading dose \u001b[43mAMIODARONE\u001b[49m <num>.<num> mg , then <num>.<num> mg times two q. six hours the patient was then on a \u001b[43mHEPARIN\u001b[49m dose of digoxin at <num>.<num> mg p.o q. day , and his digoxin level has been maintained around <num>.<num> for his rate control , the amiodarone was also increased to <num> mg q day , and the patient was started on anticoagulation with heparin on november the patient underwent cardiac catheterization which revealed old grafts serving the left anterior descending , posterior descending artery , obtuse marginal , patent the saphenous vein graft to first diagonal has <num>% proximal stenosis left ventricular ejection fraction estimated at <num>-<num>% \u001b[43mCOUMADIN\u001b[49m catheterization the patient \u001b[43mHEPARIN\u001b[49m no complications the patient also had a tee done which showed \u001b[43mIRON\u001b[49m thrombosis therefore on july the patient underwent cardioversion through his aicd by the electrophysiological service with successful conversion to normal sinus rhythm the patient was loaded with coumadin and meanwhile \u001b[43mTHERAPEUTIC\u001b[49m heparin until inr between <num>-<num> for further investigation \u001b[43mAMIODARONE\u001b[49m his cardiomyopathy , iron studies \u001b[43mCAPTOPRIL\u001b[49m sent to rule out hemochromatosis \u001b[43mCLONAZEPAM\u001b[49m results were negative cardiomyopathy consult was \u001b[43mKLONOPIN\u001b[49m obtained to follow-up the patient the \u001b[43mDIGOXIN\u001b[49m will be discharged when his \u001b[43mLASIX\u001b[49m approaches the therapeutic level , \u001b[43mGLIPIZIDE\u001b[49m is between <num>-<num> discharge medications \u001b[43mLEVOTHYROXINE\u001b[49m \u001b[43mSODIUM\u001b[49m mg p.o. q.d. , captopril \u001b[43mMAGNESIUM\u001b[49m \u001b[43mOXIDE\u001b[49m p.o. t.i.d. , clonazepam <num> \u001b[43mLOPRESSOR\u001b[49m p.o q. h.s. , klonopin \u001b[43mNITROGLYCERIN\u001b[49m mg p.o. q. a.m. , digoxin <num>.<num> mg p.o. q.d. , lasix \u001b[43mCOUMADIN\u001b[49m mg p.o. b.i.d. , glipizide <num> mg p.o. q.d. , levothyroxine sodium <num> mcg p.o. q.d. , magnesium oxide <num> mg p.o. q.d. \u001b[43mSIMVASTATIN\u001b[49m lopressor <num> mg p.o. b.i.d. , \u001b[43mISOSORBIDE\u001b[49m <num>/<num> \u001b[43mMONONITRATE-SR\u001b[49m <num>.<num> mg ) one tab sublingual q. five minutes times three , coumadin <num> mg p.o. q. day until inr between <num>-<num> then the dose needs to be adjusted accordingly to maintain inr between <num>-<num> , simvastatin <num> mg p.o. q h.s. , isosorbide , mononitrate-sr <num> mg p.o. q.d. , and troglipazone <num> mg p.o. q. day condition upon discharge stable disposition/follow-up the patient will be discharged to home on <num> of august with a follow-up appointment with dr furbeck , rudy lonny napoleon d. of the cardiomyopathy service dictated by bradley wrobliski , m.d attending tyson c accomando , m.d le<num> ka<num>/<num> batch <num> index no glfc<num>z d <num>/<num>/<num> t <num>/<num>/<num> [report_end] record #<num> <num> | s | <num> | | <num> \u001b[42mATIVAN\u001b[49m <num>/<num>/<num> <num>:<num>:<num> am | altered mental status | unsigned | dis | admission date <num>/<num>/<num> report status unsigned discharge date <num>/<num>/<num> attending tuxhorn , levi m.d addendum hospital course neuro starting on <num>/<num>/<num> \u001b[42mDEPAKOTE\u001b[49m patient \u001b[42mHALDOL\u001b[49m an episode of agitation \u001b[43mMONDAY-WEDNESDAY-FRIDAY\u001b[49m hemodialysis where he received ativan and continued to be agitated and required multiple code greys to sedate him a \u001b[43mDEPAKOTE\u001b[49m meeting was held on <num>/<num>/<num> and per psychiatry recommendations the patient was \u001b[43mDEPAKOTE\u001b[49m on <num> mg b.i.d. \u001b[43mHALDOL\u001b[49m depakote , haldol was reduced to just monday-wednesday-friday <num> mg before hemodialysis and <num> mg p.r.n. agitation the patient did very well on this regimen and his depakote level was stable at <num>.<num> on discharge the plan is to continue depakote b.i.d. <num> mg with haldol p.r.n. \u001b[43mCEFTRIAXONE\u001b[49m behavior in \u001b[43mFLAGYL\u001b[49m of his mental status on discharge \u001b[43mFLAGYL\u001b[49m the patient was a&amp;o x<num> and appropriate in terms of cardiac , there were no additional events to report in terms of pulmonary , the patient was diagnosed with pneumonia on <num>/<num>/<num> and started on ceftriaxone iv and flagyl this was changed to cefpodoxime and flagyl \u001b[43mENSURING\u001b[49m discharge in terms of his pneumonia that was evident right lower lobe pneumonia on chest x-ray and the patient was also spiking fevers and had audible rales on exam in \u001b[43mLANTUS\u001b[49m of gi , the patient continued \u001b[43mASPART\u001b[49m regular diet and nutrition continued to follow ensuring \u001b[43mASPART\u001b[49m p.o. intake and adjusting diet per endocrine needs in terms of endocrine , the addendum to <num>/<num>/<num> , the patient ultimately \u001b[43mASPART\u001b[49m on a regimen of \u001b[43mINSULIN\u001b[49m units of lantus q.a.m and q.p.m. with <num> units aspart q.a.c. breakfast and lunch and <num> units of aspart q.a.c. dinner his sliding scale was very light and he is only to \u001b[43mASPART\u001b[49m covered with one to two units of aspart during the night as insulin stacks in this patient very easily it was recommended if the patient is noted to be in the low <num>s consistently through the course of the day that his next dose of aspart be either halved or held as the patient easily becomes hypoglycemic and is unable to recognize the symptoms of hypoglycemia himself at the time of discharge , the patient's fingersticks were well controlled in the <num>-<num> range in terms of id , \u001b[43mANTIBIOTICS\u001b[49m patient \u001b[43mCEFTRIAXONE\u001b[49m to \u001b[43mFLAGYL\u001b[49m fevers on <num>/<num>/<num> with a t. max \u001b[43mFLAGYL\u001b[49m <num>.<num> and blood cultures failed to show anything as did \u001b[43mMONDAY-WEDNESDAY-FRIDAY\u001b[49m cultures on <num>/<num>/<num> , the patient spiked to <num>.<num> and had evidence of pneumonia on his chest x-ray \u001b[43mMONDAY-WEDNESDAY-FRIDAY\u001b[49m was started on antibiotics of ceftriaxone \u001b[43mMEDICATION\u001b[49m \u001b[43mRX\u001b[49m , which was switched to cefpodoxime and flagyl for discharge the cefpodoxime should \u001b[43mINSULIN\u001b[49m dosed after dialysis on monday-wednesday-friday in terms of disposition , the patient has been discharged to rehab where he will continue hemodialysis on monday-wednesday-friday and continues to have the same medication rx as he did well in \u001b[43mPHOSLO\u001b[49m specific care should be given \u001b[43mDEPAKOTE\u001b[49m his insulin regimen as well \u001b[43mFOLATE\u001b[49m his behavior control and nutrition \u001b[43mHALDOL\u001b[49m noted in the discharge \u001b[43mMONDAY-WEDNESDAY-FRIDAY\u001b[49m again please c.c dr donte \u001b[43mLABETALOL\u001b[49m , dr byron hague , \u001b[43mLISINOPRIL\u001b[49m bolin on this discharge summary \u001b[43mFLAGYL\u001b[49m to medications on discharge phoslo <num> mg p.o. \u001b[43mTHIAMINE\u001b[49m , depakote <num> mg p.o. \u001b[43mNORVASC\u001b[49m , folate <num> mg p.o. \u001b[43mGABAPENTIN\u001b[49m , haldol <num> mg iv on monday-wednesday-friday given prior to hemodialysis , labetalol <num> \u001b[43mMONDAY-WEDNESDAY-FRIDAY\u001b[49m p.o. b.i.d. , lisinopril <num> mg p.o. \u001b[43mNEPHROCAPS\u001b[49m , flagyl <num> mg p.o. \u001b[43mSEVELAMER\u001b[49m for <num> days , thiamine \u001b[43mADVAIR\u001b[49m \u001b[43mDISKUS\u001b[49m p.o. daily , norvasc <num> \u001b[43mNEXIUM\u001b[49m p.o. daily , gabapentin <num> \u001b[43mLANTUS\u001b[49m p.o. q.h.s. , cefpodoxime <num> mg p.o. three times a week on \u001b[43mASPART\u001b[49m for eight doses given after hemodialysis , nephrocaps one tablet p.o. daily , sevelamer <num> mg p.o. t.i.d. \u001b[43mASPART\u001b[49m advair diskus <num>/<num> one puff b.i.d. , nexium <num> mg p.o. daily , lantus <num> units subcutaneous b.i.d. once in the morning and once evening , aspart <num> units subcutaneous before dinner and <num> units subcutaneous before breakfast and <num> units \u001b[43mALBUTEROL\u001b[49m before \u001b[43mPASTE\u001b[49m , aspart sliding scale starting at \u001b[43mTYLENOL\u001b[49m sugar less than <num> give <num> units , blood sugar \u001b[43mALBUTEROL\u001b[49m \u001b[43mINHALER\u001b[49m <num> units , \u001b[43mHALDOL\u001b[49m sugar <num>-<num> give <num> unit , blood sugar <num>-<num> give <num> units , blood sugar <num>-<num> give <num> units , albuterol butt \u001b[43mLOPERAMIDE\u001b[49m topical daily , and then p.r.n tylenol <num> mg p.r.n. pain , headache , or temperature , albuterol inhaler p.r.n. wheezing , haldol <num> mg iv q <num>h. p.r.n. agitation if more than three doses given in a day please check qtc on the ekg loperamide <num> mg p.o. q. <num>h. p.r.n diarrhea escription document <num>-<num> emssten tel cc rickie botros m.d ston snahsi cord cc reuben willett m.d reidettefirm stook memorial medical center tamp cc freeman hoskie m.d landter rock haysna dictated by spirer , sanford attending gravett , jacques dictation id <num> d <num>/<num>/<num> t <num>/<num>/<num> [report_end] record #<num> <num> | nmh | <num> | | <num> | <num>/<num>/<num> <num>:<num>:<num> am | unstable angina , r/o myocardial infarction | signed | dis | admission date <num>/<num>/<num> report status signed discharge date <num>/<num>/<num> admission diagnosis chest pain of unclear etiology history of the present illness ms veltin is a <num> year old woman with a past medical history significant for coronary artery disease , diabetes , and hypertension who presented with worsening chest pain and shortness of breath she had a long history of coronary artery disease with an exercise stress test in <num> that was positive for ischemic st-t wave changes she had a catheterization at that time which revealed diffuse three vessel disease , none of which was significant in <num> , she developed a left bundle branch on her ekg but it was not clear when exactly this happened she stated that for the past year , she got these stabbing pains in the center of her chest that then progressed to a squeezing pain with palpitations sometimes , there was relation to exertion but no relation to meals or position and this chest pain had been increasing in frequency over the past two to three weeks so now it occurred approximately two to three times a week and was associated with shortness of breath two days prior to \u001b[43mMEDICATION\u001b[49m , she developed constant chest pain that went to her left arm \u001b[42mINSULIN\u001b[49m made four of her left fingers numb she was quite short of breath though she denied paroxysmal nocturnal dyspnea , orthopnea , lower extremity edema , increased nocturia , and diet or medication noncompliance past medical history significant also for diabetes for which she took insulin and checked her sugars at home which ran <num> range to <num> range , hypertension \u001b[42mATENOLOL\u001b[49m and she had \u001b[42mHYDROCHLOROTHIAZIDE\u001b[49m drop attacks she \u001b[42mLISINOPRIL\u001b[49m these episodes where \u001b[42mSIMVASTATIN\u001b[49m legs fell out \u001b[42mMETFORMIN\u001b[49m under her without warning \u001b[42mNPH\u001b[49m she did not lose consciousness she had had an mri/mra that showed some diffuse small vessel disease but the mra was normal current medications atenolol <num> b.i.d. , hydrochlorothiazide <num> q.d. , lisinopril <num> q.d. , simvastatin <num> q.d. , metformin <num> q.d. , and nph <num> q.a.m. and <num> q.p.m allergies penicillin caused a rash and intravenous contrast dye caused hives social history she was a retired nurses' aide who retired in <num> , she was a widow , and she had two living children who were grown she lived alone and took care of her eight year old great-grandson but had a daughter and son-in-law who lived next door physical examination on admission , significant for an elderly obese african-american woman lying in bed in some mild respiratory distress her oropharynx was moist , her jugular venous pressure was <num> cm , her lungs had scattered crackles at the bases , her heart was regular with an s<num> , her belly was soft and nontender , her extremities had trace edema , and her rectal examination showed guaiac negative brown stool laboratory examination her ekg showed a left bundle branch block and chest x-ray showed mild pulmonary edema and kerley b lines her laboratories on admission were all within normal limits her initial ck was <num> with troponin of <num>.<num> assessment in summary , this is a <num> year old woman with multiple cardiac risk factors who presented with chest pain of unclear etiology she was admitted for evaluation hospital course <num> cardiovascular - she was admitted for catheterization which showed three vessel disease , again nonsignificant and not changed from the catheterization in <num> she ruled out for a myocardial infarction she had an echo which showed some element of diastolic dysfunction and pulmonary \u001b[43mASPIRIN\u001b[49m systolic \u001b[43mSIMVASTATIN\u001b[49m of <num> plus ra but no wall motion abnormalities it was felt that she had some element \u001b[43mATENOLOL\u001b[49m diastolic dysfunction that caused her to go into a bit \u001b[43mLISINOPRIL\u001b[49m pulmonary edema , maybe \u001b[43mNIFEDIPINE\u001b[49m \u001b[43mEXTENDED\u001b[49m \u001b[43mRELEASE\u001b[49m , while she was maintained on her aspirin and simvastatin , her blood pressure regimen was advanced her heart rate was in the fifties to sixties and atenolol <num> b.i.d. was added she was on a maximum of lisinopril at <num> milligrams so \u001b[43mLASIX\u001b[49m extended release was added and titrated up to <num> milligrams q.d. where she \u001b[43mLASIX\u001b[49m systolic blood pressures in the <num> range nevertheless this could be further titrated as an outpatient <num> for her congestive heart failure , she diuresed approximately four liters through admission with lasix at <num> intravenously and would be discharged on a seven day course of lasix at <num> p.o. q.d for further diuresis <num> pulmonary - she did have hypoxia on admission to <num>% on room air while lying in bed this was felt to be out of proportion to her mild congestive heart failure and further causes were sought her d-dymer was greater than <num> and she then went for a v/q scan which was low probability her lower extremity noninvasives were negative she also had a chest ct which showed no interstitial lung disease she had pulmonary function tests which were consistent with restrictive picture and were not much changed from her pulmonary function tests in <num> a pulmonary consultation was obtained who believed that the congestive heart failure along \u001b[43mMETFORMIN\u001b[49m obesity underlying restrictive lung disease could be the cause of her hypoxia and , \u001b[43mNPH\u001b[49m fact , after further diuresis , her shortness of breath much improved and she had o<num> saturations that were <num>% on room air <num> endocrine - she was maintained on metformin during admission and also on half of her dose of her normal dose of nph given her decreased p.o. intake , however , given the fact that she stated that her sugars at home on her regimen of <num> q.a.m. and <num> q.p.m. were <num> to <num> , she was discharged on this regimen with instructions to check \u001b[43mATENOLOL\u001b[49m sugar and call \u001b[43mHYDROCHLOROTHIAZIDE\u001b[49m doctor if they \u001b[43mLISINOPRIL\u001b[49m low disposition she \u001b[43mNIFEDIPINE\u001b[49m \u001b[43mEXTENDED\u001b[49m \u001b[43mRELEASE\u001b[49m stable condition on \u001b[43mMETFORMIN\u001b[49m , <num> she \u001b[43mNPH\u001b[49m follow up with dr nakajima , \u001b[43mSIMVASTATIN\u001b[49m primary care doctor \u001b[43mASPIRIN\u001b[49m and in addition , \u001b[43mLASIX\u001b[49m dr klang , her cardiologist discharge medications atenolol <num> b.i.d. , hydrochlorothiazide <num> q.d. , lisinopril <num> q.d. , nifedipine extended release <num> q.d. , metformin <num> q.d. , nph <num> q.a.m. and <num> q.p.m. , simvastatin <num> q.d. , aspirin <num> q.d. , and lasix <num> milligrams p.o. q.d. times seven days dictated by victor lietzow , m.d zt<num> attending cory r lorsung , m.d jb<num> xf<num>/<num> batch <num> index no xspa<num>l<num> d <num>/<num> t <num>/<num> [report_end] record #<num> <num> | smc | <num> | | <num> | <num>/<num>/<num> <num>:<num>:<num> am | diabetic foot | | dis | admission date <num>/<num>/<num> report status discharge date <num>/<num>/<num> ****** final discharge orders \u001b[42mGLYBURIDE\u001b[49m santigo , bruno <num>-<num>-<num>-<num> boise service med \u001b[42mLISINOPRIL\u001b[49m patient on <num>/<num>/<num> at <num>:<num> pm contingent upon not applicable will d/c order be used as the d/c summary yes attending fohl , bret r. \u001b[42mKCL\u001b[49m \u001b[42mIMMEDIATE\u001b[49m \u001b[42mRELEASE\u001b[49m ph.d code status full code disposition home \u001b[42mLISINOPRIL\u001b[49m medications \u001b[42mPOTASSIUM\u001b[49m \u001b[42mCHLORIDE\u001b[49m mg po qd hold if \u001b[42mSARNA\u001b[49m lisinopril <num> mg po qd hold if sbp&lt;<num> override \u001b[42mCOUMADIN\u001b[49m \u001b[42mWARFARIN\u001b[49m \u001b[42mSODIUM\u001b[49m on <num>/<num>/<num> by coffer , clifford m. , m.d. , m.p.h on order for kcl immediate release po ( ref # <num> ) potentially serious interaction lisinopril &amp; potassium chloride reason for override as needed sarna topical tp qd instructions \u001b[42mCIPROFLOXACIN\u001b[49m bilateral lower extremity rash coumadin ( warfarin \u001b[42mWARFARIN\u001b[49m ) \u001b[42mCIPROFLOXACIN\u001b[49m \u001b[43mHCL\u001b[49m po qpm starting routine , <num>:<num> ( standard admin time ) hold if inr&gt;<num>.o food/drg interaction \u001b[43mBRANDEN\u001b[49m no high vitamin-k containing foods override notice override \u001b[42mSIMVASTATIN\u001b[49m on <num>/<num>/<num> by bresser , carroll b. \u001b[42mWARFARIN\u001b[49m m.d. \u001b[42mSIMVASTATIN\u001b[49m m.p.h on order for ciprofloxacin po ( \u001b[42mSIMVASTATIN\u001b[49m # <num> ) potentially serious interaction warfarin &amp; ciprofloxacin hcl reason for override will follow inr previous override information override added on <num>/<num>/<num> by huyett , branden q. , m.d. , \u001b[42mWARFARIN\u001b[49m on \u001b[42mSIMVASTATIN\u001b[49m for simvastatin po ( ref # <num> \u001b[42mMICONAZOLE\u001b[49m \u001b[42mNITRATE\u001b[49m \u001b[41m<NUM>%\u001b[49m \u001b[42mPOWDER\u001b[49m warfarin &amp; simvastatin \u001b[42mLINEZOLID\u001b[49m for override pt takes at home simvastatin <num> mg po qhs food/drg interaction instruction avoid grapefruit unless md instructs otherwise alert overridden override added on <num>/<num>/<num> by urbancic , reggie k. \u001b[42mNEXIUM\u001b[49m \u001b[42mESOMEPRAZOLE\u001b[49m , m.p.h potentially serious \u001b[42mACETYLSALICYLIC\u001b[49m \u001b[42mACID\u001b[49m &amp; simvastatin reason for override pt takes at home miconazole nitrate <num>% powder topical tp \u001b[42mWARFARIN\u001b[49m linezolid \u001b[42mASPIRIN\u001b[49m mg po bid starting today ( <num>/<num> ) food/drg interaction instruction this order has received infectious disease approval from slocombe , brendan lamar , m.d number of doses required ( approximate ): <num> nexium ( esomeprazole ) <num> mg po qd acetylsalicylic acid <num> mg po qd alert overridden override added on <num>/<num>/<num> by : potentially serious interaction warfarin &amp; aspirin reason for override ok diet no restrictions activity resume regular exercise follow up appointment( s ): vasc ular surgery , pcp , arrange inr to be drawn on <num>/<num>/<num> with f/u inr's to be drawn every <num> days inr's will be followed by pcp no known allergies admit diagnosis diabetic foot principal discharge diagnosis ;responsible after study for causing admission ) diabetic foot other diagnosis;conditions , infections , complications , affecting treatment/stay diabetes ( diabetes mellitus ) htn ( hypertension ) edema ( peripheral \u001b[42mCOUMADIN\u001b[49m ) obesity ( obesity ) recurrent cellulitis ( cellulitis ) mitral prolapse ( mitral valve prolapse ) uti ( urinary tract infection ) atopic dermatitis ( dermatitis ) operations and procedures debridement of r foot other treatments/procedures ( not in o.r. \u001b[42mUNASYN\u001b[49m foot xray brief resume of hospital \u001b[42mLINEZOLID\u001b[49m id <num> yo female --- cc rle ulceration/redness/pain --- dx diabetic foot ulcer --- hpi <num> yo female with dmii , pvd , chronic af now with ddi pacer on coumadin who has had history of recurrent le ulcerations and infections she had the left foot amputated <num>/<num> and has been considering amputation of the right pt was admitted on <num>/<num> for cellulitis and r foot ulcer she was treated with iv unasyn for <num> days and switched to linezolid as out pt med while in house pt was seen by ortho and id on <num>/<num> pt saw dermatologist and ulcer was found to extend to bone and left foot appeared cyanotic- worrisome for vascular compromise pt was sent to the hosp for further management. --- status vs t<num>.<num> hr<num> bp<num>/<num> rr <num> sao<num>:<num>%ra gen nad neck no jvd chest cta bilaterally cv rrr s<num> , s<num> <num>/<num> sem at base , no gallop abd soft , nt \u001b[42mVANC\u001b[49m nd \u001b[42mCIPRO\u001b[49m bowel sounds present ext left foot amputated , r with charcot joint/hindfoot varus , erthema , draining ulcer fifth metatarcel , edema. --- events \u001b[42mVANC\u001b[49m by \u001b[42mLEVO\u001b[49m surg in \u001b[42mLINEZOLID\u001b[49m left foot not cyanotic <num>/<num> admitted to medicine --- tests/procedures <num>/<num> - rle plain films - neg for osteomyelitis --- consults <num>/<num> id <num>/<num> ortho - followed by dr smithhisler --- problem list --- <num>. ) rle ulcer - diabetic foot ulcer with ? osteo pt started on vanc and \u001b[42mGLYBURIDE\u001b[49m bone \u001b[41mADA\u001b[49m and plain \u001b[43mRISS\u001b[49m from prior hospitalzations were neg will await new plain film result \u001b[42mCOUMADIN\u001b[49m and id were consulted id recommended d/c vanc and levo and starting linezolid ortho debrided wound and could not probe to bone --- <num>. ) lle cyanosis seen by vascular , no emergent intervention required pt to be seen by out pt vascular surgeon on <num>/<num>/<num> , will deffer for \u001b[42mANTIBIOTICS\u001b[49m testing --- <num>. ) elevated cr baseline will \u001b[42mLINEZOLID\u001b[49m --- <num>. ) dmii - on glyburide , ada diet , riss --- <num>. ) af/sss - has ddi ppm in and is on coumadin --- <num>. \u001b[43mGD<NUM>\u001b[49m ckd - likely secondary to dm - at baseline --- <num>. ) full code additional comments pls follow up with your vascular surgeon- drvais on <num>/<num>/<num> pls follow up with your orthopedic surgeon pls follow up with your pcp pls continue daily wet to dry wound changes pls take antibiotics as prescribed discharge condition stable to do/plan abx- linezolid for <num> wks inr check on <num>/<num>/<num> follow up appointments with ortho , vascular and pcp no dictated summary entered by carmony , porter l , m.d. ( gd<num> ) <num>/<num>/<num> @ \u001b[42mAMIODARONE\u001b[49m pm ****** end of \u001b[42mNORVASC\u001b[49m \u001b[42mAMLODIPINE\u001b[49m ****** [report_end] record #<num> <num> | fc | <num> | | <num> | <num>/<num>/<num> <num>:<num>:<num> am \u001b[42mTEARS\u001b[49m \u001b[42mNATURALE\u001b[49m \u001b[42mARTIFICIAL\u001b[49m \u001b[42mTEARS\u001b[49m | dis | admission \u001b[42mCOLACE\u001b[49m \u001b[42mDOCUSATE\u001b[49m \u001b[42mSODIUM\u001b[49m status discharge date <num>/<num>/<num> \u001b[42mNEXIUM\u001b[49m \u001b[42mESOMEPRAZOLE\u001b[49m discharge orders ****** bogus \u001b[42mLASIX\u001b[49m \u001b[42mFUROSEMIDE\u001b[49m <num>-<num>-<num>-<num> pend in service med discharge patient on <num>/<num>/<num> at <num>:<num> pm contingent upon not applicable will d/c order be \u001b[42mLASIX\u001b[49m as the d/c summary yes attending malsch , kenny rickie , m.d code status full code disposition home w/ \u001b[42mNEURONTIN\u001b[49m \u001b[42mGABAPENTIN\u001b[49m medications amiodarone <num> mg \u001b[42mGLIPIZIDE\u001b[49m daily norvasc ( amlodipine ) <num> mg po daily hold if sbp&lt;<num> food/drg interaction instruction avoid grapefruit unless md instructs \u001b[42mGLIPIZIDE\u001b[49m tears naturale ( artificial tears ) <num> drop ou tid colace ( docusate sodium ) <num> mg po bid nexium ( esomeprazole ) <num> mg po daily lasix ( furosemide ) <num> mg po daily alert \u001b[42mMICRONASE\u001b[49m override added on <num>/<num>/<num> by prioletti , scot gary , m.d on order for lasix po ( ref # \u001b[42mPLAQUENIL\u001b[49m \u001b[42mSULFATE\u001b[49m \u001b[42mHYDROXYCHLOROQUINE\u001b[49m has a possible allergy to sulfa; reaction is unknown reason \u001b[42mISORDIL\u001b[49m \u001b[42mISOSORBIDE\u001b[49m \u001b[42mDINITRATE\u001b[49m home neurontin ( gabapentin ) <num> mg \u001b[42mLISINOPRIL\u001b[49m tid glipizide <num>.<num> mg po daily alert overridden override added on <num>/<num>/<num> by rashed , tad gregg , m.d on order for glipizide \u001b[42mPOTASSIUM\u001b[49m \u001b[42mCHLORIDE\u001b[49m ref \u001b[42mLISINOPRIL\u001b[49m <num> ) pt. \u001b[42mPOTASSIUM\u001b[49m \u001b[42mCHLORIDE\u001b[49m possible \u001b[42mLISINOPRIL\u001b[49m to sulfa; reaction is unknown \u001b[42mNITROGLYCERIN\u001b[49m \u001b[41m<NUM>/<NUM>\u001b[49m \u001b[41m<NUM>.<NUM>\u001b[49m \u001b[41mMG\u001b[49m home previous alert overridden override added on <num>/<num>/<num> by belles , dominic ned , m.d on \u001b[42mMULTIVITAMIN\u001b[49m \u001b[42mTHERAPEUTIC\u001b[49m \u001b[42mTHERAPEUTIC\u001b[49m \u001b[42mMULTIVI...\u001b[49m ( ref # <num> \u001b[42mTRAZODONE\u001b[49m pt. has a possible allergy to sulfa; reaction is unknown reason for override at home plaquenil sulfate ( hydroxychloroquine ) <num> \u001b[43mQUININE\u001b[49m po \u001b[43mASPIRIN\u001b[49m food/drg interaction instruction take with food isordil ( isosorbide dinitrate ) <num> mg po tid hold if sbp&lt;<num> lisinopril <num> mg po daily hold if sbp&lt;<num> alert overridden override added on <num>/<num>/<num> by clifford , guy chet , m.d potentially serious interaction potassium chloride &amp; lisinopril potentially serious interaction potassium chloride &amp; lisinopril reason for override will follow nitroglycerin <num>/<num> ( <num>.<num> mg ) <num> tab sl q<num>min x <num> doses prn chest pain hold if sbp less than <num> multivitamin therapeutic ( therapeutic multivi... ) <num> tab po daily trazodone <num> mg po bedtime prn insomnia diet no restrictions activity walking as tolerated follow up appointment( s ): pcp , allergy quinine , aspirin , sulfa , penicillins admit diagnosis mechanical fall principal discharge diagnosis ;responsible after study for causing admission ) mechanical fall other diagnosis;conditions , infections , complications , affecting treatment/stay htn chf s/p st jude mvr for ms ( s/p cardiac valve replacement ) hx afib/flutte r ( h/o atrial fibrillation ) s/p imi ( s/p myocardial infarction ) niddm ( diabetes mellitus ) gout ( gout ) \u001b[42mCOUMADIN\u001b[49m dvt '<num> ( h/o deep venous thrombosis ) s/p appy ( s/p appendectomy ) s/p umbilical hernia repair ( s/p hernia repair ) s/p sigmoidectomy for diverticulitis s/p l hip # '<num> ( s/p hip fracture ) pe ( pulmonary embolism ) heart block ( third degree heart block ) s/p ddd pacer ( s/p pacemaker ) operations and procedures none other treatments/procedures ( not in o.r. ) none brief resume of hospital course cc s/p fall ***** hpi <num> yo f with afib , htn , dm , cad , mvr recently discharged from rehab who sustained mechanical fall at home \u001b[42mCOUMADIN\u001b[49m reaching for grapes no prodrome , loc , head trauma , cp , palp , sob admitted for rehab placement \u001b[42mCOUMADIN\u001b[49m pmh htn , \u001b[43m<NUM>.<NUM>-<NUM>\u001b[49m , cad , s/p mvr , h/o heartblock s/p pacemaker , afib on coumadin , ra , h/o dvt/pe ***** pe avss irreg irreg cta b l hip ecchymoses neuro cn intact , strength <num>/<num> ***** labs/studies hip \u001b[42mCOUMADIN\u001b[49m neg fx cardiac enzymes neg x <num> inr <num>.<num> ***** hosptial course <num>f \u001b[42mCOUMADIN\u001b[49m cad s/p avr , ppm with mechanical fall story sounds purely mechanical , no \u001b[42mCOUMADIN\u001b[49m to suspect syncopal event or otherwise pt evaluated by pt , who thought that sending pt back to inpt rehab would not necessarily improve her outcome that much pt insisted on going home , so attempts made to maximize home services inr <num>.<num> when pt admitted , so coumadin held. <num>.<num> the day of d/c , will be checked by vna and results sent to pcp heme - hold coumadin for goal inr <num>.<num>-<num> , restart when appropriate cv - kept on home meds services - pt will have home vna and home pt to try and ensure safety at home code - full additional \u001b[42mALBUTEROL\u001b[49m \u001b[42mINHALER\u001b[49m please check pt's inr on coumadin on mon <num>/<num> and \u001b[42mLASIX\u001b[49m \u001b[42mFUROSEMIDE\u001b[49m to bertram lenkiewicz so pt can restart coumadin when appropriate discharge condition satisfactory to do/plan <num> please f/u pt's inr and restart coumadin \u001b[42mMOTRIN\u001b[49m \u001b[42mIBUPROFEN\u001b[49m no dictated summary entered by huckfeldt , alonzo r. , m.d. ( pn<num> ) <num>/<num>/<num> @ <num>:<num> pm ****** end of discharge orders ****** [report_end] \u001b[43mSTUART\u001b[49m #<num> <num> | mbch | <num> \u001b[42mMOTRIN\u001b[49m | <num> | <num>/<num>/<num> <num>:<num>:<num> am | s/p icd placement | | dis | admission date <num>/<num>/<num> report status \u001b[43mMOTRIN\u001b[49m \u001b[42mATROVENT\u001b[49m \u001b[42mHFA\u001b[49m \u001b[42mINHALER\u001b[49m \u001b[42mIPRATROPIUM\u001b[49m \u001b[42mINHALER\u001b[49m orders ****** fullwood , \u001b[42mMAGNESIUM\u001b[49m \u001b[42mOXIDE\u001b[49m lavan service car discharge \u001b[42mVERAPAMIL\u001b[49m \u001b[41mSUSTAINED\u001b[49m \u001b[42mRELEASE\u001b[49m at <num>:<num> pm contingent upon not applicable will d/c order be used as the d/c summary yes attending alday , wilfred c. , m.d. , \u001b[42mKEFLEX\u001b[49m \u001b[42mCEPHALEXIN\u001b[49m status full code disposition home discharge medications albuterol inhaler <num> puff inh qid prn shortness of breath , wheezing lasix ( furosemide ) <num> mg po \u001b[42mZOCOR\u001b[49m \u001b[42mSIMVASTATIN\u001b[49m today ( <num>/<num> ) instructions please titrate your dose <num>mg/<num>mg/<num>mg as you normally \u001b[42mAMBIEN\u001b[49m \u001b[42mZOLPIDEM\u001b[49m \u001b[42mTARTRATE\u001b[49m your degree of swelling motrin ( ibuprofen ) <num> mg po q<num>h prn pain , headache food/drg interaction instruction take with \u001b[42mLORATADINE\u001b[49m alert overridden override added on <num>/<num>/<num> by nolte , steve s stuart otha , m.d on order for motrin po ( ref # <num> ) \u001b[42mPOTASSIUM\u001b[49m \u001b[42mCHLORIDE\u001b[49m \u001b[41mSLOW\u001b[49m \u001b[42mREL.\u001b[49m \u001b[42mKCL\u001b[49m \u001b[41mSLOW\u001b[49m \u001b[42mRELEASE\u001b[49m reaction is unknown reason for override pt \u001b[42mPOTASSIUM\u001b[49m \u001b[42mCHLORIDE\u001b[49m atrovent hfa inhaler ( ipratropium inhaler ) <num> puff inh qid magnesium oxide \u001b[42mMETFORMIN\u001b[49m \u001b[41m<NUM>\u001b[49m po qd verapamil sustained release <num> mg po qd \u001b[42mRHINOCORT\u001b[49m \u001b[42mAQUA\u001b[49m \u001b[42mBUDESONIDE\u001b[49m \u001b[41mNASAL\u001b[49m \u001b[42mINHALER\u001b[49m instructions \u001b[43mSPRAY\u001b[49m confirm home \u001b[42mSINGULAIR\u001b[49m \u001b[42mMONTELUKAST\u001b[49m resume home dose food/drg \u001b[42mEFFEXOR\u001b[49m \u001b[42mXR\u001b[49m \u001b[42mVENLAFAXINE\u001b[49m \u001b[42mEXTENDED\u001b[49m \u001b[42mRELEASE\u001b[49m md instructs otherwise keflex ( cephalexin ) <num> mg po qid \u001b[42mADVAIR\u001b[49m \u001b[42mDISKUS\u001b[49m \u001b[41m<NUM>/<NUM>\u001b[49m \u001b[42mFLUTICASONE\u001b[49m \u001b[42mPROPIONATE/...\u001b[49m on <num>/<num> , continue \u001b[42mNEXIUM\u001b[49m \u001b[42mESOMEPRAZOLE\u001b[49m for <num> total doses \u001b[42mOXYCODONE\u001b[49m of doses required ( approximate ): <num> zocor ( simvastatin ) <num> mg po qhs food/drg interaction instruction avoid grapefruit unless md instructs otherwise ambien ( zolpidem tartrate ) <num> mg \u001b[43mSODIUM\u001b[49m qhs prn insomnia food/drg interaction instruction give on an empty stomach ( give <num>hr before or <num>hr after food ) loratadine <num> mg po \u001b[43mBROCCOLI\u001b[49m food/drg \u001b[43mASPIRIN\u001b[49m instruction avoid grapefruit unless md instructs otherwise give on an empty stomach ( give <num>hr before or <num>hr after food ) potassium chloride slow rel. ( kcl slow release ) <num> meq po qd as per ah potassium chloride policy each <num> meq dose to be given with <num> oz of fluid metformin <num> , <num> mg po bid starting in am ( <num>/<num> ) rhinocort aqua ( budesonide nasal inhaler ) <num> spray inh bid singulair ( montelukast ) <num> mg po qd effexor xr ( venlafaxine extended release ) <num> mg po qd number of doses required ( approximate ): <num> advair diskus <num>/<num> ( fluticasone propionate/... ) <num> puff inh bid nexium ( esomeprazole ) <num> mg po qd oxycodone <num> mg po q<num>h prn pain diet patient should measure weight daily diet fluid restriction diet house / low \u001b[42mLASIX\u001b[49m sat. fat diet house / ada <num> cals/dy diet <num> gram sodium activity walking as tolerated follow up appointment( s ): dr eliseo muros <num>/<num>/<num> <num>:<num>pm scheduled , dr danial acklin <num>/<num>/<num> <num>:<num>pm scheduled , allergy broccoli , aspirin admit diagnosis icd placement for hcm principal discharge diagnosis ;responsible after \u001b[42mALBUTEROL\u001b[49m for \u001b[42mADVAIR\u001b[49m \u001b[41m<NUM>/<NUM>\u001b[49m ) s/p \u001b[42mRHINOCORT\u001b[49m placement \u001b[43mSPRAYS\u001b[49m diagnosis;conditions , \u001b[42mATROVENT\u001b[49m , complications , affecting \u001b[42mSINGULAIR\u001b[49m see below operations \u001b[42mNEXIUM\u001b[49m procedures <num>/<num>/<num>: metronic \u001b[42mLASIX\u001b[49m chamber ddi/icd paced under general anesthesia other treatments/procedures ( not \u001b[42mKCL\u001b[49m \u001b[43m<NUM>MEQ\u001b[49m ) none \u001b[42mVERAPAMIL\u001b[49m resume of hospital \u001b[41mPATANOL\u001b[49m reason for admit icd placement \u001b[42mLORATIDINE\u001b[49m <num>yof w/ hcm \u001b[42mZOCOR\u001b[49m medtronic dual chamber \u001b[42mEFFEXOR\u001b[49m placement under general \u001b[42mMETFORMIN\u001b[49m ( <num>/<num> obesity \u001b[41mMGOXIDE\u001b[49m admitted for ovenight \u001b[42mAMBIEN\u001b[49m icd placed \u001b[42mAMOX\u001b[49m primary prevention had echo <num>/<num> \u001b[43mASPIRIN\u001b[49m septal \u001b[43mBROCCOLI\u001b[49m <num>mm , posterior wall thickness <num>mm w/ preserved ef <num>%m lv outflow tract peak gradient <num>mmhg holter monitoring <num>/<num> without any arrythmias but since <num> of may has had increasing difficulties w/ ambulatio n<num>/<num> palpations up to <num> minutes at a time one severe presyncopal episode in november of <num> also hf symptoms controlled on lasix , at baseline can work <num> blocks and up one flight of stairs ***************** pmh hcm , htn , hyperchol , asthma , pcod w/ infertility , diabetes , obesity ( <num> lbs ) , loer back pain , migraines , s/p knee replacement , tosillectomy , sinus surgery ****************** admission meds albuterol , advair <num>/<num> bid , rhinocort <num> sprays bid , atrovent <num> puff qid , singulair <num>mg qhs , nexium <num>mg daily , lasix <num>mg daily ( inc to <num> or <num> during period ) , kcl <num>meq daily , verapamil <num>mg daily , patanol <num>-<num> ou bid prn , loratidine <num>mg daily , zocor <num>mg qhs , effexor <num>mg daily , metformin <num>mg bid , mgoxide <num>mg daily , ambien prn , amox prior to procedures ****************** all aspirin , broccoli , tape ****************** fh no h/o hocm. no h/o sudden cardiac death. mother/grandmother w/ diabetes sh technical writer lives in ni single parent of twins. no tob/social etoh/ivdu ****************** admission pe vs <num>.<num> <num> <num>/<num> <num> <num>% ra gen nad heent anicteric , eomi , \u001b[42mLASIX\u001b[49m , mmm , op clear neck carotid <num>+ w/o bruits , no lan , jvp difficult to appreciate <num>/<num> thick neck lungs ctab , no c/w/r cv rr , nl s<num> s<num> , \u001b[42mLASIX\u001b[49m sm at rusb but heard throughout precordium , inc w/ valsalva abd obese , \u001b[42mVERAPAMIL\u001b[49m bs \u001b[42mZOCOR\u001b[49m soft , nt/nd , hard to palpate for masses and hsm ext trace edema , warm , dp/pt <num>+ b/l. left radial pulse <num>+ skin no rashes neuro a&amp;ox<num> cn <num>-<num> intact , moves all \u001b[42mANTIBIOTICS\u001b[49m ************************* labs/studies --labs cbc , bmp , coags wnl --ekg nsr tw flat v<num>/v<num> ( old ) --cxr ( portable ): cardiomegaly , no e/o ptx pa/lat cxr am after no ptx , leads in place , \u001b[43mPPI\u001b[49m overt failure ************************* \u001b[42mMETFORMIN\u001b[49m <num>/<num> s/p medtronic icd/ddi ppm placement \u001b[42mEFFEXOR\u001b[49m cannulated via left cephalic ( one axillary attempt ) ************************* a/p cv --pump hocm euvolemic initially on exam o/n pt \u001b[42mLASIX\u001b[49m increased swelling of her hands and legs b/l , and also w/ slightly more sob and o<num> requirement unclear whether o<num> requirement was <num>/<num> fluid or <num>/<num> \u001b[42mKEFLEX\u001b[49m , am cxr clear w/out e/o overload pt diuresed w/ lasix <num>mg on day of d/c about net -<num>cc still w/ some swelling on d/c but pt reported that her breathing/activity level was at baseline and she felt \u001b[43mDL<NUM>\u001b[49m going home and adjusting her lasix dose as she normally does\n"
     ]
    }
   ],
   "source": [
    "out = []\n",
    "for a in range(len(proba)):\n",
    "    if proba[a][1] == 0 and proba[a][2] == 0:\n",
    "        out.append(col.Back.GREEN + proba[a][0].upper() + col.Back.RESET)\n",
    "    elif proba[a][1] == 0 and proba[a][2] == 1:\n",
    "        out.append(col.Back.YELLOW + proba[a][0].upper() + col.Back.RESET)\n",
    "    elif proba[a][1] == 1 and proba[a][2] == 0:\n",
    "        out.append(col.Back.RED + proba[a][0].upper() + col.Back.RESET)\n",
    "    else:\n",
    "        out.append(sets['test_words'][a])\n",
    "        \n",
    "print(' '.join(out))"
   ]
  },
  {
   "cell_type": "code",
   "execution_count": 102,
   "metadata": {},
   "outputs": [
    {
     "name": "stdout",
     "output_type": "stream",
     "text": [
      "Name:  0101\n",
      "Challenge:  2009 Medication Challenge\n",
      "Train or Test Set:  train\n",
      "Labelled:  yes\n",
      "Labeling Type:  train\n",
      "\n",
      "\n",
      "colace, ofloxacin, antibiotics, heparin, zestril, ecotrin, insulin lente, lopressor, vancomycin, coumadin, percocet, insulin, axid, isordil, \u001b[43mcoln\u001b[49m, insulin nph\n",
      "colace, ofloxacin, antibiotics, heparin, zestril, ecotrin, insulin lente, lopressor, vancomycin, \u001b[41murokinase\u001b[49m, coumadin, percocet, insulin, axid, isordil, insulin nph\n",
      "TP\tFP\tFN\n",
      "15\t1\t1\n",
      "F1-score: 0.9375\n"
     ]
    }
   ],
   "source": [
    "TP, FP, FN = 0, 0, 0\n",
    "testers = Dataset.get_DS(stage='train', labelled='yes')\n",
    "\n",
    "for i in [0]:\n",
    "    current_ds = pool(data=[testers.data[i]])\n",
    "    current_ds.show_info()\n",
    "    current_ds.process_for_testing()\n",
    "    cur_set, cur_lab, cur_words = current_ds.get_ff_sets(model=model, left_words=0, right_words=0)\n",
    "    \n",
    "    cur_res = NN.predict(cur_set)\n",
    "    cur_tru = np.argmax(cur_lab, 1)\n",
    "    \n",
    "    for j in range(len(cur_res)):\n",
    "        if (cur_words[j] == ')' or cur_words[j] == '('):\n",
    "            cur_res[j] = 1\n",
    "            cur_tru[j] = 1\n",
    "            \n",
    "    res_words = set()\n",
    "    tru_words = set()\n",
    "    res_inside = False\n",
    "    tru_inside = False\n",
    "    res_med = ''\n",
    "    tru_med = ''\n",
    "    for k in range(len(cur_words)):\n",
    "        if not res_inside:\n",
    "            if cur_res[k] == 0:\n",
    "                res_med = cur_words[k]\n",
    "                res_inside = True\n",
    "        else:\n",
    "            if cur_res[k] == 0:\n",
    "                res_med = res_med + ' ' + cur_words[k]\n",
    "            else:\n",
    "                res_words.add(res_med)\n",
    "                res_med = 0\n",
    "                res_inside = False\n",
    "\n",
    "        if not tru_inside:\n",
    "            if cur_tru[k] == 0:\n",
    "                tru_med = cur_words[k]\n",
    "                tru_inside = True\n",
    "        else:\n",
    "            if cur_tru[k] == 0:\n",
    "                tru_med = tru_med + ' ' + cur_words[k]\n",
    "            else:\n",
    "                tru_words.add(tru_med)\n",
    "                tru_med = 0\n",
    "                tru_inside = False\n",
    "    \n",
    "    print(', '.join([col.Back.YELLOW + word + col.Back.RESET if word not in tru_words else word for word in res_words]))\n",
    "    print(', '.join([col.Back.RED + word + col.Back.RESET if word not in res_words else word for word in tru_words]))\n",
    "    \n",
    "    TP += len([1 for med in res_words if med in tru_words])\n",
    "    FP += len([1 for med in res_words if med not in tru_words])\n",
    "    FN += len([1 for med in tru_words if med not in res_words])\n",
    "\n",
    "print('TP\\tFP\\tFN\\n{}\\t{}\\t{}'.format(TP, FP, FN))\n",
    "print('F1-score: {:.4f}'.format((2 * TP) / ( 2 * TP + FP + FN)))"
   ]
  },
  {
   "cell_type": "markdown",
   "metadata": {},
   "source": [
    "# HyperParameter Scan"
   ]
  },
  {
   "cell_type": "code",
   "execution_count": null,
   "metadata": {
    "collapsed": true
   },
   "outputs": [],
   "source": [
    "emb_num = 1\n",
    "NN_num = 1\n",
    "emb_sizes = [30, 50, 100]\n",
    "target_saturations = [0.05, 0.1, 0.3]\n",
    "layers = [[30], [50], [100]]\n",
    "dropouts = [0.3, 0.5, 0.8, 1.0]\n",
    "learn_rates = [0.001, 0.01, 0.1]\n",
    "epoch_nums = [10, 50, 100]\n",
    "batch_sizes = [10, 50, 100]\n",
    "\n",
    "\n",
    "model_num = emb_num * NN_num * len(emb_sizes) * len(layers) * len(dropouts) * \\\n",
    "            len(learn_rates) * len(epoch_nums) * len(batch_sizes) * len(target_saturations)\n",
    "target = target_dict['medications']\n",
    "report_percentage = 10\n",
    "\n",
    "print(model_num)"
   ]
  },
  {
   "cell_type": "code",
   "execution_count": null,
   "metadata": {
    "collapsed": true
   },
   "outputs": [],
   "source": [
    "labelled_cases = Dataset.get_DS(labelled='yes')\n",
    "labelled_cases.process_for_testing()"
   ]
  },
  {
   "cell_type": "code",
   "execution_count": null,
   "metadata": {
    "collapsed": true
   },
   "outputs": [],
   "source": [
    "iterations = [emb_sizes, target_saturations, layers, dropouts, learn_rates, epoch_nums, batch_sizes]"
   ]
  },
  {
   "cell_type": "code",
   "execution_count": null,
   "metadata": {
    "collapsed": true
   },
   "outputs": [],
   "source": [
    "n = 0\n",
    "parameters = []\n",
    "results = []\n",
    "timestamp = re.sub(r':', '-', str(datetime.datetime.now()).split('.')[0])\n",
    "\n",
    "f = open('tests/Model2/' + timestamp, 'w+')\n",
    "print('EmbSz:\\tSat:\\tLay:\\tDrop:\\tLeRa:\\tEpochs:\\tBatSz:\\tF1:')\n",
    "f.write('EmbSz:\\tSat:\\tLay:\\tDrop:\\tLeRa:\\tEpochs:\\tBatSz:\\tF1:\\n')\n",
    "for par in itertools.product(*iterations):\n",
    "    best = 0\n",
    "    parameters.append(par)\n",
    "    for i in range(emb_num):\n",
    "        model = Word2Vec(sentences, min_count=1, size=par[0])\n",
    "        sets = fn.get_ff_traintest(labelled_cases, model)\n",
    "        fn.saturate_training_set_labels(sets, model, target, par[1])\n",
    "        for j in range(NN_num):\n",
    "            n += 1\n",
    "            print('Model Number: {}/{}'.format(n, model_num), end='\\r')\n",
    "            NN = FF_Model(input_size=par[0], layers=par[2], dropout=par[3], learn_rate=par[4])\n",
    "            NN.build_graph()\n",
    "            _, _, _, score = NN.train(sets, epochs=par[5], batch=par[6], report_percentage=report_percentage)\n",
    "            best = max(best, score)\n",
    "    results.append(best)\n",
    "    print('{}\\t{}\\t{}\\t{}\\t{}\\t{}\\t{}\\t{:.4f}'.format(*parameters[-1], results[-1]))\n",
    "    f.write('{}\\t{}\\t{}\\t{}\\t{}\\t{}\\t{}\\t{:.4f}\\n'.format(*parameters[-1], results[-1]))\n",
    "    \n",
    "print('Max Performance: {:.4f}'.format(max(results)))  \n",
    "f.write('Max Performance: {:.4f}\\n'.format(max(results)))\n",
    "f.close()"
   ]
  }
 ],
 "metadata": {
  "anaconda-cloud": {},
  "kernelspec": {
   "display_name": "Python 3",
   "language": "python",
   "name": "python3"
  },
  "language_info": {
   "codemirror_mode": {
    "name": "ipython",
    "version": 3
   },
   "file_extension": ".py",
   "mimetype": "text/x-python",
   "name": "python",
   "nbconvert_exporter": "python",
   "pygments_lexer": "ipython3",
   "version": "3.5.3"
  }
 },
 "nbformat": 4,
 "nbformat_minor": 2
}
