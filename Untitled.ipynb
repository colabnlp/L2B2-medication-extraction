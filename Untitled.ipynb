{
 "cells": [
  {
   "cell_type": "code",
   "execution_count": 44,
   "metadata": {},
   "outputs": [
    {
     "name": "stdout",
     "output_type": "stream",
     "text": [
      "[[ 0.  1.  2.]\n",
      " [ 3.  4.  5.]\n",
      " [ 6.  7.  8.]]\n",
      "[[ 0.  1.  2.]\n",
      " [ 3.  4.  5.]\n",
      " [ 6.  7.  8.]]\n",
      "[[  0.   1.   4.]\n",
      " [  9.  16.  25.]\n",
      " [ 36.  49.  64.]]\n",
      "1.05896\n",
      "[[[1 2 3]\n",
      "  [1 2 3]]\n",
      "\n",
      " [[1 2 3]\n",
      "  [1 2 3]]]\n",
      "[[[7]\n",
      "  [8]]\n",
      "\n",
      " [[9]\n",
      "  [0]]]\n",
      "[[[1 2 3 7]\n",
      "  [1 2 3 8]]\n",
      "\n",
      " [[1 2 3 9]\n",
      "  [1 2 3 0]]]\n"
     ]
    }
   ],
   "source": [
    "import tensorflow as tf\n",
    "with tf.Session() as sess:\n",
    "    x = tf.range(9, dtype=tf.float32)\n",
    "    x = tf.reshape(tensor=x, shape=(3,3))\n",
    "    y = tf.range(9, dtype=tf.float32)\n",
    "    y = tf.reshape(tensor=y, shape=(3,3))\n",
    "    print(x.eval())\n",
    "    print(y.eval())\n",
    "    print((x*y).eval())\n",
    "    a = tf.constant(3)\n",
    "    b = tf.constant([0.1, 0.1, 0.2, 0.6], dtype=tf.float32)\n",
    "    print((tf.nn.sparse_softmax_cross_entropy_with_logits(labels=a, logits=b)).eval())\n",
    "    a = tf.constant([[[1,2,3], [1,2,3]], [[1,2,3], [1,2,3]]])\n",
    "    b = tf.constant([[[7],[8]],[[9],[0]]])\n",
    "    print(a.eval())\n",
    "    print(b.eval())\n",
    "    print(tf.concat([a, b], axis=-1).eval())"
   ]
  },
  {
   "cell_type": "code",
   "execution_count": null,
   "metadata": {
    "collapsed": true
   },
   "outputs": [],
   "source": []
  }
 ],
 "metadata": {
  "kernelspec": {
   "display_name": "Python 3",
   "language": "python",
   "name": "python3"
  },
  "language_info": {
   "codemirror_mode": {
    "name": "ipython",
    "version": 3
   },
   "file_extension": ".py",
   "mimetype": "text/x-python",
   "name": "python",
   "nbconvert_exporter": "python",
   "pygments_lexer": "ipython3",
   "version": "3.5.4"
  }
 },
 "nbformat": 4,
 "nbformat_minor": 2
}
