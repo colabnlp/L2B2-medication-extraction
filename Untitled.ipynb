{
 "cells": [
  {
   "cell_type": "code",
   "execution_count": 27,
   "metadata": {},
   "outputs": [
    {
     "name": "stdout",
     "output_type": "stream",
     "text": [
      "[[[  0.   1.   2.   3.]\n",
      "  [  4.   5.   6.   7.]\n",
      "  [  8.   9.  10.  11.]]\n",
      "\n",
      " [[ 12.  13.  14.  15.]\n",
      "  [ 16.  17.  18.  19.]\n",
      "  [ 20.  21.  22.  23.]]]\n",
      "[[ 12.  15.  18.  21.]\n",
      " [ 48.  51.  54.  57.]]\n",
      "[[ 12.  15.  18.  21.   1.]\n",
      " [ 48.  51.  54.  57.   1.]]\n"
     ]
    }
   ],
   "source": [
    "import tensorflow as tf\n",
    "with tf.Session() as sess:\n",
    "    x = tf.range(24, dtype=tf.float32)\n",
    "    x = tf.reshape(tensor=x, shape=(2,3,4))\n",
    "    print(x.eval())\n",
    "    x = tf.reduce_sum(x, 1)\n",
    "    print(x.eval())\n",
    "    c = tf.concat([x, tf.constant(1, dtype=tf.float32, shape=[2, 1])], axis=-1)\n",
    "    print(c.eval())\n"
   ]
  },
  {
   "cell_type": "code",
   "execution_count": 2,
   "metadata": {
    "collapsed": true
   },
   "outputs": [],
   "source": [
    "from tensorflow.python.client import device_lib\n",
    "\n",
    "def get_available_gpus():\n",
    "    local_device_protos = device_lib.list_local_devices()\n",
    "    return [x.name for x in local_device_protos if x.device_type == 'GPU']"
   ]
  },
  {
   "cell_type": "code",
   "execution_count": 4,
   "metadata": {},
   "outputs": [
    {
     "data": {
      "text/plain": [
       "[]"
      ]
     },
     "execution_count": 4,
     "metadata": {},
     "output_type": "execute_result"
    }
   ],
   "source": [
    "get_available_gpus()"
   ]
  },
  {
   "cell_type": "code",
   "execution_count": 32,
   "metadata": {},
   "outputs": [
    {
     "name": "stdout",
     "output_type": "stream",
     "text": [
      "0.8367783321454028\n",
      "0.7975543478260869\n",
      "0.816695652173913\n"
     ]
    }
   ],
   "source": [
    "tp = 1174\n",
    "fp = 229\n",
    "fn = 298\n",
    "prec = tp/(tp+fp)\n",
    "rec = tp/(tp+fn)\n",
    "print(prec)\n",
    "print(rec)\n",
    "print((2*prec*rec)/(prec+rec))"
   ]
  },
  {
   "cell_type": "code",
   "execution_count": null,
   "metadata": {
    "collapsed": true
   },
   "outputs": [],
   "source": []
  }
 ],
 "metadata": {
  "kernelspec": {
   "display_name": "Python 3",
   "language": "python",
   "name": "python3"
  },
  "language_info": {
   "codemirror_mode": {
    "name": "ipython",
    "version": 3
   },
   "file_extension": ".py",
   "mimetype": "text/x-python",
   "name": "python",
   "nbconvert_exporter": "python",
   "pygments_lexer": "ipython3",
   "version": "3.5.4"
  }
 },
 "nbformat": 4,
 "nbformat_minor": 2
}
