{
 "cells": [
  {
   "cell_type": "code",
   "execution_count": 1,
   "metadata": {},
   "outputs": [
    {
     "name": "stderr",
     "output_type": "stream",
     "text": [
      "C:\\Users\\Luka\\Anaconda3\\envs\\tensorflow\\lib\\site-packages\\gensim\\utils.py:860: UserWarning: detected Windows; aliasing chunkize to chunkize_serial\n",
      "  warnings.warn(\"detected Windows; aliasing chunkize to chunkize_serial\")\n"
     ]
    }
   ],
   "source": [
    "import numpy as np\n",
    "import re\n",
    "import random\n",
    "import itertools\n",
    "import datetime\n",
    "\n",
    "import tensorflow as tf\n",
    "import sklearn as sk\n",
    "\n",
    "from gensim.models import Word2Vec\n",
    "\n",
    "import Functions as fn\n",
    "from DS import DS\n",
    "from Set import pool\n",
    "from Iterator import Iterator\n",
    "from FFModel import FF_Model"
   ]
  },
  {
   "cell_type": "code",
   "execution_count": 2,
   "metadata": {},
   "outputs": [
    {
     "name": "stdout",
     "output_type": "stream",
     "text": [
      "Raw Text Load Complete\n",
      "Raw Labels Load Complete\n"
     ]
    }
   ],
   "source": [
    "Dataset = pool()\n",
    "Dataset.load_texts('raw_texts')\n",
    "Dataset.load_labels('raw_labels')"
   ]
  },
  {
   "cell_type": "markdown",
   "metadata": {},
   "source": [
    "# Horizontal Metrics"
   ]
  },
  {
   "cell_type": "code",
   "execution_count": 173,
   "metadata": {},
   "outputs": [
    {
     "data": {
      "text/plain": [
       "{1: 2}"
      ]
     },
     "execution_count": 173,
     "metadata": {},
     "output_type": "execute_result"
    }
   ],
   "source": [
    "a = {1:2}\n",
    "a"
   ]
  },
  {
   "cell_type": "code",
   "execution_count": 99,
   "metadata": {
    "collapsed": true
   },
   "outputs": [],
   "source": [
    "all_set = Dataset.get_DS(labelled='yes')\n",
    "train_set = pool(data=(Dataset.get_DS(stage='test', labelled='yes')).data[:-10])\n",
    "validation_set = pool(data=(Dataset.get_DS(stage='test', labelled='yes')).data[-10:])\n",
    "test_set = Dataset.get_DS(stage='train', labelled='yes')\n",
    "ehrs = [train_set.size, validation_set.size, test_set.size, all_set.size]"
   ]
  },
  {
   "cell_type": "code",
   "execution_count": 162,
   "metadata": {
    "collapsed": true
   },
   "outputs": [],
   "source": [
    "eps = []\n",
    "ens = []\n",
    "pns = []\n",
    "tns = []\n",
    "dns = []\n",
    "vocs = []\n",
    "for seti in [train_set, validation_set, test_set, all_set]:\n",
    "#for seti in [pool(test_set.data[1:2])]:\n",
    "    ep = [0, 0, 0, 0, 0, 0]\n",
    "    en = 0\n",
    "    pn = 0\n",
    "    tn = 0\n",
    "    dn = 0\n",
    "    voc = set()\n",
    "    for case in seti.data:\n",
    "        for entry in case.raw_labels.split('\\n'):\n",
    "            if entry is not '':\n",
    "                en += 1\n",
    "                i = 0\n",
    "                for field in entry.split('||')[:6]:\n",
    "                    if not re.search(r'=\"nm\"', field):\n",
    "                        pn += 1\n",
    "                        ep[i] += 1\n",
    "                        phrase = re.search(r'\"[^\"]+\"', field).group()\n",
    "                        phrase = phrase[1:-1]\n",
    "                        if re.search(r'\\.\\.\\.', phrase):\n",
    "                            dn += 1\n",
    "                        phrase = re.sub(r'\\.\\.\\.', ' ', phrase)\n",
    "                        phrase = re.sub(r'\\d+', '<NUM>', phrase)  \n",
    "                        phrase = re.sub(r'([A-Za-z]):', r'\\1', phrase)  \n",
    "                        phrase = re.sub(r'([A-Za-z])\\.', r'\\1', phrase)\n",
    "                        phrase = re.sub(r'([A-Za-z]);', r'\\1', phrase)\n",
    "                        phrase = phrase.lower()\n",
    "                        phrase = phrase.split()\n",
    "                        tn += len(phrase)\n",
    "                        for token in phrase:\n",
    "                            voc.add(token)\n",
    "                    i += 1\n",
    "    eps.append(ep)\n",
    "    ens.append(en)\n",
    "    pns.append(pn)\n",
    "    tns.append(tn)\n",
    "    dns.append(dn)\n",
    "    vocs.append(voc)"
   ]
  },
  {
   "cell_type": "raw",
   "metadata": {},
   "source": [
    "with open(\"stopwords.txt\", \"r\") as doc:\n",
    "    stopwords = set(doc.read().split('\\n'))\n",
    "stopwordsy.update({'nm', 'ngl'})\n",
    "\n",
    "for word in vocs[3]:\n",
    "    if (word not in voca) and (word not in stopwords):\n",
    "        print(word)"
   ]
  },
  {
   "cell_type": "code",
   "execution_count": 163,
   "metadata": {},
   "outputs": [
    {
     "name": "stdout",
     "output_type": "stream",
     "text": [
      "No. EHRs per Set: [238  10  10 258]\n",
      "No. Ent per Set: [8387, 485, 376, 9248]\n",
      "No. Phr per Set: [21496, 1329, 973, 23798]\n",
      "No. Tok per Set: [34599, 2164, 1569, 38332]\n",
      "Avg Ent/EHR: [ 35.2394958   48.5         37.6         35.84496124]\n",
      "Avg Phr/EHR: [  90.31932773  132.9          97.3          92.24031008]\n",
      "Avg Tok/EHR: [ 145.37394958  216.4         156.9         148.57364341]\n",
      "Avg Phr/Ent: [ 2.56301419  2.74020619  2.58776596  2.57331315]\n",
      "Avg Tok/Ent: [ 4.12531298  4.46185567  4.17287234  4.14489619]\n",
      "Avg Tok/Phr: [ 1.60955527  1.62829195  1.61253854  1.61072359]\n",
      "Tok. Voc. Size: [2267, 442, 373, 2367]\n",
      "Toks not in Train Toc. Voc: 48 52 100\n",
      "No. Disj Phr: [91, 8, 8, 107]\n"
     ]
    }
   ],
   "source": [
    "print('No. EHRs per Set:', ehrs)\n",
    "print('No. Ent per Set:', ens)\n",
    "print('No. Phr per Set:', pns)\n",
    "print('No. Tok per Set:', tns)\n",
    "ehrs = np.array(ehrs)\n",
    "ens = np.array(ens)\n",
    "pns = np.array(pns)\n",
    "tns = np.array(tns)\n",
    "print('Avg Ent/EHR:', ens/ehrs)\n",
    "print('Avg Phr/EHR:', pns/ehrs)\n",
    "print('Avg Tok/EHR:', tns/ehrs)\n",
    "print('Avg Phr/Ent:', pns/ens)\n",
    "print('Avg Tok/Ent:', tns/ens)\n",
    "print('Avg Tok/Phr:', tns/pns)\n",
    "print('Tok. Voc. Size:', list(map(len, vocs)))\n",
    "print('Toks not in Train Toc. Voc:', len(vocs[1]-vocs[0]), len(vocs[2]-vocs[0]), len(vocs[3]-vocs[0]))\n",
    "print('No. Disj Phr:', dns)"
   ]
  },
  {
   "cell_type": "code",
   "execution_count": 168,
   "metadata": {},
   "outputs": [
    {
     "name": "stdout",
     "output_type": "stream",
     "text": [
      "Presence of fields in entries:\n",
      "100.00, 49.47, 37.69, 44.72, 6.14, 18.28,\n",
      "100.00, 56.29, 40.82, 53.40, 5.98, 17.53,\n",
      "100.00, 54.79, 33.51, 50.53, 4.79, 15.16,\n",
      "100.00, 50.04, 37.68, 45.42, 6.08, 18.11,\n"
     ]
    }
   ],
   "source": [
    "print('Presence of fields in entries:')\n",
    "eps = np.array(eps)\n",
    "for i in range(4):\n",
    "    print('{:.2f}, {:.2f}, {:.2f}, {:.2f}, {:.2f}, {:.2f},'.format(*((eps[i]/ens[i])*100)))"
   ]
  },
  {
   "cell_type": "markdown",
   "metadata": {},
   "source": [
    "# Vertical Analysis "
   ]
  },
  {
   "cell_type": "code",
   "execution_count": 174,
   "metadata": {
    "collapsed": true
   },
   "outputs": [],
   "source": [
    "from collections import Counter"
   ]
  },
  {
   "cell_type": "code",
   "execution_count": 206,
   "metadata": {},
   "outputs": [
    {
     "name": "stdout",
     "output_type": "stream",
     "text": [
      "meds\n",
      "No. Phr per Set: 7974 & 456 & 360 & 8790\n",
      "No. Tok per Set 12468 & 705 & 516 & 13689\n",
      "Avg Phr/EHR: 33.50 & 45.60 & 36.00 & 34.07\n",
      "Avg Tok/EHR: 52.39 & 70.50 & 51.60 & 53.06\n",
      "Avg Tok/Phr: 1.56 & 1.55 & 1.43 & 1.56\n",
      "Tok. Voc. Size: 1228 & 240 & 179 & 1272\n",
      "Toks not in Train Toc. Voc: N/A & 26 & 18 & 44\n",
      "No. Disj Phr: 41 & 5 & 2 & 48\n",
      "\n",
      "\n",
      "dosages\n",
      "No. Phr per Set: 4079 & 268 & 203 & 4550\n",
      "No. Tok per Set 7878 & 497 & 386 & 8761\n",
      "Avg Phr/EHR: 17.14 & 26.80 & 20.30 & 17.64\n",
      "Avg Tok/EHR: 33.10 & 49.70 & 38.60 & 33.96\n",
      "Avg Tok/Phr: 1.93 & 1.85 & 1.90 & 1.93\n",
      "Tok. Voc. Size: 196 & 40 & 49 & 212\n",
      "Toks not in Train Toc. Voc: N/A & 5 & 11 & 16\n",
      "No. Disj Phr: 5 & 0 & 1 & 6\n",
      "\n",
      "\n",
      "modes\n",
      "No. Phr per Set: 3085 & 192 & 126 & 3403\n",
      "No. Tok per Set 3213 & 199 & 128 & 3540\n",
      "Avg Phr/EHR: 12.96 & 19.20 & 12.60 & 13.19\n",
      "Avg Tok/EHR: 13.50 & 19.90 & 12.80 & 13.72\n",
      "Avg Tok/Phr: 1.04 & 1.04 & 1.02 & 1.04\n",
      "Tok. Voc. Size: 94 & 17 & 16 & 97\n",
      "Toks not in Train Toc. Voc: N/A & 2 & 1 & 3\n",
      "No. Disj Phr: 3 & 0 & 0 & 3\n",
      "\n",
      "\n",
      "freqs\n",
      "No. Phr per Set: 3689 & 254 & 186 & 4129\n",
      "No. Tok per Set 5229 & 361 & 279 & 5869\n",
      "Avg Phr/EHR: 15.50 & 25.40 & 18.60 & 16.00\n",
      "Avg Tok/EHR: 21.97 & 36.10 & 27.90 & 22.75\n",
      "Avg Tok/Phr: 1.42 & 1.42 & 1.50 & 1.42\n",
      "Tok. Voc. Size: 183 & 55 & 61 & 192\n",
      "Toks not in Train Toc. Voc: N/A & 0 & 9 & 9\n",
      "No. Disj Phr: 33 & 3 & 4 & 40\n",
      "\n",
      "\n",
      "durs\n",
      "No. Phr per Set: 479 & 29 & 17 & 525\n",
      "No. Tok per Set 1691 & 117 & 70 & 1878\n",
      "Avg Phr/EHR: 2.01 & 2.90 & 1.70 & 2.03\n",
      "Avg Tok/EHR: 7.11 & 11.70 & 7.00 & 7.28\n",
      "Avg Tok/Phr: 3.53 & 4.03 & 4.12 & 3.58\n",
      "Tok. Voc. Size: 222 & 34 & 30 & 224\n",
      "Toks not in Train Toc. Voc: N/A & 1 & 1 & 2\n",
      "No. Disj Phr: 3 & 0 & 0 & 3\n",
      "\n",
      "\n",
      "reasons\n",
      "No. Phr per Set: 1263 & 68 & 54 & 1385\n",
      "No. Tok per Set 2396 & 148 & 125 & 2669\n",
      "Avg Phr/EHR: 5.31 & 6.80 & 5.40 & 5.37\n",
      "Avg Tok/EHR: 10.07 & 14.80 & 12.50 & 10.34\n",
      "Avg Tok/Phr: 1.90 & 2.18 & 2.31 & 1.93\n",
      "Tok. Voc. Size: 651 & 93 & 78 & 705\n",
      "Toks not in Train Toc. Voc: N/A & 23 & 31 & 54\n",
      "No. Disj Phr: 4 & 0 & 0 & 4\n",
      "\n",
      "\n"
     ]
    }
   ],
   "source": [
    "targets = ['meds', 'dosages', 'modes', 'freqs', 'durs', 'reasons']\n",
    "tartok = []\n",
    "tarlen = []\n",
    "for i in range(len(targets)):\n",
    "    trl = []\n",
    "    ttt = []\n",
    "    pns = []\n",
    "    tns = []\n",
    "    vocs = []\n",
    "    dns = []\n",
    "    for seti in [train_set, validation_set, test_set, all_set]:\n",
    "    #for seti in [pool(data=(test_set.data[6:7]))]:\n",
    "        pn = 0\n",
    "        tn = 0\n",
    "        dn = 0\n",
    "        voc = set()\n",
    "        for case in seti.data:\n",
    "            used = set()\n",
    "            for entry in case.raw_labels.split('\\n'):\n",
    "                if entry is not '':\n",
    "                    field = entry.split('||')[i]\n",
    "                    if not re.search(r'=\"nm\"', field):\n",
    "                        if field not in used:\n",
    "                            used.add(field)\n",
    "                            pn += 1\n",
    "                            phrase = re.search(r'\"[^\"]+\"', field).group()\n",
    "                            phrase = phrase[1:-1]\n",
    "                            if re.search(r'\\.\\.\\.', phrase):\n",
    "                                dn += 1\n",
    "                            phrase = re.sub(r'\\.\\.\\.', ' ', phrase)\n",
    "                            phrase = re.sub(r'\\d+', '<NUM>', phrase)  \n",
    "                            phrase = re.sub(r'([A-Za-z]):', r'\\1', phrase)  \n",
    "                            phrase = re.sub(r'([A-Za-z])\\.', r'\\1', phrase)\n",
    "                            phrase = re.sub(r'([A-Za-z]);', r'\\1', phrase)\n",
    "                            phrase = phrase.lower()\n",
    "                            phrase = phrase.split()\n",
    "                            if seti == all_set :\n",
    "                                trl.append(len(phrase))\n",
    "                                #if len(phrase) == 13:\n",
    "                                    #print(field)\n",
    "                            tn += len(phrase)\n",
    "                            for token in phrase:\n",
    "                                voc.add(token)\n",
    "        ttt.append(tn)\n",
    "        pns.append(pn)\n",
    "        tns.append(tn)\n",
    "        dns.append(dn)\n",
    "        vocs.append(voc)\n",
    "    tartok.append(ttt)\n",
    "    tarlen.append(trl)\n",
    "    print(targets[i])\n",
    "    print('No. Phr per Set: {} & {} & {} & {}'.format(*pns))\n",
    "    print('No. Tok per Set {} & {} & {} & {}'.format(*tns))\n",
    "    ehrs = np.array(ehrs)\n",
    "    ens = np.array(ens)\n",
    "    pns = np.array(pns)\n",
    "    tns = np.array(tns)\n",
    "    print('Avg Phr/EHR: {:.2f} & {:.2f} & {:.2f} & {:.2f}'.format(*(pns/ehrs)))\n",
    "    print('Avg Tok/EHR: {:.2f} & {:.2f} & {:.2f} & {:.2f}'.format(*(tns/ehrs)))\n",
    "    print('Avg Tok/Phr: {:.2f} & {:.2f} & {:.2f} & {:.2f}'.format(*(tns/pns)))\n",
    "    print('Tok. Voc. Size: {} & {} & {} & {}'.format(*list(map(len, vocs))))\n",
    "    print('Toks not in Train Toc. Voc: N/A & {} & {} & {}'.format(*[len(vocs[1]-vocs[0]), len(vocs[2]-vocs[0]), len(vocs[3]-vocs[0])]))\n",
    "    print('No. Disj Phr: {} & {} & {} & {}'.format(*dns))\n",
    "    print('\\n')\n",
    "    "
   ]
  },
  {
   "cell_type": "raw",
   "metadata": {},
   "source": [
    "print(vocs[2]-vocs[0])"
   ]
  },
  {
   "cell_type": "code",
   "execution_count": 149,
   "metadata": {},
   "outputs": [
    {
     "name": "stdout",
     "output_type": "stream",
     "text": [
      "Target Proportions in text\n",
      "4.65 & 5.33 & 4.62 & 4.68\n",
      "2.94 & 3.76 & 3.46 & 2.99\n",
      "1.20 & 1.50 & 1.15 & 1.21\n",
      "1.95 & 2.73 & 2.50 & 2.01\n",
      "0.63 & 0.88 & 0.63 & 0.64\n",
      "0.89 & 1.12 & 1.12 & 0.91\n"
     ]
    }
   ],
   "source": [
    "print('Target Proportions in text')\n",
    "totaltok = np.array([268272, 13230, 11160, 292662])\n",
    "for target in tartok:\n",
    "    print('{:.2f} & {:.2f} & {:.2f} & {:.2f}'.format(*((target/totaltok)*100)))"
   ]
  },
  {
   "cell_type": "code",
   "execution_count": 219,
   "metadata": {},
   "outputs": [
    {
     "data": {
      "text/plain": [
       "42"
      ]
     },
     "execution_count": 219,
     "metadata": {},
     "output_type": "execute_result"
    }
   ],
   "source": [
    "maxlen = max(list(map(lambda x: max(x), tarlen)))\n",
    "counters = [Counter(tarlen[i]) for i in range(6)]\n",
    "vals = [[counters[i][j] for j in range(maxlen+1)] for i in range(6)]\n",
    "len(vals[0])"
   ]
  },
  {
   "cell_type": "code",
   "execution_count": 232,
   "metadata": {},
   "outputs": [
    {
     "data": {
      "image/png": "[encoded data removed]",
      "text/plain": [
       "<matplotlib.figure.Figure at 0x2d88716f320>"
      ]
     },
     "metadata": {},
     "output_type": "display_data"
    }
   ],
   "source": [
    "import random\n",
    "from matplotlib import pyplot\n",
    "\n",
    "x = [random.gauss(3,1) for _ in range(400)]\n",
    "y = [random.gauss(4,2) for _ in range(400)]\n",
    "\n",
    "bins = [0, 1, 2, 3, 4, 5, 6, 7, 8, 9, 10, 100]\n",
    "\n",
    "fig = pyplot.figure(figsize=(10, 10), dpi= 80, facecolor='w', edgecolor='k')\n",
    "\n",
    "pyplot.hist(tarlen[0], bins, alpha=0.5, label='med')\n",
    "pyplot.legend(loc='upper right')\n",
    "pyplot.show()"
   ]
  },
  {
   "cell_type": "code",
   "execution_count": null,
   "metadata": {
    "collapsed": true
   },
   "outputs": [],
   "source": []
  }
 ],
 "metadata": {
  "kernelspec": {
   "display_name": "Python 3",
   "language": "python",
   "name": "python3"
  },
  "language_info": {
   "codemirror_mode": {
    "name": "ipython",
    "version": 3
   },
   "file_extension": ".py",
   "mimetype": "text/x-python",
   "name": "python",
   "nbconvert_exporter": "python",
   "pygments_lexer": "ipython3",
   "version": "3.5.3"
  }
 },
 "nbformat": 4,
 "nbformat_minor": 2
}
