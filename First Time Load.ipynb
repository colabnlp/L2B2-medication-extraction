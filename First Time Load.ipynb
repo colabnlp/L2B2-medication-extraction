{
 "cells": [
  {
   "cell_type": "code",
   "execution_count": 1,
   "metadata": {
    "collapsed": true
   },
   "outputs": [],
   "source": [
    "import numpy as np\n",
    "import re\n",
    "import random\n",
    "import os\n",
    "\n",
    "import tensorflow as tf\n",
    "import sklearn as sk\n",
    "\n",
    "import Functions as fn\n",
    "from DS import DS\n",
    "from Set import pool\n",
    "from Iterator import Iterator\n",
    "from FFModel import FF_Model"
   ]
  },
  {
   "cell_type": "markdown",
   "metadata": {},
   "source": [
    "# Data Writing"
   ]
  },
  {
   "cell_type": "code",
   "execution_count": 2,
   "metadata": {},
   "outputs": [
    {
     "name": "stdout",
     "output_type": "stream",
     "text": [
      "696/696 added from 2009 Medication Challenge/training.sets.released/\n",
      "553/1249 added from 2009 Medication Challenge/test.released.8.17.09/\n",
      "398/398 added from //smokers_surrogate_train_all_version2.xml\n",
      "104/104 added from //smokers_surrogate_test_all_groundtruth_version2.xml\n",
      "0/398 added from /1C smokers_surrogate_train_all_version2.zip/smokers_surrogate_train_all_version2.xml\n",
      "0/104 added from /1C smokers_surrogate_test_all_version2.zip/smokers_surrogate_test_all_version2.xml\n",
      "0/104 added from /1C smokers_surrogate_test_all_groundtruth_version2.zip/smokers_surrogate_test_all_groundtruth_version2.xml\n",
      "91/220 added from /1B deid_surrogate_test_all_version2.zip/deid_surrogate_test_all_version2.xml\n",
      "2/669 added from /1B deid_surrogate_train_all_version2_CORRECTED.zip/deid_surrogate_train_all_version2.xml\n",
      "331/889 added from /1A unannotated_records_deid_smoking_CORRECTED.zip/unannotated_records_deid_smoking.xml\n",
      "507/507 added from 2008 Obesity Challenge/obesity_patient_records_test.xml\n",
      "30/30 added from 2008 Obesity Challenge/obesity_patient_records_training 50.xml\n",
      "581/611 added from 2008 Obesity Challenge/obesity_patient_records_training.xml\n",
      "119/119 added from 2008 Obesity Challenge/obesity_patient_records_training2.xml\n",
      "73/73 added from 2010 Relations Challenge/concept_assertion_relation_training_data/beth/txt/\n",
      "97/97 added from 2010 Relations Challenge/concept_assertion_relation_training_data/partners/txt/\n",
      "267/267 added from 2010 Relations Challenge/concept_assertion_relation_training_data/partners/unannotated/\n",
      "3/3 added from 2010 Relations Challenge/Sample Data/\n",
      "254/256 added from 2010 Relations Challenge/test_data/\n",
      "76/79 added from 2011 Coreference Challenge/Test_Beth/docs/\n",
      "0/94 added from 2011 Coreference Challenge/Test_Partners/docs/\n",
      "112/115 added from 2011 Coreference Challenge/Train_Beth/docs/\n",
      "0/136 added from 2011 Coreference Challenge/Train_Partners/docs/\n",
      "191/191 added from 2012 Temporal Relations Challenge/Training Full_2012-07-15.original-annotation.release/\n",
      "119/120 added from 2012 Temporal Relations Challenge/Evaluation_Test TIMEX groundtruth_2012-08-08.test-data.event-timex-groundtruth/i2b2/\n",
      "0/120 added from 2012 Temporal Relations Challenge/Evaluation_Test ground_truth_2012-08-23.test-data.groundtruth/merged_i2b2/\n",
      "0/120 added from 2012 Temporal Relations Challenge/Evaluation_Test ground_truth_2012-08-23.test-data.groundtruth/unmerged_i2b2/\n",
      "1/120 added from 2012 Temporal Relations Challenge/Evaluation_Test data_2012-08-06.test-data-release/txt/\n",
      "raw_text Write Complete\n",
      "raw_labels Write Complete\n"
     ]
    }
   ],
   "source": [
    "Dataset = fn.first_time_load()\n",
    "Dataset.write_texts('raw_texts')\n",
    "Dataset.write_labels('raw_labels')"
   ]
  },
  {
   "cell_type": "code",
   "execution_count": 3,
   "metadata": {
    "scrolled": false
   },
   "outputs": [
    {
     "name": "stdout",
     "output_type": "stream",
     "text": [
      "Number of Texts:  4605\n",
      "Number of 2007 Smoking Challenge texts:  926\n",
      "Number of 2008 ObesityChallenge texts:  1237\n",
      "Number of 2009 Medication Challenge texts:  1249\n",
      "Number of 2010 Relations Challenge texts:  694\n",
      "Number of 2011 Coreference Challenge texts:  188\n",
      "Number of 2012 Temporal Relations Challenge texts:  311\n",
      "Number of Train Texts:  2859\n",
      "Number of Test Texts:  1746\n",
      "Number of Labeled Texts:  258\n",
      "Number of Initially Labeled Texts:  10\n",
      "Number of Competitor Labeled Texts Texts:  248\n"
     ]
    }
   ],
   "source": [
    "print('Number of Texts: ', Dataset.size)\n",
    "print('Number of 2007 Smoking Challenge texts: ', Dataset.number_of(challenge='2007 Smoking Challenge'))\n",
    "print('Number of 2008 ObesityChallenge texts: ', Dataset.number_of(challenge='2008 Obesity Challenge'))\n",
    "print('Number of 2009 Medication Challenge texts: ', Dataset.number_of(challenge='2009 Medication Challenge'))\n",
    "print('Number of 2010 Relations Challenge texts: ', Dataset.number_of(challenge='2010 Relations Challenge'))\n",
    "print('Number of 2011 Coreference Challenge texts: ', Dataset.number_of(challenge='2011 Coreference Challenge'))\n",
    "print('Number of 2012 Temporal Relations Challenge texts: ', Dataset.number_of(challenge='2012 Temporal Relations Challenge'))\n",
    "print('Number of Train Texts: ', Dataset.number_of(stage='train'))\n",
    "print('Number of Test Texts: ', Dataset.number_of(stage='test'))\n",
    "print('Number of Labeled Texts: ', Dataset.number_of(labelled='yes'))\n",
    "print('Number of Initially Labeled Texts: ', Dataset.number_of(labelled='yes', label_type='train'))\n",
    "print('Number of Competitor Labeled Texts Texts: ', Dataset.number_of(labelled='yes', label_type='test'))"
   ]
  },
  {
   "cell_type": "code",
   "execution_count": 4,
   "metadata": {},
   "outputs": [
    {
     "name": "stdout",
     "output_type": "stream",
     "text": [
      "Sentence Write Complete\n"
     ]
    }
   ],
   "source": [
    "Dataset.process_for_embedding()\n",
    "sentences = Dataset.get_sentences()\n",
    "fn.write_sentences(sentences, 'sentences')"
   ]
  },
  {
   "cell_type": "code",
   "execution_count": 5,
   "metadata": {},
   "outputs": [
    {
     "name": "stderr",
     "output_type": "stream",
     "text": [
      "C:\\Users\\lgligic\\Anaconda3\\envs\\tensorflow\\lib\\site-packages\\gensim\\utils.py:855: UserWarning: detected Windows; aliasing chunkize to chunkize_serial\n",
      "  warnings.warn(\"detected Windows; aliasing chunkize to chunkize_serial\")\n"
     ]
    }
   ],
   "source": [
    "from gensim.models import Word2Vec\n",
    "model = Word2Vec(sentences, min_count=1, size=100)\n",
    "model.save('W2V')"
   ]
  },
  {
   "cell_type": "code",
   "execution_count": 6,
   "metadata": {},
   "outputs": [
    {
     "name": "stdout",
     "output_type": "stream",
     "text": [
      "Number of: m=1327, do=190, mo=104, f=227, du=178, r=715\n",
      "Label Write Complete\n"
     ]
    }
   ],
   "source": [
    "targets = ['medications', 'dosages', 'modes', 'frequencies', 'durations', 'reasons']\n",
    "target_dict = {label: words for (label, words) in zip(targets, list(fn.label_words(Dataset, model)))}\n",
    "fn.write_labels(target_dict, 'labels')"
   ]
  },
  {
   "cell_type": "markdown",
   "metadata": {},
   "source": [
    "# Folder Creation"
   ]
  },
  {
   "cell_type": "code",
   "execution_count": 4,
   "metadata": {
    "collapsed": true
   },
   "outputs": [],
   "source": [
    "os.makedirs('gold')\n",
    "os.makedirs('tmp')\n",
    "\n",
    "os.makedirs('tests/Model1')\n",
    "os.makedirs('tests/Model2')\n",
    "os.makedirs('tests/Model3')\n",
    "os.makedirs('tests/Model4')\n",
    "os.makedirs('tests/Model5')"
   ]
  }
 ],
 "metadata": {
  "anaconda-cloud": {},
  "kernelspec": {
   "display_name": "Python 3",
   "language": "python",
   "name": "python3"
  },
  "language_info": {
   "codemirror_mode": {
    "name": "ipython",
    "version": 3
   },
   "file_extension": ".py",
   "mimetype": "text/x-python",
   "name": "python",
   "nbconvert_exporter": "python",
   "pygments_lexer": "ipython3",
   "version": "3.5.3"
  }
 },
 "nbformat": 4,
 "nbformat_minor": 2
}
