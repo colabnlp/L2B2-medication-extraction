{
 "cells": [
  {
   "cell_type": "code",
   "execution_count": 60,
   "metadata": {
    "collapsed": true
   },
   "outputs": [],
   "source": [
    "import numpy as np\n",
    "import os\n",
    "from random import shuffle\n",
    "import re\n",
    "import sklearn as sk\n",
    "import matplotlib.pyplot as plt\n",
    "import random"
   ]
  },
  {
   "cell_type": "code",
   "execution_count": 61,
   "metadata": {
    "collapsed": true
   },
   "outputs": [],
   "source": [
    "import urllib.request\n",
    "import zipfile\n",
    "import lxml.etree"
   ]
  },
  {
   "cell_type": "code",
   "execution_count": 62,
   "metadata": {
    "collapsed": true
   },
   "outputs": [],
   "source": [
    "def listdir_nohidden(path):\n",
    "    for f in os.listdir(path):\n",
    "        if not f.startswith('.'):\n",
    "            yield f"
   ]
  },
  {
   "cell_type": "code",
   "execution_count": 63,
   "metadata": {},
   "outputs": [
    {
     "data": {
      "text/plain": [
       "696"
      ]
     },
     "execution_count": 63,
     "metadata": {},
     "output_type": "execute_result"
    }
   ],
   "source": [
    "train_released = []\n",
    "a = np.arange(10) + 1\n",
    "\n",
    "for num in a:\n",
    "    path = '2009 Medication Challenge/training.sets.released/' + str(num) + '/'\n",
    "    for filename in listdir_nohidden(path):\n",
    "        with open(path + filename, 'r') as file:\n",
    "            temp = file.read()\n",
    "            train_released.append(temp)\n",
    "            \n",
    "len(train_released)"
   ]
  },
  {
   "cell_type": "code",
   "execution_count": 64,
   "metadata": {},
   "outputs": [
    {
     "data": {
      "text/plain": [
       "1249"
      ]
     },
     "execution_count": 64,
     "metadata": {},
     "output_type": "execute_result"
    }
   ],
   "source": [
    "test_released = []\n",
    "\n",
    "path = '2009 Medication Challenge/test.released.8.17.09/'\n",
    "for filename in listdir_nohidden(path):\n",
    "    with open(path + filename, 'r') as file:\n",
    "        temp = file.read()\n",
    "        test_released.append(temp)\n",
    "            \n",
    "len(test_released)"
   ]
  },
  {
   "cell_type": "code",
   "execution_count": 65,
   "metadata": {},
   "outputs": [
    {
     "data": {
      "text/plain": [
       "10"
      ]
     },
     "execution_count": 65,
     "metadata": {},
     "output_type": "execute_result"
    }
   ],
   "source": [
    "train_labeled = []\n",
    "a = np.arange(10) + 1\n",
    "\n",
    "for filename_1 in listdir_nohidden('2009 Medication Challenge/training.ground.truth'):\n",
    "    index = filename_1.split('_')[0]\n",
    "    for num in a:\n",
    "        path = '2009 Medication Challenge/training.sets.released/' + str(num) + '/'\n",
    "        for filename_2 in listdir_nohidden(path):\n",
    "            if index == filename_2:\n",
    "                with open(path + index, 'r') as file:\n",
    "                    temp = file.read()\n",
    "                    train_labeled.append(temp)\n",
    "\n",
    "len(train_labeled)"
   ]
  },
  {
   "cell_type": "code",
   "execution_count": 66,
   "metadata": {},
   "outputs": [
    {
     "data": {
      "text/plain": [
       "10"
      ]
     },
     "execution_count": 66,
     "metadata": {},
     "output_type": "execute_result"
    }
   ],
   "source": [
    "train_truth = []\n",
    "\n",
    "path = '2009 Medication Challenge/training.ground.truth/'\n",
    "for filename in listdir_nohidden(path):\n",
    "    with open(path + filename, 'r') as file:\n",
    "        temp = file.read()\n",
    "        train_truth.append(temp)\n",
    "\n",
    "del train_truth[-1]\n",
    "len(train_truth)"
   ]
  },
  {
   "cell_type": "code",
   "execution_count": 67,
   "metadata": {},
   "outputs": [
    {
     "data": {
      "text/plain": [
       "249"
      ]
     },
     "execution_count": 67,
     "metadata": {},
     "output_type": "execute_result"
    }
   ],
   "source": [
    "test_labeled = []\n",
    "a = np.arange(10) + 1\n",
    "\n",
    "for filename_1 in listdir_nohidden('2009 Medication Challenge/test.BYparticipant.ground_truth/converted.noduplicates.sorted'):\n",
    "    index = filename_1.split('.')[0]\n",
    "    for num in a:\n",
    "        path = '2009 Medication Challenge/training.sets.released/' + str(num) + '/'\n",
    "        for filename_2 in listdir_nohidden(path):\n",
    "            if index == filename_2:\n",
    "                with open(path + index, 'r') as file:\n",
    "                    temp = file.read()\n",
    "                    test_labeled.append(temp)\n",
    "    path = '2009 Medication Challenge/test.released.8.17.09/'\n",
    "    for filename_2 in listdir_nohidden(path):\n",
    "        if index == filename_2:\n",
    "            with open(path + index, 'r') as file:\n",
    "                temp = file.read()\n",
    "                test_labeled.append(temp)\n",
    "\n",
    "len(test_labeled)"
   ]
  },
  {
   "cell_type": "code",
   "execution_count": 68,
   "metadata": {},
   "outputs": [
    {
     "data": {
      "text/plain": [
       "249"
      ]
     },
     "execution_count": 68,
     "metadata": {},
     "output_type": "execute_result"
    }
   ],
   "source": [
    "test_truth = []\n",
    "\n",
    "path = '2009 Medication Challenge/test.BYparticipant.ground_truth/converted.noduplicates.sorted/'\n",
    "for filename in listdir_nohidden(path):\n",
    "    with open(path + filename, 'r') as file:\n",
    "        temp = file.read()\n",
    "        test_truth.append(temp)\n",
    "\n",
    "del test_truth[-1]\n",
    "len(test_truth)"
   ]
  },
  {
   "cell_type": "code",
   "execution_count": 69,
   "metadata": {
    "collapsed": true
   },
   "outputs": [],
   "source": [
    "sentences = []\n",
    "\n",
    "for text in train_released+test_released:\n",
    "    temp = text\n",
    "    temp = re.sub(r'\\d+', '<NUM>', temp)\n",
    "    temp = re.sub(r'([A-Za-z]):', r'\\1 :', temp)\n",
    "    temp = re.sub(r'\\n', ' ', temp)\n",
    "    temp = re.sub(r'Dr.', 'Dr', temp)\n",
    "    temp = re.sub(r'Mr.', 'Mr', temp)\n",
    "    temp = re.sub(r'\\. ([A-Z])', r'. A\\1', temp)\n",
    "    temp = re.split(r'\\. [A-Z]', temp)\n",
    "    for i in range(len(temp)):\n",
    "        temp[i] = temp[i].lower()\n",
    "        sentences.append(temp[i].split())"
   ]
  },
  {
   "cell_type": "code",
   "execution_count": 70,
   "metadata": {},
   "outputs": [],
   "source": [
    "from gensim.models import Word2Vec"
   ]
  },
  {
   "cell_type": "code",
   "execution_count": 71,
   "metadata": {},
   "outputs": [],
   "source": [
    "model_I2B2 = Word2Vec(sentences, min_count=1, size=100)"
   ]
  },
  {
   "cell_type": "code",
   "execution_count": 72,
   "metadata": {
    "scrolled": false
   },
   "outputs": [
    {
     "data": {
      "text/plain": [
       "[('imdur', 0.8462045192718506),\n",
       " ('norvasc', 0.8405196666717529),\n",
       " ('isosorbide', 0.8389357924461365),\n",
       " ('celexa', 0.8344588279724121),\n",
       " ('vasotec', 0.8293226957321167),\n",
       " ('cozaar', 0.8268866539001465),\n",
       " ('lipitor', 0.8237907886505127),\n",
       " ('prozac', 0.8234665393829346),\n",
       " ('hydrochlorothiazide', 0.8233591318130493),\n",
       " ('amlodipine', 0.8149084448814392)]"
      ]
     },
     "execution_count": 72,
     "metadata": {},
     "output_type": "execute_result"
    }
   ],
   "source": [
    "model_I2B2.most_similar(\"zestril\")"
   ]
  },
  {
   "cell_type": "code",
   "execution_count": 115,
   "metadata": {},
   "outputs": [],
   "source": [
    "medications = []\n",
    "\n",
    "for text in train_truth+test_truth:\n",
    "    for term in re.finditer(r'm=\"[a-z0-9 ]+\"', text):\n",
    "        temp = term.group()[3:-1]\n",
    "        temp = temp.split()\n",
    "        for word in temp:\n",
    "            if word not in medications:\n",
    "                medications.append(word)"
   ]
  },
  {
   "cell_type": "code",
   "execution_count": 116,
   "metadata": {},
   "outputs": [
    {
     "data": {
      "text/plain": [
       "array([   0.,  946.,    0.,    0.,    0.,    0.,    0.,    0.,    0.,    0.])"
      ]
     },
     "execution_count": 116,
     "metadata": {},
     "output_type": "execute_result"
    }
   ],
   "source": [
    "num = np.zeros(10)\n",
    "\n",
    "for med in medications:\n",
    "    num[len(med.split())] += 1\n",
    "\n",
    "num"
   ]
  },
  {
   "cell_type": "code",
   "execution_count": 113,
   "metadata": {},
   "outputs": [
    {
     "data": {
      "text/html": [
       "\n",
       "    <div class=\"bk-root\">\n",
       "        <a href=\"http://bokeh.pydata.org\" target=\"_blank\" class=\"bk-logo bk-logo-small bk-logo-notebook\"></a>\n",
       "        <span id=\"5fca989a-c714-4548-8dbd-6c094c8e1eeb\">Loading BokehJS ...</span>\n",
       "    </div>"
      ]
     },
     "metadata": {},
     "output_type": "display_data"
    },
    {
     "data": {
      "application/javascript": [
       "\n",
       "(function(global) {\n",
       "  function now() {\n",
       "    return new Date();\n",
       "  }\n",
       "\n",
       "  var force = true;\n",
       "\n",
       "  if (typeof (window._bokeh_onload_callbacks) === \"undefined\" || force === true) {\n",
       "    window._bokeh_onload_callbacks = [];\n",
       "    window._bokeh_is_loading = undefined;\n",
       "  }\n",
       "\n",
       "\n",
       "  \n",
       "  if (typeof (window._bokeh_timeout) === \"undefined\" || force === true) {\n",
       "    window._bokeh_timeout = Date.now() + 5000;\n",
       "    window._bokeh_failed_load = false;\n",
       "  }\n",
       "\n",
       "  var NB_LOAD_WARNING = {'data': {'text/html':\n",
       "     \"<div style='background-color: #fdd'>\\n\"+\n",
       "     \"<p>\\n\"+\n",
       "     \"BokehJS does not appear to have successfully loaded. If loading BokehJS from CDN, this \\n\"+\n",
       "     \"may be due to a slow or bad network connection. Possible fixes:\\n\"+\n",
       "     \"</p>\\n\"+\n",
       "     \"<ul>\\n\"+\n",
       "     \"<li>re-rerun `output_notebook()` to attempt to load from CDN again, or</li>\\n\"+\n",
       "     \"<li>use INLINE resources instead, as so:</li>\\n\"+\n",
       "     \"</ul>\\n\"+\n",
       "     \"<code>\\n\"+\n",
       "     \"from bokeh.resources import INLINE\\n\"+\n",
       "     \"output_notebook(resources=INLINE)\\n\"+\n",
       "     \"</code>\\n\"+\n",
       "     \"</div>\"}};\n",
       "\n",
       "  function display_loaded() {\n",
       "    if (window.Bokeh !== undefined) {\n",
       "      var el = document.getElementById(\"5fca989a-c714-4548-8dbd-6c094c8e1eeb\");\n",
       "      el.textContent = \"BokehJS \" + Bokeh.version + \" successfully loaded.\";\n",
       "    } else if (Date.now() < window._bokeh_timeout) {\n",
       "      setTimeout(display_loaded, 100)\n",
       "    }\n",
       "  }\n",
       "\n",
       "  function run_callbacks() {\n",
       "    window._bokeh_onload_callbacks.forEach(function(callback) { callback() });\n",
       "    delete window._bokeh_onload_callbacks\n",
       "    console.info(\"Bokeh: all callbacks have finished\");\n",
       "  }\n",
       "\n",
       "  function load_libs(js_urls, callback) {\n",
       "    window._bokeh_onload_callbacks.push(callback);\n",
       "    if (window._bokeh_is_loading > 0) {\n",
       "      console.log(\"Bokeh: BokehJS is being loaded, scheduling callback at\", now());\n",
       "      return null;\n",
       "    }\n",
       "    if (js_urls == null || js_urls.length === 0) {\n",
       "      run_callbacks();\n",
       "      return null;\n",
       "    }\n",
       "    console.log(\"Bokeh: BokehJS not loaded, scheduling load and callback at\", now());\n",
       "    window._bokeh_is_loading = js_urls.length;\n",
       "    for (var i = 0; i < js_urls.length; i++) {\n",
       "      var url = js_urls[i];\n",
       "      var s = document.createElement('script');\n",
       "      s.src = url;\n",
       "      s.async = false;\n",
       "      s.onreadystatechange = s.onload = function() {\n",
       "        window._bokeh_is_loading--;\n",
       "        if (window._bokeh_is_loading === 0) {\n",
       "          console.log(\"Bokeh: all BokehJS libraries loaded\");\n",
       "          run_callbacks()\n",
       "        }\n",
       "      };\n",
       "      s.onerror = function() {\n",
       "        console.warn(\"failed to load library \" + url);\n",
       "      };\n",
       "      console.log(\"Bokeh: injecting script tag for BokehJS library: \", url);\n",
       "      document.getElementsByTagName(\"head\")[0].appendChild(s);\n",
       "    }\n",
       "  };var element = document.getElementById(\"5fca989a-c714-4548-8dbd-6c094c8e1eeb\");\n",
       "  if (element == null) {\n",
       "    console.log(\"Bokeh: ERROR: autoload.js configured with elementid '5fca989a-c714-4548-8dbd-6c094c8e1eeb' but no matching script tag was found. \")\n",
       "    return false;\n",
       "  }\n",
       "\n",
       "  var js_urls = [\"https://cdn.pydata.org/bokeh/release/bokeh-0.12.5.min.js\", \"https://cdn.pydata.org/bokeh/release/bokeh-widgets-0.12.5.min.js\"];\n",
       "\n",
       "  var inline_js = [\n",
       "    function(Bokeh) {\n",
       "      Bokeh.set_log_level(\"info\");\n",
       "    },\n",
       "    \n",
       "    function(Bokeh) {\n",
       "      \n",
       "    },\n",
       "    \n",
       "    function(Bokeh) {\n",
       "      \n",
       "      document.getElementById(\"5fca989a-c714-4548-8dbd-6c094c8e1eeb\").textContent = \"BokehJS is loading...\";\n",
       "    },\n",
       "    function(Bokeh) {\n",
       "      console.log(\"Bokeh: injecting CSS: https://cdn.pydata.org/bokeh/release/bokeh-0.12.5.min.css\");\n",
       "      Bokeh.embed.inject_css(\"https://cdn.pydata.org/bokeh/release/bokeh-0.12.5.min.css\");\n",
       "      console.log(\"Bokeh: injecting CSS: https://cdn.pydata.org/bokeh/release/bokeh-widgets-0.12.5.min.css\");\n",
       "      Bokeh.embed.inject_css(\"https://cdn.pydata.org/bokeh/release/bokeh-widgets-0.12.5.min.css\");\n",
       "    }\n",
       "  ];\n",
       "\n",
       "  function run_inline_js() {\n",
       "    \n",
       "    if ((window.Bokeh !== undefined) || (force === true)) {\n",
       "      for (var i = 0; i < inline_js.length; i++) {\n",
       "        inline_js[i](window.Bokeh);\n",
       "      }if (force === true) {\n",
       "        display_loaded();\n",
       "      }} else if (Date.now() < window._bokeh_timeout) {\n",
       "      setTimeout(run_inline_js, 100);\n",
       "    } else if (!window._bokeh_failed_load) {\n",
       "      console.log(\"Bokeh: BokehJS failed to load within specified timeout.\");\n",
       "      window._bokeh_failed_load = true;\n",
       "    } else if (force !== true) {\n",
       "      var cell = $(document.getElementById(\"5fca989a-c714-4548-8dbd-6c094c8e1eeb\")).parents('.cell').data().cell;\n",
       "      cell.output_area.append_execute_result(NB_LOAD_WARNING)\n",
       "    }\n",
       "\n",
       "  }\n",
       "\n",
       "  if (window._bokeh_is_loading === 0) {\n",
       "    console.log(\"Bokeh: BokehJS loaded, going straight to plotting\");\n",
       "    run_inline_js();\n",
       "  } else {\n",
       "    load_libs(js_urls, function() {\n",
       "      console.log(\"Bokeh: BokehJS plotting callback run at\", now());\n",
       "      run_inline_js();\n",
       "    });\n",
       "  }\n",
       "}(this));"
      ]
     },
     "metadata": {},
     "output_type": "display_data"
    }
   ],
   "source": [
    "from bokeh.models import ColumnDataSource, LabelSet\n",
    "from bokeh.plotting import figure, show, output_file\n",
    "from bokeh.io import output_notebook\n",
    "output_notebook()"
   ]
  },
  {
   "cell_type": "code",
   "execution_count": 156,
   "metadata": {},
   "outputs": [],
   "source": [
    "from collections import Counter\n",
    "\n",
    "words = []\n",
    "for sent in sentences:\n",
    "    for word in sent:\n",
    "        words.append(word)\n",
    "\n",
    "cnt = Counter(words).most_common(1000)\n",
    "cnt = np.array(cnt)\n",
    "present = np.ndarray.tolist(cnt[:,0])"
   ]
  },
  {
   "cell_type": "code",
   "execution_count": 157,
   "metadata": {},
   "outputs": [],
   "source": [
    "for word in medications:\n",
    "    if word in model_I2B2.wv.vocab.keys():\n",
    "        present.append(word)\n",
    "\n",
    "# This assumes words_top_ted is a list of strings, the top 1000 words\n",
    "words_vec = model_I2B2[present]"
   ]
  },
  {
   "cell_type": "code",
   "execution_count": 158,
   "metadata": {
    "collapsed": true
   },
   "outputs": [],
   "source": [
    "from sklearn.manifold import TSNE\n",
    "tsne = TSNE(n_components=2, random_state=0)\n",
    "words_tsne = tsne.fit_transform(words_vec)"
   ]
  },
  {
   "cell_type": "code",
   "execution_count": 159,
   "metadata": {},
   "outputs": [
    {
     "data": {
      "text/html": [
       "\n",
       "\n",
       "    <div class=\"bk-root\">\n",
       "        <div class=\"bk-plotdiv\" id=\"4b44b9da-bc44-4ce6-b4f7-5fdb6b3d64c3\"></div>\n",
       "    </div>\n",
       "<script type=\"text/javascript\">\n",
       "  \n",
       "  (function(global) {\n",
       "    function now() {\n",
       "      return new Date();\n",
       "    }\n",
       "  \n",
       "    var force = false;\n",
       "  \n",
       "    if (typeof (window._bokeh_onload_callbacks) === \"undefined\" || force === true) {\n",
       "      window._bokeh_onload_callbacks = [];\n",
       "      window._bokeh_is_loading = undefined;\n",
       "    }\n",
       "  \n",
       "  \n",
       "    \n",
       "    if (typeof (window._bokeh_timeout) === \"undefined\" || force === true) {\n",
       "      window._bokeh_timeout = Date.now() + 0;\n",
       "      window._bokeh_failed_load = false;\n",
       "    }\n",
       "  \n",
       "    var NB_LOAD_WARNING = {'data': {'text/html':\n",
       "       \"<div style='background-color: #fdd'>\\n\"+\n",
       "       \"<p>\\n\"+\n",
       "       \"BokehJS does not appear to have successfully loaded. If loading BokehJS from CDN, this \\n\"+\n",
       "       \"may be due to a slow or bad network connection. Possible fixes:\\n\"+\n",
       "       \"</p>\\n\"+\n",
       "       \"<ul>\\n\"+\n",
       "       \"<li>re-rerun `output_notebook()` to attempt to load from CDN again, or</li>\\n\"+\n",
       "       \"<li>use INLINE resources instead, as so:</li>\\n\"+\n",
       "       \"</ul>\\n\"+\n",
       "       \"<code>\\n\"+\n",
       "       \"from bokeh.resources import INLINE\\n\"+\n",
       "       \"output_notebook(resources=INLINE)\\n\"+\n",
       "       \"</code>\\n\"+\n",
       "       \"</div>\"}};\n",
       "  \n",
       "    function display_loaded() {\n",
       "      if (window.Bokeh !== undefined) {\n",
       "        var el = document.getElementById(\"4b44b9da-bc44-4ce6-b4f7-5fdb6b3d64c3\");\n",
       "        el.textContent = \"BokehJS \" + Bokeh.version + \" successfully loaded.\";\n",
       "      } else if (Date.now() < window._bokeh_timeout) {\n",
       "        setTimeout(display_loaded, 100)\n",
       "      }\n",
       "    }\n",
       "  \n",
       "    function run_callbacks() {\n",
       "      window._bokeh_onload_callbacks.forEach(function(callback) { callback() });\n",
       "      delete window._bokeh_onload_callbacks\n",
       "      console.info(\"Bokeh: all callbacks have finished\");\n",
       "    }\n",
       "  \n",
       "    function load_libs(js_urls, callback) {\n",
       "      window._bokeh_onload_callbacks.push(callback);\n",
       "      if (window._bokeh_is_loading > 0) {\n",
       "        console.log(\"Bokeh: BokehJS is being loaded, scheduling callback at\", now());\n",
       "        return null;\n",
       "      }\n",
       "      if (js_urls == null || js_urls.length === 0) {\n",
       "        run_callbacks();\n",
       "        return null;\n",
       "      }\n",
       "      console.log(\"Bokeh: BokehJS not loaded, scheduling load and callback at\", now());\n",
       "      window._bokeh_is_loading = js_urls.length;\n",
       "      for (var i = 0; i < js_urls.length; i++) {\n",
       "        var url = js_urls[i];\n",
       "        var s = document.createElement('script');\n",
       "        s.src = url;\n",
       "        s.async = false;\n",
       "        s.onreadystatechange = s.onload = function() {\n",
       "          window._bokeh_is_loading--;\n",
       "          if (window._bokeh_is_loading === 0) {\n",
       "            console.log(\"Bokeh: all BokehJS libraries loaded\");\n",
       "            run_callbacks()\n",
       "          }\n",
       "        };\n",
       "        s.onerror = function() {\n",
       "          console.warn(\"failed to load library \" + url);\n",
       "        };\n",
       "        console.log(\"Bokeh: injecting script tag for BokehJS library: \", url);\n",
       "        document.getElementsByTagName(\"head\")[0].appendChild(s);\n",
       "      }\n",
       "    };var element = document.getElementById(\"4b44b9da-bc44-4ce6-b4f7-5fdb6b3d64c3\");\n",
       "    if (element == null) {\n",
       "      console.log(\"Bokeh: ERROR: autoload.js configured with elementid '4b44b9da-bc44-4ce6-b4f7-5fdb6b3d64c3' but no matching script tag was found. \")\n",
       "      return false;\n",
       "    }\n",
       "  \n",
       "    var js_urls = [];\n",
       "  \n",
       "    var inline_js = [\n",
       "      function(Bokeh) {\n",
       "        (function() {\n",
       "          var fn = function() {\n",
       "            var docs_json = {\"4a3006b9-e1f0-4c16-bdc8-ded1f22b467b\":{\"roots\":{\"references\":[{\"attributes\":{\"below\":[{\"id\":\"ffd0d6d3-b213-4da8-88e5-580eba08fa38\",\"type\":\"LinearAxis\"}],\"left\":[{\"id\":\"0347a01e-aaae-402b-b47a-c49437360940\",\"type\":\"LinearAxis\"}],\"renderers\":[{\"id\":\"ffd0d6d3-b213-4da8-88e5-580eba08fa38\",\"type\":\"LinearAxis\"},{\"id\":\"6c9eb7ef-ed27-4732-9814-a4343fa287a8\",\"type\":\"Grid\"},{\"id\":\"0347a01e-aaae-402b-b47a-c49437360940\",\"type\":\"LinearAxis\"},{\"id\":\"5c11343d-151a-46b6-acba-8ab3ba416a45\",\"type\":\"Grid\"},{\"id\":\"1acf0004-e9bf-4b38-ab7f-f49287cac6e4\",\"type\":\"GlyphRenderer\"},{\"id\":\"79ebba2b-a4fb-49ca-8677-8c877558c5cb\",\"type\":\"LabelSet\"}],\"title\":{\"id\":\"1cdbadc1-18f4-4adb-b2c6-97ca1ab17b32\",\"type\":\"Title\"},\"tool_events\":{\"id\":\"c5bec923-afd1-4b11-b1e6-2c6505621ea5\",\"type\":\"ToolEvents\"},\"toolbar\":{\"id\":\"ca8f7923-4bf2-475b-832b-56740a166a83\",\"type\":\"Toolbar\"},\"toolbar_location\":\"above\",\"x_range\":{\"id\":\"5599f77b-0037-4204-a10a-c981ae793917\",\"type\":\"DataRange1d\"},\"y_range\":{\"id\":\"2359cc9d-b42a-440c-aafd-0311ad7f4494\",\"type\":\"DataRange1d\"}},\"id\":\"549f327c-c889-4c17-b0c8-fc2e2f7aca4c\",\"subtype\":\"Figure\",\"type\":\"Plot\"},{\"attributes\":{},\"id\":\"dca046f9-97f2-41d9-8223-7c357d801f01\",\"type\":\"BasicTicker\"},{\"attributes\":{\"callback\":null,\"column_names\":[\"x2\",\"x1\",\"names\"],\"data\":{\"names\":[\",\",\"<num>\",\":\",\"the\",\"and\",\"of\",\"was\",\"to\",\"on\",\"with\",\"a\",\"mg\",\"for\",\"in\",\"patient\",\")\",\"(\",\"|\",\"<num>/<num>/<num>\",\"she\",\"no\",\"her\",\"<num>.<num>\",\"at\",\"discharge\",\"he\",\"is\",\"po\",\"as\",\"p.o.\",\"his\",\"had\",\"by\",\"history\",\"admission\",\"pain\",\"<num>/<num>\",\"an\",\"be\",\"or\",\"has\",\"that\",\"were\",\"status\",\"chest\",\"day\",\"left\",\"this\",\"override\",\"<num>%\",\"not\",\"which\",\"hospital\",\"daily\",\"blood\",\"right\",\"will\",\"home\",\"from\",\"dr\",\"interaction\",\"date\",\"medications\",\"heart\",\"disease\",\"have\",\"also\",\"course\",\"showed\",\"cardiac\",\"up\",\"after\",\"well\",\"time\",\"normal\",\"qd\",\"artery\",\"but\",\"<num>-<num>\",\"units\",\"coronary\",\"#<num>\",\"if\",\"pressure\",\"b.i.d.\",\"lasix\",\"stable\",\"rate\",\"patient's\",\"pt\",\"m.d\",\"&amp;\",\"medical\",\"post\",\"renal\",\"******\",\"one\",\"given\",\"follow\",\"serious\",\"days\",\"am\",\"there\",\"coumadin\",\"diagnosis\",\"attending\",\"past\",\"continued\",\"other\",\"added\",\"insulin\",\"two\",\"negative\",\"diabetes\",\"aspirin\",\"bid\",\"reason\",\"potentially\",\"report\",\"been\",\"without\",\"prior\",\"diet\",\"it\",\"then\",\"service\",\"noted\",\"edema\",\"did\",\"order\",\"signed\",\"m.d.\",\"breath\",\"iv\",\"any\",\"pulmonary\",\"examination\",\"dictated\",\"record\",\"started\",\"creatinine\",\"failure\",\"summary\",\"potassium\",\"discharged\",\"rhythm\",\"per\",\"-\",\"<num>:<num>:<num>\",\"dis\",\"admitted\",\"[report_end]\",\"hypertension\",\"s/p\",\"q.d.\",\"during\",\"regular\",\"dose\",\"lower\",\"your\",\"physical\",\"low\",\"atrial\",\"who\",\"revealed\",\"lisinopril\",\"ekg\",\"chronic\",\"t\",\"sodium\",\"inr\",\"shortness\",\"<num>:<num>\",\"p.r.n.\",\"care\",\"room\",\"please\",\"condition\",\"mild\",\"d/c\",\"however\",\"weeks\",\"<num>+\",\"d\",\"allergies\",\"alert\",\"exam\",\"increased\",\"should\",\"code\",\"acute\",\"than\",\"out\",\"significant\",\"three\",\"present\",\"secondary\",\"instruction\",\"give\",\"food/drg\",\"hematocrit\",\"some\",\"w/\",\"x\",\"s<num>\",\"over\",\"chloride\",\"catheterization\",\"take\",\"clear\",\"prn\",\"disposition\",\"are\",\"):\",\"changes\",\"orders\",\"evidence\",\"likely\",\"when\",\"treated\",\"<num>mg\",\"q\",\"underwent\",\"further\",\"chf\",\"baseline\",\"while\",\"symptoms\",\"#\",\"surgery\",\"positive\",\"t.i.d.\",\"bilaterally\",\"extremities\",\"upon\",\"weight\",\"white\",\"postoperative\",\"ref\",\"extremity\",\"continue\",\"abdominal\",\"md\",\"all\",\"illness\",\"principal\",\"lopressor\",\"starting\",\"you\",\"times\",\"full\",\"sinus\",\"stenosis\",\"week\",\"abdomen\",\"call\",\"felt\",\"warfarin\",\"follow-up\",\"myocardial\",\"following\",\"elevated\",\"x-ray\",\"q.\",\"fibrillation\",\".\",\"outpatient\",\"previous\",\"hours\",\"allergy\",\"htn\",\"ct\",\"count\",\"study\",\"placed\",\"cad\",\"infarction\",\"aware\",\"doses\",\"pm\",\"complications\",\"family\",\"resume\",\"daily.\",\"remained\",\"may\",\"congestive\",\"upper\",\"overridden\",\"<num>.\",\"back\",\"respiratory\",\"<num>-year-old\",\"known\",\"mellitus\",\"due\",\"fluid\",\"regimen\",\"hold\",\"once\",\"primary\",\"bypass\",\"initially\",\"bowel\",\"gi\",\"x<num>\",\"ischemia\",\"soft\",\"nph\",\"we\",\"lad\",\"followed\",\"additional\",\"graft\",\"cardiovascular\",\"heparin\",\"ventricular\",\"approximately\",\"decreased\",\"presented\",\"bilateral\",\"admit\",\"levofloxacin\",\"until\",\"transferred\",\"before\",\"ejection\",\"/\",\"instructions\",\"s\",\"house\",\"scale\",\"required\",\"recent\",\"laboratory\",\"march\",\"nausea\",\"number\",\"<num>s\",\"emergency\",\"function\",\"sounds\",\"sliding\",\"ef\",\"id\",\"intact\",\"cc\",\"since\",\"center\",\"last\",\"mi\",\"temperature\",\"tolerated\",\"echo\",\"hcl\",\"today\",\"mr\",\"air\",\"infection\",\"valve\",\"end\",\"throughout\",\"found\",\"possible\",\"procedures\",\"otherwise\",\"received\",\"subcutaneously\",\"social\",\"therapy\",\"aortic\",\"nitroglycerin\",\"h/o\",\"none\",\"fraction\",\"use\",\"total\",\"multiple\",\"new\",\"atenolol\",\"brief\",\"@\",\"pulses\",\"colace\",\"obesity\",\"used\",\"systolic\",\"simvastatin\",\"pcp\",\"notable\",\"signs\",\"good\",\"within\",\"more\",\"improved\",\"ed\",\"neck\",\"oxygen\",\"old\",\"clinic\",\"exercise\",\"bun\",\"unit\",\"l\",\"lungs\",\"seen\",\"years\",\"activity\",\"now\",\"year\",\"causing\",\"high\",\"diuresis\",\"need\",\"bs\",\"denies\",\"urine\",\"every\",\"minutes\",\"dictation\",\"glucose\",\"control\",\"tab\",\"obese\",\"q<num>h\",\"evaluation\",\"mitral\",\"echocardiogram\",\"st\",\"four\",\"test\",\"operations\",\"does\",\"plavix\",\"scheduled\",\"lesion\",\"vascular\",\"episodes\",\"digoxin\",\"anterior\",\"note\",\"insufficiency\",\"notice\",\"cough\",\"severe\",\"appointment\",\"vomiting\",\"wound\",\"developed\",\"knee\",\"dm\",\"only\",\"infections\",\"v<num>\",\"sc\",\"q.<num>h.\",\"angina\",\"performed\",\"calcium\",\"above\",\"cultures\",\"less\",\"vancomycin\",\"these\",\"pneumonia\",\"small\",\"several\",\"tid\",\"taken\",\"afebrile\",\"bp\",\"comments\",\"anemia\",\"hospitalization\",\"affecting\",\"carotid\",\"surgical\",\"do/plan\",\"yes\",\"discontinued\",\"entered\",\"cabg\",\"greater\",\"dyspnea\",\"cardiology\",\"o.r.\",\"treatment/stay\",\"treatments/procedures\",\"diagnosis;conditions\",\"<num>-<num>-<num>-<num>\",\";responsible\",\"ago\",\"contingent\",\"venous\",\"stomach\",\"down\",\"appointment(\",\"consistent\",\"distress\",\"physician\",\"sent\",\"batch\",\"r\",\"peripheral\",\"asa\",\"resolved\",\"procedure\",\"twice\",\"increasing\",\"cath\",\"very\",\"drug\",\"first\",\"female\",\"episode\",\"lipitor\",\"off\",\"done\",\"monitor\",\"leg\",\"would\",\"platelets\",\"labs\",\"heent\",\"meals\",\"albuterol\",\"iron\",\"index\",\"morning\",\"avoid\",\"data\",\"including\",\"held\",\"o<num>\",\"change\",\"where\",\"release\",\"lantus\",\"mcg\",\"thought\",\"because\",\"tube\",\"sleep\",\"most\",\"alcohol\",\"needed\",\"both\",\"being\",\"cm\",\"volume\",\"nexium\",\"antibiotics\",\"pulse\",\"liters\",\"sob\",\"proximal\",\"setting\",\"controlled\",\"saturation\",\"cell\",\"meds\",\"troponin\",\"stay\",\"general\",\"woman\",\"addition\",\"studies\",\"worsening\",\"fever\",\"document\",\"murmur\",\"jvp\",\"mid\",\"empty\",\"atorvastatin\",\"about\",\"prednisone\",\"q.i.d.\",\"escription\",\"enzymes\",\"approximate\",\"services\",\"med\",\"night\",\"amiodarone\",\"placement\",\"pe\",\"asthma\",\"metoprolol\",\"so\",\"level\",\"maintained\",\"dry\",\"repeat\",\"oriented\",\"rehabilitation\",\"they\",\"see\",\"stent\",\"applicable\",\"able\",\"tylenol\",\"management\",\"obtained\",\"information\",\"fat\",\"ruled\",\"mouth\",\"moderate\",\"acid\",\"q.a.m.\",\"neuro\",\"zocor\",\"arm\",\"recommended\",\"replacement\",\"<num>-<num>-<num>\",\"foot\",\"final\",\"wall\",\"do\",\"lives\",\"exertion\",\"through\",\"floor\",\"again\",\"taking\",\"return\",\"next\",\"regurgitation\",\"vital\",\"plan\",\"reports\",\"rca\",\"nontender\",\"cardiomyopathy\",\"presents\",\"lovenox\",\"mibi\",\"hr\",\"milligrams\",\"ck\",\"distal\",\"toprol\",\"therapeutic\",\"transplant\",\"goal\",\"qhs\",\"lung\",\"depression\",\"orthopnea\",\"months\",\"descending\",\"poor\",\"xl\",\"posterior\",\"swelling\",\"magnesium\",\"diltiazem\",\"cardiologist\",\"check\",\"diarrhea\",\"treatment\",\"unless\",\"rest\",\"infectious\",\"type\",\"enteric\",\"medication\",\"coated\",\"inferior\",\"q.h.s.\",\"dvt\",\"c\",\"associated\",\"male\",\"cells\",\"health\",\"ii\",\"oxycodone\",\"tenderness\",\"cp\",\"qpm\",\"recently\",\"demonstrated\",\"although\",\"grapefruit\",\"captopril\",\"consulted\",\"restarted\",\"ischemic\",\"gram\",\"f/u\",\"head\",\"block\",\"scan\",\"diuresed\",\"subsequently\",\"cholesterol\",\"i\",\"rehab\",\"included\",\"ulcer\",\"six\",\"five\",\"results\",\"ptt\",\"walking\",\"cv\",\"stress\",\"instructs\",\"risk\",\"murmurs\",\"vein\",\"doctor\",\"drawn\",\"vna\",\"endocrine\",\"urinary\",\"auscultation\",\"fevers\",\"day.\",\"hip\",\"oral\",\"followup\",\"changed\",\"went\",\"metformin\",\"currently\",\"therefore\",\"effusion\",\"furosemide\",\"crackles\",\"tobacco\",\"slightly\",\"department\",\"transfer\",\"inhaler\",\"increase\",\"area\",\"cxr\",\"bruits\",\"meq\",\"mental\",\"denied\",\"difficulty\",\"smoking\",\"question\",\"prophylaxis\",\"tel\",\"+\",\"pending\",\"pump\",\"light\",\"diagnoses\",\"hx\",\"chills\",\"hypercholesterolemia\",\"sulfate\",\"syndrome\",\"include\",\"skin\",\"tachycardia\",\"july\",\"problems\",\"having\",\"hct\",\"rule\",\"point\",\"stopped\",\"culture\",\"range\",\"consistently\",\"sublingual\",\"apnea\",\"qam\",\"bleeding\",\"work\",\"isordil\",\"could\",\"bedtime\",\"exacerbation\",\"ms\",\"loss\",\"inh\",\"cellulitis\",\"<num>-<num>%\",\"flagyl\",\"circumflex\",\"issues\",\"tablets\",\"began\",\"ace\",\"femoral\",\"constipation\",\"liver\",\"trace\",\"abd\",\"ada\",\"made\",\"few\",\"obstructive\",\"november\",\"pt.\",\"weakness\",\"checked\",\"nasal\",\"wave\",\"novolog\",\"removed\",\"consult\",\"cancer\",\"pressures\",\"second\",\"overload\",\"red\",\"tablet\",\"slow\",\"repair\",\"ra\",\"intensive\",\"glyburide\",\"<num>hr\",\"hemodialysis\",\"qid\",\"recurrent\",\"peak\",\"each\",\"limits\",\"complicated\",\"b.i.d\",\"ho\",\"unsigned\",\"still\",\"bed\",\"food\",\"operating\",\"drip\",\"torsemide\",\"benign\",\"postop\",\"gout\",\"lobe\",\"place\",\"anxiety\",\"copd\",\"wbc\",\"heme\",\"dysfunction\",\"mildly\",\"chol/low\",\"him\",\"palpitations\",\"sat.\",\"allopurinol\",\"pacemaker\",\"unable\",\"puffs\",\"sugar\",\"b\",\"line\",\"go\",\"q.p.m.\",\"deep\",\"neg\",\"instructed\",\"rash\",\"reaction\",\"hypokinesis\",\"large\",\"electrolytes\",\"wheezing\",\"team\",\"cr\",\"erythema\",\"site\",\"sugars\",\"workup\",\"pulm\",\"hpi\",\"diabetic\",\"initial\",\"output\",\"morbid\",\"unchanged\",\"came\",\"hernia\",\"kcl\",\"august\",\"mm\",\"can\",\"norvasc\",\"motion\",\"improvement\",\"subcu\",\"diastolic\",\"ultrasound\",\"sternal\",\"intravenous\",\"month\",\"puff\",\"became\",\"requiring\",\"long\",\"age\",\"sputum\",\"percocet\",\"supple\",\"unremarkable\",\"yo\",\"q.day\",\"pleural\",\"dialysis\",\"hyperlipidemia\",\"complete\",\"dependent\",\"anticoagulation\",\"man\",\"rubs\",\"imdur\",\"diaphoresis\",\"free\",\"saphenous\",\"diffuse\",\"nondistended\",\"warm\",\"february\",\"hypertension.\",\"postoperatively\",\"vitamin\",\"sbp\",\"stool\",\"equal\",\"ml\",\"catheter\",\"flat\",\"hour\",\"short\",\"into\",\"protocol\",\"bleed\",\"leads\",\"neurological\",\"size\",\"h.\",\"mri\",\"angioplasty\",\"sbp&lt;<num>\",\"pmh\",\"headache\",\"lateral\",\"fatigue\",\"current\",\"neurologic\",\"tolerance\",\"unclear\",\"active\",\"onset\",\"called\",\"f\",\"reported\",\"previously\",\"between\",\"topical\",\"subcutaneous\",\"reactive\",\"substernal\",\"afib\",\"problem\",\"inhibitor\",\"etiology\",\"monitored\",\"pupils\",\"levothyroxine\",\"later\",\"iii\",\"toe\",\"joint\",\"human\",\"ph.d.\",\"cva\",\"gallops\",\"review\",\"focal\",\"nl\",\"systems\",\"weaned\",\"jugular\",\"q.d.;\",\"around\",\"concern\",\"paroxysmal\",\"related\",\"here\",\"axis\",\"evaluated\",\"cont\",\"foley\",\"om<num>\",\"elevation\",\"ofloxacin\",\"insulin\",\"nph\",\"colace\",\"percocet\",\"coumadin\",\"heparin\",\"vancomycin\",\"axid\",\"lopressor\",\"zestril\",\"ecotrin\",\"isordil\",\"urokinase\",\"lente\",\"antibiotics\",\"epinephrine\",\"humalog\",\"aspirin\",\"lasix\",\"motrin\",\"nasal\",\"cannula\",\"atenolol\",\"metformin\",\"potassium\",\"chloride\",\"slow\",\"release\",\"ciprofloxacin\",\"novolog\",\"baby\",\"lantus\",\"glucophage\",\"lovenox\",\"klonopin\",\"celexa\",\"fresh\",\"frozen\",\"plasma\",\"lipitor\",\"plavix\",\"captopril\",\"zocor\",\"packed\",\"red\",\"blood\",\"cells\",\"nitroglycerin\",\"tylenol\",\"neurontin\",\"folate\",\"pain\",\"medication\",\"phoslo\",\"lyrica\",\"gemfibrozil\",\"ketamine\",\"medications\",\"unasyn\",\"renagel\",\"fentanyl\",\"pca\",\"nephrocaps\",\"levofloxacin\",\"flagyl\",\"oxycontin\",\"requip\",\"aspart\",\"protonix\",\"ativan\",\"oxycodone\",\"augmentin\",\"lisinopril\",\"digoxin\",\"troglipazone\",\"magnesium\",\"oxide\",\"simvastatin\",\"clonazepam\",\"ptu\",\"isosorbide\",\"amiodarone\",\"levothyroxine\",\"sodium\",\"glipizide\",\"cefpodoxime\",\"haldol\",\"depakote\",\"ceftriaxone\",\"albuterol\",\"butt\",\"paste\",\"gabapentin\",\"loperamide\",\"thiamine\",\"nexium\",\"sevelamer\",\"labetalol\",\"inhaler\",\"norvasc\",\"nifedipine\",\"extended\",\"hydrochlorothiazide\",\"linezolid\",\"sarna\",\"warfarin\",\"acetylsalicylic\",\"acid\",\"kcl\",\"immediate\",\"vanc\",\"ada\",\"levo\",\"glyburide\",\"trazodone\",\"micronase\",\"verapamil\",\"loratadine\",\"mgoxide\",\"singulair\",\"ambien\",\"sustained\",\"keflex\",\"patanol\",\"effexor\",\"atrovent\",\"amox\",\"loratidine\",\"rhinocort\",\"contrast\",\"dye\",\"enalapril\",\"cardizem\",\"nafcillin\",\"dicloxacillin\",\"diuretic\",\"regimen\",\"spironolactone\",\"torsemide\",\"pletal\",\"procrit\",\"zantac\",\"antibiotic\",\"fluoroquinolone\",\"clindamycin\",\"metolazone\",\"electrolytes\",\"hydralazine\",\"anticoagulation\",\"procardia\",\"revatio\",\"oxygen\",\"home\",\"dilaudid\",\"allopurinol\",\"indocin\",\"narcotics\",\"prilosec\",\"diovan\",\"multivitamin\",\"colchicine\",\"beta\",\"blocker\",\"pendalol\",\"amoxicillin\",\"prinivil\",\"synthroid\",\"pepcid\",\"ace\",\"inhibitor\",\"statin\",\"beclomethasone\",\"diproprionate\",\"double\",\"strength\",\"spray\",\"toprol\",\"xl\",\"imdur\",\"valsartan\",\"atorvastatin\",\"levoxyl\",\"neosynephrine\",\"tpa\",\"amlodipine\",\"enteric\",\"coated\",\"cefotaxime\",\"diltiazem\",\"czi\",\"nortriptyline\",\"fluoxetine\",\"diuril\",\"advair\",\"steroid\",\"cardiac\",\"meds\",\"zetia\",\"diskus\",\"prednisone\",\"taper\",\"streptokinase\",\"multivitamins\",\"xanax\",\"nitrates\",\"blockade\",\"drip\",\"calcium\",\"channel\",\"nitroglycerins\",\"antacids\",\"serax\",\"docusate\",\"losartan\",\"terazosin\",\"hcl\",\"pantoprazole\",\"asa\",\"mg\",\"above\",\"bb\",\"ppi\",\"darvocet\",\"tordal\",\"humulin\",\"lotensin\",\"supplement\",\"ketorolac\",\"crystalloid\",\"vicodan\",\"naprosyn\",\"halcion\",\"folic\",\"ramipril\",\"clopidogrel\",\"tng\",\"ccb\",\"htn\",\"iron\",\"sulfate\",\"regular\",\"xalatan\",\"eye\",\"drops\",\"metoprolol\",\"senna\",\"tablets\",\"nitrate\",\"supplementation\",\"ferrous\",\"combivent\",\"dinitrate\",\"tartrate\",\"carafate\",\"flexeril\",\"etomidate\",\"succinylcholine\",\"versed\",\"ffp\",\"cd\",\"metamucil\",\"sr\",\"zyprexa\",\"blockers\",\"inhibitors\",\"furosemide\",\"ginger\",\"product\",\"cell\",\"morphine\",\"nitro\",\"flomax\",\"cepacol\",\"claritin\",\"steroids\",\"bp\",\"diclox\",\"pneumovax\",\"neoral\",\"cyclosporine\",\"products\",\"dilt\",\"amio\",\"ecasa\",\"hctz\",\"rocaltrol\",\"erythromycin\",\"oral\",\"carvedilol\",\"niacin\",\"levoflox\",\"duonebs\",\"coreg\",\"nitropaste\",\"cardura\",\"vasotec\",\"pressure\",\"enoxaparin\",\"sprays\",\"statins\",\"er\",\"hep\",\"gtt\",\"acei\",\"ssi\",\"your\",\"accupril\",\"avandia\",\"adenosine\",\"bactrim\",\"celebrex\",\"antiinflammatory\",\"prozac\",\"human\",\"aldactone\",\"this\",\"with\",\"minerals\",\"miconazole\",\"powder\",\"cellcept\",\"pravachol\",\"vitamin\",\"d\",\"fosamax\",\"dulcolax\",\"e\",\"c\",\"fondaparinux\",\"caltrate\",\"plus\",\"niaspan\",\"abx\",\"these\",\"diabeta\",\"paxil\",\"trazadone\",\"ultram\",\"bactroban\",\"ointment\",\"reglan\",\"afrin\",\"lotrisone\",\"cream\",\"proventil\",\"inhalers\",\"ancef\",\"hibiclenz\",\"azmacort\",\"nebulizer\",\"autologous\",\"transfusion\",\"diuretics\",\"quinine\",\"famotidine\",\"ntg\",\"bolus\",\"nsaids\",\"lorazepam\",\"atovaquone\",\"bisulfate\",\"naproxen\",\"pred\",\"pcp\",\"ppx\",\"zoloft\",\"pressors\",\"glucotrol\",\"ceftizoxime\",\"penicillin\",\"fluid\",\"ceftazidime\",\"nystatin\",\"suspension\",\"g\",\"milk\",\"of\",\"magnesia\",\"liquid\",\"fluids\",\"ceptaz\",\"k\",\"bowel\",\"supplements\",\"perioperative\",\"levaquin\",\"baclofen\",\"cymbalta\",\"lamictal\",\"nicoderm\",\"patch\",\"ducolox\",\"lactulose\",\"mylanta\",\"seroquel\",\"sedating\",\"antipsychotics\",\"chemotherapy\",\"tramadol\",\"zydis\",\"plaquenil\",\"cefuroxime\",\"azithromycin\",\"amitriptyline\",\"clotrimazole\",\"nebs\",\"phenytoin\",\"bicarbonate\",\"sulfamethoxazole\",\"esomeprazole\",\"darbepoetin\",\"alfa\",\"dilantin\",\"lopressol\",\"kayexylate\",\"prbc\",\"darbopoetin\",\"nitroprusside\",\"diabinese\",\"diflucan\",\"fluconazole\",\"maalox\",\"remeron\",\"ranitidine\",\"dobutamine\",\"medicines\",\"chloral\",\"hydrate\",\"compazine\",\"phenothiazines\",\"trilafon\",\"normal\",\"saline\",\"nsaid\",\"epogen\",\"cipro\",\"flonase\",\"flovent\",\"tamoxifen\",\"catapres\",\"tartarate\",\"ocean\",\"doxazosin\",\"proxetil\",\"replacement\",\"lithium\",\"parnate\",\"pressor\",\"beclovent\",\"fibercon\",\"mvi\",\"novolin\",\"elixir\",\"citalopram\",\"rhogam\",\"vitamins\",\"vasopressin\",\"dopamine\",\"troponin\",\"argatroban\",\"mucomyst\",\"propofol\",\"triple\",\"osmolite\",\"chloraseptic\",\"gentamicin\",\"therapeutic\",\"nebulizers\",\"prochlorperazine\",\"librium\",\"gluconate\",\"timolol\",\"tagamet\",\"niferex\",\"ibuprofen\",\"bicarb\",\"epi\",\"integrilin\",\"levophed\",\"diabetes\",\"mgsulfate\",\"mom\",\"decadron\",\"tricor\",\"prednisolone\",\"gadolinium\",\"resuscitation\",\"kayexalate\",\"ferrlecit\",\"atropine\",\"lispro\",\"duoneb\",\"metoclopramide\",\"quinapril\",\"simethicone\",\"carbonate\",\"cartia\",\"xt\",\"methotrexate\",\"pravastatin\",\"cyclosporin\",\"sucralfate\",\"cozaar\",\"lescol\",\"inderal\",\"persantine\",\"ideral\",\"glucose\",\"maleate\",\"immodium\",\"phosphate\",\"b\",\"med\",\"tiazac\",\"glucometer\",\"methadone\",\"cefepime\",\"ditropan\",\"monistat\",\"corticosteroids\",\"unfractionated\",\"thorazine\",\"benztropine\",\"mesylate\",\"chlorpromazine\",\"lisinipril\",\"hypoglycemics\",\"extra\",\"his\",\"hfa\",\"aspartate\",\"solsite\",\"arb\",\"ipratropium\",\"duoderm\",\"ticlid\",\"tablet\",\"allegra\",\"vit\",\"alphagam\",\"gtts\",\"clobetizol\",\"acephex\",\"ferrex\",\"other\",\"apap\",\"ivf\",\"glypizide\",\"regimens\",\"cytovene\",\"ganciclovir\",\"nadolol\",\"gentamycin\",\"antihypertensive\",\"thyroid\",\"cortizone\",\"inp\",\"dipyridamole\",\"pack\",\"besylate\",\"azithro\",\"cvp\",\"bcnu\",\"imuran\",\"miralax\",\"msir\",\"pamidronate\",\"acyclovir\",\"tums\",\"dexamethasone\",\"sennosides\",\"mepron\",\"candesartan\",\"mscontin\",\"ms\",\"contin\",\"ciprrfloxacin\",\"econazole\",\"omeprazole\",\"per\",\"ml\",\"solution\",\"tpn\",\"irbesartan\",\"amitryptilline\",\"lactobacillus\",\"glargine\",\"mononitrate\",\"oxacillin\",\"pcn\",\"ctx\",\"prandin\",\"zinc\",\"calcitriol\",\"aranesp\",\"nesiritide\",\"hytrin\",\"bextra\",\"zofran\",\"slng\",\"integrelin\",\"aceinh\",\"keppra\",\"truvada\",\"norvir\",\"lomotil\",\"lexiva\",\"imodium\",\"probenecid\",\"coumadine\",\"metrogel\",\"acebutolol\",\"risperdal\",\"lidocaine\",\"boluses\",\"taxol\",\"premarin\",\"ansaid\",\"antihypertensives\",\"cefazolin\",\"acetaminophen\",\"robitussin\",\"rifampin\",\"ventolin\",\"linsinopril\",\"inhale\",\"dht\",\"stelazine\",\"betaxolol\",\"questran\",\"pilocarpine\",\"ac\",\"reg\",\"rocephin\",\"calcitonin\",\"kayexelate\",\"lopid\",\"alphagan\",\"inhibition\",\"ischemics\",\"relafen\",\"opium\",\"tincture\",\"atapryl\",\"outpatient\",\"kaopectate\",\"mitozalone\",\"rezulin\",\"finasteride\",\"restoril\",\"leni\",\"diabetic\",\"cephradine\",\"tylox\",\"ns\",\"inuslin\",\"carnitidine\",\"digitek\",\"mycophenolate\",\"mofetil\",\"oxybutynin\",\"succinate\",\"micronized\",\"injections\",\"colestipol\",\"hydrochloride\",\"zemplar\",\"klorcon\",\"opiates\",\"avadia\",\"riss\",\"metop\",\"p\",\"zaroxolyn\",\"tessalon\",\"codeine\",\"antianginal\",\"therapy\",\"benicar\",\"antidepressants\",\"nicotine\",\"adalat\",\"pills\",\"dyazide\",\"nose\",\"cyproheptadine\",\"nipride\",\"ampicillin\",\"guaifenesin\",\"her\",\"low\",\"molecular\",\"weight\",\"norepinephrine\",\"inotrops\",\"onoptrops\",\"vaso\",\"sedation\",\"nicardipine\",\"naturale\",\"tears\",\"lactinex\",\"granules\",\"panafil\",\"analgesic\",\"deltasone\",\"senokot\",\"lexapro\",\"ventavis\",\"cephalopsporins\",\"tracleer\",\"oceanspray\",\"nitrospray\",\"arbs\",\"stool\",\"softeners\",\"mevacor\",\"seldane\",\"isoril\",\"propranolol\",\"capoten\",\"ds\",\"clonopin\",\"mycostatin\",\"qdcalcitriol\",\"qdcalcium\",\"tidlasix\",\"transdermal\",\"qdzocor\",\"benazepril\",\"celondin\",\"atorva\",\"simva\",\"benadry\",\"primidone\",\"otc\",\"iss\",\"celecoxib\",\"narcotic\",\"lidoderm\",\"metronidazol\",\"zometa\",\"demerol\",\"ultralente\",\"adriamycin\",\"elavil\",\"clarithromycin\",\"biaxin\",\"procainamide\",\"meclizine\",\"zincate\",\"meropenem\",\"gentle\",\"hydration\",\"aprotinin\",\"nitrofurantoin\",\"imipenem\",\"chlorhexidine\",\"geodon\",\"sertraline\",\"ziprasidone\",\"bromide\",\"enoxaprin\",\"navelbine\",\"vanco\",\"citrate\",\"polysaccharide\",\"complex\",\"xr\",\"wellbutrin\",\"minipress\",\"valium\",\"corvert\",\"cough\",\"medicine\",\"silvadene\",\"valacyclovir\",\"erythropoietin\",\"ergocalciferol\",\"ethanol\",\"lovastatin\",\"nitroglycerine\",\"cholestyramine\",\"saver\",\"levatol\",\"actos\",\"avapro\",\"milrinone\",\"eplerenone\",\"temazepam\",\"cosopt\",\"travatan\",\"lyte\",\"cpap\",\"reopro\",\"agonist\",\"theophylline\",\"releas\",\"benadryl\",\"provastatin\",\"epivir\",\"actinomycin\",\"cytoxan\",\"bleomycin\",\"cisplatin\",\"lamivudine\",\"prenatal\",\"suppository\",\"indomethacin\",\"tamsulosin\",\"cisapride\",\"provera\",\"bismuth\",\"methyldopa\",\"advil\",\"alternagel\",\"estrogen\",\"stanozolol\",\"coum\",\"stanazolol\",\"seretide\",\"ionotropes\",\"hydrocortisone\",\"hypoglycemic\",\"zaroxylyn\",\"aciphex\",\"lilly\",\"pen\",\"betadine\",\"paint\",\"asacol\",\"thrombolysis\",\"lopipd\",\"maxide\",\"alimta\",\"aztreonam\",\"neupogen\",\"transfusions\",\"chemo\",\"rbc\",\"platelet\",\"cortisol\",\"peridex\",\"mouth\",\"wash\",\"cefixime\",\"that\",\"serevent\",\"trusopt\",\"pulmicort\",\"suprax\",\"dextran\",\"tenormin\",\"mannitol\",\"valproic\",\"fioricet\",\"labetolol\",\"the\",\"following\",\"tofranil\",\"vistaril\",\"methylprednisolone\",\"proscar\",\"alcohol\",\"vasopressor\",\"toradol\",\"macrolide\",\"antibio\",\"tic\",\"hydromorphone\",\"fondapurinox\",\"tarceva\",\"levocarnitine\",\"salmeterol\",\"xinafoate\",\"zaroxyln\",\"dextromethorphan\",\"hbr\",\"pindolol\",\"rosiglitazone\",\"cefalosporins\",\"angiotension\",\"receptor\",\"iv\",\"softener\",\"fosomax\",\"cardiovascular\",\"diprosone\",\"psyllium\",\"advils\",\"byetta\",\"fluticasone\",\"copd\",\"syrup\",\"analgesia\",\"roxicet\",\"qugmentin\",\"timoptic\",\"xylatan\",\"novalog\",\"general\",\"anesthesia\",\"cefotetan\",\"kefzol\",\"controlled\",\"felodipine\",\"guqifenesin\",\"prempro\",\"tapazole\",\"artificial\",\"atc\",\"actonel\",\"darvon\",\"diazepam\",\"torsamide\",\"betablocker\",\"ceftaz\",\"dm\",\"rx\",\"asp\",\"perels\",\"guiatuss\",\"bicitra\",\"micromeral\"],\"x1\":{\"__ndarray__\":\"OVBreUAxJcD8DZ6QXXwXwOG36LkYZyHAasV5TcnnI8Ac6TyRxisYwL5MSnFS9/S/ickK30jTFUCDaub/Nj4qwJuAF/03KCHAaujfnRdQF8CoKlU+olcSwGqUj6e1pgvAgGotuxP+KUB0YD95z0ggwCfcOm8IWCRADnybVpCDAkDhffJdJiMJQFxZaTZfNRtAA9Zv0yWaN8AGQI5piFIkQG+JElXifBJAy4YZ+d4RJMAWOXqCTgUewF/Ip9/evDHAFOyoltOpJsCflk8JflYkQCLGlR7D5RVAnTR1hYXX8T8zdOHsEN4TwH+FsIZmOShA42z+m4APJMAxkyjJL4MkQCbXtuC93S7ApJGnQ23UAsBdj59lHzwnwPe8rP4h9hpA0MsbZRQ6N8ASABL1jIcSwMvy9Q10ejDAXM7HZFuaFkC4LrOrvSMlQJ9rwFO0lRXAJNdqflJbKkAfFMQNwxsqQIIa02XW7zHAWfSOyN3wMEBwZqE+xBEZQGTQMSBZpxzAS1T93Ela8r88XEQsyV2gv2LCQB4ITC3AsBA8b8QEFMCBmCcArzItwHfDwie1bClANz9gKlvwGkBLO6cSLRUZQNsPZBJ3mRfAApTtpcIrL8CT38DJ4FEhwFRLynRUxSrAeEwXzYtR8j8rZ5OfLQkJwK105er6zxfAJx2y7p9LGkBua8B0XZjAP51SaHluaQnAbvSy2/kwEcD1pByP1QUtQM0D3T3nZA1AjV4WjAo7KcA94/X+fVorwAmTfc4pfyJA4ZaVCd0DN8BgQUEuG2ImQL37aJmq+iZAqp/Ls/uR9D8zxU0rM94UQG8eoH86XhnAjHidu5aZMEBQI5wrouPAv0KS9cEBAxNAYp89KjG0IcCvyDJO7wr+vx5om3S7SBVAbCOOm0NDKECIGsKFr20OwESxvtH4ZxVAl9gfMaMMDkCGk13YaxckwAT7S/5kxQRAdXIDFlPhCEDpuBSvMpK+P0MUQRUUFTDAzTbhdPr6KUDKBwkiesoowCjTro85pgTAvodB+5tkMECX2YHTd1obwD7Ae4F9Ax7AHN/8okem5j/N0q/etZswQOgBjRvhRQPAsTYwA0xYCMDHqn8amGAQwH4HNh3H0BjAnK7xSavLCEBkT13ebsouQGgqhultZxLAXhmduKZd4b8fgdCs5hMEQKjsYrMAEMi/s5fdmwl9MECVsY6LBnY0wEVY6P6SRqQ/afYO0cgREMAVxx5QDg71P3nzdJqu8dK/YJJ5NNU35j/5JUzyb9EFwJtYoIyeDCjATmh2ChMsKkAYZcANlb4iQPWlmkYBOdq/jQ8YBaW2HMBPWtTcV8AowKRI+QQysC3A+l2ZGFIiIMA8eYdxyc0hQFq5NTcQ6RLAJsF5migDF0DxdZsuCF4KwP/4PBEuKghAqJrcrkpoGkCMJ0HuroLKP8UE6wXeMBdACe5Rs14nD0ASlrbQJc0rQO7NnUyRfQVAtqkysIb5KEAapg2V6aUSwHXYTDkQBxVATU7NUiNn+78Yu+U/WMMKQFP8i8MYmiTAj0SlTQQ5FMD8/JtzGrEFwDg1MQJ6IyDAdZYcXTcAIcDv8FR//iYbQH/RhliuhiRAnPr+N37KJkDLfqILkBAFwC9xRVS0d6U/1l+Jyvg4CsAJL7Dd8RwoQAtNguSQcBVA1WzuxRZk3b+NkTv6m6wfwBCe3KwKUwZACogkwJ1YKcDLkk1PaKAXQLltF4X6SgHAnW063GYHAMCG15O5FP0uwHG5Z6ivUw1APZA9lGZaFcCHRumOEOoOQP++OrjorwjAQpX0+r7dBMAyvIgocpXRPz9UyU/H+CDAbfmvY3nkHEDxjA/xDjcywFAwb6aZmiZAqUE2aMsXKcBLqaPaDoIiwK62MVAOpBrAofrBpH8RHMBc0n7dN6MAQJquWsR+VjDAKURdWJ0fGsCct9x7k+QwQNRaQNn/oxFAnV1Ca679BMDXJ34fnU8qwO08GyfQ9gZA//eABTXOK0BOJah9OI4XwDyxQSDRuRfA8NLcRvyOKcAZUeSF3xL7v2THLSsr1CXAKQSOv83BLcDs+Zc2gDY0wOMyBki5hjBAcMycD6uFD0B0Nqbhbn4lwAqtEgoG7v0/2EmH7U8A+7/3NAXB3wz9P6eEY19RCBVAYXFPs5rAD8C6KXsbOBUyQC2FU4W2vv2/DilJFgffCUDS5hZzUskQQMMWXPCMmCTA0tX1soe5NMC2hFjimXAkwACntN2d6BxAn57H1cYSAEClIXTgvX8twBOdLj/SWCpADJpTrBmP+j9xJfGRGTDxv0jVO/uypwTA2uTZt6J6/z/ZX44NqFclwILjcqxWhyTATn/JExwKJsCglpUYhI4TwP35awG0DSVA2k8ZOIwBIECHpREVDtYxwOqOn5xbjgXA52TarNNP77+/1KkFJgEiwNyknLDoFCBA3/xsPywesL/JBeyatmIuwOGB+ylRnjTAaqOyWXzrJ0CmWwmhKMsVQB/W2UvF5hNAB7jv3DHxJsAdXxM7Ksn4P5n1NWurUBVALAsb3lFtIcBNcF3Kobqxv+WwL59FMwFAWnDSXBRKJMCCSxhXFwcywM+FjTZSOAxAz4gjDNkAIcD1etF8Dj0PQEkvl7V1pxjApRkwA2jmGcCvH0F073MlQEZz5lp/FyrAiorjNxkTLkDTGDG1OLkpwLCDeL0HBwbAiaPpqcZ8D0Cv/xLBCwUxQPnyP0c3phFAxuuitX/4KMBm8IKyncgdwCxScwBCshLAuVVJAUX2HcBWctZI6B4TQABIUykn0C/AhBEBndPvAMDaEdND8ygzwK+NNqsPECVAtOvag18JBsDpLEUTnxUywHrGyCqc1CrA88HRDcjkNMAo4YgMEwIwQGByxQ9f1SnArpJBfoRhD8AddBkBvDAzwIjD3m4jQxVATLKUaAF4MsAq+v1PofkgQIG6sq7o9gvAnE8x7HwkE0CmC1DLF7kNwEsKzJu7N/M/FxL12i85MsB05FhDj88lQCGQNhZljixANE4fYPtI4T9UaxEL3DgoQBDIOcrAHCBASWC6lchsGMBfa+p7+j7/v8L2g00dZQZAg2ccHZulBUCVDJGedmAhwBSic3/NYS3Ao+alpZ3RGUA2vbTctf4mwFE0iVjTTx/A9yNNEqvYtL+/CTMgQoIlwD2U9m5LjylAIoGUzjVYH8C3Qa6EAWn8v9NSyRRlwfa/uFUUw3CmKcC8BhRk5Q4YQNOVMIml/SPA/9VbVVHvEEAVZJizxGsZQN4VTFkBB/6/NLoc11li7r/yl2q6sg4RQCEaeMOa69u/aXIpSNYiKsAYfGS5pcQTQInsQtNaLjDAmLg3nH5vG8Dc2hnXTL0WQMe3N+YGuynAIpRZtyW/JMDMvvLkNw4AwCOuVgXYzyxAFuMeEwLHF8BHttKuSdsmQGNBXmS8TfY/5s9kTidoKMCJOINIVHAjQLQ6cyx93CTA/SsTBfauJsAwgbySVkkiQDmuPj29Nx/AwIweh8jW2L8Fd2xAiV4awAssPX3aowFAQ2gG3UxiF8A538KYWrneP5CTNAhMcSTAHyxQ++kR9L+8/w4Ax2MEwOxxLoRiqDfADGFJU1FbIEDveEVawtHxPx1UxHPMgDjAn5HjLEeQIsCicnwj3TX5P3uOGt0kshhAU4y4FAbX3j9TwnApC4Xev6GPWl3eKQ1AjUan147KH0ABFX3TPRAiwHmNyoDX3i/AqSjjBx+tL8AoyGkFJKYsQCKQ/qqaTBNADHWVuXXrDkCjrx8riSkwwD3PPGQxjTTAvJrtj4ai7j/Dwc/zfBwlQOA9FDm8TSTAAFXG3BRdIEBvnJCREJMawI/M3N0q7eQ/uIkKnJLgMMCq6qJYxHMVQGYHcJIvEyDAEHlpiJw9/T/fWver3ZojQIR5KXX7GRRAORK65cjsJMBL7Apiwmn8v7+LaJ30jSxA1iTzcpqfMMCnWakDfPnkP30yBXeALyHAJPTQb+z4DcAmEha66pLhv8XG9PCJNx/Aad4WpXpnMED+AAcIvmD5vw5c9ZtAL9u/2sSHInOL+b9p4EnU8pIVwM4iJxJ7YN0/olUq040CBsDNslv8q5oTQHEclO/owP6/a1lL8/K7EMCWOc7Q9kgwwJcR3QTyTgxAkt7k3BYHA8CyOgGE/fIpwGz97lW9NjTAd6CPHyAqEUCJxLP+Wu8lQNX2ZINVvSdAGLGS4eSo778EtaEXAvcZwLWQerla9ifAkJmoxkGXFECJVfC82nAgQCsxrQT6ICfAqiNqOirsKsBjwMyQkVk1wI22NGI47hhAIfWl61DYJ8BzEdBDLH4gQE4E4UKLxhhAu/scVtkaMMDa/zILADIxQJ6PgAhOAMm/Isk5nhL3LcBWa/JL0RwnwPu883uKexnAs2LIdgFeAcARFausbUUmQBbjv+YeDzHA8RP+OS3K/L/IpwXOCOAkQJIbmpphujPAygkz/Wy7JEAB5mtXWdsvQLzipReK+AxAsNiCOwu7FkBySxYd77AZwET46eRB0x3AXrEyBO+HDkARIjkgKJEAQK5JDg0bsTLAgBLjOWP25D+7Pp13PmE0wMeQ6KNTuRXA7ck41+aNMECHj9wUQy01wDh86+IHmyNAt3RBOqs+E8Ddt0TwbwEPwKWOKnJRcivAPNftWvL1EEAausKre3IOQEJr5qh2OB1AUNfSmiM8HMCiPo7CEfkKQHllnBXi+ydAZ7iR4Xu78b9CI6PHjQQbwGfwMJocQSBA+Fw6xBF3+T8oJpGXudAqwDZoSZr9YCBA7/keRutZIEBFCUy8720jQCruiQt/s/c/jACncQLWD8CoSxyu0s4QwO+vq5sRpCVAoCzfpnfLFcA7ScHOVmsHwOWpZuhnuiZATCOy6NaAGUDJ/7vJze8ywEFlvAN9vRxAxB48kEP7NsAZ6nidu5AzwEf8YNij2CXAN2UA1F5yI0AsV0bx7+8gwII/HbBnKay/aN0J8vTf+j/jFsJfnbIwQP/YWeVskv0/lDsyQMUqIsAO7/zWOUgXQJBDu8OWYc0/GylLVC9QG8BDnBdtVKURwEYD5W2zAy1AhNUXUe2qJUCZAHiMpvoQQAKDWK57tSrAjgPAwwW/G8BDWO6xytYMQMP4smFFZRTAwkkCpGBwBUAvNh/OFGIUQG7CPUAa2SXAeo6VlewwG0BvW5vwqgotwAu2KSMlbc+/HbseDmapJUCkmkXyqC3Zv3Vr7DO0aiVAT7uJB3DDCkD8DUids3kZwIVgqU1QGy1AFl+RXEc5MsAymZm8xw7kPwzXdAEqYiJA08D/3n2AKcCcAEu2iO0BQAYNlx2kNeA/bwrLynx5CkBF5bcUhrApwKo751jeezLAS9vAxDiMAEAXKanjVXsgQJO45lPheA5AvnyEQky5E8CwOP4SYDIawDjR8Y150hhA4Tz9LU4x979JNsQqzWYfQCfGCFiDwTTAJ5h0VZhEFMCXOR+CPFcwQHrH+cwfVjDAH9rO0i4QJ8C4Memx2wodQAOOU7hEEArAhAisQCw2JkBNyvKH1wEzwGX7yoC1vyXAiEPNljmn+z+UXjCTHVsYwPiXjL6TQyPAb28K7BVRBMBPaKPDE/YVQISqWSrHaSNA97Q0AG7oI0CDutvnMN4QwABG9mzX5ABA8072F3igGkCVatuki4cnQIwAWSaGhATAJxysuDSvFcBUN9DzwacUwJqiCrpkYSBAEdwdt1v68L8vney69vMgwCHfUiONLRVA41e1PEbE4b8xo77ZTXAAwIPgbOq1VR7AUK7jjcHuFsA5os1nEaUhQNCQ8O0texbAm5Bl6x6b/z9jp46Zg2MwQDxVUSvtGB/AXmcqnwgXL8DBz+FX6FYwwKCSiqfw1+8/Z1zeJzWYKUDqYdn/97EMwH9x039nAyRA3eFHrMCZDkAsNUdHR7IhQFpt4JEWkh5A1bqZqxcWEUC952Y5wo32PyEwKZydzhnATeDp/OtkIEBWbTj5OTAlwNuxp/MMWRbAzIX5f26JBUAUEOe46AMtQHCqKsNHkzPA1TnOoSkPJ8AMUai1hf0twNfDTIWROAXAKxnc5atEH0CtVxcKDWAgQAq8/cMc9ANASFEP8JYCDEDdbj5wJ3UWQCO4ro18ChBA/MGtAl5uIkDEFZBg8LUHwO/IDQ4IA+y/uAda1sNQDsBOqBR/fmcnQMsV3u2Q1wNAJPgOsaSxE0DLUFIA5hL1PwW/UFPy5i3AVn+sUHCsJsBkzrNX7toaQGjFxB5K0g7A75YTNl5cHkBHEnOGZxoUQGLgHyuChQ7An5cvZt2cE8DL1aXvKpMgwOkjTI84vCHAztEnN//DEsDFhtzu71kDQJdSJfkTOzfALw24KmTJC0CV8KX8zU8wwAGyx2WDSCrA6+cVR/uDLsB1JgP2npYUQAWg+S09ZgXAxQqK4AvGLcCOHRky7EEcwLhCr7lSjjLAla8HwlrNMsAqs9pc4xgpwJj4hZEYkNi/OAzsEQBRNsAqCOlhnJ0BwBJaRLo8TgFABk58Q1puHMBQ/wtcT4QnQHF++XIHFxhAWgbJ4LmaA8AUx7nCfsL6P1AZogNBZy7AV//B63ENAMDFoCQup/EpwL3vNCZ1S/k/y1orN0AnJ8Atx/4kqsEFQLYiIkiEfDDAjyNmTQqPLEDoG9PXmuwaQGQxUh+euDXADezKiWK4JsAHIcd9Yp4gwJO55k9YzyvApsC23JgjL8B0EWlUuzEXwH9pQhoq6uQ/5hm6BHoeEUBMiIUZa7QswMqmyCItnyRANfU7e03UE0BLjDzWwM8QQHUMv6J5w/6/wTGoQC7bJkD6nnsjl94NwNaDcsGVrDTA3as0cXWYzT/6/hEt7DUYwGyMorJoewVAqLjYRgZEEEC2bQGdTdISwLHgaUFC2xjAMgwqMUnVKMDuh6jIwpchwKF3Vk3McgBAYkwFxC967j9LMw1xe6sQwNk1aJu8nB5AkjD5UacgMUDmUg3OjXARQBuylqGImyZA/csN9GxhE8C1Pf0ojD4OQHAlLb/4BSFApBmOi83UHEALRHYSbDsXwKDEntiI1inAWLh5MR3wH0CS3cU4R1IgQPtu5pZQnTPAtdXeoWJ5J0CADnMVgu0aQIhE6FpFWg5Ai7Yz5FkK6L8Xmu6ewhERwJVWxBjGcS7A3wpJa1AREcC73ieY4eMFQNWOq+IMuidAnvQW0PYgEsA14dlDSawyQOWBWwaLnSFAwC9w6Y0SJ8DR154a2lodQCEPvjIERDDAfx4fvTV0FcAeFPR8IcQdwDYaTLIOCQZAkvIFli8wHkDKnViUagQBQK+q1+/b3zDAGDPzK585DUAvdKi7rLgUwH9AfgisfydAFskyTqtqGsDcdiWOjCMuwChAwyt8xRPA88KaY1PP/r/Nyv9MzgvYPwx0Wwfc5h3AJ6NIg+j4MsD5nn9DfX8DwBs8vNqVMzPA6PEa0TkpJkDxjQDpBoogwBVYgyhBiR3A/gugCp4OCcAyOIopilAwwAX4HyfIuBXAj4qgh25Hxj9hi5mmB5MwQIyt6GkllzBA5kJBCyQrEMBzd53nZE8jwB63qmGXeDDAy9sSKqISEkDVlb6YcSo1wDloLMRzfydATapiz0zXMsCnIMCqayoHQAorCZSriRVAHbUHSPyfKcAAmVY/1GgfQM3dEi1Q4S3AhAA2kapFKsCxg3ZuEqQawJs87bEcYh1AgMiewqNXIEBwJGvTsYkoQAVXRcP2Yvc/zI2U77YpEsCAZ9H9pPUdwK9cC9FrehTAEHz9uTZJIkBj4nvYh9oXwE3VO6gVsS3AUvbCv6Z/IMAV4Edy3Ln4P1aUb+EJSuy/42Doz0E4GEC3C9/DSGIwQCBR3OE7SPI/e8sZ4cuXIsBTeyBxb5EmwCbUbhzYRSRAXmLlDoMAJUDq/H79GeX7P4f8+sYu5hNAsdd4b9hvEkA85YuUcbIVQO3dROADwylAEE/vgQThJEBJRAkRPTgWwGV+kKMWYTBAjrrNrgu1+j+a2Bt5c9ErwDpYd0i2oQRAtamO+pibMkAeq0Ll+1kQwNyEZWS/MCrAfNqrNkrwIEDMtOyTL8slwLA6hK1RwQzAE+LRjtVQIEBeN+82aXEQwG7JSw8Vgg3A60B8hmOLCcBtjjgNvLkVwNSTaj/bjgtArnru3dVVBcBHS/p5uas3wDyY3H5i0xHAEexznbwyFsAs6/tRoXPtvxhXV2TfVzbACk2anRRXJUBJ18Ideo4WwB7QOcaJsDPAgoz9dww6OMAu4Igwo6AjQJX7+8xzhCHAld/FMarTFcCs7iwfi8oAQJzD3KModhlApPGZndA7MMAqBlUL9+QXwF1LrE7phBjA0tG5FnYB+L+E6bGsbukHwIpRBBXKEiTASV6b8KsMKsAXqaiIl4gkQGJCk0n8JWk/nmo4YiM11L/zf2uvTG4jQGpGkz3q3RFAfHUSSbQhEsCzxPjcHvkewN61ZebOYCNAC+7ToythFMBuj8LxkusQQGUQORLcByHAK+/ro/RVJsCdlBo7RboBQHxPtpmeMhVAjB+VEt1q3b9+beKo+UktwK/A7OwxwjBAb9ddqJ1SFcCgCevXv6s3wBosDd2tCirAMPY7EgbPIEDz4YWXNGsgQLeLN2ExjyJAba83WuvJFcAHh9UQ62Hsv2Gz81pEYCFAF7VCf5oKLsDOhEl/I3YLwOAvSOHqrRVAESAJLEhXMMCWY61lC40pQC3jSRMuSh1A6FY24vD4HcCEMfuPYoMVQCVdk0HTgwDAg40IyHabtL/9vX78KaUnwAI+EWqXzRjAm9ARzU0xIkB6i4IRlgwywGORpcKMrgBAFEjhIXFNTL/Y3RW1/74EQLHdtk/wvSLAx1GEHJzmJ0DuiFoFct/qvx3KJ3KmvidAGBYytz/2CMAx1SE9MAUnwNSNCFX66xPAo77rd13MNsCgC6gBm8wMwG/J7TVcTiLA8wFtJ9/oJcC65sUQxtUOwEyLum1hOAlAgD61CwiNIMC4Woc2ZCQQwNE+MKU2gfQ/XH/isTd6IUC8sWhGmy4hwJPgqLlmzw3ATk7ePXq37b9X1cM3pAUrwKuX/3K44/S//ULn25Tj8z/BpL2aZtzav+Mf0g10YS3AGnK/dVg9IEDA2/U+R7Dav+xEN7hL7f2/dgFl8uUzHkB1N4CXd8EtwAUA2n6VWyRAFSaz9F8AFkBb9pnvbKwyQBEXkj09NSFAY4RRmbW8LsC6jiHa15YnQAPSkLInM9A/Y/fYeyS5FECZ/ld0YUItwFpxgV2pWSrAB2LKYTUbKsDaQN5RG00FQP32B75s3Pk/MUUVU8IbIUBBWlGNDxwjwJVlcCeMAy7AKFYejmlE7b898SN4NS4HQG7QFRTE7wpAgORov+T1FUC3CkUMHtQywH66E34TGhJArN6dkuJWIsCONcABBlwqwIpW3JnsagPAMw0B8j6wKUAd6iayF68QwKA5Yf04GRFARthDxbhHIkBosSmaAkUBwB1Oo/siWhVAFEVs8d+rN8C0bpGkFv3tP4bPT6CAgBjAK2/Pe7EzFMACIh496n0EQHme364+NyVALodxPJgn/7+OlvkxHa30v6UXGVIkJDPA5XBsPuNf9j8ieO/wXxomwI3Q7pz0KTFAB8oGASKIJEDerV8Ep1MjQNnbEjzs3SlAzcmmoDm8GsB8pgyDqjALwPXiTUqAxjTAM2YIi7/YHsBzb3npwBgUQGsdUZrv7RJAzgPmMDyKIsBRzhKzPNQnQPNohB51mfc/aYFfkwQNMsCDgy+qrzgQwCILHuXP+DPAWH3/OLajDcDDEY6o3b0wwOipfxCXCyfACfNaNYJ0BkCdUUEUT+8TwKYu18CuQiBAUG9kJtbTMsBJAKos32wVQN5Z5S7Bo/0/UIIHAA9PEEC7+9wRPqEMQMLfprn7qzfAogupzQCTCsBaLVW4bUogwMYGWqok7BXAjNy7S8TC/b9kaMfixs00wI2S2zaF6iBADc8hzoY1IMAhBR38rDkhQGvKH2EyaxlAVsrMlQYsJsAyq/bK6k8mQJ71i6gm9jjAMCGXL1xLN8CGMJ4FOHMZQFwzgUyGqRXAyons6ckFGECLvlEZLa/6P94hHCthLSDAa7OajfgpM8BL7aiPzZEUQF0dQMNJpf6/DP4oZflCIsDJFSX6tnchwGukXdo9UgVAd675xfNbIEARAMEOFeYuwDt5vJAtERhAHZIzgaNVNcD/YXf1SEMBQPHDmaFMjB/ALPZ/ytjJHUBbi9gNGt0twBEb0IaMWCLANqrZOx2uJEDvPJR5NTc2wFvwCJBc8zfAOgrLvOezLkC6X8tlY+//v74GP4Oo7CBAQIHbbPedG0DgCCdWe3IQwP0U4BuyGe2/BFtUXh5ZFMCmE9Ir0wMBQM/TTlmYGiFAv1K7U4vKIEAMNnbo9LUSwKRjPhXiTzDASH1j2BmtFcBNShuKRjD4P/rhAWa86ME/DlzcmoMmDcCpa+/G3GQHwPPB+/a1ww/ACgr6RplJBkA/mdb3sAooQDSsEdU3PAhARX5/h8D8GEA/Htut6gooQJ7nxAtTISZAruaY11ET4z8KRnmgBvQnQAVMIIr5sjjANsXOYfqZAEAJ39DOEXofwMl1z5wGkSXAQJaOpFATMcA5R2tcV1juP5SiQU5jpi/Atu9BcVBLFcCtV5WCZFIhQElxZ+8YARRAkOvAWRDjMMCjJwigsOoxwLD/srQPobo/sRcnncwo37+UBxtXG3v+vz7yN1LfPB/Ap4MmSoP3EMDVd3R2RFIlwMc5h+6TciNAuqrs7y8THcBHk3q98+MawOSwyS9iuhTAWQ0rImxnI8DpUJtqxT8YwAe0OCT4kTXAwPBgAIwMNsCoOG0Y58ojQLwscn/JgB7AV1l/cn8JEMBUtRKPdYgPwECGVi7tUA7AACsTHfYpIcCOKZFLfZEiQDf7vKBAkiJA6dKdwol+FcD1P5rZQJwXwAsQpNI9mCTA28LhFJCXJMD2HCzfIY8VQHvT7v8bHhVAhNQzJUamM8BSLNTIWi7vvyVdvl4+6irA0sD09NZb4L+UQo7cDVsWwMsTlGDYSQ7AMQoU4oM8IUASaVfL0sQWwB8W6sBlvCvAmfRJ1xd9LMAfncmb6l8owBH7RveiPArAgTGj0KpcD8CWgzT1Fa0ZwCGRG/avtgPAGKWeouAMHUBSuIhLuk4dQM0YKreNiRpAxEpCeXhRHUCUk/qBMmUhwDtW91d20hvAzYZp9FNAGMCAvNtcRyoUwPxBmG4qpxtA7BlQfap0LsBRETZphYoXwIrokHsWRDDAOrMxxLMBEcABgdiqoRkywGXStIIpNRrArma8dH6vLcBk5EvP/gUwwCcqy6eP7SrAwVU76ELFMMAp/FwzzwwHwAntF6D0cCNAZCztblFsI0BDeAnKRoMjwDi9f7sFfzPAj8pIej/ZD8DmKDgXeiMXwA8Vmo384R5AAZnwnLV1HsCHmB+lBsIowIO2evkRUhXA8HY4Vu5LG8AlDCHSETEzwPBVzjZq4BxArOLKVDL5FkAUcTqFFfcCwMnD8FDOcSFAaqzn/MyzNcBAn74Zwgr9v01sM3mh1g7AD+/lJCqoEsBIHEKyZ5TRPxMfw/IlIRnA0HC1Ky0kM8BiViFgJ5E0wEwGVvBWHTXA5lyCfNORM8BGIC4wQ+gjQNhENfhvcTbAVuwOkRtGMcBwevbrPFEXwHa55gfaiTDA+VeOWX2ZGsAZjLh9s28NwHazr5BJ6TTAYg7s+FEIEsANwGP0KjokQL/11jqwHRTAMNa4gw5BFcDeTyu9XSr2P3RPvEz9pxTAXTrycnExM8A4paDuLxsowKss3SAc1hLALwIc/26tHMDxFve7gnccwGzdPDVJUxVAQixJ9t1DMMA8RmhRu0IxwBUxdFo+i9u/7O+qiBrNMsDpVumtU6AYwOHnbWh+nhzAm+dhJ3OsNMDBtSF6E/ETwAIRyPAe6xTAwD6cHHPWM8BKlbtDsSQUwAP7I2W4Vh3AIKeR3WsDDMCdnmjLSv4ywGFExOskUDLA5VObIEjmJsDJhk63mg8jQM3e7dVcQzbArlV2eBG4MsCIj+GwMbwnwO3mUJSywSvAJya8UobvK8B2DKEjPCYNwI7XXAR5zx3AMLONBgiUMcBJJdGQH7c5wH3iJcCn6i3A2KTLQLjYHsCwecTxJDwOwDBfqH+Yqg7ARPfBgAAvNsDn8cEXaBUuwPd7kIVf5RnAFD9QgcdRM8CJlDf2FfsywP1PFP3BLDPAgBi+XvTVIEDb1s+pyjUhQFVUqj4M8hLAw/4y5dahMMC7s/j9nCcfwIAu02F+kDTApwcdZK93IEDnyGbE6g4wwCFeEBnRTyHAuxQ4D/SU/r8uWnqI8yA3wHqRjb8kgR3ATA5d9pdfF8ChsSj2lz4SwJn5Q2kEzxvAtsnl9E4cIUDPN31FZHQTwONOrplvuxPA4y2Nq4MYNcC0YrVWj0guwLIBpA17AvA/vaTqT3BPE8Dnt8j0l3cawA0ycqKDaBTAiukAYH1jFMAe08aG0OwTwFtdTtxa6TDAP1Bp2yOqM8D17qgX1K0nwNTdQhQmvyJAL05aEb7DIUDANMcruSoTwO845gd2ZBPAwhUYpFHKE8CsdzJN2goQwKbjVlX32AfApLy/88spE8BTzhIKyZspwNyt2oVHLzHA3jVYv5qmE8B+BI2KdBERwMNWjZetERHABrQW5wP5McDVsiAF6YAXwB+K5aHHnDbAmHUiAM0cG8BqPANiKNgVwG4ZoWceozHAGTvd9yN6IkCOgl+OJAc0wBvJohh6synAmupHIeu7FcCTNAdKZNQTwDXIHH2rXiJA7WLcMLuvDsCrnoQa4A8mwLRkBVEy+y7AA1uDzXF5BcBzSGM9CV4hQNkOxyqIsi3AvO2UTOVyLcD+XO1b+L8lwIetPJuAuhxAm9PoNxx/LcD2bUjYbko1wHmll+SLQS/AtSD85UOiJMCCAwgzabESwHSIrQYutxHAGvR3R5pQJsC5/puksmvyP6aqfwpD9Q7AJIXMZ0WEE8CZiQoVAnUKwLZCxfrohDbAGUBhWjx/FMBT181hxMgrwB0CcK0l9iTAwl36En2AMcAvrFX+DpgQwF5mmdJdyzTAGD3eCp2BJ8CSXh04NnwhwPJRN5p2QjbAL63MR0nANcB+f7l1RgQowN67rdd17zTAYDMtBFs6FsDrGrufN4c5wHs/we8HXhHAFzsTvLBUMcAO8ikpF/QtwD/xzgOXcQ/AU2IVP2ntD8DPH4fB/pUNwB6Ckfp/+ei/oO0gNIRtJ8DQ2gRRl74lwIlVs+1lLSXApUEAmPWnE8Aec8cWAi0gwDImOe9U9B7AxjIj1mG4LkCzI4R/R2EswBKEdicGEwzAlnk0C6kLI8C7S/3FfMETwNocm6jtL/Y/FOmDS5gqOcATA5sR+GYjwIhlFVJHPzPAWg9+R5WpNMCvMYtmkaoxwIoE/gJ0EzfADG0LJdBeHsAURJ/hnOP+v7plCCV4I/u/O/cx+ofwIEASW5WK7botwG8ZD6zahCzA1a2jTKfT8r+TOAI+ScM0wNo4QoNXOSzAx/WOWPGwJMA2sU/F+doiwKZYXMK59SLAJBM0nTY6IUDpv88UwmA5wDc0mTPnIirAV7mmlhdBMsCcqD4UbFLTP4wYk/4IMjjAj5Zt+homLMBe8AWs0SMhwJYfReFI1g/AbKfOOgw5KkB89IBfSobzP75iGuP9PSfAcN7+GFNXGcCCuM68nrwOwLt8dX0xGs+/x/93QpNfKsDxECRJseIQwCJI4qiY7inAS5gBhwTTEECZjnvacNoxwB8NnOIESyvAZj6CzeLXKcDrouKEt0YxwLLsHwOxBs+/PxaUhiSQHMD5H6F2J3cUQCzU1M9bJS7A5eHdxhd9JMA4EQA7qsAtwCA0C2F9uwvAnmAn4CjwCcABa46poUAxwBYx+Qae0C3AOAwDEj1AL8AByfvCMogpwBtSSrYBlznANkZU4k+iFcA38X+NJV43wC8JTELC9TLA9VYeeSOJE8ApKpce0gYvwKaIGVQWxxfA+veHEddtD8AVEklIN80MwH02A9MCDR3AtGwDA8YFGMDS36Cclro3wGjz3glRui5Ai3S6SJq7LkA8vgeWEZcVwP2jmywGZBjAWYMF4ZlAFcDczhxIBdoEwHtnRd4wXSLA+kRSu/ehH8D1I1LeiYQjwAxu6WIhrDJA50GNoOKNN8BjF7OBcX4iwJiYzBc23STAdpYpCo6G87807jQiaaAywHu2mbb4+SDAqX4dR1kkMMDq4JhA8nMZwD/q9C+o5zXAu/Qj75jiI8AZQJssPDQowDeBhVUmEijABe9xx5QHH8B1hdUS3rYnwOEhzZl8iTHA8wSGVQm7LkCG3IUMXc4kwALdfg2/wSPAr3aupSOgMsCkdi30Apg0wN/ezpVWxyTA4IOfg3HcIkAsqPf5I64rwOgzoUeP2yrAq3wBqGgsMsASjJjFtpIgwCLPgn4VvBHAJk6ztlTvIsAhVJQL1JsywJ00q9GhWSnAgg2JUad9IUAhYpBJ1Zo0wA2lzaTb8Oy/lFsy0CrRKcArcTptR004wEBtPVoWDyrAvXjgtC/KK8Dbr4zIK/8YwIFJFJc7VxzA++QQ5+k3KcCSlRlRREg0wAqsJAX9QSrAJ/OBVbOEKUAxb2ymVJ8zwGgfVz1WKyrAU98uTnJ+JsCu0h3sDM4bwLpqAxS1MipAzt3wWDxN9L9ofNYrLzMqQBNySvAPMSXAg5s50/e5JEDQFZxpB70uwDh8qznTLBLApAbLUwiAEECyHMs7NU4swFdASMrxNDLA/ckij+wTM8DIbN/xFG43wLIm7rBQ+DPAPV9c3OZQD8CH0JZP7wcxwG2fASRzuy5ARYlehSNPNsDIqyWjnEkgwBRgpr9+2S7AzHzH65XdHMBvudzvgBYwwErx/2f55zHAYgMfEQh3I8CXuYSpwpIbwEVE4cdAbTjAyUopjcVWFsDmemFlM3wxwJq+Wht7IDPA34BpL1BxHsAMsv1EVIA6wPlN+sgqpCPA4TqlwlmFKsDij/BxbUQjwFBrMfPYkyzANFnRsFsuEsC9zQ0wEAMuwLeSWnMKDi7A+1LJqXI8GcDjIHAWGt0zwDi4jCpIsTPAhlsIodUIN8Ar2AF0ojo0wLLurzoZDCnAsqbKvODSNsDaZljanrItwCbRQnQF/TLASZSKB8sNIcC8eVt5nJwawLZ/V0Q0dxbAmRBCkItbN8D9r3GufCUzwKrqua6sqzTAbr1HKxeMKMAJAPx/wTUiwFc3hWZUOyvAdFk60NEuM8Bux/r9cT4nQKgki3NcoShA6JDSHtJ6LMATAvqnR/Q2wBEqREfM4zLA4wMsaY57JMDFWsHyXIIiwEpwXy5UaizA0Xc5GGEbN8B+T/bitig0wBL7tzntEifAxzuciEEZEsDenN8/QjIywB+vj07PBf+/zy7jDZlWK8AW3Gx2pI0zwL+iQjXc7hvA1CiUGaDIHcDUL1DfijAxwGco2eA7XwXAA8FFp5v2NcBfVc2Q2SgkwOIirAeNThLAX9j+BM0+NcDxAD+LARoowNnVYmmHqRzAbSheusn/HsDeEt2dWZ4FQGwyTDDlPjXAGunFyQkAMsApyqFVbO0owGMgRhvVQDHAZCHQsqyfNMDvbGYgkTU0wLN8LTGCtDPAIERoDAHEGcC776ioyYUjwI789MzYexzAM6TlWJF9McCkgjrBFfcWQMzYJTmhkDnATZF8VHCc7L9Ufv0LnB8awAKmp+bmCSHAs/mbMJ9lI8AaZr7Z0P0nwJgyLKueGjHASfYZQYKoHMAW3uyGmxXJP0xEpxNrIDbAtOnAqMI6FsD9Yz71cGM6wDfzgClgXBLA+6hPXbDmOsCetFMrQycrwA9N3TQbkSlABvSo4QGKMsAy2ZXVZ5M1wGg4K+73BC/A9k4gk65kEMBk9hEFLWwjwF/SjQUS+xvAgyK2MwziM8CP9hykrJolwEnBh30awxRAIytCr46S0b/Vt7A2bXvRv3i5ag9e0TnAZILTJqLWF8CqS21BRSA2wDd+5ukNODHAP0ssstsLFMBqUuCNzNo0wEw8EQwQ+CnAMxI08IbALMBtg/j6HdA1wEvxKsdaRhZARKLsJPpJB8DxaCPrkhQ1wHdsPk3+GirA9VUXNeesMkBG8FQL9dcmwOfBSWZB2gnAY0Wv5NnBLsCUdv0GJbYiwCyNf+wFFzPAcqPA5IgvNsCeJRYbyMYywOYNNWVaIzHAUCLMoUWvMcCccZh0CVryP1XXlqWC0CvA+ZFG8ge5KsA6QgqVH7whwL4PFpE4azHAYZdoOagKLsA7r62uxLA1wI4yyuIhDyTAeJ/NuzMKJsARILavnQw2wIkDQGJ4VjTAWLaAE9K7LcATXpUcZl4iwJcozih93C/AKgZmhRC1OsBjT1+aQfUcwEE6hiaA5hPA6M/NCh/TEEB87+QhztszwNKPCdNSrzLA2rtMKRaCMsBAd6ZC86AzwKqqjaAihjHAcwMcZkfKzL/KIXK7U8gCwE28l+V7WzLAwYKiprHiMcAFA2qwG9cswEdhyhpJYzTAqmi9EOXPMsCpkDN1hD40wD+emm1DHy7AiWEJ9ovcL8DCiFlqb7gmwOJC6UMRUTPA0KlXcZQpNMCAvpszC+MowNb2VYj/KpQ/G8MLQxERNsCxxWi01AcowD7f1yWFSi/A+uB39l5xM8AbYLFZs3ApwApFSLkrjCbAUXf0ZderLcAeDoeHNQw0wBVvdMU9/jLAk3IzGfA3OMCMlnOlDfwswHki/OC80STAoqfAO5rQKsBbKDFkDZgqwPj6kfjRCjTApsU7VSIiJMDzRkbp7DU3wMQ3xMBGDjTAdBsOT6qiM8DoQuKMxfQWwBySx8Pwuh/Aq7gq1W0hIMAn9+hH7eslwF64plf16BzApgmtgP3/D8AxlircSjM0wKfvUngBESvAIuOw42oOEMDAFVAN7IwTwDf/C3HjiDDAQ/tuWyRHI8Ck+sRUBzkxwCS0OT+XDTjAzAauG6xbKcAveA5P+GUhQO55y4enBS7A/OLOrQoXL8BLjyvAsmQ4wKXnkkH1tDTA8nbF1ad9KcD2MMNcdV0ywA7uQ52XXzLAHc/wQBblM8CMCzX13zwqwEvEgVqyZzHAv7LyWPZXMsBuitwP8jo4wOVJoR3JpDHAN7kefarZJcDtWQ3BwlQgwMUUTvfhGTbAgSlSui3AMcB7X+RPIXw6wPcGAo2DKjXAGI6LjIgD7r8+kmYWQX0pQPKMOkGBRCnAtMjnmgJzIUDuiSsR17k2wANG+4xadyjAtZznOikMLsCVYpTzI1wbwIVHrx8gYyXAia7Q8gPpL8BLY93ItM8kwNiZtPLBwDXASf+qB42tM8AL8bJloFwzwK+Meq7zNzLAxR5PkIYhMsCBLgkw4U8vwKM2RxNEwDHAg/Jsm1urEMAF83p3eJg2wMJ4pyL8+DTAYenFvzJFNcCfcj5GrdE1wMK46mMW2jnAB1Vs7qg3J8D2pMdBSU0wwCRnEjNTajLAfUq7r3v+M8CEhRJh3OoKQHDrVL2o6QpAsNzjp1ZgNMDD+CUFCCIrwFci6d1MxjDAicOBDaUONMBR2sMJLnM2wDgill7QHxXAwxIoxhkdOsAYr547Z8QtwKmoRfHhXyrAsKLrsJq9I8Dxig+9uvswwN9MOxGNPDLARqqTvYJdM8B4OSI9OeozwE1VyT8HMzXAag8SpPzIBsB3/N2dOZcFwIC8vv6uVzbAgDng6C4d9j/5CKyiTO4hwMCE5vUkvDXANEfRLSX3NsBFnS76GD84wGkV/3WC7DDANOFDY7EwMsAJP4dMQOAuwINZgla1rTPAm0zkS17lL8CoGZJjIOM2wHTdQ9yOFhDALvgijrbKIECZjPv3qiAlwDB9OyatPCnAzl/KffrwMsDYpaO893swwLb0hx/RdzTAFUAD7zozMcDe4uuyFk4owG8aWoYP3TbAfSh3TcujNcDqMaA1r9IkwH/7Hl2B/jHA2HIvt2G7M8BF6oC/ONAywPTCGC4Q0jLAQGTC7G+eBcDM27+s3BAkwAdZ2lM4UAHAd4CV+equM8B8bHbrhQP4PyLAVSbzpzLA7tJsrY3GMMAHSJiaAtYywOmZOm+vUjXAUy1x2BGyMMC40uBxsewuwG1rSjQJajHARGA+GTUlJ8AQxkQTl+cxwMk1/A25vjHATy4eRrQYN8DdHcXcfsUvwCOFeid6zzTAIjnv0rJvOMBHMRAF7nE3wKsziWuxezXAmZrStns3NcBpjS218oIywBsdi6qq+DTArpBksFinMcAzgqw7c3gzwEqGopbs0zTAiYJCQbDMMsAJdcpIdAcdwMwrbP1gJBrA02Er0ISYM8CeW8YLXSExwKcQQoAqTzDANtXiGGJNJcBIbWZVEGUywM0dccvrHjHADRTr/foTOMB8yk8YXRk4wMo546dMGjjAgWUQ8fiH7r9/pCwX6TY3wEalUagkcjPAcyrG7w70M8CNj6SNF3wzwBcxP/VChzPAl0iODHNXNMDrZGx6SS0ywMLCGZgeXDDAf7+YSkhqMMAxkr7a+JYTwHWYrKKc9S/A8qLaHGcyKMAnfXFLD9Y1wJvQb5LuGSfAny4c77kGJMDetaxKYlwzwGbW6MrIgiTAjQU0jG5oHcASSSBS97kpwPqCClaCnCPAFP1ynJ0SLsBE58/ocNwnwMWLl8vymzXArZn1gOizMcCBdi8R2EElQMhwTWKpQCVARbX88BarNcDq51zKrF0hwEhe8dgCKjPAHlJm9TCMMMARwimjA03zP5hOc4IdRw/A64ab5xGyK8BjXe3x6+whwLvZLcAgDTbAPoymvGYzNMAA3UMeOi8xwEXBB/reOSLA+OAMJshqIMA5z1qP+2YkwLNgGRX4oybAOxHR0gJXFMDYHKR/LP00wNyMC752fyLA7EctkkF4NMA5iWfUbg8gQMAgzGbbYCrA4J2Vx5UxMsDvFfE7T/kywH6yoMiWRCvAdIdWn07WN8AP3QrIcdwfwBMrOHhDcBjAn9jTFu7BGcBGyBQuaUIxwCz7jQyk7zXA4Nd0EeOnNsAGMLLruJIqwBbrF4VhmBLAtrXe/T6nHMCSQzZ8QYMuwOSvLWj+KDHAimER2atsOcBInUIsni81wNpQLtAVzi/AsozwovOULcDSdK31MDAxwOSn1F3yOzXA9E3//jppIsBIGYEdr3fOv+WetfypmSDAhCGwm7jLM8BojFCykEM0wLxK2D8LEDXAV3csmJp3LMB95LXLkLMwwFbNHTjPcTHAnogqFPfmNMB4fN0WOZgpwDK0lWMj7jfAkhCPMN/BLcAfxgP1Mf8pwNNg0+SDtznAUWzap7jZOcAOWaxQtjozwF9rllSr8SPAcur/KlSSLsDgA03Iojs0wLrY2rmrsjLAkn4TC5fGL8Bd6h6Oiqvpv4Y7VicZ2jHAVsxks7bKNMBONfoebEY0wDQHZsmI5+2/sHuJcpfWK8AbOl1HBWEwwLIol8u0hCnAc8X4+vaMNcDzLVXSpcAnwPVvQ1VFrzLAz+bR9V70MsBC4Qi0FiwtwF5Gl+4/kDLAuPL2uEY0NMBcVaHO4VI2wMkLGQ17DDbARNAxjQsBL8B+XCWi0Ak0wEBEyq1cDSvAXyplIcVX678k1ApcrVw5wPUNME1yIiTAjCI408IxKsAbz4zk7Yk3wM7bvTVAegHA/bNizXrONMBznFv7/iA3wGELpQbuvxTA9K4EKH0pJcABG/fy59Y6wNvFbSR9jCbAC/RqWQrDM8AcE0cvr3owwOUe40MyEzrA9Bf+kBlFMsCBbSwWpm42wLsguQC0HxrA0a85HexZNMCP4aDeLsUjwBfArP5dUy/Al6iP7I/XNMCIYThXNcUzwCDPivGlxDfA11sS+YikKsAZiRkwAGUwQAz+0HKF5y/ARx7TQj8N8T9C6ufv6KoxwAI2YuJTqDHA/rvD8Ay1McDbz/wd3DEqwIkfXaQMYzTApajNUfIw7b/R6srIexUywCG5UDgJIirAKEEqy6oQKsB60IgRVec0wACATo4DUzTA5p+M1l3DNMDALcR/H3MzwJU98rrtJQzALL2Sl5d4NMBZeRBvHzA0wMfwQHI49SnAaJ7E0LQT0D9oI4yYK5c2wFRvSi1yszLA2cHihEULKsAoDg7hSzI1wFbHdzOt2/6/Xrt/OkXCM8AWDF3VSvY0wJNud7b6BiJAHFJX0i9rDsC+0cvJLEoWwH2MYE3sFjLAUvabz7VEJcA3l6K7bRcywGcFQNlb/jnAuyDb4WRJM8B//5MFqr02wBWtYuQ2gTPAsHjlF7BrKsAtaXutU9QywPto324VmDDAIrRc5FxJGMCdB+9h4nM3wMgNtd1CtzTA1gqj+d+zMMCthWqpQwU3wAlBe713OSfAjoSVIWg6McAsRificgU1wEl+VJAqFivAgsTWftbWN8Cn/tPcUx44wGvfxzlEJS/AWPDZ8iyAMcCjwb2JLfYPwIBLCFxTmSHABhpnNLKkM8DIko4JO6k1wHj+sE1BDTLA98i7FUS6M8ClYhBz1pg0wA==\",\"dtype\":\"float64\",\"shape\":[1925]},\"x2\":{\"__ndarray__\":\"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\",\"dtype\":\"float64\",\"shape\":[1925]}}},\"id\":\"c30e6bd7-e32c-4737-bd3e-38c6fe149fce\",\"type\":\"ColumnDataSource\"},{\"attributes\":{\"plot\":{\"id\":\"549f327c-c889-4c17-b0c8-fc2e2f7aca4c\",\"subtype\":\"Figure\",\"type\":\"Plot\"}},\"id\":\"4e4cbbb9-b313-4d44-9110-ab5ac94cceb7\",\"type\":\"WheelZoomTool\"},{\"attributes\":{\"plot\":{\"id\":\"549f327c-c889-4c17-b0c8-fc2e2f7aca4c\",\"subtype\":\"Figure\",\"type\":\"Plot\"}},\"id\":\"077a3a37-5af4-46cf-b5b4-8686f5823dcb\",\"type\":\"PanTool\"},{\"attributes\":{},\"id\":\"c5bec923-afd1-4b11-b1e6-2c6505621ea5\",\"type\":\"ToolEvents\"},{\"attributes\":{\"plot\":null,\"text\":\"word2vec T-SNE for most common words\"},\"id\":\"1cdbadc1-18f4-4adb-b2c6-97ca1ab17b32\",\"type\":\"Title\"},{\"attributes\":{\"formatter\":{\"id\":\"49af9fcb-c8c7-42cd-82f0-f390532922fc\",\"type\":\"BasicTickFormatter\"},\"plot\":{\"id\":\"549f327c-c889-4c17-b0c8-fc2e2f7aca4c\",\"subtype\":\"Figure\",\"type\":\"Plot\"},\"ticker\":{\"id\":\"dca046f9-97f2-41d9-8223-7c357d801f01\",\"type\":\"BasicTicker\"}},\"id\":\"ffd0d6d3-b213-4da8-88e5-580eba08fa38\",\"type\":\"LinearAxis\"},{\"attributes\":{},\"id\":\"977990d1-0745-4226-b80b-0cc33c9d7f91\",\"type\":\"BasicTickFormatter\"},{\"attributes\":{\"dimension\":1,\"plot\":{\"id\":\"549f327c-c889-4c17-b0c8-fc2e2f7aca4c\",\"subtype\":\"Figure\",\"type\":\"Plot\"},\"ticker\":{\"id\":\"7a710e5b-066d-4526-b809-5e6f77954506\",\"type\":\"BasicTicker\"}},\"id\":\"5c11343d-151a-46b6-acba-8ab3ba416a45\",\"type\":\"Grid\"},{\"attributes\":{\"plot\":{\"id\":\"549f327c-c889-4c17-b0c8-fc2e2f7aca4c\",\"subtype\":\"Figure\",\"type\":\"Plot\"},\"source\":{\"id\":\"c30e6bd7-e32c-4737-bd3e-38c6fe149fce\",\"type\":\"ColumnDataSource\"},\"text\":{\"field\":\"names\"},\"text_align\":\"center\",\"text_color\":{\"value\":\"#555555\"},\"text_font_size\":{\"value\":\"8pt\"},\"x\":{\"field\":\"x1\"},\"y\":{\"field\":\"x2\"},\"y_offset\":{\"value\":6}},\"id\":\"79ebba2b-a4fb-49ca-8677-8c877558c5cb\",\"type\":\"LabelSet\"},{\"attributes\":{\"plot\":{\"id\":\"549f327c-c889-4c17-b0c8-fc2e2f7aca4c\",\"subtype\":\"Figure\",\"type\":\"Plot\"}},\"id\":\"220cd013-0c86-4bb9-86ea-5791bd3342f3\",\"type\":\"ResetTool\"},{\"attributes\":{\"plot\":{\"id\":\"549f327c-c889-4c17-b0c8-fc2e2f7aca4c\",\"subtype\":\"Figure\",\"type\":\"Plot\"}},\"id\":\"93d2153e-4ce3-4131-98bd-1da5004f645e\",\"type\":\"SaveTool\"},{\"attributes\":{},\"id\":\"49af9fcb-c8c7-42cd-82f0-f390532922fc\",\"type\":\"BasicTickFormatter\"},{\"attributes\":{\"callback\":null},\"id\":\"5599f77b-0037-4204-a10a-c981ae793917\",\"type\":\"DataRange1d\"},{\"attributes\":{},\"id\":\"7a710e5b-066d-4526-b809-5e6f77954506\",\"type\":\"BasicTicker\"},{\"attributes\":{\"plot\":{\"id\":\"549f327c-c889-4c17-b0c8-fc2e2f7aca4c\",\"subtype\":\"Figure\",\"type\":\"Plot\"},\"ticker\":{\"id\":\"dca046f9-97f2-41d9-8223-7c357d801f01\",\"type\":\"BasicTicker\"}},\"id\":\"6c9eb7ef-ed27-4732-9814-a4343fa287a8\",\"type\":\"Grid\"},{\"attributes\":{\"data_source\":{\"id\":\"c30e6bd7-e32c-4737-bd3e-38c6fe149fce\",\"type\":\"ColumnDataSource\"},\"glyph\":{\"id\":\"7208919b-7cf9-4b89-bc6f-257c850d69e9\",\"type\":\"Circle\"},\"hover_glyph\":null,\"muted_glyph\":null,\"nonselection_glyph\":{\"id\":\"ede0ea31-2d5b-455b-94ad-73aecbb250c8\",\"type\":\"Circle\"},\"selection_glyph\":null},\"id\":\"1acf0004-e9bf-4b38-ab7f-f49287cac6e4\",\"type\":\"GlyphRenderer\"},{\"attributes\":{\"fill_alpha\":{\"value\":0.1},\"fill_color\":{\"value\":\"#1f77b4\"},\"line_alpha\":{\"value\":0.1},\"line_color\":{\"value\":\"#1f77b4\"},\"size\":{\"units\":\"screen\",\"value\":8},\"x\":{\"field\":\"x1\"},\"y\":{\"field\":\"x2\"}},\"id\":\"ede0ea31-2d5b-455b-94ad-73aecbb250c8\",\"type\":\"Circle\"},{\"attributes\":{\"callback\":null},\"id\":\"2359cc9d-b42a-440c-aafd-0311ad7f4494\",\"type\":\"DataRange1d\"},{\"attributes\":{\"formatter\":{\"id\":\"977990d1-0745-4226-b80b-0cc33c9d7f91\",\"type\":\"BasicTickFormatter\"},\"plot\":{\"id\":\"549f327c-c889-4c17-b0c8-fc2e2f7aca4c\",\"subtype\":\"Figure\",\"type\":\"Plot\"},\"ticker\":{\"id\":\"7a710e5b-066d-4526-b809-5e6f77954506\",\"type\":\"BasicTicker\"}},\"id\":\"0347a01e-aaae-402b-b47a-c49437360940\",\"type\":\"LinearAxis\"},{\"attributes\":{\"active_drag\":\"auto\",\"active_scroll\":\"auto\",\"active_tap\":\"auto\",\"tools\":[{\"id\":\"077a3a37-5af4-46cf-b5b4-8686f5823dcb\",\"type\":\"PanTool\"},{\"id\":\"4e4cbbb9-b313-4d44-9110-ab5ac94cceb7\",\"type\":\"WheelZoomTool\"},{\"id\":\"220cd013-0c86-4bb9-86ea-5791bd3342f3\",\"type\":\"ResetTool\"},{\"id\":\"93d2153e-4ce3-4131-98bd-1da5004f645e\",\"type\":\"SaveTool\"}]},\"id\":\"ca8f7923-4bf2-475b-832b-56740a166a83\",\"type\":\"Toolbar\"},{\"attributes\":{\"fill_color\":{\"value\":\"#1f77b4\"},\"line_color\":{\"value\":\"#1f77b4\"},\"size\":{\"units\":\"screen\",\"value\":8},\"x\":{\"field\":\"x1\"},\"y\":{\"field\":\"x2\"}},\"id\":\"7208919b-7cf9-4b89-bc6f-257c850d69e9\",\"type\":\"Circle\"}],\"root_ids\":[\"549f327c-c889-4c17-b0c8-fc2e2f7aca4c\"]},\"title\":\"Bokeh Application\",\"version\":\"0.12.5\"}};\n",
       "            var render_items = [{\"docid\":\"4a3006b9-e1f0-4c16-bdc8-ded1f22b467b\",\"elementid\":\"4b44b9da-bc44-4ce6-b4f7-5fdb6b3d64c3\",\"modelid\":\"549f327c-c889-4c17-b0c8-fc2e2f7aca4c\"}];\n",
       "            \n",
       "            Bokeh.embed.embed_items(docs_json, render_items);\n",
       "          };\n",
       "          if (document.readyState != \"loading\") fn();\n",
       "          else document.addEventListener(\"DOMContentLoaded\", fn);\n",
       "        })();\n",
       "      },\n",
       "      function(Bokeh) {\n",
       "      }\n",
       "    ];\n",
       "  \n",
       "    function run_inline_js() {\n",
       "      \n",
       "      if ((window.Bokeh !== undefined) || (force === true)) {\n",
       "        for (var i = 0; i < inline_js.length; i++) {\n",
       "          inline_js[i](window.Bokeh);\n",
       "        }if (force === true) {\n",
       "          display_loaded();\n",
       "        }} else if (Date.now() < window._bokeh_timeout) {\n",
       "        setTimeout(run_inline_js, 100);\n",
       "      } else if (!window._bokeh_failed_load) {\n",
       "        console.log(\"Bokeh: BokehJS failed to load within specified timeout.\");\n",
       "        window._bokeh_failed_load = true;\n",
       "      } else if (force !== true) {\n",
       "        var cell = $(document.getElementById(\"4b44b9da-bc44-4ce6-b4f7-5fdb6b3d64c3\")).parents('.cell').data().cell;\n",
       "        cell.output_area.append_execute_result(NB_LOAD_WARNING)\n",
       "      }\n",
       "  \n",
       "    }\n",
       "  \n",
       "    if (window._bokeh_is_loading === 0) {\n",
       "      console.log(\"Bokeh: BokehJS loaded, going straight to plotting\");\n",
       "      run_inline_js();\n",
       "    } else {\n",
       "      load_libs(js_urls, function() {\n",
       "        console.log(\"Bokeh: BokehJS plotting callback run at\", now());\n",
       "        run_inline_js();\n",
       "      });\n",
       "    }\n",
       "  }(this));\n",
       "</script>"
      ]
     },
     "metadata": {},
     "output_type": "display_data"
    }
   ],
   "source": [
    "p = figure(tools=\"pan,wheel_zoom,reset,save\",\n",
    "           toolbar_location=\"above\",\n",
    "           title=\"word2vec T-SNE for most common words\")\n",
    "\n",
    "source = ColumnDataSource(data=dict(x1=words_tsne[:,0],\n",
    "                                    x2=words_tsne[:,1],\n",
    "                                    names=present))\n",
    "\n",
    "p.scatter(x=\"x1\", y=\"x2\", size=8, source=source)\n",
    "\n",
    "labels = LabelSet(x=\"x1\", y=\"x2\", text=\"names\", y_offset=6,\n",
    "                  text_font_size=\"8pt\", text_color=\"#555555\",\n",
    "                  source=source, text_align='center')\n",
    "p.add_layout(labels)\n",
    "\n",
    "show(p)"
   ]
  },
  {
   "cell_type": "code",
   "execution_count": null,
   "metadata": {
    "collapsed": true
   },
   "outputs": [],
   "source": []
  }
 ],
 "metadata": {
  "anaconda-cloud": {},
  "kernelspec": {
   "display_name": "Python [conda env:tensorflow]",
   "language": "python",
   "name": "conda-env-tensorflow-py"
  },
  "language_info": {
   "codemirror_mode": {
    "name": "ipython",
    "version": 3
   },
   "file_extension": ".py",
   "mimetype": "text/x-python",
   "name": "python",
   "nbconvert_exporter": "python",
   "pygments_lexer": "ipython3",
   "version": "3.5.3"
  }
 },
 "nbformat": 4,
 "nbformat_minor": 2
}
