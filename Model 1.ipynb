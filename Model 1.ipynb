{
 "cells": [
  {
   "cell_type": "code",
   "execution_count": 1,
   "metadata": {
    "collapsed": true
   },
   "outputs": [],
   "source": [
    "import numpy as np\n",
    "import os\n",
    "from random import shuffle\n",
    "import re\n",
    "import sklearn as sk\n",
    "import matplotlib.pyplot as plt\n",
    "import random"
   ]
  },
  {
   "cell_type": "code",
   "execution_count": 2,
   "metadata": {
    "collapsed": true
   },
   "outputs": [],
   "source": [
    "import urllib.request\n",
    "import zipfile\n",
    "import lxml.etree"
   ]
  },
  {
   "cell_type": "code",
   "execution_count": 3,
   "metadata": {
    "collapsed": true
   },
   "outputs": [],
   "source": [
    "def listdir_nohidden(path):\n",
    "    for f in os.listdir(path):\n",
    "        if not f.startswith('.'):\n",
    "            yield f"
   ]
  },
  {
   "cell_type": "code",
   "execution_count": 4,
   "metadata": {},
   "outputs": [
    {
     "data": {
      "text/plain": [
       "696"
      ]
     },
     "execution_count": 4,
     "metadata": {},
     "output_type": "execute_result"
    }
   ],
   "source": [
    "train_released = []\n",
    "a = np.arange(10) + 1\n",
    "\n",
    "for num in a:\n",
    "    path = 'training.sets.released/' + str(num) + '/'\n",
    "    for filename in listdir_nohidden(path):\n",
    "        with open(path + filename, 'r') as file:\n",
    "            temp = file.read()\n",
    "            train_released.append(temp)\n",
    "            \n",
    "len(train_released)"
   ]
  },
  {
   "cell_type": "code",
   "execution_count": 5,
   "metadata": {},
   "outputs": [
    {
     "data": {
      "text/plain": [
       "1249"
      ]
     },
     "execution_count": 5,
     "metadata": {},
     "output_type": "execute_result"
    }
   ],
   "source": [
    "test_released = []\n",
    "\n",
    "path = 'test.released.8.17.09/'\n",
    "for filename in listdir_nohidden(path):\n",
    "    with open(path + filename, 'r') as file:\n",
    "        temp = file.read()\n",
    "        test_released.append(temp)\n",
    "            \n",
    "len(test_released)"
   ]
  },
  {
   "cell_type": "code",
   "execution_count": 6,
   "metadata": {},
   "outputs": [
    {
     "data": {
      "text/plain": [
       "10"
      ]
     },
     "execution_count": 6,
     "metadata": {},
     "output_type": "execute_result"
    }
   ],
   "source": [
    "train_labeled = []\n",
    "a = np.arange(10) + 1\n",
    "\n",
    "for filename_1 in listdir_nohidden('training.ground.truth'):\n",
    "    index = filename_1.split('_')[0]\n",
    "    for num in a:\n",
    "        path = 'training.sets.released/' + str(num) + '/'\n",
    "        for filename_2 in listdir_nohidden(path):\n",
    "            if index == filename_2:\n",
    "                with open(path + index, 'r') as file:\n",
    "                    temp = file.read()\n",
    "                    train_labeled.append(temp)\n",
    "\n",
    "len(train_labeled)"
   ]
  },
  {
   "cell_type": "code",
   "execution_count": 7,
   "metadata": {},
   "outputs": [
    {
     "data": {
      "text/plain": [
       "10"
      ]
     },
     "execution_count": 7,
     "metadata": {},
     "output_type": "execute_result"
    }
   ],
   "source": [
    "train_truth = []\n",
    "\n",
    "path = 'training.ground.truth/'\n",
    "for filename in listdir_nohidden(path):\n",
    "    with open(path + filename, 'r') as file:\n",
    "        temp = file.read()\n",
    "        train_truth.append(temp)\n",
    "\n",
    "del train_truth[-1]\n",
    "len(train_truth)"
   ]
  },
  {
   "cell_type": "code",
   "execution_count": 8,
   "metadata": {},
   "outputs": [
    {
     "data": {
      "text/plain": [
       "249"
      ]
     },
     "execution_count": 8,
     "metadata": {},
     "output_type": "execute_result"
    }
   ],
   "source": [
    "test_labeled = []\n",
    "a = np.arange(10) + 1\n",
    "\n",
    "for filename_1 in listdir_nohidden('test.BYparticipant.ground_truth/converted.noduplicates.sorted'):\n",
    "    index = filename_1.split('.')[0]\n",
    "    for num in a:\n",
    "        path = 'training.sets.released/' + str(num) + '/'\n",
    "        for filename_2 in listdir_nohidden(path):\n",
    "            if index == filename_2:\n",
    "                with open(path + index, 'r') as file:\n",
    "                    temp = file.read()\n",
    "                    test_labeled.append(temp)\n",
    "    path = 'test.released.8.17.09/'\n",
    "    for filename_2 in listdir_nohidden(path):\n",
    "        if index == filename_2:\n",
    "            with open(path + index, 'r') as file:\n",
    "                temp = file.read()\n",
    "                test_labeled.append(temp)\n",
    "\n",
    "len(test_labeled)"
   ]
  },
  {
   "cell_type": "code",
   "execution_count": 9,
   "metadata": {},
   "outputs": [
    {
     "data": {
      "text/plain": [
       "249"
      ]
     },
     "execution_count": 9,
     "metadata": {},
     "output_type": "execute_result"
    }
   ],
   "source": [
    "test_truth = []\n",
    "\n",
    "path = 'test.BYparticipant.ground_truth/converted.noduplicates.sorted/'\n",
    "for filename in listdir_nohidden(path):\n",
    "    with open(path + filename, 'r') as file:\n",
    "        temp = file.read()\n",
    "        test_truth.append(temp)\n",
    "\n",
    "del test_truth[-1]\n",
    "len(test_truth)"
   ]
  },
  {
   "cell_type": "code",
   "execution_count": 10,
   "metadata": {},
   "outputs": [],
   "source": [
    "train_truth_split = []\n",
    "\n",
    "for i in range(len(train_truth)):\n",
    "    temp = train_truth[i].split('\\n')\n",
    "    for j in range(len(temp)):\n",
    "        temp[j] = temp[j].split('||')\n",
    "    train_truth_split.append(temp)"
   ]
  },
  {
   "cell_type": "code",
   "execution_count": 11,
   "metadata": {},
   "outputs": [
    {
     "data": {
      "text/plain": [
       "[['m=\"ofloxacin\" 37:12 37:12',\n",
       "  'do=\"200 mg\" 37:13 37:14',\n",
       "  'mo=\"p.o.\" 38:0 38:0',\n",
       "  'f=\"q 12\" 38:1 38:2',\n",
       "  'du=\"nm\" ',\n",
       "  'r=\"nm\" ',\n",
       "  'e=\"nm\"',\n",
       "  't=\"nm\"',\n",
       "  'c=\"nm\"',\n",
       "  'ln=\"list\"'],\n",
       " ['m=\"insulin nph\" 75:2 75:3',\n",
       "  'do=\"10 units\" 75:4 75:5',\n",
       "  'mo=\"subcu\" 75:6 75:6',\n",
       "  'f=\"b.i.d.\" 75:7 75:7',\n",
       "  'du=\"nm\" ',\n",
       "  'r=\"nm\" ',\n",
       "  'e=\"nm\"',\n",
       "  't=\"nm\"',\n",
       "  'c=\"nm\"',\n",
       "  'ln=\"list\"'],\n",
       " ['m=\"colace\" 74:10 74:10',\n",
       "  'do=\"100 mg\" 74:11 74:12',\n",
       "  'mo=\"p.o.\" 74:13 74:13',\n",
       "  'f=\"b.i.d.\" 75:0 75:0',\n",
       "  'du=\"nm\" ',\n",
       "  'r=\"nm\" ',\n",
       "  'e=\"nm\"',\n",
       "  't=\"nm\"',\n",
       "  'c=\"nm\"',\n",
       "  'ln=\"list\"'],\n",
       " ['m=\"percocet\" 74:2 74:2',\n",
       "  'do=\"1-2 tablets\" 74:3 74:4',\n",
       "  'mo=\"p.o.\" 74:5 74:5',\n",
       "  'f=\"q 4 prn\" 74:6 74:8',\n",
       "  'du=\"nm\" ',\n",
       "  'r=\"nm\" ',\n",
       "  'e=\"nm\"',\n",
       "  't=\"nm\"',\n",
       "  'c=\"nm\"',\n",
       "  'ln=\"list\"'],\n",
       " ['m=\"coumadin\" 72:9 72:9',\n",
       "  'do=\"10 mg\" 73:10 73:11',\n",
       "  'mo=\"nm\" ',\n",
       "  'f=\"in evening x 2.\" 73:12 73:15',\n",
       "  'du=\"nm\" ',\n",
       "  'r=\"nm\" ',\n",
       "  'e=\"nm\"',\n",
       "  't=\"nm\"',\n",
       "  'c=\"nm\"',\n",
       "  'ln=\"list\"'],\n",
       " ['m=\"ofloxacin\" 70:9 70:9',\n",
       "  'do=\"200 mg\" 70:10 71:0',\n",
       "  'mo=\"p.o.\" 71:1 71:1',\n",
       "  'f=\"b.i.d.\" 71:2 71:2',\n",
       "  'du=\"for an additional two week course\" 72:1 72:6',\n",
       "  'r=\"nm\" ',\n",
       "  'e=\"nm\"',\n",
       "  't=\"nm\"',\n",
       "  'c=\"nm\"',\n",
       "  'ln=\"list\"'],\n",
       " ['m=\"coumadin\" 67:8 67:8',\n",
       "  'do=\"nm\" ',\n",
       "  'mo=\"nm\" ',\n",
       "  'f=\"nm\" ',\n",
       "  'du=\"nm\" ',\n",
       "  'r=\"reserve patency of her graft.\" 67:10 68:1',\n",
       "  'e=\"start\"',\n",
       "  't=\"past\"',\n",
       "  'c=\"factual\"',\n",
       "  'ln=\"narrative\"'],\n",
       " ['m=\"heparin\" 66:8 66:8',\n",
       "  'do=\"nm\" ',\n",
       "  'mo=\"nm\" ',\n",
       "  'f=\"nm\" ',\n",
       "  'du=\"nm\" ',\n",
       "  'r=\"nm\" ',\n",
       "  'e=\"continue\"',\n",
       "  't=\"past\"',\n",
       "  'c=\"factual\"',\n",
       "  'ln=\"narrative\"'],\n",
       " ['m=\"heparin\" 53:0 53:0',\n",
       "  'do=\"nm\" ',\n",
       "  'mo=\"intravenous\" 52:9 52:9',\n",
       "  'f=\"nm\" ',\n",
       "  'du=\"until the following morning\" 53:1 53:4',\n",
       "  'r=\"nm\" ',\n",
       "  'e=\"nm\"',\n",
       "  't=\"nm\"',\n",
       "  'c=\"nm\"',\n",
       "  'ln=\"narrative\"'],\n",
       " ['m=\"vancomycin\" 38:10 38:10',\n",
       "  'do=\"1250 mg\" 38:11 38:12',\n",
       "  'mo=\"nm\" ',\n",
       "  'f=\"q 24.\" 38:13 38:14',\n",
       "  'du=\"nm\" ',\n",
       "  'r=\"nm\" ',\n",
       "  'e=\"nm\"',\n",
       "  't=\"nm\"',\n",
       "  'c=\"nm\"',\n",
       "  'ln=\"list\"'],\n",
       " ['m=\"axid\" 77:2 77:2',\n",
       "  'do=\"150 mg\" 77:3 77:4',\n",
       "  'mo=\"p.o.\" 77:5 77:5',\n",
       "  'f=\"b.i.d.\" 77:6 77:6',\n",
       "  'du=\"nm\" ',\n",
       "  'r=\"nm\" ',\n",
       "  'e=\"nm\"',\n",
       "  't=\"nm\"',\n",
       "  'c=\"nm\"',\n",
       "  'ln=\"list\"'],\n",
       " ['m=\"lopressor\" 76:15 76:15',\n",
       "  'do=\"50 mg\" 76:16 76:17',\n",
       "  'mo=\"nm\" ',\n",
       "  'f=\"b.i.d.\" 77:0 77:0',\n",
       "  'du=\"nm\" ',\n",
       "  'r=\"nm\" ',\n",
       "  'e=\"nm\"',\n",
       "  't=\"nm\"',\n",
       "  'c=\"nm\"',\n",
       "  'ln=\"list\"'],\n",
       " ['m=\"zestril\" 76:9 76:9',\n",
       "  'do=\"5 mg\" 76:10 76:11',\n",
       "  'mo=\"nm\" ',\n",
       "  'f=\"q d\" 76:12 76:13',\n",
       "  'du=\"nm\" ',\n",
       "  'r=\"nm\" ',\n",
       "  'e=\"nm\"',\n",
       "  't=\"nm\"',\n",
       "  'c=\"nm\"',\n",
       "  'ln=\"list\"'],\n",
       " ['m=\"insulin\" 75:11 75:11',\n",
       "  'do=\"sliding scale\" 75:9 75:10',\n",
       "  'mo=\"subcu\" 76:0 76:0',\n",
       "  'f=\"q 4\" 76:1 76:2',\n",
       "  'du=\"nm\" ',\n",
       "  'r=\"nm\" ',\n",
       "  'e=\"nm\"',\n",
       "  't=\"nm\"',\n",
       "  'c=\"nm\"',\n",
       "  'ln=\"list\"'],\n",
       " ['m=\"ecotrin\" 38:4 38:4',\n",
       "  'do=\"225 mg\" 38:5 38:6',\n",
       "  'mo=\"nm\" ',\n",
       "  'f=\"q d\" 38:7 38:8',\n",
       "  'du=\"nm\" ',\n",
       "  'r=\"nm\" ',\n",
       "  'e=\"nm\"',\n",
       "  't=\"nm\"',\n",
       "  'c=\"nm\"',\n",
       "  'ln=\"list\"'],\n",
       " ['m=\"axid\" 37:7 37:7',\n",
       "  'do=\"150 mg\" 37:8 37:9',\n",
       "  'mo=\"nm\" ',\n",
       "  'f=\"b.i.d.\" 37:10 37:10',\n",
       "  'du=\"nm\" ',\n",
       "  'r=\"nm\" ',\n",
       "  'e=\"nm\"',\n",
       "  't=\"nm\"',\n",
       "  'c=\"nm\"',\n",
       "  'ln=\"list\"'],\n",
       " ['m=\"lopressor\" 37:2 37:2',\n",
       "  'do=\"50 mg\" 37:3 37:4',\n",
       "  'mo=\"nm\" ',\n",
       "  'f=\"b.i.d.\" 37:5 37:5',\n",
       "  'du=\"nm\" ',\n",
       "  'r=\"nm\" ',\n",
       "  'e=\"nm\"',\n",
       "  't=\"nm\"',\n",
       "  'c=\"nm\"',\n",
       "  'ln=\"list\"'],\n",
       " ['m=\"zestril\" 36:10 36:10',\n",
       "  'do=\"5 mg\" 36:11 36:12',\n",
       "  'mo=\"nm\" ',\n",
       "  'f=\"q d\" 36:13 37:0',\n",
       "  'du=\"nm\" ',\n",
       "  'r=\"nm\" ',\n",
       "  'e=\"nm\"',\n",
       "  't=\"nm\"',\n",
       "  'c=\"nm\"',\n",
       "  'ln=\"list\"'],\n",
       " ['m=\"isordil\" 76:4 76:4',\n",
       "  'do=\"30 mg\" 76:5 76:6',\n",
       "  'mo=\"nm\" ',\n",
       "  'f=\"t.i.d.\" 76:7 76:7',\n",
       "  'du=\"nm\" ',\n",
       "  'r=\"nm\" ',\n",
       "  'e=\"nm\"',\n",
       "  't=\"nm\"',\n",
       "  'c=\"nm\"',\n",
       "  'ln=\"list\"'],\n",
       " ['m=\"vancomycin\" 70:2 70:2',\n",
       "  'do=\"1250 mg\" 70:3 70:4',\n",
       "  'mo=\"iv\" 70:5 70:5',\n",
       "  'f=\"q d\" 70:6 70:7',\n",
       "  'du=\"for an additional two week course\" 72:1 72:6',\n",
       "  'r=\"nm\" ',\n",
       "  'e=\"nm\"',\n",
       "  't=\"nm\"',\n",
       "  'c=\"nm\"',\n",
       "  'ln=\"list\"'],\n",
       " ['m=\"urokinase\" 58:3 58:3',\n",
       "  'do=\"nm\" ',\n",
       "  'mo=\"nm\" ',\n",
       "  'f=\"nm\" ',\n",
       "  'du=\"nm\" ',\n",
       "  'r=\"two 95% stenosis in a long segment of the left sfa and the left distal sfa and anterior tibial vein graft was completely thrombosed.\" 55:0 57:0',\n",
       "  'e=\"start\"',\n",
       "  't=\"past\"',\n",
       "  'c=\"factual\"',\n",
       "  'ln=\"narrative\"'],\n",
       " ['m=\"isordil\" 36:5 36:5',\n",
       "  'do=\"30 mg\" 36:6 36:7',\n",
       "  'mo=\"nm\" ',\n",
       "  'f=\"t.i.d.\" 36:8 36:8',\n",
       "  'du=\"nm\" ',\n",
       "  'r=\"nm\" ',\n",
       "  'e=\"nm\"',\n",
       "  't=\"nm\"',\n",
       "  'c=\"nm\"',\n",
       "  'ln=\"list\"'],\n",
       " ['m=\"heparin\" 58:1 58:1',\n",
       "  'do=\"nm\" ',\n",
       "  'mo=\"nm\" ',\n",
       "  'f=\"nm\" ',\n",
       "  'du=\"nm\" ',\n",
       "  'r=\"two 95% stenosis in a long segment of the left sfa and the left distal sfa and anterior tibial vein graft was completely thrombosed.\" 55:0 57:0',\n",
       "  'e=\"start\"',\n",
       "  't=\"past\"',\n",
       "  'c=\"factual\"',\n",
       "  'ln=\"narrative\"'],\n",
       " ['m=\"insulin\" 36:2 36:2',\n",
       "  'do=\"sliding scale\" 35:6 36:0',\n",
       "  'mo=\"nm\" ',\n",
       "  'f=\"nm\" ',\n",
       "  'du=\"nm\" ',\n",
       "  'r=\"nm\" ',\n",
       "  'e=\"nm\"',\n",
       "  't=\"nm\"',\n",
       "  'c=\"nm\"',\n",
       "  'ln=\"list\"'],\n",
       " ['m=\"insulin lente\" 34:7 34:8',\n",
       "  'do=\"12 units\" 34:9 35:0',\n",
       "  'mo=\"subcu\" 35:1 35:1',\n",
       "  'f=\"q p.m.\" 35:2 35:3',\n",
       "  'du=\"nm\" ',\n",
       "  'r=\"nm\" ',\n",
       "  'e=\"nm\"',\n",
       "  't=\"nm\"',\n",
       "  'c=\"nm\"',\n",
       "  'ln=\"list\"'],\n",
       " ['m=\"antibiotics\" 71:5 71:5',\n",
       "  'do=\"nm\" ',\n",
       "  'mo=\"nm\" ',\n",
       "  'f=\"nm\" ',\n",
       "  'du=\"nm\" ',\n",
       "  'r=\"nm\" ',\n",
       "  'e=\"continue\"',\n",
       "  't=\"present\"',\n",
       "  'c=\"factual\"',\n",
       "  'ln=\"list\"'],\n",
       " ['m=\"colace\" 34:2 34:2',\n",
       "  'do=\"100 mg\" 34:3 34:4',\n",
       "  'mo=\"nm\" ',\n",
       "  'f=\"b.i.d.\" 34:5 34:5',\n",
       "  'du=\"nm\" ',\n",
       "  'r=\"nm\" ',\n",
       "  'e=\"nm\"',\n",
       "  't=\"nm\"',\n",
       "  'c=\"nm\"',\n",
       "  'ln=\"list\"'],\n",
       " ['']]"
      ]
     },
     "execution_count": 11,
     "metadata": {},
     "output_type": "execute_result"
    }
   ],
   "source": [
    "train_truth_split[0]"
   ]
  },
  {
   "cell_type": "code",
   "execution_count": null,
   "metadata": {
    "collapsed": true
   },
   "outputs": [],
   "source": []
  }
 ],
 "metadata": {
  "anaconda-cloud": {},
  "kernelspec": {
   "display_name": "Python [conda env:tensorflow]",
   "language": "python",
   "name": "conda-env-tensorflow-py"
  },
  "language_info": {
   "codemirror_mode": {
    "name": "ipython",
    "version": 3
   },
   "file_extension": ".py",
   "mimetype": "text/x-python",
   "name": "python",
   "nbconvert_exporter": "python",
   "pygments_lexer": "ipython3",
   "version": "3.5.3"
  }
 },
 "nbformat": 4,
 "nbformat_minor": 2
}
