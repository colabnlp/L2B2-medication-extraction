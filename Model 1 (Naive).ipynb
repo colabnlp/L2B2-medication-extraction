{
 "cells": [
  {
   "cell_type": "code",
   "execution_count": 1,
   "metadata": {},
   "outputs": [
    {
     "name": "stderr",
     "output_type": "stream",
     "text": [
      "c:\\users\\luka\\anaconda3\\envs\\tensorflow13\\lib\\site-packages\\gensim\\utils.py:865: UserWarning: detected Windows; aliasing chunkize to chunkize_serial\n",
      "  warnings.warn(\"detected Windows; aliasing chunkize to chunkize_serial\")\n"
     ]
    }
   ],
   "source": [
    "import numpy as np\n",
    "import re\n",
    "import random\n",
    "import itertools\n",
    "import datetime\n",
    "\n",
    "import tensorflow as tf\n",
    "import sklearn as sk\n",
    "\n",
    "from gensim.models import Word2Vec\n",
    "\n",
    "import Functions as fn\n",
    "from DS import DS\n",
    "from Set import pool\n",
    "from Iterator import Iterator\n",
    "from FFModel import FF_Model"
   ]
  },
  {
   "cell_type": "markdown",
   "metadata": {},
   "source": [
    "# Data Loading"
   ]
  },
  {
   "cell_type": "code",
   "execution_count": 2,
   "metadata": {},
   "outputs": [
    {
     "name": "stdout",
     "output_type": "stream",
     "text": [
      "Raw Text Load Complete\n",
      "Raw Labels Load Complete\n"
     ]
    }
   ],
   "source": [
    "Dataset = pool()\n",
    "Dataset.load_texts('raw_texts')\n",
    "Dataset.load_labels('raw_labels')"
   ]
  },
  {
   "cell_type": "code",
   "execution_count": 3,
   "metadata": {
    "collapsed": true,
    "scrolled": false
   },
   "outputs": [],
   "source": [
    "#print('Number of Texts: ', Dataset.size)\n",
    "#print('Number of 2007 Smoking Challenge texts: ', Dataset.number_of(challenge='2007 Smoking Challenge'))\n",
    "#print('Number of 2008 ObesityChallenge texts: ', Dataset.number_of(challenge='2008 Obesity Challenge'))\n",
    "#print('Number of 2009 Medication Challenge texts: ', Dataset.number_of(challenge='2009 Medication Challenge'))\n",
    "#print('Number of 2010 Relations Challenge texts: ', Dataset.number_of(challenge='2010 Relations Challenge'))\n",
    "#print('Number of 2011 Coreference Challenge texts: ', Dataset.number_of(challenge='2011 Coreference Challenge'))\n",
    "#print('Number of 2012 Temporal Relations Challenge texts: ', Dataset.number_of(challenge='2012 Temporal Relations Challenge'))\n",
    "#print('Number of Train Texts: ', Dataset.number_of(stage='train'))\n",
    "#print('Number of Test Texts: ', Dataset.number_of(stage='test'))\n",
    "#print('Number of Labeled Texts: ', Dataset.number_of(labelled='yes'))\n",
    "#print('Number of Initially Labeled Texts: ', Dataset.number_of(labelled='yes', label_type='train'))\n",
    "#print('Number of Competitor Labeled Texts Texts: ', Dataset.number_of(labelled='yes', label_type='test'))"
   ]
  },
  {
   "cell_type": "code",
   "execution_count": 4,
   "metadata": {},
   "outputs": [
    {
     "name": "stdout",
     "output_type": "stream",
     "text": [
      "Label Load Complete\n"
     ]
    }
   ],
   "source": [
    "target_dict = fn.load_labels('final_meta/labels')"
   ]
  },
  {
   "cell_type": "markdown",
   "metadata": {},
   "source": [
    "# Embedding Generation"
   ]
  },
  {
   "cell_type": "code",
   "execution_count": 5,
   "metadata": {},
   "outputs": [
    {
     "name": "stdout",
     "output_type": "stream",
     "text": [
      "4585 238 10 10\n"
     ]
    }
   ],
   "source": [
    "train_set = pool(data=(Dataset.get_DS(stage='test', labelled='yes')).data[:-10])\n",
    "validation_set = pool(data=(Dataset.get_DS(stage='test', labelled='yes')).data[-10:])\n",
    "test_set = Dataset.get_DS(stage='train', labelled='yes')\n",
    "set_1 = Dataset.get_DS(stage='train', labelled='no')\n",
    "set_2 = Dataset.get_DS(stage='test', labelled='no')\n",
    "set_1.append(set_2.data)\n",
    "set_1.append(train_set.data)\n",
    "emb_set = set_1\n",
    "print(emb_set.size, train_set.size, validation_set.size, test_set.size)"
   ]
  },
  {
   "cell_type": "code",
   "execution_count": 29,
   "metadata": {},
   "outputs": [
    {
     "name": "stdout",
     "output_type": "stream",
     "text": [
      "Sentence Load Complete\n"
     ]
    }
   ],
   "source": [
    "#emb_set.process_for_embedding()\n",
    "#sentences = emb_set.get_sentences()\n",
    "#fn.write_sentences(sentences, 'final_meta/sentences')\n",
    "sentences = fn.load_sentences('final_meta/sentences')\n",
    "\n",
    "#model = Word2Vec(sentences, min_count=1, size=100)\n",
    "#model.save('final_meta/W2V')\n",
    "model = Word2Vec.load('final_meta/W2V')\n",
    "\n",
    "vocab = model.wv.vocab.keys()"
   ]
  },
  {
   "cell_type": "markdown",
   "metadata": {},
   "source": [
    "# Large Scale AED and ACS"
   ]
  },
  {
   "cell_type": "raw",
   "metadata": {},
   "source": [
    "from collections import Counter\n",
    "\n",
    "methods = {'CBOW': 0, 'CSG': 1}\n",
    "sizes = [16, 32, 64, 128, 256, 512, 1024]\n",
    "targets = ['medications', 'dosages', 'modes', 'frequencies', 'durations', 'reasons']\n",
    "mod_num = 3\n",
    "total_mod_num = len(methods) * len(sizes) * (1+len(targets)) * mod_num\n",
    "print(total_mod_num)\n",
    "\n",
    "#methods = {'CBOW': 0, 'CSG': 1}\n",
    "#sizes = [16]\n",
    "#targets = ['medications', 'dosages', 'modes', 'frequencies', 'durations', 'reasons']\n",
    "#mod_num = 1\n",
    "#total_mod_num = len(methods) * len(sizes) * mod_num\n",
    "#print(total_mod_num)\n",
    "\n",
    "averages = np.array([[[[0, 0] for i in range(7)] for j in range(len(sizes))] for k in range(len(methods))], dtype=np.float32)\n",
    "\n",
    "sample = Counter([word for sent in sentences for word in sent]).most_common(2000)\n",
    "sample = np.ndarray.tolist(np.array(sample)[:,0])\n",
    "sn = len(sample) * (len(sample) - 1) / 2\n",
    "\n",
    "n = 0\n",
    "timestamp = re.sub(r':', '-', str(datetime.datetime.now()).split('.')[0])\n",
    "\n",
    "with open('tests/embs/' + timestamp, 'w+') as f:\n",
    "    print('Met:\\tSize:\\tTarget:\\tAED:\\tACS:')\n",
    "    f.write('Met:\\tSize:\\tTarget:\\tAED:\\tACS:\\n')\n",
    "    for method in methods.keys():\n",
    "        for i in range(len(sizes)):\n",
    "            for j in range(mod_num):\n",
    "                n += 1\n",
    "                print('Model: {}/{}'.format(n, total_mod_num), end='\\r')\n",
    "                model = Word2Vec(sentences, min_count=1, sg=methods[method], size=sizes[i])\n",
    "                for k in range(len(targets)):\n",
    "                    dist = 0\n",
    "                    sim = 0\n",
    "                    cn = len(target_dict[targets[k]]) * (len(target_dict[targets[k]]) - 1) / 2\n",
    "                    vocab1 = target_dict[targets[k]].copy()\n",
    "                    vocab2 = target_dict[targets[k]].copy()\n",
    "                    for word1 in vocab1:\n",
    "                        vocab2.remove(word1)\n",
    "                        for word2 in vocab2:\n",
    "                            if word1 in vocab and word2 in vocab:\n",
    "                                dist += np.linalg.norm(model[word1]-model[word2])\n",
    "                                sim += model.similarity(word1, word2)\n",
    "                                #print(word1, word2, dist, sim)\n",
    "                    #print(dist)\n",
    "                    #print(sim)\n",
    "                    #print(cn)\n",
    "                    #print(dist/cn, sim/cn)\n",
    "                    averages[methods[method], i, k, 0] += dist / cn\n",
    "                    averages[methods[method], i, k, 1] += sim / cn\n",
    "                    #print('{}\\t{}\\t{}\\t{:.4f}\\t{:.4f}'.format(method, sizes[i], targets[k][:4], averages[methods[method], i, k, 0], averages[methods[method], i, k, 1]))\n",
    "                dist = 0\n",
    "                sim = 0\n",
    "                vocab1 = sample.copy()\n",
    "                vocab2 = sample.copy()\n",
    "                for word1 in vocab1:\n",
    "                    vocab2.remove(word1)\n",
    "                    for word2 in vocab2:\n",
    "                        dist += np.linalg.norm(model[word1]-model[word2])\n",
    "                        sim += model.similarity(word1, word2)\n",
    "                averages[methods[method], i, 6, 0] += dist / sn\n",
    "                averages[methods[method], i, 6, 1] += sim / sn\n",
    "            averages[methods[method], i] = averages[methods[method], i] / mod_num\n",
    "            for l in range(len(targets)):\n",
    "                print('{}\\t{}\\t{}\\t{:.4f}\\t{:.4f}'.format(method, sizes[i], targets[l][:4], averages[methods[method], i, l, 0], averages[methods[method], i, l, 1]))\n",
    "                f.write('{}\\t{}\\t{}\\t{:.4f}\\t{:.4f}\\n'.format(method, sizes[i], targets[l][:4], averages[methods[method], i, l, 0], averages[methods[method], i, l, 1]))\n",
    "            print('{}\\t{}\\t{}\\t{:.4f}\\t{:.4f}\\n'.format(method, sizes[i], 'rand', averages[methods[method], i, 6, 0], averages[methods[method], i, 6, 1]))\n",
    "            f.write('{}\\t{}\\t{}\\t{:.4f}\\t{:.4f}\\n\\n'.format(method, sizes[i], 'rand', averages[methods[method], i, 6, 0], averages[methods[method], i, 6, 1]))"
   ]
  },
  {
   "cell_type": "raw",
   "metadata": {},
   "source": [
    "from matplotlib import pyplot as plt\n",
    "\n",
    "points = sizes\n",
    "labels = ['m', 'do', 'mo', 'f', 'du', 'r', 'top']\n",
    "\n",
    "fig = plt.figure(figsize=(12, 8))\n",
    "plt.subplots_adjust(hspace=0.4)\n",
    "\n",
    "plt.subplot(222)\n",
    "for i in range(7):\n",
    "    plt.semilogx(points, averages[0, :, i, 1], label=labels[i], basex=2)\n",
    "plt.title('CBOW ACS by Field and Embedding Size')\n",
    "plt.xlabel(\"Embedding Size\")\n",
    "plt.ylabel(\"ACS\")\n",
    "plt.legend()\n",
    "\n",
    "plt.subplot(221)\n",
    "for i in range(7):\n",
    "    plt.semilogx(points, averages[0, :, i, 0], label=labels[i], basex=2)\n",
    "plt.title('CBOW AED by Field and Embedding Size')\n",
    "plt.xlabel(\"Embedding Size\")\n",
    "plt.ylabel(\"AED\")\n",
    "plt.legend()\n",
    "\n",
    "plt.subplot(224)\n",
    "for i in range(7):\n",
    "    plt.semilogx(points, averages[1, :, i, 1], label=labels[i], basex=2)\n",
    "plt.title('CSG ACS by Field and Embedding Size')\n",
    "plt.xlabel(\"Embedding Size\")\n",
    "plt.ylabel(\"ACS\")\n",
    "plt.legend()\n",
    "\n",
    "plt.subplot(223)\n",
    "for i in range(7):\n",
    "    plt.semilogx(points, averages[1, :, i, 0], label=labels[i], basex=2)\n",
    "plt.title('CSG AED by Field and Embedding Size')\n",
    "plt.xlabel(\"Embedding Size\")\n",
    "plt.ylabel(\"AED\")\n",
    "plt.legend()\n",
    "plt.show()"
   ]
  },
  {
   "cell_type": "markdown",
   "metadata": {},
   "source": [
    "# Visualisation"
   ]
  },
  {
   "cell_type": "raw",
   "metadata": {},
   "source": [
    "model = Word2Vec(sentences, sg=1, min_count=1, size=100)"
   ]
  },
  {
   "cell_type": "raw",
   "metadata": {},
   "source": [
    "fn.visualise(model, sentences, [target_dict['reasons']], 1000, 'CBOW Reason Embeddings in Top 1000 Words at 100 Embedding Size')"
   ]
  },
  {
   "cell_type": "raw",
   "metadata": {},
   "source": [
    "model.most_similar(\"paxil\", topn=20)\n",
    "model.most_similar_cosmul('paxil', topn=20)"
   ]
  },
  {
   "cell_type": "raw",
   "metadata": {
    "collapsed": true,
    "scrolled": false
   },
   "source": [
    "print_set = []\n",
    "for case in Dataset.get_DS(labelled='yes').data:\n",
    "    for term in re.finditer(r'do=\"[^|]+\\|', case.raw_labels):\n",
    "        print_set.append(term.group()[:-1])\n",
    "print(*print_set, sep='\\n')"
   ]
  },
  {
   "cell_type": "markdown",
   "metadata": {},
   "source": [
    "# Naive Test "
   ]
  },
  {
   "cell_type": "code",
   "execution_count": 30,
   "metadata": {},
   "outputs": [
    {
     "name": "stdout",
     "output_type": "stream",
     "text": [
      "Target: medications\tRepetitions: True\n",
      "Progress: 100%\r"
     ]
    },
    {
     "data": {
      "image/png": "[encoded data removed]",
      "text/plain": [
       "<matplotlib.figure.Figure at 0x22f392037f0>"
      ]
     },
     "metadata": {},
     "output_type": "display_data"
    },
    {
     "name": "stdout",
     "output_type": "stream",
     "text": [
      "FInal Values: Tr-F1: 0.8212, Val-F1: 0.8042\n",
      "Test F1-Score: 0.8065\n",
      "\n"
     ]
    }
   ],
   "source": [
    "for target in ['medications']:\n",
    "    for reps in [True]:\n",
    "        target_size = len(target_dict[target])\n",
    "        word_sets = fn.generate_naive_traintest(vocab, target_dict[target], target_size * 5, target_size, 10, 50, reps, reps)\n",
    "        emb_sets = fn.embed_words(word_sets, model)\n",
    "        emb_sets['validation_set'] = emb_sets['test_set']\n",
    "        emb_sets['validation_labels'] = emb_sets['test_labels']\n",
    "        print(\"Target: {}\\tRepetitions: {}\".format(target, reps))\n",
    "        NN = FF_Model(layers=[100], activ='sigmoid', dropout=1.0, learn_rate=0.01)\n",
    "        NN.build_graph()\n",
    "        cbowtr, cbowtest, _ =NN.train(emb_sets, epochs=20, batch=50, report_percentage=1, show_progress=True, show_plot=True)"
   ]
  },
  {
   "cell_type": "code",
   "execution_count": 31,
   "metadata": {
    "collapsed": true
   },
   "outputs": [],
   "source": [
    "model = Word2Vec(sentences, sg=1, min_count=1, size=100)"
   ]
  },
  {
   "cell_type": "code",
   "execution_count": 32,
   "metadata": {},
   "outputs": [
    {
     "name": "stdout",
     "output_type": "stream",
     "text": [
      "Target: medications\tRepetitions: True\n",
      "Progress: 100%\r"
     ]
    },
    {
     "data": {
      "image/png": "[encoded data removed]",
      "text/plain": [
       "<matplotlib.figure.Figure at 0x22f286d9cf8>"
      ]
     },
     "metadata": {},
     "output_type": "display_data"
    },
    {
     "name": "stdout",
     "output_type": "stream",
     "text": [
      "FInal Values: Tr-F1: 0.8304, Val-F1: 0.8199\n",
      "Test F1-Score: 0.7937\n",
      "\n"
     ]
    }
   ],
   "source": [
    "for target in ['medications']:\n",
    "    for reps in [True]:\n",
    "        target_size = len(target_dict[target])\n",
    "        word_sets = fn.generate_naive_traintest(vocab, target_dict[target], target_size * 5, target_size, 10, 50, reps, reps)\n",
    "        emb_sets = fn.embed_words(word_sets, model)\n",
    "        emb_sets['validation_set'] = emb_sets['test_set']\n",
    "        emb_sets['validation_labels'] = emb_sets['test_labels']\n",
    "        print(\"Target: {}\\tRepetitions: {}\".format(target, reps))\n",
    "        NN = FF_Model(layers=[100], activ='sigmoid', dropout=1.0, learn_rate=0.01)\n",
    "        NN.build_graph()\n",
    "        csgwtr, csgtest, _ = NN.train(emb_sets, epochs=20, batch=50, report_percentage=1, show_progress=True, show_plot=True)"
   ]
  },
  {
   "cell_type": "code",
   "execution_count": 34,
   "metadata": {},
   "outputs": [
    {
     "data": {
      "image/png": "[encoded data removed]",
      "text/plain": [
       "<matplotlib.figure.Figure at 0x22f39352ba8>"
      ]
     },
     "metadata": {},
     "output_type": "display_data"
    }
   ],
   "source": [
    "from matplotlib import pyplot as plt\n",
    "\n",
    "points = np.array(range(101))\n",
    "\n",
    "fig = plt.figure(figsize=(8, 4))\n",
    "plt.subplots_adjust(hspace=0.4)\n",
    "plt.plot(points, cbowtest, label=\"CBOW\")\n",
    "plt.plot(points, csgtest, label=\"CSG\")\n",
    "plt.xlabel(\"Training Percentage\")\n",
    "plt.ylabel(\"F1-Score\")\n",
    "plt.title('CBOW and CSG Test Curves')\n",
    "plt.legend()\n",
    "plt.show()"
   ]
  },
  {
   "cell_type": "markdown",
   "metadata": {},
   "source": [
    "# HyperParameter Scan"
   ]
  },
  {
   "cell_type": "code",
   "execution_count": null,
   "metadata": {
    "collapsed": true
   },
   "outputs": [],
   "source": [
    "emb_model = {'CBOW': 0, 'CSG': 1}\n",
    "layers = [100]\n",
    "layer_num = [1, 2]\n",
    "activ = ['sigmoid', 'relu', 'tanh']\n",
    "dropouts = [1, 0.8, 0.6]\n",
    "learn_rates = [0.001, 0.01]\n",
    "epoch_nums = [50]\n",
    "NN_num = 5\n",
    "\n",
    "target_names = ['medications', 'dosages', 'modes']\n",
    "targets = [target_dict[t_name] for t_name in target_names] \n",
    "\n",
    "model_num = len(emb_model) * len(layers) * len(layer_num) * len(activ) * len(dropouts) * len(learn_rates) * len(epoch_nums) * NN_num * len(targets)\n",
    "\n",
    "\n",
    "print(model_num)"
   ]
  },
  {
   "cell_type": "code",
   "execution_count": null,
   "metadata": {
    "collapsed": true
   },
   "outputs": [],
   "source": [
    "%%capture\n",
    "n = 0\n",
    "\n",
    "for i in range(len(target_names)):\n",
    "    word_sets = fn.generate_naive_traintest(vocab=vocab,\n",
    "                                        labels=targets[i],\n",
    "                                        train_size=10000,\n",
    "                                        test_size=1000,\n",
    "                                        train_label_percentage=10,\n",
    "                                        test_label_percentage=10,\n",
    "                                        word_repetition = True,\n",
    "                                        label_repetition = True)\n",
    "    iterations = [layers, layer_num, activ, dropouts, learn_rates, epoch_nums]\n",
    "    timestamp = re.sub(r':', '-', str(datetime.datetime.now()).split('.')[0])\n",
    "    results = []\n",
    "    with open('tests/Model1/' + target_names[i] + '/' + timestamp, 'w+') as f:    \n",
    "        print('Model\\tLay:\\tLN:\\tAct:\\tDrop:\\tLeRa:\\tEpochs:\\tF1:')\n",
    "        f.write(target_names[i] + '\\n')\n",
    "        f.write('Model\\tLay:\\tLN:\\tAct:\\tDrop:\\tLeRa:\\tEpochs:\\tF1:\\n')\n",
    "        for modeltype in emb_model.keys():\n",
    "            model = Word2Vec(sentences, sg=emb_model[modeltype], min_count=1, size=100)\n",
    "            emb_sets = fn.embed_words(word_sets, model)\n",
    "            emb_sets['validation_set'] = emb_sets['test_set']\n",
    "            emb_sets['validation_labels'] = emb_sets['test_labels']\n",
    "            for par in itertools.product(*iterations):\n",
    "                best = 0\n",
    "                lay = []\n",
    "                for j in range(par[1]):\n",
    "                    lay.append(par[0])\n",
    "                NN = FF_Model(layers=lay, activ=par[2], dropout=par[3], learn_rate=par[4])\n",
    "                NN.build_graph()\n",
    "                for k in range(NN_num):\n",
    "                    n += 1\n",
    "                    print('Model Number: {}/{}'.format(n, model_num), end='\\r')\n",
    "                    _, _, score = NN.train(emb_sets, epochs=par[5], batch=50)\n",
    "                    NN.close()\n",
    "                    best = max(best, score)\n",
    "                results.append(best)\n",
    "                print('{}\\t{}\\t{}\\t{}\\t{}\\t{}\\t{}\\t{:.4f}'.format(modeltype, *par, results[-1]))\n",
    "                f.write('{}\\t{}\\t{}\\t{}\\t{}\\t{}\\t{}\\t{:.4f}\\n'.format(modeltype, *par, results[-1]))\n",
    "\n",
    "        print('Max Performance: {:.4f}'.format(max(results)))  \n",
    "        f.write('Max Performance: {:.4f}\\n'.format(max(results)))"
   ]
  }
 ],
 "metadata": {
  "anaconda-cloud": {},
  "kernelspec": {
   "display_name": "Python 3",
   "language": "python",
   "name": "python3"
  },
  "language_info": {
   "codemirror_mode": {
    "name": "ipython",
    "version": 3
   },
   "file_extension": ".py",
   "mimetype": "text/x-python",
   "name": "python",
   "nbconvert_exporter": "python",
   "pygments_lexer": "ipython3",
   "version": "3.5.4"
  }
 },
 "nbformat": 4,
 "nbformat_minor": 2
}
