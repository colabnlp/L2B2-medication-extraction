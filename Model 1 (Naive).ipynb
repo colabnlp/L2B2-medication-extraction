{
 "cells": [
  {
   "cell_type": "code",
   "execution_count": 1,
   "metadata": {},
   "outputs": [
    {
     "name": "stderr",
     "output_type": "stream",
     "text": [
      "c:\\users\\luka\\anaconda3\\envs\\tensorflow13\\lib\\site-packages\\gensim\\utils.py:865: UserWarning: detected Windows; aliasing chunkize to chunkize_serial\n",
      "  warnings.warn(\"detected Windows; aliasing chunkize to chunkize_serial\")\n"
     ]
    }
   ],
   "source": [
    "import numpy as np\n",
    "import re\n",
    "import random\n",
    "import itertools\n",
    "import datetime\n",
    "\n",
    "import tensorflow as tf\n",
    "import sklearn as sk\n",
    "\n",
    "from gensim.models import Word2Vec\n",
    "\n",
    "import Functions as fn\n",
    "from DS import DS\n",
    "from Set import pool\n",
    "from Iterator import Iterator\n",
    "from FFModel import FF_Model"
   ]
  },
  {
   "cell_type": "markdown",
   "metadata": {},
   "source": [
    "# Data Loading"
   ]
  },
  {
   "cell_type": "code",
   "execution_count": 2,
   "metadata": {},
   "outputs": [
    {
     "name": "stdout",
     "output_type": "stream",
     "text": [
      "Raw Text Load Complete\n",
      "Raw Labels Load Complete\n"
     ]
    }
   ],
   "source": [
    "Dataset = pool()\n",
    "Dataset.load_texts('raw_texts')\n",
    "Dataset.load_labels('raw_labels')"
   ]
  },
  {
   "cell_type": "code",
   "execution_count": 3,
   "metadata": {
    "collapsed": true,
    "scrolled": false
   },
   "outputs": [],
   "source": [
    "#print('Number of Texts: ', Dataset.size)\n",
    "#print('Number of 2007 Smoking Challenge texts: ', Dataset.number_of(challenge='2007 Smoking Challenge'))\n",
    "#print('Number of 2008 ObesityChallenge texts: ', Dataset.number_of(challenge='2008 Obesity Challenge'))\n",
    "#print('Number of 2009 Medication Challenge texts: ', Dataset.number_of(challenge='2009 Medication Challenge'))\n",
    "#print('Number of 2010 Relations Challenge texts: ', Dataset.number_of(challenge='2010 Relations Challenge'))\n",
    "#print('Number of 2011 Coreference Challenge texts: ', Dataset.number_of(challenge='2011 Coreference Challenge'))\n",
    "#print('Number of 2012 Temporal Relations Challenge texts: ', Dataset.number_of(challenge='2012 Temporal Relations Challenge'))\n",
    "#print('Number of Train Texts: ', Dataset.number_of(stage='train'))\n",
    "#print('Number of Test Texts: ', Dataset.number_of(stage='test'))\n",
    "#print('Number of Labeled Texts: ', Dataset.number_of(labelled='yes'))\n",
    "#print('Number of Initially Labeled Texts: ', Dataset.number_of(labelled='yes', label_type='train'))\n",
    "#print('Number of Competitor Labeled Texts Texts: ', Dataset.number_of(labelled='yes', label_type='test'))"
   ]
  },
  {
   "cell_type": "code",
   "execution_count": 4,
   "metadata": {},
   "outputs": [
    {
     "name": "stdout",
     "output_type": "stream",
     "text": [
      "Label Load Complete\n"
     ]
    }
   ],
   "source": [
    "target_dict = fn.load_labels('final_meta/labels')"
   ]
  },
  {
   "cell_type": "markdown",
   "metadata": {},
   "source": [
    "# Embedding Generation"
   ]
  },
  {
   "cell_type": "code",
   "execution_count": 5,
   "metadata": {},
   "outputs": [
    {
     "name": "stdout",
     "output_type": "stream",
     "text": [
      "4585 238 10 10\n"
     ]
    }
   ],
   "source": [
    "train_set = pool(data=(Dataset.get_DS(stage='test', labelled='yes')).data[:-10])\n",
    "validation_set = pool(data=(Dataset.get_DS(stage='test', labelled='yes')).data[-10:])\n",
    "test_set = Dataset.get_DS(stage='train', labelled='yes')\n",
    "set_1 = Dataset.get_DS(stage='train', labelled='no')\n",
    "set_2 = Dataset.get_DS(stage='test', labelled='no')\n",
    "set_1.append(set_2.data)\n",
    "set_1.append(train_set.data)\n",
    "emb_set = set_1\n",
    "print(emb_set.size, train_set.size, validation_set.size, test_set.size)"
   ]
  },
  {
   "cell_type": "code",
   "execution_count": 6,
   "metadata": {},
   "outputs": [
    {
     "name": "stdout",
     "output_type": "stream",
     "text": [
      "Sentence Load Complete\n"
     ]
    }
   ],
   "source": [
    "#emb_set.process_for_embedding()\n",
    "#sentences = emb_set.get_sentences()\n",
    "#fn.write_sentences(sentences, 'final_meta/sentences')\n",
    "sentences = fn.load_sentences('final_meta/sentences')\n",
    "\n",
    "#model = Word2Vec(sentences, min_count=1, size=100)\n",
    "#model.save('final_meta/W2V')\n",
    "model = Word2Vec.load('final_meta/W2V')\n",
    "\n",
    "vocab = model.wv.vocab.keys()"
   ]
  },
  {
   "cell_type": "markdown",
   "metadata": {},
   "source": [
    "# AED and ACS Calculation"
   ]
  },
  {
   "cell_type": "code",
   "execution_count": 58,
   "metadata": {},
   "outputs": [
    {
     "name": "stdout",
     "output_type": "stream",
     "text": [
      "durat AED and CSS: 16.77 \t 0.08\n",
      "frequ AED and CSS: 14.42 \t 0.17\n",
      "modes AED and CSS: 10.05 \t 0.23\n",
      "reaso AED and CSS: 12.55 \t 0.10\n",
      "dosag AED and CSS: 11.78 \t 0.16\n",
      "medic AED and CSS: 6.49 \t 0.24\n"
     ]
    }
   ],
   "source": [
    "for target in target_dict.keys():\n",
    "    dist = 0\n",
    "    sim = 0\n",
    "    cn = len(target_dict[target]) * len(target_dict[target])\n",
    "    for word in target_dict[target]:\n",
    "        for word2 in target_dict[target]:\n",
    "            if word in vocab and word2 in vocab:\n",
    "                dist += np.linalg.norm(model[word]-model[word2])\n",
    "                sim += model.similarity(word, word2)\n",
    "    print('{} AED and CSS: {:.2f} \\t {:.2f}'.format(target[:5], dist/cn, sim/cn))"
   ]
  },
  {
   "cell_type": "code",
   "execution_count": 16,
   "metadata": {},
   "outputs": [
    {
     "name": "stdout",
     "output_type": "stream",
     "text": [
      "modes AED and CSS: 2.96 \t 0.62\n",
      "frequ AED and CSS: 2.95 \t 0.61\n",
      "durat AED and CSS: 2.95 \t 0.55\n",
      "dosag AED and CSS: 2.84 \t 0.61\n",
      "reaso AED and CSS: 3.08 \t 0.53\n",
      "medic AED and CSS: 2.61 \t 0.67\n"
     ]
    }
   ],
   "source": [
    "for target in target_dict.keys():\n",
    "    dist = 0\n",
    "    sim = 0\n",
    "    cn = len(target_dict[target]) * len(target_dict[target])\n",
    "    for word in target_dict[target]:\n",
    "        for word2 in target_dict[target]:\n",
    "            if word in vocab and word2 in vocab:\n",
    "                dist += np.linalg.norm(model[word]-model[word2])\n",
    "                sim += model.similarity(word, word2)\n",
    "    print('{} AED and CSS: {:.2f} \\t {:.2f}'.format(target[:5], dist/cn, sim/cn))"
   ]
  },
  {
   "cell_type": "code",
   "execution_count": 59,
   "metadata": {},
   "outputs": [
    {
     "name": "stdout",
     "output_type": "stream",
     "text": [
      "random words AED and CSS: 17.15 \t 0.04\n"
     ]
    }
   ],
   "source": [
    "from collections import Counter\n",
    "\n",
    "dist = 0\n",
    "sim = 0\n",
    "sample = Counter([word for sent in sentences for word in sent]).most_common(2000)\n",
    "sample = np.ndarray.tolist(np.array(sample)[:,0])\n",
    "cn = len(sample) * len(sample)\n",
    "for word in sample:\n",
    "    for word2 in sample:\n",
    "        dist += np.linalg.norm(model[word]-model[word2])\n",
    "        sim += model.similarity(word, word2)\n",
    "print('random words AED and CSS: {:.2f} \\t {:.2f}'.format(dist/cn, sim/cn))"
   ]
  },
  {
   "cell_type": "code",
   "execution_count": null,
   "metadata": {},
   "outputs": [],
   "source": [
    "from collections import Counter\n",
    "\n",
    "dist = 0\n",
    "sim = 0\n",
    "sample = Counter([word for sent in sentences for word in sent]).most_common(2000)\n",
    "sample = np.ndarray.tolist(np.array(sample)[:,0])\n",
    "cn = len(sample) * len(sample)\n",
    "for word in sample:\n",
    "    for word2 in sample:\n",
    "        dist += np.linalg.norm(model[word]-model[word2])\n",
    "        sim += model.similarity(word, word2)\n",
    "print('random words AED and CSS: {:.2f} \\t {:.2f}'.format(dist/cn, sim/cn))"
   ]
  },
  {
   "cell_type": "markdown",
   "metadata": {},
   "source": [
    "# Large Scale AED and ACS"
   ]
  },
  {
   "cell_type": "code",
   "execution_count": 36,
   "metadata": {},
   "outputs": [
    {
     "name": "stdout",
     "output_type": "stream",
     "text": [
      "294\n",
      "Met:\tSize:\tTarget:\tAED:\tACS:\n",
      "CBOW\t16\tmedi\t5.2589\t0.3518\n",
      "CBOW\t16\tdosa\t9.2174\t0.2465\n",
      "CBOW\t16\tmode\t8.4866\t0.3058\n",
      "CBOW\t16\tfreq\t11.1799\t0.2573\n",
      "CBOW\t16\tdura\t12.4908\t0.1240\n",
      "CBOW\t16\treas\t10.0959\t0.1498\n",
      "CBOW\t16\trand\t14.0896\t0.0486\n",
      "\n",
      "CBOW\t32\tmedi\t5.8700\t0.2952\n",
      "CBOW\t32\tdosa\t10.5052\t0.1942\n",
      "CBOW\t32\tmode\t9.4501\t0.2595\n",
      "CBOW\t32\tfreq\t13.0060\t0.1996\n",
      "CBOW\t32\tdura\t14.7801\t0.0906\n",
      "CBOW\t32\treas\t11.4569\t0.1239\n",
      "CBOW\t32\trand\t15.7899\t0.0406\n",
      "\n",
      "CBOW\t64\tmedi\t6.3209\t0.2507\n",
      "CBOW\t64\tdosa\t11.4779\t0.1599\n",
      "CBOW\t64\tmode\t9.9707\t0.2232\n",
      "CBOW\t64\tfreq\t14.1734\t0.1757\n",
      "CBOW\t64\tdura\t16.3287\t0.0748\n",
      "CBOW\t64\treas\t12.2856\t0.1061\n",
      "CBOW\t64\trand\t16.8286\t0.0366\n",
      "\n",
      "CBOW\t128\tmedi\t6.5270\t0.2350\n",
      "CBOW\t128\tdosa\t11.9337\t0.1523\n",
      "CBOW\t128\tmode\t10.2604\t0.2148\n",
      "CBOW\t128\tfreq\t14.6267\t0.1590\n",
      "CBOW\t128\tdura\t17.0120\t0.0698\n",
      "CBOW\t128\treas\t12.6465\t0.1002\n",
      "CBOW\t128\trand\t17.2440\t0.0362\n",
      "\n",
      "CBOW\t256\tmedi\t6.5446\t0.2337\n",
      "CBOW\t256\tdosa\t12.0012\t0.1530\n",
      "CBOW\t256\tmode\t10.2666\t0.2128\n",
      "CBOW\t256\tfreq\t14.6994\t0.1606\n",
      "CBOW\t256\tdura\t17.1234\t0.0690\n",
      "CBOW\t256\treas\t12.6916\t0.1016\n",
      "CBOW\t256\trand\t17.2863\t0.0368\n",
      "\n",
      "CBOW\t512\tmedi\t6.5246\t0.2375\n",
      "CBOW\t512\tdosa\t11.9843\t0.1562\n",
      "CBOW\t512\tmode\t10.2458\t0.2128\n",
      "CBOW\t512\tfreq\t14.6622\t0.1584\n",
      "CBOW\t512\tdura\t17.0886\t0.0696\n",
      "CBOW\t512\treas\t12.6514\t0.1019\n",
      "CBOW\t512\trand\t17.2523\t0.0364\n",
      "\n",
      "CBOW\t1024\tmedi\t6.5011\t0.2394\n",
      "CBOW\t1024\tdosa\t11.9549\t0.1557\n",
      "CBOW\t1024\tmode\t10.2157\t0.2187\n",
      "CBOW\t1024\tfreq\t14.6224\t0.1612\n",
      "CBOW\t1024\tdura\t17.0165\t0.0692\n",
      "CBOW\t1024\treas\t12.6150\t0.1030\n",
      "CBOW\t1024\trand\t17.2116\t0.0367\n",
      "\n",
      "CSG\t16\tmedi\t2.6185\t0.6719\n",
      "CSG\t16\tdosa\t2.8572\t0.6095\n",
      "CSG\t16\tmode\t3.0029\t0.6195\n",
      "CSG\t16\tfreq\t2.9671\t0.6003\n",
      "CSG\t16\tdura\t2.9762\t0.5434\n",
      "CSG\t16\treas\t3.0812\t0.5363\n",
      "CSG\t16\trand\t3.8321\t0.4539\n",
      "\n",
      "CSG\t32\tmedi\t3.0011\t0.6085\n",
      "CSG\t32\tdosa\t3.3955\t0.5316\n",
      "CSG\t32\tmode\t3.5386\t0.5462\n",
      "CSG\t32\tfreq\t3.5719\t0.5249\n",
      "CSG\t32\tdura\t3.5582\t0.4655\n",
      "CSG\t32\treas\t3.6297\t0.4626\n",
      "CSG\t32\trand\t4.5033\t0.3828\n",
      "\n",
      "CSG\t64\tmedi\t3.3202\t0.5612\n",
      "CSG\t64\tdosa\t3.9210\t0.4708\n",
      "CSG\t64\tmode\t4.0681\t0.4810\n",
      "CSG\t64\tfreq\t4.1656\t0.4595\n",
      "CSG\t64\tdura\t4.2226\t0.3941\n",
      "CSG\t64\treas\t4.1448\t0.4062\n",
      "CSG\t64\trand\t5.1474\t0.3229\n",
      "\n",
      "CSG\t128\tmedi\t3.6113\t0.5250\n",
      "CSG\t128\tdosa\t4.4470\t0.4231\n",
      "CSG\t128\tmode\t4.5054\t0.4343\n",
      "CSG\t128\tfreq\t4.7596\t0.4070\n",
      "CSG\t128\tdura\t4.9183\t0.3351\n",
      "CSG\t128\treas\t4.6829\t0.3569\n",
      "CSG\t128\trand\t5.8156\t0.2723\n",
      "\n",
      "CSG\t256\tmedi\t3.7614\t0.5099\n",
      "CSG\t256\tdosa\t4.7504\t0.4010\n",
      "CSG\t256\tmode\t4.7315\t0.4152\n",
      "CSG\t256\tfreq\t5.1123\t0.3818\n",
      "CSG\t256\tdura\t5.3600\t0.3055\n",
      "CSG\t256\treas\t5.0217\t0.3316\n",
      "CSG\t256\trand\t6.2182\t0.2466\n",
      "\n",
      "CSG\t512\tmedi\t3.7685\t0.5100\n",
      "CSG\t512\tdosa\t4.7735\t0.3995\n",
      "CSG\t512\tmode\t4.7497\t0.4138\n",
      "CSG\t512\tfreq\t5.1501\t0.3791\n",
      "CSG\t512\tdura\t5.4150\t0.3021\n",
      "CSG\t512\treas\t5.0596\t0.3293\n",
      "CSG\t512\trand\t6.2583\t0.2441\n",
      "\n",
      "CSG\t1024\tmedi\t3.7540\t0.5118\n",
      "CSG\t1024\tdosa\t4.7619\t0.4014\n",
      "CSG\t1024\tmode\t4.7388\t0.4168\n",
      "CSG\t1024\tfreq\t5.1291\t0.3809\n",
      "CSG\t1024\tdura\t5.3981\t0.3026\n",
      "CSG\t1024\treas\t5.0372\t0.3315\n",
      "CSG\t1024\trand\t6.2360\t0.2453\n",
      "\n"
     ]
    }
   ],
   "source": [
    "from collections import Counter\n",
    "\n",
    "methods = {'CBOW': 0, 'CSG': 1}\n",
    "sizes = [16, 32, 64, 128, 256, 512, 1024]\n",
    "targets = ['medications', 'dosages', 'modes', 'frequencies', 'durations', 'reasons']\n",
    "mod_num = 3\n",
    "total_mod_num = len(methods) * len(sizes) * (1+len(targets)) * mod_num\n",
    "print(total_mod_num)\n",
    "\n",
    "#methods = {'CBOW': 0, 'CSG': 1}\n",
    "#sizes = [16]\n",
    "#targets = ['medications', 'dosages', 'modes', 'frequencies', 'durations', 'reasons']\n",
    "#mod_num = 1\n",
    "#total_mod_num = len(methods) * len(sizes) * mod_num\n",
    "#print(total_mod_num)\n",
    "\n",
    "averages = np.array([[[[0, 0] for i in range(7)] for j in range(len(sizes))] for k in range(len(methods))], dtype=np.float32)\n",
    "\n",
    "sample = Counter([word for sent in sentences for word in sent]).most_common(2000)\n",
    "sample = np.ndarray.tolist(np.array(sample)[:,0])\n",
    "sn = len(sample) * (len(sample) - 1) / 2\n",
    "\n",
    "n = 0\n",
    "timestamp = re.sub(r':', '-', str(datetime.datetime.now()).split('.')[0])\n",
    "\n",
    "with open('tests/embs/' + timestamp, 'w+') as f:\n",
    "    print('Met:\\tSize:\\tTarget:\\tAED:\\tACS:')\n",
    "    f.write('Met:\\tSize:\\tTarget:\\tAED:\\tACS:\\n')\n",
    "    for method in methods.keys():\n",
    "        for i in range(len(sizes)):\n",
    "            for j in range(mod_num):\n",
    "                n += 1\n",
    "                print('Model: {}/{}'.format(n, total_mod_num), end='\\r')\n",
    "                model = Word2Vec(sentences, min_count=1, sg=methods[method], size=sizes[i])\n",
    "                for k in range(len(targets)):\n",
    "                    dist = 0\n",
    "                    sim = 0\n",
    "                    cn = len(target_dict[targets[k]]) * (len(target_dict[targets[k]]) - 1) / 2\n",
    "                    vocab1 = target_dict[targets[k]].copy()\n",
    "                    vocab2 = target_dict[targets[k]].copy()\n",
    "                    for word1 in vocab1:\n",
    "                        vocab2.remove(word1)\n",
    "                        for word2 in vocab2:\n",
    "                            if word1 in vocab and word2 in vocab:\n",
    "                                dist += np.linalg.norm(model[word1]-model[word2])\n",
    "                                sim += model.similarity(word1, word2)\n",
    "                                #print(word1, word2, dist, sim)\n",
    "                    #print(dist)\n",
    "                    #print(sim)\n",
    "                    #print(cn)\n",
    "                    #print(dist/cn, sim/cn)\n",
    "                    averages[methods[method], i, k, 0] += dist / cn\n",
    "                    averages[methods[method], i, k, 1] += sim / cn\n",
    "                    #print('{}\\t{}\\t{}\\t{:.4f}\\t{:.4f}'.format(method, sizes[i], targets[k][:4], averages[methods[method], i, k, 0], averages[methods[method], i, k, 1]))\n",
    "                dist = 0\n",
    "                sim = 0\n",
    "                vocab1 = sample.copy()\n",
    "                vocab2 = sample.copy()\n",
    "                for word1 in vocab1:\n",
    "                    vocab2.remove(word1)\n",
    "                    for word2 in vocab2:\n",
    "                        dist += np.linalg.norm(model[word1]-model[word2])\n",
    "                        sim += model.similarity(word1, word2)\n",
    "                averages[methods[method], i, 6, 0] += dist / sn\n",
    "                averages[methods[method], i, 6, 1] += sim / sn\n",
    "            averages[methods[method], i] = averages[methods[method], i] / mod_num\n",
    "            for l in range(len(targets)):\n",
    "                print('{}\\t{}\\t{}\\t{:.4f}\\t{:.4f}'.format(method, sizes[i], targets[l][:4], averages[methods[method], i, l, 0], averages[methods[method], i, l, 1]))\n",
    "                f.write('{}\\t{}\\t{}\\t{:.4f}\\t{:.4f}\\n'.format(method, sizes[i], targets[l][:4], averages[methods[method], i, l, 0], averages[methods[method], i, l, 1]))\n",
    "            print('{}\\t{}\\t{}\\t{:.4f}\\t{:.4f}\\n'.format(method, sizes[i], 'rand', averages[methods[method], i, 6, 0], averages[methods[method], i, 6, 1]))\n",
    "            f.write('{}\\t{}\\t{}\\t{:.4f}\\t{:.4f}\\n\\n'.format(method, sizes[i], 'rand', averages[methods[method], i, 6, 0], averages[methods[method], i, 6, 1]))"
   ]
  },
  {
   "cell_type": "code",
   "execution_count": 80,
   "metadata": {},
   "outputs": [
    {
     "data": {
      "image/png": "[encoded data removed]",
      "text/plain": [
       "<matplotlib.figure.Figure at 0x229059b9e48>"
      ]
     },
     "metadata": {},
     "output_type": "display_data"
    }
   ],
   "source": [
    "from matplotlib import pyplot as plt\n",
    "\n",
    "fig = plt.figure(figsize=(12, 8))\n",
    "plt.subplots_adjust(hspace=0.4)\n",
    "plt.subplot(222)\n",
    "plt.semilogx(points, averages[0, :, 0, 1], label=\"m\", basex=2)\n",
    "plt.semilogx(points, averages[0, :, 1, 1], label=\"do\", basex=2)\n",
    "plt.semilogx(points, averages[0, :, 2, 1], label=\"mo\", basex=2)\n",
    "plt.semilogx(points, averages[0, :, 3, 1], label=\"f\", basex=2)\n",
    "plt.semilogx(points, averages[0, :, 4, 1], label=\"du\", basex=2)\n",
    "plt.semilogx(points, averages[0, :, 5, 1], label=\"r\", basex=2)\n",
    "plt.semilogx(points, averages[0, :, 6, 1], label=\"top\", basex=2)\n",
    "plt.title('CBOW ACS by Field and Embedding Size')\n",
    "plt.xlabel(\"Embedding Size\")\n",
    "plt.ylabel(\"ACS\")\n",
    "plt.legend()\n",
    "\n",
    "plt.subplot(221)\n",
    "plt.semilogx(points, averages[0, :, 0, 0], label=\"m\", basex=2)\n",
    "plt.semilogx(points, averages[0, :, 1, 0], label=\"do\", basex=2)\n",
    "plt.semilogx(points, averages[0, :, 2, 0], label=\"mo\", basex=2)\n",
    "plt.semilogx(points, averages[0, :, 3, 0], label=\"f\", basex=2)\n",
    "plt.semilogx(points, averages[0, :, 4, 0], label=\"du\", basex=2)\n",
    "plt.semilogx(points, averages[0, :, 5, 0], label=\"r\", basex=2)\n",
    "plt.semilogx(points, averages[0, :, 6, 0], label=\"top\", basex=2)\n",
    "plt.title('CBOW AED by Field and Embedding Size')\n",
    "plt.xlabel(\"Embedding Size\")\n",
    "plt.ylabel(\"AED\")\n",
    "plt.legend()\n",
    "\n",
    "plt.subplot(224)\n",
    "plt.semilogx(points, averages[1, :, 0, 1], label=\"m\", basex=2)\n",
    "plt.semilogx(points, averages[1, :, 1, 1], label=\"do\", basex=2)\n",
    "plt.semilogx(points, averages[1, :, 2, 1], label=\"mo\", basex=2)\n",
    "plt.semilogx(points, averages[1, :, 3, 1], label=\"f\", basex=2)\n",
    "plt.semilogx(points, averages[1, :, 4, 1], label=\"du\", basex=2)\n",
    "plt.semilogx(points, averages[1, :, 5, 1], label=\"r\", basex=2)\n",
    "plt.semilogx(points, averages[1, :, 6, 1], label=\"top\", basex=2)\n",
    "plt.title('CSG ACS by Field and Embedding Size')\n",
    "plt.xlabel(\"Embedding Size\")\n",
    "plt.ylabel(\"ACS\")\n",
    "plt.legend()\n",
    "\n",
    "plt.subplot(223)\n",
    "plt.semilogx(points, averages[1, :, 0, 0], label=\"m\", basex=2)\n",
    "plt.semilogx(points, averages[1, :, 1, 0], label=\"do\", basex=2)\n",
    "plt.semilogx(points, averages[1, :, 2, 0], label=\"mo\", basex=2)\n",
    "plt.semilogx(points, averages[1, :, 3, 0], label=\"f\", basex=2)\n",
    "plt.semilogx(points, averages[1, :, 4, 0], label=\"du\", basex=2)\n",
    "plt.semilogx(points, averages[1, :, 5, 0], label=\"r\", basex=2)\n",
    "plt.semilogx(points, averages[1, :, 6, 0], label=\"top\", basex=2)\n",
    "plt.title('CSG AED by Field and Embedding Size')\n",
    "plt.xlabel(\"Embedding Size\")\n",
    "plt.ylabel(\"AED\")\n",
    "plt.legend()\n",
    "plt.show()"
   ]
  },
  {
   "cell_type": "markdown",
   "metadata": {},
   "source": [
    "# Visualisation"
   ]
  },
  {
   "cell_type": "code",
   "execution_count": 61,
   "metadata": {
    "collapsed": true
   },
   "outputs": [],
   "source": [
    "fn.visualise(model, sentences, [target_dict['reasons']], 1000, 'Medications in top 1000 words')"
   ]
  },
  {
   "cell_type": "raw",
   "metadata": {},
   "source": [
    "model.most_similar(\"aspirin\", topn=10)\n",
    "model.most_similar_cosmul('aspirin')"
   ]
  },
  {
   "cell_type": "raw",
   "metadata": {
    "collapsed": true,
    "scrolled": false
   },
   "source": [
    "print_set = []\n",
    "for case in Dataset.get_DS(labelled='yes').data:\n",
    "    for term in re.finditer(r'do=\"[^|]+\\|', case.raw_labels):\n",
    "        print_set.append(term.group()[:-1])\n",
    "print(*print_set, sep='\\n')"
   ]
  },
  {
   "cell_type": "markdown",
   "metadata": {},
   "source": [
    "# Naive Test "
   ]
  },
  {
   "cell_type": "code",
   "execution_count": 60,
   "metadata": {},
   "outputs": [
    {
     "name": "stdout",
     "output_type": "stream",
     "text": [
      "Target: medications\tRepetitions: True\n",
      "FInal Values: Tr-F1: 0.8531, Val-F1: 0.8333\n",
      "Test F1-Score: 0.8333\n",
      "\n",
      "Target: medications\tRepetitions: False\n",
      "FInal Values: Tr-F1: 0.8305, Val-F1: 0.7714\n",
      "Test F1-Score: 0.7677\n",
      "\n"
     ]
    }
   ],
   "source": [
    "for target in ['medications']:\n",
    "    for reps in [True, False]:\n",
    "        target_size = len(target_dict[target])\n",
    "        word_sets = fn.generate_naive_traintest(vocab, target_dict[target], target_size * 5, target_size, 10, 50, reps, reps)\n",
    "        emb_sets = fn.embed_words(word_sets, model)\n",
    "        emb_sets['validation_set'] = emb_sets['test_set']\n",
    "        emb_sets['validation_labels'] = emb_sets['test_labels']\n",
    "        print(\"Target: {}\\tRepetitions: {}\".format(target, reps))\n",
    "        NN = FF_Model()\n",
    "        NN.build_graph()\n",
    "        NN.train(emb_sets, epochs=50, report_percentage=10, show_progress=True)"
   ]
  },
  {
   "cell_type": "markdown",
   "metadata": {},
   "source": [
    "# HyperParameter Scan"
   ]
  },
  {
   "cell_type": "code",
   "execution_count": 35,
   "metadata": {},
   "outputs": [
    {
     "name": "stdout",
     "output_type": "stream",
     "text": [
      "377300\n"
     ]
    }
   ],
   "source": [
    "emb_model = {'CBOW': 0, 'CSG': 1}\n",
    "NN_num = 10\n",
    "emb_sizes = [16, 32, 64, 128, 256, 512, 1024]\n",
    "layers = [[16], [32], [64], [128], [256], [512], [1024]]\n",
    "layer_num = [1, 2, 3]\n",
    "dropouts = [0.1, 0.2, 0.3, 0.4, 0.5, 0.5, 0.6, 0.7, 0.8, 0.9, 1.0]\n",
    "learn_rates = [0.0001, 0.001, 0.01, 0.1, 1]\n",
    "epoch_nums = [2, 4, 8, 16, 32, 64, 128]\n",
    "\n",
    "model_num = len(emb_model) * NN_num * len(emb_sizes) * len(layers) * len(dropouts) * \\\n",
    "            len(learn_rates) * len(epoch_nums)\n",
    "target = target_dict['medications']\n",
    "\n",
    "print(model_num)"
   ]
  },
  {
   "cell_type": "code",
   "execution_count": 37,
   "metadata": {},
   "outputs": [
    {
     "name": "stdout",
     "output_type": "stream",
     "text": [
      "7680\n"
     ]
    }
   ],
   "source": [
    "#emb_model = {'CBOW': 0, 'CSG': 1}\n",
    "NN_num = 5\n",
    "#emb_sizes = [64, 128, 256, 512]\n",
    "layers = [[64], [128], [256], [512]]\n",
    "layer_num = [1, 2, 3]\n",
    "dropouts = [0.1, 0.3, 0.5, 0.7]\n",
    "learn_rates = [0.001, 0.01, 0.1]\n",
    "epoch_nums = [4, 16, 64, 128]\n",
    "\n",
    "#model_num = len(emb_model) * NN_num * len(emb_sizes) * len(layers) * len(dropouts) * \\\n",
    "            len(learn_rates) * len(epoch_nums)\n",
    "\n",
    "model_num = NN_num * len(layers) * len(dropouts) * len(learn_rates) * len(epoch_nums)\n",
    "\n",
    "target = target_dict['medications']\n",
    "\n",
    "print(model_num)"
   ]
  },
  {
   "cell_type": "code",
   "execution_count": null,
   "metadata": {
    "collapsed": true
   },
   "outputs": [],
   "source": [
    "word_sets = fn.generate_naive_traintest(vocab=vocab,\n",
    "                                        labels=target,\n",
    "                                        train_size=10000,\n",
    "                                        test_size=1000,\n",
    "                                        train_label_percentage=10,\n",
    "                                        test_label_percentage=10,\n",
    "                                        word_repetition = True,\n",
    "                                        label_repetition = True)"
   ]
  },
  {
   "cell_type": "code",
   "execution_count": null,
   "metadata": {
    "collapsed": true
   },
   "outputs": [],
   "source": [
    "#iterations = [emb_sizes, layers, layer_num, dropouts, learn_rates, epoch_nums]\n",
    "iterations = [layers, layer_num, dropouts, learn_rates, epoch_nums]"
   ]
  },
  {
   "cell_type": "code",
   "execution_count": null,
   "metadata": {
    "collapsed": true
   },
   "outputs": [],
   "source": [
    "n = 0\n",
    "parameters = []\n",
    "results = []\n",
    "timestamp = re.sub(r':', '-', str(datetime.datetime.now()).split('.')[0])\n",
    "\n",
    "with open('tests/Model1/' + timestamp, 'w+') as f:\n",
    "    print('EmbSz:\\tLay:\\tDrop:\\tLeRa:\\tEpochs:\\tBatSz:\\tF1:')\n",
    "    f.write('EmbSz:\\tLay:\\tDrop:\\tLeRa:\\tEpochs:\\tBatSz:\\tF1:\\n')\n",
    "    for par in itertools.product(*iterations):\n",
    "        best = 0\n",
    "        parameters.append(par)\n",
    "        for i in range(emb_num):\n",
    "            model = Word2Vec(sentences, min_count=1, size=par[0])\n",
    "            emb_sets = fn.embed_words(word_sets, model)\n",
    "            emb_sets['validation_set'] = emb_sets['test_set']\n",
    "            emb_sets['validation_labels'] = emb_sets['test_labels']\n",
    "            for j in range(NN_num):\n",
    "                n += 1\n",
    "                print('Model Number: {}/{}'.format(n, model_num), end='\\r')\n",
    "                NN = FF_Model(input_size=par[0], layers=par[1], dropout=par[2], learn_rate=par[3])\n",
    "                NN.build_graph()\n",
    "                _, _, _, score = NN.train(emb_sets, epochs=par[4], batch=par[5], report_percentage=report_percentage)\n",
    "                best = max(best, score)\n",
    "        results.append(best)\n",
    "        print('{}\\t{}\\t{}\\t{}\\t{}\\t{}\\t{:.4f}'.format(*parameters[-1], results[-1]))\n",
    "        f.write('{}\\t{}\\t{}\\t{}\\t{}\\t{}\\t{:.4f}\\n'.format(*parameters[-1], results[-1]))\n",
    "\n",
    "    print('Max Performance: {:.4f}'.format(max(results)))  \n",
    "    f.write('Max Performance: {:.4f}\\n'.format(max(results)))"
   ]
  }
 ],
 "metadata": {
  "anaconda-cloud": {},
  "kernelspec": {
   "display_name": "Python 3",
   "language": "python",
   "name": "python3"
  },
  "language_info": {
   "codemirror_mode": {
    "name": "ipython",
    "version": 3
   },
   "file_extension": ".py",
   "mimetype": "text/x-python",
   "name": "python",
   "nbconvert_exporter": "python",
   "pygments_lexer": "ipython3",
   "version": "3.5.4"
  }
 },
 "nbformat": 4,
 "nbformat_minor": 2
}
