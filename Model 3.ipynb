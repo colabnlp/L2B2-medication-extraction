{
 "cells": [
  {
   "cell_type": "code",
   "execution_count": 1,
   "metadata": {},
   "outputs": [
    {
     "data": {
      "text/html": [
       "\n",
       "    <div class=\"bk-root\">\n",
       "        <a href=\"http://bokeh.pydata.org\" target=\"_blank\" class=\"bk-logo bk-logo-small bk-logo-notebook\"></a>\n",
       "        <span id=\"29ff47fd-37ca-4dd7-90ec-fb8ae3e8361f\">Loading BokehJS ...</span>\n",
       "    </div>"
      ]
     },
     "metadata": {},
     "output_type": "display_data"
    },
    {
     "data": {
      "application/javascript": [
       "\n",
       "(function(global) {\n",
       "  function now() {\n",
       "    return new Date();\n",
       "  }\n",
       "\n",
       "  var force = true;\n",
       "\n",
       "  if (typeof (window._bokeh_onload_callbacks) === \"undefined\" || force === true) {\n",
       "    window._bokeh_onload_callbacks = [];\n",
       "    window._bokeh_is_loading = undefined;\n",
       "  }\n",
       "\n",
       "\n",
       "  \n",
       "  if (typeof (window._bokeh_timeout) === \"undefined\" || force === true) {\n",
       "    window._bokeh_timeout = Date.now() + 5000;\n",
       "    window._bokeh_failed_load = false;\n",
       "  }\n",
       "\n",
       "  var NB_LOAD_WARNING = {'data': {'text/html':\n",
       "     \"<div style='background-color: #fdd'>\\n\"+\n",
       "     \"<p>\\n\"+\n",
       "     \"BokehJS does not appear to have successfully loaded. If loading BokehJS from CDN, this \\n\"+\n",
       "     \"may be due to a slow or bad network connection. Possible fixes:\\n\"+\n",
       "     \"</p>\\n\"+\n",
       "     \"<ul>\\n\"+\n",
       "     \"<li>re-rerun `output_notebook()` to attempt to load from CDN again, or</li>\\n\"+\n",
       "     \"<li>use INLINE resources instead, as so:</li>\\n\"+\n",
       "     \"</ul>\\n\"+\n",
       "     \"<code>\\n\"+\n",
       "     \"from bokeh.resources import INLINE\\n\"+\n",
       "     \"output_notebook(resources=INLINE)\\n\"+\n",
       "     \"</code>\\n\"+\n",
       "     \"</div>\"}};\n",
       "\n",
       "  function display_loaded() {\n",
       "    if (window.Bokeh !== undefined) {\n",
       "      var el = document.getElementById(\"29ff47fd-37ca-4dd7-90ec-fb8ae3e8361f\");\n",
       "      el.textContent = \"BokehJS \" + Bokeh.version + \" successfully loaded.\";\n",
       "    } else if (Date.now() < window._bokeh_timeout) {\n",
       "      setTimeout(display_loaded, 100)\n",
       "    }\n",
       "  }\n",
       "\n",
       "  function run_callbacks() {\n",
       "    try {\n",
       "      window._bokeh_onload_callbacks.forEach(function(callback) { callback() });\n",
       "    }\n",
       "    finally {\n",
       "      delete window._bokeh_onload_callbacks\n",
       "    }\n",
       "    console.info(\"Bokeh: all callbacks have finished\");\n",
       "  }\n",
       "\n",
       "  function load_libs(js_urls, callback) {\n",
       "    window._bokeh_onload_callbacks.push(callback);\n",
       "    if (window._bokeh_is_loading > 0) {\n",
       "      console.log(\"Bokeh: BokehJS is being loaded, scheduling callback at\", now());\n",
       "      return null;\n",
       "    }\n",
       "    if (js_urls == null || js_urls.length === 0) {\n",
       "      run_callbacks();\n",
       "      return null;\n",
       "    }\n",
       "    console.log(\"Bokeh: BokehJS not loaded, scheduling load and callback at\", now());\n",
       "    window._bokeh_is_loading = js_urls.length;\n",
       "    for (var i = 0; i < js_urls.length; i++) {\n",
       "      var url = js_urls[i];\n",
       "      var s = document.createElement('script');\n",
       "      s.src = url;\n",
       "      s.async = false;\n",
       "      s.onreadystatechange = s.onload = function() {\n",
       "        window._bokeh_is_loading--;\n",
       "        if (window._bokeh_is_loading === 0) {\n",
       "          console.log(\"Bokeh: all BokehJS libraries loaded\");\n",
       "          run_callbacks()\n",
       "        }\n",
       "      };\n",
       "      s.onerror = function() {\n",
       "        console.warn(\"failed to load library \" + url);\n",
       "      };\n",
       "      console.log(\"Bokeh: injecting script tag for BokehJS library: \", url);\n",
       "      document.getElementsByTagName(\"head\")[0].appendChild(s);\n",
       "    }\n",
       "  };var element = document.getElementById(\"29ff47fd-37ca-4dd7-90ec-fb8ae3e8361f\");\n",
       "  if (element == null) {\n",
       "    console.log(\"Bokeh: ERROR: autoload.js configured with elementid '29ff47fd-37ca-4dd7-90ec-fb8ae3e8361f' but no matching script tag was found. \")\n",
       "    return false;\n",
       "  }\n",
       "\n",
       "  var js_urls = [\"https://cdn.pydata.org/bokeh/release/bokeh-0.12.6.min.js\", \"https://cdn.pydata.org/bokeh/release/bokeh-widgets-0.12.6.min.js\"];\n",
       "\n",
       "  var inline_js = [\n",
       "    function(Bokeh) {\n",
       "      Bokeh.set_log_level(\"info\");\n",
       "    },\n",
       "    \n",
       "    function(Bokeh) {\n",
       "      \n",
       "    },\n",
       "    \n",
       "    function(Bokeh) {\n",
       "      \n",
       "      document.getElementById(\"29ff47fd-37ca-4dd7-90ec-fb8ae3e8361f\").textContent = \"BokehJS is loading...\";\n",
       "    },\n",
       "    function(Bokeh) {\n",
       "      console.log(\"Bokeh: injecting CSS: https://cdn.pydata.org/bokeh/release/bokeh-0.12.6.min.css\");\n",
       "      Bokeh.embed.inject_css(\"https://cdn.pydata.org/bokeh/release/bokeh-0.12.6.min.css\");\n",
       "      console.log(\"Bokeh: injecting CSS: https://cdn.pydata.org/bokeh/release/bokeh-widgets-0.12.6.min.css\");\n",
       "      Bokeh.embed.inject_css(\"https://cdn.pydata.org/bokeh/release/bokeh-widgets-0.12.6.min.css\");\n",
       "    }\n",
       "  ];\n",
       "\n",
       "  function run_inline_js() {\n",
       "    \n",
       "    if ((window.Bokeh !== undefined) || (force === true)) {\n",
       "      for (var i = 0; i < inline_js.length; i++) {\n",
       "        inline_js[i](window.Bokeh);\n",
       "      }if (force === true) {\n",
       "        display_loaded();\n",
       "      }} else if (Date.now() < window._bokeh_timeout) {\n",
       "      setTimeout(run_inline_js, 100);\n",
       "    } else if (!window._bokeh_failed_load) {\n",
       "      console.log(\"Bokeh: BokehJS failed to load within specified timeout.\");\n",
       "      window._bokeh_failed_load = true;\n",
       "    } else if (force !== true) {\n",
       "      var cell = $(document.getElementById(\"29ff47fd-37ca-4dd7-90ec-fb8ae3e8361f\")).parents('.cell').data().cell;\n",
       "      cell.output_area.append_execute_result(NB_LOAD_WARNING)\n",
       "    }\n",
       "\n",
       "  }\n",
       "\n",
       "  if (window._bokeh_is_loading === 0) {\n",
       "    console.log(\"Bokeh: BokehJS loaded, going straight to plotting\");\n",
       "    run_inline_js();\n",
       "  } else {\n",
       "    load_libs(js_urls, function() {\n",
       "      console.log(\"Bokeh: BokehJS plotting callback run at\", now());\n",
       "      run_inline_js();\n",
       "    });\n",
       "  }\n",
       "}(this));"
      ]
     },
     "metadata": {},
     "output_type": "display_data"
    }
   ],
   "source": [
    "import numpy as np\n",
    "import re\n",
    "import random\n",
    "\n",
    "import tensorflow as tf\n",
    "\n",
    "import Functions as fn\n",
    "from DS import DS\n",
    "from Set import pool\n",
    "from Iterator import Iterator"
   ]
  },
  {
   "cell_type": "code",
   "execution_count": 2,
   "metadata": {
    "collapsed": true
   },
   "outputs": [],
   "source": [
    "#Dataset = fn.first_time_load()\n",
    "#Dataset.writeTexts()\n",
    "#Dataset.writeLabels()"
   ]
  },
  {
   "cell_type": "code",
   "execution_count": 3,
   "metadata": {},
   "outputs": [
    {
     "name": "stdout",
     "output_type": "stream",
     "text": [
      "Texts loaded\n",
      "Labels loaded\n"
     ]
    }
   ],
   "source": [
    "Dataset = pool()\n",
    "Dataset.loadTexts()\n",
    "Dataset.loadLabels()"
   ]
  },
  {
   "cell_type": "code",
   "execution_count": 4,
   "metadata": {
    "scrolled": false
   },
   "outputs": [
    {
     "name": "stdout",
     "output_type": "stream",
     "text": [
      "Number of Texts:  4605\n",
      "Number of 2007 Smoking Challenge texts:  926\n",
      "Number of 2008 ObesityChallenge texts:  1237\n",
      "Number of 2009 Medication Challenge texts:  1249\n",
      "Number of 2010 Relations Challenge texts:  694\n",
      "Number of 2011 Coreference Challenge texts:  188\n",
      "Number of 2012 Temporal Relations Challenge texts:  311\n",
      "Number of Train Texts:  2859\n",
      "Number of Test Texts:  1746\n",
      "Number of Labeled Texts:  258\n",
      "Number of Initially Labeled Texts:  10\n",
      "Number of Competitor Labeled Texts Texts:  248\n"
     ]
    }
   ],
   "source": [
    "print('Number of Texts: ', Dataset.size)\n",
    "print('Number of 2007 Smoking Challenge texts: ', Dataset.numberOf(challenge='2007 Smoking Challenge'))\n",
    "print('Number of 2008 ObesityChallenge texts: ', Dataset.numberOf(challenge='2008 Obesity Challenge'))\n",
    "print('Number of 2009 Medication Challenge texts: ', Dataset.numberOf(challenge='2009 Medication Challenge'))\n",
    "print('Number of 2010 Relations Challenge texts: ', Dataset.numberOf(challenge='2010 Relations Challenge'))\n",
    "print('Number of 2011 Coreference Challenge texts: ', Dataset.numberOf(challenge='2011 Coreference Challenge'))\n",
    "print('Number of 2012 Temporal Relations Challenge texts: ', Dataset.numberOf(challenge='2012 Temporal Relations Challenge'))\n",
    "print('Number of Train Texts: ', Dataset.numberOf(stage='train'))\n",
    "print('Number of Test Texts: ', Dataset.numberOf(stage='test'))\n",
    "print('Number of Labeled Texts: ', Dataset.numberOf(labelled='yes'))\n",
    "print('Number of Initially Labeled Texts: ', Dataset.numberOf(labelled='yes', label_type='train'))\n",
    "print('Number of Competitor Labeled Texts Texts: ', Dataset.numberOf(labelled='yes', label_type='test'))"
   ]
  },
  {
   "cell_type": "code",
   "execution_count": 5,
   "metadata": {},
   "outputs": [],
   "source": [
    "Dataset.processForEmbedding()\n",
    "sentences = Dataset.getSentences()"
   ]
  },
  {
   "cell_type": "code",
   "execution_count": 6,
   "metadata": {},
   "outputs": [
    {
     "name": "stdout",
     "output_type": "stream",
     "text": [
      "Number of: m=928, do=119, mo=76, f=79, du=80, r=482\n"
     ]
    }
   ],
   "source": [
    "medications, dosages, modes, frequencies, durations, reasons = fn.label_words(Dataset)"
   ]
  },
  {
   "cell_type": "code",
   "execution_count": 7,
   "metadata": {},
   "outputs": [
    {
     "name": "stderr",
     "output_type": "stream",
     "text": [
      "C:\\Users\\Luka\\Anaconda3\\envs\\tensorflow\\lib\\site-packages\\gensim\\utils.py:860: UserWarning: detected Windows; aliasing chunkize to chunkize_serial\n",
      "  warnings.warn(\"detected Windows; aliasing chunkize to chunkize_serial\")\n"
     ]
    }
   ],
   "source": [
    "from gensim.models import Word2Vec"
   ]
  },
  {
   "cell_type": "code",
   "execution_count": 8,
   "metadata": {
    "collapsed": true
   },
   "outputs": [],
   "source": [
    "model_I2B2 = Word2Vec(sentences, min_count=1, size=100)"
   ]
  },
  {
   "cell_type": "code",
   "execution_count": 9,
   "metadata": {},
   "outputs": [],
   "source": [
    "#model_I2B2.most_similar(\"doctor\")"
   ]
  },
  {
   "cell_type": "code",
   "execution_count": 10,
   "metadata": {},
   "outputs": [
    {
     "data": {
      "text/html": [
       "\n",
       "\n",
       "    <div class=\"bk-root\">\n",
       "        <div class=\"bk-plotdiv\" id=\"86c64fb7-41fa-4196-b96b-a2449cffcb26\"></div>\n",
       "    </div>\n",
       "<script type=\"text/javascript\">\n",
       "  \n",
       "  (function(global) {\n",
       "    function now() {\n",
       "      return new Date();\n",
       "    }\n",
       "  \n",
       "    var force = false;\n",
       "  \n",
       "    if (typeof (window._bokeh_onload_callbacks) === \"undefined\" || force === true) {\n",
       "      window._bokeh_onload_callbacks = [];\n",
       "      window._bokeh_is_loading = undefined;\n",
       "    }\n",
       "  \n",
       "  \n",
       "    \n",
       "    if (typeof (window._bokeh_timeout) === \"undefined\" || force === true) {\n",
       "      window._bokeh_timeout = Date.now() + 0;\n",
       "      window._bokeh_failed_load = false;\n",
       "    }\n",
       "  \n",
       "    var NB_LOAD_WARNING = {'data': {'text/html':\n",
       "       \"<div style='background-color: #fdd'>\\n\"+\n",
       "       \"<p>\\n\"+\n",
       "       \"BokehJS does not appear to have successfully loaded. If loading BokehJS from CDN, this \\n\"+\n",
       "       \"may be due to a slow or bad network connection. Possible fixes:\\n\"+\n",
       "       \"</p>\\n\"+\n",
       "       \"<ul>\\n\"+\n",
       "       \"<li>re-rerun `output_notebook()` to attempt to load from CDN again, or</li>\\n\"+\n",
       "       \"<li>use INLINE resources instead, as so:</li>\\n\"+\n",
       "       \"</ul>\\n\"+\n",
       "       \"<code>\\n\"+\n",
       "       \"from bokeh.resources import INLINE\\n\"+\n",
       "       \"output_notebook(resources=INLINE)\\n\"+\n",
       "       \"</code>\\n\"+\n",
       "       \"</div>\"}};\n",
       "  \n",
       "    function display_loaded() {\n",
       "      if (window.Bokeh !== undefined) {\n",
       "        var el = document.getElementById(\"86c64fb7-41fa-4196-b96b-a2449cffcb26\");\n",
       "        el.textContent = \"BokehJS \" + Bokeh.version + \" successfully loaded.\";\n",
       "      } else if (Date.now() < window._bokeh_timeout) {\n",
       "        setTimeout(display_loaded, 100)\n",
       "      }\n",
       "    }\n",
       "  \n",
       "    function run_callbacks() {\n",
       "      try {\n",
       "        window._bokeh_onload_callbacks.forEach(function(callback) { callback() });\n",
       "      }\n",
       "      finally {\n",
       "        delete window._bokeh_onload_callbacks\n",
       "      }\n",
       "      console.info(\"Bokeh: all callbacks have finished\");\n",
       "    }\n",
       "  \n",
       "    function load_libs(js_urls, callback) {\n",
       "      window._bokeh_onload_callbacks.push(callback);\n",
       "      if (window._bokeh_is_loading > 0) {\n",
       "        console.log(\"Bokeh: BokehJS is being loaded, scheduling callback at\", now());\n",
       "        return null;\n",
       "      }\n",
       "      if (js_urls == null || js_urls.length === 0) {\n",
       "        run_callbacks();\n",
       "        return null;\n",
       "      }\n",
       "      console.log(\"Bokeh: BokehJS not loaded, scheduling load and callback at\", now());\n",
       "      window._bokeh_is_loading = js_urls.length;\n",
       "      for (var i = 0; i < js_urls.length; i++) {\n",
       "        var url = js_urls[i];\n",
       "        var s = document.createElement('script');\n",
       "        s.src = url;\n",
       "        s.async = false;\n",
       "        s.onreadystatechange = s.onload = function() {\n",
       "          window._bokeh_is_loading--;\n",
       "          if (window._bokeh_is_loading === 0) {\n",
       "            console.log(\"Bokeh: all BokehJS libraries loaded\");\n",
       "            run_callbacks()\n",
       "          }\n",
       "        };\n",
       "        s.onerror = function() {\n",
       "          console.warn(\"failed to load library \" + url);\n",
       "        };\n",
       "        console.log(\"Bokeh: injecting script tag for BokehJS library: \", url);\n",
       "        document.getElementsByTagName(\"head\")[0].appendChild(s);\n",
       "      }\n",
       "    };var element = document.getElementById(\"86c64fb7-41fa-4196-b96b-a2449cffcb26\");\n",
       "    if (element == null) {\n",
       "      console.log(\"Bokeh: ERROR: autoload.js configured with elementid '86c64fb7-41fa-4196-b96b-a2449cffcb26' but no matching script tag was found. \")\n",
       "      return false;\n",
       "    }\n",
       "  \n",
       "    var js_urls = [];\n",
       "  \n",
       "    var inline_js = [\n",
       "      function(Bokeh) {\n",
       "        (function() {\n",
       "          var fn = function() {\n",
       "            var docs_json = {\"d9a384de-c0d6-4244-aab5-ab2990cbc15b\":{\"roots\":{\"references\":[{\"attributes\":{},\"id\":\"61b21fa8-ced9-4044-b98f-363251d903cf\",\"type\":\"LinearScale\"},{\"attributes\":{\"plot\":{\"id\":\"d113d213-fdc6-4e8f-bfe8-003b9414533c\",\"subtype\":\"Figure\",\"type\":\"Plot\"}},\"id\":\"a5bff224-5f80-49cd-936b-830fb77c01fb\",\"type\":\"SaveTool\"},{\"attributes\":{},\"id\":\"8abc02b2-2679-4404-8fb5-4c72d1ea5f11\",\"type\":\"ToolEvents\"},{\"attributes\":{\"plot\":{\"id\":\"d113d213-fdc6-4e8f-bfe8-003b9414533c\",\"subtype\":\"Figure\",\"type\":\"Plot\"},\"source\":{\"id\":\"ba425142-8325-4004-a44f-574ab50b8b1f\",\"type\":\"ColumnDataSource\"},\"text\":{\"field\":\"names\"},\"text_align\":\"center\",\"text_color\":{\"value\":\"#555555\"},\"text_font_size\":{\"value\":\"8pt\"},\"x\":{\"field\":\"x1\"},\"y\":{\"field\":\"x2\"},\"y_offset\":{\"value\":6}},\"id\":\"21343e17-9c8e-42f6-a2bc-c8045bee8136\",\"type\":\"LabelSet\"},{\"attributes\":{\"formatter\":{\"id\":\"dc8d8c66-3b55-4521-b444-971b80fcf1d5\",\"type\":\"BasicTickFormatter\"},\"plot\":{\"id\":\"d113d213-fdc6-4e8f-bfe8-003b9414533c\",\"subtype\":\"Figure\",\"type\":\"Plot\"},\"ticker\":{\"id\":\"deec9767-c6ad-42c0-922c-97152fb07c92\",\"type\":\"BasicTicker\"}},\"id\":\"1a100521-cba0-4abd-b4db-aed1ea609e2c\",\"type\":\"LinearAxis\"},{\"attributes\":{},\"id\":\"46e6828f-05c6-458d-954b-3098101a934b\",\"type\":\"BasicTicker\"},{\"attributes\":{\"plot\":{\"id\":\"d113d213-fdc6-4e8f-bfe8-003b9414533c\",\"subtype\":\"Figure\",\"type\":\"Plot\"}},\"id\":\"95ba3829-2436-449a-9e7b-c42df34a1756\",\"type\":\"ResetTool\"},{\"attributes\":{},\"id\":\"67fbae0c-3eb3-47e5-8dd3-5820084da8a4\",\"type\":\"BasicTickFormatter\"},{\"attributes\":{\"plot\":{\"id\":\"d113d213-fdc6-4e8f-bfe8-003b9414533c\",\"subtype\":\"Figure\",\"type\":\"Plot\"},\"ticker\":{\"id\":\"46e6828f-05c6-458d-954b-3098101a934b\",\"type\":\"BasicTicker\"}},\"id\":\"d84bb144-092f-4967-9d23-ba6356f105b3\",\"type\":\"Grid\"},{\"attributes\":{\"dimension\":1,\"plot\":{\"id\":\"d113d213-fdc6-4e8f-bfe8-003b9414533c\",\"subtype\":\"Figure\",\"type\":\"Plot\"},\"ticker\":{\"id\":\"deec9767-c6ad-42c0-922c-97152fb07c92\",\"type\":\"BasicTicker\"}},\"id\":\"73043242-183b-4a8d-934a-ea58d3f55a60\",\"type\":\"Grid\"},{\"attributes\":{},\"id\":\"dc8d8c66-3b55-4521-b444-971b80fcf1d5\",\"type\":\"BasicTickFormatter\"},{\"attributes\":{\"callback\":null},\"id\":\"ea24c8b1-4048-4e2e-9a2d-b891ea733121\",\"type\":\"DataRange1d\"},{\"attributes\":{\"callback\":null},\"id\":\"8907602b-74bd-487d-87d6-561aad97a04d\",\"type\":\"DataRange1d\"},{\"attributes\":{\"data_source\":{\"id\":\"ba425142-8325-4004-a44f-574ab50b8b1f\",\"type\":\"ColumnDataSource\"},\"glyph\":{\"id\":\"bca83235-04fa-494c-b60d-e24393800e9a\",\"type\":\"Circle\"},\"hover_glyph\":null,\"muted_glyph\":null,\"nonselection_glyph\":{\"id\":\"d0147cd4-2b9a-4dad-aab7-337fe6ce8efd\",\"type\":\"Circle\"},\"selection_glyph\":null},\"id\":\"dd14ebab-9f0b-4e58-84fb-8da4df6d7f3b\",\"type\":\"GlyphRenderer\"},{\"attributes\":{\"plot\":null,\"text\":\"T-SNE for top 1000 words and labels\"},\"id\":\"934656de-810f-4fe1-8abc-db97f28b84e2\",\"type\":\"Title\"},{\"attributes\":{\"formatter\":{\"id\":\"67fbae0c-3eb3-47e5-8dd3-5820084da8a4\",\"type\":\"BasicTickFormatter\"},\"plot\":{\"id\":\"d113d213-fdc6-4e8f-bfe8-003b9414533c\",\"subtype\":\"Figure\",\"type\":\"Plot\"},\"ticker\":{\"id\":\"46e6828f-05c6-458d-954b-3098101a934b\",\"type\":\"BasicTicker\"}},\"id\":\"0ca167a4-c21f-49d8-b3ec-2df1f444e014\",\"type\":\"LinearAxis\"},{\"attributes\":{\"fill_color\":{\"field\":\"coloring\"},\"line_color\":{\"field\":\"coloring\"},\"size\":{\"units\":\"screen\",\"value\":8},\"x\":{\"field\":\"x1\"},\"y\":{\"field\":\"x2\"}},\"id\":\"bca83235-04fa-494c-b60d-e24393800e9a\",\"type\":\"Circle\"},{\"attributes\":{},\"id\":\"deec9767-c6ad-42c0-922c-97152fb07c92\",\"type\":\"BasicTicker\"},{\"attributes\":{\"callback\":null,\"column_names\":[\"x2\",\"coloring\",\"names\",\"x1\"],\"data\":{\"coloring\":[\"red\",\"red\",\"red\",\"red\",\"red\",\"red\",\"red\",\"red\",\"red\",\"red\",\"red\",\"red\",\"red\",\"red\",\"red\",\"red\",\"red\",\"red\",\"red\",\"red\",\"red\",\"red\",\"red\",\"red\",\"red\",\"red\",\"red\",\"red\",\"red\",\"red\",\"red\",\"red\",\"red\",\"red\",\"red\",\"red\",\"red\",\"red\",\"red\",\"red\",\"red\",\"red\",\"red\",\"red\",\"red\",\"red\",\"red\",\"red\",\"red\",\"red\",\"red\",\"red\",\"red\",\"red\",\"red\",\"red\",\"red\",\"red\",\"red\",\"red\",\"red\",\"red\",\"red\",\"red\",\"red\",\"red\",\"red\",\"red\",\"red\",\"red\",\"red\",\"red\",\"red\",\"red\",\"red\",\"red\",\"red\",\"red\",\"red\",\"red\",\"red\",\"red\",\"red\",\"red\",\"red\",\"red\",\"red\",\"red\",\"red\",\"red\",\"red\",\"red\",\"red\",\"red\",\"red\",\"red\",\"red\",\"red\",\"red\",\"red\",\"red\",\"red\",\"red\",\"red\",\"red\",\"red\",\"red\",\"red\",\"red\",\"red\",\"red\",\"red\",\"red\",\"red\",\"red\",\"red\",\"red\",\"red\",\"red\",\"red\",\"red\",\"red\",\"red\",\"red\",\"red\",\"red\",\"red\",\"red\",\"red\",\"red\",\"red\",\"red\",\"red\",\"red\",\"red\",\"red\",\"red\",\"red\",\"red\",\"red\",\"red\",\"red\",\"red\",\"red\",\"red\",\"red\",\"red\",\"red\",\"red\",\"red\",\"red\",\"red\",\"red\",\"red\",\"red\",\"red\",\"red\",\"red\",\"red\",\"red\",\"red\",\"red\",\"red\",\"red\",\"red\",\"red\",\"red\",\"red\",\"red\",\"red\",\"red\",\"red\",\"red\",\"red\",\"red\",\"red\",\"red\",\"red\",\"red\",\"red\",\"red\",\"red\",\"red\",\"red\",\"red\",\"red\",\"red\",\"red\",\"red\",\"red\",\"red\",\"red\",\"red\",\"red\",\"red\",\"red\",\"red\",\"red\",\"red\",\"red\",\"red\",\"red\",\"red\",\"red\",\"red\",\"red\",\"red\",\"red\",\"red\",\"red\",\"red\",\"red\",\"red\",\"red\",\"red\",\"red\",\"red\",\"red\",\"red\",\"red\",\"red\",\"red\",\"red\",\"red\",\"red\",\"red\",\"red\",\"red\",\"red\",\"red\",\"red\",\"red\",\"red\",\"red\",\"red\",\"red\",\"red\",\"red\",\"red\",\"red\",\"red\",\"red\",\"red\",\"red\",\"red\",\"red\",\"red\",\"red\",\"red\",\"red\",\"red\",\"red\",\"red\",\"red\",\"red\",\"red\",\"red\",\"red\",\"red\",\"red\",\"red\",\"red\",\"red\",\"red\",\"red\",\"red\",\"red\",\"red\",\"red\",\"red\",\"red\",\"red\",\"red\",\"red\",\"red\",\"red\",\"red\",\"red\",\"red\",\"red\",\"red\",\"red\",\"red\",\"red\",\"red\",\"red\",\"red\",\"red\",\"red\",\"red\",\"red\",\"red\",\"red\",\"red\",\"red\",\"red\",\"red\",\"red\",\"red\",\"red\",\"red\",\"red\",\"red\",\"red\",\"red\",\"red\",\"red\",\"red\",\"red\",\"red\",\"red\",\"red\",\"red\",\"red\",\"red\",\"red\",\"red\",\"red\",\"red\",\"red\",\"red\",\"red\",\"red\",\"red\",\"red\",\"red\",\"red\",\"red\",\"red\",\"red\",\"red\",\"red\",\"red\",\"red\",\"red\",\"red\",\"red\",\"red\",\"red\",\"red\",\"red\",\"red\",\"red\",\"red\",\"red\",\"red\",\"red\",\"red\",\"red\",\"red\",\"red\",\"red\",\"red\",\"red\",\"red\",\"red\",\"red\",\"red\",\"red\",\"red\",\"red\",\"red\",\"red\",\"red\",\"red\",\"red\",\"red\",\"red\",\"red\",\"red\",\"red\",\"red\",\"red\",\"red\",\"red\",\"red\",\"red\",\"red\",\"red\",\"red\",\"red\",\"red\",\"red\",\"red\",\"red\",\"red\",\"red\",\"red\",\"red\",\"red\",\"red\",\"red\",\"red\",\"red\",\"red\",\"red\",\"red\",\"red\",\"red\",\"red\",\"red\",\"red\",\"red\",\"red\",\"red\",\"red\",\"red\",\"red\",\"red\",\"red\",\"red\",\"red\",\"red\",\"red\",\"red\",\"red\",\"red\",\"red\",\"red\",\"red\",\"red\",\"red\",\"red\",\"red\",\"red\",\"red\",\"red\",\"red\",\"red\",\"red\",\"red\",\"red\",\"red\",\"red\",\"red\",\"red\",\"red\",\"red\",\"red\",\"red\",\"red\",\"red\",\"red\",\"red\",\"red\",\"red\",\"red\",\"red\",\"red\",\"red\",\"red\",\"red\",\"red\",\"red\",\"red\",\"red\",\"red\",\"red\",\"red\",\"red\",\"red\",\"red\",\"red\",\"red\",\"red\",\"red\",\"red\",\"red\",\"red\",\"red\",\"red\",\"red\",\"red\",\"red\",\"red\",\"red\",\"red\",\"red\",\"red\",\"red\",\"red\",\"red\",\"red\",\"red\",\"red\",\"red\",\"red\",\"red\",\"red\",\"red\",\"red\",\"red\",\"red\",\"red\",\"red\",\"red\",\"red\",\"red\",\"red\",\"red\",\"red\",\"red\",\"red\",\"red\",\"red\",\"red\",\"red\",\"red\",\"red\",\"red\",\"red\",\"red\",\"red\",\"red\",\"red\",\"red\",\"red\",\"red\",\"red\",\"red\",\"red\",\"red\",\"red\",\"red\",\"red\",\"red\",\"red\",\"red\",\"red\",\"red\",\"red\",\"red\",\"red\",\"red\",\"red\",\"red\",\"red\",\"red\",\"red\",\"red\",\"red\",\"red\",\"red\",\"red\",\"red\",\"red\",\"red\",\"red\",\"red\",\"red\",\"red\",\"red\",\"red\",\"red\",\"red\",\"red\",\"red\",\"red\",\"red\",\"red\",\"red\",\"red\",\"red\",\"red\",\"red\",\"red\",\"red\",\"red\",\"red\",\"red\",\"red\",\"red\",\"red\",\"red\",\"red\",\"red\",\"red\",\"red\",\"red\",\"red\",\"red\",\"red\",\"red\",\"red\",\"red\",\"red\",\"red\",\"red\",\"red\",\"red\",\"red\",\"red\",\"red\",\"red\",\"red\",\"red\",\"red\",\"red\",\"red\",\"red\",\"red\",\"red\",\"red\",\"red\",\"red\",\"red\",\"red\",\"red\",\"red\",\"red\",\"red\",\"red\",\"red\",\"red\",\"red\",\"red\",\"red\",\"red\",\"red\",\"red\",\"red\",\"red\",\"red\",\"red\",\"red\",\"red\",\"red\",\"red\",\"red\",\"red\",\"red\",\"red\",\"red\",\"red\",\"red\",\"red\",\"red\",\"red\",\"red\",\"red\",\"red\",\"red\",\"red\",\"red\",\"red\",\"red\",\"red\",\"red\",\"red\",\"red\",\"red\",\"red\",\"red\",\"red\",\"red\",\"red\",\"red\",\"red\",\"red\",\"red\",\"red\",\"red\",\"red\",\"red\",\"red\",\"red\",\"red\",\"red\",\"red\",\"red\",\"red\",\"red\",\"red\",\"red\",\"red\",\"red\",\"red\",\"red\",\"red\",\"red\",\"red\",\"red\",\"red\",\"red\",\"red\",\"red\",\"red\",\"red\",\"red\",\"red\",\"red\",\"red\",\"red\",\"red\",\"red\",\"red\",\"red\",\"red\",\"red\",\"red\",\"red\",\"red\",\"red\",\"red\",\"red\",\"red\",\"red\",\"red\",\"red\",\"red\",\"red\",\"red\",\"red\",\"red\",\"red\",\"red\",\"red\",\"red\",\"red\",\"red\",\"red\",\"red\",\"red\",\"red\",\"red\",\"red\",\"red\",\"red\",\"red\",\"red\",\"red\",\"red\",\"red\",\"red\",\"red\",\"red\",\"red\",\"red\",\"red\",\"red\",\"red\",\"red\",\"red\",\"red\",\"red\",\"red\",\"red\",\"red\",\"red\",\"red\",\"red\",\"red\",\"red\",\"red\",\"red\",\"red\",\"red\",\"red\",\"red\",\"red\",\"red\",\"red\",\"red\",\"red\",\"red\",\"red\",\"red\",\"red\",\"red\",\"red\",\"red\",\"red\",\"red\",\"red\",\"red\",\"red\",\"red\",\"red\",\"red\",\"red\",\"red\",\"red\",\"red\",\"red\",\"red\",\"red\",\"red\",\"red\",\"red\",\"red\",\"red\",\"red\",\"red\",\"red\",\"red\",\"red\",\"red\",\"red\",\"red\",\"red\",\"red\",\"red\",\"red\",\"red\",\"red\",\"red\",\"red\",\"red\",\"red\",\"red\",\"red\",\"red\",\"red\",\"red\",\"red\",\"red\",\"red\",\"red\",\"red\",\"red\",\"red\",\"red\",\"red\",\"red\",\"red\",\"red\",\"red\",\"red\",\"red\",\"red\",\"red\",\"red\",\"red\",\"red\",\"red\",\"red\",\"red\",\"red\",\"red\",\"red\",\"red\",\"red\",\"red\",\"red\",\"red\",\"red\",\"red\",\"red\",\"red\",\"red\",\"red\",\"red\",\"red\",\"red\",\"red\",\"red\",\"red\",\"red\",\"red\",\"red\",\"red\",\"red\",\"red\",\"red\",\"red\",\"red\",\"red\",\"red\",\"red\",\"red\",\"red\",\"red\",\"red\",\"red\",\"red\",\"red\",\"red\",\"red\",\"red\",\"red\",\"red\",\"red\",\"red\",\"red\",\"red\",\"red\",\"red\",\"red\",\"red\",\"red\",\"red\",\"red\",\"red\",\"red\",\"red\",\"red\",\"red\",\"red\",\"red\",\"red\",\"red\",\"red\",\"red\",\"red\",\"red\",\"red\",\"red\",\"red\",\"red\",\"red\",\"red\",\"red\",\"red\",\"red\",\"red\",\"red\",\"red\",\"red\",\"red\",\"red\",\"red\",\"red\",\"red\",\"red\",\"red\",\"red\",\"red\",\"red\",\"green\",\"green\",\"green\",\"green\",\"green\",\"green\",\"green\",\"green\",\"green\",\"green\",\"green\",\"green\",\"green\",\"green\",\"green\",\"green\",\"green\",\"green\",\"green\",\"green\",\"green\",\"green\",\"green\",\"green\",\"green\",\"green\",\"green\",\"green\",\"green\",\"green\",\"green\",\"green\",\"green\",\"green\",\"green\",\"green\",\"green\",\"green\",\"green\",\"green\",\"green\",\"green\",\"green\",\"green\",\"green\",\"green\",\"green\",\"green\",\"green\",\"green\",\"green\",\"green\",\"green\",\"green\",\"green\",\"green\",\"green\",\"green\",\"green\",\"green\",\"green\",\"green\",\"green\",\"green\",\"green\",\"green\",\"green\",\"green\",\"green\",\"green\",\"green\",\"green\",\"green\",\"green\",\"green\",\"green\",\"green\",\"green\",\"green\",\"green\",\"green\",\"green\",\"green\",\"green\",\"green\",\"green\",\"green\",\"green\",\"green\",\"green\",\"green\",\"green\",\"green\",\"green\",\"green\",\"green\",\"green\",\"green\",\"green\",\"green\",\"green\",\"green\",\"green\",\"green\",\"green\",\"green\",\"green\",\"green\",\"green\",\"green\",\"green\",\"green\",\"green\",\"green\",\"green\",\"green\",\"green\",\"green\",\"green\",\"green\",\"green\",\"green\",\"green\",\"green\",\"green\",\"green\",\"green\",\"green\",\"green\",\"green\",\"green\",\"green\",\"green\",\"green\",\"green\",\"green\",\"green\",\"green\",\"green\",\"green\",\"green\",\"green\",\"green\",\"green\",\"green\",\"green\",\"green\",\"green\",\"green\",\"green\",\"green\",\"green\",\"green\",\"green\",\"green\",\"green\",\"green\",\"green\",\"green\",\"green\",\"green\",\"green\",\"green\",\"green\",\"green\",\"green\",\"green\",\"green\",\"green\",\"green\",\"green\",\"green\",\"green\",\"green\",\"green\",\"green\",\"green\",\"green\",\"green\",\"green\",\"green\",\"green\",\"green\",\"green\",\"green\",\"green\",\"green\",\"green\",\"green\",\"green\",\"green\",\"green\",\"green\",\"green\",\"green\",\"green\",\"green\",\"green\",\"green\",\"green\",\"green\",\"green\",\"green\",\"green\",\"green\",\"green\",\"green\",\"green\",\"green\",\"green\",\"green\",\"green\",\"green\",\"green\",\"green\",\"green\",\"green\",\"green\",\"green\",\"green\",\"green\",\"green\",\"green\",\"green\",\"green\",\"green\",\"green\",\"green\",\"green\",\"green\",\"green\",\"green\",\"green\",\"green\",\"green\",\"green\",\"green\",\"green\",\"green\",\"green\",\"green\",\"green\",\"green\",\"green\",\"green\",\"green\",\"green\",\"green\",\"green\",\"green\",\"green\",\"green\",\"green\",\"green\",\"green\",\"green\",\"green\",\"green\",\"green\",\"green\",\"green\",\"green\",\"green\",\"green\",\"green\",\"green\",\"green\",\"green\",\"green\",\"green\",\"green\",\"green\",\"green\",\"green\",\"green\",\"green\",\"green\",\"green\",\"green\",\"green\",\"green\",\"green\",\"green\",\"green\",\"green\",\"green\",\"green\",\"green\",\"green\",\"green\",\"green\",\"green\",\"green\",\"green\",\"green\",\"green\",\"green\",\"green\",\"green\",\"green\",\"green\",\"green\",\"green\",\"green\",\"green\",\"green\",\"green\",\"green\",\"green\",\"green\",\"green\",\"green\",\"green\",\"green\",\"green\",\"green\",\"green\",\"green\",\"green\",\"green\",\"green\",\"green\",\"green\",\"green\",\"green\",\"green\",\"green\",\"green\",\"green\",\"green\",\"green\",\"green\",\"green\",\"green\",\"green\",\"green\",\"green\",\"green\",\"green\",\"green\",\"green\",\"green\",\"green\",\"green\",\"green\",\"green\",\"green\",\"green\",\"green\",\"green\",\"green\",\"green\",\"green\",\"green\",\"green\",\"green\",\"green\",\"green\",\"green\",\"green\",\"green\",\"green\",\"green\",\"green\",\"green\",\"green\",\"green\",\"green\",\"green\",\"green\",\"green\",\"green\",\"green\",\"green\",\"green\",\"green\",\"green\",\"green\",\"green\",\"green\",\"green\",\"green\",\"green\",\"green\",\"green\",\"green\",\"green\",\"green\",\"green\",\"green\",\"green\",\"green\",\"green\",\"green\",\"green\",\"green\",\"green\",\"green\",\"green\",\"green\",\"green\",\"green\",\"green\",\"green\",\"green\",\"green\",\"green\",\"green\",\"green\",\"green\",\"green\",\"green\",\"green\",\"green\",\"green\",\"green\",\"green\",\"green\",\"green\",\"green\",\"green\",\"green\",\"green\",\"green\",\"green\",\"green\",\"green\",\"green\",\"green\",\"green\",\"green\",\"green\",\"green\",\"green\",\"green\",\"green\",\"green\",\"green\",\"green\",\"green\",\"green\",\"green\",\"green\",\"green\",\"green\",\"green\",\"green\",\"green\",\"green\",\"green\",\"green\",\"green\",\"green\",\"green\",\"green\",\"green\",\"green\",\"green\",\"green\",\"green\",\"green\",\"green\",\"green\",\"green\",\"green\",\"green\",\"green\",\"green\",\"green\",\"green\",\"green\",\"green\",\"green\",\"green\",\"green\",\"green\",\"green\",\"green\",\"green\",\"green\",\"green\",\"green\",\"blue\",\"blue\",\"blue\",\"blue\",\"blue\",\"blue\",\"blue\",\"blue\",\"blue\",\"blue\",\"blue\",\"blue\",\"blue\",\"blue\",\"blue\",\"blue\",\"blue\",\"blue\",\"blue\",\"blue\",\"blue\",\"blue\",\"blue\",\"blue\",\"blue\",\"blue\",\"blue\",\"blue\",\"blue\",\"blue\",\"blue\",\"blue\",\"blue\",\"blue\",\"blue\",\"blue\",\"blue\",\"blue\",\"blue\",\"blue\",\"blue\",\"blue\",\"blue\",\"blue\",\"blue\",\"blue\",\"blue\",\"blue\",\"blue\",\"blue\",\"blue\",\"blue\",\"blue\",\"blue\",\"blue\",\"blue\",\"blue\",\"blue\",\"blue\",\"blue\",\"blue\",\"blue\",\"blue\",\"blue\",\"blue\",\"blue\",\"blue\",\"blue\",\"blue\",\"blue\",\"blue\",\"blue\",\"blue\",\"blue\",\"blue\",\"blue\",\"blue\",\"blue\",\"blue\",\"blue\",\"blue\",\"blue\",\"blue\",\"blue\",\"blue\",\"blue\",\"blue\",\"blue\",\"blue\",\"blue\",\"blue\",\"blue\",\"blue\",\"blue\",\"blue\",\"blue\",\"blue\",\"blue\",\"blue\",\"blue\",\"blue\",\"blue\",\"blue\",\"blue\",\"blue\",\"blue\",\"blue\",\"blue\",\"blue\",\"blue\",\"blue\",\"blue\",\"blue\",\"blue\",\"blue\",\"blue\",\"blue\",\"blue\",\"blue\",\"blue\",\"blue\",\"blue\",\"blue\",\"blue\",\"blue\",\"blue\",\"blue\",\"blue\",\"blue\",\"blue\",\"blue\",\"blue\",\"blue\",\"blue\",\"blue\",\"blue\",\"blue\",\"blue\",\"blue\",\"blue\",\"blue\",\"blue\",\"blue\",\"blue\",\"blue\",\"blue\",\"blue\",\"blue\",\"blue\",\"blue\",\"blue\",\"blue\",\"blue\",\"blue\",\"blue\",\"blue\",\"blue\",\"blue\",\"blue\",\"blue\",\"blue\",\"blue\",\"blue\",\"blue\",\"blue\",\"blue\",\"blue\",\"blue\",\"blue\",\"blue\",\"blue\",\"blue\",\"blue\",\"blue\",\"blue\",\"blue\",\"blue\",\"blue\",\"blue\",\"blue\",\"blue\",\"blue\",\"blue\",\"blue\",\"blue\",\"blue\",\"blue\",\"blue\",\"blue\",\"blue\",\"blue\",\"blue\",\"blue\",\"blue\",\"blue\",\"blue\",\"blue\",\"blue\",\"blue\",\"blue\",\"blue\",\"blue\",\"blue\",\"blue\",\"blue\",\"blue\",\"blue\",\"blue\",\"blue\",\"blue\",\"blue\",\"blue\",\"blue\",\"blue\",\"blue\",\"blue\",\"blue\",\"blue\",\"blue\",\"blue\",\"blue\",\"blue\",\"blue\",\"blue\",\"blue\",\"blue\",\"blue\",\"blue\",\"blue\",\"blue\",\"blue\",\"blue\",\"blue\",\"blue\",\"blue\",\"blue\",\"blue\",\"blue\",\"blue\",\"blue\",\"blue\",\"blue\",\"blue\",\"blue\",\"blue\",\"blue\",\"blue\",\"blue\",\"blue\",\"blue\",\"blue\",\"blue\",\"blue\",\"blue\",\"blue\",\"blue\",\"blue\",\"blue\",\"blue\",\"blue\",\"blue\",\"blue\",\"blue\",\"blue\",\"blue\",\"blue\",\"blue\",\"blue\",\"blue\",\"blue\",\"blue\",\"blue\",\"blue\",\"blue\",\"blue\",\"blue\",\"blue\",\"blue\",\"blue\",\"blue\",\"blue\",\"blue\",\"blue\",\"blue\",\"blue\",\"blue\",\"blue\",\"blue\",\"blue\",\"blue\",\"blue\",\"blue\",\"blue\",\"blue\",\"blue\",\"blue\",\"blue\",\"blue\",\"blue\",\"blue\",\"blue\",\"blue\",\"blue\",\"blue\",\"blue\",\"blue\",\"blue\",\"blue\",\"blue\",\"blue\",\"blue\",\"blue\",\"blue\",\"blue\",\"blue\",\"blue\",\"blue\",\"blue\",\"blue\",\"blue\",\"blue\",\"blue\",\"blue\",\"blue\",\"blue\",\"blue\",\"blue\",\"blue\",\"blue\",\"blue\",\"blue\",\"blue\",\"blue\",\"blue\",\"blue\",\"blue\",\"blue\",\"blue\",\"blue\",\"blue\",\"blue\",\"blue\",\"blue\",\"blue\",\"blue\",\"blue\",\"blue\",\"blue\",\"blue\",\"blue\",\"blue\",\"blue\",\"blue\",\"blue\",\"blue\",\"blue\",\"blue\",\"blue\",\"blue\",\"blue\",\"blue\",\"blue\",\"blue\",\"blue\",\"blue\",\"blue\",\"blue\",\"blue\",\"blue\",\"blue\",\"blue\",\"blue\",\"blue\",\"blue\",\"blue\",\"blue\",\"blue\",\"blue\",\"blue\",\"blue\",\"blue\",\"blue\",\"blue\",\"blue\",\"blue\",\"blue\",\"blue\",\"blue\",\"blue\",\"blue\",\"blue\",\"blue\",\"blue\",\"blue\",\"blue\",\"blue\",\"blue\",\"blue\",\"blue\",\"blue\",\"blue\",\"blue\",\"blue\",\"blue\",\"blue\",\"blue\",\"blue\",\"blue\",\"blue\",\"blue\",\"blue\",\"blue\",\"blue\",\"blue\",\"blue\",\"blue\",\"blue\",\"blue\",\"blue\",\"blue\",\"blue\",\"blue\",\"blue\",\"blue\",\"blue\",\"blue\",\"blue\",\"blue\",\"blue\",\"blue\",\"blue\",\"blue\",\"blue\",\"blue\",\"blue\",\"blue\",\"blue\",\"blue\",\"blue\",\"blue\",\"blue\",\"blue\",\"blue\",\"blue\",\"blue\",\"blue\",\"blue\",\"blue\",\"blue\",\"blue\",\"blue\",\"blue\",\"blue\",\"blue\",\"blue\",\"blue\",\"blue\",\"blue\",\"blue\",\"blue\",\"blue\",\"blue\",\"blue\",\"blue\",\"blue\",\"blue\",\"blue\",\"blue\",\"blue\",\"blue\",\"blue\",\"blue\",\"blue\",\"blue\",\"blue\",\"blue\",\"blue\",\"blue\",\"blue\",\"blue\",\"blue\",\"blue\",\"blue\",\"blue\",\"blue\",\"blue\",\"blue\",\"blue\",\"blue\",\"blue\",\"blue\",\"blue\",\"blue\",\"blue\",\"blue\",\"blue\",\"blue\",\"blue\",\"blue\",\"blue\",\"blue\",\"blue\",\"blue\",\"blue\",\"blue\",\"blue\",\"blue\",\"blue\",\"blue\",\"blue\",\"blue\",\"blue\",\"blue\",\"blue\",\"blue\",\"blue\",\"blue\",\"blue\",\"blue\",\"blue\",\"blue\",\"blue\",\"blue\",\"blue\",\"blue\",\"blue\",\"blue\",\"blue\",\"blue\",\"blue\",\"blue\",\"blue\",\"blue\",\"blue\",\"blue\",\"blue\",\"blue\",\"blue\",\"blue\",\"blue\",\"blue\",\"blue\",\"blue\",\"blue\",\"blue\",\"blue\",\"blue\",\"blue\",\"blue\",\"blue\",\"blue\",\"blue\",\"blue\",\"blue\",\"blue\",\"blue\",\"blue\",\"blue\",\"blue\",\"blue\",\"blue\",\"blue\",\"blue\",\"blue\",\"blue\",\"blue\",\"blue\",\"blue\",\"blue\",\"blue\",\"blue\",\"blue\",\"blue\",\"blue\",\"blue\",\"blue\",\"blue\",\"blue\",\"blue\",\"blue\",\"blue\",\"blue\",\"blue\",\"blue\",\"blue\",\"blue\",\"blue\",\"blue\",\"blue\",\"blue\",\"blue\",\"blue\",\"blue\",\"blue\",\"blue\",\"blue\",\"blue\",\"blue\",\"blue\",\"blue\",\"blue\",\"blue\",\"blue\",\"blue\",\"blue\",\"blue\",\"blue\",\"blue\",\"blue\",\"blue\",\"blue\",\"blue\",\"blue\",\"blue\",\"blue\",\"blue\",\"blue\",\"blue\",\"blue\",\"blue\",\"blue\",\"blue\",\"blue\",\"blue\",\"blue\",\"blue\",\"blue\",\"blue\",\"blue\",\"blue\",\"blue\",\"blue\",\"blue\",\"blue\",\"blue\",\"blue\",\"blue\",\"blue\",\"blue\",\"blue\",\"blue\",\"blue\",\"blue\",\"blue\",\"blue\",\"blue\",\"blue\",\"blue\",\"blue\",\"blue\",\"blue\",\"blue\",\"blue\",\"blue\",\"blue\",\"blue\",\"blue\",\"blue\",\"blue\",\"blue\",\"blue\",\"blue\",\"blue\",\"blue\",\"blue\",\"blue\",\"blue\",\"blue\",\"blue\",\"blue\",\"blue\",\"blue\",\"blue\",\"blue\",\"blue\",\"blue\",\"blue\",\"blue\",\"blue\",\"blue\",\"blue\",\"blue\",\"blue\",\"blue\",\"blue\",\"blue\",\"blue\",\"blue\",\"blue\",\"blue\",\"blue\",\"blue\",\"blue\",\"blue\",\"blue\",\"blue\",\"blue\",\"blue\",\"blue\",\"blue\",\"blue\",\"blue\",\"blue\",\"blue\",\"blue\",\"blue\",\"blue\",\"blue\",\"blue\",\"blue\",\"blue\",\"blue\"],\"names\":[\"sulfate\",\"lexapro\",\"gabapentin\",\"succinylcholine\",\"ultram\",\"spironolactone\",\"zoloft\",\"cymbalta\",\"feso<num>\",\"pletal\",\"aspart\",\"ketamine\",\"fondapurinox\",\"bromide\",\"mevacor\",\"xt\",\"fluids\",\"saver\",\"dilt\",\"lisinipril\",\"rhogam\",\"oxygen\",\"tartarate\",\"bp\",\"unfractionated\",\"besylate\",\"tidlasix\",\"bolus\",\"paint\",\"sr\",\"syrup\",\"bcnu\",\"nifedipine\",\"versed\",\"bisulfate\",\"msir\",\"vasotec\",\"ducolox\",\"supplement\",\"miconazole\",\"ipratropium\",\"dipyridamole\",\"patch\",\"rifampin\",\"nsaid\",\"percocet\",\"methylprednisolone\",\"stool\",\"onoptrops\",\"propranolol\",\"hbr\",\"nebulizers\",\"nose\",\"polysaccharide\",\"terazosin\",\"ntg\",\"vit\",\"imuran\",\"celexa\",\"fluoxetine\",\"ginger\",\"nitrates\",\"lithium\",\"cefotaxime\",\"otc\",\"vistaril\",\"antipsychotics\",\"pcp\",\"nortriptyline\",\"cefpodoxime\",\"penicillin\",\"tears\",\"wellbutrin\",\"metolazone\",\"esomeprazole\",\"diuretic\",\"quinapril\",\"czi\",\"diabetic\",\"rosiglitazone\",\"acebutolol\",\"diazepam\",\"oceanspray\",\"integrelin\",\"tordal\",\"procrit\",\"atenolol\",\"levofloxacin\",\"tamsulosin\",\"cortisol\",\"cells\",\"aranesp\",\"azithromycin\",\"hypoglycemics\",\"frozen\",\"ciprrfloxacin\",\"blockade\",\"lopid\",\"chlorpromazine\",\"nipride\",\"plavix<num>\",\"ofloxacin\",\"perioperative\",\"multivitamin\",\"lopressol\",\"ocean\",\"procardia\",\"mouth\",\"methadone\",\"sedation\",\"revatio\",\"imdur\",\"nsaids\",\"advair\",\"sevelamer\",\"thorazine\",\"halcion\",\"regimens\",\"complex\",\"aciphex\",\"celondin\",\"abx\",\"lactulose\",\"sucralfate\",\"cephalopsporins\",\"bismuth\",\"cd\",\"triple\",\"aspartate\",\"pack\",\"nitrospray\",\"albuterol\",\"narcotics\",\"tramadol\",\"maleate\",\"nadolol\",\"seldane\",\"guaifenesin\",\"vitamin\",\"ativan\",\"cyproheptadine\",\"magnesium\",\"fentanyl\",\"nystatin\",\"alimta\",\"stelazine\",\"b<num>\",\"slow\",\"pneumovax\",\"asa<num>\",\"pills\",\"lente\",\"benadry\",\"nicoderm\",\"vanco\",\"oxide\",\"corvert\",\"ditropan\",\"levoflox\",\"nesiritide\",\"ns\",\"argatroban\",\"persantine\",\"tapazole\",\"caco<num>\",\"lomotil\",\"antibiotics\",\"librium\",\"heparin\",\"tessalon\",\"asp\",\"cpap\",\"butt\",\"aprotinin\",\"ml\",\"ansaid\",\"ranitidine\",\"ramipril\",\"nitropaste\",\"dulcolax\",\"cozaar\",\"qdcalcitriol\",\"cytoxan\",\"thrombolysis\",\"anesthesia\",\"humalog\",\"nitroglycerine\",\"neupogen\",\"kcl\",\"afrin\",\"pressors\",\"lescol\",\"inotrops\",\"benadryl\",\"isordil\",\"fluticasone\",\"antidepressants\",\"dobutamine\",\"cardura\",\"haldol\",\"ace\",\"antianginal\",\"autologous\",\"ssi\",\"plasma\",\"ppi\",\"propofol\",\"ferrex\",\"inhale\",\"niaspan\",\"lidocaine\",\"suspension\",\"ecasa\",\"combivent\",\"amitriptyline\",\"channel\",\"probenecid\",\"analgesia\",\"labetalol<num>\",\"acei\",\"therapy\",\"adenosine\",\"oxycodone\",\"eye\",\"biaxin\",\"rhinocort\",\"hydromorphone\",\"thiamine\",\"packed\",\"baclofen\",\"novolog\",\"chlorhexidine\",\"b\",\"apap\",\"sustained\",\"xinafoate\",\"ziprasidone\",\"statin\",\"dye\",\"senokot\",\"softener\",\"sarna\",\"platelet\",\"irbesartan\",\"calcitonin\",\"dilantin\",\"following\",\"xylatan\",\"geodon\",\"kayexalate\",\"ppx\",\"slng\",\"mannitol\",\"benztropine\",\"diltiazem\",\"prednisone\",\"serax\",\"seroquel\",\"tamoxifen\",\"coumadine\",\"perels\",\"clobetizol\",\"phenytoin\",\"inhibition\",\"isoril\",\"quinine\",\"advil\",\"dinitrate\",\"general\",\"liquid\",\"aspirin\",\"naproxen\",\"coreg\",\"ambien\",\"zometa\",\"suppository\",\"inhibitors\",\"cefepime\",\"fioricet\",\"acyclovir\",\"zincate\",\"phoslo\",\"micronase\",\"niferex\",\"bactrim\",\"hydrate\",\"maalox\",\"zinc\",\"chemotherapy\",\"ivf\",\"supplements\",\"navelbine\",\"torsemide\",\"keppra\",\"stanozolol\",\"fluconazole\",\"ibuprofen\",\"benazepril\",\"simva\",\"nitrofurantoin\",\"micromeral\",\"candesartan\",\"bicarbonate\",\"diuril\",\"clonazepam\",\"proventil\",\"darbopoetin\",\"seretide\",\"ferrous\",\"mgsulfate\",\"lopipd\",\"pantoprazole\",\"reopro\",\"er\",\"imipenem\",\"diovan\",\"trazadone\",\"vitamins\",\"nicotine\",\"pen\",\"valsartan\",\"plavix\",\"acid\",\"duoneb\",\"cyclosporin\",\"solution\",\"prandin\",\"o<num>\",\"taper\",\"mycophenolate\",\"lotrisone\",\"trazodone\",\"lotensin\",\"atorvastatin\",\"opium\",\"ticlid\",\"outpatient\",\"cream\",\"bicarb\",\"mononitrate\",\"ultralente\",\"atovaquone\",\"ganciclovir\",\"transfusion\",\"ventavis\",\"lamictal\",\"carvedilol\",\"nebs\",\"glucometer\",\"qugmentin\",\"decadron\",\"gluconate\",\"aztreonam\",\"risperdal\",\"toprol\",\"miralax\",\"methotrexate\",\"dopamine\",\"inhalers\",\"strength\",\"molecular\",\"neoral\",\"suprax\",\"mgoxide\",\"aldactone\",\"pred\",\"dextromethorphan\",\"oxycontin\",\"nitroglycerins\",\"antacids\",\"lyte\",\"ischemics\",\"succinate\",\"celecoxib\",\"vicodan\",\"fibercon\",\"coated\",\"folic\",\"diuretics\",\"diabinese\",\"phosphate\",\"torsamide\",\"pain\",\"tablet\",\"vaso\",\"labetalol\",\"minerals\",\"release\",\"atrovent\",\"verapamil\",\"lovastatin\",\"prenatal\",\"oxacillin\",\"proscar\",\"cardiovascular\",\"glargine\",\"ccb\",\"zemplar\",\"naturale\",\"allopurinol\",\"therapeutic\",\"isosorbide\",\"gtts\",\"mepron\",\"meclizine\",\"losartan\",\"hydration\",\"betablocker\",\"nitroglycerin\",\"vanc\",\"stanazolol\",\"lorazepam\",\"nasal\",\"ventolin\",\"hctz\",\"synthroid\",\"codeine\",\"chloride\",\"contrast\",\"acetylsalicylic\",\"diflucan\",\"alphagam\",\"bicitra\",\"bleomycin\",\"copd\",\"hypoglycemic\",\"chemo\",\"citalopram\",\"azithro\",\"primidone\",\"morphine\",\"ms\",\"zaroxolyn\",\"fondaparinux\",\"maxide\",\"glucophage\",\"asa\",\"duoderm\",\"bb\",\"enteric\",\"integrilin\",\"methyldopa\",\"kaopectate\",\"pendalol\",\"ethanol\",\"metop\",\"tartrate\",\"nafcillin\",\"glyburide\",\"levatol\",\"hytrin\",\"celebrex\",\"reglan\",\"hydrocortisone\",\"solsite\",\"weight\",\"questran\",\"paxil\",\"drops\",\"prozac\",\"regimen\",\"mitozalone\",\"beclomethasone\",\"releas\",\"wash\",\"pravachol\",\"injections\",\"adriamycin\",\"valacyclovir\",\"blood\",\"zocor\",\"felodipine\",\"ergocalciferol\",\"cefazolin\",\"sprays\",\"med\",\"ds\",\"chloraseptic\",\"opiates\",\"steroid\",\"medicines\",\"human\",\"actonel\",\"clopidogrel\",\"cardizem\",\"rx\",\"c\",\"gentle\",\"ciprofloxacin\",\"elixir\",\"asacol\",\"glipizide\",\"baby\",\"diabeta\",\"metrogel\",\"premarin\",\"klonopin\",\"mg\",\"coumadin\",\"mso<num>\",\"atropine\",\"relafen\",\"electrolytes\",\"cell\",\"transdermal\",\"hydrochloride\",\"cough\",\"inuslin\",\"clonopin\",\"captopril\",\"unasyn\",\"metformin\",\"lidoderm\",\"cefuroxime\",\"d<num>x<num>\",\"darbepoetin\",\"kayexelate\",\"beta\",\"ceftizoxime\",\"k\",\"labetolol\",\"norvasc\",\"lopressor\",\"zetia\",\"antihypertensive\",\"senna\",\"norvir\",\"thyroid\",\"caltrate\",\"aceinh\",\"silvadene\",\"dicloxacillin\",\"ecotrin\",\"<num>\",\"glucose\",\"pca\",\"pravastatin\",\"fluoroquinolone\",\"dextran\",\"flonase\",\"duonebs\",\"lovenox\",\"lyrica\",\"tums\",\"pindolol\",\"mscontin\",\"fosomax\",\"iss\",\"spray\",\"kefzol\",\"cefixime\",\"mycostatin\",\"timolol\",\"mofetil\",\"coum\",\"d<num>w\",\"extended\",\"flagyl\",\"immediate\",\"urokinase\",\"digitek\",\"receptor\",\"zofran\",\"rocephin\",\"finasteride\",\"metoprolol\",\"ceptaz\",\"cannula\",\"imodium\",\"alternagel\",\"multivitamins\",\"zyprexa\",\"nph\",\"levophed\",\"catapres\",\"cartia\",\"protonix\",\"analgesic\",\"diproprionate\",\"dm\",\"requip\",\"immodium\",\"paste\",\"furosemide\",\"hydralazine\",\"beclovent\",\"<num>uprbc\",\"sedating\",\"patanol\",\"cellcept\",\"xl\",\"xalatan\",\"loperamide\",\"elavil\",\"valproic\",\"replacement\",\"naprosyn\",\"normal\",\"ptu\",\"macrolide\",\"levoxyl\",\"cisplatin\",\"minipress\",\"neosynephrine\",\"alphagan\",\"sodium\",\"bactroban\",\"metronidazol\",\"d<num>\",\"tpa\",\"epivir\",\"cardiac\",\"amlodipine\",\"prinivil\",\"bextra\",\"iron\",\"zaroxylyn\",\"powder\",\"tracleer\",\"carafate\",\"inp\",\"pilocarpine\",\"controlled\",\"ac\",\"lasix\",\"medication\",\"gadolinium\",\"simethicone\",\"hibiclenz\",\"epogen\",\"roxicet\",\"ideral\",\"benicar\",\"transfusions\",\"doxazosin\",\"actinomycin\",\"motrin\",\"cepacol\",\"qdcalcium\",\"lactinex\",\"aspirin<num>\",\"parnate\",\"mucomyst\",\"blockers\",\"reg\",\"lipitor\",\"klorcon\",\"carbonate\",\"norepinephrine\",\"e\",\"red\",\"d\",\"hydrochlorothiazide\",\"gemfibrozil\",\"econazole\",\"timoptic\",\"tablets\",\"dilaudid\",\"hep\",\"epi\",\"amitryptilline\",\"milrinone\",\"ionotropes\",\"novalog\",\"pulmicort\",\"nicardipine\",\"salmeterol\",\"cephradine\",\"actos\",\"statins\",\"antibiotic\",\"troglipazone\",\"betaxolol\",\"fresh\",\"compazine\",\"medicine\",\"vasopressor\",\"byetta\",\"prednisolone\",\"robitussin\",\"amiodarone\",\"xanax\",\"home\",\"micronized\",\"inderal\",\"resuscitation\",\"tylox\",\"advils\",\"cisapride\",\"darvon\",\"rezulin\",\"levothyroxine\",\"allegra\",\"kayexylate\",\"levo\",\"fosamax\",\"prbc\",\"nitro\",\"lactobacillus\",\"oxybutynin\",\"anticoagulation\",\"avandia\",\"erythromycin\",\"ada\",\"nexium\",\"amio\",\"lisinopril\",\"rocaltrol\",\"warfarin\",\"troponin\",\"loratidine\",\"pamidronate\",\"simvastatin\",\"temazepam\",\"diabetes\",\"prilosec\",\"betadine\",\"mom\",\"boluses\",\"theophylline\",\"amox\",\"magnesia\",\"toradol\",\"arbs\",\"capoten\",\"remeron\",\"insulin\",\"rbc\",\"inhaler\",\"indocin\",\"granules\",\"dyazide\",\"riss\",\"hcl\",\"levocarnitine\",\"flovent\",\"pressure\",\"pressor\",\"tpn\",\"restoril\",\"tenormin\",\"iv\",\"mgso<num>\",\"sennosides\",\"alcohol\",\"meropenem\",\"trilafon\",\"antibio\",\"ferrlecit\",\"flexeril\",\"procainamide\",\"ketorolac\",\"lispro\",\"streptokinase\",\"antihypertensives\",\"ceftazidime\",\"ampicillin\",\"antiinflammatory\",\"plus\",\"tarceva\",\"indomethacin\",\"vancomycin\",\"plaquenil\",\"effexor\",\"steroids\",\"zydis\",\"gtt\",\"docusate\",\"loratadine\",\"vasopressin\",\"inhibitor\",\"cosopt\",\"metamucil\",\"corticosteroids\",\"niacin\",\"clarithromycin\",\"tagamet\",\"supplementation\",\"novolin\",\"lilly\",\"cefalosporins\",\"truvada\",\"fluid\",\"accupril\",\"saline\",\"diclox\",\"extra\",\"lamivudine\",\"colace\",\"tiazac\",\"dexamethasone\",\"darvocet\",\"cholestyramine\",\"nitrate\",\"sulfamethoxazole\",\"alfa\",\"demerol\",\"ctx\",\"htn\",\"narcotic\",\"axid\",\"atapryl\",\"diprosone\",\"medications\",\"glypizide\",\"glucotrol\",\"milk\",\"neurontin\",\"pcn\",\"linezolid\",\"blocker\",\"guiatuss\",\"oral\",\"metoclopramide\",\"ointment\",\"products\",\"leni\",\"meds\",\"bowel\",\"g\",\"tricor\",\"zestril\",\"travatan\",\"ancef\",\"clotrimazole\",\"deltasone\",\"renagel\",\"atorva\",\"enoxaparin\",\"calcitriol\",\"p\",\"acephex\",\"xr\",\"prempro\",\"adalat\",\"diskus\",\"phenothiazines\",\"psyllium\",\"provera\",\"serevent\",\"calcium\",\"depakote\",\"provastatin\",\"eplerenone\",\"estrogen\",\"angiotension\",\"chloral\",\"carnitidine\",\"etomidate\",\"famotidine\",\"panafil\",\"epinephrine\",\"arb\",\"proxetil\",\"acetaminophen\",\"cortizone\",\"dht\",\"colestipol\",\"mylanta\",\"zaroxyln\",\"nitroprusside\",\"lantus\",\"enalapril\",\"ffp\",\"cvp\",\"trusopt\",\"tofranil\",\"clindamycin\",\"atc\",\"cytovene\",\"cefotetan\",\"drip\",\"citrate\",\"colchicine\",\"avapro\",\"taxol\",\"nebulizer\",\"ceftaz\",\"tic\",\"peridex\",\"azmacort\",\"omeprazole\",\"humulin\",\"double\",\"guqifenesin\",\"potassium\",\"cipro\",\"gentamicin\",\"gentamycin\",\"enoxaprin\",\"tincture\",\"mvi\",\"augmentin\",\"regular\",\"prochlorperazine\",\"contin\",\"hfa\",\"cyclosporine\",\"product\",\"softeners\",\"folate\",\"amoxicillin\",\"claritin\",\"low\",\"avadia\",\"qdzocor\",\"erythropoietin\",\"agonist\",\"keflex\",\"singulair\",\"monistat\",\"mesylate\",\"levaquin\",\"sertraline\",\"linsinopril\",\"flomax\",\"crystalloid\",\"digoxin\",\"lexiva\",\"osmolite\",\"zantac\",\"ceftriaxone\",\"pepcid\",\"valium\",\"tng\",\"nephrocaps\",\"artificial\",\"tylenol\",\"hematocrits\",\"aspiration\",\"antimicrobial\",\"enterococcus\",\"asthma\",\"increased\",\"bacteremia\",\"hypotensive\",\"nste\",\"neutropenia\",\"nonsustained\",\"disorder\",\"count\",\"endarterectomy\",\"complications\",\"panic\",\"softner\",\"tubes\",\"cocci\",\"shoulder\",\"coag\",\"bp\",\"epistaxis\",\"initial\",\"mildly\",\"tachycardic\",\"persistent\",\"gram\",\"toe\",\"early\",\"quadrant\",\"headache\",\"periodontal\",\"bibasilar\",\"disease\",\"stool\",\"sob\",\"urine\",\"nose\",\"eczema\",\"known\",\"neutropenic\",\"thrombosis\",\"grade\",\"pharyngitis\",\"infarct\",\"fevers\",\"diabetic\",\"fever\",\"myoclonic\",\"bv\",\"ischemia\",\"overload\",\"comfort\",\"gout\",\"blockade\",\"hematoma\",\"filtration\",\"pe\",\"perioperative\",\"embolism\",\"smoking\",\"seizure\",\"superficial\",\"hospital\",\"complex\",\"oliguria\",\"symptoms\",\"hypertension\",\"prothrombin\",\"paf\",\"bronchitis\",\"angioedema\",\"fs\",\"penile\",\"output\",\"magnesium\",\"infiltrates\",\"medial\",\"dependent\",\"stomach\",\"thigh\",\"qtc\",\"lower\",\"constipation\",\"mvr\",\"trace\",\"untreated\",\"transient\",\"flare\",\"atrial\",\"intermittent\",\"mellitus\",\"hf\",\"chf\",\"typical\",\"elevation\",\"shortness\",\"disorientation\",\"frequent\",\"abscess\",\"rate\",\"congestive\",\"uric\",\"control\",\"mi\",\"tachycardia\",\"behavioral\",\"postoperative\",\"mitral\",\"facial\",\"hemorrhagic\",\"gerd\",\"breathing\",\"hypercholesterolemia\",\"events\",\"hyperkalemia\",\"community\",\"jaw\",\"dx\",\"gi\",\"rods\",\"vasodilated\",\"lobar\",\"st\",\"explosive\",\"ii\",\"sx\",\"ppx\",\"hypothyroid\",\"cancer\",\"accumulation\",\"right\",\"acute\",\"cloacae\",\"paroxysmal\",\"insufficiency\",\"tight\",\"convulsive\",\"indigestion\",\"esophagitis\",\"vascular\",\"insomnia\",\"arm\",\"gastroparesis\",\"tia\",\"metastatic\",\"mean\",\"microclots\",\"incontinence\",\"mild\",\"diuresis\",\"lupus\",\"dizziness\",\"gastritis\",\"positive\",\"amyloid\",\"failure\",\"sternal\",\"hip\",\"sepsis\",\"hypokinesis\",\"preoperative\",\"dvts\",\"temperature\",\"incarcerated\",\"breakthrough\",\"stroke\",\"hypertensive\",\"elbow\",\"reduction\",\"long\",\"transaminitis\",\"minimal\",\"severe\",\"sugar\",\"sugars\",\"wound\",\"enterococcal\",\"small\",\"ulcer\",\"sciatica\",\"flutter\",\"itching\",\"drop\",\"cellulitis\",\"ejection\",\"antigen\",\"slightly\",\"vt\",\"mr\",\"enteritis\",\"pain\",\"wheezes\",\"throat\",\"moderate\",\"attempt\",\"epigastric\",\"level\",\"reduce\",\"vagina\",\"oa\",\"adult\",\"dmii\",\"hypoglycemia\",\"vascularization\",\"ec\",\"copd\",\"effusions\",\"pna\",\"neurological\",\"diuresed\",\"recent\",\"glaucoma\",\"break\",\"enteric\",\"tr\",\"extremity\",\"fatigue\",\"serum\",\"enterobacter\",\"postop\",\"weight\",\"fed\",\"homocystine\",\"peripheral\",\"nonsmall\",\"benign\",\"blood\",\"regurgitation\",\"lung\",\"neuropathy\",\"creamy\",\"gentle\",\"reverse\",\"thrombocytopenia\",\"onset\",\"recurrent\",\"left\",\"mg\",\"discomfort\",\"throbbing\",\"hematocrit\",\"erythema\",\"crystals\",\"cell\",\"hypertrophy\",\"history\",\"cough\",\"af\",\"coverage\",\"growth\",\"likely\",\"beta\",\"hct\",\"cytomegalovirus\",\"movement\",\"antihypertensive\",\"uti\",\"creatinine\",\"pains\",\"l\",\"white\",\"glucose\",\"<num>\",\"substernal\",\"cessation\",\"dyspepsia\",\"labored\",\"upset\",\"risk\",\"coronary\",\"stent\",\"klebsiella\",\"upper\",\"nausea\",\"ipf\",\"aquired\",\"headaches\",\"renal\",\"hyperglycemia\",\"orthostasis\",\"afterload\",\"myocardial\",\"exacerbation\",\"fibrillation\",\"agitation\",\"sore\",\"lobe\",\"mrsa\",\"bronchospastic\",\"strep\",\"ectopy\",\"anxiety\",\"arthritis\",\"global\",\"rapid\",\"dm\",\"bradyarrhythmia\",\"le\",\"target\",\"ptt\",\"empiric\",\"skin\",\"fasting\",\"infection\",\"anginal\",\"nonhealing\",\"cardiac\",\"pharyngeal\",\"complicated\",\"iron\",\"uop\",\"worsening\",\"controlled\",\"ldl\",\"fraction\",\"dry\",\"emesis\",\"prophylactic\",\"nosocomial\",\"reflux\",\"prostatic\",\"depression\",\"arthralgias\",\"presumed\",\"bacterial\",\"hdl\",\"wheezing\",\"e\",\"glycemic\",\"retrocardiac\",\"negative\",\"distress\",\"sweats\",\"modification\",\"pressures\",\"enhance\",\"sputum\",\"infarction\",\"deficiency\",\"generalized\",\"acquired\",\"esophageal\",\"flushing\",\"acidosis\",\"management\",\"incomplete\",\"arterial\",\"transudative\",\"leg\",\"hypokalemic\",\"tighter\",\"anticoagulation\",\"continued\",\"foot\",\"prophylaxis\",\"septicemia\",\"time\",\"artery\",\"r\",\"<num>s\",\"legionella\",\"dehydrated\",\"dyspnea\",\"hyperthyroidism\",\"heaviness\",\"diabetes\",\"dysfunction\",\"effusion\",\"bleeding\",\"vague\",\"attack\",\"better\",\"cad\",\"tracheobronchitis\",\"joint\",\"insulin\",\"pulmonary\",\"maps\",\"aureus\",\"culture\",\"pressure\",\"bilateral\",\"chest\",\"iv\",\"sbp\",\"ua\",\"muscular\",\"function\",\"adequate\",\"depressed\",\"lgib\",\"anemia\",\"hr\",\"seizures\",\"concentric\",\"afib\",\"gastroesophageal\",\"diastolic\",\"sedated\",\"pneumonia\",\"triglycerides\",\"discharge\",\"breath\",\"diarrhea\",\"olfactory\",\"fluid\",\"delirium\",\"edema\",\"loss\",\"extra\",\"occasional\",\"goal\",\"hit\",\"htn\",\"ulcers\",\"lesion\",\"sleep\",\"hypothyroidism\",\"inr\",\"hypotension\",\"poor\",\"infiltrate\",\"bowel\",\"respiratory\",\"perfusion\",\"hypocalcemia\",\"syndrome\",\"partial\",\"yeast\",\"leukocytosis\",\"spasm\",\"preload\",\"hereditary\",\"costochondritis\",\"care\",\"heartburn\",\"retention\",\"clot\",\"bs\",\"ventricular\",\"chronic\",\"cholesterol\",\"escalating\",\"emboli\",\"tract\",\"inflammation\",\"osseous\",\"cp\",\"peptic\",\"urinary\",\"depressive\",\"staph\",\"possible\",\"multifocal\",\"type\",\"elevated\",\"potassium\",\"febrile\",\"tremor\",\"swelling\",\"secondary\",\"saturations\",\"catheterization\",\"mood\",\"folate\",\"low\",\"osteomyelitis\",\"burning\",\"rest\",\"deep\",\"heart\",\"systolic\",\"jerks\",\"dvt\",\"clots\",\"hallucinations\",\"abdominal\",\"treatment\",\"gaseousness\",\"rash\",\",\",\":\",\"the\",\"and\",\"of\",\"was\",\"to\",\"on\",\"with\",\"a\",\"patient\",\"in\",\"for\",\")\",\"she\",\"(\",\"<num>/<num>/<num>\",\"no\",\"her\",\"<num>.<num>\",\"he\",\"at\",\"|\",\"is\",\"his\",\"had\",\"as\",\"po\",\"by\",\"admission\",\"p.o.\",\"an\",\"be\",\"day\",\"were\",\"<num>/<num>\",\"or\",\"that\",\"this\",\"has\",\"status\",\"which\",\"-\",\"not\",\"date\",\"<num>%\",\".\",\"dr\",\"<num>-<num>\",\"will\",\"from\",\"course\",\"daily\",\"override\",\"have\",\"<num>-<num>-<num>\",\"also\",\"showed\",\"well\",\"after\",\"up\",\"/\",\"but\",\"<num>:<num>\",\"am\",\"one\",\"stable\",\"medical\",\"there\",\"m.d\",\"interaction\",\"diagnosis\",\"qd\",\"report\",\"pt\",\"days\",\"past\",\"given\",\"post\",\"units\",\"two\",\"if\",\"follow\",\"without\",\"examination\",\"been\",\"it\",\"b.i.d.\",\"service\",\"other\",\"******\",\"noted\",\"summary\",\"admitted\",\"prior\",\"signed\",\"bid\",\"did\",\"then\",\"per\",\"physical\",\"any\",\"<num>:<num>:<num>\",\"revealed\",\"started\",\"attending\",\"diet\",\"dis\",\"who\",\"discharged\",\"room\",\"m.d.\",\"condition\",\"present\",\"serious\",\"during\",\"patient's\",\"added\",\"weeks\",\"reason\",\"rhythm\",\"allergies\",\"dictated\",\"please\",\"q.d.\",\"potentially\",\"your\",\"exam\",\"order\",\"however\",\"three\",\"t\",\"dose\",\"out\",\";\",\"#<num>\",\"clear\",\"pm\",\"are\",\"illness\",\"significant\",\"underwent\",\"some\",\"<num>+\",\"s/p\",\"times\",\"evidence\",\"ct\",\"than\",\"over\",\"disposition\",\"x\",\"hours\",\"further\",\"s\",\"should\",\"ekg\",\"prn\",\"treated\",\"surgery\",\"p.r.n.\",\"principal\",\"bilaterally\",\"when\",\"abdomen\",\"transferred\",\"q\",\"alert\",\"family\",\"changes\",\"unit\",\"extremities\",\"felt\",\"s<num>\",\"remained\",\"all\",\"you\",\"code\",\"orders\",\"number\",\"take\",\"#\",\"placed\",\"*\",\"while\",\"'s\",\"x-ray\",\"call\",\"week\",\"d/c\",\"w/\",\"cc\",\"md\",\"instructions\",\"follow-up\",\"instruction\",\"center\",\"upon\",\"q.\",\"back\",\"full\",\"due\",\"give\",\"sinus\",\"stenosis\",\"end\",\"soft\",\"primary\",\"procedures\",\"study\",\"found\",\"good\",\"continue\",\"received\",\"initially\",\"seen\",\"old\",\"t.i.d.\",\"tolerated\",\"intact\",\"baseline\",\"year\",\"presented\",\"laboratory\",\"procedure\",\"none\",\"food/drg\",\"emergency\",\"may\",\"&\",\"until\",\"neck\",\"followed\",\"multiple\",\"total\",\"decreased\",\"starting\",\"graft\",\"unsigned\",\"once\",\"<num>-year-old\",\"):\",\"evaluation\",\"previous\",\"sounds\",\"since\",\"<num>mg\",\"&amp;\",\"additional\",\"surgical\",\"social\",\"performed\",\"ed\",\"approximately\",\"bypass\",\"aortic\",\"<num>.\",\"last\",\"tube\",\"allergy\",\"air\",\"ref\",\"within\",\"resume\",\"throughout\",\"we\",\"four\",\"signs\",\"every\",\"required\",\"q<num>h\",\"years\",\"doses\",\"new\",\"more\",\"lungs\",\"use\",\"valve\",\"developed\",\"brief\",\"before\",\"improved\",\"now\",\"anterior\",\"taken\",\"bun\",\"head\",\"appointment\",\"pulses\",\"otherwise\",\"x<num>\",\"activity\",\"female\",\"admit\",\"need\",\"consistent\",\"denies\",\"only\",\"lad\",\"hold\",\"today\",\"high\",\"several\",\"scan\",\"aware\",\"cultures\",\"used\",\"where\",\"note\",\"notable\",\"stay\",\"scale\",\"overridden\",\"afebrile\",\"echo\",\"discontinued\",\"vomiting\",\"done\",\"house\",\"very\",\"echocardiogram\",\"clinic\",\"sig\",\"needed\",\"h/o\",\"operations\",\"hospitalization\",\"daily.\",\"sliding\",\"record\",\"data\",\"episodes\",\"above\",\"minutes\",\"@\",\"test\",\"exercise\",\"first\",\"because\",\"down\",\"physician\",\"these\",\"both\",\"drug\",\"sent\",\"increasing\",\"floor\",\"would\",\"causing\",\"does\",\"carotid\",\"tid\",\"ef\",\"id\",\"do\",\"ago\",\"greater\",\"obtained\",\"associated\",\"cm\",\"murmur\",\"infections\",\"scheduled\",\"subcutaneously\",\"most\",\"change\",\"knee\",\"[report_end]\",\"off\",\"less\",\"repeat\",\"venous\",\"pulse\",\"morning\",\"v<num>\",\"episode\",\"tab\",\"placement\",\"obesity\",\"being\",\"heent\",\"male\",\"obese\",\"including\",\"yes\",\"able\",\"addition\",\"platelets\",\"liver\",\"batch\",\"intensive\",\"comments\",\"resolved\",\"cardiology\",\"affecting\",\"twice\",\"they\",\"entered\",\"sc\",\"plan\",\"months\",\"thought\",\"subsequently\",\"o.r.\",\"night\",\"contingent\",\"dictation\",\"proximal\",\"<num>-<num>-<num>-<num>\",\"angina\",\"next\",\"age\",\"intravenous\",\"see\",\"health\",\"about\",\"liters\",\"maintained\",\"q.<num>h.\",\"studies\",\"return\",\"vital\",\"demonstrated\",\"index\",\"woman\",\"wall\",\"through\",\"nontender\",\"held\",\"setting\",\"mass\",\"so\",\"notice\",\"recommended\",\"transfer\",\"saturation\",\"monitor\",\"results\",\"labs\",\"mid\",\"mcg\",\"five\",\"six\",\"cath\",\"oriented\",\"cabg\",\"posterior\",\"operating\",\"rehabilitation\",\"volume\",\"lives\",\"mental\",\"large\",\"again\",\"<num>)\",\"made\",\"presents\",\"information\",\"distal\",\"[\",\"i\",\"]\",\"included\",\"therefore\",\"meals\",\"milligrams\",\"taking\",\"consulted\",\"descending\",\"could\",\"avoid\",\"difficulty\",\"although\",\"services\",\"report_end\",\"removed\",\"having\",\"enzymes\",\"ruled\",\"&apos;s\",\"auscultation\",\"recently\",\"department\",\"area\",\"do/plan\",\"tenderness\",\"applicable\",\"infectious\",\"complaint\",\"diagnosis;conditions\",\";responsible\",\"treatment/stay\",\"treatments/procedures\",\"followup\",\"vein\",\"march\",\"q.i.d.\",\"appointment(\",\"reports\",\"him\",\"transplant\",\"diagnoses\",\"inferior\",\"question\",\"became\",\"rehab\",\"went\",\"pending\",\"neuro\",\"ck\",\"exertion\",\"food\",\"light\",\"chills\",\"doctor\",\"range\",\"few\",\"work\",\"final\",\"point\",\"currently\",\"limits\",\"neg\",\"second\",\"include\",\"problems\",\"tobacco\",\"qhs\",\"unremarkable\",\"fat\",\"wbc\",\"changed\",\"empty\",\"murmurs\",\"approximate\",\"bruits\",\"rca\",\"line\",\"began\",\"jvp\",\"femoral\",\"repair\",\"rule\",\"stress\",\"weakness\",\"restarted\",\"denied\",\"postoperatively\",\"f\",\"document\",\"block\",\"ultrasound\",\"cxr\",\"catheter\",\"walking\",\"meq\",\"ischemic\",\"cardiomyopathy\",\"breast\",\"escription\",\"+\",\"place\",\"pleural\",\"bed\",\":*\",\"check\",\"unable\",\"obstructive\",\"cardiologist\",\"consult\",\"still\",\"q.a.m.\",\"increase\",\"abd\",\"q.h.s.\",\"bleed\",\"fracture\",\"stopped\",\"wave\",\"motion\",\"issues\",\"pump\",\"mri\",\"mm\",\"mibi\",\"cv\",\"biopsy\",\"crackles\",\"side\",\"orthopnea\",\"hernia\",\"drawn\",\"supple\",\"apnea\",\"unless\",\"mg.\",\"peak\",\"can\",\"site\",\"requiring\",\"man\",\"q.day\",\"b.i.d\",\"pupils\",\"diffuse\",\"circumflex\",\"m\",\"weaned\",\"came\",\"internal\",\"dilated\",\"improvement\",\"month\",\"intubated\",\"name\",\"hour\",\"neurologic\",\"chief\",\"checked\",\"nondistended\",\"qid\",\"electrocardiogram\",\"complete\",\"equal\",\"lateral\",\"lesions\",\"active\",\"evaluated\",\"size\",\"grapefruit\",\"reactive\",\"memorial\",\"icu\",\"f/u\",\"qpm\",\"later\",\"outside\",\"hx\",\"instructs\",\"july\",\"into\",\"radiation\",\"pacemaker\",\"free\",\"bedtime\",\"each\",\"rectal\",\"team\",\"qam\",\"masses\",\"<num>-<num>%\",\"sublingual\",\"diagnosed\",\"puffs\",\"day.\",\"endocrine\",\"ra\",\"go\",\"<num>,<num>\",\"mother\",\"yo\",\"vna\",\"extubated\",\"systems\",\"incision\",\"instructed\",\"abnormalities\",\"review\",\"unchanged\",\"workup\",\"etiology\",\"tolerating\",\"between\",\"electronically\",\"inh\",\"movements\",\"previously\",\"dialysis\",\"drainage\",\"foley\",\"short\",\"consistently\",\"saphenous\",\"delivery\",\"degrees\",\"called\",\"states\",\"hemodialysis\",\"jugular\",\"office\",\"fall\",\"warm\",\"around\",\"provider\",\"appeared\",\"findings\",\"bilirubin\",\"pt.\",\"tests\",\"guaiac\",\"unclear\",\"flat\",\"ca\",\"carcinoma\",\"tel\",\"february\",\"concern\",\"minute\",\"w\",\"ho\",\"brought\",\"reaction\"],\"x1\":{\"__ndarray__\":\"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\",\"dtype\":\"float64\",\"shape\":[2122]},\"x2\":{\"__ndarray__\":\"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\",\"dtype\":\"float64\",\"shape\":[2122]}}},\"id\":\"ba425142-8325-4004-a44f-574ab50b8b1f\",\"type\":\"ColumnDataSource\"},{\"attributes\":{\"plot\":{\"id\":\"d113d213-fdc6-4e8f-bfe8-003b9414533c\",\"subtype\":\"Figure\",\"type\":\"Plot\"}},\"id\":\"ed5fae24-65f2-42b7-8328-f957bb2b6678\",\"type\":\"WheelZoomTool\"},{\"attributes\":{\"plot\":{\"id\":\"d113d213-fdc6-4e8f-bfe8-003b9414533c\",\"subtype\":\"Figure\",\"type\":\"Plot\"}},\"id\":\"47176c0c-2597-4945-939c-791e0372d939\",\"type\":\"PanTool\"},{\"attributes\":{\"fill_alpha\":{\"value\":0.1},\"fill_color\":{\"value\":\"#1f77b4\"},\"line_alpha\":{\"value\":0.1},\"line_color\":{\"value\":\"#1f77b4\"},\"size\":{\"units\":\"screen\",\"value\":8},\"x\":{\"field\":\"x1\"},\"y\":{\"field\":\"x2\"}},\"id\":\"d0147cd4-2b9a-4dad-aab7-337fe6ce8efd\",\"type\":\"Circle\"},{\"attributes\":{},\"id\":\"ff023433-5b80-404b-a433-fc593c6db799\",\"type\":\"LinearScale\"},{\"attributes\":{\"below\":[{\"id\":\"0ca167a4-c21f-49d8-b3ec-2df1f444e014\",\"type\":\"LinearAxis\"}],\"left\":[{\"id\":\"1a100521-cba0-4abd-b4db-aed1ea609e2c\",\"type\":\"LinearAxis\"}],\"renderers\":[{\"id\":\"0ca167a4-c21f-49d8-b3ec-2df1f444e014\",\"type\":\"LinearAxis\"},{\"id\":\"d84bb144-092f-4967-9d23-ba6356f105b3\",\"type\":\"Grid\"},{\"id\":\"1a100521-cba0-4abd-b4db-aed1ea609e2c\",\"type\":\"LinearAxis\"},{\"id\":\"73043242-183b-4a8d-934a-ea58d3f55a60\",\"type\":\"Grid\"},{\"id\":\"dd14ebab-9f0b-4e58-84fb-8da4df6d7f3b\",\"type\":\"GlyphRenderer\"},{\"id\":\"21343e17-9c8e-42f6-a2bc-c8045bee8136\",\"type\":\"LabelSet\"}],\"title\":{\"id\":\"934656de-810f-4fe1-8abc-db97f28b84e2\",\"type\":\"Title\"},\"tool_events\":{\"id\":\"8abc02b2-2679-4404-8fb5-4c72d1ea5f11\",\"type\":\"ToolEvents\"},\"toolbar\":{\"id\":\"55084bc7-8195-4e04-a5df-e3b9d3a63d48\",\"type\":\"Toolbar\"},\"toolbar_location\":\"above\",\"x_range\":{\"id\":\"8907602b-74bd-487d-87d6-561aad97a04d\",\"type\":\"DataRange1d\"},\"x_scale\":{\"id\":\"ff023433-5b80-404b-a433-fc593c6db799\",\"type\":\"LinearScale\"},\"y_range\":{\"id\":\"ea24c8b1-4048-4e2e-9a2d-b891ea733121\",\"type\":\"DataRange1d\"},\"y_scale\":{\"id\":\"61b21fa8-ced9-4044-b98f-363251d903cf\",\"type\":\"LinearScale\"}},\"id\":\"d113d213-fdc6-4e8f-bfe8-003b9414533c\",\"subtype\":\"Figure\",\"type\":\"Plot\"},{\"attributes\":{\"active_drag\":\"auto\",\"active_inspect\":\"auto\",\"active_scroll\":\"auto\",\"active_tap\":\"auto\",\"tools\":[{\"id\":\"47176c0c-2597-4945-939c-791e0372d939\",\"type\":\"PanTool\"},{\"id\":\"ed5fae24-65f2-42b7-8328-f957bb2b6678\",\"type\":\"WheelZoomTool\"},{\"id\":\"95ba3829-2436-449a-9e7b-c42df34a1756\",\"type\":\"ResetTool\"},{\"id\":\"a5bff224-5f80-49cd-936b-830fb77c01fb\",\"type\":\"SaveTool\"}]},\"id\":\"55084bc7-8195-4e04-a5df-e3b9d3a63d48\",\"type\":\"Toolbar\"}],\"root_ids\":[\"d113d213-fdc6-4e8f-bfe8-003b9414533c\"]},\"title\":\"Bokeh Application\",\"version\":\"0.12.6\"}};\n",
       "            var render_items = [{\"docid\":\"d9a384de-c0d6-4244-aab5-ab2990cbc15b\",\"elementid\":\"86c64fb7-41fa-4196-b96b-a2449cffcb26\",\"modelid\":\"d113d213-fdc6-4e8f-bfe8-003b9414533c\"}];\n",
       "            \n",
       "            Bokeh.embed.embed_items(docs_json, render_items);\n",
       "          };\n",
       "          if (document.readyState != \"loading\") fn();\n",
       "          else document.addEventListener(\"DOMContentLoaded\", fn);\n",
       "        })();\n",
       "      },\n",
       "      function(Bokeh) {\n",
       "      }\n",
       "    ];\n",
       "  \n",
       "    function run_inline_js() {\n",
       "      \n",
       "      if ((window.Bokeh !== undefined) || (force === true)) {\n",
       "        for (var i = 0; i < inline_js.length; i++) {\n",
       "          inline_js[i](window.Bokeh);\n",
       "        }if (force === true) {\n",
       "          display_loaded();\n",
       "        }} else if (Date.now() < window._bokeh_timeout) {\n",
       "        setTimeout(run_inline_js, 100);\n",
       "      } else if (!window._bokeh_failed_load) {\n",
       "        console.log(\"Bokeh: BokehJS failed to load within specified timeout.\");\n",
       "        window._bokeh_failed_load = true;\n",
       "      } else if (force !== true) {\n",
       "        var cell = $(document.getElementById(\"86c64fb7-41fa-4196-b96b-a2449cffcb26\")).parents('.cell').data().cell;\n",
       "        cell.output_area.append_execute_result(NB_LOAD_WARNING)\n",
       "      }\n",
       "  \n",
       "    }\n",
       "  \n",
       "    if (window._bokeh_is_loading === 0) {\n",
       "      console.log(\"Bokeh: BokehJS loaded, going straight to plotting\");\n",
       "      run_inline_js();\n",
       "    } else {\n",
       "      load_libs(js_urls, function() {\n",
       "        console.log(\"Bokeh: BokehJS plotting callback run at\", now());\n",
       "        run_inline_js();\n",
       "      });\n",
       "    }\n",
       "  }(this));\n",
       "</script>"
      ]
     },
     "metadata": {},
     "output_type": "display_data"
    }
   ],
   "source": [
    "fn.visualise(model=model_I2B2, sentences=sentences, labels=[medications, reasons], topn=1000)"
   ]
  },
  {
   "cell_type": "code",
   "execution_count": 11,
   "metadata": {},
   "outputs": [],
   "source": [
    "train_set = []\n",
    "train_labels = []\n",
    "train_size = 2000\n",
    "vocab = set(model_I2B2.wv.vocab.keys())\n",
    "target = set(medications)\n",
    "\n",
    "for i in range(train_size * 9 // 10):\n",
    "    word = random.sample(vocab, 1)\n",
    "    train_set.append(model_I2B2[word[0]])\n",
    "    vocab.discard(word[0])\n",
    "    if word[0] in target:\n",
    "        train_labels.append([1,0])\n",
    "        target.discard(word[0])\n",
    "    else:\n",
    "        train_labels.append([0,1])\n",
    "    if i % 10 == 0:\n",
    "        word = random.sample(target, 1)\n",
    "        train_set.append(model_I2B2[word[0]])\n",
    "        train_labels.append([1,0])\n",
    "        target.discard(word[0])"
   ]
  },
  {
   "cell_type": "code",
   "execution_count": 12,
   "metadata": {},
   "outputs": [
    {
     "data": {
      "text/plain": [
       "array([ 0.10151515,  0.89848485])"
      ]
     },
     "execution_count": 12,
     "metadata": {},
     "output_type": "execute_result"
    }
   ],
   "source": [
    "np.array(train_labels).sum(0)/len(train_labels)"
   ]
  },
  {
   "cell_type": "code",
   "execution_count": 13,
   "metadata": {},
   "outputs": [],
   "source": [
    "test_set = []\n",
    "test_labels = []\n",
    "test_size = 500\n",
    "\n",
    "for i in range(int(test_size * 0.5)):\n",
    "    word = random.sample(vocab, 1)\n",
    "    test_set.append(model_I2B2[word[0]])\n",
    "    vocab.discard(word[0])\n",
    "    if word[0] in medications:\n",
    "        test_labels.append([1,0])\n",
    "        target.discard(word[0])\n",
    "    else:\n",
    "        test_labels.append([0,1])\n",
    "        \n",
    "for i in range(int(test_size * 0.5)):\n",
    "    word = random.sample(target, 1)\n",
    "    test_set.append(model_I2B2[word[0]])\n",
    "    test_labels.append([1,0])\n",
    "    target.discard(word[0])"
   ]
  },
  {
   "cell_type": "code",
   "execution_count": 14,
   "metadata": {},
   "outputs": [
    {
     "data": {
      "text/plain": [
       "array([ 0.506,  0.494])"
      ]
     },
     "execution_count": 14,
     "metadata": {},
     "output_type": "execute_result"
    }
   ],
   "source": [
    "np.array(test_labels).sum(0)/len(test_labels)"
   ]
  },
  {
   "cell_type": "code",
   "execution_count": 15,
   "metadata": {
    "collapsed": true
   },
   "outputs": [],
   "source": [
    "def weight_variable(shape):\n",
    "    initial = tf.truncated_normal(shape, stddev=0.05)\n",
    "    return tf.Variable(initial)\n",
    "\n",
    "def bias_variable(shape):\n",
    "    initial = tf.constant(0.1, shape=shape)\n",
    "    return tf.Variable(initial)"
   ]
  },
  {
   "cell_type": "code",
   "execution_count": 16,
   "metadata": {},
   "outputs": [
    {
     "name": "stdout",
     "output_type": "stream",
     "text": [
      "WARNING:tensorflow:From C:\\Users\\Luka\\Anaconda3\\envs\\tensorflow\\lib\\site-packages\\tensorflow\\python\\util\\tf_should_use.py:170: initialize_all_variables (from tensorflow.python.ops.variables) is deprecated and will be removed after 2017-03-02.\n",
      "Instructions for updating:\n",
      "Use `tf.global_variables_initializer` instead.\n",
      "Epoch: 0, Training Accuracy: 0.100000, Test Accuracy: 0.506000\n",
      "Epoch: 102, Training Accuracy: 1.000000, Test Accuracy: 0.812000\n",
      "Epoch: 205, Training Accuracy: 0.980000, Test Accuracy: 0.808000\n",
      "Epoch: 307, Training Accuracy: 0.940000, Test Accuracy: 0.808000\n",
      "Epoch: 410, Training Accuracy: 0.980000, Test Accuracy: 0.804000\n",
      "Epoch: 512, Training Accuracy: 0.980000, Test Accuracy: 0.802000\n",
      "Epoch: 615, Training Accuracy: 0.980000, Test Accuracy: 0.802000\n",
      "Epoch: 717, Training Accuracy: 1.000000, Test Accuracy: 0.800000\n",
      "Epoch: 820, Training Accuracy: 1.000000, Test Accuracy: 0.800000\n",
      "Epoch: 923, Training Accuracy: 0.980000, Test Accuracy: 0.800000\n"
     ]
    }
   ],
   "source": [
    "node_count_1 = 50\n",
    "\n",
    "x = tf.placeholder(tf.float32, shape=[None, 100])\n",
    "y_ = tf.placeholder(tf.float32, shape=[None, 2])\n",
    "\n",
    "# Define the first layer here\n",
    "W = weight_variable([100, node_count_1])\n",
    "b = bias_variable([node_count_1])\n",
    "h = tf.nn.sigmoid(tf.matmul(x, W) + b)\n",
    "\n",
    "# Use dropout for this layer (should you wish)\n",
    "#keep_prob = tf.placeholder(tf.float32)\n",
    "#h_drop = tf.nn.dropout(h1, keep_prob)\n",
    "\n",
    "# Define the output layer here\n",
    "V = weight_variable([node_count_1, 2])\n",
    "c = bias_variable([2])\n",
    "y = tf.nn.softmax(tf.matmul(h, V) + c)\n",
    "\n",
    "# We'll use the cross entropy loss function \n",
    "cross_entropy = tf.reduce_mean(tf.nn.softmax_cross_entropy_with_logits(logits=y, labels=y_))\n",
    "\n",
    "# And classification accuracy\n",
    "correct_prediction = tf.equal(tf.argmax(y, 1), tf.argmax(y_, 1))\n",
    "accuracy = tf.reduce_mean(tf.cast(correct_prediction, tf.float32))\n",
    "\n",
    "# And the Adam optimiser\n",
    "train_step = tf.train.AdamOptimizer(learning_rate=1e-2).minimize(cross_entropy)\n",
    "\n",
    "# Start a tf session and run the optimisation algorithm\n",
    "sess = tf.Session()\n",
    "sess.run(tf.initialize_all_variables())\n",
    "\n",
    "training = Iterator(train_set, train_labels)\n",
    "train_accuracy = 0\n",
    "test_accuracy = 0\n",
    "N = 0\n",
    "\n",
    "while training.epochs < 1000:\n",
    "    trd, trl = training.next_batch(50)\n",
    "    if N % 4000 == 0:\n",
    "        train_accuracy = sess.run(accuracy, feed_dict={x: trd, y_: trl})\n",
    "        test_accuracy = sess.run(accuracy, feed_dict={x: test_set, y_: test_labels})\n",
    "        print(\"Epoch: %d, Training Accuracy: %f, Test Accuracy: %f\" % (training.epochs, train_accuracy, test_accuracy))\n",
    "    sess.run(train_step, feed_dict={x: trd, y_: trl})\n",
    "    N += 1"
   ]
  }
 ],
 "metadata": {
  "anaconda-cloud": {},
  "kernelspec": {
   "display_name": "Python 3",
   "language": "python",
   "name": "python3"
  },
  "language_info": {
   "codemirror_mode": {
    "name": "ipython",
    "version": 3
   },
   "file_extension": ".py",
   "mimetype": "text/x-python",
   "name": "python",
   "nbconvert_exporter": "python",
   "pygments_lexer": "ipython3",
   "version": "3.5.3"
  }
 },
 "nbformat": 4,
 "nbformat_minor": 2
}
