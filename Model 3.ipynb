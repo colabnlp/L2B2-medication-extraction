{
 "cells": [
  {
   "cell_type": "code",
   "execution_count": 1,
   "metadata": {},
   "outputs": [],
   "source": [
    "import numpy as np\n",
    "import re\n",
    "import random\n",
    "\n",
    "import tensorflow as tf\n",
    "import sklearn as sk\n",
    "\n",
    "import Functions as fn\n",
    "from DS import DS\n",
    "from Set import pool\n",
    "from Iterator import Iterator\n",
    "from FFModel import FF_Model"
   ]
  },
  {
   "cell_type": "code",
   "execution_count": 2,
   "metadata": {},
   "outputs": [
    {
     "name": "stdout",
     "output_type": "stream",
     "text": [
      "Texts loaded\n",
      "Labels loaded\n"
     ]
    }
   ],
   "source": [
    "#Dataset = fn.first_time_load()\n",
    "#Dataset.write_texts()\n",
    "#Dataset.write_labels()\n",
    "\n",
    "Dataset = pool()\n",
    "Dataset.load_texts()\n",
    "Dataset.load_labels()"
   ]
  },
  {
   "cell_type": "code",
   "execution_count": 3,
   "metadata": {
    "collapsed": true,
    "scrolled": false
   },
   "outputs": [],
   "source": [
    "#print('Number of Texts: ', Dataset.size)\n",
    "#print('Number of 2007 Smoking Challenge texts: ', Dataset.number_of(challenge='2007 Smoking Challenge'))\n",
    "#print('Number of 2008 ObesityChallenge texts: ', Dataset.number_of(challenge='2008 Obesity Challenge'))\n",
    "#print('Number of 2009 Medication Challenge texts: ', Dataset.number_of(challenge='2009 Medication Challenge'))\n",
    "#print('Number of 2010 Relations Challenge texts: ', Dataset.number_of(challenge='2010 Relations Challenge'))\n",
    "#print('Number of 2011 Coreference Challenge texts: ', Dataset.number_of(challenge='2011 Coreference Challenge'))\n",
    "#print('Number of 2012 Temporal Relations Challenge texts: ', Dataset.number_of(challenge='2012 Temporal Relations Challenge'))\n",
    "#print('Number of Train Texts: ', Dataset.number_of(stage='train'))\n",
    "#print('Number of Test Texts: ', Dataset.number_of(stage='test'))\n",
    "#print('Number of Labeled Texts: ', Dataset.number_of(labelled='yes'))\n",
    "#print('Number of Initially Labeled Texts: ', Dataset.number_of(labelled='yes', label_type='train'))\n",
    "#print('Number of Competitor Labeled Texts Texts: ', Dataset.number_of(labelled='yes', label_type='test'))"
   ]
  },
  {
   "cell_type": "code",
   "execution_count": 4,
   "metadata": {
    "collapsed": true
   },
   "outputs": [],
   "source": [
    "#Dataset.process_for_embedding()\n",
    "#sentences = Dataset.get_sentences()"
   ]
  },
  {
   "cell_type": "code",
   "execution_count": 5,
   "metadata": {},
   "outputs": [
    {
     "name": "stderr",
     "output_type": "stream",
     "text": [
      "C:\\Users\\Luka\\Anaconda3\\envs\\tensorflow\\lib\\site-packages\\gensim\\utils.py:860: UserWarning: detected Windows; aliasing chunkize to chunkize_serial\n",
      "  warnings.warn(\"detected Windows; aliasing chunkize to chunkize_serial\")\n"
     ]
    }
   ],
   "source": [
    "from gensim.models import Word2Vec\n",
    "#model = Word2Vec(sentences, min_count=1, size=100)\n",
    "model = Word2Vec.load('W2V')\n",
    "\n",
    "#fn.write_emb('testemb', model)\n",
    "#model = fn.load_emb('testemb')\n",
    "#model.save('W2V')"
   ]
  },
  {
   "cell_type": "code",
   "execution_count": 6,
   "metadata": {},
   "outputs": [],
   "source": [
    "#model.most_similar(\"prozac\", topn=10)"
   ]
  },
  {
   "cell_type": "code",
   "execution_count": 7,
   "metadata": {},
   "outputs": [
    {
     "name": "stdout",
     "output_type": "stream",
     "text": [
      "Number of: m=928, do=119, mo=76, f=79, du=80, r=482\n"
     ]
    }
   ],
   "source": [
    "targets = ['medications', 'dosages', 'modes', 'frequencies', 'durations', 'reasons']\n",
    "target_dict = {label: words for (label, words) in zip(targets, list(fn.label_words(Dataset, model)))}"
   ]
  },
  {
   "cell_type": "code",
   "execution_count": 8,
   "metadata": {
    "collapsed": true
   },
   "outputs": [],
   "source": [
    "#fn.visualise(model, sentences, [target_dict['medications']], 1000, 'Medications in top 1000 words')"
   ]
  },
  {
   "cell_type": "code",
   "execution_count": 9,
   "metadata": {},
   "outputs": [],
   "source": [
    "#print_set = set()\n",
    "#for case in Dataset.get_DS(labelled='yes').data:\n",
    "#    for term in re.finditer(r'm=\"[a-z0-9 ]+\"', case.raw_labels):\n",
    "#        if term.group()[3:-1] != 'nm': print_set.add(term.group()[3:-1])\n",
    "#print(*print_set, sep='\\n')"
   ]
  },
  {
   "cell_type": "code",
   "execution_count": 10,
   "metadata": {},
   "outputs": [],
   "source": [
    "#for target in targets:\n",
    "#    for reps in [True, False]:\n",
    "#        target_size = len(target_dict[target])\n",
    "#        sets = fn.get_traintest(model, target_dict[target], target_size * 5, target_size, 10, 50, reps, reps)\n",
    "#        sets = {'train_set': sets[0], 'train_labels': sets[1], 'validation_set': sets[2], 'validation_labels': sets[3], 'test_set': sets[2], 'test_labels': sets[3]}\n",
    "#        print(\"Target: %s \\tRepetitions: %s\" % (target, reps))\n",
    "#        NN = FF_Model()\n",
    "#        NN.build_graph()\n",
    "#        NN.train(sets, report_percentage=10)"
   ]
  },
  {
   "cell_type": "code",
   "execution_count": 11,
   "metadata": {
    "collapsed": true
   },
   "outputs": [],
   "source": [
    "labelled_cases = Dataset.get_DS(labelled='yes')\n",
    "labelled_cases.process_for_testing()"
   ]
  },
  {
   "cell_type": "code",
   "execution_count": 12,
   "metadata": {},
   "outputs": [
    {
     "name": "stdout",
     "output_type": "stream",
     "text": [
      "237160\t237160\t26954\t26954\t28514\t28514\t28514\n"
     ]
    }
   ],
   "source": [
    "sets = fn.get_traintest2(labelled_cases, model)"
   ]
  },
  {
   "cell_type": "code",
   "execution_count": 13,
   "metadata": {},
   "outputs": [
    {
     "name": "stdout",
     "output_type": "stream",
     "text": [
      "[ 0.02979845  0.97020155]\n"
     ]
    }
   ],
   "source": [
    "print(np.array(sets['train_labels']).sum(0)/ len(sets['train_labels']))"
   ]
  },
  {
   "cell_type": "code",
   "execution_count": 14,
   "metadata": {},
   "outputs": [
    {
     "name": "stdout",
     "output_type": "stream",
     "text": [
      "Label proportion: 0.100215\r"
     ]
    }
   ],
   "source": [
    "fn.saturate_training_set(sets, model, target_dict['medications'], 0.1)"
   ]
  },
  {
   "cell_type": "code",
   "execution_count": 26,
   "metadata": {},
   "outputs": [
    {
     "name": "stdout",
     "output_type": "stream",
     "text": [
      "Progress: 100%\r"
     ]
    },
    {
     "data": {
      "image/png": "[encoded data removed]",
      "text/plain": [
       "<matplotlib.figure.Figure at 0x2800e62a358>"
      ]
     },
     "metadata": {},
     "output_type": "display_data"
    },
    {
     "name": "stdout",
     "output_type": "stream",
     "text": [
      "Test F1-Score: 0.603732\n",
      "\n"
     ]
    }
   ],
   "source": [
    "NN = FF_Model(layers=[30])\n",
    "NN.build_graph()\n",
    "NN.train(sets, epochs=100)"
   ]
  },
  {
   "cell_type": "code",
   "execution_count": 27,
   "metadata": {},
   "outputs": [],
   "source": [
    "res = NN.predict(sets['test_set'])\n",
    "tru = np.argmax(sets['test_labels'], 1)"
   ]
  },
  {
   "cell_type": "code",
   "execution_count": 28,
   "metadata": {},
   "outputs": [
    {
     "data": {
      "text/plain": [
       "(550, 27242, 533, 189)"
      ]
     },
     "execution_count": 28,
     "metadata": {},
     "output_type": "execute_result"
    }
   ],
   "source": [
    "tp = len([a for a in range(len(tru)) if (res[a] == 0) and (tru[a] == 0)])\n",
    "tn = len([a for a in range(len(tru)) if (res[a] == 1) and (tru[a] == 1)])\n",
    "fp = len([a for a in range(len(tru)) if (res[a] == 0) and (tru[a] == 1)])\n",
    "fn = len([a for a in range(len(tru)) if (res[a] == 1) and (tru[a] == 0)])\n",
    "tp, tn, fp, fn"
   ]
  },
  {
   "cell_type": "code",
   "execution_count": 29,
   "metadata": {},
   "outputs": [
    {
     "data": {
      "text/plain": [
       "0.60373216245883643"
      ]
     },
     "execution_count": 29,
     "metadata": {},
     "output_type": "execute_result"
    }
   ],
   "source": [
    "sk.metrics.f1_score(tru, res, pos_label=0, average='binary')"
   ]
  },
  {
   "cell_type": "code",
   "execution_count": 30,
   "metadata": {},
   "outputs": [
    {
     "data": {
      "text/plain": [
       "[('(', 1, 0),\n",
       " (')', 1, 0),\n",
       " ('(', 1, 0),\n",
       " (')', 1, 0),\n",
       " ('<num>/<num>', 1, 0),\n",
       " ('(', 1, 0),\n",
       " (')', 1, 0),\n",
       " ('penicillin', 1, 0),\n",
       " ('penicillin', 1, 0),\n",
       " ('r-chop', 1, 0),\n",
       " ('normal', 1, 0),\n",
       " ('saline', 1, 0),\n",
       " ('medications', 1, 0),\n",
       " ('oxygen', 1, 0),\n",
       " ('oxygen', 1, 0),\n",
       " ('(', 1, 0),\n",
       " (')', 1, 0),\n",
       " ('(', 1, 0),\n",
       " (')', 1, 0),\n",
       " ('(', 1, 0),\n",
       " (')', 1, 0),\n",
       " ('(', 1, 0),\n",
       " (')', 1, 0),\n",
       " ('susp.', 1, 0),\n",
       " ('mg', 1, 0),\n",
       " ('(', 1, 0),\n",
       " (')', 1, 0),\n",
       " ('(', 1, 0),\n",
       " ('amoxicil...', 1, 0),\n",
       " (')', 1, 0),\n",
       " ('previous', 1, 0),\n",
       " ('home', 1, 0),\n",
       " ('medications', 1, 0),\n",
       " ('(', 1, 0),\n",
       " ('pain', 1, 0),\n",
       " (')', 1, 0),\n",
       " ('medications', 1, 0),\n",
       " ('(', 1, 0),\n",
       " (')', 1, 0),\n",
       " ('(', 1, 0),\n",
       " (')', 1, 0),\n",
       " ('(', 1, 0),\n",
       " (')', 1, 0),\n",
       " ('blood', 1, 0),\n",
       " ('blood', 1, 0),\n",
       " ('blood', 1, 0),\n",
       " ('(', 1, 0),\n",
       " (')', 1, 0),\n",
       " ('(', 1, 0),\n",
       " (')', 1, 0),\n",
       " ('(', 1, 0),\n",
       " (')', 1, 0),\n",
       " ('(', 1, 0),\n",
       " (')', 1, 0),\n",
       " ('(', 1, 0),\n",
       " (')', 1, 0),\n",
       " ('(', 1, 0),\n",
       " (')', 1, 0),\n",
       " ('(', 1, 0),\n",
       " ('(', 1, 0),\n",
       " ('rel.', 1, 0),\n",
       " (')', 1, 0),\n",
       " (')', 1, 0),\n",
       " ('(', 1, 0),\n",
       " (')', 1, 0),\n",
       " ('(', 1, 0),\n",
       " (')', 1, 0),\n",
       " ('(', 1, 0),\n",
       " (')', 1, 0),\n",
       " ('(', 1, 0),\n",
       " (')', 1, 0),\n",
       " ('tablets', 1, 0),\n",
       " ('general', 1, 0),\n",
       " ('anesthesia', 1, 0),\n",
       " ('(', 1, 0),\n",
       " (')', 1, 0),\n",
       " ('(', 1, 0),\n",
       " (')', 1, 0),\n",
       " ('(', 1, 0),\n",
       " ('warfarin', 1, 0),\n",
       " (')', 1, 0),\n",
       " ('warfarin', 1, 0),\n",
       " ('warfarin', 1, 0),\n",
       " ('warfarin', 1, 0),\n",
       " ('<num>/<num>', 1, 0),\n",
       " ('(', 1, 0),\n",
       " (')', 1, 0),\n",
       " ('penicillin', 1, 0),\n",
       " ('(', 1, 0),\n",
       " (')', 1, 0),\n",
       " ('(', 1, 0),\n",
       " (')', 1, 0),\n",
       " ('morphine.', 1, 0),\n",
       " ('tablets', 1, 0),\n",
       " ('(', 1, 0),\n",
       " (')', 1, 0),\n",
       " ('therapeutic', 1, 0),\n",
       " ('(', 1, 0),\n",
       " ('therapeutic', 1, 0),\n",
       " (')', 1, 0),\n",
       " ('(', 1, 0),\n",
       " (')', 1, 0),\n",
       " ('controlled', 1, 0),\n",
       " ('(', 1, 0),\n",
       " (')', 1, 0),\n",
       " ('<num>/<num>', 1, 0),\n",
       " ('(', 1, 0),\n",
       " ('propionate/...', 1, 0),\n",
       " (')', 1, 0),\n",
       " ('+', 1, 0),\n",
       " ('d', 1, 0),\n",
       " ('(', 1, 0),\n",
       " ('<num>', 1, 0),\n",
       " (',', 1, 0),\n",
       " ('<num>', 1, 0),\n",
       " ('mg', 1, 0),\n",
       " ('(', 1, 0),\n",
       " ('<num>', 1, 0),\n",
       " (')', 1, 0),\n",
       " ('mix', 1, 0),\n",
       " ('<num>/<num>', 1, 0),\n",
       " ('(', 1, 0),\n",
       " ('<num>/<num>', 1, 0),\n",
       " (')', 1, 0),\n",
       " ('slow', 1, 0),\n",
       " ('<num>/<num>', 1, 0),\n",
       " ('amiodarone;', 1, 0),\n",
       " ('strength', 1, 0),\n",
       " ('propionate/salmeterol', 1, 0),\n",
       " ('<num>/<num>', 1, 0),\n",
       " ('(', 1, 0),\n",
       " (')', 1, 0),\n",
       " ('(', 1, 0),\n",
       " (')', 1, 0),\n",
       " ('(', 1, 0),\n",
       " (')', 1, 0),\n",
       " ('ace-i', 1, 0),\n",
       " ('until', 1, 0),\n",
       " ('asa;', 1, 0),\n",
       " ('warfarin', 1, 0),\n",
       " ('warfarin', 1, 0),\n",
       " ('(', 1, 0),\n",
       " (')', 1, 0),\n",
       " ('(', 1, 0),\n",
       " (')', 1, 0),\n",
       " ('(', 1, 0),\n",
       " (')', 1, 0),\n",
       " ('guiatuss', 1, 0),\n",
       " ('(', 1, 0),\n",
       " (')', 1, 0),\n",
       " ('slow', 1, 0),\n",
       " ('(', 1, 0),\n",
       " (')', 1, 0),\n",
       " ('warfarin', 1, 0),\n",
       " ('(', 1, 0),\n",
       " (')', 1, 0),\n",
       " ('(', 1, 0),\n",
       " (')', 1, 0),\n",
       " ('(', 1, 0),\n",
       " (')', 1, 0),\n",
       " ('therapeutic', 1, 0),\n",
       " ('(', 1, 0),\n",
       " ('therapeutic', 1, 0),\n",
       " (')', 1, 0),\n",
       " ('(', 1, 0),\n",
       " ('warfarin', 1, 0),\n",
       " (')', 1, 0),\n",
       " ('warfarin', 1, 0),\n",
       " ('warfarin', 1, 0),\n",
       " ('warfarin', 1, 0),\n",
       " ('warfarin', 1, 0),\n",
       " ('warfarin', 1, 0),\n",
       " ('warfarin', 1, 0),\n",
       " ('medications', 1, 0),\n",
       " ('(', 1, 0),\n",
       " (')', 1, 0),\n",
       " ('(', 1, 0),\n",
       " (')', 1, 0),\n",
       " ('(', 1, 0),\n",
       " (')', 1, 0),\n",
       " ('slow', 1, 0),\n",
       " ('(', 1, 0),\n",
       " ('slow', 1, 0),\n",
       " ('rel.', 1, 0),\n",
       " (')', 1, 0),\n",
       " ('(', 1, 0),\n",
       " (')', 1, 0),\n",
       " ('(', 1, 0),\n",
       " (')', 1, 0)]"
      ]
     },
     "execution_count": 30,
     "metadata": {},
     "output_type": "execute_result"
    }
   ],
   "source": [
    "[(sets['test_words'][a], res[a], tru[a]) for a in range(len(sets['test_words'])) if res[a] == 1 and tru[a] == 0]"
   ]
  },
  {
   "cell_type": "code",
   "execution_count": 31,
   "metadata": {},
   "outputs": [],
   "source": [
    "proba = []\n",
    "for i in range(len(res)):\n",
    "    if not (sets['test_words'][i] == ')' or sets['test_words'][i] == '('):\n",
    "        proba.append([sets['test_words'][i], res[i], tru[i]])"
   ]
  },
  {
   "cell_type": "code",
   "execution_count": 32,
   "metadata": {},
   "outputs": [
    {
     "data": {
      "text/plain": [
       "0.64440538957234916"
      ]
     },
     "execution_count": 32,
     "metadata": {},
     "output_type": "execute_result"
    }
   ],
   "source": [
    "sk.metrics.f1_score(np.array(proba)[:,2].astype(int), np.array(proba)[:,1].astype(int), pos_label=0, average='binary')"
   ]
  },
  {
   "cell_type": "code",
   "execution_count": null,
   "metadata": {
    "collapsed": true
   },
   "outputs": [],
   "source": []
  }
 ],
 "metadata": {
  "anaconda-cloud": {},
  "kernelspec": {
   "display_name": "Python 3",
   "language": "python",
   "name": "python3"
  },
  "language_info": {
   "codemirror_mode": {
    "name": "ipython",
    "version": 3
   },
   "file_extension": ".py",
   "mimetype": "text/x-python",
   "name": "python",
   "nbconvert_exporter": "python",
   "pygments_lexer": "ipython3",
   "version": "3.5.3"
  }
 },
 "nbformat": 4,
 "nbformat_minor": 2
}
