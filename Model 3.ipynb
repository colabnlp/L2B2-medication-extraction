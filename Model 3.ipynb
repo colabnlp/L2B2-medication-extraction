{
 "cells": [
  {
   "cell_type": "code",
   "execution_count": 1,
   "metadata": {},
   "outputs": [],
   "source": [
    "import numpy as np\n",
    "import re\n",
    "import random\n",
    "\n",
    "import tensorflow as tf\n",
    "\n",
    "import Functions as fn\n",
    "from DS import DS\n",
    "from Set import pool\n",
    "from Iterator import Iterator"
   ]
  },
  {
   "cell_type": "code",
   "execution_count": 2,
   "metadata": {
    "collapsed": true
   },
   "outputs": [],
   "source": [
    "#Dataset = fn.first_time_load()\n",
    "#Dataset.write_texts()\n",
    "#Dataset.write_labels()"
   ]
  },
  {
   "cell_type": "code",
   "execution_count": 3,
   "metadata": {},
   "outputs": [
    {
     "name": "stdout",
     "output_type": "stream",
     "text": [
      "Texts loaded\n",
      "Labels loaded\n"
     ]
    }
   ],
   "source": [
    "Dataset = pool()\n",
    "Dataset.load_texts()\n",
    "Dataset.load_labels()"
   ]
  },
  {
   "cell_type": "code",
   "execution_count": 4,
   "metadata": {
    "scrolled": false
   },
   "outputs": [
    {
     "name": "stdout",
     "output_type": "stream",
     "text": [
      "Number of Texts:  4605\n",
      "Number of 2007 Smoking Challenge texts:  926\n",
      "Number of 2008 ObesityChallenge texts:  1237\n",
      "Number of 2009 Medication Challenge texts:  1249\n",
      "Number of 2010 Relations Challenge texts:  694\n",
      "Number of 2011 Coreference Challenge texts:  188\n",
      "Number of 2012 Temporal Relations Challenge texts:  311\n",
      "Number of Train Texts:  2859\n",
      "Number of Test Texts:  1746\n",
      "Number of Labeled Texts:  258\n",
      "Number of Initially Labeled Texts:  10\n",
      "Number of Competitor Labeled Texts Texts:  248\n"
     ]
    }
   ],
   "source": [
    "print('Number of Texts: ', Dataset.size)\n",
    "print('Number of 2007 Smoking Challenge texts: ', Dataset.number_of(challenge='2007 Smoking Challenge'))\n",
    "print('Number of 2008 ObesityChallenge texts: ', Dataset.number_of(challenge='2008 Obesity Challenge'))\n",
    "print('Number of 2009 Medication Challenge texts: ', Dataset.number_of(challenge='2009 Medication Challenge'))\n",
    "print('Number of 2010 Relations Challenge texts: ', Dataset.number_of(challenge='2010 Relations Challenge'))\n",
    "print('Number of 2011 Coreference Challenge texts: ', Dataset.number_of(challenge='2011 Coreference Challenge'))\n",
    "print('Number of 2012 Temporal Relations Challenge texts: ', Dataset.number_of(challenge='2012 Temporal Relations Challenge'))\n",
    "print('Number of Train Texts: ', Dataset.number_of(stage='train'))\n",
    "print('Number of Test Texts: ', Dataset.number_of(stage='test'))\n",
    "print('Number of Labeled Texts: ', Dataset.number_of(labelled='yes'))\n",
    "print('Number of Initially Labeled Texts: ', Dataset.number_of(labelled='yes', label_type='train'))\n",
    "print('Number of Competitor Labeled Texts Texts: ', Dataset.number_of(labelled='yes', label_type='test'))"
   ]
  },
  {
   "cell_type": "code",
   "execution_count": 5,
   "metadata": {
    "collapsed": true
   },
   "outputs": [],
   "source": [
    "Dataset.process_for_embedding()\n",
    "sentences = Dataset.get_sentences()"
   ]
  },
  {
   "cell_type": "code",
   "execution_count": 6,
   "metadata": {},
   "outputs": [
    {
     "name": "stdout",
     "output_type": "stream",
     "text": [
      "Number of: m=928, do=119, mo=76, f=79, du=80, r=482\n"
     ]
    }
   ],
   "source": [
    "medications, dosages, modes, frequencies, durations, reasons = fn.label_words(Dataset)"
   ]
  },
  {
   "cell_type": "code",
   "execution_count": 7,
   "metadata": {},
   "outputs": [
    {
     "name": "stderr",
     "output_type": "stream",
     "text": [
      "C:\\Users\\Luka\\Anaconda3\\envs\\tensorflow\\lib\\site-packages\\gensim\\utils.py:860: UserWarning: detected Windows; aliasing chunkize to chunkize_serial\n",
      "  warnings.warn(\"detected Windows; aliasing chunkize to chunkize_serial\")\n"
     ]
    }
   ],
   "source": [
    "from gensim.models import Word2Vec"
   ]
  },
  {
   "cell_type": "code",
   "execution_count": 8,
   "metadata": {
    "collapsed": true
   },
   "outputs": [],
   "source": [
    "model_I2B2 = Word2Vec(sentences, min_count=1, size=100)"
   ]
  },
  {
   "cell_type": "code",
   "execution_count": 9,
   "metadata": {},
   "outputs": [],
   "source": [
    "#model_I2B2.most_similar(\"prozac\", topn=20)"
   ]
  },
  {
   "cell_type": "code",
   "execution_count": 10,
   "metadata": {},
   "outputs": [],
   "source": [
    "#fn.visualise(model=model_I2B2, sentences=sentences, labels=[reasons], topn=1000, title='Reasons in top 1000 words')"
   ]
  },
  {
   "cell_type": "code",
   "execution_count": 38,
   "metadata": {},
   "outputs": [
    {
     "name": "stdout",
     "output_type": "stream",
     "text": [
      "Train label percentage: 0.106000\n",
      "Test ratio: 0.502000\n"
     ]
    }
   ],
   "source": [
    "train_set, train_labels, test_set, test_labels = fn.get_traintest(model_I2B2, reasons, 2000, 500, 10, 50, False, False)"
   ]
  },
  {
   "cell_type": "code",
   "execution_count": 39,
   "metadata": {
    "collapsed": true
   },
   "outputs": [],
   "source": [
    "def weight_variable(shape):\n",
    "    initial = tf.truncated_normal(shape, stddev=0.05)\n",
    "    return tf.Variable(initial)\n",
    "\n",
    "def bias_variable(shape):\n",
    "    initial = tf.constant(0.1, shape=shape)\n",
    "    return tf.Variable(initial)"
   ]
  },
  {
   "cell_type": "code",
   "execution_count": 41,
   "metadata": {},
   "outputs": [
    {
     "name": "stdout",
     "output_type": "stream",
     "text": [
      "WARNING:tensorflow:From C:\\Users\\Luka\\Anaconda3\\envs\\tensorflow\\lib\\site-packages\\tensorflow\\python\\util\\tf_should_use.py:170: initialize_all_variables (from tensorflow.python.ops.variables) is deprecated and will be removed after 2017-03-02.\n",
      "Instructions for updating:\n",
      "Use `tf.global_variables_initializer` instead.\n",
      "Epoch: 0, Training Accuracy: 0.940000, Test Accuracy: 0.498000\n",
      "Epoch: 100, Training Accuracy: 0.980000, Test Accuracy: 0.796000\n",
      "Epoch: 200, Training Accuracy: 1.000000, Test Accuracy: 0.798000\n",
      "Epoch: 300, Training Accuracy: 0.960000, Test Accuracy: 0.804000\n",
      "Epoch: 400, Training Accuracy: 0.980000, Test Accuracy: 0.800000\n",
      "Epoch: 500, Training Accuracy: 0.980000, Test Accuracy: 0.800000\n",
      "Epoch: 600, Training Accuracy: 0.980000, Test Accuracy: 0.798000\n",
      "Epoch: 700, Training Accuracy: 1.000000, Test Accuracy: 0.800000\n",
      "Epoch: 800, Training Accuracy: 1.000000, Test Accuracy: 0.800000\n",
      "Epoch: 900, Training Accuracy: 1.000000, Test Accuracy: 0.800000\n",
      "Epoch: 1000, Training Accuracy: 0.980000, Test Accuracy: 0.800000\n",
      "\n",
      "Final Test Accuracy: 0.800000\n"
     ]
    }
   ],
   "source": [
    "node_count_1 = 100\n",
    "\n",
    "x = tf.placeholder(tf.float32, shape=[None, 100])\n",
    "y_ = tf.placeholder(tf.float32, shape=[None, 2])\n",
    "\n",
    "# Define the first layer here\n",
    "W = weight_variable([100, node_count_1])\n",
    "b = bias_variable([node_count_1])\n",
    "h = tf.nn.sigmoid(tf.matmul(x, W) + b)\n",
    "\n",
    "# Use dropout for this layer (should you wish)\n",
    "#keep_prob = tf.placeholder(tf.float32)\n",
    "#h_drop = tf.nn.dropout(h1, keep_prob)\n",
    "\n",
    "# Define the second layer here\n",
    "#W2 = weight_variable([node_count_1, node_count_2])\n",
    "#b2 = bias_variable([node_count_2])\n",
    "#h2 = tf.nn.sigmoid(tf.matmul(h, W) + b)\n",
    "\n",
    "# Define the output layer here\n",
    "V = weight_variable([node_count_1, 2])\n",
    "c = bias_variable([2])\n",
    "y = tf.nn.softmax(tf.matmul(h, V) + c)\n",
    "\n",
    "# We'll use the cross entropy loss function \n",
    "cross_entropy = tf.reduce_mean(tf.nn.softmax_cross_entropy_with_logits(logits=y, labels=y_))\n",
    "\n",
    "# And classification accuracy\n",
    "correct_prediction = tf.equal(tf.argmax(y, 1), tf.argmax(y_, 1))\n",
    "accuracy = tf.reduce_mean(tf.cast(correct_prediction, tf.float32))\n",
    "\n",
    "# And the Adam optimiser\n",
    "train_step = tf.train.AdamOptimizer(learning_rate=1e-2).minimize(cross_entropy)\n",
    "\n",
    "# Start a tf session and run the optimisation algorithm\n",
    "sess = tf.Session()\n",
    "sess.run(tf.initialize_all_variables())\n",
    "\n",
    "training = Iterator(train_set, train_labels)\n",
    "train_accuracy = 0\n",
    "test_accuracy = 0\n",
    "N = 0\n",
    "\n",
    "while training.epochs < 1000:\n",
    "    trd, trl = training.next_batch(50)\n",
    "    if N % 4000 == 0:\n",
    "        train_accuracy = sess.run(accuracy, feed_dict={x: trd, y_: trl})\n",
    "        test_accuracy = sess.run(accuracy, feed_dict={x: test_set, y_: test_labels})\n",
    "        print(\"Epoch: %d, Training Accuracy: %f, Test Accuracy: %f\" % (training.epochs, train_accuracy, test_accuracy))\n",
    "    sess.run(train_step, feed_dict={x: trd, y_: trl})\n",
    "    N += 1\n",
    "    \n",
    "print(\"\\nFinal Test Accuracy: %f\" % (sess.run(accuracy, feed_dict={x: test_set, y_: test_labels})))"
   ]
  },
  {
   "cell_type": "code",
   "execution_count": null,
   "metadata": {
    "collapsed": true
   },
   "outputs": [],
   "source": []
  }
 ],
 "metadata": {
  "anaconda-cloud": {},
  "kernelspec": {
   "display_name": "Python 3",
   "language": "python",
   "name": "python3"
  },
  "language_info": {
   "codemirror_mode": {
    "name": "ipython",
    "version": 3
   },
   "file_extension": ".py",
   "mimetype": "text/x-python",
   "name": "python",
   "nbconvert_exporter": "python",
   "pygments_lexer": "ipython3",
   "version": "3.5.3"
  }
 },
 "nbformat": 4,
 "nbformat_minor": 2
}
