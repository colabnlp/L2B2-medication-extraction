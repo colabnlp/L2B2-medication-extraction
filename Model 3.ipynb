{
 "cells": [
  {
   "cell_type": "code",
   "execution_count": 1,
   "metadata": {},
   "outputs": [
    {
     "data": {
      "text/html": [
       "\n",
       "    <div class=\"bk-root\">\n",
       "        <a href=\"http://bokeh.pydata.org\" target=\"_blank\" class=\"bk-logo bk-logo-small bk-logo-notebook\"></a>\n",
       "        <span id=\"8340d932-660d-4e18-a924-5a576e30cb7f\">Loading BokehJS ...</span>\n",
       "    </div>"
      ]
     },
     "metadata": {},
     "output_type": "display_data"
    },
    {
     "data": {
      "application/javascript": [
       "\n",
       "(function(global) {\n",
       "  function now() {\n",
       "    return new Date();\n",
       "  }\n",
       "\n",
       "  var force = true;\n",
       "\n",
       "  if (typeof (window._bokeh_onload_callbacks) === \"undefined\" || force === true) {\n",
       "    window._bokeh_onload_callbacks = [];\n",
       "    window._bokeh_is_loading = undefined;\n",
       "  }\n",
       "\n",
       "\n",
       "  \n",
       "  if (typeof (window._bokeh_timeout) === \"undefined\" || force === true) {\n",
       "    window._bokeh_timeout = Date.now() + 5000;\n",
       "    window._bokeh_failed_load = false;\n",
       "  }\n",
       "\n",
       "  var NB_LOAD_WARNING = {'data': {'text/html':\n",
       "     \"<div style='background-color: #fdd'>\\n\"+\n",
       "     \"<p>\\n\"+\n",
       "     \"BokehJS does not appear to have successfully loaded. If loading BokehJS from CDN, this \\n\"+\n",
       "     \"may be due to a slow or bad network connection. Possible fixes:\\n\"+\n",
       "     \"</p>\\n\"+\n",
       "     \"<ul>\\n\"+\n",
       "     \"<li>re-rerun `output_notebook()` to attempt to load from CDN again, or</li>\\n\"+\n",
       "     \"<li>use INLINE resources instead, as so:</li>\\n\"+\n",
       "     \"</ul>\\n\"+\n",
       "     \"<code>\\n\"+\n",
       "     \"from bokeh.resources import INLINE\\n\"+\n",
       "     \"output_notebook(resources=INLINE)\\n\"+\n",
       "     \"</code>\\n\"+\n",
       "     \"</div>\"}};\n",
       "\n",
       "  function display_loaded() {\n",
       "    if (window.Bokeh !== undefined) {\n",
       "      var el = document.getElementById(\"8340d932-660d-4e18-a924-5a576e30cb7f\");\n",
       "      el.textContent = \"BokehJS \" + Bokeh.version + \" successfully loaded.\";\n",
       "    } else if (Date.now() < window._bokeh_timeout) {\n",
       "      setTimeout(display_loaded, 100)\n",
       "    }\n",
       "  }\n",
       "\n",
       "  function run_callbacks() {\n",
       "    try {\n",
       "      window._bokeh_onload_callbacks.forEach(function(callback) { callback() });\n",
       "    }\n",
       "    finally {\n",
       "      delete window._bokeh_onload_callbacks\n",
       "    }\n",
       "    console.info(\"Bokeh: all callbacks have finished\");\n",
       "  }\n",
       "\n",
       "  function load_libs(js_urls, callback) {\n",
       "    window._bokeh_onload_callbacks.push(callback);\n",
       "    if (window._bokeh_is_loading > 0) {\n",
       "      console.log(\"Bokeh: BokehJS is being loaded, scheduling callback at\", now());\n",
       "      return null;\n",
       "    }\n",
       "    if (js_urls == null || js_urls.length === 0) {\n",
       "      run_callbacks();\n",
       "      return null;\n",
       "    }\n",
       "    console.log(\"Bokeh: BokehJS not loaded, scheduling load and callback at\", now());\n",
       "    window._bokeh_is_loading = js_urls.length;\n",
       "    for (var i = 0; i < js_urls.length; i++) {\n",
       "      var url = js_urls[i];\n",
       "      var s = document.createElement('script');\n",
       "      s.src = url;\n",
       "      s.async = false;\n",
       "      s.onreadystatechange = s.onload = function() {\n",
       "        window._bokeh_is_loading--;\n",
       "        if (window._bokeh_is_loading === 0) {\n",
       "          console.log(\"Bokeh: all BokehJS libraries loaded\");\n",
       "          run_callbacks()\n",
       "        }\n",
       "      };\n",
       "      s.onerror = function() {\n",
       "        console.warn(\"failed to load library \" + url);\n",
       "      };\n",
       "      console.log(\"Bokeh: injecting script tag for BokehJS library: \", url);\n",
       "      document.getElementsByTagName(\"head\")[0].appendChild(s);\n",
       "    }\n",
       "  };var element = document.getElementById(\"8340d932-660d-4e18-a924-5a576e30cb7f\");\n",
       "  if (element == null) {\n",
       "    console.log(\"Bokeh: ERROR: autoload.js configured with elementid '8340d932-660d-4e18-a924-5a576e30cb7f' but no matching script tag was found. \")\n",
       "    return false;\n",
       "  }\n",
       "\n",
       "  var js_urls = [\"https://cdn.pydata.org/bokeh/release/bokeh-0.12.6.min.js\", \"https://cdn.pydata.org/bokeh/release/bokeh-widgets-0.12.6.min.js\"];\n",
       "\n",
       "  var inline_js = [\n",
       "    function(Bokeh) {\n",
       "      Bokeh.set_log_level(\"info\");\n",
       "    },\n",
       "    \n",
       "    function(Bokeh) {\n",
       "      \n",
       "    },\n",
       "    \n",
       "    function(Bokeh) {\n",
       "      \n",
       "      document.getElementById(\"8340d932-660d-4e18-a924-5a576e30cb7f\").textContent = \"BokehJS is loading...\";\n",
       "    },\n",
       "    function(Bokeh) {\n",
       "      console.log(\"Bokeh: injecting CSS: https://cdn.pydata.org/bokeh/release/bokeh-0.12.6.min.css\");\n",
       "      Bokeh.embed.inject_css(\"https://cdn.pydata.org/bokeh/release/bokeh-0.12.6.min.css\");\n",
       "      console.log(\"Bokeh: injecting CSS: https://cdn.pydata.org/bokeh/release/bokeh-widgets-0.12.6.min.css\");\n",
       "      Bokeh.embed.inject_css(\"https://cdn.pydata.org/bokeh/release/bokeh-widgets-0.12.6.min.css\");\n",
       "    }\n",
       "  ];\n",
       "\n",
       "  function run_inline_js() {\n",
       "    \n",
       "    if ((window.Bokeh !== undefined) || (force === true)) {\n",
       "      for (var i = 0; i < inline_js.length; i++) {\n",
       "        inline_js[i](window.Bokeh);\n",
       "      }if (force === true) {\n",
       "        display_loaded();\n",
       "      }} else if (Date.now() < window._bokeh_timeout) {\n",
       "      setTimeout(run_inline_js, 100);\n",
       "    } else if (!window._bokeh_failed_load) {\n",
       "      console.log(\"Bokeh: BokehJS failed to load within specified timeout.\");\n",
       "      window._bokeh_failed_load = true;\n",
       "    } else if (force !== true) {\n",
       "      var cell = $(document.getElementById(\"8340d932-660d-4e18-a924-5a576e30cb7f\")).parents('.cell').data().cell;\n",
       "      cell.output_area.append_execute_result(NB_LOAD_WARNING)\n",
       "    }\n",
       "\n",
       "  }\n",
       "\n",
       "  if (window._bokeh_is_loading === 0) {\n",
       "    console.log(\"Bokeh: BokehJS loaded, going straight to plotting\");\n",
       "    run_inline_js();\n",
       "  } else {\n",
       "    load_libs(js_urls, function() {\n",
       "      console.log(\"Bokeh: BokehJS plotting callback run at\", now());\n",
       "      run_inline_js();\n",
       "    });\n",
       "  }\n",
       "}(this));"
      ]
     },
     "metadata": {},
     "output_type": "display_data"
    }
   ],
   "source": [
    "import numpy as np\n",
    "import re\n",
    "import random\n",
    "\n",
    "import tensorflow as tf\n",
    "\n",
    "import Functions as fn\n",
    "from DS import DS\n",
    "from Set import pool\n",
    "from Iterator import Iterator"
   ]
  },
  {
   "cell_type": "code",
   "execution_count": 2,
   "metadata": {
    "collapsed": true
   },
   "outputs": [],
   "source": [
    "#Dataset = fn.first_time_load()\n",
    "#Dataset.writeTexts()\n",
    "#Dataset.writeLabels()"
   ]
  },
  {
   "cell_type": "code",
   "execution_count": 3,
   "metadata": {},
   "outputs": [
    {
     "name": "stdout",
     "output_type": "stream",
     "text": [
      "Texts loaded\n",
      "Labels loaded\n"
     ]
    }
   ],
   "source": [
    "Dataset = pool()\n",
    "Dataset.loadTexts()\n",
    "Dataset.loadLabels()"
   ]
  },
  {
   "cell_type": "code",
   "execution_count": 4,
   "metadata": {
    "scrolled": false
   },
   "outputs": [
    {
     "name": "stdout",
     "output_type": "stream",
     "text": [
      "Number of Texts:  4605\n",
      "Number of 2007 Smoking Challenge texts:  926\n",
      "Number of 2008 ObesityChallenge texts:  1237\n",
      "Number of 2009 Medication Challenge texts:  1249\n",
      "Number of 2010 Relations Challenge texts:  694\n",
      "Number of 2011 Coreference Challenge texts:  188\n",
      "Number of 2012 Temporal Relations Challenge texts:  311\n",
      "Number of Train Texts:  2859\n",
      "Number of Test Texts:  1746\n",
      "Number of Labeled Texts:  258\n",
      "Number of Initially Labeled Texts:  10\n",
      "Number of Competitor Labeled Texts Texts:  248\n"
     ]
    }
   ],
   "source": [
    "print('Number of Texts: ', Dataset.size)\n",
    "print('Number of 2007 Smoking Challenge texts: ', Dataset.numberOf(challenge='2007 Smoking Challenge'))\n",
    "print('Number of 2008 ObesityChallenge texts: ', Dataset.numberOf(challenge='2008 Obesity Challenge'))\n",
    "print('Number of 2009 Medication Challenge texts: ', Dataset.numberOf(challenge='2009 Medication Challenge'))\n",
    "print('Number of 2010 Relations Challenge texts: ', Dataset.numberOf(challenge='2010 Relations Challenge'))\n",
    "print('Number of 2011 Coreference Challenge texts: ', Dataset.numberOf(challenge='2011 Coreference Challenge'))\n",
    "print('Number of 2012 Temporal Relations Challenge texts: ', Dataset.numberOf(challenge='2012 Temporal Relations Challenge'))\n",
    "print('Number of Train Texts: ', Dataset.numberOf(stage='train'))\n",
    "print('Number of Test Texts: ', Dataset.numberOf(stage='test'))\n",
    "print('Number of Labeled Texts: ', Dataset.numberOf(labelled='yes'))\n",
    "print('Number of Initially Labeled Texts: ', Dataset.numberOf(labelled='yes', label_type='train'))\n",
    "print('Number of Competitor Labeled Texts Texts: ', Dataset.numberOf(labelled='yes', label_type='test'))"
   ]
  },
  {
   "cell_type": "code",
   "execution_count": 5,
   "metadata": {},
   "outputs": [],
   "source": [
    "Dataset.processForEmbedding()\n",
    "sentences = Dataset.getSentences()"
   ]
  },
  {
   "cell_type": "code",
   "execution_count": 6,
   "metadata": {},
   "outputs": [
    {
     "name": "stdout",
     "output_type": "stream",
     "text": [
      "Number of: m=928, do=119, mo=76, f=79, du=80, r=482\n"
     ]
    }
   ],
   "source": [
    "medications, dosages, modes, frequencies, durations, reasons = fn.label_words(Dataset)"
   ]
  },
  {
   "cell_type": "code",
   "execution_count": 7,
   "metadata": {},
   "outputs": [
    {
     "name": "stderr",
     "output_type": "stream",
     "text": [
      "C:\\Users\\Luka\\Anaconda3\\envs\\tensorflow\\lib\\site-packages\\gensim\\utils.py:860: UserWarning: detected Windows; aliasing chunkize to chunkize_serial\n",
      "  warnings.warn(\"detected Windows; aliasing chunkize to chunkize_serial\")\n"
     ]
    }
   ],
   "source": [
    "from gensim.models import Word2Vec"
   ]
  },
  {
   "cell_type": "code",
   "execution_count": 8,
   "metadata": {
    "collapsed": true
   },
   "outputs": [],
   "source": [
    "model_I2B2 = Word2Vec(sentences, min_count=1, size=100)"
   ]
  },
  {
   "cell_type": "code",
   "execution_count": 9,
   "metadata": {},
   "outputs": [],
   "source": [
    "#model_I2B2.most_similar(\"doctor\")"
   ]
  },
  {
   "cell_type": "code",
   "execution_count": 10,
   "metadata": {},
   "outputs": [
    {
     "data": {
      "text/html": [
       "\n",
       "\n",
       "    <div class=\"bk-root\">\n",
       "        <div class=\"bk-plotdiv\" id=\"a192893b-26bd-42aa-9c3f-6ec446388481\"></div>\n",
       "    </div>\n",
       "<script type=\"text/javascript\">\n",
       "  \n",
       "  (function(global) {\n",
       "    function now() {\n",
       "      return new Date();\n",
       "    }\n",
       "  \n",
       "    var force = false;\n",
       "  \n",
       "    if (typeof (window._bokeh_onload_callbacks) === \"undefined\" || force === true) {\n",
       "      window._bokeh_onload_callbacks = [];\n",
       "      window._bokeh_is_loading = undefined;\n",
       "    }\n",
       "  \n",
       "  \n",
       "    \n",
       "    if (typeof (window._bokeh_timeout) === \"undefined\" || force === true) {\n",
       "      window._bokeh_timeout = Date.now() + 0;\n",
       "      window._bokeh_failed_load = false;\n",
       "    }\n",
       "  \n",
       "    var NB_LOAD_WARNING = {'data': {'text/html':\n",
       "       \"<div style='background-color: #fdd'>\\n\"+\n",
       "       \"<p>\\n\"+\n",
       "       \"BokehJS does not appear to have successfully loaded. If loading BokehJS from CDN, this \\n\"+\n",
       "       \"may be due to a slow or bad network connection. Possible fixes:\\n\"+\n",
       "       \"</p>\\n\"+\n",
       "       \"<ul>\\n\"+\n",
       "       \"<li>re-rerun `output_notebook()` to attempt to load from CDN again, or</li>\\n\"+\n",
       "       \"<li>use INLINE resources instead, as so:</li>\\n\"+\n",
       "       \"</ul>\\n\"+\n",
       "       \"<code>\\n\"+\n",
       "       \"from bokeh.resources import INLINE\\n\"+\n",
       "       \"output_notebook(resources=INLINE)\\n\"+\n",
       "       \"</code>\\n\"+\n",
       "       \"</div>\"}};\n",
       "  \n",
       "    function display_loaded() {\n",
       "      if (window.Bokeh !== undefined) {\n",
       "        var el = document.getElementById(\"a192893b-26bd-42aa-9c3f-6ec446388481\");\n",
       "        el.textContent = \"BokehJS \" + Bokeh.version + \" successfully loaded.\";\n",
       "      } else if (Date.now() < window._bokeh_timeout) {\n",
       "        setTimeout(display_loaded, 100)\n",
       "      }\n",
       "    }\n",
       "  \n",
       "    function run_callbacks() {\n",
       "      try {\n",
       "        window._bokeh_onload_callbacks.forEach(function(callback) { callback() });\n",
       "      }\n",
       "      finally {\n",
       "        delete window._bokeh_onload_callbacks\n",
       "      }\n",
       "      console.info(\"Bokeh: all callbacks have finished\");\n",
       "    }\n",
       "  \n",
       "    function load_libs(js_urls, callback) {\n",
       "      window._bokeh_onload_callbacks.push(callback);\n",
       "      if (window._bokeh_is_loading > 0) {\n",
       "        console.log(\"Bokeh: BokehJS is being loaded, scheduling callback at\", now());\n",
       "        return null;\n",
       "      }\n",
       "      if (js_urls == null || js_urls.length === 0) {\n",
       "        run_callbacks();\n",
       "        return null;\n",
       "      }\n",
       "      console.log(\"Bokeh: BokehJS not loaded, scheduling load and callback at\", now());\n",
       "      window._bokeh_is_loading = js_urls.length;\n",
       "      for (var i = 0; i < js_urls.length; i++) {\n",
       "        var url = js_urls[i];\n",
       "        var s = document.createElement('script');\n",
       "        s.src = url;\n",
       "        s.async = false;\n",
       "        s.onreadystatechange = s.onload = function() {\n",
       "          window._bokeh_is_loading--;\n",
       "          if (window._bokeh_is_loading === 0) {\n",
       "            console.log(\"Bokeh: all BokehJS libraries loaded\");\n",
       "            run_callbacks()\n",
       "          }\n",
       "        };\n",
       "        s.onerror = function() {\n",
       "          console.warn(\"failed to load library \" + url);\n",
       "        };\n",
       "        console.log(\"Bokeh: injecting script tag for BokehJS library: \", url);\n",
       "        document.getElementsByTagName(\"head\")[0].appendChild(s);\n",
       "      }\n",
       "    };var element = document.getElementById(\"a192893b-26bd-42aa-9c3f-6ec446388481\");\n",
       "    if (element == null) {\n",
       "      console.log(\"Bokeh: ERROR: autoload.js configured with elementid 'a192893b-26bd-42aa-9c3f-6ec446388481' but no matching script tag was found. \")\n",
       "      return false;\n",
       "    }\n",
       "  \n",
       "    var js_urls = [];\n",
       "  \n",
       "    var inline_js = [\n",
       "      function(Bokeh) {\n",
       "        (function() {\n",
       "          var fn = function() {\n",
       "            var docs_json = {\"940a7eeb-6de7-4568-a7f6-d10d4c4437d3\":{\"roots\":{\"references\":[{\"attributes\":{\"callback\":null},\"id\":\"244b91ba-d7ca-4fc8-bee7-270a41e2474d\",\"type\":\"DataRange1d\"},{\"attributes\":{\"data_source\":{\"id\":\"ebb87fec-c98a-40c2-bdb1-ccf1dcb68f6b\",\"type\":\"ColumnDataSource\"},\"glyph\":{\"id\":\"f8c878c3-8ec9-4724-a8d2-010ed25a310b\",\"type\":\"Circle\"},\"hover_glyph\":null,\"muted_glyph\":null,\"nonselection_glyph\":{\"id\":\"8fa2228b-c82c-4753-9a13-d745a844bffc\",\"type\":\"Circle\"},\"selection_glyph\":null},\"id\":\"09075011-dcd2-4db7-894b-4567db2e822b\",\"type\":\"GlyphRenderer\"},{\"attributes\":{},\"id\":\"841f47e9-7804-421e-9701-d7a1b05e2aae\",\"type\":\"BasicTicker\"},{\"attributes\":{},\"id\":\"bdf4d9ab-0c8a-4580-bd5f-f9dfe200c4b0\",\"type\":\"BasicTicker\"},{\"attributes\":{\"plot\":{\"id\":\"6db30ed1-7a26-4b3b-af3b-9837c2c42aa3\",\"subtype\":\"Figure\",\"type\":\"Plot\"}},\"id\":\"2e1ffa38-edde-45e0-ba16-9df8bafe68aa\",\"type\":\"SaveTool\"},{\"attributes\":{},\"id\":\"180017d4-de5c-4eff-bff7-548771c5e38e\",\"type\":\"LinearScale\"},{\"attributes\":{\"active_drag\":\"auto\",\"active_inspect\":\"auto\",\"active_scroll\":\"auto\",\"active_tap\":\"auto\",\"tools\":[{\"id\":\"1722f9f9-eed6-4645-8ba5-e470c85846ab\",\"type\":\"PanTool\"},{\"id\":\"47829b47-1ff7-4d96-8c3c-30990462cd6f\",\"type\":\"WheelZoomTool\"},{\"id\":\"98470e09-0a60-42a7-832a-07ab792dce63\",\"type\":\"ResetTool\"},{\"id\":\"2e1ffa38-edde-45e0-ba16-9df8bafe68aa\",\"type\":\"SaveTool\"}]},\"id\":\"058894ea-5538-49a4-9eff-46bbd8f80f9d\",\"type\":\"Toolbar\"},{\"attributes\":{\"formatter\":{\"id\":\"63fc8b33-aed1-4249-93f1-a8257ccadb13\",\"type\":\"BasicTickFormatter\"},\"plot\":{\"id\":\"6db30ed1-7a26-4b3b-af3b-9837c2c42aa3\",\"subtype\":\"Figure\",\"type\":\"Plot\"},\"ticker\":{\"id\":\"bdf4d9ab-0c8a-4580-bd5f-f9dfe200c4b0\",\"type\":\"BasicTicker\"}},\"id\":\"d791de8b-03c5-469f-916f-1691ef4e6f33\",\"type\":\"LinearAxis\"},{\"attributes\":{\"callback\":null,\"column_names\":[\"coloring\",\"names\",\"x1\",\"x2\"],\"data\":{\"coloring\":[\"red\",\"red\",\"red\",\"red\",\"red\",\"red\",\"red\",\"red\",\"red\",\"red\",\"red\",\"red\",\"red\",\"red\",\"red\",\"red\",\"red\",\"red\",\"red\",\"red\",\"red\",\"red\",\"red\",\"red\",\"red\",\"red\",\"red\",\"red\",\"red\",\"red\",\"red\",\"red\",\"red\",\"red\",\"red\",\"red\",\"red\",\"red\",\"red\",\"red\",\"red\",\"red\",\"red\",\"red\",\"red\",\"red\",\"red\",\"red\",\"red\",\"red\",\"red\",\"red\",\"red\",\"red\",\"red\",\"red\",\"red\",\"red\",\"red\",\"red\",\"red\",\"red\",\"red\",\"red\",\"red\",\"red\",\"red\",\"red\",\"red\",\"red\",\"red\",\"red\",\"red\",\"red\",\"red\",\"red\",\"red\",\"red\",\"red\",\"red\",\"red\",\"red\",\"red\",\"red\",\"red\",\"red\",\"red\",\"red\",\"red\",\"red\",\"red\",\"red\",\"red\",\"red\",\"red\",\"red\",\"red\",\"red\",\"red\",\"red\",\"red\",\"red\",\"red\",\"red\",\"red\",\"red\",\"red\",\"red\",\"red\",\"red\",\"red\",\"red\",\"red\",\"red\",\"red\",\"red\",\"red\",\"red\",\"red\",\"red\",\"red\",\"red\",\"red\",\"red\",\"red\",\"red\",\"red\",\"red\",\"red\",\"red\",\"red\",\"red\",\"red\",\"red\",\"red\",\"red\",\"red\",\"red\",\"red\",\"red\",\"red\",\"red\",\"red\",\"red\",\"red\",\"red\",\"red\",\"red\",\"red\",\"red\",\"red\",\"red\",\"red\",\"red\",\"red\",\"red\",\"red\",\"red\",\"red\",\"red\",\"red\",\"red\",\"red\",\"red\",\"red\",\"red\",\"red\",\"red\",\"red\",\"red\",\"red\",\"red\",\"red\",\"red\",\"red\",\"red\",\"red\",\"red\",\"red\",\"red\",\"red\",\"red\",\"red\",\"red\",\"red\",\"red\",\"red\",\"red\",\"red\",\"red\",\"red\",\"red\",\"red\",\"red\",\"red\",\"red\",\"red\",\"red\",\"red\",\"red\",\"red\",\"red\",\"red\",\"red\",\"red\",\"red\",\"red\",\"red\",\"red\",\"red\",\"red\",\"red\",\"red\",\"red\",\"red\",\"red\",\"red\",\"red\",\"red\",\"red\",\"red\",\"red\",\"red\",\"red\",\"red\",\"red\",\"red\",\"red\",\"red\",\"red\",\"red\",\"red\",\"red\",\"red\",\"red\",\"red\",\"red\",\"red\",\"red\",\"red\",\"red\",\"red\",\"red\",\"red\",\"red\",\"red\",\"red\",\"red\",\"red\",\"red\",\"red\",\"red\",\"red\",\"red\",\"red\",\"red\",\"red\",\"red\",\"red\",\"red\",\"red\",\"red\",\"red\",\"red\",\"red\",\"red\",\"red\",\"red\",\"red\",\"red\",\"red\",\"red\",\"red\",\"red\",\"red\",\"red\",\"red\",\"red\",\"red\",\"red\",\"red\",\"red\",\"red\",\"red\",\"red\",\"red\",\"red\",\"red\",\"red\",\"red\",\"red\",\"red\",\"red\",\"red\",\"red\",\"red\",\"red\",\"red\",\"red\",\"red\",\"red\",\"red\",\"red\",\"red\",\"red\",\"red\",\"red\",\"red\",\"red\",\"red\",\"red\",\"red\",\"red\",\"red\",\"red\",\"red\",\"red\",\"red\",\"red\",\"red\",\"red\",\"red\",\"red\",\"red\",\"red\",\"red\",\"red\",\"red\",\"red\",\"red\",\"red\",\"red\",\"red\",\"red\",\"red\",\"red\",\"red\",\"red\",\"red\",\"red\",\"red\",\"red\",\"red\",\"red\",\"red\",\"red\",\"red\",\"red\",\"red\",\"red\",\"red\",\"red\",\"red\",\"red\",\"red\",\"red\",\"red\",\"red\",\"red\",\"red\",\"red\",\"red\",\"red\",\"red\",\"red\",\"red\",\"red\",\"red\",\"red\",\"red\",\"red\",\"red\",\"red\",\"red\",\"red\",\"red\",\"red\",\"red\",\"red\",\"red\",\"red\",\"red\",\"red\",\"red\",\"red\",\"red\",\"red\",\"red\",\"red\",\"red\",\"red\",\"red\",\"red\",\"red\",\"red\",\"red\",\"red\",\"red\",\"red\",\"red\",\"red\",\"red\",\"red\",\"red\",\"red\",\"red\",\"red\",\"red\",\"red\",\"red\",\"red\",\"red\",\"red\",\"red\",\"red\",\"red\",\"red\",\"red\",\"red\",\"red\",\"red\",\"red\",\"red\",\"red\",\"red\",\"red\",\"red\",\"red\",\"red\",\"red\",\"red\",\"red\",\"red\",\"red\",\"red\",\"red\",\"red\",\"red\",\"red\",\"red\",\"red\",\"red\",\"red\",\"red\",\"red\",\"red\",\"red\",\"red\",\"red\",\"red\",\"red\",\"red\",\"red\",\"red\",\"red\",\"red\",\"red\",\"red\",\"red\",\"red\",\"red\",\"red\",\"red\",\"red\",\"red\",\"red\",\"red\",\"red\",\"red\",\"red\",\"red\",\"red\",\"red\",\"red\",\"red\",\"red\",\"red\",\"red\",\"red\",\"red\",\"red\",\"red\",\"red\",\"red\",\"red\",\"red\",\"red\",\"red\",\"red\",\"red\",\"red\",\"red\",\"red\",\"red\",\"red\",\"red\",\"red\",\"red\",\"red\",\"red\",\"red\",\"red\",\"red\",\"red\",\"red\",\"red\",\"red\",\"red\",\"red\",\"red\",\"red\",\"red\",\"red\",\"red\",\"red\",\"red\",\"red\",\"red\",\"red\",\"red\",\"red\",\"red\",\"red\",\"red\",\"red\",\"red\",\"red\",\"red\",\"red\",\"red\",\"red\",\"red\",\"red\",\"red\",\"red\",\"red\",\"red\",\"red\",\"red\",\"red\",\"red\",\"red\",\"red\",\"red\",\"red\",\"red\",\"red\",\"red\",\"red\",\"red\",\"red\",\"red\",\"red\",\"red\",\"red\",\"red\",\"red\",\"red\",\"red\",\"red\",\"red\",\"red\",\"red\",\"red\",\"red\",\"red\",\"red\",\"red\",\"red\",\"red\",\"red\",\"red\",\"red\",\"red\",\"red\",\"red\",\"red\",\"red\",\"red\",\"red\",\"red\",\"red\",\"red\",\"red\",\"red\",\"red\",\"red\",\"red\",\"red\",\"red\",\"red\",\"red\",\"red\",\"red\",\"red\",\"red\",\"red\",\"red\",\"red\",\"red\",\"red\",\"red\",\"red\",\"red\",\"red\",\"red\",\"red\",\"red\",\"red\",\"red\",\"red\",\"red\",\"red\",\"red\",\"red\",\"red\",\"red\",\"red\",\"red\",\"red\",\"red\",\"red\",\"red\",\"red\",\"red\",\"red\",\"red\",\"red\",\"red\",\"red\",\"red\",\"red\",\"red\",\"red\",\"red\",\"red\",\"red\",\"red\",\"red\",\"red\",\"red\",\"red\",\"red\",\"red\",\"red\",\"red\",\"red\",\"red\",\"red\",\"red\",\"red\",\"red\",\"red\",\"red\",\"red\",\"red\",\"red\",\"red\",\"red\",\"red\",\"red\",\"red\",\"red\",\"red\",\"red\",\"red\",\"red\",\"red\",\"red\",\"red\",\"red\",\"red\",\"red\",\"red\",\"red\",\"red\",\"red\",\"red\",\"red\",\"red\",\"red\",\"red\",\"red\",\"red\",\"red\",\"red\",\"red\",\"red\",\"red\",\"red\",\"red\",\"red\",\"red\",\"red\",\"red\",\"red\",\"red\",\"red\",\"red\",\"red\",\"red\",\"red\",\"red\",\"red\",\"red\",\"red\",\"red\",\"red\",\"red\",\"red\",\"red\",\"red\",\"red\",\"red\",\"red\",\"red\",\"red\",\"red\",\"red\",\"red\",\"red\",\"red\",\"red\",\"red\",\"red\",\"red\",\"red\",\"red\",\"red\",\"red\",\"red\",\"red\",\"red\",\"red\",\"red\",\"red\",\"red\",\"red\",\"red\",\"red\",\"red\",\"red\",\"red\",\"red\",\"red\",\"red\",\"red\",\"red\",\"red\",\"red\",\"red\",\"red\",\"red\",\"red\",\"red\",\"red\",\"red\",\"red\",\"red\",\"red\",\"red\",\"red\",\"red\",\"red\",\"red\",\"red\",\"red\",\"red\",\"red\",\"red\",\"red\",\"red\",\"red\",\"red\",\"red\",\"red\",\"red\",\"red\",\"red\",\"red\",\"red\",\"red\",\"red\",\"red\",\"red\",\"red\",\"red\",\"red\",\"red\",\"red\",\"red\",\"red\",\"red\",\"red\",\"red\",\"red\",\"red\",\"red\",\"red\",\"red\",\"red\",\"red\",\"red\",\"red\",\"red\",\"red\",\"red\",\"red\",\"red\",\"red\",\"red\",\"red\",\"red\",\"red\",\"red\",\"red\",\"red\",\"red\",\"red\",\"red\",\"red\",\"red\",\"red\",\"red\",\"red\",\"red\",\"red\",\"red\",\"red\",\"red\",\"red\",\"red\",\"red\",\"red\",\"red\",\"red\",\"red\",\"red\",\"red\",\"red\",\"red\",\"red\",\"red\",\"red\",\"red\",\"red\",\"red\",\"red\",\"red\",\"red\",\"red\",\"red\",\"red\",\"red\",\"red\",\"red\",\"red\",\"red\",\"red\",\"red\",\"red\",\"red\",\"red\",\"red\",\"red\",\"red\",\"red\",\"red\",\"red\",\"red\",\"red\",\"red\",\"red\",\"red\",\"red\",\"red\",\"red\",\"red\",\"red\",\"red\",\"red\",\"red\",\"red\",\"red\",\"red\",\"red\",\"red\",\"red\",\"red\",\"red\",\"red\",\"red\",\"red\",\"red\",\"red\",\"red\",\"red\",\"red\",\"red\",\"red\",\"red\",\"red\",\"red\",\"red\",\"red\",\"red\",\"red\",\"red\",\"red\",\"red\",\"red\",\"red\",\"red\",\"red\",\"red\",\"red\",\"red\",\"red\",\"red\",\"red\",\"red\",\"red\",\"red\",\"red\",\"red\",\"red\",\"red\",\"red\",\"green\",\"green\",\"green\",\"green\",\"green\",\"green\",\"green\",\"green\",\"green\",\"green\",\"green\",\"green\",\"green\",\"green\",\"green\",\"green\",\"green\",\"green\",\"green\",\"green\",\"green\",\"green\",\"green\",\"green\",\"green\",\"green\",\"green\",\"green\",\"green\",\"green\",\"green\",\"green\",\"green\",\"green\",\"green\",\"green\",\"green\",\"green\",\"green\",\"green\",\"green\",\"green\",\"green\",\"green\",\"green\",\"green\",\"green\",\"green\",\"green\",\"green\",\"green\",\"green\",\"green\",\"green\",\"green\",\"green\",\"green\",\"green\",\"green\",\"green\",\"green\",\"green\",\"green\",\"green\",\"green\",\"green\",\"green\",\"green\",\"green\",\"green\",\"green\",\"green\",\"green\",\"green\",\"green\",\"green\",\"green\",\"green\",\"green\",\"green\",\"green\",\"green\",\"green\",\"green\",\"green\",\"green\",\"green\",\"green\",\"green\",\"green\",\"green\",\"green\",\"green\",\"green\",\"green\",\"green\",\"green\",\"green\",\"green\",\"green\",\"green\",\"green\",\"green\",\"green\",\"green\",\"green\",\"green\",\"green\",\"green\",\"green\",\"green\",\"green\",\"green\",\"green\",\"green\",\"green\",\"green\",\"green\",\"green\",\"green\",\"green\",\"green\",\"green\",\"green\",\"green\",\"green\",\"green\",\"green\",\"green\",\"green\",\"green\",\"green\",\"green\",\"green\",\"green\",\"green\",\"green\",\"green\",\"green\",\"green\",\"green\",\"green\",\"green\",\"green\",\"green\",\"green\",\"green\",\"green\",\"green\",\"green\",\"green\",\"green\",\"green\",\"green\",\"green\",\"green\",\"green\",\"green\",\"green\",\"green\",\"green\",\"green\",\"green\",\"green\",\"green\",\"green\",\"green\",\"green\",\"green\",\"green\",\"green\",\"green\",\"green\",\"green\",\"green\",\"green\",\"green\",\"green\",\"green\",\"green\",\"green\",\"green\",\"green\",\"green\",\"green\",\"green\",\"green\",\"green\",\"green\",\"green\",\"green\",\"green\",\"green\",\"green\",\"green\",\"green\",\"green\",\"green\",\"green\",\"green\",\"green\",\"green\",\"green\",\"green\",\"green\",\"green\",\"green\",\"green\",\"green\",\"green\",\"green\",\"green\",\"green\",\"green\",\"green\",\"green\",\"green\",\"green\",\"green\",\"green\",\"green\",\"green\",\"green\",\"green\",\"green\",\"green\",\"green\",\"green\",\"green\",\"green\",\"green\",\"green\",\"green\",\"green\",\"green\",\"green\",\"green\",\"green\",\"green\",\"green\",\"green\",\"green\",\"green\",\"green\",\"green\",\"green\",\"green\",\"green\",\"green\",\"green\",\"green\",\"green\",\"green\",\"green\",\"green\",\"green\",\"green\",\"green\",\"green\",\"green\",\"green\",\"green\",\"green\",\"green\",\"green\",\"green\",\"green\",\"green\",\"green\",\"green\",\"green\",\"green\",\"green\",\"green\",\"green\",\"green\",\"green\",\"green\",\"green\",\"green\",\"green\",\"green\",\"green\",\"green\",\"green\",\"green\",\"green\",\"green\",\"green\",\"green\",\"green\",\"green\",\"green\",\"green\",\"green\",\"green\",\"green\",\"green\",\"green\",\"green\",\"green\",\"green\",\"green\",\"green\",\"green\",\"green\",\"green\",\"green\",\"green\",\"green\",\"green\",\"green\",\"green\",\"green\",\"green\",\"green\",\"green\",\"green\",\"green\",\"green\",\"green\",\"green\",\"green\",\"green\",\"green\",\"green\",\"green\",\"green\",\"green\",\"green\",\"green\",\"green\",\"green\",\"green\",\"green\",\"green\",\"green\",\"green\",\"green\",\"green\",\"green\",\"green\",\"green\",\"green\",\"green\",\"green\",\"green\",\"green\",\"green\",\"green\",\"green\",\"green\",\"green\",\"green\",\"green\",\"green\",\"green\",\"green\",\"green\",\"green\",\"green\",\"green\",\"green\",\"green\",\"green\",\"green\",\"green\",\"green\",\"green\",\"green\",\"green\",\"green\",\"green\",\"green\",\"green\",\"green\",\"green\",\"green\",\"green\",\"green\",\"green\",\"green\",\"green\",\"green\",\"green\",\"green\",\"green\",\"green\",\"green\",\"green\",\"green\",\"green\",\"green\",\"green\",\"green\",\"green\",\"green\",\"green\",\"green\",\"green\",\"green\",\"green\",\"green\",\"green\",\"green\",\"green\",\"green\",\"green\",\"green\",\"green\",\"green\",\"green\",\"green\",\"green\",\"green\",\"green\",\"green\",\"green\",\"green\",\"green\",\"green\",\"green\",\"green\",\"green\",\"green\",\"green\",\"green\",\"green\",\"green\",\"green\",\"green\",\"green\",\"green\",\"green\",\"green\",\"green\",\"green\",\"green\",\"green\",\"green\",\"green\",\"green\",\"green\",\"green\",\"green\",\"green\",\"green\",\"green\",\"green\",\"green\",\"green\",\"green\",\"green\",\"green\",\"green\",\"green\",\"green\",\"green\",\"green\",\"green\",\"green\",\"green\",\"green\",\"green\",\"green\",\"green\",\"green\",\"green\",\"green\",\"green\",\"green\",\"green\",\"green\",\"green\",\"green\",\"green\",\"green\",\"green\",\"green\",\"green\",\"green\",\"green\",\"blue\",\"blue\",\"blue\",\"blue\",\"blue\",\"blue\",\"blue\",\"blue\",\"blue\",\"blue\",\"blue\",\"blue\",\"blue\",\"blue\",\"blue\",\"blue\",\"blue\",\"blue\",\"blue\",\"blue\",\"blue\",\"blue\",\"blue\",\"blue\",\"blue\",\"blue\",\"blue\",\"blue\",\"blue\",\"blue\",\"blue\",\"blue\",\"blue\",\"blue\",\"blue\",\"blue\",\"blue\",\"blue\",\"blue\",\"blue\",\"blue\",\"blue\",\"blue\",\"blue\",\"blue\",\"blue\",\"blue\",\"blue\",\"blue\",\"blue\",\"blue\",\"blue\",\"blue\",\"blue\",\"blue\",\"blue\",\"blue\",\"blue\",\"blue\",\"blue\",\"blue\",\"blue\",\"blue\",\"blue\",\"blue\",\"blue\",\"blue\",\"blue\",\"blue\",\"blue\",\"blue\",\"blue\",\"blue\",\"blue\",\"blue\",\"blue\",\"blue\",\"blue\",\"blue\",\"blue\",\"blue\",\"blue\",\"blue\",\"blue\",\"blue\",\"blue\",\"blue\",\"blue\",\"blue\",\"blue\",\"blue\",\"blue\",\"blue\",\"blue\",\"blue\",\"blue\",\"blue\",\"blue\",\"blue\",\"blue\",\"blue\",\"blue\",\"blue\",\"blue\",\"blue\",\"blue\",\"blue\",\"blue\",\"blue\",\"blue\",\"blue\",\"blue\",\"blue\",\"blue\",\"blue\",\"blue\",\"blue\",\"blue\",\"blue\",\"blue\",\"blue\",\"blue\",\"blue\",\"blue\",\"blue\",\"blue\",\"blue\",\"blue\",\"blue\",\"blue\",\"blue\",\"blue\",\"blue\",\"blue\",\"blue\",\"blue\",\"blue\",\"blue\",\"blue\",\"blue\",\"blue\",\"blue\",\"blue\",\"blue\",\"blue\",\"blue\",\"blue\",\"blue\",\"blue\",\"blue\",\"blue\",\"blue\",\"blue\",\"blue\",\"blue\",\"blue\",\"blue\",\"blue\",\"blue\",\"blue\",\"blue\",\"blue\",\"blue\",\"blue\",\"blue\",\"blue\",\"blue\",\"blue\",\"blue\",\"blue\",\"blue\",\"blue\",\"blue\",\"blue\",\"blue\",\"blue\",\"blue\",\"blue\",\"blue\",\"blue\",\"blue\",\"blue\",\"blue\",\"blue\",\"blue\",\"blue\",\"blue\",\"blue\",\"blue\",\"blue\",\"blue\",\"blue\",\"blue\",\"blue\",\"blue\",\"blue\",\"blue\",\"blue\",\"blue\",\"blue\",\"blue\",\"blue\",\"blue\",\"blue\",\"blue\",\"blue\",\"blue\",\"blue\",\"blue\",\"blue\",\"blue\",\"blue\",\"blue\",\"blue\",\"blue\",\"blue\",\"blue\",\"blue\",\"blue\",\"blue\",\"blue\",\"blue\",\"blue\",\"blue\",\"blue\",\"blue\",\"blue\",\"blue\",\"blue\",\"blue\",\"blue\",\"blue\",\"blue\",\"blue\",\"blue\",\"blue\",\"blue\",\"blue\",\"blue\",\"blue\",\"blue\",\"blue\",\"blue\",\"blue\",\"blue\",\"blue\",\"blue\",\"blue\",\"blue\",\"blue\",\"blue\",\"blue\",\"blue\",\"blue\",\"blue\",\"blue\",\"blue\",\"blue\",\"blue\",\"blue\",\"blue\",\"blue\",\"blue\",\"blue\",\"blue\",\"blue\",\"blue\",\"blue\",\"blue\",\"blue\",\"blue\",\"blue\",\"blue\",\"blue\",\"blue\",\"blue\",\"blue\",\"blue\",\"blue\",\"blue\",\"blue\",\"blue\",\"blue\",\"blue\",\"blue\",\"blue\",\"blue\",\"blue\",\"blue\",\"blue\",\"blue\",\"blue\",\"blue\",\"blue\",\"blue\",\"blue\",\"blue\",\"blue\",\"blue\",\"blue\",\"blue\",\"blue\",\"blue\",\"blue\",\"blue\",\"blue\",\"blue\",\"blue\",\"blue\",\"blue\",\"blue\",\"blue\",\"blue\",\"blue\",\"blue\",\"blue\",\"blue\",\"blue\",\"blue\",\"blue\",\"blue\",\"blue\",\"blue\",\"blue\",\"blue\",\"blue\",\"blue\",\"blue\",\"blue\",\"blue\",\"blue\",\"blue\",\"blue\",\"blue\",\"blue\",\"blue\",\"blue\",\"blue\",\"blue\",\"blue\",\"blue\",\"blue\",\"blue\",\"blue\",\"blue\",\"blue\",\"blue\",\"blue\",\"blue\",\"blue\",\"blue\",\"blue\",\"blue\",\"blue\",\"blue\",\"blue\",\"blue\",\"blue\",\"blue\",\"blue\",\"blue\",\"blue\",\"blue\",\"blue\",\"blue\",\"blue\",\"blue\",\"blue\",\"blue\",\"blue\",\"blue\",\"blue\",\"blue\",\"blue\",\"blue\",\"blue\",\"blue\",\"blue\",\"blue\",\"blue\",\"blue\",\"blue\",\"blue\",\"blue\",\"blue\",\"blue\",\"blue\",\"blue\",\"blue\",\"blue\",\"blue\",\"blue\",\"blue\",\"blue\",\"blue\",\"blue\",\"blue\",\"blue\",\"blue\",\"blue\",\"blue\",\"blue\",\"blue\",\"blue\",\"blue\",\"blue\",\"blue\",\"blue\",\"blue\",\"blue\",\"blue\",\"blue\",\"blue\",\"blue\",\"blue\",\"blue\",\"blue\",\"blue\",\"blue\",\"blue\",\"blue\",\"blue\",\"blue\",\"blue\",\"blue\",\"blue\",\"blue\",\"blue\",\"blue\",\"blue\",\"blue\",\"blue\",\"blue\",\"blue\",\"blue\",\"blue\",\"blue\",\"blue\",\"blue\",\"blue\",\"blue\",\"blue\",\"blue\",\"blue\",\"blue\",\"blue\",\"blue\",\"blue\",\"blue\",\"blue\",\"blue\",\"blue\",\"blue\",\"blue\",\"blue\",\"blue\",\"blue\",\"blue\",\"blue\",\"blue\",\"blue\",\"blue\",\"blue\",\"blue\",\"blue\",\"blue\",\"blue\",\"blue\",\"blue\",\"blue\",\"blue\",\"blue\",\"blue\",\"blue\",\"blue\",\"blue\",\"blue\",\"blue\",\"blue\",\"blue\",\"blue\",\"blue\",\"blue\",\"blue\",\"blue\",\"blue\",\"blue\",\"blue\",\"blue\",\"blue\",\"blue\",\"blue\",\"blue\",\"blue\",\"blue\",\"blue\",\"blue\",\"blue\",\"blue\",\"blue\",\"blue\",\"blue\",\"blue\",\"blue\",\"blue\",\"blue\",\"blue\",\"blue\",\"blue\",\"blue\",\"blue\",\"blue\",\"blue\",\"blue\",\"blue\",\"blue\",\"blue\",\"blue\",\"blue\",\"blue\",\"blue\",\"blue\",\"blue\",\"blue\",\"blue\",\"blue\",\"blue\",\"blue\",\"blue\",\"blue\",\"blue\",\"blue\",\"blue\",\"blue\",\"blue\",\"blue\",\"blue\",\"blue\",\"blue\",\"blue\",\"blue\",\"blue\",\"blue\",\"blue\",\"blue\",\"blue\",\"blue\",\"blue\",\"blue\",\"blue\",\"blue\",\"blue\",\"blue\",\"blue\",\"blue\",\"blue\",\"blue\",\"blue\",\"blue\",\"blue\",\"blue\",\"blue\",\"blue\",\"blue\",\"blue\",\"blue\",\"blue\",\"blue\",\"blue\",\"blue\",\"blue\",\"blue\",\"blue\",\"blue\",\"blue\",\"blue\",\"blue\",\"blue\",\"blue\",\"blue\",\"blue\",\"blue\",\"blue\",\"blue\",\"blue\",\"blue\",\"blue\",\"blue\",\"blue\",\"blue\",\"blue\",\"blue\",\"blue\",\"blue\",\"blue\",\"blue\",\"blue\",\"blue\",\"blue\",\"blue\",\"blue\",\"blue\",\"blue\",\"blue\",\"blue\",\"blue\",\"blue\",\"blue\",\"blue\",\"blue\",\"blue\",\"blue\",\"blue\",\"blue\",\"blue\",\"blue\",\"blue\",\"blue\",\"blue\",\"blue\",\"blue\",\"blue\",\"blue\",\"blue\",\"blue\",\"blue\",\"blue\",\"blue\",\"blue\",\"blue\",\"blue\",\"blue\",\"blue\",\"blue\",\"blue\",\"blue\",\"blue\",\"blue\",\"blue\",\"blue\",\"blue\",\"blue\",\"blue\",\"blue\",\"blue\",\"blue\",\"blue\",\"blue\",\"blue\",\"blue\",\"blue\",\"blue\",\"blue\",\"blue\",\"blue\",\"blue\",\"blue\",\"blue\",\"blue\",\"blue\",\"blue\",\"blue\",\"blue\",\"blue\",\"blue\",\"blue\",\"blue\",\"blue\",\"blue\",\"blue\",\"blue\",\"blue\",\"blue\",\"blue\",\"blue\",\"blue\",\"blue\",\"blue\",\"blue\",\"blue\",\"blue\",\"blue\",\"blue\",\"blue\",\"blue\",\"blue\",\"blue\",\"blue\",\"blue\",\"blue\",\"blue\",\"blue\",\"blue\",\"blue\",\"blue\",\"blue\",\"blue\",\"blue\",\"blue\",\"blue\",\"blue\",\"blue\",\"blue\",\"blue\",\"blue\",\"blue\",\"blue\",\"blue\",\"blue\",\"blue\",\"blue\",\"blue\"],\"names\":[\"solution\",\"temazepam\",\"nebulizers\",\"ciprrfloxacin\",\"methylprednisolone\",\"ipratropium\",\"colace\",\"versed\",\"bolus\",\"chlorhexidine\",\"estrogen\",\"qugmentin\",\"betaxolol\",\"epinephrine\",\"amiodarone\",\"transfusion\",\"lactinex\",\"streptokinase\",\"nose\",\"lisinopril\",\"aldactone\",\"warfarin\",\"cepacol\",\"powder\",\"provera\",\"novalog\",\"transfusions\",\"ac\",\"ceftriaxone\",\"eplerenone\",\"cefixime\",\"med\",\"tpn\",\"ventavis\",\"diprosone\",\"mgoxide\",\"amitriptyline\",\"pressor\",\"cephalopsporins\",\"finasteride\",\"aprotinin\",\"carvedilol\",\"sedation\",\"biaxin\",\"tpa\",\"chemotherapy\",\"rhogam\",\"pcn\",\"narcotic\",\"labetalol<num>\",\"elixir\",\"mofetil\",\"ethanol\",\"aranesp\",\"citalopram\",\"thorazine\",\"cefazolin\",\"nitroglycerine\",\"suprax\",\"glargine\",\"oxide\",\"diuretic\",\"product\",\"g\",\"niferex\",\"quinapril\",\"nadolol\",\"kaopectate\",\"citrate\",\"perels\",\"atapryl\",\"naprosyn\",\"glyburide\",\"cartia\",\"qdzocor\",\"accupril\",\"aztreonam\",\"duoneb\",\"restoril\",\"acetaminophen\",\"linsinopril\",\"fluoxetine\",\"lactulose\",\"senokot\",\"fosomax\",\"ducolox\",\"lente\",\"lescol\",\"toprol\",\"nipride\",\"weight\",\"albuterol\",\"revatio\",\"atc\",\"dinitrate\",\"tartarate\",\"actinomycin\",\"tartrate\",\"tablet\",\"clobetizol\",\"miralax\",\"softeners\",\"pantoprazole\",\"dipyridamole\",\"feso<num>\",\"mevacor\",\"artificial\",\"erythromycin\",\"baby\",\"ultralente\",\"ticlid\",\"otc\",\"vicodan\",\"receptor\",\"cefotaxime\",\"asa\",\"halcion\",\"gentamycin\",\"macrolide\",\"valproic\",\"roxicet\",\"celexa\",\"kcl\",\"dexamethasone\",\"lidocaine\",\"apap\",\"ofloxacin\",\"besylate\",\"pepcid\",\"acebutolol\",\"htn\",\"decadron\",\"clonopin\",\"diclox\",\"bisulfate\",\"sulfamethoxazole\",\"trilafon\",\"diuretics\",\"allopurinol\",\"ocean\",\"blockade\",\"ketorolac\",\"levofloxacin\",\"gluconate\",\"guqifenesin\",\"clarithromycin\",\"paint\",\"lithium\",\"bicarb\",\"captopril\",\"novolog\",\"linezolid\",\"levoxyl\",\"qdcalcium\",\"ergocalciferol\",\"afrin\",\"immediate\",\"granules\",\"polysaccharide\",\"plus\",\"tablets\",\"taper\",\"bowel\",\"medicines\",\"narcotics\",\"lopressol\",\"naturale\",\"cisapride\",\"oceanspray\",\"furosemide\",\"alfa\",\"tofranil\",\"ppi\",\"acetylsalicylic\",\"antihypertensive\",\"klonopin\",\"nicardipine\",\"injections\",\"prilosec\",\"nicotine\",\"diabetic\",\"ganciclovir\",\"supplement\",\"cardura\",\"cvp\",\"thrombolysis\",\"chlorpromazine\",\"milk\",\"outpatient\",\"propofol\",\"double\",\"b\",\"cardizem\",\"cefalosporins\",\"gtts\",\"isordil\",\"supplementation\",\"proventil\",\"cells\",\"argatroban\",\"antibio\",\"onoptrops\",\"enoxaparin\",\"prbc\",\"oxycodone\",\"pca\",\"patanol\",\"carbonate\",\"pills\",\"panafil\",\"neupogen\",\"flomax\",\"zyprexa\",\"multivitamin\",\"mom\",\"minipress\",\"products\",\"steroid\",\"hydrochlorothiazide\",\"labetolol\",\"diltiazem\",\"cannula\",\"dm\",\"hep\",\"rezulin\",\"sr\",\"econazole\",\"pressors\",\"diabinese\",\"statins\",\"cd\",\"channel\",\"quinine\",\"codeine\",\"renagel\",\"regimens\",\"baclofen\",\"o<num>\",\"bleomycin\",\"benicar\",\"sennosides\",\"celecoxib\",\"bicitra\",\"antibiotics\",\"neosynephrine\",\"inhalers\",\"caco<num>\",\"ischemics\",\"mgsulfate\",\"norvir\",\"lopid\",\"arbs\",\"triple\",\"lilly\",\"loratadine\",\"red\",\"ms\",\"softener\",\"requip\",\"nitroglycerins\",\"primidone\",\"supplements\",\"dextran\",\"doxazosin\",\"taxol\",\"hctz\",\"darvocet\",\"tidlasix\",\"epogen\",\"verapamil\",\"sustained\",\"glucotrol\",\"metronidazol\",\"ideral\",\"penicillin\",\"e\",\"lopipd\",\"medicine\",\"docusate\",\"pamidronate\",\"tums\",\"dilantin\",\"thiamine\",\"copd\",\"integrilin\",\"tylenol\",\"drops\",\"darbepoetin\",\"vitamins\",\"psyllium\",\"amox\",\"byetta\",\"etomidate\",\"synthroid\",\"atovaquone\",\"kayexalate\",\"nafcillin\",\"c\",\"frozen\",\"procrit\",\"rx\",\"metoclopramide\",\"wellbutrin\",\"pendalol\",\"releas\",\"ccb\",\"nitropaste\",\"dextromethorphan\",\"rifampin\",\"geodon\",\"zaroxolyn\",\"cymbalta\",\"opium\",\"procainamide\",\"haldol\",\"pcp\",\"mylanta\",\"inotrops\",\"pneumovax\",\"dicloxacillin\",\"eye\",\"gtt\",\"atorva\",\"packed\",\"questran\",\"butt\",\"zinc\",\"irbesartan\",\"integrelin\",\"nicoderm\",\"pen\",\"methyldopa\",\"cefotetan\",\"gentamicin\",\"thyroid\",\"xr\",\"ambien\",\"ssi\",\"sarna\",\"nebs\",\"avadia\",\"zincate\",\"diovan\",\"rocaltrol\",\"combivent\",\"nasal\",\"tylox\",\"xanax\",\"antidepressants\",\"tears\",\"mycophenolate\",\"sertraline\",\"peridex\",\"xylatan\",\"paste\",\"extended\",\"benadry\",\"actonel\",\"alimta\",\"cytovene\",\"protonix\",\"reg\",\"d<num>w\",\"d<num>\",\"bcnu\",\"levaquin\",\"fentanyl\",\"metformin\",\"mgso<num>\",\"ntg\",\"opiates\",\"enalapril\",\"darbopoetin\",\"benztropine\",\"avandia\",\"singulair\",\"asa<num>\",\"blocker\",\"replacement\",\"calcium\",\"strength\",\"lyte\",\"ferrlecit\",\"terazosin\",\"ionotropes\",\"tramadol\",\"plaquenil\",\"ketamine\",\"bactroban\",\"arb\",\"travatan\",\"amitryptilline\",\"ferrex\",\"diproprionate\",\"torsemide\",\"provastatin\",\"robitussin\",\"ceftazidime\",\"indomethacin\",\"norvasc\",\"enteric\",\"statin\",\"antacids\",\"carafate\",\"xt\",\"phosphate\",\"pindolol\",\"coumadine\",\"unfractionated\",\"gemfibrozil\",\"levothyroxine\",\"acid\",\"abx\",\"levophed\",\"saline\",\"isoril\",\"spray\",\"vancomycin\",\"cell\",\"actos\",\"fondapurinox\",\"fosamax\",\"iron\",\"inhaler\",\"serax\",\"blood\",\"colchicine\",\"nsaid\",\"prenatal\",\"fluconazole\",\"levocarnitine\",\"hypoglycemic\",\"ancef\",\"ceptaz\",\"humalog\",\"neurontin\",\"famotidine\",\"chloral\",\"ecotrin\",\"claritin\",\"capoten\",\"sedating\",\"ditropan\",\"cyclosporine\",\"beta\",\"d<num>x<num>\",\"seldane\",\"magnesium\",\"calcitriol\",\"bextra\",\"zydis\",\"insulin\",\"glipizide\",\"aceinh\",\"aspirin\",\"cipro\",\"silvadene\",\"lovastatin\",\"therapeutic\",\"monistat\",\"hytrin\",\"fluticasone\",\"lopressor\",\"bactrim\",\"benadryl\",\"iv\",\"alcohol\",\"<num>\",\"antihypertensives\",\"meclizine\",\"normal\",\"tincture\",\"zaroxylyn\",\"mso<num>\",\"pravastatin\",\"lexiva\",\"acephex\",\"maalox\",\"following\",\"phoslo\",\"cough\",\"dilaudid\",\"advil\",\"ada\",\"phenytoin\",\"levo\",\"suppository\",\"platelet\",\"anesthesia\",\"prozac\",\"cream\",\"prandin\",\"xalatan\",\"contin\",\"pred\",\"diazepam\",\"atrovent\",\"keppra\",\"imipenem\",\"riss\",\"calcitonin\",\"ointment\",\"paxil\",\"serevent\",\"solsite\",\"valacyclovir\",\"minerals\",\"dobutamine\",\"steroids\",\"proscar\",\"zantac\",\"ultram\",\"azithro\",\"tordal\",\"dyazide\",\"prinivil\",\"vistaril\",\"cephradine\",\"oxacillin\",\"betadine\",\"amio\",\"<num>uprbc\",\"electrolytes\",\"cefuroxime\",\"cardiac\",\"catapres\",\"loratidine\",\"guiatuss\",\"vit\",\"medication\",\"advils\",\"trusopt\",\"remeron\",\"lantus\",\"epi\",\"asp\",\"troglipazone\",\"spironolactone\",\"navelbine\",\"pulmicort\",\"nitro\",\"micronase\",\"slng\",\"saver\",\"cefpodoxime\",\"motrin\",\"lovenox\",\"alternagel\",\"kefzol\",\"darvon\",\"tiazac\",\"k\",\"celebrex\",\"hydrochloride\",\"stanazolol\",\"tng\",\"magnesia\",\"kayexelate\",\"aciphex\",\"guaifenesin\",\"cosopt\",\"plavix<num>\",\"agonist\",\"sulfate\",\"adenosine\",\"methadone\",\"complex\",\"czi\",\"nebulizer\",\"klorcon\",\"imdur\",\"diuril\",\"advair\",\"oxycontin\",\"oxygen\",\"hydralazine\",\"blockers\",\"autologous\",\"oxybutynin\",\"meropenem\",\"boluses\",\"regimen\",\"mononitrate\",\"plasma\",\"prochlorperazine\",\"inuslin\",\"demerol\",\"ativan\",\"drip\",\"cefepime\",\"diabetes\",\"bismuth\",\"losartan\",\"lotensin\",\"pravachol\",\"vitamin\",\"zoloft\",\"relafen\",\"valium\",\"hcl\",\"felodipine\",\"novolin\",\"digoxin\",\"miconazole\",\"mycostatin\",\"syrup\",\"clonazepam\",\"levoflox\",\"cyproheptadine\",\"ceftaz\",\"glucose\",\"general\",\"betablocker\",\"dye\",\"mg\",\"ranitidine\",\"mesylate\",\"ns\",\"leni\",\"cisplatin\",\"mannitol\",\"truvada\",\"nephrocaps\",\"vanc\",\"lotrisone\",\"cellcept\",\"dopamine\",\"digitek\",\"lisinipril\",\"propranolol\",\"mouth\",\"tessalon\",\"mepron\",\"clopidogrel\",\"perioperative\",\"folate\",\"imuran\",\"tarceva\",\"metoprolol\",\"lorazepam\",\"regular\",\"cpap\",\"mvi\",\"atropine\",\"pressure\",\"diskus\",\"ffp\",\"flagyl\",\"ace\",\"nitrofurantoin\",\"indocin\",\"simvastatin\",\"multivitamins\",\"prempro\",\"rosiglitazone\",\"antipsychotics\",\"hbr\",\"prednisolone\",\"tracleer\",\"inhibitors\",\"vaso\",\"wash\",\"acei\",\"fluid\",\"nystatin\",\"ampicillin\",\"heparin\",\"tagamet\",\"lidoderm\",\"ppx\",\"msir\",\"succinate\",\"hydrocortisone\",\"cardiovascular\",\"chloraseptic\",\"duoderm\",\"hfa\",\"trazodone\",\"zaroxyln\",\"nifedipine\",\"vasopressin\",\"colestipol\",\"analgesia\",\"home\",\"maleate\",\"procardia\",\"aspart\",\"antibiotic\",\"azithromycin\",\"ceftizoxime\",\"coumadin\",\"isosorbide\",\"percocet\",\"cholestyramine\",\"prednisone\",\"azmacort\",\"flovent\",\"lomotil\",\"parnate\",\"ziprasidone\",\"ds\",\"beclovent\",\"glucometer\",\"p\",\"neoral\",\"ferrous\",\"nitroglycerin\",\"vasotec\",\"controlled\",\"lispro\",\"medications\",\"cortizone\",\"chloride\",\"low\",\"inhibitor\",\"d\",\"iss\",\"anticoagulation\",\"meds\",\"adriamycin\",\"humulin\",\"oral\",\"amlodipine\",\"nortriptyline\",\"hydrate\",\"nesiritide\",\"stanozolol\",\"labetalol\",\"therapy\",\"cytoxan\",\"bb\",\"hypoglycemics\",\"gentle\",\"avapro\",\"amoxicillin\",\"ansaid\",\"cyclosporin\",\"gabapentin\",\"atenolol\",\"lamictal\",\"analgesic\",\"micromeral\",\"rocephin\",\"senna\",\"salmeterol\",\"potassium\",\"diflucan\",\"dht\",\"zocor\",\"nph\",\"augmentin\",\"keflex\",\"tricor\",\"tic\",\"toradol\",\"ibuprofen\",\"levatol\",\"candesartan\",\"premarin\",\"ramipril\",\"antiinflammatory\",\"sprays\",\"metamucil\",\"simethicone\",\"allegra\",\"metop\",\"qdcalcitriol\",\"hydromorphone\",\"atorvastatin\",\"ginger\",\"imodium\",\"reopro\",\"trazadone\",\"unasyn\",\"phenothiazines\",\"risperdal\",\"alphagam\",\"fresh\",\"tamoxifen\",\"stool\",\"esomeprazole\",\"inhibition\",\"fluoroquinolone\",\"lexapro\",\"nitrates\",\"ptu\",\"er\",\"torsamide\",\"depakote\",\"caltrate\",\"ecasa\",\"axid\",\"maxide\",\"urokinase\",\"ciprofloxacin\",\"zestril\",\"sodium\",\"bromide\",\"deltasone\",\"milrinone\",\"persantine\",\"timolol\",\"ventolin\",\"zetia\",\"flonase\",\"tenormin\",\"omeprazole\",\"compazine\",\"flexeril\",\"lamivudine\",\"enoxaprin\",\"folic\",\"liquid\",\"probenecid\",\"transdermal\",\"clindamycin\",\"carnitidine\",\"elavil\",\"nexium\",\"glucophage\",\"nitrate\",\"aspartate\",\"dulcolax\",\"contrast\",\"metolazone\",\"beclomethasone\",\"plavix\",\"benazepril\",\"xl\",\"nitrospray\",\"osmolite\",\"reglan\",\"corvert\",\"cortisol\",\"methotrexate\",\"stelazine\",\"human\",\"zemplar\",\"adalat\",\"morphine\",\"nitroprusside\",\"release\",\"gadolinium\",\"fondaparinux\",\"immodium\",\"vasopressor\",\"fibercon\",\"asacol\",\"cozaar\",\"vanco\",\"suspension\",\"niaspan\",\"acyclovir\",\"lyrica\",\"metrogel\",\"succinylcholine\",\"duonebs\",\"norepinephrine\",\"tamsulosin\",\"theophylline\",\"nsaids\",\"simva\",\"angiotension\",\"resuscitation\",\"troponin\",\"zometa\",\"rhinocort\",\"patch\",\"antianginal\",\"aspirin<num>\",\"alphagan\",\"xinafoate\",\"pletal\",\"ml\",\"pilocarpine\",\"crystalloid\",\"bicarbonate\",\"ivf\",\"mscontin\",\"fluids\",\"seroquel\",\"clotrimazole\",\"sevelamer\",\"zofran\",\"mucomyst\",\"rbc\",\"mitozalone\",\"niacin\",\"extra\",\"tapazole\",\"lasix\",\"celondin\",\"loperamide\",\"hydration\",\"diabeta\",\"proxetil\",\"coum\",\"pack\",\"librium\",\"kayexylate\",\"coreg\",\"ctx\",\"naproxen\",\"glypizide\",\"valsartan\",\"lactobacillus\",\"epivir\",\"pain\",\"b<num>\",\"inderal\",\"timoptic\",\"coated\",\"chemo\",\"dilt\",\"inhale\",\"erythropoietin\",\"micronized\",\"lipitor\",\"bp\",\"hibiclenz\",\"inp\",\"seretide\",\"slow\",\"effexor\",\"fioricet\",\"corticosteroids\",\"molecular\",\"sucralfate\",\"jerks\",\"modification\",\"skin\",\"creamy\",\"homocystine\",\"persistent\",\"facial\",\"serum\",\"insomnia\",\"nose\",\"retrocardiac\",\"gout\",\"bv\",\"transient\",\"flutter\",\"rash\",\"symptoms\",\"ventricular\",\"reflux\",\"seizures\",\"anxiety\",\"postoperative\",\"ectopy\",\"pressures\",\"tia\",\"flushing\",\"reduction\",\"dry\",\"intermittent\",\"mitral\",\"gastroparesis\",\"events\",\"sputum\",\"inr\",\"long\",\"disorientation\",\"lupus\",\"cad\",\"incarcerated\",\"throat\",\"anemia\",\"dependent\",\"weight\",\"antigen\",\"pains\",\"postop\",\"labored\",\"hdl\",\"mi\",\"drop\",\"target\",\"growth\",\"glycemic\",\"sweats\",\"incontinence\",\"failure\",\"deficiency\",\"exacerbation\",\"bacteremia\",\"sleep\",\"regurgitation\",\"artery\",\"urine\",\"control\",\"htn\",\"break\",\"sugar\",\"blockade\",\"myocardial\",\"arterial\",\"le\",\"fed\",\"olfactory\",\"asthma\",\"tracheobronchitis\",\"anginal\",\"bowel\",\"ulcer\",\"cancer\",\"tract\",\"mr\",\"depressed\",\"dvts\",\"acquired\",\"antimicrobial\",\"known\",\"diuresis\",\"antihypertensive\",\"aquired\",\"reverse\",\"tachycardic\",\"better\",\"mildly\",\"headache\",\"systolic\",\"time\",\"bilateral\",\"oliguria\",\"dysfunction\",\"softner\",\"diabetic\",\"bradyarrhythmia\",\"urinary\",\"prothrombin\",\"filtration\",\"adult\",\"elbow\",\"afterload\",\"respiratory\",\"rods\",\"hypertensive\",\"pulmonary\",\"shoulder\",\"preoperative\",\"effusions\",\"mvr\",\"embolism\",\"presumed\",\"microclots\",\"superficial\",\"osseous\",\"ptt\",\"attack\",\"count\",\"pharyngitis\",\"reduce\",\"behavioral\",\"ulcers\",\"dm\",\"glaucoma\",\"hallucinations\",\"hereditary\",\"dehydrated\",\"hemorrhagic\",\"wheezes\",\"temperature\",\"dx\",\"<num>s\",\"diuresed\",\"bronchitis\",\"clots\",\"cytomegalovirus\",\"sob\",\"deep\",\"e\",\"tremor\",\"sedated\",\"copd\",\"sx\",\"saturations\",\"enterococcus\",\"gastritis\",\"nosocomial\",\"vt\",\"panic\",\"attempt\",\"function\",\"infarct\",\"catheterization\",\"concentric\",\"hypertrophy\",\"possible\",\"disease\",\"bleeding\",\"neuropathy\",\"frequent\",\"insufficiency\",\"abdominal\",\"fatigue\",\"bibasilar\",\"oa\",\"hyperglycemia\",\"grade\",\"hypercholesterolemia\",\"emesis\",\"neutropenia\",\"depression\",\"perfusion\",\"hypertension\",\"metastatic\",\"inflammation\",\"nste\",\"retention\",\"lobar\",\"cp\",\"pharyngeal\",\"l\",\"continued\",\"seizure\",\"thrombosis\",\"penile\",\"leukocytosis\",\"ua\",\"global\",\"sore\",\"prophylaxis\",\"heartburn\",\"gastroesophageal\",\"gram\",\"gaseousness\",\"minimal\",\"breath\",\"uric\",\"diastolic\",\"dizziness\",\"recent\",\"enteric\",\"vascular\",\"atrial\",\"complications\",\"epigastric\",\"orthostasis\",\"transudative\",\"cell\",\"rest\",\"hematoma\",\"iron\",\"blood\",\"agitation\",\"enteritis\",\"escalating\",\"typical\",\"prostatic\",\"hypotensive\",\"throbbing\",\"aureus\",\"headaches\",\"ejection\",\"nonsmall\",\"beta\",\"sciatica\",\"dvt\",\"pe\",\"magnesium\",\"uop\",\"insulin\",\"constipation\",\"enterobacter\",\"enhance\",\"hip\",\"emboli\",\"type\",\"iv\",\"gi\",\"<num>\",\"fasting\",\"leg\",\"prophylactic\",\"cough\",\"hypokinesis\",\"fever\",\"elevation\",\"burning\",\"yeast\",\"toe\",\"costochondritis\",\"arm\",\"bacterial\",\"sugars\",\"recurrent\",\"rapid\",\"early\",\"indigestion\",\"hct\",\"transaminitis\",\"complicated\",\"bs\",\"vague\",\"ischemia\",\"arthralgias\",\"hyperkalemia\",\"care\",\"amyloid\",\"heart\",\"discharge\",\"staph\",\"discomfort\",\"overload\",\"cardiac\",\"history\",\"aspiration\",\"preload\",\"tachycardia\",\"effusion\",\"delirium\",\"increased\",\"cholesterol\",\"legionella\",\"chronic\",\"generalized\",\"hit\",\"ipf\",\"complex\",\"heaviness\",\"ec\",\"treatment\",\"secondary\",\"flare\",\"strep\",\"substernal\",\"cellulitis\",\"movement\",\"diabetes\",\"breathing\",\"infiltrates\",\"vascularization\",\"initial\",\"triglycerides\",\"acute\",\"mood\",\"hematocrits\",\"pna\",\"lower\",\"dyspnea\",\"glucose\",\"r\",\"medial\",\"goal\",\"mg\",\"diarrhea\",\"trace\",\"accumulation\",\"perioperative\",\"mrsa\",\"folate\",\"severe\",\"enterococcal\",\"pressure\",\"acidosis\",\"myoclonic\",\"congestive\",\"sbp\",\"cloacae\",\"pneumonia\",\"fluid\",\"ppx\",\"stomach\",\"itching\",\"lobe\",\"nonsustained\",\"mellitus\",\"positive\",\"wound\",\"uti\",\"fs\",\"muscular\",\"bronchospastic\",\"thrombocytopenia\",\"benign\",\"lgib\",\"hypothyroidism\",\"small\",\"stent\",\"right\",\"disorder\",\"nonhealing\",\"hospital\",\"output\",\"coronary\",\"controlled\",\"klebsiella\",\"fevers\",\"crystals\",\"esophageal\",\"angioedema\",\"low\",\"hematocrit\",\"fraction\",\"anticoagulation\",\"quadrant\",\"cocci\",\"eczema\",\"ii\",\"peptic\",\"nausea\",\"adequate\",\"negative\",\"gentle\",\"edema\",\"jaw\",\"hyperthyroidism\",\"hypokalemic\",\"untreated\",\"occasional\",\"syndrome\",\"af\",\"potassium\",\"vasodilated\",\"management\",\"slightly\",\"cessation\",\"explosive\",\"infection\",\"esophagitis\",\"epistaxis\",\"worsening\",\"poor\",\"hypotension\",\"hr\",\"likely\",\"maps\",\"fibrillation\",\"febrile\",\"clot\",\"stool\",\"septicemia\",\"rate\",\"qtc\",\"upset\",\"lesion\",\"dyspepsia\",\"tighter\",\"tight\",\"osteomyelitis\",\"hf\",\"coverage\",\"paf\",\"arthritis\",\"vagina\",\"peripheral\",\"culture\",\"periodontal\",\"sepsis\",\"gerd\",\"comfort\",\"smoking\",\"infiltrate\",\"renal\",\"neutropenic\",\"chest\",\"hypothyroid\",\"afib\",\"moderate\",\"sternal\",\"chf\",\"empiric\",\"hypoglycemia\",\"dmii\",\"endarterectomy\",\"spasm\",\"elevated\",\"multifocal\",\"left\",\"shortness\",\"hypocalcemia\",\"upper\",\"paroxysmal\",\"mean\",\"coag\",\"joint\",\"abscess\",\"distress\",\"neurological\",\"risk\",\"incomplete\",\"level\",\"extra\",\"onset\",\"lung\",\"wheezing\",\"infarction\",\"tubes\",\"white\",\"extremity\",\"convulsive\",\"erythema\",\"swelling\",\"pain\",\"depressive\",\"ldl\",\"community\",\"st\",\"partial\",\"foot\",\"creatinine\",\"mild\",\"bp\",\"stroke\",\"loss\",\"tr\",\"breakthrough\",\"thigh\",\",\",\":\",\"the\",\"and\",\"of\",\"was\",\"to\",\"on\",\"with\",\"a\",\"patient\",\"in\",\"for\",\")\",\"she\",\"(\",\"<num>/<num>/<num>\",\"no\",\"her\",\"<num>.<num>\",\"he\",\"at\",\"|\",\"is\",\"his\",\"had\",\"as\",\"po\",\"by\",\"admission\",\"p.o.\",\"an\",\"be\",\"day\",\"were\",\"<num>/<num>\",\"or\",\"that\",\"this\",\"has\",\"status\",\"which\",\"-\",\"not\",\"date\",\"<num>%\",\".\",\"dr\",\"<num>-<num>\",\"will\",\"from\",\"course\",\"daily\",\"override\",\"have\",\"<num>-<num>-<num>\",\"also\",\"showed\",\"well\",\"after\",\"up\",\"/\",\"but\",\"<num>:<num>\",\"am\",\"one\",\"stable\",\"medical\",\"there\",\"m.d\",\"interaction\",\"diagnosis\",\"qd\",\"report\",\"pt\",\"days\",\"past\",\"given\",\"post\",\"units\",\"two\",\"if\",\"follow\",\"without\",\"examination\",\"been\",\"it\",\"b.i.d.\",\"service\",\"other\",\"******\",\"noted\",\"summary\",\"admitted\",\"prior\",\"signed\",\"bid\",\"did\",\"then\",\"per\",\"physical\",\"any\",\"<num>:<num>:<num>\",\"revealed\",\"started\",\"attending\",\"diet\",\"dis\",\"who\",\"discharged\",\"room\",\"m.d.\",\"condition\",\"present\",\"serious\",\"during\",\"patient's\",\"added\",\"weeks\",\"reason\",\"rhythm\",\"allergies\",\"dictated\",\"please\",\"q.d.\",\"your\",\"potentially\",\"exam\",\"order\",\"however\",\"three\",\"t\",\"dose\",\"out\",\";\",\"#<num>\",\"clear\",\"pm\",\"are\",\"illness\",\"significant\",\"underwent\",\"some\",\"<num>+\",\"s/p\",\"times\",\"evidence\",\"ct\",\"over\",\"than\",\"disposition\",\"x\",\"hours\",\"further\",\"s\",\"should\",\"ekg\",\"prn\",\"treated\",\"surgery\",\"p.r.n.\",\"principal\",\"bilaterally\",\"when\",\"abdomen\",\"transferred\",\"q\",\"alert\",\"family\",\"changes\",\"unit\",\"extremities\",\"felt\",\"s<num>\",\"remained\",\"all\",\"you\",\"code\",\"orders\",\"number\",\"take\",\"#\",\"placed\",\"*\",\"while\",\"'s\",\"x-ray\",\"call\",\"week\",\"d/c\",\"w/\",\"cc\",\"md\",\"instructions\",\"follow-up\",\"instruction\",\"center\",\"upon\",\"q.\",\"back\",\"full\",\"due\",\"give\",\"sinus\",\"stenosis\",\"end\",\"soft\",\"primary\",\"procedures\",\"study\",\"found\",\"continue\",\"good\",\"initially\",\"received\",\"seen\",\"old\",\"t.i.d.\",\"tolerated\",\"intact\",\"baseline\",\"year\",\"presented\",\"laboratory\",\"procedure\",\"none\",\"food/drg\",\"emergency\",\"may\",\"&\",\"until\",\"neck\",\"followed\",\"multiple\",\"total\",\"decreased\",\"starting\",\"graft\",\"unsigned\",\"once\",\"<num>-year-old\",\"):\",\"evaluation\",\"previous\",\"sounds\",\"since\",\"<num>mg\",\"&amp;\",\"additional\",\"surgical\",\"social\",\"performed\",\"ed\",\"approximately\",\"bypass\",\"aortic\",\"<num>.\",\"last\",\"tube\",\"allergy\",\"air\",\"ref\",\"within\",\"resume\",\"throughout\",\"we\",\"four\",\"signs\",\"every\",\"q<num>h\",\"required\",\"years\",\"doses\",\"new\",\"more\",\"lungs\",\"use\",\"valve\",\"developed\",\"brief\",\"before\",\"improved\",\"now\",\"anterior\",\"taken\",\"bun\",\"head\",\"appointment\",\"pulses\",\"otherwise\",\"x<num>\",\"activity\",\"female\",\"admit\",\"need\",\"consistent\",\"denies\",\"only\",\"lad\",\"hold\",\"today\",\"high\",\"several\",\"scan\",\"aware\",\"used\",\"cultures\",\"where\",\"note\",\"notable\",\"stay\",\"scale\",\"overridden\",\"afebrile\",\"echo\",\"discontinued\",\"vomiting\",\"house\",\"done\",\"very\",\"echocardiogram\",\"clinic\",\"sig\",\"needed\",\"h/o\",\"operations\",\"hospitalization\",\"sliding\",\"daily.\",\"record\",\"data\",\"episodes\",\"above\",\"minutes\",\"@\",\"test\",\"exercise\",\"first\",\"because\",\"down\",\"physician\",\"these\",\"both\",\"drug\",\"increasing\",\"sent\",\"floor\",\"would\",\"causing\",\"does\",\"carotid\",\"tid\",\"id\",\"ef\",\"do\",\"ago\",\"greater\",\"obtained\",\"associated\",\"cm\",\"murmur\",\"infections\",\"scheduled\",\"subcutaneously\",\"most\",\"change\",\"knee\",\"[report_end]\",\"off\",\"less\",\"repeat\",\"venous\",\"pulse\",\"morning\",\"v<num>\",\"episode\",\"tab\",\"placement\",\"obesity\",\"being\",\"heent\",\"male\",\"obese\",\"including\",\"yes\",\"able\",\"addition\",\"platelets\",\"liver\",\"batch\",\"intensive\",\"comments\",\"resolved\",\"cardiology\",\"affecting\",\"twice\",\"they\",\"entered\",\"sc\",\"plan\",\"months\",\"thought\",\"subsequently\",\"o.r.\",\"night\",\"contingent\",\"dictation\",\"proximal\",\"<num>-<num>-<num>-<num>\",\"angina\",\"next\",\"age\",\"intravenous\",\"see\",\"health\",\"about\",\"maintained\",\"liters\",\"q.<num>h.\",\"studies\",\"return\",\"demonstrated\",\"vital\",\"index\",\"woman\",\"wall\",\"through\",\"nontender\",\"held\",\"setting\",\"mass\",\"so\",\"notice\",\"recommended\",\"transfer\",\"saturation\",\"monitor\",\"results\",\"labs\",\"mid\",\"mcg\",\"five\",\"six\",\"cath\",\"oriented\",\"cabg\",\"posterior\",\"operating\",\"rehabilitation\",\"volume\",\"lives\",\"mental\",\"large\",\"again\",\"<num>)\",\"made\",\"presents\",\"information\",\"distal\",\"[\",\"]\",\"i\",\"included\",\"therefore\",\"meals\",\"milligrams\",\"taking\",\"consulted\",\"descending\",\"could\",\"avoid\",\"difficulty\",\"although\",\"services\",\"report_end\",\"removed\",\"having\",\"enzymes\",\"ruled\",\"&apos;s\",\"auscultation\",\"recently\",\"department\",\"area\",\"do/plan\",\"tenderness\",\"applicable\",\"infectious\",\"complaint\",\"treatment/stay\",\";responsible\",\"treatments/procedures\",\"diagnosis;conditions\",\"followup\",\"vein\",\"march\",\"q.i.d.\",\"appointment(\",\"reports\",\"him\",\"transplant\",\"diagnoses\",\"inferior\",\"question\",\"became\",\"rehab\",\"went\",\"pending\",\"neuro\",\"ck\",\"exertion\",\"food\",\"light\",\"chills\",\"doctor\",\"few\",\"range\",\"work\",\"final\",\"point\",\"currently\",\"limits\",\"neg\",\"second\",\"include\",\"tobacco\",\"problems\",\"qhs\",\"fat\",\"unremarkable\",\"wbc\",\"changed\",\"empty\",\"murmurs\",\"approximate\",\"bruits\",\"rca\",\"line\",\"began\",\"jvp\",\"femoral\",\"repair\",\"rule\",\"weakness\",\"restarted\",\"stress\",\"denied\",\"postoperatively\",\"f\",\"document\",\"block\",\"ultrasound\",\"cxr\",\"catheter\",\"walking\",\"meq\",\"ischemic\",\"cardiomyopathy\",\"breast\",\"escription\",\"+\",\"place\",\"pleural\",\":*\",\"bed\",\"check\",\"unable\",\"obstructive\",\"cardiologist\",\"consult\",\"q.a.m.\",\"still\",\"increase\",\"q.h.s.\",\"bleed\",\"abd\",\"fracture\",\"stopped\",\"wave\",\"motion\",\"issues\",\"mri\",\"pump\",\"mibi\",\"mm\",\"cv\",\"biopsy\",\"crackles\",\"side\",\"orthopnea\",\"hernia\",\"drawn\",\"supple\",\"unless\",\"apnea\",\"mg.\",\"can\",\"peak\",\"site\",\"requiring\",\"q.day\",\"man\",\"b.i.d\",\"pupils\",\"diffuse\",\"circumflex\",\"m\",\"weaned\",\"internal\",\"came\",\"month\",\"dilated\",\"improvement\",\"name\",\"intubated\",\"chief\",\"neurologic\",\"hour\",\"checked\",\"nondistended\",\"qid\",\"complete\",\"electrocardiogram\",\"equal\",\"lateral\",\"lesions\",\"size\",\"active\",\"grapefruit\",\"evaluated\",\"memorial\",\"reactive\",\"icu\",\"f/u\",\"qpm\",\"later\",\"outside\",\"instructs\",\"hx\",\"july\",\"into\",\"radiation\",\"pacemaker\",\"bedtime\",\"free\",\"rectal\",\"each\",\"team\",\"qam\",\"sublingual\",\"<num>-<num>%\",\"masses\",\"diagnosed\",\"day.\",\"puffs\",\"endocrine\",\"ra\",\"<num>,<num>\",\"go\",\"mother\",\"yo\",\"extubated\",\"vna\",\"systems\",\"incision\",\"instructed\",\"abnormalities\",\"review\",\"workup\",\"unchanged\",\"etiology\",\"electronically\",\"between\",\"tolerating\",\"movements\",\"inh\",\"previously\",\"dialysis\",\"drainage\",\"consistently\",\"short\",\"foley\",\"delivery\",\"saphenous\",\"degrees\",\"called\",\"states\",\"hemodialysis\",\"office\",\"jugular\",\"fall\",\"warm\",\"provider\",\"around\",\"appeared\",\"findings\",\"bilirubin\",\"tests\",\"pt.\",\"guaiac\",\"unclear\",\"flat\",\"ca\",\"carcinoma\",\"concern\",\"tel\",\"w\",\"minute\",\"february\",\"ho\",\"brought\",\"reaction\"],\"x1\":{\"__ndarray__\":\"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\",\"dtype\":\"float64\",\"shape\":[2122]},\"x2\":{\"__ndarray__\":\"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\",\"dtype\":\"float64\",\"shape\":[2122]}}},\"id\":\"ebb87fec-c98a-40c2-bdb1-ccf1dcb68f6b\",\"type\":\"ColumnDataSource\"},{\"attributes\":{\"callback\":null},\"id\":\"4727b933-736d-4ce4-99be-859db3f04e7d\",\"type\":\"DataRange1d\"},{\"attributes\":{\"dimension\":1,\"plot\":{\"id\":\"6db30ed1-7a26-4b3b-af3b-9837c2c42aa3\",\"subtype\":\"Figure\",\"type\":\"Plot\"},\"ticker\":{\"id\":\"841f47e9-7804-421e-9701-d7a1b05e2aae\",\"type\":\"BasicTicker\"}},\"id\":\"82d6b7e5-1725-48a9-bd65-8d46f8d5f114\",\"type\":\"Grid\"},{\"attributes\":{\"below\":[{\"id\":\"d791de8b-03c5-469f-916f-1691ef4e6f33\",\"type\":\"LinearAxis\"}],\"left\":[{\"id\":\"94733bed-412d-4285-a657-03403276d2db\",\"type\":\"LinearAxis\"}],\"renderers\":[{\"id\":\"d791de8b-03c5-469f-916f-1691ef4e6f33\",\"type\":\"LinearAxis\"},{\"id\":\"adbc13aa-728f-4f20-92e4-590c084e88b4\",\"type\":\"Grid\"},{\"id\":\"94733bed-412d-4285-a657-03403276d2db\",\"type\":\"LinearAxis\"},{\"id\":\"82d6b7e5-1725-48a9-bd65-8d46f8d5f114\",\"type\":\"Grid\"},{\"id\":\"09075011-dcd2-4db7-894b-4567db2e822b\",\"type\":\"GlyphRenderer\"},{\"id\":\"fb7b17cd-1d3d-40fd-ad2f-0f4c18b13ba7\",\"type\":\"LabelSet\"}],\"title\":{\"id\":\"7eff1bc9-b20a-40ca-a123-ff19a6891a87\",\"type\":\"Title\"},\"tool_events\":{\"id\":\"1a8b81b8-b0a3-4482-a405-ab888dea9843\",\"type\":\"ToolEvents\"},\"toolbar\":{\"id\":\"058894ea-5538-49a4-9eff-46bbd8f80f9d\",\"type\":\"Toolbar\"},\"toolbar_location\":\"above\",\"x_range\":{\"id\":\"4727b933-736d-4ce4-99be-859db3f04e7d\",\"type\":\"DataRange1d\"},\"x_scale\":{\"id\":\"180017d4-de5c-4eff-bff7-548771c5e38e\",\"type\":\"LinearScale\"},\"y_range\":{\"id\":\"244b91ba-d7ca-4fc8-bee7-270a41e2474d\",\"type\":\"DataRange1d\"},\"y_scale\":{\"id\":\"af2c5646-a950-40bf-aa6f-4413c821be85\",\"type\":\"LinearScale\"}},\"id\":\"6db30ed1-7a26-4b3b-af3b-9837c2c42aa3\",\"subtype\":\"Figure\",\"type\":\"Plot\"},{\"attributes\":{\"plot\":{\"id\":\"6db30ed1-7a26-4b3b-af3b-9837c2c42aa3\",\"subtype\":\"Figure\",\"type\":\"Plot\"}},\"id\":\"98470e09-0a60-42a7-832a-07ab792dce63\",\"type\":\"ResetTool\"},{\"attributes\":{\"fill_alpha\":{\"value\":0.1},\"fill_color\":{\"value\":\"#1f77b4\"},\"line_alpha\":{\"value\":0.1},\"line_color\":{\"value\":\"#1f77b4\"},\"size\":{\"units\":\"screen\",\"value\":8},\"x\":{\"field\":\"x1\"},\"y\":{\"field\":\"x2\"}},\"id\":\"8fa2228b-c82c-4753-9a13-d745a844bffc\",\"type\":\"Circle\"},{\"attributes\":{},\"id\":\"af2c5646-a950-40bf-aa6f-4413c821be85\",\"type\":\"LinearScale\"},{\"attributes\":{\"plot\":{\"id\":\"6db30ed1-7a26-4b3b-af3b-9837c2c42aa3\",\"subtype\":\"Figure\",\"type\":\"Plot\"}},\"id\":\"1722f9f9-eed6-4645-8ba5-e470c85846ab\",\"type\":\"PanTool\"},{\"attributes\":{\"formatter\":{\"id\":\"085afb79-e8f7-4762-99fd-62a8fa11cf90\",\"type\":\"BasicTickFormatter\"},\"plot\":{\"id\":\"6db30ed1-7a26-4b3b-af3b-9837c2c42aa3\",\"subtype\":\"Figure\",\"type\":\"Plot\"},\"ticker\":{\"id\":\"841f47e9-7804-421e-9701-d7a1b05e2aae\",\"type\":\"BasicTicker\"}},\"id\":\"94733bed-412d-4285-a657-03403276d2db\",\"type\":\"LinearAxis\"},{\"attributes\":{},\"id\":\"63fc8b33-aed1-4249-93f1-a8257ccadb13\",\"type\":\"BasicTickFormatter\"},{\"attributes\":{},\"id\":\"085afb79-e8f7-4762-99fd-62a8fa11cf90\",\"type\":\"BasicTickFormatter\"},{\"attributes\":{},\"id\":\"1a8b81b8-b0a3-4482-a405-ab888dea9843\",\"type\":\"ToolEvents\"},{\"attributes\":{\"fill_color\":{\"field\":\"coloring\"},\"line_color\":{\"field\":\"coloring\"},\"size\":{\"units\":\"screen\",\"value\":8},\"x\":{\"field\":\"x1\"},\"y\":{\"field\":\"x2\"}},\"id\":\"f8c878c3-8ec9-4724-a8d2-010ed25a310b\",\"type\":\"Circle\"},{\"attributes\":{\"plot\":{\"id\":\"6db30ed1-7a26-4b3b-af3b-9837c2c42aa3\",\"subtype\":\"Figure\",\"type\":\"Plot\"},\"ticker\":{\"id\":\"bdf4d9ab-0c8a-4580-bd5f-f9dfe200c4b0\",\"type\":\"BasicTicker\"}},\"id\":\"adbc13aa-728f-4f20-92e4-590c084e88b4\",\"type\":\"Grid\"},{\"attributes\":{\"plot\":{\"id\":\"6db30ed1-7a26-4b3b-af3b-9837c2c42aa3\",\"subtype\":\"Figure\",\"type\":\"Plot\"},\"source\":{\"id\":\"ebb87fec-c98a-40c2-bdb1-ccf1dcb68f6b\",\"type\":\"ColumnDataSource\"},\"text\":{\"field\":\"names\"},\"text_align\":\"center\",\"text_color\":{\"value\":\"#555555\"},\"text_font_size\":{\"value\":\"8pt\"},\"x\":{\"field\":\"x1\"},\"y\":{\"field\":\"x2\"},\"y_offset\":{\"value\":6}},\"id\":\"fb7b17cd-1d3d-40fd-ad2f-0f4c18b13ba7\",\"type\":\"LabelSet\"},{\"attributes\":{\"plot\":{\"id\":\"6db30ed1-7a26-4b3b-af3b-9837c2c42aa3\",\"subtype\":\"Figure\",\"type\":\"Plot\"}},\"id\":\"47829b47-1ff7-4d96-8c3c-30990462cd6f\",\"type\":\"WheelZoomTool\"},{\"attributes\":{\"plot\":null,\"text\":\"T-SNE for top 1000words and labels\"},\"id\":\"7eff1bc9-b20a-40ca-a123-ff19a6891a87\",\"type\":\"Title\"}],\"root_ids\":[\"6db30ed1-7a26-4b3b-af3b-9837c2c42aa3\"]},\"title\":\"Bokeh Application\",\"version\":\"0.12.6\"}};\n",
       "            var render_items = [{\"docid\":\"940a7eeb-6de7-4568-a7f6-d10d4c4437d3\",\"elementid\":\"a192893b-26bd-42aa-9c3f-6ec446388481\",\"modelid\":\"6db30ed1-7a26-4b3b-af3b-9837c2c42aa3\"}];\n",
       "            \n",
       "            Bokeh.embed.embed_items(docs_json, render_items);\n",
       "          };\n",
       "          if (document.readyState != \"loading\") fn();\n",
       "          else document.addEventListener(\"DOMContentLoaded\", fn);\n",
       "        })();\n",
       "      },\n",
       "      function(Bokeh) {\n",
       "      }\n",
       "    ];\n",
       "  \n",
       "    function run_inline_js() {\n",
       "      \n",
       "      if ((window.Bokeh !== undefined) || (force === true)) {\n",
       "        for (var i = 0; i < inline_js.length; i++) {\n",
       "          inline_js[i](window.Bokeh);\n",
       "        }if (force === true) {\n",
       "          display_loaded();\n",
       "        }} else if (Date.now() < window._bokeh_timeout) {\n",
       "        setTimeout(run_inline_js, 100);\n",
       "      } else if (!window._bokeh_failed_load) {\n",
       "        console.log(\"Bokeh: BokehJS failed to load within specified timeout.\");\n",
       "        window._bokeh_failed_load = true;\n",
       "      } else if (force !== true) {\n",
       "        var cell = $(document.getElementById(\"a192893b-26bd-42aa-9c3f-6ec446388481\")).parents('.cell').data().cell;\n",
       "        cell.output_area.append_execute_result(NB_LOAD_WARNING)\n",
       "      }\n",
       "  \n",
       "    }\n",
       "  \n",
       "    if (window._bokeh_is_loading === 0) {\n",
       "      console.log(\"Bokeh: BokehJS loaded, going straight to plotting\");\n",
       "      run_inline_js();\n",
       "    } else {\n",
       "      load_libs(js_urls, function() {\n",
       "        console.log(\"Bokeh: BokehJS plotting callback run at\", now());\n",
       "        run_inline_js();\n",
       "      });\n",
       "    }\n",
       "  }(this));\n",
       "</script>"
      ]
     },
     "metadata": {},
     "output_type": "display_data"
    }
   ],
   "source": [
    "fn.visualise(model=model_I2B2, sentences=sentences, labels=[medications, reasons], topn=1000)"
   ]
  },
  {
   "cell_type": "code",
   "execution_count": null,
   "metadata": {},
   "outputs": [],
   "source": [
    "train_set = []\n",
    "train_labels = []\n",
    "train_size = 2000\n",
    "vocab = set(model_I2B2.wv.vocab.keys())\n",
    "target = set(medications)\n",
    "\n",
    "for i in range(train_size * 9 // 10):\n",
    "    word = random.sample(vocab, 1)\n",
    "    train_set.append(model_I2B2[word[0]])\n",
    "    vocab.discard(word[0])\n",
    "    if word[0] in target:\n",
    "        train_labels.append([1,0])\n",
    "        target.discard(word[0])\n",
    "    else:\n",
    "        train_labels.append([0,1])\n",
    "    if i % 10 == 0:\n",
    "        word = random.sample(target, 1)\n",
    "        train_set.append(model_I2B2[word[0]])\n",
    "        train_labels.append([1,0])\n",
    "        target.discard(word[0])"
   ]
  },
  {
   "cell_type": "code",
   "execution_count": null,
   "metadata": {},
   "outputs": [],
   "source": [
    "np.array(train_labels).sum(0)/len(train_labels)"
   ]
  },
  {
   "cell_type": "code",
   "execution_count": null,
   "metadata": {},
   "outputs": [],
   "source": [
    "test_set = []\n",
    "test_labels = []\n",
    "test_size = 500\n",
    "\n",
    "for i in range(int(test_size * 0.5)):\n",
    "    word = random.sample(vocab, 1)\n",
    "    test_set.append(model_I2B2[word[0]])\n",
    "    vocab.discard(word[0])\n",
    "    if word[0] in medications:\n",
    "        test_labels.append([1,0])\n",
    "        target.discard(word[0])\n",
    "    else:\n",
    "        test_labels.append([0,1])\n",
    "        \n",
    "for i in range(int(test_size * 0.5)):\n",
    "    word = random.sample(target, 1)\n",
    "    test_set.append(model_I2B2[word[0]])\n",
    "    test_labels.append([1,0])\n",
    "    target.discard(word[0])"
   ]
  },
  {
   "cell_type": "code",
   "execution_count": null,
   "metadata": {},
   "outputs": [],
   "source": [
    "np.array(test_labels).sum(0)/len(test_labels)"
   ]
  },
  {
   "cell_type": "code",
   "execution_count": null,
   "metadata": {
    "collapsed": true
   },
   "outputs": [],
   "source": [
    "def weight_variable(shape):\n",
    "    initial = tf.truncated_normal(shape, stddev=0.05)\n",
    "    return tf.Variable(initial)\n",
    "\n",
    "def bias_variable(shape):\n",
    "    initial = tf.constant(0.1, shape=shape)\n",
    "    return tf.Variable(initial)"
   ]
  },
  {
   "cell_type": "code",
   "execution_count": null,
   "metadata": {},
   "outputs": [],
   "source": [
    "node_count_1 = 50\n",
    "\n",
    "x = tf.placeholder(tf.float32, shape=[None, 100])\n",
    "y_ = tf.placeholder(tf.float32, shape=[None, 2])\n",
    "\n",
    "# Define the first layer here\n",
    "W = weight_variable([100, node_count_1])\n",
    "b = bias_variable([node_count_1])\n",
    "h = tf.nn.sigmoid(tf.matmul(x, W) + b)\n",
    "\n",
    "# Use dropout for this layer (should you wish)\n",
    "#keep_prob = tf.placeholder(tf.float32)\n",
    "#h_drop = tf.nn.dropout(h1, keep_prob)\n",
    "\n",
    "# Define the output layer here\n",
    "V = weight_variable([node_count_1, 2])\n",
    "c = bias_variable([2])\n",
    "y = tf.nn.softmax(tf.matmul(h, V) + c)\n",
    "\n",
    "# We'll use the cross entropy loss function \n",
    "cross_entropy = tf.reduce_mean(tf.nn.softmax_cross_entropy_with_logits(logits=y, labels=y_))\n",
    "\n",
    "# And classification accuracy\n",
    "correct_prediction = tf.equal(tf.argmax(y, 1), tf.argmax(y_, 1))\n",
    "accuracy = tf.reduce_mean(tf.cast(correct_prediction, tf.float32))\n",
    "\n",
    "# And the Adam optimiser\n",
    "train_step = tf.train.AdamOptimizer(learning_rate=1e-2).minimize(cross_entropy)\n",
    "\n",
    "# Start a tf session and run the optimisation algorithm\n",
    "sess = tf.Session()\n",
    "sess.run(tf.initialize_all_variables())\n",
    "\n",
    "training = Iterator(train_set, train_labels)\n",
    "train_accuracy = 0\n",
    "test_accuracy = 0\n",
    "N = 0\n",
    "\n",
    "while training.epochs < 1000:\n",
    "    trd, trl = training.next_batch(50)\n",
    "    if N % 4000 == 0:\n",
    "        train_accuracy = sess.run(accuracy, feed_dict={x: trd, y_: trl})\n",
    "        test_accuracy = sess.run(accuracy, feed_dict={x: test_set, y_: test_labels})\n",
    "        print(\"Epoch: %d, Training Accuracy: %f, Test Accuracy: %f\" % (training.epochs, train_accuracy, test_accuracy))\n",
    "    sess.run(train_step, feed_dict={x: trd, y_: trl})\n",
    "    N += 1"
   ]
  }
 ],
 "metadata": {
  "anaconda-cloud": {},
  "kernelspec": {
   "display_name": "Python 3",
   "language": "python",
   "name": "python3"
  },
  "language_info": {
   "codemirror_mode": {
    "name": "ipython",
    "version": 3
   },
   "file_extension": ".py",
   "mimetype": "text/x-python",
   "name": "python",
   "nbconvert_exporter": "python",
   "pygments_lexer": "ipython3",
   "version": "3.5.3"
  }
 },
 "nbformat": 4,
 "nbformat_minor": 2
}
