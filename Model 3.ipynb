{
 "cells": [
  {
   "cell_type": "code",
   "execution_count": 1,
   "metadata": {},
   "outputs": [],
   "source": [
    "import numpy as np\n",
    "import re\n",
    "import random\n",
    "\n",
    "import tensorflow as tf\n",
    "import Functions as fn\n",
    "from DS import DS\n",
    "from Set import pool\n",
    "from Iterator import Iterator"
   ]
  },
  {
   "cell_type": "code",
   "execution_count": 2,
   "metadata": {
    "collapsed": true
   },
   "outputs": [],
   "source": [
    "#Dataset = fn.first_time_load()\n",
    "#Dataset.write_texts()\n",
    "#Dataset.write_labels()"
   ]
  },
  {
   "cell_type": "code",
   "execution_count": 3,
   "metadata": {},
   "outputs": [
    {
     "name": "stdout",
     "output_type": "stream",
     "text": [
      "Texts loaded\n",
      "Labels loaded\n"
     ]
    }
   ],
   "source": [
    "Dataset = pool()\n",
    "Dataset.load_texts()\n",
    "Dataset.load_labels()"
   ]
  },
  {
   "cell_type": "code",
   "execution_count": 4,
   "metadata": {
    "scrolled": false
   },
   "outputs": [
    {
     "name": "stdout",
     "output_type": "stream",
     "text": [
      "Number of Texts:  4605\n",
      "Number of 2007 Smoking Challenge texts:  926\n",
      "Number of 2008 ObesityChallenge texts:  1237\n",
      "Number of 2009 Medication Challenge texts:  1249\n",
      "Number of 2010 Relations Challenge texts:  694\n",
      "Number of 2011 Coreference Challenge texts:  188\n",
      "Number of 2012 Temporal Relations Challenge texts:  311\n",
      "Number of Train Texts:  2859\n",
      "Number of Test Texts:  1746\n",
      "Number of Labeled Texts:  258\n",
      "Number of Initially Labeled Texts:  10\n",
      "Number of Competitor Labeled Texts Texts:  248\n"
     ]
    }
   ],
   "source": [
    "print('Number of Texts: ', Dataset.size)\n",
    "print('Number of 2007 Smoking Challenge texts: ', Dataset.number_of(challenge='2007 Smoking Challenge'))\n",
    "print('Number of 2008 ObesityChallenge texts: ', Dataset.number_of(challenge='2008 Obesity Challenge'))\n",
    "print('Number of 2009 Medication Challenge texts: ', Dataset.number_of(challenge='2009 Medication Challenge'))\n",
    "print('Number of 2010 Relations Challenge texts: ', Dataset.number_of(challenge='2010 Relations Challenge'))\n",
    "print('Number of 2011 Coreference Challenge texts: ', Dataset.number_of(challenge='2011 Coreference Challenge'))\n",
    "print('Number of 2012 Temporal Relations Challenge texts: ', Dataset.number_of(challenge='2012 Temporal Relations Challenge'))\n",
    "print('Number of Train Texts: ', Dataset.number_of(stage='train'))\n",
    "print('Number of Test Texts: ', Dataset.number_of(stage='test'))\n",
    "print('Number of Labeled Texts: ', Dataset.number_of(labelled='yes'))\n",
    "print('Number of Initially Labeled Texts: ', Dataset.number_of(labelled='yes', label_type='train'))\n",
    "print('Number of Competitor Labeled Texts Texts: ', Dataset.number_of(labelled='yes', label_type='test'))"
   ]
  },
  {
   "cell_type": "code",
   "execution_count": 5,
   "metadata": {
    "collapsed": true
   },
   "outputs": [],
   "source": [
    "Dataset.process_for_embedding()\n",
    "sentences = Dataset.get_sentences()"
   ]
  },
  {
   "cell_type": "code",
   "execution_count": 6,
   "metadata": {},
   "outputs": [
    {
     "name": "stdout",
     "output_type": "stream",
     "text": [
      "Number of: m=928, do=119, mo=76, f=79, du=80, r=482\n"
     ]
    }
   ],
   "source": [
    "targets = ['medications', 'dosages', 'modes', 'frequencies', 'durations', 'reasons']\n",
    "target_dict = {label: words for (label, words) in zip(targets, list(fn.label_words(Dataset)))}"
   ]
  },
  {
   "cell_type": "code",
   "execution_count": 7,
   "metadata": {},
   "outputs": [
    {
     "name": "stderr",
     "output_type": "stream",
     "text": [
      "C:\\Users\\Luka\\Anaconda3\\envs\\tensorflow\\lib\\site-packages\\gensim\\utils.py:860: UserWarning: detected Windows; aliasing chunkize to chunkize_serial\n",
      "  warnings.warn(\"detected Windows; aliasing chunkize to chunkize_serial\")\n"
     ]
    }
   ],
   "source": [
    "from gensim.models import Word2Vec"
   ]
  },
  {
   "cell_type": "code",
   "execution_count": 8,
   "metadata": {
    "collapsed": true
   },
   "outputs": [],
   "source": [
    "model_I2B2 = Word2Vec(sentences, min_count=1, size=100)"
   ]
  },
  {
   "cell_type": "code",
   "execution_count": 9,
   "metadata": {
    "collapsed": true
   },
   "outputs": [],
   "source": [
    "#model_I2B2.most_similar(\"prozac\", topn=20)"
   ]
  },
  {
   "cell_type": "code",
   "execution_count": 10,
   "metadata": {
    "collapsed": true
   },
   "outputs": [],
   "source": [
    "#fn.visualise(model=model_I2B2, sentences=sentences, labels=[reasons], topn=1000, title='Reasons in top 1000 words')"
   ]
  },
  {
   "cell_type": "code",
   "execution_count": 11,
   "metadata": {
    "scrolled": false
   },
   "outputs": [
    {
     "name": "stdout",
     "output_type": "stream",
     "text": [
      "Train set size: 4640 \tPercentage of labels: 0.100000\n",
      "Test set size: 928 \tPercentage of labels: 0.500000\n",
      "Target: medications \tRepetitions: \n",
      "Progress: 0% \tTraining Accuracy: 0.880000\t Test accuracy: 0.500000\n",
      "Progress: 20% \tTraining Accuracy: 0.960000\t Test accuracy: 0.850215\n",
      "Progress: 40% \tTraining Accuracy: 1.000000\t Test accuracy: 0.850215\n",
      "Progress: 60% \tTraining Accuracy: 0.960000\t Test accuracy: 0.850215\n",
      "Progress: 80% \tTraining Accuracy: 0.940000\t Test accuracy: 0.849138\n",
      "Progress: 100% \tTraining Accuracy: 0.960000\t Test accuracy: 0.849138\n",
      "Final Test Accuracy: 0.849138\n",
      "\n",
      "Train set size: 4640 \tPercentage of labels: 0.100000\n",
      "Test set size: 928 \tPercentage of labels: 0.500000\n",
      "Target: medications \tRepetitions: no \n",
      "Progress: 0% \tTraining Accuracy: 0.940000\t Test accuracy: 0.500000\n",
      "Progress: 20% \tTraining Accuracy: 0.980000\t Test accuracy: 0.835129\n",
      "Progress: 40% \tTraining Accuracy: 1.000000\t Test accuracy: 0.839440\n",
      "Progress: 60% \tTraining Accuracy: 0.940000\t Test accuracy: 0.835129\n",
      "Progress: 80% \tTraining Accuracy: 0.980000\t Test accuracy: 0.842672\n",
      "Progress: 100% \tTraining Accuracy: 1.000000\t Test accuracy: 0.839440\n",
      "Final Test Accuracy: 0.839440\n",
      "\n",
      "Train set size: 594 \tPercentage of labels: 0.099327\n",
      "Test set size: 118 \tPercentage of labels: 0.500000\n",
      "Target: dosages \tRepetitions: \n",
      "Progress: 0% \tTraining Accuracy: 0.120000\t Test accuracy: 0.500000\n",
      "Progress: 20% \tTraining Accuracy: 0.980000\t Test accuracy: 0.838983\n",
      "Progress: 40% \tTraining Accuracy: 1.000000\t Test accuracy: 0.830508\n",
      "Progress: 60% \tTraining Accuracy: 0.980000\t Test accuracy: 0.847458\n",
      "Progress: 80% \tTraining Accuracy: 0.980000\t Test accuracy: 0.847458\n",
      "Progress: 100% \tTraining Accuracy: 0.980000\t Test accuracy: 0.847458\n",
      "Final Test Accuracy: 0.847458\n",
      "\n",
      "Train set size: 594 \tPercentage of labels: 0.099327\n",
      "Test set size: 118 \tPercentage of labels: 0.500000\n",
      "Target: dosages \tRepetitions: no \n",
      "Progress: 0% \tTraining Accuracy: 0.140000\t Test accuracy: 0.500000\n",
      "Progress: 20% \tTraining Accuracy: 1.000000\t Test accuracy: 0.822034\n",
      "Progress: 40% \tTraining Accuracy: 1.000000\t Test accuracy: 0.822034\n",
      "Progress: 60% \tTraining Accuracy: 1.000000\t Test accuracy: 0.822034\n",
      "Progress: 80% \tTraining Accuracy: 1.000000\t Test accuracy: 0.822034\n",
      "Progress: 100% \tTraining Accuracy: 1.000000\t Test accuracy: 0.822034\n",
      "Final Test Accuracy: 0.822034\n",
      "\n",
      "Train set size: 380 \tPercentage of labels: 0.100000\n",
      "Test set size: 76 \tPercentage of labels: 0.500000\n",
      "Target: modes \tRepetitions: \n",
      "Progress: 0% \tTraining Accuracy: 0.120000\t Test accuracy: 0.500000\n",
      "Progress: 20% \tTraining Accuracy: 0.960000\t Test accuracy: 0.855263\n",
      "Progress: 40% \tTraining Accuracy: 0.980000\t Test accuracy: 0.868421\n",
      "Progress: 60% \tTraining Accuracy: 1.000000\t Test accuracy: 0.868421\n",
      "Progress: 80% \tTraining Accuracy: 0.980000\t Test accuracy: 0.868421\n",
      "Progress: 100% \tTraining Accuracy: 1.000000\t Test accuracy: 0.868421\n",
      "Final Test Accuracy: 0.868421\n",
      "\n",
      "Train set size: 380 \tPercentage of labels: 0.100000\n",
      "Test set size: 76 \tPercentage of labels: 0.500000\n",
      "Target: modes \tRepetitions: no \n",
      "Progress: 0% \tTraining Accuracy: 0.120000\t Test accuracy: 0.500000\n",
      "Progress: 20% \tTraining Accuracy: 0.980000\t Test accuracy: 0.802632\n",
      "Progress: 40% \tTraining Accuracy: 0.980000\t Test accuracy: 0.802632\n",
      "Progress: 60% \tTraining Accuracy: 0.980000\t Test accuracy: 0.815789\n",
      "Progress: 80% \tTraining Accuracy: 1.000000\t Test accuracy: 0.815789\n",
      "Progress: 100% \tTraining Accuracy: 1.000000\t Test accuracy: 0.815789\n",
      "Final Test Accuracy: 0.815789\n",
      "\n",
      "Train set size: 394 \tPercentage of labels: 0.098985\n",
      "Test set size: 78 \tPercentage of labels: 0.500000\n",
      "Target: frequencies \tRepetitions: \n",
      "Progress: 0% \tTraining Accuracy: 0.900000\t Test accuracy: 0.500000\n",
      "Progress: 20% \tTraining Accuracy: 1.000000\t Test accuracy: 0.846154\n",
      "Progress: 40% \tTraining Accuracy: 1.000000\t Test accuracy: 0.846154\n",
      "Progress: 60% \tTraining Accuracy: 0.980000\t Test accuracy: 0.846154\n",
      "Progress: 80% \tTraining Accuracy: 1.000000\t Test accuracy: 0.846154\n",
      "Progress: 100% \tTraining Accuracy: 1.000000\t Test accuracy: 0.846154\n",
      "Final Test Accuracy: 0.846154\n",
      "\n",
      "Train set size: 394 \tPercentage of labels: 0.098985\n",
      "Test set size: 78 \tPercentage of labels: 0.500000\n",
      "Target: frequencies \tRepetitions: no \n",
      "Progress: 0% \tTraining Accuracy: 0.920000\t Test accuracy: 0.538462\n",
      "Progress: 20% \tTraining Accuracy: 0.980000\t Test accuracy: 0.858974\n",
      "Progress: 40% \tTraining Accuracy: 1.000000\t Test accuracy: 0.846154\n",
      "Progress: 60% \tTraining Accuracy: 0.980000\t Test accuracy: 0.820513\n",
      "Progress: 80% \tTraining Accuracy: 1.000000\t Test accuracy: 0.807692\n",
      "Progress: 100% \tTraining Accuracy: 0.960000\t Test accuracy: 0.807692\n",
      "Final Test Accuracy: 0.807692\n",
      "\n",
      "Train set size: 400 \tPercentage of labels: 0.100000\n",
      "Test set size: 80 \tPercentage of labels: 0.500000\n",
      "Target: durations \tRepetitions: \n",
      "Progress: 0% \tTraining Accuracy: 0.900000\t Test accuracy: 0.662500\n",
      "Progress: 20% \tTraining Accuracy: 1.000000\t Test accuracy: 0.912500\n",
      "Progress: 40% \tTraining Accuracy: 1.000000\t Test accuracy: 0.912500\n",
      "Progress: 60% \tTraining Accuracy: 1.000000\t Test accuracy: 0.912500\n",
      "Progress: 80% \tTraining Accuracy: 1.000000\t Test accuracy: 0.912500\n",
      "Progress: 100% \tTraining Accuracy: 1.000000\t Test accuracy: 0.912500\n",
      "Final Test Accuracy: 0.912500\n",
      "\n",
      "Train set size: 400 \tPercentage of labels: 0.100000\n",
      "Test set size: 80 \tPercentage of labels: 0.500000\n",
      "Target: durations \tRepetitions: no \n",
      "Progress: 0% \tTraining Accuracy: 0.880000\t Test accuracy: 0.500000\n",
      "Progress: 20% \tTraining Accuracy: 0.980000\t Test accuracy: 0.862500\n",
      "Progress: 40% \tTraining Accuracy: 1.000000\t Test accuracy: 0.862500\n",
      "Progress: 60% \tTraining Accuracy: 1.000000\t Test accuracy: 0.862500\n",
      "Progress: 80% \tTraining Accuracy: 1.000000\t Test accuracy: 0.862500\n",
      "Progress: 100% \tTraining Accuracy: 1.000000\t Test accuracy: 0.862500\n",
      "Final Test Accuracy: 0.862500\n",
      "\n",
      "Train set size: 2410 \tPercentage of labels: 0.100000\n",
      "Test set size: 482 \tPercentage of labels: 0.500000\n",
      "Target: reasons \tRepetitions: \n",
      "Progress: 0% \tTraining Accuracy: 0.880000\t Test accuracy: 0.500000\n",
      "Progress: 20% \tTraining Accuracy: 1.000000\t Test accuracy: 0.817427\n",
      "Progress: 40% \tTraining Accuracy: 1.000000\t Test accuracy: 0.819502\n",
      "Progress: 60% \tTraining Accuracy: 1.000000\t Test accuracy: 0.819502\n",
      "Progress: 80% \tTraining Accuracy: 0.980000\t Test accuracy: 0.817427\n",
      "Progress: 100% \tTraining Accuracy: 1.000000\t Test accuracy: 0.817427\n",
      "Final Test Accuracy: 0.817427\n",
      "\n",
      "Train set size: 2410 \tPercentage of labels: 0.100000\n",
      "Test set size: 482 \tPercentage of labels: 0.500000\n",
      "Target: reasons \tRepetitions: no \n",
      "Progress: 0% \tTraining Accuracy: 0.920000\t Test accuracy: 0.500000\n",
      "Progress: 20% \tTraining Accuracy: 1.000000\t Test accuracy: 0.827801\n",
      "Progress: 40% \tTraining Accuracy: 0.980000\t Test accuracy: 0.823651\n",
      "Progress: 60% \tTraining Accuracy: 1.000000\t Test accuracy: 0.825726\n",
      "Progress: 80% \tTraining Accuracy: 1.000000\t Test accuracy: 0.819502\n",
      "Progress: 100% \tTraining Accuracy: 0.960000\t Test accuracy: 0.819502\n",
      "Final Test Accuracy: 0.819502\n",
      "\n"
     ]
    }
   ],
   "source": [
    "for target in targets:\n",
    "    for reps in [True, False]:\n",
    "        target_size = len(target_dict[target])\n",
    "        sets = fn.get_traintest(model_I2B2, target_dict[target], target_size * 5, target_size, 10, 50, reps, reps)\n",
    "        fn.model_1(sets[0], sets[1], sets[2], sets[3], target=target, repetitions='' if reps else 'no ')"
   ]
  },
  {
   "cell_type": "code",
   "execution_count": null,
   "metadata": {
    "collapsed": true
   },
   "outputs": [],
   "source": []
  }
 ],
 "metadata": {
  "anaconda-cloud": {},
  "kernelspec": {
   "display_name": "Python 3",
   "language": "python",
   "name": "python3"
  },
  "language_info": {
   "codemirror_mode": {
    "name": "ipython",
    "version": 3
   },
   "file_extension": ".py",
   "mimetype": "text/x-python",
   "name": "python",
   "nbconvert_exporter": "python",
   "pygments_lexer": "ipython3",
   "version": "3.5.3"
  }
 },
 "nbformat": 4,
 "nbformat_minor": 2
}
