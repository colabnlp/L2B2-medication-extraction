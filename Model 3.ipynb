{
 "cells": [
  {
   "cell_type": "code",
   "execution_count": 17,
   "metadata": {},
   "outputs": [],
   "source": [
    "import numpy as np\n",
    "import re\n",
    "import random\n",
    "\n",
    "import tensorflow as tf\n",
    "\n",
    "import Functions as fn\n",
    "from DS import DS\n",
    "from Set import Set\n",
    "from Iterator import Iterator"
   ]
  },
  {
   "cell_type": "code",
   "execution_count": 2,
   "metadata": {},
   "outputs": [
    {
     "name": "stdout",
     "output_type": "stream",
     "text": [
      "696/696 added from 2009 Medication Challenge/training.sets.released/\n",
      "553/1249 added from 2009 Medication Challenge/test.released.8.17.09/\n",
      "398/398 added from //smokers_surrogate_train_all_version2.xml\n",
      "104/104 added from //smokers_surrogate_test_all_groundtruth_version2.xml\n",
      "0/398 added from /1C smokers_surrogate_train_all_version2.zip/smokers_surrogate_train_all_version2.xml\n",
      "0/104 added from /1C smokers_surrogate_test_all_version2.zip/smokers_surrogate_test_all_version2.xml\n",
      "0/104 added from /1C smokers_surrogate_test_all_groundtruth_version2.zip/smokers_surrogate_test_all_groundtruth_version2.xml\n",
      "91/220 added from /1B deid_surrogate_test_all_version2.zip/deid_surrogate_test_all_version2.xml\n",
      "2/669 added from /1B deid_surrogate_train_all_version2_CORRECTED.zip/deid_surrogate_train_all_version2.xml\n",
      "331/889 added from /1A unannotated_records_deid_smoking_CORRECTED.zip/unannotated_records_deid_smoking.xml\n",
      "507/507 added from 2008 Obesity Challenge/obesity_patient_records_test.xml\n",
      "30/30 added from 2008 Obesity Challenge/obesity_patient_records_training 50.xml\n",
      "581/611 added from 2008 Obesity Challenge/obesity_patient_records_training.xml\n",
      "119/119 added from 2008 Obesity Challenge/obesity_patient_records_training2.xml\n",
      "73/73 added from 2010 Relations Challenge/concept_assertion_relation_training_data/beth/txt/\n",
      "97/97 added from 2010 Relations Challenge/concept_assertion_relation_training_data/partners/txt/\n",
      "267/267 added from 2010 Relations Challenge/concept_assertion_relation_training_data/partners/unannotated/\n",
      "3/3 added from 2010 Relations Challenge/Sample Data/\n",
      "254/256 added from 2010 Relations Challenge/test_data/\n",
      "76/79 added from 2011 Coreference Challenge/Test_Beth/docs/\n",
      "0/94 added from 2011 Coreference Challenge/Test_Partners/docs/\n",
      "112/115 added from 2011 Coreference Challenge/Train_Beth/docs/\n",
      "0/136 added from 2011 Coreference Challenge/Train_Partners/docs/\n",
      "191/191 added from 2012 Temporal Relations Challenge/Training Full_2012-07-15.original-annotation.release/\n",
      "119/120 added from 2012 Temporal Relations Challenge/Evaluation_Test TIMEX groundtruth_2012-08-08.test-data.event-timex-groundtruth/i2b2/\n",
      "0/120 added from 2012 Temporal Relations Challenge/Evaluation_Test ground_truth_2012-08-23.test-data.groundtruth/merged_i2b2/\n",
      "0/120 added from 2012 Temporal Relations Challenge/Evaluation_Test ground_truth_2012-08-23.test-data.groundtruth/unmerged_i2b2/\n",
      "1/120 added from 2012 Temporal Relations Challenge/Evaluation_Test data_2012-08-06.test-data-release/txt/\n"
     ]
    }
   ],
   "source": [
    "Dataset = fn.firstTimeLoad()"
   ]
  },
  {
   "cell_type": "code",
   "execution_count": 3,
   "metadata": {
    "scrolled": false
   },
   "outputs": [
    {
     "name": "stdout",
     "output_type": "stream",
     "text": [
      "Number of Texts:  4605\n",
      "Number of 2007 Smoking Challenge texts:  926\n",
      "Number of 2008 ObesityChallenge texts:  1237\n",
      "Number of 2009 Medication Challenge texts:  1249\n",
      "Number of 2010 Relations Challenge texts:  694\n",
      "Number of 2011 Coreference Challenge texts:  188\n",
      "Number of 2012 Temporal Relations Challenge texts:  311\n",
      "Number of Train Texts:  2859\n",
      "Number of Test Texts:  1746\n",
      "Number of Labeled Texts:  258\n",
      "Number of Initially Labeled Texts:  10\n",
      "Number of Competitor Labeled Texts Texts:  248\n"
     ]
    }
   ],
   "source": [
    "print('Number of Texts: ', Dataset.size)\n",
    "print('Number of 2007 Smoking Challenge texts: ', Dataset.numberOf(challenge='2007 Smoking Challenge'))\n",
    "print('Number of 2008 ObesityChallenge texts: ', Dataset.numberOf(challenge='2008 Obesity Challenge'))\n",
    "print('Number of 2009 Medication Challenge texts: ', Dataset.numberOf(challenge='2009 Medication Challenge'))\n",
    "print('Number of 2010 Relations Challenge texts: ', Dataset.numberOf(challenge='2010 Relations Challenge'))\n",
    "print('Number of 2011 Coreference Challenge texts: ', Dataset.numberOf(challenge='2011 Coreference Challenge'))\n",
    "print('Number of 2012 Temporal Relations Challenge texts: ', Dataset.numberOf(challenge='2012 Temporal Relations Challenge'))\n",
    "print('Number of Train Texts: ', Dataset.numberOf(stage='train'))\n",
    "print('Number of Test Texts: ', Dataset.numberOf(stage='test'))\n",
    "print('Number of Labeled Texts: ', Dataset.numberOf(labelled='yes'))\n",
    "print('Number of Initially Labeled Texts: ', Dataset.numberOf(labelled='yes', label_type='train'))\n",
    "print('Number of Competitor Labeled Texts Texts: ', Dataset.numberOf(labelled='yes', label_type='test'))"
   ]
  },
  {
   "cell_type": "code",
   "execution_count": 4,
   "metadata": {},
   "outputs": [],
   "source": [
    "Dataset.processForEmbedding()\n",
    "sentences = Dataset.getSentences()"
   ]
  },
  {
   "cell_type": "code",
   "execution_count": 5,
   "metadata": {},
   "outputs": [
    {
     "name": "stdout",
     "output_type": "stream",
     "text": [
      "941\n",
      "940\n"
     ]
    }
   ],
   "source": [
    "medications = []\n",
    "labelled = Dataset.getDS(labelled='yes')\n",
    "\n",
    "for case in labelled.data:\n",
    "    for term in re.finditer(r'm=\"[a-z0-9 ]+\"', case.raw_labels):\n",
    "        temp = term.group()[3:-1]\n",
    "        temp = temp.split()\n",
    "        for word in temp:\n",
    "            word = re.sub(r'\\d+', '<num>', word)\n",
    "            if word not in medications:\n",
    "                medications.append(word)\n",
    "                \n",
    "print(len(medications))\n",
    "medications.remove('ngl')\n",
    "print(len(medications))"
   ]
  },
  {
   "cell_type": "code",
   "execution_count": 6,
   "metadata": {},
   "outputs": [
    {
     "name": "stderr",
     "output_type": "stream",
     "text": [
      "C:\\Users\\lgligic\\Anaconda3\\envs\\tensorflow\\lib\\site-packages\\gensim\\utils.py:855: UserWarning: detected Windows; aliasing chunkize to chunkize_serial\n",
      "  warnings.warn(\"detected Windows; aliasing chunkize to chunkize_serial\")\n"
     ]
    }
   ],
   "source": [
    "from gensim.models import Word2Vec"
   ]
  },
  {
   "cell_type": "code",
   "execution_count": 7,
   "metadata": {
    "collapsed": true
   },
   "outputs": [],
   "source": [
    "model_I2B2 = Word2Vec(sentences, min_count=1, size=100)"
   ]
  },
  {
   "cell_type": "code",
   "execution_count": 9,
   "metadata": {},
   "outputs": [
    {
     "data": {
      "text/plain": [
       "[('physician', 0.7791789174079895),\n",
       " ('office', 0.7369909286499023),\n",
       " ('cardiologist', 0.6672108173370361),\n",
       " ('private', 0.6639841794967651),\n",
       " ('primary', 0.6463156938552856),\n",
       " ('neurologist', 0.6413211822509766),\n",
       " ('oncologist', 0.627778172492981),\n",
       " ('pcp', 0.6173836588859558),\n",
       " ('doctor.', 0.6088188290596008),\n",
       " ('rheumatologist', 0.5994446277618408)]"
      ]
     },
     "execution_count": 9,
     "metadata": {},
     "output_type": "execute_result"
    }
   ],
   "source": [
    "model_I2B2.most_similar(\"doctor\")"
   ]
  },
  {
   "cell_type": "code",
   "execution_count": 10,
   "metadata": {},
   "outputs": [
    {
     "data": {
      "text/html": [
       "\n",
       "    <div class=\"bk-root\">\n",
       "        <a href=\"http://bokeh.pydata.org\" target=\"_blank\" class=\"bk-logo bk-logo-small bk-logo-notebook\"></a>\n",
       "        <span id=\"34a16a21-b886-48ae-bee6-88853c144d0b\">Loading BokehJS ...</span>\n",
       "    </div>"
      ]
     },
     "metadata": {},
     "output_type": "display_data"
    },
    {
     "data": {
      "application/javascript": [
       "\n",
       "(function(global) {\n",
       "  function now() {\n",
       "    return new Date();\n",
       "  }\n",
       "\n",
       "  var force = true;\n",
       "\n",
       "  if (typeof (window._bokeh_onload_callbacks) === \"undefined\" || force === true) {\n",
       "    window._bokeh_onload_callbacks = [];\n",
       "    window._bokeh_is_loading = undefined;\n",
       "  }\n",
       "\n",
       "\n",
       "  \n",
       "  if (typeof (window._bokeh_timeout) === \"undefined\" || force === true) {\n",
       "    window._bokeh_timeout = Date.now() + 5000;\n",
       "    window._bokeh_failed_load = false;\n",
       "  }\n",
       "\n",
       "  var NB_LOAD_WARNING = {'data': {'text/html':\n",
       "     \"<div style='background-color: #fdd'>\\n\"+\n",
       "     \"<p>\\n\"+\n",
       "     \"BokehJS does not appear to have successfully loaded. If loading BokehJS from CDN, this \\n\"+\n",
       "     \"may be due to a slow or bad network connection. Possible fixes:\\n\"+\n",
       "     \"</p>\\n\"+\n",
       "     \"<ul>\\n\"+\n",
       "     \"<li>re-rerun `output_notebook()` to attempt to load from CDN again, or</li>\\n\"+\n",
       "     \"<li>use INLINE resources instead, as so:</li>\\n\"+\n",
       "     \"</ul>\\n\"+\n",
       "     \"<code>\\n\"+\n",
       "     \"from bokeh.resources import INLINE\\n\"+\n",
       "     \"output_notebook(resources=INLINE)\\n\"+\n",
       "     \"</code>\\n\"+\n",
       "     \"</div>\"}};\n",
       "\n",
       "  function display_loaded() {\n",
       "    if (window.Bokeh !== undefined) {\n",
       "      var el = document.getElementById(\"34a16a21-b886-48ae-bee6-88853c144d0b\");\n",
       "      el.textContent = \"BokehJS \" + Bokeh.version + \" successfully loaded.\";\n",
       "    } else if (Date.now() < window._bokeh_timeout) {\n",
       "      setTimeout(display_loaded, 100)\n",
       "    }\n",
       "  }\n",
       "\n",
       "  function run_callbacks() {\n",
       "    window._bokeh_onload_callbacks.forEach(function(callback) { callback() });\n",
       "    delete window._bokeh_onload_callbacks\n",
       "    console.info(\"Bokeh: all callbacks have finished\");\n",
       "  }\n",
       "\n",
       "  function load_libs(js_urls, callback) {\n",
       "    window._bokeh_onload_callbacks.push(callback);\n",
       "    if (window._bokeh_is_loading > 0) {\n",
       "      console.log(\"Bokeh: BokehJS is being loaded, scheduling callback at\", now());\n",
       "      return null;\n",
       "    }\n",
       "    if (js_urls == null || js_urls.length === 0) {\n",
       "      run_callbacks();\n",
       "      return null;\n",
       "    }\n",
       "    console.log(\"Bokeh: BokehJS not loaded, scheduling load and callback at\", now());\n",
       "    window._bokeh_is_loading = js_urls.length;\n",
       "    for (var i = 0; i < js_urls.length; i++) {\n",
       "      var url = js_urls[i];\n",
       "      var s = document.createElement('script');\n",
       "      s.src = url;\n",
       "      s.async = false;\n",
       "      s.onreadystatechange = s.onload = function() {\n",
       "        window._bokeh_is_loading--;\n",
       "        if (window._bokeh_is_loading === 0) {\n",
       "          console.log(\"Bokeh: all BokehJS libraries loaded\");\n",
       "          run_callbacks()\n",
       "        }\n",
       "      };\n",
       "      s.onerror = function() {\n",
       "        console.warn(\"failed to load library \" + url);\n",
       "      };\n",
       "      console.log(\"Bokeh: injecting script tag for BokehJS library: \", url);\n",
       "      document.getElementsByTagName(\"head\")[0].appendChild(s);\n",
       "    }\n",
       "  };var element = document.getElementById(\"34a16a21-b886-48ae-bee6-88853c144d0b\");\n",
       "  if (element == null) {\n",
       "    console.log(\"Bokeh: ERROR: autoload.js configured with elementid '34a16a21-b886-48ae-bee6-88853c144d0b' but no matching script tag was found. \")\n",
       "    return false;\n",
       "  }\n",
       "\n",
       "  var js_urls = [\"https://cdn.pydata.org/bokeh/release/bokeh-0.12.5.min.js\", \"https://cdn.pydata.org/bokeh/release/bokeh-widgets-0.12.5.min.js\"];\n",
       "\n",
       "  var inline_js = [\n",
       "    function(Bokeh) {\n",
       "      Bokeh.set_log_level(\"info\");\n",
       "    },\n",
       "    \n",
       "    function(Bokeh) {\n",
       "      \n",
       "    },\n",
       "    \n",
       "    function(Bokeh) {\n",
       "      \n",
       "      document.getElementById(\"34a16a21-b886-48ae-bee6-88853c144d0b\").textContent = \"BokehJS is loading...\";\n",
       "    },\n",
       "    function(Bokeh) {\n",
       "      console.log(\"Bokeh: injecting CSS: https://cdn.pydata.org/bokeh/release/bokeh-0.12.5.min.css\");\n",
       "      Bokeh.embed.inject_css(\"https://cdn.pydata.org/bokeh/release/bokeh-0.12.5.min.css\");\n",
       "      console.log(\"Bokeh: injecting CSS: https://cdn.pydata.org/bokeh/release/bokeh-widgets-0.12.5.min.css\");\n",
       "      Bokeh.embed.inject_css(\"https://cdn.pydata.org/bokeh/release/bokeh-widgets-0.12.5.min.css\");\n",
       "    }\n",
       "  ];\n",
       "\n",
       "  function run_inline_js() {\n",
       "    \n",
       "    if ((window.Bokeh !== undefined) || (force === true)) {\n",
       "      for (var i = 0; i < inline_js.length; i++) {\n",
       "        inline_js[i](window.Bokeh);\n",
       "      }if (force === true) {\n",
       "        display_loaded();\n",
       "      }} else if (Date.now() < window._bokeh_timeout) {\n",
       "      setTimeout(run_inline_js, 100);\n",
       "    } else if (!window._bokeh_failed_load) {\n",
       "      console.log(\"Bokeh: BokehJS failed to load within specified timeout.\");\n",
       "      window._bokeh_failed_load = true;\n",
       "    } else if (force !== true) {\n",
       "      var cell = $(document.getElementById(\"34a16a21-b886-48ae-bee6-88853c144d0b\")).parents('.cell').data().cell;\n",
       "      cell.output_area.append_execute_result(NB_LOAD_WARNING)\n",
       "    }\n",
       "\n",
       "  }\n",
       "\n",
       "  if (window._bokeh_is_loading === 0) {\n",
       "    console.log(\"Bokeh: BokehJS loaded, going straight to plotting\");\n",
       "    run_inline_js();\n",
       "  } else {\n",
       "    load_libs(js_urls, function() {\n",
       "      console.log(\"Bokeh: BokehJS plotting callback run at\", now());\n",
       "      run_inline_js();\n",
       "    });\n",
       "  }\n",
       "}(this));"
      ]
     },
     "metadata": {},
     "output_type": "display_data"
    }
   ],
   "source": [
    "from bokeh.models import ColumnDataSource, LabelSet\n",
    "from bokeh.plotting import figure, show, output_file\n",
    "from bokeh.io import output_notebook\n",
    "output_notebook()"
   ]
  },
  {
   "cell_type": "code",
   "execution_count": 11,
   "metadata": {},
   "outputs": [],
   "source": [
    "from collections import Counter\n",
    "\n",
    "words = []\n",
    "for sent in sentences:\n",
    "    for word in sent:\n",
    "        words.append(word)\n",
    "\n",
    "cnt = Counter(words).most_common(1000)\n",
    "cnt = np.array(cnt)\n",
    "topwords = np.ndarray.tolist(cnt[:,0])"
   ]
  },
  {
   "cell_type": "code",
   "execution_count": 12,
   "metadata": {},
   "outputs": [
    {
     "name": "stdout",
     "output_type": "stream",
     "text": [
      "1810\n",
      "1810\n",
      "1810\n"
     ]
    }
   ],
   "source": [
    "visualisation = []\n",
    "\n",
    "for word in medications:\n",
    "    visualisation.append(word)\n",
    "\n",
    "colormap = np.full(len(visualisation), \"red\")\n",
    "\n",
    "for word in topwords:\n",
    "    if not word in visualisation:\n",
    "        visualisation.append(word)\n",
    "        colormap = np.append(colormap, [\"blue\"])\n",
    "\n",
    "\n",
    "# This assumes words_top_ted is a list of strings, the top 1000 words\n",
    "words_vec = model_I2B2[visualisation]\n",
    "\n",
    "print(len(visualisation))\n",
    "print(len(words_vec))\n",
    "print(len(colormap))"
   ]
  },
  {
   "cell_type": "code",
   "execution_count": 13,
   "metadata": {
    "collapsed": true
   },
   "outputs": [],
   "source": [
    "from sklearn.manifold import TSNE\n",
    "tsne = TSNE(n_components=2, random_state=0)\n",
    "words_tsne = tsne.fit_transform(words_vec)"
   ]
  },
  {
   "cell_type": "code",
   "execution_count": 14,
   "metadata": {},
   "outputs": [
    {
     "data": {
      "text/html": [
       "\n",
       "\n",
       "    <div class=\"bk-root\">\n",
       "        <div class=\"bk-plotdiv\" id=\"f40adf6d-a79f-473f-8400-7ac8cf4d9972\"></div>\n",
       "    </div>\n",
       "<script type=\"text/javascript\">\n",
       "  \n",
       "  (function(global) {\n",
       "    function now() {\n",
       "      return new Date();\n",
       "    }\n",
       "  \n",
       "    var force = false;\n",
       "  \n",
       "    if (typeof (window._bokeh_onload_callbacks) === \"undefined\" || force === true) {\n",
       "      window._bokeh_onload_callbacks = [];\n",
       "      window._bokeh_is_loading = undefined;\n",
       "    }\n",
       "  \n",
       "  \n",
       "    \n",
       "    if (typeof (window._bokeh_timeout) === \"undefined\" || force === true) {\n",
       "      window._bokeh_timeout = Date.now() + 0;\n",
       "      window._bokeh_failed_load = false;\n",
       "    }\n",
       "  \n",
       "    var NB_LOAD_WARNING = {'data': {'text/html':\n",
       "       \"<div style='background-color: #fdd'>\\n\"+\n",
       "       \"<p>\\n\"+\n",
       "       \"BokehJS does not appear to have successfully loaded. If loading BokehJS from CDN, this \\n\"+\n",
       "       \"may be due to a slow or bad network connection. Possible fixes:\\n\"+\n",
       "       \"</p>\\n\"+\n",
       "       \"<ul>\\n\"+\n",
       "       \"<li>re-rerun `output_notebook()` to attempt to load from CDN again, or</li>\\n\"+\n",
       "       \"<li>use INLINE resources instead, as so:</li>\\n\"+\n",
       "       \"</ul>\\n\"+\n",
       "       \"<code>\\n\"+\n",
       "       \"from bokeh.resources import INLINE\\n\"+\n",
       "       \"output_notebook(resources=INLINE)\\n\"+\n",
       "       \"</code>\\n\"+\n",
       "       \"</div>\"}};\n",
       "  \n",
       "    function display_loaded() {\n",
       "      if (window.Bokeh !== undefined) {\n",
       "        var el = document.getElementById(\"f40adf6d-a79f-473f-8400-7ac8cf4d9972\");\n",
       "        el.textContent = \"BokehJS \" + Bokeh.version + \" successfully loaded.\";\n",
       "      } else if (Date.now() < window._bokeh_timeout) {\n",
       "        setTimeout(display_loaded, 100)\n",
       "      }\n",
       "    }\n",
       "  \n",
       "    function run_callbacks() {\n",
       "      window._bokeh_onload_callbacks.forEach(function(callback) { callback() });\n",
       "      delete window._bokeh_onload_callbacks\n",
       "      console.info(\"Bokeh: all callbacks have finished\");\n",
       "    }\n",
       "  \n",
       "    function load_libs(js_urls, callback) {\n",
       "      window._bokeh_onload_callbacks.push(callback);\n",
       "      if (window._bokeh_is_loading > 0) {\n",
       "        console.log(\"Bokeh: BokehJS is being loaded, scheduling callback at\", now());\n",
       "        return null;\n",
       "      }\n",
       "      if (js_urls == null || js_urls.length === 0) {\n",
       "        run_callbacks();\n",
       "        return null;\n",
       "      }\n",
       "      console.log(\"Bokeh: BokehJS not loaded, scheduling load and callback at\", now());\n",
       "      window._bokeh_is_loading = js_urls.length;\n",
       "      for (var i = 0; i < js_urls.length; i++) {\n",
       "        var url = js_urls[i];\n",
       "        var s = document.createElement('script');\n",
       "        s.src = url;\n",
       "        s.async = false;\n",
       "        s.onreadystatechange = s.onload = function() {\n",
       "          window._bokeh_is_loading--;\n",
       "          if (window._bokeh_is_loading === 0) {\n",
       "            console.log(\"Bokeh: all BokehJS libraries loaded\");\n",
       "            run_callbacks()\n",
       "          }\n",
       "        };\n",
       "        s.onerror = function() {\n",
       "          console.warn(\"failed to load library \" + url);\n",
       "        };\n",
       "        console.log(\"Bokeh: injecting script tag for BokehJS library: \", url);\n",
       "        document.getElementsByTagName(\"head\")[0].appendChild(s);\n",
       "      }\n",
       "    };var element = document.getElementById(\"f40adf6d-a79f-473f-8400-7ac8cf4d9972\");\n",
       "    if (element == null) {\n",
       "      console.log(\"Bokeh: ERROR: autoload.js configured with elementid 'f40adf6d-a79f-473f-8400-7ac8cf4d9972' but no matching script tag was found. \")\n",
       "      return false;\n",
       "    }\n",
       "  \n",
       "    var js_urls = [];\n",
       "  \n",
       "    var inline_js = [\n",
       "      function(Bokeh) {\n",
       "        (function() {\n",
       "          var fn = function() {\n",
       "            var docs_json = {\"dee6e8b9-aaeb-4335-afc8-2dec86c0d9fb\":{\"roots\":{\"references\":[{\"attributes\":{\"active_drag\":\"auto\",\"active_scroll\":\"auto\",\"active_tap\":\"auto\",\"tools\":[{\"id\":\"68746cc7-5803-43bb-b804-e6f995a0d4e3\",\"type\":\"PanTool\"},{\"id\":\"4b8afaea-4075-447b-afe1-1cc8a24e4e45\",\"type\":\"WheelZoomTool\"},{\"id\":\"9ce5e78b-5db9-401e-8d6a-a5b859255d03\",\"type\":\"ResetTool\"},{\"id\":\"421f4037-ae11-4d2f-9654-5a9792b2ee96\",\"type\":\"SaveTool\"}]},\"id\":\"3db2528a-a08f-4109-9c3f-2eefb58ceb9a\",\"type\":\"Toolbar\"},{\"attributes\":{\"formatter\":{\"id\":\"1341789a-2e0a-4538-b5ee-85c482d58cd4\",\"type\":\"BasicTickFormatter\"},\"plot\":{\"id\":\"6d2ce39b-b947-47eb-9dd1-1dbf2576ebc9\",\"subtype\":\"Figure\",\"type\":\"Plot\"},\"ticker\":{\"id\":\"3757aff6-af2c-4d9f-bc00-6ed650a8830a\",\"type\":\"BasicTicker\"}},\"id\":\"fd001ec3-52f3-4165-a63c-c68487c7c9ef\",\"type\":\"LinearAxis\"},{\"attributes\":{\"fill_color\":{\"field\":\"coloring\"},\"line_color\":{\"field\":\"coloring\"},\"size\":{\"units\":\"screen\",\"value\":8},\"x\":{\"field\":\"x1\"},\"y\":{\"field\":\"x2\"}},\"id\":\"d8d08b21-bfa1-4830-b111-0da02b0cbac4\",\"type\":\"Circle\"},{\"attributes\":{\"plot\":null,\"text\":\"word2vec T-SNE for most common words\"},\"id\":\"942440e3-b73a-45c9-9287-d5af0f1dab51\",\"type\":\"Title\"},{\"attributes\":{\"callback\":null},\"id\":\"f864172e-2a50-46be-a769-aaffbe01a316\",\"type\":\"DataRange1d\"},{\"attributes\":{\"data_source\":{\"id\":\"a3e2f5a5-3fdd-4ef9-9420-aa816aee3aa6\",\"type\":\"ColumnDataSource\"},\"glyph\":{\"id\":\"d8d08b21-bfa1-4830-b111-0da02b0cbac4\",\"type\":\"Circle\"},\"hover_glyph\":null,\"muted_glyph\":null,\"nonselection_glyph\":{\"id\":\"7f552f30-1fa7-4561-b443-01a305aff2d6\",\"type\":\"Circle\"},\"selection_glyph\":null},\"id\":\"e254eee0-3ab5-4257-8ba3-f92f07421f8d\",\"type\":\"GlyphRenderer\"},{\"attributes\":{\"below\":[{\"id\":\"bc611cac-2e09-48bc-bca7-0ba2afec4e0a\",\"type\":\"LinearAxis\"}],\"left\":[{\"id\":\"fd001ec3-52f3-4165-a63c-c68487c7c9ef\",\"type\":\"LinearAxis\"}],\"renderers\":[{\"id\":\"bc611cac-2e09-48bc-bca7-0ba2afec4e0a\",\"type\":\"LinearAxis\"},{\"id\":\"f8ecf57a-81c3-42a3-8912-462df49657fc\",\"type\":\"Grid\"},{\"id\":\"fd001ec3-52f3-4165-a63c-c68487c7c9ef\",\"type\":\"LinearAxis\"},{\"id\":\"19818d11-07a3-465e-874b-ade8153c66b3\",\"type\":\"Grid\"},{\"id\":\"e254eee0-3ab5-4257-8ba3-f92f07421f8d\",\"type\":\"GlyphRenderer\"},{\"id\":\"a0c26e12-a9b3-4a04-856a-bc80278db559\",\"type\":\"LabelSet\"}],\"title\":{\"id\":\"942440e3-b73a-45c9-9287-d5af0f1dab51\",\"type\":\"Title\"},\"tool_events\":{\"id\":\"568d33bf-e161-4df2-bf45-f9bf94de6eb6\",\"type\":\"ToolEvents\"},\"toolbar\":{\"id\":\"3db2528a-a08f-4109-9c3f-2eefb58ceb9a\",\"type\":\"Toolbar\"},\"toolbar_location\":\"above\",\"x_range\":{\"id\":\"5afb982f-2364-4127-87e6-7b22cfbb879e\",\"type\":\"DataRange1d\"},\"y_range\":{\"id\":\"f864172e-2a50-46be-a769-aaffbe01a316\",\"type\":\"DataRange1d\"}},\"id\":\"6d2ce39b-b947-47eb-9dd1-1dbf2576ebc9\",\"subtype\":\"Figure\",\"type\":\"Plot\"},{\"attributes\":{\"dimension\":1,\"plot\":{\"id\":\"6d2ce39b-b947-47eb-9dd1-1dbf2576ebc9\",\"subtype\":\"Figure\",\"type\":\"Plot\"},\"ticker\":{\"id\":\"3757aff6-af2c-4d9f-bc00-6ed650a8830a\",\"type\":\"BasicTicker\"}},\"id\":\"19818d11-07a3-465e-874b-ade8153c66b3\",\"type\":\"Grid\"},{\"attributes\":{\"plot\":{\"id\":\"6d2ce39b-b947-47eb-9dd1-1dbf2576ebc9\",\"subtype\":\"Figure\",\"type\":\"Plot\"}},\"id\":\"9ce5e78b-5db9-401e-8d6a-a5b859255d03\",\"type\":\"ResetTool\"},{\"attributes\":{\"callback\":null,\"column_names\":[\"names\",\"x2\",\"coloring\",\"x1\"],\"data\":{\"coloring\":[\"red\",\"red\",\"red\",\"red\",\"red\",\"red\",\"red\",\"red\",\"red\",\"red\",\"red\",\"red\",\"red\",\"red\",\"red\",\"red\",\"red\",\"red\",\"red\",\"red\",\"red\",\"red\",\"red\",\"red\",\"red\",\"red\",\"red\",\"red\",\"red\",\"red\",\"red\",\"red\",\"red\",\"red\",\"red\",\"red\",\"red\",\"red\",\"red\",\"red\",\"red\",\"red\",\"red\",\"red\",\"red\",\"red\",\"red\",\"red\",\"red\",\"red\",\"red\",\"red\",\"red\",\"red\",\"red\",\"red\",\"red\",\"red\",\"red\",\"red\",\"red\",\"red\",\"red\",\"red\",\"red\",\"red\",\"red\",\"red\",\"red\",\"red\",\"red\",\"red\",\"red\",\"red\",\"red\",\"red\",\"red\",\"red\",\"red\",\"red\",\"red\",\"red\",\"red\",\"red\",\"red\",\"red\",\"red\",\"red\",\"red\",\"red\",\"red\",\"red\",\"red\",\"red\",\"red\",\"red\",\"red\",\"red\",\"red\",\"red\",\"red\",\"red\",\"red\",\"red\",\"red\",\"red\",\"red\",\"red\",\"red\",\"red\",\"red\",\"red\",\"red\",\"red\",\"red\",\"red\",\"red\",\"red\",\"red\",\"red\",\"red\",\"red\",\"red\",\"red\",\"red\",\"red\",\"red\",\"red\",\"red\",\"red\",\"red\",\"red\",\"red\",\"red\",\"red\",\"red\",\"red\",\"red\",\"red\",\"red\",\"red\",\"red\",\"red\",\"red\",\"red\",\"red\",\"red\",\"red\",\"red\",\"red\",\"red\",\"red\",\"red\",\"red\",\"red\",\"red\",\"red\",\"red\",\"red\",\"red\",\"red\",\"red\",\"red\",\"red\",\"red\",\"red\",\"red\",\"red\",\"red\",\"red\",\"red\",\"red\",\"red\",\"red\",\"red\",\"red\",\"red\",\"red\",\"red\",\"red\",\"red\",\"red\",\"red\",\"red\",\"red\",\"red\",\"red\",\"red\",\"red\",\"red\",\"red\",\"red\",\"red\",\"red\",\"red\",\"red\",\"red\",\"red\",\"red\",\"red\",\"red\",\"red\",\"red\",\"red\",\"red\",\"red\",\"red\",\"red\",\"red\",\"red\",\"red\",\"red\",\"red\",\"red\",\"red\",\"red\",\"red\",\"red\",\"red\",\"red\",\"red\",\"red\",\"red\",\"red\",\"red\",\"red\",\"red\",\"red\",\"red\",\"red\",\"red\",\"red\",\"red\",\"red\",\"red\",\"red\",\"red\",\"red\",\"red\",\"red\",\"red\",\"red\",\"red\",\"red\",\"red\",\"red\",\"red\",\"red\",\"red\",\"red\",\"red\",\"red\",\"red\",\"red\",\"red\",\"red\",\"red\",\"red\",\"red\",\"red\",\"red\",\"red\",\"red\",\"red\",\"red\",\"red\",\"red\",\"red\",\"red\",\"red\",\"red\",\"red\",\"red\",\"red\",\"red\",\"red\",\"red\",\"red\",\"red\",\"red\",\"red\",\"red\",\"red\",\"red\",\"red\",\"red\",\"red\",\"red\",\"red\",\"red\",\"red\",\"red\",\"red\",\"red\",\"red\",\"red\",\"red\",\"red\",\"red\",\"red\",\"red\",\"red\",\"red\",\"red\",\"red\",\"red\",\"red\",\"red\",\"red\",\"red\",\"red\",\"red\",\"red\",\"red\",\"red\",\"red\",\"red\",\"red\",\"red\",\"red\",\"red\",\"red\",\"red\",\"red\",\"red\",\"red\",\"red\",\"red\",\"red\",\"red\",\"red\",\"red\",\"red\",\"red\",\"red\",\"red\",\"red\",\"red\",\"red\",\"red\",\"red\",\"red\",\"red\",\"red\",\"red\",\"red\",\"red\",\"red\",\"red\",\"red\",\"red\",\"red\",\"red\",\"red\",\"red\",\"red\",\"red\",\"red\",\"red\",\"red\",\"red\",\"red\",\"red\",\"red\",\"red\",\"red\",\"red\",\"red\",\"red\",\"red\",\"red\",\"red\",\"red\",\"red\",\"red\",\"red\",\"red\",\"red\",\"red\",\"red\",\"red\",\"red\",\"red\",\"red\",\"red\",\"red\",\"red\",\"red\",\"red\",\"red\",\"red\",\"red\",\"red\",\"red\",\"red\",\"red\",\"red\",\"red\",\"red\",\"red\",\"red\",\"red\",\"red\",\"red\",\"red\",\"red\",\"red\",\"red\",\"red\",\"red\",\"red\",\"red\",\"red\",\"red\",\"red\",\"red\",\"red\",\"red\",\"red\",\"red\",\"red\",\"red\",\"red\",\"red\",\"red\",\"red\",\"red\",\"red\",\"red\",\"red\",\"red\",\"red\",\"red\",\"red\",\"red\",\"red\",\"red\",\"red\",\"red\",\"red\",\"red\",\"red\",\"red\",\"red\",\"red\",\"red\",\"red\",\"red\",\"red\",\"red\",\"red\",\"red\",\"red\",\"red\",\"red\",\"red\",\"red\",\"red\",\"red\",\"red\",\"red\",\"red\",\"red\",\"red\",\"red\",\"red\",\"red\",\"red\",\"red\",\"red\",\"red\",\"red\",\"red\",\"red\",\"red\",\"red\",\"red\",\"red\",\"red\",\"red\",\"red\",\"red\",\"red\",\"red\",\"red\",\"red\",\"red\",\"red\",\"red\",\"red\",\"red\",\"red\",\"red\",\"red\",\"red\",\"red\",\"red\",\"red\",\"red\",\"red\",\"red\",\"red\",\"red\",\"red\",\"red\",\"red\",\"red\",\"red\",\"red\",\"red\",\"red\",\"red\",\"red\",\"red\",\"red\",\"red\",\"red\",\"red\",\"red\",\"red\",\"red\",\"red\",\"red\",\"red\",\"red\",\"red\",\"red\",\"red\",\"red\",\"red\",\"red\",\"red\",\"red\",\"red\",\"red\",\"red\",\"red\",\"red\",\"red\",\"red\",\"red\",\"red\",\"red\",\"red\",\"red\",\"red\",\"red\",\"red\",\"red\",\"red\",\"red\",\"red\",\"red\",\"red\",\"red\",\"red\",\"red\",\"red\",\"red\",\"red\",\"red\",\"red\",\"red\",\"red\",\"red\",\"red\",\"red\",\"red\",\"red\",\"red\",\"red\",\"red\",\"red\",\"red\",\"red\",\"red\",\"red\",\"red\",\"red\",\"red\",\"red\",\"red\",\"red\",\"red\",\"red\",\"red\",\"red\",\"red\",\"red\",\"red\",\"red\",\"red\",\"red\",\"red\",\"red\",\"red\",\"red\",\"red\",\"red\",\"red\",\"red\",\"red\",\"red\",\"red\",\"red\",\"red\",\"red\",\"red\",\"red\",\"red\",\"red\",\"red\",\"red\",\"red\",\"red\",\"red\",\"red\",\"red\",\"red\",\"red\",\"red\",\"red\",\"red\",\"red\",\"red\",\"red\",\"red\",\"red\",\"red\",\"red\",\"red\",\"red\",\"red\",\"red\",\"red\",\"red\",\"red\",\"red\",\"red\",\"red\",\"red\",\"red\",\"red\",\"red\",\"red\",\"red\",\"red\",\"red\",\"red\",\"red\",\"red\",\"red\",\"red\",\"red\",\"red\",\"red\",\"red\",\"red\",\"red\",\"red\",\"red\",\"red\",\"red\",\"red\",\"red\",\"red\",\"red\",\"red\",\"red\",\"red\",\"red\",\"red\",\"red\",\"red\",\"red\",\"red\",\"red\",\"red\",\"red\",\"red\",\"red\",\"red\",\"red\",\"red\",\"red\",\"red\",\"red\",\"red\",\"red\",\"red\",\"red\",\"red\",\"red\",\"red\",\"red\",\"red\",\"red\",\"red\",\"red\",\"red\",\"red\",\"red\",\"red\",\"red\",\"red\",\"red\",\"red\",\"red\",\"red\",\"red\",\"red\",\"red\",\"red\",\"red\",\"red\",\"red\",\"red\",\"red\",\"red\",\"red\",\"red\",\"red\",\"red\",\"red\",\"red\",\"red\",\"red\",\"red\",\"red\",\"red\",\"red\",\"red\",\"red\",\"red\",\"red\",\"red\",\"red\",\"red\",\"red\",\"red\",\"red\",\"red\",\"red\",\"red\",\"red\",\"red\",\"red\",\"red\",\"red\",\"red\",\"red\",\"red\",\"red\",\"red\",\"red\",\"red\",\"red\",\"red\",\"red\",\"red\",\"red\",\"red\",\"red\",\"red\",\"red\",\"red\",\"red\",\"red\",\"red\",\"red\",\"red\",\"red\",\"red\",\"red\",\"red\",\"red\",\"red\",\"red\",\"red\",\"red\",\"red\",\"red\",\"red\",\"red\",\"red\",\"red\",\"red\",\"red\",\"red\",\"red\",\"red\",\"red\",\"red\",\"red\",\"red\",\"red\",\"red\",\"red\",\"red\",\"red\",\"red\",\"red\",\"red\",\"red\",\"red\",\"red\",\"red\",\"red\",\"red\",\"red\",\"red\",\"red\",\"red\",\"red\",\"red\",\"red\",\"red\",\"red\",\"red\",\"red\",\"red\",\"red\",\"red\",\"red\",\"red\",\"red\",\"red\",\"red\",\"red\",\"red\",\"red\",\"red\",\"red\",\"red\",\"red\",\"red\",\"red\",\"red\",\"red\",\"red\",\"red\",\"red\",\"red\",\"red\",\"red\",\"red\",\"red\",\"red\",\"red\",\"red\",\"red\",\"red\",\"red\",\"red\",\"red\",\"red\",\"red\",\"red\",\"red\",\"red\",\"red\",\"red\",\"red\",\"red\",\"red\",\"red\",\"red\",\"red\",\"red\",\"red\",\"red\",\"red\",\"red\",\"red\",\"red\",\"red\",\"red\",\"red\",\"red\",\"red\",\"red\",\"red\",\"red\",\"red\",\"red\",\"red\",\"red\",\"red\",\"red\",\"red\",\"red\",\"red\",\"red\",\"red\",\"red\",\"red\",\"red\",\"red\",\"red\",\"red\",\"red\",\"red\",\"red\",\"red\",\"red\",\"red\",\"red\",\"red\",\"red\",\"red\",\"red\",\"red\",\"red\",\"red\",\"red\",\"red\",\"red\",\"red\",\"red\",\"red\",\"red\",\"red\",\"red\",\"red\",\"red\",\"red\",\"red\",\"red\",\"red\",\"red\",\"red\",\"red\",\"red\",\"red\",\"red\",\"red\",\"red\",\"red\",\"red\",\"red\",\"blue\",\"blue\",\"blue\",\"blue\",\"blue\",\"blue\",\"blue\",\"blue\",\"blue\",\"blue\",\"blue\",\"blue\",\"blue\",\"blue\",\"blue\",\"blue\",\"blue\",\"blue\",\"blue\",\"blue\",\"blue\",\"blue\",\"blue\",\"blue\",\"blue\",\"blue\",\"blue\",\"blue\",\"blue\",\"blue\",\"blue\",\"blue\",\"blue\",\"blue\",\"blue\",\"blue\",\"blue\",\"blue\",\"blue\",\"blue\",\"blue\",\"blue\",\"blue\",\"blue\",\"blue\",\"blue\",\"blue\",\"blue\",\"blue\",\"blue\",\"blue\",\"blue\",\"blue\",\"blue\",\"blue\",\"blue\",\"blue\",\"blue\",\"blue\",\"blue\",\"blue\",\"blue\",\"blue\",\"blue\",\"blue\",\"blue\",\"blue\",\"blue\",\"blue\",\"blue\",\"blue\",\"blue\",\"blue\",\"blue\",\"blue\",\"blue\",\"blue\",\"blue\",\"blue\",\"blue\",\"blue\",\"blue\",\"blue\",\"blue\",\"blue\",\"blue\",\"blue\",\"blue\",\"blue\",\"blue\",\"blue\",\"blue\",\"blue\",\"blue\",\"blue\",\"blue\",\"blue\",\"blue\",\"blue\",\"blue\",\"blue\",\"blue\",\"blue\",\"blue\",\"blue\",\"blue\",\"blue\",\"blue\",\"blue\",\"blue\",\"blue\",\"blue\",\"blue\",\"blue\",\"blue\",\"blue\",\"blue\",\"blue\",\"blue\",\"blue\",\"blue\",\"blue\",\"blue\",\"blue\",\"blue\",\"blue\",\"blue\",\"blue\",\"blue\",\"blue\",\"blue\",\"blue\",\"blue\",\"blue\",\"blue\",\"blue\",\"blue\",\"blue\",\"blue\",\"blue\",\"blue\",\"blue\",\"blue\",\"blue\",\"blue\",\"blue\",\"blue\",\"blue\",\"blue\",\"blue\",\"blue\",\"blue\",\"blue\",\"blue\",\"blue\",\"blue\",\"blue\",\"blue\",\"blue\",\"blue\",\"blue\",\"blue\",\"blue\",\"blue\",\"blue\",\"blue\",\"blue\",\"blue\",\"blue\",\"blue\",\"blue\",\"blue\",\"blue\",\"blue\",\"blue\",\"blue\",\"blue\",\"blue\",\"blue\",\"blue\",\"blue\",\"blue\",\"blue\",\"blue\",\"blue\",\"blue\",\"blue\",\"blue\",\"blue\",\"blue\",\"blue\",\"blue\",\"blue\",\"blue\",\"blue\",\"blue\",\"blue\",\"blue\",\"blue\",\"blue\",\"blue\",\"blue\",\"blue\",\"blue\",\"blue\",\"blue\",\"blue\",\"blue\",\"blue\",\"blue\",\"blue\",\"blue\",\"blue\",\"blue\",\"blue\",\"blue\",\"blue\",\"blue\",\"blue\",\"blue\",\"blue\",\"blue\",\"blue\",\"blue\",\"blue\",\"blue\",\"blue\",\"blue\",\"blue\",\"blue\",\"blue\",\"blue\",\"blue\",\"blue\",\"blue\",\"blue\",\"blue\",\"blue\",\"blue\",\"blue\",\"blue\",\"blue\",\"blue\",\"blue\",\"blue\",\"blue\",\"blue\",\"blue\",\"blue\",\"blue\",\"blue\",\"blue\",\"blue\",\"blue\",\"blue\",\"blue\",\"blue\",\"blue\",\"blue\",\"blue\",\"blue\",\"blue\",\"blue\",\"blue\",\"blue\",\"blue\",\"blue\",\"blue\",\"blue\",\"blue\",\"blue\",\"blue\",\"blue\",\"blue\",\"blue\",\"blue\",\"blue\",\"blue\",\"blue\",\"blue\",\"blue\",\"blue\",\"blue\",\"blue\",\"blue\",\"blue\",\"blue\",\"blue\",\"blue\",\"blue\",\"blue\",\"blue\",\"blue\",\"blue\",\"blue\",\"blue\",\"blue\",\"blue\",\"blue\",\"blue\",\"blue\",\"blue\",\"blue\",\"blue\",\"blue\",\"blue\",\"blue\",\"blue\",\"blue\",\"blue\",\"blue\",\"blue\",\"blue\",\"blue\",\"blue\",\"blue\",\"blue\",\"blue\",\"blue\",\"blue\",\"blue\",\"blue\",\"blue\",\"blue\",\"blue\",\"blue\",\"blue\",\"blue\",\"blue\",\"blue\",\"blue\",\"blue\",\"blue\",\"blue\",\"blue\",\"blue\",\"blue\",\"blue\",\"blue\",\"blue\",\"blue\",\"blue\",\"blue\",\"blue\",\"blue\",\"blue\",\"blue\",\"blue\",\"blue\",\"blue\",\"blue\",\"blue\",\"blue\",\"blue\",\"blue\",\"blue\",\"blue\",\"blue\",\"blue\",\"blue\",\"blue\",\"blue\",\"blue\",\"blue\",\"blue\",\"blue\",\"blue\",\"blue\",\"blue\",\"blue\",\"blue\",\"blue\",\"blue\",\"blue\",\"blue\",\"blue\",\"blue\",\"blue\",\"blue\",\"blue\",\"blue\",\"blue\",\"blue\",\"blue\",\"blue\",\"blue\",\"blue\",\"blue\",\"blue\",\"blue\",\"blue\",\"blue\",\"blue\",\"blue\",\"blue\",\"blue\",\"blue\",\"blue\",\"blue\",\"blue\",\"blue\",\"blue\",\"blue\",\"blue\",\"blue\",\"blue\",\"blue\",\"blue\",\"blue\",\"blue\",\"blue\",\"blue\",\"blue\",\"blue\",\"blue\",\"blue\",\"blue\",\"blue\",\"blue\",\"blue\",\"blue\",\"blue\",\"blue\",\"blue\",\"blue\",\"blue\",\"blue\",\"blue\",\"blue\",\"blue\",\"blue\",\"blue\",\"blue\",\"blue\",\"blue\",\"blue\",\"blue\",\"blue\",\"blue\",\"blue\",\"blue\",\"blue\",\"blue\",\"blue\",\"blue\",\"blue\",\"blue\",\"blue\",\"blue\",\"blue\",\"blue\",\"blue\",\"blue\",\"blue\",\"blue\",\"blue\",\"blue\",\"blue\",\"blue\",\"blue\",\"blue\",\"blue\",\"blue\",\"blue\",\"blue\",\"blue\",\"blue\",\"blue\",\"blue\",\"blue\",\"blue\",\"blue\",\"blue\",\"blue\",\"blue\",\"blue\",\"blue\",\"blue\",\"blue\",\"blue\",\"blue\",\"blue\",\"blue\",\"blue\",\"blue\",\"blue\",\"blue\",\"blue\",\"blue\",\"blue\",\"blue\",\"blue\",\"blue\",\"blue\",\"blue\",\"blue\",\"blue\",\"blue\",\"blue\",\"blue\",\"blue\",\"blue\",\"blue\",\"blue\",\"blue\",\"blue\",\"blue\",\"blue\",\"blue\",\"blue\",\"blue\",\"blue\",\"blue\",\"blue\",\"blue\",\"blue\",\"blue\",\"blue\",\"blue\",\"blue\",\"blue\",\"blue\",\"blue\",\"blue\",\"blue\",\"blue\",\"blue\",\"blue\",\"blue\",\"blue\",\"blue\",\"blue\",\"blue\",\"blue\",\"blue\",\"blue\",\"blue\",\"blue\",\"blue\",\"blue\",\"blue\",\"blue\",\"blue\",\"blue\",\"blue\",\"blue\",\"blue\",\"blue\",\"blue\",\"blue\",\"blue\",\"blue\",\"blue\",\"blue\",\"blue\",\"blue\",\"blue\",\"blue\",\"blue\",\"blue\",\"blue\",\"blue\",\"blue\",\"blue\",\"blue\",\"blue\",\"blue\",\"blue\",\"blue\",\"blue\",\"blue\",\"blue\",\"blue\",\"blue\",\"blue\",\"blue\",\"blue\",\"blue\",\"blue\",\"blue\",\"blue\",\"blue\",\"blue\",\"blue\",\"blue\",\"blue\",\"blue\",\"blue\",\"blue\",\"blue\",\"blue\",\"blue\",\"blue\",\"blue\",\"blue\",\"blue\",\"blue\",\"blue\",\"blue\",\"blue\",\"blue\",\"blue\",\"blue\",\"blue\",\"blue\",\"blue\",\"blue\",\"blue\",\"blue\",\"blue\",\"blue\",\"blue\",\"blue\",\"blue\",\"blue\",\"blue\",\"blue\",\"blue\",\"blue\",\"blue\",\"blue\",\"blue\",\"blue\",\"blue\",\"blue\",\"blue\",\"blue\",\"blue\",\"blue\",\"blue\",\"blue\",\"blue\",\"blue\",\"blue\",\"blue\",\"blue\",\"blue\",\"blue\",\"blue\",\"blue\",\"blue\",\"blue\",\"blue\",\"blue\",\"blue\",\"blue\",\"blue\",\"blue\",\"blue\",\"blue\",\"blue\",\"blue\",\"blue\",\"blue\",\"blue\",\"blue\",\"blue\",\"blue\",\"blue\",\"blue\",\"blue\",\"blue\",\"blue\",\"blue\",\"blue\",\"blue\",\"blue\",\"blue\",\"blue\",\"blue\",\"blue\",\"blue\",\"blue\",\"blue\",\"blue\",\"blue\",\"blue\",\"blue\",\"blue\",\"blue\",\"blue\",\"blue\",\"blue\",\"blue\",\"blue\",\"blue\",\"blue\",\"blue\",\"blue\",\"blue\",\"blue\",\"blue\",\"blue\",\"blue\",\"blue\",\"blue\",\"blue\",\"blue\",\"blue\",\"blue\",\"blue\",\"blue\",\"blue\",\"blue\",\"blue\",\"blue\",\"blue\",\"blue\",\"blue\",\"blue\",\"blue\",\"blue\",\"blue\",\"blue\",\"blue\",\"blue\",\"blue\",\"blue\",\"blue\",\"blue\",\"blue\",\"blue\",\"blue\",\"blue\",\"blue\",\"blue\",\"blue\",\"blue\",\"blue\",\"blue\",\"blue\",\"blue\",\"blue\",\"blue\",\"blue\",\"blue\",\"blue\",\"blue\",\"blue\",\"blue\",\"blue\",\"blue\",\"blue\",\"blue\",\"blue\",\"blue\",\"blue\",\"blue\",\"blue\",\"blue\",\"blue\",\"blue\",\"blue\",\"blue\",\"blue\",\"blue\",\"blue\",\"blue\",\"blue\",\"blue\",\"blue\",\"blue\",\"blue\",\"blue\",\"blue\",\"blue\",\"blue\",\"blue\",\"blue\",\"blue\",\"blue\",\"blue\",\"blue\",\"blue\",\"blue\",\"blue\",\"blue\",\"blue\",\"blue\",\"blue\",\"blue\",\"blue\",\"blue\",\"blue\",\"blue\",\"blue\",\"blue\",\"blue\",\"blue\",\"blue\",\"blue\",\"blue\",\"blue\",\"blue\",\"blue\",\"blue\",\"blue\",\"blue\",\"blue\",\"blue\",\"blue\",\"blue\",\"blue\",\"blue\",\"blue\",\"blue\",\"blue\",\"blue\",\"blue\",\"blue\",\"blue\",\"blue\",\"blue\",\"blue\",\"blue\",\"blue\",\"blue\",\"blue\",\"blue\",\"blue\",\"blue\",\"blue\",\"blue\",\"blue\",\"blue\",\"blue\",\"blue\",\"blue\",\"blue\",\"blue\",\"blue\",\"blue\",\"blue\",\"blue\",\"blue\",\"blue\",\"blue\",\"blue\",\"blue\",\"blue\",\"blue\",\"blue\",\"blue\",\"blue\",\"blue\",\"blue\",\"blue\",\"blue\",\"blue\",\"blue\",\"blue\",\"blue\",\"blue\",\"blue\",\"blue\",\"blue\",\"blue\",\"blue\",\"blue\",\"blue\",\"blue\",\"blue\",\"blue\",\"blue\",\"blue\",\"blue\",\"blue\",\"blue\",\"blue\",\"blue\"],\"names\":[\"ofloxacin\",\"insulin\",\"nph\",\"colace\",\"percocet\",\"coumadin\",\"heparin\",\"vancomycin\",\"axid\",\"lopressor\",\"zestril\",\"ecotrin\",\"isordil\",\"urokinase\",\"lente\",\"antibiotics\",\"epinephrine\",\"humalog\",\"aspirin\",\"lasix\",\"motrin\",\"nasal\",\"cannula\",\"atenolol\",\"metformin\",\"potassium\",\"chloride\",\"slow\",\"release\",\"ciprofloxacin\",\"novolog\",\"baby\",\"lantus\",\"glucophage\",\"lovenox\",\"klonopin\",\"celexa\",\"fresh\",\"frozen\",\"plasma\",\"lipitor\",\"plavix\",\"captopril\",\"zocor\",\"packed\",\"red\",\"blood\",\"cells\",\"nitroglycerin\",\"tylenol\",\"neurontin\",\"folate\",\"pain\",\"medication\",\"phoslo\",\"lyrica\",\"gemfibrozil\",\"ketamine\",\"medications\",\"unasyn\",\"renagel\",\"fentanyl\",\"pca\",\"nephrocaps\",\"levofloxacin\",\"flagyl\",\"oxycontin\",\"requip\",\"aspart\",\"protonix\",\"ativan\",\"oxycodone\",\"augmentin\",\"lisinopril\",\"digoxin\",\"troglipazone\",\"magnesium\",\"oxide\",\"simvastatin\",\"clonazepam\",\"ptu\",\"isosorbide\",\"amiodarone\",\"levothyroxine\",\"sodium\",\"glipizide\",\"cefpodoxime\",\"haldol\",\"depakote\",\"ceftriaxone\",\"albuterol\",\"butt\",\"paste\",\"gabapentin\",\"loperamide\",\"thiamine\",\"nexium\",\"sevelamer\",\"labetalol\",\"inhaler\",\"norvasc\",\"nifedipine\",\"extended\",\"hydrochlorothiazide\",\"linezolid\",\"sarna\",\"warfarin\",\"acetylsalicylic\",\"acid\",\"kcl\",\"immediate\",\"vanc\",\"ada\",\"levo\",\"glyburide\",\"trazodone\",\"micronase\",\"verapamil\",\"<num>\",\"loratadine\",\"mgoxide\",\"singulair\",\"ambien\",\"sustained\",\"keflex\",\"patanol\",\"effexor\",\"atrovent\",\"amox\",\"loratidine\",\"rhinocort\",\"contrast\",\"dye\",\"enalapril\",\"cardizem\",\"nafcillin\",\"dicloxacillin\",\"diuretic\",\"regimen\",\"spironolactone\",\"torsemide\",\"pletal\",\"procrit\",\"zantac\",\"antibiotic\",\"fluoroquinolone\",\"clindamycin\",\"metolazone\",\"electrolytes\",\"hydralazine\",\"anticoagulation\",\"procardia\",\"revatio\",\"oxygen\",\"home\",\"dilaudid\",\"allopurinol\",\"indocin\",\"narcotics\",\"prilosec\",\"diovan\",\"multivitamin\",\"colchicine\",\"beta\",\"blocker\",\"pendalol\",\"amoxicillin\",\"prinivil\",\"synthroid\",\"pepcid\",\"ace\",\"inhibitor\",\"statin\",\"beclomethasone\",\"diproprionate\",\"double\",\"strength\",\"spray\",\"toprol\",\"xl\",\"imdur\",\"valsartan\",\"atorvastatin\",\"b<num>\",\"levoxyl\",\"neosynephrine\",\"tpa\",\"amlodipine\",\"enteric\",\"coated\",\"cefotaxime\",\"diltiazem\",\"czi\",\"nortriptyline\",\"fluoxetine\",\"diuril\",\"advair\",\"steroid\",\"cardiac\",\"meds\",\"zetia\",\"diskus\",\"prednisone\",\"taper\",\"streptokinase\",\"multivitamins\",\"xanax\",\"nitrates\",\"blockade\",\"drip\",\"calcium\",\"channel\",\"nitroglycerins\",\"antacids\",\"serax\",\"docusate\",\"losartan\",\"terazosin\",\"hcl\",\"pantoprazole\",\"asa\",\"mg\",\"above\",\"bb\",\"ppi\",\"darvocet\",\"tordal\",\"humulin\",\"lotensin\",\"supplement\",\"ketorolac\",\"crystalloid\",\"vicodan\",\"naprosyn\",\"halcion\",\"folic\",\"ramipril\",\"clopidogrel\",\"tng\",\"mso<num>\",\"ccb\",\"htn\",\"iron\",\"sulfate\",\"regular\",\"xalatan\",\"eye\",\"drops\",\"metoprolol\",\"senna\",\"tablets\",\"nitrate\",\"supplementation\",\"ferrous\",\"combivent\",\"dinitrate\",\"tartrate\",\"carafate\",\"flexeril\",\"etomidate\",\"succinylcholine\",\"versed\",\"ffp\",\"cd\",\"metamucil\",\"sr\",\"zyprexa\",\"blockers\",\"inhibitors\",\"furosemide\",\"ginger\",\"product\",\"cell\",\"morphine\",\"nitro\",\"flomax\",\"cepacol\",\"claritin\",\"steroids\",\"bp\",\"diclox\",\"pneumovax\",\"neoral\",\"cyclosporine\",\"products\",\"dilt\",\"amio\",\"ecasa\",\"hctz\",\"rocaltrol\",\"erythromycin\",\"oral\",\"carvedilol\",\"niacin\",\"levoflox\",\"duonebs\",\"coreg\",\"nitropaste\",\"cardura\",\"vasotec\",\"pressure\",\"enoxaparin\",\"o<num>\",\"sprays\",\"statins\",\"er\",\"hep\",\"gtt\",\"acei\",\"ssi\",\"your\",\"accupril\",\"avandia\",\"adenosine\",\"bactrim\",\"celebrex\",\"antiinflammatory\",\"prozac\",\"human\",\"aldactone\",\"this\",\"with\",\"minerals\",\"miconazole\",\"powder\",\"cellcept\",\"pravachol\",\"vitamin\",\"d\",\"fosamax\",\"dulcolax\",\"e\",\"c\",\"fondaparinux\",\"caltrate\",\"plus\",\"niaspan\",\"abx\",\"these\",\"diabeta\",\"paxil\",\"trazadone\",\"ultram\",\"bactroban\",\"ointment\",\"reglan\",\"afrin\",\"lotrisone\",\"cream\",\"proventil\",\"inhalers\",\"ancef\",\"hibiclenz\",\"azmacort\",\"nebulizer\",\"autologous\",\"transfusion\",\"diuretics\",\"quinine\",\"famotidine\",\"ntg\",\"bolus\",\"nsaids\",\"lorazepam\",\"atovaquone\",\"bisulfate\",\"naproxen\",\"pred\",\"pcp\",\"ppx\",\"zoloft\",\"pressors\",\"glucotrol\",\"ceftizoxime\",\"penicillin\",\"fluid\",\"ceftazidime\",\"nystatin\",\"suspension\",\"g\",\"milk\",\"of\",\"magnesia\",\"liquid\",\"fluids\",\"ceptaz\",\"k\",\"bowel\",\"supplements\",\"perioperative\",\"levaquin\",\"baclofen\",\"cymbalta\",\"lamictal\",\"nicoderm\",\"patch\",\"ducolox\",\"lactulose\",\"mylanta\",\"seroquel\",\"sedating\",\"antipsychotics\",\"chemotherapy\",\"tramadol\",\"zydis\",\"plaquenil\",\"cefuroxime\",\"azithromycin\",\"amitriptyline\",\"clotrimazole\",\"nebs\",\"phenytoin\",\"bicarbonate\",\"sulfamethoxazole\",\"esomeprazole\",\"darbepoetin\",\"alfa\",\"dilantin\",\"lopressol\",\"kayexylate\",\"prbc\",\"darbopoetin\",\"nitroprusside\",\"diabinese\",\"diflucan\",\"fluconazole\",\"maalox\",\"remeron\",\"ranitidine\",\"dobutamine\",\"medicines\",\"chloral\",\"hydrate\",\"compazine\",\"phenothiazines\",\"trilafon\",\"normal\",\"saline\",\"nsaid\",\"epogen\",\"cipro\",\"flonase\",\"flovent\",\"tamoxifen\",\"catapres\",\"tartarate\",\"ocean\",\"doxazosin\",\"proxetil\",\"replacement\",\"lithium\",\"parnate\",\"pressor\",\"beclovent\",\"fibercon\",\"mvi\",\"novolin\",\"elixir\",\"citalopram\",\"rhogam\",\"vitamins\",\"vasopressin\",\"dopamine\",\"troponin\",\"argatroban\",\"mucomyst\",\"propofol\",\"triple\",\"osmolite\",\"chloraseptic\",\"gentamicin\",\"therapeutic\",\"nebulizers\",\"prochlorperazine\",\"librium\",\"gluconate\",\"timolol\",\"tagamet\",\"niferex\",\"ibuprofen\",\"bicarb\",\"epi\",\"integrilin\",\"levophed\",\"diabetes\",\"mgsulfate\",\"mom\",\"decadron\",\"tricor\",\"prednisolone\",\"gadolinium\",\"resuscitation\",\"kayexalate\",\"ferrlecit\",\"atropine\",\"lispro\",\"duoneb\",\"metoclopramide\",\"quinapril\",\"simethicone\",\"carbonate\",\"cartia\",\"xt\",\"methotrexate\",\"pravastatin\",\"cyclosporin\",\"sucralfate\",\"cozaar\",\"lescol\",\"inderal\",\"persantine\",\"ideral\",\"glucose\",\"aspirin<num>\",\"maleate\",\"immodium\",\"phosphate\",\"b\",\"med\",\"tiazac\",\"glucometer\",\"methadone\",\"cefepime\",\"ditropan\",\"monistat\",\"corticosteroids\",\"unfractionated\",\"thorazine\",\"benztropine\",\"mesylate\",\"chlorpromazine\",\"lisinipril\",\"hypoglycemics\",\"extra\",\"his\",\"hfa\",\"aspartate\",\"solsite\",\"arb\",\"ipratropium\",\"duoderm\",\"ticlid\",\"tablet\",\"allegra\",\"vit\",\"alphagam\",\"gtts\",\"clobetizol\",\"acephex\",\"ferrex\",\"other\",\"apap\",\"ivf\",\"glypizide\",\"regimens\",\"cytovene\",\"ganciclovir\",\"nadolol\",\"gentamycin\",\"antihypertensive\",\"thyroid\",\"cortizone\",\"inp\",\"dipyridamole\",\"pack\",\"besylate\",\"azithro\",\"cvp\",\"bcnu\",\"imuran\",\"miralax\",\"msir\",\"pamidronate\",\"acyclovir\",\"tums\",\"dexamethasone\",\"sennosides\",\"mepron\",\"candesartan\",\"mscontin\",\"ms\",\"contin\",\"ciprrfloxacin\",\"econazole\",\"omeprazole\",\"per\",\"ml\",\"solution\",\"tpn\",\"irbesartan\",\"amitryptilline\",\"lactobacillus\",\"glargine\",\"mononitrate\",\"oxacillin\",\"pcn\",\"ctx\",\"prandin\",\"zinc\",\"calcitriol\",\"aranesp\",\"nesiritide\",\"hytrin\",\"bextra\",\"zofran\",\"slng\",\"integrelin\",\"aceinh\",\"keppra\",\"truvada\",\"norvir\",\"lomotil\",\"lexiva\",\"imodium\",\"probenecid\",\"coumadine\",\"metrogel\",\"acebutolol\",\"risperdal\",\"lidocaine\",\"boluses\",\"taxol\",\"premarin\",\"ansaid\",\"antihypertensives\",\"cefazolin\",\"acetaminophen\",\"robitussin\",\"rifampin\",\"labetalol<num>\",\"ventolin\",\"linsinopril\",\"inhale\",\"dht\",\"stelazine\",\"betaxolol\",\"questran\",\"pilocarpine\",\"ac\",\"reg\",\"rocephin\",\"feso<num>\",\"calcitonin\",\"kayexelate\",\"d<num>x<num>\",\"lopid\",\"alphagan\",\"inhibition\",\"ischemics\",\"relafen\",\"opium\",\"tincture\",\"atapryl\",\"outpatient\",\"kaopectate\",\"mitozalone\",\"rezulin\",\"finasteride\",\"restoril\",\"leni\",\"diabetic\",\"cephradine\",\"tylox\",\"ns\",\"inuslin\",\"plavix<num>\",\"asa<num>\",\"carnitidine\",\"digitek\",\"mycophenolate\",\"mofetil\",\"oxybutynin\",\"succinate\",\"micronized\",\"injections\",\"colestipol\",\"hydrochloride\",\"zemplar\",\"klorcon\",\"opiates\",\"avadia\",\"caco<num>\",\"riss\",\"metop\",\"p\",\"zaroxolyn\",\"tessalon\",\"d<num>w\",\"codeine\",\"antianginal\",\"therapy\",\"benicar\",\"antidepressants\",\"nicotine\",\"adalat\",\"pills\",\"dyazide\",\"nose\",\"cyproheptadine\",\"nipride\",\"ampicillin\",\"guaifenesin\",\"her\",\"d<num>\",\"low\",\"molecular\",\"weight\",\"norepinephrine\",\"inotrops\",\"onoptrops\",\"vaso\",\"sedation\",\"nicardipine\",\"naturale\",\"tears\",\"lactinex\",\"granules\",\"panafil\",\"analgesic\",\"deltasone\",\"senokot\",\"lexapro\",\"ventavis\",\"cephalopsporins\",\"tracleer\",\"oceanspray\",\"nitrospray\",\"arbs\",\"stool\",\"softeners\",\"mevacor\",\"seldane\",\"isoril\",\"propranolol\",\"capoten\",\"ds\",\"clonopin\",\"mycostatin\",\"qdcalcitriol\",\"qdcalcium\",\"tidlasix\",\"transdermal\",\"qdzocor\",\"benazepril\",\"celondin\",\"atorva\",\"simva\",\"benadry\",\"primidone\",\"otc\",\"iss\",\"celecoxib\",\"narcotic\",\"lidoderm\",\"metronidazol\",\"zometa\",\"demerol\",\"ultralente\",\"adriamycin\",\"elavil\",\"clarithromycin\",\"biaxin\",\"procainamide\",\"meclizine\",\"zincate\",\"meropenem\",\"gentle\",\"hydration\",\"aprotinin\",\"nitrofurantoin\",\"imipenem\",\"chlorhexidine\",\"geodon\",\"sertraline\",\"ziprasidone\",\"bromide\",\"enoxaprin\",\"navelbine\",\"vanco\",\"<num>uprbc\",\"citrate\",\"polysaccharide\",\"complex\",\"xr\",\"wellbutrin\",\"minipress\",\"valium\",\"corvert\",\"cough\",\"medicine\",\"silvadene\",\"valacyclovir\",\"erythropoietin\",\"ergocalciferol\",\"ethanol\",\"lovastatin\",\"nitroglycerine\",\"cholestyramine\",\"saver\",\"levatol\",\"actos\",\"avapro\",\"milrinone\",\"eplerenone\",\"temazepam\",\"cosopt\",\"travatan\",\"lyte\",\"cpap\",\"reopro\",\"agonist\",\"theophylline\",\"releas\",\"benadryl\",\"provastatin\",\"epivir\",\"actinomycin\",\"cytoxan\",\"bleomycin\",\"cisplatin\",\"lamivudine\",\"prenatal\",\"suppository\",\"indomethacin\",\"tamsulosin\",\"cisapride\",\"provera\",\"bismuth\",\"methyldopa\",\"advil\",\"alternagel\",\"estrogen\",\"stanozolol\",\"coum\",\"stanazolol\",\"seretide\",\"ionotropes\",\"hydrocortisone\",\"hypoglycemic\",\"zaroxylyn\",\"aciphex\",\"lilly\",\"pen\",\"betadine\",\"paint\",\"asacol\",\"thrombolysis\",\"lopipd\",\"maxide\",\"alimta\",\"aztreonam\",\"neupogen\",\"transfusions\",\"chemo\",\"rbc\",\"platelet\",\"cortisol\",\"peridex\",\"mouth\",\"wash\",\"cefixime\",\"that\",\"serevent\",\"trusopt\",\"pulmicort\",\"suprax\",\"dextran\",\"tenormin\",\"mannitol\",\"valproic\",\"fioricet\",\"labetolol\",\"the\",\"following\",\"tofranil\",\"vistaril\",\"methylprednisolone\",\"proscar\",\"alcohol\",\"vasopressor\",\"toradol\",\"macrolide\",\"antibio\",\"tic\",\"hydromorphone\",\"fondapurinox\",\"tarceva\",\"levocarnitine\",\"salmeterol\",\"xinafoate\",\"zaroxyln\",\"dextromethorphan\",\"hbr\",\"pindolol\",\"mgso<num>\",\"rosiglitazone\",\"cefalosporins\",\"angiotension\",\"receptor\",\"iv\",\"softener\",\"fosomax\",\"cardiovascular\",\"diprosone\",\"psyllium\",\"advils\",\"byetta\",\"fluticasone\",\"copd\",\"syrup\",\"analgesia\",\"roxicet\",\"qugmentin\",\"timoptic\",\"xylatan\",\"novalog\",\"general\",\"anesthesia\",\"cefotetan\",\"kefzol\",\"controlled\",\"felodipine\",\"guqifenesin\",\"prempro\",\"tapazole\",\"artificial\",\"atc\",\"actonel\",\"darvon\",\"diazepam\",\"torsamide\",\"betablocker\",\"ceftaz\",\"dm\",\"rx\",\"asp\",\"perels\",\"guiatuss\",\"bicitra\",\"micromeral\",\",\",\":\",\"and\",\"was\",\"to\",\"on\",\"a\",\"patient\",\"in\",\"for\",\")\",\"she\",\"(\",\"<num>/<num>/<num>\",\"no\",\"<num>.<num>\",\"he\",\"discharge\",\"at\",\"|\",\"is\",\"had\",\"as\",\"po\",\"by\",\"history\",\"admission\",\"p.o.\",\"an\",\"be\",\"day\",\"were\",\"<num>/<num>\",\"or\",\"left\",\"has\",\"hospital\",\"status\",\"which\",\"right\",\"-\",\"chest\",\"not\",\"date\",\"<num>%\",\".\",\"dr\",\"<num>-<num>\",\"will\",\"from\",\"course\",\"daily\",\"override\",\"have\",\"<num>-<num>-<num>\",\"also\",\"showed\",\"disease\",\"time\",\"well\",\"heart\",\"after\",\"up\",\"/\",\"but\",\"<num>:<num>\",\"am\",\"one\",\"artery\",\"stable\",\"medical\",\"there\",\"m.d\",\"interaction\",\"diagnosis\",\"qd\",\"coronary\",\"report\",\"pt\",\"days\",\"rate\",\"past\",\"given\",\"negative\",\"post\",\"units\",\"two\",\"if\",\"follow\",\"without\",\"continued\",\"examination\",\"been\",\"it\",\"b.i.d.\",\"service\",\"******\",\"noted\",\"summary\",\"renal\",\"admitted\",\"prior\",\"care\",\"signed\",\"bid\",\"did\",\"then\",\"physical\",\"any\",\"<num>:<num>:<num>\",\"revealed\",\"started\",\"attending\",\"diet\",\"pulmonary\",\"dis\",\"edema\",\"who\",\"discharged\",\"room\",\"m.d.\",\"condition\",\"present\",\"serious\",\"during\",\"patient's\",\"hypertension\",\"added\",\"breath\",\"weeks\",\"reason\",\"lower\",\"rhythm\",\"creatinine\",\"allergies\",\"failure\",\"dictated\",\"please\",\"q.d.\",\"potentially\",\"exam\",\"order\",\"however\",\"chronic\",\"three\",\"hematocrit\",\"t\",\"dose\",\"out\",\"mild\",\";\",\"#<num>\",\"clear\",\"pm\",\"are\",\"postoperative\",\"acute\",\"illness\",\"atrial\",\"increased\",\"significant\",\"white\",\"underwent\",\"some\",\"<num>+\",\"s/p\",\"times\",\"evidence\",\"ct\",\"than\",\"over\",\"disposition\",\"secondary\",\"shortness\",\"x\",\"hours\",\"abdominal\",\"further\",\"count\",\"s\",\"should\",\"ekg\",\"inr\",\"prn\",\"treated\",\"positive\",\"surgery\",\"p.r.n.\",\"principal\",\"bilaterally\",\"when\",\"abdomen\",\"transferred\",\"q\",\"alert\",\"family\",\"changes\",\"unit\",\"extremities\",\"felt\",\"s<num>\",\"remained\",\"catheterization\",\"all\",\"likely\",\"you\",\"code\",\"orders\",\"number\",\"take\",\"#\",\"symptoms\",\"placed\",\"*\",\"while\",\"respiratory\",\"'s\",\"x-ray\",\"call\",\"week\",\"d/c\",\"w/\",\"cc\",\"extremity\",\"md\",\"instructions\",\"follow-up\",\"instruction\",\"upper\",\"center\",\"upon\",\"q.\",\"back\",\"full\",\"due\",\"myocardial\",\"give\",\"sinus\",\"stenosis\",\"end\",\"infarction\",\"soft\",\"bilateral\",\"primary\",\"procedures\",\"study\",\"found\",\"good\",\"continue\",\"initially\",\"received\",\"seen\",\"old\",\"t.i.d.\",\"tolerated\",\"elevated\",\"ventricular\",\"known\",\"intact\",\"baseline\",\"year\",\"presented\",\"laboratory\",\"procedure\",\"none\",\"food/drg\",\"complications\",\"emergency\",\"may\",\"chf\",\"&\",\"until\",\"fibrillation\",\"neck\",\"followed\",\"multiple\",\"total\",\"decreased\",\"starting\",\"graft\",\"unsigned\",\"once\",\"<num>-year-old\",\"mr\",\"nausea\",\"):\",\"evaluation\",\"previous\",\"sounds\",\"since\",\"<num>mg\",\"&amp;\",\"additional\",\"surgical\",\"function\",\"social\",\"performed\",\"infection\",\"ed\",\"approximately\",\"aortic\",\"bypass\",\"urine\",\"last\",\"<num>.\",\"tube\",\"allergy\",\"air\",\"ref\",\"within\",\"mellitus\",\"resume\",\"throughout\",\"temperature\",\"gi\",\"we\",\"recent\",\"four\",\"signs\",\"congestive\",\"every\",\"q<num>h\",\"required\",\"treatment\",\"years\",\"doses\",\"new\",\"more\",\"systolic\",\"lungs\",\"ejection\",\"possible\",\"use\",\"valve\",\"developed\",\"brief\",\"before\",\"improved\",\"cad\",\"now\",\"anterior\",\"taken\",\"bun\",\"head\",\"severe\",\"appointment\",\"small\",\"pulses\",\"otherwise\",\"x<num>\",\"activity\",\"l\",\"female\",\"admit\",\"need\",\"consistent\",\"ischemia\",\"denies\",\"pneumonia\",\"only\",\"hold\",\"lad\",\"today\",\"high\",\"several\",\"scan\",\"aware\",\"cultures\",\"used\",\"fraction\",\"where\",\"note\",\"wound\",\"notable\",\"stay\",\"scale\",\"<num>s\",\"mi\",\"lesion\",\"overridden\",\"afebrile\",\"mitral\",\"r\",\"echo\",\"distress\",\"discontinued\",\"control\",\"vomiting\",\"house\",\"done\",\"very\",\"echocardiogram\",\"sig\",\"clinic\",\"needed\",\"h/o\",\"operations\",\"hospitalization\",\"sliding\",\"daily.\",\"record\",\"data\",\"episodes\",\"minutes\",\"@\",\"test\",\"exercise\",\"first\",\"because\",\"down\",\"physician\",\"both\",\"drug\",\"sent\",\"increasing\",\"fever\",\"floor\",\"would\",\"causing\",\"does\",\"carotid\",\"st\",\"tid\",\"id\",\"ef\",\"do\",\"ago\",\"greater\",\"obtained\",\"associated\",\"cm\",\"infections\",\"murmur\",\"scheduled\",\"subcutaneously\",\"most\",\"lung\",\"change\",\"knee\",\"vascular\",\"[report_end]\",\"off\",\"less\",\"repeat\",\"venous\",\"pulse\",\"morning\",\"anemia\",\"v<num>\",\"episode\",\"tab\",\"level\",\"cancer\",\"placement\",\"dyspnea\",\"obesity\",\"being\",\"heent\",\"male\",\"obese\",\"including\",\"yes\",\"diuresis\",\"able\",\"addition\",\"insufficiency\",\"platelets\",\"liver\",\"leg\",\"peripheral\",\"batch\",\"intensive\",\"comments\",\"resolved\",\"cardiology\",\"twice\",\"affecting\",\"they\",\"entered\",\"sc\",\"bs\",\"plan\",\"months\",\"thought\",\"subsequently\",\"o.r.\",\"night\",\"contingent\",\"bleeding\",\"dictation\",\"proximal\",\"<num>-<num>-<num>-<num>\",\"angina\",\"next\",\"age\",\"intravenous\",\"see\",\"health\",\"worsening\",\"about\",\"liters\",\"maintained\",\"q.<num>h.\",\"studies\",\"return\",\"demonstrated\",\"vital\",\"index\",\"woman\",\"wall\",\"through\",\"dry\",\"nontender\",\"held\",\"stomach\",\"setting\",\"mass\",\"management\",\"so\",\"notice\",\"recommended\",\"transfer\",\"saturation\",\"moderate\",\"monitor\",\"results\",\"labs\",\"mid\",\"mcg\",\"five\",\"six\",\"cath\",\"oriented\",\"cabg\",\"posterior\",\"operating\",\"rehabilitation\",\"lives\",\"volume\",\"mental\",\"large\",\"hct\",\"again\",\"<num>)\",\"stent\",\"sleep\",\"hip\",\"made\",\"fevers\",\"presents\",\"information\",\"urinary\",\"effusion\",\"sob\",\"hr\",\"distal\",\"]\",\"i\",\"[\",\"regurgitation\",\"arm\",\"included\",\"therefore\",\"milligrams\",\"meals\",\"taking\",\"consulted\",\"descending\",\"could\",\"poor\",\"avoid\",\"difficulty\",\"although\",\"report_end\",\"services\",\"removed\",\"loss\",\"foot\",\"having\",\"ruled\",\"skin\",\"enzymes\",\"type\",\"&apos;s\",\"auscultation\",\"recently\",\"depression\",\"department\",\"asthma\",\"area\",\"do/plan\",\"tenderness\",\"infectious\",\"applicable\",\"diarrhea\",\"complaint\",\"diagnosis;conditions\",\"treatment/stay\",\"treatments/procedures\",\";responsible\",\"followup\",\"vein\",\"march\",\"ptt\",\"pe\",\"q.i.d.\",\"appointment(\",\"reports\",\"him\",\"transplant\",\"diagnoses\",\"swelling\",\"inferior\",\"lobe\",\"tachycardia\",\"question\",\"rehab\",\"became\",\"went\",\"pending\",\"gram\",\"neuro\",\"ck\",\"culture\",\"exertion\",\"ii\",\"food\",\"light\",\"risk\",\"chills\",\"doctor\",\"range\",\"ulcer\",\"few\",\"work\",\"final\",\"point\",\"currently\",\"limits\",\"neg\",\"second\",\"include\",\"rest\",\"tobacco\",\"problems\",\"qhs\",\"unremarkable\",\"fat\",\"wbc\",\"syndrome\",\"changed\",\"empty\",\"smoking\",\"murmurs\",\"bruits\",\"approximate\",\"rca\",\"line\",\"began\",\"jvp\",\"goal\",\"femoral\",\"repair\",\"rule\",\"weakness\",\"stress\",\"restarted\",\"denied\",\"tr\",\"slightly\",\"complicated\",\"postoperatively\",\"benign\",\"recurrent\",\"initial\",\"f\",\"document\",\"block\",\"ultrasound\",\"cxr\",\"cholesterol\",\"catheter\",\"walking\",\"meq\",\"cardiomyopathy\",\"ischemic\",\"dvt\",\"breast\",\"escription\",\"+\",\"place\",\"pleural\",\"hypercholesterolemia\",\":*\",\"check\",\"bed\",\"cp\",\"unable\",\"obstructive\",\"neurological\",\"output\",\"cardiologist\",\"consult\",\"q.a.m.\",\"still\",\"increase\",\"abd\",\"q.h.s.\",\"bleed\",\"fracture\",\"stopped\",\"wave\",\"mildly\",\"prophylaxis\",\"motion\",\"issues\",\"mri\",\"pump\",\"mibi\",\"mm\",\"cv\",\"biopsy\",\"crackles\",\"side\",\"orthopnea\",\"hernia\",\"constipation\",\"diuresed\",\"drawn\",\"supple\",\"unless\",\"apnea\",\"mg.\",\"can\",\"peak\",\"site\",\"requiring\",\"q.day\",\"man\",\"deep\",\"pupils\",\"b.i.d\",\"diffuse\",\"circumflex\",\"m\",\"weaned\",\"came\",\"internal\",\"improvement\",\"trace\",\"dilated\",\"month\",\"pressures\",\"intubated\",\"name\",\"neurologic\",\"chief\",\"hour\",\"checked\",\"nondistended\",\"complete\",\"qid\",\"electrocardiogram\",\"equal\",\"lateral\",\"lesions\",\"size\",\"grapefruit\",\"active\",\"evaluated\",\"cellulitis\",\"memorial\",\"reactive\",\"icu\",\"f/u\",\"qpm\",\"long\",\"later\",\"outside\",\"sputum\",\"erythema\",\"instructs\",\"hx\",\"july\",\"into\",\"rash\",\"radiation\",\"pacemaker\",\"free\",\"bedtime\",\"each\",\"rectal\",\"team\",\"qam\",\"masses\",\"<num>-<num>%\",\"sublingual\",\"diagnosed\",\"headache\",\"puffs\",\"day.\",\"endocrine\",\"ra\",\"<num>,<num>\",\"go\",\"mother\",\"sternal\",\"yo\",\"exacerbation\",\"extubated\",\"vna\",\"incision\",\"systems\",\"postop\",\"abnormalities\",\"instructed\",\"review\",\"tract\",\"onset\",\"unchanged\",\"workup\",\"anxiety\",\"dependent\",\"etiology\",\"tolerating\",\"between\",\"electronically\",\"movements\",\"inh\",\"previously\",\"dialysis\",\"drainage\",\"consistently\",\"foley\",\"short\",\"sugar\",\"delivery\",\"dysfunction\",\"saphenous\",\"degrees\",\"called\",\"states\",\"hemodialysis\",\"minimal\",\"fall\",\"jugular\",\"office\",\"warm\",\"around\",\"provider\",\"appeared\",\"hypokinesis\",\"findings\",\"bilirubin\",\"tests\",\"pt.\",\"guaiac\",\"unclear\",\"flat\",\"ca\",\"hypotension\",\"carcinoma\",\"w\",\"tel\",\"february\",\"minute\",\"concern\",\"ho\",\"brought\",\"<num>hr\"],\"x1\":{\"__ndarray__\":\"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\",\"dtype\":\"float64\",\"shape\":[1810]},\"x2\":{\"__ndarray__\":\"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\",\"dtype\":\"float64\",\"shape\":[1810]}}},\"id\":\"a3e2f5a5-3fdd-4ef9-9420-aa816aee3aa6\",\"type\":\"ColumnDataSource\"},{\"attributes\":{},\"id\":\"3757aff6-af2c-4d9f-bc00-6ed650a8830a\",\"type\":\"BasicTicker\"},{\"attributes\":{\"plot\":{\"id\":\"6d2ce39b-b947-47eb-9dd1-1dbf2576ebc9\",\"subtype\":\"Figure\",\"type\":\"Plot\"}},\"id\":\"68746cc7-5803-43bb-b804-e6f995a0d4e3\",\"type\":\"PanTool\"},{\"attributes\":{},\"id\":\"568d33bf-e161-4df2-bf45-f9bf94de6eb6\",\"type\":\"ToolEvents\"},{\"attributes\":{\"plot\":{\"id\":\"6d2ce39b-b947-47eb-9dd1-1dbf2576ebc9\",\"subtype\":\"Figure\",\"type\":\"Plot\"}},\"id\":\"4b8afaea-4075-447b-afe1-1cc8a24e4e45\",\"type\":\"WheelZoomTool\"},{\"attributes\":{\"fill_alpha\":{\"value\":0.1},\"fill_color\":{\"value\":\"#1f77b4\"},\"line_alpha\":{\"value\":0.1},\"line_color\":{\"value\":\"#1f77b4\"},\"size\":{\"units\":\"screen\",\"value\":8},\"x\":{\"field\":\"x1\"},\"y\":{\"field\":\"x2\"}},\"id\":\"7f552f30-1fa7-4561-b443-01a305aff2d6\",\"type\":\"Circle\"},{\"attributes\":{\"formatter\":{\"id\":\"f813b656-d8bd-42e4-be92-ebb76b0d21f2\",\"type\":\"BasicTickFormatter\"},\"plot\":{\"id\":\"6d2ce39b-b947-47eb-9dd1-1dbf2576ebc9\",\"subtype\":\"Figure\",\"type\":\"Plot\"},\"ticker\":{\"id\":\"7431af38-c95e-41f0-aedf-6572404c2292\",\"type\":\"BasicTicker\"}},\"id\":\"bc611cac-2e09-48bc-bca7-0ba2afec4e0a\",\"type\":\"LinearAxis\"},{\"attributes\":{\"plot\":{\"id\":\"6d2ce39b-b947-47eb-9dd1-1dbf2576ebc9\",\"subtype\":\"Figure\",\"type\":\"Plot\"},\"source\":{\"id\":\"a3e2f5a5-3fdd-4ef9-9420-aa816aee3aa6\",\"type\":\"ColumnDataSource\"},\"text\":{\"field\":\"names\"},\"text_align\":\"center\",\"text_color\":{\"value\":\"#555555\"},\"text_font_size\":{\"value\":\"8pt\"},\"x\":{\"field\":\"x1\"},\"y\":{\"field\":\"x2\"},\"y_offset\":{\"value\":6}},\"id\":\"a0c26e12-a9b3-4a04-856a-bc80278db559\",\"type\":\"LabelSet\"},{\"attributes\":{\"callback\":null},\"id\":\"5afb982f-2364-4127-87e6-7b22cfbb879e\",\"type\":\"DataRange1d\"},{\"attributes\":{},\"id\":\"7431af38-c95e-41f0-aedf-6572404c2292\",\"type\":\"BasicTicker\"},{\"attributes\":{\"plot\":{\"id\":\"6d2ce39b-b947-47eb-9dd1-1dbf2576ebc9\",\"subtype\":\"Figure\",\"type\":\"Plot\"},\"ticker\":{\"id\":\"7431af38-c95e-41f0-aedf-6572404c2292\",\"type\":\"BasicTicker\"}},\"id\":\"f8ecf57a-81c3-42a3-8912-462df49657fc\",\"type\":\"Grid\"},{\"attributes\":{},\"id\":\"1341789a-2e0a-4538-b5ee-85c482d58cd4\",\"type\":\"BasicTickFormatter\"},{\"attributes\":{\"plot\":{\"id\":\"6d2ce39b-b947-47eb-9dd1-1dbf2576ebc9\",\"subtype\":\"Figure\",\"type\":\"Plot\"}},\"id\":\"421f4037-ae11-4d2f-9654-5a9792b2ee96\",\"type\":\"SaveTool\"},{\"attributes\":{},\"id\":\"f813b656-d8bd-42e4-be92-ebb76b0d21f2\",\"type\":\"BasicTickFormatter\"}],\"root_ids\":[\"6d2ce39b-b947-47eb-9dd1-1dbf2576ebc9\"]},\"title\":\"Bokeh Application\",\"version\":\"0.12.5\"}};\n",
       "            var render_items = [{\"docid\":\"dee6e8b9-aaeb-4335-afc8-2dec86c0d9fb\",\"elementid\":\"f40adf6d-a79f-473f-8400-7ac8cf4d9972\",\"modelid\":\"6d2ce39b-b947-47eb-9dd1-1dbf2576ebc9\"}];\n",
       "            \n",
       "            Bokeh.embed.embed_items(docs_json, render_items);\n",
       "          };\n",
       "          if (document.readyState != \"loading\") fn();\n",
       "          else document.addEventListener(\"DOMContentLoaded\", fn);\n",
       "        })();\n",
       "      },\n",
       "      function(Bokeh) {\n",
       "      }\n",
       "    ];\n",
       "  \n",
       "    function run_inline_js() {\n",
       "      \n",
       "      if ((window.Bokeh !== undefined) || (force === true)) {\n",
       "        for (var i = 0; i < inline_js.length; i++) {\n",
       "          inline_js[i](window.Bokeh);\n",
       "        }if (force === true) {\n",
       "          display_loaded();\n",
       "        }} else if (Date.now() < window._bokeh_timeout) {\n",
       "        setTimeout(run_inline_js, 100);\n",
       "      } else if (!window._bokeh_failed_load) {\n",
       "        console.log(\"Bokeh: BokehJS failed to load within specified timeout.\");\n",
       "        window._bokeh_failed_load = true;\n",
       "      } else if (force !== true) {\n",
       "        var cell = $(document.getElementById(\"f40adf6d-a79f-473f-8400-7ac8cf4d9972\")).parents('.cell').data().cell;\n",
       "        cell.output_area.append_execute_result(NB_LOAD_WARNING)\n",
       "      }\n",
       "  \n",
       "    }\n",
       "  \n",
       "    if (window._bokeh_is_loading === 0) {\n",
       "      console.log(\"Bokeh: BokehJS loaded, going straight to plotting\");\n",
       "      run_inline_js();\n",
       "    } else {\n",
       "      load_libs(js_urls, function() {\n",
       "        console.log(\"Bokeh: BokehJS plotting callback run at\", now());\n",
       "        run_inline_js();\n",
       "      });\n",
       "    }\n",
       "  }(this));\n",
       "</script>"
      ]
     },
     "metadata": {},
     "output_type": "display_data"
    }
   ],
   "source": [
    "p = figure(tools=\"pan,wheel_zoom,reset,save\",\n",
    "           toolbar_location=\"above\",\n",
    "           title=\"word2vec T-SNE for most common words\")\n",
    "\n",
    "source = ColumnDataSource(data=dict(x1=words_tsne[:,0],\n",
    "                                    x2=words_tsne[:,1],\n",
    "                                    names=visualisation,\n",
    "                                    coloring=colormap))\n",
    "\n",
    "p.scatter(x=\"x1\", y=\"x2\", color=\"coloring\", size=8, source=source)\n",
    "\n",
    "labels = LabelSet(x=\"x1\", y=\"x2\", text=\"names\", y_offset=6,\n",
    "                  text_font_size=\"8pt\", text_color=\"#555555\",\n",
    "                  source=source, text_align='center')\n",
    "p.add_layout(labels)\n",
    "\n",
    "show(p)"
   ]
  },
  {
   "cell_type": "code",
   "execution_count": 40,
   "metadata": {},
   "outputs": [],
   "source": [
    "train_set = []\n",
    "train_labels = []\n",
    "i = 0\n",
    "vocab = list(model_I2B2.wv.vocab.keys())\n",
    "\n",
    "for i in range(1500):\n",
    "    word = random.choice(vocab)\n",
    "    train_set.append(model_I2B2[word])\n",
    "    if word in medications:\n",
    "        train_labels.append([1,0])\n",
    "    else:\n",
    "        train_labels.append([0,1])\n",
    "    if i % 3 == 0:\n",
    "        word = random.choice(medications)\n",
    "        train_set.append(model_I2B2[word])\n",
    "        train_labels.append([1,0])"
   ]
  },
  {
   "cell_type": "code",
   "execution_count": 41,
   "metadata": {},
   "outputs": [
    {
     "data": {
      "text/plain": [
       "array([ 0.264,  0.736])"
      ]
     },
     "execution_count": 41,
     "metadata": {},
     "output_type": "execute_result"
    }
   ],
   "source": [
    "np.array(train_labels).sum(0)/len(train_labels)"
   ]
  },
  {
   "cell_type": "code",
   "execution_count": 42,
   "metadata": {},
   "outputs": [],
   "source": [
    "test_set = []\n",
    "test_labels = []\n",
    "\n",
    "for i in range(150):\n",
    "    word = random.choice(vocab)\n",
    "    test_set.append(model_I2B2[word])\n",
    "    if word in medications:\n",
    "        test_labels.append([1,0])\n",
    "    else:\n",
    "        test_labels.append([0,1])\n",
    "        \n",
    "for i in range(50):\n",
    "    word = random.choice(medications)\n",
    "    test_set.append(model_I2B2[word])\n",
    "    test_labels.append([1,0])"
   ]
  },
  {
   "cell_type": "code",
   "execution_count": 43,
   "metadata": {},
   "outputs": [
    {
     "data": {
      "text/plain": [
       "array([ 0.265,  0.735])"
      ]
     },
     "execution_count": 43,
     "metadata": {},
     "output_type": "execute_result"
    }
   ],
   "source": [
    "np.array(test_labels).sum(0)/len(test_labels)"
   ]
  },
  {
   "cell_type": "code",
   "execution_count": 44,
   "metadata": {
    "collapsed": true
   },
   "outputs": [],
   "source": [
    "def weight_variable(shape):\n",
    "    initial = tf.truncated_normal(shape, stddev=0.05)\n",
    "    return tf.Variable(initial)\n",
    "\n",
    "def bias_variable(shape):\n",
    "    initial = tf.constant(0.1, shape=shape)\n",
    "    return tf.Variable(initial)"
   ]
  },
  {
   "cell_type": "code",
   "execution_count": 45,
   "metadata": {},
   "outputs": [
    {
     "name": "stdout",
     "output_type": "stream",
     "text": [
      "WARNING:tensorflow:From <ipython-input-45-d53019bd8575>:32: initialize_all_variables (from tensorflow.python.ops.variables) is deprecated and will be removed after 2017-03-02.\n",
      "Instructions for updating:\n",
      "Use `tf.global_variables_initializer` instead.\n",
      "0\n",
      "Epoch: 0, Training Accuracy: 0.680000, Test Accuracy: 0.735000\n",
      "Epoch: 2, Training Accuracy: 0.900000, Test Accuracy: 0.900000\n",
      "Epoch: 5, Training Accuracy: 0.940000, Test Accuracy: 0.920000\n",
      "Epoch: 7, Training Accuracy: 0.900000, Test Accuracy: 0.920000\n",
      "Epoch: 10, Training Accuracy: 0.860000, Test Accuracy: 0.920000\n",
      "Epoch: 12, Training Accuracy: 0.960000, Test Accuracy: 0.930000\n",
      "Epoch: 15, Training Accuracy: 0.920000, Test Accuracy: 0.930000\n",
      "Epoch: 17, Training Accuracy: 0.920000, Test Accuracy: 0.930000\n",
      "Epoch: 20, Training Accuracy: 0.920000, Test Accuracy: 0.925000\n",
      "Epoch: 22, Training Accuracy: 0.960000, Test Accuracy: 0.935000\n",
      "Epoch: 25, Training Accuracy: 0.980000, Test Accuracy: 0.935000\n",
      "Epoch: 27, Training Accuracy: 0.960000, Test Accuracy: 0.935000\n",
      "Epoch: 30, Training Accuracy: 0.880000, Test Accuracy: 0.935000\n",
      "Epoch: 32, Training Accuracy: 0.880000, Test Accuracy: 0.930000\n",
      "Epoch: 35, Training Accuracy: 0.960000, Test Accuracy: 0.935000\n",
      "Epoch: 37, Training Accuracy: 0.920000, Test Accuracy: 0.930000\n",
      "Epoch: 40, Training Accuracy: 0.920000, Test Accuracy: 0.925000\n",
      "Epoch: 42, Training Accuracy: 0.940000, Test Accuracy: 0.920000\n",
      "Epoch: 45, Training Accuracy: 0.940000, Test Accuracy: 0.930000\n",
      "Epoch: 47, Training Accuracy: 0.980000, Test Accuracy: 0.925000\n",
      "Epoch: 50, Training Accuracy: 0.980000, Test Accuracy: 0.930000\n",
      "Epoch: 52, Training Accuracy: 0.920000, Test Accuracy: 0.930000\n",
      "Epoch: 55, Training Accuracy: 0.920000, Test Accuracy: 0.925000\n",
      "Epoch: 57, Training Accuracy: 0.920000, Test Accuracy: 0.930000\n",
      "Epoch: 60, Training Accuracy: 0.960000, Test Accuracy: 0.930000\n",
      "Epoch: 62, Training Accuracy: 0.940000, Test Accuracy: 0.935000\n",
      "Epoch: 65, Training Accuracy: 0.900000, Test Accuracy: 0.930000\n",
      "Epoch: 67, Training Accuracy: 0.940000, Test Accuracy: 0.930000\n",
      "Epoch: 70, Training Accuracy: 0.960000, Test Accuracy: 0.930000\n",
      "Epoch: 72, Training Accuracy: 0.960000, Test Accuracy: 0.930000\n",
      "Epoch: 75, Training Accuracy: 0.920000, Test Accuracy: 0.930000\n",
      "Epoch: 77, Training Accuracy: 0.860000, Test Accuracy: 0.930000\n",
      "Epoch: 80, Training Accuracy: 0.960000, Test Accuracy: 0.930000\n",
      "Epoch: 82, Training Accuracy: 0.940000, Test Accuracy: 0.940000\n",
      "Epoch: 85, Training Accuracy: 0.940000, Test Accuracy: 0.935000\n",
      "Epoch: 87, Training Accuracy: 0.960000, Test Accuracy: 0.935000\n",
      "Epoch: 90, Training Accuracy: 0.920000, Test Accuracy: 0.935000\n",
      "Epoch: 92, Training Accuracy: 0.960000, Test Accuracy: 0.935000\n",
      "Epoch: 95, Training Accuracy: 0.900000, Test Accuracy: 0.935000\n",
      "Epoch: 97, Training Accuracy: 0.980000, Test Accuracy: 0.935000\n",
      "Epoch: 100, Training Accuracy: 0.980000, Test Accuracy: 0.935000\n"
     ]
    }
   ],
   "source": [
    "node_count_1 = 50\n",
    "\n",
    "x = tf.placeholder(tf.float32, shape=[None, 100])\n",
    "y_ = tf.placeholder(tf.float32, shape=[None, 2])\n",
    "\n",
    "# Define the first layer here\n",
    "W = weight_variable([100, node_count_1])\n",
    "b = bias_variable([node_count_1])\n",
    "h = tf.nn.sigmoid(tf.matmul(x, W) + b)\n",
    "\n",
    "# Use dropout for this layer (should you wish)\n",
    "#keep_prob = tf.placeholder(tf.float32)\n",
    "#h_drop = tf.nn.dropout(h1, keep_prob)\n",
    "\n",
    "# Define the output layer here\n",
    "V = weight_variable([node_count_1, 2])\n",
    "c = bias_variable([2])\n",
    "y = tf.nn.softmax(tf.matmul(h, V) + c)\n",
    "\n",
    "# We'll use the cross entropy loss function \n",
    "cross_entropy = tf.reduce_mean(tf.nn.softmax_cross_entropy_with_logits(logits=y, labels=y_))\n",
    "\n",
    "# And classification accuracy\n",
    "correct_prediction = tf.equal(tf.argmax(y, 1), tf.argmax(y_, 1))\n",
    "accuracy = tf.reduce_mean(tf.cast(correct_prediction, tf.float32))\n",
    "\n",
    "# And the Adam optimiser\n",
    "train_step = tf.train.AdamOptimizer(learning_rate=1e-2).minimize(cross_entropy)\n",
    "\n",
    "# Start a tf session and run the optimisation algorithm\n",
    "sess = tf.Session()\n",
    "sess.run(tf.initialize_all_variables())\n",
    "\n",
    "training = Iterator(train_set, train_labels)\n",
    "train_accuracy = 0\n",
    "test_accuracy = 0\n",
    "N = 0\n",
    "\n",
    "print(training.epochs)\n",
    "\n",
    "while training.epochs < 100:\n",
    "    trd, trl = training.next_batch(50)\n",
    "    if N % 100 == 0:\n",
    "        train_accuracy = sess.run(accuracy, feed_dict={x: trd, y_: trl})\n",
    "        test_accuracy = sess.run(accuracy, feed_dict={x: test_set, y_: test_labels})\n",
    "        print(\"Epoch: %d, Training Accuracy: %f, Test Accuracy: %f\" % (training.epochs, train_accuracy, test_accuracy))\n",
    "    sess.run(train_step, feed_dict={x: trd, y_: trl})\n",
    "    N += 1"
   ]
  },
  {
   "cell_type": "code",
   "execution_count": null,
   "metadata": {
    "collapsed": true
   },
   "outputs": [],
   "source": []
  }
 ],
 "metadata": {
  "anaconda-cloud": {},
  "kernelspec": {
   "display_name": "Python [conda env:tensorflow]",
   "language": "python",
   "name": "conda-env-tensorflow-py"
  },
  "language_info": {
   "codemirror_mode": {
    "name": "ipython",
    "version": 3
   },
   "file_extension": ".py",
   "mimetype": "text/x-python",
   "name": "python",
   "nbconvert_exporter": "python",
   "pygments_lexer": "ipython3",
   "version": "3.5.3"
  }
 },
 "nbformat": 4,
 "nbformat_minor": 2
}
