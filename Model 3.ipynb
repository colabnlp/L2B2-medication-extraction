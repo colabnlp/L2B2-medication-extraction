{
 "cells": [
  {
   "cell_type": "code",
   "execution_count": 1,
   "metadata": {},
   "outputs": [],
   "source": [
    "import numpy as np\n",
    "import re\n",
    "import random\n",
    "\n",
    "import tensorflow as tf\n",
    "import sklearn as sk\n",
    "\n",
    "import Functions as fn\n",
    "from DS import DS\n",
    "from Set import pool\n",
    "from Iterator import Iterator"
   ]
  },
  {
   "cell_type": "code",
   "execution_count": 2,
   "metadata": {
    "collapsed": true
   },
   "outputs": [],
   "source": [
    "#Dataset = fn.first_time_load()\n",
    "#Dataset.write_texts()\n",
    "#Dataset.write_labels()"
   ]
  },
  {
   "cell_type": "code",
   "execution_count": 3,
   "metadata": {},
   "outputs": [
    {
     "name": "stdout",
     "output_type": "stream",
     "text": [
      "Texts loaded\n",
      "Labels loaded\n"
     ]
    }
   ],
   "source": [
    "Dataset = pool()\n",
    "Dataset.load_texts()\n",
    "Dataset.load_labels()"
   ]
  },
  {
   "cell_type": "code",
   "execution_count": 4,
   "metadata": {
    "collapsed": true,
    "scrolled": false
   },
   "outputs": [],
   "source": [
    "#print('Number of Texts: ', Dataset.size)\n",
    "#print('Number of 2007 Smoking Challenge texts: ', Dataset.number_of(challenge='2007 Smoking Challenge'))\n",
    "#print('Number of 2008 ObesityChallenge texts: ', Dataset.number_of(challenge='2008 Obesity Challenge'))\n",
    "#print('Number of 2009 Medication Challenge texts: ', Dataset.number_of(challenge='2009 Medication Challenge'))\n",
    "#print('Number of 2010 Relations Challenge texts: ', Dataset.number_of(challenge='2010 Relations Challenge'))\n",
    "#print('Number of 2011 Coreference Challenge texts: ', Dataset.number_of(challenge='2011 Coreference Challenge'))\n",
    "#print('Number of 2012 Temporal Relations Challenge texts: ', Dataset.number_of(challenge='2012 Temporal Relations Challenge'))\n",
    "#print('Number of Train Texts: ', Dataset.number_of(stage='train'))\n",
    "#print('Number of Test Texts: ', Dataset.number_of(stage='test'))\n",
    "#print('Number of Labeled Texts: ', Dataset.number_of(labelled='yes'))\n",
    "#print('Number of Initially Labeled Texts: ', Dataset.number_of(labelled='yes', label_type='train'))\n",
    "#print('Number of Competitor Labeled Texts Texts: ', Dataset.number_of(labelled='yes', label_type='test'))"
   ]
  },
  {
   "cell_type": "code",
   "execution_count": 5,
   "metadata": {},
   "outputs": [],
   "source": [
    "Dataset.process_for_embedding()\n",
    "sentences = Dataset.get_sentences()"
   ]
  },
  {
   "cell_type": "code",
   "execution_count": 6,
   "metadata": {},
   "outputs": [
    {
     "name": "stderr",
     "output_type": "stream",
     "text": [
      "C:\\Users\\Luka\\Anaconda3\\envs\\tensorflow\\lib\\site-packages\\gensim\\utils.py:860: UserWarning: detected Windows; aliasing chunkize to chunkize_serial\n",
      "  warnings.warn(\"detected Windows; aliasing chunkize to chunkize_serial\")\n"
     ]
    }
   ],
   "source": [
    "from gensim.models import Word2Vec"
   ]
  },
  {
   "cell_type": "code",
   "execution_count": 7,
   "metadata": {
    "collapsed": true
   },
   "outputs": [],
   "source": [
    "model = Word2Vec.load('W2V')"
   ]
  },
  {
   "cell_type": "code",
   "execution_count": 8,
   "metadata": {
    "collapsed": true
   },
   "outputs": [],
   "source": [
    "#model = Word2Vec(sentences, min_count=1, size=100)"
   ]
  },
  {
   "cell_type": "code",
   "execution_count": 9,
   "metadata": {},
   "outputs": [],
   "source": [
    "#model.most_similar(\"prozac\", topn=10)"
   ]
  },
  {
   "cell_type": "code",
   "execution_count": 10,
   "metadata": {},
   "outputs": [
    {
     "name": "stdout",
     "output_type": "stream",
     "text": [
      "Number of: m=928, do=119, mo=76, f=79, du=80, r=482\n"
     ]
    }
   ],
   "source": [
    "targets = ['medications', 'dosages', 'modes', 'frequencies', 'durations', 'reasons']\n",
    "target_dict = {label: words for (label, words) in zip(targets, list(fn.label_words(Dataset)))}"
   ]
  },
  {
   "cell_type": "code",
   "execution_count": 11,
   "metadata": {},
   "outputs": [],
   "source": [
    "#fn.visualise(model, sentences, [target_dict['medications']], 1000, 'Medications in top 1000 words')"
   ]
  },
  {
   "cell_type": "code",
   "execution_count": 12,
   "metadata": {},
   "outputs": [],
   "source": [
    "#print_set = set()\n",
    "#for case in Dataset.get_DS(labelled='yes').data:\n",
    "#    for term in re.finditer(r'm=\"[a-z0-9 ]+\"', case.raw_labels):\n",
    "#        if term.group()[3:-1] != 'nm': print_set.add(term.group()[3:-1])\n",
    "#print(*print_set, sep='\\n')"
   ]
  },
  {
   "cell_type": "code",
   "execution_count": 13,
   "metadata": {},
   "outputs": [],
   "source": [
    "#for target in targets:\n",
    "#    for reps in [True, False]:\n",
    "#        target_size = len(target_dict[target])\n",
    "#        sets = fn.get_traintest(model, target_dict[target], target_size * 5, target_size, 10, 50, reps, reps)\n",
    "#        fn.model_1(sets[0], sets[1], sets[2], sets[3], target=target, repetitions='yes' if reps else 'no')"
   ]
  },
  {
   "cell_type": "code",
   "execution_count": 14,
   "metadata": {},
   "outputs": [],
   "source": [
    "#fn.write_emb('testemb', model)"
   ]
  },
  {
   "cell_type": "code",
   "execution_count": 15,
   "metadata": {},
   "outputs": [],
   "source": [
    "#test_model = fn.load_emb('testemb')"
   ]
  },
  {
   "cell_type": "code",
   "execution_count": 16,
   "metadata": {
    "collapsed": true
   },
   "outputs": [],
   "source": [
    "#model.save('W2V')"
   ]
  },
  {
   "cell_type": "code",
   "execution_count": 17,
   "metadata": {
    "collapsed": true
   },
   "outputs": [],
   "source": [
    "labelled_cases = Dataset.get_DS(labelled='yes')"
   ]
  },
  {
   "cell_type": "code",
   "execution_count": 18,
   "metadata": {},
   "outputs": [
    {
     "data": {
      "text/plain": [
       "258"
      ]
     },
     "execution_count": 18,
     "metadata": {},
     "output_type": "execute_result"
    }
   ],
   "source": [
    "len(labelled_cases.data)"
   ]
  },
  {
   "cell_type": "code",
   "execution_count": 19,
   "metadata": {},
   "outputs": [],
   "source": [
    "for case in labelled_cases.data:\n",
    "    text = case.raw_text\n",
    "    text = text.split('\\n')\n",
    "    for i in range(len(text)):\n",
    "        text[i] = text[i].strip('.')\n",
    "        text[i] = re.sub(r'\\d+', '<NUM>', text[i])\n",
    "        text[i] = re.sub(r'([A-Za-z]):', r'\\1', text[i])\n",
    "        text[i] = re.sub(r'Dr.', 'Dr', text[i])\n",
    "        text[i] = re.sub(r'Mr.', 'Mr', text[i])\n",
    "        text[i] = re.sub(r'\\. ([A-Z])', r'. A\\1', text[i])\n",
    "        text[i] = re.sub(r'\\. [A-Z]', ' ', text[i])\n",
    "        text[i] = text[i].lower()\n",
    "        text[i] = text[i].split()\n",
    "    case.token_text = text\n",
    "    \n",
    "    indeces = []\n",
    "    for med in re.finditer(r'm=\"[^\"]*\" \\d+:\\d+ \\d+:\\d+', case.raw_labels):\n",
    "        indeces.append([[int(a) for a in b.split(':')] for b in med.group().split()[-2:]])\n",
    "    indeces.sort()\n",
    "    indeces.append([[0,0],[0,0]])\n",
    "    \n",
    "    truth = []\n",
    "    c = 0\n",
    "    inside =  False\n",
    "    for i in range(len(text)):\n",
    "        for j in range(len(text[i])):\n",
    "            if inside:\n",
    "                if i+1 < indeces[c][1][0]: truth.append([1,0])\n",
    "                elif i+1 == indeces[c][1][0]:\n",
    "                    if j < indeces[c][1][1]: truth.append([1,0])\n",
    "                    elif j == indeces[c][1][1]:\n",
    "                        truth.append([1,0])\n",
    "                        inside = False\n",
    "                        c += 1\n",
    "            else:\n",
    "                if [i+1, j] == indeces[c][0]:\n",
    "                    truth.append([1,0])\n",
    "                    if [i+1, j] == indeces[c][1]: c += 1\n",
    "                    else: inside = True\n",
    "                else: truth.append([0,1])\n",
    "    case.test_labels = truth\n",
    "    \n",
    "    case.test_text = [word for sentence in case.token_text for word in sentence]"
   ]
  },
  {
   "cell_type": "code",
   "execution_count": 24,
   "metadata": {
    "scrolled": false
   },
   "outputs": [
    {
     "name": "stdout",
     "output_type": "stream",
     "text": [
      "['vancomycin', 'antibiotics', 'antibiotics', 'antibiotics', 'colace', 'folate', 'gemfibrozil', 'lantus', 'lipitor', 'nephrocaps', 'neurontin', 'phoslo', 'protonix', 'renagel', 'requip', 'coumadin', 'vancomycin', 'unasyn', 'unasyn', 'augmentin', 'vancomycin', 'levofloxacin', 'flagyl', 'vancomycin', 'pain', 'medication', 'as', 'coumadin', 'coumadin', 'heparin', 'coumadin', 'heparin', 'heparin', 'heparin', 'levofloxacin', '<num>mg', '<num>mg', 'gemfibrozil', 'lipitor', 'lipitor', 'b-blocker', 'lisinopril', 'lopressor', 'lantus', 'lantus', 'aspart', 'ketamine', 'fentanyl', 'pca', 'fentanyl', 'pca', 'ketamine', 'oxycontin', 'oxycodone', 'lyrica', 'ativan', 'heparin', 'levofloxacin;', 'coumadin', 'pain', 'medications']\n"
     ]
    }
   ],
   "source": [
    "n = 3\n",
    "print([labelled_cases.data[n].test_text[a] for a in range(len(labelled_cases.data[n].test_text)) if labelled_cases.data[n].test_labels[a] == [1, 0]])"
   ]
  },
  {
   "cell_type": "code",
   "execution_count": 48,
   "metadata": {},
   "outputs": [
    {
     "name": "stdout",
     "output_type": "stream",
     "text": [
      "260818 260818 31810 31810 31810\n"
     ]
    }
   ],
   "source": [
    "train_set = [model[word] if word in model.wv.vocab else np.zeros(100) for case in labelled_cases.data[:230] for word in case.test_text]\n",
    "train_labels = [label for case in labelled_cases.data[:230] for label in case.test_labels] \n",
    "test_set = [model[word] if word in model.wv.vocab else np.zeros(100) for case in labelled_cases.data[230:] for word in case.test_text]\n",
    "test_labels = [label for case in labelled_cases.data[230:] for label in case.test_labels]\n",
    "\n",
    "test_words = [word for case in labelled_cases.data[230:] for word in case.test_text]\n",
    "print(*[len(a) for a in [train_set, train_labels, test_set, test_labels, test_words]])"
   ]
  },
  {
   "cell_type": "code",
   "execution_count": 49,
   "metadata": {},
   "outputs": [
    {
     "name": "stdout",
     "output_type": "stream",
     "text": [
      "[ 0.02997876  0.97002124]\n",
      "260818\n"
     ]
    }
   ],
   "source": [
    "print(np.array(train_labels).sum(0)/ len(train_labels))\n",
    "print(len(train_set))"
   ]
  },
  {
   "cell_type": "code",
   "execution_count": 50,
   "metadata": {},
   "outputs": [
    {
     "name": "stdout",
     "output_type": "stream",
     "text": [
      "[ 0.03341789  0.96658211]\n",
      "[ 0.03683273  0.96316727]\n",
      "[ 0.04022352  0.95977648]\n",
      "[ 0.04359052  0.95640948]\n",
      "[ 0.04693398  0.95306602]\n",
      "[ 0.05025414  0.94974586]\n",
      "[ 0.05355125  0.94644875]\n",
      "[ 0.05682555  0.94317445]\n",
      "[ 0.06007727  0.93992273]\n",
      "[ 0.06330665  0.93669335]\n",
      "[ 0.06651391  0.93348609]\n",
      "[ 0.06969929  0.93030071]\n",
      "[ 0.072863  0.927137]\n",
      "[ 0.07600526  0.92399474]\n",
      "[ 0.07912629  0.92087371]\n",
      "[ 0.08222632  0.91777368]\n",
      "[ 0.08530554  0.91469446]\n",
      "[ 0.08836417  0.91163583]\n",
      "[ 0.09140241  0.90859759]\n",
      "[ 0.09442046  0.90557954]\n",
      "[ 0.09741854  0.90258146]\n",
      "[ 0.10039682  0.89960318]\n"
     ]
    }
   ],
   "source": [
    "while (np.array(train_labels).sum(0)/ len(train_labels))[0] < 0.1:\n",
    "    for med in target_dict['medications']:\n",
    "        train_set.append(model[med])\n",
    "        train_labels.append([1,0])\n",
    "    print(np.array(train_labels).sum(0)/len(train_labels))"
   ]
  },
  {
   "cell_type": "code",
   "execution_count": 51,
   "metadata": {},
   "outputs": [
    {
     "name": "stdout",
     "output_type": "stream",
     "text": [
      "[ 0.10039682  0.89960318]\n"
     ]
    }
   ],
   "source": [
    "print(np.array(train_labels).sum(0)/ len(train_labels))"
   ]
  },
  {
   "cell_type": "code",
   "execution_count": 52,
   "metadata": {
    "collapsed": true
   },
   "outputs": [],
   "source": [
    "node_count = 10\n",
    "input_size = 100\n",
    "output_size = 2\n",
    "batch_size = 50\n",
    "epochs = 10\n",
    "report_percentage = 10"
   ]
  },
  {
   "cell_type": "code",
   "execution_count": 53,
   "metadata": {
    "scrolled": true
   },
   "outputs": [
    {
     "name": "stdout",
     "output_type": "stream",
     "text": [
      "Progress: 0% \tTraining Accuracy: 0.880000\t Test accuracy: 0.970387\n",
      "Progress: 10% \tTraining Accuracy: 1.000000\t Test accuracy: 0.972587\n",
      "Progress: 20% \tTraining Accuracy: 1.000000\t Test accuracy: 0.972713\n",
      "Progress: 30% \tTraining Accuracy: 0.980000\t Test accuracy: 0.972996\n",
      "Progress: 40% \tTraining Accuracy: 0.960000\t Test accuracy: 0.974316\n",
      "Progress: 50% \tTraining Accuracy: 0.960000\t Test accuracy: 0.972619\n",
      "Progress: 60% \tTraining Accuracy: 0.980000\t Test accuracy: 0.973813\n",
      "Progress: 70% \tTraining Accuracy: 1.000000\t Test accuracy: 0.974505\n",
      "Progress: 80% \tTraining Accuracy: 0.900000\t Test accuracy: 0.974505\n",
      "Progress: 90% \tTraining Accuracy: 1.000000\t Test accuracy: 0.974882\n",
      "Progress: 100% \tTraining Accuracy: 0.980000\t Test accuracy: 0.973562\n",
      "Final Test Accuracy: 0.973530\n",
      "\n"
     ]
    }
   ],
   "source": [
    "    def weight_variable(shape):\n",
    "        initial = tf.truncated_normal(shape, stddev=0.05)\n",
    "        return tf.Variable(initial)\n",
    "\n",
    "    def bias_variable(shape):\n",
    "        initial = tf.constant(0.1, shape=shape)\n",
    "        return tf.Variable(initial)\n",
    "\n",
    "    node_count = node_count\n",
    "\n",
    "    x = tf.placeholder(tf.float32, shape=[None, input_size])\n",
    "    y_ = tf.placeholder(tf.float32, shape=[None, output_size])\n",
    "\n",
    "    # Define the first layer here\n",
    "    W = weight_variable([input_size, node_count])\n",
    "    b = bias_variable([node_count])\n",
    "    h = tf.nn.sigmoid(tf.matmul(x, W) + b)\n",
    "\n",
    "    # Use dropout for this layer (should you wish)\n",
    "    # keep_prob = tf.placeholder(tf.float32)\n",
    "    # h_drop = tf.nn.dropout(h1, keep_prob)\n",
    "\n",
    "    # Define the second layer here\n",
    "    # W2 = weight_variable([node_count_1, node_count_2])\n",
    "    # b2 = bias_variable([node_count_2])\n",
    "    # h2 = tf.nn.sigmoid(tf.matmul(h, W) + b)\n",
    "\n",
    "    # Define the output layer here\n",
    "    V = weight_variable([node_count, output_size])\n",
    "    c = bias_variable([output_size])\n",
    "    y = tf.nn.softmax(tf.matmul(h, V) + c)\n",
    "\n",
    "    # We'll use the cross entropy loss function\n",
    "    cross_entropy = tf.reduce_mean(tf.nn.softmax_cross_entropy_with_logits(logits=y, labels=y_))\n",
    "\n",
    "    # And classification accuracy\n",
    "    correct_prediction = tf.equal(tf.argmax(y, 1), tf.argmax(y_, 1))\n",
    "    accuracy = tf.reduce_mean(tf.cast(correct_prediction, tf.float32))\n",
    "\n",
    "    # And the Adam optimiser\n",
    "    train_step = tf.train.AdamOptimizer(learning_rate=1e-2).minimize(cross_entropy)\n",
    "\n",
    "    # Start a tf session and run the optimisation algorithm\n",
    "    sess = tf.Session()\n",
    "    # sess.run(tf.initialize_all_variables())\n",
    "    sess.run(tf.global_variables_initializer())\n",
    "\n",
    "    training = Iterator(train_set, train_labels)\n",
    "    mark = (epochs * (len(train_set) // batch_size) * report_percentage) // 100\n",
    "    N = 0\n",
    "\n",
    "    #print(\"Target: %s \\tRepetitions: %s\" % (target, repetitions))\n",
    "    while training.epochs < epochs:\n",
    "        trd, trl = training.next_batch(batch_size)\n",
    "        if N % mark == 0:\n",
    "            train_accuracy = sess.run(accuracy, feed_dict={x: trd, y_: trl})\n",
    "            test_accuracy = sess.run(accuracy, feed_dict={x: test_set, y_: test_labels})\n",
    "            print(\"Progress: %d%% \\tTraining Accuracy: %f\\t Test accuracy: %f\" % (N * report_percentage// mark, train_accuracy, test_accuracy))\n",
    "        sess.run(train_step, feed_dict={x: trd, y_: trl})\n",
    "        N += 1\n",
    "\n",
    "    print(\"Final Test Accuracy: %f\\n\" % (sess.run(accuracy, feed_dict={x: test_set, y_: test_labels})))"
   ]
  },
  {
   "cell_type": "code",
   "execution_count": 54,
   "metadata": {
    "collapsed": true
   },
   "outputs": [],
   "source": [
    "pred = tf.argmax(y, 1)\n",
    "res = sess.run(pred, feed_dict={x: test_set, y_:test_labels})\n",
    "tru = np.argmax(test_labels, 1)"
   ]
  },
  {
   "cell_type": "code",
   "execution_count": 55,
   "metadata": {},
   "outputs": [
    {
     "data": {
      "text/plain": [
       "0.62511130899376666"
      ]
     },
     "execution_count": 55,
     "metadata": {},
     "output_type": "execute_result"
    }
   ],
   "source": [
    "sk.metrics.f1_score(tru, res, pos_label=0, average='binary')"
   ]
  },
  {
   "cell_type": "code",
   "execution_count": 56,
   "metadata": {},
   "outputs": [
    {
     "data": {
      "text/plain": [
       "[('products', 0, 1),\n",
       " ('niacin', 0, 1),\n",
       " ('sodium', 0, 1),\n",
       " ('hydration', 0, 1),\n",
       " ('hydration', 0, 1),\n",
       " ('ace', 0, 1),\n",
       " ('requring', 0, 1),\n",
       " ('bb', 0, 1),\n",
       " ('hydration', 0, 1),\n",
       " ('acei', 0, 1),\n",
       " ('hydration', 0, 1),\n",
       " ('insulin', 0, 1),\n",
       " ('insulin', 0, 1),\n",
       " ('synthroid', 0, 1),\n",
       " ('levothyroxine', 0, 1),\n",
       " ('sodium', 0, 1),\n",
       " ('milk', 0, 1),\n",
       " ('magnesia', 0, 1),\n",
       " ('magnesium', 0, 1),\n",
       " ('reglan', 0, 1),\n",
       " ('metoclopramide', 0, 1),\n",
       " ('hcl', 0, 1),\n",
       " ('zofran', 0, 1),\n",
       " ('ondansetron', 0, 1),\n",
       " ('hcl', 0, 1),\n",
       " ('post-...', 0, 1),\n",
       " ('quinapril', 0, 1),\n",
       " ('kcl', 0, 1),\n",
       " ('quinapril', 0, 1),\n",
       " ('hcl', 0, 1),\n",
       " ('potassium', 0, 1),\n",
       " ('chloride', 0, 1),\n",
       " ('quinapril', 0, 1),\n",
       " ('hcl', 0, 1),\n",
       " ('potassium', 0, 1),\n",
       " ('chloride', 0, 1),\n",
       " ('simethicone', 0, 1),\n",
       " ('multivitamin', 0, 1),\n",
       " ('multivi...', 0, 1),\n",
       " ('tigan', 0, 1),\n",
       " ('hcl', 0, 1),\n",
       " ('tigan', 0, 1),\n",
       " ('hcl', 0, 1),\n",
       " ('morphine', 0, 1),\n",
       " ('aspirin', 0, 1),\n",
       " ('motrin', 0, 1),\n",
       " ('aleve', 0, 1),\n",
       " ('advil', 0, 1),\n",
       " ('softener', 0, 1),\n",
       " ('antibiotics', 0, 1),\n",
       " ('removal.', 0, 1),\n",
       " ('q<num>hr', 0, 1),\n",
       " ('atc', 0, 1),\n",
       " ('boyton', 0, 1),\n",
       " ('lenard', 0, 1),\n",
       " ('motrin', 0, 1),\n",
       " ('motrin', 0, 1),\n",
       " ('prednisone', 0, 1),\n",
       " ('tylenol', 0, 1),\n",
       " ('codeine', 0, 1),\n",
       " ('discontinuing', 0, 1),\n",
       " ('steroids', 0, 1),\n",
       " ('plaquenil', 0, 1),\n",
       " ('prednisone', 0, 1),\n",
       " ('prednisone', 0, 1),\n",
       " ('plaquenil', 0, 1),\n",
       " ('dilantin', 0, 1),\n",
       " ('iron', 0, 1),\n",
       " ('naprosyn', 0, 1),\n",
       " ('plaquenil', 0, 1),\n",
       " ('motrin', 0, 1),\n",
       " ('prednisone', 0, 1),\n",
       " ('dilantin', 0, 1),\n",
       " ('folate', 0, 1),\n",
       " ('iron', 0, 1),\n",
       " ('sulfate', 0, 1),\n",
       " ('diprosone', 0, 1),\n",
       " ('ointment', 0, 1),\n",
       " ('dilantin', 0, 1),\n",
       " ('prednisone', 0, 1),\n",
       " ('plaquenil', 0, 1),\n",
       " ('plaquenil', 0, 1),\n",
       " ('prednisone', 0, 1),\n",
       " ('hydration', 0, 1),\n",
       " ('transfusions', 0, 1),\n",
       " ('folate', 0, 1),\n",
       " ('iron', 0, 1),\n",
       " ('plaquenil', 0, 1),\n",
       " ('prednisone', 0, 1),\n",
       " ('dilantin', 0, 1),\n",
       " ('motrin', 0, 1),\n",
       " ('carafate', 0, 1),\n",
       " ('iron', 0, 1),\n",
       " ('folate', 0, 1),\n",
       " ('pc<num>/<num>', 0, 1),\n",
       " ('hypothymia', 0, 1),\n",
       " ('sodium', 0, 1),\n",
       " ('potassium', 0, 1),\n",
       " ('chloride', 0, 1),\n",
       " ('heparin', 0, 1),\n",
       " ('lopressor', 0, 1),\n",
       " ('captopril', 0, 1),\n",
       " ('cozaar', 0, 1),\n",
       " ('heparin', 0, 1),\n",
       " ('atrovent', 0, 1),\n",
       " ('nebs', 0, 1),\n",
       " ('i.d.', 0, 1),\n",
       " ('fluids', 0, 1),\n",
       " ('fluids', 0, 1),\n",
       " ('g', 0, 1),\n",
       " ('nebulizers', 0, 1),\n",
       " ('hctz', 0, 1),\n",
       " ('rx', 0, 1),\n",
       " ('prn.', 0, 1),\n",
       " ('plavix', 0, 1),\n",
       " ('clopidogrel', 0, 1),\n",
       " ('psyllium', 0, 1),\n",
       " ('toprol', 0, 1),\n",
       " ('xl', 0, 1),\n",
       " ('metoprolol', 0, 1),\n",
       " ('sust', 0, 1),\n",
       " ('lasix', 0, 1),\n",
       " ('furosemide', 0, 1),\n",
       " ('famotidine', 0, 1),\n",
       " ('sodium', 0, 1),\n",
       " ('codeine', 0, 1),\n",
       " ('ntg', 0, 1),\n",
       " ('plavix', 0, 1),\n",
       " ('xl', 0, 1),\n",
       " ('pm/zocor', 0, 1),\n",
       " ('iron', 0, 1),\n",
       " ('natural', 0, 1),\n",
       " ('sodium', 0, 1),\n",
       " ('potassium', 0, 1),\n",
       " ('yq<num>/<num>', 0, 1),\n",
       " ('chemotherapy', 0, 1),\n",
       " ('chemotherapy', 0, 1),\n",
       " ('insulin', 0, 1),\n",
       " ('bronchodilator', 0, 1),\n",
       " ('lisinopril', 0, 1),\n",
       " ('metformin', 0, 1),\n",
       " ('sodium', 0, 1),\n",
       " ('potassium', 0, 1),\n",
       " ('chloride', 0, 1),\n",
       " ('nasal', 0, 1),\n",
       " ('nasal', 0, 1),\n",
       " ('wash', 0, 1),\n",
       " ('ibuprofen', 0, 1),\n",
       " ('lopressor', 0, 1),\n",
       " ('niferex', 0, 1),\n",
       " ('simvastatin', 0, 1),\n",
       " ('k-dur', 0, 1),\n",
       " ('fluticasone', 0, 1),\n",
       " ('inhaled', 0, 1),\n",
       " ('levofloxacin', 0, 1),\n",
       " ('humalog', 0, 1),\n",
       " ('insulin', 0, 1),\n",
       " ('humalog', 0, 1),\n",
       " ('insulin', 0, 1),\n",
       " ('humalog', 0, 1),\n",
       " ('insulin', 0, 1),\n",
       " ('celexa', 0, 1),\n",
       " ('combivent', 0, 1),\n",
       " ('inhaled', 0, 1),\n",
       " ('nexium', 0, 1),\n",
       " ('lantus', 0, 1),\n",
       " ('insulin', 0, 1),\n",
       " ('elixir', 0, 1),\n",
       " ('wel', 0, 1),\n",
       " ('azithromycin', 0, 1),\n",
       " ('aspirin', 0, 1),\n",
       " ('potassium', 0, 1),\n",
       " ('compresses', 0, 1),\n",
       " ('sublinguals', 0, 1),\n",
       " ('potassium', 0, 1),\n",
       " ('potassium', 0, 1),\n",
       " ('iron', 0, 1),\n",
       " ('vitamin', 0, 1),\n",
       " ('b-<num>', 0, 1),\n",
       " ('folate', 0, 1),\n",
       " ('pepcid', 0, 1),\n",
       " ('metoprolol', 0, 1),\n",
       " ('nitroglycerin', 0, 1),\n",
       " ('iron', 0, 1),\n",
       " ('sodium', 0, 1),\n",
       " ('status/exam', 0, 1),\n",
       " ('abx', 0, 1),\n",
       " ('numc', 0, 1),\n",
       " ('lisinopril', 0, 1),\n",
       " ('potassium', 0, 1),\n",
       " ('chloride', 0, 1),\n",
       " ('lisinopril', 0, 1),\n",
       " ('zocor', 0, 1),\n",
       " ('simvastatin', 0, 1),\n",
       " ('flovent', 0, 1),\n",
       " ('fluticasone', 0, 1),\n",
       " ('propionate', 0, 1),\n",
       " ('combivent', 0, 1),\n",
       " ('ipratropium', 0, 1),\n",
       " ('albuterol', 0, 1),\n",
       " ('sulfate', 0, 1),\n",
       " ('sodium', 0, 1),\n",
       " ('faulker', 0, 1),\n",
       " ('aspirin', 0, 1),\n",
       " ('insulin', 0, 1),\n",
       " ('blocker', 0, 1),\n",
       " ('aspirin', 0, 1),\n",
       " ('lisinopril', 0, 1),\n",
       " ('insulin', 0, 1),\n",
       " ('nph', 0, 1),\n",
       " ('insulin', 0, 1),\n",
       " ('inhalers', 0, 1),\n",
       " ('lisinopril', 0, 1),\n",
       " ('statin', 0, 1),\n",
       " ('beta', 0, 1),\n",
       " ('blocker', 0, 1),\n",
       " ('atenolol', 0, 1),\n",
       " ('ace', 0, 1),\n",
       " ('inhibitor', 0, 1),\n",
       " ('lisinopril', 0, 1),\n",
       " ('resumption', 0, 1),\n",
       " ('lidocaine', 0, 1),\n",
       " ('lisinopril', 0, 1),\n",
       " ('diltiazem', 0, 1),\n",
       " ('nifedipine', 0, 1),\n",
       " ('nasal', 0, 1),\n",
       " ('sodium', 0, 1),\n",
       " ('potassium', 0, 1),\n",
       " ('chloride', 0, 1),\n",
       " ('calcium', 0, 1),\n",
       " ('ou', 0, 1),\n",
       " ('os', 0, 1),\n",
       " ('tears', 0, 1),\n",
       " ('seatbelt', 0, 1),\n",
       " ('courses', 0, 1),\n",
       " ('sodium', 0, 1),\n",
       " ('potassium', 0, 1),\n",
       " ('chloride', 0, 1),\n",
       " ('bicarbonate', 0, 1),\n",
       " ('calcium', 0, 1),\n",
       " ('aspirin', 0, 1),\n",
       " ('tylenol', 0, 1),\n",
       " ('benzodiazepine', 0, 1),\n",
       " ('barbiturates', 0, 1),\n",
       " ('tricyclics', 0, 1),\n",
       " ('atropine', 0, 1),\n",
       " ('tears', 0, 1),\n",
       " ('sub-q.', 0, 1),\n",
       " ('coln', 0, 1),\n",
       " ('compazine', 0, 1),\n",
       " ('a-line', 0, 1),\n",
       " ('a-line', 0, 1),\n",
       " ('pills', 0, 1),\n",
       " ('cozaar', 0, 1),\n",
       " ('losartan', 0, 1),\n",
       " ('protonix', 0, 1),\n",
       " ('pantoprazole', 0, 1),\n",
       " ('sodium', 0, 1),\n",
       " ('asselmeier', 0, 1),\n",
       " ('discontinues', 0, 1),\n",
       " ('beta', 0, 1),\n",
       " ('blocker', 0, 1),\n",
       " ('asa', 0, 1),\n",
       " ('ace', 0, 1),\n",
       " ('cozaar', 0, 1),\n",
       " ('beta', 0, 1),\n",
       " ('blocker', 0, 1),\n",
       " ('atenolol', 0, 1),\n",
       " ('ns', 0, 1),\n",
       " ('bolus', 0, 1),\n",
       " ('insulin', 0, 1),\n",
       " ('insulin', 0, 1),\n",
       " ('lantus', 0, 1),\n",
       " ('insulin', 0, 1),\n",
       " ('hypoglycmeic', 0, 1),\n",
       " ('insulin', 0, 1),\n",
       " ('insulin', 0, 1),\n",
       " ('reglan', 0, 1),\n",
       " ('coumadin', 0, 1),\n",
       " ('<num>.prophylaxis', 0, 1),\n",
       " ('coumadin', 0, 1),\n",
       " ('nexium', 0, 1),\n",
       " ('<num>.code', 0, 1),\n",
       " ('insulin', 0, 1),\n",
       " ('insulin', 0, 1),\n",
       " ('insulin', 0, 1),\n",
       " ('regimin', 0, 1),\n",
       " ('metoprolol', 0, 1),\n",
       " ('lisinopril', 0, 1),\n",
       " ('cozaar', 0, 1),\n",
       " ('atenolol', 0, 1),\n",
       " ('reglan', 0, 1),\n",
       " ('lahm', 0, 1),\n",
       " ('mvi', 0, 1),\n",
       " ('spray', 0, 1),\n",
       " ('prednisone', 0, 1),\n",
       " ('combivent', 0, 1),\n",
       " ('ipratropium', 0, 1),\n",
       " ('albuterol', 0, 1),\n",
       " ('sulfate', 0, 1),\n",
       " ('sodium', 0, 1),\n",
       " ('diagosed', 0, 1),\n",
       " ('azithromycin', 0, 1),\n",
       " ('levofloxacin', 0, 1),\n",
       " ('atenolol', 0, 1),\n",
       " ('hctz', 0, 1),\n",
       " ('felodipine', 0, 1),\n",
       " ('zocor', 0, 1),\n",
       " ('asa', 0, 1),\n",
       " ('advair', 0, 1),\n",
       " ('combivent', 0, 1),\n",
       " ('loratidine', 0, 1),\n",
       " ('morphine', 0, 1),\n",
       " ('percocet', 0, 1),\n",
       " ('quinine', 0, 1),\n",
       " ('sulfate', 0, 1),\n",
       " ('colace', 0, 1),\n",
       " ('senna', 0, 1),\n",
       " ('calcium+vim', 0, 1),\n",
       " ('elavil', 0, 1),\n",
       " ('--pe', 0, 1),\n",
       " ('duonebs', 0, 1),\n",
       " ('steroids', 0, 1),\n",
       " ('lasix', 0, 1),\n",
       " ('antibiotics', 0, 1),\n",
       " ('novolog', 0, 1),\n",
       " ('steroids', 0, 1),\n",
       " ('insomnia', 0, 1),\n",
       " ('morphine', 0, 1),\n",
       " ('oxycodone', 0, 1),\n",
       " ('elavil', 0, 1),\n",
       " ('lovenox', 0, 1),\n",
       " ('combivent', 0, 1),\n",
       " ('inhalers', 0, 1),\n",
       " ('steroid', 0, 1),\n",
       " ('medicines', 0, 1),\n",
       " ('hctz', 0, 1),\n",
       " ('lasix', 0, 1),\n",
       " ('lasix', 0, 1),\n",
       " ('prednisone', 0, 1),\n",
       " ('lasix', 0, 1),\n",
       " ('ace', 0, 1),\n",
       " ('inhibitor', 0, 1),\n",
       " ('sodium', 0, 1),\n",
       " ('potassium', 0, 1),\n",
       " ('chloride', 0, 1),\n",
       " ('sodium', 0, 1),\n",
       " ('potassium', 0, 1),\n",
       " ('chloride', 0, 1),\n",
       " ('magnesium', 0, 1),\n",
       " ('antibiotic', 0, 1),\n",
       " ('inhalers', 0, 1),\n",
       " ('thyrotoxicosis', 0, 1),\n",
       " ('amiodarone', 0, 1),\n",
       " ('thyrotoxicosis', 0, 1),\n",
       " ('blockade', 0, 1),\n",
       " ('blockaded', 0, 1),\n",
       " ('glyburide', 0, 1),\n",
       " ('insulin', 0, 1),\n",
       " ('glyburide', 0, 1),\n",
       " ('lasix', 0, 1),\n",
       " ('amiodarone', 0, 1),\n",
       " ('lisinopril', 0, 1),\n",
       " ('tapazole', 0, 1),\n",
       " ('zantac', 0, 1),\n",
       " ('coumadin', 0, 1),\n",
       " ('bactrim', 0, 1),\n",
       " ('double', 0, 1),\n",
       " ('prempro', 0, 1),\n",
       " ('glyburide', 0, 1),\n",
       " ('lasix', 0, 1),\n",
       " ('atenolol', 0, 1),\n",
       " ('diltiazem', 0, 1),\n",
       " ('cd', 0, 1),\n",
       " ('thyrotoxicosis', 0, 1),\n",
       " ('ff<num>', 0, 1),\n",
       " ('od', 0, 1),\n",
       " ('atenolol', 0, 1),\n",
       " ('advair', 0, 1),\n",
       " ('diskus', 0, 1),\n",
       " ('fluticasone', 0, 1),\n",
       " ('propionate/...', 0, 1),\n",
       " ('hydrochlorothiazide', 0, 1),\n",
       " ('miconazole', 0, 1),\n",
       " ('nitrate', 0, 1),\n",
       " ('powder', 0, 1),\n",
       " ('topical', 0, 1),\n",
       " ('sodium', 0, 1),\n",
       " ('nitro', 0, 1),\n",
       " ('gtt', 0, 1),\n",
       " ('labetalol', 0, 1),\n",
       " ('asa', 0, 1),\n",
       " ('nexium', 0, 1),\n",
       " ('albuterol', 0, 1),\n",
       " ('zofran', 0, 1),\n",
       " ('hctz', 0, 1),\n",
       " ('asa', 0, 1),\n",
       " ('beta', 0, 1),\n",
       " ('blocker', 0, 1),\n",
       " ('statin', 0, 1),\n",
       " ('statin', 0, 1),\n",
       " ('hctz', 0, 1),\n",
       " ('lopressor', 0, 1),\n",
       " ('hctz', 0, 1),\n",
       " ('atenolol', 0, 1),\n",
       " ('advair', 0, 1),\n",
       " ('nebs', 0, 1),\n",
       " ('atc', 0, 1),\n",
       " ('prednisone', 0, 1),\n",
       " ('ppx', 0, 1),\n",
       " ('lovenox', 0, 1),\n",
       " ('hydrochlorothiazide', 0, 1),\n",
       " ('atenolol', 0, 1),\n",
       " ('aspirin', 0, 1),\n",
       " ('statin', 0, 1),\n",
       " ('pickell', 0, 1),\n",
       " ('projectile', 0, 1),\n",
       " ('dove', 0, 1),\n",
       " ('lisinopril', 0, 1),\n",
       " ('coumadin', 0, 1),\n",
       " ('omeprazole', 0, 1),\n",
       " ('metformin', 0, 1),\n",
       " ('insulin', 0, 1),\n",
       " ('calcium', 0, 1),\n",
       " ('magnesium', 0, 1),\n",
       " ('multivitamin', 0, 1),\n",
       " ('iron', 0, 1),\n",
       " ('actonel', 0, 1),\n",
       " ('eye', 0, 1),\n",
       " ('artificial', 0, 1),\n",
       " ('eye', 0, 1),\n",
       " ('sodium', 0, 1),\n",
       " ('potassium', 0, 1),\n",
       " ('chloride', 0, 1),\n",
       " ('bicarbonate', 0, 1),\n",
       " ('hemodynamics', 0, 1),\n",
       " ('lasix', 0, 1),\n",
       " ('lasix', 0, 1),\n",
       " ('lasix', 0, 1),\n",
       " ('lasix', 0, 1),\n",
       " ('beta-blocker', 0, 1),\n",
       " ('digoxin', 0, 1),\n",
       " ('diltiazem', 0, 1),\n",
       " ('nebulizers', 0, 1),\n",
       " ('ppi', 0, 1),\n",
       " ('dosage', 0, 1),\n",
       " ('nexium', 0, 1),\n",
       " ('gerd-like', 0, 1),\n",
       " ('nexium', 0, 1),\n",
       " ('nexium', 0, 1),\n",
       " ('omeprazole', 0, 1),\n",
       " ('colace', 0, 1),\n",
       " ('senokot', 0, 1),\n",
       " ('packed', 0, 1),\n",
       " ('transfusions', 0, 1),\n",
       " ('heparin', 0, 1),\n",
       " ('lovenox', 0, 1),\n",
       " ('lovenox', 0, 1),\n",
       " ('nph', 0, 1),\n",
       " ('nph', 0, 1),\n",
       " ('novolog', 0, 1),\n",
       " ('novolog', 0, 1),\n",
       " ('prescriptions', 0, 1),\n",
       " ('levaquin', 0, 1),\n",
       " ('antibiotics', 0, 1),\n",
       " ('perioperative', 0, 1),\n",
       " ('antibiotics', 0, 1),\n",
       " ('ceftriaxone', 0, 1),\n",
       " ('g', 0, 1),\n",
       " ('assumption', 0, 1),\n",
       " ('antibiotic', 0, 1),\n",
       " ('darvon', 0, 1),\n",
       " ('codeine', 0, 1),\n",
       " ('fluids', 0, 1),\n",
       " ('diltiazem', 0, 1),\n",
       " ('colace', 0, 1),\n",
       " ('lasix', 0, 1),\n",
       " ('nph', 0, 1),\n",
       " ('nph', 0, 1),\n",
       " ('lisinopril', 0, 1),\n",
       " ('senokot', 0, 1),\n",
       " ('multivitamin', 0, 1),\n",
       " ('lovenox', 0, 1),\n",
       " ('caltrate', 0, 1),\n",
       " ('vitamin', 0, 1),\n",
       " ('novolog', 0, 1),\n",
       " ('novolog', 0, 1),\n",
       " ('maalox', 0, 1),\n",
       " ('codeine', 0, 1),\n",
       " ('magnesium', 0, 1),\n",
       " ('oxide', 0, 1),\n",
       " ('omeprazole', 0, 1),\n",
       " ('niferex', 0, 1),\n",
       " ('antibiotic', 0, 1),\n",
       " ('codeine', 0, 1),\n",
       " ('heparin', 0, 1),\n",
       " ('milk', 0, 1),\n",
       " ('potassium', 0, 1),\n",
       " ('chloride', 0, 1),\n",
       " ('sodium', 0, 1),\n",
       " ('rx', 0, 1),\n",
       " ('insomnia', 0, 1),\n",
       " ('metolazone', 0, 1),\n",
       " ('metoprolol', 0, 1),\n",
       " ('succinate', 0, 1),\n",
       " ('extended', 0, 1),\n",
       " ('release', 0, 1),\n",
       " ('toprol', 0, 1),\n",
       " ('xl', 0, 1),\n",
       " ('multivitamins', 0, 1),\n",
       " ('pravastatin', 0, 1),\n",
       " ('warfarin', 0, 1),\n",
       " ('sodium', 0, 1),\n",
       " ('coumadin', 0, 1),\n",
       " ('rx', 0, 1),\n",
       " ('betablocker', 0, 1),\n",
       " ('asa', 0, 1),\n",
       " ('statin', 0, 1),\n",
       " ('lasix', 0, 1),\n",
       " ('metolazone', 0, 1),\n",
       " ('metolazone', 0, 1),\n",
       " ('metolazone', 0, 1),\n",
       " ('diuretics', 0, 1),\n",
       " ('rx', 0, 1),\n",
       " ('coumadin', 0, 1),\n",
       " ('coumadin', 0, 1),\n",
       " ('vna/pcp', 0, 1),\n",
       " ('coumadin', 0, 1),\n",
       " ('ctx', 0, 1),\n",
       " ('c.diff', 0, 1),\n",
       " ('azithromycin', 0, 1),\n",
       " ('ceftaz', 0, 1),\n",
       " ('levo', 0, 1),\n",
       " ('levo', 0, 1),\n",
       " ('double', 0, 1),\n",
       " ('levo', 0, 1),\n",
       " ('levofloxacin', 0, 1),\n",
       " ('ceftaz', 0, 1),\n",
       " ('cefpodoxime', 0, 1),\n",
       " ('c.diff', 0, 1),\n",
       " ('azithromycin', 0, 1),\n",
       " ('loperamide', 0, 1),\n",
       " ('rx', 0, 1),\n",
       " ('lantus', 0, 1),\n",
       " ('insulin', 0, 1),\n",
       " ('rx', 0, 1),\n",
       " ('rx', 0, 1),\n",
       " ('allopurinol', 0, 1),\n",
       " ('antibiotics', 0, 1),\n",
       " ('levofloxacin', 0, 1),\n",
       " ('cefpodoxime', 0, 1),\n",
       " ('tessalon', 0, 1),\n",
       " ('perels', 0, 1),\n",
       " ('guiatuss', 0, 1),\n",
       " ('<num>ml', 0, 1),\n",
       " ('loperamide', 0, 1),\n",
       " ('coumadin', 0, 1),\n",
       " ('pcp/go', 0, 1),\n",
       " ('rx', 0, 1),\n",
       " ('coumadin', 0, 1),\n",
       " ('insulin', 0, 1),\n",
       " ('insulin', 0, 1),\n",
       " ('erythromycin', 0, 1),\n",
       " ('benadryl', 0, 1),\n",
       " ('afternoon.', 0, 1),\n",
       " ('insulin', 0, 1),\n",
       " ('lasix', 0, 1),\n",
       " ('atenolol', 0, 1),\n",
       " ('prednisone', 0, 1),\n",
       " ('cellcept', 0, 1),\n",
       " ('prempro', 0, 1),\n",
       " ('sodium', 0, 1),\n",
       " ('potassium', 0, 1),\n",
       " ('chloride', 0, 1),\n",
       " ('bicarbonate', 0, 1),\n",
       " ('calcium', 0, 1),\n",
       " ('insulin', 0, 1),\n",
       " ('lopressor', 0, 1),\n",
       " ('verapamil', 0, 1),\n",
       " ('atenolol', 0, 1),\n",
       " ('beta', 0, 1),\n",
       " ('blockade', 0, 1),\n",
       " ('verapamil', 0, 1),\n",
       " ('bolus', 0, 1),\n",
       " ('fluids', 0, 1),\n",
       " ('simvastatin', 0, 1),\n",
       " ('gemfibrozil', 0, 1),\n",
       " ('aspirin', 0, 1),\n",
       " ('vitamin', 0, 1),\n",
       " ('epogen', 0, 1),\n",
       " ('lasix', 0, 1),\n",
       " ('gemfibrozil', 0, 1),\n",
       " ('lisinopril', 0, 1),\n",
       " ('prilosec', 0, 1),\n",
       " ('prednisone', 0, 1),\n",
       " ('mvi', 0, 1),\n",
       " ('thiamine', 0, 1),\n",
       " ('cyclosporine', 0, 1),\n",
       " ('micromeral', 0, 1),\n",
       " ('cellcept', 0, 1),\n",
       " ('prempro', 0, 1),\n",
       " ('nephrocaps', 0, 1)]"
      ]
     },
     "execution_count": 56,
     "metadata": {},
     "output_type": "execute_result"
    }
   ],
   "source": [
    "[(test_words[a], res[a], tru[a]) for a in range(len(test_words)) if res[a] == 0 and tru[a] == 1]"
   ]
  },
  {
   "cell_type": "code",
   "execution_count": 58,
   "metadata": {},
   "outputs": [
    {
     "data": {
      "text/plain": [
       "(702, 30266, 602, 240)"
      ]
     },
     "execution_count": 58,
     "metadata": {},
     "output_type": "execute_result"
    }
   ],
   "source": [
    "tp = len([a for a in range(len(tru)) if (res[a] == 0) and (tru[a] == 0)])\n",
    "tn = len([a for a in range(len(tru)) if (res[a] == 1) and (tru[a] == 1)])\n",
    "fp = len([a for a in range(len(tru)) if (res[a] == 0) and (tru[a] == 1)])\n",
    "fn = len([a for a in range(len(tru)) if (res[a] == 1) and (tru[a] == 0)])\n",
    "tp, tn, fp, fn"
   ]
  },
  {
   "cell_type": "code",
   "execution_count": 59,
   "metadata": {},
   "outputs": [
    {
     "name": "stdout",
     "output_type": "stream",
     "text": [
      "0.6251113089937667\n"
     ]
    }
   ],
   "source": [
    "print((2*tp)/(2*tp + fn +fp))"
   ]
  }
 ],
 "metadata": {
  "anaconda-cloud": {},
  "kernelspec": {
   "display_name": "Python 3",
   "language": "python",
   "name": "python3"
  },
  "language_info": {
   "codemirror_mode": {
    "name": "ipython",
    "version": 3
   },
   "file_extension": ".py",
   "mimetype": "text/x-python",
   "name": "python",
   "nbconvert_exporter": "python",
   "pygments_lexer": "ipython3",
   "version": "3.5.3"
  }
 },
 "nbformat": 4,
 "nbformat_minor": 2
}
