{
 "cells": [
  {
   "cell_type": "code",
   "execution_count": 1,
   "metadata": {},
   "outputs": [],
   "source": [
    "import numpy as np\n",
    "import re\n",
    "import random\n",
    "\n",
    "import tensorflow as tf\n",
    "\n",
    "import Functions as fn\n",
    "from DS import DS\n",
    "from Set import Set\n",
    "from Iterator import Iterator"
   ]
  },
  {
   "cell_type": "code",
   "execution_count": null,
   "metadata": {},
   "outputs": [],
   "source": [
    "Dataset = fn.firstTimeLoad()"
   ]
  },
  {
   "cell_type": "code",
   "execution_count": null,
   "metadata": {
    "scrolled": true
   },
   "outputs": [],
   "source": [
    "Dataset.writeTexts()"
   ]
  },
  {
   "cell_type": "code",
   "execution_count": null,
   "metadata": {},
   "outputs": [],
   "source": [
    "Dataset.writeLabels()"
   ]
  },
  {
   "cell_type": "code",
   "execution_count": 2,
   "metadata": {
    "collapsed": true
   },
   "outputs": [],
   "source": [
    "Dataset = Set()\n",
    "Dataset.loadTexts()\n",
    "Dataset.loadLabels()"
   ]
  },
  {
   "cell_type": "code",
   "execution_count": 3,
   "metadata": {
    "scrolled": false
   },
   "outputs": [
    {
     "name": "stdout",
     "output_type": "stream",
     "text": [
      "Number of Texts:  4605\n",
      "Number of 2007 Smoking Challenge texts:  926\n",
      "Number of 2008 ObesityChallenge texts:  1237\n",
      "Number of 2009 Medication Challenge texts:  1249\n",
      "Number of 2010 Relations Challenge texts:  694\n",
      "Number of 2011 Coreference Challenge texts:  188\n",
      "Number of 2012 Temporal Relations Challenge texts:  311\n",
      "Number of Train Texts:  2859\n",
      "Number of Test Texts:  1746\n",
      "Number of Labeled Texts:  258\n",
      "Number of Initially Labeled Texts:  10\n",
      "Number of Competitor Labeled Texts Texts:  248\n"
     ]
    }
   ],
   "source": [
    "print('Number of Texts: ', Dataset.size)\n",
    "print('Number of 2007 Smoking Challenge texts: ', Dataset.numberOf(challenge='2007 Smoking Challenge'))\n",
    "print('Number of 2008 ObesityChallenge texts: ', Dataset.numberOf(challenge='2008 Obesity Challenge'))\n",
    "print('Number of 2009 Medication Challenge texts: ', Dataset.numberOf(challenge='2009 Medication Challenge'))\n",
    "print('Number of 2010 Relations Challenge texts: ', Dataset.numberOf(challenge='2010 Relations Challenge'))\n",
    "print('Number of 2011 Coreference Challenge texts: ', Dataset.numberOf(challenge='2011 Coreference Challenge'))\n",
    "print('Number of 2012 Temporal Relations Challenge texts: ', Dataset.numberOf(challenge='2012 Temporal Relations Challenge'))\n",
    "print('Number of Train Texts: ', Dataset.numberOf(stage='train'))\n",
    "print('Number of Test Texts: ', Dataset.numberOf(stage='test'))\n",
    "print('Number of Labeled Texts: ', Dataset.numberOf(labelled='yes'))\n",
    "print('Number of Initially Labeled Texts: ', Dataset.numberOf(labelled='yes', label_type='train'))\n",
    "print('Number of Competitor Labeled Texts Texts: ', Dataset.numberOf(labelled='yes', label_type='test'))"
   ]
  },
  {
   "cell_type": "code",
   "execution_count": 4,
   "metadata": {
    "collapsed": true
   },
   "outputs": [],
   "source": [
    "Dataset.processForEmbedding()\n",
    "sentences = Dataset.getSentences()"
   ]
  },
  {
   "cell_type": "code",
   "execution_count": 5,
   "metadata": {},
   "outputs": [
    {
     "name": "stdout",
     "output_type": "stream",
     "text": [
      "941\n",
      "940\n"
     ]
    }
   ],
   "source": [
    "medications = []\n",
    "labelled = Dataset.getDS(labelled='yes')\n",
    "\n",
    "for case in labelled.data:\n",
    "    for term in re.finditer(r'm=\"[a-z0-9 ]+\"', case.raw_labels):\n",
    "        temp = term.group()[3:-1]\n",
    "        temp = temp.split()\n",
    "        for word in temp:\n",
    "            word = re.sub(r'\\d+', '<num>', word)\n",
    "            if word not in medications:\n",
    "                medications.append(word)\n",
    "                \n",
    "print(len(medications))\n",
    "medications.remove('ngl')\n",
    "print(len(medications))"
   ]
  },
  {
   "cell_type": "code",
   "execution_count": 6,
   "metadata": {},
   "outputs": [
    {
     "name": "stderr",
     "output_type": "stream",
     "text": [
      "C:\\Users\\Luka\\Anaconda3\\envs\\tensorflow\\lib\\site-packages\\gensim\\utils.py:860: UserWarning: detected Windows; aliasing chunkize to chunkize_serial\n",
      "  warnings.warn(\"detected Windows; aliasing chunkize to chunkize_serial\")\n"
     ]
    }
   ],
   "source": [
    "from gensim.models import Word2Vec"
   ]
  },
  {
   "cell_type": "code",
   "execution_count": 7,
   "metadata": {
    "collapsed": true
   },
   "outputs": [],
   "source": [
    "model_I2B2 = Word2Vec(sentences, min_count=1, size=100)"
   ]
  },
  {
   "cell_type": "code",
   "execution_count": 8,
   "metadata": {},
   "outputs": [
    {
     "data": {
      "text/plain": [
       "[('physician', 0.7858730554580688),\n",
       " ('office', 0.7632736563682556),\n",
       " ('private', 0.7402583956718445),\n",
       " ('cardiologist', 0.7051651477813721),\n",
       " ('oncologist', 0.6889317035675049),\n",
       " ('primary', 0.6885737180709839),\n",
       " ('pcp', 0.6705446243286133),\n",
       " ('doctor.', 0.6602672338485718),\n",
       " ('neurologist', 0.6348996758460999),\n",
       " (\"physician's\", 0.615487277507782)]"
      ]
     },
     "execution_count": 8,
     "metadata": {},
     "output_type": "execute_result"
    }
   ],
   "source": [
    "model_I2B2.most_similar(\"doctor\")"
   ]
  },
  {
   "cell_type": "code",
   "execution_count": 9,
   "metadata": {},
   "outputs": [
    {
     "data": {
      "text/html": [
       "\n",
       "    <div class=\"bk-root\">\n",
       "        <a href=\"http://bokeh.pydata.org\" target=\"_blank\" class=\"bk-logo bk-logo-small bk-logo-notebook\"></a>\n",
       "        <span id=\"22c3c574-69c2-4f26-b553-8a9e93a542ce\">Loading BokehJS ...</span>\n",
       "    </div>"
      ]
     },
     "metadata": {},
     "output_type": "display_data"
    },
    {
     "data": {
      "application/javascript": [
       "\n",
       "(function(global) {\n",
       "  function now() {\n",
       "    return new Date();\n",
       "  }\n",
       "\n",
       "  var force = true;\n",
       "\n",
       "  if (typeof (window._bokeh_onload_callbacks) === \"undefined\" || force === true) {\n",
       "    window._bokeh_onload_callbacks = [];\n",
       "    window._bokeh_is_loading = undefined;\n",
       "  }\n",
       "\n",
       "\n",
       "  \n",
       "  if (typeof (window._bokeh_timeout) === \"undefined\" || force === true) {\n",
       "    window._bokeh_timeout = Date.now() + 5000;\n",
       "    window._bokeh_failed_load = false;\n",
       "  }\n",
       "\n",
       "  var NB_LOAD_WARNING = {'data': {'text/html':\n",
       "     \"<div style='background-color: #fdd'>\\n\"+\n",
       "     \"<p>\\n\"+\n",
       "     \"BokehJS does not appear to have successfully loaded. If loading BokehJS from CDN, this \\n\"+\n",
       "     \"may be due to a slow or bad network connection. Possible fixes:\\n\"+\n",
       "     \"</p>\\n\"+\n",
       "     \"<ul>\\n\"+\n",
       "     \"<li>re-rerun `output_notebook()` to attempt to load from CDN again, or</li>\\n\"+\n",
       "     \"<li>use INLINE resources instead, as so:</li>\\n\"+\n",
       "     \"</ul>\\n\"+\n",
       "     \"<code>\\n\"+\n",
       "     \"from bokeh.resources import INLINE\\n\"+\n",
       "     \"output_notebook(resources=INLINE)\\n\"+\n",
       "     \"</code>\\n\"+\n",
       "     \"</div>\"}};\n",
       "\n",
       "  function display_loaded() {\n",
       "    if (window.Bokeh !== undefined) {\n",
       "      var el = document.getElementById(\"22c3c574-69c2-4f26-b553-8a9e93a542ce\");\n",
       "      el.textContent = \"BokehJS \" + Bokeh.version + \" successfully loaded.\";\n",
       "    } else if (Date.now() < window._bokeh_timeout) {\n",
       "      setTimeout(display_loaded, 100)\n",
       "    }\n",
       "  }\n",
       "\n",
       "  function run_callbacks() {\n",
       "    try {\n",
       "      window._bokeh_onload_callbacks.forEach(function(callback) { callback() });\n",
       "    }\n",
       "    finally {\n",
       "      delete window._bokeh_onload_callbacks\n",
       "    }\n",
       "    console.info(\"Bokeh: all callbacks have finished\");\n",
       "  }\n",
       "\n",
       "  function load_libs(js_urls, callback) {\n",
       "    window._bokeh_onload_callbacks.push(callback);\n",
       "    if (window._bokeh_is_loading > 0) {\n",
       "      console.log(\"Bokeh: BokehJS is being loaded, scheduling callback at\", now());\n",
       "      return null;\n",
       "    }\n",
       "    if (js_urls == null || js_urls.length === 0) {\n",
       "      run_callbacks();\n",
       "      return null;\n",
       "    }\n",
       "    console.log(\"Bokeh: BokehJS not loaded, scheduling load and callback at\", now());\n",
       "    window._bokeh_is_loading = js_urls.length;\n",
       "    for (var i = 0; i < js_urls.length; i++) {\n",
       "      var url = js_urls[i];\n",
       "      var s = document.createElement('script');\n",
       "      s.src = url;\n",
       "      s.async = false;\n",
       "      s.onreadystatechange = s.onload = function() {\n",
       "        window._bokeh_is_loading--;\n",
       "        if (window._bokeh_is_loading === 0) {\n",
       "          console.log(\"Bokeh: all BokehJS libraries loaded\");\n",
       "          run_callbacks()\n",
       "        }\n",
       "      };\n",
       "      s.onerror = function() {\n",
       "        console.warn(\"failed to load library \" + url);\n",
       "      };\n",
       "      console.log(\"Bokeh: injecting script tag for BokehJS library: \", url);\n",
       "      document.getElementsByTagName(\"head\")[0].appendChild(s);\n",
       "    }\n",
       "  };var element = document.getElementById(\"22c3c574-69c2-4f26-b553-8a9e93a542ce\");\n",
       "  if (element == null) {\n",
       "    console.log(\"Bokeh: ERROR: autoload.js configured with elementid '22c3c574-69c2-4f26-b553-8a9e93a542ce' but no matching script tag was found. \")\n",
       "    return false;\n",
       "  }\n",
       "\n",
       "  var js_urls = [\"https://cdn.pydata.org/bokeh/release/bokeh-0.12.6.min.js\", \"https://cdn.pydata.org/bokeh/release/bokeh-widgets-0.12.6.min.js\"];\n",
       "\n",
       "  var inline_js = [\n",
       "    function(Bokeh) {\n",
       "      Bokeh.set_log_level(\"info\");\n",
       "    },\n",
       "    \n",
       "    function(Bokeh) {\n",
       "      \n",
       "    },\n",
       "    \n",
       "    function(Bokeh) {\n",
       "      \n",
       "      document.getElementById(\"22c3c574-69c2-4f26-b553-8a9e93a542ce\").textContent = \"BokehJS is loading...\";\n",
       "    },\n",
       "    function(Bokeh) {\n",
       "      console.log(\"Bokeh: injecting CSS: https://cdn.pydata.org/bokeh/release/bokeh-0.12.6.min.css\");\n",
       "      Bokeh.embed.inject_css(\"https://cdn.pydata.org/bokeh/release/bokeh-0.12.6.min.css\");\n",
       "      console.log(\"Bokeh: injecting CSS: https://cdn.pydata.org/bokeh/release/bokeh-widgets-0.12.6.min.css\");\n",
       "      Bokeh.embed.inject_css(\"https://cdn.pydata.org/bokeh/release/bokeh-widgets-0.12.6.min.css\");\n",
       "    }\n",
       "  ];\n",
       "\n",
       "  function run_inline_js() {\n",
       "    \n",
       "    if ((window.Bokeh !== undefined) || (force === true)) {\n",
       "      for (var i = 0; i < inline_js.length; i++) {\n",
       "        inline_js[i](window.Bokeh);\n",
       "      }if (force === true) {\n",
       "        display_loaded();\n",
       "      }} else if (Date.now() < window._bokeh_timeout) {\n",
       "      setTimeout(run_inline_js, 100);\n",
       "    } else if (!window._bokeh_failed_load) {\n",
       "      console.log(\"Bokeh: BokehJS failed to load within specified timeout.\");\n",
       "      window._bokeh_failed_load = true;\n",
       "    } else if (force !== true) {\n",
       "      var cell = $(document.getElementById(\"22c3c574-69c2-4f26-b553-8a9e93a542ce\")).parents('.cell').data().cell;\n",
       "      cell.output_area.append_execute_result(NB_LOAD_WARNING)\n",
       "    }\n",
       "\n",
       "  }\n",
       "\n",
       "  if (window._bokeh_is_loading === 0) {\n",
       "    console.log(\"Bokeh: BokehJS loaded, going straight to plotting\");\n",
       "    run_inline_js();\n",
       "  } else {\n",
       "    load_libs(js_urls, function() {\n",
       "      console.log(\"Bokeh: BokehJS plotting callback run at\", now());\n",
       "      run_inline_js();\n",
       "    });\n",
       "  }\n",
       "}(this));"
      ]
     },
     "metadata": {},
     "output_type": "display_data"
    }
   ],
   "source": [
    "from bokeh.models import ColumnDataSource, LabelSet\n",
    "from bokeh.plotting import figure, show, output_file\n",
    "from bokeh.io import output_notebook\n",
    "output_notebook()"
   ]
  },
  {
   "cell_type": "code",
   "execution_count": 10,
   "metadata": {
    "collapsed": true
   },
   "outputs": [],
   "source": [
    "from collections import Counter\n",
    "\n",
    "words = []\n",
    "for sent in sentences:\n",
    "    for word in sent:\n",
    "        words.append(word)\n",
    "\n",
    "cnt = Counter(words).most_common(1000)\n",
    "cnt = np.array(cnt)\n",
    "topwords = np.ndarray.tolist(cnt[:,0])"
   ]
  },
  {
   "cell_type": "code",
   "execution_count": 11,
   "metadata": {},
   "outputs": [
    {
     "name": "stdout",
     "output_type": "stream",
     "text": [
      "1810\n",
      "1810\n",
      "1810\n"
     ]
    }
   ],
   "source": [
    "visualisation = []\n",
    "\n",
    "for word in medications:\n",
    "    visualisation.append(word)\n",
    "\n",
    "colormap = np.full(len(visualisation), \"red\")\n",
    "\n",
    "for word in topwords:\n",
    "    if not word in visualisation:\n",
    "        visualisation.append(word)\n",
    "        colormap = np.append(colormap, [\"blue\"])\n",
    "\n",
    "\n",
    "# This assumes words_top_ted is a list of strings, the top 1000 words\n",
    "words_vec = model_I2B2[visualisation]\n",
    "\n",
    "print(len(visualisation))\n",
    "print(len(words_vec))\n",
    "print(len(colormap))"
   ]
  },
  {
   "cell_type": "code",
   "execution_count": 12,
   "metadata": {},
   "outputs": [],
   "source": [
    "from sklearn.manifold import TSNE\n",
    "tsne = TSNE(n_components=2, random_state=0)\n",
    "words_tsne = tsne.fit_transform(words_vec)"
   ]
  },
  {
   "cell_type": "code",
   "execution_count": 13,
   "metadata": {},
   "outputs": [
    {
     "data": {
      "text/html": [
       "\n",
       "\n",
       "    <div class=\"bk-root\">\n",
       "        <div class=\"bk-plotdiv\" id=\"04650d09-524c-4c2e-8d6b-cf893370e8e6\"></div>\n",
       "    </div>\n",
       "<script type=\"text/javascript\">\n",
       "  \n",
       "  (function(global) {\n",
       "    function now() {\n",
       "      return new Date();\n",
       "    }\n",
       "  \n",
       "    var force = false;\n",
       "  \n",
       "    if (typeof (window._bokeh_onload_callbacks) === \"undefined\" || force === true) {\n",
       "      window._bokeh_onload_callbacks = [];\n",
       "      window._bokeh_is_loading = undefined;\n",
       "    }\n",
       "  \n",
       "  \n",
       "    \n",
       "    if (typeof (window._bokeh_timeout) === \"undefined\" || force === true) {\n",
       "      window._bokeh_timeout = Date.now() + 0;\n",
       "      window._bokeh_failed_load = false;\n",
       "    }\n",
       "  \n",
       "    var NB_LOAD_WARNING = {'data': {'text/html':\n",
       "       \"<div style='background-color: #fdd'>\\n\"+\n",
       "       \"<p>\\n\"+\n",
       "       \"BokehJS does not appear to have successfully loaded. If loading BokehJS from CDN, this \\n\"+\n",
       "       \"may be due to a slow or bad network connection. Possible fixes:\\n\"+\n",
       "       \"</p>\\n\"+\n",
       "       \"<ul>\\n\"+\n",
       "       \"<li>re-rerun `output_notebook()` to attempt to load from CDN again, or</li>\\n\"+\n",
       "       \"<li>use INLINE resources instead, as so:</li>\\n\"+\n",
       "       \"</ul>\\n\"+\n",
       "       \"<code>\\n\"+\n",
       "       \"from bokeh.resources import INLINE\\n\"+\n",
       "       \"output_notebook(resources=INLINE)\\n\"+\n",
       "       \"</code>\\n\"+\n",
       "       \"</div>\"}};\n",
       "  \n",
       "    function display_loaded() {\n",
       "      if (window.Bokeh !== undefined) {\n",
       "        var el = document.getElementById(\"04650d09-524c-4c2e-8d6b-cf893370e8e6\");\n",
       "        el.textContent = \"BokehJS \" + Bokeh.version + \" successfully loaded.\";\n",
       "      } else if (Date.now() < window._bokeh_timeout) {\n",
       "        setTimeout(display_loaded, 100)\n",
       "      }\n",
       "    }\n",
       "  \n",
       "    function run_callbacks() {\n",
       "      try {\n",
       "        window._bokeh_onload_callbacks.forEach(function(callback) { callback() });\n",
       "      }\n",
       "      finally {\n",
       "        delete window._bokeh_onload_callbacks\n",
       "      }\n",
       "      console.info(\"Bokeh: all callbacks have finished\");\n",
       "    }\n",
       "  \n",
       "    function load_libs(js_urls, callback) {\n",
       "      window._bokeh_onload_callbacks.push(callback);\n",
       "      if (window._bokeh_is_loading > 0) {\n",
       "        console.log(\"Bokeh: BokehJS is being loaded, scheduling callback at\", now());\n",
       "        return null;\n",
       "      }\n",
       "      if (js_urls == null || js_urls.length === 0) {\n",
       "        run_callbacks();\n",
       "        return null;\n",
       "      }\n",
       "      console.log(\"Bokeh: BokehJS not loaded, scheduling load and callback at\", now());\n",
       "      window._bokeh_is_loading = js_urls.length;\n",
       "      for (var i = 0; i < js_urls.length; i++) {\n",
       "        var url = js_urls[i];\n",
       "        var s = document.createElement('script');\n",
       "        s.src = url;\n",
       "        s.async = false;\n",
       "        s.onreadystatechange = s.onload = function() {\n",
       "          window._bokeh_is_loading--;\n",
       "          if (window._bokeh_is_loading === 0) {\n",
       "            console.log(\"Bokeh: all BokehJS libraries loaded\");\n",
       "            run_callbacks()\n",
       "          }\n",
       "        };\n",
       "        s.onerror = function() {\n",
       "          console.warn(\"failed to load library \" + url);\n",
       "        };\n",
       "        console.log(\"Bokeh: injecting script tag for BokehJS library: \", url);\n",
       "        document.getElementsByTagName(\"head\")[0].appendChild(s);\n",
       "      }\n",
       "    };var element = document.getElementById(\"04650d09-524c-4c2e-8d6b-cf893370e8e6\");\n",
       "    if (element == null) {\n",
       "      console.log(\"Bokeh: ERROR: autoload.js configured with elementid '04650d09-524c-4c2e-8d6b-cf893370e8e6' but no matching script tag was found. \")\n",
       "      return false;\n",
       "    }\n",
       "  \n",
       "    var js_urls = [];\n",
       "  \n",
       "    var inline_js = [\n",
       "      function(Bokeh) {\n",
       "        (function() {\n",
       "          var fn = function() {\n",
       "            var docs_json = {\"bd126000-6a0a-43e2-887b-4aa6db6a98cf\":{\"roots\":{\"references\":[{\"attributes\":{\"plot\":{\"id\":\"ff36cc6c-ab28-4754-ab2b-b37b3ca50f46\",\"subtype\":\"Figure\",\"type\":\"Plot\"}},\"id\":\"8ca5917c-b94b-4745-85e2-ba2bf3371c4f\",\"type\":\"ResetTool\"},{\"attributes\":{\"callback\":null,\"column_names\":[\"names\",\"x2\",\"coloring\",\"x1\"],\"data\":{\"coloring\":[\"red\",\"red\",\"red\",\"red\",\"red\",\"red\",\"red\",\"red\",\"red\",\"red\",\"red\",\"red\",\"red\",\"red\",\"red\",\"red\",\"red\",\"red\",\"red\",\"red\",\"red\",\"red\",\"red\",\"red\",\"red\",\"red\",\"red\",\"red\",\"red\",\"red\",\"red\",\"red\",\"red\",\"red\",\"red\",\"red\",\"red\",\"red\",\"red\",\"red\",\"red\",\"red\",\"red\",\"red\",\"red\",\"red\",\"red\",\"red\",\"red\",\"red\",\"red\",\"red\",\"red\",\"red\",\"red\",\"red\",\"red\",\"red\",\"red\",\"red\",\"red\",\"red\",\"red\",\"red\",\"red\",\"red\",\"red\",\"red\",\"red\",\"red\",\"red\",\"red\",\"red\",\"red\",\"red\",\"red\",\"red\",\"red\",\"red\",\"red\",\"red\",\"red\",\"red\",\"red\",\"red\",\"red\",\"red\",\"red\",\"red\",\"red\",\"red\",\"red\",\"red\",\"red\",\"red\",\"red\",\"red\",\"red\",\"red\",\"red\",\"red\",\"red\",\"red\",\"red\",\"red\",\"red\",\"red\",\"red\",\"red\",\"red\",\"red\",\"red\",\"red\",\"red\",\"red\",\"red\",\"red\",\"red\",\"red\",\"red\",\"red\",\"red\",\"red\",\"red\",\"red\",\"red\",\"red\",\"red\",\"red\",\"red\",\"red\",\"red\",\"red\",\"red\",\"red\",\"red\",\"red\",\"red\",\"red\",\"red\",\"red\",\"red\",\"red\",\"red\",\"red\",\"red\",\"red\",\"red\",\"red\",\"red\",\"red\",\"red\",\"red\",\"red\",\"red\",\"red\",\"red\",\"red\",\"red\",\"red\",\"red\",\"red\",\"red\",\"red\",\"red\",\"red\",\"red\",\"red\",\"red\",\"red\",\"red\",\"red\",\"red\",\"red\",\"red\",\"red\",\"red\",\"red\",\"red\",\"red\",\"red\",\"red\",\"red\",\"red\",\"red\",\"red\",\"red\",\"red\",\"red\",\"red\",\"red\",\"red\",\"red\",\"red\",\"red\",\"red\",\"red\",\"red\",\"red\",\"red\",\"red\",\"red\",\"red\",\"red\",\"red\",\"red\",\"red\",\"red\",\"red\",\"red\",\"red\",\"red\",\"red\",\"red\",\"red\",\"red\",\"red\",\"red\",\"red\",\"red\",\"red\",\"red\",\"red\",\"red\",\"red\",\"red\",\"red\",\"red\",\"red\",\"red\",\"red\",\"red\",\"red\",\"red\",\"red\",\"red\",\"red\",\"red\",\"red\",\"red\",\"red\",\"red\",\"red\",\"red\",\"red\",\"red\",\"red\",\"red\",\"red\",\"red\",\"red\",\"red\",\"red\",\"red\",\"red\",\"red\",\"red\",\"red\",\"red\",\"red\",\"red\",\"red\",\"red\",\"red\",\"red\",\"red\",\"red\",\"red\",\"red\",\"red\",\"red\",\"red\",\"red\",\"red\",\"red\",\"red\",\"red\",\"red\",\"red\",\"red\",\"red\",\"red\",\"red\",\"red\",\"red\",\"red\",\"red\",\"red\",\"red\",\"red\",\"red\",\"red\",\"red\",\"red\",\"red\",\"red\",\"red\",\"red\",\"red\",\"red\",\"red\",\"red\",\"red\",\"red\",\"red\",\"red\",\"red\",\"red\",\"red\",\"red\",\"red\",\"red\",\"red\",\"red\",\"red\",\"red\",\"red\",\"red\",\"red\",\"red\",\"red\",\"red\",\"red\",\"red\",\"red\",\"red\",\"red\",\"red\",\"red\",\"red\",\"red\",\"red\",\"red\",\"red\",\"red\",\"red\",\"red\",\"red\",\"red\",\"red\",\"red\",\"red\",\"red\",\"red\",\"red\",\"red\",\"red\",\"red\",\"red\",\"red\",\"red\",\"red\",\"red\",\"red\",\"red\",\"red\",\"red\",\"red\",\"red\",\"red\",\"red\",\"red\",\"red\",\"red\",\"red\",\"red\",\"red\",\"red\",\"red\",\"red\",\"red\",\"red\",\"red\",\"red\",\"red\",\"red\",\"red\",\"red\",\"red\",\"red\",\"red\",\"red\",\"red\",\"red\",\"red\",\"red\",\"red\",\"red\",\"red\",\"red\",\"red\",\"red\",\"red\",\"red\",\"red\",\"red\",\"red\",\"red\",\"red\",\"red\",\"red\",\"red\",\"red\",\"red\",\"red\",\"red\",\"red\",\"red\",\"red\",\"red\",\"red\",\"red\",\"red\",\"red\",\"red\",\"red\",\"red\",\"red\",\"red\",\"red\",\"red\",\"red\",\"red\",\"red\",\"red\",\"red\",\"red\",\"red\",\"red\",\"red\",\"red\",\"red\",\"red\",\"red\",\"red\",\"red\",\"red\",\"red\",\"red\",\"red\",\"red\",\"red\",\"red\",\"red\",\"red\",\"red\",\"red\",\"red\",\"red\",\"red\",\"red\",\"red\",\"red\",\"red\",\"red\",\"red\",\"red\",\"red\",\"red\",\"red\",\"red\",\"red\",\"red\",\"red\",\"red\",\"red\",\"red\",\"red\",\"red\",\"red\",\"red\",\"red\",\"red\",\"red\",\"red\",\"red\",\"red\",\"red\",\"red\",\"red\",\"red\",\"red\",\"red\",\"red\",\"red\",\"red\",\"red\",\"red\",\"red\",\"red\",\"red\",\"red\",\"red\",\"red\",\"red\",\"red\",\"red\",\"red\",\"red\",\"red\",\"red\",\"red\",\"red\",\"red\",\"red\",\"red\",\"red\",\"red\",\"red\",\"red\",\"red\",\"red\",\"red\",\"red\",\"red\",\"red\",\"red\",\"red\",\"red\",\"red\",\"red\",\"red\",\"red\",\"red\",\"red\",\"red\",\"red\",\"red\",\"red\",\"red\",\"red\",\"red\",\"red\",\"red\",\"red\",\"red\",\"red\",\"red\",\"red\",\"red\",\"red\",\"red\",\"red\",\"red\",\"red\",\"red\",\"red\",\"red\",\"red\",\"red\",\"red\",\"red\",\"red\",\"red\",\"red\",\"red\",\"red\",\"red\",\"red\",\"red\",\"red\",\"red\",\"red\",\"red\",\"red\",\"red\",\"red\",\"red\",\"red\",\"red\",\"red\",\"red\",\"red\",\"red\",\"red\",\"red\",\"red\",\"red\",\"red\",\"red\",\"red\",\"red\",\"red\",\"red\",\"red\",\"red\",\"red\",\"red\",\"red\",\"red\",\"red\",\"red\",\"red\",\"red\",\"red\",\"red\",\"red\",\"red\",\"red\",\"red\",\"red\",\"red\",\"red\",\"red\",\"red\",\"red\",\"red\",\"red\",\"red\",\"red\",\"red\",\"red\",\"red\",\"red\",\"red\",\"red\",\"red\",\"red\",\"red\",\"red\",\"red\",\"red\",\"red\",\"red\",\"red\",\"red\",\"red\",\"red\",\"red\",\"red\",\"red\",\"red\",\"red\",\"red\",\"red\",\"red\",\"red\",\"red\",\"red\",\"red\",\"red\",\"red\",\"red\",\"red\",\"red\",\"red\",\"red\",\"red\",\"red\",\"red\",\"red\",\"red\",\"red\",\"red\",\"red\",\"red\",\"red\",\"red\",\"red\",\"red\",\"red\",\"red\",\"red\",\"red\",\"red\",\"red\",\"red\",\"red\",\"red\",\"red\",\"red\",\"red\",\"red\",\"red\",\"red\",\"red\",\"red\",\"red\",\"red\",\"red\",\"red\",\"red\",\"red\",\"red\",\"red\",\"red\",\"red\",\"red\",\"red\",\"red\",\"red\",\"red\",\"red\",\"red\",\"red\",\"red\",\"red\",\"red\",\"red\",\"red\",\"red\",\"red\",\"red\",\"red\",\"red\",\"red\",\"red\",\"red\",\"red\",\"red\",\"red\",\"red\",\"red\",\"red\",\"red\",\"red\",\"red\",\"red\",\"red\",\"red\",\"red\",\"red\",\"red\",\"red\",\"red\",\"red\",\"red\",\"red\",\"red\",\"red\",\"red\",\"red\",\"red\",\"red\",\"red\",\"red\",\"red\",\"red\",\"red\",\"red\",\"red\",\"red\",\"red\",\"red\",\"red\",\"red\",\"red\",\"red\",\"red\",\"red\",\"red\",\"red\",\"red\",\"red\",\"red\",\"red\",\"red\",\"red\",\"red\",\"red\",\"red\",\"red\",\"red\",\"red\",\"red\",\"red\",\"red\",\"red\",\"red\",\"red\",\"red\",\"red\",\"red\",\"red\",\"red\",\"red\",\"red\",\"red\",\"red\",\"red\",\"red\",\"red\",\"red\",\"red\",\"red\",\"red\",\"red\",\"red\",\"red\",\"red\",\"red\",\"red\",\"red\",\"red\",\"red\",\"red\",\"red\",\"red\",\"red\",\"red\",\"red\",\"red\",\"red\",\"red\",\"red\",\"red\",\"red\",\"red\",\"red\",\"red\",\"red\",\"red\",\"red\",\"red\",\"red\",\"red\",\"red\",\"red\",\"red\",\"red\",\"red\",\"red\",\"red\",\"red\",\"red\",\"red\",\"red\",\"red\",\"red\",\"red\",\"red\",\"red\",\"red\",\"red\",\"red\",\"red\",\"red\",\"red\",\"red\",\"red\",\"red\",\"red\",\"red\",\"red\",\"red\",\"red\",\"red\",\"red\",\"red\",\"red\",\"red\",\"red\",\"red\",\"red\",\"red\",\"red\",\"red\",\"red\",\"red\",\"red\",\"red\",\"red\",\"red\",\"red\",\"red\",\"red\",\"red\",\"red\",\"red\",\"red\",\"red\",\"red\",\"red\",\"red\",\"red\",\"red\",\"red\",\"red\",\"red\",\"red\",\"red\",\"red\",\"red\",\"red\",\"red\",\"red\",\"red\",\"red\",\"red\",\"red\",\"red\",\"red\",\"red\",\"red\",\"red\",\"red\",\"red\",\"red\",\"red\",\"red\",\"red\",\"red\",\"red\",\"red\",\"red\",\"red\",\"red\",\"red\",\"red\",\"red\",\"red\",\"red\",\"red\",\"red\",\"red\",\"red\",\"red\",\"red\",\"red\",\"red\",\"red\",\"red\",\"red\",\"red\",\"red\",\"red\",\"red\",\"red\",\"red\",\"red\",\"red\",\"red\",\"red\",\"red\",\"red\",\"red\",\"red\",\"red\",\"red\",\"red\",\"blue\",\"blue\",\"blue\",\"blue\",\"blue\",\"blue\",\"blue\",\"blue\",\"blue\",\"blue\",\"blue\",\"blue\",\"blue\",\"blue\",\"blue\",\"blue\",\"blue\",\"blue\",\"blue\",\"blue\",\"blue\",\"blue\",\"blue\",\"blue\",\"blue\",\"blue\",\"blue\",\"blue\",\"blue\",\"blue\",\"blue\",\"blue\",\"blue\",\"blue\",\"blue\",\"blue\",\"blue\",\"blue\",\"blue\",\"blue\",\"blue\",\"blue\",\"blue\",\"blue\",\"blue\",\"blue\",\"blue\",\"blue\",\"blue\",\"blue\",\"blue\",\"blue\",\"blue\",\"blue\",\"blue\",\"blue\",\"blue\",\"blue\",\"blue\",\"blue\",\"blue\",\"blue\",\"blue\",\"blue\",\"blue\",\"blue\",\"blue\",\"blue\",\"blue\",\"blue\",\"blue\",\"blue\",\"blue\",\"blue\",\"blue\",\"blue\",\"blue\",\"blue\",\"blue\",\"blue\",\"blue\",\"blue\",\"blue\",\"blue\",\"blue\",\"blue\",\"blue\",\"blue\",\"blue\",\"blue\",\"blue\",\"blue\",\"blue\",\"blue\",\"blue\",\"blue\",\"blue\",\"blue\",\"blue\",\"blue\",\"blue\",\"blue\",\"blue\",\"blue\",\"blue\",\"blue\",\"blue\",\"blue\",\"blue\",\"blue\",\"blue\",\"blue\",\"blue\",\"blue\",\"blue\",\"blue\",\"blue\",\"blue\",\"blue\",\"blue\",\"blue\",\"blue\",\"blue\",\"blue\",\"blue\",\"blue\",\"blue\",\"blue\",\"blue\",\"blue\",\"blue\",\"blue\",\"blue\",\"blue\",\"blue\",\"blue\",\"blue\",\"blue\",\"blue\",\"blue\",\"blue\",\"blue\",\"blue\",\"blue\",\"blue\",\"blue\",\"blue\",\"blue\",\"blue\",\"blue\",\"blue\",\"blue\",\"blue\",\"blue\",\"blue\",\"blue\",\"blue\",\"blue\",\"blue\",\"blue\",\"blue\",\"blue\",\"blue\",\"blue\",\"blue\",\"blue\",\"blue\",\"blue\",\"blue\",\"blue\",\"blue\",\"blue\",\"blue\",\"blue\",\"blue\",\"blue\",\"blue\",\"blue\",\"blue\",\"blue\",\"blue\",\"blue\",\"blue\",\"blue\",\"blue\",\"blue\",\"blue\",\"blue\",\"blue\",\"blue\",\"blue\",\"blue\",\"blue\",\"blue\",\"blue\",\"blue\",\"blue\",\"blue\",\"blue\",\"blue\",\"blue\",\"blue\",\"blue\",\"blue\",\"blue\",\"blue\",\"blue\",\"blue\",\"blue\",\"blue\",\"blue\",\"blue\",\"blue\",\"blue\",\"blue\",\"blue\",\"blue\",\"blue\",\"blue\",\"blue\",\"blue\",\"blue\",\"blue\",\"blue\",\"blue\",\"blue\",\"blue\",\"blue\",\"blue\",\"blue\",\"blue\",\"blue\",\"blue\",\"blue\",\"blue\",\"blue\",\"blue\",\"blue\",\"blue\",\"blue\",\"blue\",\"blue\",\"blue\",\"blue\",\"blue\",\"blue\",\"blue\",\"blue\",\"blue\",\"blue\",\"blue\",\"blue\",\"blue\",\"blue\",\"blue\",\"blue\",\"blue\",\"blue\",\"blue\",\"blue\",\"blue\",\"blue\",\"blue\",\"blue\",\"blue\",\"blue\",\"blue\",\"blue\",\"blue\",\"blue\",\"blue\",\"blue\",\"blue\",\"blue\",\"blue\",\"blue\",\"blue\",\"blue\",\"blue\",\"blue\",\"blue\",\"blue\",\"blue\",\"blue\",\"blue\",\"blue\",\"blue\",\"blue\",\"blue\",\"blue\",\"blue\",\"blue\",\"blue\",\"blue\",\"blue\",\"blue\",\"blue\",\"blue\",\"blue\",\"blue\",\"blue\",\"blue\",\"blue\",\"blue\",\"blue\",\"blue\",\"blue\",\"blue\",\"blue\",\"blue\",\"blue\",\"blue\",\"blue\",\"blue\",\"blue\",\"blue\",\"blue\",\"blue\",\"blue\",\"blue\",\"blue\",\"blue\",\"blue\",\"blue\",\"blue\",\"blue\",\"blue\",\"blue\",\"blue\",\"blue\",\"blue\",\"blue\",\"blue\",\"blue\",\"blue\",\"blue\",\"blue\",\"blue\",\"blue\",\"blue\",\"blue\",\"blue\",\"blue\",\"blue\",\"blue\",\"blue\",\"blue\",\"blue\",\"blue\",\"blue\",\"blue\",\"blue\",\"blue\",\"blue\",\"blue\",\"blue\",\"blue\",\"blue\",\"blue\",\"blue\",\"blue\",\"blue\",\"blue\",\"blue\",\"blue\",\"blue\",\"blue\",\"blue\",\"blue\",\"blue\",\"blue\",\"blue\",\"blue\",\"blue\",\"blue\",\"blue\",\"blue\",\"blue\",\"blue\",\"blue\",\"blue\",\"blue\",\"blue\",\"blue\",\"blue\",\"blue\",\"blue\",\"blue\",\"blue\",\"blue\",\"blue\",\"blue\",\"blue\",\"blue\",\"blue\",\"blue\",\"blue\",\"blue\",\"blue\",\"blue\",\"blue\",\"blue\",\"blue\",\"blue\",\"blue\",\"blue\",\"blue\",\"blue\",\"blue\",\"blue\",\"blue\",\"blue\",\"blue\",\"blue\",\"blue\",\"blue\",\"blue\",\"blue\",\"blue\",\"blue\",\"blue\",\"blue\",\"blue\",\"blue\",\"blue\",\"blue\",\"blue\",\"blue\",\"blue\",\"blue\",\"blue\",\"blue\",\"blue\",\"blue\",\"blue\",\"blue\",\"blue\",\"blue\",\"blue\",\"blue\",\"blue\",\"blue\",\"blue\",\"blue\",\"blue\",\"blue\",\"blue\",\"blue\",\"blue\",\"blue\",\"blue\",\"blue\",\"blue\",\"blue\",\"blue\",\"blue\",\"blue\",\"blue\",\"blue\",\"blue\",\"blue\",\"blue\",\"blue\",\"blue\",\"blue\",\"blue\",\"blue\",\"blue\",\"blue\",\"blue\",\"blue\",\"blue\",\"blue\",\"blue\",\"blue\",\"blue\",\"blue\",\"blue\",\"blue\",\"blue\",\"blue\",\"blue\",\"blue\",\"blue\",\"blue\",\"blue\",\"blue\",\"blue\",\"blue\",\"blue\",\"blue\",\"blue\",\"blue\",\"blue\",\"blue\",\"blue\",\"blue\",\"blue\",\"blue\",\"blue\",\"blue\",\"blue\",\"blue\",\"blue\",\"blue\",\"blue\",\"blue\",\"blue\",\"blue\",\"blue\",\"blue\",\"blue\",\"blue\",\"blue\",\"blue\",\"blue\",\"blue\",\"blue\",\"blue\",\"blue\",\"blue\",\"blue\",\"blue\",\"blue\",\"blue\",\"blue\",\"blue\",\"blue\",\"blue\",\"blue\",\"blue\",\"blue\",\"blue\",\"blue\",\"blue\",\"blue\",\"blue\",\"blue\",\"blue\",\"blue\",\"blue\",\"blue\",\"blue\",\"blue\",\"blue\",\"blue\",\"blue\",\"blue\",\"blue\",\"blue\",\"blue\",\"blue\",\"blue\",\"blue\",\"blue\",\"blue\",\"blue\",\"blue\",\"blue\",\"blue\",\"blue\",\"blue\",\"blue\",\"blue\",\"blue\",\"blue\",\"blue\",\"blue\",\"blue\",\"blue\",\"blue\",\"blue\",\"blue\",\"blue\",\"blue\",\"blue\",\"blue\",\"blue\",\"blue\",\"blue\",\"blue\",\"blue\",\"blue\",\"blue\",\"blue\",\"blue\",\"blue\",\"blue\",\"blue\",\"blue\",\"blue\",\"blue\",\"blue\",\"blue\",\"blue\",\"blue\",\"blue\",\"blue\",\"blue\",\"blue\",\"blue\",\"blue\",\"blue\",\"blue\",\"blue\",\"blue\",\"blue\",\"blue\",\"blue\",\"blue\",\"blue\",\"blue\",\"blue\",\"blue\",\"blue\",\"blue\",\"blue\",\"blue\",\"blue\",\"blue\",\"blue\",\"blue\",\"blue\",\"blue\",\"blue\",\"blue\",\"blue\",\"blue\",\"blue\",\"blue\",\"blue\",\"blue\",\"blue\",\"blue\",\"blue\",\"blue\",\"blue\",\"blue\",\"blue\",\"blue\",\"blue\",\"blue\",\"blue\",\"blue\",\"blue\",\"blue\",\"blue\",\"blue\",\"blue\",\"blue\",\"blue\",\"blue\",\"blue\",\"blue\",\"blue\",\"blue\",\"blue\",\"blue\",\"blue\",\"blue\",\"blue\",\"blue\",\"blue\",\"blue\",\"blue\",\"blue\",\"blue\",\"blue\",\"blue\",\"blue\",\"blue\",\"blue\",\"blue\",\"blue\",\"blue\",\"blue\",\"blue\",\"blue\",\"blue\",\"blue\",\"blue\",\"blue\",\"blue\",\"blue\",\"blue\",\"blue\",\"blue\",\"blue\",\"blue\",\"blue\",\"blue\",\"blue\",\"blue\",\"blue\",\"blue\",\"blue\",\"blue\",\"blue\",\"blue\",\"blue\",\"blue\",\"blue\",\"blue\",\"blue\",\"blue\",\"blue\",\"blue\",\"blue\",\"blue\",\"blue\",\"blue\",\"blue\",\"blue\",\"blue\",\"blue\",\"blue\",\"blue\",\"blue\",\"blue\",\"blue\",\"blue\",\"blue\",\"blue\",\"blue\",\"blue\",\"blue\",\"blue\",\"blue\",\"blue\",\"blue\",\"blue\",\"blue\",\"blue\",\"blue\",\"blue\",\"blue\",\"blue\",\"blue\",\"blue\",\"blue\",\"blue\",\"blue\",\"blue\",\"blue\",\"blue\",\"blue\",\"blue\",\"blue\",\"blue\",\"blue\",\"blue\",\"blue\",\"blue\",\"blue\",\"blue\",\"blue\",\"blue\",\"blue\",\"blue\",\"blue\",\"blue\",\"blue\",\"blue\",\"blue\",\"blue\",\"blue\",\"blue\",\"blue\",\"blue\",\"blue\",\"blue\",\"blue\",\"blue\",\"blue\",\"blue\",\"blue\",\"blue\",\"blue\",\"blue\",\"blue\",\"blue\",\"blue\",\"blue\",\"blue\",\"blue\",\"blue\",\"blue\",\"blue\",\"blue\",\"blue\",\"blue\",\"blue\",\"blue\",\"blue\",\"blue\",\"blue\",\"blue\",\"blue\",\"blue\",\"blue\",\"blue\",\"blue\",\"blue\",\"blue\",\"blue\",\"blue\",\"blue\",\"blue\",\"blue\",\"blue\",\"blue\",\"blue\",\"blue\",\"blue\",\"blue\",\"blue\",\"blue\",\"blue\",\"blue\",\"blue\",\"blue\",\"blue\",\"blue\",\"blue\",\"blue\",\"blue\",\"blue\",\"blue\",\"blue\",\"blue\",\"blue\",\"blue\",\"blue\",\"blue\",\"blue\",\"blue\",\"blue\",\"blue\",\"blue\",\"blue\",\"blue\",\"blue\",\"blue\",\"blue\",\"blue\",\"blue\",\"blue\",\"blue\",\"blue\",\"blue\",\"blue\",\"blue\",\"blue\",\"blue\",\"blue\",\"blue\",\"blue\",\"blue\",\"blue\",\"blue\",\"blue\",\"blue\",\"blue\",\"blue\",\"blue\",\"blue\",\"blue\",\"blue\",\"blue\",\"blue\"],\"names\":[\"ofloxacin\",\"insulin\",\"nph\",\"colace\",\"percocet\",\"coumadin\",\"heparin\",\"vancomycin\",\"axid\",\"lopressor\",\"zestril\",\"ecotrin\",\"isordil\",\"urokinase\",\"lente\",\"antibiotics\",\"epinephrine\",\"humalog\",\"aspirin\",\"lasix\",\"motrin\",\"nasal\",\"cannula\",\"atenolol\",\"metformin\",\"potassium\",\"chloride\",\"slow\",\"release\",\"ciprofloxacin\",\"novolog\",\"baby\",\"lantus\",\"glucophage\",\"lovenox\",\"klonopin\",\"celexa\",\"fresh\",\"frozen\",\"plasma\",\"lipitor\",\"plavix\",\"captopril\",\"zocor\",\"packed\",\"red\",\"blood\",\"cells\",\"nitroglycerin\",\"tylenol\",\"neurontin\",\"folate\",\"pain\",\"medication\",\"phoslo\",\"lyrica\",\"gemfibrozil\",\"ketamine\",\"medications\",\"unasyn\",\"renagel\",\"fentanyl\",\"pca\",\"nephrocaps\",\"levofloxacin\",\"flagyl\",\"oxycontin\",\"requip\",\"aspart\",\"protonix\",\"ativan\",\"oxycodone\",\"augmentin\",\"lisinopril\",\"digoxin\",\"troglipazone\",\"magnesium\",\"oxide\",\"simvastatin\",\"clonazepam\",\"ptu\",\"isosorbide\",\"amiodarone\",\"levothyroxine\",\"sodium\",\"glipizide\",\"cefpodoxime\",\"haldol\",\"depakote\",\"ceftriaxone\",\"albuterol\",\"butt\",\"paste\",\"gabapentin\",\"loperamide\",\"thiamine\",\"nexium\",\"sevelamer\",\"labetalol\",\"inhaler\",\"norvasc\",\"nifedipine\",\"extended\",\"hydrochlorothiazide\",\"linezolid\",\"sarna\",\"warfarin\",\"acetylsalicylic\",\"acid\",\"kcl\",\"immediate\",\"vanc\",\"ada\",\"levo\",\"glyburide\",\"trazodone\",\"micronase\",\"verapamil\",\"<num>\",\"loratadine\",\"mgoxide\",\"singulair\",\"ambien\",\"sustained\",\"keflex\",\"patanol\",\"effexor\",\"atrovent\",\"amox\",\"loratidine\",\"rhinocort\",\"contrast\",\"dye\",\"enalapril\",\"cardizem\",\"nafcillin\",\"dicloxacillin\",\"diuretic\",\"regimen\",\"spironolactone\",\"torsemide\",\"pletal\",\"procrit\",\"zantac\",\"antibiotic\",\"fluoroquinolone\",\"clindamycin\",\"metolazone\",\"electrolytes\",\"hydralazine\",\"anticoagulation\",\"procardia\",\"revatio\",\"oxygen\",\"home\",\"dilaudid\",\"allopurinol\",\"indocin\",\"narcotics\",\"prilosec\",\"diovan\",\"multivitamin\",\"colchicine\",\"beta\",\"blocker\",\"pendalol\",\"amoxicillin\",\"prinivil\",\"synthroid\",\"pepcid\",\"ace\",\"inhibitor\",\"statin\",\"beclomethasone\",\"diproprionate\",\"double\",\"strength\",\"spray\",\"toprol\",\"xl\",\"imdur\",\"valsartan\",\"atorvastatin\",\"b<num>\",\"levoxyl\",\"neosynephrine\",\"tpa\",\"amlodipine\",\"enteric\",\"coated\",\"cefotaxime\",\"diltiazem\",\"czi\",\"nortriptyline\",\"fluoxetine\",\"diuril\",\"advair\",\"steroid\",\"cardiac\",\"meds\",\"zetia\",\"diskus\",\"prednisone\",\"taper\",\"streptokinase\",\"multivitamins\",\"xanax\",\"nitrates\",\"blockade\",\"drip\",\"calcium\",\"channel\",\"nitroglycerins\",\"antacids\",\"serax\",\"docusate\",\"losartan\",\"terazosin\",\"hcl\",\"pantoprazole\",\"asa\",\"mg\",\"above\",\"bb\",\"ppi\",\"darvocet\",\"tordal\",\"humulin\",\"lotensin\",\"supplement\",\"ketorolac\",\"crystalloid\",\"vicodan\",\"naprosyn\",\"halcion\",\"folic\",\"ramipril\",\"clopidogrel\",\"tng\",\"mso<num>\",\"ccb\",\"htn\",\"iron\",\"sulfate\",\"regular\",\"xalatan\",\"eye\",\"drops\",\"metoprolol\",\"senna\",\"tablets\",\"nitrate\",\"supplementation\",\"ferrous\",\"combivent\",\"dinitrate\",\"tartrate\",\"carafate\",\"flexeril\",\"etomidate\",\"succinylcholine\",\"versed\",\"ffp\",\"cd\",\"metamucil\",\"sr\",\"zyprexa\",\"blockers\",\"inhibitors\",\"furosemide\",\"ginger\",\"product\",\"cell\",\"morphine\",\"nitro\",\"flomax\",\"cepacol\",\"claritin\",\"steroids\",\"bp\",\"diclox\",\"pneumovax\",\"neoral\",\"cyclosporine\",\"products\",\"dilt\",\"amio\",\"ecasa\",\"hctz\",\"rocaltrol\",\"erythromycin\",\"oral\",\"carvedilol\",\"niacin\",\"levoflox\",\"duonebs\",\"coreg\",\"nitropaste\",\"cardura\",\"vasotec\",\"pressure\",\"enoxaparin\",\"o<num>\",\"sprays\",\"statins\",\"er\",\"hep\",\"gtt\",\"acei\",\"ssi\",\"your\",\"accupril\",\"avandia\",\"adenosine\",\"bactrim\",\"celebrex\",\"antiinflammatory\",\"prozac\",\"human\",\"aldactone\",\"this\",\"with\",\"minerals\",\"miconazole\",\"powder\",\"cellcept\",\"pravachol\",\"vitamin\",\"d\",\"fosamax\",\"dulcolax\",\"e\",\"c\",\"fondaparinux\",\"caltrate\",\"plus\",\"niaspan\",\"abx\",\"these\",\"diabeta\",\"paxil\",\"trazadone\",\"ultram\",\"bactroban\",\"ointment\",\"reglan\",\"afrin\",\"lotrisone\",\"cream\",\"proventil\",\"inhalers\",\"ancef\",\"hibiclenz\",\"azmacort\",\"nebulizer\",\"autologous\",\"transfusion\",\"diuretics\",\"quinine\",\"famotidine\",\"ntg\",\"bolus\",\"nsaids\",\"lorazepam\",\"atovaquone\",\"bisulfate\",\"naproxen\",\"pred\",\"pcp\",\"ppx\",\"zoloft\",\"pressors\",\"glucotrol\",\"ceftizoxime\",\"penicillin\",\"fluid\",\"ceftazidime\",\"nystatin\",\"suspension\",\"g\",\"milk\",\"of\",\"magnesia\",\"liquid\",\"fluids\",\"ceptaz\",\"k\",\"bowel\",\"supplements\",\"perioperative\",\"levaquin\",\"baclofen\",\"cymbalta\",\"lamictal\",\"nicoderm\",\"patch\",\"ducolox\",\"lactulose\",\"mylanta\",\"seroquel\",\"sedating\",\"antipsychotics\",\"chemotherapy\",\"tramadol\",\"zydis\",\"plaquenil\",\"cefuroxime\",\"azithromycin\",\"amitriptyline\",\"clotrimazole\",\"nebs\",\"phenytoin\",\"bicarbonate\",\"sulfamethoxazole\",\"esomeprazole\",\"darbepoetin\",\"alfa\",\"dilantin\",\"lopressol\",\"kayexylate\",\"prbc\",\"darbopoetin\",\"nitroprusside\",\"diabinese\",\"diflucan\",\"fluconazole\",\"maalox\",\"remeron\",\"ranitidine\",\"dobutamine\",\"medicines\",\"chloral\",\"hydrate\",\"compazine\",\"phenothiazines\",\"trilafon\",\"normal\",\"saline\",\"nsaid\",\"epogen\",\"cipro\",\"flonase\",\"flovent\",\"tamoxifen\",\"catapres\",\"tartarate\",\"ocean\",\"doxazosin\",\"proxetil\",\"replacement\",\"lithium\",\"parnate\",\"pressor\",\"beclovent\",\"fibercon\",\"mvi\",\"novolin\",\"elixir\",\"citalopram\",\"rhogam\",\"vitamins\",\"vasopressin\",\"dopamine\",\"troponin\",\"argatroban\",\"mucomyst\",\"propofol\",\"triple\",\"osmolite\",\"chloraseptic\",\"gentamicin\",\"therapeutic\",\"nebulizers\",\"prochlorperazine\",\"librium\",\"gluconate\",\"timolol\",\"tagamet\",\"niferex\",\"ibuprofen\",\"bicarb\",\"epi\",\"integrilin\",\"levophed\",\"diabetes\",\"mgsulfate\",\"mom\",\"decadron\",\"tricor\",\"prednisolone\",\"gadolinium\",\"resuscitation\",\"kayexalate\",\"ferrlecit\",\"atropine\",\"lispro\",\"duoneb\",\"metoclopramide\",\"quinapril\",\"simethicone\",\"carbonate\",\"cartia\",\"xt\",\"methotrexate\",\"pravastatin\",\"cyclosporin\",\"sucralfate\",\"cozaar\",\"lescol\",\"inderal\",\"persantine\",\"ideral\",\"glucose\",\"aspirin<num>\",\"maleate\",\"immodium\",\"phosphate\",\"b\",\"med\",\"tiazac\",\"glucometer\",\"methadone\",\"cefepime\",\"ditropan\",\"monistat\",\"corticosteroids\",\"unfractionated\",\"thorazine\",\"benztropine\",\"mesylate\",\"chlorpromazine\",\"lisinipril\",\"hypoglycemics\",\"extra\",\"his\",\"hfa\",\"aspartate\",\"solsite\",\"arb\",\"ipratropium\",\"duoderm\",\"ticlid\",\"tablet\",\"allegra\",\"vit\",\"alphagam\",\"gtts\",\"clobetizol\",\"acephex\",\"ferrex\",\"other\",\"apap\",\"ivf\",\"glypizide\",\"regimens\",\"cytovene\",\"ganciclovir\",\"nadolol\",\"gentamycin\",\"antihypertensive\",\"thyroid\",\"cortizone\",\"inp\",\"dipyridamole\",\"pack\",\"besylate\",\"azithro\",\"cvp\",\"bcnu\",\"imuran\",\"miralax\",\"msir\",\"pamidronate\",\"acyclovir\",\"tums\",\"dexamethasone\",\"sennosides\",\"mepron\",\"candesartan\",\"mscontin\",\"ms\",\"contin\",\"ciprrfloxacin\",\"econazole\",\"omeprazole\",\"per\",\"ml\",\"solution\",\"tpn\",\"irbesartan\",\"amitryptilline\",\"lactobacillus\",\"glargine\",\"mononitrate\",\"oxacillin\",\"pcn\",\"ctx\",\"prandin\",\"zinc\",\"calcitriol\",\"aranesp\",\"nesiritide\",\"hytrin\",\"bextra\",\"zofran\",\"slng\",\"integrelin\",\"aceinh\",\"keppra\",\"truvada\",\"norvir\",\"lomotil\",\"lexiva\",\"imodium\",\"probenecid\",\"coumadine\",\"metrogel\",\"acebutolol\",\"risperdal\",\"lidocaine\",\"boluses\",\"taxol\",\"premarin\",\"ansaid\",\"antihypertensives\",\"cefazolin\",\"acetaminophen\",\"robitussin\",\"rifampin\",\"labetalol<num>\",\"ventolin\",\"linsinopril\",\"inhale\",\"dht\",\"stelazine\",\"betaxolol\",\"questran\",\"pilocarpine\",\"ac\",\"reg\",\"rocephin\",\"feso<num>\",\"calcitonin\",\"kayexelate\",\"d<num>x<num>\",\"lopid\",\"alphagan\",\"inhibition\",\"ischemics\",\"relafen\",\"opium\",\"tincture\",\"atapryl\",\"outpatient\",\"kaopectate\",\"mitozalone\",\"rezulin\",\"finasteride\",\"restoril\",\"leni\",\"diabetic\",\"cephradine\",\"tylox\",\"ns\",\"inuslin\",\"plavix<num>\",\"asa<num>\",\"carnitidine\",\"digitek\",\"mycophenolate\",\"mofetil\",\"oxybutynin\",\"succinate\",\"micronized\",\"injections\",\"colestipol\",\"hydrochloride\",\"zemplar\",\"klorcon\",\"opiates\",\"avadia\",\"caco<num>\",\"riss\",\"metop\",\"p\",\"zaroxolyn\",\"tessalon\",\"d<num>w\",\"codeine\",\"antianginal\",\"therapy\",\"benicar\",\"antidepressants\",\"nicotine\",\"adalat\",\"pills\",\"dyazide\",\"nose\",\"cyproheptadine\",\"nipride\",\"ampicillin\",\"guaifenesin\",\"her\",\"d<num>\",\"low\",\"molecular\",\"weight\",\"norepinephrine\",\"inotrops\",\"onoptrops\",\"vaso\",\"sedation\",\"nicardipine\",\"naturale\",\"tears\",\"lactinex\",\"granules\",\"panafil\",\"analgesic\",\"deltasone\",\"senokot\",\"lexapro\",\"ventavis\",\"cephalopsporins\",\"tracleer\",\"oceanspray\",\"nitrospray\",\"arbs\",\"stool\",\"softeners\",\"mevacor\",\"seldane\",\"isoril\",\"propranolol\",\"capoten\",\"ds\",\"clonopin\",\"mycostatin\",\"qdcalcitriol\",\"qdcalcium\",\"tidlasix\",\"transdermal\",\"qdzocor\",\"benazepril\",\"celondin\",\"atorva\",\"simva\",\"benadry\",\"primidone\",\"otc\",\"iss\",\"celecoxib\",\"narcotic\",\"lidoderm\",\"metronidazol\",\"zometa\",\"demerol\",\"ultralente\",\"adriamycin\",\"elavil\",\"clarithromycin\",\"biaxin\",\"procainamide\",\"meclizine\",\"zincate\",\"meropenem\",\"gentle\",\"hydration\",\"aprotinin\",\"nitrofurantoin\",\"imipenem\",\"chlorhexidine\",\"geodon\",\"sertraline\",\"ziprasidone\",\"bromide\",\"enoxaprin\",\"navelbine\",\"vanco\",\"<num>uprbc\",\"citrate\",\"polysaccharide\",\"complex\",\"xr\",\"wellbutrin\",\"minipress\",\"valium\",\"corvert\",\"cough\",\"medicine\",\"silvadene\",\"valacyclovir\",\"erythropoietin\",\"ergocalciferol\",\"ethanol\",\"lovastatin\",\"nitroglycerine\",\"cholestyramine\",\"saver\",\"levatol\",\"actos\",\"avapro\",\"milrinone\",\"eplerenone\",\"temazepam\",\"cosopt\",\"travatan\",\"lyte\",\"cpap\",\"reopro\",\"agonist\",\"theophylline\",\"releas\",\"benadryl\",\"provastatin\",\"epivir\",\"actinomycin\",\"cytoxan\",\"bleomycin\",\"cisplatin\",\"lamivudine\",\"prenatal\",\"suppository\",\"indomethacin\",\"tamsulosin\",\"cisapride\",\"provera\",\"bismuth\",\"methyldopa\",\"advil\",\"alternagel\",\"estrogen\",\"stanozolol\",\"coum\",\"stanazolol\",\"seretide\",\"ionotropes\",\"hydrocortisone\",\"hypoglycemic\",\"zaroxylyn\",\"aciphex\",\"lilly\",\"pen\",\"betadine\",\"paint\",\"asacol\",\"thrombolysis\",\"lopipd\",\"maxide\",\"alimta\",\"aztreonam\",\"neupogen\",\"transfusions\",\"chemo\",\"rbc\",\"platelet\",\"cortisol\",\"peridex\",\"mouth\",\"wash\",\"cefixime\",\"that\",\"serevent\",\"trusopt\",\"pulmicort\",\"suprax\",\"dextran\",\"tenormin\",\"mannitol\",\"valproic\",\"fioricet\",\"labetolol\",\"the\",\"following\",\"tofranil\",\"vistaril\",\"methylprednisolone\",\"proscar\",\"alcohol\",\"vasopressor\",\"toradol\",\"macrolide\",\"antibio\",\"tic\",\"hydromorphone\",\"fondapurinox\",\"tarceva\",\"levocarnitine\",\"salmeterol\",\"xinafoate\",\"zaroxyln\",\"dextromethorphan\",\"hbr\",\"pindolol\",\"mgso<num>\",\"rosiglitazone\",\"cefalosporins\",\"angiotension\",\"receptor\",\"iv\",\"softener\",\"fosomax\",\"cardiovascular\",\"diprosone\",\"psyllium\",\"advils\",\"byetta\",\"fluticasone\",\"copd\",\"syrup\",\"analgesia\",\"roxicet\",\"qugmentin\",\"timoptic\",\"xylatan\",\"novalog\",\"general\",\"anesthesia\",\"cefotetan\",\"kefzol\",\"controlled\",\"felodipine\",\"guqifenesin\",\"prempro\",\"tapazole\",\"artificial\",\"atc\",\"actonel\",\"darvon\",\"diazepam\",\"torsamide\",\"betablocker\",\"ceftaz\",\"dm\",\"rx\",\"asp\",\"perels\",\"guiatuss\",\"bicitra\",\"micromeral\",\",\",\":\",\"and\",\"was\",\"to\",\"on\",\"a\",\"patient\",\"in\",\"for\",\")\",\"she\",\"(\",\"<num>/<num>/<num>\",\"no\",\"<num>.<num>\",\"he\",\"discharge\",\"at\",\"|\",\"is\",\"had\",\"as\",\"po\",\"by\",\"history\",\"admission\",\"p.o.\",\"an\",\"be\",\"day\",\"were\",\"<num>/<num>\",\"or\",\"left\",\"has\",\"hospital\",\"status\",\"which\",\"right\",\"-\",\"chest\",\"not\",\"date\",\"<num>%\",\".\",\"dr\",\"<num>-<num>\",\"will\",\"from\",\"course\",\"daily\",\"override\",\"have\",\"<num>-<num>-<num>\",\"also\",\"showed\",\"disease\",\"time\",\"well\",\"heart\",\"after\",\"up\",\"/\",\"but\",\"<num>:<num>\",\"am\",\"one\",\"artery\",\"stable\",\"medical\",\"there\",\"m.d\",\"interaction\",\"diagnosis\",\"qd\",\"coronary\",\"report\",\"pt\",\"days\",\"rate\",\"past\",\"given\",\"negative\",\"post\",\"units\",\"two\",\"if\",\"follow\",\"without\",\"continued\",\"examination\",\"been\",\"it\",\"b.i.d.\",\"service\",\"******\",\"noted\",\"summary\",\"renal\",\"admitted\",\"prior\",\"care\",\"signed\",\"bid\",\"did\",\"then\",\"physical\",\"any\",\"<num>:<num>:<num>\",\"revealed\",\"started\",\"attending\",\"diet\",\"pulmonary\",\"dis\",\"edema\",\"who\",\"discharged\",\"room\",\"m.d.\",\"condition\",\"present\",\"serious\",\"during\",\"patient's\",\"hypertension\",\"added\",\"breath\",\"weeks\",\"reason\",\"lower\",\"rhythm\",\"creatinine\",\"allergies\",\"failure\",\"dictated\",\"please\",\"q.d.\",\"potentially\",\"exam\",\"order\",\"however\",\"chronic\",\"three\",\"hematocrit\",\"t\",\"dose\",\"out\",\"mild\",\";\",\"#<num>\",\"clear\",\"pm\",\"are\",\"postoperative\",\"acute\",\"illness\",\"atrial\",\"increased\",\"significant\",\"white\",\"underwent\",\"some\",\"<num>+\",\"s/p\",\"times\",\"evidence\",\"ct\",\"over\",\"than\",\"disposition\",\"secondary\",\"shortness\",\"x\",\"hours\",\"abdominal\",\"further\",\"count\",\"s\",\"should\",\"ekg\",\"inr\",\"prn\",\"treated\",\"surgery\",\"positive\",\"p.r.n.\",\"principal\",\"bilaterally\",\"when\",\"abdomen\",\"transferred\",\"q\",\"alert\",\"family\",\"changes\",\"unit\",\"extremities\",\"felt\",\"s<num>\",\"remained\",\"catheterization\",\"all\",\"likely\",\"you\",\"code\",\"orders\",\"number\",\"take\",\"#\",\"symptoms\",\"placed\",\"*\",\"while\",\"respiratory\",\"'s\",\"x-ray\",\"call\",\"week\",\"d/c\",\"w/\",\"cc\",\"extremity\",\"md\",\"instructions\",\"follow-up\",\"instruction\",\"upper\",\"center\",\"upon\",\"q.\",\"back\",\"full\",\"due\",\"myocardial\",\"give\",\"sinus\",\"stenosis\",\"end\",\"infarction\",\"soft\",\"bilateral\",\"primary\",\"procedures\",\"study\",\"found\",\"continue\",\"good\",\"initially\",\"received\",\"seen\",\"old\",\"t.i.d.\",\"tolerated\",\"elevated\",\"ventricular\",\"known\",\"intact\",\"baseline\",\"year\",\"presented\",\"laboratory\",\"none\",\"procedure\",\"food/drg\",\"complications\",\"emergency\",\"may\",\"chf\",\"&\",\"until\",\"fibrillation\",\"neck\",\"followed\",\"multiple\",\"total\",\"decreased\",\"starting\",\"graft\",\"unsigned\",\"once\",\"<num>-year-old\",\"mr\",\"nausea\",\"):\",\"evaluation\",\"previous\",\"since\",\"sounds\",\"<num>mg\",\"&amp;\",\"additional\",\"surgical\",\"function\",\"social\",\"performed\",\"infection\",\"ed\",\"approximately\",\"bypass\",\"aortic\",\"urine\",\"<num>.\",\"last\",\"tube\",\"allergy\",\"air\",\"ref\",\"within\",\"mellitus\",\"resume\",\"throughout\",\"temperature\",\"gi\",\"we\",\"recent\",\"four\",\"signs\",\"congestive\",\"every\",\"q<num>h\",\"required\",\"treatment\",\"years\",\"doses\",\"new\",\"more\",\"systolic\",\"lungs\",\"ejection\",\"possible\",\"use\",\"valve\",\"developed\",\"brief\",\"before\",\"improved\",\"cad\",\"now\",\"anterior\",\"taken\",\"bun\",\"head\",\"severe\",\"appointment\",\"small\",\"pulses\",\"otherwise\",\"x<num>\",\"activity\",\"l\",\"female\",\"admit\",\"need\",\"consistent\",\"ischemia\",\"denies\",\"pneumonia\",\"only\",\"lad\",\"hold\",\"today\",\"high\",\"several\",\"scan\",\"aware\",\"cultures\",\"used\",\"fraction\",\"where\",\"note\",\"wound\",\"stay\",\"notable\",\"scale\",\"<num>s\",\"mi\",\"lesion\",\"overridden\",\"afebrile\",\"mitral\",\"r\",\"distress\",\"echo\",\"discontinued\",\"vomiting\",\"control\",\"house\",\"done\",\"very\",\"echocardiogram\",\"sig\",\"clinic\",\"needed\",\"h/o\",\"operations\",\"hospitalization\",\"sliding\",\"daily.\",\"record\",\"data\",\"episodes\",\"minutes\",\"@\",\"test\",\"exercise\",\"first\",\"because\",\"down\",\"physician\",\"both\",\"drug\",\"sent\",\"increasing\",\"fever\",\"floor\",\"would\",\"causing\",\"does\",\"carotid\",\"st\",\"tid\",\"id\",\"ef\",\"do\",\"ago\",\"greater\",\"obtained\",\"associated\",\"cm\",\"murmur\",\"infections\",\"scheduled\",\"subcutaneously\",\"most\",\"lung\",\"change\",\"knee\",\"vascular\",\"[report_end]\",\"off\",\"less\",\"repeat\",\"venous\",\"pulse\",\"morning\",\"anemia\",\"v<num>\",\"episode\",\"tab\",\"level\",\"cancer\",\"placement\",\"dyspnea\",\"obesity\",\"being\",\"heent\",\"male\",\"obese\",\"including\",\"yes\",\"diuresis\",\"able\",\"addition\",\"insufficiency\",\"platelets\",\"liver\",\"leg\",\"peripheral\",\"batch\",\"intensive\",\"comments\",\"resolved\",\"cardiology\",\"affecting\",\"twice\",\"they\",\"entered\",\"sc\",\"plan\",\"bs\",\"months\",\"thought\",\"subsequently\",\"o.r.\",\"night\",\"contingent\",\"bleeding\",\"dictation\",\"proximal\",\"<num>-<num>-<num>-<num>\",\"angina\",\"next\",\"age\",\"intravenous\",\"see\",\"worsening\",\"health\",\"about\",\"liters\",\"maintained\",\"studies\",\"q.<num>h.\",\"return\",\"vital\",\"demonstrated\",\"index\",\"woman\",\"wall\",\"through\",\"dry\",\"nontender\",\"held\",\"stomach\",\"setting\",\"mass\",\"so\",\"management\",\"notice\",\"recommended\",\"transfer\",\"saturation\",\"moderate\",\"monitor\",\"results\",\"labs\",\"mid\",\"mcg\",\"five\",\"six\",\"cath\",\"oriented\",\"cabg\",\"posterior\",\"operating\",\"rehabilitation\",\"volume\",\"lives\",\"mental\",\"hct\",\"large\",\"again\",\"<num>)\",\"stent\",\"sleep\",\"hip\",\"made\",\"fevers\",\"presents\",\"information\",\"urinary\",\"sob\",\"effusion\",\"hr\",\"distal\",\"[\",\"]\",\"i\",\"regurgitation\",\"arm\",\"included\",\"therefore\",\"milligrams\",\"meals\",\"taking\",\"consulted\",\"descending\",\"could\",\"poor\",\"avoid\",\"difficulty\",\"although\",\"report_end\",\"services\",\"removed\",\"foot\",\"loss\",\"having\",\"enzymes\",\"ruled\",\"skin\",\"type\",\"&apos;s\",\"auscultation\",\"depression\",\"recently\",\"department\",\"area\",\"asthma\",\"do/plan\",\"tenderness\",\"infectious\",\"applicable\",\"diarrhea\",\"complaint\",\"treatments/procedures\",\"diagnosis;conditions\",\"treatment/stay\",\";responsible\",\"followup\",\"vein\",\"march\",\"pe\",\"ptt\",\"q.i.d.\",\"appointment(\",\"reports\",\"him\",\"transplant\",\"diagnoses\",\"swelling\",\"inferior\",\"tachycardia\",\"lobe\",\"question\",\"became\",\"rehab\",\"went\",\"pending\",\"gram\",\"neuro\",\"ck\",\"culture\",\"exertion\",\"ii\",\"food\",\"risk\",\"light\",\"chills\",\"doctor\",\"ulcer\",\"range\",\"few\",\"work\",\"final\",\"point\",\"limits\",\"currently\",\"neg\",\"include\",\"second\",\"rest\",\"tobacco\",\"problems\",\"qhs\",\"fat\",\"unremarkable\",\"wbc\",\"syndrome\",\"changed\",\"empty\",\"murmurs\",\"smoking\",\"bruits\",\"approximate\",\"rca\",\"line\",\"began\",\"jvp\",\"goal\",\"femoral\",\"repair\",\"rule\",\"restarted\",\"weakness\",\"stress\",\"denied\",\"tr\",\"slightly\",\"complicated\",\"postoperatively\",\"benign\",\"recurrent\",\"initial\",\"f\",\"document\",\"block\",\"ultrasound\",\"cxr\",\"cholesterol\",\"catheter\",\"walking\",\"meq\",\"cardiomyopathy\",\"ischemic\",\"dvt\",\"breast\",\"escription\",\"+\",\"place\",\"pleural\",\"hypercholesterolemia\",\":*\",\"bed\",\"check\",\"cp\",\"unable\",\"obstructive\",\"neurological\",\"output\",\"cardiologist\",\"consult\",\"q.a.m.\",\"still\",\"increase\",\"abd\",\"bleed\",\"q.h.s.\",\"fracture\",\"stopped\",\"wave\",\"mildly\",\"prophylaxis\",\"motion\",\"issues\",\"pump\",\"mibi\",\"mri\",\"mm\",\"cv\",\"biopsy\",\"crackles\",\"side\",\"orthopnea\",\"hernia\",\"constipation\",\"diuresed\",\"drawn\",\"supple\",\"apnea\",\"unless\",\"mg.\",\"peak\",\"can\",\"requiring\",\"site\",\"man\",\"deep\",\"q.day\",\"pupils\",\"b.i.d\",\"diffuse\",\"circumflex\",\"m\",\"weaned\",\"came\",\"internal\",\"month\",\"trace\",\"improvement\",\"dilated\",\"pressures\",\"intubated\",\"name\",\"hour\",\"chief\",\"neurologic\",\"checked\",\"nondistended\",\"electrocardiogram\",\"qid\",\"complete\",\"equal\",\"lateral\",\"lesions\",\"active\",\"size\",\"evaluated\",\"grapefruit\",\"cellulitis\",\"memorial\",\"reactive\",\"icu\",\"f/u\",\"qpm\",\"long\",\"later\",\"outside\",\"sputum\",\"erythema\",\"hx\",\"instructs\",\"july\",\"rash\",\"into\",\"radiation\",\"pacemaker\",\"free\",\"bedtime\",\"rectal\",\"each\",\"team\",\"qam\",\"sublingual\",\"<num>-<num>%\",\"masses\",\"diagnosed\",\"day.\",\"puffs\",\"headache\",\"endocrine\",\"ra\",\"go\",\"<num>,<num>\",\"mother\",\"sternal\",\"yo\",\"exacerbation\",\"vna\",\"extubated\",\"systems\",\"incision\",\"postop\",\"instructed\",\"abnormalities\",\"review\",\"tract\",\"onset\",\"workup\",\"unchanged\",\"anxiety\",\"dependent\",\"etiology\",\"electronically\",\"tolerating\",\"between\",\"inh\",\"movements\",\"previously\",\"dialysis\",\"drainage\",\"foley\",\"consistently\",\"short\",\"saphenous\",\"sugar\",\"dysfunction\",\"delivery\",\"called\",\"degrees\",\"states\",\"hemodialysis\",\"minimal\",\"jugular\",\"fall\",\"office\",\"warm\",\"provider\",\"around\",\"appeared\",\"hypokinesis\",\"findings\",\"bilirubin\",\"tests\",\"pt.\",\"guaiac\",\"unclear\",\"flat\",\"ca\",\"hypotension\",\"carcinoma\",\"concern\",\"tel\",\"minute\",\"february\",\"ho\",\"w\",\"brought\",\"reaction\"],\"x1\":{\"__ndarray__\":\"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\",\"dtype\":\"float64\",\"shape\":[1810]},\"x2\":{\"__ndarray__\":\"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\",\"dtype\":\"float64\",\"shape\":[1810]}}},\"id\":\"078c9352-c414-494e-b340-15eba23c5a17\",\"type\":\"ColumnDataSource\"},{\"attributes\":{},\"id\":\"a41b458f-3a7d-46ba-a4d4-10025681b424\",\"type\":\"BasicTickFormatter\"},{\"attributes\":{},\"id\":\"5451dc8e-caf8-44ec-b75b-cd6a2004752d\",\"type\":\"LinearScale\"},{\"attributes\":{\"plot\":{\"id\":\"ff36cc6c-ab28-4754-ab2b-b37b3ca50f46\",\"subtype\":\"Figure\",\"type\":\"Plot\"}},\"id\":\"a20ebad2-2668-43d2-9c64-376f27d9e692\",\"type\":\"WheelZoomTool\"},{\"attributes\":{},\"id\":\"c2b56811-6e8a-4a90-a321-2663774b6ad7\",\"type\":\"BasicTicker\"},{\"attributes\":{\"fill_alpha\":{\"value\":0.1},\"fill_color\":{\"value\":\"#1f77b4\"},\"line_alpha\":{\"value\":0.1},\"line_color\":{\"value\":\"#1f77b4\"},\"size\":{\"units\":\"screen\",\"value\":8},\"x\":{\"field\":\"x1\"},\"y\":{\"field\":\"x2\"}},\"id\":\"51e8a55d-321d-4b13-a010-08d120439c4b\",\"type\":\"Circle\"},{\"attributes\":{},\"id\":\"4c4d6e1a-837d-4bab-a44b-eaa92857ab7e\",\"type\":\"LinearScale\"},{\"attributes\":{\"dimension\":1,\"plot\":{\"id\":\"ff36cc6c-ab28-4754-ab2b-b37b3ca50f46\",\"subtype\":\"Figure\",\"type\":\"Plot\"},\"ticker\":{\"id\":\"9f1251c0-ce42-4289-a698-65becb4101f3\",\"type\":\"BasicTicker\"}},\"id\":\"05bfb608-e3ba-4cf6-910e-6a9a7211f56c\",\"type\":\"Grid\"},{\"attributes\":{},\"id\":\"c28c3eac-85ed-44ff-9c13-5e19d9d73301\",\"type\":\"ToolEvents\"},{\"attributes\":{\"active_drag\":\"auto\",\"active_inspect\":\"auto\",\"active_scroll\":\"auto\",\"active_tap\":\"auto\",\"tools\":[{\"id\":\"aec4b081-cd2f-45e1-9363-f763b415b357\",\"type\":\"PanTool\"},{\"id\":\"a20ebad2-2668-43d2-9c64-376f27d9e692\",\"type\":\"WheelZoomTool\"},{\"id\":\"8ca5917c-b94b-4745-85e2-ba2bf3371c4f\",\"type\":\"ResetTool\"},{\"id\":\"99737177-b627-4c9c-8362-8690e0233b33\",\"type\":\"SaveTool\"}]},\"id\":\"bc2fc8ff-789d-4f55-b881-5564b895a316\",\"type\":\"Toolbar\"},{\"attributes\":{\"data_source\":{\"id\":\"078c9352-c414-494e-b340-15eba23c5a17\",\"type\":\"ColumnDataSource\"},\"glyph\":{\"id\":\"5b478148-17c3-4750-9bed-c0f0325c75fa\",\"type\":\"Circle\"},\"hover_glyph\":null,\"muted_glyph\":null,\"nonselection_glyph\":{\"id\":\"51e8a55d-321d-4b13-a010-08d120439c4b\",\"type\":\"Circle\"},\"selection_glyph\":null},\"id\":\"fa4fa165-18c5-4826-8214-301cbc979f92\",\"type\":\"GlyphRenderer\"},{\"attributes\":{\"plot\":{\"id\":\"ff36cc6c-ab28-4754-ab2b-b37b3ca50f46\",\"subtype\":\"Figure\",\"type\":\"Plot\"}},\"id\":\"aec4b081-cd2f-45e1-9363-f763b415b357\",\"type\":\"PanTool\"},{\"attributes\":{\"formatter\":{\"id\":\"a41b458f-3a7d-46ba-a4d4-10025681b424\",\"type\":\"BasicTickFormatter\"},\"plot\":{\"id\":\"ff36cc6c-ab28-4754-ab2b-b37b3ca50f46\",\"subtype\":\"Figure\",\"type\":\"Plot\"},\"ticker\":{\"id\":\"c2b56811-6e8a-4a90-a321-2663774b6ad7\",\"type\":\"BasicTicker\"}},\"id\":\"0894f741-23dc-4890-9f62-bae0619305c2\",\"type\":\"LinearAxis\"},{\"attributes\":{\"formatter\":{\"id\":\"97674c69-99a9-400f-8140-0bd5a9c44a85\",\"type\":\"BasicTickFormatter\"},\"plot\":{\"id\":\"ff36cc6c-ab28-4754-ab2b-b37b3ca50f46\",\"subtype\":\"Figure\",\"type\":\"Plot\"},\"ticker\":{\"id\":\"9f1251c0-ce42-4289-a698-65becb4101f3\",\"type\":\"BasicTicker\"}},\"id\":\"a641ac0c-fc8b-4c9d-839b-bf8c9fe8cca9\",\"type\":\"LinearAxis\"},{\"attributes\":{},\"id\":\"97674c69-99a9-400f-8140-0bd5a9c44a85\",\"type\":\"BasicTickFormatter\"},{\"attributes\":{\"below\":[{\"id\":\"0894f741-23dc-4890-9f62-bae0619305c2\",\"type\":\"LinearAxis\"}],\"left\":[{\"id\":\"a641ac0c-fc8b-4c9d-839b-bf8c9fe8cca9\",\"type\":\"LinearAxis\"}],\"renderers\":[{\"id\":\"0894f741-23dc-4890-9f62-bae0619305c2\",\"type\":\"LinearAxis\"},{\"id\":\"e5be53f6-5586-4fa6-b985-cf96309759a7\",\"type\":\"Grid\"},{\"id\":\"a641ac0c-fc8b-4c9d-839b-bf8c9fe8cca9\",\"type\":\"LinearAxis\"},{\"id\":\"05bfb608-e3ba-4cf6-910e-6a9a7211f56c\",\"type\":\"Grid\"},{\"id\":\"fa4fa165-18c5-4826-8214-301cbc979f92\",\"type\":\"GlyphRenderer\"},{\"id\":\"bd0d8c0c-9dff-4290-bc31-48fcb0fd8028\",\"type\":\"LabelSet\"}],\"title\":{\"id\":\"bb0c20ff-5cfc-436d-9904-2c46b3d52379\",\"type\":\"Title\"},\"tool_events\":{\"id\":\"c28c3eac-85ed-44ff-9c13-5e19d9d73301\",\"type\":\"ToolEvents\"},\"toolbar\":{\"id\":\"bc2fc8ff-789d-4f55-b881-5564b895a316\",\"type\":\"Toolbar\"},\"toolbar_location\":\"above\",\"x_range\":{\"id\":\"1228bfca-1e59-496f-91f9-6a37ec2a70cf\",\"type\":\"DataRange1d\"},\"x_scale\":{\"id\":\"5451dc8e-caf8-44ec-b75b-cd6a2004752d\",\"type\":\"LinearScale\"},\"y_range\":{\"id\":\"35f6441a-b5d0-46f6-89a4-27a065f21e58\",\"type\":\"DataRange1d\"},\"y_scale\":{\"id\":\"4c4d6e1a-837d-4bab-a44b-eaa92857ab7e\",\"type\":\"LinearScale\"}},\"id\":\"ff36cc6c-ab28-4754-ab2b-b37b3ca50f46\",\"subtype\":\"Figure\",\"type\":\"Plot\"},{\"attributes\":{\"plot\":{\"id\":\"ff36cc6c-ab28-4754-ab2b-b37b3ca50f46\",\"subtype\":\"Figure\",\"type\":\"Plot\"},\"source\":{\"id\":\"078c9352-c414-494e-b340-15eba23c5a17\",\"type\":\"ColumnDataSource\"},\"text\":{\"field\":\"names\"},\"text_align\":\"center\",\"text_color\":{\"value\":\"#555555\"},\"text_font_size\":{\"value\":\"8pt\"},\"x\":{\"field\":\"x1\"},\"y\":{\"field\":\"x2\"},\"y_offset\":{\"value\":6}},\"id\":\"bd0d8c0c-9dff-4290-bc31-48fcb0fd8028\",\"type\":\"LabelSet\"},{\"attributes\":{},\"id\":\"9f1251c0-ce42-4289-a698-65becb4101f3\",\"type\":\"BasicTicker\"},{\"attributes\":{\"callback\":null},\"id\":\"35f6441a-b5d0-46f6-89a4-27a065f21e58\",\"type\":\"DataRange1d\"},{\"attributes\":{\"plot\":{\"id\":\"ff36cc6c-ab28-4754-ab2b-b37b3ca50f46\",\"subtype\":\"Figure\",\"type\":\"Plot\"}},\"id\":\"99737177-b627-4c9c-8362-8690e0233b33\",\"type\":\"SaveTool\"},{\"attributes\":{\"plot\":{\"id\":\"ff36cc6c-ab28-4754-ab2b-b37b3ca50f46\",\"subtype\":\"Figure\",\"type\":\"Plot\"},\"ticker\":{\"id\":\"c2b56811-6e8a-4a90-a321-2663774b6ad7\",\"type\":\"BasicTicker\"}},\"id\":\"e5be53f6-5586-4fa6-b985-cf96309759a7\",\"type\":\"Grid\"},{\"attributes\":{\"plot\":null,\"text\":\"word2vec T-SNE for most common words\"},\"id\":\"bb0c20ff-5cfc-436d-9904-2c46b3d52379\",\"type\":\"Title\"},{\"attributes\":{\"callback\":null},\"id\":\"1228bfca-1e59-496f-91f9-6a37ec2a70cf\",\"type\":\"DataRange1d\"},{\"attributes\":{\"fill_color\":{\"field\":\"coloring\"},\"line_color\":{\"field\":\"coloring\"},\"size\":{\"units\":\"screen\",\"value\":8},\"x\":{\"field\":\"x1\"},\"y\":{\"field\":\"x2\"}},\"id\":\"5b478148-17c3-4750-9bed-c0f0325c75fa\",\"type\":\"Circle\"}],\"root_ids\":[\"ff36cc6c-ab28-4754-ab2b-b37b3ca50f46\"]},\"title\":\"Bokeh Application\",\"version\":\"0.12.6\"}};\n",
       "            var render_items = [{\"docid\":\"bd126000-6a0a-43e2-887b-4aa6db6a98cf\",\"elementid\":\"04650d09-524c-4c2e-8d6b-cf893370e8e6\",\"modelid\":\"ff36cc6c-ab28-4754-ab2b-b37b3ca50f46\"}];\n",
       "            \n",
       "            Bokeh.embed.embed_items(docs_json, render_items);\n",
       "          };\n",
       "          if (document.readyState != \"loading\") fn();\n",
       "          else document.addEventListener(\"DOMContentLoaded\", fn);\n",
       "        })();\n",
       "      },\n",
       "      function(Bokeh) {\n",
       "      }\n",
       "    ];\n",
       "  \n",
       "    function run_inline_js() {\n",
       "      \n",
       "      if ((window.Bokeh !== undefined) || (force === true)) {\n",
       "        for (var i = 0; i < inline_js.length; i++) {\n",
       "          inline_js[i](window.Bokeh);\n",
       "        }if (force === true) {\n",
       "          display_loaded();\n",
       "        }} else if (Date.now() < window._bokeh_timeout) {\n",
       "        setTimeout(run_inline_js, 100);\n",
       "      } else if (!window._bokeh_failed_load) {\n",
       "        console.log(\"Bokeh: BokehJS failed to load within specified timeout.\");\n",
       "        window._bokeh_failed_load = true;\n",
       "      } else if (force !== true) {\n",
       "        var cell = $(document.getElementById(\"04650d09-524c-4c2e-8d6b-cf893370e8e6\")).parents('.cell').data().cell;\n",
       "        cell.output_area.append_execute_result(NB_LOAD_WARNING)\n",
       "      }\n",
       "  \n",
       "    }\n",
       "  \n",
       "    if (window._bokeh_is_loading === 0) {\n",
       "      console.log(\"Bokeh: BokehJS loaded, going straight to plotting\");\n",
       "      run_inline_js();\n",
       "    } else {\n",
       "      load_libs(js_urls, function() {\n",
       "        console.log(\"Bokeh: BokehJS plotting callback run at\", now());\n",
       "        run_inline_js();\n",
       "      });\n",
       "    }\n",
       "  }(this));\n",
       "</script>"
      ]
     },
     "metadata": {},
     "output_type": "display_data"
    }
   ],
   "source": [
    "p = figure(tools=\"pan,wheel_zoom,reset,save\",\n",
    "           toolbar_location=\"above\",\n",
    "           title=\"word2vec T-SNE for most common words\")\n",
    "\n",
    "source = ColumnDataSource(data=dict(x1=words_tsne[:,0],\n",
    "                                    x2=words_tsne[:,1],\n",
    "                                    names=visualisation,\n",
    "                                    coloring=colormap))\n",
    "\n",
    "p.scatter(x=\"x1\", y=\"x2\", color=\"coloring\", size=8, source=source)\n",
    "\n",
    "labels = LabelSet(x=\"x1\", y=\"x2\", text=\"names\", y_offset=6,\n",
    "                  text_font_size=\"8pt\", text_color=\"#555555\",\n",
    "                  source=source, text_align='center')\n",
    "p.add_layout(labels)\n",
    "\n",
    "show(p)"
   ]
  },
  {
   "cell_type": "code",
   "execution_count": 20,
   "metadata": {
    "collapsed": true
   },
   "outputs": [],
   "source": [
    "train_set = []\n",
    "train_labels = []\n",
    "i = 0\n",
    "vocab = list(model_I2B2.wv.vocab.keys())\n",
    "\n",
    "for i in range(1500):\n",
    "    word = random.choice(vocab)\n",
    "    train_set.append(model_I2B2[word])\n",
    "    if word in medications:\n",
    "        train_labels.append([1,0])\n",
    "    else:\n",
    "        train_labels.append([0,1])\n",
    "    if i % 3 == 0:\n",
    "        word = random.choice(medications)\n",
    "        train_set.append(model_I2B2[word])\n",
    "        train_labels.append([1,0])"
   ]
  },
  {
   "cell_type": "code",
   "execution_count": 21,
   "metadata": {},
   "outputs": [
    {
     "data": {
      "text/plain": [
       "array([ 0.262,  0.738])"
      ]
     },
     "execution_count": 21,
     "metadata": {},
     "output_type": "execute_result"
    }
   ],
   "source": [
    "np.array(train_labels).sum(0)/len(train_labels)"
   ]
  },
  {
   "cell_type": "code",
   "execution_count": 22,
   "metadata": {
    "collapsed": true
   },
   "outputs": [],
   "source": [
    "test_set = []\n",
    "test_labels = []\n",
    "\n",
    "for i in range(300):\n",
    "    word = random.choice(vocab)\n",
    "    test_set.append(model_I2B2[word])\n",
    "    if word in medications:\n",
    "        test_labels.append([1,0])\n",
    "    else:\n",
    "        test_labels.append([0,1])\n",
    "        \n",
    "for i in range(100):\n",
    "    word = random.choice(medications)\n",
    "    test_set.append(model_I2B2[word])\n",
    "    test_labels.append([1,0])"
   ]
  },
  {
   "cell_type": "code",
   "execution_count": 23,
   "metadata": {},
   "outputs": [
    {
     "data": {
      "text/plain": [
       "array([ 0.2725,  0.7275])"
      ]
     },
     "execution_count": 23,
     "metadata": {},
     "output_type": "execute_result"
    }
   ],
   "source": [
    "np.array(test_labels).sum(0)/len(test_labels)"
   ]
  },
  {
   "cell_type": "code",
   "execution_count": 24,
   "metadata": {
    "collapsed": true
   },
   "outputs": [],
   "source": [
    "def weight_variable(shape):\n",
    "    initial = tf.truncated_normal(shape, stddev=0.05)\n",
    "    return tf.Variable(initial)\n",
    "\n",
    "def bias_variable(shape):\n",
    "    initial = tf.constant(0.1, shape=shape)\n",
    "    return tf.Variable(initial)"
   ]
  },
  {
   "cell_type": "code",
   "execution_count": 25,
   "metadata": {},
   "outputs": [
    {
     "name": "stdout",
     "output_type": "stream",
     "text": [
      "WARNING:tensorflow:From C:\\Users\\Luka\\Anaconda3\\envs\\tensorflow\\lib\\site-packages\\tensorflow\\python\\util\\tf_should_use.py:170: initialize_all_variables (from tensorflow.python.ops.variables) is deprecated and will be removed after 2017-03-02.\n",
      "Instructions for updating:\n",
      "Use `tf.global_variables_initializer` instead.\n",
      "0\n",
      "Epoch: 0, Training Accuracy: 0.220000, Test Accuracy: 0.272500\n",
      "Epoch: 12, Training Accuracy: 0.980000, Test Accuracy: 0.922500\n",
      "Epoch: 25, Training Accuracy: 0.920000, Test Accuracy: 0.915000\n",
      "Epoch: 37, Training Accuracy: 0.920000, Test Accuracy: 0.910000\n",
      "Epoch: 50, Training Accuracy: 0.960000, Test Accuracy: 0.910000\n",
      "Epoch: 62, Training Accuracy: 0.960000, Test Accuracy: 0.912500\n",
      "Epoch: 75, Training Accuracy: 0.940000, Test Accuracy: 0.917500\n",
      "Epoch: 87, Training Accuracy: 0.940000, Test Accuracy: 0.912500\n",
      "Epoch: 100, Training Accuracy: 0.980000, Test Accuracy: 0.917500\n",
      "Epoch: 112, Training Accuracy: 0.960000, Test Accuracy: 0.907500\n",
      "Epoch: 125, Training Accuracy: 0.900000, Test Accuracy: 0.915000\n",
      "Epoch: 137, Training Accuracy: 1.000000, Test Accuracy: 0.915000\n",
      "Epoch: 150, Training Accuracy: 0.900000, Test Accuracy: 0.915000\n",
      "Epoch: 162, Training Accuracy: 0.980000, Test Accuracy: 0.915000\n",
      "Epoch: 175, Training Accuracy: 0.980000, Test Accuracy: 0.915000\n",
      "Epoch: 187, Training Accuracy: 0.980000, Test Accuracy: 0.912500\n",
      "Epoch: 200, Training Accuracy: 1.000000, Test Accuracy: 0.915000\n",
      "Epoch: 212, Training Accuracy: 0.940000, Test Accuracy: 0.915000\n",
      "Epoch: 225, Training Accuracy: 0.960000, Test Accuracy: 0.915000\n",
      "Epoch: 237, Training Accuracy: 0.980000, Test Accuracy: 0.917500\n",
      "Epoch: 250, Training Accuracy: 0.920000, Test Accuracy: 0.917500\n",
      "Epoch: 262, Training Accuracy: 0.920000, Test Accuracy: 0.920000\n",
      "Epoch: 275, Training Accuracy: 0.980000, Test Accuracy: 0.920000\n",
      "Epoch: 287, Training Accuracy: 0.940000, Test Accuracy: 0.920000\n",
      "Epoch: 300, Training Accuracy: 0.960000, Test Accuracy: 0.920000\n",
      "Epoch: 312, Training Accuracy: 0.940000, Test Accuracy: 0.920000\n",
      "Epoch: 325, Training Accuracy: 0.980000, Test Accuracy: 0.920000\n",
      "Epoch: 337, Training Accuracy: 1.000000, Test Accuracy: 0.917500\n",
      "Epoch: 350, Training Accuracy: 0.960000, Test Accuracy: 0.917500\n",
      "Epoch: 362, Training Accuracy: 0.900000, Test Accuracy: 0.917500\n",
      "Epoch: 375, Training Accuracy: 0.920000, Test Accuracy: 0.917500\n",
      "Epoch: 387, Training Accuracy: 1.000000, Test Accuracy: 0.917500\n",
      "Epoch: 400, Training Accuracy: 0.940000, Test Accuracy: 0.917500\n",
      "Epoch: 412, Training Accuracy: 1.000000, Test Accuracy: 0.917500\n",
      "Epoch: 425, Training Accuracy: 0.920000, Test Accuracy: 0.917500\n",
      "Epoch: 437, Training Accuracy: 0.980000, Test Accuracy: 0.917500\n",
      "Epoch: 450, Training Accuracy: 0.980000, Test Accuracy: 0.917500\n",
      "Epoch: 462, Training Accuracy: 0.940000, Test Accuracy: 0.917500\n",
      "Epoch: 475, Training Accuracy: 0.920000, Test Accuracy: 0.917500\n",
      "Epoch: 487, Training Accuracy: 0.940000, Test Accuracy: 0.917500\n",
      "Epoch: 500, Training Accuracy: 0.960000, Test Accuracy: 0.917500\n",
      "Epoch: 512, Training Accuracy: 0.960000, Test Accuracy: 0.917500\n",
      "Epoch: 525, Training Accuracy: 0.960000, Test Accuracy: 0.917500\n",
      "Epoch: 537, Training Accuracy: 0.960000, Test Accuracy: 0.917500\n",
      "Epoch: 550, Training Accuracy: 1.000000, Test Accuracy: 0.917500\n",
      "Epoch: 562, Training Accuracy: 0.960000, Test Accuracy: 0.917500\n",
      "Epoch: 575, Training Accuracy: 0.980000, Test Accuracy: 0.917500\n",
      "Epoch: 587, Training Accuracy: 0.940000, Test Accuracy: 0.917500\n",
      "Epoch: 600, Training Accuracy: 0.980000, Test Accuracy: 0.917500\n",
      "Epoch: 612, Training Accuracy: 0.980000, Test Accuracy: 0.917500\n",
      "Epoch: 625, Training Accuracy: 0.960000, Test Accuracy: 0.917500\n",
      "Epoch: 637, Training Accuracy: 0.900000, Test Accuracy: 0.917500\n",
      "Epoch: 650, Training Accuracy: 0.860000, Test Accuracy: 0.917500\n",
      "Epoch: 662, Training Accuracy: 0.940000, Test Accuracy: 0.917500\n",
      "Epoch: 675, Training Accuracy: 0.980000, Test Accuracy: 0.917500\n",
      "Epoch: 687, Training Accuracy: 0.960000, Test Accuracy: 0.917500\n",
      "Epoch: 700, Training Accuracy: 0.980000, Test Accuracy: 0.917500\n",
      "Epoch: 712, Training Accuracy: 1.000000, Test Accuracy: 0.917500\n",
      "Epoch: 725, Training Accuracy: 0.960000, Test Accuracy: 0.917500\n",
      "Epoch: 737, Training Accuracy: 0.960000, Test Accuracy: 0.917500\n",
      "Epoch: 750, Training Accuracy: 0.920000, Test Accuracy: 0.917500\n",
      "Epoch: 762, Training Accuracy: 0.940000, Test Accuracy: 0.917500\n",
      "Epoch: 775, Training Accuracy: 0.960000, Test Accuracy: 0.917500\n",
      "Epoch: 787, Training Accuracy: 0.980000, Test Accuracy: 0.917500\n",
      "Epoch: 800, Training Accuracy: 0.940000, Test Accuracy: 0.917500\n",
      "Epoch: 812, Training Accuracy: 1.000000, Test Accuracy: 0.917500\n",
      "Epoch: 825, Training Accuracy: 0.980000, Test Accuracy: 0.917500\n",
      "Epoch: 837, Training Accuracy: 0.960000, Test Accuracy: 0.917500\n",
      "Epoch: 850, Training Accuracy: 0.960000, Test Accuracy: 0.917500\n",
      "Epoch: 862, Training Accuracy: 0.960000, Test Accuracy: 0.917500\n",
      "Epoch: 875, Training Accuracy: 0.920000, Test Accuracy: 0.917500\n",
      "Epoch: 887, Training Accuracy: 1.000000, Test Accuracy: 0.917500\n",
      "Epoch: 900, Training Accuracy: 0.940000, Test Accuracy: 0.915000\n",
      "Epoch: 912, Training Accuracy: 0.960000, Test Accuracy: 0.915000\n",
      "Epoch: 925, Training Accuracy: 0.940000, Test Accuracy: 0.915000\n",
      "Epoch: 937, Training Accuracy: 0.980000, Test Accuracy: 0.917500\n",
      "Epoch: 950, Training Accuracy: 0.940000, Test Accuracy: 0.915000\n",
      "Epoch: 962, Training Accuracy: 0.920000, Test Accuracy: 0.915000\n",
      "Epoch: 975, Training Accuracy: 0.960000, Test Accuracy: 0.915000\n",
      "Epoch: 987, Training Accuracy: 0.980000, Test Accuracy: 0.915000\n",
      "Epoch: 1000, Training Accuracy: 0.980000, Test Accuracy: 0.915000\n"
     ]
    }
   ],
   "source": [
    "node_count_1 = 50\n",
    "\n",
    "x = tf.placeholder(tf.float32, shape=[None, 100])\n",
    "y_ = tf.placeholder(tf.float32, shape=[None, 2])\n",
    "\n",
    "# Define the first layer here\n",
    "W = weight_variable([100, node_count_1])\n",
    "b = bias_variable([node_count_1])\n",
    "h = tf.nn.sigmoid(tf.matmul(x, W) + b)\n",
    "\n",
    "# Use dropout for this layer (should you wish)\n",
    "#keep_prob = tf.placeholder(tf.float32)\n",
    "#h_drop = tf.nn.dropout(h1, keep_prob)\n",
    "\n",
    "# Define the output layer here\n",
    "V = weight_variable([node_count_1, 2])\n",
    "c = bias_variable([2])\n",
    "y = tf.nn.softmax(tf.matmul(h, V) + c)\n",
    "\n",
    "# We'll use the cross entropy loss function \n",
    "cross_entropy = tf.reduce_mean(tf.nn.softmax_cross_entropy_with_logits(logits=y, labels=y_))\n",
    "\n",
    "# And classification accuracy\n",
    "correct_prediction = tf.equal(tf.argmax(y, 1), tf.argmax(y_, 1))\n",
    "accuracy = tf.reduce_mean(tf.cast(correct_prediction, tf.float32))\n",
    "\n",
    "# And the Adam optimiser\n",
    "train_step = tf.train.AdamOptimizer(learning_rate=1e-2).minimize(cross_entropy)\n",
    "\n",
    "# Start a tf session and run the optimisation algorithm\n",
    "sess = tf.Session()\n",
    "sess.run(tf.initialize_all_variables())\n",
    "\n",
    "training = Iterator(train_set, train_labels)\n",
    "train_accuracy = 0\n",
    "test_accuracy = 0\n",
    "N = 0\n",
    "\n",
    "print(training.epochs)\n",
    "\n",
    "while training.epochs < 1000:\n",
    "    trd, trl = training.next_batch(50)\n",
    "    if N % 500 == 0:\n",
    "        train_accuracy = sess.run(accuracy, feed_dict={x: trd, y_: trl})\n",
    "        test_accuracy = sess.run(accuracy, feed_dict={x: test_set, y_: test_labels})\n",
    "        print(\"Epoch: %d, Training Accuracy: %f, Test Accuracy: %f\" % (training.epochs, train_accuracy, test_accuracy))\n",
    "    sess.run(train_step, feed_dict={x: trd, y_: trl})\n",
    "    N += 1"
   ]
  },
  {
   "cell_type": "code",
   "execution_count": null,
   "metadata": {
    "collapsed": true
   },
   "outputs": [],
   "source": []
  }
 ],
 "metadata": {
  "anaconda-cloud": {},
  "kernelspec": {
   "display_name": "Python 3",
   "language": "python",
   "name": "python3"
  },
  "language_info": {
   "codemirror_mode": {
    "name": "ipython",
    "version": 3
   },
   "file_extension": ".py",
   "mimetype": "text/x-python",
   "name": "python",
   "nbconvert_exporter": "python",
   "pygments_lexer": "ipython3",
   "version": "3.5.3"
  }
 },
 "nbformat": 4,
 "nbformat_minor": 2
}
