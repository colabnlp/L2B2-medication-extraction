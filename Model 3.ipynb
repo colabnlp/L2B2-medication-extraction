{
 "cells": [
  {
   "cell_type": "code",
   "execution_count": 1,
   "metadata": {},
   "outputs": [],
   "source": [
    "import numpy as np\n",
    "import re\n",
    "import random\n",
    "\n",
    "import tensorflow as tf\n",
    "import Functions as fn\n",
    "from DS import DS\n",
    "from Set import pool\n",
    "from Iterator import Iterator"
   ]
  },
  {
   "cell_type": "code",
   "execution_count": 2,
   "metadata": {
    "collapsed": true
   },
   "outputs": [],
   "source": [
    "#Dataset = fn.first_time_load()\n",
    "#Dataset.write_texts()\n",
    "#Dataset.write_labels()"
   ]
  },
  {
   "cell_type": "code",
   "execution_count": 3,
   "metadata": {},
   "outputs": [
    {
     "name": "stdout",
     "output_type": "stream",
     "text": [
      "Texts loaded\n",
      "Labels loaded\n"
     ]
    }
   ],
   "source": [
    "Dataset = pool()\n",
    "Dataset.load_texts()\n",
    "Dataset.load_labels()"
   ]
  },
  {
   "cell_type": "code",
   "execution_count": 4,
   "metadata": {
    "scrolled": false
   },
   "outputs": [
    {
     "name": "stdout",
     "output_type": "stream",
     "text": [
      "Number of Texts:  4605\n",
      "Number of 2007 Smoking Challenge texts:  926\n",
      "Number of 2008 ObesityChallenge texts:  1237\n",
      "Number of 2009 Medication Challenge texts:  1249\n",
      "Number of 2010 Relations Challenge texts:  694\n",
      "Number of 2011 Coreference Challenge texts:  188\n",
      "Number of 2012 Temporal Relations Challenge texts:  311\n",
      "Number of Train Texts:  2859\n",
      "Number of Test Texts:  1746\n",
      "Number of Labeled Texts:  258\n",
      "Number of Initially Labeled Texts:  10\n",
      "Number of Competitor Labeled Texts Texts:  248\n"
     ]
    }
   ],
   "source": [
    "print('Number of Texts: ', Dataset.size)\n",
    "print('Number of 2007 Smoking Challenge texts: ', Dataset.number_of(challenge='2007 Smoking Challenge'))\n",
    "print('Number of 2008 ObesityChallenge texts: ', Dataset.number_of(challenge='2008 Obesity Challenge'))\n",
    "print('Number of 2009 Medication Challenge texts: ', Dataset.number_of(challenge='2009 Medication Challenge'))\n",
    "print('Number of 2010 Relations Challenge texts: ', Dataset.number_of(challenge='2010 Relations Challenge'))\n",
    "print('Number of 2011 Coreference Challenge texts: ', Dataset.number_of(challenge='2011 Coreference Challenge'))\n",
    "print('Number of 2012 Temporal Relations Challenge texts: ', Dataset.number_of(challenge='2012 Temporal Relations Challenge'))\n",
    "print('Number of Train Texts: ', Dataset.number_of(stage='train'))\n",
    "print('Number of Test Texts: ', Dataset.number_of(stage='test'))\n",
    "print('Number of Labeled Texts: ', Dataset.number_of(labelled='yes'))\n",
    "print('Number of Initially Labeled Texts: ', Dataset.number_of(labelled='yes', label_type='train'))\n",
    "print('Number of Competitor Labeled Texts Texts: ', Dataset.number_of(labelled='yes', label_type='test'))"
   ]
  },
  {
   "cell_type": "code",
   "execution_count": 5,
   "metadata": {
    "collapsed": true
   },
   "outputs": [],
   "source": [
    "Dataset.process_for_embedding()\n",
    "sentences = Dataset.get_sentences()"
   ]
  },
  {
   "cell_type": "code",
   "execution_count": 6,
   "metadata": {},
   "outputs": [
    {
     "name": "stdout",
     "output_type": "stream",
     "text": [
      "Number of: m=928, do=119, mo=76, f=79, du=80, r=482\n"
     ]
    }
   ],
   "source": [
    "targets = ['medications', 'dosages', 'modes', 'frequencies', 'durations', 'reasons']\n",
    "target_dict = {label: words for (label, words) in zip(targets, list(fn.label_words(Dataset)))}"
   ]
  },
  {
   "cell_type": "code",
   "execution_count": 7,
   "metadata": {},
   "outputs": [
    {
     "name": "stderr",
     "output_type": "stream",
     "text": [
      "C:\\Users\\Luka\\Anaconda3\\envs\\tensorflow\\lib\\site-packages\\gensim\\utils.py:860: UserWarning: detected Windows; aliasing chunkize to chunkize_serial\n",
      "  warnings.warn(\"detected Windows; aliasing chunkize to chunkize_serial\")\n"
     ]
    }
   ],
   "source": [
    "from gensim.models import Word2Vec"
   ]
  },
  {
   "cell_type": "code",
   "execution_count": 8,
   "metadata": {
    "collapsed": true
   },
   "outputs": [],
   "source": [
    "model_I2B2 = Word2Vec(sentences, min_count=1, size=100)"
   ]
  },
  {
   "cell_type": "code",
   "execution_count": 9,
   "metadata": {
    "collapsed": true
   },
   "outputs": [],
   "source": [
    "#model_I2B2.most_similar(\"prozac\", topn=20)"
   ]
  },
  {
   "cell_type": "code",
   "execution_count": null,
   "metadata": {
    "collapsed": true
   },
   "outputs": [],
   "source": [
    "#fn.visualise(model=model_I2B2, sentences=sentences, labels=[reasons], topn=1000, title='Reasons in top 1000 words')"
   ]
  },
  {
   "cell_type": "code",
   "execution_count": null,
   "metadata": {},
   "outputs": [
    {
     "name": "stdout",
     "output_type": "stream",
     "text": [
      "Percentage of labels in train set: 0.100000\n",
      "Percentage of labels in test: 0.500000\n",
      "0% medications with repetitions training complete, training accuracy: 0.160000, test accuracy: 0.500000\n",
      "20% medications with repetitions training complete, training accuracy: 0.980000, test accuracy: 0.840000\n",
      "40% medications with repetitions training complete, training accuracy: 0.960000, test accuracy: 0.820000\n",
      "60% medications with repetitions training complete, training accuracy: 0.980000, test accuracy: 0.820000\n",
      "80% medications with repetitions training complete, training accuracy: 0.960000, test accuracy: 0.820000\n",
      "100% medications with repetitions training complete, training accuracy: 0.980000, test accuracy: 0.820000\n",
      "Final Test Accuracy: 0.820000\n",
      "\n",
      "Percentage of labels in train set: 0.100000\n",
      "Percentage of labels in test: 0.500000\n",
      "0% medications with no repetitions training complete, training accuracy: 0.880000, test accuracy: 0.500000\n",
      "20% medications with no repetitions training complete, training accuracy: 0.960000, test accuracy: 0.840000\n",
      "40% medications with no repetitions training complete, training accuracy: 1.000000, test accuracy: 0.820000\n",
      "60% medications with no repetitions training complete, training accuracy: 0.980000, test accuracy: 0.820000\n",
      "80% medications with no repetitions training complete, training accuracy: 0.960000, test accuracy: 0.820000\n",
      "100% medications with no repetitions training complete, training accuracy: 1.000000, test accuracy: 0.820000\n",
      "Final Test Accuracy: 0.820000\n",
      "\n",
      "Percentage of labels in train set: 0.100000\n",
      "Percentage of labels in test: 0.500000\n",
      "0% dosages with repetitions training complete, training accuracy: 1.000000, test accuracy: 0.580000\n",
      "20% dosages with repetitions training complete, training accuracy: 0.980000, test accuracy: 0.880000\n",
      "40% dosages with repetitions training complete, training accuracy: 0.980000, test accuracy: 0.860000\n",
      "60% dosages with repetitions training complete, training accuracy: 0.980000, test accuracy: 0.860000\n",
      "80% dosages with repetitions training complete, training accuracy: 0.980000, test accuracy: 0.860000\n",
      "100% dosages with repetitions training complete, training accuracy: 0.980000, test accuracy: 0.860000\n",
      "Final Test Accuracy: 0.860000\n",
      "\n",
      "Percentage of labels in train set: 0.100000\n",
      "Percentage of labels in test: 0.500000\n",
      "0% dosages with no repetitions training complete, training accuracy: 0.920000, test accuracy: 0.500000\n",
      "20% dosages with no repetitions training complete, training accuracy: 1.000000, test accuracy: 0.880000\n",
      "40% dosages with no repetitions training complete, training accuracy: 0.960000, test accuracy: 0.900000\n",
      "60% dosages with no repetitions training complete, training accuracy: 1.000000, test accuracy: 0.900000\n",
      "80% dosages with no repetitions training complete, training accuracy: 0.980000, test accuracy: 0.900000\n",
      "100% dosages with no repetitions training complete, training accuracy: 0.980000, test accuracy: 0.900000\n",
      "Final Test Accuracy: 0.900000\n",
      "\n",
      "Percentage of labels in train set: 0.100000\n",
      "Percentage of labels in test: 0.500000\n",
      "0% modes with repetitions training complete, training accuracy: 0.060000, test accuracy: 0.500000\n",
      "20% modes with repetitions training complete, training accuracy: 1.000000, test accuracy: 0.900000\n",
      "40% modes with repetitions training complete, training accuracy: 1.000000, test accuracy: 0.880000\n",
      "60% modes with repetitions training complete, training accuracy: 1.000000, test accuracy: 0.880000\n",
      "80% modes with repetitions training complete, training accuracy: 1.000000, test accuracy: 0.880000\n",
      "100% modes with repetitions training complete, training accuracy: 1.000000, test accuracy: 0.880000\n",
      "Final Test Accuracy: 0.880000\n",
      "\n",
      "Percentage of labels in train set: 0.100000\n",
      "Percentage of labels in test: 0.500000\n",
      "0% modes with no repetitions training complete, training accuracy: 0.900000, test accuracy: 0.500000\n",
      "20% modes with no repetitions training complete, training accuracy: 0.980000, test accuracy: 0.860000\n",
      "40% modes with no repetitions training complete, training accuracy: 0.980000, test accuracy: 0.840000\n",
      "60% modes with no repetitions training complete, training accuracy: 0.960000, test accuracy: 0.860000\n",
      "80% modes with no repetitions training complete, training accuracy: 0.980000, test accuracy: 0.860000\n",
      "100% modes with no repetitions training complete, training accuracy: 0.980000, test accuracy: 0.860000\n",
      "Final Test Accuracy: 0.860000\n",
      "\n",
      "Percentage of labels in train set: 0.100000\n",
      "Percentage of labels in test: 0.500000\n",
      "0% frequencies with repetitions training complete, training accuracy: 0.080000, test accuracy: 0.500000\n",
      "20% frequencies with repetitions training complete, training accuracy: 0.980000, test accuracy: 0.860000\n",
      "40% frequencies with repetitions training complete, training accuracy: 1.000000, test accuracy: 0.860000\n",
      "60% frequencies with repetitions training complete, training accuracy: 1.000000, test accuracy: 0.860000\n",
      "80% frequencies with repetitions training complete, training accuracy: 1.000000, test accuracy: 0.860000\n",
      "100% frequencies with repetitions training complete, training accuracy: 1.000000, test accuracy: 0.860000\n",
      "Final Test Accuracy: 0.860000\n",
      "\n",
      "Percentage of labels in train set: 0.100000\n",
      "Percentage of labels in test: 0.500000\n",
      "0% frequencies with no repetitions training complete, training accuracy: 0.840000, test accuracy: 0.500000\n",
      "20% frequencies with no repetitions training complete, training accuracy: 0.960000, test accuracy: 0.820000\n",
      "40% frequencies with no repetitions training complete, training accuracy: 1.000000, test accuracy: 0.820000\n",
      "60% frequencies with no repetitions training complete, training accuracy: 1.000000, test accuracy: 0.820000\n"
     ]
    }
   ],
   "source": [
    "for target in targets:\n",
    "    for reps in [True, False]:\n",
    "        #target_size = len(target_dict[target])\n",
    "        sets = fn.get_traintest(model_I2B2, target_dict[target], 500, 50, 10, 50, reps, reps)\n",
    "        fn.model_1(sets[0], sets[1], sets[2], sets[3], target=target, repetitions='' if reps else 'no ')"
   ]
  },
  {
   "cell_type": "code",
   "execution_count": null,
   "metadata": {},
   "outputs": [],
   "source": [
    "train_set, train_labels, test_set, test_labels = fn.get_traintest(model_I2B2, target_dict['medications'], 2000, 500, 10, 50, False, False)"
   ]
  },
  {
   "cell_type": "code",
   "execution_count": null,
   "metadata": {},
   "outputs": [],
   "source": [
    "fn.model_1(train_set, train_labels, test_set, test_labels)"
   ]
  },
  {
   "cell_type": "code",
   "execution_count": null,
   "metadata": {
    "collapsed": true
   },
   "outputs": [],
   "source": []
  }
 ],
 "metadata": {
  "anaconda-cloud": {},
  "kernelspec": {
   "display_name": "Python 3",
   "language": "python",
   "name": "python3"
  },
  "language_info": {
   "codemirror_mode": {
    "name": "ipython",
    "version": 3
   },
   "file_extension": ".py",
   "mimetype": "text/x-python",
   "name": "python",
   "nbconvert_exporter": "python",
   "pygments_lexer": "ipython3",
   "version": "3.5.3"
  }
 },
 "nbformat": 4,
 "nbformat_minor": 2
}
