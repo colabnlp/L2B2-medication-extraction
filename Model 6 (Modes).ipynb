{
 "cells": [
  {
   "cell_type": "code",
   "execution_count": 1,
   "metadata": {},
   "outputs": [
    {
     "name": "stderr",
     "output_type": "stream",
     "text": [
      "C:\\Users\\Luka\\Anaconda3\\envs\\tensorflow\\lib\\site-packages\\gensim\\utils.py:860: UserWarning: detected Windows; aliasing chunkize to chunkize_serial\n",
      "  warnings.warn(\"detected Windows; aliasing chunkize to chunkize_serial\")\n"
     ]
    }
   ],
   "source": [
    "import numpy as np\n",
    "import itertools\n",
    "import datetime\n",
    "\n",
    "import tensorflow as tf\n",
    "import sklearn as sk\n",
    "\n",
    "from gensim.models import Word2Vec\n",
    "\n",
    "import Functions as fn\n",
    "import Iterator as it\n",
    "from DS import DS\n",
    "from Set import pool\n",
    "from FFModel import FF_Model\n",
    "from RNNModel import RNN_Model"
   ]
  },
  {
   "cell_type": "markdown",
   "metadata": {},
   "source": [
    "# Data Loading"
   ]
  },
  {
   "cell_type": "code",
   "execution_count": 2,
   "metadata": {},
   "outputs": [
    {
     "name": "stdout",
     "output_type": "stream",
     "text": [
      "Raw Text Load Complete\n",
      "Raw Labels Load Complete\n"
     ]
    }
   ],
   "source": [
    "Dataset = pool()\n",
    "Dataset.load_texts('raw_texts')\n",
    "Dataset.load_labels('raw_labels')"
   ]
  },
  {
   "cell_type": "code",
   "execution_count": 3,
   "metadata": {
    "scrolled": true,
    "slideshow": {
     "slide_type": "notes"
    }
   },
   "outputs": [
    {
     "name": "stdout",
     "output_type": "stream",
     "text": [
      "Label Load Complete\n"
     ]
    }
   ],
   "source": [
    "target_dict = fn.load_labels('labels')"
   ]
  },
  {
   "cell_type": "markdown",
   "metadata": {},
   "source": [
    "# Embedding Generation"
   ]
  },
  {
   "cell_type": "code",
   "execution_count": 4,
   "metadata": {},
   "outputs": [
    {
     "name": "stdout",
     "output_type": "stream",
     "text": [
      "Sentence Load Complete\n"
     ]
    }
   ],
   "source": [
    "#Dataset.process_for_embedding()\n",
    "#sentences = Dataset.get_sentences()\n",
    "#fn.write_sentences('sentences')\n",
    "sentences = fn.load_sentences('sentences')\n",
    "\n",
    "#model = Word2Vec(sentences, min_count=1, size=100)\n",
    "#model.save('W2V')\n",
    "model = Word2Vec.load('W2V')\n",
    "\n",
    "vocab = model.wv.vocab.keys()"
   ]
  },
  {
   "cell_type": "markdown",
   "metadata": {},
   "source": [
    "# Layer and Index Loading"
   ]
  },
  {
   "cell_type": "code",
   "execution_count": 5,
   "metadata": {},
   "outputs": [
    {
     "name": "stdout",
     "output_type": "stream",
     "text": [
      "Word Indices Load Complete\n",
      "Embedding Layer Load Complete\n"
     ]
    }
   ],
   "source": [
    "#word_indices, emb_layer = fn.get_index_and_emb_layer(model)\n",
    "#fn.write_word_indices(word_indices, 'word_indices')\n",
    "#fn.write_emb_layer(emb_layer, 'emb_layer')\n",
    "\n",
    "word_indices = fn.load_word_indices('word_indices')\n",
    "emb_layer = fn.load_emb_layer('emb_layer')"
   ]
  },
  {
   "cell_type": "markdown",
   "metadata": {},
   "source": [
    "# RNN Testing"
   ]
  },
  {
   "cell_type": "code",
   "execution_count": 9,
   "metadata": {
    "collapsed": true
   },
   "outputs": [],
   "source": [
    "target = 'mo'\n",
    "\n",
    "train_cases = pool((Dataset.get_DS(stage='test', labelled='yes')).data[:-25])\n",
    "validation_cases = pool(Dataset.get_DS(stage='test', labelled='yes').data[-25:])\n",
    "test_cases = Dataset.get_DS(stage='train', labelled='yes')\n",
    "\n",
    "train_cases.process_for_testing(target)\n",
    "validation_cases.process_for_testing(target)\n",
    "test_cases.process_for_testing(target)"
   ]
  },
  {
   "cell_type": "code",
   "execution_count": 10,
   "metadata": {
    "collapsed": true
   },
   "outputs": [],
   "source": [
    "lw, rw = 4, 4\n",
    "sets = {}\n",
    "sets['train_set'], sets['train_labels'], _, sets['train_lengths'] = train_cases.get_rnn_sets(word_indices, lw, rw)\n",
    "sets['validation_set'], sets['validation_labels'], _, sets['validation_lengths']= validation_cases.get_rnn_sets(word_indices, lw, rw)\n",
    "sets['test_set'], sets['test_labels'], sets['test_words'], sets['test_lengths'] = test_cases.get_rnn_sets(word_indices, lw, rw)"
   ]
  },
  {
   "cell_type": "code",
   "execution_count": 11,
   "metadata": {},
   "outputs": [
    {
     "name": "stdout",
     "output_type": "stream",
     "text": [
      "Ratio: med: 0.01% non-med: 0.99%\n",
      "Ratio: med: 0.11% non-med: 0.89%\n"
     ]
    }
   ],
   "source": [
    "print('Ratio: med: {:.2f}% non-med: {:.2f}%'.format(*(np.array(sets['train_labels']).sum(0)/ len(sets['train_labels']))))\n",
    "fn.saturate_training_set(sets, 0.1, seqlen=True)\n",
    "print('Ratio: med: {:.2f}% non-med: {:.2f}%'.format(*(np.array(sets['train_labels']).sum(0)/ len(sets['train_labels']))))"
   ]
  },
  {
   "cell_type": "code",
   "execution_count": 12,
   "metadata": {},
   "outputs": [
    {
     "name": "stderr",
     "output_type": "stream",
     "text": [
      "C:\\Users\\Luka\\Anaconda3\\envs\\tensorflow\\lib\\site-packages\\tensorflow\\python\\ops\\gradients_impl.py:93: UserWarning: Converting sparse IndexedSlices to a dense Tensor of unknown shape. This may consume a large amount of memory.\n",
      "  \"Converting sparse IndexedSlices to a dense Tensor of unknown shape. \"\n"
     ]
    },
    {
     "name": "stdout",
     "output_type": "stream",
     "text": [
      "Progress: 100%\r"
     ]
    },
    {
     "data": {
      "image/png": "[encoded data removed]",
      "text/plain": [
       "<matplotlib.figure.Figure at 0x29c42657240>"
      ]
     },
     "metadata": {},
     "output_type": "display_data"
    },
    {
     "name": "stdout",
     "output_type": "stream",
     "text": [
      "FInal Values: Tr-F1: 0.9993, Val-F1: 0.9572\n",
      "Test F1-Score: 0.9680\n",
      "\n"
     ]
    }
   ],
   "source": [
    "RNN = RNN_Model(vocab_size=len(word_indices), state_size=100, num_classes=2, learn_rate=0.001, emb_layer=emb_layer)\n",
    "RNN.build_graph()\n",
    "results_list = RNN.train(sets=sets, epochs=5, batch=50, report_percentage=1, show_progress=True, show_plot=True)"
   ]
  },
  {
   "cell_type": "code",
   "execution_count": 13,
   "metadata": {
    "collapsed": true
   },
   "outputs": [],
   "source": [
    "res = RNN.predict(sets['test_set'], sets['test_lengths'])\n",
    "tru = np.argmax(sets['test_labels'], 1)"
   ]
  },
  {
   "cell_type": "code",
   "execution_count": 14,
   "metadata": {},
   "outputs": [
    {
     "name": "stdout",
     "output_type": "stream",
     "text": [
      "TP\tTN\tFP\tFN\n",
      "121\t11032\t1\t7\n",
      "\n",
      "Precision: 0.9918\n",
      "Recall: 0.9453\n",
      "F1-Score: 0.9680\n"
     ]
    }
   ],
   "source": [
    "token_perf = fn.token_perf(res, tru)"
   ]
  },
  {
   "cell_type": "code",
   "execution_count": 16,
   "metadata": {},
   "outputs": [
    {
     "data": {
      "text/plain": [
       "0.23336371923427526"
      ]
     },
     "execution_count": 16,
     "metadata": {},
     "output_type": "execute_result"
    }
   ],
   "source": [
    "baseline = [0 if word in target_dict['modes'] else 1 for word in sets['test_words']]\n",
    "sk.metrics.f1_score(tru, baseline, pos_label=0, average='binary')"
   ]
  },
  {
   "cell_type": "code",
   "execution_count": 17,
   "metadata": {},
   "outputs": [
    {
     "name": "stdout",
     "output_type": "stream",
     "text": [
      "drip, drip, transfused, iv, drip, po, iv\n"
     ]
    }
   ],
   "source": [
    "fn.category_words(sets['test_words'], res, tru, 1, 0)"
   ]
  },
  {
   "cell_type": "code",
   "execution_count": 18,
   "metadata": {
    "scrolled": true
   },
   "outputs": [
    {
     "name": "stdout",
     "output_type": "stream",
     "text": [
      "record #<num> <num> | tmh | <num> | | <num> | <num>/<num>/<num> <num>:<num>:<num> am | discharge summary | signed | dis | admission date <num>/<num>/<num> report status signed discharge date <num>/<num>/<num> history ms pizzo is a <num>-year-old woman with peripheral vascular disease who recently underwent revision of her left superior femoral artery anterior tibial bypass graft , who now presents with a cool , ischemic left foot mrs denman is a <num>-year-old , insulin-dependent diabetic with a long history of peripheral vascular disease as well as multiple surgical procedures she underwent a right transmetatarsal amputation in <num> and subsequently underwent a right femorla distal saphenous vein bypass graft in <num> which was later revised in <num>. she seems to be doing well with the left side until july of this year , at which time she underwent a left superficial femoral artery to anterior tibial artery bypass using non-reversed basilic vein harvested from the right arm she , however , had a large great toe ulcer , possibly attributed to hammertoe , which subsequently underwent a left great toe amputation performed on the <num> of october . after this time , she was discharged to the nut hospital in amore pu , where she was making progress in physical therapy and rehabilitation on the day prior to admission , she was exercising with <num> pound weights on her legs with the physical therapist when she described a cool sensation in her foot she reported that her foot had been blue , and there were no dopplerable pulses color later returned the absence of pulses persisted over the course of the night , after which point she was referred back to largrine medical center for evaluation she denies any significant pain or any other complications past medical history remarkable for history of insulin-dependent diabetes , history of coronary artery disease , history of hypertension , cataracts , mrsa from her toe wound on the <num> of september past surgical history notable for the above , as well as debridements of her toe amputation wound site admission medications colace <num> mg bid , insulin lente <num> units \u001b[42mSUBCU\u001b[49m q pm supplemented by sliding scale regular insulin scale , isordil <num> mg tid , zestril <num> mg q d , lopressor <num> mg bid , axid <num> mg bid , ofloxacin <num> mg \u001b[42mPO\u001b[49m q <num> , ecotrin <num> mg q d , vancomycin <num> mg q <num>. she reports an allergy to codeine and iodine admission examination remarkable for the following findings she was afebrile , heart rate <num> , blood pressure <num>/<num>. her right lower extremity was characterized by a well-healed transmetatarsal amputation site the foot was warm and pink the left side , however , was cool in comparison , although remained pink with adequate capillary refill both femoral pulses were easily palpable , as well as dorsal pedal pulse on the right her right posterior tibial pulse was additionally biphasic by doppler on the left , she had a biphasic doppler graft pulse and dorsopedal , although she had no identifiable posterior tibial pulse the remainder of the examination was unremarkable admission labs were likewise unremarkable hospital course mrs bulger was admitted and placed on \u001b[42mINTRAVENOUS\u001b[49m heparin until the following morning , at which time she proceeded to the angiography suite she was found to have two <num>% stenosis in a long segment of the left sfa and the left distal sfa and anterior tibial vein graft was completely thrombosed she was successfully treated with stent placement and received heparin and urokinase in the intensive care unit overnight with a turn-over pulses of the left leg doppler the following day , her stents were removed during the remainder of the hospital course , her left foot remained pink and warm her wound had an infection of exposed bone , but otherwise appeared to be granulating well although left transmetatarsal amputation being considered , it was felt that she had a good chance of healing the wound appropriately she had a single temperature spike , although all cultures remained negative she had continuation of her heparin while she was started on a course of coumadin to reserve patency of her graft the remainder of the hospital course was unremarkable on the <num> of july , she was discharged back to the rose-walt hospital in coln discharge medications vancomycin <num> mg \u001b[42mIV\u001b[49m q d , ofloxacin <num> mg \u001b[42mPO\u001b[49m bid ( both antibiotics to continue for an additional two week course ) , coumadin with target inr of <num>.<num> , last target <num>.<num> , then received <num> mg in evening x <num> additionally , percocet <num>-<num> tablets \u001b[42mPO\u001b[49m q <num> prn , colace <num> mg \u001b[42mPO\u001b[49m bid , insulin nph <num> units \u001b[42mSUBCU\u001b[49m bid , sliding scale insulin \u001b[42mSUBCU\u001b[49m q <num> , isordil <num> mg tid , zestril <num> mg q d , lopressor <num> mg bid , axid <num> mg \u001b[42mPO\u001b[49m bid she will follow with dr noah in one to two weeks dictated by renaldo t dinsmore , md wr<num> attending kelley bruess , md ji<num> up<num>/<num> batch <num> index no k<num>emi<num>g<num>n d <num>/<num>/<num> t <num>/<num>/<num> [report_end] record #<num> <num> | gh | <num> | | <num> | <num>/<num>/<num> <num>:<num>:<num> am | aortic stenosis | signed | dis | admission date <num>/<num>/<num> report status signed discharge date <num>/<num>/<num> attending lesky , lonnie md service cardiac surgery service history of present illness mr serafine is a <num>-year-old gentleman who presented with increasing dyspnea on exertion and new york heart association class iii heart failure the patient also complained of fatigue over the last four years prior to admission he currently denied any angina , diaphoresis , nausea , orthopnea , pnd , presyncope or syncope the patient had been treated with serial transthoracic echocardiograms which revealed an ejection fraction worsening from <num>% down to <num>% along with aortic stenosis the patient underwent cardiac catheterization , which revealed no significant coronary artery disease and elevated left and right heart filling pressures cardiac catheterization was abandoned prematurely due to the increasing filling pressures echocardiogram was performed which revealed an ejection fraction of <num>% , aortic stenosis with a mean gradient of <num> mmhg , a peak gradient of <num> mmhg , calculated valve area of <num>.<num> cm<num> , mild mitral insufficiency , mild tricuspid insufficiency , mild left atrial enlargement , moderately hypertrophied left ventricle , global reduction in left ventricular function more in the apex of the left ventricle mildly enlarged right ventricle with preserved right ventricular function , heavily calcified trileaflet aortic valve with significant restriction and leaflet excursion , reduction left ventricular function compared to previous transthoracic echo one year prior to this present study past medical history significant for class iii heart failure with marked limitation of physical activity , diabetes mellitus insulin-dependent , dyslipidemia , cardiac arrest , status post cardiac catheterization on <num>/<num>/<num> . the patient's course was complicated by marked bradycardia requiring insertion of a temporary pacemaker via a right internal jugular and then complete heart block requiring a st jude dual chamber pacemaker and generator past surgical history significant for permanent pacemaker placement , status post cholecystectomy , history of skin cancer , and status post tonsillectomy allergies patient has no known drug allergies medications on admission atenolol <num>.<num> mg daily , aspirin <num> mg daily , metformin <num> mg bid , and humalog insulin <num> units qid physical examination per physical exam , <num> feet <num> inches tall , <num> kilograms , temperature <num> , heart rate <num> and regular , blood pressure right arm <num>/<num> , left arm <num>/<num> , oxygen saturation <num>% on room air cardiovascular regular rate , and rhythm with <num>/<num> systolic ejection murmur peripheral vascular <num>+ pulses bilaterally throughout respiratory breath sounds clear bilaterally neurologic alert and oriented with no focal deficits , otherwise noncontributory admission labs sodium <num> , potassium <num>.<num> , chloride of <num> , co<num> <num> , bun of <num> , creatinine <num>.<num> , glucose <num> , and magnesium <num>.<num>. wbc <num>.<num> , hematocrit <num> , hemoglobin <num>.<num> , platelets of <num> , <num> , pt of <num>.<num> , pt/inr of <num> , and ptt <num>.<num> hospital course mr delcour was brought to the operating room on <num>/<num>/<num> where he underwent a minimally invasive aortic valve replacement with a <num>-mm carpentier-edwards pericardial valve total bypass time was <num> minutes , total crossclamp time was <num> minutes intraoperatively , the patient was found to have a calcified trileaflet aortic valve the patient came off bypass without incident , was brought to the intensive care unit on <num> mcg of epinephrine and insulin and precedex the patient did well and was brought up in stable condition in normal sinus rhythm postoperatively , the patient was extubated and the electrophysiology service was consulted to evaluate his internal pacemaker which was reprogrammed and functioning well the patient continued to require vigorous diuresis with a lasix \u001b[41mDRIP\u001b[49m he was extubated on postoperative day #<num> without incident the patient was transferred to the step-down unit on postoperative day <num>. the patient experienced some postoperative tachycardia and his beta-blocker was increased with good result he was also found to have a positive urinary tract infection and was started on ciprofloxacin for a total of five days the patient at one point required <num> liters of nasal cannula to get his saturations in the <num>s he did continue to require \u001b[42mINTRAVENOUS\u001b[49m lasix but had weaned lasix \u001b[41mDRIP\u001b[49m and had intermittent boluses of <num> mg iv to promote diuresis with good result he was weaned off his oxygen and the patient began to ambulate and was cleared for discharge to home with visiting nurse on postoperative day #<num> discharge labs are as follows sodium <num> , potassium <num>.<num> , chloride of <num> , co<num> of <num> , bun <num> , creatinine <num>.<num> , glucose <num> , magnesium <num>.<num> , wbc <num>.<num> , hematocrit <num>.<num> , hemoglobin <num>.<num> , platelets of <num> , <num> , pt <num>.<num> , pt/inr of <num>.<num> discharge medications are as follows ciprofloxacin <num> mg q<num>h for remaining four doses , baby aspirin <num> mg daily , lasix <num> mg bid , for three days along with potassium chloride slow release <num> meq bid for three days , motrin <num> mg q<num>h prn pain , novolog <num> units \u001b[42mSUBQ\u001b[49m qac , lantus <num> units \u001b[42mSUBCUTANEOUS\u001b[49m q<num> pm , toprol-xl <num> mg daily , patient was also discharged on novolog sliding scale \u001b[42mSUBCUTANEOUS\u001b[49m qac mr witucki will follow up with dr collin hyman in six weeks and his cardiologist dr louie w eilders in one week disposition he is discharged to home in stable condition with visiting nurse escription document <num>-<num> emssten tel dictated by kreiser , joaquin attending pfeiffenberge , odell dictation id <num> d <num>/<num>/<num> t <num>/<num>/<num> [report_end] record #<num> <num> | wcemc | <num> | | <num> | <num>/<num>/<num> <num>:<num>:<num> am | unstable angina | signed | dis | admission date <num>/<num>/<num> report status signed discharge date <num>/<num>/<num> chief complaint chest pain history of present illness ms dube is a <num>-year-old female status post stent to her left circumflex coronary artery three months prior to admission , with a history of non-insulin dependent diabetes mellitus , hyperlipidemia , hypertension , who presents with left jaw pain for the last several days she treated this at home with \u001b[42mSUBLINGUAL\u001b[49m nitroglycerin with partial relief of her pain she presented to the emergency room and had full resolution of her jaw pain with three \u001b[42mSUBLINGUAL\u001b[49m nitroglycerin of note , when the patient presented with a non-st elevation mi approximately three months prior , she also had left jaw pain since this pain was the patient's classic anginal pain , heparin was started despite the fact that she had negative cardiac enzymes and no ekg changes past medical history non-insulin dependent diabetes mellitus , hypertension , hyperlipidemia , coronary artery disease status post left circumflex stent in may <num> anxiety , depression , left arm phlebitis associated with blood draws after her left circumflex stent was placed status post appendectomy , status post tubal ligation allergies no known drug allergies medications glucophage , lipitor , atenolol , aspirin , \u001b[42mSUBLINGUAL\u001b[49m nitroglycerin prn , zestril , celexa , klonopin , neurontin social history the patient has a daughter who works for erdar y university hospitals she does not smoke nor does she drink alcohol her primary language is spanish family history positive for coronary artery disease the patient's father died of a myocardial infarction at age <num> and her mother died of a myocardial infarction at age <num> vital signs blood pressure <num>-<num>/<num>-<num> , pulse <num>-<num> , respiratory rate <num> , oxygen saturation <num>-<num>% on two liters nasal cannula physical examination general well appearing middle-aged female neck jvp flat cardiovascular regular rate and rhythm with normal s<num> and s<num>. chest clear to auscultation bilaterally abdomen soft , nontender , nondistended positive bowel sounds extremities no lower extremity edema , warm rectal the patient is guaiac negative hospital course by systems <num>. cardiovascular the patient was taken for cardiac catheterization after she was admitted her cardiac catheterization was on may , <num>. prior to her catheterization she was enrolled in the nacan cajord general hospital this was a blinded trial with permsan madiston ni hospital inhibitor in accordance with the trial , the patient was started on lovenox <num> mg per kg \u001b[42mSUBCUTANEOUSLY\u001b[49m bid later that afternoon on may , <num> , she went for cardiac catheterization the cath revealed a right dominant system with no significant left main lesions , no significant left anterior descending lesions , <num>% diffuse lesion in the left circumflex artery consistent with instant restenosis of her previously placed pixel stent the right coronary artery showed a <num>% lesion during this catheterization , brachytherapy to the vessel that showed instant restenosis was attempted , however , it was aborted due to technical malfunction of the brachytherapy delivery machine the lesion was , however , dilated by balloon angioplasty after dilatation there was timi-<num> flow with <num>% residual stenosis postcath the patient did well she was maintained on aspirin , zocor , lopressor , captopril , celexa , klonopin which are her home medications the morning after catheterization , the patient had recurrent chest pain which radiated to her right jaw the pain was relieved with \u001b[42mSUBLINGUAL\u001b[49m nitroglycerin the following day , the patient did well however , she began to develop a right groin hematoma in the afternoon on august , <num>. the hematoma was thought to be rapidly enlarging hematocrit checked at that time revealed a significant drop in blood count to <num>. the patient was \u001b[41mTRANSFUSED\u001b[49m two units of packed red blood cells her hematoma continue to expand overnight the patient was discontinued from lovenox at that time however , she was continued on aspirin and plavix the patient's lovenox was reversed with protamine over the night , the patient's hematoma continued to expand she received , the following morning on january , <num> , one unit of fresh frozen plasma as well as a third unit of packed red blood cells at that point , her hematoma was marked and it was noted to be stable from that point on , no longer expanding beyond the bounds of the marks her left arm was noted at that time to also be tense with hematoma secondary to blood draws vascular surgery was consulted in the morning on january , <num> , in order to assess the right groin hematoma as well as the hematoma in the left arm due to concern for developing compartment syndrome vascular surgery saw the patient and felt that as long as the patient's hematocrit stabilized , she would not need any surgical intervention they could not find any evidence for left upper extremity compartment syndrome at that time also on the morning of january , <num> , the patient's platelets agents including both plavix and aspirin were discontinued further family history was obtained from the patient that day which revealed history suspicious for possible bleeding disorder including the information that the patient's daughter bleeds heavily with each menstrual period , and that both the patient and her daughter have very easy bruising with history of several hematomas secondary to light trauma the patient also reported that she had heavy bleeding with childbirth that required extra hospitalization although it did not require a transfusion hematology was consulted at that point the patient was thought by hematology to have these hematomas secondary to over anticoagulation with lovenox , plavix , aspirin and possible stonde medical center trial drug with a kenda medical center the only familial coagulation problems that were screened for based on their recommendations were von willebrand screen as well as a factor xiii screen the factor xiii screen eventually turned out normal and the von willebrand screen was pending at the time of discharge by the morning of november , <num> , the patient had received a total of five units of packed red blood cells due to blood loss secondary to this hematoma her hematoma had stabilized at that time she was restarted on aspirin on november , <num>. from that point onward , the patient did quite well and was maintained on aspirin , beta-blocker , zocor and ace inhibitor the remainder of her hospitalization was uncomplicated and after the patient had a stable hematocrit for several days without any recurrent jaw pain , she was discharged home on march , <num> neurology on november , <num> , the patient developed a headache which she described as the same as she frequently experiences at home her headaches are usually not responsive to tylenol or other analgesics given the patient's complications with hematoma and bleeding , a head ct was obtained that afternoon to rule out intracerebral hemorrhage her head ct was negative for bleeding her headache was treated with tylenol to which it did not respond and later with percocet to which she got some relief discharge medications aspirin <num> mg \u001b[42mPO\u001b[49m q day , klonopin <num>.<num> mg tid , glucophage <num> mg bid , celexa <num> mg \u001b[42mPO\u001b[49m qd , zestril <num>.<num> mg qd , atenolol <num> mg \u001b[42mPO\u001b[49m qd , lipitor <num> mg \u001b[42mPO\u001b[49m qhs follow up the patient was instructed to follow up with her primary care physician , dr bazer dictated by luke drentlaw , md hj<num> attending mark wilkes , md al<num> dz<num>/<num> batch <num> index no qddy<num>i<num> d <num>/<num>/<num> t <num>/<num>/<num> [report_end] record #<num> <num> | vuh | <num> | | <num> | <num>/<num>/<num> <num>:<num>:<num> am | cellulitis | signed | dis | admission date <num>/<num>/<num> report status signed discharge date <num>/<num>/<num> attending waterfall , sammy md medical service general medicine team he drive , ville sas oaksco history of present illness mr quigg is a <num>-year-old man with history of diabetes , end-stage renal disease on hemodialysis , left charcot foot complicated by recurrent cellulitis , who presented with left lower leg swelling , erythema , and pain the patient does not recall having fevers at home , however , notes that he \"get fevers all the time\" so he feels that he may not have noticed he did report that he had a temperature to about <num> and hemodialysis prior to admission for which he received one dose of vancomycin he denied having any symptoms of headache , chest pain , shortness of breath , abdominal pain , joint aches or rash he did endorse feeling fatigued with little energy the patient was referred to the emergency department given his temperature of <num> at hemodialysis the patient has a long history of pain in his left foot secondary to charcot joint and chronic recurrent cellulitis including a history of mrsa cellulitis he has had numerous admissions to smc in the past year for treatment of the foot for which he received several courses of antibiotics he was treated from <num>/<num> through <num>/<num> with antibiotics posthemodialysis at the end of <num>/<num> , after returning from weekend away he had severe exacerbation of the pain in his left foot with progressive development of swelling on the bottom of his foot at this time , he had extensive evaluation including an mri of the foot and it was felt that there was no evidence of osteomyelitis his antibiotics were discontinued at this time and he was discharged to a nursing home for rehabilitation he remained in the nursing home from <num>/<num> through <num>/<num> and was discharged home two weeks prior to admission past medical history <num>. diabetes since the age of <num> , unclear if it is type <num> or type <num>. the patient reports that he has a history of type <num> diabetes , but also reports that he had been without insulin for three years after diagnosis he does have consequent neuropathy , retinopathy , and nephropathy <num>. end-stage renal disease on hemodialysis since <num>/<num> <num>. diabetic neuropathy in his legs bilaterally and charcot feet bilaterally <num>. history of a left foot , fourth metatarsal osteomyelitis with surgical resection of the left fourth digit <num>. retinopathy with history of retinal hemorrhage and vitrectomy <num>. hypertension x<num> years with a history of malignant hypertension with documented ophthalmologic and renal involvement <num>. gastroesophageal reflux disease <num>. hyperlipidemia <num>. recurrent lower extremity cellulitis <num>. history of chronic right foot ulcer home medications colace <num> mg bid , folate <num> mg \u001b[42mPO\u001b[49m daily , gemfibrozil <num> mg bid , lantus <num> mg \u001b[42mSUBCU\u001b[49m qpm , lipitor <num> mg nightly , nephrocaps , neurontin <num> mg daily , phoslo <num> mg tid , protonix <num> mg daily , renagel <num> mg tid , requip <num> mg \u001b[42mPO\u001b[49m bid , coumadin allergies the patient has no known drug allergies family history significant for diabetes social history the patient lives with his parents and his <num>-year-old daughter physical examination on admission the patient had a temperature <num>.<num> , heart rate of <num> , a blood pressure of <num>/<num> , he was satting <num>% on room air physical exam on admission notable for a <num>/<num> systolic ejection murmur heard best at the left lower sternal border his left lower extremity was notable for <num>+ pitting edema with erythema on the anterior shin and as well as the foot it was also associated with increased warmth pertinent studies radiology cxr ( <num>/<num>/<num> ): no acute cardiopulmonary disease mri le ( <num>/<num>/<num> ): <num> cm fluid pocket in the subcutaneous tissue of the plantar aspect of the left foot demonstrating communication with the medial tendon sheaths and the ankle joint with findings worrisome for abscess and osteomyelitis of at least the medial malleolus , calcaneus , cuboid and talus labs lfts wnl alb <num>.<num> esr <num> , crp <num> hep b surf ag negative , hcv ab negative ( <num>/<num>/<num> ) micro blood cx <num>/<num>/<num> , <num> growth foot aspirate ( <num>/<num>/<num> ): gram stain-<num>+ polys , no org cx without growth ankle aspirate ( <num>/<num>/<num> ): gm stain-<num>+ polys , no org cx without growth pathology from l bka ( <num>/<num>/<num> )-clean margins consults orthopedics ( dr bourgault ) , id ( dr antinoro ) , psychiatry ( dr czach ) , acute pain service hospital course by system <num> ) id-given his presentation of l lower leg swelling and erythema , mr bock was started on vancomycin and unasyn in the emergency department an x-ray of his l foot revealed significant fragmentation and erosion of the tarsal/metatarsal bases and focal soft tissue abnormality in the plantar region concerning for abscess formation and possible osteomyelitis in the setting of known charcot arthropathy as well as diffuse soft tissue swelling extending along the calf given these findings , he was ordered for an mri with his mri pending and his l leg looking somewhat improved , his unasyn was discontinued on hd <num> and he was started on augmentin and his vancomycin was continued given his history of mrsa cellulitis in the past he spiked a fever on hd <num> and again on hd <num>. on hd <num> , he had an mri under conscious sedation ( was attempted prior to this , but pt unable to tolerate ). mri revealed <num> cm fluid pocket in the subcutaneous tissue of the plantar aspect of the left foot demonstrating communication with the medial tendon sheaths and the ankle joint with findings worrisome for abscess and osteomyelitis of at least the medial malleolus , calcaneus , cuboid and talus infectious disease was consulted and he was started on \u001b[42mIV\u001b[49m levofloxacin and \u001b[41mIV\u001b[49m flagyl to cover gram negatives and anaerobes respectively and his vancomycin continued to be dosed for level less than <num> orthopedics was consulted who performed an arthrocentesis of his ankle as well as an arthrocentesis of the fluid collection at the bottom of his foot ankle aspirate gram stain was negative , but with <num>+ polys fluid differential revealed &gt<num> , <num> wbcs in consultation with infectious disease , orthopedics , and the patient , it was decided that the best course of action would be a l below knee amputation given the extent of the infection this was performed on hd <num> by dr miears he did have fever spikes again on hd <num>-<num> and had repeat blood cultures which were negative an echocardiogram was performed on hd <num>. while he did have a tiny focal thickening of the aortic cusp , this was reviewed with cardiology and infectious disease and was not though to represent a vegetation he was afebrile x &gt<num> hours prior to discharge his surgical pathology returned with clean margins on day of discharge , and as per id consult service , he does not need further antibiotics he should have dry sterile dressing changes to his residual limb daily he may need an extra dose of pain medication prior to this if there is any evidence of erythema or drainage , dr fuller 's office should be contacted at <num>-<num>-<num> <num> ) renal-mr merriweather was on the renal service and had hemodialysis <num> times a week ( m/w/f ) without complication of note , he is awaiting kidney transplant from his sister and is followed by dr felix zelle at nnh <num> ) heme-mr vaeth was on coumadin as an outpatient we obtained his hospital records from nuom and a vascular study from <num>/<num> showed evidence of a dvt in the l internal jugular vein from <num>/<num> the details surrounding this dvt are not documented , however mr tirona reports that his vascular surgeon told him that he should remain on coumadin his coumadin was held prior to going to the or and he was placed on a heparin \u001b[42mDRIP\u001b[49m his coumadin was restarted after his bka and he was bridged with heparin with a goal ptt of <num>-<num>. prior to discharge , he ptt was <num> and his heparin \u001b[42mDRIP\u001b[49m was decreased from <num> to <num>units per hours he should have a repeat ptt checked on transfer to his acute rehabilitation center with goal ptt <num>-<num>. inr on day of discharge was <num>.<num> , <num>.<num> day prior to discharge his heparin \u001b[42mDRIP\u001b[49m can be discontinued once his inr is therapeutic with goal of <num>-<num> his inr will need to be followed every <num>-<num> days until stable off of levofloxacin <num> ) cv ischemia-mr grana was on gemfibrozil <num>mg bid and lipitor <num>mg as an outpatient his lipid panel was checked tc <num> , tg <num> , ldl <num> , hdl <num>. given that his ldl was <num> and the risk of rhabdomylosis on high dose gemfibrozil and lipitor , his lipitor was decreased to <num>mg he should have a repeat lipid panel in <num>-<num> weeks he was also started on low dose b-blocker to reduce perioperative mi risk prior to his surgery he reported that he is not on aspirin given that he has had b/l vitrectomies and his doctor felt that the risk of bleeding was too high this can be readdressed as an outpatient pump-pt had elevated systolic blood pressures to the <num>s in the beginning of his stay he was started on lisinopril which was uptitrated to <num>mg and also lopressor rhtyhm-he had no evidence of arrythmias <num> ) endocrine-mr rovella has dm which was diagnosed at age <num>. it is unclear if he has type i or ii as he reported that he was told he has type i , but had a three year stint after diagnosis where he was not on insulin his fs on admission were elevated , likely secondary to his infection and his lantus was uptitrated he was also started on prandial coverage prior to discharge , he was his home dose of lantus as well as aspart with meals he reported that he already has an outpatient endocrinologist with whom he will follow up an hga<num>c was <num>.<num> <num> ) pain-mr vanhee had significant post operative pain which seemed to be mostly phantom limb pain the acute pain service was consulted and he was initially placed on a ketamine \u001b[42mDRIP\u001b[49m and fentanyl pca his fentanyl pca and ketamine \u001b[41mDRIP\u001b[49m were discontinued and he was started on oxycontin <num>mg tid with oxycodone for breakthrough pain he was also started on lyrica for neuropathic pain he was comfortable prior to discharge on this current regimen as his pain improves , he pain regimen should be decreased <num> ) psychiatry-after learning that he would likely receive a transplant from his sister , mr potvin reports that he has had significant anxiety prior to going for dialysis psychiatry service was consulted who recommended low dose ativan prior to him going to dialysis discharge exam gen pleasant , well appearing gentleman , in nad vs tmax <num>.<num> tc <num>.<num> bp <num>-<num> /<num>-<num> p <num>-<num> r <num> <num>% on ra pulm cta bilaterally , no rales/wheezes cv rrr , ii/vi sem at lsb , normal s<num>/s<num> abd obese , soft , nt , nabs , no hsm ext l residual limb with dressing that is clean/dry/intact labs on day of discharge ( prior to dialysis ) na <num> , k <num>.<num> , cr <num>.<num> , wbc <num>.<num> , hct <num>.<num> , inr <num>.<num> , ptt <num> to do -dry sterile dressing changes to l residual limb daily if evidence of erythema , drainage , please contact dr mcclain ???s office at <num>-<num>-<num> -check ptt on admission to rehabilitation with goal ptt <num>-<num>; can d/c heparin once inr therapeutic at <num>-<num> -daily inr until stable at goal <num>-<num> off of levofloxacin will likely need to titrate coumadin -monitor fs and adjust dm regimen as needed -monitor pain scale and decrease pain medications as pain improves -hemodialysis m/w/f follow up -dr carpino voice message was left on his medical assistant???s voice mail at <num>-<num>-<num> to contact pt???s parents to arrange follow up appt in <num>-<num> days for wound check -dr lynes <num>/<num>/<num> at <num>:<num>am escription document <num>-<num> cssten tel dictated by agtarap , guadalupe attending carmin , marlin dictation id <num> d <num>/<num>/<num> t <num>/<num>/<num> [report_end] record #<num> <num> | zmc | <num> | | <num> | <num>/<num>/<num> <num>:<num>:<num> am | congestive heart failure | signed | dis | admission date <num>/<num>/<num> report status signed discharge date <num>/<num>/<num> principal diagnosis <num>. congestive heart failure <num>. atrial flutter significant problems <num>. hypertension <num>. non-insulin dependent diabetes mellitus <num>. hypercholesterolemia <num>. hypothyroidism <num>. ischemic cardiomyopathy <num>. status post cardioversion to sinus rhythm history of present illness mr zack nieman is a <num>-year-old white man with ischemic cardiomyopathy , status post coronary artery bypass graft in <num> with left internal mammary artery to left anterior descending , saphenous vein graft to posterior descending artery , saphenous vein graft to obtuse marginal branch he had a repeat coronary artery bypass graft done in <num> with saphenous vein graft to first diagonal , saphenous vein graft to obtuse marginal , and saphenous vein graft to posterior descending artery the course was complicated by ventricular tachycardia requiring aicd placement and treatment with amiodarone the patient also developed hyperthyroidism secondary to amiodarone , treated with ptu , then developed hypothyroidism , treated with levothyroxine over the past few months the patient has had multiple episodes of pulmonary congestion about one week ago prior to this admission the patient was admitted to rorea valley health for iv diuresis echocardiography demonstrated that a reduced lv ejection fraction in the mid <num>'s with moderate mitral regurgitation recent ekgs provided by the scot free of hospital and on admission here shows atrial flutter with variable ventricular rate on admission the patient denied peripheral edema , orthopnea , or recent gain in weight a recent tsh revealed <num>. no recent excess caffeine or alcohol consumption past medical history significant for ( <num> ) coronary artery disease , status post coronary artery bypass graft times two ( <num> ) hypertension ( <num> ) hypothyroidism ( <num> ) dyslipidemia ( <num> ) benign prostatic hypertrophy ( <num> ) degenerative joint disease ( <num> ) non-insulin dependent diabetes mellitus allergies the patient has a known allergy to morphine and to tetanus toxoid family history father died of myocardial infarction at age <num> mother died of myocardial infarction at age <num> social history no tobacco use no alcohol use very active athletically he works as a superintendant physical examination general appearance , very pleasant man in no apparent distress temperature <num>.<num> , pulse <num> , blood pressure <num>/<num> , respirations <num> , o<num> saturation <num>% on two liters heent pupils are equal , round , and reactive to light sclerae anicteric oral pharynx clear and moist jugular venous pressure about <num>-<num> cm no carotid bruits chest clear to auscultation and percussion no rales and no wheezes heart paradoxical s<num> , ii/vi systolic murmur abdomen soft , nontender , with no pulsatile masses lower extremities no edema , no cyanosis , or clubbing rectal examination normal , guaiac negative neurological examination grossly intact admission laboratory studies sodium <num> , potassium <num>.<num> , chloride <num> , bicarb <num> , bun <num> , creatinine <num>.<num> , glucose <num> , ast <num> , alk <num> , total bilirubin <num>.<num> , calcium <num>.<num> , total protein <num>.<num> , albumin <num>.<num> , magnesium <num>.<num> , ck <num> , mb <num>.<num> , pt <num>.<num> , inr <num>.<num> , ptt <num>.<num>. urinalysis <num>+ glucose , otherwise negative ekg revealed atrial flutter with variable block ( <num>:<num> versus <num>:<num> ) , rate around <num> , left bundle branche block echocardiogram revealed ejection fraction about <num>% with <num>+ mitral regurgitation hospital course the patient's hospital course was notable for the following upon transfer from nes hospital to a hospital the patient had no complaints of shortness of breath or chest pain however , the patient was having atrial flutter with various blocks the ventricular response at that time was between <num>-<num>. on the day of admission the patient also had echocardiogram repeated which revealed ejection fraction <num>% with <num>+ mitral regurgitation because of his rapid ventricular response , digoxin was started with a loading dose of <num>.<num> mg , then <num>.<num> mg times two q six hours the patient was then on a maintenance dose of digoxin at <num>.<num> mg \u001b[42mPO\u001b[49m q day , and his digoxin level has been maintained around <num>.<num>. for his rate control , the amiodarone was also increased to <num> mg q day , and the patient was started on anticoagulation with heparin on november the patient underwent cardiac catheterization which revealed old grafts serving the left anterior descending , posterior descending artery , obtuse marginal , patent the saphenous vein graft to first diagonal has <num>% proximal stenosis left ventricular ejection fraction estimated at <num>-<num>%. post catheterization the patient had no complications the patient also had a tee done which showed no thrombosis therefore on july the patient underwent cardioversion through his aicd by the electrophysiological service with successful conversion to normal sinus rhythm the patient was loaded with coumadin and meanwhile on heparin until inr between <num>-<num> for further investigation of his cardiomyopathy , iron studies were sent to rule out hemochromatosis the results were negative cardiomyopathy consult was also obtained to follow-up the patient the patient will be discharged when his inr approaches the therapeutic level , which is between <num>-<num> discharge medications amiodarone <num> mg \u001b[42mPO\u001b[49m qd , captopril <num> mg \u001b[42mPO\u001b[49m tid , clonazepam <num> mg \u001b[42mPO\u001b[49m q hs , klonopin <num>.<num> mg \u001b[42mPO\u001b[49m q am , digoxin <num>.<num> mg \u001b[42mPO\u001b[49m qd , lasix <num> mg \u001b[42mPO\u001b[49m bid , glipizide <num> mg \u001b[42mPO\u001b[49m qd , levothyroxine sodium <num> mcg \u001b[42mPO\u001b[49m qd , magnesium oxide <num> mg \u001b[42mPO\u001b[49m qd , lopressor <num> mg \u001b[42mPO\u001b[49m bid , nitroglycerin <num>/<num> ( <num>.<num> mg ) one tab \u001b[42mSUBLINGUAL\u001b[49m q five minutes times three , coumadin <num> mg \u001b[42mPO\u001b[49m q day until inr between <num>-<num> then the dose needs to be adjusted accordingly to maintain inr between <num>-<num> , simvastatin <num> mg \u001b[42mPO\u001b[49m q hs , isosorbide , mononitrate-sr <num> mg \u001b[42mPO\u001b[49m qd , and troglipazone <num> mg \u001b[42mPO\u001b[49m q day condition upon discharge stable disposition/follow-up the patient will be discharged to home on <num> of august with a follow-up appointment with dr furbeck , rudy lonny napoleon d of the cardiomyopathy service dictated by bradley wrobliski , md attending tyson c accomando , md le<num> ka<num>/<num> batch <num> index no glfc<num>z d <num>/<num>/<num> t <num>/<num>/<num> [report_end] record #<num> <num> | s | <num> | | <num> | <num>/<num>/<num> <num>:<num>:<num> am | altered mental status | unsigned | dis | admission date <num>/<num>/<num> report status unsigned discharge date <num>/<num>/<num> attending tuxhorn , levi md addendum hospital course neuro starting on <num>/<num>/<num> the patient had an episode of agitation on hemodialysis where he received ativan and continued to be agitated and required multiple code greys to sedate him a team meeting was held on <num>/<num>/<num> and per psychiatry recommendations the patient was started on <num> mg bid of depakote , haldol was reduced to just monday-wednesday-friday <num> mg before hemodialysis and <num> mg prn agitation the patient did very well on this regimen and his depakote level was stable at <num>.<num> on discharge the plan is to continue depakote bid <num> mg with haldol prn for behavior in terms of his mental status on discharge , the patient was a&ampo x<num> and appropriate in terms of cardiac , there were no additional events to report in terms of pulmonary , the patient was diagnosed with pneumonia on <num>/<num>/<num> and started on ceftriaxone \u001b[42mIV\u001b[49m and flagyl this was changed to cefpodoxime and flagyl for discharge in terms of his pneumonia that was evident right lower lobe pneumonia on chest x-ray and the patient was also spiking fevers and had audible rales on exam in terms of gi , the patient continued tolerate regular diet and nutrition continued to follow ensuring adequate po intake and adjusting diet per endocrine needs in terms of endocrine , the addendum to <num>/<num>/<num> , the patient ultimately discontinued on a regimen of <num> units of lantus qam and qpm with <num> units aspart qac breakfast and lunch and <num> units of aspart qac dinner his sliding scale was very light and he is only to be covered with one to two units of aspart during the night as insulin stacks in this patient very easily it was recommended if the patient is noted to be in the low <num>s consistently through the course of the day that his next dose of aspart be either halved or held as the patient easily becomes hypoglycemic and is unable to recognize the symptoms of hypoglycemia himself at the time of discharge , the patient's fingersticks were well controlled in the <num>-<num> range in terms of id , the patient began to spike fevers on <num>/<num>/<num> with a t max of <num>.<num> and blood cultures failed to show anything as did sputum cultures on <num>/<num>/<num> , the patient spiked to <num>.<num> and had evidence of pneumonia on his chest x-ray he was started on antibiotics of ceftriaxone and flagyl , which was switched to cefpodoxime and flagyl for discharge the cefpodoxime should be dosed after dialysis on monday-wednesday-friday in terms of disposition , the patient has been discharged to rehab where he will continue hemodialysis on monday-wednesday-friday and continues to have the same medication rx as he did well in house specific care should be given to his insulin regimen as well as his behavior control and nutrition as noted in the discharge instructions again please cc dr donte tasker , dr byron hague , dr bolin on this discharge summary addendum to medications on discharge phoslo <num> mg \u001b[42mPO\u001b[49m tid , depakote <num> mg \u001b[42mPO\u001b[49m bid , folate <num> mg \u001b[42mPO\u001b[49m daily , haldol <num> mg \u001b[42mIV\u001b[49m on monday-wednesday-friday given prior to hemodialysis , labetalol <num> mg \u001b[42mPO\u001b[49m bid , lisinopril <num> mg \u001b[42mPO\u001b[49m daily , flagyl <num> mg \u001b[42mPO\u001b[49m tid for <num> days , thiamine <num> mg \u001b[42mPO\u001b[49m daily , norvasc <num> mg \u001b[42mPO\u001b[49m daily , gabapentin <num> mg \u001b[42mPO\u001b[49m qhs , cefpodoxime <num> mg \u001b[42mPO\u001b[49m three times a week on monday-wednesday-friday for eight doses given after hemodialysis , nephrocaps one tablet \u001b[42mPO\u001b[49m daily , sevelamer <num> mg \u001b[42mPO\u001b[49m tid , advair diskus <num>/<num> one puff bid , nexium <num> mg \u001b[42mPO\u001b[49m daily , lantus <num> units \u001b[42mSUBCUTANEOUS\u001b[49m bid once in the morning and once evening , aspart <num> units \u001b[42mSUBCUTANEOUS\u001b[49m before dinner and <num> units \u001b[42mSUBCUTANEOUS\u001b[49m before breakfast and <num> units \u001b[42mSUBCUTANEOUS\u001b[49m before lunch , aspart sliding scale starting at blood sugar less than <num> give <num> units , blood sugar <num>-<num> give <num> units , blood sugar <num>-<num> give <num> unit , blood sugar <num>-<num> give <num> units , blood sugar <num>-<num> give <num> units , albuterol butt paste \u001b[42mTOPICAL\u001b[49m daily , and then prn tylenol <num> mg prn pain , headache , or temperature , albuterol inhaler prn wheezing , haldol <num> mg \u001b[42mIV\u001b[49m q <num>h prn agitation if more than three doses given in a day please check qtc on the ekg loperamide <num> mg \u001b[42mPO\u001b[49m q <num>h prn diarrhea escription document <num>-<num> emssten tel cc rickie botros md ston snahsi cord cc reuben willett md reidettefirm stook memorial medical center tamp cc freeman hoskie md landter rock haysna dictated by spirer , sanford attending gravett , jacques dictation id <num> d <num>/<num>/<num> t <num>/<num>/<num> [report_end] record #<num> <num> | nmh | <num> | | <num> | <num>/<num>/<num> <num>:<num>:<num> am | unstable angina , r/o myocardial infarction | signed | dis | admission date <num>/<num>/<num> report status signed discharge date <num>/<num>/<num> admission diagnosis chest pain of unclear etiology history of the present illness ms veltin is a <num> year old woman with a past medical history significant for coronary artery disease , diabetes , and hypertension who presented with worsening chest pain and shortness of breath she had a long history of coronary artery disease with an exercise stress test in <num> that was positive for ischemic st-t wave changes she had a catheterization at that time which revealed diffuse three vessel disease , none of which was significant in <num> , she developed a left bundle branch on her ekg but it was not clear when exactly this happened she stated that for the past year , she got these stabbing pains in the center of her chest that then progressed to a squeezing pain with palpitations sometimes , there was relation to exertion but no relation to meals or position and this chest pain had been increasing in frequency over the past two to three weeks so now it occurred approximately two to three times a week and was associated with shortness of breath two days prior to admission , she developed constant chest pain that went to her left arm and made four of her left fingers numb she was quite short of breath though she denied paroxysmal nocturnal dyspnea , orthopnea , lower extremity edema , increased nocturia , and diet or medication noncompliance past medical history significant also for diabetes for which she took insulin and checked her sugars at home which ran <num> range to <num> range , hypertension , and she had idiopathic drop attacks she got these episodes where her legs fell out from under her without warning but she did not lose consciousness she had had an mri/mra that showed some diffuse small vessel disease but the mra was normal current medications atenolol <num> bid , hydrochlorothiazide <num> qd , lisinopril <num> qd , simvastatin <num> qd , metformin <num> qd , and nph <num> qam and <num> qpm allergies penicillin caused a rash and intravenous contrast dye caused hives social history she was a retired nurses' aide who retired in <num> , she was a widow , and she had two living children who were grown she lived alone and took care of her eight year old great-grandson but had a daughter and son-in-law who lived next door physical examination on admission , significant for an elderly obese african-american woman lying in bed in some mild respiratory distress her oropharynx was moist , her jugular venous pressure was <num> cm , her lungs had scattered crackles at the bases , her heart was regular with an s<num> , her belly was soft and nontender , her extremities had trace edema , and her rectal examination showed guaiac negative brown stool laboratory examination her ekg showed a left bundle branch block and chest x-ray showed mild pulmonary edema and kerley b lines her laboratories on admission were all within normal limits her initial ck was <num> with troponin of <num>.<num> assessment in summary , this is a <num> year old woman with multiple cardiac risk factors who presented with chest pain of unclear etiology she was admitted for evaluation hospital course <num>. cardiovascular - she was admitted for catheterization which showed three vessel disease , again nonsignificant and not changed from the catheterization in <num>. she ruled out for a myocardial infarction she had an echo which showed some element of diastolic dysfunction and pulmonary artery systolic pressure of <num> plus ra but no wall motion abnormalities it was felt that she had some element of diastolic dysfunction that caused her to go into a bit of pulmonary edema , maybe subendocardial ischemia therefore , while she was maintained on her aspirin and simvastatin , her blood pressure regimen was advanced her heart rate was in the fifties to sixties and atenolol <num> bid was added she was on a maximum of lisinopril at <num> milligrams so nifedipine extended release was added and titrated up to <num> milligrams qd where she maintained systolic blood pressures in the <num> range nevertheless this could be further titrated as an outpatient <num>. for her congestive heart failure , she diuresed approximately four liters through admission with lasix at <num> \u001b[42mINTRAVENOUSLY\u001b[49m and would be discharged on a seven day course of lasix at <num> \u001b[41mPO\u001b[49m qd for further diuresis <num>. pulmonary - she did have hypoxia on admission to <num>% on room air while lying in bed this was felt to be out of proportion to her mild congestive heart failure and further causes were sought her d-dymer was greater than <num> and she then went for a v/q scan which was low probability her lower extremity noninvasives were negative she also had a chest ct which showed no interstitial lung disease she had pulmonary function tests which were consistent with restrictive picture and were not much changed from her pulmonary function tests in <num>. a pulmonary consultation was obtained who believed that the congestive heart failure along with obesity underlying restrictive lung disease could be the cause of her hypoxia and , in fact , after further diuresis , her shortness of breath much improved and she had o<num> saturations that were <num>% on room air <num>. endocrine - she was maintained on metformin during admission and also on half of her dose of her normal dose of nph given her decreased po intake , however , given the fact that she stated that her sugars at home on her regimen of <num> qam and <num> qpm were <num> to <num> , she was discharged on this regimen with instructions to check her sugar and call her doctor if they were low disposition she is discharged in stable condition on march , <num>. she will follow up with dr nakajima , her primary care doctor , and in addition , with dr klang , her cardiologist discharge medications atenolol <num> bid , hydrochlorothiazide <num> qd , lisinopril <num> qd , nifedipine extended release <num> qd , metformin <num> qd , nph <num> qam and <num> qpm , simvastatin <num> qd , aspirin <num> qd , and lasix <num> milligrams \u001b[42mPO\u001b[49m qd times seven days dictated by victor lietzow , md zt<num> attending cory r lorsung , md jb<num> xf<num>/<num> batch <num> index no xspa<num>l<num> d <num>/<num> t <num>/<num> [report_end] record #<num> <num> | smc | <num> | | <num> | <num>/<num>/<num> <num>:<num>:<num> am | diabetic foot | | dis | admission date <num>/<num>/<num> report status discharge date <num>/<num>/<num> ****** final discharge orders ****** santigo , bruno <num>-<num>-<num>-<num> boise service med discharge patient on <num>/<num>/<num> at <num>:<num> pm contingent upon not applicable will d/c order be used as the d/c summary yes attending fohl , bret r , md , phd code status full code disposition home discharge medications glyburide <num>.<num> mg \u001b[42mPO\u001b[49m qd hold if npo lisinopril <num> mg \u001b[42mPO\u001b[49m qd hold if sbp&lt<num> override notice override added on <num>/<num>/<num> by coffer , clifford m , md , mph on order for kcl immediate release \u001b[42mPO\u001b[49m ( ref # <num> ) potentially serious interaction lisinopril &amp potassium chloride reason for override as needed sarna \u001b[42mTOPICAL\u001b[49m \u001b[42mTP\u001b[49m qd instructions for bilateral lower extremity rash coumadin ( warfarin sodium ) <num> mg \u001b[42mPO\u001b[49m qpm starting routine , <num>:<num> ( standard admin time ) hold if inr&gt<num>.o food/drug interaction instruction no high vitamin-k containing foods override notice override added on <num>/<num>/<num> by bresser , carroll b , md , mph on order for ciprofloxacin \u001b[42mPO\u001b[49m ( ref # <num> ) potentially serious interaction warfarin &amp ciprofloxacin hcl reason for override will follow inr previous override information override added on <num>/<num>/<num> by huyett , branden q , md , mph on order for simvastatin \u001b[42mPO\u001b[49m ( ref # <num> ) potentially serious interaction warfarin &amp simvastatin reason for override pt takes at home simvastatin <num> mg \u001b[42mPO\u001b[49m qhs food/drug interaction instruction avoid grapefruit unless md instructs otherwise alert overridden override added on <num>/<num>/<num> by urbancic , reggie k , md , mph potentially serious interaction warfarin &amp simvastatin reason for override pt takes at home miconazole nitrate <num>% powder \u001b[42mTOPICAL\u001b[49m \u001b[42mTP\u001b[49m bid linezolid <num> mg \u001b[42mPO\u001b[49m bid starting today ( <num>/<num> ) food/drug interaction instruction this order has received infectious disease approval from slocombe , brendan lamar , md number of doses required ( approximate ): <num> nexium ( esomeprazole ) <num> mg \u001b[42mPO\u001b[49m qd acetylsalicylic acid <num> mg \u001b[42mPO\u001b[49m qd alert overridden override added on <num>/<num>/<num> by : potentially serious interaction warfarin &amp aspirin reason for override ok diet no restrictions activity resume regular exercise follow up appointment( s ): vasc ular surgery , pcp , arrange inr to be drawn on <num>/<num>/<num> with f/u inr's to be drawn every <num> days inr's will be followed by pcp no known allergies admit diagnosis diabetic foot principal discharge diagnosis ;responsible after study for causing admission ) diabetic foot other diagnosisconditions , infections , complications , affecting treatment/stay diabetes ( diabetes mellitus ) htn ( hypertension ) edema ( peripheral edema ) obesity ( obesity ) recurrent cellulitis ( cellulitis ) mitral prolapse ( mitral valve prolapse ) uti ( urinary tract infection ) atopic dermatitis ( dermatitis ) operations and procedures debridement of r foot other treatments/procedures ( not in or ) foot xray brief resume of hospital course id <num> yo female --- cc rle ulceration/redness/pain --- dx diabetic foot ulcer --- hpi <num> yo female with dmii , pvd , chronic af now with ddi pacer on coumadin who has had history of recurrent le ulcerations and infections she had the left foot amputated <num>/<num> and has been considering amputation of the right pt was admitted on <num>/<num> for cellulitis and r foot ulcer she was treated with \u001b[41mIV\u001b[49m unasyn for <num> days and switched to linezolid as out pt med while in house pt was seen by ortho and id on <num>/<num> pt saw dermatologist and ulcer was found to extend to bone and left foot appeared cyanotic- worrisome for vascular compromise pt was sent to the hosp for further management --- status vs t<num>.<num> hr<num> bp<num>/<num> rr <num> sao<num>:<num>%ra gen nad neck no jvd chest cta bilaterally cv rrr s<num> , s<num> <num>/<num> sem at base , no gallop abd soft , nt , nd , bowel sounds present ext left foot amputated , r with charcot joint/hindfoot varus , erthema , draining ulcer fifth metatarcel , edema --- events seen by vascular surg in ed- left foot not cyanotic <num>/<num> admitted to medicine --- tests/procedures <num>/<num> - rle plain films - neg for osteomyelitis --- consults <num>/<num> id <num>/<num> ortho - followed by dr smithhisler --- problem list --- <num>. ) rle ulcer - diabetic foot ulcer with ? osteo pt started on vanc and cipro bone scan and plain films from prior hospitalzations were neg will await new plain film result ortho and id were consulted id recommended d/c vanc and levo and starting linezolid ortho debrided wound and could not probe to bone --- <num>. ) lle cyanosis seen by vascular , no emergent intervention required pt to be seen by out pt vascular surgeon on <num>/<num>/<num> , will deffer for further testing --- <num>. ) elevated cr baseline will hydrate --- <num>. ) dmii - on glyburide , ada diet , riss --- <num>. ) af/sss - has ddi ppm in and is on coumadin --- <num>. ) ckd - likely secondary to dm - at baseline --- <num>. ) full code additional comments pls follow up with your vascular surgeon- dr vais on <num>/<num>/<num> pls follow up with your orthopedic surgeon pls follow up with your pcp pls continue daily wet to dry wound changes pls take antibiotics as prescribed discharge condition stable to do/plan abx- linezolid for <num> wks inr check on <num>/<num>/<num> follow up appointments with ortho , vascular and pcp no dictated summary entered by carmony , porter l , md ( gd<num> ) <num>/<num>/<num> @ <num>:<num> pm ****** end of discharge orders ****** [report_end] record #<num> <num> | fc | <num> | | <num> | <num>/<num>/<num> <num>:<num>:<num> am | mechanical fall | | dis | admission date <num>/<num>/<num> report status discharge date <num>/<num>/<num> ****** final discharge orders ****** bogus , archie <num>-<num>-<num>-<num> pend in service med discharge patient on <num>/<num>/<num> at <num>:<num> pm contingent upon not applicable will d/c order be used as the d/c summary yes attending malsch , kenny rickie , md code status full code disposition home w/ services discharge medications amiodarone <num> mg \u001b[42mPO\u001b[49m daily norvasc ( amlodipine ) <num> mg \u001b[42mPO\u001b[49m daily hold if sbp&lt<num> food/drug interaction instruction avoid grapefruit unless md instructs otherwise tears naturale ( artificial tears ) <num> drop \u001b[42mOU\u001b[49m tid colace ( docusate sodium ) <num> mg \u001b[42mPO\u001b[49m bid nexium ( esomeprazole ) <num> mg \u001b[42mPO\u001b[49m daily lasix ( furosemide ) <num> mg \u001b[42mPO\u001b[49m daily alert overridden override added on <num>/<num>/<num> by prioletti , scot gary , md on order for lasix \u001b[42mPO\u001b[49m ( ref # <num> ) pt has a possible allergy to sulfa reaction is unknown reason for override at home neurontin ( gabapentin ) <num> mg \u001b[42mPO\u001b[49m tid glipizide <num>.<num> mg \u001b[42mPO\u001b[49m daily alert overridden override added on <num>/<num>/<num> by rashed , tad gregg , md on order for glipizide \u001b[42mPO\u001b[49m ( ref # <num> ) pt has a possible allergy to sulfa reaction is unknown reason for override at home previous alert overridden override added on <num>/<num>/<num> by belles , dominic ned , md on order for micronase \u001b[42mPO\u001b[49m ( ref # <num> ) pt has a possible allergy to sulfa reaction is unknown reason for override at home plaquenil sulfate ( hydroxychloroquine ) <num> mg \u001b[42mPO\u001b[49m bid food/drug interaction instruction take with food isordil ( isosorbide dinitrate ) <num> mg \u001b[42mPO\u001b[49m tid hold if sbp&lt<num> lisinopril <num> mg \u001b[42mPO\u001b[49m daily hold if sbp&lt<num> alert overridden override added on <num>/<num>/<num> by clifford , guy chet , md potentially serious interaction potassium chloride &amp lisinopril potentially serious interaction potassium chloride &amp lisinopril reason for override will follow nitroglycerin <num>/<num> ( <num>.<num> mg ) <num> tab \u001b[42mSL\u001b[49m q<num>min x <num> doses prn chest pain hold if sbp less than <num> multivitamin therapeutic ( therapeutic multivi.. ) <num> tab \u001b[42mPO\u001b[49m daily trazodone <num> mg \u001b[42mPO\u001b[49m bedtime prn insomnia diet no restrictions activity walking as tolerated follow up appointment( s ): pcp , allergy quinine , aspirin , sulfa , penicillins admit diagnosis mechanical fall principal discharge diagnosis ;responsible after study for causing admission ) mechanical fall other diagnosisconditions , infections , complications , affecting treatment/stay htn chf s/p st jude mvr for ms ( s/p cardiac valve replacement ) hx afib/flutte r ( h/o atrial fibrillation ) s/p imi ( s/p myocardial infarction ) niddm ( diabetes mellitus ) gout ( gout ) hx dvt '<num> ( h/o deep venous thrombosis ) s/p appy ( s/p appendectomy ) s/p umbilical hernia repair ( s/p hernia repair ) s/p sigmoidectomy for diverticulitis s/p l hip # '<num> ( s/p hip fracture ) pe ( pulmonary embolism ) heart block ( third degree heart block ) s/p ddd pacer ( s/p pacemaker ) operations and procedures none other treatments/procedures ( not in or ) none brief resume of hospital course cc s/p fall ***** hpi <num> yo f with afib , htn , dm , cad , mvr recently discharged from rehab who sustained mechanical fall at home while reaching for grapes no prodrome , loc , head trauma , cp , palp , sob admitted for rehab placement ***** pmh htn , dm , cad , s/p mvr , h/o heartblock s/p pacemaker , afib on coumadin , ra , h/o dvt/pe ***** pe avss irreg irreg cta b l hip ecchymoses neuro cn intact , strength <num>/<num> ***** labs/studies hip film neg fx cardiac enzymes neg x <num> inr <num>.<num> ***** hosptial course <num>f hx cad s/p avr , ppm with mechanical fall story sounds purely mechanical , no reason to suspect syncopal event or otherwise pt evaluated by pt , who thought that sending pt back to inpt rehab would not necessarily improve her outcome that much pt insisted on going home , so attempts made to maximize home services inr <num>.<num> when pt admitted , so coumadin held <num>.<num> the day of d/c , will be checked by vna and results sent to pcp heme - hold coumadin for goal inr <num>.<num>-<num> , restart when appropriate cv - kept on home meds services - pt will have home vna and home pt to try and ensure safety at home code - full additional comments <num>. please check pt's inr on coumadin on mon <num>/<num> and forward results to bertram lenkiewicz so pt can restart coumadin when appropriate discharge condition satisfactory to do/plan <num>. please f/u pt's inr and restart coumadin when appropriate no dictated summary entered by huckfeldt , alonzo r , md ( pn<num> ) <num>/<num>/<num> @ <num>:<num> pm ****** end of discharge orders ****** [report_end] record #<num> <num> | mbch | <num> | | <num> | <num>/<num>/<num> <num>:<num>:<num> am | s/p icd placement | | dis | admission date <num>/<num>/<num> report status discharge date <num>/<num>/<num> ****** final discharge orders ****** fullwood , harrison <num>-<num>-<num>-<num> lavan service car discharge patient on <num>/<num>/<num> at <num>:<num> pm contingent upon not applicable will d/c order be used as the d/c summary yes attending alday , wilfred c , md , ms code status full code disposition home discharge medications albuterol inhaler <num> puff \u001b[42mINH\u001b[49m qid prn shortness of breath , wheezing lasix ( furosemide ) <num> mg \u001b[42mPO\u001b[49m qd starting today ( <num>/<num> ) instructions please titrate your dose <num>mg/<num>mg/<num>mg as you normally do depending on your degree of swelling motrin ( ibuprofen ) <num> mg \u001b[42mPO\u001b[49m q<num>h prn pain , headache food/drug interaction instruction take with food alert overridden override added on <num>/<num>/<num> by nolte , steve s stuart otha , md on order for motrin \u001b[42mPO\u001b[49m ( ref # <num> ) pt has a possible allergy to aspirin reaction is unknown reason for override pt tolerates motrin atrovent hfa inhaler ( ipratropium inhaler ) <num> puff \u001b[42mINH\u001b[49m qid magnesium oxide <num> mg \u001b[42mPO\u001b[49m qd verapamil sustained release <num> mg \u001b[42mPO\u001b[49m qd starting today ( <num>/<num> ) instructions please confirm home dose and resume home dose food/drug interaction instruction avoid grapefruit unless md instructs otherwise keflex ( cephalexin ) <num> mg \u001b[42mPO\u001b[49m qid x <num> doses instructions started on <num>/<num> , continue through <num>/<num> for <num> total doses number of doses required ( approximate ): <num> zocor ( simvastatin ) <num> mg \u001b[42mPO\u001b[49m qhs food/drug interaction instruction avoid grapefruit unless md instructs otherwise ambien ( zolpidem tartrate ) <num> mg \u001b[42mPO\u001b[49m qhs prn insomnia food/drug interaction instruction give on an empty stomach ( give <num>hr before or <num>hr after food ) loratadine <num> mg \u001b[42mPO\u001b[49m qd food/drug interaction instruction avoid grapefruit unless md instructs otherwise give on an empty stomach ( give <num>hr before or <num>hr after food ) potassium chloride slow rel ( kcl slow release ) <num> meq \u001b[42mPO\u001b[49m qd as per ah potassium chloride policy each <num> meq dose to be given with <num> oz of fluid metformin <num> , <num> mg \u001b[42mPO\u001b[49m bid starting in am ( <num>/<num> ) rhinocort aqua ( budesonide nasal inhaler ) <num> spray \u001b[42mINH\u001b[49m bid singulair ( montelukast ) <num> mg \u001b[42mPO\u001b[49m qd effexor xr ( venlafaxine extended release ) <num> mg \u001b[42mPO\u001b[49m qd number of doses required ( approximate ): <num> advair diskus <num>/<num> ( fluticasone propionate/... ) <num> puff \u001b[42mINH\u001b[49m bid nexium ( esomeprazole ) <num> mg \u001b[42mPO\u001b[49m qd oxycodone <num> mg \u001b[42mPO\u001b[49m q<num>h prn pain diet patient should measure weight daily diet fluid restriction diet house / low chol/low sat fat diet house / ada <num> cals/dy diet <num> gram sodium activity walking as tolerated follow up appointment( s ): dr eliseo muros <num>/<num>/<num> <num>:<num>pm scheduled , dr danial acklin <num>/<num>/<num> <num>:<num>pm scheduled , allergy broccoli , aspirin admit diagnosis icd placement for hcm principal discharge diagnosis ;responsible after study for causing admission ) s/p icd placement other diagnosisconditions , infections , complications , affecting treatment/stay see below operations and procedures <num>/<num>/<num>: metronic dual chamber ddi/icd paced under general anesthesia other treatments/procedures ( not in or ) none brief resume of hospital course reason for admit icd placement hpi <num>yof w/ hcm s/p medtronic dual chamber ddi/icd placement under general anesthesia ( <num>/<num> obesity ) admitted for ovenight observation icd placed for primary prevention had echo <num>/<num> showed septal thickness <num>mm , posterior wall thickness <num>mm w/ preserved ef <num>%m lv outflow tract peak gradient <num>mmhg holter monitoring <num>/<num> without any arrythmias but since <num> of may has had increasing difficulties w/ ambulatio n<num>/<num> palpations up to <num> minutes at a time one severe presyncopal episode in november of <num>. also hf symptoms controlled on lasix , at baseline can work <num> blocks and up one flight of stairs ***************** pmh hcm , htn , hyperchol , asthma , pcod w/ infertility , diabetes , obesity ( <num> lbs ) , loer back pain , migraines , s/p knee replacement , tosillectomy , sinus surgery ****************** admission meds albuterol , advair <num>/<num> bid , rhinocort <num> sprays bid , atrovent <num> puff qid , singulair <num>mg qhs , nexium <num>mg daily , lasix <num>mg daily ( inc to <num> or <num> during period ) , kcl <num>meq daily , verapamil <num>mg daily , patanol <num>-<num> \u001b[43mOU\u001b[49m bid prn , loratidine <num>mg daily , zocor <num>mg qhs , effexor <num>mg daily , metformin <num>mg bid , mgoxide <num>mg daily , ambien prn , amox prior to procedures ****************** all aspirin , broccoli , tape ****************** fh no h/o hocm no h/o sudden cardiac death mother/grandmother w/ diabetes sh technical writer lives in ni single parent of twins no tob/social etoh/ivdu ****************** admission pe vs <num>.<num> <num> <num>/<num> <num> <num>% ra gen nad heent anicteric , eomi , perrl , mmm , op clear neck carotid <num>+ w/o bruits , no lan , jvp difficult to appreciate <num>/<num> thick neck lungs ctab , no c/w/r cv rr , nl s<num> s<num> , <num>/<num> sm at rusb but heard throughout precordium , inc w/ valsalva abd obese , nl bs , soft , nt/nd , hard to palpate for masses and hsm ext trace edema , warm , dp/pt <num>+ b/l left radial pulse <num>+ skin no rashes neuro a&ampox<num> cn <num>-<num> intact , moves all extremities ************************* labs/studies --labs cbc , bmp , coags wnl --ekg nsr tw flat v<num>/v<num> ( old ) --cxr ( portable ): cardiomegaly , no e/o ptx pa/lat cxr am after no ptx , leads in place , no overt failure ************************* procedures <num>/<num> s/p medtronic icd/ddi ppm placement , cannulated via left cephalic ( one axillary attempt ) ************************* a/p cv --pump hocm euvolemic initially on exam o/n pt developed increased swelling of her hands and legs b/l , and also w/ slightly more sob and o<num> requirement unclear whether o<num> requirement was <num>/<num> fluid or <num>/<num> osa , am cxr clear w/out e/o overload pt diuresed w/ lasix <num>mg on day of d/c about net -<num>cc still w/ some swelling on d/c but pt reported that her breathing/activity level was at baseline and she felt comfortable going home and adjusting her lasix dose as she normally does based on her swelling continued on home cardiac regimen verapamil and zocor --rhythm s/p medtronic dual chamber ddi/icd placement for primary prevention for hocm post procedure cxr w/out ptx , leads in place pt will f/u w/ dr kolat . on monitor pt sinus w/out events routine peri-procedure antibiotics pulm asthma , cont home regimen had slight desat o/n requiring <num>l o<num> which could be <num>/<num> overload ( see above ) , but also could be <num>/<num> obstructive sleep apnea , consider outpt eval for this gi cont ppi endo iss restarted metformin on morning of d/c neuro cont effexor fen cardiac diet ppx teds code has icd now full additional comments *please monitor your weight and swelling and adjust lasix dose as your normally do please call dr borza if your swelling does not improve or you become short of breath or your weight increases &gt<num>pounds *take keflex for <num> day total course all other medications are the same discharge condition stable to do/plan *fluid management *consider outpt eval for possible obstructive sleep apnea no dictated summary entered by blanquart , efrain jonathon rickey , md ( dl<num> ) <num>/<num>/<num> @ <num>:<num> pm ****** end of discharge orders ****** [report_end]\n"
     ]
    }
   ],
   "source": [
    "fn.colour_text(sets['test_words'], res, tru)"
   ]
  },
  {
   "cell_type": "code",
   "execution_count": 19,
   "metadata": {},
   "outputs": [
    {
     "name": "stdout",
     "output_type": "stream",
     "text": [
      "Name:  0101\n",
      "Challenge:  2009 Medication Challenge\n",
      "Train or Test Set:  train\n",
      "Labelled:  yes\n",
      "Labeling Type:  train\n",
      "\n",
      "\n",
      "intravenous 1 1\n",
      "iv 1 1\n",
      "po 5 5\n",
      "subcu 3 3\n",
      "\n",
      "Name:  0102\n",
      "Challenge:  2009 Medication Challenge\n",
      "Train or Test Set:  train\n",
      "Labelled:  yes\n",
      "Labeling Type:  train\n",
      "\n",
      "\n",
      "\u001b[41mdrip 0 2\u001b[49m\n",
      "intravenous 1 1\n",
      "subcutaneous 2 2\n",
      "subq 1 1\n",
      "\n",
      "Name:  0105\n",
      "Challenge:  2009 Medication Challenge\n",
      "Train or Test Set:  train\n",
      "Labelled:  yes\n",
      "Labeling Type:  train\n",
      "\n",
      "\n",
      "po 4 4\n",
      "subcutaneously 1 1\n",
      "sublingual 4 4\n",
      "\u001b[41mtransfused 0 1\u001b[49m\n",
      "\n",
      "Name:  0106\n",
      "Challenge:  2009 Medication Challenge\n",
      "Train or Test Set:  train\n",
      "Labelled:  yes\n",
      "Labeling Type:  train\n",
      "\n",
      "\n",
      "\u001b[41mdrip 4 5\u001b[49m\n",
      "\u001b[41miv 1 2\u001b[49m\n",
      "po 2 2\n",
      "subcu 1 1\n",
      "\n",
      "Name:  0107\n",
      "Challenge:  2009 Medication Challenge\n",
      "Train or Test Set:  train\n",
      "Labelled:  yes\n",
      "Labeling Type:  train\n",
      "\n",
      "\n",
      "po 15 15\n",
      "sublingual 1 1\n",
      "\n",
      "Name:  0108\n",
      "Challenge:  2009 Medication Challenge\n",
      "Train or Test Set:  train\n",
      "Labelled:  yes\n",
      "Labeling Type:  train\n",
      "\n",
      "\n",
      "iv 3 3\n",
      "po 14 14\n",
      "subcutaneous 4 4\n",
      "topical 1 1\n",
      "\n",
      "Name:  0109\n",
      "Challenge:  2009 Medication Challenge\n",
      "Train or Test Set:  train\n",
      "Labelled:  yes\n",
      "Labeling Type:  train\n",
      "\n",
      "\n",
      "intravenously 1 1\n",
      "\u001b[41mpo 1 2\u001b[49m\n",
      "\n",
      "Name:  0110\n",
      "Challenge:  2009 Medication Challenge\n",
      "Train or Test Set:  train\n",
      "Labelled:  yes\n",
      "Labeling Type:  train\n",
      "\n",
      "\n",
      "\u001b[41miv 0 1\u001b[49m\n",
      "po 10 10\n",
      "topical tp 2 2\n",
      "\n",
      "Name:  0111\n",
      "Challenge:  2009 Medication Challenge\n",
      "Train or Test Set:  train\n",
      "Labelled:  yes\n",
      "Labeling Type:  train\n",
      "\n",
      "\n",
      "ou 1 1\n",
      "po 15 15\n",
      "sl 1 1\n",
      "\n",
      "Name:  0121\n",
      "Challenge:  2009 Medication Challenge\n",
      "Train or Test Set:  train\n",
      "Labelled:  yes\n",
      "Labeling Type:  train\n",
      "\n",
      "\n",
      "inh 4 4\n",
      "\u001b[43mou 1 0\u001b[49m\n",
      "po 15 15\n",
      "\n",
      "TP\tFP\tFN\n",
      "119\t1\t7\n",
      "\n",
      "Precision: 0.9917\n",
      "Recall: 0.9444\n",
      "F1-Score: 0.9675\n"
     ]
    }
   ],
   "source": [
    "testers = Dataset.get_DS(stage='train', labelled='yes')\n",
    "phrase_perf = fn.phrase_perf(target, RNN, testers, word_indices, side_words=[lw, rw], tfpn=True, show_phrases=True, case_info=True, rnn=True)"
   ]
  },
  {
   "cell_type": "markdown",
   "metadata": {},
   "source": [
    "# HyperParameter Scan"
   ]
  },
  {
   "cell_type": "code",
   "execution_count": null,
   "metadata": {
    "collapsed": true
   },
   "outputs": [],
   "source": [
    "emb_sizes = [100]\n",
    "emb_models = 1\n",
    "target_saturations = [0.05, 0.1, 0.2, 0.5, 0.7]\n",
    "layer_sizes = [50]\n",
    "dropouts = [1.0]\n",
    "learn_rates = [0.01]\n",
    "epochs = [100]\n",
    "NN_num = 5\n",
    "\n",
    "case_num = len(emb_sizes)*emb_models*len(layer_sizes)*len(target_saturations)*len(epochs)*len(dropouts)*len(learn_rates)*NN_num\n",
    "print(case_num)"
   ]
  },
  {
   "cell_type": "code",
   "execution_count": null,
   "metadata": {
    "collapsed": true
   },
   "outputs": [],
   "source": [
    "max_performance = 0\n",
    "n = 1\n",
    "\n",
    "for emb_size in emb_sizes:\n",
    "    print('Model Number: %d/%d' %(n, case_num))\n",
    "    for i in range(emb_models):\n",
    "        model = Word2Vec(sentences, min_count=1, size=emb_size)\n",
    "        for saturation in target_saturations:\n",
    "            sets = fn.get_traintest2 (labelled_cases, model)\n",
    "            fn.saturate_training_set(sets, model, target_dict['medications'], saturation)\n",
    "            for layer_size in layer_sizes:\n",
    "                for drop in dropouts:\n",
    "                    for rate in learn_rates:\n",
    "                        for epoch in epochs:\n",
    "                            for j in range(NN_num):\n",
    "                                print('Model Number: %d/%d' %(n, case_num))\n",
    "                                print('ES: %d EM: %d sat: %f, LS: %d, drop: %f, LR: %f, epochs: %d, NN: %d' \\\n",
    "                                       % (emb_size, i, saturation, layer_size, drop, rate, epoch, j))\n",
    "                                NN = FF_Model(input_size=emb_size, layers=[layer_size], dropout=drop, learn_rate=rate)\n",
    "                                NN.build_graph()\n",
    "                                NN.train(sets, epochs=epoch)\n",
    "                                res = NN.predict(sets['test_set'])\n",
    "                                tru = np.argmax(sets['test_labels'], 1)\n",
    "                                perf = sk.metrics.f1_score(tru, res, pos_label=0)\n",
    "                                if perf > max_performance:\n",
    "                                    max_performance = perf\n",
    "                                    NN.save_model('gold')\n",
    "                                    model.save('gold/GOLDEMB')\n",
    "                                NN.close()\n",
    "                                n += 1"
   ]
  }
 ],
 "metadata": {
  "anaconda-cloud": {},
  "kernelspec": {
   "display_name": "Python 3",
   "language": "python",
   "name": "python3"
  },
  "language_info": {
   "codemirror_mode": {
    "name": "ipython",
    "version": 3
   },
   "file_extension": ".py",
   "mimetype": "text/x-python",
   "name": "python",
   "nbconvert_exporter": "python",
   "pygments_lexer": "ipython3",
   "version": "3.5.3"
  }
 },
 "nbformat": 4,
 "nbformat_minor": 2
}
