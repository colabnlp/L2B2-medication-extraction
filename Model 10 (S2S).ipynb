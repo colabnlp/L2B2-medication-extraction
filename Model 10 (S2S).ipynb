{
 "cells": [
  {
   "cell_type": "code",
   "execution_count": 1,
   "metadata": {},
   "outputs": [
    {
     "name": "stderr",
     "output_type": "stream",
     "text": [
      "C:\\Users\\Luka\\Anaconda3\\envs\\tensorflow\\lib\\site-packages\\gensim\\utils.py:860: UserWarning: detected Windows; aliasing chunkize to chunkize_serial\n",
      "  warnings.warn(\"detected Windows; aliasing chunkize to chunkize_serial\")\n"
     ]
    }
   ],
   "source": [
    "import numpy as np\n",
    "import itertools\n",
    "import datetime\n",
    "\n",
    "import tensorflow as tf\n",
    "import sklearn as sk\n",
    "\n",
    "from gensim.models import Word2Vec\n",
    "\n",
    "import Functions as fn\n",
    "import Iterator as it\n",
    "from DS import DS\n",
    "from Set import pool\n",
    "from FFModel import FF_Model\n",
    "from RNNModel import RNN_Model"
   ]
  },
  {
   "cell_type": "markdown",
   "metadata": {},
   "source": [
    "# Data Loading"
   ]
  },
  {
   "cell_type": "code",
   "execution_count": 2,
   "metadata": {},
   "outputs": [
    {
     "name": "stdout",
     "output_type": "stream",
     "text": [
      "Raw Text Load Complete\n",
      "Raw Labels Load Complete\n"
     ]
    }
   ],
   "source": [
    "Dataset = pool()\n",
    "Dataset.load_texts('raw_texts')\n",
    "Dataset.load_labels('raw_labels')"
   ]
  },
  {
   "cell_type": "code",
   "execution_count": 3,
   "metadata": {
    "scrolled": true,
    "slideshow": {
     "slide_type": "notes"
    }
   },
   "outputs": [
    {
     "name": "stdout",
     "output_type": "stream",
     "text": [
      "Label Load Complete\n"
     ]
    }
   ],
   "source": [
    "target_dict = fn.load_labels('labels')"
   ]
  },
  {
   "cell_type": "markdown",
   "metadata": {},
   "source": [
    "# Embedding Generation"
   ]
  },
  {
   "cell_type": "code",
   "execution_count": 4,
   "metadata": {},
   "outputs": [
    {
     "name": "stdout",
     "output_type": "stream",
     "text": [
      "Sentence Load Complete\n"
     ]
    }
   ],
   "source": [
    "#Dataset.process_for_embedding()\n",
    "#sentences = Dataset.get_sentences()\n",
    "#fn.write_sentences('sentences')\n",
    "sentences = fn.load_sentences('sentences')\n",
    "\n",
    "#model = Word2Vec(sentences, min_count=1, size=100)\n",
    "#model.save('W2V')\n",
    "model = Word2Vec.load('W2V')\n",
    "\n",
    "vocab = model.wv.vocab.keys()"
   ]
  },
  {
   "cell_type": "markdown",
   "metadata": {},
   "source": [
    "# Layer and Index Loading"
   ]
  },
  {
   "cell_type": "code",
   "execution_count": 5,
   "metadata": {},
   "outputs": [
    {
     "name": "stdout",
     "output_type": "stream",
     "text": [
      "Word Indices Load Complete\n",
      "Embedding Layer Load Complete\n"
     ]
    }
   ],
   "source": [
    "#word_indices, emb_layer = fn.get_index_and_emb_layer(model)\n",
    "#fn.write_word_indices(word_indices, 'word_indices')\n",
    "#fn.write_emb_layer(emb_layer, 'emb_layer')\n",
    "\n",
    "word_indices = fn.load_word_indices('word_indices')\n",
    "emb_layer = fn.load_emb_layer('emb_layer')"
   ]
  },
  {
   "cell_type": "code",
   "execution_count": 18,
   "metadata": {
    "collapsed": true
   },
   "outputs": [
    {
     "name": "stdout",
     "output_type": "stream",
     "text": [
      "[[  0.00000000e+00   0.00000000e+00   0.00000000e+00   0.00000000e+00\n",
      "    0.00000000e+00   0.00000000e+00   0.00000000e+00   0.00000000e+00\n",
      "    0.00000000e+00   0.00000000e+00   0.00000000e+00   0.00000000e+00\n",
      "    0.00000000e+00   0.00000000e+00   0.00000000e+00   0.00000000e+00\n",
      "    0.00000000e+00   0.00000000e+00   0.00000000e+00   0.00000000e+00\n",
      "    0.00000000e+00   0.00000000e+00   0.00000000e+00   0.00000000e+00\n",
      "    0.00000000e+00   0.00000000e+00   0.00000000e+00   0.00000000e+00\n",
      "    0.00000000e+00   0.00000000e+00   0.00000000e+00   0.00000000e+00\n",
      "    0.00000000e+00   0.00000000e+00   0.00000000e+00   0.00000000e+00\n",
      "    0.00000000e+00   0.00000000e+00   0.00000000e+00   0.00000000e+00\n",
      "    0.00000000e+00   0.00000000e+00   0.00000000e+00   0.00000000e+00\n",
      "    0.00000000e+00   0.00000000e+00   0.00000000e+00   0.00000000e+00\n",
      "    0.00000000e+00   0.00000000e+00   0.00000000e+00   0.00000000e+00\n",
      "    0.00000000e+00   0.00000000e+00   0.00000000e+00   0.00000000e+00\n",
      "    0.00000000e+00   0.00000000e+00   0.00000000e+00   0.00000000e+00\n",
      "    0.00000000e+00   0.00000000e+00   0.00000000e+00   0.00000000e+00\n",
      "    0.00000000e+00   0.00000000e+00   0.00000000e+00   0.00000000e+00\n",
      "    0.00000000e+00   0.00000000e+00   0.00000000e+00   0.00000000e+00\n",
      "    0.00000000e+00   0.00000000e+00   0.00000000e+00   0.00000000e+00\n",
      "    0.00000000e+00   0.00000000e+00   0.00000000e+00   0.00000000e+00\n",
      "    0.00000000e+00   0.00000000e+00   0.00000000e+00   0.00000000e+00\n",
      "    0.00000000e+00   0.00000000e+00   0.00000000e+00   0.00000000e+00\n",
      "    0.00000000e+00   0.00000000e+00   0.00000000e+00   0.00000000e+00\n",
      "    0.00000000e+00   0.00000000e+00   0.00000000e+00   0.00000000e+00\n",
      "    0.00000000e+00   0.00000000e+00   0.00000000e+00   0.00000000e+00]\n",
      " [  0.00000000e+00   0.00000000e+00   0.00000000e+00   0.00000000e+00\n",
      "    0.00000000e+00   0.00000000e+00   0.00000000e+00   0.00000000e+00\n",
      "    0.00000000e+00   0.00000000e+00   0.00000000e+00   0.00000000e+00\n",
      "    0.00000000e+00   0.00000000e+00   0.00000000e+00   0.00000000e+00\n",
      "    0.00000000e+00   0.00000000e+00   0.00000000e+00   0.00000000e+00\n",
      "    0.00000000e+00   0.00000000e+00   0.00000000e+00   0.00000000e+00\n",
      "    0.00000000e+00   0.00000000e+00   0.00000000e+00   0.00000000e+00\n",
      "    0.00000000e+00   0.00000000e+00   0.00000000e+00   0.00000000e+00\n",
      "    0.00000000e+00   0.00000000e+00   0.00000000e+00   0.00000000e+00\n",
      "    0.00000000e+00   0.00000000e+00   0.00000000e+00   0.00000000e+00\n",
      "    0.00000000e+00   0.00000000e+00   0.00000000e+00   0.00000000e+00\n",
      "    0.00000000e+00   0.00000000e+00   0.00000000e+00   0.00000000e+00\n",
      "    0.00000000e+00   0.00000000e+00   0.00000000e+00   0.00000000e+00\n",
      "    0.00000000e+00   0.00000000e+00   0.00000000e+00   0.00000000e+00\n",
      "    0.00000000e+00   0.00000000e+00   0.00000000e+00   0.00000000e+00\n",
      "    0.00000000e+00   0.00000000e+00   0.00000000e+00   0.00000000e+00\n",
      "    0.00000000e+00   0.00000000e+00   0.00000000e+00   0.00000000e+00\n",
      "    0.00000000e+00   0.00000000e+00   0.00000000e+00   0.00000000e+00\n",
      "    0.00000000e+00   0.00000000e+00   0.00000000e+00   0.00000000e+00\n",
      "    0.00000000e+00   0.00000000e+00   0.00000000e+00   0.00000000e+00\n",
      "    0.00000000e+00   0.00000000e+00   0.00000000e+00   0.00000000e+00\n",
      "    0.00000000e+00   0.00000000e+00   0.00000000e+00   0.00000000e+00\n",
      "    0.00000000e+00   0.00000000e+00   0.00000000e+00   0.00000000e+00\n",
      "    0.00000000e+00   0.00000000e+00   0.00000000e+00   0.00000000e+00\n",
      "    0.00000000e+00   0.00000000e+00   0.00000000e+00   0.00000000e+00]\n",
      " [ -3.28335352e-02   8.42782389e-03   3.92741375e-02  -1.82002522e-02\n",
      "    2.07882039e-02  -9.61498916e-03   1.28974142e-02  -8.05556832e-04\n",
      "    6.30482053e-03   7.94884656e-03   5.00391871e-02  -7.92084336e-02\n",
      "    1.74176935e-02   4.36509140e-02  -5.06037381e-03  -8.04699305e-03\n",
      "    1.23671414e-02  -2.82115303e-03  -1.99902821e-02   1.65354107e-02\n",
      "    7.17794523e-02  -1.93883311e-02   1.06656607e-02   3.10288686e-02\n",
      "    1.37773687e-02  -2.24238820e-02  -8.62452295e-03  -3.20653580e-02\n",
      "   -2.26410348e-02   1.89997889e-02   3.81298214e-02  -1.57296620e-02\n",
      "   -8.18264484e-03  -6.45961380e-04   1.64815430e-02   1.89289427e-03\n",
      "   -3.98474596e-02   3.22238146e-03  -3.13322234e-05   2.28157081e-02\n",
      "   -3.23769301e-02   3.41075361e-02  -5.19410111e-02   4.66750599e-02\n",
      "    5.59318066e-02  -1.14701036e-02   1.86952129e-02   2.74178982e-02\n",
      "   -4.36648633e-03  -4.12623361e-02   3.64324264e-02   7.25180469e-03\n",
      "   -3.19332108e-02  -4.53153849e-02  -3.22421640e-02   6.57228008e-02\n",
      "    1.20110651e-02   1.76546481e-02  -3.41002084e-02   9.47675109e-03\n",
      "    2.46836916e-02  -1.01987617e-02  -9.73427761e-03  -1.16602071e-02\n",
      "   -5.29632233e-02   2.67814323e-02   1.77522190e-02   6.56463497e-04\n",
      "    1.77445263e-02   2.81692427e-02  -4.01458107e-02  -1.36897378e-02\n",
      "    1.21348053e-02  -7.46440608e-04   2.79204790e-02   1.64661128e-02\n",
      "   -2.65829754e-03  -5.59730120e-02  -5.93658537e-03  -3.25935073e-02\n",
      "   -4.97472472e-02  -2.09252741e-02  -7.10084685e-04  -4.37177764e-03\n",
      "    1.68588012e-02  -6.69977104e-04   3.04403733e-02   6.69327378e-03\n",
      "   -5.47360571e-04   1.79449730e-02   1.63237862e-02   1.68549269e-02\n",
      "   -3.16786133e-02  -5.55158406e-02  -3.85852344e-02   1.83067340e-02\n",
      "   -1.04869837e-02  -3.12737860e-02   4.50429395e-02   1.87315140e-03]]\n",
      "[[ 0.          0.          0.          0.          0.          0.          0.\n",
      "   0.          0.          0.          0.          0.          0.          0.\n",
      "   0.          0.          0.          0.          0.          0.          0.\n",
      "   0.          0.          0.          0.          0.          0.          0.\n",
      "   0.          0.          0.          0.          0.          0.          0.\n",
      "   0.          0.          0.          0.          0.          0.          0.\n",
      "   0.          0.          0.          0.          0.          0.          0.\n",
      "   0.          0.          0.          0.          0.          0.          0.\n",
      "   0.          0.          0.          0.          0.          0.          0.\n",
      "   0.          0.          0.          0.          0.          0.          0.\n",
      "   0.          0.          0.          0.          0.          0.          0.\n",
      "   0.          0.          0.          0.          0.          0.          0.\n",
      "   0.          0.          0.          0.          0.          0.          0.\n",
      "   0.          0.          0.          0.          0.          0.          0.\n",
      "   0.          0.        ]\n",
      " [ 0.          0.          0.          0.          0.          0.          0.\n",
      "   0.          0.          0.          0.          0.          0.          0.\n",
      "   0.          0.          0.          0.          0.          0.          0.\n",
      "   0.          0.          0.          0.          0.          0.          0.\n",
      "   0.          0.          0.          0.          0.          0.          0.\n",
      "   0.          0.          0.          0.          0.          0.          0.\n",
      "   0.          0.          0.          0.          0.          0.          0.\n",
      "   0.          0.          0.          0.          0.          0.          0.\n",
      "   0.          0.          0.          0.          0.          0.          0.\n",
      "   0.          0.          0.          0.          0.          0.          0.\n",
      "   0.          0.          0.          0.          0.          0.          0.\n",
      "   0.          0.          0.          0.          0.          0.          0.\n",
      "   0.          0.          0.          0.          0.          0.          0.\n",
      "   0.          0.          0.          0.          0.          0.          0.\n",
      "   0.          0.        ]\n",
      " [ 1.36842811  0.07760302 -0.40128431 -0.1294892   0.42968893  1.97642028\n",
      "  -0.79717761 -0.93774587  0.52527785 -1.13988101  0.41472745  0.37880442\n",
      "   1.33286524 -0.97571713 -0.34202728  0.30019256 -0.27119648  1.12760341\n",
      "   0.74889898 -0.84463608 -2.02211189 -0.83246255  1.87073278  0.02654141\n",
      "  -0.73060018 -0.71392769  1.0609237  -0.24754216  0.54353243 -0.32486662\n",
      "   0.94848543  0.92289734  0.4835116  -2.19329095 -1.64967597 -0.36780179\n",
      "   0.78772271 -0.04879736  0.19357368  2.04880977  0.8811416   1.36697137\n",
      "  -0.63865894  0.0510393   0.47000012 -0.49715689  1.42867172 -0.68080032\n",
      "  -0.55952257 -0.95574015 -0.10957065 -0.44218981 -1.35100853  0.8052097\n",
      "  -0.28443822 -0.27579671  1.68750501 -2.00685287  0.22802021  0.57927525\n",
      "   0.21599796 -0.34283209  0.85602695 -0.03775672 -0.27466676  0.7226755\n",
      "  -1.52214038 -0.93989247  0.84824997  0.89630145 -1.09698844  1.57921243\n",
      "   0.78950626  0.17146885 -0.60674047  0.45701745 -0.11227421  1.64355445\n",
      "   0.21311599  1.08884263 -0.47637188  0.34326354 -0.99298018 -2.84219551\n",
      "   0.45582348  2.18855166 -1.35099339 -0.46447495 -1.20512128 -0.55659652\n",
      "  -2.06904936  0.20648496 -0.63608873 -0.20313543  1.48161376  1.8019619\n",
      "   0.65438914  0.78023952  0.36983752  1.50845027]]\n"
     ]
    }
   ],
   "source": [
    "np.shape(model.wv.syn0)\n",
    "test = np.vstack((np.zeros(100, dtype=np.float32), np.zeros(100, dtype=np.float32), model.wv.syn0))\n",
    "#print(type(emb_layer[0,0]))\n",
    "print(emb_layer[:3])\n",
    "print(test[:3])"
   ]
  },
  {
   "cell_type": "markdown",
   "metadata": {},
   "source": [
    "# RNN Testing"
   ]
  },
  {
   "cell_type": "code",
   "execution_count": 7,
   "metadata": {},
   "outputs": [],
   "source": [
    "train_cases = pool((Dataset.get_DS(stage='test', labelled='yes')).data[:-25])\n",
    "validation_cases = pool(Dataset.get_DS(stage='test', labelled='yes').data[-25:])\n",
    "test_cases = Dataset.get_DS(stage='train', labelled='yes')\n",
    "\n",
    "train_cases.process_for_s2s_testing()\n",
    "validation_cases.process_for_s2s_testing()\n",
    "test_cases.process_for_s2s_testing()"
   ]
  },
  {
   "cell_type": "code",
   "execution_count": 2,
   "metadata": {
    "collapsed": true
   },
   "outputs": [
    {
     "name": "stdout",
     "output_type": "stream",
     "text": [
      "embedding_attention_seq2seq/rnn/embedding_wrapper/embedding:0\n",
      "embedding_attention_seq2seq/rnn/embedding_wrapper/lstm_cell/kernel:0\n",
      "embedding_attention_seq2seq/rnn/embedding_wrapper/lstm_cell/bias:0\n",
      "embedding_attention_seq2seq/embedding_attention_decoder/embedding:0\n",
      "embedding_attention_seq2seq/embedding_attention_decoder/attention_decoder/AttnW_0:0\n",
      "embedding_attention_seq2seq/embedding_attention_decoder/attention_decoder/AttnV_0:0\n",
      "embedding_attention_seq2seq/embedding_attention_decoder/attention_decoder/kernel:0\n",
      "embedding_attention_seq2seq/embedding_attention_decoder/attention_decoder/bias:0\n",
      "embedding_attention_seq2seq/embedding_attention_decoder/attention_decoder/output_projection_wrapper/lstm_cell/kernel:0\n",
      "embedding_attention_seq2seq/embedding_attention_decoder/attention_decoder/output_projection_wrapper/lstm_cell/bias:0\n",
      "embedding_attention_seq2seq/embedding_attention_decoder/attention_decoder/output_projection_wrapper/kernel:0\n",
      "embedding_attention_seq2seq/embedding_attention_decoder/attention_decoder/output_projection_wrapper/bias:0\n",
      "embedding_attention_seq2seq/embedding_attention_decoder/attention_decoder/Attention_0/kernel:0\n",
      "embedding_attention_seq2seq/embedding_attention_decoder/attention_decoder/Attention_0/bias:0\n",
      "embedding_attention_seq2seq/embedding_attention_decoder/attention_decoder/AttnOutputProjection/kernel:0\n",
      "embedding_attention_seq2seq/embedding_attention_decoder/attention_decoder/AttnOutputProjection/bias:0\n"
     ]
    },
    {
     "data": {
      "text/plain": [
       "[None,\n",
       " None,\n",
       " None,\n",
       " None,\n",
       " None,\n",
       " None,\n",
       " None,\n",
       " None,\n",
       " None,\n",
       " None,\n",
       " None,\n",
       " None,\n",
       " None,\n",
       " None,\n",
       " None,\n",
       " None]"
      ]
     },
     "execution_count": 2,
     "metadata": {},
     "output_type": "execute_result"
    }
   ],
   "source": [
    "cell = tf.nn.rnn_cell.LSTMCell(100)\n",
    "a, b = tf.contrib.legacy_seq2seq.embedding_attention_seq2seq([tf.constant([0])], [tf.constant([0])], cell, 1, 1, 5)\n",
    "[print(v.name) for v in tf.trainable_variables() if \"embedding\" in v.name]"
   ]
  },
  {
   "cell_type": "code",
   "execution_count": 8,
   "metadata": {},
   "outputs": [],
   "source": [
    "sets = {}\n",
    "sets['train_set'], sets['train_labels'], _ = train_cases.get_s2s_sets(word_indices)\n",
    "sets['validation_set'], sets['validation_labels'], _ = validation_cases.get_s2s_sets(word_indices)\n",
    "sets['test_set'], sets['test_labels'], sets['test_words'] = test_cases.get_s2s_sets(word_indices)"
   ]
  },
  {
   "cell_type": "code",
   "execution_count": 157,
   "metadata": {},
   "outputs": [],
   "source": [
    "import tensorflow as tf\n",
    "import numpy as np\n",
    "import warnings\n",
    "import matplotlib.pyplot as plt\n",
    "import sklearn as sk\n",
    "\n",
    "from Iterator import RNNIterator\n",
    "\n",
    "\n",
    "class S2S_Model:\n",
    "\n",
    "    def __init__(self, enc_sym, dec_sym, emb_size, state_size, dropout=1.0, learn_rate=0.01, emb_layer=False):\n",
    "        self.enc_sym = enc_sym\n",
    "        self.dec_sym = dec_sym\n",
    "        self.emb_size = emb_size\n",
    "        self.state_size = state_size\n",
    "        self.dropout = dropout\n",
    "        self.learn_rate = learn_rate\n",
    "        self.emb_layer = emb_layer\n",
    "        self.graph = None\n",
    "        self.sess = None\n",
    "\n",
    "    def reset_graph(self):\n",
    "        if self.sess:\n",
    "            self.sess.close()\n",
    "        tf.reset_default_graph()\n",
    "\n",
    "    def build_graph(self):\n",
    "        self.reset_graph()\n",
    "\n",
    "        # Placeholders\n",
    "        x = tf.placeholder(tf.int32, shape=[None, None])  # [batch_size, num_steps]\n",
    "        y = tf.placeholder(tf.int32, shape=[None, None])\n",
    "        seqlen = tf.placeholder(tf.int32)\n",
    "        keep_prob = tf.placeholder(tf.float32)\n",
    "        previous = tf.placeholder(tf.bool)\n",
    "\n",
    "        # RNN\n",
    "        cell = tf.nn.rnn_cell.LSTMCell(self.state_size)\n",
    "        #cell = tf.nn.rnn_cell.DropoutWrapper(cell, input_keep_prob=keep_prob)\n",
    "        s2s_outputs, final_state = tf.contrib.legacy_seq2seq.embedding_attention_seq2seq(encoder_inputs = tf.unstack(x, seqlen),\n",
    "                                                                                         decoder_inputs = tf.unstack(y, seqlen),\n",
    "                                                                                         cell = cell,\n",
    "                                                                                         num_encoder_symbols=self.enc_sym,\n",
    "                                                                                         num_decoder_symbols=self.dec_sym,\n",
    "                                                                                         embedding_size=self.emb_size,\n",
    "                                                                                         num_heads=1,\n",
    "                                                                                         output_projection=None,\n",
    "                                                                                         feed_previous=previous,\n",
    "                                                                                         initial_state_attention=False)\n",
    "        logits = tf.nn.softmax(s2s_outputs)\n",
    "        preds = tf.arg_max(logits, 1)\n",
    "        \n",
    "        # Softmax layer\n",
    "        #with tf.variable_scope('softmax'):\n",
    "        #    W = tf.Variable(tf.truncated_normal(shape=[self.state_size, self.num_classes], stddev=0.05))\n",
    "        #    b = tf.Variable(tf.constant(0.1, shape=[self.num_classes]))\n",
    "        #logits = tf.matmul(last_rnn_output, W) + b\n",
    "        #preds = tf.nn.softmax(logits)\n",
    "        \n",
    "        #prediction = tf.argmax(preds, 1)\n",
    "\n",
    "        #loss = tf.reduce_mean(tf.nn.sparse_softmax_cross_entropy_with_logits(logits=logits, labels=y))\n",
    "        #train_step = tf.train.AdamOptimizer(self.learn_rate).minimize(loss)\n",
    "\n",
    "        self.graph = {'x': x,\n",
    "                      'y': y,\n",
    "                      'keep_prob': keep_prob,\n",
    "                      'previous': previous,\n",
    "                      's2s_outputs': s2s_outputs}\n",
    "\n",
    "    def train(self, sets, epochs=10, batch=50, report_percentage=1, show_progress=False, show_plot=False):\n",
    "        # Start a tf session and run the optimisation algorithm\n",
    "        self.sess = tf.Session()\n",
    "        self.sess.run(tf.global_variables_initializer())\n",
    "\n",
    "        trainer = RNNIterator(sets['train_set'], np.argmax(sets['train_labels'], 1), sets['train_lengths'])\n",
    "\n",
    "        train_truth = np.argmax(sets['train_labels'], 1)\n",
    "        validation_truth = np.argmax(sets['validation_labels'], 1)\n",
    "        test_truth = np.argmax(sets['test_labels'], 1)\n",
    "\n",
    "        train_feed = {self.graph['x']: sets['train_set'],\n",
    "                      self.graph['y']: np.argmax(sets['train_labels'], 1),\n",
    "                      self.graph['seqlen']: sets['train_lengths'],\n",
    "                      self.graph['keep_prob']: 1.0}\n",
    "        validation_feed = {self.graph['x']: sets['validation_set'],\n",
    "                           self.graph['y']: np.argmax(sets['validation_labels'], 1),\n",
    "                           self.graph['seqlen']: sets['validation_lengths'],\n",
    "                           self.graph['keep_prob']: 1.0}\n",
    "        test_feed = {self.graph['x']: sets['test_set'],\n",
    "                     self.graph['y']: np.argmax(sets['test_labels'], 1),\n",
    "                     self.graph['seqlen']: sets['test_lengths'],\n",
    "                     self.graph['keep_prob']: 1.0}\n",
    "\n",
    "        train_f1_score = []\n",
    "        validation_f1_score = []\n",
    "\n",
    "        mark = (epochs * (len(sets['train_set']) // batch) * report_percentage) // 100\n",
    "        check_point = []\n",
    "        N = 0\n",
    "\n",
    "        warnings.simplefilter(\"ignore\")\n",
    "        while trainer.epochs < epochs:\n",
    "            trd, trl, trle = trainer.next_batch(batch)\n",
    "            if N % mark == 0:\n",
    "                prediction = self.sess.run(self.graph['prediction'], feed_dict=train_feed)\n",
    "                train_f1_score.append(sk.metrics.f1_score(train_truth, prediction, pos_label=0))\n",
    "                prediction = self.sess.run(self.graph['prediction'], feed_dict=validation_feed)\n",
    "                validation_f1_score.append(sk.metrics.f1_score(validation_truth, prediction, pos_label=0))\n",
    "                check_point.append(N)\n",
    "                if show_progress: print(\"Progress: %d%%\" % (N * report_percentage // mark), end=\"\\r\")\n",
    "            feed = {self.graph['x']: trd, self.graph['y']: trl, self.graph['seqlen']: trle, self.graph['keep_prob']: self.dropout}\n",
    "            self.sess.run(self.graph['ts'], feed_dict=feed)\n",
    "            N += 1\n",
    "        warnings.simplefilter(\"default\")\n",
    "\n",
    "        if show_plot:\n",
    "            np_check_point = np.array(check_point)\n",
    "            np_train_f1 = np.array(train_f1_score)\n",
    "            np_val_f1 = np.array(validation_f1_score)\n",
    "\n",
    "            plt.plot(np_check_point, np_train_f1, label=\"Train\")\n",
    "            plt.plot(np_check_point, np_val_f1, label=\"Validation\")\n",
    "            plt.plot(np_check_point, np.ones(len(np_check_point))*0.35, label=\"Baseline\")\n",
    "            plt.xlabel(\"Batches\")\n",
    "            plt.ylabel(\"F1-Score\")\n",
    "            plt.legend()\n",
    "            plt.show()\n",
    "\n",
    "        test_f1_score = sk.metrics.f1_score(test_truth, self.sess.run(self.graph['prediction'], feed_dict=test_feed),\n",
    "                                            pos_label=0)\n",
    "        if show_progress:\n",
    "            print('FInal Values: Tr-F1: {:.4f}, Val-F1: {:.4f}'.format(train_f1_score[-1], validation_f1_score[-1]))\n",
    "            print(\"Test F1-Score: {:.4f}\\n\".format(test_f1_score))\n",
    "        return train_f1_score, validation_f1_score, test_f1_score\n",
    "\n",
    "    def predict(self, data, seqlen):\n",
    "        dummy = [1 for i in range(len(data))]\n",
    "        feed = {self.graph['x']: data, self.graph['y']: dummy, self.graph['seqlen']: seqlen, self.graph['keep_prob']: 1.0}\n",
    "        return self.sess.run(self.graph['prediction'], feed_dict=feed)\n",
    "\n",
    "    def close(self):\n",
    "        self.sess.close()"
   ]
  },
  {
   "cell_type": "code",
   "execution_count": 158,
   "metadata": {},
   "outputs": [
    {
     "ename": "TypeError",
     "evalue": "Expected int for argument 'num' not <tf.Tensor 'Placeholder_2:0' shape=<unknown> dtype=int32>.",
     "output_type": "error",
     "traceback": [
      "\u001b[1;31m---------------------------------------------------------------------------\u001b[0m",
      "\u001b[1;31mTypeError\u001b[0m                                 Traceback (most recent call last)",
      "\u001b[1;32m~\\Anaconda3\\envs\\tensorflow\\lib\\site-packages\\tensorflow\\python\\framework\\op_def_library.py\u001b[0m in \u001b[0;36m_MakeInt\u001b[1;34m(v, arg_name)\u001b[0m\n\u001b[0;32m    151\u001b[0m   \u001b[1;32mtry\u001b[0m\u001b[1;33m:\u001b[0m\u001b[1;33m\u001b[0m\u001b[0m\n\u001b[1;32m--> 152\u001b[1;33m     \u001b[1;32mreturn\u001b[0m \u001b[0mint\u001b[0m\u001b[1;33m(\u001b[0m\u001b[0mv\u001b[0m\u001b[1;33m)\u001b[0m\u001b[1;33m\u001b[0m\u001b[0m\n\u001b[0m\u001b[0;32m    153\u001b[0m   \u001b[1;32mexcept\u001b[0m \u001b[1;33m(\u001b[0m\u001b[0mValueError\u001b[0m\u001b[1;33m,\u001b[0m \u001b[0mTypeError\u001b[0m\u001b[1;33m)\u001b[0m\u001b[1;33m:\u001b[0m\u001b[1;33m\u001b[0m\u001b[0m\n",
      "\u001b[1;31mTypeError\u001b[0m: int() argument must be a string, a bytes-like object or a number, not 'Tensor'",
      "\nDuring handling of the above exception, another exception occurred:\n",
      "\u001b[1;31mTypeError\u001b[0m                                 Traceback (most recent call last)",
      "\u001b[1;32m<ipython-input-158-2f00e63dbd0e>\u001b[0m in \u001b[0;36m<module>\u001b[1;34m()\u001b[0m\n\u001b[0;32m      5\u001b[0m                 \u001b[0mlearn_rate\u001b[0m\u001b[1;33m=\u001b[0m\u001b[1;36m0.001\u001b[0m\u001b[1;33m,\u001b[0m\u001b[1;33m\u001b[0m\u001b[0m\n\u001b[0;32m      6\u001b[0m                 emb_layer=emb_layer)\n\u001b[1;32m----> 7\u001b[1;33m \u001b[0mS2S\u001b[0m\u001b[1;33m.\u001b[0m\u001b[0mbuild_graph\u001b[0m\u001b[1;33m(\u001b[0m\u001b[1;33m)\u001b[0m\u001b[1;33m\u001b[0m\u001b[0m\n\u001b[0m\u001b[0;32m      8\u001b[0m \u001b[1;31m#results_list = RNN.train(sets=sets, epochs=5, batch=50, report_percentage=1, show_progress=True, show_plot=True)\u001b[0m\u001b[1;33m\u001b[0m\u001b[1;33m\u001b[0m\u001b[0m\n",
      "\u001b[1;32m<ipython-input-157-616cacf59dfc>\u001b[0m in \u001b[0;36mbuild_graph\u001b[1;34m(self)\u001b[0m\n\u001b[0;32m     39\u001b[0m         \u001b[0mcell\u001b[0m \u001b[1;33m=\u001b[0m \u001b[0mtf\u001b[0m\u001b[1;33m.\u001b[0m\u001b[0mnn\u001b[0m\u001b[1;33m.\u001b[0m\u001b[0mrnn_cell\u001b[0m\u001b[1;33m.\u001b[0m\u001b[0mLSTMCell\u001b[0m\u001b[1;33m(\u001b[0m\u001b[0mself\u001b[0m\u001b[1;33m.\u001b[0m\u001b[0mstate_size\u001b[0m\u001b[1;33m)\u001b[0m\u001b[1;33m\u001b[0m\u001b[0m\n\u001b[0;32m     40\u001b[0m         \u001b[1;31m#cell = tf.nn.rnn_cell.DropoutWrapper(cell, input_keep_prob=keep_prob)\u001b[0m\u001b[1;33m\u001b[0m\u001b[1;33m\u001b[0m\u001b[0m\n\u001b[1;32m---> 41\u001b[1;33m         s2s_outputs, final_state = tf.contrib.legacy_seq2seq.embedding_attention_seq2seq(encoder_inputs = tf.unstack(x, seqlen),\n\u001b[0m\u001b[0;32m     42\u001b[0m                                                                                          \u001b[0mdecoder_inputs\u001b[0m \u001b[1;33m=\u001b[0m \u001b[0mtf\u001b[0m\u001b[1;33m.\u001b[0m\u001b[0munstack\u001b[0m\u001b[1;33m(\u001b[0m\u001b[0my\u001b[0m\u001b[1;33m,\u001b[0m \u001b[0mseqlen\u001b[0m\u001b[1;33m)\u001b[0m\u001b[1;33m,\u001b[0m\u001b[1;33m\u001b[0m\u001b[0m\n\u001b[0;32m     43\u001b[0m                                                                                          \u001b[0mcell\u001b[0m \u001b[1;33m=\u001b[0m \u001b[0mcell\u001b[0m\u001b[1;33m,\u001b[0m\u001b[1;33m\u001b[0m\u001b[0m\n",
      "\u001b[1;32m~\\Anaconda3\\envs\\tensorflow\\lib\\site-packages\\tensorflow\\python\\ops\\array_ops.py\u001b[0m in \u001b[0;36munstack\u001b[1;34m(value, num, axis, name)\u001b[0m\n\u001b[0;32m    973\u001b[0m   \u001b[1;32mif\u001b[0m \u001b[0mnum\u001b[0m \u001b[1;32mis\u001b[0m \u001b[1;32mNone\u001b[0m\u001b[1;33m:\u001b[0m\u001b[1;33m\u001b[0m\u001b[0m\n\u001b[0;32m    974\u001b[0m     \u001b[1;32mraise\u001b[0m \u001b[0mValueError\u001b[0m\u001b[1;33m(\u001b[0m\u001b[1;34m\"Cannot infer num from shape %s\"\u001b[0m \u001b[1;33m%\u001b[0m \u001b[0mvalue_shape\u001b[0m\u001b[1;33m)\u001b[0m\u001b[1;33m\u001b[0m\u001b[0m\n\u001b[1;32m--> 975\u001b[1;33m   \u001b[1;32mreturn\u001b[0m \u001b[0mgen_array_ops\u001b[0m\u001b[1;33m.\u001b[0m\u001b[0m_unpack\u001b[0m\u001b[1;33m(\u001b[0m\u001b[0mvalue\u001b[0m\u001b[1;33m,\u001b[0m \u001b[0mnum\u001b[0m\u001b[1;33m=\u001b[0m\u001b[0mnum\u001b[0m\u001b[1;33m,\u001b[0m \u001b[0maxis\u001b[0m\u001b[1;33m=\u001b[0m\u001b[0maxis\u001b[0m\u001b[1;33m,\u001b[0m \u001b[0mname\u001b[0m\u001b[1;33m=\u001b[0m\u001b[0mname\u001b[0m\u001b[1;33m)\u001b[0m\u001b[1;33m\u001b[0m\u001b[0m\n\u001b[0m\u001b[0;32m    976\u001b[0m \u001b[1;33m\u001b[0m\u001b[0m\n\u001b[0;32m    977\u001b[0m \u001b[1;33m\u001b[0m\u001b[0m\n",
      "\u001b[1;32m~\\Anaconda3\\envs\\tensorflow\\lib\\site-packages\\tensorflow\\python\\ops\\gen_array_ops.py\u001b[0m in \u001b[0;36m_unpack\u001b[1;34m(value, num, axis, name)\u001b[0m\n\u001b[0;32m   3775\u001b[0m   \"\"\"\n\u001b[0;32m   3776\u001b[0m   result = _op_def_lib.apply_op(\"Unpack\", value=value, num=num, axis=axis,\n\u001b[1;32m-> 3777\u001b[1;33m                                 name=name)\n\u001b[0m\u001b[0;32m   3778\u001b[0m   \u001b[1;32mreturn\u001b[0m \u001b[0mresult\u001b[0m\u001b[1;33m\u001b[0m\u001b[0m\n\u001b[0;32m   3779\u001b[0m \u001b[1;33m\u001b[0m\u001b[0m\n",
      "\u001b[1;32m~\\Anaconda3\\envs\\tensorflow\\lib\\site-packages\\tensorflow\\python\\framework\\op_def_library.py\u001b[0m in \u001b[0;36mapply_op\u001b[1;34m(self, op_type_name, name, **keywords)\u001b[0m\n\u001b[0;32m    681\u001b[0m                                      attr_def.allowed_values.list.s))))\n\u001b[0;32m    682\u001b[0m         \u001b[1;32melif\u001b[0m \u001b[0mattr_def\u001b[0m\u001b[1;33m.\u001b[0m\u001b[0mtype\u001b[0m \u001b[1;33m==\u001b[0m \u001b[1;34m\"int\"\u001b[0m\u001b[1;33m:\u001b[0m\u001b[1;33m\u001b[0m\u001b[0m\n\u001b[1;32m--> 683\u001b[1;33m           \u001b[0mattr_value\u001b[0m\u001b[1;33m.\u001b[0m\u001b[0mi\u001b[0m \u001b[1;33m=\u001b[0m \u001b[0m_MakeInt\u001b[0m\u001b[1;33m(\u001b[0m\u001b[0mvalue\u001b[0m\u001b[1;33m,\u001b[0m \u001b[0mkey\u001b[0m\u001b[1;33m)\u001b[0m\u001b[1;33m\u001b[0m\u001b[0m\n\u001b[0m\u001b[0;32m    684\u001b[0m           \u001b[1;32mif\u001b[0m \u001b[0mattr_def\u001b[0m\u001b[1;33m.\u001b[0m\u001b[0mhas_minimum\u001b[0m\u001b[1;33m:\u001b[0m\u001b[1;33m\u001b[0m\u001b[0m\n\u001b[0;32m    685\u001b[0m             \u001b[1;32mif\u001b[0m \u001b[0mattr_value\u001b[0m\u001b[1;33m.\u001b[0m\u001b[0mi\u001b[0m \u001b[1;33m<\u001b[0m \u001b[0mattr_def\u001b[0m\u001b[1;33m.\u001b[0m\u001b[0mminimum\u001b[0m\u001b[1;33m:\u001b[0m\u001b[1;33m\u001b[0m\u001b[0m\n",
      "\u001b[1;32m~\\Anaconda3\\envs\\tensorflow\\lib\\site-packages\\tensorflow\\python\\framework\\op_def_library.py\u001b[0m in \u001b[0;36m_MakeInt\u001b[1;34m(v, arg_name)\u001b[0m\n\u001b[0;32m    153\u001b[0m   \u001b[1;32mexcept\u001b[0m \u001b[1;33m(\u001b[0m\u001b[0mValueError\u001b[0m\u001b[1;33m,\u001b[0m \u001b[0mTypeError\u001b[0m\u001b[1;33m)\u001b[0m\u001b[1;33m:\u001b[0m\u001b[1;33m\u001b[0m\u001b[0m\n\u001b[0;32m    154\u001b[0m     raise TypeError(\"Expected int for argument '%s' not %s.\" %\n\u001b[1;32m--> 155\u001b[1;33m                     (arg_name, repr(v)))\n\u001b[0m\u001b[0;32m    156\u001b[0m \u001b[1;33m\u001b[0m\u001b[0m\n\u001b[0;32m    157\u001b[0m \u001b[1;33m\u001b[0m\u001b[0m\n",
      "\u001b[1;31mTypeError\u001b[0m: Expected int for argument 'num' not <tf.Tensor 'Placeholder_2:0' shape=<unknown> dtype=int32>."
     ]
    }
   ],
   "source": [
    "S2S = S2S_Model(enc_sym=len(word_indices),\n",
    "                dec_sym=6,\n",
    "                emb_size=len(emb_layer[0]),\n",
    "                state_size=100,\n",
    "                learn_rate=0.001,\n",
    "                emb_layer=emb_layer)\n",
    "S2S.build_graph()\n",
    "#results_list = RNN.train(sets=sets, epochs=5, batch=50, report_percentage=1, show_progress=True, show_plot=True)"
   ]
  },
  {
   "cell_type": "code",
   "execution_count": 148,
   "metadata": {},
   "outputs": [
    {
     "name": "stdout",
     "output_type": "stream",
     "text": [
      "61\n"
     ]
    }
   ],
   "source": [
    "with tf.Session() as sess:\n",
    "    sess.run(tf.global_variables_initializer())\n",
    "    out = sess.run(S2S.graph['s2s_outputs'], feed_dict={S2S.graph['x']:[sets['test_set'][0]],\n",
    "                                                        S2S.graph['y']:[sets['test_labels'][0]],\n",
    "                                                        S2S.graph['keep_prob']:1.0,\n",
    "                                                        S2S.graph['previous']:False})\n",
    "    print(len(out[0]))\n",
    "    #print(tf.arg_max(tf.nn.softmax(out, 1), 1).eval())"
   ]
  },
  {
   "cell_type": "code",
   "execution_count": 156,
   "metadata": {},
   "outputs": [
    {
     "name": "stdout",
     "output_type": "stream",
     "text": [
      "[34606     0 37927 37489 39417 39984 10168 29731 24182  4838 24987 10835\n",
      "  4838 23539 18428 16984 45872 11617 23539 15090 16984 45872 39417 20411\n",
      " 23539 27866 16984 45872  6671 23539 45840 16984 45872  6671 23539 34606\n",
      " 16984 45872 16360 39417 16984 23539 34061 16984 45872 39417 20411 23539\n",
      " 25081 16984 45872 39417 30196  7961 16329 41798  9748 34228 34518 20392\n",
      " 43350]\n",
      "[61]\n",
      "[34606, 0, 37927, 37489, 39417, 39984, 10168, 29731, 24182, 4838, 24987, 10835, 4838, 23539, 18428, 16984, 45872, 11617, 23539, 15090, 16984, 45872, 39417, 20411, 23539, 27866, 16984, 45872, 6671, 23539, 45840, 16984, 45872, 6671, 23539, 34606, 16984, 45872, 16360, 39417, 16984, 23539, 34061, 16984, 45872, 39417, 20411, 23539, 25081, 16984, 45872, 39417, 30196, 7961, 16329, 41798, 9748, 34228, 34518, 20392, 43350]\n"
     ]
    }
   ],
   "source": [
    "with tf.Session() as sess:\n",
    "    #a = tf.range(27)\n",
    "    #a = tf.reshape(a, [3,3,3])\n",
    "    a = tf.constant(sets['test_set'][0])\n",
    "    print(a.eval())\n",
    "    print(tf.shape(a).eval())\n",
    "    b = tf.unstack(a,61)\n",
    "    print(sess.run(b))"
   ]
  },
  {
   "cell_type": "code",
   "execution_count": 149,
   "metadata": {
    "collapsed": true
   },
   "outputs": [
    {
     "data": {
      "text/plain": [
       "[34606,\n",
       " 0,\n",
       " 37927,\n",
       " 37489,\n",
       " 39417,\n",
       " 39984,\n",
       " 10168,\n",
       " 29731,\n",
       " 24182,\n",
       " 4838,\n",
       " 24987,\n",
       " 10835,\n",
       " 4838,\n",
       " 23539,\n",
       " 18428,\n",
       " 16984,\n",
       " 45872,\n",
       " 11617,\n",
       " 23539,\n",
       " 15090,\n",
       " 16984,\n",
       " 45872,\n",
       " 39417,\n",
       " 20411,\n",
       " 23539,\n",
       " 27866,\n",
       " 16984,\n",
       " 45872,\n",
       " 6671,\n",
       " 23539,\n",
       " 45840,\n",
       " 16984,\n",
       " 45872,\n",
       " 6671,\n",
       " 23539,\n",
       " 34606,\n",
       " 16984,\n",
       " 45872,\n",
       " 16360,\n",
       " 39417,\n",
       " 16984,\n",
       " 23539,\n",
       " 34061,\n",
       " 16984,\n",
       " 45872,\n",
       " 39417,\n",
       " 20411,\n",
       " 23539,\n",
       " 25081,\n",
       " 16984,\n",
       " 45872,\n",
       " 39417,\n",
       " 30196,\n",
       " 7961,\n",
       " 16329,\n",
       " 41798,\n",
       " 9748,\n",
       " 34228,\n",
       " 34518,\n",
       " 20392,\n",
       " 43350]"
      ]
     },
     "execution_count": 149,
     "metadata": {},
     "output_type": "execute_result"
    }
   ],
   "source": [
    "sets['test_set'][0]"
   ]
  },
  {
   "cell_type": "code",
   "execution_count": null,
   "metadata": {
    "collapsed": true
   },
   "outputs": [],
   "source": [
    "res = RNN.predict(sets['test_set'], sets['test_lengths'])\n",
    "tru = np.argmax(sets['test_labels'], 1)"
   ]
  },
  {
   "cell_type": "code",
   "execution_count": null,
   "metadata": {
    "collapsed": true
   },
   "outputs": [],
   "source": [
    "token_perf = fn.token_perf(res, tru)"
   ]
  },
  {
   "cell_type": "code",
   "execution_count": null,
   "metadata": {
    "collapsed": true
   },
   "outputs": [],
   "source": [
    "baseline = [0 if word in target_dict['reasons'] else 1 for word in sets['test_words']]\n",
    "sk.metrics.f1_score(tru, baseline, pos_label=0, average='binary')"
   ]
  },
  {
   "cell_type": "code",
   "execution_count": null,
   "metadata": {
    "collapsed": true
   },
   "outputs": [],
   "source": [
    "fn.category_words(sets['test_words'], res, tru, 1, 0)"
   ]
  },
  {
   "cell_type": "code",
   "execution_count": null,
   "metadata": {
    "collapsed": true,
    "scrolled": true
   },
   "outputs": [],
   "source": [
    "fn.colour_text(sets['test_words'], res, tru)"
   ]
  },
  {
   "cell_type": "code",
   "execution_count": null,
   "metadata": {
    "collapsed": true
   },
   "outputs": [],
   "source": [
    "testers = Dataset.get_DS(stage='train', labelled='yes')\n",
    "phrase_perf = fn.phrase_perf(target, RNN, testers, word_indices, side_words=[lw, rw], tfpn=True, show_phrases=True, case_info=True, rnn=True)"
   ]
  },
  {
   "cell_type": "markdown",
   "metadata": {},
   "source": [
    "# HyperParameter Scan"
   ]
  },
  {
   "cell_type": "code",
   "execution_count": null,
   "metadata": {
    "collapsed": true
   },
   "outputs": [],
   "source": [
    "emb_sizes = [100]\n",
    "emb_models = 1\n",
    "target_saturations = [0.05, 0.1, 0.2, 0.5, 0.7]\n",
    "layer_sizes = [50]\n",
    "dropouts = [1.0]\n",
    "learn_rates = [0.01]\n",
    "epochs = [100]\n",
    "NN_num = 5\n",
    "\n",
    "case_num = len(emb_sizes)*emb_models*len(layer_sizes)*len(target_saturations)*len(epochs)*len(dropouts)*len(learn_rates)*NN_num\n",
    "print(case_num)"
   ]
  },
  {
   "cell_type": "code",
   "execution_count": null,
   "metadata": {
    "collapsed": true
   },
   "outputs": [],
   "source": [
    "max_performance = 0\n",
    "n = 1\n",
    "\n",
    "for emb_size in emb_sizes:\n",
    "    print('Model Number: %d/%d' %(n, case_num))\n",
    "    for i in range(emb_models):\n",
    "        model = Word2Vec(sentences, min_count=1, size=emb_size)\n",
    "        for saturation in target_saturations:\n",
    "            sets = fn.get_traintest2 (labelled_cases, model)\n",
    "            fn.saturate_training_set(sets, model, target_dict['medications'], saturation)\n",
    "            for layer_size in layer_sizes:\n",
    "                for drop in dropouts:\n",
    "                    for rate in learn_rates:\n",
    "                        for epoch in epochs:\n",
    "                            for j in range(NN_num):\n",
    "                                print('Model Number: %d/%d' %(n, case_num))\n",
    "                                print('ES: %d EM: %d sat: %f, LS: %d, drop: %f, LR: %f, epochs: %d, NN: %d' \\\n",
    "                                       % (emb_size, i, saturation, layer_size, drop, rate, epoch, j))\n",
    "                                NN = FF_Model(input_size=emb_size, layers=[layer_size], dropout=drop, learn_rate=rate)\n",
    "                                NN.build_graph()\n",
    "                                NN.train(sets, epochs=epoch)\n",
    "                                res = NN.predict(sets['test_set'])\n",
    "                                tru = np.argmax(sets['test_labels'], 1)\n",
    "                                perf = sk.metrics.f1_score(tru, res, pos_label=0)\n",
    "                                if perf > max_performance:\n",
    "                                    max_performance = perf\n",
    "                                    NN.save_model('gold')\n",
    "                                    model.save('gold/GOLDEMB')\n",
    "                                NN.close()\n",
    "                                n += 1"
   ]
  }
 ],
 "metadata": {
  "anaconda-cloud": {},
  "kernelspec": {
   "display_name": "Python 3",
   "language": "python",
   "name": "python3"
  },
  "language_info": {
   "codemirror_mode": {
    "name": "ipython",
    "version": 3
   },
   "file_extension": ".py",
   "mimetype": "text/x-python",
   "name": "python",
   "nbconvert_exporter": "python",
   "pygments_lexer": "ipython3",
   "version": "3.5.3"
  }
 },
 "nbformat": 4,
 "nbformat_minor": 2
}
